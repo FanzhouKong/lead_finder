{
 "cells": [
  {
   "cell_type": "code",
   "execution_count": 49,
   "metadata": {
    "collapsed": true,
    "ExecuteTime": {
     "end_time": "2023-07-17T18:11:20.957111Z",
     "start_time": "2023-07-17T18:11:20.915338Z"
    }
   },
   "outputs": [
    {
     "name": "stdout",
     "output_type": "stream",
     "text": [
      "The autoreload extension is already loaded. To reload it, use:\n",
      "  %reload_ext autoreload\n"
     ]
    }
   ],
   "source": [
    "import os\n",
    "import sys\n",
    "import numpy as np\n",
    "import pandas as pd\n",
    "%load_ext autoreload\n",
    "%autoreload 2\n",
    "from toolsets.file_io import get_file_list, readin_peak_list\n",
    "from toolsets.feature_alignment import initilize_pmz_rt_list, find_feature, find_istd, clean_bad_features\n",
    "from tqdm import tqdm\n",
    "# from toolsets.feature_alignment import\n",
    "from toolsets.search import quick_search_values, string_search\n",
    "# from feature_finding.feature_finding_alphapept import find_feature"
   ]
  },
  {
   "cell_type": "code",
   "execution_count": 2,
   "outputs": [],
   "source": [
    "working_dir ='/Users/fanzhou.kong/Dropbox (Brightseed)/Mac/Documents/GitHub/data_garage/brighseed/processing'\n",
    "istd_info = pd.read_csv('/Users/fanzhou.kong/Dropbox (Brightseed)/Mac/Documents/GitHub/data_garage/brighseed/istd_info.csv')"
   ],
   "metadata": {
    "collapsed": false,
    "ExecuteTime": {
     "end_time": "2023-07-17T16:51:18.809114Z",
     "start_time": "2023-07-17T16:51:18.781327Z"
    }
   }
  },
  {
   "cell_type": "code",
   "execution_count": 3,
   "outputs": [],
   "source": [
    "file_list = get_file_list(working_dir, '.csv')"
   ],
   "metadata": {
    "collapsed": false,
    "ExecuteTime": {
     "end_time": "2023-07-17T16:51:22.907918Z",
     "start_time": "2023-07-17T16:51:22.372465Z"
    }
   }
  },
  {
   "cell_type": "code",
   "execution_count": 72,
   "outputs": [],
   "source": [
    "lst =[1,2,3]"
   ],
   "metadata": {
    "collapsed": false,
    "ExecuteTime": {
     "end_time": "2023-07-17T18:52:08.951421Z",
     "start_time": "2023-07-17T18:52:08.914321Z"
    }
   }
  },
  {
   "cell_type": "code",
   "execution_count": 73,
   "outputs": [],
   "source": [
    "lst[0]=5"
   ],
   "metadata": {
    "collapsed": false,
    "ExecuteTime": {
     "end_time": "2023-07-17T18:52:14.402342Z",
     "start_time": "2023-07-17T18:52:14.367883Z"
    }
   }
  },
  {
   "cell_type": "code",
   "execution_count": 74,
   "outputs": [
    {
     "data": {
      "text/plain": "[5, 2, 3]"
     },
     "execution_count": 74,
     "metadata": {},
     "output_type": "execute_result"
    }
   ],
   "source": [
    "lst"
   ],
   "metadata": {
    "collapsed": false,
    "ExecuteTime": {
     "end_time": "2023-07-17T18:52:15.873573Z",
     "start_time": "2023-07-17T18:52:15.842078Z"
    }
   }
  },
  {
   "cell_type": "code",
   "execution_count": 4,
   "outputs": [],
   "source": [
    "qc_list = []\n",
    "for file in file_list:\n",
    "    if 'QC' in file:\n",
    "        qc_list.append(file)\n",
    "# qc_list[1:]\n",
    "qc_paths = [os.path.join(working_dir, x+'.csv') for x in qc_list]"
   ],
   "metadata": {
    "collapsed": false,
    "ExecuteTime": {
     "end_time": "2023-07-17T16:51:33.948421Z",
     "start_time": "2023-07-17T16:51:33.891862Z"
    }
   }
  },
  {
   "cell_type": "code",
   "execution_count": 5,
   "outputs": [
    {
     "name": "stdout",
     "output_type": "stream",
     "text": [
      "0\n"
     ]
    },
    {
     "name": "stderr",
     "output_type": "stream",
     "text": [
      "100%|██████████| 12910/12910 [00:12<00:00, 1048.46it/s]\n",
      "100%|██████████| 13060/13060 [00:18<00:00, 689.32it/s]"
     ]
    },
    {
     "name": "stdout",
     "output_type": "stream",
     "text": [
      "27875\n"
     ]
    },
    {
     "name": "stderr",
     "output_type": "stream",
     "text": [
      "\n"
     ]
    }
   ],
   "source": [
    "pmz_list, rt_list = initilize_pmz_rt_list(qc_paths)\n",
    "print(len(pmz_list))"
   ],
   "metadata": {
    "collapsed": false,
    "ExecuteTime": {
     "end_time": "2023-07-17T16:52:09.956557Z",
     "start_time": "2023-07-17T16:51:38.331663Z"
    }
   }
  },
  {
   "cell_type": "code",
   "execution_count": 6,
   "outputs": [
    {
     "name": "stderr",
     "output_type": "stream",
     "text": [
      "100%|██████████| 41/41 [50:36<00:00, 74.07s/it]\n"
     ]
    }
   ],
   "source": [
    "file_paths = [os.path.join(working_dir, x+'.csv') for x in file_list]\n",
    "alignment_result= pd.DataFrame(zip(pmz_list, rt_list), columns=['pmz', 'rt'])\n",
    "for file in tqdm(file_paths):\n",
    "    file_temp = pd.read_csv(file)\n",
    "    intensity_temp = []\n",
    "    # pmz_temp = []\n",
    "    for i in (range(0, len(pmz_list))):\n",
    "        feature_temp = find_feature(file_temp, mz = pmz_list[i], rt =rt_list[i])\n",
    "        if len(feature_temp)>0:\n",
    "            intensity_temp.append(feature_temp['Height'].sum())\n",
    "            # pmz_temp.append()\n",
    "            # break\n",
    "        else:\n",
    "            intensity_temp.append(0)\n",
    "    alignment_result[os.path.basename(file).split('.')[0]]=intensity_temp\n",
    "    # break"
   ],
   "metadata": {
    "collapsed": false,
    "ExecuteTime": {
     "end_time": "2023-07-17T17:43:01.295956Z",
     "start_time": "2023-07-17T16:52:24.421301Z"
    }
   }
  },
  {
   "cell_type": "code",
   "execution_count": 79,
   "outputs": [
    {
     "name": "stderr",
     "output_type": "stream",
     "text": [
      "100%|██████████| 41/41 [00:02<00:00, 20.17it/s]\n"
     ]
    }
   ],
   "source": [
    "file_paths = [os.path.join(working_dir, x+'.csv') for x in file_list]\n",
    "alignment_result= pd.DataFrame(zip(pmz_list, rt_list), columns=['pmz', 'rt'])\n",
    "tt = pd.DataFrame()\n",
    "for file in tqdm(file_paths[0:1]):\n",
    "    file_temp = pd.read_csv(file)\n",
    "    intensity_temp = []\n",
    "    feature_temp = find_feature(file_temp, mz = 488.1655, rt = 5.73458 )\n",
    "    tt = pd.concat([tt, feature_temp])\n",
    "    # pmz_temp = []\n",
    "\n",
    "    # alignment_result[os.path.basename(file).split('.')[0]]=intensity_temp"
   ],
   "metadata": {
    "collapsed": false,
    "ExecuteTime": {
     "end_time": "2023-07-17T19:58:29.471918Z",
     "start_time": "2023-07-17T19:58:27.389310Z"
    }
   }
  },
  {
   "cell_type": "code",
   "execution_count": 104,
   "outputs": [],
   "source": [
    "for i in file_paths:\n",
    "    if '32' in i:\n",
    "        break"
   ],
   "metadata": {
    "collapsed": false,
    "ExecuteTime": {
     "end_time": "2023-07-17T23:53:35.353099Z",
     "start_time": "2023-07-17T23:53:35.319878Z"
    }
   }
  },
  {
   "cell_type": "code",
   "execution_count": 105,
   "outputs": [
    {
     "data": {
      "text/plain": "'/Users/fanzhou.kong/Dropbox (Brightseed)/Mac/Documents/GitHub/data_garage/brighseed/processing/1870_AX_M5P2_M7P1_M7_X32_P.csv'"
     },
     "execution_count": 105,
     "metadata": {},
     "output_type": "execute_result"
    }
   ],
   "source": [
    "i"
   ],
   "metadata": {
    "collapsed": false,
    "ExecuteTime": {
     "end_time": "2023-07-17T23:53:37.623189Z",
     "start_time": "2023-07-17T23:53:37.585241Z"
    }
   }
  },
  {
   "cell_type": "code",
   "execution_count": 106,
   "outputs": [],
   "source": [
    "file_temp = pd.read_csv(i)"
   ],
   "metadata": {
    "collapsed": false,
    "ExecuteTime": {
     "end_time": "2023-07-17T23:53:44.203134Z",
     "start_time": "2023-07-17T23:53:44.108336Z"
    }
   }
  },
  {
   "cell_type": "code",
   "execution_count": 107,
   "outputs": [
    {
     "data": {
      "text/plain": "      PeakID    Title  Scans  RT left(min)  RT_adjusted  RT (min)  \\\n2260    4672  Unknown   1006      3.221743     3.410807  3.419923   \n\n      RT right (min)  Precursor m/z     Height        Area  ...  m/z matched  \\\n2260        3.648793       201.1274  5108583.5  36057804.0  ...        False   \n\n     MS/MS matched RT similarity Dot product  Reverse dot product  \\\n2260         False           NaN         NaN                  NaN   \n\n      Fragment presence %  Total score       S/N  \\\n2260                  NaN          NaN  99128.73   \n\n                                           MS1 isotopes  MSMS spectrum  \n2260  201.09109:1550612 201.11212:133751 201.12741:6...            NaN  \n\n[1 rows x 32 columns]",
      "text/html": "<div>\n<style scoped>\n    .dataframe tbody tr th:only-of-type {\n        vertical-align: middle;\n    }\n\n    .dataframe tbody tr th {\n        vertical-align: top;\n    }\n\n    .dataframe thead th {\n        text-align: right;\n    }\n</style>\n<table border=\"1\" class=\"dataframe\">\n  <thead>\n    <tr style=\"text-align: right;\">\n      <th></th>\n      <th>PeakID</th>\n      <th>Title</th>\n      <th>Scans</th>\n      <th>RT left(min)</th>\n      <th>RT_adjusted</th>\n      <th>RT (min)</th>\n      <th>RT right (min)</th>\n      <th>Precursor m/z</th>\n      <th>Height</th>\n      <th>Area</th>\n      <th>...</th>\n      <th>m/z matched</th>\n      <th>MS/MS matched</th>\n      <th>RT similarity</th>\n      <th>Dot product</th>\n      <th>Reverse dot product</th>\n      <th>Fragment presence %</th>\n      <th>Total score</th>\n      <th>S/N</th>\n      <th>MS1 isotopes</th>\n      <th>MSMS spectrum</th>\n    </tr>\n  </thead>\n  <tbody>\n    <tr>\n      <th>2260</th>\n      <td>4672</td>\n      <td>Unknown</td>\n      <td>1006</td>\n      <td>3.221743</td>\n      <td>3.410807</td>\n      <td>3.419923</td>\n      <td>3.648793</td>\n      <td>201.1274</td>\n      <td>5108583.5</td>\n      <td>36057804.0</td>\n      <td>...</td>\n      <td>False</td>\n      <td>False</td>\n      <td>NaN</td>\n      <td>NaN</td>\n      <td>NaN</td>\n      <td>NaN</td>\n      <td>NaN</td>\n      <td>99128.73</td>\n      <td>201.09109:1550612 201.11212:133751 201.12741:6...</td>\n      <td>NaN</td>\n    </tr>\n  </tbody>\n</table>\n<p>1 rows × 32 columns</p>\n</div>"
     },
     "execution_count": 107,
     "metadata": {},
     "output_type": "execute_result"
    }
   ],
   "source": [
    "find_feature(file_temp, mz = 201.12767, rt = 3.401)"
   ],
   "metadata": {
    "collapsed": false,
    "ExecuteTime": {
     "end_time": "2023-07-17T23:54:33.389100Z",
     "start_time": "2023-07-17T23:54:33.335452Z"
    }
   }
  },
  {
   "cell_type": "code",
   "execution_count": 108,
   "outputs": [
    {
     "data": {
      "text/plain": "             pmz        rt\n0       128.3630  0.236472\n1       253.4384  0.478195\n2       100.9567  0.548646\n3       119.9751  0.548646\n4       123.0037  0.548646\n...          ...       ...\n27870  1426.8900  3.167323\n27871  1438.6430  9.025468\n27872  1439.3000  5.313295\n27873  1452.5210  4.434927\n27874  1479.3460  3.149424\n\n[27875 rows x 2 columns]",
      "text/html": "<div>\n<style scoped>\n    .dataframe tbody tr th:only-of-type {\n        vertical-align: middle;\n    }\n\n    .dataframe tbody tr th {\n        vertical-align: top;\n    }\n\n    .dataframe thead th {\n        text-align: right;\n    }\n</style>\n<table border=\"1\" class=\"dataframe\">\n  <thead>\n    <tr style=\"text-align: right;\">\n      <th></th>\n      <th>pmz</th>\n      <th>rt</th>\n    </tr>\n  </thead>\n  <tbody>\n    <tr>\n      <th>0</th>\n      <td>128.3630</td>\n      <td>0.236472</td>\n    </tr>\n    <tr>\n      <th>1</th>\n      <td>253.4384</td>\n      <td>0.478195</td>\n    </tr>\n    <tr>\n      <th>2</th>\n      <td>100.9567</td>\n      <td>0.548646</td>\n    </tr>\n    <tr>\n      <th>3</th>\n      <td>119.9751</td>\n      <td>0.548646</td>\n    </tr>\n    <tr>\n      <th>4</th>\n      <td>123.0037</td>\n      <td>0.548646</td>\n    </tr>\n    <tr>\n      <th>...</th>\n      <td>...</td>\n      <td>...</td>\n    </tr>\n    <tr>\n      <th>27870</th>\n      <td>1426.8900</td>\n      <td>3.167323</td>\n    </tr>\n    <tr>\n      <th>27871</th>\n      <td>1438.6430</td>\n      <td>9.025468</td>\n    </tr>\n    <tr>\n      <th>27872</th>\n      <td>1439.3000</td>\n      <td>5.313295</td>\n    </tr>\n    <tr>\n      <th>27873</th>\n      <td>1452.5210</td>\n      <td>4.434927</td>\n    </tr>\n    <tr>\n      <th>27874</th>\n      <td>1479.3460</td>\n      <td>3.149424</td>\n    </tr>\n  </tbody>\n</table>\n<p>27875 rows × 2 columns</p>\n</div>"
     },
     "execution_count": 108,
     "metadata": {},
     "output_type": "execute_result"
    }
   ],
   "source": [
    "alignment_result"
   ],
   "metadata": {
    "collapsed": false,
    "ExecuteTime": {
     "end_time": "2023-07-17T23:55:06.027633Z",
     "start_time": "2023-07-17T23:55:05.978571Z"
    }
   }
  },
  {
   "cell_type": "code",
   "execution_count": 98,
   "outputs": [],
   "source": [
    "file_temp = pd.read_csv(qc_paths[1])"
   ],
   "metadata": {
    "collapsed": false,
    "ExecuteTime": {
     "end_time": "2023-07-17T20:09:14.663415Z",
     "start_time": "2023-07-17T20:09:14.585224Z"
    }
   }
  },
  {
   "cell_type": "code",
   "execution_count": 99,
   "outputs": [],
   "source": [
    "feature_temp = find_feature(file_temp, mz = 488.1655, rt = 5.73458 )"
   ],
   "metadata": {
    "collapsed": false,
    "ExecuteTime": {
     "end_time": "2023-07-17T20:09:15.370491Z",
     "start_time": "2023-07-17T20:09:15.320429Z"
    }
   }
  },
  {
   "cell_type": "code",
   "execution_count": 100,
   "outputs": [
    {
     "data": {
      "text/plain": "      PeakID    Title  Scans  RT left(min)  RT_adjusted  RT (min)  \\\n8206    9194  Unknown   1630      5.534427     5.733026  5.739232   \n\n      RT right (min)  Precursor m/z        Height          Area  ...  \\\n8206        5.940308       488.1663  10930.682617  47386.007812  ...   \n\n      m/z matched MS/MS matched RT similarity Dot product  \\\n8206        False         False           NaN         NaN   \n\n      Reverse dot product  Fragment presence %  Total score       S/N  \\\n8206                  NaN                  NaN          NaN  218.6137   \n\n                                         MS1 isotopes  MSMS spectrum  \n8206  488.16626:35339 490.28107:22265 493.11539:21780            NaN  \n\n[1 rows x 32 columns]",
      "text/html": "<div>\n<style scoped>\n    .dataframe tbody tr th:only-of-type {\n        vertical-align: middle;\n    }\n\n    .dataframe tbody tr th {\n        vertical-align: top;\n    }\n\n    .dataframe thead th {\n        text-align: right;\n    }\n</style>\n<table border=\"1\" class=\"dataframe\">\n  <thead>\n    <tr style=\"text-align: right;\">\n      <th></th>\n      <th>PeakID</th>\n      <th>Title</th>\n      <th>Scans</th>\n      <th>RT left(min)</th>\n      <th>RT_adjusted</th>\n      <th>RT (min)</th>\n      <th>RT right (min)</th>\n      <th>Precursor m/z</th>\n      <th>Height</th>\n      <th>Area</th>\n      <th>...</th>\n      <th>m/z matched</th>\n      <th>MS/MS matched</th>\n      <th>RT similarity</th>\n      <th>Dot product</th>\n      <th>Reverse dot product</th>\n      <th>Fragment presence %</th>\n      <th>Total score</th>\n      <th>S/N</th>\n      <th>MS1 isotopes</th>\n      <th>MSMS spectrum</th>\n    </tr>\n  </thead>\n  <tbody>\n    <tr>\n      <th>8206</th>\n      <td>9194</td>\n      <td>Unknown</td>\n      <td>1630</td>\n      <td>5.534427</td>\n      <td>5.733026</td>\n      <td>5.739232</td>\n      <td>5.940308</td>\n      <td>488.1663</td>\n      <td>10930.682617</td>\n      <td>47386.007812</td>\n      <td>...</td>\n      <td>False</td>\n      <td>False</td>\n      <td>NaN</td>\n      <td>NaN</td>\n      <td>NaN</td>\n      <td>NaN</td>\n      <td>NaN</td>\n      <td>218.6137</td>\n      <td>488.16626:35339 490.28107:22265 493.11539:21780</td>\n      <td>NaN</td>\n    </tr>\n  </tbody>\n</table>\n<p>1 rows × 32 columns</p>\n</div>"
     },
     "execution_count": 100,
     "metadata": {},
     "output_type": "execute_result"
    }
   ],
   "source": [
    "feature_temp"
   ],
   "metadata": {
    "collapsed": false,
    "ExecuteTime": {
     "end_time": "2023-07-17T20:09:15.929326Z",
     "start_time": "2023-07-17T20:09:15.880605Z"
    }
   }
  },
  {
   "cell_type": "code",
   "execution_count": 51,
   "outputs": [],
   "source": [
    "from toolsets.file_io import readin_alignment"
   ],
   "metadata": {
    "collapsed": false,
    "ExecuteTime": {
     "end_time": "2023-07-17T18:16:07.376206Z",
     "start_time": "2023-07-17T18:16:07.326969Z"
    }
   }
  },
  {
   "cell_type": "code",
   "execution_count": 52,
   "outputs": [],
   "source": [
    "msdial_output = readin_alignment('/Users/fanzhou.kong/Dropbox (Brightseed)/Mac/Documents/GitHub/data_garage/msdial_alignment/Height_0_20237101534.txt')"
   ],
   "metadata": {
    "collapsed": false,
    "ExecuteTime": {
     "end_time": "2023-07-17T18:16:25.196524Z",
     "start_time": "2023-07-17T18:16:24.307814Z"
    }
   }
  },
  {
   "cell_type": "code",
   "execution_count": 81,
   "outputs": [
    {
     "data": {
      "text/plain": "Empty DataFrame\nColumns: [Alignment ID, Average Rt(min), Average Mz, Metabolite name, Adduct type, Post curation result, Fill %, MS/MS assigned, Reference RT, Reference m/z, Formula, Ontology, INCHIKEY, SMILES, Annotation tag (VS1.0), RT matched, m/z matched, MS/MS matched, Comment, Manually modified for quantification, Manually modified for annotation, Isotope tracking parent ID, Isotope tracking weight number, Total score, RT similarity, Dot product, Reverse dot product, Fragment presence %, S/N average, Spectrum reference file name, MS1 isotopic spectrum, MS/MS spectrum, 1870_AX_M5P2_M7P1_M7_X24_P, 1870_AX_M5P2_M7P1_M7_X25_P, 1870_AX_M5P2_M7P1_M7_X26_P, 1870_AX_M5P2_M7P1_M7_X27_P, 1870_AX_M5P2_M7P1_M7_X28_P, 1870_AX_M5P2_M7P1_M7_X29_P, 1870_AX_M5P2_M7P1_M7_X30_P, 1870_AX_M5P2_M7P1_M7_X31_P, 1870_AX_M5P2_M7P1_M7_X32_P, 1870_AX_M5P2_M7P1_M7_X33_P, 1870_AX_M5P2_M7P1_M7_X34_P, 1870_AX_M5P2_M7P1_M7_X35_P, 1870_AX_M5P2_M7P1_M7_X36_P, 1870_AX_M5P2_M7P1_M7_X37_P, 1870_AX_M5P2_M7P1_M7_X38_P, 1870_AX_M5P2_M7P1_M7_X39_P, 1870_AX_M5P2_M7P1_M7_X40_P, 1870_AX_M5P2_M7P1_M7_X41_P, 1870_AX_M5P2_M7P1_M7_X42_P, 1870_AX_M5P2_M7P1_M7_X43_P, 1870_AX_M5P2_M7P1_M7_X44_P, 1870_AX_M5P2_M7P1_M7_X45_P, 1870_AX_M5P2_M7P1_M7_X46_P, 1870_AX_M5P2_M7P1_M7_X47_P, 1870_AX_M5P2_M7P1_M7_X48_P, 1870_AX_M5P2_M7P1_M7_X49_P, 1870_AX_M5P2_M7P1_M7_X50_P, 1870_AX_M5P2_M7P1_M7_X51_P, 1870_AX_M5P2_M7P1_M7_X52_P, 1870_AX_M5P2_M7P1_M7_X53_P, 1870_AX_M5P2_M7P1_M7_X54_P, 1870_AX_M5P2_M7P1_M7_X55_P, 1870_AX_M5P2_M7P1_M7_X56_P, 1870_AX_M5P2_M7P1_M7_X57_P, 1870_AX_M5P2_M7P1_M7_X58_P, 1870_AX_M5P2_M7P1_M7_X59_P, QC_Pool1_P, QC_Pool2_P, QC_Pool3_P, 1, 1.1, peaks]\nIndex: []\n\n[0 rows x 74 columns]",
      "text/html": "<div>\n<style scoped>\n    .dataframe tbody tr th:only-of-type {\n        vertical-align: middle;\n    }\n\n    .dataframe tbody tr th {\n        vertical-align: top;\n    }\n\n    .dataframe thead th {\n        text-align: right;\n    }\n</style>\n<table border=\"1\" class=\"dataframe\">\n  <thead>\n    <tr style=\"text-align: right;\">\n      <th></th>\n      <th>Alignment ID</th>\n      <th>Average Rt(min)</th>\n      <th>Average Mz</th>\n      <th>Metabolite name</th>\n      <th>Adduct type</th>\n      <th>Post curation result</th>\n      <th>Fill %</th>\n      <th>MS/MS assigned</th>\n      <th>Reference RT</th>\n      <th>Reference m/z</th>\n      <th>...</th>\n      <th>1870_AX_M5P2_M7P1_M7_X56_P</th>\n      <th>1870_AX_M5P2_M7P1_M7_X57_P</th>\n      <th>1870_AX_M5P2_M7P1_M7_X58_P</th>\n      <th>1870_AX_M5P2_M7P1_M7_X59_P</th>\n      <th>QC_Pool1_P</th>\n      <th>QC_Pool2_P</th>\n      <th>QC_Pool3_P</th>\n      <th>1</th>\n      <th>1.1</th>\n      <th>peaks</th>\n    </tr>\n  </thead>\n  <tbody>\n  </tbody>\n</table>\n<p>0 rows × 74 columns</p>\n</div>"
     },
     "execution_count": 81,
     "metadata": {},
     "output_type": "execute_result"
    }
   ],
   "source": [
    "quick_search_values(msdial_output, 'Average Mz', 488.1659-0.01, 488.1659+0.01, ifsorted=False)"
   ],
   "metadata": {
    "collapsed": false,
    "ExecuteTime": {
     "end_time": "2023-07-17T20:00:09.909230Z",
     "start_time": "2023-07-17T20:00:09.796754Z"
    }
   }
  },
  {
   "cell_type": "code",
   "execution_count": 61,
   "outputs": [
    {
     "data": {
      "text/plain": "       Alignment ID  Average Rt(min)  Average Mz Metabolite name Adduct type  \\\n19558         19558            3.820   465.17303         Unknown      [M+H]+   \n19559         19559            4.093   465.17340         Unknown      [M+H]+   \n19560         19560            3.968   465.17355         Unknown      [M+H]+   \n19561         19561            3.884   465.17371         Unknown      [M+H]+   \n19562         19562            4.019   465.17398         Unknown      [M+H]+   \n19563         19563            4.208   465.17480         Unknown      [M+H]+   \n19564         19564            5.736   465.18091         Unknown      [M+H]+   \n19565         19565            4.250   465.18140         Unknown      [M+H]+   \n\n                                    Post curation result  Fill %  \\\n19558                                                NaN   0.051   \n19559                                                NaN   0.051   \n19560                                                NaN   0.026   \n19561                                                NaN   0.026   \n19562                    found in higher mz's MsMs_20354   0.051   \n19563  ion correlated with 17822; ion correlated with...   0.026   \n19564                          ion correlated with 20543   0.231   \n19565  ion correlated with 17822; ion correlated with...   0.077   \n\n       MS/MS assigned  Reference RT  Reference m/z  ...  \\\n19558           False           NaN            NaN  ...   \n19559           False           NaN            NaN  ...   \n19560           False           NaN            NaN  ...   \n19561           False           NaN            NaN  ...   \n19562           False           NaN            NaN  ...   \n19563           False           NaN            NaN  ...   \n19564            True           NaN            NaN  ...   \n19565           False           NaN            NaN  ...   \n\n       1870_AX_M5P2_M7P1_M7_X56_P  1870_AX_M5P2_M7P1_M7_X57_P  \\\n19558                           0                           0   \n19559                      152009                      201337   \n19560                       25389                        7720   \n19561                           0                           0   \n19562                       89009                       26695   \n19563                      100112                      442031   \n19564                       10730                        9757   \n19565                      155117                      442031   \n\n       1870_AX_M5P2_M7P1_M7_X58_P  1870_AX_M5P2_M7P1_M7_X59_P  QC_Pool1_P  \\\n19558                           0                           0       88832   \n19559                       81893                       17732       78208   \n19560                           0                           0       78866   \n19561                           0                           0       88832   \n19562                        5230                         717       88321   \n19563                      255623                       69901       29049   \n19564                       13242                       12259       46355   \n19565                      255623                       69901       48418   \n\n       QC_Pool2_P  QC_Pool3_P             1           1.1  \\\n19558      102014       98610  39433.137032  73026.550629   \n19559       71028       79120  33346.436004  55113.150632   \n19560       84070       70676  41763.890274  79979.172150   \n19561      102014       98610  40642.443990  77260.373810   \n19562       84070       83973  40288.253362  78014.080839   \n19563       49467       53615  27981.152463  82086.687868   \n19564       54774       60727  61325.111579  81140.359991   \n19565       49467       53615  28737.157792  83592.915801   \n\n                                                   peaks  \n19558                                                NaN  \n19559                                                NaN  \n19560                                                NaN  \n19561                                                NaN  \n19562                                                NaN  \n19563                                                NaN  \n19564  126.23167\\t7904\\n173.45764\\t11706\\n285.92523\\t...  \n19565                                                NaN  \n\n[8 rows x 74 columns]",
      "text/html": "<div>\n<style scoped>\n    .dataframe tbody tr th:only-of-type {\n        vertical-align: middle;\n    }\n\n    .dataframe tbody tr th {\n        vertical-align: top;\n    }\n\n    .dataframe thead th {\n        text-align: right;\n    }\n</style>\n<table border=\"1\" class=\"dataframe\">\n  <thead>\n    <tr style=\"text-align: right;\">\n      <th></th>\n      <th>Alignment ID</th>\n      <th>Average Rt(min)</th>\n      <th>Average Mz</th>\n      <th>Metabolite name</th>\n      <th>Adduct type</th>\n      <th>Post curation result</th>\n      <th>Fill %</th>\n      <th>MS/MS assigned</th>\n      <th>Reference RT</th>\n      <th>Reference m/z</th>\n      <th>...</th>\n      <th>1870_AX_M5P2_M7P1_M7_X56_P</th>\n      <th>1870_AX_M5P2_M7P1_M7_X57_P</th>\n      <th>1870_AX_M5P2_M7P1_M7_X58_P</th>\n      <th>1870_AX_M5P2_M7P1_M7_X59_P</th>\n      <th>QC_Pool1_P</th>\n      <th>QC_Pool2_P</th>\n      <th>QC_Pool3_P</th>\n      <th>1</th>\n      <th>1.1</th>\n      <th>peaks</th>\n    </tr>\n  </thead>\n  <tbody>\n    <tr>\n      <th>19558</th>\n      <td>19558</td>\n      <td>3.820</td>\n      <td>465.17303</td>\n      <td>Unknown</td>\n      <td>[M+H]+</td>\n      <td>NaN</td>\n      <td>0.051</td>\n      <td>False</td>\n      <td>NaN</td>\n      <td>NaN</td>\n      <td>...</td>\n      <td>0</td>\n      <td>0</td>\n      <td>0</td>\n      <td>0</td>\n      <td>88832</td>\n      <td>102014</td>\n      <td>98610</td>\n      <td>39433.137032</td>\n      <td>73026.550629</td>\n      <td>NaN</td>\n    </tr>\n    <tr>\n      <th>19559</th>\n      <td>19559</td>\n      <td>4.093</td>\n      <td>465.17340</td>\n      <td>Unknown</td>\n      <td>[M+H]+</td>\n      <td>NaN</td>\n      <td>0.051</td>\n      <td>False</td>\n      <td>NaN</td>\n      <td>NaN</td>\n      <td>...</td>\n      <td>152009</td>\n      <td>201337</td>\n      <td>81893</td>\n      <td>17732</td>\n      <td>78208</td>\n      <td>71028</td>\n      <td>79120</td>\n      <td>33346.436004</td>\n      <td>55113.150632</td>\n      <td>NaN</td>\n    </tr>\n    <tr>\n      <th>19560</th>\n      <td>19560</td>\n      <td>3.968</td>\n      <td>465.17355</td>\n      <td>Unknown</td>\n      <td>[M+H]+</td>\n      <td>NaN</td>\n      <td>0.026</td>\n      <td>False</td>\n      <td>NaN</td>\n      <td>NaN</td>\n      <td>...</td>\n      <td>25389</td>\n      <td>7720</td>\n      <td>0</td>\n      <td>0</td>\n      <td>78866</td>\n      <td>84070</td>\n      <td>70676</td>\n      <td>41763.890274</td>\n      <td>79979.172150</td>\n      <td>NaN</td>\n    </tr>\n    <tr>\n      <th>19561</th>\n      <td>19561</td>\n      <td>3.884</td>\n      <td>465.17371</td>\n      <td>Unknown</td>\n      <td>[M+H]+</td>\n      <td>NaN</td>\n      <td>0.026</td>\n      <td>False</td>\n      <td>NaN</td>\n      <td>NaN</td>\n      <td>...</td>\n      <td>0</td>\n      <td>0</td>\n      <td>0</td>\n      <td>0</td>\n      <td>88832</td>\n      <td>102014</td>\n      <td>98610</td>\n      <td>40642.443990</td>\n      <td>77260.373810</td>\n      <td>NaN</td>\n    </tr>\n    <tr>\n      <th>19562</th>\n      <td>19562</td>\n      <td>4.019</td>\n      <td>465.17398</td>\n      <td>Unknown</td>\n      <td>[M+H]+</td>\n      <td>found in higher mz's MsMs_20354</td>\n      <td>0.051</td>\n      <td>False</td>\n      <td>NaN</td>\n      <td>NaN</td>\n      <td>...</td>\n      <td>89009</td>\n      <td>26695</td>\n      <td>5230</td>\n      <td>717</td>\n      <td>88321</td>\n      <td>84070</td>\n      <td>83973</td>\n      <td>40288.253362</td>\n      <td>78014.080839</td>\n      <td>NaN</td>\n    </tr>\n    <tr>\n      <th>19563</th>\n      <td>19563</td>\n      <td>4.208</td>\n      <td>465.17480</td>\n      <td>Unknown</td>\n      <td>[M+H]+</td>\n      <td>ion correlated with 17822; ion correlated with...</td>\n      <td>0.026</td>\n      <td>False</td>\n      <td>NaN</td>\n      <td>NaN</td>\n      <td>...</td>\n      <td>100112</td>\n      <td>442031</td>\n      <td>255623</td>\n      <td>69901</td>\n      <td>29049</td>\n      <td>49467</td>\n      <td>53615</td>\n      <td>27981.152463</td>\n      <td>82086.687868</td>\n      <td>NaN</td>\n    </tr>\n    <tr>\n      <th>19564</th>\n      <td>19564</td>\n      <td>5.736</td>\n      <td>465.18091</td>\n      <td>Unknown</td>\n      <td>[M+H]+</td>\n      <td>ion correlated with 20543</td>\n      <td>0.231</td>\n      <td>True</td>\n      <td>NaN</td>\n      <td>NaN</td>\n      <td>...</td>\n      <td>10730</td>\n      <td>9757</td>\n      <td>13242</td>\n      <td>12259</td>\n      <td>46355</td>\n      <td>54774</td>\n      <td>60727</td>\n      <td>61325.111579</td>\n      <td>81140.359991</td>\n      <td>126.23167\\t7904\\n173.45764\\t11706\\n285.92523\\t...</td>\n    </tr>\n    <tr>\n      <th>19565</th>\n      <td>19565</td>\n      <td>4.250</td>\n      <td>465.18140</td>\n      <td>Unknown</td>\n      <td>[M+H]+</td>\n      <td>ion correlated with 17822; ion correlated with...</td>\n      <td>0.077</td>\n      <td>False</td>\n      <td>NaN</td>\n      <td>NaN</td>\n      <td>...</td>\n      <td>155117</td>\n      <td>442031</td>\n      <td>255623</td>\n      <td>69901</td>\n      <td>48418</td>\n      <td>49467</td>\n      <td>53615</td>\n      <td>28737.157792</td>\n      <td>83592.915801</td>\n      <td>NaN</td>\n    </tr>\n  </tbody>\n</table>\n<p>8 rows × 74 columns</p>\n</div>"
     },
     "execution_count": 61,
     "metadata": {},
     "output_type": "execute_result"
    }
   ],
   "source": [
    "quick_search_values(msdial_output, 'Average Mz', 465.180858-0.01, 465.180858+0.01, ifsorted=False)"
   ],
   "metadata": {
    "collapsed": false,
    "ExecuteTime": {
     "end_time": "2023-07-17T18:27:03.675173Z",
     "start_time": "2023-07-17T18:27:03.625822Z"
    }
   }
  },
  {
   "cell_type": "code",
   "execution_count": 62,
   "outputs": [],
   "source": [
    "file_temp = pd.read_csv(os.path.join(working_dir, '1870_AX_M5P2_M7P1_M7_X32_P.csv'))"
   ],
   "metadata": {
    "collapsed": false,
    "ExecuteTime": {
     "end_time": "2023-07-17T18:28:17.810275Z",
     "start_time": "2023-07-17T18:28:17.730050Z"
    }
   }
  },
  {
   "cell_type": "code",
   "execution_count": 64,
   "outputs": [
    {
     "data": {
      "text/plain": "      PeakID    Title  Scans  RT left(min)  RT_adjusted  RT (min)  \\\n8113   10612  Unknown   1658      5.612382     5.735056  5.733913   \n8114   11275  Unknown   1759      5.942320     6.089834  6.081813   \n\n      RT right (min)  Precursor m/z         Height          Area  ...  \\\n8113        6.012498       465.1811  261420.390625  1.324556e+06  ...   \n8114        6.348814       465.1888   15600.044922  7.202996e+04  ...   \n\n      m/z matched MS/MS matched RT similarity Dot product  \\\n8113        False         False           NaN         NaN   \n8114        False         False           NaN         NaN   \n\n      Reverse dot product  Fragment presence %  Total score        S/N  \\\n8113                  NaN                  NaN          NaN  5228.4080   \n8114                  NaN                  NaN          NaN   312.0009   \n\n                                           MS1 isotopes  \\\n8113  465.18112:588840 465.30103:21275 466.18402:124...   \n8114                    465.18857:37997 467.28021:48023   \n\n                                          MSMS spectrum  \n8113  126.23167:7904 173.45764:11706 285.92523:9274 ...  \n8114                                                NaN  \n\n[2 rows x 32 columns]",
      "text/html": "<div>\n<style scoped>\n    .dataframe tbody tr th:only-of-type {\n        vertical-align: middle;\n    }\n\n    .dataframe tbody tr th {\n        vertical-align: top;\n    }\n\n    .dataframe thead th {\n        text-align: right;\n    }\n</style>\n<table border=\"1\" class=\"dataframe\">\n  <thead>\n    <tr style=\"text-align: right;\">\n      <th></th>\n      <th>PeakID</th>\n      <th>Title</th>\n      <th>Scans</th>\n      <th>RT left(min)</th>\n      <th>RT_adjusted</th>\n      <th>RT (min)</th>\n      <th>RT right (min)</th>\n      <th>Precursor m/z</th>\n      <th>Height</th>\n      <th>Area</th>\n      <th>...</th>\n      <th>m/z matched</th>\n      <th>MS/MS matched</th>\n      <th>RT similarity</th>\n      <th>Dot product</th>\n      <th>Reverse dot product</th>\n      <th>Fragment presence %</th>\n      <th>Total score</th>\n      <th>S/N</th>\n      <th>MS1 isotopes</th>\n      <th>MSMS spectrum</th>\n    </tr>\n  </thead>\n  <tbody>\n    <tr>\n      <th>8113</th>\n      <td>10612</td>\n      <td>Unknown</td>\n      <td>1658</td>\n      <td>5.612382</td>\n      <td>5.735056</td>\n      <td>5.733913</td>\n      <td>6.012498</td>\n      <td>465.1811</td>\n      <td>261420.390625</td>\n      <td>1.324556e+06</td>\n      <td>...</td>\n      <td>False</td>\n      <td>False</td>\n      <td>NaN</td>\n      <td>NaN</td>\n      <td>NaN</td>\n      <td>NaN</td>\n      <td>NaN</td>\n      <td>5228.4080</td>\n      <td>465.18112:588840 465.30103:21275 466.18402:124...</td>\n      <td>126.23167:7904 173.45764:11706 285.92523:9274 ...</td>\n    </tr>\n    <tr>\n      <th>8114</th>\n      <td>11275</td>\n      <td>Unknown</td>\n      <td>1759</td>\n      <td>5.942320</td>\n      <td>6.089834</td>\n      <td>6.081813</td>\n      <td>6.348814</td>\n      <td>465.1888</td>\n      <td>15600.044922</td>\n      <td>7.202996e+04</td>\n      <td>...</td>\n      <td>False</td>\n      <td>False</td>\n      <td>NaN</td>\n      <td>NaN</td>\n      <td>NaN</td>\n      <td>NaN</td>\n      <td>NaN</td>\n      <td>312.0009</td>\n      <td>465.18857:37997 467.28021:48023</td>\n      <td>NaN</td>\n    </tr>\n  </tbody>\n</table>\n<p>2 rows × 32 columns</p>\n</div>"
     },
     "execution_count": 64,
     "metadata": {},
     "output_type": "execute_result"
    }
   ],
   "source": [
    "quick_search_values(file_temp, 'Precursor m/z', 465.180858-0.01, 465.180858+0.01, ifsorted=False)"
   ],
   "metadata": {
    "collapsed": false,
    "ExecuteTime": {
     "end_time": "2023-07-17T18:28:54.991970Z",
     "start_time": "2023-07-17T18:28:54.940256Z"
    }
   }
  },
  {
   "cell_type": "code",
   "execution_count": 7,
   "outputs": [],
   "source": [
    "alignment_result.sort_values(by = 'rt', ascending=True, inplace = True, ignore_index=True)\n",
    "alignment_result = find_istd(alignment_result, istd_info)\n",
    "alignment_result_refined = clean_bad_features(alignment_result)\n",
    "alignment_result_refined.to_csv(os.path.join('/Users/fanzhou.kong/Dropbox (Brightseed)/Mac/Documents/GitHub/data_garage/brighseed/result', 'alignment_result2_refined.csv'), index = False)"
   ],
   "metadata": {
    "collapsed": false,
    "ExecuteTime": {
     "end_time": "2023-07-17T17:43:04.413437Z",
     "start_time": "2023-07-17T17:43:01.297297Z"
    }
   }
  }
 ],
 "metadata": {
  "kernelspec": {
   "name": "alphapept_env",
   "language": "python",
   "display_name": "alphapept_env"
  },
  "language_info": {
   "codemirror_mode": {
    "name": "ipython",
    "version": 2
   },
   "file_extension": ".py",
   "mimetype": "text/x-python",
   "name": "python",
   "nbconvert_exporter": "python",
   "pygments_lexer": "ipython2",
   "version": "2.7.6"
  }
 },
 "nbformat": 4,
 "nbformat_minor": 0
}
