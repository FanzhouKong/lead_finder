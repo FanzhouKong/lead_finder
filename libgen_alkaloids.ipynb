{
 "cells": [
  {
   "cell_type": "code",
   "execution_count": 1,
   "metadata": {
    "collapsed": true,
    "pycharm": {
     "name": "#%%\n"
    }
   },
   "outputs": [],
   "source": [
    "%load_ext autoreload\n",
    "%autoreload 2\n",
    "from rdkit.Chem.Draw import IPythonConsole\n",
    "\n",
    "IPythonConsole.molSize = (400, 400)\n",
    "import numpy as np\n",
    "import pandas as pd\n",
    "from toolsets.search import string_search, quick_search_values, quick_search_sorted, search_feature\n",
    "from tqdm import tqdm\n",
    "import os\n",
    "import ast\n",
    "from molmass import Formula\n",
    "from toolsets.file_io import get_file_list\n",
    "from rdkit import Chem\n",
    "import toolsets.T_rex as trx\n",
    "import toolsets.raw_data_scaffold as rds\n",
    "import toolsets.feature_std_matching as fsm\n",
    "import toolsets.denoising_related_functions as drf\n",
    "from toolsets.file_io import export_library_msp\n",
    "from toolsets.std_list_prep import complete_adducts\n",
    "import toolsets.spectra_operations as so\n",
    "from toolsets.spectra_plotter import head_to_tail_plot, ms2_plot\n",
    "import time\n",
    "import toolsets.chem_helpers as ch\n",
    "import toolsets.std_list_prep as slp\n",
    "# master_dir = '/Users/fanzhoukong/Documents/GitHub/Libgen_data/Alkaloids_lib'\n",
    "# std_list = pd.read_csv(os.path.join(master_dir, 'alkaloids-libgen-input_CAS.csv'),encoding='unicode_escape')\n",
    "from toolsets.file_io import get_file_list\n",
    "from toolsets.feature_std_matching import feature_matching\n",
    "master_parent = '/Users/fanzhoukong/Documents/GitHub/Libgen_data/Alkaloids_lib'"
   ]
  },
  {
   "cell_type": "markdown",
   "source": [
    "# Sanitizing the std_list"
   ],
   "metadata": {
    "collapsed": false,
    "pycharm": {
     "name": "#%% md\n"
    }
   }
  },
  {
   "cell_type": "code",
   "execution_count": 132,
   "outputs": [],
   "source": [
    "std_list_pos = std_list.copy()\n",
    "std_list_neg = std_list.copy()"
   ],
   "metadata": {
    "collapsed": false,
    "pycharm": {
     "name": "#%%\n"
    }
   }
  },
  {
   "cell_type": "code",
   "execution_count": 104,
   "outputs": [],
   "source": [
    "std_list_pos =slp.complete_std_list(std_list_pos)"
   ],
   "metadata": {
    "collapsed": false,
    "pycharm": {
     "name": "#%%\n"
    }
   }
  },
  {
   "cell_type": "code",
   "execution_count": 106,
   "outputs": [],
   "source": [
    "std_list_pos.to_csv(os.path.join(master_parent, 'std_list_pos.csv'), index = False)"
   ],
   "metadata": {
    "collapsed": false,
    "pycharm": {
     "name": "#%%\n"
    }
   }
  },
  {
   "cell_type": "code",
   "execution_count": 133,
   "outputs": [],
   "source": [
    "std_list_neg =slp.complete_std_list(std_list_neg, adducts= ['[M]-', '[M-H]-', '[M+Cl]-', '[M-H2O-H]-'])"
   ],
   "metadata": {
    "collapsed": false,
    "pycharm": {
     "name": "#%%\n"
    }
   }
  },
  {
   "cell_type": "code",
   "execution_count": 145,
   "outputs": [],
   "source": [
    "std_list_neg['Mix'] = std_list_neg['Mix'].str.replace('pos', 'neg')"
   ],
   "metadata": {
    "collapsed": false,
    "pycharm": {
     "name": "#%%\n"
    }
   }
  },
  {
   "cell_type": "code",
   "execution_count": 184,
   "outputs": [],
   "source": [
    "std_list_neg.to_csv(os.path.join(master_parent, 'std_list_neg.csv'), index = False)"
   ],
   "metadata": {
    "collapsed": false,
    "pycharm": {
     "name": "#%%\n"
    }
   }
  },
  {
   "cell_type": "code",
   "execution_count": 113,
   "outputs": [
    {
     "data": {
      "text/plain": "      scan_idx  cycle  ms_level  precursor_mz polarity        rt  \\\n0           89     88         2    140.956561        +  0.234167   \n1           91     89         2     97.967541        +  0.238333   \n2           92     89         2    105.934045        +  0.239000   \n3           93     89         2    113.962728        +  0.239667   \n4           94     89         2    159.967700        +  0.240333   \n...        ...    ...       ...           ...      ...       ...   \n2206      4304   2097         2    146.934858        +  9.756183   \n2207      4305   2097         2    182.981941        +  9.756850   \n2208      4306   2097         2    287.886857        +  9.757517   \n2209      4310   2100         2     99.947315        +  9.770350   \n2210      4315   2104         2     87.002526        +  9.786017   \n\n                                                  peaks  \\\n0     [[41.03798972955178, 19.0], [41.21618427917624...   \n1     [[41.039787744498454, 62.0], [42.0383036662876...   \n2     [[51.023284245484206, 26.0], [55.9315430823134...   \n3     [[41.041585798832884, 31.0], [42.0373937828759...   \n4     [[42.03375434769863, 62.0], [55.93259261493957...   \n...                                                 ...   \n2206  [[54.897363378305684, 26.0], [55.0555236527533...   \n2207  [[42.032865363852736, 243.0], [55.934719456054...   \n2208  [[70.07465498572084, 26.0], [71.93234129639809...   \n2209  [[40.02398219272896, 6.0], [40.49591065785021,...   \n2210  [[40.01863583837931, 19.0], [41.0262960395458,...   \n\n                          isolation_window     ms1_pmz    ms1_rt  \\\n0     (140.456561395611, 141.456561395611)  140.998564  0.229983   \n1       (97.467540596692, 98.467540596692)   97.968200  0.236800   \n2     (105.434045418577, 106.434045418577)  105.932538  0.236800   \n3     (113.462728274948, 114.462728274948)  113.962267  0.236800   \n4     (159.467699899362, 160.467699899362)  159.966208  0.236800   \n...                                    ...         ...       ...   \n2206  (146.434858393755, 147.434858393755)  146.933536  9.753317   \n2207    (182.48194100621, 183.48194100621)  182.981876  9.753317   \n2208  (287.386857150623, 288.386857150623)  287.887385  9.753317   \n2209   (99.447315068413, 100.447315068413)   99.946273  9.766133   \n2210    (86.502525729372, 87.502525729372)   87.001336  9.781833   \n\n      ms1_precursor_intensity  peak_purity  mz_offset                  mix  \\\n0                      1778.0     1.000000   0.042003  Alkaloids-pos-mix34   \n1                      5482.0     0.982790   0.000660  Alkaloids-pos-mix34   \n2                     11797.0     0.995948   0.001508  Alkaloids-pos-mix34   \n3                      4398.0     0.951948   0.000462  Alkaloids-pos-mix34   \n4                      1850.0     0.939086   0.001492  Alkaloids-pos-mix34   \n...                       ...          ...        ...                  ...   \n2206                   1716.0     0.953333   0.001322  Alkaloids-pos-mix34   \n2207                   2231.0     1.000000   0.000065  Alkaloids-pos-mix34   \n2208                   3453.0     0.993097   0.000528  Alkaloids-pos-mix34   \n2209                  19569.0     0.970059   0.001042  Alkaloids-pos-mix34   \n2210                   1113.0     0.978892   0.001190  Alkaloids-pos-mix34   \n\n                     base_name  \n0     Alkaloids-pos-mix34.mzML  \n1     Alkaloids-pos-mix34.mzML  \n2     Alkaloids-pos-mix34.mzML  \n3     Alkaloids-pos-mix34.mzML  \n4     Alkaloids-pos-mix34.mzML  \n...                        ...  \n2206  Alkaloids-pos-mix34.mzML  \n2207  Alkaloids-pos-mix34.mzML  \n2208  Alkaloids-pos-mix34.mzML  \n2209  Alkaloids-pos-mix34.mzML  \n2210  Alkaloids-pos-mix34.mzML  \n\n[2211 rows x 15 columns]",
      "text/html": "<div>\n<style scoped>\n    .dataframe tbody tr th:only-of-type {\n        vertical-align: middle;\n    }\n\n    .dataframe tbody tr th {\n        vertical-align: top;\n    }\n\n    .dataframe thead th {\n        text-align: right;\n    }\n</style>\n<table border=\"1\" class=\"dataframe\">\n  <thead>\n    <tr style=\"text-align: right;\">\n      <th></th>\n      <th>scan_idx</th>\n      <th>cycle</th>\n      <th>ms_level</th>\n      <th>precursor_mz</th>\n      <th>polarity</th>\n      <th>rt</th>\n      <th>peaks</th>\n      <th>isolation_window</th>\n      <th>ms1_pmz</th>\n      <th>ms1_rt</th>\n      <th>ms1_precursor_intensity</th>\n      <th>peak_purity</th>\n      <th>mz_offset</th>\n      <th>mix</th>\n      <th>base_name</th>\n    </tr>\n  </thead>\n  <tbody>\n    <tr>\n      <th>0</th>\n      <td>89</td>\n      <td>88</td>\n      <td>2</td>\n      <td>140.956561</td>\n      <td>+</td>\n      <td>0.234167</td>\n      <td>[[41.03798972955178, 19.0], [41.21618427917624...</td>\n      <td>(140.456561395611, 141.456561395611)</td>\n      <td>140.998564</td>\n      <td>0.229983</td>\n      <td>1778.0</td>\n      <td>1.000000</td>\n      <td>0.042003</td>\n      <td>Alkaloids-pos-mix34</td>\n      <td>Alkaloids-pos-mix34.mzML</td>\n    </tr>\n    <tr>\n      <th>1</th>\n      <td>91</td>\n      <td>89</td>\n      <td>2</td>\n      <td>97.967541</td>\n      <td>+</td>\n      <td>0.238333</td>\n      <td>[[41.039787744498454, 62.0], [42.0383036662876...</td>\n      <td>(97.467540596692, 98.467540596692)</td>\n      <td>97.968200</td>\n      <td>0.236800</td>\n      <td>5482.0</td>\n      <td>0.982790</td>\n      <td>0.000660</td>\n      <td>Alkaloids-pos-mix34</td>\n      <td>Alkaloids-pos-mix34.mzML</td>\n    </tr>\n    <tr>\n      <th>2</th>\n      <td>92</td>\n      <td>89</td>\n      <td>2</td>\n      <td>105.934045</td>\n      <td>+</td>\n      <td>0.239000</td>\n      <td>[[51.023284245484206, 26.0], [55.9315430823134...</td>\n      <td>(105.434045418577, 106.434045418577)</td>\n      <td>105.932538</td>\n      <td>0.236800</td>\n      <td>11797.0</td>\n      <td>0.995948</td>\n      <td>0.001508</td>\n      <td>Alkaloids-pos-mix34</td>\n      <td>Alkaloids-pos-mix34.mzML</td>\n    </tr>\n    <tr>\n      <th>3</th>\n      <td>93</td>\n      <td>89</td>\n      <td>2</td>\n      <td>113.962728</td>\n      <td>+</td>\n      <td>0.239667</td>\n      <td>[[41.041585798832884, 31.0], [42.0373937828759...</td>\n      <td>(113.462728274948, 114.462728274948)</td>\n      <td>113.962267</td>\n      <td>0.236800</td>\n      <td>4398.0</td>\n      <td>0.951948</td>\n      <td>0.000462</td>\n      <td>Alkaloids-pos-mix34</td>\n      <td>Alkaloids-pos-mix34.mzML</td>\n    </tr>\n    <tr>\n      <th>4</th>\n      <td>94</td>\n      <td>89</td>\n      <td>2</td>\n      <td>159.967700</td>\n      <td>+</td>\n      <td>0.240333</td>\n      <td>[[42.03375434769863, 62.0], [55.93259261493957...</td>\n      <td>(159.467699899362, 160.467699899362)</td>\n      <td>159.966208</td>\n      <td>0.236800</td>\n      <td>1850.0</td>\n      <td>0.939086</td>\n      <td>0.001492</td>\n      <td>Alkaloids-pos-mix34</td>\n      <td>Alkaloids-pos-mix34.mzML</td>\n    </tr>\n    <tr>\n      <th>...</th>\n      <td>...</td>\n      <td>...</td>\n      <td>...</td>\n      <td>...</td>\n      <td>...</td>\n      <td>...</td>\n      <td>...</td>\n      <td>...</td>\n      <td>...</td>\n      <td>...</td>\n      <td>...</td>\n      <td>...</td>\n      <td>...</td>\n      <td>...</td>\n      <td>...</td>\n    </tr>\n    <tr>\n      <th>2206</th>\n      <td>4304</td>\n      <td>2097</td>\n      <td>2</td>\n      <td>146.934858</td>\n      <td>+</td>\n      <td>9.756183</td>\n      <td>[[54.897363378305684, 26.0], [55.0555236527533...</td>\n      <td>(146.434858393755, 147.434858393755)</td>\n      <td>146.933536</td>\n      <td>9.753317</td>\n      <td>1716.0</td>\n      <td>0.953333</td>\n      <td>0.001322</td>\n      <td>Alkaloids-pos-mix34</td>\n      <td>Alkaloids-pos-mix34.mzML</td>\n    </tr>\n    <tr>\n      <th>2207</th>\n      <td>4305</td>\n      <td>2097</td>\n      <td>2</td>\n      <td>182.981941</td>\n      <td>+</td>\n      <td>9.756850</td>\n      <td>[[42.032865363852736, 243.0], [55.934719456054...</td>\n      <td>(182.48194100621, 183.48194100621)</td>\n      <td>182.981876</td>\n      <td>9.753317</td>\n      <td>2231.0</td>\n      <td>1.000000</td>\n      <td>0.000065</td>\n      <td>Alkaloids-pos-mix34</td>\n      <td>Alkaloids-pos-mix34.mzML</td>\n    </tr>\n    <tr>\n      <th>2208</th>\n      <td>4306</td>\n      <td>2097</td>\n      <td>2</td>\n      <td>287.886857</td>\n      <td>+</td>\n      <td>9.757517</td>\n      <td>[[70.07465498572084, 26.0], [71.93234129639809...</td>\n      <td>(287.386857150623, 288.386857150623)</td>\n      <td>287.887385</td>\n      <td>9.753317</td>\n      <td>3453.0</td>\n      <td>0.993097</td>\n      <td>0.000528</td>\n      <td>Alkaloids-pos-mix34</td>\n      <td>Alkaloids-pos-mix34.mzML</td>\n    </tr>\n    <tr>\n      <th>2209</th>\n      <td>4310</td>\n      <td>2100</td>\n      <td>2</td>\n      <td>99.947315</td>\n      <td>+</td>\n      <td>9.770350</td>\n      <td>[[40.02398219272896, 6.0], [40.49591065785021,...</td>\n      <td>(99.447315068413, 100.447315068413)</td>\n      <td>99.946273</td>\n      <td>9.766133</td>\n      <td>19569.0</td>\n      <td>0.970059</td>\n      <td>0.001042</td>\n      <td>Alkaloids-pos-mix34</td>\n      <td>Alkaloids-pos-mix34.mzML</td>\n    </tr>\n    <tr>\n      <th>2210</th>\n      <td>4315</td>\n      <td>2104</td>\n      <td>2</td>\n      <td>87.002526</td>\n      <td>+</td>\n      <td>9.786017</td>\n      <td>[[40.01863583837931, 19.0], [41.0262960395458,...</td>\n      <td>(86.502525729372, 87.502525729372)</td>\n      <td>87.001336</td>\n      <td>9.781833</td>\n      <td>1113.0</td>\n      <td>0.978892</td>\n      <td>0.001190</td>\n      <td>Alkaloids-pos-mix34</td>\n      <td>Alkaloids-pos-mix34.mzML</td>\n    </tr>\n  </tbody>\n</table>\n<p>2211 rows × 15 columns</p>\n</div>"
     },
     "execution_count": 113,
     "metadata": {},
     "output_type": "execute_result"
    }
   ],
   "source": [
    "ms2"
   ],
   "metadata": {
    "collapsed": false,
    "pycharm": {
     "name": "#%%\n"
    }
   }
  },
  {
   "cell_type": "code",
   "execution_count": 116,
   "outputs": [],
   "source": [
    "ion_intensity = np.sum(intensity[:index_left])"
   ],
   "metadata": {
    "collapsed": false,
    "pycharm": {
     "name": "#%%\n"
    }
   }
  },
  {
   "cell_type": "markdown",
   "source": [
    "# map ms2"
   ],
   "metadata": {
    "collapsed": false,
    "pycharm": {
     "name": "#%% md\n"
    }
   }
  },
  {
   "cell_type": "code",
   "execution_count": 48,
   "outputs": [
    {
     "name": "stderr",
     "output_type": "stream",
     "text": [
      "100%|██████████| 48/48 [02:19<00:00,  2.91s/it]\n",
      "100%|██████████| 48/48 [02:38<00:00,  3.30s/it]\n",
      "100%|██████████| 48/48 [01:29<00:00,  1.87s/it]\n",
      "100%|██████████| 48/48 [01:50<00:00,  2.30s/it]\n"
     ]
    }
   ],
   "source": [
    "master_child = ['QE_neg', 'QE_pos', 'TTOF_neg', 'TTOF_pos']\n",
    "for c in master_child:\n",
    "    mzml_dir = os.path.join(master_parent, c, 'mzml')\n",
    "    pl_dir = os.path.join(master_parent, c, 'pl')\n",
    "    file_list = get_file_list(mzml_dir, '.mzML')\n",
    "    for f in tqdm(file_list):\n",
    "        ms1, ms2 = rds.read_mzml(f, mzml_dir)\n",
    "        ms1_features = pd.read_csv(os.path.join(pl_dir, f+'.csv'))\n",
    "        if 'anchor_pmz' in ms1_features.columns:\n",
    "            ms1_features = trx.deduplication(ms1_features)\n",
    "        ms1_features = trx.map_ms2(ms1_features, ms2)[0]\n",
    "        ms1_features.to_csv(os.path.join(pl_dir, f+'.csv'), index = False)\n",
    "\n",
    "\n"
   ],
   "metadata": {
    "collapsed": false,
    "pycharm": {
     "name": "#%%\n"
    }
   }
  },
  {
   "cell_type": "code",
   "execution_count": 5,
   "outputs": [],
   "source": [
    "from toolsets.feature_std_matching import feature_matching"
   ],
   "metadata": {
    "collapsed": false,
    "pycharm": {
     "name": "#%%\n"
    }
   }
  },
  {
   "cell_type": "code",
   "execution_count": 33,
   "outputs": [],
   "source": [
    "matched_all = pd.DataFrame()"
   ],
   "metadata": {
    "collapsed": false,
    "pycharm": {
     "name": "#%%\n"
    }
   }
  },
  {
   "cell_type": "code",
   "execution_count": 159,
   "outputs": [],
   "source": [
    "child = 'QE_neg'\n",
    "pl_dir = os.path.join(master_parent, child, 'pl')\n",
    "std_list = pd.read_csv(os.path.join(master_parent, 'std_list_neg.csv'))\n",
    "mzml_dir = os.path.join(master_parent, child, 'mzml')\n",
    "matched_all = pd.DataFrame()\n",
    "for mix in std_list['mix'].unique():\n",
    "    std_list_mix = string_search(std_list, 'mix', mix)\n",
    "    feature_mix = pd.read_csv(os.path.join(pl_dir, mix+'.csv'))\n",
    "    matched_mix = feature_matching(feature_mix, std_list_mix,['[M]-',\n",
    "                                                              '[M-H]-',\n",
    "                                                              '[M+Cl]-',\n",
    "                                                              '[M-H2O-H]-'])\n",
    "    if len(matched_mix)>0:\n",
    "        matched_all=pd.concat([matched_all, matched_mix], ignore_index=True)\n",
    "import toolsets.denoising_related_functions as drf\n",
    "msms_d = []\n",
    "ei = []\n",
    "for index, row in matched_all.iterrows():\n",
    "    denoised = drf.spectra_denoising(row['msms'],row['reference_smiles'], row['reference_adduct'])\n",
    "    msms_d.append(denoised[0])\n",
    "    ei.append(denoised[1])\n",
    "matched_all['msms_denoised']=msms_d\n",
    "matched_all['ei']=ei\n",
    "threshold = matched_all['ei'].mean()-1*matched_all['ei'].std()\n",
    "matched_all = matched_all[matched_all['ei']>threshold]"
   ],
   "metadata": {
    "collapsed": false,
    "pycharm": {
     "name": "#%%\n"
    }
   }
  },
  {
   "cell_type": "code",
   "execution_count": 142,
   "outputs": [],
   "source": [
    "matched_all.to_csv(os.path.join(master_parent, 'QE_neg.csv'), index = False)"
   ],
   "metadata": {
    "collapsed": false,
    "pycharm": {
     "name": "#%%\n"
    }
   }
  },
  {
   "cell_type": "code",
   "execution_count": 147,
   "outputs": [
    {
     "name": "stderr",
     "output_type": "stream",
     "text": [
      "100%|██████████| 132/132 [00:00<00:00, 2004.01it/s]\n"
     ]
    }
   ],
   "source": [
    "export_library_msp(matched_all, os.path.join(master_parent, 'QE_neg.txt'))"
   ],
   "metadata": {
    "collapsed": false,
    "pycharm": {
     "name": "#%%\n"
    }
   }
  },
  {
   "cell_type": "code",
   "execution_count": null,
   "outputs": [],
   "source": [],
   "metadata": {
    "collapsed": false,
    "pycharm": {
     "name": "#%%\n"
    }
   }
  },
  {
   "cell_type": "code",
   "execution_count": null,
   "outputs": [],
   "source": [],
   "metadata": {
    "collapsed": false,
    "pycharm": {
     "name": "#%%\n"
    }
   }
  },
  {
   "cell_type": "code",
   "execution_count": null,
   "outputs": [],
   "source": [],
   "metadata": {
    "collapsed": false,
    "pycharm": {
     "name": "#%%\n"
    }
   }
  },
  {
   "cell_type": "code",
   "execution_count": null,
   "outputs": [],
   "source": [],
   "metadata": {
    "collapsed": false,
    "pycharm": {
     "name": "#%%\n"
    }
   }
  },
  {
   "cell_type": "code",
   "execution_count": 161,
   "outputs": [],
   "source": [
    "child = 'QE_pos'\n",
    "pl_dir = os.path.join(master_parent, child, 'pl')\n",
    "std_list = pd.read_csv(os.path.join(master_parent, 'std_list_pos.csv'))\n",
    "mzml_dir = os.path.join(master_parent, child, 'mzml')\n",
    "matched_all = pd.DataFrame()\n",
    "for mix in std_list['mix'].unique():\n",
    "    std_list_mix = string_search(std_list, 'mix', mix)\n",
    "    feature_mix = pd.read_csv(os.path.join(pl_dir, mix+'.csv'))\n",
    "    matched_mix = feature_matching(feature_mix, std_list_mix,['[M]+',\n",
    "                                                              '[M+H]+',\n",
    "                                                              '[M+Na]+',\n",
    "                                                              '[M+NH4]+'])\n",
    "    if len(matched_mix)>0:\n",
    "        matched_all=pd.concat([matched_all, matched_mix], ignore_index=True)"
   ],
   "metadata": {
    "collapsed": false,
    "pycharm": {
     "name": "#%%\n"
    }
   }
  },
  {
   "cell_type": "code",
   "execution_count": 164,
   "outputs": [],
   "source": [
    "import toolsets.denoising_related_functions as drf\n",
    "msms_d = []\n",
    "ei = []\n",
    "for index, row in matched_all.iterrows():\n",
    "    denoised = drf.spectra_denoising(row['msms'],row['reference_smiles'], row['reference_adduct'])\n",
    "    msms_d.append(denoised[0])\n",
    "    ei.append(denoised[1])\n",
    "matched_all['msms_denoised']=msms_d\n",
    "matched_all['ei']=ei\n",
    "threshold = matched_all['ei'].mean()-1*matched_all['ei'].std()\n",
    "matched_all = matched_all[matched_all['ei']>threshold]"
   ],
   "metadata": {
    "collapsed": false,
    "pycharm": {
     "name": "#%%\n"
    }
   }
  },
  {
   "cell_type": "code",
   "execution_count": 167,
   "outputs": [
    {
     "name": "stderr",
     "output_type": "stream",
     "text": [
      "100%|██████████| 674/674 [00:01<00:00, 570.40it/s] \n"
     ]
    }
   ],
   "source": [
    "matched_all.to_csv(os.path.join(master_parent, 'QE_pos.csv'), index = False)\n",
    "export_library_msp(matched_all, os.path.join(master_parent, 'QE_pos.txt'))"
   ],
   "metadata": {
    "collapsed": false,
    "pycharm": {
     "name": "#%%\n"
    }
   }
  },
  {
   "cell_type": "markdown",
   "source": [
    "# Below TTOF POS"
   ],
   "metadata": {
    "collapsed": false,
    "pycharm": {
     "name": "#%% md\n"
    }
   }
  },
  {
   "cell_type": "code",
   "execution_count": null,
   "outputs": [],
   "source": [],
   "metadata": {
    "collapsed": false,
    "pycharm": {
     "name": "#%%\n"
    }
   }
  },
  {
   "cell_type": "code",
   "execution_count": 3,
   "outputs": [],
   "source": [
    "child = 'TTOF_pos'\n",
    "pl_dir = os.path.join(master_parent, child, 'pl')\n",
    "std_list = pd.read_csv(os.path.join(master_parent, 'std_list_pos.csv'))\n",
    "mzml_dir = os.path.join(master_parent, child, 'mzml')\n",
    "matched_all = pd.DataFrame()\n",
    "for mix in std_list['mix'].unique():\n",
    "    std_list_mix = string_search(std_list, 'mix', mix)\n",
    "    feature_mix = pd.read_csv(os.path.join(pl_dir, mix+'.csv'))\n",
    "    matched_mix = feature_matching(feature_mix, std_list_mix,['[M]+',\n",
    "                                                              '[M+H]+',\n",
    "                                                              '[M+Na]+',\n",
    "                                                              '[M+NH4]+'])\n",
    "    if len(matched_mix)>0:\n",
    "        matched_all=pd.concat([matched_all, matched_mix], ignore_index=True)\n",
    "# import toolsets.denoising_related_functions as drf\n",
    "# msms_d = []\n",
    "# ei = []\n",
    "# for index, row in tqdm(matched_all.iterrows(), total = len(matched_all)):\n",
    "#     denoised = drf.spectra_denoising(row['msms'],row['reference_smiles'], row['reference_adduct'])\n",
    "#     msms_d.append(denoised[0])\n",
    "#     ei.append(denoised[1])\n",
    "# matched_all['msms_denoised']=msms_d\n",
    "# matched_all['ei']=ei\n",
    "# threshold = matched_all['ei'].mean()-1*matched_all['ei'].std()\n",
    "# matched_all = matched_all[matched_all['ei']>threshold]"
   ],
   "metadata": {
    "collapsed": false,
    "pycharm": {
     "name": "#%%\n"
    }
   }
  },
  {
   "cell_type": "code",
   "execution_count": 6,
   "outputs": [
    {
     "data": {
      "text/plain": "   precursor_mz        CAS reference_adduct  reference_mz comment  \\\n0    142.086492  6197-39-3           [M+H]+    142.086255   Major   \n\n   reference_smiles reference_formula        reference_mix reference_rt  \\\n0  COC(=O)C1=CCCNC1          C7H11NO2  Alkaloids-pos-mix26      [0.351]   \n\n             reference_name   rt_apex  rt_start  rt_end  ms1_intensity  \\\n0  Guvacoline hydrochloride  0.350743  0.318117  0.4328       327258.0   \n\n   n_scnas   ms1_scan_range  reci_snr  pmz_offset  \\\n0     19.0  [101, 106, 121]  0.012416    0.001673   \n\n                                                msms  ms2_scan_idx  \n0  41.02943177465313\\t31.0\\n42.01872727331691\\t62...         179.0  ",
      "text/html": "<div>\n<style scoped>\n    .dataframe tbody tr th:only-of-type {\n        vertical-align: middle;\n    }\n\n    .dataframe tbody tr th {\n        vertical-align: top;\n    }\n\n    .dataframe thead th {\n        text-align: right;\n    }\n</style>\n<table border=\"1\" class=\"dataframe\">\n  <thead>\n    <tr style=\"text-align: right;\">\n      <th></th>\n      <th>precursor_mz</th>\n      <th>CAS</th>\n      <th>reference_adduct</th>\n      <th>reference_mz</th>\n      <th>comment</th>\n      <th>reference_smiles</th>\n      <th>reference_formula</th>\n      <th>reference_mix</th>\n      <th>reference_rt</th>\n      <th>reference_name</th>\n      <th>rt_apex</th>\n      <th>rt_start</th>\n      <th>rt_end</th>\n      <th>ms1_intensity</th>\n      <th>n_scnas</th>\n      <th>ms1_scan_range</th>\n      <th>reci_snr</th>\n      <th>pmz_offset</th>\n      <th>msms</th>\n      <th>ms2_scan_idx</th>\n    </tr>\n  </thead>\n  <tbody>\n    <tr>\n      <th>0</th>\n      <td>142.086492</td>\n      <td>6197-39-3</td>\n      <td>[M+H]+</td>\n      <td>142.086255</td>\n      <td>Major</td>\n      <td>COC(=O)C1=CCCNC1</td>\n      <td>C7H11NO2</td>\n      <td>Alkaloids-pos-mix26</td>\n      <td>[0.351]</td>\n      <td>Guvacoline hydrochloride</td>\n      <td>0.350743</td>\n      <td>0.318117</td>\n      <td>0.4328</td>\n      <td>327258.0</td>\n      <td>19.0</td>\n      <td>[101, 106, 121]</td>\n      <td>0.012416</td>\n      <td>0.001673</td>\n      <td>41.02943177465313\\t31.0\\n42.01872727331691\\t62...</td>\n      <td>179.0</td>\n    </tr>\n  </tbody>\n</table>\n</div>"
     },
     "execution_count": 6,
     "metadata": {},
     "output_type": "execute_result"
    }
   ],
   "source": [
    "string_search(matched_all, 'reference_name', 'Guvacoline hydrochloride')"
   ],
   "metadata": {
    "collapsed": false,
    "pycharm": {
     "name": "#%%\n"
    }
   }
  },
  {
   "cell_type": "code",
   "execution_count": 6,
   "outputs": [
    {
     "data": {
      "text/plain": "417"
     },
     "execution_count": 6,
     "metadata": {},
     "output_type": "execute_result"
    }
   ],
   "source": [
    "len(matched_all['CAS'].unique())"
   ],
   "metadata": {
    "collapsed": false,
    "pycharm": {
     "name": "#%%\n"
    }
   }
  },
  {
   "cell_type": "code",
   "execution_count": 8,
   "outputs": [],
   "source": [
    "from toolsets.helpers import check_missing_compound"
   ],
   "metadata": {
    "collapsed": false,
    "pycharm": {
     "name": "#%%\n"
    }
   }
  },
  {
   "cell_type": "code",
   "execution_count": 9,
   "outputs": [],
   "source": [
    "missing = check_missing_compound(matched_all['CAS'], std_list['CAS'])"
   ],
   "metadata": {
    "collapsed": false,
    "pycharm": {
     "name": "#%%\n"
    }
   }
  },
  {
   "cell_type": "code",
   "execution_count": 12,
   "outputs": [],
   "source": [
    "missing_df = std_list[std_list['CAS'].isin(missing)]"
   ],
   "metadata": {
    "collapsed": false,
    "pycharm": {
     "name": "#%%\n"
    }
   }
  },
  {
   "cell_type": "code",
   "execution_count": 14,
   "outputs": [],
   "source": [
    "plot_dir = os.path.join(master_parent, 'eics')\n",
    "if os.path.exists(plot_dir)==False:\n",
    "    os.makedirs(plot_dir)"
   ],
   "metadata": {
    "collapsed": false,
    "pycharm": {
     "name": "#%%\n"
    }
   }
  },
  {
   "cell_type": "code",
   "execution_count": 80,
   "outputs": [],
   "source": [
    "ms1, ms2 = rds.read_mzml(mix, mzml_dir)\n",
    "mass_sorted, intensity_sorted, index_sorted, rt_list = trx.build_index(ms1)\n",
    "feature_mix = pd.read_csv(os.path.join(pl_dir, mix+'.csv'))"
   ],
   "metadata": {
    "collapsed": false,
    "pycharm": {
     "name": "#%%\n"
    }
   }
  },
  {
   "cell_type": "code",
   "execution_count": 87,
   "outputs": [],
   "source": [
    "tt = trx.detect_all_peaks(intensity_list)"
   ],
   "metadata": {
    "collapsed": false,
    "pycharm": {
     "name": "#%%\n"
    }
   }
  },
  {
   "cell_type": "code",
   "execution_count": 90,
   "outputs": [
    {
     "name": "stderr",
     "output_type": "stream",
     "text": [
      "100%|██████████| 104362/104362 [00:11<00:00, 9107.80it/s] \n"
     ]
    }
   ],
   "source": [
    "feature_temp = trx.get_features(mass_sorted, intensity_sorted, index_sorted,rt_list,  intensity_threshold = 1000, n_neighbor = 1)"
   ],
   "metadata": {
    "collapsed": false,
    "pycharm": {
     "name": "#%%\n"
    }
   }
  },
  {
   "cell_type": "code",
   "execution_count": 99,
   "outputs": [
    {
     "name": "stderr",
     "output_type": "stream",
     "text": [
      "100%|██████████| 104362/104362 [00:11<00:00, 9083.96it/s] \n"
     ]
    }
   ],
   "source": [
    "ttt = trx.find_feature(row['mix'], mzml_dir,intensity_threshold = 1000, n_neighbor = 1)"
   ],
   "metadata": {
    "collapsed": false,
    "pycharm": {
     "name": "#%%\n"
    }
   }
  },
  {
   "cell_type": "code",
   "execution_count": 15,
   "outputs": [
    {
     "name": "stderr",
     "output_type": "stream",
     "text": [
      "100%|██████████| 51/51 [02:04<00:00,  2.45s/it]\n"
     ]
    }
   ],
   "source": [
    "comment = []\n",
    "mix = np.NAN\n",
    "for index, row in tqdm(missing_df.iterrows(), total = len(missing_df)):\n",
    "    # row = missing_df.iloc[1]\n",
    "    current_comment = np.NAN\n",
    "    if row['rt_reference']==row['rt_reference']:\n",
    "        rt_all = ast.literal_eval(row['rt_reference'])\n",
    "    else:\n",
    "        current_comment = 'no rt reference given'\n",
    "        comment.append(current_comment)\n",
    "        continue\n",
    "    pmz = row['[M+H]+']\n",
    "    if pmz == 0:\n",
    "        pmz = row['[M]+']\n",
    "    if mix == mix and mix == row['mix']:\n",
    "        pass\n",
    "    else:\n",
    "        mix = row['mix']\n",
    "        ms1, ms2 = rds.read_mzml(mix, mzml_dir)\n",
    "        mass_sorted, intensity_sorted, index_sorted, rt_list = trx.build_index(ms1)\n",
    "        feature_mix = pd.read_csv(os.path.join(pl_dir, mix+'.csv'))\n",
    "\n",
    "    feature_matched = pd.DataFrame()\n",
    "    for r in rt_all:\n",
    "        feature_matched_temp = search_feature(feature_mix, pmz = pmz, rt = r, rt_error=3)\n",
    "        feature_matched = pd.concat([feature_matched, feature_matched_temp])\n",
    "    # break\n",
    "    if len(feature_matched)>0:\n",
    "        if feature_matched['msms'].isna().all():\n",
    "            current_comment = 'feature found, no ms2 assigned'\n",
    "            comment.append(current_comment)\n",
    "        else:\n",
    "            current_comment = 'other reasons'\n",
    "            comment.append(current_comment)\n",
    "    else:\n",
    "        current_comment = 'no feature found'\n",
    "        comment.append(current_comment)\n",
    "        intensity_list = trx.flash_eic(pmz, mass_sorted, intensity_sorted, index_sorted)\n",
    "        rds.EIC(rt_list, intensity_list, savepath=os.path.join(plot_dir, row['name']+'.png'),vlines_location_2=rt_all, show=False)\n",
    "    if current_comment != current_comment:\n",
    "        print('no comment made')\n",
    "        break\n",
    "\n",
    "# missing_df['comments']=comment\n",
    "\n",
    "\n"
   ],
   "metadata": {
    "collapsed": false,
    "pycharm": {
     "name": "#%%\n"
    }
   }
  },
  {
   "cell_type": "code",
   "execution_count": 108,
   "outputs": [],
   "source": [
    "library_curated = pd.read_csv(os.path.join(master_parent, 'QTTOF_pos.csv'))"
   ],
   "metadata": {
    "collapsed": false,
    "pycharm": {
     "name": "#%%\n"
    }
   }
  },
  {
   "cell_type": "code",
   "execution_count": 112,
   "outputs": [],
   "source": [
    "from toolsets.helpers import check_missing_compound"
   ],
   "metadata": {
    "collapsed": false,
    "pycharm": {
     "name": "#%%\n"
    }
   }
  },
  {
   "cell_type": "code",
   "execution_count": 113,
   "outputs": [],
   "source": [
    "diff_quality =check_missing_compound(library_curated['CAS'], matched_all['CAS'])"
   ],
   "metadata": {
    "collapsed": false,
    "pycharm": {
     "name": "#%%\n"
    }
   }
  },
  {
   "cell_type": "code",
   "execution_count": 116,
   "outputs": [],
   "source": [
    "low_quality = std_list[std_list['CAS'].isin(diff_quality) ]"
   ],
   "metadata": {
    "collapsed": false,
    "pycharm": {
     "name": "#%%\n"
    }
   }
  },
  {
   "cell_type": "code",
   "execution_count": 118,
   "outputs": [],
   "source": [
    "low_quality.to_csv(os.path.join(master_parent, 'low_quality_curated.csv'), index = False)"
   ],
   "metadata": {
    "collapsed": false,
    "pycharm": {
     "name": "#%%\n"
    }
   }
  },
  {
   "cell_type": "code",
   "execution_count": 89,
   "outputs": [],
   "source": [
    "mix = row['mix']\n",
    "std_list_mix = string_search(std_list, 'mix', mix)\n",
    "feature_mix = pd.read_csv(os.path.join(pl_dir, mix+'.csv'))\n",
    "matched_mix = feature_matching(feature_mix, std_list_mix,['[M]+',\n",
    "                                                          '[M+H]+',\n",
    "                                                          '[M+Na]+',\n",
    "                                                          '[M+NH4]+'])"
   ],
   "metadata": {
    "collapsed": false,
    "pycharm": {
     "name": "#%%\n"
    }
   }
  },
  {
   "cell_type": "code",
   "execution_count": 125,
   "outputs": [
    {
     "data": {
      "text/plain": "     precursor_mz         CAS reference_adduct  reference_mz comment  \\\n0      291.069435     58-63-9          [M+Na]+    291.069990   Major   \n1      113.033490     66-22-8           [M+H]+    113.034554   Major   \n2      244.092623     65-46-3           [M+H]+    244.092797   Major   \n3      137.046177     68-94-0           [M+H]+    137.045787   Major   \n4      159.026448     68-94-0          [M+Na]+    159.027731   Major   \n..            ...         ...              ...           ...     ...   \n560    142.121188    135-97-7           [M+H]+    142.122641   Major   \n561    176.069709    942-24-5           [M+H]+    176.070605   Major   \n562    414.337014    126-17-0           [M+H]+    414.336656   Major   \n563    352.116991  19716-60-0           [M+H]+    352.117949   Major   \n564    623.309714    518-94-5           [M+H]+    623.311564   Major   \n\n                                      reference_smiles reference_formula  \\\n0    O=c1[nH]cnc2c1ncn2[C@@H]1O[C@H](CO)[C@@H](O)[C...        C10H12N4O5   \n1                                 O=c1cc[nH]c(=O)[nH]1          C4H4N2O2   \n2     Nc1ccn([C@@H]2O[C@H](CO)[C@@H](O)[C@H]2O)c(=O)n1         C9H13N3O5   \n3                                O=c1nc[nH]c2nc[nH]c12           C5H4N4O   \n4                                O=c1nc[nH]c2nc[nH]c12           C5H4N4O   \n..                                                 ...               ...   \n560                          CN1[C@H]2CC[C@@H]1CC(O)C2           C8H15NO   \n561                            COC(=O)c1c[nH]c2ccccc12          C10H9NO2   \n562  C[C@H]1[C@H]2[C@H](C[C@H]3[C@@H]4CC=C5C[C@@H](...         C27H43NO2   \n563       COc1cc2c(cc1OC)-c1cc3ccc4c(c3c(=O)n1CC2)OCO4         C20H17NO5   \n564  COc1cc2c3c(c1OC)Oc1ccc(cc1)C[C@@H]1c4c(cc(OC)c...        C38H42N2O6   \n\n           reference_mix          reference_rt               reference_name  \\\n0     Alkaloids-pos-mix1               [0.547]                      Inosine   \n1     Alkaloids-pos-mix1               [0.356]                       Uracil   \n2     Alkaloids-pos-mix1               [0.328]                     Cytidine   \n3     Alkaloids-pos-mix1  [0.36, 0.549, 0.454]                 Hypoxanthine   \n4     Alkaloids-pos-mix1  [0.36, 0.549, 0.454]                 Hypoxanthine   \n..                   ...                   ...                          ...   \n560  Alkaloids-pos-mix47               [0.314]                Pseudotropine   \n561  Alkaloids-pos-mix47               [3.324]  Methyl indole-3-carboxylate   \n562  Alkaloids-pos-mix47               [3.806]                   Solasodine   \n563  Alkaloids-pos-mix47               [3.862]            8-Oxoepiberberine   \n564  Alkaloids-pos-mix47               [2.631]                   Cycleanine   \n\n     ...    rt_end  ms1_intensity  n_scnas    ms1_scan_range  reci_snr  \\\n0    ...  0.711283        18878.0     50.0   [136, 143, 187]  0.004769   \n1    ...  0.497367        38906.0     30.0   [103, 107, 134]  0.003643   \n2    ...  0.513533       209224.0     37.0    [98, 103, 136]  0.000337   \n3    ...  0.399033       222341.0     10.0   [103, 108, 114]  0.056759   \n4    ...  0.417717        22945.0     13.0   [104, 108, 118]  0.100502   \n..   ...       ...            ...      ...               ...       ...   \n560  ...  0.578917       973460.0     71.0    [94, 100, 166]  0.000086   \n561  ...  3.682433       403029.0     78.0   [864, 872, 943]  0.000210   \n562  ...  4.438150      4913936.0    135.0  [969, 977, 1105]  0.000049   \n563  ...  4.134783         9863.0     55.0  [980, 986, 1036]  0.011646   \n564  ...  2.906783        10850.0     69.0   [730, 739, 800]  0.005343   \n\n                                                  msms  ms2_scan_idx  \\\n0    51.94003455648366\\t26.0\\n55.057948948792394\\t2...         277.0   \n1    40.01855110611829\\t937.0\\n40.55385431874952\\t2...         198.0   \n2    40.01855110611829\\t382.0\\n40.524369351163024\\t...         152.0   \n3    40.019438839796244\\t373.0\\n40.92376998186888\\t...         199.0   \n4    41.039656860374556\\t31.0\\n43.01823420370624\\t3...         190.0   \n..                                                 ...           ...   \n560  41.03775362857845\\t3316.0\\n42.03260956586657\\t...         151.0   \n561  40.211348235469565\\t26.0\\n40.42788501585076\\t2...        1346.0   \n562  40.44650379084834\\t9.0\\n40.72454699297614\\t9.0...        1546.0   \n563  72.93426704503787\\t26.0\\n99.0227747458793\\t26....        1590.0   \n564  44.05249934859576\\t15.0\\n77.03397512913392\\t13...        1047.0   \n\n       pmz_offset                                      msms_denoised        ei  \n0    6.592364e-04  55.057948948792394\\t26.0\\n60.987497557657406\\t...  0.889195  \n1    0.000000e+00  40.01855110611829\\t937.0\\n41.02886977358843\\t6...  0.801460  \n2    1.767334e-04  40.01855110611829\\t382.0\\n41.04145484601922\\t9...  0.976548  \n3    1.447695e-03  40.019438839796244\\t373.0\\n41.04145484601922\\t...  0.910923  \n4    2.842171e-14  43.01823420370624\\t31.0\\n46.99576034984248\\t24...  0.707647  \n..            ...                                                ...       ...  \n560  1.858050e-03  41.03775362857845\\t3316.0\\n42.03260956586657\\t...  0.921236  \n561  7.981105e-04  41.03602277093515\\t123.0\\n42.03267831595645\\t2...  0.975902  \n562  3.114387e-03  41.03769739834662\\t1311.0\\n41.23571512367593\\t...  0.983799  \n563  1.020874e-03  99.0227747458793\\t26.0\\n101.06084524204307\\t26...  0.873212  \n564  9.745782e-04  44.05249934859576\\t15.0\\n77.03397512913392\\t13...  0.904700  \n\n[565 rows x 22 columns]",
      "text/html": "<div>\n<style scoped>\n    .dataframe tbody tr th:only-of-type {\n        vertical-align: middle;\n    }\n\n    .dataframe tbody tr th {\n        vertical-align: top;\n    }\n\n    .dataframe thead th {\n        text-align: right;\n    }\n</style>\n<table border=\"1\" class=\"dataframe\">\n  <thead>\n    <tr style=\"text-align: right;\">\n      <th></th>\n      <th>precursor_mz</th>\n      <th>CAS</th>\n      <th>reference_adduct</th>\n      <th>reference_mz</th>\n      <th>comment</th>\n      <th>reference_smiles</th>\n      <th>reference_formula</th>\n      <th>reference_mix</th>\n      <th>reference_rt</th>\n      <th>reference_name</th>\n      <th>...</th>\n      <th>rt_end</th>\n      <th>ms1_intensity</th>\n      <th>n_scnas</th>\n      <th>ms1_scan_range</th>\n      <th>reci_snr</th>\n      <th>msms</th>\n      <th>ms2_scan_idx</th>\n      <th>pmz_offset</th>\n      <th>msms_denoised</th>\n      <th>ei</th>\n    </tr>\n  </thead>\n  <tbody>\n    <tr>\n      <th>0</th>\n      <td>291.069435</td>\n      <td>58-63-9</td>\n      <td>[M+Na]+</td>\n      <td>291.069990</td>\n      <td>Major</td>\n      <td>O=c1[nH]cnc2c1ncn2[C@@H]1O[C@H](CO)[C@@H](O)[C...</td>\n      <td>C10H12N4O5</td>\n      <td>Alkaloids-pos-mix1</td>\n      <td>[0.547]</td>\n      <td>Inosine</td>\n      <td>...</td>\n      <td>0.711283</td>\n      <td>18878.0</td>\n      <td>50.0</td>\n      <td>[136, 143, 187]</td>\n      <td>0.004769</td>\n      <td>51.94003455648366\\t26.0\\n55.057948948792394\\t2...</td>\n      <td>277.0</td>\n      <td>6.592364e-04</td>\n      <td>55.057948948792394\\t26.0\\n60.987497557657406\\t...</td>\n      <td>0.889195</td>\n    </tr>\n    <tr>\n      <th>1</th>\n      <td>113.033490</td>\n      <td>66-22-8</td>\n      <td>[M+H]+</td>\n      <td>113.034554</td>\n      <td>Major</td>\n      <td>O=c1cc[nH]c(=O)[nH]1</td>\n      <td>C4H4N2O2</td>\n      <td>Alkaloids-pos-mix1</td>\n      <td>[0.356]</td>\n      <td>Uracil</td>\n      <td>...</td>\n      <td>0.497367</td>\n      <td>38906.0</td>\n      <td>30.0</td>\n      <td>[103, 107, 134]</td>\n      <td>0.003643</td>\n      <td>40.01855110611829\\t937.0\\n40.55385431874952\\t2...</td>\n      <td>198.0</td>\n      <td>0.000000e+00</td>\n      <td>40.01855110611829\\t937.0\\n41.02886977358843\\t6...</td>\n      <td>0.801460</td>\n    </tr>\n    <tr>\n      <th>2</th>\n      <td>244.092623</td>\n      <td>65-46-3</td>\n      <td>[M+H]+</td>\n      <td>244.092797</td>\n      <td>Major</td>\n      <td>Nc1ccn([C@@H]2O[C@H](CO)[C@@H](O)[C@H]2O)c(=O)n1</td>\n      <td>C9H13N3O5</td>\n      <td>Alkaloids-pos-mix1</td>\n      <td>[0.328]</td>\n      <td>Cytidine</td>\n      <td>...</td>\n      <td>0.513533</td>\n      <td>209224.0</td>\n      <td>37.0</td>\n      <td>[98, 103, 136]</td>\n      <td>0.000337</td>\n      <td>40.01855110611829\\t382.0\\n40.524369351163024\\t...</td>\n      <td>152.0</td>\n      <td>1.767334e-04</td>\n      <td>40.01855110611829\\t382.0\\n41.04145484601922\\t9...</td>\n      <td>0.976548</td>\n    </tr>\n    <tr>\n      <th>3</th>\n      <td>137.046177</td>\n      <td>68-94-0</td>\n      <td>[M+H]+</td>\n      <td>137.045787</td>\n      <td>Major</td>\n      <td>O=c1nc[nH]c2nc[nH]c12</td>\n      <td>C5H4N4O</td>\n      <td>Alkaloids-pos-mix1</td>\n      <td>[0.36, 0.549, 0.454]</td>\n      <td>Hypoxanthine</td>\n      <td>...</td>\n      <td>0.399033</td>\n      <td>222341.0</td>\n      <td>10.0</td>\n      <td>[103, 108, 114]</td>\n      <td>0.056759</td>\n      <td>40.019438839796244\\t373.0\\n40.92376998186888\\t...</td>\n      <td>199.0</td>\n      <td>1.447695e-03</td>\n      <td>40.019438839796244\\t373.0\\n41.04145484601922\\t...</td>\n      <td>0.910923</td>\n    </tr>\n    <tr>\n      <th>4</th>\n      <td>159.026448</td>\n      <td>68-94-0</td>\n      <td>[M+Na]+</td>\n      <td>159.027731</td>\n      <td>Major</td>\n      <td>O=c1nc[nH]c2nc[nH]c12</td>\n      <td>C5H4N4O</td>\n      <td>Alkaloids-pos-mix1</td>\n      <td>[0.36, 0.549, 0.454]</td>\n      <td>Hypoxanthine</td>\n      <td>...</td>\n      <td>0.417717</td>\n      <td>22945.0</td>\n      <td>13.0</td>\n      <td>[104, 108, 118]</td>\n      <td>0.100502</td>\n      <td>41.039656860374556\\t31.0\\n43.01823420370624\\t3...</td>\n      <td>190.0</td>\n      <td>2.842171e-14</td>\n      <td>43.01823420370624\\t31.0\\n46.99576034984248\\t24...</td>\n      <td>0.707647</td>\n    </tr>\n    <tr>\n      <th>...</th>\n      <td>...</td>\n      <td>...</td>\n      <td>...</td>\n      <td>...</td>\n      <td>...</td>\n      <td>...</td>\n      <td>...</td>\n      <td>...</td>\n      <td>...</td>\n      <td>...</td>\n      <td>...</td>\n      <td>...</td>\n      <td>...</td>\n      <td>...</td>\n      <td>...</td>\n      <td>...</td>\n      <td>...</td>\n      <td>...</td>\n      <td>...</td>\n      <td>...</td>\n      <td>...</td>\n    </tr>\n    <tr>\n      <th>560</th>\n      <td>142.121188</td>\n      <td>135-97-7</td>\n      <td>[M+H]+</td>\n      <td>142.122641</td>\n      <td>Major</td>\n      <td>CN1[C@H]2CC[C@@H]1CC(O)C2</td>\n      <td>C8H15NO</td>\n      <td>Alkaloids-pos-mix47</td>\n      <td>[0.314]</td>\n      <td>Pseudotropine</td>\n      <td>...</td>\n      <td>0.578917</td>\n      <td>973460.0</td>\n      <td>71.0</td>\n      <td>[94, 100, 166]</td>\n      <td>0.000086</td>\n      <td>41.03775362857845\\t3316.0\\n42.03260956586657\\t...</td>\n      <td>151.0</td>\n      <td>1.858050e-03</td>\n      <td>41.03775362857845\\t3316.0\\n42.03260956586657\\t...</td>\n      <td>0.921236</td>\n    </tr>\n    <tr>\n      <th>561</th>\n      <td>176.069709</td>\n      <td>942-24-5</td>\n      <td>[M+H]+</td>\n      <td>176.070605</td>\n      <td>Major</td>\n      <td>COC(=O)c1c[nH]c2ccccc12</td>\n      <td>C10H9NO2</td>\n      <td>Alkaloids-pos-mix47</td>\n      <td>[3.324]</td>\n      <td>Methyl indole-3-carboxylate</td>\n      <td>...</td>\n      <td>3.682433</td>\n      <td>403029.0</td>\n      <td>78.0</td>\n      <td>[864, 872, 943]</td>\n      <td>0.000210</td>\n      <td>40.211348235469565\\t26.0\\n40.42788501585076\\t2...</td>\n      <td>1346.0</td>\n      <td>7.981105e-04</td>\n      <td>41.03602277093515\\t123.0\\n42.03267831595645\\t2...</td>\n      <td>0.975902</td>\n    </tr>\n    <tr>\n      <th>562</th>\n      <td>414.337014</td>\n      <td>126-17-0</td>\n      <td>[M+H]+</td>\n      <td>414.336656</td>\n      <td>Major</td>\n      <td>C[C@H]1[C@H]2[C@H](C[C@H]3[C@@H]4CC=C5C[C@@H](...</td>\n      <td>C27H43NO2</td>\n      <td>Alkaloids-pos-mix47</td>\n      <td>[3.806]</td>\n      <td>Solasodine</td>\n      <td>...</td>\n      <td>4.438150</td>\n      <td>4913936.0</td>\n      <td>135.0</td>\n      <td>[969, 977, 1105]</td>\n      <td>0.000049</td>\n      <td>40.44650379084834\\t9.0\\n40.72454699297614\\t9.0...</td>\n      <td>1546.0</td>\n      <td>3.114387e-03</td>\n      <td>41.03769739834662\\t1311.0\\n41.23571512367593\\t...</td>\n      <td>0.983799</td>\n    </tr>\n    <tr>\n      <th>563</th>\n      <td>352.116991</td>\n      <td>19716-60-0</td>\n      <td>[M+H]+</td>\n      <td>352.117949</td>\n      <td>Major</td>\n      <td>COc1cc2c(cc1OC)-c1cc3ccc4c(c3c(=O)n1CC2)OCO4</td>\n      <td>C20H17NO5</td>\n      <td>Alkaloids-pos-mix47</td>\n      <td>[3.862]</td>\n      <td>8-Oxoepiberberine</td>\n      <td>...</td>\n      <td>4.134783</td>\n      <td>9863.0</td>\n      <td>55.0</td>\n      <td>[980, 986, 1036]</td>\n      <td>0.011646</td>\n      <td>72.93426704503787\\t26.0\\n99.0227747458793\\t26....</td>\n      <td>1590.0</td>\n      <td>1.020874e-03</td>\n      <td>99.0227747458793\\t26.0\\n101.06084524204307\\t26...</td>\n      <td>0.873212</td>\n    </tr>\n    <tr>\n      <th>564</th>\n      <td>623.309714</td>\n      <td>518-94-5</td>\n      <td>[M+H]+</td>\n      <td>623.311564</td>\n      <td>Major</td>\n      <td>COc1cc2c3c(c1OC)Oc1ccc(cc1)C[C@@H]1c4c(cc(OC)c...</td>\n      <td>C38H42N2O6</td>\n      <td>Alkaloids-pos-mix47</td>\n      <td>[2.631]</td>\n      <td>Cycleanine</td>\n      <td>...</td>\n      <td>2.906783</td>\n      <td>10850.0</td>\n      <td>69.0</td>\n      <td>[730, 739, 800]</td>\n      <td>0.005343</td>\n      <td>44.05249934859576\\t15.0\\n77.03397512913392\\t13...</td>\n      <td>1047.0</td>\n      <td>9.745782e-04</td>\n      <td>44.05249934859576\\t15.0\\n77.03397512913392\\t13...</td>\n      <td>0.904700</td>\n    </tr>\n  </tbody>\n</table>\n<p>565 rows × 22 columns</p>\n</div>"
     },
     "execution_count": 125,
     "metadata": {},
     "output_type": "execute_result"
    }
   ],
   "source": [
    "library_curated"
   ],
   "metadata": {
    "collapsed": false,
    "pycharm": {
     "name": "#%%\n"
    }
   }
  },
  {
   "cell_type": "code",
   "execution_count": 126,
   "outputs": [],
   "source": [
    "pmz_offset = abs(library_curated['precursor_mz']-library_curated['reference_mz'])"
   ],
   "metadata": {
    "collapsed": false,
    "pycharm": {
     "name": "#%%\n"
    }
   }
  },
  {
   "cell_type": "code",
   "execution_count": 130,
   "outputs": [
    {
     "data": {
      "text/plain": "                             name          CAS                  mix  \\\n6                        Xanthine      69-89-6   Alkaloids-pos-mix1   \n11                     Coenzyme A      85-61-0   Alkaloids-pos-mix2   \n22          Sanguinarine chloride    5578-73-4   Alkaloids-pos-mix3   \n44            Pilocarpine nitrate     148-72-1   Alkaloids-pos-mix5   \n81              Indole-3-carbinol     700-06-1   Alkaloids-pos-mix9   \n94            Tetrahydroberberine     522-97-4  Alkaloids-pos-mix10   \n106         Catharanthine sulfate   70674-90-7  Alkaloids-pos-mix11   \n111                   Tabersonine    4429-63-4  Alkaloids-pos-mix12   \n134         Berberrubine chloride   15401-69-1  Alkaloids-pos-mix14   \n142                    Solasonine   19121-58-5  Alkaloids-pos-mix15   \n148                 (S)-Indoximod   21339-55-9  Alkaloids-pos-mix15   \n190               Tuberostemonine       1/2/79  Alkaloids-pos-mix20   \n196                      Fuziline   80665-72-1  Alkaloids-pos-mix20   \n198                    Hupehenine   98243-57-3  Alkaloids-pos-mix20   \n207                    Khasianine   32449-98-2  Alkaloids-pos-mix21   \n224      TOMATIDINE HYDROCHLORIDE    6192-62-7  Alkaloids-pos-mix23   \n239         9-Methoxycamptothecin   39026-92-1  Alkaloids-pos-mix25   \n255                      Myosmine     532-12-7  Alkaloids-pos-mix26   \n259                 (+)-Sparteine     492-08-0  Alkaloids-pos-mix27   \n269        Tetrahydroepiberberine   38853-67-7  Alkaloids-pos-mix28   \n287            Hydroxy-α-sanshool   83883-10-7  Alkaloids-pos-mix29   \n289      1,3,7-Trimethyluric acid    5415-44-1  Alkaloids-pos-mix30   \n291  6-Methoxydihydrosanguinarine   72401-54-8  Alkaloids-pos-mix30   \n300       Harmaline hydrochloride     363-11-1  Alkaloids-pos-mix31   \n302                      NITIDINE    6872-57-7  Alkaloids-pos-mix31   \n309                 Strictosamide   23141-25-5  Alkaloids-pos-mix32   \n328                     Hirsutine    7729-23-9  Alkaloids-pos-mix33   \n329                    Tomatidine      77-59-8  Alkaloids-pos-mix34   \n335               (R,S)-Anatabine    2743-90-0  Alkaloids-pos-mix34   \n339                  Caulilexin C   30536-48-2  Alkaloids-pos-mix35   \n346                     Dimebolin    3613-73-8  Alkaloids-pos-mix35   \n351        N-Benzyloctadecanamide    5327-45-7  Alkaloids-pos-mix36   \n369                     Coryneine    7224-66-0  Alkaloids-pos-mix38   \n379                   Vincristine      57-22-7  Alkaloids-pos-mix39   \n388               (±)-Huperzine A  120786-18-7  Alkaloids-pos-mix40   \n389                      Ricinine     524-40-3  Alkaloids-pos-mix40   \n391        2,3-Dibromomaleinimide    1122-10-7  Alkaloids-pos-mix40   \n393                   Veratrosine     475-00-3  Alkaloids-pos-mix40   \n399                   Apoatropine     500-55-0  Alkaloids-pos-mix41   \n409                    Spongosine   24723-77-1  Alkaloids-pos-mix42   \n418                    Corynoline   18797-79-0  Alkaloids-pos-mix43   \n429                Seneciphylline     480-81-9  Alkaloids-pos-mix44   \n440                  Yunaconitine   70578-24-4  Alkaloids-pos-mix45   \n441           N-Benzylpalmitamide   74058-71-2  Alkaloids-pos-mix45   \n449                  Sempervirine    6882-99-1  Alkaloids-pos-mix46   \n451           Tetrahydrocoptisine    4312-32-7  Alkaloids-pos-mix46   \n456                  Schinifoline   80554-58-1  Alkaloids-pos-mix46   \n457    4,5-Dimethoxycanthin-6-one   18110-87-7  Alkaloids-pos-mix46   \n458    3-Hydroxy-2-methylpyridine    1121-25-1  Alkaloids-pos-mix47   \n459                      Oxindole      59-48-3  Alkaloids-pos-mix47   \n466           Histamine Phosphate      51-74-1  Alkaloids-pos-mix48   \n\n                                                smiles         formula  \\\n6                         O=c1[nH]c(=O)c2[nH]cnc2[nH]1        C5H4N4O2   \n11   CC(C)(COP(=O)(O)OP(=O)(O)OC[C@H]1O[C@@H](n2cnc...  C21H36N7O16P3S   \n22        C[n+]1cc2c3c(ccc2c2ccc4cc5c(cc4c21)OCO5)OCO3      C20H14NO4+   \n44                    CC[C@@H]1C(=O)OC[C@@H]1Cc1cncn1C      C11H16N2O2   \n81                                  OCc1c[nH]c2ccccc12          C9H9NO   \n94             COc1ccc2c(c1OC)CN1CCc3cc4c(cc3C1C2)OCO4       C20H21NO4   \n106  CCC1=C[C@@H]2CN3CCc4c([nH]c5ccccc45)[C@@](C(=O...      C21H24N2O2   \n111  CC[C@]12C=CCN3CC[C@]4(C(=C(C(=O)OC)C1)Nc1ccccc...      C21H24N2O2   \n134         COc1ccc2cc3[n+](cc2c1O)CCc1cc2c(cc1-3)OCO2      C19H16NO4+   \n142  C[C@@H]1O[C@@H](O[C@@H]2[C@@H](O[C@@H]3O[C@H](...      C45H73NO16   \n148                    Cn1cc(C[C@H](N)C(=O)O)c2ccccc21      C12H14N2O2   \n190  CC[C@H]1[C@@H]2OC(=O)[C@@H](C)[C@@H]2[C@H]2C[C...       C22H33NO4   \n196  CCN1C[C@]2(COC)CC[C@H](O)[C@@]34[C@@H]5C[C@H]6...       C24H39NO7   \n198  C[C@H]1CC[C@H]2[C@H](C)[C@@H]3CC[C@H]4[C@@H]5C...       C27H45NO2   \n207  C[C@@H]1O[C@@H](O[C@@H]2[C@@H](CO)O[C@@H](O[C@...      C39H63NO11   \n224  C[C@H]1CC[C@]2(NC1)O[C@H]1C[C@H]3[C@@H]4CC[C@H...       C27H45NO2   \n239  CC[C@@]1(O)C(=O)OCc2c1cc1n(c2=O)Cc2cc3c(OC)ccc...      C21H18N2O5   \n255                                 c1cncc(C2=NCCC2)c1         C9H10N2   \n259       C1CCN2C[C@H]3C[C@H](CN4CCCC[C@H]34)[C@@H]2C1        C15H26N2   \n269            COc1cc2c(cc1OC)C1Cc3ccc4c(c3CN1CC2)OCO4       C20H21NO4   \n287               C/C=C/C=C/C=C\\CC/C=C/C(=O)NCC(C)(C)O       C16H25NO2   \n289                      Cn1c(=O)c2c(nc(O)n2C)n(C)c1=O       C8H10N4O3   \n291       COC1c2c(ccc3c2OCO3)-c2ccc3cc4c(cc3c2N1C)OCO4       C21H17NO5   \n300                     COc1ccc2c3c([nH]c2c1)C(C)=NCC3       C13H14N2O   \n302        COc1cc2c[n+](C)c3c4cc5c(cc4ccc3c2cc1OC)OCO5      C21H18NO4+   \n309  C=C[C@H]1[C@H](O[C@@H]2O[C@H](CO)[C@@H](O)[C@H...      C26H30N2O8   \n328  CC[C@H]1CN2CCc3c([nH]c4ccccc34)[C@H]2C[C@@H]1/...      C22H28N2O3   \n329  C[C@H]1CC[C@]2(NC1)O[C@H]1C[C@H]3[C@@H]4CC[C@H...       C27H45NO2   \n335                                C1=CCC(c2cccnc2)NC1        C10H12N2   \n339                              COn1cc(CC#N)c2ccccc21       C11H10N2O   \n346           Cc1ccc2c(c1)c1c(n2CCc2ccc(C)nc2)CCN(C)C1        C21H25N3   \n351                   CCCCCCCCCCCCCCCCCC(=O)NCc1ccccc1        C25H43NO   \n369                        C[N+](C)(C)CCc1ccc(O)c(O)c1      C11H18NO2+   \n379  CC[C@]1(O)C[C@@H]2C[N@](CCc3c([nH]c4ccccc34)[C...     C46H56N4O10   \n388               CC=C1C2C=C(C)CC1(N)c1ccc(=O)[nH]c1C2       C15H18N2O   \n389                               COc1ccn(C)c(=O)c1C#N        C8H8N2O2   \n391                               O=C1NC(=O)C(Br)=C1Br       C4HBr2NO2   \n393  Cc1c([C@H](C)[C@@H]2NC[C@@H](C)C[C@H]2O)ccc2c1...       C33H49NO7   \n399   C=C(C(=O)O[C@@H]1C[C@@H]2CC[C@H](C1)N2C)c1ccccc1       C17H21NO2   \n409  COc1nc(N)c2ncn([C@@H]3O[C@H](CO)[C@@H](O)[C@H]...      C11H15N5O5   \n418  CN1Cc2c(ccc3c2OCO3)[C@@]2(C)[C@@H](O)Cc3cc4c(c...       C21H21NO5   \n429  C=C1C/C(=C/C)C(=O)O[C@@H]2CCN3CC=C(COC(=O)[C@]...       C18H23NO5   \n440  CCN1C[C@@]2(COC)[C@H]3[C@@H](OC)[C@H]4C1[C@]3(...      C35H49NO11   \n441                     CCCCCCCCCCCCCCCC(=O)NCc1ccccc1        C23H39NO   \n449          c1ccc2c(c1)[nH]c1c2cc[n+]2cc3c(cc12)CCCC3       C19H17N2+   \n451           c1cc2c(c3c1CC1c4cc5c(cc4CCN1C3)OCO5)OCO2       C19H17NO4   \n456                         CCCCCCCc1cc(=O)c2ccccc2n1C        C17H23NO   \n457                 COc1c(OC)c2nccc3c4ccccc4n(c1=O)c23      C16H12N2O3   \n458                                         Cc1ncccc1O          C6H7NO   \n459                                    O=C1Cc2ccccc2N1          C8H7NO   \n466                                      NCCc1c[nH]cn1          C5H9N3   \n\n       rt_reference   mono_mass        [M]+      [M+H]+     [M+Na]+  \\\n6    [0.485, 0.363]  152.033425    0.000000  153.040702  175.022646   \n11              NaN  767.115209    0.000000  768.122487  790.104431   \n22           [2.85]  332.091734  332.091734    0.000000    0.000000   \n44          [1.248]  208.121178    0.000000  209.128454  231.110399   \n81          [2.215]  147.068414    0.000000  148.075690  170.057635   \n94          [2.803]  339.147058    0.000000  340.154335  362.136279   \n106         [2.926]  336.183778    0.000000  337.191055  359.172999   \n111         [3.042]  336.183778    0.000000  337.191055  359.172999   \n134           [1.7]  322.107384  322.107384    0.000000    0.000000   \n142         [2.953]  883.492935    0.000000  884.500212  906.482156   \n148         [2.041]  218.105528    0.000000  219.112804  241.094748   \n190  [1.849, 2.483]  375.240958    0.000000  376.248235  398.230179   \n196          [1.99]  453.272653    0.000000  454.279929  476.261873   \n198         [2.915]  415.345030    0.000000  416.352306  438.334250   \n207          [3.23]  721.440112    0.000000  722.447388  744.429333   \n224          [3.78]  415.345030    0.000000  416.352306  438.334250   \n239         [1.937]  378.121572    0.000000  379.128848  401.110792   \n255  [0.351, 0.501]  146.084398    0.000000  147.091675  169.073619   \n259  [0.604, 0.934]  234.209599    0.000000  235.216875  257.198820   \n269             NaN  339.147058    0.000000  340.154335  362.136279   \n287             NaN  263.188529    0.000000  264.195806  286.177750   \n289         [3.278]  210.075290    0.000000  211.082567  233.064511   \n291          [3.23]  363.110673    0.000000  364.117949  386.099893   \n300         [2.377]  214.110613    0.000000  215.117889  237.099834   \n302         [3.015]  348.123035  348.123035    0.000000    0.000000   \n309         [2.213]  498.200216    0.000000  499.207492  521.189437   \n328         [3.479]  368.209993    0.000000  369.217269  391.199213   \n329         [4.111]  415.345030    0.000000  416.352306  438.334250   \n335  [0.348, 0.498]  160.100048    0.000000  161.107325  183.089269   \n339          [0.27]  186.079313    0.000000  187.086589  209.068534   \n346         [2.006]  319.204848    0.000000  320.212124  342.194069   \n351  [4.991, 7.603]  373.334465    0.000000  374.341742  396.323686   \n369         [2.663]  196.133205  196.133205    0.000000    0.000000   \n379         [1.571]  824.399644    0.000000  825.406920  847.388865   \n388         [2.812]  242.141913    0.000000  243.149190  265.131134   \n389         [1.916]  164.058578    0.000000  165.065854  187.047798   \n391             NaN  252.837402    0.000000  253.844680  275.826624   \n393         [2.554]  571.350903    0.000000  572.358179  594.340124   \n399         [1.349]  271.157229    0.000000  272.164505  294.146450   \n409         [2.847]  297.107319    0.000000  298.114595  320.096539   \n418         [3.591]  367.141973    0.000000  368.149249  390.131193   \n429  [2.107, 4.907]  333.157623    0.000000  334.164899  356.146843   \n440          [3.58]  659.330561    0.000000  660.337838  682.319782   \n441         [7.197]  345.303165    0.000000  346.310441  368.292386   \n449             NaN  273.138625  273.138625    0.000000    0.000000   \n451         [2.692]  323.115758    0.000000  324.123035  346.104979   \n456   [4.24, 4.294]  257.177964    0.000000  258.185241  280.167185   \n457  [3.586, 3.643]  280.084792    0.000000  281.092069  303.074013   \n458         [0.912]  109.052764    0.000000  110.060040  132.041985   \n459         [3.862]  133.052764    0.000000  134.060040  156.041985   \n466         [1.966]  111.079647    0.000000  112.086924  134.068868   \n\n       [M+NH4]+                         comment  \n6    170.067251                   other reasons  \n11   785.149036           no rt reference given  \n22     0.000000  feature found, no ms2 assigned  \n44   226.155003  feature found, no ms2 assigned  \n81   165.102239                no feature found  \n94   357.180884  feature found, no ms2 assigned  \n106  354.217604  feature found, no ms2 assigned  \n111  354.217604  feature found, no ms2 assigned  \n134    0.000000                no feature found  \n142  901.526761  feature found, no ms2 assigned  \n148  236.139353  feature found, no ms2 assigned  \n190  393.274784                   other reasons  \n196  471.306478  feature found, no ms2 assigned  \n198  433.378855  feature found, no ms2 assigned  \n207  739.473937  feature found, no ms2 assigned  \n224  433.378855  feature found, no ms2 assigned  \n239  396.155397                no feature found  \n255  164.118224                   other reasons  \n259  252.243424                no feature found  \n269  357.180884           no rt reference given  \n287  281.222355           no rt reference given  \n289  228.109116                no feature found  \n291  381.144498                no feature found  \n300  232.144439  feature found, no ms2 assigned  \n302    0.000000  feature found, no ms2 assigned  \n309  516.234041                no feature found  \n328  386.243818  feature found, no ms2 assigned  \n329  433.378855                no feature found  \n335  178.133874                   other reasons  \n339  204.113138                no feature found  \n346  337.238673  feature found, no ms2 assigned  \n351  391.368291                no feature found  \n369    0.000000                no feature found  \n379  842.433470                no feature found  \n388  260.175739                no feature found  \n389  182.092403                no feature found  \n391  270.871229           no rt reference given  \n393  589.384729  feature found, no ms2 assigned  \n399  289.191055                no feature found  \n409  315.141144                no feature found  \n418  385.175798                no feature found  \n429  351.191448                no feature found  \n440  677.364387  feature found, no ms2 assigned  \n441  363.336990                no feature found  \n449    0.000000           no rt reference given  \n451  341.149584  feature found, no ms2 assigned  \n456  275.211790  feature found, no ms2 assigned  \n457  298.118618  feature found, no ms2 assigned  \n458  127.086589                no feature found  \n459  151.086589                no feature found  \n466  129.113473                no feature found  ",
      "text/html": "<div>\n<style scoped>\n    .dataframe tbody tr th:only-of-type {\n        vertical-align: middle;\n    }\n\n    .dataframe tbody tr th {\n        vertical-align: top;\n    }\n\n    .dataframe thead th {\n        text-align: right;\n    }\n</style>\n<table border=\"1\" class=\"dataframe\">\n  <thead>\n    <tr style=\"text-align: right;\">\n      <th></th>\n      <th>name</th>\n      <th>CAS</th>\n      <th>mix</th>\n      <th>smiles</th>\n      <th>formula</th>\n      <th>rt_reference</th>\n      <th>mono_mass</th>\n      <th>[M]+</th>\n      <th>[M+H]+</th>\n      <th>[M+Na]+</th>\n      <th>[M+NH4]+</th>\n      <th>comment</th>\n    </tr>\n  </thead>\n  <tbody>\n    <tr>\n      <th>6</th>\n      <td>Xanthine</td>\n      <td>69-89-6</td>\n      <td>Alkaloids-pos-mix1</td>\n      <td>O=c1[nH]c(=O)c2[nH]cnc2[nH]1</td>\n      <td>C5H4N4O2</td>\n      <td>[0.485, 0.363]</td>\n      <td>152.033425</td>\n      <td>0.000000</td>\n      <td>153.040702</td>\n      <td>175.022646</td>\n      <td>170.067251</td>\n      <td>other reasons</td>\n    </tr>\n    <tr>\n      <th>11</th>\n      <td>Coenzyme A</td>\n      <td>85-61-0</td>\n      <td>Alkaloids-pos-mix2</td>\n      <td>CC(C)(COP(=O)(O)OP(=O)(O)OC[C@H]1O[C@@H](n2cnc...</td>\n      <td>C21H36N7O16P3S</td>\n      <td>NaN</td>\n      <td>767.115209</td>\n      <td>0.000000</td>\n      <td>768.122487</td>\n      <td>790.104431</td>\n      <td>785.149036</td>\n      <td>no rt reference given</td>\n    </tr>\n    <tr>\n      <th>22</th>\n      <td>Sanguinarine chloride</td>\n      <td>5578-73-4</td>\n      <td>Alkaloids-pos-mix3</td>\n      <td>C[n+]1cc2c3c(ccc2c2ccc4cc5c(cc4c21)OCO5)OCO3</td>\n      <td>C20H14NO4+</td>\n      <td>[2.85]</td>\n      <td>332.091734</td>\n      <td>332.091734</td>\n      <td>0.000000</td>\n      <td>0.000000</td>\n      <td>0.000000</td>\n      <td>feature found, no ms2 assigned</td>\n    </tr>\n    <tr>\n      <th>44</th>\n      <td>Pilocarpine nitrate</td>\n      <td>148-72-1</td>\n      <td>Alkaloids-pos-mix5</td>\n      <td>CC[C@@H]1C(=O)OC[C@@H]1Cc1cncn1C</td>\n      <td>C11H16N2O2</td>\n      <td>[1.248]</td>\n      <td>208.121178</td>\n      <td>0.000000</td>\n      <td>209.128454</td>\n      <td>231.110399</td>\n      <td>226.155003</td>\n      <td>feature found, no ms2 assigned</td>\n    </tr>\n    <tr>\n      <th>81</th>\n      <td>Indole-3-carbinol</td>\n      <td>700-06-1</td>\n      <td>Alkaloids-pos-mix9</td>\n      <td>OCc1c[nH]c2ccccc12</td>\n      <td>C9H9NO</td>\n      <td>[2.215]</td>\n      <td>147.068414</td>\n      <td>0.000000</td>\n      <td>148.075690</td>\n      <td>170.057635</td>\n      <td>165.102239</td>\n      <td>no feature found</td>\n    </tr>\n    <tr>\n      <th>94</th>\n      <td>Tetrahydroberberine</td>\n      <td>522-97-4</td>\n      <td>Alkaloids-pos-mix10</td>\n      <td>COc1ccc2c(c1OC)CN1CCc3cc4c(cc3C1C2)OCO4</td>\n      <td>C20H21NO4</td>\n      <td>[2.803]</td>\n      <td>339.147058</td>\n      <td>0.000000</td>\n      <td>340.154335</td>\n      <td>362.136279</td>\n      <td>357.180884</td>\n      <td>feature found, no ms2 assigned</td>\n    </tr>\n    <tr>\n      <th>106</th>\n      <td>Catharanthine sulfate</td>\n      <td>70674-90-7</td>\n      <td>Alkaloids-pos-mix11</td>\n      <td>CCC1=C[C@@H]2CN3CCc4c([nH]c5ccccc45)[C@@](C(=O...</td>\n      <td>C21H24N2O2</td>\n      <td>[2.926]</td>\n      <td>336.183778</td>\n      <td>0.000000</td>\n      <td>337.191055</td>\n      <td>359.172999</td>\n      <td>354.217604</td>\n      <td>feature found, no ms2 assigned</td>\n    </tr>\n    <tr>\n      <th>111</th>\n      <td>Tabersonine</td>\n      <td>4429-63-4</td>\n      <td>Alkaloids-pos-mix12</td>\n      <td>CC[C@]12C=CCN3CC[C@]4(C(=C(C(=O)OC)C1)Nc1ccccc...</td>\n      <td>C21H24N2O2</td>\n      <td>[3.042]</td>\n      <td>336.183778</td>\n      <td>0.000000</td>\n      <td>337.191055</td>\n      <td>359.172999</td>\n      <td>354.217604</td>\n      <td>feature found, no ms2 assigned</td>\n    </tr>\n    <tr>\n      <th>134</th>\n      <td>Berberrubine chloride</td>\n      <td>15401-69-1</td>\n      <td>Alkaloids-pos-mix14</td>\n      <td>COc1ccc2cc3[n+](cc2c1O)CCc1cc2c(cc1-3)OCO2</td>\n      <td>C19H16NO4+</td>\n      <td>[1.7]</td>\n      <td>322.107384</td>\n      <td>322.107384</td>\n      <td>0.000000</td>\n      <td>0.000000</td>\n      <td>0.000000</td>\n      <td>no feature found</td>\n    </tr>\n    <tr>\n      <th>142</th>\n      <td>Solasonine</td>\n      <td>19121-58-5</td>\n      <td>Alkaloids-pos-mix15</td>\n      <td>C[C@@H]1O[C@@H](O[C@@H]2[C@@H](O[C@@H]3O[C@H](...</td>\n      <td>C45H73NO16</td>\n      <td>[2.953]</td>\n      <td>883.492935</td>\n      <td>0.000000</td>\n      <td>884.500212</td>\n      <td>906.482156</td>\n      <td>901.526761</td>\n      <td>feature found, no ms2 assigned</td>\n    </tr>\n    <tr>\n      <th>148</th>\n      <td>(S)-Indoximod</td>\n      <td>21339-55-9</td>\n      <td>Alkaloids-pos-mix15</td>\n      <td>Cn1cc(C[C@H](N)C(=O)O)c2ccccc21</td>\n      <td>C12H14N2O2</td>\n      <td>[2.041]</td>\n      <td>218.105528</td>\n      <td>0.000000</td>\n      <td>219.112804</td>\n      <td>241.094748</td>\n      <td>236.139353</td>\n      <td>feature found, no ms2 assigned</td>\n    </tr>\n    <tr>\n      <th>190</th>\n      <td>Tuberostemonine</td>\n      <td>1/2/79</td>\n      <td>Alkaloids-pos-mix20</td>\n      <td>CC[C@H]1[C@@H]2OC(=O)[C@@H](C)[C@@H]2[C@H]2C[C...</td>\n      <td>C22H33NO4</td>\n      <td>[1.849, 2.483]</td>\n      <td>375.240958</td>\n      <td>0.000000</td>\n      <td>376.248235</td>\n      <td>398.230179</td>\n      <td>393.274784</td>\n      <td>other reasons</td>\n    </tr>\n    <tr>\n      <th>196</th>\n      <td>Fuziline</td>\n      <td>80665-72-1</td>\n      <td>Alkaloids-pos-mix20</td>\n      <td>CCN1C[C@]2(COC)CC[C@H](O)[C@@]34[C@@H]5C[C@H]6...</td>\n      <td>C24H39NO7</td>\n      <td>[1.99]</td>\n      <td>453.272653</td>\n      <td>0.000000</td>\n      <td>454.279929</td>\n      <td>476.261873</td>\n      <td>471.306478</td>\n      <td>feature found, no ms2 assigned</td>\n    </tr>\n    <tr>\n      <th>198</th>\n      <td>Hupehenine</td>\n      <td>98243-57-3</td>\n      <td>Alkaloids-pos-mix20</td>\n      <td>C[C@H]1CC[C@H]2[C@H](C)[C@@H]3CC[C@H]4[C@@H]5C...</td>\n      <td>C27H45NO2</td>\n      <td>[2.915]</td>\n      <td>415.345030</td>\n      <td>0.000000</td>\n      <td>416.352306</td>\n      <td>438.334250</td>\n      <td>433.378855</td>\n      <td>feature found, no ms2 assigned</td>\n    </tr>\n    <tr>\n      <th>207</th>\n      <td>Khasianine</td>\n      <td>32449-98-2</td>\n      <td>Alkaloids-pos-mix21</td>\n      <td>C[C@@H]1O[C@@H](O[C@@H]2[C@@H](CO)O[C@@H](O[C@...</td>\n      <td>C39H63NO11</td>\n      <td>[3.23]</td>\n      <td>721.440112</td>\n      <td>0.000000</td>\n      <td>722.447388</td>\n      <td>744.429333</td>\n      <td>739.473937</td>\n      <td>feature found, no ms2 assigned</td>\n    </tr>\n    <tr>\n      <th>224</th>\n      <td>TOMATIDINE HYDROCHLORIDE</td>\n      <td>6192-62-7</td>\n      <td>Alkaloids-pos-mix23</td>\n      <td>C[C@H]1CC[C@]2(NC1)O[C@H]1C[C@H]3[C@@H]4CC[C@H...</td>\n      <td>C27H45NO2</td>\n      <td>[3.78]</td>\n      <td>415.345030</td>\n      <td>0.000000</td>\n      <td>416.352306</td>\n      <td>438.334250</td>\n      <td>433.378855</td>\n      <td>feature found, no ms2 assigned</td>\n    </tr>\n    <tr>\n      <th>239</th>\n      <td>9-Methoxycamptothecin</td>\n      <td>39026-92-1</td>\n      <td>Alkaloids-pos-mix25</td>\n      <td>CC[C@@]1(O)C(=O)OCc2c1cc1n(c2=O)Cc2cc3c(OC)ccc...</td>\n      <td>C21H18N2O5</td>\n      <td>[1.937]</td>\n      <td>378.121572</td>\n      <td>0.000000</td>\n      <td>379.128848</td>\n      <td>401.110792</td>\n      <td>396.155397</td>\n      <td>no feature found</td>\n    </tr>\n    <tr>\n      <th>255</th>\n      <td>Myosmine</td>\n      <td>532-12-7</td>\n      <td>Alkaloids-pos-mix26</td>\n      <td>c1cncc(C2=NCCC2)c1</td>\n      <td>C9H10N2</td>\n      <td>[0.351, 0.501]</td>\n      <td>146.084398</td>\n      <td>0.000000</td>\n      <td>147.091675</td>\n      <td>169.073619</td>\n      <td>164.118224</td>\n      <td>other reasons</td>\n    </tr>\n    <tr>\n      <th>259</th>\n      <td>(+)-Sparteine</td>\n      <td>492-08-0</td>\n      <td>Alkaloids-pos-mix27</td>\n      <td>C1CCN2C[C@H]3C[C@H](CN4CCCC[C@H]34)[C@@H]2C1</td>\n      <td>C15H26N2</td>\n      <td>[0.604, 0.934]</td>\n      <td>234.209599</td>\n      <td>0.000000</td>\n      <td>235.216875</td>\n      <td>257.198820</td>\n      <td>252.243424</td>\n      <td>no feature found</td>\n    </tr>\n    <tr>\n      <th>269</th>\n      <td>Tetrahydroepiberberine</td>\n      <td>38853-67-7</td>\n      <td>Alkaloids-pos-mix28</td>\n      <td>COc1cc2c(cc1OC)C1Cc3ccc4c(c3CN1CC2)OCO4</td>\n      <td>C20H21NO4</td>\n      <td>NaN</td>\n      <td>339.147058</td>\n      <td>0.000000</td>\n      <td>340.154335</td>\n      <td>362.136279</td>\n      <td>357.180884</td>\n      <td>no rt reference given</td>\n    </tr>\n    <tr>\n      <th>287</th>\n      <td>Hydroxy-α-sanshool</td>\n      <td>83883-10-7</td>\n      <td>Alkaloids-pos-mix29</td>\n      <td>C/C=C/C=C/C=C\\CC/C=C/C(=O)NCC(C)(C)O</td>\n      <td>C16H25NO2</td>\n      <td>NaN</td>\n      <td>263.188529</td>\n      <td>0.000000</td>\n      <td>264.195806</td>\n      <td>286.177750</td>\n      <td>281.222355</td>\n      <td>no rt reference given</td>\n    </tr>\n    <tr>\n      <th>289</th>\n      <td>1,3,7-Trimethyluric acid</td>\n      <td>5415-44-1</td>\n      <td>Alkaloids-pos-mix30</td>\n      <td>Cn1c(=O)c2c(nc(O)n2C)n(C)c1=O</td>\n      <td>C8H10N4O3</td>\n      <td>[3.278]</td>\n      <td>210.075290</td>\n      <td>0.000000</td>\n      <td>211.082567</td>\n      <td>233.064511</td>\n      <td>228.109116</td>\n      <td>no feature found</td>\n    </tr>\n    <tr>\n      <th>291</th>\n      <td>6-Methoxydihydrosanguinarine</td>\n      <td>72401-54-8</td>\n      <td>Alkaloids-pos-mix30</td>\n      <td>COC1c2c(ccc3c2OCO3)-c2ccc3cc4c(cc3c2N1C)OCO4</td>\n      <td>C21H17NO5</td>\n      <td>[3.23]</td>\n      <td>363.110673</td>\n      <td>0.000000</td>\n      <td>364.117949</td>\n      <td>386.099893</td>\n      <td>381.144498</td>\n      <td>no feature found</td>\n    </tr>\n    <tr>\n      <th>300</th>\n      <td>Harmaline hydrochloride</td>\n      <td>363-11-1</td>\n      <td>Alkaloids-pos-mix31</td>\n      <td>COc1ccc2c3c([nH]c2c1)C(C)=NCC3</td>\n      <td>C13H14N2O</td>\n      <td>[2.377]</td>\n      <td>214.110613</td>\n      <td>0.000000</td>\n      <td>215.117889</td>\n      <td>237.099834</td>\n      <td>232.144439</td>\n      <td>feature found, no ms2 assigned</td>\n    </tr>\n    <tr>\n      <th>302</th>\n      <td>NITIDINE</td>\n      <td>6872-57-7</td>\n      <td>Alkaloids-pos-mix31</td>\n      <td>COc1cc2c[n+](C)c3c4cc5c(cc4ccc3c2cc1OC)OCO5</td>\n      <td>C21H18NO4+</td>\n      <td>[3.015]</td>\n      <td>348.123035</td>\n      <td>348.123035</td>\n      <td>0.000000</td>\n      <td>0.000000</td>\n      <td>0.000000</td>\n      <td>feature found, no ms2 assigned</td>\n    </tr>\n    <tr>\n      <th>309</th>\n      <td>Strictosamide</td>\n      <td>23141-25-5</td>\n      <td>Alkaloids-pos-mix32</td>\n      <td>C=C[C@H]1[C@H](O[C@@H]2O[C@H](CO)[C@@H](O)[C@H...</td>\n      <td>C26H30N2O8</td>\n      <td>[2.213]</td>\n      <td>498.200216</td>\n      <td>0.000000</td>\n      <td>499.207492</td>\n      <td>521.189437</td>\n      <td>516.234041</td>\n      <td>no feature found</td>\n    </tr>\n    <tr>\n      <th>328</th>\n      <td>Hirsutine</td>\n      <td>7729-23-9</td>\n      <td>Alkaloids-pos-mix33</td>\n      <td>CC[C@H]1CN2CCc3c([nH]c4ccccc34)[C@H]2C[C@@H]1/...</td>\n      <td>C22H28N2O3</td>\n      <td>[3.479]</td>\n      <td>368.209993</td>\n      <td>0.000000</td>\n      <td>369.217269</td>\n      <td>391.199213</td>\n      <td>386.243818</td>\n      <td>feature found, no ms2 assigned</td>\n    </tr>\n    <tr>\n      <th>329</th>\n      <td>Tomatidine</td>\n      <td>77-59-8</td>\n      <td>Alkaloids-pos-mix34</td>\n      <td>C[C@H]1CC[C@]2(NC1)O[C@H]1C[C@H]3[C@@H]4CC[C@H...</td>\n      <td>C27H45NO2</td>\n      <td>[4.111]</td>\n      <td>415.345030</td>\n      <td>0.000000</td>\n      <td>416.352306</td>\n      <td>438.334250</td>\n      <td>433.378855</td>\n      <td>no feature found</td>\n    </tr>\n    <tr>\n      <th>335</th>\n      <td>(R,S)-Anatabine</td>\n      <td>2743-90-0</td>\n      <td>Alkaloids-pos-mix34</td>\n      <td>C1=CCC(c2cccnc2)NC1</td>\n      <td>C10H12N2</td>\n      <td>[0.348, 0.498]</td>\n      <td>160.100048</td>\n      <td>0.000000</td>\n      <td>161.107325</td>\n      <td>183.089269</td>\n      <td>178.133874</td>\n      <td>other reasons</td>\n    </tr>\n    <tr>\n      <th>339</th>\n      <td>Caulilexin C</td>\n      <td>30536-48-2</td>\n      <td>Alkaloids-pos-mix35</td>\n      <td>COn1cc(CC#N)c2ccccc21</td>\n      <td>C11H10N2O</td>\n      <td>[0.27]</td>\n      <td>186.079313</td>\n      <td>0.000000</td>\n      <td>187.086589</td>\n      <td>209.068534</td>\n      <td>204.113138</td>\n      <td>no feature found</td>\n    </tr>\n    <tr>\n      <th>346</th>\n      <td>Dimebolin</td>\n      <td>3613-73-8</td>\n      <td>Alkaloids-pos-mix35</td>\n      <td>Cc1ccc2c(c1)c1c(n2CCc2ccc(C)nc2)CCN(C)C1</td>\n      <td>C21H25N3</td>\n      <td>[2.006]</td>\n      <td>319.204848</td>\n      <td>0.000000</td>\n      <td>320.212124</td>\n      <td>342.194069</td>\n      <td>337.238673</td>\n      <td>feature found, no ms2 assigned</td>\n    </tr>\n    <tr>\n      <th>351</th>\n      <td>N-Benzyloctadecanamide</td>\n      <td>5327-45-7</td>\n      <td>Alkaloids-pos-mix36</td>\n      <td>CCCCCCCCCCCCCCCCCC(=O)NCc1ccccc1</td>\n      <td>C25H43NO</td>\n      <td>[4.991, 7.603]</td>\n      <td>373.334465</td>\n      <td>0.000000</td>\n      <td>374.341742</td>\n      <td>396.323686</td>\n      <td>391.368291</td>\n      <td>no feature found</td>\n    </tr>\n    <tr>\n      <th>369</th>\n      <td>Coryneine</td>\n      <td>7224-66-0</td>\n      <td>Alkaloids-pos-mix38</td>\n      <td>C[N+](C)(C)CCc1ccc(O)c(O)c1</td>\n      <td>C11H18NO2+</td>\n      <td>[2.663]</td>\n      <td>196.133205</td>\n      <td>196.133205</td>\n      <td>0.000000</td>\n      <td>0.000000</td>\n      <td>0.000000</td>\n      <td>no feature found</td>\n    </tr>\n    <tr>\n      <th>379</th>\n      <td>Vincristine</td>\n      <td>57-22-7</td>\n      <td>Alkaloids-pos-mix39</td>\n      <td>CC[C@]1(O)C[C@@H]2C[N@](CCc3c([nH]c4ccccc34)[C...</td>\n      <td>C46H56N4O10</td>\n      <td>[1.571]</td>\n      <td>824.399644</td>\n      <td>0.000000</td>\n      <td>825.406920</td>\n      <td>847.388865</td>\n      <td>842.433470</td>\n      <td>no feature found</td>\n    </tr>\n    <tr>\n      <th>388</th>\n      <td>(±)-Huperzine A</td>\n      <td>120786-18-7</td>\n      <td>Alkaloids-pos-mix40</td>\n      <td>CC=C1C2C=C(C)CC1(N)c1ccc(=O)[nH]c1C2</td>\n      <td>C15H18N2O</td>\n      <td>[2.812]</td>\n      <td>242.141913</td>\n      <td>0.000000</td>\n      <td>243.149190</td>\n      <td>265.131134</td>\n      <td>260.175739</td>\n      <td>no feature found</td>\n    </tr>\n    <tr>\n      <th>389</th>\n      <td>Ricinine</td>\n      <td>524-40-3</td>\n      <td>Alkaloids-pos-mix40</td>\n      <td>COc1ccn(C)c(=O)c1C#N</td>\n      <td>C8H8N2O2</td>\n      <td>[1.916]</td>\n      <td>164.058578</td>\n      <td>0.000000</td>\n      <td>165.065854</td>\n      <td>187.047798</td>\n      <td>182.092403</td>\n      <td>no feature found</td>\n    </tr>\n    <tr>\n      <th>391</th>\n      <td>2,3-Dibromomaleinimide</td>\n      <td>1122-10-7</td>\n      <td>Alkaloids-pos-mix40</td>\n      <td>O=C1NC(=O)C(Br)=C1Br</td>\n      <td>C4HBr2NO2</td>\n      <td>NaN</td>\n      <td>252.837402</td>\n      <td>0.000000</td>\n      <td>253.844680</td>\n      <td>275.826624</td>\n      <td>270.871229</td>\n      <td>no rt reference given</td>\n    </tr>\n    <tr>\n      <th>393</th>\n      <td>Veratrosine</td>\n      <td>475-00-3</td>\n      <td>Alkaloids-pos-mix40</td>\n      <td>Cc1c([C@H](C)[C@@H]2NC[C@@H](C)C[C@H]2O)ccc2c1...</td>\n      <td>C33H49NO7</td>\n      <td>[2.554]</td>\n      <td>571.350903</td>\n      <td>0.000000</td>\n      <td>572.358179</td>\n      <td>594.340124</td>\n      <td>589.384729</td>\n      <td>feature found, no ms2 assigned</td>\n    </tr>\n    <tr>\n      <th>399</th>\n      <td>Apoatropine</td>\n      <td>500-55-0</td>\n      <td>Alkaloids-pos-mix41</td>\n      <td>C=C(C(=O)O[C@@H]1C[C@@H]2CC[C@H](C1)N2C)c1ccccc1</td>\n      <td>C17H21NO2</td>\n      <td>[1.349]</td>\n      <td>271.157229</td>\n      <td>0.000000</td>\n      <td>272.164505</td>\n      <td>294.146450</td>\n      <td>289.191055</td>\n      <td>no feature found</td>\n    </tr>\n    <tr>\n      <th>409</th>\n      <td>Spongosine</td>\n      <td>24723-77-1</td>\n      <td>Alkaloids-pos-mix42</td>\n      <td>COc1nc(N)c2ncn([C@@H]3O[C@H](CO)[C@@H](O)[C@H]...</td>\n      <td>C11H15N5O5</td>\n      <td>[2.847]</td>\n      <td>297.107319</td>\n      <td>0.000000</td>\n      <td>298.114595</td>\n      <td>320.096539</td>\n      <td>315.141144</td>\n      <td>no feature found</td>\n    </tr>\n    <tr>\n      <th>418</th>\n      <td>Corynoline</td>\n      <td>18797-79-0</td>\n      <td>Alkaloids-pos-mix43</td>\n      <td>CN1Cc2c(ccc3c2OCO3)[C@@]2(C)[C@@H](O)Cc3cc4c(c...</td>\n      <td>C21H21NO5</td>\n      <td>[3.591]</td>\n      <td>367.141973</td>\n      <td>0.000000</td>\n      <td>368.149249</td>\n      <td>390.131193</td>\n      <td>385.175798</td>\n      <td>no feature found</td>\n    </tr>\n    <tr>\n      <th>429</th>\n      <td>Seneciphylline</td>\n      <td>480-81-9</td>\n      <td>Alkaloids-pos-mix44</td>\n      <td>C=C1C/C(=C/C)C(=O)O[C@@H]2CCN3CC=C(COC(=O)[C@]...</td>\n      <td>C18H23NO5</td>\n      <td>[2.107, 4.907]</td>\n      <td>333.157623</td>\n      <td>0.000000</td>\n      <td>334.164899</td>\n      <td>356.146843</td>\n      <td>351.191448</td>\n      <td>no feature found</td>\n    </tr>\n    <tr>\n      <th>440</th>\n      <td>Yunaconitine</td>\n      <td>70578-24-4</td>\n      <td>Alkaloids-pos-mix45</td>\n      <td>CCN1C[C@@]2(COC)[C@H]3[C@@H](OC)[C@H]4C1[C@]3(...</td>\n      <td>C35H49NO11</td>\n      <td>[3.58]</td>\n      <td>659.330561</td>\n      <td>0.000000</td>\n      <td>660.337838</td>\n      <td>682.319782</td>\n      <td>677.364387</td>\n      <td>feature found, no ms2 assigned</td>\n    </tr>\n    <tr>\n      <th>441</th>\n      <td>N-Benzylpalmitamide</td>\n      <td>74058-71-2</td>\n      <td>Alkaloids-pos-mix45</td>\n      <td>CCCCCCCCCCCCCCCC(=O)NCc1ccccc1</td>\n      <td>C23H39NO</td>\n      <td>[7.197]</td>\n      <td>345.303165</td>\n      <td>0.000000</td>\n      <td>346.310441</td>\n      <td>368.292386</td>\n      <td>363.336990</td>\n      <td>no feature found</td>\n    </tr>\n    <tr>\n      <th>449</th>\n      <td>Sempervirine</td>\n      <td>6882-99-1</td>\n      <td>Alkaloids-pos-mix46</td>\n      <td>c1ccc2c(c1)[nH]c1c2cc[n+]2cc3c(cc12)CCCC3</td>\n      <td>C19H17N2+</td>\n      <td>NaN</td>\n      <td>273.138625</td>\n      <td>273.138625</td>\n      <td>0.000000</td>\n      <td>0.000000</td>\n      <td>0.000000</td>\n      <td>no rt reference given</td>\n    </tr>\n    <tr>\n      <th>451</th>\n      <td>Tetrahydrocoptisine</td>\n      <td>4312-32-7</td>\n      <td>Alkaloids-pos-mix46</td>\n      <td>c1cc2c(c3c1CC1c4cc5c(cc4CCN1C3)OCO5)OCO2</td>\n      <td>C19H17NO4</td>\n      <td>[2.692]</td>\n      <td>323.115758</td>\n      <td>0.000000</td>\n      <td>324.123035</td>\n      <td>346.104979</td>\n      <td>341.149584</td>\n      <td>feature found, no ms2 assigned</td>\n    </tr>\n    <tr>\n      <th>456</th>\n      <td>Schinifoline</td>\n      <td>80554-58-1</td>\n      <td>Alkaloids-pos-mix46</td>\n      <td>CCCCCCCc1cc(=O)c2ccccc2n1C</td>\n      <td>C17H23NO</td>\n      <td>[4.24, 4.294]</td>\n      <td>257.177964</td>\n      <td>0.000000</td>\n      <td>258.185241</td>\n      <td>280.167185</td>\n      <td>275.211790</td>\n      <td>feature found, no ms2 assigned</td>\n    </tr>\n    <tr>\n      <th>457</th>\n      <td>4,5-Dimethoxycanthin-6-one</td>\n      <td>18110-87-7</td>\n      <td>Alkaloids-pos-mix46</td>\n      <td>COc1c(OC)c2nccc3c4ccccc4n(c1=O)c23</td>\n      <td>C16H12N2O3</td>\n      <td>[3.586, 3.643]</td>\n      <td>280.084792</td>\n      <td>0.000000</td>\n      <td>281.092069</td>\n      <td>303.074013</td>\n      <td>298.118618</td>\n      <td>feature found, no ms2 assigned</td>\n    </tr>\n    <tr>\n      <th>458</th>\n      <td>3-Hydroxy-2-methylpyridine</td>\n      <td>1121-25-1</td>\n      <td>Alkaloids-pos-mix47</td>\n      <td>Cc1ncccc1O</td>\n      <td>C6H7NO</td>\n      <td>[0.912]</td>\n      <td>109.052764</td>\n      <td>0.000000</td>\n      <td>110.060040</td>\n      <td>132.041985</td>\n      <td>127.086589</td>\n      <td>no feature found</td>\n    </tr>\n    <tr>\n      <th>459</th>\n      <td>Oxindole</td>\n      <td>59-48-3</td>\n      <td>Alkaloids-pos-mix47</td>\n      <td>O=C1Cc2ccccc2N1</td>\n      <td>C8H7NO</td>\n      <td>[3.862]</td>\n      <td>133.052764</td>\n      <td>0.000000</td>\n      <td>134.060040</td>\n      <td>156.041985</td>\n      <td>151.086589</td>\n      <td>no feature found</td>\n    </tr>\n    <tr>\n      <th>466</th>\n      <td>Histamine Phosphate</td>\n      <td>51-74-1</td>\n      <td>Alkaloids-pos-mix48</td>\n      <td>NCCc1c[nH]cn1</td>\n      <td>C5H9N3</td>\n      <td>[1.966]</td>\n      <td>111.079647</td>\n      <td>0.000000</td>\n      <td>112.086924</td>\n      <td>134.068868</td>\n      <td>129.113473</td>\n      <td>no feature found</td>\n    </tr>\n  </tbody>\n</table>\n</div>"
     },
     "execution_count": 130,
     "metadata": {},
     "output_type": "execute_result"
    }
   ],
   "source": [
    "missing_df"
   ],
   "metadata": {
    "collapsed": false,
    "pycharm": {
     "name": "#%%\n"
    }
   }
  },
  {
   "cell_type": "code",
   "execution_count": 132,
   "outputs": [
    {
     "data": {
      "text/plain": "     precursor_mz  eic_center  eic_offset   rt_apex  rt_start    rt_end  \\\n667    322.105561  322.105232    0.004247  9.506535  9.333267  9.704200   \n143    322.106183  322.105232    0.004247  3.147603  3.089317  4.884150   \n3      322.107196  322.105232    0.004247  2.774055  2.740850  3.076317   \n\n     ms1_intensity  n_scnas      ms1_scan_range  reci_snr  pmz_offset  \\\n667         3618.0     70.0  [2148, 2191, 2219]  0.041961    0.000330   \n143        23087.0    328.0    [718, 727, 1047]  0.162709    0.000951   \n3        4047550.0     49.0     [666, 671, 716]  0.000622    0.001964   \n\n                                                  msms  ms2_scan_idx  \n667  45.03175603615964\\t26.0\\n46.0650472283238\\t31....        4045.0  \n143  55.05923601309141\\t26.0\\n57.91737238601614\\t26...        1713.0  \n3                                                  NaN           NaN  ",
      "text/html": "<div>\n<style scoped>\n    .dataframe tbody tr th:only-of-type {\n        vertical-align: middle;\n    }\n\n    .dataframe tbody tr th {\n        vertical-align: top;\n    }\n\n    .dataframe thead th {\n        text-align: right;\n    }\n</style>\n<table border=\"1\" class=\"dataframe\">\n  <thead>\n    <tr style=\"text-align: right;\">\n      <th></th>\n      <th>precursor_mz</th>\n      <th>eic_center</th>\n      <th>eic_offset</th>\n      <th>rt_apex</th>\n      <th>rt_start</th>\n      <th>rt_end</th>\n      <th>ms1_intensity</th>\n      <th>n_scnas</th>\n      <th>ms1_scan_range</th>\n      <th>reci_snr</th>\n      <th>pmz_offset</th>\n      <th>msms</th>\n      <th>ms2_scan_idx</th>\n    </tr>\n  </thead>\n  <tbody>\n    <tr>\n      <th>667</th>\n      <td>322.105561</td>\n      <td>322.105232</td>\n      <td>0.004247</td>\n      <td>9.506535</td>\n      <td>9.333267</td>\n      <td>9.704200</td>\n      <td>3618.0</td>\n      <td>70.0</td>\n      <td>[2148, 2191, 2219]</td>\n      <td>0.041961</td>\n      <td>0.000330</td>\n      <td>45.03175603615964\\t26.0\\n46.0650472283238\\t31....</td>\n      <td>4045.0</td>\n    </tr>\n    <tr>\n      <th>143</th>\n      <td>322.106183</td>\n      <td>322.105232</td>\n      <td>0.004247</td>\n      <td>3.147603</td>\n      <td>3.089317</td>\n      <td>4.884150</td>\n      <td>23087.0</td>\n      <td>328.0</td>\n      <td>[718, 727, 1047]</td>\n      <td>0.162709</td>\n      <td>0.000951</td>\n      <td>55.05923601309141\\t26.0\\n57.91737238601614\\t26...</td>\n      <td>1713.0</td>\n    </tr>\n    <tr>\n      <th>3</th>\n      <td>322.107196</td>\n      <td>322.105232</td>\n      <td>0.004247</td>\n      <td>2.774055</td>\n      <td>2.740850</td>\n      <td>3.076317</td>\n      <td>4047550.0</td>\n      <td>49.0</td>\n      <td>[666, 671, 716]</td>\n      <td>0.000622</td>\n      <td>0.001964</td>\n      <td>NaN</td>\n      <td>NaN</td>\n    </tr>\n  </tbody>\n</table>\n</div>"
     },
     "execution_count": 132,
     "metadata": {},
     "output_type": "execute_result"
    }
   ],
   "source": [
    "row = missing_df.loc[134]\n",
    "mix = row['mix']\n",
    "ms1, ms2 = rds.read_mzml(mix, mzml_dir)\n",
    "mass_sorted, intensity_sorted, index_sorted, rt_list = trx.build_index(ms1)\n",
    "feature_mix = pd.read_csv(os.path.join(pl_dir, mix+'.csv'))\n",
    "pmz = row['[M+H]+']\n",
    "if pmz == 0:\n",
    "    pmz = row['[M]+']\n",
    "search_feature(feature_mix, pmz)"
   ],
   "metadata": {
    "collapsed": false,
    "pycharm": {
     "name": "#%%\n"
    }
   }
  },
  {
   "cell_type": "code",
   "execution_count": 137,
   "outputs": [
    {
     "data": {
      "text/plain": "      scan_idx  cycle  ms_level  precursor_mz polarity        rt  \\\n950       1676    725         2    322.105720        +  3.136683   \n1855      4045   2189         2    322.105766        +  9.492250   \n981       1713    731         2    322.107397        +  3.178183   \n\n                                                  peaks  \\\n950   [[46.697829542352075, 26.0], [55.0195837182996...   \n1855  [[45.03175603615964, 26.0], [46.0650472283238,...   \n981   [[55.05923601309141, 26.0], [57.91737238601614...   \n\n                          isolation_window     ms1_pmz    ms1_rt  \\\n950   (321.605719653327, 322.605719653327)  322.104585  3.134817   \n1855  (321.605766228814, 322.605766228814)  322.106515  9.489050   \n981   (321.607397291367, 322.607397291367)  322.107626  3.174983   \n\n      ms1_precursor_intensity  peak_purity  mz_offset                  mix  \\\n950                   18361.0     1.000000   0.001135  Alkaloids-pos-mix14   \n1855                   2639.0     0.952364   0.000749  Alkaloids-pos-mix14   \n981                   19906.0     0.995549   0.000229  Alkaloids-pos-mix14   \n\n                     base_name  \n950   Alkaloids-pos-mix14.mzML  \n1855  Alkaloids-pos-mix14.mzML  \n981   Alkaloids-pos-mix14.mzML  ",
      "text/html": "<div>\n<style scoped>\n    .dataframe tbody tr th:only-of-type {\n        vertical-align: middle;\n    }\n\n    .dataframe tbody tr th {\n        vertical-align: top;\n    }\n\n    .dataframe thead th {\n        text-align: right;\n    }\n</style>\n<table border=\"1\" class=\"dataframe\">\n  <thead>\n    <tr style=\"text-align: right;\">\n      <th></th>\n      <th>scan_idx</th>\n      <th>cycle</th>\n      <th>ms_level</th>\n      <th>precursor_mz</th>\n      <th>polarity</th>\n      <th>rt</th>\n      <th>peaks</th>\n      <th>isolation_window</th>\n      <th>ms1_pmz</th>\n      <th>ms1_rt</th>\n      <th>ms1_precursor_intensity</th>\n      <th>peak_purity</th>\n      <th>mz_offset</th>\n      <th>mix</th>\n      <th>base_name</th>\n    </tr>\n  </thead>\n  <tbody>\n    <tr>\n      <th>950</th>\n      <td>1676</td>\n      <td>725</td>\n      <td>2</td>\n      <td>322.105720</td>\n      <td>+</td>\n      <td>3.136683</td>\n      <td>[[46.697829542352075, 26.0], [55.0195837182996...</td>\n      <td>(321.605719653327, 322.605719653327)</td>\n      <td>322.104585</td>\n      <td>3.134817</td>\n      <td>18361.0</td>\n      <td>1.000000</td>\n      <td>0.001135</td>\n      <td>Alkaloids-pos-mix14</td>\n      <td>Alkaloids-pos-mix14.mzML</td>\n    </tr>\n    <tr>\n      <th>1855</th>\n      <td>4045</td>\n      <td>2189</td>\n      <td>2</td>\n      <td>322.105766</td>\n      <td>+</td>\n      <td>9.492250</td>\n      <td>[[45.03175603615964, 26.0], [46.0650472283238,...</td>\n      <td>(321.605766228814, 322.605766228814)</td>\n      <td>322.106515</td>\n      <td>9.489050</td>\n      <td>2639.0</td>\n      <td>0.952364</td>\n      <td>0.000749</td>\n      <td>Alkaloids-pos-mix14</td>\n      <td>Alkaloids-pos-mix14.mzML</td>\n    </tr>\n    <tr>\n      <th>981</th>\n      <td>1713</td>\n      <td>731</td>\n      <td>2</td>\n      <td>322.107397</td>\n      <td>+</td>\n      <td>3.178183</td>\n      <td>[[55.05923601309141, 26.0], [57.91737238601614...</td>\n      <td>(321.607397291367, 322.607397291367)</td>\n      <td>322.107626</td>\n      <td>3.174983</td>\n      <td>19906.0</td>\n      <td>0.995549</td>\n      <td>0.000229</td>\n      <td>Alkaloids-pos-mix14</td>\n      <td>Alkaloids-pos-mix14.mzML</td>\n    </tr>\n  </tbody>\n</table>\n</div>"
     },
     "execution_count": 137,
     "metadata": {},
     "output_type": "execute_result"
    }
   ],
   "source": [
    "search_feature(ms2, 322.107196, mass_error=0.01)"
   ],
   "metadata": {
    "collapsed": false,
    "pycharm": {
     "name": "#%%\n"
    }
   }
  },
  {
   "cell_type": "code",
   "execution_count": 135,
   "outputs": [
    {
     "data": {
      "text/plain": "<Figure size 1000x600 with 1 Axes>",
      "image/png": "[encoded data removed]"
     },
     "metadata": {},
     "output_type": "display_data"
    }
   ],
   "source": [
    "intensity_list = trx.flash_eic(322.107196, mass_sorted, intensity_sorted, index_sorted)\n",
    "rds.EIC(rt_list, intensity_list, vlines_location_2=[2.774055])"
   ],
   "metadata": {
    "collapsed": false,
    "pycharm": {
     "name": "#%%\n"
    }
   }
  },
  {
   "cell_type": "code",
   "execution_count": 216,
   "outputs": [],
   "source": [
    "std_list_mix = string_search(std_list, 'mix', mix)\n",
    "feature_mix = pd.read_csv(os.path.join(pl_dir, mix+'.csv'))\n",
    "matched_mix = feature_matching(feature_mix, std_list_mix,['[M]+',\n",
    "                                                          '[M+H]+',\n",
    "                                                          '[M+Na]+',\n",
    "                                                          '[M+NH4]+'])"
   ],
   "metadata": {
    "collapsed": false,
    "pycharm": {
     "name": "#%%\n"
    }
   }
  },
  {
   "cell_type": "code",
   "execution_count": 219,
   "outputs": [
    {
     "data": {
      "text/plain": "    precursor_mz  eic_center  eic_offset   rt_apex  rt_start    rt_end  \\\n23    191.116879  191.116879       0.004  0.353560  0.329633  0.420150   \n15    191.116879  191.116879       0.004  0.503464  0.420150  0.608967   \n\n    ms1_intensity  n_scnas   ms1_scan_range  reci_snr  \\\n23       341352.0     21.0  [108, 113, 130]  0.021361   \n15       609616.0     54.0  [130, 156, 185]  0.010525   \n\n                                                 msms  ms2_scan_idx  \\\n23  41.04175601655659\\t46.0\\n42.03571487862682\\t25...         166.0   \n15                                                NaN           NaN   \n\n    pmz_offset  \n23         0.0  \n15         0.0  ",
      "text/html": "<div>\n<style scoped>\n    .dataframe tbody tr th:only-of-type {\n        vertical-align: middle;\n    }\n\n    .dataframe tbody tr th {\n        vertical-align: top;\n    }\n\n    .dataframe thead th {\n        text-align: right;\n    }\n</style>\n<table border=\"1\" class=\"dataframe\">\n  <thead>\n    <tr style=\"text-align: right;\">\n      <th></th>\n      <th>precursor_mz</th>\n      <th>eic_center</th>\n      <th>eic_offset</th>\n      <th>rt_apex</th>\n      <th>rt_start</th>\n      <th>rt_end</th>\n      <th>ms1_intensity</th>\n      <th>n_scnas</th>\n      <th>ms1_scan_range</th>\n      <th>reci_snr</th>\n      <th>msms</th>\n      <th>ms2_scan_idx</th>\n      <th>pmz_offset</th>\n    </tr>\n  </thead>\n  <tbody>\n    <tr>\n      <th>23</th>\n      <td>191.116879</td>\n      <td>191.116879</td>\n      <td>0.004</td>\n      <td>0.353560</td>\n      <td>0.329633</td>\n      <td>0.420150</td>\n      <td>341352.0</td>\n      <td>21.0</td>\n      <td>[108, 113, 130]</td>\n      <td>0.021361</td>\n      <td>41.04175601655659\\t46.0\\n42.03571487862682\\t25...</td>\n      <td>166.0</td>\n      <td>0.0</td>\n    </tr>\n    <tr>\n      <th>15</th>\n      <td>191.116879</td>\n      <td>191.116879</td>\n      <td>0.004</td>\n      <td>0.503464</td>\n      <td>0.420150</td>\n      <td>0.608967</td>\n      <td>609616.0</td>\n      <td>54.0</td>\n      <td>[130, 156, 185]</td>\n      <td>0.010525</td>\n      <td>NaN</td>\n      <td>NaN</td>\n      <td>0.0</td>\n    </tr>\n  </tbody>\n</table>\n</div>"
     },
     "execution_count": 219,
     "metadata": {},
     "output_type": "execute_result"
    }
   ],
   "source": [
    "search_feature(feature_mix, 191.117889)"
   ],
   "metadata": {
    "collapsed": false,
    "pycharm": {
     "name": "#%%\n"
    }
   }
  },
  {
   "cell_type": "code",
   "execution_count": 222,
   "outputs": [
    {
     "data": {
      "text/plain": "    scan_idx  cycle  ms_level  precursor_mz polarity        rt  \\\n32       144    111         2    191.116559        +  0.341183   \n47       166    118         2    191.117318        +  0.374350   \n\n                                                peaks  \\\n32  [[41.03816005286045, 93.0], [42.03298542778575...   \n47  [[41.04175601655659, 46.0], [42.03571487862682...   \n\n                        isolation_window     ms1_pmz    ms1_rt  \\\n32    (190.61655886975, 191.61655886975)  191.116879  0.337733   \n47  (190.617317533384, 191.617317533384)  191.116879  0.372267   \n\n    ms1_precursor_intensity  peak_purity  mz_offset                 mix  \\\n32                  11806.0          1.0   0.000320  Alkaloids-pos-mix4   \n47                 108764.0          1.0   0.000438  Alkaloids-pos-mix4   \n\n                  base_name  \n32  Alkaloids-pos-mix4.mzML  \n47  Alkaloids-pos-mix4.mzML  ",
      "text/html": "<div>\n<style scoped>\n    .dataframe tbody tr th:only-of-type {\n        vertical-align: middle;\n    }\n\n    .dataframe tbody tr th {\n        vertical-align: top;\n    }\n\n    .dataframe thead th {\n        text-align: right;\n    }\n</style>\n<table border=\"1\" class=\"dataframe\">\n  <thead>\n    <tr style=\"text-align: right;\">\n      <th></th>\n      <th>scan_idx</th>\n      <th>cycle</th>\n      <th>ms_level</th>\n      <th>precursor_mz</th>\n      <th>polarity</th>\n      <th>rt</th>\n      <th>peaks</th>\n      <th>isolation_window</th>\n      <th>ms1_pmz</th>\n      <th>ms1_rt</th>\n      <th>ms1_precursor_intensity</th>\n      <th>peak_purity</th>\n      <th>mz_offset</th>\n      <th>mix</th>\n      <th>base_name</th>\n    </tr>\n  </thead>\n  <tbody>\n    <tr>\n      <th>32</th>\n      <td>144</td>\n      <td>111</td>\n      <td>2</td>\n      <td>191.116559</td>\n      <td>+</td>\n      <td>0.341183</td>\n      <td>[[41.03816005286045, 93.0], [42.03298542778575...</td>\n      <td>(190.61655886975, 191.61655886975)</td>\n      <td>191.116879</td>\n      <td>0.337733</td>\n      <td>11806.0</td>\n      <td>1.0</td>\n      <td>0.000320</td>\n      <td>Alkaloids-pos-mix4</td>\n      <td>Alkaloids-pos-mix4.mzML</td>\n    </tr>\n    <tr>\n      <th>47</th>\n      <td>166</td>\n      <td>118</td>\n      <td>2</td>\n      <td>191.117318</td>\n      <td>+</td>\n      <td>0.374350</td>\n      <td>[[41.04175601655659, 46.0], [42.03571487862682...</td>\n      <td>(190.617317533384, 191.617317533384)</td>\n      <td>191.116879</td>\n      <td>0.372267</td>\n      <td>108764.0</td>\n      <td>1.0</td>\n      <td>0.000438</td>\n      <td>Alkaloids-pos-mix4</td>\n      <td>Alkaloids-pos-mix4.mzML</td>\n    </tr>\n  </tbody>\n</table>\n</div>"
     },
     "execution_count": 222,
     "metadata": {},
     "output_type": "execute_result"
    }
   ],
   "source": [
    "search_feature(ms2,191.117889 )"
   ],
   "metadata": {
    "collapsed": false,
    "pycharm": {
     "name": "#%%\n"
    }
   }
  },
  {
   "cell_type": "code",
   "execution_count": 196,
   "outputs": [
    {
     "name": "stderr",
     "output_type": "stream",
     "text": [
      "100%|██████████| 565/565 [00:04<00:00, 140.67it/s]\n"
     ]
    }
   ],
   "source": [
    "matched_all.to_csv(os.path.join(master_parent, 'QTTOF.csv'), index = False)\n",
    "export_library_msp(matched_all,os.path.join(master_parent, 'QTTOF.txt') )"
   ],
   "metadata": {
    "collapsed": false,
    "pycharm": {
     "name": "#%%\n"
    }
   }
  },
  {
   "cell_type": "code",
   "execution_count": null,
   "outputs": [],
   "source": [
    "os.path.join(master_parent, 'QTTOF.csv')"
   ],
   "metadata": {
    "collapsed": false,
    "pycharm": {
     "name": "#%%\n"
    }
   }
  },
  {
   "cell_type": "code",
   "execution_count": 197,
   "outputs": [],
   "source": [
    "child = 'TTOF_neg'\n",
    "pl_dir = os.path.join(master_parent, child, 'pl')\n",
    "std_list = pd.read_csv(os.path.join(master_parent, 'std_list_neg.csv'))\n",
    "mzml_dir = os.path.join(master_parent, child, 'mzml')\n",
    "matched_all = pd.DataFrame()\n",
    "for mix in std_list['mix'].unique():\n",
    "    std_list_mix = string_search(std_list, 'mix', mix)\n",
    "    feature_mix = pd.read_csv(os.path.join(pl_dir, mix+'.csv'))\n",
    "    matched_mix = feature_matching(feature_mix, std_list_mix,['[M]-',\n",
    "                                                              '[M-H]-',\n",
    "                                                              '[M+Cl]-',\n",
    "                                                              '[M-H2O-H]-'])\n",
    "    if len(matched_mix)>0:\n",
    "        matched_all=pd.concat([matched_all, matched_mix], ignore_index=True)\n",
    "import toolsets.denoising_related_functions as drf\n",
    "msms_d = []\n",
    "ei = []\n",
    "for index, row in matched_all.iterrows():\n",
    "    denoised = drf.spectra_denoising(row['msms'],row['reference_smiles'], row['reference_adduct'])\n",
    "    msms_d.append(denoised[0])\n",
    "    ei.append(denoised[1])\n",
    "matched_all['msms_denoised']=msms_d\n",
    "matched_all['ei']=ei\n",
    "threshold = matched_all['ei'].mean()-1*matched_all['ei'].std()\n",
    "matched_all = matched_all[matched_all['ei']>threshold]"
   ],
   "metadata": {
    "collapsed": false,
    "pycharm": {
     "name": "#%%\n"
    }
   }
  },
  {
   "cell_type": "code",
   "execution_count": 224,
   "outputs": [],
   "source": [
    "qtof_neg = pd.read_csv(os.path.join(master_parent, 'QTTOF_neg.csv'))\n",
    "qtof_pos = pd.read_csv(os.path.join(master_parent, 'QTTOF_pos.csv'))"
   ],
   "metadata": {
    "collapsed": false,
    "pycharm": {
     "name": "#%%\n"
    }
   }
  },
  {
   "cell_type": "code",
   "execution_count": 225,
   "outputs": [],
   "source": [
    "all = pd.concat([qtof_neg, qtof_pos], ignore_index=True)"
   ],
   "metadata": {
    "collapsed": false,
    "pycharm": {
     "name": "#%%\n"
    }
   }
  },
  {
   "cell_type": "code",
   "execution_count": 252,
   "outputs": [],
   "source": [
    "import ast"
   ],
   "metadata": {
    "collapsed": false,
    "pycharm": {
     "name": "#%%\n"
    }
   }
  },
  {
   "cell_type": "code",
   "execution_count": 253,
   "outputs": [
    {
     "data": {
      "text/plain": "[0.547]"
     },
     "execution_count": 253,
     "metadata": {},
     "output_type": "execute_result"
    }
   ],
   "source": [
    "ast.literal_eval(row['reference_rt'])"
   ],
   "metadata": {
    "collapsed": false,
    "pycharm": {
     "name": "#%%\n"
    }
   }
  },
  {
   "cell_type": "code",
   "execution_count": 260,
   "outputs": [],
   "source": [
    "qtof_pos = string_search(qtof_pos, 'comment', 'Major')"
   ],
   "metadata": {
    "collapsed": false,
    "pycharm": {
     "name": "#%%\n"
    }
   }
  },
  {
   "cell_type": "code",
   "execution_count": 262,
   "outputs": [],
   "source": [
    "rt_offset = []\n",
    "for index, row in qtof_pos.iterrows():\n",
    "    rt_offset_row = []\n",
    "    if row['reference_rt']==row['reference_rt']:\n",
    "        for r in ast.literal_eval(row['reference_rt']):\n",
    "            rt_offset_row.append(abs(row['rt_apex']-r))\n",
    "        rt_offset.append(np.min(rt_offset_row))\n",
    "    else:\n",
    "        rt_offset.append(np.NAN)\n",
    "qtof_pos['rt_offset']=rt_offset"
   ],
   "metadata": {
    "collapsed": false,
    "pycharm": {
     "name": "#%%\n"
    }
   }
  },
  {
   "cell_type": "code",
   "execution_count": 273,
   "outputs": [
    {
     "data": {
      "text/plain": "0.022058584967657065"
     },
     "execution_count": 273,
     "metadata": {},
     "output_type": "execute_result"
    }
   ],
   "source": [
    "np.nanquantile(rt_offset, 0.95)"
   ],
   "metadata": {
    "collapsed": false,
    "pycharm": {
     "name": "#%%\n"
    }
   }
  },
  {
   "cell_type": "code",
   "execution_count": 263,
   "outputs": [
    {
     "data": {
      "text/plain": "precursor_mz                                                320.188501\nCAS                                                            50-63-5\nreference_adduct                                                [M+H]+\nreference_mz                                                320.188802\ncomment                                                          Major\nreference_smiles                     CCN(CC)CCCC(C)Nc1ccnc2cc(Cl)ccc12\nreference_formula                                           C18H26ClN3\nreference_mix                                      Alkaloids-pos-mix48\nreference_rt                                             [2.805, 2.98]\nreference_name                                   Chloroquine phosphate\nrt_apex                                                       9.500206\nrt_start                                                      9.459517\nrt_end                                                        9.698667\nms1_intensity                                                   2095.0\nn_scnas                                                           31.0\nms1_scan_range                                      [2312, 2317, 2344]\nreci_snr                                                      0.000218\nmsms                 41.039602447669054\\t62.0\\n41.386454970583856\\t...\nms2_scan_idx                                                    3481.0\npmz_offset                                                    0.001784\nmsms_denoised        41.039602447669054\\t62.0\\n46.064546049428415\\t...\nei                                                            0.804087\nrt_offset                                                     6.520206\nName: 223, dtype: object"
     },
     "execution_count": 263,
     "metadata": {},
     "output_type": "execute_result"
    }
   ],
   "source": [
    "qtof_pos.iloc[np.nanargmax(rt_offset)]"
   ],
   "metadata": {
    "collapsed": false,
    "pycharm": {
     "name": "#%%\n"
    }
   }
  },
  {
   "cell_type": "code",
   "execution_count": 265,
   "outputs": [],
   "source": [
    "ms1, ms2 = rds.read_mzml('Alkaloids-pos-mix48', mzml_dir)\n",
    "mass_sorted, intensity_sorted, index_sorted, rt_list = trx.build_index(ms1)"
   ],
   "metadata": {
    "collapsed": false,
    "pycharm": {
     "name": "#%%\n"
    }
   }
  },
  {
   "cell_type": "code",
   "execution_count": 267,
   "outputs": [
    {
     "data": {
      "text/plain": "<Figure size 1000x600 with 1 Axes>",
      "image/png": "[encoded data removed]"
     },
     "metadata": {},
     "output_type": "display_data"
    }
   ],
   "source": [
    "intensity_list = trx.flash_eic(320.188501, mass_sorted, intensity_sorted, index_sorted)\n",
    "rds.EIC(rt_list, intensity_list, vlines_location_2=[2.805])"
   ],
   "metadata": {
    "collapsed": false,
    "pycharm": {
     "name": "#%%\n"
    }
   }
  },
  {
   "cell_type": "markdown",
   "source": [
    "# some demo"
   ],
   "metadata": {
    "collapsed": false,
    "pycharm": {
     "name": "#%% md\n"
    }
   }
  },
  {
   "cell_type": "code",
   "execution_count": 276,
   "outputs": [],
   "source": [
    "std_list = pd.read_csv(os.path.join(master_parent, 'std_list_raw.csv'))"
   ],
   "metadata": {
    "collapsed": false,
    "pycharm": {
     "name": "#%%\n"
    }
   }
  },
  {
   "cell_type": "code",
   "execution_count": 232,
   "outputs": [
    {
     "data": {
      "text/plain": "     Index    QR code      Plate Row  Col  Volume（microliter）  \\\n0        1  418721758  PHD156214   a    2                50.0   \n1        2  418721766  PHD156214   a    3                50.0   \n2        3  418721774  PHD156214   a    4                50.0   \n3        4  418721782  PHD156214   a    5                50.0   \n4        5  418721790  PHD156214   a    6                50.0   \n..     ...        ...        ...  ..  ...                 ...   \n463    464  419105557  PHD156219   g    5                50.0   \n464    465  419105565  PHD156219   g    6                50.0   \n465    466  419105573  PHD156219   g    7                50.0   \n466    467  419105581  PHD156219   g    8                50.0   \n467    468  419105589  PHD156219   g    9                50.0   \n\n     Concentration（mM）      ID               MOLENAME  \\\n0                 10.0   T0437                Inosine   \n1                 10.0   T0069                 Uracil   \n2                 10.0  T1591L               Cytidine   \n3                 10.0   T1362           Hypoxanthine   \n4                 10.0   T0925              Allantoin   \n..                 ...     ...                    ...   \n463               10.0   T4036             Solasodine   \n464               10.0  TN2023      8-Oxoepiberberine   \n465               10.0   T8206             Cycleanine   \n466               10.0   T6535    Histamine Phosphate   \n467               10.0   T0194  Chloroquine phosphate   \n\n                                              Synonyms         CAS  \\\n0                                    INO 495;NSC 20262     58-63-9   \n1                                                  NaN     66-22-8   \n2    Cytosine-1-β-D-ribofuranoside;Cytosine β-D-rib...     65-46-3   \n3            6-Hydroxypurine;Purin-6-ol;Sarcine;Sarkin     68-94-0   \n4                    Glyoxyldiureide;5-Ureidohydantoin     97-59-6   \n..                                                 ...         ...   \n463              Solancarpidine;Purapuridine;Solasodin    126-17-0   \n464                                    Oxyepiberberine  19716-60-0   \n465                                                NaN    518-94-5   \n466     Histamine diphosphate;Histamine acid phosphate     51-74-1   \n467  Chloroquine diphosphate;Aralen phosphate;Ching...     50-63-5   \n\n                                                smiles    suggested_formula  \\\n0    OC[C@H]1O[C@H]([C@H](O)[C@@H]1O)n1cnc2c1nc[nH]...           C10H12N4O5   \n1                                 O=c1[nH]ccc(=O)[nH]1             C4H4N2O2   \n2    [C@@H]1(n2c(=O)nc(cc2)N)O[C@@H]([C@H]([C@H]1O)...            C9H13N3O5   \n3                                O=c1nc[nH]c2nc[nH]c12              C5H4N4O   \n4                                 NC(=O)NC1NC(=O)NC1=O             C4H6N4O3   \n..                                                 ...                  ...   \n463  C[C@H]1[C@H]2[C@H](C[C@H]3[C@@H]4CC=C5C[C@@H](...            C27H43NO2   \n464  O=C1N2CCC3=CC(OC)=C(OC)C=C3C2=CC4=CC=C(OCO5)C5...            C20H17NO5   \n465  [H][C@]12Cc3ccc(Oc4c(OC)c(OC)cc5CCN(C)[C@]([H]...           C38H42N2O6   \n466                 OP(O)(O)=O.OP(O)(O)=O.NCCC1=CNC=N1         C5H9N·2H3O4P   \n467  OP(O)(O)=O.OP(O)(O)=O.CCN(CC)CCCC(C)Nc1ccnc2cc...  C18H26CLN3·2(H3PO4)   \n\n             Unnamed: 13  \n0     Alkaloids-pos-mix1  \n1     Alkaloids-pos-mix1  \n2     Alkaloids-pos-mix1  \n3     Alkaloids-pos-mix1  \n4     Alkaloids-pos-mix1  \n..                   ...  \n463  Alkaloids-pos-mix47  \n464  Alkaloids-pos-mix47  \n465  Alkaloids-pos-mix47  \n466  Alkaloids-pos-mix48  \n467  Alkaloids-pos-mix48  \n\n[468 rows x 14 columns]",
      "text/html": "<div>\n<style scoped>\n    .dataframe tbody tr th:only-of-type {\n        vertical-align: middle;\n    }\n\n    .dataframe tbody tr th {\n        vertical-align: top;\n    }\n\n    .dataframe thead th {\n        text-align: right;\n    }\n</style>\n<table border=\"1\" class=\"dataframe\">\n  <thead>\n    <tr style=\"text-align: right;\">\n      <th></th>\n      <th>Index</th>\n      <th>QR code</th>\n      <th>Plate</th>\n      <th>Row</th>\n      <th>Col</th>\n      <th>Volume（microliter）</th>\n      <th>Concentration（mM）</th>\n      <th>ID</th>\n      <th>MOLENAME</th>\n      <th>Synonyms</th>\n      <th>CAS</th>\n      <th>smiles</th>\n      <th>suggested_formula</th>\n      <th>Unnamed: 13</th>\n    </tr>\n  </thead>\n  <tbody>\n    <tr>\n      <th>0</th>\n      <td>1</td>\n      <td>418721758</td>\n      <td>PHD156214</td>\n      <td>a</td>\n      <td>2</td>\n      <td>50.0</td>\n      <td>10.0</td>\n      <td>T0437</td>\n      <td>Inosine</td>\n      <td>INO 495;NSC 20262</td>\n      <td>58-63-9</td>\n      <td>OC[C@H]1O[C@H]([C@H](O)[C@@H]1O)n1cnc2c1nc[nH]...</td>\n      <td>C10H12N4O5</td>\n      <td>Alkaloids-pos-mix1</td>\n    </tr>\n    <tr>\n      <th>1</th>\n      <td>2</td>\n      <td>418721766</td>\n      <td>PHD156214</td>\n      <td>a</td>\n      <td>3</td>\n      <td>50.0</td>\n      <td>10.0</td>\n      <td>T0069</td>\n      <td>Uracil</td>\n      <td>NaN</td>\n      <td>66-22-8</td>\n      <td>O=c1[nH]ccc(=O)[nH]1</td>\n      <td>C4H4N2O2</td>\n      <td>Alkaloids-pos-mix1</td>\n    </tr>\n    <tr>\n      <th>2</th>\n      <td>3</td>\n      <td>418721774</td>\n      <td>PHD156214</td>\n      <td>a</td>\n      <td>4</td>\n      <td>50.0</td>\n      <td>10.0</td>\n      <td>T1591L</td>\n      <td>Cytidine</td>\n      <td>Cytosine-1-β-D-ribofuranoside;Cytosine β-D-rib...</td>\n      <td>65-46-3</td>\n      <td>[C@@H]1(n2c(=O)nc(cc2)N)O[C@@H]([C@H]([C@H]1O)...</td>\n      <td>C9H13N3O5</td>\n      <td>Alkaloids-pos-mix1</td>\n    </tr>\n    <tr>\n      <th>3</th>\n      <td>4</td>\n      <td>418721782</td>\n      <td>PHD156214</td>\n      <td>a</td>\n      <td>5</td>\n      <td>50.0</td>\n      <td>10.0</td>\n      <td>T1362</td>\n      <td>Hypoxanthine</td>\n      <td>6-Hydroxypurine;Purin-6-ol;Sarcine;Sarkin</td>\n      <td>68-94-0</td>\n      <td>O=c1nc[nH]c2nc[nH]c12</td>\n      <td>C5H4N4O</td>\n      <td>Alkaloids-pos-mix1</td>\n    </tr>\n    <tr>\n      <th>4</th>\n      <td>5</td>\n      <td>418721790</td>\n      <td>PHD156214</td>\n      <td>a</td>\n      <td>6</td>\n      <td>50.0</td>\n      <td>10.0</td>\n      <td>T0925</td>\n      <td>Allantoin</td>\n      <td>Glyoxyldiureide;5-Ureidohydantoin</td>\n      <td>97-59-6</td>\n      <td>NC(=O)NC1NC(=O)NC1=O</td>\n      <td>C4H6N4O3</td>\n      <td>Alkaloids-pos-mix1</td>\n    </tr>\n    <tr>\n      <th>...</th>\n      <td>...</td>\n      <td>...</td>\n      <td>...</td>\n      <td>...</td>\n      <td>...</td>\n      <td>...</td>\n      <td>...</td>\n      <td>...</td>\n      <td>...</td>\n      <td>...</td>\n      <td>...</td>\n      <td>...</td>\n      <td>...</td>\n      <td>...</td>\n    </tr>\n    <tr>\n      <th>463</th>\n      <td>464</td>\n      <td>419105557</td>\n      <td>PHD156219</td>\n      <td>g</td>\n      <td>5</td>\n      <td>50.0</td>\n      <td>10.0</td>\n      <td>T4036</td>\n      <td>Solasodine</td>\n      <td>Solancarpidine;Purapuridine;Solasodin</td>\n      <td>126-17-0</td>\n      <td>C[C@H]1[C@H]2[C@H](C[C@H]3[C@@H]4CC=C5C[C@@H](...</td>\n      <td>C27H43NO2</td>\n      <td>Alkaloids-pos-mix47</td>\n    </tr>\n    <tr>\n      <th>464</th>\n      <td>465</td>\n      <td>419105565</td>\n      <td>PHD156219</td>\n      <td>g</td>\n      <td>6</td>\n      <td>50.0</td>\n      <td>10.0</td>\n      <td>TN2023</td>\n      <td>8-Oxoepiberberine</td>\n      <td>Oxyepiberberine</td>\n      <td>19716-60-0</td>\n      <td>O=C1N2CCC3=CC(OC)=C(OC)C=C3C2=CC4=CC=C(OCO5)C5...</td>\n      <td>C20H17NO5</td>\n      <td>Alkaloids-pos-mix47</td>\n    </tr>\n    <tr>\n      <th>465</th>\n      <td>466</td>\n      <td>419105573</td>\n      <td>PHD156219</td>\n      <td>g</td>\n      <td>7</td>\n      <td>50.0</td>\n      <td>10.0</td>\n      <td>T8206</td>\n      <td>Cycleanine</td>\n      <td>NaN</td>\n      <td>518-94-5</td>\n      <td>[H][C@]12Cc3ccc(Oc4c(OC)c(OC)cc5CCN(C)[C@]([H]...</td>\n      <td>C38H42N2O6</td>\n      <td>Alkaloids-pos-mix47</td>\n    </tr>\n    <tr>\n      <th>466</th>\n      <td>467</td>\n      <td>419105581</td>\n      <td>PHD156219</td>\n      <td>g</td>\n      <td>8</td>\n      <td>50.0</td>\n      <td>10.0</td>\n      <td>T6535</td>\n      <td>Histamine Phosphate</td>\n      <td>Histamine diphosphate;Histamine acid phosphate</td>\n      <td>51-74-1</td>\n      <td>OP(O)(O)=O.OP(O)(O)=O.NCCC1=CNC=N1</td>\n      <td>C5H9N·2H3O4P</td>\n      <td>Alkaloids-pos-mix48</td>\n    </tr>\n    <tr>\n      <th>467</th>\n      <td>468</td>\n      <td>419105589</td>\n      <td>PHD156219</td>\n      <td>g</td>\n      <td>9</td>\n      <td>50.0</td>\n      <td>10.0</td>\n      <td>T0194</td>\n      <td>Chloroquine phosphate</td>\n      <td>Chloroquine diphosphate;Aralen phosphate;Ching...</td>\n      <td>50-63-5</td>\n      <td>OP(O)(O)=O.OP(O)(O)=O.CCN(CC)CCCC(C)Nc1ccnc2cc...</td>\n      <td>C18H26CLN3·2(H3PO4)</td>\n      <td>Alkaloids-pos-mix48</td>\n    </tr>\n  </tbody>\n</table>\n<p>468 rows × 14 columns</p>\n</div>"
     },
     "execution_count": 232,
     "metadata": {},
     "output_type": "execute_result"
    }
   ],
   "source": [
    "std_list"
   ],
   "metadata": {
    "collapsed": false,
    "pycharm": {
     "name": "#%%\n"
    }
   }
  },
  {
   "cell_type": "code",
   "execution_count": 277,
   "outputs": [],
   "source": [
    "idx = []\n",
    "for index, row in std_list.iterrows():\n",
    "    mol = Chem.MolFromSmiles(row['smiles'])\n",
    "    components = Chem.GetMolFrags(mol, asMols=True, sanitizeFrags=False)\n",
    "    if len(components)==3:\n",
    "        idx.append(index)"
   ],
   "metadata": {
    "collapsed": false,
    "pycharm": {
     "name": "#%%\n"
    }
   }
  },
  {
   "cell_type": "code",
   "execution_count": 278,
   "outputs": [],
   "source": [
    "row = std_list.loc[idx[1]]\n"
   ],
   "metadata": {
    "collapsed": false,
    "pycharm": {
     "name": "#%%\n"
    }
   }
  },
  {
   "cell_type": "code",
   "execution_count": 280,
   "outputs": [
    {
     "data": {
      "text/plain": "'NCCN.Cn1c2c([nH]cn2)c(=O)n(C)c1=O.Cn1c2c([nH]cn2)c(=O)n(C)c1=O'"
     },
     "execution_count": 280,
     "metadata": {},
     "output_type": "execute_result"
    }
   ],
   "source": [
    "row['smiles']"
   ],
   "metadata": {
    "collapsed": false,
    "pycharm": {
     "name": "#%%\n"
    }
   }
  },
  {
   "cell_type": "code",
   "execution_count": 245,
   "outputs": [],
   "source": [
    "mol = Chem.MolFromSmiles(row['smiles'])\n",
    "ch.everything_to_image(mol, os.path.join(master_parent, '3taimei.png'))"
   ],
   "metadata": {
    "collapsed": false,
    "pycharm": {
     "name": "#%%\n"
    }
   }
  },
  {
   "cell_type": "code",
   "execution_count": 281,
   "outputs": [],
   "source": [
    "smiles_desalted = ch.desalter(row['smiles'])\n",
    "mol = Chem.MolFromSmiles(smiles_desalted)\n",
    "ch.everything_to_image(mol, os.path.join(master_parent, 'desalted.png'))"
   ],
   "metadata": {
    "collapsed": false,
    "pycharm": {
     "name": "#%%\n"
    }
   }
  },
  {
   "cell_type": "code",
   "execution_count": 282,
   "outputs": [
    {
     "data": {
      "text/plain": "     Index    QR code      Plate Row  Col  Volume（microliter）  \\\n0        1  418721758  PHD156214   a    2                50.0   \n1        2  418721766  PHD156214   a    3                50.0   \n2        3  418721774  PHD156214   a    4                50.0   \n3        4  418721782  PHD156214   a    5                50.0   \n4        5  418721790  PHD156214   a    6                50.0   \n..     ...        ...        ...  ..  ...                 ...   \n463    464  419105557  PHD156219   g    5                50.0   \n464    465  419105565  PHD156219   g    6                50.0   \n465    466  419105573  PHD156219   g    7                50.0   \n466    467  419105581  PHD156219   g    8                50.0   \n467    468  419105589  PHD156219   g    9                50.0   \n\n     Concentration（mM）      ID               MOLENAME  \\\n0                 10.0   T0437                Inosine   \n1                 10.0   T0069                 Uracil   \n2                 10.0  T1591L               Cytidine   \n3                 10.0   T1362           Hypoxanthine   \n4                 10.0   T0925              Allantoin   \n..                 ...     ...                    ...   \n463               10.0   T4036             Solasodine   \n464               10.0  TN2023      8-Oxoepiberberine   \n465               10.0   T8206             Cycleanine   \n466               10.0   T6535    Histamine Phosphate   \n467               10.0   T0194  Chloroquine phosphate   \n\n                                              Synonyms         CAS  \\\n0                                    INO 495;NSC 20262     58-63-9   \n1                                                  NaN     66-22-8   \n2    Cytosine-1-β-D-ribofuranoside;Cytosine β-D-rib...     65-46-3   \n3            6-Hydroxypurine;Purin-6-ol;Sarcine;Sarkin     68-94-0   \n4                    Glyoxyldiureide;5-Ureidohydantoin     97-59-6   \n..                                                 ...         ...   \n463              Solancarpidine;Purapuridine;Solasodin    126-17-0   \n464                                    Oxyepiberberine  19716-60-0   \n465                                                NaN    518-94-5   \n466     Histamine diphosphate;Histamine acid phosphate     51-74-1   \n467  Chloroquine diphosphate;Aralen phosphate;Ching...     50-63-5   \n\n                                                smiles    suggested_formula  \\\n0    OC[C@H]1O[C@H]([C@H](O)[C@@H]1O)n1cnc2c1nc[nH]...           C10H12N4O5   \n1                                 O=c1[nH]ccc(=O)[nH]1             C4H4N2O2   \n2    [C@@H]1(n2c(=O)nc(cc2)N)O[C@@H]([C@H]([C@H]1O)...            C9H13N3O5   \n3                                O=c1nc[nH]c2nc[nH]c12              C5H4N4O   \n4                                 NC(=O)NC1NC(=O)NC1=O             C4H6N4O3   \n..                                                 ...                  ...   \n463  C[C@H]1[C@H]2[C@H](C[C@H]3[C@@H]4CC=C5C[C@@H](...            C27H43NO2   \n464  O=C1N2CCC3=CC(OC)=C(OC)C=C3C2=CC4=CC=C(OCO5)C5...            C20H17NO5   \n465  [H][C@]12Cc3ccc(Oc4c(OC)c(OC)cc5CCN(C)[C@]([H]...           C38H42N2O6   \n466                 OP(O)(O)=O.OP(O)(O)=O.NCCC1=CNC=N1         C5H9N·2H3O4P   \n467  OP(O)(O)=O.OP(O)(O)=O.CCN(CC)CCCC(C)Nc1ccnc2cc...  C18H26CLN3·2(H3PO4)   \n\n             Unnamed: 13  \n0     Alkaloids-pos-mix1  \n1     Alkaloids-pos-mix1  \n2     Alkaloids-pos-mix1  \n3     Alkaloids-pos-mix1  \n4     Alkaloids-pos-mix1  \n..                   ...  \n463  Alkaloids-pos-mix47  \n464  Alkaloids-pos-mix47  \n465  Alkaloids-pos-mix47  \n466  Alkaloids-pos-mix48  \n467  Alkaloids-pos-mix48  \n\n[468 rows x 14 columns]",
      "text/html": "<div>\n<style scoped>\n    .dataframe tbody tr th:only-of-type {\n        vertical-align: middle;\n    }\n\n    .dataframe tbody tr th {\n        vertical-align: top;\n    }\n\n    .dataframe thead th {\n        text-align: right;\n    }\n</style>\n<table border=\"1\" class=\"dataframe\">\n  <thead>\n    <tr style=\"text-align: right;\">\n      <th></th>\n      <th>Index</th>\n      <th>QR code</th>\n      <th>Plate</th>\n      <th>Row</th>\n      <th>Col</th>\n      <th>Volume（microliter）</th>\n      <th>Concentration（mM）</th>\n      <th>ID</th>\n      <th>MOLENAME</th>\n      <th>Synonyms</th>\n      <th>CAS</th>\n      <th>smiles</th>\n      <th>suggested_formula</th>\n      <th>Unnamed: 13</th>\n    </tr>\n  </thead>\n  <tbody>\n    <tr>\n      <th>0</th>\n      <td>1</td>\n      <td>418721758</td>\n      <td>PHD156214</td>\n      <td>a</td>\n      <td>2</td>\n      <td>50.0</td>\n      <td>10.0</td>\n      <td>T0437</td>\n      <td>Inosine</td>\n      <td>INO 495;NSC 20262</td>\n      <td>58-63-9</td>\n      <td>OC[C@H]1O[C@H]([C@H](O)[C@@H]1O)n1cnc2c1nc[nH]...</td>\n      <td>C10H12N4O5</td>\n      <td>Alkaloids-pos-mix1</td>\n    </tr>\n    <tr>\n      <th>1</th>\n      <td>2</td>\n      <td>418721766</td>\n      <td>PHD156214</td>\n      <td>a</td>\n      <td>3</td>\n      <td>50.0</td>\n      <td>10.0</td>\n      <td>T0069</td>\n      <td>Uracil</td>\n      <td>NaN</td>\n      <td>66-22-8</td>\n      <td>O=c1[nH]ccc(=O)[nH]1</td>\n      <td>C4H4N2O2</td>\n      <td>Alkaloids-pos-mix1</td>\n    </tr>\n    <tr>\n      <th>2</th>\n      <td>3</td>\n      <td>418721774</td>\n      <td>PHD156214</td>\n      <td>a</td>\n      <td>4</td>\n      <td>50.0</td>\n      <td>10.0</td>\n      <td>T1591L</td>\n      <td>Cytidine</td>\n      <td>Cytosine-1-β-D-ribofuranoside;Cytosine β-D-rib...</td>\n      <td>65-46-3</td>\n      <td>[C@@H]1(n2c(=O)nc(cc2)N)O[C@@H]([C@H]([C@H]1O)...</td>\n      <td>C9H13N3O5</td>\n      <td>Alkaloids-pos-mix1</td>\n    </tr>\n    <tr>\n      <th>3</th>\n      <td>4</td>\n      <td>418721782</td>\n      <td>PHD156214</td>\n      <td>a</td>\n      <td>5</td>\n      <td>50.0</td>\n      <td>10.0</td>\n      <td>T1362</td>\n      <td>Hypoxanthine</td>\n      <td>6-Hydroxypurine;Purin-6-ol;Sarcine;Sarkin</td>\n      <td>68-94-0</td>\n      <td>O=c1nc[nH]c2nc[nH]c12</td>\n      <td>C5H4N4O</td>\n      <td>Alkaloids-pos-mix1</td>\n    </tr>\n    <tr>\n      <th>4</th>\n      <td>5</td>\n      <td>418721790</td>\n      <td>PHD156214</td>\n      <td>a</td>\n      <td>6</td>\n      <td>50.0</td>\n      <td>10.0</td>\n      <td>T0925</td>\n      <td>Allantoin</td>\n      <td>Glyoxyldiureide;5-Ureidohydantoin</td>\n      <td>97-59-6</td>\n      <td>NC(=O)NC1NC(=O)NC1=O</td>\n      <td>C4H6N4O3</td>\n      <td>Alkaloids-pos-mix1</td>\n    </tr>\n    <tr>\n      <th>...</th>\n      <td>...</td>\n      <td>...</td>\n      <td>...</td>\n      <td>...</td>\n      <td>...</td>\n      <td>...</td>\n      <td>...</td>\n      <td>...</td>\n      <td>...</td>\n      <td>...</td>\n      <td>...</td>\n      <td>...</td>\n      <td>...</td>\n      <td>...</td>\n    </tr>\n    <tr>\n      <th>463</th>\n      <td>464</td>\n      <td>419105557</td>\n      <td>PHD156219</td>\n      <td>g</td>\n      <td>5</td>\n      <td>50.0</td>\n      <td>10.0</td>\n      <td>T4036</td>\n      <td>Solasodine</td>\n      <td>Solancarpidine;Purapuridine;Solasodin</td>\n      <td>126-17-0</td>\n      <td>C[C@H]1[C@H]2[C@H](C[C@H]3[C@@H]4CC=C5C[C@@H](...</td>\n      <td>C27H43NO2</td>\n      <td>Alkaloids-pos-mix47</td>\n    </tr>\n    <tr>\n      <th>464</th>\n      <td>465</td>\n      <td>419105565</td>\n      <td>PHD156219</td>\n      <td>g</td>\n      <td>6</td>\n      <td>50.0</td>\n      <td>10.0</td>\n      <td>TN2023</td>\n      <td>8-Oxoepiberberine</td>\n      <td>Oxyepiberberine</td>\n      <td>19716-60-0</td>\n      <td>O=C1N2CCC3=CC(OC)=C(OC)C=C3C2=CC4=CC=C(OCO5)C5...</td>\n      <td>C20H17NO5</td>\n      <td>Alkaloids-pos-mix47</td>\n    </tr>\n    <tr>\n      <th>465</th>\n      <td>466</td>\n      <td>419105573</td>\n      <td>PHD156219</td>\n      <td>g</td>\n      <td>7</td>\n      <td>50.0</td>\n      <td>10.0</td>\n      <td>T8206</td>\n      <td>Cycleanine</td>\n      <td>NaN</td>\n      <td>518-94-5</td>\n      <td>[H][C@]12Cc3ccc(Oc4c(OC)c(OC)cc5CCN(C)[C@]([H]...</td>\n      <td>C38H42N2O6</td>\n      <td>Alkaloids-pos-mix47</td>\n    </tr>\n    <tr>\n      <th>466</th>\n      <td>467</td>\n      <td>419105581</td>\n      <td>PHD156219</td>\n      <td>g</td>\n      <td>8</td>\n      <td>50.0</td>\n      <td>10.0</td>\n      <td>T6535</td>\n      <td>Histamine Phosphate</td>\n      <td>Histamine diphosphate;Histamine acid phosphate</td>\n      <td>51-74-1</td>\n      <td>OP(O)(O)=O.OP(O)(O)=O.NCCC1=CNC=N1</td>\n      <td>C5H9N·2H3O4P</td>\n      <td>Alkaloids-pos-mix48</td>\n    </tr>\n    <tr>\n      <th>467</th>\n      <td>468</td>\n      <td>419105589</td>\n      <td>PHD156219</td>\n      <td>g</td>\n      <td>9</td>\n      <td>50.0</td>\n      <td>10.0</td>\n      <td>T0194</td>\n      <td>Chloroquine phosphate</td>\n      <td>Chloroquine diphosphate;Aralen phosphate;Ching...</td>\n      <td>50-63-5</td>\n      <td>OP(O)(O)=O.OP(O)(O)=O.CCN(CC)CCCC(C)Nc1ccnc2cc...</td>\n      <td>C18H26CLN3·2(H3PO4)</td>\n      <td>Alkaloids-pos-mix48</td>\n    </tr>\n  </tbody>\n</table>\n<p>468 rows × 14 columns</p>\n</div>"
     },
     "execution_count": 282,
     "metadata": {},
     "output_type": "execute_result"
    }
   ],
   "source": [
    "std_list"
   ],
   "metadata": {
    "collapsed": false,
    "pycharm": {
     "name": "#%%\n"
    }
   }
  },
  {
   "cell_type": "code",
   "execution_count": 284,
   "outputs": [],
   "source": [
    "row = string_search(std_list, 'MOLENAME', 'Betaine chloride').iloc[0]\n",
    "mol = Chem.MolFromSmiles(row['smiles'])\n",
    "ch.everything_to_image(mol, os.path.join(master_parent, 'carboxylic_demo.png'))"
   ],
   "metadata": {
    "collapsed": false,
    "pycharm": {
     "name": "#%%\n"
    }
   }
  },
  {
   "cell_type": "code",
   "execution_count": 285,
   "outputs": [],
   "source": [
    "smiles_desalted = ch.desalter(row['smiles'])\n",
    "mol = Chem.MolFromSmiles(smiles_desalted)\n",
    "ch.everything_to_image(mol, os.path.join(master_parent, 'carboxylic_demo_desalted.png'))"
   ],
   "metadata": {
    "collapsed": false,
    "pycharm": {
     "name": "#%%\n"
    }
   }
  },
  {
   "cell_type": "code",
   "execution_count": 288,
   "outputs": [
    {
     "data": {
      "text/plain": "<rdkit.Chem.rdchem.Mol at 0x17f09f820>",
      "image/png": "[encoded data removed]"
     },
     "execution_count": 288,
     "metadata": {},
     "output_type": "execute_result"
    }
   ],
   "source": [
    "row = std_list.iloc[108]\n",
    "mol = Chem.MolFromSmiles(row['smiles'])\n",
    "mol\n",
    "# ch.everything_to_image(mol, os.path.join(master_parent, 'carboxylic_demo.png'))"
   ],
   "metadata": {
    "collapsed": false,
    "pycharm": {
     "name": "#%%\n"
    }
   }
  }
 ],
 "metadata": {
  "kernelspec": {
   "name": "alphapept_env",
   "language": "python",
   "display_name": "alphapept_env"
  },
  "language_info": {
   "codemirror_mode": {
    "name": "ipython",
    "version": 2
   },
   "file_extension": ".py",
   "mimetype": "text/x-python",
   "name": "python",
   "nbconvert_exporter": "python",
   "pygments_lexer": "ipython2",
   "version": "2.7.6"
  }
 },
 "nbformat": 4,
 "nbformat_minor": 0
}