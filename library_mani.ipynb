{
 "cells": [
  {
   "cell_type": "code",
   "execution_count": 1,
   "outputs": [],
   "source": [
    "import os\n",
    "%load_ext autoreload\n",
    "%autoreload\n",
    "import pandas as pd\n",
    "from ast import literal_eval\n",
    "from tqdm import tqdm\n",
    "import toolsets.spectra_operations as so"
   ],
   "metadata": {
    "collapsed": false,
    "pycharm": {
     "name": "#%%\n"
    }
   }
  },
  {
   "cell_type": "code",
   "execution_count": 2,
   "outputs": [],
   "source": [
    "mega_mona_all = pd.read_csv(os.path.join('/Users/fanzhoukong/Documents/GitHub/Libgen_data/curated_library/csv', 'neg_orbi.csv'), low_memory=False)"
   ],
   "metadata": {
    "collapsed": false,
    "pycharm": {
     "name": "#%%\n"
    }
   }
  },
  {
   "cell_type": "code",
   "execution_count": 3,
   "outputs": [],
   "source": [
    "mega_mona_all = mega_mona_all[mega_mona_all['Spectrum_type']=='MS2']"
   ],
   "metadata": {
    "collapsed": false,
    "pycharm": {
     "name": "#%%\n"
    }
   }
  },
  {
   "cell_type": "code",
   "execution_count": 4,
   "outputs": [
    {
     "name": "stderr",
     "output_type": "stream",
     "text": [
      "100%|██████████| 766752/766752 [01:32<00:00, 8270.82it/s] \n"
     ]
    }
   ],
   "source": [
    "msms = []\n",
    "for index, row in tqdm(mega_mona_all.iterrows(), total = len(mega_mona_all)):\n",
    "    msms.append(so.convert_nist_to_string(literal_eval(row['spectrum'])))"
   ],
   "metadata": {
    "collapsed": false,
    "pycharm": {
     "name": "#%%\n"
    }
   }
  },
  {
   "cell_type": "code",
   "execution_count": 13,
   "outputs": [],
   "source": [
    "mega_mona_all.to_csv('/Users/fanzhoukong/Documents/GitHub/Libgen_data/curated_library/csv/neg_orbi_ms2_only.csv', index = False)\n",
    "\n"
   ],
   "metadata": {
    "collapsed": false,
    "pycharm": {
     "name": "#%%\n"
    }
   }
  },
  {
   "cell_type": "code",
   "execution_count": 6,
   "outputs": [],
   "source": [
    "mega_mona_all['precursor_c']=pd.to_numeric(mega_mona_all['PrecursorMZ'], errors='coerce')"
   ],
   "metadata": {
    "collapsed": false,
    "pycharm": {
     "name": "#%%\n"
    }
   }
  },
  {
   "cell_type": "code",
   "execution_count": 7,
   "outputs": [],
   "source": [
    "mega_mona_filtered = pd.DataFrame(zip(mega_mona_all['Name'],mega_mona_all['InChIKey'],mega_mona_all['Precursor_type'],mega_mona_all['PrecursorMZ'],mega_mona_all['SMILES'],msms), columns=['name','inchikey','adduct','precursor_mz','smiles', 'msms'])"
   ],
   "metadata": {
    "collapsed": false,
    "pycharm": {
     "name": "#%%\n"
    }
   }
  },
  {
   "cell_type": "code",
   "execution_count": 12,
   "outputs": [],
   "source": [
    "mega_mona_filtered.to_csv('/Users/fanzhoukong/Documents/GitHub/Libgen_data/curated_library/csv/neg_orbi_filtered.csv', index = False )"
   ],
   "metadata": {
    "collapsed": false,
    "pycharm": {
     "name": "#%%\n"
    }
   }
  }
 ],
 "metadata": {
  "kernelspec": {
   "name": "alphapept_env",
   "language": "python",
   "display_name": "alphapept_env"
  },
  "language_info": {
   "codemirror_mode": {
    "name": "ipython",
    "version": 2
   },
   "file_extension": ".py",
   "mimetype": "text/x-python",
   "name": "python",
   "nbconvert_exporter": "python",
   "pygments_lexer": "ipython2",
   "version": "2.7.6"
  }
 },
 "nbformat": 4,
 "nbformat_minor": 0
}