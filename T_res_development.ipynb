{
 "cells": [
  {
   "cell_type": "code",
   "execution_count": 26,
   "metadata": {
    "collapsed": true,
    "pycharm": {
     "name": "#%%\n"
    }
   },
   "outputs": [
    {
     "name": "stdout",
     "output_type": "stream",
     "text": [
      "The autoreload extension is already loaded. To reload it, use:\n",
      "  %reload_ext autoreload\n"
     ]
    }
   ],
   "source": [
    "import time\n",
    "\n",
    "import matplotlib.pyplot as plt\n",
    "import numpy as np\n",
    "%load_ext autoreload\n",
    "%autoreload 2\n",
    "import os\n",
    "import pandas as pd\n",
    "from toolsets.file_io import get_file_list, split_file_list\n",
    "from toolsets.ff_droup import process_mzml, get_EIC_list, EIC, feature_finding, get_mz_bin, get_peaks, get_edges, find_most_close, connect_peaks, moving_average, get_centroid, get_feature, get_ms1_feature, get_istd_info, get_istd_info_all\n",
    "from toolsets.search import string_search, quick_search_values, quick_search_sorted\n",
    "from skimage.restoration import denoise_wavelet\n",
    "import seaborn as sns\n",
    "import matplotlib.pyplot as plt\n",
    "from pybaselines import utils\n",
    "import pybaselines\n",
    "import toolsets.spectra_operations as so\n",
    "# eic_dir = '/Users/fanzhoukong/Documents/GitHub/Libgen_data/gut_microbiom/EICs_snip_baseline_estimate'\n",
    "from tqdm import tqdm\n",
    "from scipy.fft import fft, ifft\n",
    "mzml_dir = '/Users/fanzhoukong/Documents/GitHub/Libgen_data/gut_microbiom/HILIC pos mode mzml'\n",
    "master_dir = '/Users/fanzhoukong/Documents/GitHub/Libgen_data/gut_microbiom'\n",
    "file_list = get_file_list(mzml_dir, '.mzML', with_tail=False)"
   ]
  },
  {
   "cell_type": "code",
   "execution_count": 4,
   "outputs": [],
   "source": [
    "samples, qcs, blks = split_file_list(file_list)"
   ],
   "metadata": {
    "collapsed": false,
    "pycharm": {
     "name": "#%%\n"
    }
   }
  },
  {
   "cell_type": "code",
   "execution_count": 6,
   "outputs": [],
   "source": [
    "ms1, ms2 = process_mzml(qcs[0], parent_dir=mzml_dir, rt_max=5)"
   ],
   "metadata": {
    "collapsed": false,
    "pycharm": {
     "name": "#%%\n"
    }
   }
  },
  {
   "cell_type": "code",
   "execution_count": 96,
   "outputs": [
    {
     "data": {
      "text/plain": "      scan_idx  cycle  ms_level  precursor_mz  charge        rt  \\\n0         1532    510         2     84.044535       1  2.179297   \n1         1693    564         2     84.080942       1  2.408015   \n2         1121    373         2     84.911423       1  1.607826   \n3          788    262         2     85.132378       1  1.130146   \n4          818    272         2     85.132362       1  1.170141   \n...        ...    ...       ...           ...     ...       ...   \n1723       137     45         2    790.380167       1  0.213685   \n1724       187     62         2    817.582926       1  0.276779   \n1725       293     97         2    817.583493       1  0.423090   \n1726       188     62         2    834.609487       1  0.277456   \n1727       295     98         2    834.610132       1  0.426326   \n\n                                                  peaks  \\\n0     70.03838348388672\\t2118.0224609375\\n84.0445175...   \n1     67.05448913574219\\t8925.4775390625\\n82.0649490...   \n2     66.1156005859375\\t12224.4501953125\\n68.1296615...   \n3     66.10527038574219\\t27666.376953125\\n66.1068420...   \n4     64.92672729492188\\t35700.0\\n66.1048812866211\\t...   \n...                                                 ...   \n1723  61.02862548828125\\t34443.98046875\\n69.03365325...   \n1724  64.02779388427734\\t87841.9921875\\n77.122894287...   \n1725  67.0545425415039\\t11491.2685546875\\n77.3665542...   \n1726  69.23934173583984\\t86629.6953125\\n86.682929992...   \n1727  64.53854370117188\\t6841.58447265625\\n88.812271...   \n\n                          isolation_window     ms1_pmz    ms1_rt  \\\n0       (83.544532775879, 84.544532775879)   84.044571  2.174278   \n1       (83.580940246582, 84.580940246582)   84.080986  2.405820   \n2       (84.411422729492, 85.411422729492)   84.911430  1.603982   \n3       (84.632377624512, 85.632377624512)   85.132362  1.126835   \n4       (84.632362365723, 85.632362365723)   85.132370  1.167083   \n...                                    ...         ...       ...   \n1723  (789.880187988281, 790.880187988281)  790.380493  0.210337   \n1724  (817.082946777344, 818.082946777344)  817.582947  0.274555   \n1725    (817.08349609375, 818.08349609375)  817.583313  0.419844   \n1726  (834.109497070313, 835.109497070313)  834.609375  0.274555   \n1727  (834.110107421875, 835.110107421875)  834.610168  0.423788   \n\n      ms1_precursor_intensity  peak_purity  mz_offset  \\\n0                3.122020e+06     0.948551   0.000036   \n1                1.665078e+06     0.905353   0.000044   \n2                9.098159e+05     0.945485   0.000008   \n3                9.730859e+06     0.956717   0.000015   \n4                4.567197e+07     0.947367   0.000008   \n...                       ...          ...        ...   \n1723             1.836062e+07     1.000000   0.000327   \n1724             1.381094e+08     0.997949   0.000021   \n1725             1.003972e+07     1.000000   0.000180   \n1726             1.240460e+08     0.993788   0.000112   \n1727             1.167418e+07     0.993141   0.000036   \n\n                                                  mix  \\\n0     PoolQC080_MX741718_posBA_postSchebesta0781.mzML   \n1     PoolQC080_MX741718_posBA_postSchebesta0781.mzML   \n2     PoolQC080_MX741718_posBA_postSchebesta0781.mzML   \n3     PoolQC080_MX741718_posBA_postSchebesta0781.mzML   \n4     PoolQC080_MX741718_posBA_postSchebesta0781.mzML   \n...                                               ...   \n1723  PoolQC080_MX741718_posBA_postSchebesta0781.mzML   \n1724  PoolQC080_MX741718_posBA_postSchebesta0781.mzML   \n1725  PoolQC080_MX741718_posBA_postSchebesta0781.mzML   \n1726  PoolQC080_MX741718_posBA_postSchebesta0781.mzML   \n1727  PoolQC080_MX741718_posBA_postSchebesta0781.mzML   \n\n                                            base_name  \n0     PoolQC080_MX741718_posBA_postSchebesta0781.mzML  \n1     PoolQC080_MX741718_posBA_postSchebesta0781.mzML  \n2     PoolQC080_MX741718_posBA_postSchebesta0781.mzML  \n3     PoolQC080_MX741718_posBA_postSchebesta0781.mzML  \n4     PoolQC080_MX741718_posBA_postSchebesta0781.mzML  \n...                                               ...  \n1723  PoolQC080_MX741718_posBA_postSchebesta0781.mzML  \n1724  PoolQC080_MX741718_posBA_postSchebesta0781.mzML  \n1725  PoolQC080_MX741718_posBA_postSchebesta0781.mzML  \n1726  PoolQC080_MX741718_posBA_postSchebesta0781.mzML  \n1727  PoolQC080_MX741718_posBA_postSchebesta0781.mzML  \n\n[1728 rows x 15 columns]",
      "text/html": "<div>\n<style scoped>\n    .dataframe tbody tr th:only-of-type {\n        vertical-align: middle;\n    }\n\n    .dataframe tbody tr th {\n        vertical-align: top;\n    }\n\n    .dataframe thead th {\n        text-align: right;\n    }\n</style>\n<table border=\"1\" class=\"dataframe\">\n  <thead>\n    <tr style=\"text-align: right;\">\n      <th></th>\n      <th>scan_idx</th>\n      <th>cycle</th>\n      <th>ms_level</th>\n      <th>precursor_mz</th>\n      <th>charge</th>\n      <th>rt</th>\n      <th>peaks</th>\n      <th>isolation_window</th>\n      <th>ms1_pmz</th>\n      <th>ms1_rt</th>\n      <th>ms1_precursor_intensity</th>\n      <th>peak_purity</th>\n      <th>mz_offset</th>\n      <th>mix</th>\n      <th>base_name</th>\n    </tr>\n  </thead>\n  <tbody>\n    <tr>\n      <th>0</th>\n      <td>1532</td>\n      <td>510</td>\n      <td>2</td>\n      <td>84.044535</td>\n      <td>1</td>\n      <td>2.179297</td>\n      <td>70.03838348388672\\t2118.0224609375\\n84.0445175...</td>\n      <td>(83.544532775879, 84.544532775879)</td>\n      <td>84.044571</td>\n      <td>2.174278</td>\n      <td>3.122020e+06</td>\n      <td>0.948551</td>\n      <td>0.000036</td>\n      <td>PoolQC080_MX741718_posBA_postSchebesta0781.mzML</td>\n      <td>PoolQC080_MX741718_posBA_postSchebesta0781.mzML</td>\n    </tr>\n    <tr>\n      <th>1</th>\n      <td>1693</td>\n      <td>564</td>\n      <td>2</td>\n      <td>84.080942</td>\n      <td>1</td>\n      <td>2.408015</td>\n      <td>67.05448913574219\\t8925.4775390625\\n82.0649490...</td>\n      <td>(83.580940246582, 84.580940246582)</td>\n      <td>84.080986</td>\n      <td>2.405820</td>\n      <td>1.665078e+06</td>\n      <td>0.905353</td>\n      <td>0.000044</td>\n      <td>PoolQC080_MX741718_posBA_postSchebesta0781.mzML</td>\n      <td>PoolQC080_MX741718_posBA_postSchebesta0781.mzML</td>\n    </tr>\n    <tr>\n      <th>2</th>\n      <td>1121</td>\n      <td>373</td>\n      <td>2</td>\n      <td>84.911423</td>\n      <td>1</td>\n      <td>1.607826</td>\n      <td>66.1156005859375\\t12224.4501953125\\n68.1296615...</td>\n      <td>(84.411422729492, 85.411422729492)</td>\n      <td>84.911430</td>\n      <td>1.603982</td>\n      <td>9.098159e+05</td>\n      <td>0.945485</td>\n      <td>0.000008</td>\n      <td>PoolQC080_MX741718_posBA_postSchebesta0781.mzML</td>\n      <td>PoolQC080_MX741718_posBA_postSchebesta0781.mzML</td>\n    </tr>\n    <tr>\n      <th>3</th>\n      <td>788</td>\n      <td>262</td>\n      <td>2</td>\n      <td>85.132378</td>\n      <td>1</td>\n      <td>1.130146</td>\n      <td>66.10527038574219\\t27666.376953125\\n66.1068420...</td>\n      <td>(84.632377624512, 85.632377624512)</td>\n      <td>85.132362</td>\n      <td>1.126835</td>\n      <td>9.730859e+06</td>\n      <td>0.956717</td>\n      <td>0.000015</td>\n      <td>PoolQC080_MX741718_posBA_postSchebesta0781.mzML</td>\n      <td>PoolQC080_MX741718_posBA_postSchebesta0781.mzML</td>\n    </tr>\n    <tr>\n      <th>4</th>\n      <td>818</td>\n      <td>272</td>\n      <td>2</td>\n      <td>85.132362</td>\n      <td>1</td>\n      <td>1.170141</td>\n      <td>64.92672729492188\\t35700.0\\n66.1048812866211\\t...</td>\n      <td>(84.632362365723, 85.632362365723)</td>\n      <td>85.132370</td>\n      <td>1.167083</td>\n      <td>4.567197e+07</td>\n      <td>0.947367</td>\n      <td>0.000008</td>\n      <td>PoolQC080_MX741718_posBA_postSchebesta0781.mzML</td>\n      <td>PoolQC080_MX741718_posBA_postSchebesta0781.mzML</td>\n    </tr>\n    <tr>\n      <th>...</th>\n      <td>...</td>\n      <td>...</td>\n      <td>...</td>\n      <td>...</td>\n      <td>...</td>\n      <td>...</td>\n      <td>...</td>\n      <td>...</td>\n      <td>...</td>\n      <td>...</td>\n      <td>...</td>\n      <td>...</td>\n      <td>...</td>\n      <td>...</td>\n      <td>...</td>\n    </tr>\n    <tr>\n      <th>1723</th>\n      <td>137</td>\n      <td>45</td>\n      <td>2</td>\n      <td>790.380167</td>\n      <td>1</td>\n      <td>0.213685</td>\n      <td>61.02862548828125\\t34443.98046875\\n69.03365325...</td>\n      <td>(789.880187988281, 790.880187988281)</td>\n      <td>790.380493</td>\n      <td>0.210337</td>\n      <td>1.836062e+07</td>\n      <td>1.000000</td>\n      <td>0.000327</td>\n      <td>PoolQC080_MX741718_posBA_postSchebesta0781.mzML</td>\n      <td>PoolQC080_MX741718_posBA_postSchebesta0781.mzML</td>\n    </tr>\n    <tr>\n      <th>1724</th>\n      <td>187</td>\n      <td>62</td>\n      <td>2</td>\n      <td>817.582926</td>\n      <td>1</td>\n      <td>0.276779</td>\n      <td>64.02779388427734\\t87841.9921875\\n77.122894287...</td>\n      <td>(817.082946777344, 818.082946777344)</td>\n      <td>817.582947</td>\n      <td>0.274555</td>\n      <td>1.381094e+08</td>\n      <td>0.997949</td>\n      <td>0.000021</td>\n      <td>PoolQC080_MX741718_posBA_postSchebesta0781.mzML</td>\n      <td>PoolQC080_MX741718_posBA_postSchebesta0781.mzML</td>\n    </tr>\n    <tr>\n      <th>1725</th>\n      <td>293</td>\n      <td>97</td>\n      <td>2</td>\n      <td>817.583493</td>\n      <td>1</td>\n      <td>0.423090</td>\n      <td>67.0545425415039\\t11491.2685546875\\n77.3665542...</td>\n      <td>(817.08349609375, 818.08349609375)</td>\n      <td>817.583313</td>\n      <td>0.419844</td>\n      <td>1.003972e+07</td>\n      <td>1.000000</td>\n      <td>0.000180</td>\n      <td>PoolQC080_MX741718_posBA_postSchebesta0781.mzML</td>\n      <td>PoolQC080_MX741718_posBA_postSchebesta0781.mzML</td>\n    </tr>\n    <tr>\n      <th>1726</th>\n      <td>188</td>\n      <td>62</td>\n      <td>2</td>\n      <td>834.609487</td>\n      <td>1</td>\n      <td>0.277456</td>\n      <td>69.23934173583984\\t86629.6953125\\n86.682929992...</td>\n      <td>(834.109497070313, 835.109497070313)</td>\n      <td>834.609375</td>\n      <td>0.274555</td>\n      <td>1.240460e+08</td>\n      <td>0.993788</td>\n      <td>0.000112</td>\n      <td>PoolQC080_MX741718_posBA_postSchebesta0781.mzML</td>\n      <td>PoolQC080_MX741718_posBA_postSchebesta0781.mzML</td>\n    </tr>\n    <tr>\n      <th>1727</th>\n      <td>295</td>\n      <td>98</td>\n      <td>2</td>\n      <td>834.610132</td>\n      <td>1</td>\n      <td>0.426326</td>\n      <td>64.53854370117188\\t6841.58447265625\\n88.812271...</td>\n      <td>(834.110107421875, 835.110107421875)</td>\n      <td>834.610168</td>\n      <td>0.423788</td>\n      <td>1.167418e+07</td>\n      <td>0.993141</td>\n      <td>0.000036</td>\n      <td>PoolQC080_MX741718_posBA_postSchebesta0781.mzML</td>\n      <td>PoolQC080_MX741718_posBA_postSchebesta0781.mzML</td>\n    </tr>\n  </tbody>\n</table>\n<p>1728 rows × 15 columns</p>\n</div>"
     },
     "execution_count": 96,
     "metadata": {},
     "output_type": "execute_result"
    }
   ],
   "source": [
    "ms2"
   ],
   "metadata": {
    "collapsed": false,
    "pycharm": {
     "name": "#%%\n"
    }
   }
  },
  {
   "cell_type": "code",
   "execution_count": 97,
   "outputs": [
    {
     "data": {
      "text/plain": "<Figure size 1000x600 with 1 Axes>",
      "image/png": "[encoded data removed]"
     },
     "metadata": {},
     "output_type": "display_data"
    }
   ],
   "source": [
    "rt_list, intensity_list = get_EIC_list(ms1, 85.132362, step=0.5)\n",
    "EIC(rt_list, intensity_list)"
   ],
   "metadata": {
    "collapsed": false,
    "pycharm": {
     "name": "#%%\n"
    }
   }
  },
  {
   "cell_type": "code",
   "execution_count": 98,
   "outputs": [
    {
     "data": {
      "text/plain": "<Figure size 1000x600 with 1 Axes>",
      "image/png": "[encoded data removed]"
     },
     "metadata": {},
     "output_type": "display_data"
    }
   ],
   "source": [
    "rt_list, intensity_list = get_EIC_list(ms1, 85.132362, step=0.005)\n",
    "EIC(rt_list, intensity_list)"
   ],
   "metadata": {
    "collapsed": false,
    "pycharm": {
     "name": "#%%\n"
    }
   }
  },
  {
   "cell_type": "code",
   "execution_count": 28,
   "outputs": [],
   "source": [
    "mass = []\n",
    "intensity =[]\n",
    "for index, row in ms1.iterrows():\n",
    "    mass_temp, intensity_temp = so.break_spectra(row['peaks'])\n",
    "    mass.extend(mass_temp)\n",
    "    intensity.extend(intensity_temp)"
   ],
   "metadata": {
    "collapsed": false,
    "pycharm": {
     "name": "#%%\n"
    }
   }
  },
  {
   "cell_type": "code",
   "execution_count": 31,
   "outputs": [],
   "source": [
    "\n"
   ],
   "metadata": {
    "collapsed": false,
    "pycharm": {
     "name": "#%%\n"
    }
   }
  },
  {
   "cell_type": "code",
   "execution_count": 33,
   "outputs": [],
   "source": [
    "seed_idx = np.argmax(intensity_sorted)\n"
   ],
   "metadata": {
    "collapsed": false,
    "pycharm": {
     "name": "#%%\n"
    }
   }
  },
  {
   "cell_type": "code",
   "execution_count": 35,
   "outputs": [
    {
     "data": {
      "text/plain": "288913"
     },
     "execution_count": 35,
     "metadata": {},
     "output_type": "execute_result"
    }
   ],
   "source": [
    "seed_idx"
   ],
   "metadata": {
    "collapsed": false,
    "pycharm": {
     "name": "#%%\n"
    }
   }
  },
  {
   "cell_type": "code",
   "execution_count": 37,
   "outputs": [
    {
     "data": {
      "text/plain": "180.1211395263672"
     },
     "execution_count": 37,
     "metadata": {},
     "output_type": "execute_result"
    }
   ],
   "source": [
    "mass_sorted[seed_idx]"
   ],
   "metadata": {
    "collapsed": false,
    "pycharm": {
     "name": "#%%\n"
    }
   }
  },
  {
   "cell_type": "code",
   "execution_count": 75,
   "outputs": [],
   "source": [
    "mass_slice = mass[0:100]"
   ],
   "metadata": {
    "collapsed": false,
    "pycharm": {
     "name": "#%%\n"
    }
   }
  },
  {
   "cell_type": "code",
   "execution_count": 122,
   "outputs": [],
   "source": [
    "import time"
   ],
   "metadata": {
    "collapsed": false,
    "pycharm": {
     "name": "#%%\n"
    }
   }
  },
  {
   "cell_type": "code",
   "execution_count": 171,
   "outputs": [],
   "source": [
    "def get_ion_trace_debug(mass, intensity, tolerance = 0.005):\n",
    "    mass_sorted, intensity_sorted = zip(*sorted(zip(mass, intensity)))\n",
    "    ion_trace = []\n",
    "    start_point = time.time()\n",
    "    seed_idx = np.argmax(intensity_sorted)\n",
    "    point1 = time.time()\n",
    "    seed_mass = mass_sorted[seed_idx]\n",
    "    ion_trace.append(seed_mass)\n",
    "    point2= time.time()\n",
    "    value_start = seed_mass-tolerance\n",
    "    value_end = seed_mass+tolerance\n",
    "    point3 = time.time()\n",
    "    idx_start, idx_end = np.searchsorted(mass_sorted, [value_start, value_end])\n",
    "    # idx_end = np.searchsorted(mass_sorted, value_end,side = 'right')\n",
    "    point4 = time.time()\n",
    "    # mass_extracted = mass_sorted[idx_start:idx_end]\n",
    "    point5 = time.time()\n",
    "    mass_sorted = mass_sorted[0:idx_start]+mass_sorted[idx_end:]\n",
    "    intensity_sorted = intensity_sorted[0:idx_start]+intensity_sorted[idx_end:]\n",
    "    point6 = time.time()\n",
    "\n",
    "\n",
    "        # print(len(mass_sorted))\n",
    "    return(start_point, point1, point2, point3, point4, point5, point6)\n",
    "def get_ion_trace(mass, intensity, tolerance = 0.005):\n",
    "    mass_sorted, intensity_sorted = zip(*sorted(zip(mass, intensity)))\n",
    "    ion_trace = []\n",
    "    while(len(mass_sorted)>0):\n",
    "    # start_point = time.time()\n",
    "        seed_idx = np.argmax(intensity_sorted)\n",
    "        # point1 = time.time()\n",
    "        seed_mass = mass_sorted[seed_idx]\n",
    "        ion_trace.append(seed_mass)\n",
    "        # point2= time.time()\n",
    "        value_start = seed_mass-tolerance\n",
    "        value_end = seed_mass+tolerance\n",
    "        # point3 = time.time()\n",
    "        idx_start, idx_end = np.searchsorted(mass_sorted, [value_start, value_end])\n",
    "        # idx_end = np.searchsorted(mass_sorted, value_end,side = 'right')\n",
    "        # point4 = time.time()\n",
    "        # mass_extracted = mass_sorted[idx_start:idx_end]\n",
    "        # point5 = time.time()\n",
    "        mass_sorted = mass_sorted[0:idx_start]+mass_sorted[idx_end:]\n",
    "        intensity_sorted = intensity_sorted[0:idx_start]+intensity_sorted[idx_end:]\n",
    "    # point6 = time.time()\n",
    "\n",
    "\n",
    "    # print(len(mass_sorted))\n",
    "    return(ion_trace)\n",
    "def get_ion_trace_df(mass, intensity):\n",
    "    ion_trace_df = pd.DataFrame(zip(mass, intensity), columns=['mass', 'intensity'])\n",
    "    ion_trace_df.sort_values(by = 'mass', ascending=True, inplace=True)\n",
    "    bins = []\n",
    "    while len(ion_trace_df)>0:\n",
    "        current_cluster = quick_search_sorted(ion_trace_df, 'mass', value_start=ion_trace_df.iloc[np.argmax(ion_trace_df['intensity'])]['mass']-0.005,\n",
    "                                              value_end=ion_trace_df.iloc[np.argmax(ion_trace_df['intensity'])]['mass']+0.005)\n",
    "        bins.append(current_cluster.iloc[np.argmax(current_cluster['intensity'])]['mass'])\n",
    "        # current_cluster = num_search(ms2_working, 'precursor_mz', ms2_working.iloc[np.argmax(ms2_working['ms1_precursor_intensity'])]['precursor_mz'], direction='between', step=0.005, inclusion=True)\n",
    "        ion_trace_df.drop(current_cluster.index, inplace=True)\n",
    "    return(bins)"
   ],
   "metadata": {
    "collapsed": false,
    "pycharm": {
     "name": "#%%\n"
    }
   }
  },
  {
   "cell_type": "code",
   "execution_count": 172,
   "outputs": [
    {
     "name": "stdout",
     "output_type": "stream",
     "text": [
      "134.50063610076904\n"
     ]
    }
   ],
   "source": [
    "start = time.time()\n",
    "\n",
    "t = get_ion_trace(mass, intensity, tolerance = 0.005)\n",
    "end = time.time()\n",
    "print((end-start))"
   ],
   "metadata": {
    "collapsed": false,
    "pycharm": {
     "name": "#%%\n"
    }
   }
  },
  {
   "cell_type": "code",
   "execution_count": 167,
   "outputs": [
    {
     "data": {
      "text/plain": "32678"
     },
     "execution_count": 167,
     "metadata": {},
     "output_type": "execute_result"
    }
   ],
   "source": [
    "len(tt)"
   ],
   "metadata": {
    "collapsed": false,
    "pycharm": {
     "name": "#%%\n"
    }
   }
  },
  {
   "cell_type": "code",
   "execution_count": 161,
   "outputs": [],
   "source": [
    "idx_start, idx_end = np.searchsorted(mass, [80.02437591552734-0.005, 80.02437591552734+0.005])"
   ],
   "metadata": {
    "collapsed": false,
    "pycharm": {
     "name": "#%%\n"
    }
   }
  },
  {
   "cell_type": "code",
   "execution_count": 162,
   "outputs": [
    {
     "data": {
      "text/plain": "3"
     },
     "execution_count": 162,
     "metadata": {},
     "output_type": "execute_result"
    }
   ],
   "source": [
    "idx_start"
   ],
   "metadata": {
    "collapsed": false,
    "pycharm": {
     "name": "#%%\n"
    }
   }
  },
  {
   "cell_type": "code",
   "execution_count": 160,
   "outputs": [
    {
     "data": {
      "text/plain": "80.01937591552735"
     },
     "execution_count": 160,
     "metadata": {},
     "output_type": "execute_result"
    }
   ],
   "source": [
    "80.02437591552734-0.005"
   ],
   "metadata": {
    "collapsed": false,
    "pycharm": {
     "name": "#%%\n"
    }
   }
  },
  {
   "cell_type": "code",
   "execution_count": 159,
   "outputs": [
    {
     "data": {
      "text/plain": "[79.99992370605469, 80.00228881835938, 80.01351165771484]"
     },
     "execution_count": 159,
     "metadata": {},
     "output_type": "execute_result"
    }
   ],
   "source": [
    "mass[0:3]"
   ],
   "metadata": {
    "collapsed": false,
    "pycharm": {
     "name": "#%%\n"
    }
   }
  },
  {
   "cell_type": "code",
   "execution_count": 158,
   "outputs": [
    {
     "data": {
      "text/plain": "[80.02198028564453,\n 80.02314758300781,\n 80.02437591552734,\n 80.02449798583984,\n 80.02456665039062,\n 80.02460479736328,\n 80.0246353149414,\n 80.02470397949219,\n 80.02622985839844,\n 80.026611328125]"
     },
     "execution_count": 158,
     "metadata": {},
     "output_type": "execute_result"
    }
   ],
   "source": [
    "mass[3:13]"
   ],
   "metadata": {
    "collapsed": false,
    "pycharm": {
     "name": "#%%\n"
    }
   }
  },
  {
   "cell_type": "code",
   "execution_count": 131,
   "outputs": [
    {
     "data": {
      "text/plain": "28377988.805270817"
     },
     "execution_count": 131,
     "metadata": {},
     "output_type": "execute_result"
    }
   ],
   "source": [],
   "metadata": {
    "collapsed": false,
    "pycharm": {
     "name": "#%%\n"
    }
   }
  },
  {
   "cell_type": "code",
   "execution_count": 120,
   "outputs": [],
   "source": [
    "s2 = time()"
   ],
   "metadata": {
    "collapsed": false,
    "pycharm": {
     "name": "#%%\n"
    }
   }
  },
  {
   "cell_type": "code",
   "execution_count": 121,
   "outputs": [
    {
     "data": {
      "text/plain": "2.016652822494507"
     },
     "execution_count": 121,
     "metadata": {},
     "output_type": "execute_result"
    }
   ],
   "source": [
    "s2-s1"
   ],
   "metadata": {
    "collapsed": false,
    "pycharm": {
     "name": "#%%\n"
    }
   }
  },
  {
   "cell_type": "code",
   "execution_count": 85,
   "outputs": [
    {
     "name": "stdout",
     "output_type": "stream",
     "text": [
      "1.1972052812576295\n"
     ]
    }
   ],
   "source": [
    "start = time.time()\n",
    "tt = get_ion_trace_df(mass, intensity)\n",
    "end = time.time()\n",
    "print((end-start)/60)"
   ],
   "metadata": {
    "collapsed": false,
    "pycharm": {
     "name": "#%%\n"
    }
   }
  },
  {
   "cell_type": "code",
   "execution_count": 103,
   "outputs": [
    {
     "ename": "AttributeError",
     "evalue": "'tuple' object has no attribute 'time'",
     "output_type": "error",
     "traceback": [
      "\u001B[0;31m---------------------------------------------------------------------------\u001B[0m",
      "\u001B[0;31mAttributeError\u001B[0m                            Traceback (most recent call last)",
      "Input \u001B[0;32mIn [103]\u001B[0m, in \u001B[0;36m<cell line: 1>\u001B[0;34m()\u001B[0m\n\u001B[0;32m----> 1\u001B[0m start \u001B[38;5;241m=\u001B[39m \u001B[43mtime\u001B[49m\u001B[38;5;241;43m.\u001B[39;49m\u001B[43mtime\u001B[49m()\n",
      "\u001B[0;31mAttributeError\u001B[0m: 'tuple' object has no attribute 'time'"
     ]
    }
   ],
   "source": [
    "start = time.time()"
   ],
   "metadata": {
    "collapsed": false,
    "pycharm": {
     "name": "#%%\n"
    }
   }
  },
  {
   "cell_type": "code",
   "execution_count": 87,
   "outputs": [
    {
     "data": {
      "text/plain": "32678"
     },
     "execution_count": 87,
     "metadata": {},
     "output_type": "execute_result"
    }
   ],
   "source": [
    "len(ion_traces_all)"
   ],
   "metadata": {
    "collapsed": false,
    "pycharm": {
     "name": "#%%\n"
    }
   }
  },
  {
   "cell_type": "code",
   "execution_count": 52,
   "outputs": [
    {
     "data": {
      "text/plain": "-0.00048547363280704303"
     },
     "execution_count": 52,
     "metadata": {},
     "output_type": "execute_result"
    }
   ],
   "source": [
    "tt[0]-180.121625"
   ],
   "metadata": {
    "collapsed": false,
    "pycharm": {
     "name": "#%%\n"
    }
   }
  },
  {
   "cell_type": "code",
   "execution_count": null,
   "outputs": [],
   "source": [
    "tt[0]-"
   ],
   "metadata": {
    "collapsed": false,
    "pycharm": {
     "name": "#%%\n"
    }
   }
  },
  {
   "cell_type": "code",
   "execution_count": 41,
   "outputs": [],
   "source": [
    "rt_list, intensity_list = get_EIC_list(ms1, tt[0])"
   ],
   "metadata": {
    "collapsed": false,
    "pycharm": {
     "name": "#%%\n"
    }
   }
  },
  {
   "cell_type": "code",
   "execution_count": 44,
   "outputs": [],
   "source": [
    "peaks = get_peaks(intensity_list)"
   ],
   "metadata": {
    "collapsed": false,
    "pycharm": {
     "name": "#%%\n"
    }
   }
  },
  {
   "cell_type": "code",
   "execution_count": 48,
   "outputs": [
    {
     "data": {
      "text/plain": "60"
     },
     "execution_count": 48,
     "metadata": {},
     "output_type": "execute_result"
    }
   ],
   "source": [
    "np.argmax(intensity_list)"
   ],
   "metadata": {
    "collapsed": false,
    "pycharm": {
     "name": "#%%\n"
    }
   }
  },
  {
   "cell_type": "code",
   "execution_count": 51,
   "outputs": [
    {
     "data": {
      "text/plain": "0.32639036"
     },
     "execution_count": 51,
     "metadata": {},
     "output_type": "execute_result"
    }
   ],
   "source": [
    "rt_list[75]"
   ],
   "metadata": {
    "collapsed": false,
    "pycharm": {
     "name": "#%%\n"
    }
   }
  },
  {
   "cell_type": "code",
   "execution_count": 54,
   "outputs": [
    {
     "data": {
      "text/plain": "      scan_idx  cycle  ms_level  precursor_mz  charge        rt  \\\n0         1532    510         2     84.044535       1  2.179297   \n1         1693    564         2     84.080942       1  2.408015   \n2         1121    373         2     84.911423       1  1.607826   \n3          788    262         2     85.132378       1  1.130146   \n4          818    272         2     85.132362       1  1.170141   \n...        ...    ...       ...           ...     ...       ...   \n1723       137     45         2    790.380167       1  0.213685   \n1724       187     62         2    817.582926       1  0.276779   \n1725       293     97         2    817.583493       1  0.423090   \n1726       188     62         2    834.609487       1  0.277456   \n1727       295     98         2    834.610132       1  0.426326   \n\n                                                  peaks  \\\n0     70.03838348388672\\t2118.0224609375\\n84.0445175...   \n1     67.05448913574219\\t8925.4775390625\\n82.0649490...   \n2     66.1156005859375\\t12224.4501953125\\n68.1296615...   \n3     66.10527038574219\\t27666.376953125\\n66.1068420...   \n4     64.92672729492188\\t35700.0\\n66.1048812866211\\t...   \n...                                                 ...   \n1723  61.02862548828125\\t34443.98046875\\n69.03365325...   \n1724  64.02779388427734\\t87841.9921875\\n77.122894287...   \n1725  67.0545425415039\\t11491.2685546875\\n77.3665542...   \n1726  69.23934173583984\\t86629.6953125\\n86.682929992...   \n1727  64.53854370117188\\t6841.58447265625\\n88.812271...   \n\n                          isolation_window     ms1_pmz    ms1_rt  \\\n0       (83.544532775879, 84.544532775879)   84.044571  2.174278   \n1       (83.580940246582, 84.580940246582)   84.080986  2.405820   \n2       (84.411422729492, 85.411422729492)   84.911430  1.603982   \n3       (84.632377624512, 85.632377624512)   85.132362  1.126835   \n4       (84.632362365723, 85.632362365723)   85.132370  1.167083   \n...                                    ...         ...       ...   \n1723  (789.880187988281, 790.880187988281)  790.380493  0.210337   \n1724  (817.082946777344, 818.082946777344)  817.582947  0.274555   \n1725    (817.08349609375, 818.08349609375)  817.583313  0.419844   \n1726  (834.109497070313, 835.109497070313)  834.609375  0.274555   \n1727  (834.110107421875, 835.110107421875)  834.610168  0.423788   \n\n      ms1_precursor_intensity  peak_purity  mz_offset  \\\n0                3.122020e+06     0.948551   0.000036   \n1                1.665078e+06     0.905353   0.000044   \n2                9.098159e+05     0.945485   0.000008   \n3                9.730859e+06     0.956717   0.000015   \n4                4.567197e+07     0.947367   0.000008   \n...                       ...          ...        ...   \n1723             1.836062e+07     1.000000   0.000327   \n1724             1.381094e+08     0.997949   0.000021   \n1725             1.003972e+07     1.000000   0.000180   \n1726             1.240460e+08     0.993788   0.000112   \n1727             1.167418e+07     0.993141   0.000036   \n\n                                                  mix  \\\n0     PoolQC080_MX741718_posBA_postSchebesta0781.mzML   \n1     PoolQC080_MX741718_posBA_postSchebesta0781.mzML   \n2     PoolQC080_MX741718_posBA_postSchebesta0781.mzML   \n3     PoolQC080_MX741718_posBA_postSchebesta0781.mzML   \n4     PoolQC080_MX741718_posBA_postSchebesta0781.mzML   \n...                                               ...   \n1723  PoolQC080_MX741718_posBA_postSchebesta0781.mzML   \n1724  PoolQC080_MX741718_posBA_postSchebesta0781.mzML   \n1725  PoolQC080_MX741718_posBA_postSchebesta0781.mzML   \n1726  PoolQC080_MX741718_posBA_postSchebesta0781.mzML   \n1727  PoolQC080_MX741718_posBA_postSchebesta0781.mzML   \n\n                                            base_name  \n0     PoolQC080_MX741718_posBA_postSchebesta0781.mzML  \n1     PoolQC080_MX741718_posBA_postSchebesta0781.mzML  \n2     PoolQC080_MX741718_posBA_postSchebesta0781.mzML  \n3     PoolQC080_MX741718_posBA_postSchebesta0781.mzML  \n4     PoolQC080_MX741718_posBA_postSchebesta0781.mzML  \n...                                               ...  \n1723  PoolQC080_MX741718_posBA_postSchebesta0781.mzML  \n1724  PoolQC080_MX741718_posBA_postSchebesta0781.mzML  \n1725  PoolQC080_MX741718_posBA_postSchebesta0781.mzML  \n1726  PoolQC080_MX741718_posBA_postSchebesta0781.mzML  \n1727  PoolQC080_MX741718_posBA_postSchebesta0781.mzML  \n\n[1728 rows x 15 columns]",
      "text/html": "<div>\n<style scoped>\n    .dataframe tbody tr th:only-of-type {\n        vertical-align: middle;\n    }\n\n    .dataframe tbody tr th {\n        vertical-align: top;\n    }\n\n    .dataframe thead th {\n        text-align: right;\n    }\n</style>\n<table border=\"1\" class=\"dataframe\">\n  <thead>\n    <tr style=\"text-align: right;\">\n      <th></th>\n      <th>scan_idx</th>\n      <th>cycle</th>\n      <th>ms_level</th>\n      <th>precursor_mz</th>\n      <th>charge</th>\n      <th>rt</th>\n      <th>peaks</th>\n      <th>isolation_window</th>\n      <th>ms1_pmz</th>\n      <th>ms1_rt</th>\n      <th>ms1_precursor_intensity</th>\n      <th>peak_purity</th>\n      <th>mz_offset</th>\n      <th>mix</th>\n      <th>base_name</th>\n    </tr>\n  </thead>\n  <tbody>\n    <tr>\n      <th>0</th>\n      <td>1532</td>\n      <td>510</td>\n      <td>2</td>\n      <td>84.044535</td>\n      <td>1</td>\n      <td>2.179297</td>\n      <td>70.03838348388672\\t2118.0224609375\\n84.0445175...</td>\n      <td>(83.544532775879, 84.544532775879)</td>\n      <td>84.044571</td>\n      <td>2.174278</td>\n      <td>3.122020e+06</td>\n      <td>0.948551</td>\n      <td>0.000036</td>\n      <td>PoolQC080_MX741718_posBA_postSchebesta0781.mzML</td>\n      <td>PoolQC080_MX741718_posBA_postSchebesta0781.mzML</td>\n    </tr>\n    <tr>\n      <th>1</th>\n      <td>1693</td>\n      <td>564</td>\n      <td>2</td>\n      <td>84.080942</td>\n      <td>1</td>\n      <td>2.408015</td>\n      <td>67.05448913574219\\t8925.4775390625\\n82.0649490...</td>\n      <td>(83.580940246582, 84.580940246582)</td>\n      <td>84.080986</td>\n      <td>2.405820</td>\n      <td>1.665078e+06</td>\n      <td>0.905353</td>\n      <td>0.000044</td>\n      <td>PoolQC080_MX741718_posBA_postSchebesta0781.mzML</td>\n      <td>PoolQC080_MX741718_posBA_postSchebesta0781.mzML</td>\n    </tr>\n    <tr>\n      <th>2</th>\n      <td>1121</td>\n      <td>373</td>\n      <td>2</td>\n      <td>84.911423</td>\n      <td>1</td>\n      <td>1.607826</td>\n      <td>66.1156005859375\\t12224.4501953125\\n68.1296615...</td>\n      <td>(84.411422729492, 85.411422729492)</td>\n      <td>84.911430</td>\n      <td>1.603982</td>\n      <td>9.098159e+05</td>\n      <td>0.945485</td>\n      <td>0.000008</td>\n      <td>PoolQC080_MX741718_posBA_postSchebesta0781.mzML</td>\n      <td>PoolQC080_MX741718_posBA_postSchebesta0781.mzML</td>\n    </tr>\n    <tr>\n      <th>3</th>\n      <td>788</td>\n      <td>262</td>\n      <td>2</td>\n      <td>85.132378</td>\n      <td>1</td>\n      <td>1.130146</td>\n      <td>66.10527038574219\\t27666.376953125\\n66.1068420...</td>\n      <td>(84.632377624512, 85.632377624512)</td>\n      <td>85.132362</td>\n      <td>1.126835</td>\n      <td>9.730859e+06</td>\n      <td>0.956717</td>\n      <td>0.000015</td>\n      <td>PoolQC080_MX741718_posBA_postSchebesta0781.mzML</td>\n      <td>PoolQC080_MX741718_posBA_postSchebesta0781.mzML</td>\n    </tr>\n    <tr>\n      <th>4</th>\n      <td>818</td>\n      <td>272</td>\n      <td>2</td>\n      <td>85.132362</td>\n      <td>1</td>\n      <td>1.170141</td>\n      <td>64.92672729492188\\t35700.0\\n66.1048812866211\\t...</td>\n      <td>(84.632362365723, 85.632362365723)</td>\n      <td>85.132370</td>\n      <td>1.167083</td>\n      <td>4.567197e+07</td>\n      <td>0.947367</td>\n      <td>0.000008</td>\n      <td>PoolQC080_MX741718_posBA_postSchebesta0781.mzML</td>\n      <td>PoolQC080_MX741718_posBA_postSchebesta0781.mzML</td>\n    </tr>\n    <tr>\n      <th>...</th>\n      <td>...</td>\n      <td>...</td>\n      <td>...</td>\n      <td>...</td>\n      <td>...</td>\n      <td>...</td>\n      <td>...</td>\n      <td>...</td>\n      <td>...</td>\n      <td>...</td>\n      <td>...</td>\n      <td>...</td>\n      <td>...</td>\n      <td>...</td>\n      <td>...</td>\n    </tr>\n    <tr>\n      <th>1723</th>\n      <td>137</td>\n      <td>45</td>\n      <td>2</td>\n      <td>790.380167</td>\n      <td>1</td>\n      <td>0.213685</td>\n      <td>61.02862548828125\\t34443.98046875\\n69.03365325...</td>\n      <td>(789.880187988281, 790.880187988281)</td>\n      <td>790.380493</td>\n      <td>0.210337</td>\n      <td>1.836062e+07</td>\n      <td>1.000000</td>\n      <td>0.000327</td>\n      <td>PoolQC080_MX741718_posBA_postSchebesta0781.mzML</td>\n      <td>PoolQC080_MX741718_posBA_postSchebesta0781.mzML</td>\n    </tr>\n    <tr>\n      <th>1724</th>\n      <td>187</td>\n      <td>62</td>\n      <td>2</td>\n      <td>817.582926</td>\n      <td>1</td>\n      <td>0.276779</td>\n      <td>64.02779388427734\\t87841.9921875\\n77.122894287...</td>\n      <td>(817.082946777344, 818.082946777344)</td>\n      <td>817.582947</td>\n      <td>0.274555</td>\n      <td>1.381094e+08</td>\n      <td>0.997949</td>\n      <td>0.000021</td>\n      <td>PoolQC080_MX741718_posBA_postSchebesta0781.mzML</td>\n      <td>PoolQC080_MX741718_posBA_postSchebesta0781.mzML</td>\n    </tr>\n    <tr>\n      <th>1725</th>\n      <td>293</td>\n      <td>97</td>\n      <td>2</td>\n      <td>817.583493</td>\n      <td>1</td>\n      <td>0.423090</td>\n      <td>67.0545425415039\\t11491.2685546875\\n77.3665542...</td>\n      <td>(817.08349609375, 818.08349609375)</td>\n      <td>817.583313</td>\n      <td>0.419844</td>\n      <td>1.003972e+07</td>\n      <td>1.000000</td>\n      <td>0.000180</td>\n      <td>PoolQC080_MX741718_posBA_postSchebesta0781.mzML</td>\n      <td>PoolQC080_MX741718_posBA_postSchebesta0781.mzML</td>\n    </tr>\n    <tr>\n      <th>1726</th>\n      <td>188</td>\n      <td>62</td>\n      <td>2</td>\n      <td>834.609487</td>\n      <td>1</td>\n      <td>0.277456</td>\n      <td>69.23934173583984\\t86629.6953125\\n86.682929992...</td>\n      <td>(834.109497070313, 835.109497070313)</td>\n      <td>834.609375</td>\n      <td>0.274555</td>\n      <td>1.240460e+08</td>\n      <td>0.993788</td>\n      <td>0.000112</td>\n      <td>PoolQC080_MX741718_posBA_postSchebesta0781.mzML</td>\n      <td>PoolQC080_MX741718_posBA_postSchebesta0781.mzML</td>\n    </tr>\n    <tr>\n      <th>1727</th>\n      <td>295</td>\n      <td>98</td>\n      <td>2</td>\n      <td>834.610132</td>\n      <td>1</td>\n      <td>0.426326</td>\n      <td>64.53854370117188\\t6841.58447265625\\n88.812271...</td>\n      <td>(834.110107421875, 835.110107421875)</td>\n      <td>834.610168</td>\n      <td>0.423788</td>\n      <td>1.167418e+07</td>\n      <td>0.993141</td>\n      <td>0.000036</td>\n      <td>PoolQC080_MX741718_posBA_postSchebesta0781.mzML</td>\n      <td>PoolQC080_MX741718_posBA_postSchebesta0781.mzML</td>\n    </tr>\n  </tbody>\n</table>\n<p>1728 rows × 15 columns</p>\n</div>"
     },
     "execution_count": 54,
     "metadata": {},
     "output_type": "execute_result"
    }
   ],
   "source": [
    "ms2"
   ],
   "metadata": {
    "collapsed": false,
    "pycharm": {
     "name": "#%%\n"
    }
   }
  },
  {
   "cell_type": "code",
   "execution_count": 50,
   "outputs": [
    {
     "data": {
      "text/plain": "<Figure size 1000x600 with 1 Axes>",
      "image/png": "[encoded data removed]"
     },
     "metadata": {},
     "output_type": "display_data"
    }
   ],
   "source": [
    "EIC(rt_list, intensity_list, vlines_location_2=[rt_list[55], rt_list[75]], )"
   ],
   "metadata": {
    "collapsed": false,
    "pycharm": {
     "name": "#%%\n"
    }
   }
  },
  {
   "cell_type": "code",
   "execution_count": null,
   "outputs": [],
   "source": [],
   "metadata": {
    "collapsed": false,
    "pycharm": {
     "name": "#%%\n"
    }
   }
  },
  {
   "cell_type": "code",
   "execution_count": 49,
   "outputs": [
    {
     "data": {
      "text/plain": "[(1, 2, 4),\n (4, 6, 7),\n (7, 8, 9),\n (9, 11, 14),\n (14, 15, 16),\n (16, 19, 22),\n (22, 24, 25),\n (25, 26, 27),\n (27, 29, 32),\n (32, 34, 35),\n (52, 53, 54),\n (55, 60, 75),\n (75, 76, 78),\n (78, 79, 80),\n (80, 81, 86),\n (86, 87, 89),\n (89, 90, 94),\n (94, 95, 99),\n (99, 100, 101),\n (101, 102, 103),\n (103, 104, 105),\n (105, 106, 107),\n (107, 108, 110),\n (110, 111, 112),\n (112, 114, 115),\n (115, 116, 117),\n (117, 118, 120),\n (120, 121, 122),\n (122, 125, 127),\n (127, 128, 130),\n (130, 131, 132),\n (132, 133, 134),\n (134, 135, 138),\n (138, 139, 141),\n (141, 143, 145),\n (145, 146, 148),\n (148, 149, 150),\n (150, 151, 154),\n (154, 155, 156),\n (156, 157, 160),\n (160, 162, 164),\n (164, 165, 166),\n (166, 167, 168),\n (168, 169, 171),\n (171, 172, 175),\n (175, 177, 178),\n (178, 179, 180),\n (180, 181, 183),\n (183, 184, 185),\n (185, 187, 189),\n (189, 190, 191),\n (191, 195, 197),\n (197, 199, 200),\n (200, 204, 205),\n (205, 206, 207),\n (207, 208, 210),\n (210, 211, 212),\n (212, 213, 214),\n (214, 215, 217),\n (217, 218, 219),\n (219, 220, 221),\n (221, 223, 224),\n (224, 225, 226),\n (226, 227, 228),\n (228, 229, 232),\n (232, 233, 234),\n (234, 236, 237),\n (237, 238, 239),\n (239, 241, 242),\n (242, 243, 244),\n (244, 247, 248),\n (248, 250, 251),\n (251, 255, 256),\n (256, 257, 259),\n (259, 260, 261),\n (261, 262, 265),\n (265, 266, 268),\n (268, 269, 270),\n (270, 272, 274),\n (274, 276, 277),\n (277, 278, 280),\n (280, 283, 284),\n (284, 285, 286),\n (286, 287, 288),\n (288, 289, 294),\n (294, 295, 296),\n (296, 297, 298),\n (298, 299, 302),\n (302, 303, 305),\n (305, 306, 309),\n (309, 311, 312),\n (312, 313, 315),\n (315, 317, 318),\n (318, 319, 321),\n (321, 323, 324),\n (324, 325, 326),\n (326, 327, 328),\n (328, 329, 330),\n (330, 332, 333),\n (333, 334, 336),\n (336, 338, 342),\n (342, 345, 348),\n (348, 349, 350),\n (350, 351, 353),\n (353, 354, 355),\n (355, 356, 357),\n (357, 358, 359),\n (359, 361, 363),\n (363, 364, 365),\n (365, 367, 368),\n (368, 369, 370),\n (370, 371, 373),\n (373, 374, 375),\n (375, 376, 381),\n (381, 382, 384),\n (384, 385, 386),\n (386, 388, 389),\n (389, 390, 391),\n (391, 392, 393),\n (393, 396, 397),\n (397, 399, 400),\n (407, 408, 409),\n (409, 410, 411),\n (411, 412, 413),\n (413, 414, 416),\n (416, 417, 419),\n (419, 421, 423),\n (423, 424, 425),\n (425, 428, 429),\n (429, 430, 431),\n (431, 432, 433),\n (433, 434, 435),\n (435, 436, 439),\n (439, 440, 442),\n (442, 443, 444),\n (444, 445, 446),\n (446, 447, 448),\n (448, 449, 450),\n (450, 451, 452),\n (452, 455, 457),\n (457, 459, 461),\n (461, 462, 463),\n (463, 465, 467),\n (467, 469, 470),\n (470, 471, 472),\n (472, 476, 477),\n (477, 478, 480),\n (480, 481, 483),\n (483, 485, 486),\n (486, 488, 489),\n (489, 490, 492),\n (492, 493, 494),\n (494, 496, 497),\n (497, 498, 499),\n (499, 501, 503),\n (503, 504, 505),\n (505, 507, 508),\n (508, 509, 511),\n (511, 512, 513),\n (513, 515, 516),\n (516, 518, 519),\n (519, 520, 521),\n (521, 522, 523),\n (523, 525, 526),\n (526, 527, 530),\n (530, 531, 533),\n (533, 534, 535),\n (535, 536, 538),\n (538, 541, 542),\n (542, 544, 545),\n (545, 546, 547),\n (547, 550, 551),\n (551, 552, 553),\n (553, 555, 556),\n (556, 557, 558),\n (558, 561, 562),\n (562, 565, 566),\n (566, 569, 571),\n (571, 574, 575),\n (575, 576, 578),\n (578, 579, 580),\n (580, 582, 584),\n (584, 585, 587),\n (587, 590, 592),\n (592, 594, 595),\n (595, 596, 598),\n (598, 599, 600),\n (600, 602, 603),\n (603, 604, 607),\n (607, 609, 610),\n (610, 614, 616),\n (616, 617, 618),\n (618, 622, 623),\n (623, 624, 627),\n (627, 628, 629),\n (629, 630, 631),\n (631, 633, 636),\n (636, 638, 639),\n (639, 640, 642),\n (642, 643, 644),\n (644, 646, 647),\n (647, 649, 652),\n (652, 653, 654),\n (654, 655, 656),\n (656, 657, 659),\n (659, 660, 663),\n (663, 665, 666),\n (666, 668, 669),\n (669, 670, 672),\n (672, 673, 675),\n (675, 676, 679),\n (679, 680, 681),\n (681, 682, 683),\n (683, 684, 687),\n (687, 688, 690),\n (690, 691, 693),\n (693, 694, 698),\n (698, 701, 703),\n (703, 705, 706),\n (706, 707, 708),\n (708, 709, 711),\n (711, 713, 714),\n (714, 715, 717),\n (717, 718, 721),\n (721, 723, 724),\n (724, 725, 727),\n (727, 728, 730),\n (730, 731, 732),\n (732, 734, 735),\n (735, 736, 738),\n (738, 740, 742),\n (742, 745, 748),\n (748, 750, 752),\n (752, 754, 755),\n (755, 757, 760),\n (760, 763, 765),\n (765, 766, 767),\n (767, 768, 770),\n (770, 771, 773),\n (773, 774, 776),\n (776, 778, 780),\n (780, 781, 782),\n (782, 783, 785),\n (785, 786, 787),\n (787, 788, 790),\n (790, 791, 792),\n (792, 795, 798),\n (798, 799, 801),\n (801, 802, 803),\n (803, 804, 807),\n (807, 808, 810),\n (810, 813, 815),\n (815, 816, 817),\n (817, 818, 819),\n (819, 820, 822),\n (822, 823, 824),\n (824, 825, 827),\n (827, 828, 829),\n (829, 831, 833),\n (833, 834, 835),\n (835, 838, 839),\n (839, 842, 843),\n (843, 844, 846),\n (846, 848, 849),\n (849, 850, 851),\n (851, 854, 856),\n (856, 857, 858),\n (858, 860, 861)]"
     },
     "execution_count": 49,
     "metadata": {},
     "output_type": "execute_result"
    }
   ],
   "source": [
    "peaks"
   ],
   "metadata": {
    "collapsed": false,
    "pycharm": {
     "name": "#%%\n"
    }
   }
  }
 ],
 "metadata": {
  "kernelspec": {
   "name": "alphapept_env",
   "language": "python",
   "display_name": "alphapept_env"
  },
  "language_info": {
   "codemirror_mode": {
    "name": "ipython",
    "version": 2
   },
   "file_extension": ".py",
   "mimetype": "text/x-python",
   "name": "python",
   "nbconvert_exporter": "python",
   "pygments_lexer": "ipython2",
   "version": "2.7.6"
  }
 },
 "nbformat": 4,
 "nbformat_minor": 0
}