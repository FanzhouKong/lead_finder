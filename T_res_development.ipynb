{
 "cells": [
  {
   "cell_type": "code",
   "execution_count": 559,
   "metadata": {
    "collapsed": true,
    "pycharm": {
     "name": "#%%\n"
    }
   },
   "outputs": [
    {
     "name": "stdout",
     "output_type": "stream",
     "text": [
      "The autoreload extension is already loaded. To reload it, use:\n",
      "  %reload_ext autoreload\n"
     ]
    }
   ],
   "source": [
    "import time\n",
    "\n",
    "import matplotlib.pyplot as plt\n",
    "import numpy as np\n",
    "%load_ext autoreload\n",
    "%autoreload 2\n",
    "import os\n",
    "import pandas as pd\n",
    "from toolsets.file_io import get_file_list\n",
    "import toolsets.T_rex as trx\n",
    "import toolsets.raw_data_scaffold as rds\n",
    "from toolsets.constants import iso_steps\n",
    "mzml_dir = '/Users/fanzhoukong/Documents/GitHub/Libgen_data/benchmarking_dataset/mzml'\n",
    "pl_dir = '/Users/fanzhoukong/Documents/GitHub/Libgen_data/benchmarking_dataset/pl'\n",
    "eic_dir = '/Users/fanzhoukong/Documents/GitHub/Libgen_data/benchmarking_dataset/eic'\n",
    "master_dir = '/Users/fanzhoukong/Documents/GitHub/Libgen_data/benchmarking_dataset'\n",
    "seminar_dir ='/Users/fanzhoukong/Documents/GitHub/Libgen_data/benchmarking_dataset/seminar'\n",
    "from toolsets.search import search_feature, quick_search_values,string_search, quick_search_sorted\n",
    "for f in [mzml_dir, pl_dir, eic_dir,seminar_dir]:\n",
    "    if os.path.exists(f)==False:\n",
    "        os.makedirs(f)\n",
    "file_list = get_file_list(mzml_dir, '.mzML', with_tail=False)\n",
    "import scipy\n",
    "from scipy.signal import find_peaks, peak_prominences\n",
    "from tqdm import tqdm\n",
    "n_neighbor=10\n",
    "intensity_threshold = 30000"
   ]
  },
  {
   "cell_type": "code",
   "execution_count": null,
   "outputs": [],
   "source": [],
   "metadata": {
    "collapsed": false,
    "pycharm": {
     "name": "#%%\n"
    }
   }
  },
  {
   "cell_type": "code",
   "execution_count": 560,
   "outputs": [],
   "source": [
    "std_list = pd.read_csv(os.path.join(master_dir, 'std_list.csv'))"
   ],
   "metadata": {
    "collapsed": false,
    "pycharm": {
     "name": "#%%\n"
    }
   }
  },
  {
   "cell_type": "code",
   "execution_count": 561,
   "outputs": [],
   "source": [
    "std_list_intensity = std_list.copy()"
   ],
   "metadata": {
    "collapsed": false,
    "pycharm": {
     "name": "#%%\n"
    }
   }
  },
  {
   "cell_type": "code",
   "execution_count": 562,
   "outputs": [
    {
     "name": "stderr",
     "output_type": "stream",
     "text": [
      "100%|██████████| 10/10 [00:05<00:00,  1.74it/s]\n"
     ]
    }
   ],
   "source": [
    "for f in tqdm(file_list):\n",
    "    feature_temp = pd.read_csv(os.path.join(pl_dir, f+'.csv'))\n",
    "    feature_temp.sort_values(by = 'precursor_mz', ascending=True, inplace=True)\n",
    "    intensity_file = []\n",
    "    for index, row in std_list.iterrows():\n",
    "        feature_matched = search_feature(feature_temp, pmz=row['m/z'], rt=row['rt'], rt_error=21, pmz_sorted=True)\n",
    "        if len(feature_matched)>0:\n",
    "            feature_matched.sort_values(by ='ms1_intensity', ascending=False, inplace=True)\n",
    "            intensity_file.append(feature_matched.iloc[0]['ms1_intensity'])\n",
    "            # pass\n",
    "        else:\n",
    "            intensity_file.append(np.NAN)\n",
    "    std_list_intensity[f]=intensity_file"
   ],
   "metadata": {
    "collapsed": false,
    "pycharm": {
     "name": "#%%\n"
    }
   }
  },
  {
   "cell_type": "code",
   "execution_count": 571,
   "outputs": [],
   "source": [
    "sa_cv = []\n",
    "sb_cv = []\n",
    "sa_file = [x for x in file_list if 'SA' in x]\n",
    "sb_file = [x for x in file_list if 'SB' in x]\n",
    "for index, row in std_list_intensity.iterrows():\n",
    "    cv_temp = np.std(row[sa_file])/np.mean(row[sa_file])*100\n",
    "    sa_cv.append(cv_temp)\n",
    "    cv_temp = np.std(row[sb_file])/np.mean(row[sb_file])*100\n",
    "    sb_cv.append(cv_temp)"
   ],
   "metadata": {
    "collapsed": false,
    "pycharm": {
     "name": "#%%\n"
    }
   }
  },
  {
   "cell_type": "code",
   "execution_count": 574,
   "outputs": [
    {
     "data": {
      "text/plain": "1672"
     },
     "execution_count": 574,
     "metadata": {},
     "output_type": "execute_result"
    }
   ],
   "source": [
    "len(sa_cv+sb_cv)"
   ],
   "metadata": {
    "collapsed": false,
    "pycharm": {
     "name": "#%%\n"
    }
   }
  },
  {
   "cell_type": "code",
   "execution_count": 575,
   "outputs": [],
   "source": [
    "df = pd.DataFrame(zip(sa_cv+ sb_cv, ['SA']*len(sa_cv)+['SB']*len(sb_cv)),columns=['CV', 'group'])"
   ],
   "metadata": {
    "collapsed": false,
    "pycharm": {
     "name": "#%%\n"
    }
   }
  },
  {
   "cell_type": "code",
   "execution_count": 578,
   "outputs": [
    {
     "data": {
      "text/plain": "<Figure size 1200x700 with 1 Axes>",
      "image/png": "[encoded data removed]"
     },
     "metadata": {},
     "output_type": "display_data"
    }
   ],
   "source": [
    "# my_colors = [\"#CE5F5A\", \"#5081BD\",'#61D837']\n",
    "fig = plt.figure(figsize = (12, 7))\n",
    "# add color array to set_palette\n",
    "# function of seaborn\n",
    "# p = sns.set_palette( my_colors )\n",
    "ax = sns.boxplot(data=df, x=\"group\", y=\"CV\", )\n",
    "# ax.set_ylabel('Time used (second)',fontsize = 18)\n",
    "# ax.set_xlabel('EIC methods', fontsize = 18)\n",
    "ax.set_ylim(0,50)\n",
    "# ax.tick_params(axis='both', which='major', labelsize=14)\n",
    "# ax.tick_params(axis='both', which='minor', labelsize=14)\n",
    "fig.tight_layout()\n",
    "plt.savefig(os.path.join(seminar_dir, 'CV.png'))"
   ],
   "metadata": {
    "collapsed": false,
    "pycharm": {
     "name": "#%%\n"
    }
   }
  },
  {
   "cell_type": "code",
   "execution_count": 160,
   "outputs": [],
   "source": [
    "def _check_halo(formula):\n",
    "    if 'S' in formula or 'Cl' in formula or 'Br' in formula or 'F' in formula:\n",
    "        return True\n",
    "    else:\n",
    "        return False"
   ],
   "metadata": {
    "collapsed": false,
    "pycharm": {
     "name": "#%%\n"
    }
   }
  },
  {
   "cell_type": "code",
   "execution_count": 163,
   "outputs": [],
   "source": [
    "if_halo = []\n",
    "for index, row in std_list.iterrows():\n",
    "    if_halo.append(_check_halo(row['formula']))\n",
    "    # break\n",
    "std_list['if_halo_ref']=if_halo"
   ],
   "metadata": {
    "collapsed": false,
    "pycharm": {
     "name": "#%%\n"
    }
   }
  },
  {
   "cell_type": "code",
   "execution_count": null,
   "outputs": [],
   "source": [
    "for f in file_list:\n",
    "    feature_temp = pd.read_csv(os.path.join(pl_dir, f+'.csv'))\n",
    "    ms1, ms2 = rds.read_mzml(f, mzml_dir)\n",
    "    mass_sorted, intensity_sorted, index_sorted, rt_list = trx.build_index(ms1)\n",
    "    for index, row in std_list.iterrows():\n",
    "        found_feature = search_feature(feature_temp, )"
   ],
   "metadata": {
    "collapsed": false,
    "pycharm": {
     "name": "#%%\n"
    }
   }
  },
  {
   "cell_type": "code",
   "execution_count": 35,
   "outputs": [],
   "source": [
    "from toolsets.constants import iso_steps"
   ],
   "metadata": {
    "collapsed": false,
    "pycharm": {
     "name": "#%%\n"
    }
   }
  },
  {
   "cell_type": "code",
   "execution_count": 25,
   "outputs": [],
   "source": [],
   "metadata": {
    "collapsed": false,
    "pycharm": {
     "name": "#%%\n"
    }
   }
  },
  {
   "cell_type": "code",
   "execution_count": 38,
   "outputs": [],
   "source": [
    "from scipy.stats import pearsonr"
   ],
   "metadata": {
    "collapsed": false,
    "pycharm": {
     "name": "#%%\n"
    }
   }
  },
  {
   "cell_type": "code",
   "execution_count": 207,
   "outputs": [],
   "source": [
    "def is_halo(row, mass_sorted, intensity_sorted, index_sorted,threshold = 0.9):\n",
    "    ion_trace_base = trx.moving_average(trx.flash_eic(row['precursor_mz'], mass_sorted, intensity_sorted, index_sorted),10)\n",
    "    ion_trace_halo = trx.moving_average(trx.flash_eic(row['precursor_mz']+iso_steps['Cl'],mass_sorted, intensity_sorted, index_sorted),10)\n",
    "    scan_range = literal_eval(row['ms1_scan_range'])\n",
    "    corr,_ = pearsonr(ion_trace_base[scan_range[0]:scan_range[1]],\n",
    "                       ion_trace_halo[scan_range[0]:scan_range[1]])\n",
    "    if corr != corr:\n",
    "        corr = 0\n",
    "    if corr>threshold:\n",
    "        return(True)\n",
    "    else:\n",
    "        return False"
   ],
   "metadata": {
    "collapsed": false,
    "pycharm": {
     "name": "#%%\n"
    }
   }
  },
  {
   "cell_type": "code",
   "execution_count": 206,
   "outputs": [],
   "source": [
    "def is_mono(row, mass_sorted, intensity_sorted, index_sorted, threshold = 0.9):\n",
    "    scan_range = literal_eval(row['ms1_scan_range'])\n",
    "    ion_trace_base = trx.moving_average(trx.flash_eic(row['precursor_mz'], mass_sorted, intensity_sorted, index_sorted),10)\n",
    "    ion_trace_left = trx.moving_average(trx.flash_eic(row['precursor_mz']-iso_steps['C'],mass_sorted, intensity_sorted, index_sorted),10)\n",
    "    ion_trace_right = trx.moving_average(trx.flash_eic(row['precursor_mz']+iso_steps['C'],mass_sorted, intensity_sorted, index_sorted),10)\n",
    "\n",
    "    corr_left,_ = pearsonr(ion_trace_base[scan_range[0]:scan_range[1]],\n",
    "                           ion_trace_left[scan_range[0]:scan_range[1]])\n",
    "    if corr_left!= corr_left:\n",
    "        corr_left = 0\n",
    "    corr_right,_ = pearsonr(ion_trace_base[scan_range[0]:scan_range[1]],\n",
    "                            ion_trace_right[scan_range[0]:scan_range[1]])\n",
    "    if corr_right!= corr_right:\n",
    "        corr_right = 0\n",
    "    if corr_left<threshold and corr_right>threshold:\n",
    "        return(True)\n",
    "    else:\n",
    "        return(False)"
   ],
   "metadata": {
    "collapsed": false,
    "pycharm": {
     "name": "#%%\n"
    }
   }
  },
  {
   "cell_type": "code",
   "execution_count": 208,
   "outputs": [
    {
     "name": "stderr",
     "output_type": "stream",
     "text": [
      "100%|██████████| 10/10 [04:48<00:00, 28.82s/it]\n"
     ]
    }
   ],
   "source": [
    "report_df = std_list.copy()\n",
    "\n",
    "for f in tqdm(file_list):\n",
    "    feature_temp = pd.read_csv(os.path.join(pl_dir, f+'.csv'))\n",
    "    ms1, ms2 = rds.read_mzml(f, mzml_dir)\n",
    "    mass_sorted, intensity_sorted, index_sorted, rt_list = trx.build_index(ms1)\n",
    "    feature_temp['mz_offset']=abs(feature_temp['precursor_mz']-feature_temp['ion_trace_center'])\n",
    "    if_halo =[]\n",
    "    if_mono = []\n",
    "    found = []\n",
    "    for index, row in (std_list.iterrows()):\n",
    "        found_feature = search_feature(feature_temp, row['m/z'], row['rt'], rt_error=21)\n",
    "        # if row['if_halo_ref']==True:\n",
    "        #     break\n",
    "        if len(found_feature)>0:\n",
    "            found.append(True)\n",
    "            if len(found_feature)>1:\n",
    "                found_feature = found_feature[found_feature['ms1_intensity']>np.max(found_feature['ms1_intensity'])*0.9]\n",
    "                found_feature.sort_values(by = 'mz_offset', ascending=True, inplace=True)\n",
    "            if_halo.append(is_halo(found_feature.iloc[0], mass_sorted, intensity_sorted, index_sorted))\n",
    "\n",
    "            if_mono.append(is_mono(found_feature.iloc[0], mass_sorted, intensity_sorted, index_sorted))\n",
    "        else:\n",
    "            found.append(False)\n",
    "            if_halo.append(np.NAN)\n",
    "            if_mono.append(np.NAN)\n",
    "    report_df['halo_corr'+f]=if_halo\n",
    "    report_df['corr_left'+f]=if_mono\n",
    "    report_df['found'+f]=found"
   ],
   "metadata": {
    "collapsed": false,
    "pycharm": {
     "name": "#%%\n"
    }
   }
  },
  {
   "cell_type": "code",
   "execution_count": 172,
   "outputs": [],
   "source": [
    "found_col = [x for x in report_df.columns if 'found' in x]\n",
    "mono_col = [x for x in report_df.columns if 'corr_left' in x]\n",
    "halo_col = [x for x in report_df.columns if 'halo_corr' in x]"
   ],
   "metadata": {
    "collapsed": false,
    "pycharm": {
     "name": "#%%\n"
    }
   }
  },
  {
   "cell_type": "code",
   "execution_count": 176,
   "outputs": [],
   "source": [
    "from collections import Counter"
   ],
   "metadata": {
    "collapsed": false,
    "pycharm": {
     "name": "#%%\n"
    }
   }
  },
  {
   "cell_type": "code",
   "execution_count": 209,
   "outputs": [],
   "source": [
    "fill_percent = []\n",
    "mono_concensus = []\n",
    "halo_concensus = []\n",
    "for index, row in report_df.iterrows():\n",
    "    fill_percent.append(np.sum(row[found_col])/len(found_col))\n",
    "    mono_concensus.append(Counter(row[mono_col]).most_common()[0][0])\n",
    "    halo_concensus.append(Counter(row[halo_col]).most_common()[0][0])\n",
    "std_list['fill_%']=fill_percent\n",
    "std_list['mono_concensus']=mono_concensus\n",
    "std_list['halo_concensus']=halo_concensus"
   ],
   "metadata": {
    "collapsed": false,
    "pycharm": {
     "name": "#%%\n"
    }
   }
  },
  {
   "cell_type": "code",
   "execution_count": 213,
   "outputs": [
    {
     "data": {
      "text/plain": "mono_concensus\nTrue     662\nFalse    169\nName: count, dtype: int64"
     },
     "execution_count": 213,
     "metadata": {},
     "output_type": "execute_result"
    }
   ],
   "source": [
    "std_list['mono_concensus'].value_counts()"
   ],
   "metadata": {
    "collapsed": false,
    "pycharm": {
     "name": "#%%\n"
    }
   }
  },
  {
   "cell_type": "code",
   "execution_count": 214,
   "outputs": [
    {
     "data": {
      "text/plain": "0.7966305655836342"
     },
     "execution_count": 214,
     "metadata": {},
     "output_type": "execute_result"
    }
   ],
   "source": [
    "662/(662+169)"
   ],
   "metadata": {
    "collapsed": false,
    "pycharm": {
     "name": "#%%\n"
    }
   }
  },
  {
   "cell_type": "code",
   "execution_count": 218,
   "outputs": [],
   "source": [
    "from metabengine.raw_data_utils import MSData\n",
    "from metabengine.params import Params"
   ],
   "metadata": {
    "collapsed": false,
    "pycharm": {
     "name": "#%%\n"
    }
   }
  },
  {
   "cell_type": "code",
   "execution_count": 220,
   "outputs": [],
   "source": [
    "metabo_ms = MSData()\n",
    "params = Params()"
   ],
   "metadata": {
    "collapsed": false,
    "pycharm": {
     "name": "#%%\n"
    }
   }
  },
  {
   "cell_type": "code",
   "execution_count": 222,
   "outputs": [
    {
     "name": "stdout",
     "output_type": "stream",
     "text": [
      "12483 MS1 and 0 MS2 scans extracted.\n"
     ]
    }
   ],
   "source": [],
   "metadata": {
    "collapsed": false,
    "pycharm": {
     "name": "#%%\n"
    }
   }
  },
  {
   "cell_type": "code",
   "execution_count": 265,
   "outputs": [],
   "source": [
    "ms1.to_csv(os.path.join(seminar_dir, 'ms1_temp.csv'))"
   ],
   "metadata": {
    "collapsed": false,
    "pycharm": {
     "name": "#%%\n"
    }
   }
  },
  {
   "cell_type": "code",
   "execution_count": 224,
   "outputs": [
    {
     "name": "stderr",
     "output_type": "stream",
     "text": [
      "100%|██████████| 10000/10000 [22:33<00:00,  7.39it/s] \n"
     ]
    }
   ],
   "source": [
    "metabo_ms.read_raw_data(os.path.join(mzml_dir, 'SA2.mzML'), params=params)\n",
    "time_used_metabo = []\n",
    "for i in tqdm(range(0,10000)):\n",
    "    start = time.time()\n",
    "    metabo_eic = metabo_ms.get_eic_data(371.1617, mz_tol=0.005)\n",
    "    end = time.time()\n",
    "    time_used_metabo.append(end-start)"
   ],
   "metadata": {
    "collapsed": false,
    "pycharm": {
     "name": "#%%\n"
    }
   }
  },
  {
   "cell_type": "code",
   "execution_count": 354,
   "outputs": [
    {
     "data": {
      "text/plain": "135.31799729364005"
     },
     "execution_count": 354,
     "metadata": {},
     "output_type": "execute_result"
    }
   ],
   "source": [
    "1/7.39*1E3"
   ],
   "metadata": {
    "collapsed": false,
    "pycharm": {
     "name": "#%%\n"
    }
   }
  },
  {
   "cell_type": "code",
   "execution_count": 344,
   "outputs": [],
   "source": [
    "ms1, ms2 = rds.read_mzml('SA2', mzml_dir)\n",
    "mass_sorted, intensity_sorted, index_sorted, rt_list = trx.build_index(ms1)"
   ],
   "metadata": {
    "collapsed": false,
    "pycharm": {
     "name": "#%%\n"
    }
   }
  },
  {
   "cell_type": "code",
   "execution_count": 346,
   "outputs": [
    {
     "name": "stderr",
     "output_type": "stream",
     "text": [
      "100%|██████████| 10000/10000 [00:26<00:00, 374.76it/s]\n"
     ]
    }
   ],
   "source": [
    "time_used_flash = []\n",
    "for i in tqdm(range(0,10000)):\n",
    "    start = time.time()\n",
    "    # metabo_eic = metabo_ms.get_eic_data(371.1617, mz_tol=0.005)\n",
    "    tt = trx.flash_eic(371.1617, mass_sorted, intensity_sorted, index_sorted)\n",
    "    end = time.time()\n",
    "    time_used_flash.append(end-start)"
   ],
   "metadata": {
    "collapsed": false,
    "pycharm": {
     "name": "#%%\n"
    }
   }
  },
  {
   "cell_type": "code",
   "execution_count": 355,
   "outputs": [
    {
     "data": {
      "text/plain": "12051387"
     },
     "execution_count": 355,
     "metadata": {},
     "output_type": "execute_result"
    }
   ],
   "source": [
    "len(mass_sorted)"
   ],
   "metadata": {
    "collapsed": false,
    "pycharm": {
     "name": "#%%\n"
    }
   }
  },
  {
   "cell_type": "code",
   "execution_count": 307,
   "outputs": [],
   "source": [
    "time_used_long = pd.DataFrame(zip(time_used_flash+time_used,['Flash EIC']*10000+['Numpy method']*10000),columns=['time_used','method'] )"
   ],
   "metadata": {
    "collapsed": false,
    "pycharm": {
     "name": "#%%\n"
    }
   }
  },
  {
   "cell_type": "code",
   "execution_count": 292,
   "outputs": [
    {
     "data": {
      "text/plain": "1.0"
     },
     "execution_count": 292,
     "metadata": {},
     "output_type": "execute_result"
    }
   ],
   "source": [
    "np.mean(time_used_flash)/np.mean(time_used_flash)"
   ],
   "metadata": {
    "collapsed": false,
    "pycharm": {
     "name": "#%%\n"
    }
   }
  },
  {
   "cell_type": "code",
   "execution_count": 294,
   "outputs": [],
   "source": [
    "import seaborn as sns\n",
    "import matplotlib.pyplot as plt"
   ],
   "metadata": {
    "collapsed": false,
    "pycharm": {
     "name": "#%%\n"
    }
   }
  },
  {
   "cell_type": "code",
   "execution_count": 360,
   "outputs": [],
   "source": [],
   "metadata": {
    "collapsed": false,
    "pycharm": {
     "name": "#%%\n"
    }
   }
  },
  {
   "cell_type": "code",
   "execution_count": 363,
   "outputs": [
    {
     "data": {
      "text/plain": "     scan_idx  cycle  ms_level  precursor_mz polarity        rt  \\\n0           0      0         1           0.0        -  0.002853   \n1           1      1         1           0.0        -  0.005308   \n2           2      2         1           0.0        -  0.007614   \n3           3      3         1           0.0        -  0.009920   \n4           4      4         1           0.0        -  0.012225   \n..        ...    ...       ...           ...      ...       ...   \n894      2232    894         1           0.0        -  3.784682   \n895      2234    895         1           0.0        -  3.788523   \n896      2237    896         1           0.0        -  3.793359   \n897      2239    897         1           0.0        -  3.797141   \n898      2241    898         1           0.0        -  3.800973   \n\n                                                 peaks isolation_window  \\\n0    [[60.24489212036133, 5196.78271484375], [61.98...       (0.0, 0.0)   \n1    [[60.99036407470703, 5728.833984375], [61.9883...       (0.0, 0.0)   \n2    [[61.32615661621094, 1455.4471435546875], [61....       (0.0, 0.0)   \n3    [[61.98733901977539, 4016.0302734375], [61.988...       (0.0, 0.0)   \n4    [[61.1275520324707, 1974.6036376953125], [61.5...       (0.0, 0.0)   \n..                                                 ...              ...   \n894  [[61.98834228515625, 107801.25], [63.190063476...       (0.0, 0.0)   \n895  [[61.20576858520508, 1830.6932373046875], [61....       (0.0, 0.0)   \n896  [[60.432411193847656, 1720.98779296875], [61.9...       (0.0, 0.0)   \n897  [[61.60226821899414, 1839.8492431640625], [61....       (0.0, 0.0)   \n898  [[61.988338470458984, 113300.5859375], [64.006...       (0.0, 0.0)   \n\n                                             mix  \\\n0    Exposome_Yendry232_MX743739_negBA_003-200-5   \n1    Exposome_Yendry232_MX743739_negBA_003-200-5   \n2    Exposome_Yendry232_MX743739_negBA_003-200-5   \n3    Exposome_Yendry232_MX743739_negBA_003-200-5   \n4    Exposome_Yendry232_MX743739_negBA_003-200-5   \n..                                           ...   \n894  Exposome_Yendry232_MX743739_negBA_003-200-5   \n895  Exposome_Yendry232_MX743739_negBA_003-200-5   \n896  Exposome_Yendry232_MX743739_negBA_003-200-5   \n897  Exposome_Yendry232_MX743739_negBA_003-200-5   \n898  Exposome_Yendry232_MX743739_negBA_003-200-5   \n\n                                            base_name  \n0    Exposome_Yendry232_MX743739_negBA_003-200-5.mzML  \n1    Exposome_Yendry232_MX743739_negBA_003-200-5.mzML  \n2    Exposome_Yendry232_MX743739_negBA_003-200-5.mzML  \n3    Exposome_Yendry232_MX743739_negBA_003-200-5.mzML  \n4    Exposome_Yendry232_MX743739_negBA_003-200-5.mzML  \n..                                                ...  \n894  Exposome_Yendry232_MX743739_negBA_003-200-5.mzML  \n895  Exposome_Yendry232_MX743739_negBA_003-200-5.mzML  \n896  Exposome_Yendry232_MX743739_negBA_003-200-5.mzML  \n897  Exposome_Yendry232_MX743739_negBA_003-200-5.mzML  \n898  Exposome_Yendry232_MX743739_negBA_003-200-5.mzML  \n\n[899 rows x 10 columns]",
      "text/html": "<div>\n<style scoped>\n    .dataframe tbody tr th:only-of-type {\n        vertical-align: middle;\n    }\n\n    .dataframe tbody tr th {\n        vertical-align: top;\n    }\n\n    .dataframe thead th {\n        text-align: right;\n    }\n</style>\n<table border=\"1\" class=\"dataframe\">\n  <thead>\n    <tr style=\"text-align: right;\">\n      <th></th>\n      <th>scan_idx</th>\n      <th>cycle</th>\n      <th>ms_level</th>\n      <th>precursor_mz</th>\n      <th>polarity</th>\n      <th>rt</th>\n      <th>peaks</th>\n      <th>isolation_window</th>\n      <th>mix</th>\n      <th>base_name</th>\n    </tr>\n  </thead>\n  <tbody>\n    <tr>\n      <th>0</th>\n      <td>0</td>\n      <td>0</td>\n      <td>1</td>\n      <td>0.0</td>\n      <td>-</td>\n      <td>0.002853</td>\n      <td>[[60.24489212036133, 5196.78271484375], [61.98...</td>\n      <td>(0.0, 0.0)</td>\n      <td>Exposome_Yendry232_MX743739_negBA_003-200-5</td>\n      <td>Exposome_Yendry232_MX743739_negBA_003-200-5.mzML</td>\n    </tr>\n    <tr>\n      <th>1</th>\n      <td>1</td>\n      <td>1</td>\n      <td>1</td>\n      <td>0.0</td>\n      <td>-</td>\n      <td>0.005308</td>\n      <td>[[60.99036407470703, 5728.833984375], [61.9883...</td>\n      <td>(0.0, 0.0)</td>\n      <td>Exposome_Yendry232_MX743739_negBA_003-200-5</td>\n      <td>Exposome_Yendry232_MX743739_negBA_003-200-5.mzML</td>\n    </tr>\n    <tr>\n      <th>2</th>\n      <td>2</td>\n      <td>2</td>\n      <td>1</td>\n      <td>0.0</td>\n      <td>-</td>\n      <td>0.007614</td>\n      <td>[[61.32615661621094, 1455.4471435546875], [61....</td>\n      <td>(0.0, 0.0)</td>\n      <td>Exposome_Yendry232_MX743739_negBA_003-200-5</td>\n      <td>Exposome_Yendry232_MX743739_negBA_003-200-5.mzML</td>\n    </tr>\n    <tr>\n      <th>3</th>\n      <td>3</td>\n      <td>3</td>\n      <td>1</td>\n      <td>0.0</td>\n      <td>-</td>\n      <td>0.009920</td>\n      <td>[[61.98733901977539, 4016.0302734375], [61.988...</td>\n      <td>(0.0, 0.0)</td>\n      <td>Exposome_Yendry232_MX743739_negBA_003-200-5</td>\n      <td>Exposome_Yendry232_MX743739_negBA_003-200-5.mzML</td>\n    </tr>\n    <tr>\n      <th>4</th>\n      <td>4</td>\n      <td>4</td>\n      <td>1</td>\n      <td>0.0</td>\n      <td>-</td>\n      <td>0.012225</td>\n      <td>[[61.1275520324707, 1974.6036376953125], [61.5...</td>\n      <td>(0.0, 0.0)</td>\n      <td>Exposome_Yendry232_MX743739_negBA_003-200-5</td>\n      <td>Exposome_Yendry232_MX743739_negBA_003-200-5.mzML</td>\n    </tr>\n    <tr>\n      <th>...</th>\n      <td>...</td>\n      <td>...</td>\n      <td>...</td>\n      <td>...</td>\n      <td>...</td>\n      <td>...</td>\n      <td>...</td>\n      <td>...</td>\n      <td>...</td>\n      <td>...</td>\n    </tr>\n    <tr>\n      <th>894</th>\n      <td>2232</td>\n      <td>894</td>\n      <td>1</td>\n      <td>0.0</td>\n      <td>-</td>\n      <td>3.784682</td>\n      <td>[[61.98834228515625, 107801.25], [63.190063476...</td>\n      <td>(0.0, 0.0)</td>\n      <td>Exposome_Yendry232_MX743739_negBA_003-200-5</td>\n      <td>Exposome_Yendry232_MX743739_negBA_003-200-5.mzML</td>\n    </tr>\n    <tr>\n      <th>895</th>\n      <td>2234</td>\n      <td>895</td>\n      <td>1</td>\n      <td>0.0</td>\n      <td>-</td>\n      <td>3.788523</td>\n      <td>[[61.20576858520508, 1830.6932373046875], [61....</td>\n      <td>(0.0, 0.0)</td>\n      <td>Exposome_Yendry232_MX743739_negBA_003-200-5</td>\n      <td>Exposome_Yendry232_MX743739_negBA_003-200-5.mzML</td>\n    </tr>\n    <tr>\n      <th>896</th>\n      <td>2237</td>\n      <td>896</td>\n      <td>1</td>\n      <td>0.0</td>\n      <td>-</td>\n      <td>3.793359</td>\n      <td>[[60.432411193847656, 1720.98779296875], [61.9...</td>\n      <td>(0.0, 0.0)</td>\n      <td>Exposome_Yendry232_MX743739_negBA_003-200-5</td>\n      <td>Exposome_Yendry232_MX743739_negBA_003-200-5.mzML</td>\n    </tr>\n    <tr>\n      <th>897</th>\n      <td>2239</td>\n      <td>897</td>\n      <td>1</td>\n      <td>0.0</td>\n      <td>-</td>\n      <td>3.797141</td>\n      <td>[[61.60226821899414, 1839.8492431640625], [61....</td>\n      <td>(0.0, 0.0)</td>\n      <td>Exposome_Yendry232_MX743739_negBA_003-200-5</td>\n      <td>Exposome_Yendry232_MX743739_negBA_003-200-5.mzML</td>\n    </tr>\n    <tr>\n      <th>898</th>\n      <td>2241</td>\n      <td>898</td>\n      <td>1</td>\n      <td>0.0</td>\n      <td>-</td>\n      <td>3.800973</td>\n      <td>[[61.988338470458984, 113300.5859375], [64.006...</td>\n      <td>(0.0, 0.0)</td>\n      <td>Exposome_Yendry232_MX743739_negBA_003-200-5</td>\n      <td>Exposome_Yendry232_MX743739_negBA_003-200-5.mzML</td>\n    </tr>\n  </tbody>\n</table>\n<p>899 rows × 10 columns</p>\n</div>"
     },
     "execution_count": 363,
     "metadata": {},
     "output_type": "execute_result"
    }
   ],
   "source": [
    "ms1"
   ],
   "metadata": {
    "collapsed": false,
    "pycharm": {
     "name": "#%%\n"
    }
   }
  },
  {
   "cell_type": "code",
   "execution_count": 361,
   "outputs": [],
   "source": [],
   "metadata": {
    "collapsed": false,
    "pycharm": {
     "name": "#%%\n"
    }
   }
  },
  {
   "cell_type": "code",
   "execution_count": 359,
   "outputs": [
    {
     "data": {
      "text/plain": "402201"
     },
     "execution_count": 359,
     "metadata": {},
     "output_type": "execute_result"
    }
   ],
   "source": [
    "len(mass_sorted)"
   ],
   "metadata": {
    "collapsed": false,
    "pycharm": {
     "name": "#%%\n"
    }
   }
  },
  {
   "cell_type": "code",
   "execution_count": 326,
   "outputs": [
    {
     "name": "stderr",
     "output_type": "stream",
     "text": [
      "100%|██████████| 10000/10000 [00:00<00:00, 21413.82it/s]\n"
     ]
    }
   ],
   "source": [
    "time_used_flash = []\n",
    "for i in tqdm(range(0,10000)):\n",
    "    start = time.time()\n",
    "    # metabo_eic = metabo_ms.get_eic_data(371.1617, mz_tol=0.005)\n",
    "    tt = trx.flash_eic(201.182375, mass_sorted, intensity_sorted, index_sorted)\n",
    "    end = time.time()\n",
    "    time_used_flash.append(end-start)"
   ],
   "metadata": {
    "collapsed": false,
    "pycharm": {
     "name": "#%%\n"
    }
   }
  },
  {
   "cell_type": "code",
   "execution_count": 322,
   "outputs": [
    {
     "name": "stdout",
     "output_type": "stream",
     "text": [
      "899 MS1 and 1344 MS2 scans extracted.\n"
     ]
    },
    {
     "name": "stderr",
     "output_type": "stream",
     "text": [
      "100%|██████████| 10000/10000 [00:53<00:00, 187.85it/s]\n"
     ]
    }
   ],
   "source": [
    "metabo_ms.read_raw_data(os.path.join('/Users/fanzhoukong/Documents/GitHub/Libgen_data/exposome_negBA/mzml', 'Exposome_Yendry232_MX743739_negBA_003-200-5.mzML'), params=params)\n",
    "time_used_metabo = []\n",
    "for i in tqdm(range(0,10000)):\n",
    "    start = time.time()\n",
    "    metabo_eic = metabo_ms.get_eic_data(201.182375, mz_tol=0.005)\n",
    "    end = time.time()\n",
    "    time_used_metabo.append(end-start)"
   ],
   "metadata": {
    "collapsed": false,
    "pycharm": {
     "name": "#%%\n"
    }
   }
  },
  {
   "cell_type": "code",
   "execution_count": 343,
   "outputs": [
    {
     "data": {
      "text/plain": "34.82283209504665"
     },
     "execution_count": 343,
     "metadata": {},
     "output_type": "execute_result"
    }
   ],
   "source": [
    "np.std(time_used_flash)*1E6"
   ],
   "metadata": {
    "collapsed": false,
    "pycharm": {
     "name": "#%%\n"
    }
   }
  },
  {
   "cell_type": "code",
   "execution_count": 324,
   "outputs": [
    {
     "name": "stderr",
     "output_type": "stream",
     "text": [
      "  6%|▌         | 6/100 [01:05<17:11, 10.97s/it]Exception ignored in: <function Spectrum.__del__ at 0x16cc619d0>\n",
      "Traceback (most recent call last):\n",
      "  File \"/opt/homebrew/Caskroom/miniforge/base/envs/alphapept_env/lib/python3.8/site-packages/pymzml/spec.py\", line 450, in __del__\n",
      "    def __del__(self):\n",
      "KeyboardInterrupt: \n",
      "  6%|▌         | 6/100 [01:16<19:55, 12.72s/it]\n"
     ]
    },
    {
     "ename": "KeyboardInterrupt",
     "evalue": "",
     "output_type": "error",
     "traceback": [
      "\u001B[0;31m---------------------------------------------------------------------------\u001B[0m",
      "\u001B[0;31mKeyboardInterrupt\u001B[0m                         Traceback (most recent call last)",
      "Input \u001B[0;32mIn [324]\u001B[0m, in \u001B[0;36m<cell line: 10>\u001B[0;34m()\u001B[0m\n\u001B[1;32m     14\u001B[0m \u001B[38;5;28;01mfor\u001B[39;00m spectrum \u001B[38;5;129;01min\u001B[39;00m (run):\n\u001B[1;32m     15\u001B[0m     \u001B[38;5;28;01mif\u001B[39;00m spectrum\u001B[38;5;241m.\u001B[39mms_level \u001B[38;5;241m==\u001B[39m \u001B[38;5;241m1\u001B[39m:\n\u001B[0;32m---> 16\u001B[0m         has_peak_matches \u001B[38;5;241m=\u001B[39m \u001B[43mspectrum\u001B[49m\u001B[38;5;241;43m.\u001B[39;49m\u001B[43mhas_peak\u001B[49m\u001B[43m(\u001B[49m\u001B[43mMZ_2_FOLLOW\u001B[49m\u001B[43m)\u001B[49m\n\u001B[1;32m     17\u001B[0m         \u001B[38;5;28;01mif\u001B[39;00m has_peak_matches \u001B[38;5;241m!=\u001B[39m []:\n\u001B[1;32m     18\u001B[0m             \u001B[38;5;28;01mfor\u001B[39;00m mz, I \u001B[38;5;129;01min\u001B[39;00m has_peak_matches:\n",
      "File \u001B[0;32m/opt/homebrew/Caskroom/miniforge/base/envs/alphapept_env/lib/python3.8/site-packages/pymzml/spec.py:1533\u001B[0m, in \u001B[0;36mSpectrum.has_peak\u001B[0;34m(self, mz2find)\u001B[0m\n\u001B[1;32m   1499\u001B[0m \u001B[38;5;124;03m\"\"\"\u001B[39;00m\n\u001B[1;32m   1500\u001B[0m \u001B[38;5;124;03mChecks if a Spectrum has a certain peak.\u001B[39;00m\n\u001B[1;32m   1501\u001B[0m \u001B[38;5;124;03mRequires a m/z value as input and returns a list of peaks if the m/z\u001B[39;00m\n\u001B[0;32m   (...)\u001B[0m\n\u001B[1;32m   1530\u001B[0m \n\u001B[1;32m   1531\u001B[0m \u001B[38;5;124;03m\"\"\"\u001B[39;00m\n\u001B[1;32m   1532\u001B[0m value \u001B[38;5;241m=\u001B[39m \u001B[38;5;28mself\u001B[39m\u001B[38;5;241m.\u001B[39mtransform_mz(mz2find)\n\u001B[0;32m-> 1533\u001B[0m \u001B[38;5;28;01mreturn\u001B[39;00m \u001B[38;5;28;43mself\u001B[39;49m\u001B[38;5;241;43m.\u001B[39;49m\u001B[43mtransformed_mz_with_error\u001B[49m[value]\n",
      "File \u001B[0;32m/opt/homebrew/Caskroom/miniforge/base/envs/alphapept_env/lib/python3.8/site-packages/pymzml/spec.py:721\u001B[0m, in \u001B[0;36mSpectrum.transformed_mz_with_error\u001B[0;34m(self)\u001B[0m\n\u001B[1;32m    719\u001B[0m \u001B[38;5;28;01mif\u001B[39;00m \u001B[38;5;28mself\u001B[39m\u001B[38;5;241m.\u001B[39m_transformed_mz_with_error \u001B[38;5;129;01mis\u001B[39;00m \u001B[38;5;28;01mNone\u001B[39;00m:\n\u001B[1;32m    720\u001B[0m     \u001B[38;5;28mself\u001B[39m\u001B[38;5;241m.\u001B[39m_transformed_mz_with_error \u001B[38;5;241m=\u001B[39m ddict(\u001B[38;5;28mlist\u001B[39m)\n\u001B[0;32m--> 721\u001B[0m     \u001B[38;5;28;01mfor\u001B[39;00m mz, i \u001B[38;5;129;01min\u001B[39;00m \u001B[38;5;28;43mself\u001B[39;49m\u001B[38;5;241;43m.\u001B[39;49m\u001B[43mpeaks\u001B[49m\u001B[43m(\u001B[49m\u001B[38;5;124;43m\"\u001B[39;49m\u001B[38;5;124;43mcentroided\u001B[39;49m\u001B[38;5;124;43m\"\u001B[39;49m\u001B[43m)\u001B[49m:\n\u001B[1;32m    722\u001B[0m         \u001B[38;5;28;01mfor\u001B[39;00m t_mz_with_error \u001B[38;5;129;01min\u001B[39;00m \u001B[38;5;28mrange\u001B[39m(\n\u001B[1;32m    723\u001B[0m             \u001B[38;5;28mint\u001B[39m(\n\u001B[1;32m    724\u001B[0m                 \u001B[38;5;28mround\u001B[39m(\n\u001B[0;32m   (...)\u001B[0m\n\u001B[1;32m    735\u001B[0m             \u001B[38;5;241m+\u001B[39m \u001B[38;5;241m1\u001B[39m,\n\u001B[1;32m    736\u001B[0m         ):\n\u001B[1;32m    737\u001B[0m             \u001B[38;5;28mself\u001B[39m\u001B[38;5;241m.\u001B[39m_transformed_mz_with_error[t_mz_with_error]\u001B[38;5;241m.\u001B[39mappend((mz, i))\n",
      "File \u001B[0;32m/opt/homebrew/Caskroom/miniforge/base/envs/alphapept_env/lib/python3.8/site-packages/pymzml/spec.py:1051\u001B[0m, in \u001B[0;36mSpectrum.peaks\u001B[0;34m(self, peak_type)\u001B[0m\n\u001B[1;32m   1049\u001B[0m i_params \u001B[38;5;241m=\u001B[39m \u001B[38;5;28mself\u001B[39m\u001B[38;5;241m.\u001B[39m_get_encoding_parameters(\u001B[38;5;124m\"\u001B[39m\u001B[38;5;124mintensity array\u001B[39m\u001B[38;5;124m\"\u001B[39m)\n\u001B[1;32m   1050\u001B[0m mz \u001B[38;5;241m=\u001B[39m \u001B[38;5;28mself\u001B[39m\u001B[38;5;241m.\u001B[39m_decode(\u001B[38;5;241m*\u001B[39mmz_params)\n\u001B[0;32m-> 1051\u001B[0m i \u001B[38;5;241m=\u001B[39m \u001B[38;5;28;43mself\u001B[39;49m\u001B[38;5;241;43m.\u001B[39;49m\u001B[43m_decode\u001B[49m\u001B[43m(\u001B[49m\u001B[38;5;241;43m*\u001B[39;49m\u001B[43mi_params\u001B[49m\u001B[43m)\u001B[49m\n\u001B[1;32m   1052\u001B[0m arr \u001B[38;5;241m=\u001B[39m np\u001B[38;5;241m.\u001B[39mstack((mz, i), axis\u001B[38;5;241m=\u001B[39m\u001B[38;5;241m-\u001B[39m\u001B[38;5;241m1\u001B[39m)\n\u001B[1;32m   1053\u001B[0m \u001B[38;5;28mself\u001B[39m\u001B[38;5;241m.\u001B[39m_peak_dict[peak_type] \u001B[38;5;241m=\u001B[39m arr\n",
      "File \u001B[0;32m/opt/homebrew/Caskroom/miniforge/base/envs/alphapept_env/lib/python3.8/site-packages/pymzml/spec.py:258\u001B[0m, in \u001B[0;36mMS_Spectrum._decode_to_numpy\u001B[0;34m(self, data, d_array_length, float_type, comp)\u001B[0m\n\u001B[1;32m    256\u001B[0m \u001B[38;5;28;01mif\u001B[39;00m \u001B[38;5;28mlen\u001B[39m(out_data) \u001B[38;5;241m!=\u001B[39m \u001B[38;5;241m0\u001B[39m:\n\u001B[1;32m    257\u001B[0m     \u001B[38;5;28;01mif\u001B[39;00m \u001B[38;5;124m\"\u001B[39m\u001B[38;5;124mzlib\u001B[39m\u001B[38;5;124m\"\u001B[39m \u001B[38;5;129;01min\u001B[39;00m comp \u001B[38;5;129;01mor\u001B[39;00m \u001B[38;5;124m\"\u001B[39m\u001B[38;5;124mzlib compression\u001B[39m\u001B[38;5;124m\"\u001B[39m \u001B[38;5;129;01min\u001B[39;00m comp:\n\u001B[0;32m--> 258\u001B[0m         out_data \u001B[38;5;241m=\u001B[39m \u001B[43mzlib\u001B[49m\u001B[38;5;241;43m.\u001B[39;49m\u001B[43mdecompress\u001B[49m\u001B[43m(\u001B[49m\u001B[43mout_data\u001B[49m\u001B[43m)\u001B[49m\n\u001B[1;32m    259\u001B[0m     \u001B[38;5;28;01mif\u001B[39;00m (\n\u001B[1;32m    260\u001B[0m         \u001B[38;5;124m\"\u001B[39m\u001B[38;5;124mms-np-linear\u001B[39m\u001B[38;5;124m\"\u001B[39m \u001B[38;5;129;01min\u001B[39;00m comp\n\u001B[1;32m    261\u001B[0m         \u001B[38;5;129;01mor\u001B[39;00m \u001B[38;5;124m\"\u001B[39m\u001B[38;5;124mms-np-pic\u001B[39m\u001B[38;5;124m\"\u001B[39m \u001B[38;5;129;01min\u001B[39;00m comp\n\u001B[0;32m   (...)\u001B[0m\n\u001B[1;32m    264\u001B[0m         \u001B[38;5;129;01mor\u001B[39;00m \u001B[38;5;124m\"\u001B[39m\u001B[38;5;124mMS-Numpress short logged float compression\u001B[39m\u001B[38;5;124m\"\u001B[39m \u001B[38;5;129;01min\u001B[39;00m comp\n\u001B[1;32m    265\u001B[0m     ):\n\u001B[1;32m    267\u001B[0m         out_data \u001B[38;5;241m=\u001B[39m \u001B[38;5;28mself\u001B[39m\u001B[38;5;241m.\u001B[39m_decodeNumpress_to_array(out_data, comp)\n",
      "\u001B[0;31mKeyboardInterrupt\u001B[0m: "
     ]
    }
   ],
   "source": [
    "run = pymzml.run.Reader(os.path.join('/Users/fanzhoukong/Documents/GitHub/Libgen_data/exposome_negBA/mzml', 'Exposome_Yendry232_MX743739_negBA_003-200-5.mzML'))\n",
    "time_dependent_intensities = []\n",
    "\n",
    "MZ_2_FOLLOW = 371.1617\n",
    "# run = pymzml.run.Reader(os.path.join(mzml_dir, 'SA2.mzML'))\n",
    "# time_dependent_intensities = []\n",
    "#\n",
    "# MZ_2_FOLLOW = 70.06575775\n",
    "time_used_pymzml = []\n",
    "for i in tqdm(range(0,100)):\n",
    "    start = time.time()\n",
    "    # metabo_eic = metabo_ms.get_eic_data(371.1617, mz_tol=0.005)\n",
    "    # tt = trx.flash_eic(371.1617, mass_sorted, intensity_sorted, index_sorted)\n",
    "    for spectrum in (run):\n",
    "        if spectrum.ms_level == 1:\n",
    "            has_peak_matches = spectrum.has_peak(MZ_2_FOLLOW)\n",
    "            if has_peak_matches != []:\n",
    "                for mz, I in has_peak_matches:\n",
    "                    time_dependent_intensities.append(\n",
    "                        [spectrum.scan_time_in_minutes(), I, mz]\n",
    "                    )\n",
    "    end = time.time()\n",
    "    time_used_pymzml.append(end-start)"
   ],
   "metadata": {
    "collapsed": false,
    "pycharm": {
     "name": "#%%\n"
    }
   }
  },
  {
   "cell_type": "code",
   "execution_count": 337,
   "outputs": [
    {
     "data": {
      "text/plain": "130000"
     },
     "execution_count": 337,
     "metadata": {},
     "output_type": "execute_result"
    }
   ],
   "source": [
    "13*10000"
   ],
   "metadata": {
    "collapsed": false,
    "pycharm": {
     "name": "#%%\n"
    }
   }
  },
  {
   "cell_type": "code",
   "execution_count": 328,
   "outputs": [],
   "source": [
    "time_used_short = pd.DataFrame(zip(time_used_flash+time_used_metabo+time_used_pymzml, ['Flash EIC']*10000+['Numpy method']*10000+len(time_used_pymzml)*['pymzml method']), columns=['time_used', 'method'])"
   ],
   "metadata": {
    "collapsed": false,
    "pycharm": {
     "name": "#%%\n"
    }
   }
  },
  {
   "cell_type": "code",
   "execution_count": 331,
   "outputs": [],
   "source": [
    "time_used_short2 = pd.DataFrame(zip(time_used_flash+time_used_metabo, ['Flash EIC']*10000+['Numpy method']*10000), columns=['time_used', 'method'])"
   ],
   "metadata": {
    "collapsed": false,
    "pycharm": {
     "name": "#%%\n"
    }
   }
  },
  {
   "cell_type": "code",
   "execution_count": 333,
   "outputs": [
    {
     "data": {
      "text/plain": "<Figure size 500x400 with 1 Axes>",
      "image/png": "[encoded data removed]"
     },
     "metadata": {},
     "output_type": "display_data"
    }
   ],
   "source": [
    "my_colors = [\"#CE5F5A\", \"#5081BD\",'#61D837']\n",
    "fig = plt.figure(figsize = (5, 4))\n",
    "# add color array to set_palette\n",
    "# function of seaborn\n",
    "p = sns.set_palette( my_colors )\n",
    "ax = sns.boxplot(data=time_used_short2, x=\"method\", y=\"time_used\", palette='Set1')\n",
    "ax.set_ylabel('Time used (second)',fontsize = 18)\n",
    "ax.set_xlabel('EIC methods', fontsize = 18)\n",
    "ax.tick_params(axis='both', which='major', labelsize=14)\n",
    "ax.tick_params(axis='both', which='minor', labelsize=14)\n",
    "fig.tight_layout()\n",
    "plt.savefig(os.path.join(seminar_dir, 'p_short_method_2.png'))"
   ],
   "metadata": {
    "collapsed": false,
    "pycharm": {
     "name": "#%%\n"
    }
   }
  },
  {
   "cell_type": "code",
   "execution_count": null,
   "outputs": [],
   "source": [
    "my_colors = [\"#CE5F5A\", \"#5081BD\",'#61D837']\n",
    "fig = plt.figure(figsize = (12, 7))\n",
    "# add color array to set_palette\n",
    "# function of seaborn\n",
    "p = sns.set_palette( my_colors )\n",
    "ax = sns.boxplot(data=time_used_long, x=\"method\", y=\"time_used\", palette='Set1')\n",
    "ax.set_ylabel('Time used (second)',fontsize = 18)\n",
    "ax.set_xlabel('EIC methods', fontsize = 18)\n",
    "ax.tick_params(axis='both', which='major', labelsize=14)\n",
    "ax.tick_params(axis='both', which='minor', labelsize=14)\n",
    "fig.tight_layout()\n",
    "plt.savefig(os.path.join(seminar_dir, 'p_long_method.png'))"
   ],
   "metadata": {
    "collapsed": false,
    "pycharm": {
     "name": "#%%\n"
    }
   }
  },
  {
   "cell_type": "code",
   "execution_count": 316,
   "outputs": [
    {
     "data": {
      "text/plain": "<Figure size 1200x700 with 1 Axes>",
      "image/png": "[encoded data removed]"
     },
     "metadata": {},
     "output_type": "display_data"
    }
   ],
   "source": [
    "my_colors = [\"#CE5F5A\", \"#5081BD\",'#61D837']\n",
    "fig = plt.figure(figsize = (12, 7))\n",
    "# add color array to set_palette\n",
    "# function of seaborn\n",
    "p = sns.set_palette( my_colors )\n",
    "ax = sns.boxplot(data=time_used_long, x=\"method\", y=\"time_used\", palette='Set1')\n",
    "ax.set_ylabel('Time used (second)',fontsize = 18)\n",
    "ax.set_xlabel('EIC methods', fontsize = 18)\n",
    "ax.tick_params(axis='both', which='major', labelsize=14)\n",
    "ax.tick_params(axis='both', which='minor', labelsize=14)\n",
    "fig.tight_layout()\n",
    "plt.savefig(os.path.join(seminar_dir, 'p_long_method.png'))"
   ],
   "metadata": {
    "collapsed": false,
    "pycharm": {
     "name": "#%%\n"
    }
   }
  },
  {
   "cell_type": "code",
   "execution_count": 271,
   "outputs": [],
   "source": [
    "left_idx, right_idx = mass_sorted.searchsorted([371.1617-0.005, 371.1617+0.005])"
   ],
   "metadata": {
    "collapsed": false,
    "pycharm": {
     "name": "#%%\n"
    }
   }
  },
  {
   "cell_type": "code",
   "execution_count": 228,
   "outputs": [],
   "source": [
    "run = pymzml.run.Reader(os.path.join(mzml_dir, 'SA2.mzML'))\n",
    "time_dependent_intensities = []\n",
    "\n",
    "MZ_2_FOLLOW = 371.1617\n",
    "# run = pymzml.run.Reader(os.path.join(mzml_dir, 'SA2.mzML'))\n",
    "# time_dependent_intensities = []\n",
    "#\n",
    "# MZ_2_FOLLOW = 70.06575775\n",
    "time_used_pymzml = []\n",
    "for i in tqdm(range(0,10000)):\n",
    "    start = time.time()\n",
    "    # metabo_eic = metabo_ms.get_eic_data(371.1617, mz_tol=0.005)\n",
    "    # tt = trx.flash_eic(371.1617, mass_sorted, intensity_sorted, index_sorted)\n",
    "    for spectrum in tqdm(run):\n",
    "        if spectrum.ms_level == 1:\n",
    "            has_peak_matches = spectrum.has_peak(MZ_2_FOLLOW)\n",
    "            if has_peak_matches != []:\n",
    "                for mz, I in has_peak_matches:\n",
    "                    time_dependent_intensities.append(\n",
    "                        [spectrum.scan_time_in_minutes(), I, mz]\n",
    "                    )\n",
    "    end = time.time()\n",
    "    time_used_pymzml.append(end-start)"
   ],
   "metadata": {
    "collapsed": false,
    "pycharm": {
     "name": "#%%\n"
    }
   }
  },
  {
   "cell_type": "code",
   "execution_count": 244,
   "outputs": [],
   "source": [
    "for scan in ms1['peaks']:\n",
    "    break"
   ],
   "metadata": {
    "collapsed": false,
    "pycharm": {
     "name": "#%%\n"
    }
   }
  },
  {
   "cell_type": "code",
   "execution_count": null,
   "outputs": [],
   "source": [
    "ms1.to_csv(os.path.join)"
   ],
   "metadata": {
    "collapsed": false,
    "pycharm": {
     "name": "#%%\n"
    }
   }
  },
  {
   "cell_type": "code",
   "execution_count": 153,
   "outputs": [],
   "source": [
    "ord = string_search(std_list, 'if_halo_ref', False)"
   ],
   "metadata": {
    "collapsed": false,
    "pycharm": {
     "name": "#%%\n"
    }
   }
  },
  {
   "cell_type": "markdown",
   "source": [],
   "metadata": {
    "collapsed": false,
    "pycharm": {
     "name": "#%% md\n"
    }
   }
  },
  {
   "cell_type": "code",
   "execution_count": null,
   "outputs": [],
   "source": [],
   "metadata": {
    "collapsed": false,
    "pycharm": {
     "name": "#%%\n"
    }
   }
  },
  {
   "cell_type": "markdown",
   "source": [],
   "metadata": {
    "collapsed": false,
    "pycharm": {
     "name": "#%% md\n"
    }
   }
  },
  {
   "cell_type": "code",
   "execution_count": 154,
   "outputs": [
    {
     "data": {
      "text/plain": "         formula       m/z     rt  targeted_fold_change conc_ratio  \\\n8    C17H11F6N7O  444.0999  19.69                  1.05        1/1   \n18     C15H25NO3  268.1912   3.99                  2.21        2/1   \n19       C19H21N  264.1751  12.14                  0.27        1/4   \n25      C11H11N5  214.1091   5.47                  0.06       1/16   \n31      C19H22N2  279.1860   5.06                  0.99        1/1   \n32      C16H24N2  245.2016   9.47                  3.41        4/1   \n50    C50H75NO14  914.5281  31.81                  0.21        1/4   \n56    C22H28F2O5  411.1968  32.46                  0.96        1/1   \n80     C15H22N2O  247.1809   4.92                  1.29        1/1   \n92       C20H23N  278.1906   9.94                  0.78        1/1   \n93     C14H18N2O  231.1495  23.99                  1.01        1/1   \n99     C17H19N3O  282.1605   5.24                  1.06        1/1   \n102     C10H15N5  206.1404   3.70                  1.04        1/1   \n112   C40H57N5O7  720.4344  24.82                  0.98        1/1   \n134     C18H22N2  267.1859   7.80                  1.08        1/1   \n143    C22H28FO5  392.2006  21.68                  1.05        1/1   \n161   C21H31N3O5  406.2343   3.35                  1.07        1/1   \n172    C14H10N2O  223.0869  10.50                  0.94        1/1   \n174     C12H11N5  226.1090   3.81                  0.98        1/1   \n228     C15H18N2  227.1546   5.14                  0.73        1/1   \n250     C17H18N2  251.1546   9.79                  0.75        1/1   \n272    C28H36O15  613.2143   7.22                  1.07        1/1   \n296    C29H31N7O  494.2667  18.10                  1.04        1/1   \n318    C22H21NO3  348.1599  26.50                  1.03        1/1   \n332     C20H16N6  341.1516   3.37                  0.99        1/1   \n352    C15H12N2O  237.1026  11.01                  1.01        1/1   \n388    C15H14N2O  239.1180  27.62                  1.01        1/1   \n413      C13H8N6  249.0887   3.77                  1.00        1/1   \n416    C20H20N4O  333.1702  32.18                  0.95        1/1   \n420       C6H7N5  150.0777   0.57                  1.02        1/1   \n424     C18H18N4  291.1607   0.58                  0.91        1/1   \n454    C13H16N4O  245.1401   3.27                  0.84        1/1   \n469   C21H23N3O5  398.1715   0.58                  1.01        1/1   \n470   C13H16N4O2  261.1352   0.58                  1.17        1/1   \n477     C28H36O6  469.2562  18.39                  1.18        1/1   \n492    C18H22N2O  283.1809   9.60                  0.77        1/1   \n504  C24H20F3N5O  452.1686  28.82                  0.91        1/1   \n\n     if_halo_ref  halo_corr  corr_left  corr_right  \n8          False   0.999949   0.944722    0.999889  \n18         False   0.783016   0.000000    0.999714  \n19         False   0.968720  -0.089860    0.999954  \n25         False   0.955227   0.946835    0.999952  \n31         False   0.795651   0.752372    0.999793  \n32         False   0.981416  -0.095034    0.999949  \n50         False   0.958628   0.602757    0.983450  \n56         False   0.999516   0.999983    0.899401  \n80         False   0.754362  -0.287024    0.999941  \n92         False   0.777040   0.988415    0.999870  \n93         False   0.937954   0.154854    0.999791  \n99         False   0.843686   0.897019    0.999832  \n102        False   0.927305   0.000000    0.999804  \n112        False   0.976384   0.836409    0.999921  \n134        False   0.964576   0.787069    0.999947  \n143        False   0.829964   0.000000    0.994399  \n161        False   0.898782   0.000000    0.999853  \n172        False   0.780529   0.974790    0.999219  \n174        False   0.848748   0.742636    0.999914  \n228        False   0.965707  -0.057970    0.988453  \n250        False   0.964316   0.970778    0.999821  \n272        False   0.822666   0.775059    0.999681  \n296        False   0.999968   0.999908    0.999418  \n318        False   0.776443   0.998042    0.999912  \n332        False   0.997060   0.000000    0.999557  \n352        False   0.948406  -0.244265    0.999559  \n388        False   0.948281   0.972114    0.999968  \n413        False   0.944377  -0.224946    0.999632  \n416        False   0.999670   0.999788    0.999933  \n420        False   0.996195   0.000000    0.985873  \n424        False   0.866081   0.000000    0.991767  \n454        False   0.801835  -0.071662    0.996502  \n469        False   0.962305   0.000000    0.956400  \n470        False   0.993961   0.000000    0.995484  \n477        False   0.935190   0.997536    0.441631  \n492        False   0.761516  -0.096457    0.999876  \n504        False   0.999906   0.999857   -0.266719  ",
      "text/html": "<div>\n<style scoped>\n    .dataframe tbody tr th:only-of-type {\n        vertical-align: middle;\n    }\n\n    .dataframe tbody tr th {\n        vertical-align: top;\n    }\n\n    .dataframe thead th {\n        text-align: right;\n    }\n</style>\n<table border=\"1\" class=\"dataframe\">\n  <thead>\n    <tr style=\"text-align: right;\">\n      <th></th>\n      <th>formula</th>\n      <th>m/z</th>\n      <th>rt</th>\n      <th>targeted_fold_change</th>\n      <th>conc_ratio</th>\n      <th>if_halo_ref</th>\n      <th>halo_corr</th>\n      <th>corr_left</th>\n      <th>corr_right</th>\n    </tr>\n  </thead>\n  <tbody>\n    <tr>\n      <th>8</th>\n      <td>C17H11F6N7O</td>\n      <td>444.0999</td>\n      <td>19.69</td>\n      <td>1.05</td>\n      <td>1/1</td>\n      <td>False</td>\n      <td>0.999949</td>\n      <td>0.944722</td>\n      <td>0.999889</td>\n    </tr>\n    <tr>\n      <th>18</th>\n      <td>C15H25NO3</td>\n      <td>268.1912</td>\n      <td>3.99</td>\n      <td>2.21</td>\n      <td>2/1</td>\n      <td>False</td>\n      <td>0.783016</td>\n      <td>0.000000</td>\n      <td>0.999714</td>\n    </tr>\n    <tr>\n      <th>19</th>\n      <td>C19H21N</td>\n      <td>264.1751</td>\n      <td>12.14</td>\n      <td>0.27</td>\n      <td>1/4</td>\n      <td>False</td>\n      <td>0.968720</td>\n      <td>-0.089860</td>\n      <td>0.999954</td>\n    </tr>\n    <tr>\n      <th>25</th>\n      <td>C11H11N5</td>\n      <td>214.1091</td>\n      <td>5.47</td>\n      <td>0.06</td>\n      <td>1/16</td>\n      <td>False</td>\n      <td>0.955227</td>\n      <td>0.946835</td>\n      <td>0.999952</td>\n    </tr>\n    <tr>\n      <th>31</th>\n      <td>C19H22N2</td>\n      <td>279.1860</td>\n      <td>5.06</td>\n      <td>0.99</td>\n      <td>1/1</td>\n      <td>False</td>\n      <td>0.795651</td>\n      <td>0.752372</td>\n      <td>0.999793</td>\n    </tr>\n    <tr>\n      <th>32</th>\n      <td>C16H24N2</td>\n      <td>245.2016</td>\n      <td>9.47</td>\n      <td>3.41</td>\n      <td>4/1</td>\n      <td>False</td>\n      <td>0.981416</td>\n      <td>-0.095034</td>\n      <td>0.999949</td>\n    </tr>\n    <tr>\n      <th>50</th>\n      <td>C50H75NO14</td>\n      <td>914.5281</td>\n      <td>31.81</td>\n      <td>0.21</td>\n      <td>1/4</td>\n      <td>False</td>\n      <td>0.958628</td>\n      <td>0.602757</td>\n      <td>0.983450</td>\n    </tr>\n    <tr>\n      <th>56</th>\n      <td>C22H28F2O5</td>\n      <td>411.1968</td>\n      <td>32.46</td>\n      <td>0.96</td>\n      <td>1/1</td>\n      <td>False</td>\n      <td>0.999516</td>\n      <td>0.999983</td>\n      <td>0.899401</td>\n    </tr>\n    <tr>\n      <th>80</th>\n      <td>C15H22N2O</td>\n      <td>247.1809</td>\n      <td>4.92</td>\n      <td>1.29</td>\n      <td>1/1</td>\n      <td>False</td>\n      <td>0.754362</td>\n      <td>-0.287024</td>\n      <td>0.999941</td>\n    </tr>\n    <tr>\n      <th>92</th>\n      <td>C20H23N</td>\n      <td>278.1906</td>\n      <td>9.94</td>\n      <td>0.78</td>\n      <td>1/1</td>\n      <td>False</td>\n      <td>0.777040</td>\n      <td>0.988415</td>\n      <td>0.999870</td>\n    </tr>\n    <tr>\n      <th>93</th>\n      <td>C14H18N2O</td>\n      <td>231.1495</td>\n      <td>23.99</td>\n      <td>1.01</td>\n      <td>1/1</td>\n      <td>False</td>\n      <td>0.937954</td>\n      <td>0.154854</td>\n      <td>0.999791</td>\n    </tr>\n    <tr>\n      <th>99</th>\n      <td>C17H19N3O</td>\n      <td>282.1605</td>\n      <td>5.24</td>\n      <td>1.06</td>\n      <td>1/1</td>\n      <td>False</td>\n      <td>0.843686</td>\n      <td>0.897019</td>\n      <td>0.999832</td>\n    </tr>\n    <tr>\n      <th>102</th>\n      <td>C10H15N5</td>\n      <td>206.1404</td>\n      <td>3.70</td>\n      <td>1.04</td>\n      <td>1/1</td>\n      <td>False</td>\n      <td>0.927305</td>\n      <td>0.000000</td>\n      <td>0.999804</td>\n    </tr>\n    <tr>\n      <th>112</th>\n      <td>C40H57N5O7</td>\n      <td>720.4344</td>\n      <td>24.82</td>\n      <td>0.98</td>\n      <td>1/1</td>\n      <td>False</td>\n      <td>0.976384</td>\n      <td>0.836409</td>\n      <td>0.999921</td>\n    </tr>\n    <tr>\n      <th>134</th>\n      <td>C18H22N2</td>\n      <td>267.1859</td>\n      <td>7.80</td>\n      <td>1.08</td>\n      <td>1/1</td>\n      <td>False</td>\n      <td>0.964576</td>\n      <td>0.787069</td>\n      <td>0.999947</td>\n    </tr>\n    <tr>\n      <th>143</th>\n      <td>C22H28FO5</td>\n      <td>392.2006</td>\n      <td>21.68</td>\n      <td>1.05</td>\n      <td>1/1</td>\n      <td>False</td>\n      <td>0.829964</td>\n      <td>0.000000</td>\n      <td>0.994399</td>\n    </tr>\n    <tr>\n      <th>161</th>\n      <td>C21H31N3O5</td>\n      <td>406.2343</td>\n      <td>3.35</td>\n      <td>1.07</td>\n      <td>1/1</td>\n      <td>False</td>\n      <td>0.898782</td>\n      <td>0.000000</td>\n      <td>0.999853</td>\n    </tr>\n    <tr>\n      <th>172</th>\n      <td>C14H10N2O</td>\n      <td>223.0869</td>\n      <td>10.50</td>\n      <td>0.94</td>\n      <td>1/1</td>\n      <td>False</td>\n      <td>0.780529</td>\n      <td>0.974790</td>\n      <td>0.999219</td>\n    </tr>\n    <tr>\n      <th>174</th>\n      <td>C12H11N5</td>\n      <td>226.1090</td>\n      <td>3.81</td>\n      <td>0.98</td>\n      <td>1/1</td>\n      <td>False</td>\n      <td>0.848748</td>\n      <td>0.742636</td>\n      <td>0.999914</td>\n    </tr>\n    <tr>\n      <th>228</th>\n      <td>C15H18N2</td>\n      <td>227.1546</td>\n      <td>5.14</td>\n      <td>0.73</td>\n      <td>1/1</td>\n      <td>False</td>\n      <td>0.965707</td>\n      <td>-0.057970</td>\n      <td>0.988453</td>\n    </tr>\n    <tr>\n      <th>250</th>\n      <td>C17H18N2</td>\n      <td>251.1546</td>\n      <td>9.79</td>\n      <td>0.75</td>\n      <td>1/1</td>\n      <td>False</td>\n      <td>0.964316</td>\n      <td>0.970778</td>\n      <td>0.999821</td>\n    </tr>\n    <tr>\n      <th>272</th>\n      <td>C28H36O15</td>\n      <td>613.2143</td>\n      <td>7.22</td>\n      <td>1.07</td>\n      <td>1/1</td>\n      <td>False</td>\n      <td>0.822666</td>\n      <td>0.775059</td>\n      <td>0.999681</td>\n    </tr>\n    <tr>\n      <th>296</th>\n      <td>C29H31N7O</td>\n      <td>494.2667</td>\n      <td>18.10</td>\n      <td>1.04</td>\n      <td>1/1</td>\n      <td>False</td>\n      <td>0.999968</td>\n      <td>0.999908</td>\n      <td>0.999418</td>\n    </tr>\n    <tr>\n      <th>318</th>\n      <td>C22H21NO3</td>\n      <td>348.1599</td>\n      <td>26.50</td>\n      <td>1.03</td>\n      <td>1/1</td>\n      <td>False</td>\n      <td>0.776443</td>\n      <td>0.998042</td>\n      <td>0.999912</td>\n    </tr>\n    <tr>\n      <th>332</th>\n      <td>C20H16N6</td>\n      <td>341.1516</td>\n      <td>3.37</td>\n      <td>0.99</td>\n      <td>1/1</td>\n      <td>False</td>\n      <td>0.997060</td>\n      <td>0.000000</td>\n      <td>0.999557</td>\n    </tr>\n    <tr>\n      <th>352</th>\n      <td>C15H12N2O</td>\n      <td>237.1026</td>\n      <td>11.01</td>\n      <td>1.01</td>\n      <td>1/1</td>\n      <td>False</td>\n      <td>0.948406</td>\n      <td>-0.244265</td>\n      <td>0.999559</td>\n    </tr>\n    <tr>\n      <th>388</th>\n      <td>C15H14N2O</td>\n      <td>239.1180</td>\n      <td>27.62</td>\n      <td>1.01</td>\n      <td>1/1</td>\n      <td>False</td>\n      <td>0.948281</td>\n      <td>0.972114</td>\n      <td>0.999968</td>\n    </tr>\n    <tr>\n      <th>413</th>\n      <td>C13H8N6</td>\n      <td>249.0887</td>\n      <td>3.77</td>\n      <td>1.00</td>\n      <td>1/1</td>\n      <td>False</td>\n      <td>0.944377</td>\n      <td>-0.224946</td>\n      <td>0.999632</td>\n    </tr>\n    <tr>\n      <th>416</th>\n      <td>C20H20N4O</td>\n      <td>333.1702</td>\n      <td>32.18</td>\n      <td>0.95</td>\n      <td>1/1</td>\n      <td>False</td>\n      <td>0.999670</td>\n      <td>0.999788</td>\n      <td>0.999933</td>\n    </tr>\n    <tr>\n      <th>420</th>\n      <td>C6H7N5</td>\n      <td>150.0777</td>\n      <td>0.57</td>\n      <td>1.02</td>\n      <td>1/1</td>\n      <td>False</td>\n      <td>0.996195</td>\n      <td>0.000000</td>\n      <td>0.985873</td>\n    </tr>\n    <tr>\n      <th>424</th>\n      <td>C18H18N4</td>\n      <td>291.1607</td>\n      <td>0.58</td>\n      <td>0.91</td>\n      <td>1/1</td>\n      <td>False</td>\n      <td>0.866081</td>\n      <td>0.000000</td>\n      <td>0.991767</td>\n    </tr>\n    <tr>\n      <th>454</th>\n      <td>C13H16N4O</td>\n      <td>245.1401</td>\n      <td>3.27</td>\n      <td>0.84</td>\n      <td>1/1</td>\n      <td>False</td>\n      <td>0.801835</td>\n      <td>-0.071662</td>\n      <td>0.996502</td>\n    </tr>\n    <tr>\n      <th>469</th>\n      <td>C21H23N3O5</td>\n      <td>398.1715</td>\n      <td>0.58</td>\n      <td>1.01</td>\n      <td>1/1</td>\n      <td>False</td>\n      <td>0.962305</td>\n      <td>0.000000</td>\n      <td>0.956400</td>\n    </tr>\n    <tr>\n      <th>470</th>\n      <td>C13H16N4O2</td>\n      <td>261.1352</td>\n      <td>0.58</td>\n      <td>1.17</td>\n      <td>1/1</td>\n      <td>False</td>\n      <td>0.993961</td>\n      <td>0.000000</td>\n      <td>0.995484</td>\n    </tr>\n    <tr>\n      <th>477</th>\n      <td>C28H36O6</td>\n      <td>469.2562</td>\n      <td>18.39</td>\n      <td>1.18</td>\n      <td>1/1</td>\n      <td>False</td>\n      <td>0.935190</td>\n      <td>0.997536</td>\n      <td>0.441631</td>\n    </tr>\n    <tr>\n      <th>492</th>\n      <td>C18H22N2O</td>\n      <td>283.1809</td>\n      <td>9.60</td>\n      <td>0.77</td>\n      <td>1/1</td>\n      <td>False</td>\n      <td>0.761516</td>\n      <td>-0.096457</td>\n      <td>0.999876</td>\n    </tr>\n    <tr>\n      <th>504</th>\n      <td>C24H20F3N5O</td>\n      <td>452.1686</td>\n      <td>28.82</td>\n      <td>0.91</td>\n      <td>1/1</td>\n      <td>False</td>\n      <td>0.999906</td>\n      <td>0.999857</td>\n      <td>-0.266719</td>\n    </tr>\n  </tbody>\n</table>\n</div>"
     },
     "execution_count": 154,
     "metadata": {},
     "output_type": "execute_result"
    }
   ],
   "source": [
    "ord.query('halo_corr>0.75')"
   ],
   "metadata": {
    "collapsed": false,
    "pycharm": {
     "name": "#%%\n"
    }
   }
  },
  {
   "cell_type": "code",
   "execution_count": 156,
   "outputs": [
    {
     "data": {
      "text/plain": "     precursor_mz   rt_apex  rt_start    rt_end  ms1_intensity  n_scnas  \\\n519    227.154882  5.159399  4.761539  5.983898     93242448.0    408.0   \n\n    ms1_scan_range  ion_trace_center      reci_snr  base_name  mz_offset  \n519   [1588, 1997]        227.154866  1.343533e-13        NaN   0.000017  ",
      "text/html": "<div>\n<style scoped>\n    .dataframe tbody tr th:only-of-type {\n        vertical-align: middle;\n    }\n\n    .dataframe tbody tr th {\n        vertical-align: top;\n    }\n\n    .dataframe thead th {\n        text-align: right;\n    }\n</style>\n<table border=\"1\" class=\"dataframe\">\n  <thead>\n    <tr style=\"text-align: right;\">\n      <th></th>\n      <th>precursor_mz</th>\n      <th>rt_apex</th>\n      <th>rt_start</th>\n      <th>rt_end</th>\n      <th>ms1_intensity</th>\n      <th>n_scnas</th>\n      <th>ms1_scan_range</th>\n      <th>ion_trace_center</th>\n      <th>reci_snr</th>\n      <th>base_name</th>\n      <th>mz_offset</th>\n    </tr>\n  </thead>\n  <tbody>\n    <tr>\n      <th>519</th>\n      <td>227.154882</td>\n      <td>5.159399</td>\n      <td>4.761539</td>\n      <td>5.983898</td>\n      <td>93242448.0</td>\n      <td>408.0</td>\n      <td>[1588, 1997]</td>\n      <td>227.154866</td>\n      <td>1.343533e-13</td>\n      <td>NaN</td>\n      <td>0.000017</td>\n    </tr>\n  </tbody>\n</table>\n</div>"
     },
     "execution_count": 156,
     "metadata": {},
     "output_type": "execute_result"
    }
   ],
   "source": [
    "search_feature(feature_temp, 227.1546, 5.14)"
   ],
   "metadata": {
    "collapsed": false,
    "pycharm": {
     "name": "#%%\n"
    }
   }
  },
  {
   "cell_type": "code",
   "execution_count": 159,
   "outputs": [
    {
     "data": {
      "text/plain": "<Figure size 1000x600 with 1 Axes>",
      "image/png": "[encoded data removed]"
     },
     "metadata": {},
     "output_type": "display_data"
    }
   ],
   "source": [
    "ion_trace_base = trx.flash_eic(227.154882, mass_sorted, intensity_sorted, index_sorted)\n",
    "ion_trace_halo = trx.flash_eic(227.154882+iso_steps['Cl'], mass_sorted, intensity_sorted, index_sorted)\n",
    "rds.EIC(rt_list, ion_trace_halo,\n",
    "        base_line_series=ion_trace_halo,\n",
    "        rt_start=4, rt_end=6)"
   ],
   "metadata": {
    "collapsed": false,
    "pycharm": {
     "name": "#%%\n"
    }
   }
  },
  {
   "cell_type": "code",
   "execution_count": 128,
   "outputs": [
    {
     "data": {
      "text/plain": "      precursor_mz  rt_apex  rt_start    rt_end  ms1_intensity  n_scnas  \\\n4257     308.14318  3.92372   3.73215  4.264453     16453381.0    180.0   \n\n     ms1_scan_range  ion_trace_center      reci_snr  base_name  mz_offset  \n4257   [1239, 1420]        308.143186  8.523551e-19        NaN   0.000006  ",
      "text/html": "<div>\n<style scoped>\n    .dataframe tbody tr th:only-of-type {\n        vertical-align: middle;\n    }\n\n    .dataframe tbody tr th {\n        vertical-align: top;\n    }\n\n    .dataframe thead th {\n        text-align: right;\n    }\n</style>\n<table border=\"1\" class=\"dataframe\">\n  <thead>\n    <tr style=\"text-align: right;\">\n      <th></th>\n      <th>precursor_mz</th>\n      <th>rt_apex</th>\n      <th>rt_start</th>\n      <th>rt_end</th>\n      <th>ms1_intensity</th>\n      <th>n_scnas</th>\n      <th>ms1_scan_range</th>\n      <th>ion_trace_center</th>\n      <th>reci_snr</th>\n      <th>base_name</th>\n      <th>mz_offset</th>\n    </tr>\n  </thead>\n  <tbody>\n    <tr>\n      <th>4257</th>\n      <td>308.14318</td>\n      <td>3.92372</td>\n      <td>3.73215</td>\n      <td>4.264453</td>\n      <td>16453381.0</td>\n      <td>180.0</td>\n      <td>[1239, 1420]</td>\n      <td>308.143186</td>\n      <td>8.523551e-19</td>\n      <td>NaN</td>\n      <td>0.000006</td>\n    </tr>\n  </tbody>\n</table>\n</div>"
     },
     "execution_count": 128,
     "metadata": {},
     "output_type": "execute_result"
    }
   ],
   "source": [
    "search_feature(feature_temp, 308.1431, 3.94, rt_error=20)"
   ],
   "metadata": {
    "collapsed": false,
    "pycharm": {
     "name": "#%%\n"
    }
   }
  },
  {
   "cell_type": "code",
   "execution_count": 144,
   "outputs": [],
   "source": [
    "ion_trace_base = trx.flash_eic(185.9776, mass_sorted, intensity_sorted, index_sorted)\n",
    "# ion_trace_left = trx.flash_eic(308.1431-iso_steps['C'],mass_sorted, intensity_sorted, index_sorted)\n",
    "ion_trace_halo = trx.flash_eic(185.9776+iso_steps['Cl'],mass_sorted, intensity_sorted, index_sorted, mass_error=0.002)"
   ],
   "metadata": {
    "collapsed": false,
    "pycharm": {
     "name": "#%%\n"
    }
   }
  },
  {
   "cell_type": "code",
   "execution_count": 145,
   "outputs": [
    {
     "data": {
      "text/plain": "<Figure size 1000x600 with 1 Axes>",
      "image/png": "[encoded data removed]"
     },
     "metadata": {},
     "output_type": "display_data"
    }
   ],
   "source": [
    "rds.EIC(rt_list, ion_trace_base, vlines_location_1=[10.63],\n",
    "        base_line_series=ion_trace_halo,\n",
    "        rt_start=8, rt_end=12)"
   ],
   "metadata": {
    "collapsed": false,
    "pycharm": {
     "name": "#%%\n"
    }
   }
  },
  {
   "cell_type": "code",
   "execution_count": 57,
   "outputs": [
    {
     "data": {
      "text/plain": "      precursor_mz    rt_apex   rt_start     rt_end  ms1_intensity  n_scnas  \\\n1547    371.162257  18.939849  18.385409  20.253743     43924776.0    561.0   \n\n     ms1_scan_range  ion_trace_center      reci_snr  base_name  mz_offset  \n1547   [5913, 6475]         371.16227  1.821798e-15        NaN   0.000013  ",
      "text/html": "<div>\n<style scoped>\n    .dataframe tbody tr th:only-of-type {\n        vertical-align: middle;\n    }\n\n    .dataframe tbody tr th {\n        vertical-align: top;\n    }\n\n    .dataframe thead th {\n        text-align: right;\n    }\n</style>\n<table border=\"1\" class=\"dataframe\">\n  <thead>\n    <tr style=\"text-align: right;\">\n      <th></th>\n      <th>precursor_mz</th>\n      <th>rt_apex</th>\n      <th>rt_start</th>\n      <th>rt_end</th>\n      <th>ms1_intensity</th>\n      <th>n_scnas</th>\n      <th>ms1_scan_range</th>\n      <th>ion_trace_center</th>\n      <th>reci_snr</th>\n      <th>base_name</th>\n      <th>mz_offset</th>\n    </tr>\n  </thead>\n  <tbody>\n    <tr>\n      <th>1547</th>\n      <td>371.162257</td>\n      <td>18.939849</td>\n      <td>18.385409</td>\n      <td>20.253743</td>\n      <td>43924776.0</td>\n      <td>561.0</td>\n      <td>[5913, 6475]</td>\n      <td>371.16227</td>\n      <td>1.821798e-15</td>\n      <td>NaN</td>\n      <td>0.000013</td>\n    </tr>\n  </tbody>\n</table>\n</div>"
     },
     "execution_count": 57,
     "metadata": {},
     "output_type": "execute_result"
    }
   ],
   "source": [
    "found_feature"
   ],
   "metadata": {
    "collapsed": false,
    "pycharm": {
     "name": "#%%\n"
    }
   }
  },
  {
   "cell_type": "code",
   "execution_count": 65,
   "outputs": [
    {
     "data": {
      "text/plain": "<Figure size 1000x600 with 1 Axes>",
      "image/png": "[encoded data removed]"
     },
     "metadata": {},
     "output_type": "display_data"
    }
   ],
   "source": [
    "rds.EIC(rt_list, ion_trace_base,base_line_series=ion_trace_left, vlines_location_1=[18.385, 20.253])"
   ],
   "metadata": {
    "collapsed": false,
    "pycharm": {
     "name": "#%%\n"
    }
   }
  },
  {
   "cell_type": "code",
   "execution_count": 838,
   "outputs": [
    {
     "name": "stderr",
     "output_type": "stream",
     "text": [
      "  0%|          | 0/10 [10:19<?, ?it/s]\n"
     ]
    }
   ],
   "source": [
    "for f in tqdm(file_list):\n",
    "    ms1, ms2= rds.read_mzml(f,mzml_dir)\n",
    "    mass_sorted, intensity_sorted, index_sorted, rt_list = trx.build_index(ms1)\n",
    "    feature_temp= trx.get_features(mass_sorted, intensity_sorted, index_sorted, rt_list, n_neighbor=10)\n",
    "    feature_temp.to_csv(os.path.join(pl_dir, f+'.csv'), index = False)\n",
    "    break"
   ],
   "metadata": {
    "collapsed": false,
    "pycharm": {
     "name": "#%%\n"
    }
   }
  },
  {
   "cell_type": "code",
   "execution_count": 841,
   "outputs": [
    {
     "name": "stderr",
     "output_type": "stream",
     "text": [
      "100%|██████████| 836/836 [00:05<00:00, 149.13it/s]"
     ]
    },
    {
     "name": "stdout",
     "output_type": "stream",
     "text": [
      "830\n"
     ]
    },
    {
     "name": "stderr",
     "output_type": "stream",
     "text": [
      "\n"
     ]
    }
   ],
   "source": [
    "found = []\n",
    "for index, row in tqdm(std_list.iterrows(), total = len(std_list)):\n",
    "    tt = search_feature(feature_temp, pmz=row['m/z'], rt=row['rt'], rt_error=21)\n",
    "    if len(tt)>0:\n",
    "        found.append(True)\n",
    "    else:\n",
    "        found.append(False)\n",
    "print(np.sum(found))"
   ],
   "metadata": {
    "collapsed": false,
    "pycharm": {
     "name": "#%%\n"
    }
   }
  },
  {
   "cell_type": "code",
   "execution_count": 821,
   "outputs": [
    {
     "data": {
      "text/plain": "10490.0"
     },
     "execution_count": 821,
     "metadata": {},
     "output_type": "execute_result"
    }
   ],
   "source": [
    "raw_apex_idx_all[-1]"
   ],
   "metadata": {
    "collapsed": false,
    "pycharm": {
     "name": "#%%\n"
    }
   }
  },
  {
   "cell_type": "code",
   "execution_count": 823,
   "outputs": [],
   "source": [
    "ion_trace = trx.flash_eic(329.219465, mass_sorted, intensity_sorted, index_sorted)"
   ],
   "metadata": {
    "collapsed": false,
    "pycharm": {
     "name": "#%%\n"
    }
   }
  },
  {
   "cell_type": "code",
   "execution_count": 750,
   "outputs": [],
   "source": [
    "ion_trace = trx.flash_eic(157.035385, mass_sorted, intensity_sorted, index_sorted)"
   ],
   "metadata": {
    "collapsed": false,
    "pycharm": {
     "name": "#%%\n"
    }
   }
  },
  {
   "cell_type": "code",
   "execution_count": 751,
   "outputs": [],
   "source": [
    "tt=trx.detect_all_peaks(ion_trace, n_neighbor=10, return_all=False)"
   ],
   "metadata": {
    "collapsed": false,
    "pycharm": {
     "name": "#%%\n"
    }
   }
  },
  {
   "cell_type": "code",
   "execution_count": 774,
   "outputs": [
    {
     "data": {
      "text/plain": "-0.5300000000000002"
     },
     "execution_count": 774,
     "metadata": {},
     "output_type": "execute_result"
    }
   ],
   "source": [
    "6.71-7.24"
   ],
   "metadata": {
    "collapsed": false,
    "pycharm": {
     "name": "#%%\n"
    }
   }
  },
  {
   "cell_type": "code",
   "execution_count": 784,
   "outputs": [
    {
     "data": {
      "text/plain": "[0.57045102]"
     },
     "execution_count": 784,
     "metadata": {},
     "output_type": "execute_result"
    }
   ],
   "source": [
    "rt_all"
   ],
   "metadata": {
    "collapsed": false,
    "pycharm": {
     "name": "#%%\n"
    }
   }
  },
  {
   "cell_type": "code",
   "execution_count": 787,
   "outputs": [
    {
     "name": "stdout",
     "output_type": "stream",
     "text": [
      "369.0734\n"
     ]
    },
    {
     "data": {
      "text/plain": "<Figure size 1000x600 with 1 Axes>",
      "image/png": "[encoded data removed]"
     },
     "metadata": {},
     "output_type": "display_data"
    }
   ],
   "source": [
    "row = std_list[std_list['found']==False].iloc[6]\n",
    "print(row['m/z'])\n",
    "ion_trace = trx.flash_eic(row['m/z'], mass_sorted, intensity_sorted, index_sorted)\n",
    "ion_trace_smoothed= trx.moving_average(ion_trace, 10)\n",
    "\n",
    "tt=trx.detect_all_peaks(ion_trace, n_neighbor=10)\n",
    "rt_all = [rt_list[int(x)] for x in tt[2]]\n",
    "rds.EIC(rt_list, trx.moving_average(ion_trace, 10), vlines_location_1=[7.247],vlines_location_2=[row['rt']],\n",
    "        rt_start=row['rt']-1, rt_end=row['rt']+1\n",
    "        )"
   ],
   "metadata": {
    "collapsed": false,
    "pycharm": {
     "name": "#%%\n"
    }
   }
  },
  {
   "cell_type": "code",
   "execution_count": 591,
   "outputs": [],
   "source": [
    "def is_halo(row, mass_sorted, intensity_sorted, index_sorted,threshold = 0.9):\n",
    "    ion_trace_base = trx.moving_average(trx.flash_eic(row['precursor_mz'], mass_sorted, intensity_sorted, index_sorted),10)\n",
    "    ion_trace_halo = trx.moving_average(trx.flash_eic(row['precursor_mz']+iso_steps['Cl'],mass_sorted, intensity_sorted, index_sorted),10)\n",
    "\n",
    "    lst = literal_eval(row['ms1_scan_range'])\n",
    "    corr,_ = pearsonr(ion_trace_base[lst[1]-1:lst[1]+2],\n",
    "                      ion_trace_halo[lst[1]-1:lst[1]+2])\n",
    "    if corr != corr:\n",
    "        corr = 0\n",
    "    if corr>threshold:\n",
    "        return(True)\n",
    "    else:\n",
    "        return False"
   ],
   "metadata": {
    "collapsed": false,
    "pycharm": {
     "name": "#%%\n"
    }
   }
  },
  {
   "cell_type": "code",
   "execution_count": 587,
   "outputs": [],
   "source": [
    "mass_sorted ,intensity_sorted, index_sorted, rt_list = trx.build_index(ms1)"
   ],
   "metadata": {
    "collapsed": false,
    "pycharm": {
     "name": "#%%\n"
    }
   }
  },
  {
   "cell_type": "code",
   "execution_count": 586,
   "outputs": [],
   "source": [
    "feature_temp.sort_values(by = 'precursor_mz', ascending=True, inplace=True)"
   ],
   "metadata": {
    "collapsed": false,
    "pycharm": {
     "name": "#%%\n"
    }
   }
  },
  {
   "cell_type": "code",
   "execution_count": 589,
   "outputs": [
    {
     "data": {
      "text/plain": "[1729, 1783, 1995]"
     },
     "execution_count": 589,
     "metadata": {},
     "output_type": "execute_result"
    }
   ],
   "source": [
    "literal_eval(feature_temp.iloc[0]['ms1_scan_range'])"
   ],
   "metadata": {
    "collapsed": false,
    "pycharm": {
     "name": "#%%\n"
    }
   }
  },
  {
   "cell_type": "code",
   "execution_count": 593,
   "outputs": [],
   "source": [
    "is_halo_all =[]\n",
    "for index, row in std_list.iterrows():\n",
    "    feature_matched = search_feature(feature_temp, row['m/z'], row['rt'], pmz_sorted=True, rt_error=21)\n",
    "    if len(feature_matched)>0:\n",
    "        feature_matched = feature_matched[feature_matched['ms1_intensity']>0.9*feature_matched['ms1_intensity'].max()]\n",
    "        feature_matched.sort_values(by = 'ms1_intensity', ascending=False, inplace=True)\n",
    "        feature_unique = feature_matched.iloc[0]\n",
    "        temp = is_halo(feature_unique, mass_sorted, intensity_sorted, index_sorted)\n",
    "        is_halo_all.append(temp)\n",
    "    else:\n",
    "        is_halo_all.append(np.NAN)\n"
   ],
   "metadata": {
    "collapsed": false,
    "pycharm": {
     "name": "#%%\n"
    }
   }
  },
  {
   "cell_type": "code",
   "execution_count": 594,
   "outputs": [],
   "source": [
    "std_list_halo = std_list.copy()"
   ],
   "metadata": {
    "collapsed": false,
    "pycharm": {
     "name": "#%%\n"
    }
   }
  },
  {
   "cell_type": "code",
   "execution_count": 595,
   "outputs": [],
   "source": [
    "std_list_halo['is_halo']=is_halo_all"
   ],
   "metadata": {
    "collapsed": false,
    "pycharm": {
     "name": "#%%\n"
    }
   }
  },
  {
   "cell_type": "code",
   "execution_count": 609,
   "outputs": [],
   "source": [
    "def _check_halo(formula):\n",
    "    if 'Cl' in formula or 'Br' in formula or 'S' in formula:\n",
    "        return True\n",
    "    else:\n",
    "        return False"
   ],
   "metadata": {
    "collapsed": false,
    "pycharm": {
     "name": "#%%\n"
    }
   }
  },
  {
   "cell_type": "code",
   "execution_count": 610,
   "outputs": [
    {
     "data": {
      "text/plain": "formula                 C24H26BrN3O3\nm/z                         484.1236\nrt                             11.84\ntargeted_fold_change            1.01\nconc_ratio                       1/1\nis_halo                        False\nis_halo_ref                     True\nName: 835, dtype: object"
     },
     "execution_count": 610,
     "metadata": {},
     "output_type": "execute_result"
    }
   ],
   "source": [
    "row"
   ],
   "metadata": {
    "collapsed": false,
    "pycharm": {
     "name": "#%%\n"
    }
   }
  },
  {
   "cell_type": "code",
   "execution_count": 611,
   "outputs": [],
   "source": [
    "is_halo_ref = []\n",
    "for index, row in std_list_halo.iterrows():\n",
    "    is_halo_ref.append(_check_halo(row['formula']))\n",
    "std_list_halo['is_halo_ref']=is_halo_ref"
   ],
   "metadata": {
    "collapsed": false,
    "pycharm": {
     "name": "#%%\n"
    }
   }
  },
  {
   "cell_type": "code",
   "execution_count": 601,
   "outputs": [],
   "source": [],
   "metadata": {
    "collapsed": false,
    "pycharm": {
     "name": "#%%\n"
    }
   }
  },
  {
   "cell_type": "code",
   "execution_count": 612,
   "outputs": [
    {
     "data": {
      "text/plain": "133"
     },
     "execution_count": 612,
     "metadata": {},
     "output_type": "execute_result"
    }
   ],
   "source": [
    "np.sum(std_list_halo['is_halo']!=std_list_halo['is_halo_ref'])"
   ],
   "metadata": {
    "collapsed": false,
    "pycharm": {
     "name": "#%%\n"
    }
   }
  },
  {
   "cell_type": "code",
   "execution_count": 622,
   "outputs": [],
   "source": [
    "not_halo = string_search(std_list_halo, 'is_halo_ref', False)"
   ],
   "metadata": {
    "collapsed": false,
    "pycharm": {
     "name": "#%%\n"
    }
   }
  },
  {
   "cell_type": "code",
   "execution_count": 624,
   "outputs": [
    {
     "data": {
      "text/plain": "14"
     },
     "execution_count": 624,
     "metadata": {},
     "output_type": "execute_result"
    }
   ],
   "source": [
    "np.sum(not_halo['is_halo']==True)"
   ],
   "metadata": {
    "collapsed": false,
    "pycharm": {
     "name": "#%%\n"
    }
   }
  },
  {
   "cell_type": "markdown",
   "source": [],
   "metadata": {
    "collapsed": false,
    "pycharm": {
     "name": "#%% md\n"
    }
   }
  },
  {
   "cell_type": "code",
   "execution_count": 621,
   "outputs": [
    {
     "data": {
      "text/plain": "113"
     },
     "execution_count": 621,
     "metadata": {},
     "output_type": "execute_result"
    }
   ],
   "source": [
    "np.sum(actual_halo['is_halo']==False)"
   ],
   "metadata": {
    "collapsed": false,
    "pycharm": {
     "name": "#%%\n"
    }
   }
  },
  {
   "cell_type": "code",
   "execution_count": 618,
   "outputs": [
    {
     "data": {
      "text/plain": "328"
     },
     "execution_count": 618,
     "metadata": {},
     "output_type": "execute_result"
    }
   ],
   "source": [
    "len(actual_halo)"
   ],
   "metadata": {
    "collapsed": false,
    "pycharm": {
     "name": "#%%\n"
    }
   }
  },
  {
   "cell_type": "code",
   "execution_count": 619,
   "outputs": [
    {
     "data": {
      "text/plain": "-115"
     },
     "execution_count": 619,
     "metadata": {},
     "output_type": "execute_result"
    }
   ],
   "source": [
    "213-328"
   ],
   "metadata": {
    "collapsed": false,
    "pycharm": {
     "name": "#%%\n"
    }
   }
  },
  {
   "cell_type": "code",
   "execution_count": 620,
   "outputs": [
    {
     "data": {
      "text/plain": "0.649390243902439"
     },
     "execution_count": 620,
     "metadata": {},
     "output_type": "execute_result"
    }
   ],
   "source": [
    "213/328"
   ],
   "metadata": {
    "collapsed": false,
    "pycharm": {
     "name": "#%%\n"
    }
   }
  },
  {
   "cell_type": "code",
   "execution_count": 647,
   "outputs": [
    {
     "data": {
      "text/plain": "(array([[1768, 1823, 1983]]), array([0.00144884]), array([1823.]))"
     },
     "execution_count": 647,
     "metadata": {},
     "output_type": "execute_result"
    }
   ],
   "source": [
    "peak_statistics"
   ],
   "metadata": {
    "collapsed": false,
    "pycharm": {
     "name": "#%%\n"
    }
   }
  },
  {
   "cell_type": "code",
   "execution_count": 627,
   "outputs": [
    {
     "data": {
      "text/plain": "18.85"
     },
     "execution_count": 627,
     "metadata": {},
     "output_type": "execute_result"
    }
   ],
   "source": [
    "row['rt']"
   ],
   "metadata": {
    "collapsed": false,
    "pycharm": {
     "name": "#%%\n"
    }
   }
  },
  {
   "cell_type": "code",
   "execution_count": 632,
   "outputs": [
    {
     "data": {
      "text/plain": "18.800000000000097"
     },
     "execution_count": 632,
     "metadata": {},
     "output_type": "execute_result"
    }
   ],
   "source": [
    "(18.85-18.38)*40"
   ],
   "metadata": {
    "collapsed": false,
    "pycharm": {
     "name": "#%%\n"
    }
   }
  },
  {
   "cell_type": "code",
   "execution_count": 553,
   "outputs": [],
   "source": [
    "intensity_list = trx.flash_eic(282.279762, mass_sorted, intensity_sorted, index_sorted)"
   ],
   "metadata": {
    "collapsed": false,
    "pycharm": {
     "name": "#%%\n"
    }
   }
  },
  {
   "cell_type": "code",
   "execution_count": 524,
   "outputs": [],
   "source": [
    "seed_mass = 179.017223\n",
    "ion_trace = trx.flash_eic(seed_mass, mass_sorted, intensity_sorted, index_sorted)\n",
    "peaks_all, reci_snrs_all, raw_apex_idx_all = trx.detect_all_peaks(ion_trace, n_neighbor=n_neighbor, intensity_threshold=intensity_threshold)\n",
    "idx_start, idx_end = mass_sorted.searchsorted([seed_mass-0.005, seed_mass+0.005])"
   ],
   "metadata": {
    "collapsed": false,
    "pycharm": {
     "name": "#%%\n"
    }
   }
  },
  {
   "cell_type": "code",
   "execution_count": 529,
   "outputs": [
    {
     "data": {
      "text/plain": "[array([ 125,  163, 1099]), array([11312, 11345, 11542])]"
     },
     "execution_count": 529,
     "metadata": {},
     "output_type": "execute_result"
    }
   ],
   "source": [
    "peaks_all"
   ],
   "metadata": {
    "collapsed": false,
    "pycharm": {
     "name": "#%%\n"
    }
   }
  },
  {
   "cell_type": "code",
   "execution_count": 534,
   "outputs": [],
   "source": [
    "mass = [179.017223,179.017173,179.017171]\n",
    "intensity = [9.172616e+08,8.919868e+08,7.916861e+08]"
   ],
   "metadata": {
    "collapsed": false,
    "pycharm": {
     "name": "#%%\n"
    }
   }
  },
  {
   "cell_type": "code",
   "execution_count": 535,
   "outputs": [
    {
     "data": {
      "text/plain": "179.01719002453785"
     },
     "execution_count": 535,
     "metadata": {},
     "output_type": "execute_result"
    }
   ],
   "source": [
    "np.sum(x*y/sum(intensity) for x, y in zip(mass, intensity))"
   ],
   "metadata": {
    "collapsed": false,
    "pycharm": {
     "name": "#%%\n"
    }
   }
  },
  {
   "cell_type": "code",
   "execution_count": 538,
   "outputs": [
    {
     "data": {
      "text/plain": "array([[1.00014394e+02, 2.06673125e+06],\n       [1.00112171e+02, 1.14735912e+06],\n       [1.00984740e+02, 2.56145950e+06],\n       ...,\n       [1.18022518e+03, 2.87077062e+05],\n       [1.28956789e+03, 2.70614875e+05],\n       [1.45885551e+03, 3.00048688e+05]])"
     },
     "execution_count": 538,
     "metadata": {},
     "output_type": "execute_result"
    }
   ],
   "source": [
    "ms1.iloc[159]['peaks']"
   ],
   "metadata": {
    "collapsed": false,
    "pycharm": {
     "name": "#%%\n"
    }
   }
  },
  {
   "cell_type": "markdown",
   "source": [],
   "metadata": {
    "collapsed": false,
    "pycharm": {
     "name": "#%% md\n"
    }
   }
  },
  {
   "cell_type": "code",
   "execution_count": 522,
   "outputs": [
    {
     "data": {
      "text/plain": "[array([ 125,  163, 1099]), array([11312, 11345, 11542])]"
     },
     "execution_count": 522,
     "metadata": {},
     "output_type": "execute_result"
    }
   ],
   "source": [
    "peaks_all"
   ],
   "metadata": {
    "collapsed": false,
    "pycharm": {
     "name": "#%%\n"
    }
   }
  },
  {
   "cell_type": "code",
   "execution_count": 505,
   "outputs": [],
   "source": [
    "mass_range = mass_sorted[idx_start:idx_end]\n",
    "index_range = index_sorted[idx_start:idx_end]"
   ],
   "metadata": {
    "collapsed": false,
    "pycharm": {
     "name": "#%%\n"
    }
   }
  },
  {
   "cell_type": "code",
   "execution_count": 507,
   "outputs": [],
   "source": [
    "intensity_range = intensity_sorted[idx_start:idx_end]"
   ],
   "metadata": {
    "collapsed": false,
    "pycharm": {
     "name": "#%%\n"
    }
   }
  },
  {
   "cell_type": "code",
   "execution_count": 515,
   "outputs": [],
   "source": [
    "target_mass = 179.017223"
   ],
   "metadata": {
    "collapsed": false,
    "pycharm": {
     "name": "#%%\n"
    }
   }
  },
  {
   "cell_type": "code",
   "execution_count": 517,
   "outputs": [],
   "source": [
    "pmz_candidates = np.zeros(2*guess_step+1)\n",
    "intensity_candidates = np.zeros(2*guess_step+1)\n",
    "pmz_idx = 0"
   ],
   "metadata": {
    "collapsed": false,
    "pycharm": {
     "name": "#%%\n"
    }
   }
  },
  {
   "cell_type": "code",
   "execution_count": 518,
   "outputs": [],
   "source": [
    "peak_apex=int(a)\n",
    "guess_step = 1"
   ],
   "metadata": {
    "collapsed": false,
    "pycharm": {
     "name": "#%%\n"
    }
   }
  },
  {
   "cell_type": "code",
   "execution_count": 521,
   "outputs": [
    {
     "data": {
      "text/plain": "35"
     },
     "execution_count": 521,
     "metadata": {},
     "output_type": "execute_result"
    }
   ],
   "source": [
    "peak_apex"
   ],
   "metadata": {
    "collapsed": false,
    "pycharm": {
     "name": "#%%\n"
    }
   }
  },
  {
   "cell_type": "code",
   "execution_count": 519,
   "outputs": [],
   "source": [
    "for i in range(peak_apex-guess_step, peak_apex+guess_step+1):\n",
    "    if len(intensity_range[index_range==i])>0:\n",
    "        difference_array = np.absolute(mass_range[index_range==i]-target_mass)\n",
    "\n",
    "        mass_anchor = difference_array.argmin()\n",
    "        pmz_candidates[pmz_idx]=mass_range[index_range==i][mass_anchor]\n",
    "        intensity_candidates[pmz_idx]=intensity_range[index_range==i][mass_anchor]\n",
    "\n",
    "    if i == peak_apex:\n",
    "        apex_intensity = intensity_candidates[pmz_idx]\n",
    "    pmz_idx = pmz_idx+1"
   ],
   "metadata": {
    "collapsed": false,
    "pycharm": {
     "name": "#%%\n"
    }
   }
  },
  {
   "cell_type": "code",
   "execution_count": 520,
   "outputs": [
    {
     "data": {
      "text/plain": "array([0., 0., 0.])"
     },
     "execution_count": 520,
     "metadata": {},
     "output_type": "execute_result"
    }
   ],
   "source": [
    "pmz_candidates"
   ],
   "metadata": {
    "collapsed": false,
    "pycharm": {
     "name": "#%%\n"
    }
   }
  },
  {
   "cell_type": "code",
   "execution_count": 503,
   "outputs": [],
   "source": [
    "pmz_statistics = trx.guess_pmz(seed_mass, mass_sorted,\n",
    "                                           intensity_sorted, index_sorted, idx_start, idx_end, int(a))"
   ],
   "metadata": {
    "collapsed": false,
    "pycharm": {
     "name": "#%%\n"
    }
   }
  },
  {
   "cell_type": "code",
   "execution_count": 504,
   "outputs": [
    {
     "data": {
      "text/plain": "(nan, 0.0)"
     },
     "execution_count": 504,
     "metadata": {},
     "output_type": "execute_result"
    }
   ],
   "source": [
    "pmz_statistics"
   ],
   "metadata": {
    "collapsed": false,
    "pycharm": {
     "name": "#%%\n"
    }
   }
  },
  {
   "cell_type": "code",
   "execution_count": null,
   "outputs": [],
   "source": [],
   "metadata": {
    "collapsed": false,
    "pycharm": {
     "name": "#%%\n"
    }
   }
  },
  {
   "cell_type": "code",
   "execution_count": 474,
   "outputs": [],
   "source": [
    "intensity_sorted_indexing = intensity_sorted.copy()\n",
    "while np.max(intensity_sorted_indexing)>30000:\n",
    "    seed_idx = np.argmax(intensity_sorted_indexing)\n",
    "    seed_mass = mass_sorted[seed_idx]\n",
    "    ion_trace = trx.flash_eic(seed_mass, mass_sorted, intensity_sorted, index_sorted)\n",
    "    peaks_all, reci_snrs_all, raw_apex_idx_all = trx.detect_all_peaks(ion_trace, n_neighbor=10)\n",
    "    idx_start, idx_end = mass_sorted.searchsorted([seed_mass-0.005, seed_mass+0.005])\n",
    "    intensity_sorted_indexing[idx_start:idx_end]=0\n",
    "    if len(peaks_all)>0:\n",
    "        for p, r, a in zip(peaks_all, reci_snrs_all, raw_apex_idx_all):\n",
    "            pmz_statistics = trx.guess_pmz(seed_mass, mass_sorted, intensity_sorted, index_sorted, idx_start, idx_end, int(a))\n",
    "\n",
    "        # break"
   ],
   "metadata": {
    "collapsed": false,
    "pycharm": {
     "name": "#%%\n"
    }
   }
  },
  {
   "cell_type": "markdown",
   "source": [],
   "metadata": {
    "collapsed": false,
    "pycharm": {
     "name": "#%% md\n"
    }
   }
  },
  {
   "cell_type": "markdown",
   "source": [],
   "metadata": {
    "collapsed": false,
    "pycharm": {
     "name": "#%% md\n"
    }
   }
  },
  {
   "cell_type": "code",
   "execution_count": 408,
   "outputs": [],
   "source": [
    "\n",
    "\n"
   ],
   "metadata": {
    "collapsed": false,
    "pycharm": {
     "name": "#%%\n"
    }
   }
  },
  {
   "cell_type": "markdown",
   "source": [],
   "metadata": {
    "collapsed": false,
    "pycharm": {
     "name": "#%% md\n"
    }
   }
  },
  {
   "cell_type": "code",
   "execution_count": 201,
   "outputs": [
    {
     "name": "stdout",
     "output_type": "stream",
     "text": [
      "9.912006016572317\n"
     ]
    }
   ],
   "source": [
    "start = time.time()\n",
    "feature_temp = trx.get_features(mass_sorted, intensity_sorted, index_sorted, rt_list, base_name=ms1.iloc[0]['base_name'], n_neighbor=10)\n",
    "end = time.time()\n",
    "print((end-start)/60)"
   ],
   "metadata": {
    "collapsed": false,
    "pycharm": {
     "name": "#%%\n"
    }
   }
  },
  {
   "cell_type": "code",
   "execution_count": 243,
   "outputs": [],
   "source": [
    "intensity_sorted_indexing = intensity_sorted.copy()"
   ],
   "metadata": {
    "collapsed": false,
    "pycharm": {
     "name": "#%%\n"
    }
   }
  },
  {
   "cell_type": "code",
   "execution_count": 247,
   "outputs": [],
   "source": [
    "seed_idx = np.argmax(intensity_sorted_indexing)"
   ],
   "metadata": {
    "collapsed": false,
    "pycharm": {
     "name": "#%%\n"
    }
   }
  },
  {
   "cell_type": "code",
   "execution_count": 248,
   "outputs": [],
   "source": [
    "seed_mass = mass_sorted[seed_idx]"
   ],
   "metadata": {
    "collapsed": false,
    "pycharm": {
     "name": "#%%\n"
    }
   }
  },
  {
   "cell_type": "code",
   "execution_count": 286,
   "outputs": [],
   "source": [
    "idx_start, idx_end = mass_sorted.searchsorted([seed_mass-0.005,seed_mass+0.005 ])\n",
    "mass_offset = np.array([abs(x-seed_mass) for x in mass_sorted[idx_start:idx_end]])\n",
    "mass_tol = np.mean(mass_offset)+3*np.std(mass_offset)\n",
    "intensity_list = trx.flash_eic(seed_mass, mass_sorted, intensity_sorted, index_sorted,\n",
    "                           mass_error=mass_tol)"
   ],
   "metadata": {
    "collapsed": false,
    "pycharm": {
     "name": "#%%\n"
    }
   }
  },
  {
   "cell_type": "code",
   "execution_count": 287,
   "outputs": [],
   "source": [
    "peaks_all, reci_snrs, apex_intensity_smoothed_all= trx.detect_all_peaks(intensity_list,\n",
    "                                                                    n_neighbor=n_neighbor,\n",
    "                                                                    intensity_threshold=intensity_threshold)"
   ],
   "metadata": {
    "collapsed": false,
    "pycharm": {
     "name": "#%%\n"
    }
   }
  },
  {
   "cell_type": "code",
   "execution_count": 583,
   "outputs": [],
   "source": [
    "feature_temp = pd.read_csv(os.path.join(pl_dir, 'SA2.csv'))"
   ],
   "metadata": {
    "collapsed": false,
    "pycharm": {
     "name": "#%%\n"
    }
   }
  },
  {
   "cell_type": "code",
   "execution_count": null,
   "outputs": [],
   "source": [
    "for index, row in std_list.iterrows():\n"
   ],
   "metadata": {
    "collapsed": false,
    "pycharm": {
     "name": "#%%\n"
    }
   }
  },
  {
   "cell_type": "code",
   "execution_count": 290,
   "outputs": [],
   "source": [
    "for p in peaks_all:\n",
    "    apex_range_left = p[0]\n",
    "    apex_range_right = p[2]\n",
    "    apex_offset = np.argmax(intensity_list[apex_range_left:apex_range_right+1])\n",
    "    apex_index = apex_range_left+apex_offset\n",
    "\n",
    "    break\n"
   ],
   "metadata": {
    "collapsed": false,
    "pycharm": {
     "name": "#%%\n"
    }
   }
  },
  {
   "cell_type": "code",
   "execution_count": 308,
   "outputs": [],
   "source": [
    "def guess_pmz(mass_sorted, intensity_sorted, index_sorted, idx_start, idx_end, peak_apex, guess_step = 1):\n",
    "    # idx_start, idx_end = mass_sorted.searchsorted([seed_mass-mass_tolerance,seed_mass+mass_tolerance ])\n",
    "    mass_range = mass_sorted[idx_start:idx_end]\n",
    "    index_range = index_sorted[idx_start:idx_end]\n",
    "    intensity_range = intensity_sorted[idx_start:idx_end]\n",
    "    pmz_candidates = np.zeros(2*guess_step+1)\n",
    "    intensity_candidates = np.zeros(2*guess_step+1)\n",
    "    pmz_idx = 0\n",
    "\n",
    "    for i in range(peak_apex-guess_step, apex_index+guess_step+1):\n",
    "        intensity_anchor = np.argmax(intensity_range[index_range==i])\n",
    "        pmz_candidates[pmz_idx]=mass_range[index_range==i][intensity_anchor]\n",
    "        intensity_candidates[pmz_idx]=intensity_range[index_range==i][intensity_anchor]\n",
    "        if i == peak_apex:\n",
    "            apex_intensity = intensity_candidates[pmz_idx]\n",
    "        pmz_idx = pmz_idx+1\n",
    "    weighted_pmz = np.sum([x*y/np.sum(intensity_candidates) for x, y in zip(pmz_candidates, intensity_candidates)])\n",
    "    return (weighted_pmz, apex_intensity)"
   ],
   "metadata": {
    "collapsed": false,
    "pycharm": {
     "name": "#%%\n"
    }
   }
  },
  {
   "cell_type": "code",
   "execution_count": 310,
   "outputs": [],
   "source": [
    "intensity_list = trx.flash_eic(seed_mass, mass_sorted, intensity_sorted, index_sorted,\n",
    "                           mass_error=0.005)"
   ],
   "metadata": {
    "collapsed": false,
    "pycharm": {
     "name": "#%%\n"
    }
   }
  },
  {
   "cell_type": "code",
   "execution_count": 314,
   "outputs": [],
   "source": [
    "peak, reci_snr, apex_intensity_smoothed=trx.detect_one_peak(intensity_list, target_idx=np.argmax(intensity_list))"
   ],
   "metadata": {
    "collapsed": false,
    "pycharm": {
     "name": "#%%\n"
    }
   }
  },
  {
   "cell_type": "code",
   "execution_count": 315,
   "outputs": [],
   "source": [
    "idx_start, idx_end = mass_sorted.searchsorted([seed_mass-0.005, seed_mass+0.005])"
   ],
   "metadata": {
    "collapsed": false,
    "pycharm": {
     "name": "#%%\n"
    }
   }
  },
  {
   "cell_type": "code",
   "execution_count": 353,
   "outputs": [
    {
     "name": "stdout",
     "output_type": "stream",
     "text": [
      "updated!\n"
     ]
    },
    {
     "ename": "ValueError",
     "evalue": "attempt to get argmax of an empty sequence",
     "output_type": "error",
     "traceback": [
      "\u001B[0;31m---------------------------------------------------------------------------\u001B[0m",
      "\u001B[0;31mUnboundLocalError\u001B[0m                         Traceback (most recent call last)",
      "File \u001B[0;32m~/Documents/GitHub/lead_finder/toolsets/T_rex.py:216\u001B[0m, in \u001B[0;36mget_features_alt\u001B[0;34m(mass_sorted, intensity_sorted, index_sorted, rt_list, base_name, intensity_threshold, n_neighbor)\u001B[0m\n\u001B[1;32m    215\u001B[0m \u001B[38;5;28;01mtry\u001B[39;00m:\n\u001B[0;32m--> 216\u001B[0m     pmz_statistics \u001B[38;5;241m=\u001B[39m \u001B[43mguess_pmz\u001B[49m\u001B[43m(\u001B[49m\u001B[43mmass_sorted\u001B[49m\u001B[43m,\u001B[49m\u001B[43m \u001B[49m\u001B[43mintensity_sorted\u001B[49m\u001B[43m,\u001B[49m\u001B[43m \u001B[49m\u001B[43mindex_sorted\u001B[49m\u001B[43m,\u001B[49m\n\u001B[1;32m    217\u001B[0m \u001B[43m                               \u001B[49m\u001B[43midx_start\u001B[49m\u001B[43m,\u001B[49m\u001B[43m \u001B[49m\u001B[43midx_end\u001B[49m\u001B[43m,\u001B[49m\u001B[43m \u001B[49m\u001B[43mapex_index\u001B[49m\u001B[43m)\u001B[49m\n\u001B[1;32m    218\u001B[0m     pmz[idx]\u001B[38;5;241m=\u001B[39mpmz_statistics[\u001B[38;5;241m0\u001B[39m]\n",
      "File \u001B[0;32m~/Documents/GitHub/lead_finder/toolsets/T_rex.py:176\u001B[0m, in \u001B[0;36mguess_pmz\u001B[0;34m(mass_sorted, intensity_sorted, index_sorted, idx_start, idx_end, peak_apex, guess_step)\u001B[0m\n\u001B[1;32m    175\u001B[0m     \u001B[38;5;28;01mif\u001B[39;00m i \u001B[38;5;241m==\u001B[39m peak_apex:\n\u001B[0;32m--> 176\u001B[0m         apex_intensity \u001B[38;5;241m=\u001B[39m intensity_candidates[\u001B[43mpmz_idx\u001B[49m]\n\u001B[1;32m    177\u001B[0m pmz_candidates\u001B[38;5;241m=\u001B[39mpmz_candidates[\u001B[38;5;241m0\u001B[39m:pmz_idx]\n",
      "\u001B[0;31mUnboundLocalError\u001B[0m: local variable 'pmz_idx' referenced before assignment",
      "\nDuring handling of the above exception, another exception occurred:\n",
      "\u001B[0;31mValueError\u001B[0m                                Traceback (most recent call last)",
      "Input \u001B[0;32mIn [353]\u001B[0m, in \u001B[0;36m<cell line: 2>\u001B[0;34m()\u001B[0m\n\u001B[1;32m      1\u001B[0m start \u001B[38;5;241m=\u001B[39m time\u001B[38;5;241m.\u001B[39mtime()\n\u001B[0;32m----> 2\u001B[0m tt \u001B[38;5;241m=\u001B[39m \u001B[43mtrx\u001B[49m\u001B[38;5;241;43m.\u001B[39;49m\u001B[43mget_features_alt\u001B[49m\u001B[43m(\u001B[49m\u001B[43mmass_sorted\u001B[49m\u001B[43m,\u001B[49m\u001B[43m \u001B[49m\u001B[43mintensity_sorted\u001B[49m\u001B[43m,\u001B[49m\u001B[43m \u001B[49m\u001B[43mindex_sorted\u001B[49m\u001B[43m,\u001B[49m\u001B[43m \u001B[49m\u001B[43mrt_list\u001B[49m\u001B[43m,\u001B[49m\u001B[43m \u001B[49m\u001B[43mn_neighbor\u001B[49m\u001B[38;5;241;43m=\u001B[39;49m\u001B[38;5;241;43m10\u001B[39;49m\u001B[43m)\u001B[49m\n\u001B[1;32m      3\u001B[0m end \u001B[38;5;241m=\u001B[39m time\u001B[38;5;241m.\u001B[39mtime()\n\u001B[1;32m      4\u001B[0m \u001B[38;5;28mprint\u001B[39m(end\u001B[38;5;241m-\u001B[39mstart)\n",
      "File \u001B[0;32m~/Documents/GitHub/lead_finder/toolsets/T_rex.py:225\u001B[0m, in \u001B[0;36mget_features_alt\u001B[0;34m(mass_sorted, intensity_sorted, index_sorted, rt_list, base_name, intensity_threshold, n_neighbor)\u001B[0m\n\u001B[1;32m    223\u001B[0m intensity_range \u001B[38;5;241m=\u001B[39m intensity_sorted[idx_start:idx_end]\n\u001B[1;32m    224\u001B[0m index_range \u001B[38;5;241m=\u001B[39m index_sorted[idx_start:idx_end]\n\u001B[0;32m--> 225\u001B[0m intensity_anchor \u001B[38;5;241m=\u001B[39m \u001B[43mnp\u001B[49m\u001B[38;5;241;43m.\u001B[39;49m\u001B[43margmax\u001B[49m\u001B[43m(\u001B[49m\u001B[43mintensity_range\u001B[49m\u001B[43m[\u001B[49m\u001B[43mindex_range\u001B[49m\u001B[38;5;241;43m==\u001B[39;49m\u001B[43mapex_index\u001B[49m\u001B[43m]\u001B[49m\u001B[43m)\u001B[49m\n\u001B[1;32m    226\u001B[0m pmz[idx]\u001B[38;5;241m=\u001B[39mmass_range[index_range\u001B[38;5;241m==\u001B[39mapex_index][intensity_anchor]\n\u001B[1;32m    227\u001B[0m rt[idx]\u001B[38;5;241m=\u001B[39mrt_list[apex_index]\n",
      "File \u001B[0;32m<__array_function__ internals>:200\u001B[0m, in \u001B[0;36margmax\u001B[0;34m(*args, **kwargs)\u001B[0m\n",
      "File \u001B[0;32m/opt/homebrew/Caskroom/miniforge/base/envs/alphapept_env/lib/python3.8/site-packages/numpy/core/fromnumeric.py:1242\u001B[0m, in \u001B[0;36margmax\u001B[0;34m(a, axis, out, keepdims)\u001B[0m\n\u001B[1;32m   1155\u001B[0m \u001B[38;5;124;03m\"\"\"\u001B[39;00m\n\u001B[1;32m   1156\u001B[0m \u001B[38;5;124;03mReturns the indices of the maximum values along an axis.\u001B[39;00m\n\u001B[1;32m   1157\u001B[0m \n\u001B[0;32m   (...)\u001B[0m\n\u001B[1;32m   1239\u001B[0m \u001B[38;5;124;03m(2, 1, 4)\u001B[39;00m\n\u001B[1;32m   1240\u001B[0m \u001B[38;5;124;03m\"\"\"\u001B[39;00m\n\u001B[1;32m   1241\u001B[0m kwds \u001B[38;5;241m=\u001B[39m {\u001B[38;5;124m'\u001B[39m\u001B[38;5;124mkeepdims\u001B[39m\u001B[38;5;124m'\u001B[39m: keepdims} \u001B[38;5;28;01mif\u001B[39;00m keepdims \u001B[38;5;129;01mis\u001B[39;00m \u001B[38;5;129;01mnot\u001B[39;00m np\u001B[38;5;241m.\u001B[39m_NoValue \u001B[38;5;28;01melse\u001B[39;00m {}\n\u001B[0;32m-> 1242\u001B[0m \u001B[38;5;28;01mreturn\u001B[39;00m \u001B[43m_wrapfunc\u001B[49m\u001B[43m(\u001B[49m\u001B[43ma\u001B[49m\u001B[43m,\u001B[49m\u001B[43m \u001B[49m\u001B[38;5;124;43m'\u001B[39;49m\u001B[38;5;124;43margmax\u001B[39;49m\u001B[38;5;124;43m'\u001B[39;49m\u001B[43m,\u001B[49m\u001B[43m \u001B[49m\u001B[43maxis\u001B[49m\u001B[38;5;241;43m=\u001B[39;49m\u001B[43maxis\u001B[49m\u001B[43m,\u001B[49m\u001B[43m \u001B[49m\u001B[43mout\u001B[49m\u001B[38;5;241;43m=\u001B[39;49m\u001B[43mout\u001B[49m\u001B[43m,\u001B[49m\u001B[43m \u001B[49m\u001B[38;5;241;43m*\u001B[39;49m\u001B[38;5;241;43m*\u001B[39;49m\u001B[43mkwds\u001B[49m\u001B[43m)\u001B[49m\n",
      "File \u001B[0;32m/opt/homebrew/Caskroom/miniforge/base/envs/alphapept_env/lib/python3.8/site-packages/numpy/core/fromnumeric.py:57\u001B[0m, in \u001B[0;36m_wrapfunc\u001B[0;34m(obj, method, *args, **kwds)\u001B[0m\n\u001B[1;32m     54\u001B[0m     \u001B[38;5;28;01mreturn\u001B[39;00m _wrapit(obj, method, \u001B[38;5;241m*\u001B[39margs, \u001B[38;5;241m*\u001B[39m\u001B[38;5;241m*\u001B[39mkwds)\n\u001B[1;32m     56\u001B[0m \u001B[38;5;28;01mtry\u001B[39;00m:\n\u001B[0;32m---> 57\u001B[0m     \u001B[38;5;28;01mreturn\u001B[39;00m \u001B[43mbound\u001B[49m\u001B[43m(\u001B[49m\u001B[38;5;241;43m*\u001B[39;49m\u001B[43margs\u001B[49m\u001B[43m,\u001B[49m\u001B[43m \u001B[49m\u001B[38;5;241;43m*\u001B[39;49m\u001B[38;5;241;43m*\u001B[39;49m\u001B[43mkwds\u001B[49m\u001B[43m)\u001B[49m\n\u001B[1;32m     58\u001B[0m \u001B[38;5;28;01mexcept\u001B[39;00m \u001B[38;5;167;01mTypeError\u001B[39;00m:\n\u001B[1;32m     59\u001B[0m     \u001B[38;5;66;03m# A TypeError occurs if the object does have such a method in its\u001B[39;00m\n\u001B[1;32m     60\u001B[0m     \u001B[38;5;66;03m# class, but its signature is not identical to that of NumPy's. This\u001B[39;00m\n\u001B[0;32m   (...)\u001B[0m\n\u001B[1;32m     64\u001B[0m     \u001B[38;5;66;03m# Call _wrapit from within the except clause to ensure a potential\u001B[39;00m\n\u001B[1;32m     65\u001B[0m     \u001B[38;5;66;03m# exception has a traceback chain.\u001B[39;00m\n\u001B[1;32m     66\u001B[0m     \u001B[38;5;28;01mreturn\u001B[39;00m _wrapit(obj, method, \u001B[38;5;241m*\u001B[39margs, \u001B[38;5;241m*\u001B[39m\u001B[38;5;241m*\u001B[39mkwds)\n",
      "\u001B[0;31mValueError\u001B[0m: attempt to get argmax of an empty sequence"
     ]
    }
   ],
   "source": [
    "start = time.time()\n",
    "tt = trx.get_features_alt(mass_sorted, intensity_sorted, index_sorted, rt_list, n_neighbor=10)\n",
    "end = time.time()\n",
    "print(end-start)"
   ],
   "metadata": {
    "collapsed": false,
    "pycharm": {
     "name": "#%%\n"
    }
   }
  },
  {
   "cell_type": "code",
   "execution_count": 366,
   "outputs": [],
   "source": [
    "ms1, ms2 = rds.read_mzml('SA2', mzml_dir)\n",
    "\n",
    "mass_sorted, intensity_sorted, index_sorted, rt_list = trx.build_index(ms1)"
   ],
   "metadata": {
    "collapsed": false,
    "pycharm": {
     "name": "#%%\n"
    }
   }
  },
  {
   "cell_type": "code",
   "execution_count": 373,
   "outputs": [
    {
     "data": {
      "text/plain": "          formula       m/z     rt  targeted_fold_change conc_ratio  \\\n0      C21H26N2S2  371.1617  18.85                  0.47        1/2   \n1       C25H31NO6  442.2233  17.66                 21.23       16/1   \n2     C14H17N3O2S  292.1118   3.01                  1.91        2/1   \n3      C27H31N7OS  502.2395  22.78                  1.06        1/1   \n4       C20H23NO4  342.1706   3.37                  1.07        1/1   \n..            ...       ...    ...                   ...        ...   \n831    C24H29N3O2  392.2339   7.05                  1.00        1/1   \n832     C19H19NOS  310.1254   7.73                  1.06        1/1   \n833     C15H15NO2  242.1175  25.26                  0.99        1/1   \n834     C15H15NO2  242.1179  26.45                  1.05        1/1   \n835  C24H26BrN3O3  484.1236  11.84                  1.01        1/1   \n\n     if_halo_ref  fill_% mono_concensus halo_concensus  \n0           True     1.0          False           True  \n1          False     1.0           True          False  \n2           True     1.0           True           True  \n3           True     1.0           True           True  \n4          False     1.0           True          False  \n..           ...     ...            ...            ...  \n831        False     1.0           True          False  \n832         True     1.0           True           True  \n833        False     1.0           True          False  \n834        False     1.0           True          False  \n835         True     1.0           True           True  \n\n[836 rows x 9 columns]",
      "text/html": "<div>\n<style scoped>\n    .dataframe tbody tr th:only-of-type {\n        vertical-align: middle;\n    }\n\n    .dataframe tbody tr th {\n        vertical-align: top;\n    }\n\n    .dataframe thead th {\n        text-align: right;\n    }\n</style>\n<table border=\"1\" class=\"dataframe\">\n  <thead>\n    <tr style=\"text-align: right;\">\n      <th></th>\n      <th>formula</th>\n      <th>m/z</th>\n      <th>rt</th>\n      <th>targeted_fold_change</th>\n      <th>conc_ratio</th>\n      <th>if_halo_ref</th>\n      <th>fill_%</th>\n      <th>mono_concensus</th>\n      <th>halo_concensus</th>\n    </tr>\n  </thead>\n  <tbody>\n    <tr>\n      <th>0</th>\n      <td>C21H26N2S2</td>\n      <td>371.1617</td>\n      <td>18.85</td>\n      <td>0.47</td>\n      <td>1/2</td>\n      <td>True</td>\n      <td>1.0</td>\n      <td>False</td>\n      <td>True</td>\n    </tr>\n    <tr>\n      <th>1</th>\n      <td>C25H31NO6</td>\n      <td>442.2233</td>\n      <td>17.66</td>\n      <td>21.23</td>\n      <td>16/1</td>\n      <td>False</td>\n      <td>1.0</td>\n      <td>True</td>\n      <td>False</td>\n    </tr>\n    <tr>\n      <th>2</th>\n      <td>C14H17N3O2S</td>\n      <td>292.1118</td>\n      <td>3.01</td>\n      <td>1.91</td>\n      <td>2/1</td>\n      <td>True</td>\n      <td>1.0</td>\n      <td>True</td>\n      <td>True</td>\n    </tr>\n    <tr>\n      <th>3</th>\n      <td>C27H31N7OS</td>\n      <td>502.2395</td>\n      <td>22.78</td>\n      <td>1.06</td>\n      <td>1/1</td>\n      <td>True</td>\n      <td>1.0</td>\n      <td>True</td>\n      <td>True</td>\n    </tr>\n    <tr>\n      <th>4</th>\n      <td>C20H23NO4</td>\n      <td>342.1706</td>\n      <td>3.37</td>\n      <td>1.07</td>\n      <td>1/1</td>\n      <td>False</td>\n      <td>1.0</td>\n      <td>True</td>\n      <td>False</td>\n    </tr>\n    <tr>\n      <th>...</th>\n      <td>...</td>\n      <td>...</td>\n      <td>...</td>\n      <td>...</td>\n      <td>...</td>\n      <td>...</td>\n      <td>...</td>\n      <td>...</td>\n      <td>...</td>\n    </tr>\n    <tr>\n      <th>831</th>\n      <td>C24H29N3O2</td>\n      <td>392.2339</td>\n      <td>7.05</td>\n      <td>1.00</td>\n      <td>1/1</td>\n      <td>False</td>\n      <td>1.0</td>\n      <td>True</td>\n      <td>False</td>\n    </tr>\n    <tr>\n      <th>832</th>\n      <td>C19H19NOS</td>\n      <td>310.1254</td>\n      <td>7.73</td>\n      <td>1.06</td>\n      <td>1/1</td>\n      <td>True</td>\n      <td>1.0</td>\n      <td>True</td>\n      <td>True</td>\n    </tr>\n    <tr>\n      <th>833</th>\n      <td>C15H15NO2</td>\n      <td>242.1175</td>\n      <td>25.26</td>\n      <td>0.99</td>\n      <td>1/1</td>\n      <td>False</td>\n      <td>1.0</td>\n      <td>True</td>\n      <td>False</td>\n    </tr>\n    <tr>\n      <th>834</th>\n      <td>C15H15NO2</td>\n      <td>242.1179</td>\n      <td>26.45</td>\n      <td>1.05</td>\n      <td>1/1</td>\n      <td>False</td>\n      <td>1.0</td>\n      <td>True</td>\n      <td>False</td>\n    </tr>\n    <tr>\n      <th>835</th>\n      <td>C24H26BrN3O3</td>\n      <td>484.1236</td>\n      <td>11.84</td>\n      <td>1.01</td>\n      <td>1/1</td>\n      <td>True</td>\n      <td>1.0</td>\n      <td>True</td>\n      <td>True</td>\n    </tr>\n  </tbody>\n</table>\n<p>836 rows × 9 columns</p>\n</div>"
     },
     "execution_count": 373,
     "metadata": {},
     "output_type": "execute_result"
    }
   ],
   "source": [
    "std_list"
   ],
   "metadata": {
    "collapsed": false,
    "pycharm": {
     "name": "#%%\n"
    }
   }
  },
  {
   "cell_type": "code",
   "execution_count": 384,
   "outputs": [],
   "source": [
    "intensity_list = trx.flash_eic(371.1617, mass_sorted, intensity_sorted, index_sorted)\n",
    "intensity_list_iso = trx.flash_eic(371.1617+iso_steps['C'], mass_sorted, intensity_sorted, index_sorted)"
   ],
   "metadata": {
    "collapsed": false,
    "pycharm": {
     "name": "#%%\n"
    }
   }
  },
  {
   "cell_type": "code",
   "execution_count": 505,
   "outputs": [
    {
     "data": {
      "text/plain": "       precursor_mz    rt_apex   rt_start     rt_end  ms1_intensity  n_scnas  \\\n60998    308.139018   9.052951   8.860711   9.569991   2.441717e+06    229.0   \n4268     308.139018   9.052951   8.847872   9.876327   2.441717e+06    330.0   \n4269     308.142644   6.525360   6.397856   6.668678   4.708388e+05     89.0   \n4270     308.143114  32.302508  32.232369  32.370866   3.080928e+05     45.0   \n4267     308.143381   3.945772   3.745693   4.245885   1.784438e+07    169.0   \n4271     308.144749  16.476257  16.275860  16.626856   4.184586e+05    107.0   \n4272     308.146172  27.765353  27.659491  27.836593   5.769176e+04     55.0   \n\n       ms1_scan_range  ion_trace_center      reci_snr base_name  mz_offset  \n60998    [2933, 3163]        308.134647  6.197925e-08  SB1.mzML   0.004371  \n4268     [2929, 3260]        308.143407  5.862833e-16  SB1.mzML   0.004389  \n4269     [2135, 2225]        308.143407  0.000000e+00  SB1.mzML   0.000764  \n4270   [10098, 10144]        308.143407  0.000000e+00  SB1.mzML   0.000294  \n4267     [1246, 1416]        308.143407  0.000000e+00  SB1.mzML   0.000026  \n4271     [5253, 5361]        308.143407  0.000000e+00  SB1.mzML   0.001342  \n4272     [8679, 8735]        308.143407  0.000000e+00  SB1.mzML   0.002764  ",
      "text/html": "<div>\n<style scoped>\n    .dataframe tbody tr th:only-of-type {\n        vertical-align: middle;\n    }\n\n    .dataframe tbody tr th {\n        vertical-align: top;\n    }\n\n    .dataframe thead th {\n        text-align: right;\n    }\n</style>\n<table border=\"1\" class=\"dataframe\">\n  <thead>\n    <tr style=\"text-align: right;\">\n      <th></th>\n      <th>precursor_mz</th>\n      <th>rt_apex</th>\n      <th>rt_start</th>\n      <th>rt_end</th>\n      <th>ms1_intensity</th>\n      <th>n_scnas</th>\n      <th>ms1_scan_range</th>\n      <th>ion_trace_center</th>\n      <th>reci_snr</th>\n      <th>base_name</th>\n      <th>mz_offset</th>\n    </tr>\n  </thead>\n  <tbody>\n    <tr>\n      <th>60998</th>\n      <td>308.139018</td>\n      <td>9.052951</td>\n      <td>8.860711</td>\n      <td>9.569991</td>\n      <td>2.441717e+06</td>\n      <td>229.0</td>\n      <td>[2933, 3163]</td>\n      <td>308.134647</td>\n      <td>6.197925e-08</td>\n      <td>SB1.mzML</td>\n      <td>0.004371</td>\n    </tr>\n    <tr>\n      <th>4268</th>\n      <td>308.139018</td>\n      <td>9.052951</td>\n      <td>8.847872</td>\n      <td>9.876327</td>\n      <td>2.441717e+06</td>\n      <td>330.0</td>\n      <td>[2929, 3260]</td>\n      <td>308.143407</td>\n      <td>5.862833e-16</td>\n      <td>SB1.mzML</td>\n      <td>0.004389</td>\n    </tr>\n    <tr>\n      <th>4269</th>\n      <td>308.142644</td>\n      <td>6.525360</td>\n      <td>6.397856</td>\n      <td>6.668678</td>\n      <td>4.708388e+05</td>\n      <td>89.0</td>\n      <td>[2135, 2225]</td>\n      <td>308.143407</td>\n      <td>0.000000e+00</td>\n      <td>SB1.mzML</td>\n      <td>0.000764</td>\n    </tr>\n    <tr>\n      <th>4270</th>\n      <td>308.143114</td>\n      <td>32.302508</td>\n      <td>32.232369</td>\n      <td>32.370866</td>\n      <td>3.080928e+05</td>\n      <td>45.0</td>\n      <td>[10098, 10144]</td>\n      <td>308.143407</td>\n      <td>0.000000e+00</td>\n      <td>SB1.mzML</td>\n      <td>0.000294</td>\n    </tr>\n    <tr>\n      <th>4267</th>\n      <td>308.143381</td>\n      <td>3.945772</td>\n      <td>3.745693</td>\n      <td>4.245885</td>\n      <td>1.784438e+07</td>\n      <td>169.0</td>\n      <td>[1246, 1416]</td>\n      <td>308.143407</td>\n      <td>0.000000e+00</td>\n      <td>SB1.mzML</td>\n      <td>0.000026</td>\n    </tr>\n    <tr>\n      <th>4271</th>\n      <td>308.144749</td>\n      <td>16.476257</td>\n      <td>16.275860</td>\n      <td>16.626856</td>\n      <td>4.184586e+05</td>\n      <td>107.0</td>\n      <td>[5253, 5361]</td>\n      <td>308.143407</td>\n      <td>0.000000e+00</td>\n      <td>SB1.mzML</td>\n      <td>0.001342</td>\n    </tr>\n    <tr>\n      <th>4272</th>\n      <td>308.146172</td>\n      <td>27.765353</td>\n      <td>27.659491</td>\n      <td>27.836593</td>\n      <td>5.769176e+04</td>\n      <td>55.0</td>\n      <td>[8679, 8735]</td>\n      <td>308.143407</td>\n      <td>0.000000e+00</td>\n      <td>SB1.mzML</td>\n      <td>0.002764</td>\n    </tr>\n  </tbody>\n</table>\n</div>"
     },
     "execution_count": 505,
     "metadata": {},
     "output_type": "execute_result"
    }
   ],
   "source": [
    "feature_matched = search_feature(feature_temp, 308.1431)"
   ],
   "metadata": {
    "collapsed": false,
    "pycharm": {
     "name": "#%%\n"
    }
   }
  },
  {
   "cell_type": "code",
   "execution_count": 514,
   "outputs": [],
   "source": [
    "lst = [0,2,3,4,3.9,6,4.2,4.5,3,2,1,0]"
   ],
   "metadata": {
    "collapsed": false,
    "pycharm": {
     "name": "#%%\n"
    }
   }
  },
  {
   "cell_type": "code",
   "execution_count": null,
   "outputs": [],
   "source": [
    "x, y = line.get_xydata().T\n",
    "ax.fill_between(x, 0, y, color=line.get_color(), alpha=alpha, **kwargs)\n"
   ],
   "metadata": {
    "collapsed": false,
    "pycharm": {
     "name": "#%%\n"
    }
   }
  },
  {
   "cell_type": "code",
   "execution_count": 545,
   "outputs": [
    {
     "data": {
      "text/plain": "array([ 7,  8,  9, 10, 11])"
     },
     "execution_count": 545,
     "metadata": {},
     "output_type": "execute_result"
    }
   ],
   "source": [
    "np.arange(7,len(lst) )"
   ],
   "metadata": {
    "collapsed": false,
    "pycharm": {
     "name": "#%%\n"
    }
   }
  },
  {
   "cell_type": "code",
   "execution_count": 625,
   "outputs": [
    {
     "data": {
      "text/plain": "<Figure size 500x400 with 1 Axes>",
      "image/png": "[encoded data removed]"
     },
     "metadata": {},
     "output_type": "display_data"
    }
   ],
   "source": [
    "fig = plt.figure(figsize = (5, 4))\n",
    "# add color array to set_palette\n",
    "# function of seaborn\n",
    "ax = sns.lineplot(lst)\n",
    "# baseline =\n",
    "# ax.fill_between(np.arange(len(lst)),np.array(lst), color=\"blue\", alpha=0.3)\n",
    "for v in [0,4,6,11]:\n",
    "    plt.vlines(x = v, ymin=0, ymax=6, colors='green')\n",
    "# plt.hlines(xmin = 0, xmax = 11, y=0.2, colors='yellow',linestyle='dashed')\n",
    "# ax.fill_between(np.array([4,5,6]),np.array(lst[4:7]), color=\"green\", alpha=0.3)\n",
    "# ax.fill_between(np.arange(6,len(lst) ),np.array(lst[6:]), color=\"orange\", alpha=0.3)\n",
    "# ax.fill_between(np.arange(4),np.array(lst[0:4]), color=\"red\", alpha=0.3)\n",
    "fig.tight_layout()\n",
    "plt.savefig(os.path.join(seminar_dir, 'peak_detection_1.5.png'))\n"
   ],
   "metadata": {
    "collapsed": false,
    "pycharm": {
     "name": "#%%\n"
    }
   }
  },
  {
   "cell_type": "code",
   "execution_count": 523,
   "outputs": [],
   "source": [
    "l1 = ax.lines[0]"
   ],
   "metadata": {
    "collapsed": false,
    "pycharm": {
     "name": "#%%\n"
    }
   }
  },
  {
   "cell_type": "code",
   "execution_count": 526,
   "outputs": [
    {
     "data": {
      "text/plain": "array([ 0.,  1.,  2.,  3.,  4.,  5.,  6.,  7.,  8.,  9., 10., 11.])"
     },
     "execution_count": 526,
     "metadata": {},
     "output_type": "execute_result"
    }
   ],
   "source": [
    "l1.get_xydata()[:,0]"
   ],
   "metadata": {
    "collapsed": false,
    "pycharm": {
     "name": "#%%\n"
    }
   }
  },
  {
   "cell_type": "code",
   "execution_count": 513,
   "outputs": [
    {
     "data": {
      "text/plain": "<Figure size 1000x600 with 1 Axes>",
      "image/png": "[encoded data removed]"
     },
     "metadata": {},
     "output_type": "display_data"
    },
    {
     "data": {
      "text/plain": "<Figure size 1000x600 with 1 Axes>",
      "image/png": "[encoded data removed]"
     },
     "metadata": {},
     "output_type": "display_data"
    }
   ],
   "source": [
    "# row = std_list.iloc[14]\n",
    "# ion_trace_base = trx.flash_eic(185.9776, mass_sorted, intensity_sorted, index_sorted)\n",
    "# ion_trace_left = trx.flash_eic(308.1431-iso_steps['C'],mass_sorted, intensity_sorted, index_sorted)\n",
    "# ion_trace_halo = trx.flash_eic(185.9776+iso_steps['Cl'],mass_sorted, intensity_sorted, index_sorted, mass_error=0.002)\n",
    "# feature_matched = search_feature(feature_temp, 371.1617, row['rt'], rt_error=21)\n",
    "# feature_matched.sort_values(by = 'ms1_intensity', ascending=False, inplace=True)\n",
    "intensity_list = trx.flash_eic(157.035462, mass_sorted, intensity_sorted, index_sorted)\n",
    "# range = literal_eval(feature_matched.iloc[0]['ms1_scan_range'])\n",
    "rds.EIC(rt_list,\n",
    "        # trx.moving_average(intensity_list,10),\n",
    "        intensity_list,\n",
    "        rt_start=0,rt_end=40,\n",
    "        vlines_location_1=[0.524806,29.841466],\n",
    "        vlines_location_2=[0.621800],\n",
    "        # #\n",
    "        savepath=os.path.join(seminar_dir, 'ugly_vline4.png')\n",
    "        )\n",
    "rds.EIC(rt_list,\n",
    "        intensity_list,\n",
    "        rt_start=0,rt_end=40,\n",
    "        # vlines_location_1=[24.27,24.66],\n",
    "        # vlines_location_2=[24.573095],\n",
    "        #\n",
    "        savepath=os.path.join(seminar_dir, 'ugly4.png')\n",
    "        )"
   ],
   "metadata": {
    "collapsed": false,
    "pycharm": {
     "name": "#%%\n"
    }
   }
  },
  {
   "cell_type": "code",
   "execution_count": 406,
   "outputs": [
    {
     "data": {
      "text/plain": "'[5899, 6424]'"
     },
     "execution_count": 406,
     "metadata": {},
     "output_type": "execute_result"
    }
   ],
   "source": [
    "feature_matched.iloc[0]['ms1_scan_range']"
   ],
   "metadata": {
    "collapsed": false,
    "pycharm": {
     "name": "#%%\n"
    }
   }
  },
  {
   "cell_type": "code",
   "execution_count": 415,
   "outputs": [],
   "source": [
    "feature_matched = search_feature(feature_temp, row['m/z'], row['rt'], rt_error=21)"
   ],
   "metadata": {
    "collapsed": false,
    "pycharm": {
     "name": "#%%\n"
    }
   }
  },
  {
   "cell_type": "code",
   "execution_count": 417,
   "outputs": [],
   "source": [
    "feature_matched = search_feature(feature_temp, row['m/z'])"
   ],
   "metadata": {
    "collapsed": false,
    "pycharm": {
     "name": "#%%\n"
    }
   }
  },
  {
   "cell_type": "code",
   "execution_count": 421,
   "outputs": [
    {
     "data": {
      "text/plain": "-37.24806000000001"
     },
     "execution_count": 421,
     "metadata": {},
     "output_type": "execute_result"
    }
   ],
   "source": [
    "60*(28.399199-row['rt'])"
   ],
   "metadata": {
    "collapsed": false,
    "pycharm": {
     "name": "#%%\n"
    }
   }
  },
  {
   "cell_type": "code",
   "execution_count": 425,
   "outputs": [],
   "source": [
    "feature_matched = search_feature(feature_temp, row['m/z'], row['rt'], rt_error=21)"
   ],
   "metadata": {
    "collapsed": false,
    "pycharm": {
     "name": "#%%\n"
    }
   }
  },
  {
   "cell_type": "code",
   "execution_count": 426,
   "outputs": [
    {
     "data": {
      "text/plain": "      precursor_mz   rt_apex   rt_start     rt_end  ms1_intensity  n_scnas  \\\n8244    408.134390  29.01674  28.921077  29.144907  156711.609375     67.0   \n4042    408.134645  29.01799  28.883657  29.425042  156711.609375    159.0   \n\n     ms1_scan_range  ion_trace_center      reci_snr base_name  mz_offset  \n8244   [9067, 9135]        408.130057  0.000000e+00  SB1.mzML   0.004333  \n4042   [9055, 9215]        408.138861  1.015067e-15  SB1.mzML   0.004216  ",
      "text/html": "<div>\n<style scoped>\n    .dataframe tbody tr th:only-of-type {\n        vertical-align: middle;\n    }\n\n    .dataframe tbody tr th {\n        vertical-align: top;\n    }\n\n    .dataframe thead th {\n        text-align: right;\n    }\n</style>\n<table border=\"1\" class=\"dataframe\">\n  <thead>\n    <tr style=\"text-align: right;\">\n      <th></th>\n      <th>precursor_mz</th>\n      <th>rt_apex</th>\n      <th>rt_start</th>\n      <th>rt_end</th>\n      <th>ms1_intensity</th>\n      <th>n_scnas</th>\n      <th>ms1_scan_range</th>\n      <th>ion_trace_center</th>\n      <th>reci_snr</th>\n      <th>base_name</th>\n      <th>mz_offset</th>\n    </tr>\n  </thead>\n  <tbody>\n    <tr>\n      <th>8244</th>\n      <td>408.134390</td>\n      <td>29.01674</td>\n      <td>28.921077</td>\n      <td>29.144907</td>\n      <td>156711.609375</td>\n      <td>67.0</td>\n      <td>[9067, 9135]</td>\n      <td>408.130057</td>\n      <td>0.000000e+00</td>\n      <td>SB1.mzML</td>\n      <td>0.004333</td>\n    </tr>\n    <tr>\n      <th>4042</th>\n      <td>408.134645</td>\n      <td>29.01799</td>\n      <td>28.883657</td>\n      <td>29.425042</td>\n      <td>156711.609375</td>\n      <td>159.0</td>\n      <td>[9055, 9215]</td>\n      <td>408.138861</td>\n      <td>1.015067e-15</td>\n      <td>SB1.mzML</td>\n      <td>0.004216</td>\n    </tr>\n  </tbody>\n</table>\n</div>"
     },
     "execution_count": 426,
     "metadata": {},
     "output_type": "execute_result"
    }
   ],
   "source": [
    "feature_matched"
   ],
   "metadata": {
    "collapsed": false,
    "pycharm": {
     "name": "#%%\n"
    }
   }
  },
  {
   "cell_type": "code",
   "execution_count": 454,
   "outputs": [
    {
     "data": {
      "text/plain": "<Figure size 1000x600 with 1 Axes>",
      "image/png": "[encoded data removed]"
     },
     "metadata": {},
     "output_type": "display_data"
    },
    {
     "data": {
      "text/plain": "<Figure size 1000x600 with 1 Axes>",
      "image/png": "[encoded data removed]"
     },
     "metadata": {},
     "output_type": "display_data"
    }
   ],
   "source": [
    "row = std_list.iloc[14]\n",
    "feature_matched = search_feature(feature_temp, row['m/z'], row['rt'], rt_error=21)\n",
    "feature_matched.sort_values(by = 'ms1_intensity', ascending=False, inplace=True)\n",
    "intensity_list = trx.flash_eic(row['m/z'], mass_sorted, intensity_sorted, index_sorted)\n",
    "range = literal_eval(feature_matched.iloc[0]['ms1_scan_range'])\n",
    "rds.EIC(rt_list,\n",
    "        # trx.moving_average(intensity_list,10),\n",
    "        intensity_list,\n",
    "        rt_start=row['rt']-1,rt_end=row['rt']+1,\n",
    "        vlines_location_1=[rt_list[range[0]], rt_list[range[1]]],\n",
    "        vlines_location_2=[feature_matched.iloc[0]['rt_apex']],\n",
    "\n",
    "         # savepath=os.path.join(seminar_dir, 'middle_vline2.png')\n",
    "        )\n",
    "rds.EIC(rt_list,\n",
    "        # trx.moving_average(intensity_list,10),\n",
    "        intensity_list,\n",
    "        rt_start=row['rt']-1,rt_end=row['rt']+1,\n",
    "        # vlines_location_1=[rt_list[range[0]], rt_list[range[1]]],\n",
    "        # vlines_location_2=[feature_matched.iloc[0]['rt_apex']],\n",
    "\n",
    "        # savepath=os.path.join(seminar_dir, 'middle2.png')\n",
    "        )"
   ],
   "metadata": {
    "collapsed": false,
    "pycharm": {
     "name": "#%%\n"
    }
   }
  },
  {
   "cell_type": "code",
   "execution_count": 456,
   "outputs": [
    {
     "data": {
      "text/plain": "<Figure size 1000x600 with 1 Axes>",
      "image/png": "[encoded data removed]"
     },
     "metadata": {},
     "output_type": "display_data"
    },
    {
     "data": {
      "text/plain": "<Figure size 1000x600 with 1 Axes>",
      "image/png": "[encoded data removed]"
     },
     "metadata": {},
     "output_type": "display_data"
    }
   ],
   "source": [
    "rds.EIC(rt_list,\n",
    "        # trx.moving_average(intensity_list,10),\n",
    "        intensity_list,\n",
    "        rt_start=row['rt']-1,rt_end=row['rt']+1,\n",
    "        vlines_location_1=[rt_list[range[0]], rt_list[range[1]]],\n",
    "        vlines_location_2=[feature_matched.iloc[0]['rt_apex']],\n",
    "\n",
    "        savepath=os.path.join(seminar_dir,  'good_vline.png')\n",
    "        )\n",
    "rds.EIC(rt_list,\n",
    "        # trx.moving_average(intensity_list,10),\n",
    "        intensity_list,\n",
    "        rt_start=row['rt']-1,rt_end=row['rt']+1,\n",
    "        # vlines_location_1=[rt_list[range[0]], rt_list[range[1]]],\n",
    "        # vlines_location_2=[feature_matched.iloc[0]['rt_apex']],\n",
    "\n",
    "        savepath=os.path.join(seminar_dir, 'good.png')\n",
    "        )"
   ],
   "metadata": {
    "collapsed": false,
    "pycharm": {
     "name": "#%%\n"
    }
   }
  },
  {
   "cell_type": "code",
   "execution_count": 440,
   "outputs": [
    {
     "data": {
      "text/plain": "formula                 C31H38N8O3\nm/z                       571.3155\nrt                            5.54\ntargeted_fold_change          1.01\nconc_ratio                     1/1\nif_halo_ref                  False\nfill_%                         1.0\nmono_concensus                True\nhalo_concensus               False\nName: 9, dtype: object"
     },
     "execution_count": 440,
     "metadata": {},
     "output_type": "execute_result"
    }
   ],
   "source": [
    "row"
   ],
   "metadata": {
    "collapsed": false,
    "pycharm": {
     "name": "#%%\n"
    }
   }
  },
  {
   "cell_type": "code",
   "execution_count": 346,
   "outputs": [
    {
     "data": {
      "text/plain": "31.099798"
     },
     "execution_count": 346,
     "metadata": {},
     "output_type": "execute_result"
    }
   ],
   "source": [
    "rt_list[9764]"
   ],
   "metadata": {
    "collapsed": false,
    "pycharm": {
     "name": "#%%\n"
    }
   }
  },
  {
   "cell_type": "code",
   "execution_count": 336,
   "outputs": [],
   "source": [
    "guess_step =1"
   ],
   "metadata": {
    "collapsed": false,
    "pycharm": {
     "name": "#%%\n"
    }
   }
  },
  {
   "cell_type": "code",
   "execution_count": 337,
   "outputs": [],
   "source": [
    "mass_range = mass_sorted[idx_start:idx_end]\n",
    "index_range = index_sorted[idx_start:idx_end]\n",
    "intensity_range = intensity_sorted[idx_start:idx_end]\n",
    "pmz_candidates = np.zeros(2*guess_step+1)\n",
    "intensity_candidates = np.zeros(2*guess_step+1)\n",
    "pmz_idx = 0"
   ],
   "metadata": {
    "collapsed": false,
    "pycharm": {
     "name": "#%%\n"
    }
   }
  },
  {
   "cell_type": "code",
   "execution_count": 298,
   "outputs": [
    {
     "data": {
      "text/plain": "1"
     },
     "execution_count": 298,
     "metadata": {},
     "output_type": "execute_result"
    }
   ],
   "source": [
    "np.sum(index_range==198)"
   ],
   "metadata": {
    "collapsed": false,
    "pycharm": {
     "name": "#%%\n"
    }
   }
  },
  {
   "cell_type": "code",
   "execution_count": 300,
   "outputs": [
    {
     "data": {
      "text/plain": "0"
     },
     "execution_count": 300,
     "metadata": {},
     "output_type": "execute_result"
    }
   ],
   "source": [
    "np.argmax(intensity_range[index_range==198])"
   ],
   "metadata": {
    "collapsed": false,
    "pycharm": {
     "name": "#%%\n"
    }
   }
  },
  {
   "cell_type": "code",
   "execution_count": 272,
   "outputs": [
    {
     "data": {
      "text/plain": "array([197])"
     },
     "execution_count": 272,
     "metadata": {},
     "output_type": "execute_result"
    }
   ],
   "source": [
    "index_range[index_range==197]"
   ],
   "metadata": {
    "collapsed": false,
    "pycharm": {
     "name": "#%%\n"
    }
   }
  },
  {
   "cell_type": "code",
   "execution_count": 395,
   "outputs": [],
   "source": [
    "# def find_one_roi_alt(intensity_list, n_neighbor = 5):\n",
    "#     intensity_list_smoothed= trx.moving_average(intensity_list, n_neighbor)\n",
    "#     apex_idx = np.argmax(intensity_list_smoothed)\n",
    "#     # if np.min(intensity_list_smoothed)>0:\n",
    "#     #     return([0, apex_idx, len(intensity_list_smoothed)-1])\n",
    "#     # left_side = intensity_list_smoothed[:apex_idx]\n",
    "#     # left_side_flip = np.flip(left_side)\n",
    "#     # right_side = intensity_list_smoothed[apex_idx+1:]\n",
    "#     # if len(left_side)>0:\n",
    "#     #     left_idx = apex_idx-(np.argmax(left_side_flip==0)+1)\n",
    "#     # else:\n",
    "#     #     left_idx = 0\n",
    "#     # if len(right_side)>0:\n",
    "#     #     right_idx = apex_idx+np.argmax(right_side==0)+1\n",
    "#     # else:\n",
    "#     #     right_side = len(intensity_list_smoothed)-1\n",
    "#     # return(np.array([left_idx, apex_idx, right_idx]))\n",
    "#     left_idx = apex_idx\n",
    "#     right_idx = apex_idx\n",
    "#     for i in range(1, apex_idx+1):\n",
    "#         left_idx=apex_idx-i\n",
    "#         if intensity_list_smoothed[left_idx]==0:\n",
    "#             break\n",
    "#     for i in range(1, len(intensity_list_smoothed)-apex_idx):\n",
    "#         right_idx=apex_idx+i\n",
    "#         if intensity_list_smoothed[right_idx]==0:\n",
    "#             break\n",
    "#     return([left_idx, apex_idx, right_idx])"
   ],
   "metadata": {
    "collapsed": false,
    "pycharm": {
     "name": "#%%\n"
    }
   }
  },
  {
   "cell_type": "code",
   "execution_count": 473,
   "outputs": [],
   "source": [
    "def find_one_roi(intensity_list, n_neighbor = 5, if_smooth = True):\n",
    "    if if_smooth == True:\n",
    "        intensity_list_smoothed= trx.moving_average(intensity_list, n_neighbor)\n",
    "    else:\n",
    "        intensity_list_smoothed = intensity_list\n",
    "    apex_idx = np.argmax(intensity_list_smoothed)\n",
    "    if np.min(intensity_list_smoothed)>0:\n",
    "        return([0, apex_idx, len(intensity_list_smoothed)-1])\n",
    "    left_side = intensity_list_smoothed[:apex_idx]\n",
    "    left_side_flip = np.flip(left_side)\n",
    "    right_side = intensity_list_smoothed[apex_idx+1:]\n",
    "    if len(left_side)>0:\n",
    "        left_idx = apex_idx-(np.argmax(left_side_flip==0)+1)\n",
    "    else:\n",
    "        left_idx = 0\n",
    "    if len(right_side)>0:\n",
    "        right_idx = apex_idx+np.argmax(right_side==0)+1\n",
    "    else:\n",
    "        right_idx = len(intensity_list_smoothed)-1\n",
    "    return(np.array([left_idx, apex_idx, right_idx]))"
   ],
   "metadata": {
    "collapsed": false,
    "pycharm": {
     "name": "#%%\n"
    }
   }
  },
  {
   "cell_type": "code",
   "execution_count": 468,
   "outputs": [],
   "source": [
    "def find_all_rois(intensity_list, n_neighbor = 5, intensity_tolerance = 30000):\n",
    "    intensity_list_smoothed= trx.moving_average(intensity_list, n_neighbor)\n",
    "    # print(np.max(intensity_list_smoothed))\n",
    "    roi_all = []\n",
    "    # num_grater_than_zero = np.sum(intensity_sorted_indexing>intensity_tolerance)\n",
    "    while np.max(intensity_list_smoothed)>intensity_tolerance:\n",
    "        current_roi = find_one_roi(intensity_list_smoothed, if_smooth=False)\n",
    "        roi_all.append(current_roi)\n",
    "        intensity_list_smoothed[current_roi[0]:current_roi[2]+1]=0\n",
    "        # if np.sum(intensity_list_smoothed>0)==num_grater_than_zero:\n",
    "        #     print('not zeroing out')\n",
    "        #     return(seed_mass, mass_tol)\n",
    "        # else:\n",
    "        #     num_grater_than_zero = np.sum(intensity_list_smoothed>intensity_tolerance)\n",
    "        # # apex_idx = np.argmax(intensity_list_smoothed)\n",
    "        # left_side = intensity_list_smoothed[:apex_idx]\n",
    "        # left_side_flip = np.flip(left_side)\n",
    "        # right_side = intensity_list_smoothed[apex_idx+1:]\n",
    "        # if len(left_side)>0:\n",
    "        #     left_idx = apex_idx-(np.argmax(left_side_flip==0)+1)\n",
    "        # else:\n",
    "        #     left_idx = 0\n",
    "        # if len(right_side)>0:\n",
    "        #     right_idx = apex_idx+np.argmax(right_side==0)+1\n",
    "        # else:\n",
    "        #     right_idx = len(intensity_list_smoothed)-1\n",
    "        # roi_all.append(np.array([left_idx, apex_idx, right_idx]))\n",
    "    return(roi_all)\n"
   ],
   "metadata": {
    "collapsed": false,
    "pycharm": {
     "name": "#%%\n"
    }
   }
  },
  {
   "cell_type": "code",
   "execution_count": 571,
   "outputs": [],
   "source": [
    "feature_temp = pd.read_csv(os.path.join(pl_dir, 'SA2.csv'))\n",
    "# feature_temp.sort_values(by = 'precursor_mz', ascending=True, inplace=True)\n",
    "feature_temp.reset_index(inplace=True, drop=True)\n",
    "strat = time.time()\n",
    "# feature_dereplicate = pd.DataFrame()\n",
    "# with tqdm(total=len(mass_sorted)) as pbar:\n",
    "#     while len(feature_temp)>0:\n",
    "#         seed_feature = feature_temp.iloc[np.argmax(feature_temp['ms1_intensity'])]\n",
    "#         duplicates = search_feature(feature_temp, pmz=seed_feature['precursor_mz'], rt=seed_feature['rt_apex'], rt_error=1, mass_error=0.001, pmz_sorted= True)\n",
    "#         feature_temp.drop(duplicates.index.tolist(), inplace=True)\n",
    "#         if len(duplicates)==1:\n",
    "#             feature_dereplicate= pd.concat([feature_dereplicate, duplicates], ignore_index=True)\n",
    "#         else:\n",
    "#             duplicates['pmz_offset']=abs(duplicates['ion_trace_center']-duplicates['precursor_mz'])\n",
    "#             duplicates.sort_values(by = 'pmz_offset', ascending=True)\n",
    "#             # duplicates.drop_duplicates(subset = 'ms1_intensity', keep='first', inplace = True)\n",
    "#             feature_dereplicate= pd.concat([feature_dereplicate, pd.DataFrame([duplicates.iloc[0]])], ignore_index=True)\n",
    "#         pbar.update(1)\n",
    "# end = time.time()\n",
    "\n"
   ],
   "metadata": {
    "collapsed": false,
    "pycharm": {
     "name": "#%%\n"
    }
   }
  },
  {
   "cell_type": "code",
   "execution_count": 570,
   "outputs": [],
   "source": [
    "feature_temp['pmz_offset']=abs(feature_temp['precursor_mz']-feature_temp['ion_trace_center'])"
   ],
   "metadata": {
    "collapsed": false,
    "pycharm": {
     "name": "#%%\n"
    }
   }
  },
  {
   "cell_type": "code",
   "execution_count": 581,
   "outputs": [
    {
     "data": {
      "text/plain": "0.717948717948718"
     },
     "execution_count": 581,
     "metadata": {},
     "output_type": "execute_result"
    }
   ],
   "source": [
    "\n",
    "28/39"
   ],
   "metadata": {
    "collapsed": false,
    "pycharm": {
     "name": "#%%\n"
    }
   }
  },
  {
   "cell_type": "code",
   "execution_count": 562,
   "outputs": [
    {
     "name": "stderr",
     "output_type": "stream",
     "text": [
      " 94%|█████████▍| 46550/49493 [01:33<00:05, 495.65it/s]\n"
     ]
    }
   ],
   "source": [
    "offset_mins = feature_temp.groupby(['precursor_mz', 'rt_apex']).pmz_offset.transform(min)\n",
    "\n",
    "feature_grouped = feature_temp.loc[feature_temp.pmz_offset == offset_mins]\n",
    "feature_grouped.reset_index(inplace=True, drop=True)\n",
    "feature_grouped.sort_values(by = 'precursor_mz', ascending=True, inplace=True)\n",
    "\n",
    "feature_dereplicate = pd.DataFrame()\n",
    "feature_grouped_working = feature_grouped.copy()\n",
    "with tqdm(total=len(feature_grouped)) as pbar:\n",
    "    while len(feature_grouped)>0:\n",
    "        seed_feature = feature_grouped.iloc[np.argmax(feature_grouped['ms1_intensity'])]\n",
    "        feature_neighbors = search_feature(feature_grouped, pmz = seed_feature['precursor_mz'], rt = seed_feature['rt_apex'], mass_error=0.001, rt_error=1, pmz_sorted=True)\n",
    "        if len(feature_neighbors)==1:\n",
    "            feature_dereplicate = pd.concat([feature_dereplicate, feature_neighbors], ignore_index=True)\n",
    "        else:\n",
    "            feature_neighbors.sort_values(by = 'pmz_offset', ascending=True)\n",
    "            feature_dereplicate=pd.concat([feature_dereplicate,pd.DataFrame([feature_neighbors.iloc[0]]) ], ignore_index=True)\n",
    "        feature_grouped.drop(feature_neighbors.index.tolist(), inplace = True)\n",
    "    #     seed_feature = tt.iloc[np.argmax(tt['ms1_intensity'])]\n",
    "    #     duplicates = search_feature(feature_temp, pmz=seed_feature['precursor_mz'], rt=seed_feature['rt_apex'], rt_error=1, mass_error=0.001, pmz_sorted= True)\n",
    "    #     feature_temp.drop(duplicates.index.tolist(), inplace=True)\n",
    "    #     if len(duplicates)==1:\n",
    "    #         feature_dereplicate= pd.concat([feature_dereplicate, duplicates], ignore_index=True)\n",
    "    #     else:\n",
    "    #         duplicates['pmz_offset']=abs(duplicates['ion_trace_center']-duplicates['precursor_mz'])\n",
    "    #         duplicates.sort_values(by = 'pmz_offset', ascending=True)\n",
    "    #         # duplicates.drop_duplicates(subset = 'ms1_intensity', keep='first', inplace = True)\n",
    "    #         feature_dereplicate= pd.concat([feature_dereplicate, pd.DataFrame([duplicates.iloc[0]])], ignore_index=True)\n",
    "        pbar.update(1)\n",
    "end = time.time()"
   ],
   "metadata": {
    "collapsed": false,
    "pycharm": {
     "name": "#%%\n"
    }
   }
  },
  {
   "cell_type": "code",
   "execution_count": 566,
   "outputs": [
    {
     "data": {
      "text/plain": "-1.6892400000000007"
     },
     "execution_count": 566,
     "metadata": {},
     "output_type": "execute_result"
    }
   ],
   "source": [
    "(0.629930-0.658084)*60"
   ],
   "metadata": {
    "collapsed": false,
    "pycharm": {
     "name": "#%%\n"
    }
   }
  },
  {
   "cell_type": "code",
   "execution_count": 569,
   "outputs": [
    {
     "data": {
      "text/plain": "-0.12396999999999991"
     },
     "execution_count": 569,
     "metadata": {},
     "output_type": "execute_result"
    }
   ],
   "source": [
    "100.548338-100.672308"
   ],
   "metadata": {
    "collapsed": false,
    "pycharm": {
     "name": "#%%\n"
    }
   }
  },
  {
   "cell_type": "code",
   "execution_count": 568,
   "outputs": [
    {
     "data": {
      "text/plain": "       precursor_mz    rt_apex   rt_start     rt_end  ms1_intensity  \\\n25467    100.014235   5.334833   5.175013   5.969390   1.583211e+05   \n3322     100.014300   0.594403   0.544899   0.754079   2.719298e+06   \n17818    100.014318  35.994122  35.881179  39.328739   2.607262e+05   \n2870     100.014323   0.499369   0.005082   0.544899   3.437068e+06   \n36879    100.014333  10.039861   9.210654  17.905591   8.882105e+04   \n...             ...        ...        ...        ...            ...   \n15322   1465.577793  31.702193  31.642058  31.748997   3.191995e+05   \n20640   1471.860554  31.693168  31.639092  31.740137   2.128347e+05   \n22088   1472.862143  31.688435  31.639092  31.743087   1.939350e+05   \n29271   1476.813814  31.697350  31.642058  31.746045   1.291286e+05   \n32998   1491.018607   4.742468   4.676825   4.827747   1.076430e+05   \n\n       ms1_intensity_smoothed  n_scnas         ms1_scan_range  \\\n25467            5.899558e+04    267.0     [1729, 1783, 1995]   \n3322             1.819541e+06     73.0        [147, 164, 219]   \n17818            1.684807e+05    981.0  [11319, 11357, 12299]   \n2870             1.917332e+06    148.0          [0, 132, 147]   \n36879            5.238617e+04   2720.0     [3055, 3322, 5774]   \n...                       ...      ...                    ...   \n15322            1.087202e+05     37.0     [9937, 9957, 9973]   \n20640            8.020994e+04     35.0     [9936, 9954, 9970]   \n22088            6.298496e+04     36.0     [9936, 9952, 9971]   \n29271            3.303436e+04     36.0     [9937, 9955, 9972]   \n32998            7.956578e+04     52.0     [1561, 1583, 1612]   \n\n       ion_trace_center  reci_snr  ion_trace_offset base_name  pmz_offset  \n25467        100.014287  0.000000          0.001113  SA2.mzML    0.000051  \n3322         100.014287  0.002685          0.001113  SA2.mzML    0.000013  \n17818        100.014287  0.014203          0.001113  SA2.mzML    0.000032  \n2870         100.011523  0.001395          0.003478  SA2.mzML    0.002800  \n36879        100.014287  0.000000          0.001113  SA2.mzML    0.000046  \n...                 ...       ...               ...       ...         ...  \n15322       1465.577299  0.001874          0.003428  SA2.mzML    0.000494  \n20640       1471.859263  0.002957          0.004217  SA2.mzML    0.001291  \n22088       1472.862222  0.001530          0.000553  SA2.mzML    0.000079  \n29271       1476.813917  0.001410          0.000449  SA2.mzML    0.000103  \n32998       1491.018408  0.000185          0.000495  SA2.mzML    0.000199  \n\n[46550 rows x 13 columns]",
      "text/html": "<div>\n<style scoped>\n    .dataframe tbody tr th:only-of-type {\n        vertical-align: middle;\n    }\n\n    .dataframe tbody tr th {\n        vertical-align: top;\n    }\n\n    .dataframe thead th {\n        text-align: right;\n    }\n</style>\n<table border=\"1\" class=\"dataframe\">\n  <thead>\n    <tr style=\"text-align: right;\">\n      <th></th>\n      <th>precursor_mz</th>\n      <th>rt_apex</th>\n      <th>rt_start</th>\n      <th>rt_end</th>\n      <th>ms1_intensity</th>\n      <th>ms1_intensity_smoothed</th>\n      <th>n_scnas</th>\n      <th>ms1_scan_range</th>\n      <th>ion_trace_center</th>\n      <th>reci_snr</th>\n      <th>ion_trace_offset</th>\n      <th>base_name</th>\n      <th>pmz_offset</th>\n    </tr>\n  </thead>\n  <tbody>\n    <tr>\n      <th>25467</th>\n      <td>100.014235</td>\n      <td>5.334833</td>\n      <td>5.175013</td>\n      <td>5.969390</td>\n      <td>1.583211e+05</td>\n      <td>5.899558e+04</td>\n      <td>267.0</td>\n      <td>[1729, 1783, 1995]</td>\n      <td>100.014287</td>\n      <td>0.000000</td>\n      <td>0.001113</td>\n      <td>SA2.mzML</td>\n      <td>0.000051</td>\n    </tr>\n    <tr>\n      <th>3322</th>\n      <td>100.014300</td>\n      <td>0.594403</td>\n      <td>0.544899</td>\n      <td>0.754079</td>\n      <td>2.719298e+06</td>\n      <td>1.819541e+06</td>\n      <td>73.0</td>\n      <td>[147, 164, 219]</td>\n      <td>100.014287</td>\n      <td>0.002685</td>\n      <td>0.001113</td>\n      <td>SA2.mzML</td>\n      <td>0.000013</td>\n    </tr>\n    <tr>\n      <th>17818</th>\n      <td>100.014318</td>\n      <td>35.994122</td>\n      <td>35.881179</td>\n      <td>39.328739</td>\n      <td>2.607262e+05</td>\n      <td>1.684807e+05</td>\n      <td>981.0</td>\n      <td>[11319, 11357, 12299]</td>\n      <td>100.014287</td>\n      <td>0.014203</td>\n      <td>0.001113</td>\n      <td>SA2.mzML</td>\n      <td>0.000032</td>\n    </tr>\n    <tr>\n      <th>2870</th>\n      <td>100.014323</td>\n      <td>0.499369</td>\n      <td>0.005082</td>\n      <td>0.544899</td>\n      <td>3.437068e+06</td>\n      <td>1.917332e+06</td>\n      <td>148.0</td>\n      <td>[0, 132, 147]</td>\n      <td>100.011523</td>\n      <td>0.001395</td>\n      <td>0.003478</td>\n      <td>SA2.mzML</td>\n      <td>0.002800</td>\n    </tr>\n    <tr>\n      <th>36879</th>\n      <td>100.014333</td>\n      <td>10.039861</td>\n      <td>9.210654</td>\n      <td>17.905591</td>\n      <td>8.882105e+04</td>\n      <td>5.238617e+04</td>\n      <td>2720.0</td>\n      <td>[3055, 3322, 5774]</td>\n      <td>100.014287</td>\n      <td>0.000000</td>\n      <td>0.001113</td>\n      <td>SA2.mzML</td>\n      <td>0.000046</td>\n    </tr>\n    <tr>\n      <th>...</th>\n      <td>...</td>\n      <td>...</td>\n      <td>...</td>\n      <td>...</td>\n      <td>...</td>\n      <td>...</td>\n      <td>...</td>\n      <td>...</td>\n      <td>...</td>\n      <td>...</td>\n      <td>...</td>\n      <td>...</td>\n      <td>...</td>\n    </tr>\n    <tr>\n      <th>15322</th>\n      <td>1465.577793</td>\n      <td>31.702193</td>\n      <td>31.642058</td>\n      <td>31.748997</td>\n      <td>3.191995e+05</td>\n      <td>1.087202e+05</td>\n      <td>37.0</td>\n      <td>[9937, 9957, 9973]</td>\n      <td>1465.577299</td>\n      <td>0.001874</td>\n      <td>0.003428</td>\n      <td>SA2.mzML</td>\n      <td>0.000494</td>\n    </tr>\n    <tr>\n      <th>20640</th>\n      <td>1471.860554</td>\n      <td>31.693168</td>\n      <td>31.639092</td>\n      <td>31.740137</td>\n      <td>2.128347e+05</td>\n      <td>8.020994e+04</td>\n      <td>35.0</td>\n      <td>[9936, 9954, 9970]</td>\n      <td>1471.859263</td>\n      <td>0.002957</td>\n      <td>0.004217</td>\n      <td>SA2.mzML</td>\n      <td>0.001291</td>\n    </tr>\n    <tr>\n      <th>22088</th>\n      <td>1472.862143</td>\n      <td>31.688435</td>\n      <td>31.639092</td>\n      <td>31.743087</td>\n      <td>1.939350e+05</td>\n      <td>6.298496e+04</td>\n      <td>36.0</td>\n      <td>[9936, 9952, 9971]</td>\n      <td>1472.862222</td>\n      <td>0.001530</td>\n      <td>0.000553</td>\n      <td>SA2.mzML</td>\n      <td>0.000079</td>\n    </tr>\n    <tr>\n      <th>29271</th>\n      <td>1476.813814</td>\n      <td>31.697350</td>\n      <td>31.642058</td>\n      <td>31.746045</td>\n      <td>1.291286e+05</td>\n      <td>3.303436e+04</td>\n      <td>36.0</td>\n      <td>[9937, 9955, 9972]</td>\n      <td>1476.813917</td>\n      <td>0.001410</td>\n      <td>0.000449</td>\n      <td>SA2.mzML</td>\n      <td>0.000103</td>\n    </tr>\n    <tr>\n      <th>32998</th>\n      <td>1491.018607</td>\n      <td>4.742468</td>\n      <td>4.676825</td>\n      <td>4.827747</td>\n      <td>1.076430e+05</td>\n      <td>7.956578e+04</td>\n      <td>52.0</td>\n      <td>[1561, 1583, 1612]</td>\n      <td>1491.018408</td>\n      <td>0.000185</td>\n      <td>0.000495</td>\n      <td>SA2.mzML</td>\n      <td>0.000199</td>\n    </tr>\n  </tbody>\n</table>\n<p>46550 rows × 13 columns</p>\n</div>"
     },
     "execution_count": 568,
     "metadata": {},
     "output_type": "execute_result"
    }
   ],
   "source": [
    "feature_dereplicate.sort_values(by = 'precursor_mz')"
   ],
   "metadata": {
    "collapsed": false,
    "pycharm": {
     "name": "#%%\n"
    }
   }
  }
 ],
 "metadata": {
  "kernelspec": {
   "name": "alphapept_env",
   "language": "python",
   "display_name": "alphapept_env"
  },
  "language_info": {
   "codemirror_mode": {
    "name": "ipython",
    "version": 2
   },
   "file_extension": ".py",
   "mimetype": "text/x-python",
   "name": "python",
   "nbconvert_exporter": "python",
   "pygments_lexer": "ipython2",
   "version": "2.7.6"
  }
 },
 "nbformat": 4,
 "nbformat_minor": 0
}