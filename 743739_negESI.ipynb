{
 "cells": [
  {
   "cell_type": "code",
   "execution_count": 5,
   "metadata": {
    "collapsed": true,
    "pycharm": {
     "name": "#%%\n"
    }
   },
   "outputs": [
    {
     "name": "stdout",
     "output_type": "stream",
     "text": [
      "The autoreload extension is already loaded. To reload it, use:\n",
      "  %reload_ext autoreload\n"
     ]
    }
   ],
   "source": [
    "import time\n",
    "\n",
    "import matplotlib.pyplot as plt\n",
    "from tqdm import tqdm\n",
    "import numpy as np\n",
    "%load_ext autoreload\n",
    "%autoreload 2\n",
    "import os\n",
    "from toolsets.file_io import get_file_list\n",
    "import pandas as pd\n",
    "from toolsets.constants import single_charged_adduct_mass, iso_steps\n",
    "from collections import Counter\n",
    "# mzml_dir = '/Users/fanzhoukong/Documents/GitHub/Libgen_data/srm_1958/mzml'\n",
    "# master_dir = '/Users/fanzhoukong/Documents/GitHub/Libgen_data/srm_1958'\n",
    "# pl_dir = '/Users/fanzhoukong/Documents/GitHub/Libgen_data/srm_1958/pl'\n",
    "# eic_dir = '/Users/fanzhoukong/Documents/GitHub/Libgen_data/srm_1958/some_eic'\n",
    "# msdial_pl_dir = '/Users/fanzhoukong/Documents/GitHub/Libgen_data/srm_1958/msdial_peak_list'\n",
    "from scipy.stats import pearsonr\n",
    "import toolsets.raw_data_scaffold as rds\n",
    "# for f in [mzml_dir, pl_dir, eic_dir, msdial_pl_dir]:\n",
    "#     if os.path.exists(f)==False:\n",
    "#         os.makedirs(f)\n",
    "from toolsets.file_io import readin_peak_list\n",
    "import toolsets.T_rex as trx\n",
    "import toolsets.ff_droup as ff\n",
    "from toolsets.spectra_plotter import ms2_plot\n",
    "import toolsets.spectra_operations as so\n",
    "from toolsets.search import quick_search_values, quick_search_sorted, string_search, search_feature, search_feature_msdial\n",
    "from toolsets.helpers import specify_column\n",
    "from toolsets.file_io import prepare_sample_list\n",
    "from toolsets.std_list_prep import calculate_precursormz\n",
    "master_dir = '/Users/fanzhoukong/Documents/GitHub/Libgen_data/exposome_negBA'\n",
    "msdial_dir = '/Volumes/scratch/Fanzhou/exposome_negBA/msdial_result'"
   ]
  },
  {
   "cell_type": "code",
   "execution_count": 2,
   "outputs": [],
   "source": [
    "mega_mona = pd.read_csv('/Users/fanzhoukong/Documents/GitHub/Libgen_data/curated_library/csv/neg_orbi_filtered.csv')"
   ],
   "metadata": {
    "collapsed": false,
    "pycharm": {
     "name": "#%%\n"
    }
   }
  },
  {
   "cell_type": "code",
   "execution_count": 3,
   "outputs": [],
   "source": [
    "istd = pd.read_csv(os.path.join(master_dir, 'istd_info.csv'))"
   ],
   "metadata": {
    "collapsed": false,
    "pycharm": {
     "name": "#%%\n"
    }
   }
  },
  {
   "cell_type": "code",
   "execution_count": 8,
   "outputs": [],
   "source": [
    "mzml_dir = '/Users/fanzhoukong/Documents/GitHub/Libgen_data/exposome_negBA/612_mzml/'\n",
    "pl_dir = '/Users/fanzhoukong/Documents/GitHub/Libgen_data/exposome_negBA/peak_list/negBA_612'"
   ],
   "metadata": {
    "collapsed": false,
    "pycharm": {
     "name": "#%%\n"
    }
   }
  },
  {
   "cell_type": "code",
   "execution_count": 9,
   "outputs": [],
   "source": [
    "file_list = get_file_list(mzml_dir, '.mzML', with_tail=False)"
   ],
   "metadata": {
    "collapsed": false,
    "pycharm": {
     "name": "#%%\n"
    }
   }
  },
  {
   "cell_type": "code",
   "execution_count": 10,
   "outputs": [],
   "source": [
    "samples, qcs, blks =prepare_sample_list(file_list)"
   ],
   "metadata": {
    "collapsed": false,
    "pycharm": {
     "name": "#%%\n"
    }
   }
  },
  {
   "cell_type": "code",
   "execution_count": 154,
   "outputs": [
    {
     "data": {
      "text/plain": "'Exposome_Yendry539_MX743739_negBA_612-200-12'"
     },
     "execution_count": 154,
     "metadata": {},
     "output_type": "execute_result"
    }
   ],
   "source": [
    "samples[1]"
   ],
   "metadata": {
    "collapsed": false,
    "pycharm": {
     "name": "#%%\n"
    }
   }
  },
  {
   "cell_type": "code",
   "execution_count": 163,
   "outputs": [],
   "source": [
    "ms1, ms2= rds.read_mzml(samples[1], mzml_dir)\n",
    "mass_sorted, intensity_sorted, index_sorted, rt_list = trx.build_index(ms1)"
   ],
   "metadata": {
    "collapsed": false,
    "pycharm": {
     "name": "#%%\n"
    }
   }
  },
  {
   "cell_type": "code",
   "execution_count": 221,
   "outputs": [],
   "source": [
    "feature_temp = trx.get_features(mass_sorted, intensity_sorted, index_sorted, rt_list, base_name= ms1.iloc[0]['base_name'], n_neighbor=2, intensity_threshold=10000)"
   ],
   "metadata": {
    "collapsed": false,
    "pycharm": {
     "name": "#%%\n"
    }
   }
  },
  {
   "cell_type": "code",
   "execution_count": 230,
   "outputs": [
    {
     "data": {
      "text/plain": "                               name  precursor_mz  adduct  rt_apex  \\\n0                       1_CUDA iSTD     339.26532  [M-H]-    0.249   \n1           1_D3-Acetaminophen iSTD     153.07488  [M-H]-    0.279   \n2                  1_D4-Niacin iSTD     126.04986  [M-H]-    0.976   \n3   1_D5-Phenylacetylglutamine iSTD     268.13511  [M-H]-    1.484   \n4                1_Val-Tyr-Val iSTD     378.20344  [M-H]-    1.663   \n5                1_D10-Leucine iSTD     140.15012  [M-H]-    1.691   \n6             1_D10-Isoleucine iSTD     140.15012  [M-H]-    1.733   \n7               1_D5-Threonine iSTD     123.08235  [M-H]-    1.989   \n8             1_D5-L-Glutamine iSTD     150.09325  [M-H]-    2.078   \n9        1_D3-DL-Glutamic acid iSTD     149.06471  [M-H]-    2.125   \n10       1_D3-DL-Aspartic acid iSTD     135.04906  [M-H]-    2.236   \n11               1_D7-Arginine iSTD     180.14834  [M-H]-    2.345   \n\n    rt_observed                     inchikey  \\\n0         0.205  HPTJABJPZMULFH-UHFFFAOYSA-N   \n1           NaN                                \n2         1.066                                \n3         1.499                                \n4         1.668  ZNGPROMGGGFOAA-JYJNAYRXSA-N   \n5           NaN  ROHFNLRQFUQHCH-SHJFKSRGSA-N   \n6           NaN                                \n7         1.999  AYFVYJQAPQTCCC-WKHZCAFQSA-N   \n8         2.092  ZDXPYRJPNDTMRX-NKXUJHECSA-N   \n9         2.146  WHUUTDBJXJRKMK-UHVFUKFASA-N   \n10        2.263  CKLJMWTZIZZHCS-RBXBQAPRSA-N   \n11        2.343                                \n\n                                                 msms  \n0   55.43203\\t8621\\n55.60109\\t9703\\n59.01397\\t1478...  \n1                                                      \n2   58.15605\\t3017\\n65.99826\\t5173\\n80.04742\\t5776...  \n3   52.13557\\t39388\\n58.02951\\t129811\\n58.59655\\t4...  \n4   52.01887\\t8708\\n58.02957\\t22419\\n60.93793\\t523...  \n5   61.40874\\t3514\\n61.4571\\t2879\\n62.2696\\t3495\\n...  \n6   59.766\\t2962\\n65.01449\\t18390\\n89.01448\\t25487...  \n7   52.56099\\t3258\\n56.2435\\t2974\\n72.00913\\t21006...  \n8   52.15825\\t37720\\n59.03585\\t111721\\n59.04699\\t8...  \n9   68.41961\\t7891\\n71.01382\\t8891\\n75.03102\\t9104...  \n10  51.01036\\t421770\\n68.1023\\t482010\\n72.02013\\t8...  \n11  58.04093\\t39711\\n62.77879\\t8880\\n83.89689\\t800...  ",
      "text/html": "<div>\n<style scoped>\n    .dataframe tbody tr th:only-of-type {\n        vertical-align: middle;\n    }\n\n    .dataframe tbody tr th {\n        vertical-align: top;\n    }\n\n    .dataframe thead th {\n        text-align: right;\n    }\n</style>\n<table border=\"1\" class=\"dataframe\">\n  <thead>\n    <tr style=\"text-align: right;\">\n      <th></th>\n      <th>name</th>\n      <th>precursor_mz</th>\n      <th>adduct</th>\n      <th>rt_apex</th>\n      <th>rt_observed</th>\n      <th>inchikey</th>\n      <th>msms</th>\n    </tr>\n  </thead>\n  <tbody>\n    <tr>\n      <th>0</th>\n      <td>1_CUDA iSTD</td>\n      <td>339.26532</td>\n      <td>[M-H]-</td>\n      <td>0.249</td>\n      <td>0.205</td>\n      <td>HPTJABJPZMULFH-UHFFFAOYSA-N</td>\n      <td>55.43203\\t8621\\n55.60109\\t9703\\n59.01397\\t1478...</td>\n    </tr>\n    <tr>\n      <th>1</th>\n      <td>1_D3-Acetaminophen iSTD</td>\n      <td>153.07488</td>\n      <td>[M-H]-</td>\n      <td>0.279</td>\n      <td>NaN</td>\n      <td></td>\n      <td></td>\n    </tr>\n    <tr>\n      <th>2</th>\n      <td>1_D4-Niacin iSTD</td>\n      <td>126.04986</td>\n      <td>[M-H]-</td>\n      <td>0.976</td>\n      <td>1.066</td>\n      <td></td>\n      <td>58.15605\\t3017\\n65.99826\\t5173\\n80.04742\\t5776...</td>\n    </tr>\n    <tr>\n      <th>3</th>\n      <td>1_D5-Phenylacetylglutamine iSTD</td>\n      <td>268.13511</td>\n      <td>[M-H]-</td>\n      <td>1.484</td>\n      <td>1.499</td>\n      <td></td>\n      <td>52.13557\\t39388\\n58.02951\\t129811\\n58.59655\\t4...</td>\n    </tr>\n    <tr>\n      <th>4</th>\n      <td>1_Val-Tyr-Val iSTD</td>\n      <td>378.20344</td>\n      <td>[M-H]-</td>\n      <td>1.663</td>\n      <td>1.668</td>\n      <td>ZNGPROMGGGFOAA-JYJNAYRXSA-N</td>\n      <td>52.01887\\t8708\\n58.02957\\t22419\\n60.93793\\t523...</td>\n    </tr>\n    <tr>\n      <th>5</th>\n      <td>1_D10-Leucine iSTD</td>\n      <td>140.15012</td>\n      <td>[M-H]-</td>\n      <td>1.691</td>\n      <td>NaN</td>\n      <td>ROHFNLRQFUQHCH-SHJFKSRGSA-N</td>\n      <td>61.40874\\t3514\\n61.4571\\t2879\\n62.2696\\t3495\\n...</td>\n    </tr>\n    <tr>\n      <th>6</th>\n      <td>1_D10-Isoleucine iSTD</td>\n      <td>140.15012</td>\n      <td>[M-H]-</td>\n      <td>1.733</td>\n      <td>NaN</td>\n      <td></td>\n      <td>59.766\\t2962\\n65.01449\\t18390\\n89.01448\\t25487...</td>\n    </tr>\n    <tr>\n      <th>7</th>\n      <td>1_D5-Threonine iSTD</td>\n      <td>123.08235</td>\n      <td>[M-H]-</td>\n      <td>1.989</td>\n      <td>1.999</td>\n      <td>AYFVYJQAPQTCCC-WKHZCAFQSA-N</td>\n      <td>52.56099\\t3258\\n56.2435\\t2974\\n72.00913\\t21006...</td>\n    </tr>\n    <tr>\n      <th>8</th>\n      <td>1_D5-L-Glutamine iSTD</td>\n      <td>150.09325</td>\n      <td>[M-H]-</td>\n      <td>2.078</td>\n      <td>2.092</td>\n      <td>ZDXPYRJPNDTMRX-NKXUJHECSA-N</td>\n      <td>52.15825\\t37720\\n59.03585\\t111721\\n59.04699\\t8...</td>\n    </tr>\n    <tr>\n      <th>9</th>\n      <td>1_D3-DL-Glutamic acid iSTD</td>\n      <td>149.06471</td>\n      <td>[M-H]-</td>\n      <td>2.125</td>\n      <td>2.146</td>\n      <td>WHUUTDBJXJRKMK-UHVFUKFASA-N</td>\n      <td>68.41961\\t7891\\n71.01382\\t8891\\n75.03102\\t9104...</td>\n    </tr>\n    <tr>\n      <th>10</th>\n      <td>1_D3-DL-Aspartic acid iSTD</td>\n      <td>135.04906</td>\n      <td>[M-H]-</td>\n      <td>2.236</td>\n      <td>2.263</td>\n      <td>CKLJMWTZIZZHCS-RBXBQAPRSA-N</td>\n      <td>51.01036\\t421770\\n68.1023\\t482010\\n72.02013\\t8...</td>\n    </tr>\n    <tr>\n      <th>11</th>\n      <td>1_D7-Arginine iSTD</td>\n      <td>180.14834</td>\n      <td>[M-H]-</td>\n      <td>2.345</td>\n      <td>2.343</td>\n      <td></td>\n      <td>58.04093\\t39711\\n62.77879\\t8880\\n83.89689\\t800...</td>\n    </tr>\n  </tbody>\n</table>\n</div>"
     },
     "execution_count": 230,
     "metadata": {},
     "output_type": "execute_result"
    }
   ],
   "source": [
    "tt"
   ],
   "metadata": {
    "collapsed": false,
    "pycharm": {
     "name": "#%%\n"
    }
   }
  },
  {
   "cell_type": "code",
   "execution_count": 245,
   "outputs": [
    {
     "data": {
      "text/plain": "      precursor_mz   rt_apex  rt_start    rt_end  ms1_intensity  \\\n3118    126.049815  1.047679  0.989701  1.119348   25270.310547   \n\n      ms1_intensity_smoothed  n_scnas   ms1_scan_range  ion_trace_center  \\\n3118            21315.358984     29.0  [219, 232, 247]        126.049805   \n\n      reci_snr  ion_trace_offset  \\\n3118  0.064765          0.000402   \n\n                                              base_name  \n3118  Exposome_Yendry539_MX743739_negBA_612-200-12.mzML  ",
      "text/html": "<div>\n<style scoped>\n    .dataframe tbody tr th:only-of-type {\n        vertical-align: middle;\n    }\n\n    .dataframe tbody tr th {\n        vertical-align: top;\n    }\n\n    .dataframe thead th {\n        text-align: right;\n    }\n</style>\n<table border=\"1\" class=\"dataframe\">\n  <thead>\n    <tr style=\"text-align: right;\">\n      <th></th>\n      <th>precursor_mz</th>\n      <th>rt_apex</th>\n      <th>rt_start</th>\n      <th>rt_end</th>\n      <th>ms1_intensity</th>\n      <th>ms1_intensity_smoothed</th>\n      <th>n_scnas</th>\n      <th>ms1_scan_range</th>\n      <th>ion_trace_center</th>\n      <th>reci_snr</th>\n      <th>ion_trace_offset</th>\n      <th>base_name</th>\n    </tr>\n  </thead>\n  <tbody>\n    <tr>\n      <th>3118</th>\n      <td>126.049815</td>\n      <td>1.047679</td>\n      <td>0.989701</td>\n      <td>1.119348</td>\n      <td>25270.310547</td>\n      <td>21315.358984</td>\n      <td>29.0</td>\n      <td>[219, 232, 247]</td>\n      <td>126.049805</td>\n      <td>0.064765</td>\n      <td>0.000402</td>\n      <td>Exposome_Yendry539_MX743739_negBA_612-200-12.mzML</td>\n    </tr>\n  </tbody>\n</table>\n</div>"
     },
     "execution_count": 245,
     "metadata": {},
     "output_type": "execute_result"
    }
   ],
   "source": [
    "search_feature(feature_temp,126.04986)"
   ],
   "metadata": {
    "collapsed": false,
    "pycharm": {
     "name": "#%%\n"
    }
   }
  },
  {
   "cell_type": "code",
   "execution_count": 216,
   "outputs": [],
   "source": [
    "tt = trx.detect_all_peaks(intensity_list, n_neighbor=1, intensity_threshold=10000)"
   ],
   "metadata": {
    "collapsed": false,
    "pycharm": {
     "name": "#%%\n"
    }
   }
  },
  {
   "cell_type": "code",
   "execution_count": 217,
   "outputs": [
    {
     "data": {
      "text/plain": "([array([220, 231, 242])], array([0.0492003]), array([21953.34830729]))"
     },
     "execution_count": 217,
     "metadata": {},
     "output_type": "execute_result"
    }
   ],
   "source": [
    "tt"
   ],
   "metadata": {
    "collapsed": false,
    "pycharm": {
     "name": "#%%\n"
    }
   }
  },
  {
   "cell_type": "markdown",
   "source": [
    "# Parse seed bin rt time"
   ],
   "metadata": {
    "collapsed": false,
    "pycharm": {
     "name": "#%% md\n"
    }
   }
  },
  {
   "cell_type": "code",
   "execution_count": 97,
   "outputs": [],
   "source": [
    "# import yaml\n",
    "# with open('/Users/fanzhoukong/Downloads/5m_hilic-orbitrap-beh_amide-negative-UK_20230920.yml', 'r') as file:\n",
    "#     yaml_data = yaml.safe_load(file)\n",
    "#\n",
    "# # Step 2: Convert the YAML data to a suitable format (assuming it's a list of dictionaries)\n",
    "# # This step depends heavily on the structure of your YAML file.\n",
    "# # You might need to adjust the code to match your specific data structure.\n",
    "#\n",
    "# # Step 3: Create a DataFrame\n",
    "# name = []\n",
    "# precursor_mz = []\n",
    "# adduct = []\n",
    "# rt_apex = []\n",
    "# inchikey = []\n",
    "# msms = []\n",
    "# for row in yaml_data['config'][0]['targets']:\n",
    "#     name.append(row['identifier'])\n",
    "#     precursor_mz.append(row['accurateMass'])\n",
    "#     adduct.append(row['adduct'])\n",
    "#     rt_apex.append(row['retentionTime'])\n",
    "#     inchikey.append(row['inchikey'])\n",
    "#     msms.append(so.convert_msdial_to_string(row['msms']))\n",
    "# istd_seed = pd.DataFrame(zip(name, precursor_mz, adduct, rt_apex, inchikey, msms), columns=['name', 'precursor_mz', 'adduct', 'rt_apex', 'inchikey', 'msms'])\n",
    "# istd_seed.to_csv(os.path.join(master_dir, 'istd_seed.csv'), index = False)"
   ],
   "metadata": {
    "collapsed": false,
    "pycharm": {
     "name": "#%%\n"
    }
   }
  },
  {
   "cell_type": "markdown",
   "source": [
    "# denoising attempt with MSDial data"
   ],
   "metadata": {
    "collapsed": false,
    "pycharm": {
     "name": "#%% md\n"
    }
   }
  },
  {
   "cell_type": "code",
   "execution_count": 318,
   "outputs": [],
   "source": [
    "from sklearn.ensemble import RandomForestRegressor"
   ],
   "metadata": {
    "collapsed": false,
    "pycharm": {
     "name": "#%%\n"
    }
   }
  },
  {
   "cell_type": "code",
   "execution_count": 3,
   "outputs": [],
   "source": [
    "msdial_dir = '/Users/fanzhoukong/Documents/GitHub/Libgen_data/exposome_negBA/msdial_result/alignment'"
   ],
   "metadata": {
    "collapsed": false,
    "pycharm": {
     "name": "#%%\n"
    }
   }
  },
  {
   "cell_type": "code",
   "execution_count": 283,
   "outputs": [],
   "source": [
    "istd_seed = pd.read_csv(os.path.join(master_dir, 'istd_seed_nolu.csv'))"
   ],
   "metadata": {
    "collapsed": false,
    "pycharm": {
     "name": "#%%\n"
    }
   }
  },
  {
   "cell_type": "code",
   "execution_count": 284,
   "outputs": [],
   "source": [
    "from toolsets.file_io import readin_peak_list\n",
    "from toolsets.search import search_feature_msdial"
   ],
   "metadata": {
    "collapsed": false,
    "pycharm": {
     "name": "#%%\n"
    }
   }
  },
  {
   "cell_type": "code",
   "execution_count": 285,
   "outputs": [],
   "source": [
    "_alignment_df_612= readin_peak_list(os.path.join(msdial_dir, '612.txt'), alighment=True)\n",
    "IE_alignment = readin_peak_list(os.path.join(msdial_dir, 'dnl.txt'), alighment=True)"
   ],
   "metadata": {
    "collapsed": false,
    "pycharm": {
     "name": "#%%\n"
    }
   }
  },
  {
   "cell_type": "code",
   "execution_count": 279,
   "outputs": [],
   "source": [
    "from toolsets.feature_utilities import find_istd_info_msdial"
   ],
   "metadata": {
    "collapsed": false,
    "pycharm": {
     "name": "#%%\n"
    }
   }
  },
  {
   "cell_type": "code",
   "execution_count": 287,
   "outputs": [],
   "source": [
    "def find_istd_rts(istd_seed, alignment):\n",
    "    istd_seed_return =istd_seed.copy()\n",
    "    alignment.sort_values(by = 'Average Mz', ascending=True, inplace = True)\n",
    "    rt_matched = []\n",
    "    for index, row in istd_seed.iterrows():\n",
    "        matched_temp = search_feature_msdial(alignment, pmz = row['precursor_mz'], rt = row['rt_apex'], pmz_sorted=True, rt_error=15)\n",
    "        if len(matched_temp)==1:\n",
    "            rt_matched.append(matched_temp.iloc[0]['Average Rt(min)'])\n",
    "        else:\n",
    "            rt_matched.append(np.NAN)\n",
    "    istd_seed_return.insert(4, 'rt_observed', rt_matched)\n",
    "    return(istd_seed_return)\n",
    "\n"
   ],
   "metadata": {
    "collapsed": false,
    "pycharm": {
     "name": "#%%\n"
    }
   }
  },
  {
   "cell_type": "code",
   "execution_count": 288,
   "outputs": [],
   "source": [
    "istd_612 = find_istd_rts(istd_seed, _alignment_df_612)"
   ],
   "metadata": {
    "collapsed": false,
    "pycharm": {
     "name": "#%%\n"
    }
   }
  },
  {
   "cell_type": "code",
   "execution_count": 291,
   "outputs": [],
   "source": [
    "istd_ie = find_istd_rts(istd_seed, IE_alignment)"
   ],
   "metadata": {
    "collapsed": false,
    "pycharm": {
     "name": "#%%\n"
    }
   }
  },
  {
   "cell_type": "code",
   "execution_count": 336,
   "outputs": [],
   "source": [
    "def build_model(istd_df):\n",
    "    rt_sug = np.array(istd_df['rt_apex'])\n",
    "    rt_obv = np.array(istd_df['rt_observed'])\n",
    "    rt_sug =  rt_sug[np.logical_not(np.isnan(rt_obv))]\n",
    "    rt_obv =  rt_obv[np.logical_not(np.isnan(rt_obv))]\n",
    "    offset = np.array([x-y for x,y in zip(rt_sug, rt_obv)])#use predicted_offset+obv to get suggested rt\n",
    "    rf = RandomForestRegressor()\n",
    "    rf.fit(rt_obv.reshape(-1, 1), offset)\n",
    "    return(rf)"
   ],
   "metadata": {
    "collapsed": false,
    "pycharm": {
     "name": "#%%\n"
    }
   }
  },
  {
   "cell_type": "code",
   "execution_count": 342,
   "outputs": [],
   "source": [
    "def rt_correction(istd_df, alignment):\n",
    "    rf = build_model(istd_df)\n",
    "    predicted_offset = rf.predict(np.array(alignment['Average Rt(min)']).reshape(-1, 1))\n",
    "    alignment['rt_corrected']=[x+y for x, y in zip(alignment['Average Rt(min)'], predicted_offset)]\n",
    "    return alignment"
   ],
   "metadata": {
    "collapsed": false,
    "pycharm": {
     "name": "#%%\n"
    }
   }
  },
  {
   "cell_type": "code",
   "execution_count": null,
   "outputs": [],
   "source": [
    "_alignment_df_612"
   ],
   "metadata": {
    "collapsed": false,
    "pycharm": {
     "name": "#%%\n"
    }
   }
  },
  {
   "cell_type": "code",
   "execution_count": 344,
   "outputs": [],
   "source": [
    "IE_alignment = rt_correction(istd_ie, IE_alignment)"
   ],
   "metadata": {
    "collapsed": false,
    "pycharm": {
     "name": "#%%\n"
    }
   }
  },
  {
   "cell_type": "code",
   "execution_count": 346,
   "outputs": [],
   "source": [
    "IE_msms = IE_alignment[IE_alignment['MS/MS assigned']==True]"
   ],
   "metadata": {
    "collapsed": false,
    "pycharm": {
     "name": "#%%\n"
    }
   }
  },
  {
   "cell_type": "code",
   "execution_count": 411,
   "outputs": [],
   "source": [
    "reference_msms = []\n",
    "df = pd.DataFrame()\n",
    "_alignment_df_612.sort_values(by = 'Average Mz', ascending=True, inplace=True)\n",
    "for index, row in IE_msms.iterrows():\n",
    "    matched = search_feature_msdial(_alignment_df_612, pmz = row['Average Mz'], rt=row['rt_corrected'], mass_error=0.005, rt_error=3, pmz_sorted=True)\n",
    "    if len(matched)==1:\n",
    "        df = pd.concat([df, pd.DataFrame([matched.iloc[0]])], ignore_index=True)\n",
    "        reference_msms.append(so.convert_msdial_to_string(row['MS/MS spectrum']) )\n",
    "df['msms']=reference_msms"
   ],
   "metadata": {
    "collapsed": false,
    "pycharm": {
     "name": "#%%\n"
    }
   }
  },
  {
   "cell_type": "code",
   "execution_count": 6,
   "outputs": [],
   "source": [
    "mz_rt_lib = pd.read_csv(os.path.join(master_dir, '5m_hilic_orbitrap_beh_amide_negative_BINS.csv'))"
   ],
   "metadata": {
    "collapsed": false,
    "pycharm": {
     "name": "#%%\n"
    }
   }
  },
  {
   "cell_type": "code",
   "execution_count": 366,
   "outputs": [],
   "source": [
    "mz_rt_lib.sort_values(by = 'precursor_mass', ascending=True, inplace=True)"
   ],
   "metadata": {
    "collapsed": false,
    "pycharm": {
     "name": "#%%\n"
    }
   }
  },
  {
   "cell_type": "code",
   "execution_count": null,
   "outputs": [],
   "source": [],
   "metadata": {
    "collapsed": false,
    "pycharm": {
     "name": "#%%\n"
    }
   }
  },
  {
   "cell_type": "code",
   "execution_count": 7,
   "outputs": [],
   "source": [
    "mz_rt_lib=mz_rt_lib[~mz_rt_lib['smiles'].isna()]"
   ],
   "metadata": {
    "collapsed": false,
    "pycharm": {
     "name": "#%%\n"
    }
   }
  },
  {
   "cell_type": "code",
   "execution_count": 8,
   "outputs": [
    {
     "data": {
      "text/plain": "(876, 45)"
     },
     "execution_count": 8,
     "metadata": {},
     "output_type": "execute_result"
    }
   ],
   "source": [
    "mz_rt_lib.shape"
   ],
   "metadata": {
    "collapsed": false,
    "pycharm": {
     "name": "#%%\n"
    }
   }
  },
  {
   "cell_type": "code",
   "execution_count": 414,
   "outputs": [],
   "source": [
    "matched_smiles = []\n",
    "matched_adduct = []\n",
    "matched_spectrum = []\n",
    "for index, row in df.iterrows():\n",
    "    pmz_matched = quick_search_sorted(mz_rt_lib, 'precursor_mass', row['Average Mz']-0.005, row['Average Mz']+0.005)\n",
    "    pmz_rt_matched = quick_search_values(pmz_matched, 'retention_index', row['retention_index']-1.5, row['retention_index']+1.5)\n",
    "    if len(pmz_rt_matched)>0:\n",
    "        pmz_rt_matched['rt_offset']=abs(pmz_rt_matched['retention_index']-row['retention_index'])\n",
    "        pmz_rt_matched.sort_values(by = 'rt_offset', ascending=True, inplace = True)\n",
    "        matched_smiles.append(pmz_rt_matched.iloc[0]['smiles'])\n",
    "        matched_adduct.append(pmz_rt_matched.iloc[0]['preferred_adduct'])\n",
    "        matched_spectrum.append(so.convert_msdial_to_string(pmz_rt_matched.iloc[0]['spectrum']))\n",
    "    else:\n",
    "        matched_smiles.append(np.NAN)\n",
    "        matched_adduct.append(np.NAN)\n",
    "        matched_spectrum.append(np.NAN)\n",
    "df['matched_smiles']=matched_smiles\n",
    "df['matched_adduct']=matched_adduct\n",
    "df['matched_spectrum']=matched_spectrum"
   ],
   "metadata": {
    "collapsed": false,
    "pycharm": {
     "name": "#%%\n"
    }
   }
  },
  {
   "cell_type": "code",
   "execution_count": 417,
   "outputs": [
    {
     "data": {
      "text/plain": "354"
     },
     "execution_count": 417,
     "metadata": {},
     "output_type": "execute_result"
    }
   ],
   "source": [
    "df['matched_spectrum'].isna().sum()"
   ],
   "metadata": {
    "collapsed": false,
    "pycharm": {
     "name": "#%%\n"
    }
   }
  },
  {
   "cell_type": "code",
   "execution_count": 10,
   "outputs": [],
   "source": [
    "from toolsets.denoising_related_functions import denoise_h\n",
    "reference_db_sorted=pd.read_csv('db/formulaDB_sorted.csv')"
   ],
   "metadata": {
    "collapsed": false,
    "pycharm": {
     "name": "#%%\n"
    }
   }
  },
  {
   "cell_type": "code",
   "execution_count": 476,
   "outputs": [
    {
     "name": "stderr",
     "output_type": "stream",
     "text": [
      "100%|██████████| 398/398 [00:01<00:00, 265.39it/s]\n"
     ]
    }
   ],
   "source": [
    "entropy_raw = []\n",
    "msms_denoised = []\n",
    "entropy_denoised = []\n",
    "for index, row in tqdm(df.iterrows(), total = len(df)):\n",
    "    if row['matched_spectrum']==row['matched_spectrum']:\n",
    "        entropy_raw.append(so.entropy_identity(row['msms'], row['matched_spectrum'], pmz = row['Average Mz']))\n",
    "        denoised_result = denoise_h(row['msms'], row['matched_smiles'],row['matched_adduct'], parent_ion=row['Average Mz'],reference_db_sorted=reference_db_sorted,mass_error=0.01)\n",
    "        msms_denoised.append(denoised_result[0])\n",
    "        if denoised_result[0]==denoised_result[0]:\n",
    "            entropy_denoised.append(so.entropy_identity(denoised_result[0], row['matched_spectrum'], pmz = row['Average Mz']))\n",
    "        else:\n",
    "            entropy_denoised.append(np.NAN)"
   ],
   "metadata": {
    "collapsed": false,
    "pycharm": {
     "name": "#%%\n"
    }
   }
  },
  {
   "cell_type": "code",
   "execution_count": 11,
   "outputs": [
    {
     "name": "stderr",
     "output_type": "stream",
     "text": [
      "100%|██████████| 876/876 [00:58<00:00, 14.86it/s]\n"
     ]
    }
   ],
   "source": [
    "msms_d = []\n",
    "ei = []\n",
    "for index, row in tqdm(mz_rt_lib.iterrows(), total = len(mz_rt_lib)):\n",
    "    denoised = denoise_h(so.convert_msdial_to_string(row['spectrum']) ,row['smiles'], row['preferred_adduct'], parent_ion= row['precursor_mass'], reference_db_sorted=reference_db_sorted)\n",
    "    ei.append(denoised[1])"
   ],
   "metadata": {
    "collapsed": false,
    "pycharm": {
     "name": "#%%\n"
    }
   }
  },
  {
   "cell_type": "code",
   "execution_count": 13,
   "outputs": [
    {
     "data": {
      "text/plain": "count    876.000000\nmean      81.614346\nstd       24.121513\nmin        0.000000\n25%       75.255408\n50%       92.478280\n75%       97.735555\nmax      100.000000\ndtype: float64"
     },
     "execution_count": 13,
     "metadata": {},
     "output_type": "execute_result"
    }
   ],
   "source": [
    "pd.Series(ei).describe()"
   ],
   "metadata": {
    "collapsed": false,
    "pycharm": {
     "name": "#%%\n"
    }
   }
  },
  {
   "cell_type": "code",
   "execution_count": 15,
   "outputs": [
    {
     "data": {
      "text/plain": "380"
     },
     "execution_count": 15,
     "metadata": {},
     "output_type": "execute_result"
    }
   ],
   "source": [
    "np.sum(np.array(ei)<90)"
   ],
   "metadata": {
    "collapsed": false,
    "pycharm": {
     "name": "#%%\n"
    }
   }
  },
  {
   "cell_type": "code",
   "execution_count": 16,
   "outputs": [
    {
     "data": {
      "text/plain": "0.4337899543378995"
     },
     "execution_count": 16,
     "metadata": {},
     "output_type": "execute_result"
    }
   ],
   "source": [
    "380/876"
   ],
   "metadata": {
    "collapsed": false,
    "pycharm": {
     "name": "#%%\n"
    }
   }
  },
  {
   "cell_type": "code",
   "execution_count": 458,
   "outputs": [],
   "source": [
    "from toolsets.constants import single_charged_adduct_mass"
   ],
   "metadata": {
    "collapsed": false,
    "pycharm": {
     "name": "#%%\n"
    }
   }
  },
  {
   "cell_type": "code",
   "execution_count": 475,
   "outputs": [
    {
     "data": {
      "text/plain": "count    876.000000\nmean      81.614346\nstd       24.121513\nmin        0.000000\n25%       75.255408\n50%       92.478280\n75%       97.735555\nmax      100.000000\nName: ei, dtype: float64"
     },
     "execution_count": 475,
     "metadata": {},
     "output_type": "execute_result"
    }
   ],
   "source": [
    "mz_rt_lib['ei'].describe()"
   ],
   "metadata": {
    "collapsed": false,
    "pycharm": {
     "name": "#%%\n"
    }
   }
  },
  {
   "cell_type": "code",
   "execution_count": 482,
   "outputs": [
    {
     "data": {
      "text/plain": "44"
     },
     "execution_count": 482,
     "metadata": {},
     "output_type": "execute_result"
    }
   ],
   "source": [
    "len(entropy_denoised)"
   ],
   "metadata": {
    "collapsed": false,
    "pycharm": {
     "name": "#%%\n"
    }
   }
  },
  {
   "cell_type": "code",
   "execution_count": 455,
   "outputs": [
    {
     "data": {
      "text/plain": "171.9468373"
     },
     "execution_count": 455,
     "metadata": {},
     "output_type": "execute_result"
    }
   ],
   "source": [
    "mz_rt_lib.loc[202]['precursor_mass']"
   ],
   "metadata": {
    "collapsed": false,
    "pycharm": {
     "name": "#%%\n"
    }
   }
  },
  {
   "cell_type": "code",
   "execution_count": 456,
   "outputs": [
    {
     "data": {
      "text/plain": "43.989454300000006"
     },
     "execution_count": 456,
     "metadata": {},
     "output_type": "execute_result"
    }
   ],
   "source": [
    "171.9468373-127.957383"
   ],
   "metadata": {
    "collapsed": false,
    "pycharm": {
     "name": "#%%\n"
    }
   }
  },
  {
   "cell_type": "code",
   "execution_count": 452,
   "outputs": [],
   "source": [
    "from toolsets.spectra_plotter import ms2_plot"
   ],
   "metadata": {
    "collapsed": false,
    "pycharm": {
     "name": "#%%\n"
    }
   }
  },
  {
   "cell_type": "code",
   "execution_count": 437,
   "outputs": [],
   "source": [
    "count = 0\n",
    "for i in range(0, len(entropy_raw)):\n",
    "    if entropy_raw[i]<0.75:\n",
    "        if entropy_denoised[i]==entropy_denoised[i]:\n",
    "            if entropy_denoised[i]>0.75:\n",
    "                count = count+1\n",
    "\n"
   ],
   "metadata": {
    "collapsed": false,
    "pycharm": {
     "name": "#%%\n"
    }
   }
  },
  {
   "cell_type": "code",
   "execution_count": 438,
   "outputs": [
    {
     "data": {
      "text/plain": "1"
     },
     "execution_count": 438,
     "metadata": {},
     "output_type": "execute_result"
    }
   ],
   "source": [
    "count"
   ],
   "metadata": {
    "collapsed": false,
    "pycharm": {
     "name": "#%%\n"
    }
   }
  },
  {
   "cell_type": "code",
   "execution_count": 439,
   "outputs": [],
   "source": [
    "diff = [x-y for x, y in zip(entropy_denoised,entropy_raw) if x==x]"
   ],
   "metadata": {
    "collapsed": false,
    "pycharm": {
     "name": "#%%\n"
    }
   }
  },
  {
   "cell_type": "code",
   "execution_count": 441,
   "outputs": [
    {
     "data": {
      "text/plain": "23"
     },
     "execution_count": 441,
     "metadata": {},
     "output_type": "execute_result"
    }
   ],
   "source": [
    "np.argmin(diff)"
   ],
   "metadata": {
    "collapsed": false,
    "pycharm": {
     "name": "#%%\n"
    }
   }
  },
  {
   "cell_type": "code",
   "execution_count": 442,
   "outputs": [
    {
     "data": {
      "text/plain": "Alignment ID                                                      118\nAverage Rt(min)                                                 0.247\nAverage Mz                                                  112.98551\nMetabolite name                                               Unknown\nAdduct type                                                    [M-H]-\n                                          ...                        \nmsms                40.01939\\t57714\\n44.99824\\t145148\\n49.24388\\t2...\nretention_index                                               15.3552\nmatched_smiles                                                    NaN\nmatched_adduct                                                    NaN\nmatched_spectrum                                                  NaN\nName: 23, Length: 85, dtype: object"
     },
     "execution_count": 442,
     "metadata": {},
     "output_type": "execute_result"
    }
   ],
   "source": [
    "df.iloc[23]"
   ],
   "metadata": {
    "collapsed": false,
    "pycharm": {
     "name": "#%%\n"
    }
   }
  },
  {
   "cell_type": "code",
   "execution_count": 480,
   "outputs": [
    {
     "data": {
      "text/plain": "<matplotlib.legend.Legend at 0x2884ff160>"
     },
     "execution_count": 480,
     "metadata": {},
     "output_type": "execute_result"
    },
    {
     "data": {
      "text/plain": "<Figure size 600x500 with 1 Axes>",
      "image/png": "[encoded data removed]"
     },
     "metadata": {},
     "output_type": "display_data"
    }
   ],
   "source": [
    "import matplotlib.pyplot as plt\n",
    "import seaborn as sns\n",
    "fig = plt.figure(figsize = (6, 5))#43\n",
    "ax = fig.add_subplot()\n",
    "sns.kdeplot(entropy_raw, label = 'spectral similarity (raw)', linewidth=2.5)\n",
    "sns.kdeplot(entropy_denoised, label = 'spectral similarity (denoised)', linewidth=2.5)\n",
    "# sns.kdeplot(diff, label = 'spectral similarity (denoised)', linewidth=2.5)\n",
    "plt.legend()"
   ],
   "metadata": {
    "collapsed": false,
    "pycharm": {
     "name": "#%%\n"
    }
   }
  },
  {
   "cell_type": "markdown",
   "source": [],
   "metadata": {
    "collapsed": false,
    "pycharm": {
     "name": "#%% md\n"
    }
   }
  }
 ],
 "metadata": {
  "kernelspec": {
   "name": "alphapept_env",
   "language": "python",
   "display_name": "alphapept_env"
  },
  "language_info": {
   "codemirror_mode": {
    "name": "ipython",
    "version": 2
   },
   "file_extension": ".py",
   "mimetype": "text/x-python",
   "name": "python",
   "nbconvert_exporter": "python",
   "pygments_lexer": "ipython2",
   "version": "2.7.6"
  }
 },
 "nbformat": 4,
 "nbformat_minor": 0
}