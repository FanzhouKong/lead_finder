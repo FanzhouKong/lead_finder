{
 "cells": [
  {
   "cell_type": "code",
   "execution_count": 1,
   "metadata": {
    "collapsed": true,
    "ExecuteTime": {
     "end_time": "2023-08-22T17:04:35.309287Z",
     "start_time": "2023-08-22T17:04:32.738822Z"
    }
   },
   "outputs": [],
   "source": [
    "import os\n",
    "import sys\n",
    "import numpy as np\n",
    "import pandas as pd\n",
    "%load_ext autoreload\n",
    "%autoreload 2\n",
    "import toolsets.spectra_operations as so\n",
    "from toolsets.file_io import get_file_list, readin_peak_list, prepare_sample_list\n",
    "from toolsets.ff_droup import process_mzml, get_EIC_list, EIC\n",
    "from toolsets.feature_alignment import initilize_pmz_rt_list, find_feature, find_istd, clean_bad_features\n",
    "from feature_normalization.rt_normalization import rt_normalization\n",
    "from tqdm import tqdm\n",
    "import seaborn as sns\n",
    "import matplotlib.pyplot as plt\n",
    "# from toolsets.feature_alignment import\n",
    "from toolsets.search import quick_search_values, string_search\n",
    "# from feature_finding.feature_finding_alphapept import find_feature\n",
    "import scipy.stats"
   ]
  },
  {
   "cell_type": "code",
   "execution_count": 97,
   "outputs": [],
   "source": [
    "def calculate_correlation(alignment_result, bio_data, mode = 'P'):\n",
    "    if mode =='P':\n",
    "        mix_name = [x+'_P' for x in bio_data['mix']]\n",
    "    elif mode == 'N':\n",
    "        mix_name = [x+'_N' for x in bio_data['mix']]\n",
    "    peak_height = alignment_result[mix_name]\n",
    "    correlation = []\n",
    "    intensity_logged = []\n",
    "    for index, row in peak_height.iterrows():\n",
    "        correlation.append(scipy.stats.pearsonr(row.values, bio_data['activity'])[0])\n",
    "        intensity_logged.append(np.log10(row.values.max()))\n",
    "        # break\n",
    "    alignment_result.insert(3, 'correlation', correlation)\n",
    "    alignment_result.insert(4, 'log10_intensity', intensity_logged)\n",
    "    return alignment_result, mix_name\n",
    "def calculate_score(alignment_result_input,active_fraction, mix_name):\n",
    "\n",
    "    alignment_result = alignment_result_input.copy()\n",
    "    score = []\n",
    "    correlation_max = alignment_result['correlation'].max()\n",
    "    intensity_max = alignment_result['log10_intensity'].max()\n",
    "    unique_label = []\n",
    "    for index, row in alignment_result.iterrows():\n",
    "        score.append(row['correlation']/correlation_max*row['log10_intensity']/intensity_max)\n",
    "        if row['Spectrum reference file name']==active_fraction and row[mix_name].max()==row[active_fraction]:\n",
    "            unique_label.append(True)\n",
    "        else:\n",
    "            unique_label.append(False)\n",
    "    score = [x/np.max(score)*100 for x in score]\n",
    "    alignment_result.insert(3, 'score', score)\n",
    "    alignment_result.insert(4, 'if_unique', unique_label)\n",
    "    alignment_result.sort_values(by = 'score', ascending=False, inplace=True)\n",
    "    return(alignment_result)\n",
    "def save_files(alignment_result_with_score, result_dir, n = 50):\n",
    "    alignment_result_with_score.to_csv(os.path.join(result_dir, 'all.csv'), index = False)\n",
    "    top_correlated = alignment_result_with_score.sort_values(by = 'score', ascending=False)\n",
    "    top_correlated = top_correlated.iloc[0:n]\n",
    "    top_correlated.to_csv(os.path.join(result_dir, 'top50_correlated.csv'), index = False)\n",
    "    unique_compounds = alignment_result_with_score[alignment_result_with_score['if_unique']==True]\n",
    "    unique_compounds.sort_values(by = 'log10_intensity', ascending=False,inplace=True )\n",
    "    unique_compounds.iloc[0:n].to_csv(os.path.join(result_dir, 'top50_unique.csv'), index = False)\n",
    "    joint_compounds = unique_compounds.sort_values(by = 'score', ascending=False)\n",
    "    joint_compounds.iloc[0:n].to_csv(os.path.join(result_dir, 'joint50.csv'), index = False)"
   ],
   "metadata": {
    "collapsed": false,
    "ExecuteTime": {
     "end_time": "2023-08-22T04:47:00.314659Z",
     "start_time": "2023-08-22T04:47:00.271274Z"
    }
   }
  },
  {
   "cell_type": "code",
   "execution_count": 98,
   "outputs": [],
   "source": [
    "def batch_processing(alignment_result_path, bio_data_path, result_dir, active_fraction, mode = 'P'):\n",
    "    if mode =='P':\n",
    "        active_fraction = active_fraction+'_P'\n",
    "    elif mode == 'N':\n",
    "        active_fraction = active_fraction+'_N'\n",
    "    alignment_result = readin_peak_list(alignment_result_path, msial=True)\n",
    "    bio_data = pd.read_csv(bio_data_path)\n",
    "    alignment_result, mix_name = calculate_correlation(alignment_result, bio_data, mode = mode)\n",
    "    # return (alignment_result)\n",
    "    alignment_result_with_score = calculate_score(alignment_result, active_fraction = active_fraction, mix_name = mix_name)\n",
    "    save_files(alignment_result_with_score, result_dir)"
   ],
   "metadata": {
    "collapsed": false,
    "ExecuteTime": {
     "end_time": "2023-08-22T04:47:08.219434Z",
     "start_time": "2023-08-22T04:47:08.171925Z"
    }
   }
  },
  {
   "cell_type": "markdown",
   "source": [
    "# 521X"
   ],
   "metadata": {
    "collapsed": false
   }
  },
  {
   "cell_type": "code",
   "execution_count": 72,
   "outputs": [],
   "source": [
    "# alignment_result = readin_peak_list('/Volumes/Natural Product Chemistry/Working Space/Fanzhou/Kelleope/521X/alignment_result/pos/Height_0_20238211528.txt', msial=True)\n",
    "# bio_data = pd.read_csv('/Volumes/Natural Product Chemistry/Working Space/Fanzhou/Kelleope/521X/bioactivity/bioacitivity_521X.csv')\n",
    "# result_dir = '/Volumes/Natural Product Chemistry/Working Space/Fanzhou/Kelleope/521X/result/result_pos'\n",
    "# active_fraction = '521_X8_P'"
   ],
   "metadata": {
    "collapsed": false,
    "ExecuteTime": {
     "end_time": "2023-08-22T04:29:01.890208Z",
     "start_time": "2023-08-22T04:28:54.746369Z"
    }
   }
  },
  {
   "cell_type": "markdown",
   "source": [
    "# 1239 CX"
   ],
   "metadata": {
    "collapsed": false
   }
  },
  {
   "cell_type": "code",
   "execution_count": 99,
   "outputs": [],
   "source": [
    "alignment_result_path = '/Volumes/Natural Product Chemistry/Working Space/Fanzhou/Kelleope/1239CX/alignment_result/pos/Height_0_20238211545.txt'\n",
    "bio_data_path = '/Volumes/Natural Product Chemistry/Working Space/Fanzhou/Kelleope/1239CX/bioactivity/bioacitivity_1239CX.csv'\n",
    "result_dir = '/Volumes/Natural Product Chemistry/Working Space/Fanzhou/Kelleope/1239CX/result/pos'\n",
    "active_fraction = '1239_CX'\n",
    "batch_processing(alignment_result_path = alignment_result_path,\n",
    "                 bio_data_path=bio_data_path,\n",
    "                 result_dir=result_dir,\n",
    "                 active_fraction=active_fraction)"
   ],
   "metadata": {
    "collapsed": false,
    "ExecuteTime": {
     "end_time": "2023-08-22T04:47:36.407133Z",
     "start_time": "2023-08-22T04:47:13.680202Z"
    }
   }
  },
  {
   "cell_type": "markdown",
   "source": [
    "# 1239X"
   ],
   "metadata": {
    "collapsed": false
   }
  },
  {
   "cell_type": "code",
   "execution_count": 103,
   "outputs": [],
   "source": [
    "alignment_result_path = '/Volumes/Natural Product Chemistry/Working Space/Fanzhou/Kelleope/1239X/alignment_result/pos/Height_0_20238211657.txt'\n",
    "bio_data_path = '/Volumes/Natural Product Chemistry/Working Space/Fanzhou/Kelleope/1239X/bioactivity/bioacitivity_1239X.csv'\n",
    "result_dir = '/Volumes/Natural Product Chemistry/Working Space/Fanzhou/Kelleope/1239X/result/pos'\n",
    "active_fraction = '1239_X8'\n",
    "batch_processing(alignment_result_path = alignment_result_path,\n",
    "                 bio_data_path=bio_data_path,\n",
    "                 result_dir=result_dir,\n",
    "                 active_fraction=active_fraction)"
   ],
   "metadata": {
    "collapsed": false,
    "ExecuteTime": {
     "end_time": "2023-08-22T04:53:19.102074Z",
     "start_time": "2023-08-22T04:52:23.940067Z"
    }
   }
  },
  {
   "cell_type": "markdown",
   "source": [
    "# 1782X"
   ],
   "metadata": {
    "collapsed": false
   }
  },
  {
   "cell_type": "code",
   "execution_count": 104,
   "outputs": [],
   "source": [
    "alignment_result_path = '/Volumes/Natural Product Chemistry/Working Space/Fanzhou/Kelleope/1782X/alignment_result/pos/Height_0_20238211747.txt'\n",
    "bio_data_path = '/Volumes/Natural Product Chemistry/Working Space/Fanzhou/Kelleope/1782X/bioactivity/bioacitivity_1782X.csv'\n",
    "result_dir = '/Volumes/Natural Product Chemistry/Working Space/Fanzhou/Kelleope/1782X/result/pos'\n",
    "active_fraction = '1782_X8'\n",
    "batch_processing(alignment_result_path = alignment_result_path,\n",
    "                 bio_data_path=bio_data_path,\n",
    "                 result_dir=result_dir,\n",
    "                 active_fraction=active_fraction)"
   ],
   "metadata": {
    "collapsed": false,
    "ExecuteTime": {
     "end_time": "2023-08-22T04:57:28.415814Z",
     "start_time": "2023-08-22T04:55:09.549717Z"
    }
   }
  },
  {
   "cell_type": "markdown",
   "source": [
    "# exporting to sirius"
   ],
   "metadata": {
    "collapsed": false
   }
  },
  {
   "cell_type": "code",
   "execution_count": 153,
   "outputs": [],
   "source": [
    "from toolsets.spectra_operations import convert_msdial_to_string\n",
    "def export_mgf_shortlist(row, output_dir, mode = 'P'):\n",
    "\n",
    "    entry = ''\n",
    "    if mode=='P':\n",
    "        charge = '1+'\n",
    "    else:\n",
    "        charge = '1-'\n",
    "    pep_mass =row['Average Mz']\n",
    "    # mass_1, intensity_1 = so.break_spectra(row['ms1'])\n",
    "    output = os.path.join(output_dir, str(row['rank'])+'_'+str(np.round(row['Average Mz'],3))+'_'+\n",
    "                          str(np.round(row['Average Rt(min)'],2))+'.mgf')\n",
    "    # ms1\n",
    "    entry = entry + 'BEGIN IONS'+'\\n'\n",
    "    entry = entry + 'PEPMASS='+str(pep_mass)+'\\n'\n",
    "    entry = entry + 'MSLEVEL=1'+'\\n'\n",
    "    entry = entry+'CHARGE=' + charge +'\\n'\n",
    "    entry = entry+(so.convert_msdial_to_string(row['MS1 isotopic spectrum']))+'\\n'\n",
    "    entry = entry + 'END IONS'+'\\n'\n",
    "\n",
    "    entry = entry +'\\n'\n",
    "    entry = entry + 'BEGIN IONS'+'\\n'\n",
    "    entry = entry + 'PEPMASS='+str(pep_mass)+'\\n'\n",
    "    entry = entry + 'MSLEVEL=2'+'\\n'\n",
    "    entry = entry+'CHARGE=' + charge +'\\n'\n",
    "    entry = entry+(so.convert_msdial_to_string(row['MS/MS spectrum']))+'\\n'\n",
    "    entry = entry + 'END IONS'+'\\n'\n",
    "\n",
    "\n",
    "    text_file = open(output, \"w\",encoding='utf-8')\n",
    "    text_file.write(entry)\n",
    "    text_file.close()\n",
    "def export_df(short_list, mgf_dir, figure_dir, bio_data, mode = 'P'):\n",
    "    short_list.insert(0, 'rank', np.arange(len(short_list)))\n",
    "    for index, row in short_list.iterrows():\n",
    "        if row['MS/MS assigned']==True:\n",
    "            export_mgf_shortlist(row, output_dir=mgf_dir, mode = mode)\n",
    "            draw_figure(row, bio_data, save_path=figure_dir)\n"
   ],
   "metadata": {
    "collapsed": false,
    "ExecuteTime": {
     "end_time": "2023-08-22T05:59:46.945324Z",
     "start_time": "2023-08-22T05:59:46.904006Z"
    }
   }
  },
  {
   "cell_type": "code",
   "execution_count": 157,
   "outputs": [],
   "source": [
    "def draw_figure(row, bio_data, save_path = None):\n",
    "    mix_names = [x+'_P' for x in bio_data['mix']]\n",
    "    peak_height = row[mix_names]\n",
    "    fig, axs = plt.subplots(figsize=(10, 6))\n",
    "    sns.lineplot(x=bio_data['mix'],\n",
    "                 y=[x / bio_data['activity'].max() for x in bio_data['activity']],\n",
    "                 color='blue', label='bioactivity')\n",
    "    sns.lineplot(x=bio_data['mix'], y=[x / peak_height.max() for x in\n",
    "                                       peak_height], color='orange', marker='D',\n",
    "                 label='peak_intensity')\n",
    "    plt.legend(loc='upper right')\n",
    "    # plt.legend()\n",
    "    # plt.vlines(x = 7, ymin = 0, ymax = 1, colors='green')\n",
    "    # plt.vlines(x = 10, ymin = 0, ymax = 1,colors='green')\n",
    "    plt.xticks(rotation=90)\n",
    "    axs.grid(False)\n",
    "    if save_path is None:\n",
    "        plt.show()\n",
    "    else:\n",
    "        plt.savefig(os.path.join(save_path, str(row['rank'])+'_'+str(np.round(row['Average Mz'],3))+'_'+\n",
    "                                 str(np.round(row['Average Rt(min)'],2))+'.png'))\n",
    "        plt.close()"
   ],
   "metadata": {
    "collapsed": false,
    "ExecuteTime": {
     "end_time": "2023-08-22T06:03:26.121596Z",
     "start_time": "2023-08-22T06:03:26.084900Z"
    }
   }
  },
  {
   "cell_type": "code",
   "execution_count": 158,
   "outputs": [],
   "source": [
    "short_list_1782x = pd.read_csv('/Volumes/Natural Product Chemistry/Working Space/Fanzhou/Kelleope/1782X/result/pos/joint50.csv')\n",
    "mgf_dir_1782x = '/Volumes/Natural Product Chemistry/Working Space/Fanzhou/Kelleope/1782X/sirius/mgf_pos'\n",
    "bio_data_1782x = pd.read_csv('/Volumes/Natural Product Chemistry/Working Space/Fanzhou/Kelleope/1782X/bioactivity/bioacitivity_1782X.csv')\n",
    "figure_dir_1782x = '/Volumes/Natural Product Chemistry/Working Space/Fanzhou/Kelleope/1782X/sirius/figures_pos'\n",
    "export_df(short_list_1782x, mgf_dir=mgf_dir_1782x, figure_dir=figure_dir_1782x, bio_data=bio_data_1782x)"
   ],
   "metadata": {
    "collapsed": false,
    "ExecuteTime": {
     "end_time": "2023-08-22T06:04:22.445532Z",
     "start_time": "2023-08-22T06:03:35.097599Z"
    }
   }
  },
  {
   "cell_type": "code",
   "execution_count": 159,
   "outputs": [],
   "source": [
    "short_list_521x = pd.read_csv('/Volumes/Natural Product Chemistry/Working Space/Fanzhou/Kelleope/521X/result/pos/joint50.csv')\n",
    "mgf_dir_521x = '/Volumes/Natural Product Chemistry/Working Space/Fanzhou/Kelleope/521X/sirius/mgf_pos'\n",
    "bio_data_521x = pd.read_csv('/Volumes/Natural Product Chemistry/Working Space/Fanzhou/Kelleope/521X/bioactivity/bioacitivity_521X.csv')\n",
    "figure_dir_521x = '/Volumes/Natural Product Chemistry/Working Space/Fanzhou/Kelleope/521X/sirius/figures_pos'\n",
    "export_df(short_list_521x, mgf_dir=mgf_dir_521x, figure_dir=figure_dir_521x, bio_data=bio_data_521x)\n"
   ],
   "metadata": {
    "collapsed": false,
    "ExecuteTime": {
     "end_time": "2023-08-22T06:05:50.790731Z",
     "start_time": "2023-08-22T06:05:28.872266Z"
    }
   }
  },
  {
   "cell_type": "code",
   "execution_count": 3,
   "outputs": [],
   "source": [
    "short_list_1239x = pd.read_csv('/Volumes/Natural Product Chemistry/Working Space/Fanzhou/Kelleope/1239X/result/pos/joint50.csv')\n",
    "# mgf_dir_1239x = '/Volumes/Natural Product Chemistry/Working Space/Fanzhou/Kelleope/1239x/sirius/mgf_pos'\n",
    "# bio_data_1239x = pd.read_csv('/Volumes/Natural Product Chemistry/Working Space/Fanzhou/Kelleope/1239X/bioactivity/bioacitivity_1239X.csv')\n",
    "# figure_dir_1239x = '/Volumes/Natural Product Chemistry/Working Space/Fanzhou/Kelleope/1239X/sirius/figures_pos'\n",
    "# export_df(short_list_1239x, mgf_dir=mgf_dir_1239x, figure_dir=figure_dir_1239x, bio_data=bio_data_1239x)"
   ],
   "metadata": {
    "collapsed": false,
    "ExecuteTime": {
     "end_time": "2023-08-22T17:05:02.195736Z",
     "start_time": "2023-08-22T17:05:01.121207Z"
    }
   }
  },
  {
   "cell_type": "code",
   "execution_count": 26,
   "outputs": [],
   "source": [
    "from toolsets.spectra_plotter import head_to_tail_plot, ms2_plot"
   ],
   "metadata": {
    "collapsed": false,
    "ExecuteTime": {
     "end_time": "2023-08-22T17:25:17.304893Z",
     "start_time": "2023-08-22T17:25:17.255833Z"
    }
   }
  },
  {
   "cell_type": "code",
   "execution_count": 27,
   "outputs": [
    {
     "data": {
      "text/plain": "<module 'matplotlib.pyplot' from '/Users/fanzhou.kong/miniconda3/envs/alphapept_env/lib/python3.8/site-packages/matplotlib/pyplot.py'>"
     },
     "execution_count": 27,
     "metadata": {},
     "output_type": "execute_result"
    },
    {
     "data": {
      "text/plain": "<Figure size 400x300 with 1 Axes>",
      "image/png": "[encoded data removed]"
     },
     "metadata": {},
     "output_type": "display_data"
    }
   ],
   "source": [
    "ms2_plot(so.convert_msdial_to_string(short_list_1239x.iloc[0]['MS/MS spectrum']))"
   ],
   "metadata": {
    "collapsed": false,
    "ExecuteTime": {
     "end_time": "2023-08-22T17:25:26.710407Z",
     "start_time": "2023-08-22T17:25:26.500301Z"
    }
   }
  },
  {
   "cell_type": "code",
   "execution_count": 9,
   "outputs": [],
   "source": [
    "mzml_dir_1239x ='/Volumes/Natural Product Chemistry/Working Space/Fanzhou/Kelleope/1239X/mzml/pos'"
   ],
   "metadata": {
    "collapsed": false,
    "ExecuteTime": {
     "end_time": "2023-08-22T17:08:01.574351Z",
     "start_time": "2023-08-22T17:08:01.516196Z"
    }
   }
  },
  {
   "cell_type": "code",
   "execution_count": 11,
   "outputs": [],
   "source": [
    "from toolsets.ff_droup import process_mzml, get_EIC_list, EIC"
   ],
   "metadata": {
    "collapsed": false,
    "ExecuteTime": {
     "end_time": "2023-08-22T17:08:30.232005Z",
     "start_time": "2023-08-22T17:08:30.186465Z"
    }
   }
  },
  {
   "cell_type": "code",
   "execution_count": 10,
   "outputs": [],
   "source": [
    "ms1, ms2 = process_mzml(mzml_path=os.path.join(mzml_dir_1239x, '1239_X8_P.mzML'), rt_max=10, if_mix=False)"
   ],
   "metadata": {
    "collapsed": false,
    "ExecuteTime": {
     "end_time": "2023-08-22T17:08:30.183980Z",
     "start_time": "2023-08-22T17:08:03.323685Z"
    }
   }
  },
  {
   "cell_type": "code",
   "execution_count": 21,
   "outputs": [
    {
     "data": {
      "text/plain": "<Figure size 400x300 with 1 Axes>",
      "image/png": "[encoded data removed]"
     },
     "metadata": {},
     "output_type": "display_data"
    }
   ],
   "source": [
    "rt_list, intenisty_list =get_EIC_list(ms1, 421.217)\n",
    "EIC(rt_list, intenisty_list, vlines_location_1=[4.26], rt_start=4, rt_end=5)"
   ],
   "metadata": {
    "collapsed": false,
    "ExecuteTime": {
     "end_time": "2023-08-22T17:12:59.676468Z",
     "start_time": "2023-08-22T17:12:58.140320Z"
    }
   }
  },
  {
   "cell_type": "code",
   "execution_count": 161,
   "outputs": [],
   "source": [
    "short_list_1239cx = pd.read_csv('/Volumes/Natural Product Chemistry/Working Space/Fanzhou/Kelleope/1239CX/result/pos/joint50.csv')\n",
    "mgf_dir_1239cx = '/Volumes/Natural Product Chemistry/Working Space/Fanzhou/Kelleope/1239cx/sirius/mgf_pos'\n",
    "bio_data_1239cx = pd.read_csv('/Volumes/Natural Product Chemistry/Working Space/Fanzhou/Kelleope/1239CX/bioactivity/bioacitivity_1239CX.csv')\n",
    "figure_dir_1239cx = '/Volumes/Natural Product Chemistry/Working Space/Fanzhou/Kelleope/1239CX/sirius/figures_pos'\n",
    "export_df(short_list_1239cx, mgf_dir=mgf_dir_1239cx, figure_dir=figure_dir_1239cx, bio_data=bio_data_1239cx)"
   ],
   "metadata": {
    "collapsed": false,
    "ExecuteTime": {
     "end_time": "2023-08-22T06:10:49.699479Z",
     "start_time": "2023-08-22T06:10:37.519626Z"
    }
   }
  }
 ],
 "metadata": {
  "kernelspec": {
   "name": "alphapept_env",
   "language": "python",
   "display_name": "alphapept_env"
  },
  "language_info": {
   "codemirror_mode": {
    "name": "ipython",
    "version": 2
   },
   "file_extension": ".py",
   "mimetype": "text/x-python",
   "name": "python",
   "nbconvert_exporter": "python",
   "pygments_lexer": "ipython2",
   "version": "2.7.6"
  }
 },
 "nbformat": 4,
 "nbformat_minor": 0
}
