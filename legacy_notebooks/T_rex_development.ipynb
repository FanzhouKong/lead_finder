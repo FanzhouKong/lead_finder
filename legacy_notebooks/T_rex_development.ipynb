{
 "cells": [
  {
   "cell_type": "code",
   "execution_count": 8,
   "metadata": {
    "collapsed": true,
    "pycharm": {
     "name": "#%%\n"
    }
   },
   "outputs": [
    {
     "name": "stdout",
     "output_type": "stream",
     "text": [
      "The autoreload extension is already loaded. To reload it, use:\n",
      "  %reload_ext autoreload\n"
     ]
    }
   ],
   "source": [
    "import os\n",
    "\n",
    "import numpy as np\n",
    "%load_ext autoreload\n",
    "%autoreload 2\n",
    "from rdkit import Chem\n",
    "from rdkit.Chem.rdMolDescriptors import CalcExactMolWt\n",
    "import pandas as pd\n",
    "from toolsets.file_io import get_file_list, readin_peak_list\n",
    "import toolsets.spectra_operations as so\n",
    "from toolsets.std_list_prep import complete_smiles, complete_mono_mass, complete_formal_charge, guess_adduct, std_list_cleanup\n",
    "from toolsets.ff_droup import process_mzml, get_EIC_list, EIC, feature_finding\n",
    "from toolsets.search import string_search,quick_search_values\n",
    "from tqdm import tqdm\n",
    "from molmass import Formula\n",
    "from toolsets.sirius_lite import mass_to_formula, check_chemistry, get_isotope, ms1_intensity_score, bin_ms1\n",
    "from toolsets.spectra_plotter import ms2_plot, head_to_tail_plot\n",
    "import seaborn as sns\n",
    "import matplotlib.pyplot as plt\n",
    "from toolsets.std_list_prep import calculate_precursormz\n",
    "from toolsets.constants import single_charged_adduct_mass\n",
    "mzml_dir = '/Users/fanzhoukong/Documents/GitHub/Libgen_data/T_rex_data'"
   ]
  },
  {
   "cell_type": "code",
   "execution_count": 11,
   "outputs": [],
   "source": [
    "all_files = get_file_list(mzml_dir, '.mzML', with_tail=True)"
   ],
   "metadata": {
    "collapsed": false,
    "pycharm": {
     "name": "#%%\n"
    }
   }
  },
  {
   "cell_type": "code",
   "execution_count": 12,
   "outputs": [
    {
     "data": {
      "text/plain": "['PoolQC01_MX612252_NegBA_postLongevity_Female013.mzML']"
     },
     "execution_count": 12,
     "metadata": {},
     "output_type": "execute_result"
    }
   ],
   "source": [
    "all_files"
   ],
   "metadata": {
    "collapsed": false,
    "pycharm": {
     "name": "#%%\n"
    }
   }
  },
  {
   "cell_type": "code",
   "execution_count": 15,
   "outputs": [
    {
     "data": {
      "text/plain": "'/Users/fanzhoukong/Documents/GitHub/Libgen_data/T_rex_data/PoolQC01_MX612252_NegBA_postLongevity_Female013.mzML'"
     },
     "execution_count": 15,
     "metadata": {},
     "output_type": "execute_result"
    }
   ],
   "source": [
    "os.path.join(mzml_dir, all_files[0])"
   ],
   "metadata": {
    "collapsed": false,
    "pycharm": {
     "name": "#%%\n"
    }
   }
  },
  {
   "cell_type": "code",
   "execution_count": 18,
   "outputs": [],
   "source": [
    "ms1, ms2 = process_mzml(os.path.join(mzml_dir, all_files[0]), rt_max=20)"
   ],
   "metadata": {
    "collapsed": false,
    "pycharm": {
     "name": "#%%\n"
    }
   }
  },
  {
   "cell_type": "code",
   "execution_count": 31,
   "outputs": [],
   "source": [
    "pmz = 59.01330+single_charged_adduct_mass['[M-H]-']"
   ],
   "metadata": {
    "collapsed": false,
    "pycharm": {
     "name": "#%%\n"
    }
   }
  },
  {
   "cell_type": "code",
   "execution_count": 34,
   "outputs": [
    {
     "data": {
      "text/plain": "58.006024000000004"
     },
     "execution_count": 34,
     "metadata": {},
     "output_type": "execute_result"
    }
   ],
   "source": [
    "pmz"
   ],
   "metadata": {
    "collapsed": false,
    "pycharm": {
     "name": "#%%\n"
    }
   }
  },
  {
   "cell_type": "code",
   "execution_count": 32,
   "outputs": [],
   "source": [
    "rt_list, intensity_list = get_EIC_list(ms1, pmz, step=0.01)"
   ],
   "metadata": {
    "collapsed": false,
    "pycharm": {
     "name": "#%%\n"
    }
   }
  },
  {
   "cell_type": "code",
   "execution_count": 35,
   "outputs": [
    {
     "data": {
      "text/plain": "<Figure size 400x300 with 1 Axes>",
      "image/png": "[encoded data removed]"
     },
     "metadata": {},
     "output_type": "display_data"
    }
   ],
   "source": [
    "EIC(rt_list, intensity_list)"
   ],
   "metadata": {
    "collapsed": false,
    "pycharm": {
     "name": "#%%\n"
    }
   }
  }
 ],
 "metadata": {
  "kernelspec": {
   "display_name": "Python 3",
   "language": "python",
   "name": "python3"
  },
  "language_info": {
   "codemirror_mode": {
    "name": "ipython",
    "version": 2
   },
   "file_extension": ".py",
   "mimetype": "text/x-python",
   "name": "python",
   "nbconvert_exporter": "python",
   "pygments_lexer": "ipython2",
   "version": "2.7.6"
  }
 },
 "nbformat": 4,
 "nbformat_minor": 0
}