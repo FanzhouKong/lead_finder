{
 "cells": [
  {
   "cell_type": "code",
   "execution_count": 4,
   "metadata": {
    "collapsed": true,
    "ExecuteTime": {
     "end_time": "2023-07-10T23:07:00.704337Z",
     "start_time": "2023-07-10T23:06:57.557463Z"
    }
   },
   "outputs": [],
   "source": [
    "import numpy as np\n",
    "import pandas as pd\n",
    "import os\n",
    "from toolsets.file_io import readin_peak_list\n",
    "from feature_finding.feature_finding_alphapept import find_feature, find_feature_alphapept\n",
    "%load_ext autoreload\n",
    "%autoreload 2\n",
    "from tqdm import tqdm\n",
    "import toolsets.spectra_operations as so\n",
    "from toolsets.search import quick_search_values"
   ]
  },
  {
   "cell_type": "code",
   "execution_count": 5,
   "outputs": [],
   "source": [
    "alphapept_folder = '/Users/fanzhou.kong/Dropbox (Brightseed)/Mac/Documents/GitHub/data_garage/brighseed/alphapept_features/20230206_PHV_H2L_1870AX_M5P2_M7P1/pos'\n",
    "msdial_folder = '/Users/fanzhou.kong/Dropbox (Brightseed)/Mac/Documents/GitHub/data_garage/brighseed/peak_list/20230206_PHV_H2L_1870AX_M5P2_M7P1/pos'\n",
    "mzml_folder = '/Users/fanzhou.kong/Dropbox (Brightseed)/Mac/Documents/GitHub/data_garage/brighseed/MZMLS/20230206_PHV_H2L_1870AX_M5P2_M7P1/pos'"
   ],
   "metadata": {
    "collapsed": false,
    "ExecuteTime": {
     "end_time": "2023-07-10T23:07:00.734723Z",
     "start_time": "2023-07-10T23:07:00.704550Z"
    }
   }
  },
  {
   "cell_type": "code",
   "execution_count": 49,
   "outputs": [],
   "source": [
    "file_list = []\n",
    "for root, dirs, files in os.walk(msdial_folder):\n",
    "    for file in files:\n",
    "        # print(file)\n",
    "\n",
    "        if file.endswith('.txt'):\n",
    "            file_list.append(file.split('.')[0])"
   ],
   "metadata": {
    "collapsed": false,
    "ExecuteTime": {
     "end_time": "2023-07-10T23:32:49.811145Z",
     "start_time": "2023-07-10T23:32:49.762673Z"
    }
   }
  },
  {
   "cell_type": "code",
   "execution_count": 50,
   "outputs": [
    {
     "data": {
      "text/plain": "39"
     },
     "execution_count": 50,
     "metadata": {},
     "output_type": "execute_result"
    }
   ],
   "source": [
    "len(file_list)"
   ],
   "metadata": {
    "collapsed": false,
    "ExecuteTime": {
     "end_time": "2023-07-10T23:32:50.760835Z",
     "start_time": "2023-07-10T23:32:50.724112Z"
    }
   }
  },
  {
   "cell_type": "code",
   "execution_count": 7,
   "outputs": [],
   "source": [
    "istd_info = pd.read_csv('/Users/fanzhou.kong/Dropbox (Brightseed)/Mac/Documents/GitHub/data_garage/brighseed/istd_info.csv')\n"
   ],
   "metadata": {
    "collapsed": false,
    "ExecuteTime": {
     "end_time": "2023-07-10T23:07:02.455564Z",
     "start_time": "2023-07-10T23:07:02.399484Z"
    }
   }
  },
  {
   "cell_type": "code",
   "execution_count": 93,
   "outputs": [],
   "source": [
    "# istd_info.to_csv('/Users/fanzhou.kong/Dropbox (Brightseed)/Mac/Documents/GitHub/data_garage/brighseed/istd_info.csv', index=False)"
   ],
   "metadata": {
    "collapsed": false,
    "ExecuteTime": {
     "end_time": "2023-06-28T17:53:16.929294Z",
     "start_time": "2023-06-28T17:53:16.820025Z"
    }
   }
  },
  {
   "cell_type": "code",
   "execution_count": 8,
   "outputs": [],
   "source": [
    "intensity_dir = '/Users/fanzhou.kong/Dropbox (Brightseed)/Mac/Documents/GitHub/data_garage/brighseed/intensity_analysis'"
   ],
   "metadata": {
    "collapsed": false,
    "ExecuteTime": {
     "end_time": "2023-07-10T23:07:03.863919Z",
     "start_time": "2023-07-10T23:07:03.813098Z"
    }
   }
  },
  {
   "cell_type": "code",
   "execution_count": 51,
   "outputs": [
    {
     "name": "stderr",
     "output_type": "stream",
     "text": [
      "100%|██████████| 17/17 [00:37<00:00,  2.19s/it]\n"
     ]
    }
   ],
   "source": [
    "Fill_percent = []\n",
    "pmz = []\n",
    "rt = []\n",
    "intensity_cv = []\n",
    "\n",
    "for index, row in tqdm(istd_info.iterrows(), total = len(istd_info)):\n",
    "\n",
    "    FOUND = []\n",
    "    fill_percent = []\n",
    "    mz = []\n",
    "    mz_offset =[]\n",
    "    rt = []\n",
    "\n",
    "    # m_rt_offset = []\n",
    "    isotope = []\n",
    "    intensity = []\n",
    "    for file in file_list:\n",
    "        msdial_result_temp = readin_peak_list(os.path.join(msdial_folder, file+'.txt'))\n",
    "        msdial_feature = find_feature(msdial_result_temp, row['[M+H]+'], row['RT_suggested'], mz_column='Precursor m/z', rt_column='RT (min)', intensity_column='Height')\n",
    "        if len(msdial_feature)>0:\n",
    "            FOUND.append(True)\n",
    "            mz.append(msdial_feature.iloc[0]['Precursor m/z'])\n",
    "            mz_offset.append(np.abs(msdial_feature.iloc[0]['Precursor m/z']-row['[M+H]+']))\n",
    "            rt.append(msdial_feature.iloc[0]['RT (min)'])\n",
    "            # m_rt_offset.append(np.abs(msdial_feature.iloc[0]['RT (min)']-row['RT_suggested']))\n",
    "            isotope.append(msdial_feature.iloc[0]['Isotope'])\n",
    "            intensity.append(msdial_feature.iloc[0]['Height'])\n",
    "        else:\n",
    "            FOUND.append(False)\n",
    "            mz.append(np.NAN)\n",
    "            mz_offset.append(np.NAN)\n",
    "            rt.append(np.NAN)\n",
    "            # rt_offset.append(np.NAN)\n",
    "            isotope.append(np.NAN)\n",
    "            intensity.append(np.NAN)\n",
    "    intensity_cv.append(np.round(pd.Series(intensity).std()/pd.Series(intensity).mean()*100, 1))\n",
    "    Fill_percent.append(sum(bool(s) for s in FOUND)/len(FOUND))\n",
    "    # break\n",
    "\n",
    "summary_statistic = pd.DataFrame(list(zip(istd_info['compound_name'], Fill_percent,intensity_cv)),\n",
    "                                 columns =['istd', 'fill_percent', 'intensity_cv']\n",
    "                                      )"
   ],
   "metadata": {
    "collapsed": false,
    "ExecuteTime": {
     "end_time": "2023-07-10T23:33:30.336898Z",
     "start_time": "2023-07-10T23:32:53.115705Z"
    }
   }
  },
  {
   "cell_type": "code",
   "execution_count": 53,
   "outputs": [
    {
     "data": {
      "text/plain": "   compound_name   mono_mass  RT_suggested      [M+H]+\n0         C4-APS  215.061614          1.18  216.068890\n1         C5-APS  229.077265          2.13  230.084541\n2         C6-APS  243.092915          2.84  244.100191\n3         C7-APS  257.108565          3.42  258.115841\n4         C8-APS  271.124215          4.00  272.131491\n5         C9-APS  285.139865          4.46  286.147141\n6        C10-APS  299.155515          4.91  300.162791\n7        C11-APS  313.171165          5.28  314.178441\n8        C12-APS  327.186815          5.68  328.194091\n9        C13-APS  341.202465          6.03  342.209741\n10       C14-APS  355.218115          6.41  356.225391\n11       C15-APS  369.233765          6.76  370.241041\n12       C16-APS  383.249415          7.09  384.256691\n13       C17-APS  397.265065          7.42  398.272341\n14       C18-APS  411.280715          7.74  412.287991\n15       C19-APS  425.296365          8.03  426.303641\n16       C20-APS  439.312015          8.29  440.319291",
      "text/html": "<div>\n<style scoped>\n    .dataframe tbody tr th:only-of-type {\n        vertical-align: middle;\n    }\n\n    .dataframe tbody tr th {\n        vertical-align: top;\n    }\n\n    .dataframe thead th {\n        text-align: right;\n    }\n</style>\n<table border=\"1\" class=\"dataframe\">\n  <thead>\n    <tr style=\"text-align: right;\">\n      <th></th>\n      <th>compound_name</th>\n      <th>mono_mass</th>\n      <th>RT_suggested</th>\n      <th>[M+H]+</th>\n    </tr>\n  </thead>\n  <tbody>\n    <tr>\n      <th>0</th>\n      <td>C4-APS</td>\n      <td>215.061614</td>\n      <td>1.18</td>\n      <td>216.068890</td>\n    </tr>\n    <tr>\n      <th>1</th>\n      <td>C5-APS</td>\n      <td>229.077265</td>\n      <td>2.13</td>\n      <td>230.084541</td>\n    </tr>\n    <tr>\n      <th>2</th>\n      <td>C6-APS</td>\n      <td>243.092915</td>\n      <td>2.84</td>\n      <td>244.100191</td>\n    </tr>\n    <tr>\n      <th>3</th>\n      <td>C7-APS</td>\n      <td>257.108565</td>\n      <td>3.42</td>\n      <td>258.115841</td>\n    </tr>\n    <tr>\n      <th>4</th>\n      <td>C8-APS</td>\n      <td>271.124215</td>\n      <td>4.00</td>\n      <td>272.131491</td>\n    </tr>\n    <tr>\n      <th>5</th>\n      <td>C9-APS</td>\n      <td>285.139865</td>\n      <td>4.46</td>\n      <td>286.147141</td>\n    </tr>\n    <tr>\n      <th>6</th>\n      <td>C10-APS</td>\n      <td>299.155515</td>\n      <td>4.91</td>\n      <td>300.162791</td>\n    </tr>\n    <tr>\n      <th>7</th>\n      <td>C11-APS</td>\n      <td>313.171165</td>\n      <td>5.28</td>\n      <td>314.178441</td>\n    </tr>\n    <tr>\n      <th>8</th>\n      <td>C12-APS</td>\n      <td>327.186815</td>\n      <td>5.68</td>\n      <td>328.194091</td>\n    </tr>\n    <tr>\n      <th>9</th>\n      <td>C13-APS</td>\n      <td>341.202465</td>\n      <td>6.03</td>\n      <td>342.209741</td>\n    </tr>\n    <tr>\n      <th>10</th>\n      <td>C14-APS</td>\n      <td>355.218115</td>\n      <td>6.41</td>\n      <td>356.225391</td>\n    </tr>\n    <tr>\n      <th>11</th>\n      <td>C15-APS</td>\n      <td>369.233765</td>\n      <td>6.76</td>\n      <td>370.241041</td>\n    </tr>\n    <tr>\n      <th>12</th>\n      <td>C16-APS</td>\n      <td>383.249415</td>\n      <td>7.09</td>\n      <td>384.256691</td>\n    </tr>\n    <tr>\n      <th>13</th>\n      <td>C17-APS</td>\n      <td>397.265065</td>\n      <td>7.42</td>\n      <td>398.272341</td>\n    </tr>\n    <tr>\n      <th>14</th>\n      <td>C18-APS</td>\n      <td>411.280715</td>\n      <td>7.74</td>\n      <td>412.287991</td>\n    </tr>\n    <tr>\n      <th>15</th>\n      <td>C19-APS</td>\n      <td>425.296365</td>\n      <td>8.03</td>\n      <td>426.303641</td>\n    </tr>\n    <tr>\n      <th>16</th>\n      <td>C20-APS</td>\n      <td>439.312015</td>\n      <td>8.29</td>\n      <td>440.319291</td>\n    </tr>\n  </tbody>\n</table>\n</div>"
     },
     "execution_count": 53,
     "metadata": {},
     "output_type": "execute_result"
    }
   ],
   "source": [
    "istd_info"
   ],
   "metadata": {
    "collapsed": false,
    "ExecuteTime": {
     "end_time": "2023-07-10T23:37:23.514567Z",
     "start_time": "2023-07-10T23:37:23.381950Z"
    }
   }
  },
  {
   "cell_type": "code",
   "execution_count": null,
   "outputs": [],
   "source": [],
   "metadata": {
    "collapsed": false
   }
  }
 ],
 "metadata": {
  "kernelspec": {
   "name": "alphapept_env",
   "language": "python",
   "display_name": "alphapept_env"
  },
  "language_info": {
   "codemirror_mode": {
    "name": "ipython",
    "version": 2
   },
   "file_extension": ".py",
   "mimetype": "text/x-python",
   "name": "python",
   "nbconvert_exporter": "python",
   "pygments_lexer": "ipython2",
   "version": "2.7.6"
  }
 },
 "nbformat": 4,
 "nbformat_minor": 0
}
