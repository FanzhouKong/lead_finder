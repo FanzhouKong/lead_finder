{
 "cells": [
  {
   "cell_type": "code",
   "execution_count": 7,
   "outputs": [
    {
     "name": "stdout",
     "output_type": "stream",
     "text": [
      "The autoreload extension is already loaded. To reload it, use:\n",
      "  %reload_ext autoreload\n"
     ]
    }
   ],
   "source": [
    "import os\n",
    "\n",
    "import matplotlib.pyplot as plt\n",
    "import pandas as pd\n",
    "%load_ext autoreload\n",
    "%autoreload 2\n",
    "import numpy as np\n",
    "from ast import literal_eval\n",
    "from tqdm import tqdm\n",
    "import toolsets.spectra_operations as so\n",
    "from toolsets.file_io import read_msp_files\n",
    "master_dir = '/Users/fanzhoukong/Documents/GitHub/Libgen_data/NIST_MONA'\n",
    "reference_db_sorted = pd.read_csv('/Users/fanzhoukong/Documents/GitHub/Libgen_data/formula_db/formulaDB_sorted.csv')\n",
    "# nist = pd.read_csv((os.path.join(master_dir, 'NIST_20.csv')))"
   ],
   "metadata": {
    "collapsed": false,
    "pycharm": {
     "name": "#%%\n"
    }
   }
  },
  {
   "cell_type": "code",
   "execution_count": 26,
   "outputs": [
    {
     "name": "stderr",
     "output_type": "stream",
     "text": [
      "100%|██████████| 1026712/1026712 [02:50<00:00, 6015.05it/s]\n"
     ]
    }
   ],
   "source": [
    "msms = []\n",
    "for index, row in tqdm(nist.iterrows(), total = len(nist)):\n",
    "    msms.append(so.convert_nist_to_string(literal_eval(row['spectrum'])))"
   ],
   "metadata": {
    "collapsed": false,
    "pycharm": {
     "name": "#%%\n"
    }
   }
  },
  {
   "cell_type": "code",
   "execution_count": 32,
   "outputs": [
    {
     "data": {
      "text/plain": "         Unnamed: 0                                           spectrum  \\\n0                 0  [[45.96, 46.35], [597.48, 51.85], [598.5, 41.3...   \n1                 1  [[597.5, 50.95], [599.5, 683.32], [1449.98, 99...   \n2                 2  [[537.39, 55.94], [599.5, 999.0], [600.51, 42....   \n3                 3  [[597.46, 41.86], [598.5, 45.15], [599.51, 999...   \n4                 4  [[598.49, 47.85], [599.5, 999.0], [600.5, 85.5...   \n...             ...                                                ...   \n1026707     1026707  [[150.0546, 34.07], [151.0386, 49.75], [152.07...   \n1026708     1026708  [[150.0545, 60.94], [151.0385, 82.12], [154.04...   \n1026709     1026709  [[150.0547, 148.45], [151.0386, 134.47], [168....   \n1026710     1026710  [[150.0547, 316.88], [151.0387, 334.07], [264....   \n1026711     1026711  [[186.0757, 18.08], [197.0439, 5.39], [204.086...   \n\n                                                      Name  \\\n0        1',3'-Bis[1,2-dilinoleoyl-sn-glycero-3-phospho...   \n1        1',3'-Bis[1,2-dilinoleoyl-sn-glycero-3-phospho...   \n2        1',3'-Bis[1,2-dilinoleoyl-sn-glycero-3-phospho...   \n3        1',3'-Bis[1,2-dilinoleoyl-sn-glycero-3-phospho...   \n4        1',3'-Bis[1,2-dilinoleoyl-sn-glycero-3-phospho...   \n...                                                    ...   \n1026707               NeuAc.alpha.2-6-GM1b-Cer(d18:1/18:0)   \n1026708               NeuAc.alpha.2-6-GM1b-Cer(d18:1/18:0)   \n1026709               NeuAc.alpha.2-6-GM1b-Cer(d18:1/18:0)   \n1026710               NeuAc.alpha.2-6-GM1b-Cer(d18:1/18:0)   \n1026711               NeuAc.alpha.2-6-GM1b-Cer(d18:1/18:0)   \n\n                                                     Notes Precursor_type  \\\n0        Consensus spectrum; Water/isopropanol/Formic a...       [M+NH4]+   \n1        Consensus spectrum; Water/isopropanol/Formic a...       [M+NH4]+   \n2        Consensus spectrum; Water/isopropanol/Formic a...       [M+NH4]+   \n3        Consensus spectrum; Water/isopropanol/Formic a...       [M+NH4]+   \n4        Consensus spectrum; Water/isopropanol/Formic a...       [M+NH4]+   \n...                                                    ...            ...   \n1026707  micromol/L in water/acetonitrile/formic acid (...       [M+2H]2+   \n1026708  micromol/L in water/acetonitrile/formic acid (...       [M+2H]2+   \n1026709  micromol/L in water/acetonitrile/formic acid (...       [M+2H]2+   \n1026710  micromol/L in water/acetonitrile/formic acid (...       [M+2H]2+   \n1026711  micromol/L in water/acetonitrile/formic acid (...       [M+2H]2+   \n\n        Spectrum_type           Instrument_type             Instrument  \\\n0                 MS2                     Q-TOF      Agilent QTOF 6530   \n1                 MS2                     Q-TOF      Agilent QTOF 6530   \n2                 MS2                     Q-TOF      Agilent QTOF 6530   \n3                 MS2                     Q-TOF      Agilent QTOF 6530   \n4                 MS2                     Q-TOF      Agilent QTOF 6530   \n...               ...                       ...                    ...   \n1026707           MS2                       HCD  Orbitrap Fusion Lumos   \n1026708           MS2                       HCD  Orbitrap Fusion Lumos   \n1026709           MS2                       HCD  Orbitrap Fusion Lumos   \n1026710           MS2                       HCD  Orbitrap Fusion Lumos   \n1026711           MS2  IT-FT/ion trap with FTMS  Orbitrap Fusion Lumos   \n\n                  Sample_inlet Ionization  ...  \\\n0        direct flow injection        ESI  ...   \n1        direct flow injection        ESI  ...   \n2        direct flow injection        ESI  ...   \n3        direct flow injection        ESI  ...   \n4        direct flow injection        ESI  ...   \n...                        ...        ...  ...   \n1026707  direct flow injection        ESI  ...   \n1026708  direct flow injection        ESI  ...   \n1026709  direct flow injection        ESI  ...   \n1026710  direct flow injection        ESI  ...   \n1026711  direct flow injection        ESI  ...   \n\n                                    Comment  Unique_scan_number Spectrum_id  \\\n0        NIST Mass Spectrometry Data Center  686788362415694984           1   \n1        NIST Mass Spectrometry Data Center  686788362415694985           2   \n2        NIST Mass Spectrometry Data Center  686788362415694986           3   \n3        NIST Mass Spectrometry Data Center  686788362415694987           4   \n4        NIST Mass Spectrometry Data Center  686788362415694988           5   \n...                                     ...                 ...         ...   \n1026707  NIST Mass Spectrometry Data Center  686788362416721691     1026723   \n1026708  NIST Mass Spectrometry Data Center  686788362416721692     1026724   \n1026709  NIST Mass Spectrometry Data Center  686788362416721693     1026725   \n1026710  NIST Mass Spectrometry Data Center  686788362416721694     1026726   \n1026711  NIST Mass Spectrometry Data Center  686788362416721695     1026727   \n\n        Precursormz                                             Smiles  \\\n0         1467.0061  CCCCCC=CCC=CCCCCCCCC(=O)OC[CH](COP(=O)(O)OCC(O...   \n1         1467.0061  CCCCCC=CCC=CCCCCCCCC(=O)OC[CH](COP(=O)(O)OCC(O...   \n2         1467.0061  CCCCCC=CCC=CCCCCCCCC(=O)OC[CH](COP(=O)(O)OCC(O...   \n3         1467.0061  CCCCCC=CCC=CCCCCCCCC(=O)OC[CH](COP(=O)(O)OCC(O...   \n4         1467.0061  CCCCCC=CCC=CCCCCCCCC(=O)OC[CH](COP(=O)(O)OCC(O...   \n...             ...                                                ...   \n1026707    692.9192  CCCCCCCCCCCCCC=C[CH](O)[CH](CO[CH]1OC(CO)[CH](...   \n1026708    692.9192  CCCCCCCCCCCCCC=C[CH](O)[CH](CO[CH]1OC(CO)[CH](...   \n1026709    692.9192  CCCCCCCCCCCCCC=C[CH](O)[CH](CO[CH]1OC(CO)[CH](...   \n1026710    692.9192  CCCCCCCCCCCCCC=C[CH](O)[CH](CO[CH]1OC(CO)[CH](...   \n1026711    692.9192  CCCCCCCCCCCCCC=C[CH](O)[CH](CO[CH]1OC(CO)[CH](...   \n\n        Num peaks Related_casno  Msn_pathway  Link  \\\n0              15           NaN          NaN   NaN   \n1              10           NaN          NaN   NaN   \n2               5           NaN          NaN   NaN   \n3               8           NaN          NaN   NaN   \n4               4           NaN          NaN   NaN   \n...           ...           ...          ...   ...   \n1026707        29           NaN          NaN   NaN   \n1026708        18           NaN          NaN   NaN   \n1026709         8           NaN          NaN   NaN   \n1026710         4           NaN          NaN   NaN   \n1026711        91           NaN          NaN   NaN   \n\n                                                      msms  \n0        45.96\\t46.35\\n597.48\\t51.85\\n598.5\\t41.36\\n599...  \n1        597.5\\t50.95\\n599.5\\t683.32\\n1449.98\\t999.0\\n1...  \n2        537.39\\t55.94\\n599.5\\t999.0\\n600.51\\t42.26\\n14...  \n3        597.46\\t41.86\\n598.5\\t45.15\\n599.51\\t999.0\\n60...  \n4        598.49\\t47.85\\n599.5\\t999.0\\n600.5\\t85.51\\n144...  \n...                                                    ...  \n1026707  150.0546\\t34.07\\n151.0386\\t49.75\\n152.0703\\t2....  \n1026708  150.0545\\t60.94\\n151.0385\\t82.12\\n154.0496\\t10...  \n1026709  150.0547\\t148.45\\n151.0386\\t134.47\\n168.0653\\t...  \n1026710  150.0547\\t316.88\\n151.0387\\t334.07\\n264.2682\\t...  \n1026711  186.0757\\t18.08\\n197.0439\\t5.39\\n204.0863\\t96....  \n\n[1026712 rows x 32 columns]",
      "text/html": "<div>\n<style scoped>\n    .dataframe tbody tr th:only-of-type {\n        vertical-align: middle;\n    }\n\n    .dataframe tbody tr th {\n        vertical-align: top;\n    }\n\n    .dataframe thead th {\n        text-align: right;\n    }\n</style>\n<table border=\"1\" class=\"dataframe\">\n  <thead>\n    <tr style=\"text-align: right;\">\n      <th></th>\n      <th>Unnamed: 0</th>\n      <th>spectrum</th>\n      <th>Name</th>\n      <th>Notes</th>\n      <th>Precursor_type</th>\n      <th>Spectrum_type</th>\n      <th>Instrument_type</th>\n      <th>Instrument</th>\n      <th>Sample_inlet</th>\n      <th>Ionization</th>\n      <th>...</th>\n      <th>Comment</th>\n      <th>Unique_scan_number</th>\n      <th>Spectrum_id</th>\n      <th>Precursormz</th>\n      <th>Smiles</th>\n      <th>Num peaks</th>\n      <th>Related_casno</th>\n      <th>Msn_pathway</th>\n      <th>Link</th>\n      <th>msms</th>\n    </tr>\n  </thead>\n  <tbody>\n    <tr>\n      <th>0</th>\n      <td>0</td>\n      <td>[[45.96, 46.35], [597.48, 51.85], [598.5, 41.3...</td>\n      <td>1',3'-Bis[1,2-dilinoleoyl-sn-glycero-3-phospho...</td>\n      <td>Consensus spectrum; Water/isopropanol/Formic a...</td>\n      <td>[M+NH4]+</td>\n      <td>MS2</td>\n      <td>Q-TOF</td>\n      <td>Agilent QTOF 6530</td>\n      <td>direct flow injection</td>\n      <td>ESI</td>\n      <td>...</td>\n      <td>NIST Mass Spectrometry Data Center</td>\n      <td>686788362415694984</td>\n      <td>1</td>\n      <td>1467.0061</td>\n      <td>CCCCCC=CCC=CCCCCCCCC(=O)OC[CH](COP(=O)(O)OCC(O...</td>\n      <td>15</td>\n      <td>NaN</td>\n      <td>NaN</td>\n      <td>NaN</td>\n      <td>45.96\\t46.35\\n597.48\\t51.85\\n598.5\\t41.36\\n599...</td>\n    </tr>\n    <tr>\n      <th>1</th>\n      <td>1</td>\n      <td>[[597.5, 50.95], [599.5, 683.32], [1449.98, 99...</td>\n      <td>1',3'-Bis[1,2-dilinoleoyl-sn-glycero-3-phospho...</td>\n      <td>Consensus spectrum; Water/isopropanol/Formic a...</td>\n      <td>[M+NH4]+</td>\n      <td>MS2</td>\n      <td>Q-TOF</td>\n      <td>Agilent QTOF 6530</td>\n      <td>direct flow injection</td>\n      <td>ESI</td>\n      <td>...</td>\n      <td>NIST Mass Spectrometry Data Center</td>\n      <td>686788362415694985</td>\n      <td>2</td>\n      <td>1467.0061</td>\n      <td>CCCCCC=CCC=CCCCCCCCC(=O)OC[CH](COP(=O)(O)OCC(O...</td>\n      <td>10</td>\n      <td>NaN</td>\n      <td>NaN</td>\n      <td>NaN</td>\n      <td>597.5\\t50.95\\n599.5\\t683.32\\n1449.98\\t999.0\\n1...</td>\n    </tr>\n    <tr>\n      <th>2</th>\n      <td>2</td>\n      <td>[[537.39, 55.94], [599.5, 999.0], [600.51, 42....</td>\n      <td>1',3'-Bis[1,2-dilinoleoyl-sn-glycero-3-phospho...</td>\n      <td>Consensus spectrum; Water/isopropanol/Formic a...</td>\n      <td>[M+NH4]+</td>\n      <td>MS2</td>\n      <td>Q-TOF</td>\n      <td>Agilent QTOF 6530</td>\n      <td>direct flow injection</td>\n      <td>ESI</td>\n      <td>...</td>\n      <td>NIST Mass Spectrometry Data Center</td>\n      <td>686788362415694986</td>\n      <td>3</td>\n      <td>1467.0061</td>\n      <td>CCCCCC=CCC=CCCCCCCCC(=O)OC[CH](COP(=O)(O)OCC(O...</td>\n      <td>5</td>\n      <td>NaN</td>\n      <td>NaN</td>\n      <td>NaN</td>\n      <td>537.39\\t55.94\\n599.5\\t999.0\\n600.51\\t42.26\\n14...</td>\n    </tr>\n    <tr>\n      <th>3</th>\n      <td>3</td>\n      <td>[[597.46, 41.86], [598.5, 45.15], [599.51, 999...</td>\n      <td>1',3'-Bis[1,2-dilinoleoyl-sn-glycero-3-phospho...</td>\n      <td>Consensus spectrum; Water/isopropanol/Formic a...</td>\n      <td>[M+NH4]+</td>\n      <td>MS2</td>\n      <td>Q-TOF</td>\n      <td>Agilent QTOF 6530</td>\n      <td>direct flow injection</td>\n      <td>ESI</td>\n      <td>...</td>\n      <td>NIST Mass Spectrometry Data Center</td>\n      <td>686788362415694987</td>\n      <td>4</td>\n      <td>1467.0061</td>\n      <td>CCCCCC=CCC=CCCCCCCCC(=O)OC[CH](COP(=O)(O)OCC(O...</td>\n      <td>8</td>\n      <td>NaN</td>\n      <td>NaN</td>\n      <td>NaN</td>\n      <td>597.46\\t41.86\\n598.5\\t45.15\\n599.51\\t999.0\\n60...</td>\n    </tr>\n    <tr>\n      <th>4</th>\n      <td>4</td>\n      <td>[[598.49, 47.85], [599.5, 999.0], [600.5, 85.5...</td>\n      <td>1',3'-Bis[1,2-dilinoleoyl-sn-glycero-3-phospho...</td>\n      <td>Consensus spectrum; Water/isopropanol/Formic a...</td>\n      <td>[M+NH4]+</td>\n      <td>MS2</td>\n      <td>Q-TOF</td>\n      <td>Agilent QTOF 6530</td>\n      <td>direct flow injection</td>\n      <td>ESI</td>\n      <td>...</td>\n      <td>NIST Mass Spectrometry Data Center</td>\n      <td>686788362415694988</td>\n      <td>5</td>\n      <td>1467.0061</td>\n      <td>CCCCCC=CCC=CCCCCCCCC(=O)OC[CH](COP(=O)(O)OCC(O...</td>\n      <td>4</td>\n      <td>NaN</td>\n      <td>NaN</td>\n      <td>NaN</td>\n      <td>598.49\\t47.85\\n599.5\\t999.0\\n600.5\\t85.51\\n144...</td>\n    </tr>\n    <tr>\n      <th>...</th>\n      <td>...</td>\n      <td>...</td>\n      <td>...</td>\n      <td>...</td>\n      <td>...</td>\n      <td>...</td>\n      <td>...</td>\n      <td>...</td>\n      <td>...</td>\n      <td>...</td>\n      <td>...</td>\n      <td>...</td>\n      <td>...</td>\n      <td>...</td>\n      <td>...</td>\n      <td>...</td>\n      <td>...</td>\n      <td>...</td>\n      <td>...</td>\n      <td>...</td>\n      <td>...</td>\n    </tr>\n    <tr>\n      <th>1026707</th>\n      <td>1026707</td>\n      <td>[[150.0546, 34.07], [151.0386, 49.75], [152.07...</td>\n      <td>NeuAc.alpha.2-6-GM1b-Cer(d18:1/18:0)</td>\n      <td>micromol/L in water/acetonitrile/formic acid (...</td>\n      <td>[M+2H]2+</td>\n      <td>MS2</td>\n      <td>HCD</td>\n      <td>Orbitrap Fusion Lumos</td>\n      <td>direct flow injection</td>\n      <td>ESI</td>\n      <td>...</td>\n      <td>NIST Mass Spectrometry Data Center</td>\n      <td>686788362416721691</td>\n      <td>1026723</td>\n      <td>692.9192</td>\n      <td>CCCCCCCCCCCCCC=C[CH](O)[CH](CO[CH]1OC(CO)[CH](...</td>\n      <td>29</td>\n      <td>NaN</td>\n      <td>NaN</td>\n      <td>NaN</td>\n      <td>150.0546\\t34.07\\n151.0386\\t49.75\\n152.0703\\t2....</td>\n    </tr>\n    <tr>\n      <th>1026708</th>\n      <td>1026708</td>\n      <td>[[150.0545, 60.94], [151.0385, 82.12], [154.04...</td>\n      <td>NeuAc.alpha.2-6-GM1b-Cer(d18:1/18:0)</td>\n      <td>micromol/L in water/acetonitrile/formic acid (...</td>\n      <td>[M+2H]2+</td>\n      <td>MS2</td>\n      <td>HCD</td>\n      <td>Orbitrap Fusion Lumos</td>\n      <td>direct flow injection</td>\n      <td>ESI</td>\n      <td>...</td>\n      <td>NIST Mass Spectrometry Data Center</td>\n      <td>686788362416721692</td>\n      <td>1026724</td>\n      <td>692.9192</td>\n      <td>CCCCCCCCCCCCCC=C[CH](O)[CH](CO[CH]1OC(CO)[CH](...</td>\n      <td>18</td>\n      <td>NaN</td>\n      <td>NaN</td>\n      <td>NaN</td>\n      <td>150.0545\\t60.94\\n151.0385\\t82.12\\n154.0496\\t10...</td>\n    </tr>\n    <tr>\n      <th>1026709</th>\n      <td>1026709</td>\n      <td>[[150.0547, 148.45], [151.0386, 134.47], [168....</td>\n      <td>NeuAc.alpha.2-6-GM1b-Cer(d18:1/18:0)</td>\n      <td>micromol/L in water/acetonitrile/formic acid (...</td>\n      <td>[M+2H]2+</td>\n      <td>MS2</td>\n      <td>HCD</td>\n      <td>Orbitrap Fusion Lumos</td>\n      <td>direct flow injection</td>\n      <td>ESI</td>\n      <td>...</td>\n      <td>NIST Mass Spectrometry Data Center</td>\n      <td>686788362416721693</td>\n      <td>1026725</td>\n      <td>692.9192</td>\n      <td>CCCCCCCCCCCCCC=C[CH](O)[CH](CO[CH]1OC(CO)[CH](...</td>\n      <td>8</td>\n      <td>NaN</td>\n      <td>NaN</td>\n      <td>NaN</td>\n      <td>150.0547\\t148.45\\n151.0386\\t134.47\\n168.0653\\t...</td>\n    </tr>\n    <tr>\n      <th>1026710</th>\n      <td>1026710</td>\n      <td>[[150.0547, 316.88], [151.0387, 334.07], [264....</td>\n      <td>NeuAc.alpha.2-6-GM1b-Cer(d18:1/18:0)</td>\n      <td>micromol/L in water/acetonitrile/formic acid (...</td>\n      <td>[M+2H]2+</td>\n      <td>MS2</td>\n      <td>HCD</td>\n      <td>Orbitrap Fusion Lumos</td>\n      <td>direct flow injection</td>\n      <td>ESI</td>\n      <td>...</td>\n      <td>NIST Mass Spectrometry Data Center</td>\n      <td>686788362416721694</td>\n      <td>1026726</td>\n      <td>692.9192</td>\n      <td>CCCCCCCCCCCCCC=C[CH](O)[CH](CO[CH]1OC(CO)[CH](...</td>\n      <td>4</td>\n      <td>NaN</td>\n      <td>NaN</td>\n      <td>NaN</td>\n      <td>150.0547\\t316.88\\n151.0387\\t334.07\\n264.2682\\t...</td>\n    </tr>\n    <tr>\n      <th>1026711</th>\n      <td>1026711</td>\n      <td>[[186.0757, 18.08], [197.0439, 5.39], [204.086...</td>\n      <td>NeuAc.alpha.2-6-GM1b-Cer(d18:1/18:0)</td>\n      <td>micromol/L in water/acetonitrile/formic acid (...</td>\n      <td>[M+2H]2+</td>\n      <td>MS2</td>\n      <td>IT-FT/ion trap with FTMS</td>\n      <td>Orbitrap Fusion Lumos</td>\n      <td>direct flow injection</td>\n      <td>ESI</td>\n      <td>...</td>\n      <td>NIST Mass Spectrometry Data Center</td>\n      <td>686788362416721695</td>\n      <td>1026727</td>\n      <td>692.9192</td>\n      <td>CCCCCCCCCCCCCC=C[CH](O)[CH](CO[CH]1OC(CO)[CH](...</td>\n      <td>91</td>\n      <td>NaN</td>\n      <td>NaN</td>\n      <td>NaN</td>\n      <td>186.0757\\t18.08\\n197.0439\\t5.39\\n204.0863\\t96....</td>\n    </tr>\n  </tbody>\n</table>\n<p>1026712 rows × 32 columns</p>\n</div>"
     },
     "execution_count": 32,
     "metadata": {},
     "output_type": "execute_result"
    }
   ],
   "source": [
    "nist"
   ],
   "metadata": {
    "collapsed": false,
    "pycharm": {
     "name": "#%%\n"
    }
   }
  },
  {
   "cell_type": "code",
   "execution_count": 33,
   "outputs": [],
   "source": [
    "nist_cleaned = nist[['Name', 'Precursor_type','msms', 'Spectrum_type','Instrument_type','Instrument','Sample_inlet', 'Ionization', 'Collision_energy','Ion_mode', 'Inchikey', 'Smiles', ]]"
   ],
   "metadata": {
    "collapsed": false,
    "pycharm": {
     "name": "#%%\n"
    }
   }
  },
  {
   "cell_type": "code",
   "execution_count": 34,
   "outputs": [],
   "source": [
    "nist_cleaned.to_csv(os.path.join(master_dir, 'nist_20_cleaned_all.csv'), index = False)"
   ],
   "metadata": {
    "collapsed": false,
    "pycharm": {
     "name": "#%%\n"
    }
   }
  },
  {
   "cell_type": "code",
   "execution_count": 35,
   "outputs": [],
   "source": [
    "from toolsets.search import string_search"
   ],
   "metadata": {
    "collapsed": false,
    "pycharm": {
     "name": "#%%\n"
    }
   }
  },
  {
   "cell_type": "code",
   "execution_count": 36,
   "outputs": [],
   "source": [
    "nist_filtered = string_search(nist_cleaned,'Spectrum_type', 'MS2')"
   ],
   "metadata": {
    "collapsed": false,
    "pycharm": {
     "name": "#%%\n"
    }
   }
  },
  {
   "cell_type": "code",
   "execution_count": 37,
   "outputs": [],
   "source": [
    "nist_filtered= string_search(nist_filtered, 'Ionization', 'ESI')"
   ],
   "metadata": {
    "collapsed": false,
    "pycharm": {
     "name": "#%%\n"
    }
   }
  },
  {
   "cell_type": "code",
   "execution_count": 39,
   "outputs": [],
   "source": [
    "nist_filtered.to_csv(os.path.join(master_dir, 'nist_filtered.csv'), index = False)"
   ],
   "metadata": {
    "collapsed": false,
    "pycharm": {
     "name": "#%%\n"
    }
   }
  },
  {
   "cell_type": "markdown",
   "source": [
    "# let's continue tomorrow..."
   ],
   "metadata": {
    "collapsed": false,
    "pycharm": {
     "name": "#%% md\n"
    }
   }
  },
  {
   "cell_type": "code",
   "execution_count": 2,
   "outputs": [],
   "source": [
    "nist = pd.read_csv(os.path.join(master_dir, 'nist_filtered.csv'))"
   ],
   "metadata": {
    "collapsed": false,
    "pycharm": {
     "name": "#%%\n"
    }
   }
  },
  {
   "cell_type": "code",
   "execution_count": 3,
   "outputs": [
    {
     "data": {
      "text/plain": "(1021914, 12)"
     },
     "execution_count": 3,
     "metadata": {},
     "output_type": "execute_result"
    }
   ],
   "source": [
    "nist.shape"
   ],
   "metadata": {
    "collapsed": false,
    "pycharm": {
     "name": "#%%\n"
    }
   }
  },
  {
   "cell_type": "code",
   "execution_count": 4,
   "outputs": [],
   "source": [
    "from toolsets.std_list_prep import calculate_precursormz\n",
    "import toolsets.denoising_related_functions as de"
   ],
   "metadata": {
    "collapsed": false,
    "pycharm": {
     "name": "#%%\n"
    }
   }
  },
  {
   "cell_type": "code",
   "execution_count": 5,
   "outputs": [
    {
     "name": "stderr",
     "output_type": "stream",
     "text": [
      "100%|██████████| 1021914/1021914 [05:30<00:00, 3089.73it/s]\n"
     ]
    }
   ],
   "source": [
    "n_1bp = []\n",
    "n_all = []\n",
    "ce=[]\n",
    "for index, row in tqdm(nist.iterrows(), total= len(nist)):\n",
    "    try:\n",
    "        pmz =calculate_precursormz(row['Smiles'], row['Precursor_type'])\n",
    "        msms_truncate = so.truncate_msms(row['msms'], pmz-1.6)\n",
    "        msms_above1 = de.denoise_bp(row['msms'], pmz, 1)\n",
    "        n_1bp.append(so.num_peaks(row['msms'])-so.num_peaks(msms_above1))\n",
    "        n_all.append(so.num_peaks(row['msms']))\n",
    "        ce.append(row['Collision_energy'])\n",
    "    except:\n",
    "        pass\n"
   ],
   "metadata": {
    "collapsed": false,
    "pycharm": {
     "name": "#%%\n"
    }
   }
  },
  {
   "cell_type": "code",
   "execution_count": 8,
   "outputs": [
    {
     "data": {
      "text/plain": "0.38458181710202405"
     },
     "execution_count": 8,
     "metadata": {},
     "output_type": "execute_result"
    }
   ],
   "source": [
    "np.sum(n_1bp)/np.sum(n_all)"
   ],
   "metadata": {
    "collapsed": false,
    "pycharm": {
     "name": "#%%\n"
    }
   }
  },
  {
   "cell_type": "code",
   "execution_count": 9,
   "outputs": [],
   "source": [
    "mass1 = [100, 101, 102]\n",
    "intensity1 = [1,100, 2]"
   ],
   "metadata": {
    "collapsed": false,
    "pycharm": {
     "name": "#%%\n"
    }
   }
  },
  {
   "cell_type": "code",
   "execution_count": 10,
   "outputs": [],
   "source": [
    "msms = so.pack_spectra(mass1, intensity1`)"
   ],
   "metadata": {
    "collapsed": false,
    "pycharm": {
     "name": "#%%\n"
    }
   }
  },
  {
   "cell_type": "code",
   "execution_count": 84,
   "outputs": [],
   "source": [
    "import random\n",
    "import numpy as np"
   ],
   "metadata": {
    "collapsed": false,
    "pycharm": {
     "name": "#%%\n"
    }
   }
  },
  {
   "cell_type": "code",
   "execution_count": 85,
   "outputs": [],
   "source": [
    "from toolsets.std_list_prep import calculate_precursormz"
   ],
   "metadata": {
    "collapsed": false,
    "pycharm": {
     "name": "#%%\n"
    }
   }
  },
  {
   "cell_type": "code",
   "execution_count": 10,
   "outputs": [],
   "source": [
    "from toolsets.constants import single_charged_adduct_mass"
   ],
   "metadata": {
    "collapsed": false,
    "pycharm": {
     "name": "#%%\n"
    }
   }
  },
  {
   "cell_type": "code",
   "execution_count": 86,
   "outputs": [],
   "source": [
    "selected_adducts = ['[M+H]+',\n",
    "                    '[M-H]-',\n",
    "                    '[M+Na]+',\n",
    "                    '[M+FA-H]-',\n",
    "                    '[M+Cl]-',\n",
    "                    '[M+NH4]+',\n",
    "                    '[M+K]+']"
   ],
   "metadata": {
    "collapsed": false,
    "pycharm": {
     "name": "#%%\n"
    }
   }
  },
  {
   "cell_type": "code",
   "execution_count": 87,
   "outputs": [],
   "source": [
    "nist_selected = nist[nist['Precursor_type'].isin(selected_adducts)]"
   ],
   "metadata": {
    "collapsed": false,
    "pycharm": {
     "name": "#%%\n"
    }
   }
  },
  {
   "cell_type": "code",
   "execution_count": 88,
   "outputs": [],
   "source": [
    "nist_selected.dropna(subset=['Smiles'], inplace=True)"
   ],
   "metadata": {
    "collapsed": false,
    "pycharm": {
     "name": "#%%\n"
    }
   }
  },
  {
   "cell_type": "code",
   "execution_count": 8,
   "outputs": [],
   "source": [
    "precursor_mz = []\n",
    "for index, row in nist_selected.iterrows():\n",
    "    try:\n",
    "        precursor_mz.append(calculate_precursormz(row['Smiles'], row['Precursor_type']))\n",
    "    except:\n",
    "        precursor_mz.append(np.NAN)\n",
    "nist_selected.insert(2, 'Precursor_MZ', precursor_mz)"
   ],
   "metadata": {
    "collapsed": false,
    "pycharm": {
     "name": "#%%\n"
    }
   }
  },
  {
   "cell_type": "code",
   "execution_count": 10,
   "outputs": [],
   "source": [
    "from tqdm import tqdm"
   ],
   "metadata": {
    "collapsed": false,
    "pycharm": {
     "name": "#%%\n"
    }
   }
  },
  {
   "cell_type": "code",
   "execution_count": 12,
   "outputs": [
    {
     "name": "stderr",
     "output_type": "stream",
     "text": [
      "100%|██████████| 490716/490716 [00:18<00:00, 26072.53it/s]\n"
     ]
    }
   ],
   "source": [
    "spectral_entropy = []\n",
    "for index, row in tqdm(nist_selected.iterrows(), total= len(nist_selected)):\n",
    "    spectral_entropy.append(so.spectral_entropy(row['msms']))\n",
    "nist_selected.insert(4, 'spectral_entropy', spectral_entropy)"
   ],
   "metadata": {
    "collapsed": false,
    "pycharm": {
     "name": "#%%\n"
    }
   }
  },
  {
   "cell_type": "code",
   "execution_count": 13,
   "outputs": [],
   "source": [
    "import seaborn as sns\n",
    "from toolsets.search import string_search, quick_search_values"
   ],
   "metadata": {
    "collapsed": false,
    "pycharm": {
     "name": "#%%\n"
    }
   }
  },
  {
   "cell_type": "code",
   "execution_count": 14,
   "outputs": [],
   "source": [
    "nist_selected = nist_selected[nist_selected['spectral_entropy']>0.5]"
   ],
   "metadata": {
    "collapsed": false,
    "pycharm": {
     "name": "#%%\n"
    }
   }
  },
  {
   "cell_type": "code",
   "execution_count": 2,
   "outputs": [
    {
     "ename": "NameError",
     "evalue": "name 'string_search' is not defined",
     "output_type": "error",
     "traceback": [
      "\u001B[0;31m---------------------------------------------------------------------------\u001B[0m",
      "\u001B[0;31mNameError\u001B[0m                                 Traceback (most recent call last)",
      "Input \u001B[0;32mIn [2]\u001B[0m, in \u001B[0;36m<cell line: 1>\u001B[0;34m()\u001B[0m\n\u001B[0;32m----> 1\u001B[0m nist_selected \u001B[38;5;241m=\u001B[39m \u001B[43mstring_search\u001B[49m(nist_selected, \u001B[38;5;124m'\u001B[39m\u001B[38;5;124mSample_inlet\u001B[39m\u001B[38;5;124m'\u001B[39m, \u001B[38;5;124m'\u001B[39m\u001B[38;5;124mdirect flow injection\u001B[39m\u001B[38;5;124m'\u001B[39m)\n",
      "\u001B[0;31mNameError\u001B[0m: name 'string_search' is not defined"
     ]
    }
   ],
   "source": [
    "nist_selected = string_search(nist_selected, 'Sample_inlet', 'direct flow injection')"
   ],
   "metadata": {
    "collapsed": false,
    "pycharm": {
     "name": "#%%\n"
    }
   }
  },
  {
   "cell_type": "code",
   "execution_count": 18,
   "outputs": [],
   "source": [
    "nist_selected.to_csv(os.path.join(master_dir, 'nist_selected.csv'), index = False)"
   ],
   "metadata": {
    "collapsed": false,
    "pycharm": {
     "name": "#%%\n"
    }
   }
  },
  {
   "cell_type": "code",
   "execution_count": 19,
   "outputs": [],
   "source": [
    "nist_sampled = nist_selected.sample(2000)"
   ],
   "metadata": {
    "collapsed": false,
    "pycharm": {
     "name": "#%%\n"
    }
   }
  },
  {
   "cell_type": "code",
   "execution_count": null,
   "outputs": [],
   "source": [],
   "metadata": {
    "collapsed": false,
    "pycharm": {
     "name": "#%%\n"
    }
   }
  },
  {
   "cell_type": "code",
   "execution_count": 102,
   "outputs": [],
   "source": [
    "from toolsets.denoising_related_functions import denoise_h, evaluate_nl_blacklist\n",
    "import matplotlib.pyplot as plt"
   ],
   "metadata": {
    "collapsed": false,
    "pycharm": {
     "name": "#%%\n"
    }
   }
  },
  {
   "cell_type": "code",
   "execution_count": 22,
   "outputs": [],
   "source": [],
   "metadata": {
    "collapsed": false,
    "pycharm": {
     "name": "#%%\n"
    }
   }
  },
  {
   "cell_type": "code",
   "execution_count": 101,
   "outputs": [
    {
     "data": {
      "text/plain": "(2000, 15)"
     },
     "execution_count": 101,
     "metadata": {},
     "output_type": "execute_result"
    }
   ],
   "source": [
    "nist_sampled.shape"
   ],
   "metadata": {
    "collapsed": false,
    "pycharm": {
     "name": "#%%\n"
    }
   }
  },
  {
   "cell_type": "code",
   "execution_count": null,
   "outputs": [],
   "source": [
    "for index, row in tqdm(nist_sampled.iterrows(), total = len(nist_sampled)):\n",
    "    try:\n",
    "        results = denoise_h(row['msms'], row['Smiles'], row['Precursor_type'], reference_db_sorted, mass_error=0.005)\n",
    "        msms_d.append(results[0])\n",
    "        ei.append(results[1])\n",
    "    except:\n",
    "        msms_d.append(np.NAN)\n",
    "        ei.append(np.NAN)"
   ],
   "metadata": {
    "collapsed": false,
    "pycharm": {
     "name": "#%%\n"
    }
   }
  },
  {
   "cell_type": "code",
   "execution_count": 24,
   "outputs": [
    {
     "name": "stderr",
     "output_type": "stream",
     "text": [
      "100%|██████████| 2000/2000 [02:35<00:00, 12.88it/s]\n",
      "100%|██████████| 2000/2000 [02:23<00:00, 13.97it/s]\n",
      "100%|██████████| 2000/2000 [03:02<00:00, 10.99it/s]\n",
      "100%|██████████| 2000/2000 [04:23<00:00,  7.59it/s]\n",
      "100%|██████████| 2000/2000 [08:02<00:00,  4.14it/s] \n"
     ]
    }
   ],
   "source": [
    "for mass_error in [0.02, 0.01, 0.005, 0.0025, 0.001]:\n",
    "    msms_d = []\n",
    "    ei = []\n",
    "    for index, row in tqdm(nist_sampled.iterrows(), total = len(nist_sampled)):\n",
    "        try:\n",
    "            results = denoise_h(row['msms'], row['Smiles'], row['Precursor_type'], reference_db_sorted, mass_error=mass_error)\n",
    "            msms_d.append(results[0])\n",
    "            ei.append(results[1])\n",
    "        except:\n",
    "            msms_d.append(np.NAN)\n",
    "            ei.append(np.NAN)\n",
    "    col_name_msms = 'msms_d_'+str(mass_error)\n",
    "    col_name_ei = 'ei_'+str(mass_error)\n",
    "    nist_sampled[col_name_msms]=msms_d\n",
    "    nist_sampled[col_name_ei]=ei"
   ],
   "metadata": {
    "collapsed": false,
    "pycharm": {
     "name": "#%%\n"
    }
   }
  },
  {
   "cell_type": "code",
   "execution_count": null,
   "outputs": [],
   "source": [
    "msms_d = []\n",
    "ei = []\n",
    "for index, row in tqdm(nist_sampled.iterrows(), total = len(nist_sampled)):\n",
    "    try:\n",
    "        results = denoise_h(row['msms'], row['Smiles'], row['Precursor_type'], reference_db_sorted, mass_error=mass_error)\n",
    "        msms_d.append(results[0])\n",
    "        ei.append(results[1])\n",
    "    except:\n",
    "        msms_d.append(np.NAN)\n",
    "        ei.append(np.NAN)\n",
    "col_name_msms = 'msms_d_'+str(mass_error)\n",
    "col_name_ei = 'ei_'+str(mass_error)\n",
    "nist_sampled[col_name_msms]=msms_d\n",
    "nist_sampled[col_name_ei]=ei"
   ],
   "metadata": {
    "collapsed": false,
    "pycharm": {
     "name": "#%%\n"
    }
   }
  },
  {
   "cell_type": "code",
   "execution_count": 54,
   "outputs": [],
   "source": [
    "names = []\n",
    "mean = []\n",
    "std = []\n",
    "quantile_95 = []\n",
    "for mass_error in [0.02, 0.01, 0.005, 0.0025, 0.001]:\n",
    "    col_name_ei = 'ei_'+str(mass_error)\n",
    "    result_temp = nist_sampled[col_name_ei].describe()\n",
    "    names.append(col_name_ei)\n",
    "    quantile_95.append(nist_sampled[col_name_ei].quantile(0.05))\n",
    "    mean.append(result_temp['mean'])\n",
    "    std.append(result_temp['std'])\n",
    "    # break\n",
    "result_df = pd.DataFrame(zip(names, mean,quantile_95, std), columns=['stage','mean', 'quantile', 'std'])\n",
    "sns.lineplot(result_df, x = 'stage', y = 'quantile')\n",
    "plt.hlines(y = 90, xmin=result_df.iloc[0]['stage'], xmax=result_df.iloc[-1]['stage'])"
   ],
   "metadata": {
    "collapsed": false,
    "pycharm": {
     "name": "#%%\n"
    }
   }
  },
  {
   "cell_type": "code",
   "execution_count": 64,
   "outputs": [
    {
     "name": "stderr",
     "output_type": "stream",
     "text": [
      "100%|██████████| 2000/2000 [02:48<00:00, 11.90it/s]\n",
      "100%|██████████| 2000/2000 [03:55<00:00,  8.47it/s]\n",
      "100%|██████████| 2000/2000 [07:29<00:00,  4.45it/s] \n"
     ]
    }
   ],
   "source": [
    "for mass_error in [0.005, 0.0025, 0.001]:\n",
    "    msms_d = []\n",
    "    ei = []\n",
    "    for index, row in tqdm(nist_sampled.iterrows(), total = len(nist_sampled)):\n",
    "        try:\n",
    "            results = denoise_h(row['msms'], row['Smiles'], row['Precursor_type'], reference_db_sorted, mass_error=mass_error)\n",
    "            msms_d.append(results[0])\n",
    "            ei.append(results[1])\n",
    "        except:\n",
    "            msms_d.append(np.NAN)\n",
    "            ei.append(np.NAN)\n",
    "    col_name_msms = 'msms_d_'+str(mass_error)\n",
    "    col_name_ei = 'ei_'+str(mass_error)\n",
    "    nist_sampled[col_name_msms]=msms_d\n",
    "    nist_sampled[col_name_ei]=ei"
   ],
   "metadata": {
    "collapsed": false,
    "pycharm": {
     "name": "#%%\n"
    }
   }
  },
  {
   "cell_type": "code",
   "execution_count": 65,
   "outputs": [
    {
     "data": {
      "text/plain": "<matplotlib.collections.LineCollection at 0x1471af730>"
     },
     "execution_count": 65,
     "metadata": {},
     "output_type": "execute_result"
    },
    {
     "data": {
      "text/plain": "<Figure size 640x480 with 1 Axes>",
      "image/png": "[encoded data removed]"
     },
     "metadata": {},
     "output_type": "display_data"
    }
   ],
   "source": [
    "names = []\n",
    "mean = []\n",
    "std = []\n",
    "quantile_95 = []\n",
    "for mass_error in [0.005, 0.0025, 0.001]:\n",
    "    col_name_ei = 'ei_'+str(mass_error)\n",
    "    result_temp = nist_sampled[col_name_ei].describe()\n",
    "    names.append(col_name_ei)\n",
    "    quantile_95.append(nist_sampled[col_name_ei].quantile(0.05))\n",
    "    mean.append(result_temp['mean'])\n",
    "    std.append(result_temp['std'])\n",
    "    # break\n",
    "result_df = pd.DataFrame(zip(names, mean,quantile_95, std), columns=['stage','mean', 'quantile', 'std'])\n",
    "sns.lineplot(result_df, x = 'stage', y = 'quantile')\n",
    "plt.hlines(y = 90, xmin=result_df.iloc[0]['stage'], xmax=result_df.iloc[-1]['stage'])"
   ],
   "metadata": {
    "collapsed": false,
    "pycharm": {
     "name": "#%%\n"
    }
   }
  },
  {
   "cell_type": "code",
   "execution_count": 67,
   "outputs": [],
   "source": [
    "from toolsets.mass_to_formula import MolecularFormula, atom_mass_array, numpy_formula_format,atom_list\n",
    "from toolsets.denoising_related_functions import prep_formula\n",
    "import itertools\n",
    "from toolsets.std_list_prep import calculate_precursormz\n",
    "import numpy as np\n",
    "from molmass import Formula\n",
    "from toolsets.mass_to_formula import atom_list\n",
    "def get_allowed_formula(all_possible_candidate_formula, element):\n",
    "\n",
    "    idx = atom_list.index(element)\n",
    "    all_allowed_candidate_formula = np.copy(all_possible_candidate_formula)\n",
    "    pop_idx = []\n",
    "    for i in range(len(all_possible_candidate_formula)):\n",
    "        if np.max(all_possible_candidate_formula[i][0:idx])==0 and np.max(all_possible_candidate_formula[i][idx+1:])==0:\n",
    "            pop_idx.append(i)\n",
    "    all_allowed_candidate_formula = np.delete(all_allowed_candidate_formula, pop_idx, axis=0)\n",
    "    # all_allowed_candidate_formula.append(all_possible_candidate_formula[i])\n",
    "    return(all_allowed_candidate_formula)\n",
    "def get_all_allowed_formula(all_possible_candidate_formula, elements):\n",
    "    all_allowed_candidate_formula = np.copy(all_possible_candidate_formula)\n",
    "    for element in elements:\n",
    "        all_allowed_candidate_formula = get_allowed_formula(all_allowed_candidate_formula, element = element)\n",
    "    return(all_allowed_candidate_formula)\n",
    "def math_check(smiles, adduct):\n",
    "    precursor_mz = calculate_precursormz(smiles, adduct)\n",
    "    formula = prep_formula(smiles, adduct)\n",
    "    precursor_formula = MolecularFormula()\n",
    "\n",
    "    precursor_formula.from_string(Formula(formula).formula)\n",
    "    precursor_data = precursor_formula.get_data()\n",
    "    formula_range = [range(x + 1) for x in precursor_data]\n",
    "    forbidden_elements = ['C','N']\n",
    "    if 'Na' in formula:\n",
    "        forbidden_elements.append('Na')\n",
    "    elif 'K' in formula:\n",
    "        forbidden_elements.append('K')\n",
    "    elif 'Cl' in formula:\n",
    "        forbidden_elements.append('Cl')\n",
    "    all_possible_candidate_formula = np.array(\n",
    "        list(itertools.product(*formula_range)), numpy_formula_format)\n",
    "    all_allowed_candidate_formula = get_all_allowed_formula(all_possible_candidate_formula, elements=forbidden_elements)\n",
    "    all_possible_mass = np.sum(\n",
    "        atom_mass_array * all_allowed_candidate_formula, axis=1)\n",
    "    return(all_possible_mass)\n",
    "    all_possible_mass.sort()\n",
    "    diff = np.diff(all_possible_mass)\n",
    "    allowed_region = (len(all_possible_mass)-len(diff[diff<=0.005]))*0.005*2\n",
    "    return(allowed_region/precursor_mz)"
   ],
   "metadata": {
    "collapsed": false,
    "pycharm": {
     "name": "#%%\n"
    }
   }
  },
  {
   "cell_type": "code",
   "execution_count": 6,
   "outputs": [],
   "source": [
    "from toolsets.mass_to_formula import MolecularFormula"
   ],
   "metadata": {
    "collapsed": false,
    "pycharm": {
     "name": "#%%\n"
    }
   }
  },
  {
   "cell_type": "code",
   "execution_count": 19,
   "outputs": [],
   "source": [
    "from molmass import Formula"
   ],
   "metadata": {
    "collapsed": false,
    "pycharm": {
     "name": "#%%\n"
    }
   }
  },
  {
   "cell_type": "code",
   "execution_count": 2,
   "outputs": [
    {
     "ename": "NameError",
     "evalue": "name 'pd' is not defined",
     "output_type": "error",
     "traceback": [
      "\u001B[0;31m---------------------------------------------------------------------------\u001B[0m",
      "\u001B[0;31mNameError\u001B[0m                                 Traceback (most recent call last)",
      "Input \u001B[0;32mIn [2]\u001B[0m, in \u001B[0;36m<cell line: 1>\u001B[0;34m()\u001B[0m\n\u001B[0;32m----> 1\u001B[0m nist_selected \u001B[38;5;241m=\u001B[39m \u001B[43mpd\u001B[49m\u001B[38;5;241m.\u001B[39mread_csv(os\u001B[38;5;241m.\u001B[39mpath\u001B[38;5;241m.\u001B[39mjoin(master_dir, \u001B[38;5;124m'\u001B[39m\u001B[38;5;124mnist_selected.csv\u001B[39m\u001B[38;5;124m'\u001B[39m))\n",
      "\u001B[0;31mNameError\u001B[0m: name 'pd' is not defined"
     ]
    }
   ],
   "source": [
    "nist_selected = pd.read_csv(os.path.join(master_dir, 'nist_selected.csv'))"
   ],
   "metadata": {
    "collapsed": false,
    "pycharm": {
     "name": "#%%\n"
    }
   }
  },
  {
   "cell_type": "code",
   "execution_count": null,
   "outputs": [],
   "source": [],
   "metadata": {
    "collapsed": false,
    "pycharm": {
     "name": "#%%\n"
    }
   }
  },
  {
   "cell_type": "code",
   "execution_count": 25,
   "outputs": [],
   "source": [
    "nist_sampled = nist_selected.sample(2000)"
   ],
   "metadata": {
    "collapsed": false,
    "pycharm": {
     "name": "#%%\n"
    }
   }
  },
  {
   "cell_type": "code",
   "execution_count": 56,
   "outputs": [
    {
     "name": "stderr",
     "output_type": "stream",
     "text": [
      "100%|██████████| 2000/2000 [06:07<00:00,  5.43it/s]\n"
     ]
    }
   ],
   "source": [
    "allowed_percent = []\n",
    "for index, row in tqdm(nist_sampled.iterrows(), total= len(nist_sampled)):\n",
    "    try:\n",
    "        allowed_percent.append(math_check(row['Smiles'], row['Precursor_type']))\n",
    "    except:\n",
    "        allowed_percent.append(np.NAN)"
   ],
   "metadata": {
    "collapsed": false,
    "pycharm": {
     "name": "#%%\n"
    }
   }
  },
  {
   "cell_type": "code",
   "execution_count": 59,
   "outputs": [],
   "source": [
    "nist_sampled['allowed_percent']=allowed_percent"
   ],
   "metadata": {
    "collapsed": false,
    "pycharm": {
     "name": "#%%\n"
    }
   }
  },
  {
   "cell_type": "code",
   "execution_count": 77,
   "outputs": [
    {
     "data": {
      "text/plain": "                                                     Name Precursor_type  \\\n394977  (3.beta.,5.Xi.,9.Xi.)-23,28-Dihydroxyoleana-11...         [M+H]+   \n251769                                    Thalictoside VI         [M-H]-   \n368160  1-O-(3-((Hexopyranosyl-(1->2)-6-deoxyhexopyran...         [M-H]-   \n304266  21,22,23-Trihydroxy-9,19-cyclolanost-24-en-3-y...         [M-H]-   \n27583   1-Stearoyl-2-docosahexaenoyl-sn-glycero-3-phos...         [M-H]-   \n...                                                   ...            ...   \n338445                       5-Bromo-2,3-dichloropyridine         [M+H]+   \n415894                           2-Amino-5-iodopyrimidine         [M+H]+   \n207187               5-Fluoro-2-methoxyphenylboronic acid         [M+H]+   \n405432                        (4-Nitrophenyl)arsonic acid         [M+H]+   \n43383                                         Flusilazole         [M+H]+   \n\n        Precursor_MZ                                               msms  \\\n394977   1089.584001  101.0594\\t35.66\\n105.0696\\t36.56\\n107.0852\\t78...   \n251769   1073.553798  323.0989\\t57.74\\n324.1024\\t8.89\\n325.1143\\t2.5...   \n368160   1101.548713  101.0245\\t14.09\\n111.0085\\t1.5\\n112.0164\\t2.2\\...   \n304266    959.522104  101.0243\\t181.32\\n113.0243\\t321.58\\n119.0349\\t...   \n27583     821.533809  78.959\\t59.84\\n83.0502\\t2.3\\n91.0552\\t1.5\\n93....   \n...              ...                                                ...   \n338445    225.882043  51.9399\\t3.7\\n55.9343\\t6.69\\n56.9422\\t4.2\\n59....   \n415894    221.952271  52.018\\t64.84\\n52.0195\\t2.2\\n53.0258\\t11.59\\n5...   \n207187    171.062329  51.0231\\t52.05\\n53.0386\\t10.79\\n55.0178\\t1.8\\n...   \n405432    247.953470  63.0229\\t1.8\\n64.0307\\t9.39\\n65.0386\\t5.99\\n68...   \n43383     316.107606  50.0153\\t21.68\\n51.0231\\t69.63\\n52.0263\\t17.88...   \n\n        spectral_entropy Spectrum_type           Instrument_type  \\\n394977          3.714473           MS2                       HCD   \n251769          1.973398           MS2  IT-FT/ion trap with FTMS   \n368160          1.982889           MS2                       HCD   \n304266          2.424720           MS2                       HCD   \n27583           2.438685           MS2                       HCD   \n...                  ...           ...                       ...   \n338445          2.814103           MS2                       HCD   \n415894          1.133686           MS2                       HCD   \n207187          2.083162           MS2                       HCD   \n405432          2.545073           MS2                       HCD   \n43383           3.304920           MS2                       HCD   \n\n                            Instrument           Sample_inlet Ionization  \\\n394977           Orbitrap Fusion Lumos  direct flow injection        ESI   \n251769           Orbitrap Fusion Lumos  direct flow injection        ESI   \n368160           Orbitrap Fusion Lumos  direct flow injection        ESI   \n304266  Thermo Finnigan Elite Orbitrap  direct flow injection        ESI   \n27583   Thermo Finnigan Elite Orbitrap  direct flow injection        ESI   \n...                                ...                    ...        ...   \n338445  Thermo Finnigan Elite Orbitrap  direct flow injection        ESI   \n415894           Orbitrap Fusion Lumos  direct flow injection        ESI   \n207187           Orbitrap Fusion Lumos  direct flow injection        ESI   \n405432  Thermo Finnigan Elite Orbitrap  direct flow injection        ESI   \n43383   Thermo Finnigan Elite Orbitrap  direct flow injection        ESI   \n\n       Collision_energy Ion_mode        Inchikey  \\\n394977          NCE=44%        P  IOKZOXALSJFDJR   \n251769          NCE=35%        N  ATUHGDXZHWBGHX   \n368160          NCE=54%        N  UDPVBZZTXOCTNJ   \n304266     NCE=30% 67eV        N  XYRFTNNAIDSPBG   \n27583      NCE=35% 55eV        N  CLQKBJHAUYGCOB   \n...                 ...      ...             ...   \n338445    NCE=110% 49eV        P  XWSCOGPKWVNQSV   \n415894     NCE=65% 46eV        P  HAFKCGZQRIIADX   \n207187          NCE=50%        P  CCQKIRUMTHHPSX   \n405432     NCE=45% 22eV        P  FUUFQLXAIUOWML   \n43383      NCE=95% 62eV        P  FQKUGOMFVDPBIZ   \n\n                                                   Smiles  allowed_percent  \n394977  CC1OC(OC2C(CO)OC(OC3C(O)C(CO)OC(O[CH]4CC[C]5(C...         0.652332  \n251769  C[CH]1O[CH](O[CH]2CO[CH](O[CH]3CC[C]4(C)C(CC[C...         0.640396  \n368160  CC1OC(OC2C(O)C(OC3CCC4(C)C(CCC5(C)C4CC=C4C6CC(...         0.628197  \n304266  CC(C)=CC(O)C(O)C(CO)C1CCC2(C)C3CCC4C(C)(C)C(OC...         0.627740  \n27583   CCC=CCC=CCC=CCC=CCC=CCC=CCCC(=O)O[CH](COC(=O)C...         0.595776  \n...                                                   ...              ...  \n338445                                   Clc1cc(Br)cnc1Cl         0.009164  \n415894                                       Nc1ncc(I)cn1         0.008651  \n207187                                 COc1ccc(F)cc1B(O)O              NaN  \n405432                 O=[N+]([O-])c1ccc([As](=O)(O)O)cc1              NaN  \n43383             C[Si](Cn1cncn1)(c1ccc(F)cc1)c1ccc(F)cc1              NaN  \n\n[2000 rows x 15 columns]",
      "text/html": "<div>\n<style scoped>\n    .dataframe tbody tr th:only-of-type {\n        vertical-align: middle;\n    }\n\n    .dataframe tbody tr th {\n        vertical-align: top;\n    }\n\n    .dataframe thead th {\n        text-align: right;\n    }\n</style>\n<table border=\"1\" class=\"dataframe\">\n  <thead>\n    <tr style=\"text-align: right;\">\n      <th></th>\n      <th>Name</th>\n      <th>Precursor_type</th>\n      <th>Precursor_MZ</th>\n      <th>msms</th>\n      <th>spectral_entropy</th>\n      <th>Spectrum_type</th>\n      <th>Instrument_type</th>\n      <th>Instrument</th>\n      <th>Sample_inlet</th>\n      <th>Ionization</th>\n      <th>Collision_energy</th>\n      <th>Ion_mode</th>\n      <th>Inchikey</th>\n      <th>Smiles</th>\n      <th>allowed_percent</th>\n    </tr>\n  </thead>\n  <tbody>\n    <tr>\n      <th>394977</th>\n      <td>(3.beta.,5.Xi.,9.Xi.)-23,28-Dihydroxyoleana-11...</td>\n      <td>[M+H]+</td>\n      <td>1089.584001</td>\n      <td>101.0594\\t35.66\\n105.0696\\t36.56\\n107.0852\\t78...</td>\n      <td>3.714473</td>\n      <td>MS2</td>\n      <td>HCD</td>\n      <td>Orbitrap Fusion Lumos</td>\n      <td>direct flow injection</td>\n      <td>ESI</td>\n      <td>NCE=44%</td>\n      <td>P</td>\n      <td>IOKZOXALSJFDJR</td>\n      <td>CC1OC(OC2C(CO)OC(OC3C(O)C(CO)OC(O[CH]4CC[C]5(C...</td>\n      <td>0.652332</td>\n    </tr>\n    <tr>\n      <th>251769</th>\n      <td>Thalictoside VI</td>\n      <td>[M-H]-</td>\n      <td>1073.553798</td>\n      <td>323.0989\\t57.74\\n324.1024\\t8.89\\n325.1143\\t2.5...</td>\n      <td>1.973398</td>\n      <td>MS2</td>\n      <td>IT-FT/ion trap with FTMS</td>\n      <td>Orbitrap Fusion Lumos</td>\n      <td>direct flow injection</td>\n      <td>ESI</td>\n      <td>NCE=35%</td>\n      <td>N</td>\n      <td>ATUHGDXZHWBGHX</td>\n      <td>C[CH]1O[CH](O[CH]2CO[CH](O[CH]3CC[C]4(C)C(CC[C...</td>\n      <td>0.640396</td>\n    </tr>\n    <tr>\n      <th>368160</th>\n      <td>1-O-(3-((Hexopyranosyl-(1-&gt;2)-6-deoxyhexopyran...</td>\n      <td>[M-H]-</td>\n      <td>1101.548713</td>\n      <td>101.0245\\t14.09\\n111.0085\\t1.5\\n112.0164\\t2.2\\...</td>\n      <td>1.982889</td>\n      <td>MS2</td>\n      <td>HCD</td>\n      <td>Orbitrap Fusion Lumos</td>\n      <td>direct flow injection</td>\n      <td>ESI</td>\n      <td>NCE=54%</td>\n      <td>N</td>\n      <td>UDPVBZZTXOCTNJ</td>\n      <td>CC1OC(OC2C(O)C(OC3CCC4(C)C(CCC5(C)C4CC=C4C6CC(...</td>\n      <td>0.628197</td>\n    </tr>\n    <tr>\n      <th>304266</th>\n      <td>21,22,23-Trihydroxy-9,19-cyclolanost-24-en-3-y...</td>\n      <td>[M-H]-</td>\n      <td>959.522104</td>\n      <td>101.0243\\t181.32\\n113.0243\\t321.58\\n119.0349\\t...</td>\n      <td>2.424720</td>\n      <td>MS2</td>\n      <td>HCD</td>\n      <td>Thermo Finnigan Elite Orbitrap</td>\n      <td>direct flow injection</td>\n      <td>ESI</td>\n      <td>NCE=30% 67eV</td>\n      <td>N</td>\n      <td>XYRFTNNAIDSPBG</td>\n      <td>CC(C)=CC(O)C(O)C(CO)C1CCC2(C)C3CCC4C(C)(C)C(OC...</td>\n      <td>0.627740</td>\n    </tr>\n    <tr>\n      <th>27583</th>\n      <td>1-Stearoyl-2-docosahexaenoyl-sn-glycero-3-phos...</td>\n      <td>[M-H]-</td>\n      <td>821.533809</td>\n      <td>78.959\\t59.84\\n83.0502\\t2.3\\n91.0552\\t1.5\\n93....</td>\n      <td>2.438685</td>\n      <td>MS2</td>\n      <td>HCD</td>\n      <td>Thermo Finnigan Elite Orbitrap</td>\n      <td>direct flow injection</td>\n      <td>ESI</td>\n      <td>NCE=35% 55eV</td>\n      <td>N</td>\n      <td>CLQKBJHAUYGCOB</td>\n      <td>CCC=CCC=CCC=CCC=CCC=CCC=CCCC(=O)O[CH](COC(=O)C...</td>\n      <td>0.595776</td>\n    </tr>\n    <tr>\n      <th>...</th>\n      <td>...</td>\n      <td>...</td>\n      <td>...</td>\n      <td>...</td>\n      <td>...</td>\n      <td>...</td>\n      <td>...</td>\n      <td>...</td>\n      <td>...</td>\n      <td>...</td>\n      <td>...</td>\n      <td>...</td>\n      <td>...</td>\n      <td>...</td>\n      <td>...</td>\n    </tr>\n    <tr>\n      <th>338445</th>\n      <td>5-Bromo-2,3-dichloropyridine</td>\n      <td>[M+H]+</td>\n      <td>225.882043</td>\n      <td>51.9399\\t3.7\\n55.9343\\t6.69\\n56.9422\\t4.2\\n59....</td>\n      <td>2.814103</td>\n      <td>MS2</td>\n      <td>HCD</td>\n      <td>Thermo Finnigan Elite Orbitrap</td>\n      <td>direct flow injection</td>\n      <td>ESI</td>\n      <td>NCE=110% 49eV</td>\n      <td>P</td>\n      <td>XWSCOGPKWVNQSV</td>\n      <td>Clc1cc(Br)cnc1Cl</td>\n      <td>0.009164</td>\n    </tr>\n    <tr>\n      <th>415894</th>\n      <td>2-Amino-5-iodopyrimidine</td>\n      <td>[M+H]+</td>\n      <td>221.952271</td>\n      <td>52.018\\t64.84\\n52.0195\\t2.2\\n53.0258\\t11.59\\n5...</td>\n      <td>1.133686</td>\n      <td>MS2</td>\n      <td>HCD</td>\n      <td>Orbitrap Fusion Lumos</td>\n      <td>direct flow injection</td>\n      <td>ESI</td>\n      <td>NCE=65% 46eV</td>\n      <td>P</td>\n      <td>HAFKCGZQRIIADX</td>\n      <td>Nc1ncc(I)cn1</td>\n      <td>0.008651</td>\n    </tr>\n    <tr>\n      <th>207187</th>\n      <td>5-Fluoro-2-methoxyphenylboronic acid</td>\n      <td>[M+H]+</td>\n      <td>171.062329</td>\n      <td>51.0231\\t52.05\\n53.0386\\t10.79\\n55.0178\\t1.8\\n...</td>\n      <td>2.083162</td>\n      <td>MS2</td>\n      <td>HCD</td>\n      <td>Orbitrap Fusion Lumos</td>\n      <td>direct flow injection</td>\n      <td>ESI</td>\n      <td>NCE=50%</td>\n      <td>P</td>\n      <td>CCQKIRUMTHHPSX</td>\n      <td>COc1ccc(F)cc1B(O)O</td>\n      <td>NaN</td>\n    </tr>\n    <tr>\n      <th>405432</th>\n      <td>(4-Nitrophenyl)arsonic acid</td>\n      <td>[M+H]+</td>\n      <td>247.953470</td>\n      <td>63.0229\\t1.8\\n64.0307\\t9.39\\n65.0386\\t5.99\\n68...</td>\n      <td>2.545073</td>\n      <td>MS2</td>\n      <td>HCD</td>\n      <td>Thermo Finnigan Elite Orbitrap</td>\n      <td>direct flow injection</td>\n      <td>ESI</td>\n      <td>NCE=45% 22eV</td>\n      <td>P</td>\n      <td>FUUFQLXAIUOWML</td>\n      <td>O=[N+]([O-])c1ccc([As](=O)(O)O)cc1</td>\n      <td>NaN</td>\n    </tr>\n    <tr>\n      <th>43383</th>\n      <td>Flusilazole</td>\n      <td>[M+H]+</td>\n      <td>316.107606</td>\n      <td>50.0153\\t21.68\\n51.0231\\t69.63\\n52.0263\\t17.88...</td>\n      <td>3.304920</td>\n      <td>MS2</td>\n      <td>HCD</td>\n      <td>Thermo Finnigan Elite Orbitrap</td>\n      <td>direct flow injection</td>\n      <td>ESI</td>\n      <td>NCE=95% 62eV</td>\n      <td>P</td>\n      <td>FQKUGOMFVDPBIZ</td>\n      <td>C[Si](Cn1cncn1)(c1ccc(F)cc1)c1ccc(F)cc1</td>\n      <td>NaN</td>\n    </tr>\n  </tbody>\n</table>\n<p>2000 rows × 15 columns</p>\n</div>"
     },
     "execution_count": 77,
     "metadata": {},
     "output_type": "execute_result"
    }
   ],
   "source": [
    "nist_sampled.sort_values(by = 'allowed_percent', ascending=False)"
   ],
   "metadata": {
    "collapsed": false,
    "pycharm": {
     "name": "#%%\n"
    }
   }
  },
  {
   "cell_type": "code",
   "execution_count": 64,
   "outputs": [],
   "source": [
    "instance = nist_sampled.sort_values(by = 'allowed_percent', ascending=False).iloc[0]"
   ],
   "metadata": {
    "collapsed": false,
    "pycharm": {
     "name": "#%%\n"
    }
   }
  },
  {
   "cell_type": "code",
   "execution_count": 68,
   "outputs": [],
   "source": [
    "all_masses = math_check(instance['Smiles'], instance['Precursor_type'])"
   ],
   "metadata": {
    "collapsed": false,
    "pycharm": {
     "name": "#%%\n"
    }
   }
  },
  {
   "cell_type": "code",
   "execution_count": 70,
   "outputs": [],
   "source": [
    "all_masses.sort()"
   ],
   "metadata": {
    "collapsed": false,
    "pycharm": {
     "name": "#%%\n"
    }
   }
  },
  {
   "cell_type": "code",
   "execution_count": 71,
   "outputs": [],
   "source": [
    "diff = np.diff(all_masses)"
   ],
   "metadata": {
    "collapsed": false,
    "pycharm": {
     "name": "#%%\n"
    }
   }
  },
  {
   "cell_type": "code",
   "execution_count": 82,
   "outputs": [
    {
     "data": {
      "text/plain": "count    112529.000000\nmean          0.009665\nstd           0.036088\nmin           0.002319\n25%           0.003510\n50%           0.005859\n75%           0.005920\nmax           1.007826\ndtype: float64"
     },
     "execution_count": 82,
     "metadata": {},
     "output_type": "execute_result"
    }
   ],
   "source": [
    "pd.Series(diff).describe()"
   ],
   "metadata": {
    "collapsed": false,
    "pycharm": {
     "name": "#%%\n"
    }
   }
  },
  {
   "cell_type": "code",
   "execution_count": 33,
   "outputs": [],
   "source": [
    "import seaborn as sns"
   ],
   "metadata": {
    "collapsed": false,
    "pycharm": {
     "name": "#%%\n"
    }
   }
  },
  {
   "cell_type": "code",
   "execution_count": 4,
   "outputs": [],
   "source": [
    "nist_selected = pd.read_csv(os.path.join(master_dir, 'nist_selected.csv'))"
   ],
   "metadata": {
    "collapsed": false,
    "pycharm": {
     "name": "#%%\n"
    }
   }
  },
  {
   "cell_type": "code",
   "execution_count": 5,
   "outputs": [
    {
     "data": {
      "text/plain": "                                                     Name Precursor_type  \\\n0       1',3'-Bis[1,2-dilinoleoyl-sn-glycero-3-phospho...       [M+NH4]+   \n1       1',3'-Bis[1,2-dilinoleoyl-sn-glycero-3-phospho...       [M+NH4]+   \n2       1',3'-Bis[1,2-dilinoleoyl-sn-glycero-3-phospho...       [M+NH4]+   \n3       1',3'-Bis[1,2-dilinoleoyl-sn-glycero-3-phospho...       [M+NH4]+   \n4       1',3'-Bis[1,2-dilinoleoyl-sn-glycero-3-phospho...       [M+NH4]+   \n...                                                   ...            ...   \n433034                (3'-sulfo)Gal.beta.-Cer(d18:1/22:0)         [M-H]-   \n433035                (3'-sulfo)Gal.beta.-Cer(d18:1/22:0)         [M-H]-   \n433036                (3'-sulfo)Gal.beta.-Cer(d18:1/22:0)         [M-H]-   \n433037                (3'-sulfo)Gal.beta.-Cer(d18:1/22:0)         [M-H]-   \n433038                (3'-sulfo)Gal.beta.-Cer(d18:1/22:0)         [M-H]-   \n\n        Precursor_MZ                                               msms  \\\n0        1467.006049  45.96\\t46.35\\n597.48\\t51.85\\n598.5\\t41.36\\n599...   \n1        1467.006049  597.5\\t50.95\\n599.5\\t683.32\\n1449.98\\t999.0\\n1...   \n2        1467.006049  537.39\\t55.94\\n599.5\\t999.0\\n600.51\\t42.26\\n14...   \n3        1467.006049  597.46\\t41.86\\n598.5\\t45.15\\n599.51\\t999.0\\n60...   \n4        1467.006049  598.49\\t47.85\\n599.5\\t999.0\\n600.5\\t85.51\\n144...   \n...              ...                                                ...   \n433034    862.608358  150.9693\\t589.81\\n152.985\\t540.56\\n161.0445\\t3...   \n433035    862.608358  150.9693\\t999.0\\n152.985\\t971.14\\n161.0444\\t36...   \n433036    862.608358  150.9693\\t999.0\\n152.9851\\t846.85\\n164.9852\\t2...   \n433037    862.608358  150.9693\\t999.0\\n152.985\\t826.27\\n225.0061\\t90.11   \n433038    862.608358  861.5956\\t26.27\\n862.6054\\t999.0\\n863.6084\\t41...   \n\n        spectral_entropy Spectrum_type           Instrument_type  \\\n0               1.878742           MS2                     Q-TOF   \n1               1.581230           MS2                     Q-TOF   \n2               1.074723           MS2                     Q-TOF   \n3               1.364946           MS2                     Q-TOF   \n4               0.876845           MS2                     Q-TOF   \n...                  ...           ...                       ...   \n433034          3.044941           MS2                       HCD   \n433035          2.347491           MS2                       HCD   \n433036          1.630674           MS2                       HCD   \n433037          0.845987           MS2                       HCD   \n433038          0.686581           MS2  IT-FT/ion trap with FTMS   \n\n                   Instrument           Sample_inlet Ionization  \\\n0           Agilent QTOF 6530  direct flow injection        ESI   \n1           Agilent QTOF 6530  direct flow injection        ESI   \n2           Agilent QTOF 6530  direct flow injection        ESI   \n3           Agilent QTOF 6530  direct flow injection        ESI   \n4           Agilent QTOF 6530  direct flow injection        ESI   \n...                       ...                    ...        ...   \n433034  Orbitrap Fusion Lumos  direct flow injection        ESI   \n433035  Orbitrap Fusion Lumos  direct flow injection        ESI   \n433036  Orbitrap Fusion Lumos  direct flow injection        ESI   \n433037  Orbitrap Fusion Lumos  direct flow injection        ESI   \n433038  Orbitrap Fusion Lumos  direct flow injection        ESI   \n\n       Collision_energy Ion_mode        Inchikey  \\\n0                     8        P  LSHJMDWWJIYXEM   \n1                    10        P  LSHJMDWWJIYXEM   \n2                    14        P  LSHJMDWWJIYXEM   \n3                    16        P  LSHJMDWWJIYXEM   \n4                    20        P  LSHJMDWWJIYXEM   \n...                 ...      ...             ...   \n433034    NCE=65% 108eV        N  UAKYQMHTPLVMJD   \n433035    NCE=76% 126eV        N  UAKYQMHTPLVMJD   \n433036    NCE=88% 144eV        N  UAKYQMHTPLVMJD   \n433037   NCE=100% 163eV        N  UAKYQMHTPLVMJD   \n433038          NCE=35%        N  UAKYQMHTPLVMJD   \n\n                                                   Smiles  \n0       CCCCCC=CCC=CCCCCCCCC(=O)OC[CH](COP(=O)(O)OCC(O...  \n1       CCCCCC=CCC=CCCCCCCCC(=O)OC[CH](COP(=O)(O)OCC(O...  \n2       CCCCCC=CCC=CCCCCCCCC(=O)OC[CH](COP(=O)(O)OCC(O...  \n3       CCCCCC=CCC=CCCCCCCCC(=O)OC[CH](COP(=O)(O)OCC(O...  \n4       CCCCCC=CCC=CCCCCCCCC(=O)OC[CH](COP(=O)(O)OCC(O...  \n...                                                   ...  \n433034  CCCCCCCCCCCCCC=C[CH](O)[CH](CO[CH]1O[CH](CO)[C...  \n433035  CCCCCCCCCCCCCC=C[CH](O)[CH](CO[CH]1O[CH](CO)[C...  \n433036  CCCCCCCCCCCCCC=C[CH](O)[CH](CO[CH]1O[CH](CO)[C...  \n433037  CCCCCCCCCCCCCC=C[CH](O)[CH](CO[CH]1O[CH](CO)[C...  \n433038  CCCCCCCCCCCCCC=C[CH](O)[CH](CO[CH]1O[CH](CO)[C...  \n\n[433039 rows x 14 columns]",
      "text/html": "<div>\n<style scoped>\n    .dataframe tbody tr th:only-of-type {\n        vertical-align: middle;\n    }\n\n    .dataframe tbody tr th {\n        vertical-align: top;\n    }\n\n    .dataframe thead th {\n        text-align: right;\n    }\n</style>\n<table border=\"1\" class=\"dataframe\">\n  <thead>\n    <tr style=\"text-align: right;\">\n      <th></th>\n      <th>Name</th>\n      <th>Precursor_type</th>\n      <th>Precursor_MZ</th>\n      <th>msms</th>\n      <th>spectral_entropy</th>\n      <th>Spectrum_type</th>\n      <th>Instrument_type</th>\n      <th>Instrument</th>\n      <th>Sample_inlet</th>\n      <th>Ionization</th>\n      <th>Collision_energy</th>\n      <th>Ion_mode</th>\n      <th>Inchikey</th>\n      <th>Smiles</th>\n    </tr>\n  </thead>\n  <tbody>\n    <tr>\n      <th>0</th>\n      <td>1',3'-Bis[1,2-dilinoleoyl-sn-glycero-3-phospho...</td>\n      <td>[M+NH4]+</td>\n      <td>1467.006049</td>\n      <td>45.96\\t46.35\\n597.48\\t51.85\\n598.5\\t41.36\\n599...</td>\n      <td>1.878742</td>\n      <td>MS2</td>\n      <td>Q-TOF</td>\n      <td>Agilent QTOF 6530</td>\n      <td>direct flow injection</td>\n      <td>ESI</td>\n      <td>8</td>\n      <td>P</td>\n      <td>LSHJMDWWJIYXEM</td>\n      <td>CCCCCC=CCC=CCCCCCCCC(=O)OC[CH](COP(=O)(O)OCC(O...</td>\n    </tr>\n    <tr>\n      <th>1</th>\n      <td>1',3'-Bis[1,2-dilinoleoyl-sn-glycero-3-phospho...</td>\n      <td>[M+NH4]+</td>\n      <td>1467.006049</td>\n      <td>597.5\\t50.95\\n599.5\\t683.32\\n1449.98\\t999.0\\n1...</td>\n      <td>1.581230</td>\n      <td>MS2</td>\n      <td>Q-TOF</td>\n      <td>Agilent QTOF 6530</td>\n      <td>direct flow injection</td>\n      <td>ESI</td>\n      <td>10</td>\n      <td>P</td>\n      <td>LSHJMDWWJIYXEM</td>\n      <td>CCCCCC=CCC=CCCCCCCCC(=O)OC[CH](COP(=O)(O)OCC(O...</td>\n    </tr>\n    <tr>\n      <th>2</th>\n      <td>1',3'-Bis[1,2-dilinoleoyl-sn-glycero-3-phospho...</td>\n      <td>[M+NH4]+</td>\n      <td>1467.006049</td>\n      <td>537.39\\t55.94\\n599.5\\t999.0\\n600.51\\t42.26\\n14...</td>\n      <td>1.074723</td>\n      <td>MS2</td>\n      <td>Q-TOF</td>\n      <td>Agilent QTOF 6530</td>\n      <td>direct flow injection</td>\n      <td>ESI</td>\n      <td>14</td>\n      <td>P</td>\n      <td>LSHJMDWWJIYXEM</td>\n      <td>CCCCCC=CCC=CCCCCCCCC(=O)OC[CH](COP(=O)(O)OCC(O...</td>\n    </tr>\n    <tr>\n      <th>3</th>\n      <td>1',3'-Bis[1,2-dilinoleoyl-sn-glycero-3-phospho...</td>\n      <td>[M+NH4]+</td>\n      <td>1467.006049</td>\n      <td>597.46\\t41.86\\n598.5\\t45.15\\n599.51\\t999.0\\n60...</td>\n      <td>1.364946</td>\n      <td>MS2</td>\n      <td>Q-TOF</td>\n      <td>Agilent QTOF 6530</td>\n      <td>direct flow injection</td>\n      <td>ESI</td>\n      <td>16</td>\n      <td>P</td>\n      <td>LSHJMDWWJIYXEM</td>\n      <td>CCCCCC=CCC=CCCCCCCCC(=O)OC[CH](COP(=O)(O)OCC(O...</td>\n    </tr>\n    <tr>\n      <th>4</th>\n      <td>1',3'-Bis[1,2-dilinoleoyl-sn-glycero-3-phospho...</td>\n      <td>[M+NH4]+</td>\n      <td>1467.006049</td>\n      <td>598.49\\t47.85\\n599.5\\t999.0\\n600.5\\t85.51\\n144...</td>\n      <td>0.876845</td>\n      <td>MS2</td>\n      <td>Q-TOF</td>\n      <td>Agilent QTOF 6530</td>\n      <td>direct flow injection</td>\n      <td>ESI</td>\n      <td>20</td>\n      <td>P</td>\n      <td>LSHJMDWWJIYXEM</td>\n      <td>CCCCCC=CCC=CCCCCCCCC(=O)OC[CH](COP(=O)(O)OCC(O...</td>\n    </tr>\n    <tr>\n      <th>...</th>\n      <td>...</td>\n      <td>...</td>\n      <td>...</td>\n      <td>...</td>\n      <td>...</td>\n      <td>...</td>\n      <td>...</td>\n      <td>...</td>\n      <td>...</td>\n      <td>...</td>\n      <td>...</td>\n      <td>...</td>\n      <td>...</td>\n      <td>...</td>\n    </tr>\n    <tr>\n      <th>433034</th>\n      <td>(3'-sulfo)Gal.beta.-Cer(d18:1/22:0)</td>\n      <td>[M-H]-</td>\n      <td>862.608358</td>\n      <td>150.9693\\t589.81\\n152.985\\t540.56\\n161.0445\\t3...</td>\n      <td>3.044941</td>\n      <td>MS2</td>\n      <td>HCD</td>\n      <td>Orbitrap Fusion Lumos</td>\n      <td>direct flow injection</td>\n      <td>ESI</td>\n      <td>NCE=65% 108eV</td>\n      <td>N</td>\n      <td>UAKYQMHTPLVMJD</td>\n      <td>CCCCCCCCCCCCCC=C[CH](O)[CH](CO[CH]1O[CH](CO)[C...</td>\n    </tr>\n    <tr>\n      <th>433035</th>\n      <td>(3'-sulfo)Gal.beta.-Cer(d18:1/22:0)</td>\n      <td>[M-H]-</td>\n      <td>862.608358</td>\n      <td>150.9693\\t999.0\\n152.985\\t971.14\\n161.0444\\t36...</td>\n      <td>2.347491</td>\n      <td>MS2</td>\n      <td>HCD</td>\n      <td>Orbitrap Fusion Lumos</td>\n      <td>direct flow injection</td>\n      <td>ESI</td>\n      <td>NCE=76% 126eV</td>\n      <td>N</td>\n      <td>UAKYQMHTPLVMJD</td>\n      <td>CCCCCCCCCCCCCC=C[CH](O)[CH](CO[CH]1O[CH](CO)[C...</td>\n    </tr>\n    <tr>\n      <th>433036</th>\n      <td>(3'-sulfo)Gal.beta.-Cer(d18:1/22:0)</td>\n      <td>[M-H]-</td>\n      <td>862.608358</td>\n      <td>150.9693\\t999.0\\n152.9851\\t846.85\\n164.9852\\t2...</td>\n      <td>1.630674</td>\n      <td>MS2</td>\n      <td>HCD</td>\n      <td>Orbitrap Fusion Lumos</td>\n      <td>direct flow injection</td>\n      <td>ESI</td>\n      <td>NCE=88% 144eV</td>\n      <td>N</td>\n      <td>UAKYQMHTPLVMJD</td>\n      <td>CCCCCCCCCCCCCC=C[CH](O)[CH](CO[CH]1O[CH](CO)[C...</td>\n    </tr>\n    <tr>\n      <th>433037</th>\n      <td>(3'-sulfo)Gal.beta.-Cer(d18:1/22:0)</td>\n      <td>[M-H]-</td>\n      <td>862.608358</td>\n      <td>150.9693\\t999.0\\n152.985\\t826.27\\n225.0061\\t90.11</td>\n      <td>0.845987</td>\n      <td>MS2</td>\n      <td>HCD</td>\n      <td>Orbitrap Fusion Lumos</td>\n      <td>direct flow injection</td>\n      <td>ESI</td>\n      <td>NCE=100% 163eV</td>\n      <td>N</td>\n      <td>UAKYQMHTPLVMJD</td>\n      <td>CCCCCCCCCCCCCC=C[CH](O)[CH](CO[CH]1O[CH](CO)[C...</td>\n    </tr>\n    <tr>\n      <th>433038</th>\n      <td>(3'-sulfo)Gal.beta.-Cer(d18:1/22:0)</td>\n      <td>[M-H]-</td>\n      <td>862.608358</td>\n      <td>861.5956\\t26.27\\n862.6054\\t999.0\\n863.6084\\t41...</td>\n      <td>0.686581</td>\n      <td>MS2</td>\n      <td>IT-FT/ion trap with FTMS</td>\n      <td>Orbitrap Fusion Lumos</td>\n      <td>direct flow injection</td>\n      <td>ESI</td>\n      <td>NCE=35%</td>\n      <td>N</td>\n      <td>UAKYQMHTPLVMJD</td>\n      <td>CCCCCCCCCCCCCC=C[CH](O)[CH](CO[CH]1O[CH](CO)[C...</td>\n    </tr>\n  </tbody>\n</table>\n<p>433039 rows × 14 columns</p>\n</div>"
     },
     "execution_count": 5,
     "metadata": {},
     "output_type": "execute_result"
    }
   ],
   "source": [
    "nist_selected"
   ],
   "metadata": {
    "collapsed": false,
    "pycharm": {
     "name": "#%%\n"
    }
   }
  },
  {
   "cell_type": "code",
   "execution_count": 34,
   "outputs": [
    {
     "data": {
      "text/plain": "Index(['Name', 'Precursor_type', 'Precursor_MZ', 'msms', 'spectral_entropy',\n       'Spectrum_type', 'Instrument_type', 'Instrument', 'Sample_inlet',\n       'Ionization', 'Collision_energy', 'Ion_mode', 'Inchikey', 'Smiles'],\n      dtype='object')"
     },
     "execution_count": 34,
     "metadata": {},
     "output_type": "execute_result"
    }
   ],
   "source": [
    "nist_selected.columns"
   ],
   "metadata": {
    "collapsed": false,
    "pycharm": {
     "name": "#%%\n"
    }
   }
  },
  {
   "cell_type": "code",
   "execution_count": 35,
   "outputs": [],
   "source": [
    "nist_selected = nist_selected[nist_selected['Precursor_MZ']<=800]"
   ],
   "metadata": {
    "collapsed": false,
    "pycharm": {
     "name": "#%%\n"
    }
   }
  },
  {
   "cell_type": "code",
   "execution_count": 36,
   "outputs": [],
   "source": [
    "nist_sampled=nist_selected.sample(2000)"
   ],
   "metadata": {
    "collapsed": false,
    "pycharm": {
     "name": "#%%\n"
    }
   }
  },
  {
   "cell_type": "code",
   "execution_count": 37,
   "outputs": [],
   "source": [
    "nist_sampled.to_csv(os.path.join(master_dir, 'nist_sampled.csv'), index = False)"
   ],
   "metadata": {
    "collapsed": false,
    "pycharm": {
     "name": "#%%\n"
    }
   }
  },
  {
   "cell_type": "code",
   "execution_count": 6,
   "outputs": [],
   "source": [
    "nist_sampled=pd.read_csv(os.path.join(master_dir, 'nist_sampled.csv'))"
   ],
   "metadata": {
    "collapsed": false,
    "pycharm": {
     "name": "#%%\n"
    }
   }
  },
  {
   "cell_type": "code",
   "execution_count": 7,
   "outputs": [
    {
     "data": {
      "text/plain": "                                              Name Precursor_type  \\\n0                 3-Hydroxy-4-methoxycinnamic acid         [M+H]+   \n1                                          Alitame         [M-H]-   \n2     2-[(3,5-Difluorophenyl)formamido]acetic acid        [M+Cl]-   \n3                  4-Bromo-3-fluoro-2-nitroaniline         [M+H]+   \n4                           L-.beta.-Homoglutamine         [M+H]+   \n...                                            ...            ...   \n1995      Ethyl 4-[(trifluoroacetyl)amino]benzoate         [M+H]+   \n1996                                   Altretamine         [M+H]+   \n1997                       N,N'-Diacetylchitobiose         [M+H]+   \n1998           1-Amino-4-chloroanthra-9,10-quinone         [M+H]+   \n1999                Chlorogenic acid, methyl ester         [M-H]-   \n\n      Precursor_MZ                                               msms  \\\n0       195.065185  117.03\\t12.19\\n145.02\\t28.57\\n177.05\\t999.0\\n1...   \n1       330.149301  70.0302\\t5.29\\n73.0121\\t65.83\\n85.0411\\t44.66\\...   \n2       250.008802  72.0\\t7.09\\n73.0078\\t999.0\\n73.0104\\t49.95\\n74...   \n3       234.951294  50.0151\\t56.94\\n51.023\\t3.9\\n52.0183\\t469.23\\n...   \n4       161.092068  55.054\\t12.89\\n56.0493\\t6.79\\n80.0493\\t2.0\\n81...   \n...            ...                                                ...   \n1995    262.068554  77.0384\\t48.05\\n92.0493\\t27.57\\n93.0572\\t8.99\\...   \n1996    211.166571  71.0601\\t67.73\\n96.0554\\t42.16\\n97.0588\\t1.1\\n...   \n1997    425.176586  126.0548\\t4.0\\n186.0758\\t17.58\\n204.0862\\t999....   \n1998    258.031632  105.0333\\t39.46\\n179.9846\\t102.2\\n222.0549\\t27...   \n1999    367.103456  59.0137\\t6.59\\n81.0344\\t2.3\\n83.0499\\t1.4\\n85....   \n\n      spectral_entropy Spectrum_type           Instrument_type  \\\n0             0.609870           MS2                     Q-TOF   \n1             2.963776           MS2                       HCD   \n2             1.113483           MS2                       HCD   \n3             2.827934           MS2                       HCD   \n4             1.408233           MS2                       HCD   \n...                ...           ...                       ...   \n1995          2.058037           MS2                       HCD   \n1996          0.765366           MS2                       HCD   \n1997          1.042613           MS2                       HCD   \n1998          0.866827           MS2  IT-FT/ion trap with FTMS   \n1999          1.656063           MS2                       HCD   \n\n                          Instrument           Sample_inlet Ionization  \\\n0                  Agilent QTOF 6530  direct flow injection        ESI   \n1     Thermo Finnigan Elite Orbitrap  direct flow injection        ESI   \n2              Orbitrap Fusion Lumos  direct flow injection        ESI   \n3              Orbitrap Fusion Lumos  direct flow injection        ESI   \n4     Thermo Finnigan Elite Orbitrap  direct flow injection        ESI   \n...                              ...                    ...        ...   \n1995  Thermo Finnigan Elite Orbitrap  direct flow injection        ESI   \n1996  Thermo Finnigan Elite Orbitrap  direct flow injection        ESI   \n1997  Thermo Finnigan Elite Orbitrap  direct flow injection        ESI   \n1998  Thermo Finnigan Elite Orbitrap  direct flow injection        ESI   \n1999           Orbitrap Fusion Lumos  direct flow injection        ESI   \n\n     Collision_energy Ion_mode        Inchikey  \\\n0                   4        P  QURCVMIEKCOAJU   \n1        NCE=45% 29eV        N  IVBOUFAWPCPFTQ   \n2       NCE=100% 71eV        N  CRKGNCMDWYCYOJ   \n3             NCE=88%        P  DTMANVRIDHGRKN   \n4        NCE=50% 16eV        P  IDNSGZOFDGAHTI   \n...               ...      ...             ...   \n1995     NCE=45% 23eV        P  QHYQXLZAPVFNKW   \n1996     NCE=50% 21eV        P  UUVWYPNAQBNQJQ   \n1997      NCE=10% 8eV        P  PLJAKLUDUPBLGD   \n1998          NCE=35%        P  AWACQBFBMROGQC   \n1999          NCE=54%        N  MZNIJRAPCCELQX   \n\n                                                 Smiles  \n0                                COc1ccc(C=CC(=O)O)cc1O  \n1     C[CH](NC(=O)[CH](N)CC(=O)O)C(=O)NC1C(C)(C)SC1(C)C  \n2                           O=C(O)CNC(=O)c1cc(F)cc(F)c1  \n3                          Nc1ccc(Br)c(F)c1[N+](=O)[O-]  \n4                                NC(=O)CC[CH](N)CC(=O)O  \n...                                                 ...  \n1995                   CCOC(=O)c1ccc(NC(=O)C(F)(F)F)cc1  \n1996                        CN(C)c1nc(N(C)C)nc(N(C)C)n1  \n1997  CC(=O)N[CH](C=O)[CH](O)[CH](O[CH]1O[CH](CO)[CH...  \n1998                    Nc1ccc(Cl)c2c1C(=O)c1ccccc1C2=O  \n1999  COC(=O)C1(O)CC(O)C(O)C(OC(=O)C=Cc2ccc(O)c(O)c2)C1  \n\n[2000 rows x 14 columns]",
      "text/html": "<div>\n<style scoped>\n    .dataframe tbody tr th:only-of-type {\n        vertical-align: middle;\n    }\n\n    .dataframe tbody tr th {\n        vertical-align: top;\n    }\n\n    .dataframe thead th {\n        text-align: right;\n    }\n</style>\n<table border=\"1\" class=\"dataframe\">\n  <thead>\n    <tr style=\"text-align: right;\">\n      <th></th>\n      <th>Name</th>\n      <th>Precursor_type</th>\n      <th>Precursor_MZ</th>\n      <th>msms</th>\n      <th>spectral_entropy</th>\n      <th>Spectrum_type</th>\n      <th>Instrument_type</th>\n      <th>Instrument</th>\n      <th>Sample_inlet</th>\n      <th>Ionization</th>\n      <th>Collision_energy</th>\n      <th>Ion_mode</th>\n      <th>Inchikey</th>\n      <th>Smiles</th>\n    </tr>\n  </thead>\n  <tbody>\n    <tr>\n      <th>0</th>\n      <td>3-Hydroxy-4-methoxycinnamic acid</td>\n      <td>[M+H]+</td>\n      <td>195.065185</td>\n      <td>117.03\\t12.19\\n145.02\\t28.57\\n177.05\\t999.0\\n1...</td>\n      <td>0.609870</td>\n      <td>MS2</td>\n      <td>Q-TOF</td>\n      <td>Agilent QTOF 6530</td>\n      <td>direct flow injection</td>\n      <td>ESI</td>\n      <td>4</td>\n      <td>P</td>\n      <td>QURCVMIEKCOAJU</td>\n      <td>COc1ccc(C=CC(=O)O)cc1O</td>\n    </tr>\n    <tr>\n      <th>1</th>\n      <td>Alitame</td>\n      <td>[M-H]-</td>\n      <td>330.149301</td>\n      <td>70.0302\\t5.29\\n73.0121\\t65.83\\n85.0411\\t44.66\\...</td>\n      <td>2.963776</td>\n      <td>MS2</td>\n      <td>HCD</td>\n      <td>Thermo Finnigan Elite Orbitrap</td>\n      <td>direct flow injection</td>\n      <td>ESI</td>\n      <td>NCE=45% 29eV</td>\n      <td>N</td>\n      <td>IVBOUFAWPCPFTQ</td>\n      <td>C[CH](NC(=O)[CH](N)CC(=O)O)C(=O)NC1C(C)(C)SC1(C)C</td>\n    </tr>\n    <tr>\n      <th>2</th>\n      <td>2-[(3,5-Difluorophenyl)formamido]acetic acid</td>\n      <td>[M+Cl]-</td>\n      <td>250.008802</td>\n      <td>72.0\\t7.09\\n73.0078\\t999.0\\n73.0104\\t49.95\\n74...</td>\n      <td>1.113483</td>\n      <td>MS2</td>\n      <td>HCD</td>\n      <td>Orbitrap Fusion Lumos</td>\n      <td>direct flow injection</td>\n      <td>ESI</td>\n      <td>NCE=100% 71eV</td>\n      <td>N</td>\n      <td>CRKGNCMDWYCYOJ</td>\n      <td>O=C(O)CNC(=O)c1cc(F)cc(F)c1</td>\n    </tr>\n    <tr>\n      <th>3</th>\n      <td>4-Bromo-3-fluoro-2-nitroaniline</td>\n      <td>[M+H]+</td>\n      <td>234.951294</td>\n      <td>50.0151\\t56.94\\n51.023\\t3.9\\n52.0183\\t469.23\\n...</td>\n      <td>2.827934</td>\n      <td>MS2</td>\n      <td>HCD</td>\n      <td>Orbitrap Fusion Lumos</td>\n      <td>direct flow injection</td>\n      <td>ESI</td>\n      <td>NCE=88%</td>\n      <td>P</td>\n      <td>DTMANVRIDHGRKN</td>\n      <td>Nc1ccc(Br)c(F)c1[N+](=O)[O-]</td>\n    </tr>\n    <tr>\n      <th>4</th>\n      <td>L-.beta.-Homoglutamine</td>\n      <td>[M+H]+</td>\n      <td>161.092068</td>\n      <td>55.054\\t12.89\\n56.0493\\t6.79\\n80.0493\\t2.0\\n81...</td>\n      <td>1.408233</td>\n      <td>MS2</td>\n      <td>HCD</td>\n      <td>Thermo Finnigan Elite Orbitrap</td>\n      <td>direct flow injection</td>\n      <td>ESI</td>\n      <td>NCE=50% 16eV</td>\n      <td>P</td>\n      <td>IDNSGZOFDGAHTI</td>\n      <td>NC(=O)CC[CH](N)CC(=O)O</td>\n    </tr>\n    <tr>\n      <th>...</th>\n      <td>...</td>\n      <td>...</td>\n      <td>...</td>\n      <td>...</td>\n      <td>...</td>\n      <td>...</td>\n      <td>...</td>\n      <td>...</td>\n      <td>...</td>\n      <td>...</td>\n      <td>...</td>\n      <td>...</td>\n      <td>...</td>\n      <td>...</td>\n    </tr>\n    <tr>\n      <th>1995</th>\n      <td>Ethyl 4-[(trifluoroacetyl)amino]benzoate</td>\n      <td>[M+H]+</td>\n      <td>262.068554</td>\n      <td>77.0384\\t48.05\\n92.0493\\t27.57\\n93.0572\\t8.99\\...</td>\n      <td>2.058037</td>\n      <td>MS2</td>\n      <td>HCD</td>\n      <td>Thermo Finnigan Elite Orbitrap</td>\n      <td>direct flow injection</td>\n      <td>ESI</td>\n      <td>NCE=45% 23eV</td>\n      <td>P</td>\n      <td>QHYQXLZAPVFNKW</td>\n      <td>CCOC(=O)c1ccc(NC(=O)C(F)(F)F)cc1</td>\n    </tr>\n    <tr>\n      <th>1996</th>\n      <td>Altretamine</td>\n      <td>[M+H]+</td>\n      <td>211.166571</td>\n      <td>71.0601\\t67.73\\n96.0554\\t42.16\\n97.0588\\t1.1\\n...</td>\n      <td>0.765366</td>\n      <td>MS2</td>\n      <td>HCD</td>\n      <td>Thermo Finnigan Elite Orbitrap</td>\n      <td>direct flow injection</td>\n      <td>ESI</td>\n      <td>NCE=50% 21eV</td>\n      <td>P</td>\n      <td>UUVWYPNAQBNQJQ</td>\n      <td>CN(C)c1nc(N(C)C)nc(N(C)C)n1</td>\n    </tr>\n    <tr>\n      <th>1997</th>\n      <td>N,N'-Diacetylchitobiose</td>\n      <td>[M+H]+</td>\n      <td>425.176586</td>\n      <td>126.0548\\t4.0\\n186.0758\\t17.58\\n204.0862\\t999....</td>\n      <td>1.042613</td>\n      <td>MS2</td>\n      <td>HCD</td>\n      <td>Thermo Finnigan Elite Orbitrap</td>\n      <td>direct flow injection</td>\n      <td>ESI</td>\n      <td>NCE=10% 8eV</td>\n      <td>P</td>\n      <td>PLJAKLUDUPBLGD</td>\n      <td>CC(=O)N[CH](C=O)[CH](O)[CH](O[CH]1O[CH](CO)[CH...</td>\n    </tr>\n    <tr>\n      <th>1998</th>\n      <td>1-Amino-4-chloroanthra-9,10-quinone</td>\n      <td>[M+H]+</td>\n      <td>258.031632</td>\n      <td>105.0333\\t39.46\\n179.9846\\t102.2\\n222.0549\\t27...</td>\n      <td>0.866827</td>\n      <td>MS2</td>\n      <td>IT-FT/ion trap with FTMS</td>\n      <td>Thermo Finnigan Elite Orbitrap</td>\n      <td>direct flow injection</td>\n      <td>ESI</td>\n      <td>NCE=35%</td>\n      <td>P</td>\n      <td>AWACQBFBMROGQC</td>\n      <td>Nc1ccc(Cl)c2c1C(=O)c1ccccc1C2=O</td>\n    </tr>\n    <tr>\n      <th>1999</th>\n      <td>Chlorogenic acid, methyl ester</td>\n      <td>[M-H]-</td>\n      <td>367.103456</td>\n      <td>59.0137\\t6.59\\n81.0344\\t2.3\\n83.0499\\t1.4\\n85....</td>\n      <td>1.656063</td>\n      <td>MS2</td>\n      <td>HCD</td>\n      <td>Orbitrap Fusion Lumos</td>\n      <td>direct flow injection</td>\n      <td>ESI</td>\n      <td>NCE=54%</td>\n      <td>N</td>\n      <td>MZNIJRAPCCELQX</td>\n      <td>COC(=O)C1(O)CC(O)C(O)C(OC(=O)C=Cc2ccc(O)c(O)c2)C1</td>\n    </tr>\n  </tbody>\n</table>\n<p>2000 rows × 14 columns</p>\n</div>"
     },
     "execution_count": 7,
     "metadata": {},
     "output_type": "execute_result"
    }
   ],
   "source": [
    "nist_sampled"
   ],
   "metadata": {
    "collapsed": false,
    "pycharm": {
     "name": "#%%\n"
    }
   }
  },
  {
   "cell_type": "code",
   "execution_count": 10,
   "outputs": [],
   "source": [
    "from toolsets.denoising_related_functions import denoise_h\n",
    "from toolsets.search import string_search"
   ],
   "metadata": {
    "collapsed": false,
    "pycharm": {
     "name": "#%%\n"
    }
   }
  },
  {
   "cell_type": "code",
   "execution_count": 13,
   "outputs": [],
   "source": [
    "import numpy as np"
   ],
   "metadata": {
    "collapsed": false,
    "pycharm": {
     "name": "#%%\n"
    }
   }
  },
  {
   "cell_type": "code",
   "execution_count": 8,
   "outputs": [],
   "source": [
    "from toolsets.denoising_related_functions import denoise_h"
   ],
   "metadata": {
    "collapsed": false,
    "pycharm": {
     "name": "#%%\n"
    }
   }
  },
  {
   "cell_type": "code",
   "execution_count": 11,
   "outputs": [],
   "source": [
    "nist_obi = string_search(nist_sampled, 'Instrument', 'Agilent QTOF 6530', reverse=True)"
   ],
   "metadata": {
    "collapsed": false,
    "pycharm": {
     "name": "#%%\n"
    }
   }
  },
  {
   "cell_type": "code",
   "execution_count": 14,
   "outputs": [
    {
     "name": "stderr",
     "output_type": "stream",
     "text": [
      "100%|██████████| 1908/1908 [01:53<00:00, 16.77it/s]\n"
     ]
    }
   ],
   "source": [
    "for mass_error in [0.005]:\n",
    "    msms_d = []\n",
    "    ei = []\n",
    "    for index, row in tqdm(nist_obi.iterrows(), total = len(nist_obi)):\n",
    "        try:\n",
    "            results = denoise_h(row['msms'], row['Smiles'], row['Precursor_type'], reference_db_sorted, mass_error=mass_error)\n",
    "            msms_d.append(results[0])\n",
    "            ei.append(results[1])\n",
    "        except:\n",
    "            msms_d.append(np.NAN)\n",
    "            ei.append(np.NAN)\n",
    "    col_name_msms = 'msms_dw_'+str(mass_error)\n",
    "    col_name_ei = 'eiw_'+str(mass_error)\n",
    "    nist_obi[col_name_msms]=msms_d\n",
    "    nist_obi[col_name_ei]=ei"
   ],
   "metadata": {
    "collapsed": false,
    "pycharm": {
     "name": "#%%\n"
    }
   }
  },
  {
   "cell_type": "code",
   "execution_count": 19,
   "outputs": [],
   "source": [
    "import seaborn as sns"
   ],
   "metadata": {
    "collapsed": false,
    "pycharm": {
     "name": "#%%\n"
    }
   }
  },
  {
   "cell_type": "code",
   "execution_count": 35,
   "outputs": [
    {
     "data": {
      "text/plain": "count    1862.000000\nmean       99.524255\nstd         1.372535\nmin        90.202740\n25%        99.880815\n50%       100.000000\n75%       100.000000\nmax       100.000000\nName: eiw_0.005, dtype: float64"
     },
     "execution_count": 35,
     "metadata": {},
     "output_type": "execute_result"
    }
   ],
   "source": [
    "nist_obi[nist_obi['eiw_0.005']>90]['eiw_0.005'].describe()"
   ],
   "metadata": {
    "collapsed": false,
    "pycharm": {
     "name": "#%%\n"
    }
   }
  },
  {
   "cell_type": "code",
   "execution_count": 36,
   "outputs": [],
   "source": [
    "figs_dir ='/Users/fanzhoukong/Documents/GitHub/Libgen_data/dilution_series_data/figs'"
   ],
   "metadata": {
    "collapsed": false,
    "pycharm": {
     "name": "#%%\n"
    }
   }
  },
  {
   "cell_type": "code",
   "execution_count": 49,
   "outputs": [
    {
     "data": {
      "text/plain": "<Figure size 333x200 with 1 Axes>",
      "image/png": "[encoded data removed]"
     },
     "metadata": {},
     "output_type": "display_data"
    }
   ],
   "source": [
    "fig = plt.figure(figsize = (3.33, 2))#43\n",
    "ax = fig.add_subplot()\n",
    "sns.histplot(nist_obi[nist_obi['eiw_0.005']>90]['eiw_0.005'], stat='probability', binwidth=0.5)\n",
    "plt.grid(False)\n",
    "ax.set_facecolor('white')\n",
    "ax.set_xlabel('Explained intensity (%)')\n",
    "ax.set_ylabel('Frequency')\n",
    "plt.tight_layout()\n",
    "plt.savefig(os.path.join(figs_dir, 'ei_distribution_nist.png'))"
   ],
   "metadata": {
    "collapsed": false,
    "pycharm": {
     "name": "#%%\n"
    }
   }
  },
  {
   "cell_type": "code",
   "execution_count": 140,
   "outputs": [],
   "source": [
    "import seaborn as sns"
   ],
   "metadata": {
    "collapsed": false,
    "pycharm": {
     "name": "#%%\n"
    }
   }
  },
  {
   "cell_type": "code",
   "execution_count": 144,
   "outputs": [
    {
     "data": {
      "text/plain": "<matplotlib.legend.Legend at 0x29f1585b0>"
     },
     "execution_count": 144,
     "metadata": {},
     "output_type": "execute_result"
    },
    {
     "data": {
      "text/plain": "<Figure size 400x300 with 1 Axes>",
      "image/png": "[encoded data removed]"
     },
     "metadata": {},
     "output_type": "display_data"
    }
   ],
   "source": [
    "fig = plt.figure(figsize = (4, 3))#43\n",
    "ax = fig.add_subplot()\n",
    "#\n",
    "sns.distplot(nist_sampled['ei_0.005'], label = 'denoise_hybrid')\n",
    "sns.distplot(nist_sampled['eiw_0.005'], label = 'denoise_white')\n",
    "# sns.lineplot(x = range(1,14), y = ns_means)\n",
    "# sns.histplot(library_bad_quality['normalized_entropy'], label = 'low_quality')\n",
    "# plt.vlines(x = 0.8, ymin=0, ymax=1.8, color = 'red')\n",
    "plt.grid(False)\n",
    "plt.legend()"
   ],
   "metadata": {
    "collapsed": false,
    "pycharm": {
     "name": "#%%\n"
    }
   }
  },
  {
   "cell_type": "code",
   "execution_count": 137,
   "outputs": [
    {
     "data": {
      "text/plain": "count    2000.000000\nmean       98.217513\nstd         7.377559\nmin         0.000000\n25%        99.687300\n50%       100.000000\n75%       100.000000\nmax       100.000000\nName: eiw_0.005, dtype: float64"
     },
     "execution_count": 137,
     "metadata": {},
     "output_type": "execute_result"
    }
   ],
   "source": [
    "nist_sampled['eiw_0.005'].describe()"
   ],
   "metadata": {
    "collapsed": false,
    "pycharm": {
     "name": "#%%\n"
    }
   }
  },
  {
   "cell_type": "code",
   "execution_count": 138,
   "outputs": [
    {
     "data": {
      "text/plain": "count    1997.000000\nmean       98.714217\nstd         6.091633\nmin         0.000000\n25%        99.830600\n50%       100.000000\n75%       100.000000\nmax       100.000000\nName: ei_0.005, dtype: float64"
     },
     "execution_count": 138,
     "metadata": {},
     "output_type": "execute_result"
    }
   ],
   "source": [
    "nist_sampled['ei_0.005'].describe()"
   ],
   "metadata": {
    "collapsed": false,
    "pycharm": {
     "name": "#%%\n"
    }
   }
  },
  {
   "cell_type": "code",
   "execution_count": 72,
   "outputs": [],
   "source": [
    "from toolsets.search import string_search, quick_search_values\n",
    "from toolsets.std_list_prep import calculate_precursormz"
   ],
   "metadata": {
    "collapsed": false,
    "pycharm": {
     "name": "#%%\n"
    }
   }
  },
  {
   "cell_type": "code",
   "execution_count": 55,
   "outputs": [],
   "source": [
    "nist_obi = string_search(nist_sampled, 'Instrument', 'Agilent QTOF 6530', reverse=True)"
   ],
   "metadata": {
    "collapsed": false,
    "pycharm": {
     "name": "#%%\n"
    }
   }
  },
  {
   "cell_type": "code",
   "execution_count": null,
   "outputs": [],
   "source": [
    "nist_obi"
   ],
   "metadata": {
    "collapsed": false,
    "pycharm": {
     "name": "#%%\n"
    }
   }
  },
  {
   "cell_type": "code",
   "execution_count": 84,
   "outputs": [
    {
     "data": {
      "text/plain": "90.97379875"
     },
     "execution_count": 84,
     "metadata": {},
     "output_type": "execute_result"
    }
   ],
   "source": [
    "nist_obi['ei_0.005'].quantile(0.025)"
   ],
   "metadata": {
    "collapsed": false,
    "pycharm": {
     "name": "#%%\n"
    }
   }
  },
  {
   "cell_type": "code",
   "execution_count": 133,
   "outputs": [],
   "source": [
    "\n",
    "from multiprocessing import Pool\n",
    "from toolsets.denoising_related_functions import translate_matrix_into_formula, evaluate_nl_blacklist\n",
    "from toolsets.mass_to_formula import MolecularFormula, numpy_formula_format\n",
    "import itertools\n",
    "from itertools import repeat"
   ],
   "metadata": {
    "collapsed": false,
    "pycharm": {
     "name": "#%%\n"
    }
   }
  },
  {
   "cell_type": "code",
   "execution_count": 77,
   "outputs": [],
   "source": [
    "from rdkit.Chem.rdMolDescriptors import CalcMolFormula\n",
    "from rdkit import Chem"
   ],
   "metadata": {
    "collapsed": false,
    "pycharm": {
     "name": "#%%\n"
    }
   }
  },
  {
   "cell_type": "code",
   "execution_count": 47,
   "outputs": [
    {
     "data": {
      "text/plain": "count    1997.000000\nmean       99.205529\nstd         4.425725\nmin         7.690820\n25%       100.000000\n50%       100.000000\n75%       100.000000\nmax       100.000000\nName: ei_0.01, dtype: float64"
     },
     "execution_count": 47,
     "metadata": {},
     "output_type": "execute_result"
    }
   ],
   "source": [
    "nist_sampled['ei_0.01'].describe()"
   ],
   "metadata": {
    "collapsed": false,
    "pycharm": {
     "name": "#%%\n"
    }
   }
  },
  {
   "cell_type": "code",
   "execution_count": 32,
   "outputs": [
    {
     "data": {
      "text/plain": "Name                                           Sialyl-Lea(d18:1/16:0)\nPrecursor_type                                                 [M-H]-\nPrecursor_MZ                                              1662.895987\nmsms                150.0547\\t27.17\\n151.039\\t1.8\\n152.034\\t4.2\\n1...\nspectral_entropy                                             2.840401\nSpectrum_type                                                     MS2\nInstrument_type                                                   HCD\nInstrument                                      Orbitrap Fusion Lumos\nSample_inlet                                    direct flow injection\nIonization                                                        ESI\nCollision_energy                                        NCE=35% 115eV\nIon_mode                                                            N\nInchikey                                               KXERKVVUTGFVLK\nSmiles              CCCCCCCCCCCCCC=C[CH](O)[CH](CO[CH]1OC(CO)[CH](...\nallowed_percent                                              0.116195\nName: 51, dtype: object"
     },
     "execution_count": 32,
     "metadata": {},
     "output_type": "execute_result"
    }
   ],
   "source": [
    "row"
   ],
   "metadata": {
    "collapsed": false,
    "pycharm": {
     "name": "#%%\n"
    }
   }
  }
 ],
 "metadata": {
  "kernelspec": {
   "name": "alphapept_env",
   "language": "python",
   "display_name": "alphapept_env"
  },
  "language_info": {
   "codemirror_mode": {
    "name": "ipython",
    "version": 2
   },
   "file_extension": ".py",
   "mimetype": "text/x-python",
   "name": "python",
   "nbconvert_exporter": "python",
   "pygments_lexer": "ipython2",
   "version": "2.7.6"
  }
 },
 "nbformat": 4,
 "nbformat_minor": 0
}