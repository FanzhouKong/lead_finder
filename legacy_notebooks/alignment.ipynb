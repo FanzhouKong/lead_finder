{
 "cells": [
  {
   "cell_type": "code",
   "execution_count": 197,
   "metadata": {
    "collapsed": true,
    "ExecuteTime": {
     "end_time": "2023-07-25T23:01:30.010976Z",
     "start_time": "2023-07-25T23:01:29.949570Z"
    }
   },
   "outputs": [
    {
     "name": "stdout",
     "output_type": "stream",
     "text": [
      "The autoreload extension is already loaded. To reload it, use:\n",
      "  %reload_ext autoreload\n"
     ]
    }
   ],
   "source": [
    "import os\n",
    "import sys\n",
    "import numpy as np\n",
    "import pandas as pd\n",
    "%load_ext autoreload\n",
    "%autoreload 2\n",
    "import toolsets.spectra_operations as so\n",
    "from toolsets.file_io import get_file_list, readin_peak_list, prepare_sample_list\n",
    "from toolsets.feature_alignment import initilize_pmz_rt_list, find_feature, find_istd, clean_bad_features\n",
    "from tqdm import tqdm\n",
    "# from toolsets.feature_alignment import\n",
    "from toolsets.search import quick_search_values, string_search\n",
    "# from feature_finding.feature_finding_alphapept import find_feature"
   ]
  },
  {
   "cell_type": "code",
   "execution_count": 13,
   "outputs": [],
   "source": [
    "working_dir = '/Users/fanzhou.kong/Dropbox (Brightseed)/Mac/Documents/GitHub/data_garage/brighseed/legacy/processing'"
   ],
   "metadata": {
    "collapsed": false,
    "ExecuteTime": {
     "end_time": "2023-07-24T17:55:01.827410Z",
     "start_time": "2023-07-24T17:55:01.733796Z"
    }
   }
  },
  {
   "cell_type": "code",
   "execution_count": 94,
   "outputs": [],
   "source": [
    "istd_info = pd.read_csv('/Users/fanzhou.kong/Dropbox (Brightseed)/Mac/Documents/GitHub/data_garage/brighseed/legacy/istd_info.csv')"
   ],
   "metadata": {
    "collapsed": false,
    "ExecuteTime": {
     "end_time": "2023-07-25T02:39:48.087465Z",
     "start_time": "2023-07-25T02:39:48.036246Z"
    }
   }
  },
  {
   "cell_type": "code",
   "execution_count": 216,
   "outputs": [],
   "source": [
    "all_lst = get_file_list(working_dir, '.csv')"
   ],
   "metadata": {
    "collapsed": false,
    "ExecuteTime": {
     "end_time": "2023-07-25T23:07:01.115775Z",
     "start_time": "2023-07-25T23:07:01.062377Z"
    }
   }
  },
  {
   "cell_type": "code",
   "execution_count": 232,
   "outputs": [],
   "source": [
    "fractions, qcs, blks = prepare_sample_list(all_lst)"
   ],
   "metadata": {
    "collapsed": false,
    "ExecuteTime": {
     "end_time": "2023-07-25T23:17:38.569942Z",
     "start_time": "2023-07-25T23:17:38.462486Z"
    }
   }
  },
  {
   "cell_type": "code",
   "execution_count": 170,
   "outputs": [
    {
     "name": "stdout",
     "output_type": "stream",
     "text": [
      "length_of_master list:  17381\n"
     ]
    },
    {
     "name": "stderr",
     "output_type": "stream",
     "text": [
      "100%|██████████| 17381/17381 [01:18<00:00, 221.03it/s]\n",
      "100%|██████████| 8062/8062 [00:26<00:00, 299.74it/s]"
     ]
    },
    {
     "name": "stdout",
     "output_type": "stream",
     "text": [
      "length_of updated master list:  6515\n"
     ]
    },
    {
     "name": "stderr",
     "output_type": "stream",
     "text": [
      "\n"
     ]
    }
   ],
   "source": [
    "master_list = initilize_pmz_rt_list([os.path.join(working_dir, x+'.csv') for x in qcs], mode = 'exclusive')"
   ],
   "metadata": {
    "collapsed": false,
    "ExecuteTime": {
     "end_time": "2023-07-25T03:36:28.155525Z",
     "start_time": "2023-07-25T03:34:42.140005Z"
    }
   }
  },
  {
   "cell_type": "code",
   "execution_count": 171,
   "outputs": [],
   "source": [
    "from toolsets.feature_alignment import align"
   ],
   "metadata": {
    "collapsed": false,
    "ExecuteTime": {
     "end_time": "2023-07-25T03:37:29.359879Z",
     "start_time": "2023-07-25T03:37:29.253126Z"
    }
   }
  },
  {
   "cell_type": "code",
   "execution_count": 176,
   "outputs": [
    {
     "name": "stderr",
     "output_type": "stream",
     "text": [
      "100%|██████████| 41/41 [13:12<00:00, 19.33s/it]\n"
     ]
    }
   ],
   "source": [
    "alignment_result = align(file_paths=file_paths,master_list_input= master_list)"
   ],
   "metadata": {
    "collapsed": false,
    "ExecuteTime": {
     "end_time": "2023-07-25T03:52:28.816174Z",
     "start_time": "2023-07-25T03:39:16.246787Z"
    }
   }
  },
  {
   "cell_type": "code",
   "execution_count": 180,
   "outputs": [],
   "source": [
    "alignment_result_with_meta = find_istd(alignment_result, istd_info)"
   ],
   "metadata": {
    "collapsed": false,
    "ExecuteTime": {
     "end_time": "2023-07-25T22:44:34.961214Z",
     "start_time": "2023-07-25T22:44:34.896884Z"
    }
   }
  },
  {
   "cell_type": "code",
   "execution_count": 271,
   "outputs": [],
   "source": [
    "alignment_result_qcs = alignment_result_with_meta[qcs]"
   ],
   "metadata": {
    "collapsed": false,
    "ExecuteTime": {
     "end_time": "2023-07-25T23:32:28.215561Z",
     "start_time": "2023-07-25T23:32:28.183454Z"
    }
   }
  },
  {
   "cell_type": "code",
   "execution_count": null,
   "outputs": [],
   "source": [
    "alignment_result_blk = alignment_result_all[blks]"
   ],
   "metadata": {
    "collapsed": false
   }
  },
  {
   "cell_type": "code",
   "execution_count": 272,
   "outputs": [],
   "source": [
    "bad_feature_idx = []\n",
    "for index, row in alignment_result.iterrows():\n",
    "    if alignment_result_qcs.loc[index].median()<alignment_result_blk.loc[index].max()*100:\n",
    "        bad_feature_idx.append(index)\n",
    "    # break"
   ],
   "metadata": {
    "collapsed": false,
    "ExecuteTime": {
     "end_time": "2023-07-25T23:32:45.520296Z",
     "start_time": "2023-07-25T23:32:44.733858Z"
    }
   }
  },
  {
   "cell_type": "code",
   "execution_count": 264,
   "outputs": [
    {
     "data": {
      "text/plain": "MeOH_Blank4_P    52153.570312\nMeOH_Blank2_P    56969.152344\nMeOH_Blank3_P    46890.980469\nName: 287, dtype: float64"
     },
     "execution_count": 264,
     "metadata": {},
     "output_type": "execute_result"
    }
   ],
   "source": [
    "alignment_result_blk.loc[bad_feature_idx[100]]"
   ],
   "metadata": {
    "collapsed": false,
    "ExecuteTime": {
     "end_time": "2023-07-25T23:28:57.791569Z",
     "start_time": "2023-07-25T23:28:57.755478Z"
    }
   }
  },
  {
   "cell_type": "code",
   "execution_count": 193,
   "outputs": [
    {
     "data": {
      "text/plain": "            pmz        rt  1870_AX_M5P2_M7P1_M7_X45_P  \\\n0      100.1119  0.868843                5.511330e+05   \n1      100.3450  8.303376                0.000000e+00   \n2      100.5424  3.821902                9.680216e+04   \n3      101.0232  4.001753                0.000000e+00   \n4      101.0596  3.476982                0.000000e+00   \n...         ...       ...                         ...   \n6510  1297.5930  7.888673                7.556993e+05   \n6511  1298.0940  7.888673                0.000000e+00   \n6512  1298.4210  4.419445                0.000000e+00   \n6513  1398.9320  9.782365                1.047917e+06   \n6514  1399.9340  9.782365                1.007849e+06   \n\n      1870_AX_M5P2_M7P1_M7_X24_P  1870_AX_M5P2_M7P1_M7_X26_P  \\\n0                   2.871513e+05                3.111458e+05   \n1                   0.000000e+00                0.000000e+00   \n2                   0.000000e+00                0.000000e+00   \n3                   0.000000e+00                0.000000e+00   \n4                   0.000000e+00                0.000000e+00   \n...                          ...                         ...   \n6510                6.062507e+05                6.846428e+05   \n6511                4.131130e+04                9.066487e+04   \n6512                0.000000e+00                0.000000e+00   \n6513                1.017131e+06                1.071682e+06   \n6514                9.354144e+05                9.674787e+05   \n\n      1870_AX_M5P2_M7P1_M7_X47_P  1870_AX_M5P2_M7P1_M7_X43_P  \\\n0                   7.842599e+05               705048.437500   \n1                   0.000000e+00                14114.498047   \n2                   0.000000e+00                    0.000000   \n3                   5.104543e+05                    0.000000   \n4                   0.000000e+00                    0.000000   \n...                          ...                         ...   \n6510                6.862528e+05                    0.000000   \n6511                8.077989e+04                50674.429688   \n6512                0.000000e+00                    0.000000   \n6513                1.087929e+06               844605.625000   \n6514                9.866981e+05               838652.312500   \n\n      1870_AX_M5P2_M7P1_M7_X58_P  1870_AX_M5P2_M7P1_M7_X41_P  \\\n0                  686724.937500                4.904367e+05   \n1                       0.000000                0.000000e+00   \n2                       0.000000                0.000000e+00   \n3                       0.000000                0.000000e+00   \n4                       0.000000                0.000000e+00   \n...                          ...                         ...   \n6510               655450.562500                5.357913e+05   \n6511                57560.316406                0.000000e+00   \n6512                    0.000000                0.000000e+00   \n6513               703768.625000                9.804808e+05   \n6514               698874.125000                1.002456e+06   \n\n      1870_AX_M5P2_M7P1_M7_X39_P  ...  1870_AX_M5P2_M7P1_M7_X37_P  \\\n0                   458523.28125  ...                500334.03125   \n1                        0.00000  ...                     0.00000   \n2                        0.00000  ...                     0.00000   \n3                        0.00000  ...                     0.00000   \n4                        0.00000  ...                     0.00000   \n...                          ...  ...                         ...   \n6510                446722.78125  ...                653414.43750   \n6511                     0.00000  ...                     0.00000   \n6512                     0.00000  ...                     0.00000   \n6513                934075.56250  ...                957819.81250   \n6514                805593.75000  ...                921392.62500   \n\n        QC_Pool2_P  1870_AX_M5P2_M7P1_M7_X33_P  1870_AX_M5P2_M7P1_M7_X52_P  \\\n0     1.312679e+06                 614186.7500               745164.250000   \n1     2.036877e+04                      0.0000                    0.000000   \n2     1.671202e+04                      0.0000                    0.000000   \n3     1.133292e+05                      0.0000                    0.000000   \n4     1.208786e+05                      0.0000                    0.000000   \n...            ...                         ...                         ...   \n6510  1.323538e+06                 623976.1250               606178.437500   \n6511  2.019440e+05                      0.0000                60926.078125   \n6512  6.967130e+03                      0.0000                    0.000000   \n6513  3.922870e+05                 823637.2500               971071.625000   \n6514  3.182511e+05                 749477.6875               730046.812500   \n\n      1870_AX_M5P2_M7P1_M7_X28_P  MeOH_Blank3_P  1870_AX_M5P2_M7P1_M7_X50_P  \\\n0                   5.071356e+05        0.00000                9.695877e+05   \n1                   0.000000e+00        0.00000                0.000000e+00   \n2                   0.000000e+00        0.00000                0.000000e+00   \n3                   0.000000e+00        0.00000                0.000000e+00   \n4                   1.862667e+05        0.00000                0.000000e+00   \n...                          ...            ...                         ...   \n6510                0.000000e+00   310063.84375                7.499526e+05   \n6511                9.253763e+04        0.00000                7.741680e+04   \n6512                0.000000e+00        0.00000                0.000000e+00   \n6513                1.109245e+06   759327.06250                1.014510e+06   \n6514                1.116171e+06   696471.18750                9.274786e+05   \n\n      1870_AX_M5P2_M7P1_M7_X31_P  1870_AX_M5P2_M7P1_M7_X49_P  isotopic_state  \n0                   4.878266e+05               644985.625000           M + 0  \n1                   0.000000e+00                    0.000000           M + 0  \n2                   0.000000e+00                    0.000000           M + 0  \n3                   0.000000e+00                    0.000000           M + 0  \n4                   2.736410e+05                    0.000000           M + 0  \n...                          ...                         ...             ...  \n6510                7.977789e+05               674813.500000         unknown  \n6511                0.000000e+00                57511.152344         unknown  \n6512                0.000000e+00                    0.000000         unknown  \n6513                1.015829e+06               705943.937500           M + 0  \n6514                8.197098e+05               772096.000000         unknown  \n\n[6515 rows x 44 columns]",
      "text/html": "<div>\n<style scoped>\n    .dataframe tbody tr th:only-of-type {\n        vertical-align: middle;\n    }\n\n    .dataframe tbody tr th {\n        vertical-align: top;\n    }\n\n    .dataframe thead th {\n        text-align: right;\n    }\n</style>\n<table border=\"1\" class=\"dataframe\">\n  <thead>\n    <tr style=\"text-align: right;\">\n      <th></th>\n      <th>pmz</th>\n      <th>rt</th>\n      <th>1870_AX_M5P2_M7P1_M7_X45_P</th>\n      <th>1870_AX_M5P2_M7P1_M7_X24_P</th>\n      <th>1870_AX_M5P2_M7P1_M7_X26_P</th>\n      <th>1870_AX_M5P2_M7P1_M7_X47_P</th>\n      <th>1870_AX_M5P2_M7P1_M7_X43_P</th>\n      <th>1870_AX_M5P2_M7P1_M7_X58_P</th>\n      <th>1870_AX_M5P2_M7P1_M7_X41_P</th>\n      <th>1870_AX_M5P2_M7P1_M7_X39_P</th>\n      <th>...</th>\n      <th>1870_AX_M5P2_M7P1_M7_X37_P</th>\n      <th>QC_Pool2_P</th>\n      <th>1870_AX_M5P2_M7P1_M7_X33_P</th>\n      <th>1870_AX_M5P2_M7P1_M7_X52_P</th>\n      <th>1870_AX_M5P2_M7P1_M7_X28_P</th>\n      <th>MeOH_Blank3_P</th>\n      <th>1870_AX_M5P2_M7P1_M7_X50_P</th>\n      <th>1870_AX_M5P2_M7P1_M7_X31_P</th>\n      <th>1870_AX_M5P2_M7P1_M7_X49_P</th>\n      <th>isotopic_state</th>\n    </tr>\n  </thead>\n  <tbody>\n    <tr>\n      <th>0</th>\n      <td>100.1119</td>\n      <td>0.868843</td>\n      <td>5.511330e+05</td>\n      <td>2.871513e+05</td>\n      <td>3.111458e+05</td>\n      <td>7.842599e+05</td>\n      <td>705048.437500</td>\n      <td>686724.937500</td>\n      <td>4.904367e+05</td>\n      <td>458523.28125</td>\n      <td>...</td>\n      <td>500334.03125</td>\n      <td>1.312679e+06</td>\n      <td>614186.7500</td>\n      <td>745164.250000</td>\n      <td>5.071356e+05</td>\n      <td>0.00000</td>\n      <td>9.695877e+05</td>\n      <td>4.878266e+05</td>\n      <td>644985.625000</td>\n      <td>M + 0</td>\n    </tr>\n    <tr>\n      <th>1</th>\n      <td>100.3450</td>\n      <td>8.303376</td>\n      <td>0.000000e+00</td>\n      <td>0.000000e+00</td>\n      <td>0.000000e+00</td>\n      <td>0.000000e+00</td>\n      <td>14114.498047</td>\n      <td>0.000000</td>\n      <td>0.000000e+00</td>\n      <td>0.00000</td>\n      <td>...</td>\n      <td>0.00000</td>\n      <td>2.036877e+04</td>\n      <td>0.0000</td>\n      <td>0.000000</td>\n      <td>0.000000e+00</td>\n      <td>0.00000</td>\n      <td>0.000000e+00</td>\n      <td>0.000000e+00</td>\n      <td>0.000000</td>\n      <td>M + 0</td>\n    </tr>\n    <tr>\n      <th>2</th>\n      <td>100.5424</td>\n      <td>3.821902</td>\n      <td>9.680216e+04</td>\n      <td>0.000000e+00</td>\n      <td>0.000000e+00</td>\n      <td>0.000000e+00</td>\n      <td>0.000000</td>\n      <td>0.000000</td>\n      <td>0.000000e+00</td>\n      <td>0.00000</td>\n      <td>...</td>\n      <td>0.00000</td>\n      <td>1.671202e+04</td>\n      <td>0.0000</td>\n      <td>0.000000</td>\n      <td>0.000000e+00</td>\n      <td>0.00000</td>\n      <td>0.000000e+00</td>\n      <td>0.000000e+00</td>\n      <td>0.000000</td>\n      <td>M + 0</td>\n    </tr>\n    <tr>\n      <th>3</th>\n      <td>101.0232</td>\n      <td>4.001753</td>\n      <td>0.000000e+00</td>\n      <td>0.000000e+00</td>\n      <td>0.000000e+00</td>\n      <td>5.104543e+05</td>\n      <td>0.000000</td>\n      <td>0.000000</td>\n      <td>0.000000e+00</td>\n      <td>0.00000</td>\n      <td>...</td>\n      <td>0.00000</td>\n      <td>1.133292e+05</td>\n      <td>0.0000</td>\n      <td>0.000000</td>\n      <td>0.000000e+00</td>\n      <td>0.00000</td>\n      <td>0.000000e+00</td>\n      <td>0.000000e+00</td>\n      <td>0.000000</td>\n      <td>M + 0</td>\n    </tr>\n    <tr>\n      <th>4</th>\n      <td>101.0596</td>\n      <td>3.476982</td>\n      <td>0.000000e+00</td>\n      <td>0.000000e+00</td>\n      <td>0.000000e+00</td>\n      <td>0.000000e+00</td>\n      <td>0.000000</td>\n      <td>0.000000</td>\n      <td>0.000000e+00</td>\n      <td>0.00000</td>\n      <td>...</td>\n      <td>0.00000</td>\n      <td>1.208786e+05</td>\n      <td>0.0000</td>\n      <td>0.000000</td>\n      <td>1.862667e+05</td>\n      <td>0.00000</td>\n      <td>0.000000e+00</td>\n      <td>2.736410e+05</td>\n      <td>0.000000</td>\n      <td>M + 0</td>\n    </tr>\n    <tr>\n      <th>...</th>\n      <td>...</td>\n      <td>...</td>\n      <td>...</td>\n      <td>...</td>\n      <td>...</td>\n      <td>...</td>\n      <td>...</td>\n      <td>...</td>\n      <td>...</td>\n      <td>...</td>\n      <td>...</td>\n      <td>...</td>\n      <td>...</td>\n      <td>...</td>\n      <td>...</td>\n      <td>...</td>\n      <td>...</td>\n      <td>...</td>\n      <td>...</td>\n      <td>...</td>\n      <td>...</td>\n    </tr>\n    <tr>\n      <th>6510</th>\n      <td>1297.5930</td>\n      <td>7.888673</td>\n      <td>7.556993e+05</td>\n      <td>6.062507e+05</td>\n      <td>6.846428e+05</td>\n      <td>6.862528e+05</td>\n      <td>0.000000</td>\n      <td>655450.562500</td>\n      <td>5.357913e+05</td>\n      <td>446722.78125</td>\n      <td>...</td>\n      <td>653414.43750</td>\n      <td>1.323538e+06</td>\n      <td>623976.1250</td>\n      <td>606178.437500</td>\n      <td>0.000000e+00</td>\n      <td>310063.84375</td>\n      <td>7.499526e+05</td>\n      <td>7.977789e+05</td>\n      <td>674813.500000</td>\n      <td>unknown</td>\n    </tr>\n    <tr>\n      <th>6511</th>\n      <td>1298.0940</td>\n      <td>7.888673</td>\n      <td>0.000000e+00</td>\n      <td>4.131130e+04</td>\n      <td>9.066487e+04</td>\n      <td>8.077989e+04</td>\n      <td>50674.429688</td>\n      <td>57560.316406</td>\n      <td>0.000000e+00</td>\n      <td>0.00000</td>\n      <td>...</td>\n      <td>0.00000</td>\n      <td>2.019440e+05</td>\n      <td>0.0000</td>\n      <td>60926.078125</td>\n      <td>9.253763e+04</td>\n      <td>0.00000</td>\n      <td>7.741680e+04</td>\n      <td>0.000000e+00</td>\n      <td>57511.152344</td>\n      <td>unknown</td>\n    </tr>\n    <tr>\n      <th>6512</th>\n      <td>1298.4210</td>\n      <td>4.419445</td>\n      <td>0.000000e+00</td>\n      <td>0.000000e+00</td>\n      <td>0.000000e+00</td>\n      <td>0.000000e+00</td>\n      <td>0.000000</td>\n      <td>0.000000</td>\n      <td>0.000000e+00</td>\n      <td>0.00000</td>\n      <td>...</td>\n      <td>0.00000</td>\n      <td>6.967130e+03</td>\n      <td>0.0000</td>\n      <td>0.000000</td>\n      <td>0.000000e+00</td>\n      <td>0.00000</td>\n      <td>0.000000e+00</td>\n      <td>0.000000e+00</td>\n      <td>0.000000</td>\n      <td>unknown</td>\n    </tr>\n    <tr>\n      <th>6513</th>\n      <td>1398.9320</td>\n      <td>9.782365</td>\n      <td>1.047917e+06</td>\n      <td>1.017131e+06</td>\n      <td>1.071682e+06</td>\n      <td>1.087929e+06</td>\n      <td>844605.625000</td>\n      <td>703768.625000</td>\n      <td>9.804808e+05</td>\n      <td>934075.56250</td>\n      <td>...</td>\n      <td>957819.81250</td>\n      <td>3.922870e+05</td>\n      <td>823637.2500</td>\n      <td>971071.625000</td>\n      <td>1.109245e+06</td>\n      <td>759327.06250</td>\n      <td>1.014510e+06</td>\n      <td>1.015829e+06</td>\n      <td>705943.937500</td>\n      <td>M + 0</td>\n    </tr>\n    <tr>\n      <th>6514</th>\n      <td>1399.9340</td>\n      <td>9.782365</td>\n      <td>1.007849e+06</td>\n      <td>9.354144e+05</td>\n      <td>9.674787e+05</td>\n      <td>9.866981e+05</td>\n      <td>838652.312500</td>\n      <td>698874.125000</td>\n      <td>1.002456e+06</td>\n      <td>805593.75000</td>\n      <td>...</td>\n      <td>921392.62500</td>\n      <td>3.182511e+05</td>\n      <td>749477.6875</td>\n      <td>730046.812500</td>\n      <td>1.116171e+06</td>\n      <td>696471.18750</td>\n      <td>9.274786e+05</td>\n      <td>8.197098e+05</td>\n      <td>772096.000000</td>\n      <td>unknown</td>\n    </tr>\n  </tbody>\n</table>\n<p>6515 rows × 44 columns</p>\n</div>"
     },
     "execution_count": 193,
     "metadata": {},
     "output_type": "execute_result"
    }
   ],
   "source": [
    "alignment_result"
   ],
   "metadata": {
    "collapsed": false,
    "ExecuteTime": {
     "end_time": "2023-07-25T22:52:38.426339Z",
     "start_time": "2023-07-25T22:52:38.358758Z"
    }
   }
  },
  {
   "cell_type": "code",
   "execution_count": 62,
   "outputs": [],
   "source": [
    "# import math\n",
    "# def distance_score(rt, rt_ref, mz, mz_ref):\n",
    "#     delta_rt = 3/60\n",
    "#     delta_mz = 0.005\n",
    "#     first_half = 0.5*math.exp((-0.5)*pow(((rt-rt_ref)/delta_rt), 2))\n",
    "#     second_half = 0.5*math.exp((-0.5)*pow(((mz-mz_ref)/delta_mz), 2))\n",
    "#     return(first_half+second_half)\n",
    "# def get_score(rt, mz, master_list):\n",
    "#     score = []\n",
    "#     for index, row in master_list.iterrows():\n",
    "#         score.append(distance_score(rt = rt, rt_ref = row['rt'], mz = mz , mz_ref=row['pmz']))\n",
    "#     return(score)"
   ],
   "metadata": {
    "collapsed": false,
    "ExecuteTime": {
     "end_time": "2023-07-24T22:55:19.288605Z",
     "start_time": "2023-07-24T22:55:19.255472Z"
    }
   }
  },
  {
   "cell_type": "code",
   "execution_count": 101,
   "outputs": [],
   "source": [
    "file_paths = [os.path.join(working_dir, x+'.csv') for x in file_list]"
   ],
   "metadata": {
    "collapsed": false,
    "ExecuteTime": {
     "end_time": "2023-07-25T02:53:47.449400Z",
     "start_time": "2023-07-25T02:53:47.405186Z"
    }
   }
  },
  {
   "cell_type": "code",
   "execution_count": 106,
   "outputs": [
    {
     "name": "stderr",
     "output_type": "stream",
     "text": [
      "  0%|          | 0/41 [00:00<?, ?it/s]\n"
     ]
    }
   ],
   "source": [
    "isotopic_state = np.repeat('unknown', len(master_list))\n",
    "for file in tqdm(file_paths):\n",
    "    file_temp = pd.read_csv(file)\n",
    "    intensity_temp = []\n",
    "# suspicious_df = pd.DataFrame()\n",
    "    for index, row in master_list.iterrows():\n",
    "        feature_temp = find_feature(file_temp, mz = row['pmz'], rt =row['rt'])\n",
    "\n",
    "        # feature_temp.drop_duplicates(subset = ['PeakID'])\n",
    "        if len(feature_temp)>1:\n",
    "            feature_temp.sort_values(by = ['Height'], inplace = True)\n",
    "            intensity_temp.append(feature_temp.iloc[0]['Height'])\n",
    "            if 'M + 0' in feature_temp['Isotope'].unique() and isotopic_state[index]!= 'M + 0':\n",
    "                # update isotopic state\n",
    "                isotopic_state[index]= 'M + 0'\n",
    "    # break\n",
    "#     intensity_temp = []\n",
    "#     # pmz_temp = []\n",
    "#     for i in (range(0, len(pmz_list))):"
   ],
   "metadata": {
    "collapsed": false,
    "ExecuteTime": {
     "end_time": "2023-07-25T02:56:27.599642Z",
     "start_time": "2023-07-25T02:56:27.505612Z"
    }
   }
  },
  {
   "cell_type": "code",
   "execution_count": 167,
   "outputs": [],
   "source": [
    "intensity_temp = []\n",
    "# suspicious_df = pd.DataFrame()\n",
    "for index, row in master_list.iterrows():\n",
    "    feature_temp = find_feature(file_temp, mz = row['pmz'], rt =row['rt'])\n",
    "\n",
    "    # feature_temp.drop_duplicates(subset = ['PeakID'])\n",
    "    if len(feature_temp)>1:\n",
    "        feature_temp.sort_values(by = ['Height'], inplace = True)\n",
    "        intensity_temp.append(feature_temp.iloc[0]['Height'])\n",
    "        if 'M + 0' in feature_temp['Isotope'].unique() and isotopic_state[index]!= 'M + 0':\n",
    "            # update isotopic state\n",
    "            isotopic_state[index]= 'M + 0'\n",
    "\n",
    "        # break\n",
    "        # suspicious_df = pd.concat([suspicious_df, feature_temp], axis=0)\n",
    "        # intensity_temp.append(feature_temp['Height'].sum())\n",
    "        # break\n",
    "        # if isotopic_state[index]!='M+0':\n",
    "        #     isotopic_state[index]=feature_temp.\n",
    "\n",
    "#             intensity_temp.append(feature_temp['Height'].sum())\n",
    "#             # pmz_temp.append()\n",
    "#             # break\n",
    "#         else:\n",
    "#             intensity_temp.append(0)"
   ],
   "metadata": {
    "collapsed": false,
    "ExecuteTime": {
     "end_time": "2023-07-25T03:28:24.332828Z",
     "start_time": "2023-07-25T03:28:05.985524Z"
    }
   }
  },
  {
   "cell_type": "code",
   "execution_count": 169,
   "outputs": [
    {
     "data": {
      "text/plain": "unknown    6512\nM + 0        13\nName: count, dtype: int64"
     },
     "execution_count": 169,
     "metadata": {},
     "output_type": "execute_result"
    }
   ],
   "source": [
    "pd.Series(isotopic_state).value_counts()"
   ],
   "metadata": {
    "collapsed": false,
    "ExecuteTime": {
     "end_time": "2023-07-25T03:33:44.768586Z",
     "start_time": "2023-07-25T03:33:44.725138Z"
    }
   }
  },
  {
   "cell_type": "code",
   "execution_count": 161,
   "outputs": [
    {
     "data": {
      "text/plain": "True"
     },
     "execution_count": 161,
     "metadata": {},
     "output_type": "execute_result"
    }
   ],
   "source": [
    "'M + 0' in feature_temp['Isotope'].unique()"
   ],
   "metadata": {
    "collapsed": false,
    "ExecuteTime": {
     "end_time": "2023-07-25T03:23:51.910093Z",
     "start_time": "2023-07-25T03:23:51.858345Z"
    }
   }
  },
  {
   "cell_type": "code",
   "execution_count": 155,
   "outputs": [
    {
     "data": {
      "text/plain": "2591    M + 0\n2592    M + 0\nName: Isotope, dtype: object"
     },
     "execution_count": 155,
     "metadata": {},
     "output_type": "execute_result"
    }
   ],
   "source": [
    "feature_temp['Isotope']"
   ],
   "metadata": {
    "collapsed": false,
    "ExecuteTime": {
     "end_time": "2023-07-25T03:22:14.509156Z",
     "start_time": "2023-07-25T03:22:14.461632Z"
    }
   }
  },
  {
   "cell_type": "code",
   "execution_count": null,
   "outputs": [],
   "source": [],
   "metadata": {
    "collapsed": false
   }
  },
  {
   "cell_type": "code",
   "execution_count": 130,
   "outputs": [
    {
     "data": {
      "text/plain": "           pmz        rt annotation feature_type\n1005  264.2404  0.584817    unknown     compound\n1004  264.2404  0.584817    unknown     compound",
      "text/html": "<div>\n<style scoped>\n    .dataframe tbody tr th:only-of-type {\n        vertical-align: middle;\n    }\n\n    .dataframe tbody tr th {\n        vertical-align: top;\n    }\n\n    .dataframe thead th {\n        text-align: right;\n    }\n</style>\n<table border=\"1\" class=\"dataframe\">\n  <thead>\n    <tr style=\"text-align: right;\">\n      <th></th>\n      <th>pmz</th>\n      <th>rt</th>\n      <th>annotation</th>\n      <th>feature_type</th>\n    </tr>\n  </thead>\n  <tbody>\n    <tr>\n      <th>1005</th>\n      <td>264.2404</td>\n      <td>0.584817</td>\n      <td>unknown</td>\n      <td>compound</td>\n    </tr>\n    <tr>\n      <th>1004</th>\n      <td>264.2404</td>\n      <td>0.584817</td>\n      <td>unknown</td>\n      <td>compound</td>\n    </tr>\n  </tbody>\n</table>\n</div>"
     },
     "execution_count": 130,
     "metadata": {},
     "output_type": "execute_result"
    }
   ],
   "source": [
    "quick_search_values(master_list, 'pmz', 264.2404-0.005, 264.2404+0.005, ifsorted = False)"
   ],
   "metadata": {
    "collapsed": false,
    "ExecuteTime": {
     "end_time": "2023-07-25T03:11:29.027436Z",
     "start_time": "2023-07-25T03:11:28.980727Z"
    }
   }
  },
  {
   "cell_type": "code",
   "execution_count": 127,
   "outputs": [
    {
     "data": {
      "text/plain": "       PeakID    Title  Scans  RT left(min)  RT_adjusted  RT (min)  \\\n2896      192  Unknown    162      0.270423     0.567449  0.570232   \n2897      191  Unknown    162      0.288344     0.567449  0.570232   \n2896      192  Unknown    162      0.270423     0.567449  0.570232   \n2897      191  Unknown    162      0.288344     0.567449  0.570232   \n3093     9634  Unknown   2120      7.175723     7.276400  7.276877   \n3094     9635  Unknown   2120      7.227790     7.276400  7.276877   \n5892    12875  Unknown   2516      8.393025     8.581450  8.570030   \n5893    12876  Unknown   2516      8.374272     8.581450  8.570030   \n8064    13298  Unknown   2573      8.551148     8.757467  8.746047   \n8066    13299  Unknown   2573      8.534752     8.757467  8.746047   \n8327    10036  Unknown   2184      7.260505     7.483457  7.482813   \n8328    10037  Unknown   2184      7.260505     7.483457  7.482813   \n9186     9055  Unknown   2049      6.840352     7.040803  7.044209   \n9187     9056  Unknown   2049      6.805693     7.040803  7.044209   \n12207    8395  Unknown   1914      6.407419     6.611052  6.609376   \n12208    8396  Unknown   1914      6.354309     6.611052  6.609376   \n12545   11489  Unknown   2352      7.978992     8.042131  8.029380   \n12546   11490  Unknown   2352      7.680437     8.042131  8.029380   \n\n       RT right (min)  Precursor m/z        Height          Area  ...  \\\n2896         0.783190       264.2404  2.355243e+04  2.189238e+05  ...   \n2897         0.783190       264.2404  2.355243e+04  2.189238e+05  ...   \n2896         0.783190       264.2404  2.355243e+04  2.189238e+05  ...   \n2897         0.783190       264.2404  2.355243e+04  2.189238e+05  ...   \n3093         7.430809       273.2216  9.197585e+04  5.393936e+05  ...   \n3094         7.430809       273.2224  9.197585e+04  5.095878e+05  ...   \n5892         8.763833       397.3290  3.550199e+04  1.703975e+05  ...   \n5893         8.746047       397.3301  3.550199e+04  1.703975e+05  ...   \n8064         9.031429       491.3344  2.636825e+05  1.779498e+06  ...   \n8066         8.909739       491.3361  2.636825e+05  1.779498e+06  ...   \n8327         7.735480       499.3266  9.264440e+04  1.329578e+06  ...   \n8328         7.854633       499.3273  9.264440e+04  1.329578e+06  ...   \n9186         7.260505       541.4291  4.664988e+05  2.159569e+06  ...   \n9187         7.309440       541.4304  4.664988e+05  2.159569e+06  ...   \n12207        6.755190       708.4883  1.031895e+05  4.963089e+05  ...   \n12208        6.840352       708.4909  1.031895e+05  4.963089e+05  ...   \n12545        8.187448       733.3824  2.222104e+06  1.084862e+07  ...   \n12546        8.306355       733.3831  2.222104e+06  1.135110e+07  ...   \n\n       m/z matched MS/MS matched RT similarity Dot product  \\\n2896         False         False           NaN         NaN   \n2897         False         False           NaN         NaN   \n2896         False         False           NaN         NaN   \n2897         False         False           NaN         NaN   \n3093         False         False           NaN         NaN   \n3094         False         False           NaN         NaN   \n5892         False         False           NaN         NaN   \n5893         False         False           NaN         NaN   \n8064         False         False           NaN         NaN   \n8066         False         False           NaN         NaN   \n8327         False         False           NaN         NaN   \n8328         False         False           NaN         NaN   \n9186         False         False           NaN         NaN   \n9187         False         False           NaN         NaN   \n12207        False         False           NaN         NaN   \n12208        False         False           NaN         NaN   \n12545        False         False           NaN         NaN   \n12546        False         False           NaN         NaN   \n\n       Reverse dot product  Fragment presence %  Total score           S/N  \\\n2896                   NaN                  NaN          NaN      2.267636   \n2897                   NaN                  NaN          NaN    471.048600   \n2896                   NaN                  NaN          NaN      2.267636   \n2897                   NaN                  NaN          NaN    471.048600   \n3093                   NaN                  NaN          NaN   1839.517000   \n3094                   NaN                  NaN          NaN     44.718240   \n5892                   NaN                  NaN          NaN    710.039700   \n5893                   NaN                  NaN          NaN    710.039700   \n8064                   NaN                  NaN          NaN   5273.649000   \n8066                   NaN                  NaN          NaN   5273.649000   \n8327                   NaN                  NaN          NaN   1852.888000   \n8328                   NaN                  NaN          NaN   1852.888000   \n9186                   NaN                  NaN          NaN   9329.978000   \n9187                   NaN                  NaN          NaN   9329.978000   \n12207                  NaN                  NaN          NaN   2063.790000   \n12208                  NaN                  NaN          NaN   2063.790000   \n12545                  NaN                  NaN          NaN  44442.070000   \n12546                  NaN                  NaN          NaN  44442.070000   \n\n                                            MS1 isotopes  MSMS spectrum  \n2896   263.86551:16451 263.89014:6757 264.13086:8350 ...            NaN  \n2897   263.86551:16451 263.89014:6757 264.13086:8350 ...            NaN  \n2896   263.86551:16451 263.89014:6757 264.13086:8350 ...            NaN  \n2897   263.86551:16451 263.89014:6757 264.13086:8350 ...            NaN  \n3093   273.22128:130476 274.22482:44219 275.16446:379...            NaN  \n3094   273.22128:130476 274.22482:44219 275.16446:379...            NaN  \n5892                                     397.33011:85158            NaN  \n5893                                     397.33011:85158            NaN  \n8064   491.33435:249019 492.33832:58504 495.33258:461...            NaN  \n8066   491.33435:249019 492.33832:58504 495.33258:461...            NaN  \n8327   499.3273:112257 500.32733:28118 501.34195:9394...            NaN  \n8328   499.3273:112257 500.32733:28118 501.34195:9394...            NaN  \n9186   541.38159:27026 541.43036:1080124 541.47919:32...            NaN  \n9187   541.38159:27026 541.43036:1080124 541.47919:32...            NaN  \n12207     708.49091:229741 709.492:63369 710.49707:24400            NaN  \n12208     708.49091:229741 709.492:63369 710.49707:24400            NaN  \n12545  733.38306:4033376 734.38354:1152426 735.38342:...            NaN  \n12546  733.38306:4033376 734.38354:1152426 735.38342:...            NaN  \n\n[18 rows x 32 columns]",
      "text/html": "<div>\n<style scoped>\n    .dataframe tbody tr th:only-of-type {\n        vertical-align: middle;\n    }\n\n    .dataframe tbody tr th {\n        vertical-align: top;\n    }\n\n    .dataframe thead th {\n        text-align: right;\n    }\n</style>\n<table border=\"1\" class=\"dataframe\">\n  <thead>\n    <tr style=\"text-align: right;\">\n      <th></th>\n      <th>PeakID</th>\n      <th>Title</th>\n      <th>Scans</th>\n      <th>RT left(min)</th>\n      <th>RT_adjusted</th>\n      <th>RT (min)</th>\n      <th>RT right (min)</th>\n      <th>Precursor m/z</th>\n      <th>Height</th>\n      <th>Area</th>\n      <th>...</th>\n      <th>m/z matched</th>\n      <th>MS/MS matched</th>\n      <th>RT similarity</th>\n      <th>Dot product</th>\n      <th>Reverse dot product</th>\n      <th>Fragment presence %</th>\n      <th>Total score</th>\n      <th>S/N</th>\n      <th>MS1 isotopes</th>\n      <th>MSMS spectrum</th>\n    </tr>\n  </thead>\n  <tbody>\n    <tr>\n      <th>2896</th>\n      <td>192</td>\n      <td>Unknown</td>\n      <td>162</td>\n      <td>0.270423</td>\n      <td>0.567449</td>\n      <td>0.570232</td>\n      <td>0.783190</td>\n      <td>264.2404</td>\n      <td>2.355243e+04</td>\n      <td>2.189238e+05</td>\n      <td>...</td>\n      <td>False</td>\n      <td>False</td>\n      <td>NaN</td>\n      <td>NaN</td>\n      <td>NaN</td>\n      <td>NaN</td>\n      <td>NaN</td>\n      <td>2.267636</td>\n      <td>263.86551:16451 263.89014:6757 264.13086:8350 ...</td>\n      <td>NaN</td>\n    </tr>\n    <tr>\n      <th>2897</th>\n      <td>191</td>\n      <td>Unknown</td>\n      <td>162</td>\n      <td>0.288344</td>\n      <td>0.567449</td>\n      <td>0.570232</td>\n      <td>0.783190</td>\n      <td>264.2404</td>\n      <td>2.355243e+04</td>\n      <td>2.189238e+05</td>\n      <td>...</td>\n      <td>False</td>\n      <td>False</td>\n      <td>NaN</td>\n      <td>NaN</td>\n      <td>NaN</td>\n      <td>NaN</td>\n      <td>NaN</td>\n      <td>471.048600</td>\n      <td>263.86551:16451 263.89014:6757 264.13086:8350 ...</td>\n      <td>NaN</td>\n    </tr>\n    <tr>\n      <th>2896</th>\n      <td>192</td>\n      <td>Unknown</td>\n      <td>162</td>\n      <td>0.270423</td>\n      <td>0.567449</td>\n      <td>0.570232</td>\n      <td>0.783190</td>\n      <td>264.2404</td>\n      <td>2.355243e+04</td>\n      <td>2.189238e+05</td>\n      <td>...</td>\n      <td>False</td>\n      <td>False</td>\n      <td>NaN</td>\n      <td>NaN</td>\n      <td>NaN</td>\n      <td>NaN</td>\n      <td>NaN</td>\n      <td>2.267636</td>\n      <td>263.86551:16451 263.89014:6757 264.13086:8350 ...</td>\n      <td>NaN</td>\n    </tr>\n    <tr>\n      <th>2897</th>\n      <td>191</td>\n      <td>Unknown</td>\n      <td>162</td>\n      <td>0.288344</td>\n      <td>0.567449</td>\n      <td>0.570232</td>\n      <td>0.783190</td>\n      <td>264.2404</td>\n      <td>2.355243e+04</td>\n      <td>2.189238e+05</td>\n      <td>...</td>\n      <td>False</td>\n      <td>False</td>\n      <td>NaN</td>\n      <td>NaN</td>\n      <td>NaN</td>\n      <td>NaN</td>\n      <td>NaN</td>\n      <td>471.048600</td>\n      <td>263.86551:16451 263.89014:6757 264.13086:8350 ...</td>\n      <td>NaN</td>\n    </tr>\n    <tr>\n      <th>3093</th>\n      <td>9634</td>\n      <td>Unknown</td>\n      <td>2120</td>\n      <td>7.175723</td>\n      <td>7.276400</td>\n      <td>7.276877</td>\n      <td>7.430809</td>\n      <td>273.2216</td>\n      <td>9.197585e+04</td>\n      <td>5.393936e+05</td>\n      <td>...</td>\n      <td>False</td>\n      <td>False</td>\n      <td>NaN</td>\n      <td>NaN</td>\n      <td>NaN</td>\n      <td>NaN</td>\n      <td>NaN</td>\n      <td>1839.517000</td>\n      <td>273.22128:130476 274.22482:44219 275.16446:379...</td>\n      <td>NaN</td>\n    </tr>\n    <tr>\n      <th>3094</th>\n      <td>9635</td>\n      <td>Unknown</td>\n      <td>2120</td>\n      <td>7.227790</td>\n      <td>7.276400</td>\n      <td>7.276877</td>\n      <td>7.430809</td>\n      <td>273.2224</td>\n      <td>9.197585e+04</td>\n      <td>5.095878e+05</td>\n      <td>...</td>\n      <td>False</td>\n      <td>False</td>\n      <td>NaN</td>\n      <td>NaN</td>\n      <td>NaN</td>\n      <td>NaN</td>\n      <td>NaN</td>\n      <td>44.718240</td>\n      <td>273.22128:130476 274.22482:44219 275.16446:379...</td>\n      <td>NaN</td>\n    </tr>\n    <tr>\n      <th>5892</th>\n      <td>12875</td>\n      <td>Unknown</td>\n      <td>2516</td>\n      <td>8.393025</td>\n      <td>8.581450</td>\n      <td>8.570030</td>\n      <td>8.763833</td>\n      <td>397.3290</td>\n      <td>3.550199e+04</td>\n      <td>1.703975e+05</td>\n      <td>...</td>\n      <td>False</td>\n      <td>False</td>\n      <td>NaN</td>\n      <td>NaN</td>\n      <td>NaN</td>\n      <td>NaN</td>\n      <td>NaN</td>\n      <td>710.039700</td>\n      <td>397.33011:85158</td>\n      <td>NaN</td>\n    </tr>\n    <tr>\n      <th>5893</th>\n      <td>12876</td>\n      <td>Unknown</td>\n      <td>2516</td>\n      <td>8.374272</td>\n      <td>8.581450</td>\n      <td>8.570030</td>\n      <td>8.746047</td>\n      <td>397.3301</td>\n      <td>3.550199e+04</td>\n      <td>1.703975e+05</td>\n      <td>...</td>\n      <td>False</td>\n      <td>False</td>\n      <td>NaN</td>\n      <td>NaN</td>\n      <td>NaN</td>\n      <td>NaN</td>\n      <td>NaN</td>\n      <td>710.039700</td>\n      <td>397.33011:85158</td>\n      <td>NaN</td>\n    </tr>\n    <tr>\n      <th>8064</th>\n      <td>13298</td>\n      <td>Unknown</td>\n      <td>2573</td>\n      <td>8.551148</td>\n      <td>8.757467</td>\n      <td>8.746047</td>\n      <td>9.031429</td>\n      <td>491.3344</td>\n      <td>2.636825e+05</td>\n      <td>1.779498e+06</td>\n      <td>...</td>\n      <td>False</td>\n      <td>False</td>\n      <td>NaN</td>\n      <td>NaN</td>\n      <td>NaN</td>\n      <td>NaN</td>\n      <td>NaN</td>\n      <td>5273.649000</td>\n      <td>491.33435:249019 492.33832:58504 495.33258:461...</td>\n      <td>NaN</td>\n    </tr>\n    <tr>\n      <th>8066</th>\n      <td>13299</td>\n      <td>Unknown</td>\n      <td>2573</td>\n      <td>8.534752</td>\n      <td>8.757467</td>\n      <td>8.746047</td>\n      <td>8.909739</td>\n      <td>491.3361</td>\n      <td>2.636825e+05</td>\n      <td>1.779498e+06</td>\n      <td>...</td>\n      <td>False</td>\n      <td>False</td>\n      <td>NaN</td>\n      <td>NaN</td>\n      <td>NaN</td>\n      <td>NaN</td>\n      <td>NaN</td>\n      <td>5273.649000</td>\n      <td>491.33435:249019 492.33832:58504 495.33258:461...</td>\n      <td>NaN</td>\n    </tr>\n    <tr>\n      <th>8327</th>\n      <td>10036</td>\n      <td>Unknown</td>\n      <td>2184</td>\n      <td>7.260505</td>\n      <td>7.483457</td>\n      <td>7.482813</td>\n      <td>7.735480</td>\n      <td>499.3266</td>\n      <td>9.264440e+04</td>\n      <td>1.329578e+06</td>\n      <td>...</td>\n      <td>False</td>\n      <td>False</td>\n      <td>NaN</td>\n      <td>NaN</td>\n      <td>NaN</td>\n      <td>NaN</td>\n      <td>NaN</td>\n      <td>1852.888000</td>\n      <td>499.3273:112257 500.32733:28118 501.34195:9394...</td>\n      <td>NaN</td>\n    </tr>\n    <tr>\n      <th>8328</th>\n      <td>10037</td>\n      <td>Unknown</td>\n      <td>2184</td>\n      <td>7.260505</td>\n      <td>7.483457</td>\n      <td>7.482813</td>\n      <td>7.854633</td>\n      <td>499.3273</td>\n      <td>9.264440e+04</td>\n      <td>1.329578e+06</td>\n      <td>...</td>\n      <td>False</td>\n      <td>False</td>\n      <td>NaN</td>\n      <td>NaN</td>\n      <td>NaN</td>\n      <td>NaN</td>\n      <td>NaN</td>\n      <td>1852.888000</td>\n      <td>499.3273:112257 500.32733:28118 501.34195:9394...</td>\n      <td>NaN</td>\n    </tr>\n    <tr>\n      <th>9186</th>\n      <td>9055</td>\n      <td>Unknown</td>\n      <td>2049</td>\n      <td>6.840352</td>\n      <td>7.040803</td>\n      <td>7.044209</td>\n      <td>7.260505</td>\n      <td>541.4291</td>\n      <td>4.664988e+05</td>\n      <td>2.159569e+06</td>\n      <td>...</td>\n      <td>False</td>\n      <td>False</td>\n      <td>NaN</td>\n      <td>NaN</td>\n      <td>NaN</td>\n      <td>NaN</td>\n      <td>NaN</td>\n      <td>9329.978000</td>\n      <td>541.38159:27026 541.43036:1080124 541.47919:32...</td>\n      <td>NaN</td>\n    </tr>\n    <tr>\n      <th>9187</th>\n      <td>9056</td>\n      <td>Unknown</td>\n      <td>2049</td>\n      <td>6.805693</td>\n      <td>7.040803</td>\n      <td>7.044209</td>\n      <td>7.309440</td>\n      <td>541.4304</td>\n      <td>4.664988e+05</td>\n      <td>2.159569e+06</td>\n      <td>...</td>\n      <td>False</td>\n      <td>False</td>\n      <td>NaN</td>\n      <td>NaN</td>\n      <td>NaN</td>\n      <td>NaN</td>\n      <td>NaN</td>\n      <td>9329.978000</td>\n      <td>541.38159:27026 541.43036:1080124 541.47919:32...</td>\n      <td>NaN</td>\n    </tr>\n    <tr>\n      <th>12207</th>\n      <td>8395</td>\n      <td>Unknown</td>\n      <td>1914</td>\n      <td>6.407419</td>\n      <td>6.611052</td>\n      <td>6.609376</td>\n      <td>6.755190</td>\n      <td>708.4883</td>\n      <td>1.031895e+05</td>\n      <td>4.963089e+05</td>\n      <td>...</td>\n      <td>False</td>\n      <td>False</td>\n      <td>NaN</td>\n      <td>NaN</td>\n      <td>NaN</td>\n      <td>NaN</td>\n      <td>NaN</td>\n      <td>2063.790000</td>\n      <td>708.49091:229741 709.492:63369 710.49707:24400</td>\n      <td>NaN</td>\n    </tr>\n    <tr>\n      <th>12208</th>\n      <td>8396</td>\n      <td>Unknown</td>\n      <td>1914</td>\n      <td>6.354309</td>\n      <td>6.611052</td>\n      <td>6.609376</td>\n      <td>6.840352</td>\n      <td>708.4909</td>\n      <td>1.031895e+05</td>\n      <td>4.963089e+05</td>\n      <td>...</td>\n      <td>False</td>\n      <td>False</td>\n      <td>NaN</td>\n      <td>NaN</td>\n      <td>NaN</td>\n      <td>NaN</td>\n      <td>NaN</td>\n      <td>2063.790000</td>\n      <td>708.49091:229741 709.492:63369 710.49707:24400</td>\n      <td>NaN</td>\n    </tr>\n    <tr>\n      <th>12545</th>\n      <td>11489</td>\n      <td>Unknown</td>\n      <td>2352</td>\n      <td>7.978992</td>\n      <td>8.042131</td>\n      <td>8.029380</td>\n      <td>8.187448</td>\n      <td>733.3824</td>\n      <td>2.222104e+06</td>\n      <td>1.084862e+07</td>\n      <td>...</td>\n      <td>False</td>\n      <td>False</td>\n      <td>NaN</td>\n      <td>NaN</td>\n      <td>NaN</td>\n      <td>NaN</td>\n      <td>NaN</td>\n      <td>44442.070000</td>\n      <td>733.38306:4033376 734.38354:1152426 735.38342:...</td>\n      <td>NaN</td>\n    </tr>\n    <tr>\n      <th>12546</th>\n      <td>11490</td>\n      <td>Unknown</td>\n      <td>2352</td>\n      <td>7.680437</td>\n      <td>8.042131</td>\n      <td>8.029380</td>\n      <td>8.306355</td>\n      <td>733.3831</td>\n      <td>2.222104e+06</td>\n      <td>1.135110e+07</td>\n      <td>...</td>\n      <td>False</td>\n      <td>False</td>\n      <td>NaN</td>\n      <td>NaN</td>\n      <td>NaN</td>\n      <td>NaN</td>\n      <td>NaN</td>\n      <td>44442.070000</td>\n      <td>733.38306:4033376 734.38354:1152426 735.38342:...</td>\n      <td>NaN</td>\n    </tr>\n  </tbody>\n</table>\n<p>18 rows × 32 columns</p>\n</div>"
     },
     "execution_count": 127,
     "metadata": {},
     "output_type": "execute_result"
    }
   ],
   "source": [
    "suspicious_df"
   ],
   "metadata": {
    "collapsed": false,
    "ExecuteTime": {
     "end_time": "2023-07-25T03:10:27.576641Z",
     "start_time": "2023-07-25T03:10:27.525740Z"
    }
   }
  },
  {
   "cell_type": "code",
   "execution_count": 6,
   "outputs": [
    {
     "name": "stderr",
     "output_type": "stream",
     "text": [
      "100%|██████████| 41/41 [50:36<00:00, 74.07s/it]\n"
     ]
    }
   ],
   "source": [
    "file_paths = [os.path.join(working_dir, x+'.csv') for x in file_list]\n",
    "alignment_result= pd.DataFrame(zip(pmz_list, rt_list), columns=['pmz', 'rt'])\n",
    "for file in tqdm(file_paths):\n",
    "    file_temp = pd.read_csv(file)\n",
    "    intensity_temp = []\n",
    "    # pmz_temp = []\n",
    "    for i in (range(0, len(pmz_list))):\n",
    "        feature_temp = find_feature(file_temp, mz = pmz_list[i], rt =rt_list[i])\n",
    "        if len(feature_temp)>0:\n",
    "            intensity_temp.append(feature_temp['Height'].sum())\n",
    "            # pmz_temp.append()\n",
    "            # break\n",
    "        else:\n",
    "            intensity_temp.append(0)\n",
    "    alignment_result[os.path.basename(file).split('.')[0]]=intensity_temp\n",
    "    # break"
   ],
   "metadata": {
    "collapsed": false,
    "ExecuteTime": {
     "end_time": "2023-07-17T17:43:01.295956Z",
     "start_time": "2023-07-17T16:52:24.421301Z"
    }
   }
  },
  {
   "cell_type": "code",
   "execution_count": 104,
   "outputs": [],
   "source": [
    "for i in file_paths:\n",
    "    if '32' in i:\n",
    "        break"
   ],
   "metadata": {
    "collapsed": false,
    "ExecuteTime": {
     "end_time": "2023-07-17T23:53:35.353099Z",
     "start_time": "2023-07-17T23:53:35.319878Z"
    }
   }
  },
  {
   "cell_type": "code",
   "execution_count": 105,
   "outputs": [
    {
     "data": {
      "text/plain": "'/Users/fanzhou.kong/Dropbox (Brightseed)/Mac/Documents/GitHub/data_garage/brighseed/processing/1870_AX_M5P2_M7P1_M7_X32_P.csv'"
     },
     "execution_count": 105,
     "metadata": {},
     "output_type": "execute_result"
    }
   ],
   "source": [
    "i"
   ],
   "metadata": {
    "collapsed": false,
    "ExecuteTime": {
     "end_time": "2023-07-17T23:53:37.623189Z",
     "start_time": "2023-07-17T23:53:37.585241Z"
    }
   }
  },
  {
   "cell_type": "code",
   "execution_count": 106,
   "outputs": [],
   "source": [
    "file_temp = pd.read_csv(i)"
   ],
   "metadata": {
    "collapsed": false,
    "ExecuteTime": {
     "end_time": "2023-07-17T23:53:44.203134Z",
     "start_time": "2023-07-17T23:53:44.108336Z"
    }
   }
  },
  {
   "cell_type": "code",
   "execution_count": 107,
   "outputs": [
    {
     "data": {
      "text/plain": "      PeakID    Title  Scans  RT left(min)  RT_adjusted  RT (min)  \\\n2260    4672  Unknown   1006      3.221743     3.410807  3.419923   \n\n      RT right (min)  Precursor m/z     Height        Area  ...  m/z matched  \\\n2260        3.648793       201.1274  5108583.5  36057804.0  ...        False   \n\n     MS/MS matched RT similarity Dot product  Reverse dot product  \\\n2260         False           NaN         NaN                  NaN   \n\n      Fragment presence %  Total score       S/N  \\\n2260                  NaN          NaN  99128.73   \n\n                                           MS1 isotopes  MSMS spectrum  \n2260  201.09109:1550612 201.11212:133751 201.12741:6...            NaN  \n\n[1 rows x 32 columns]",
      "text/html": "<div>\n<style scoped>\n    .dataframe tbody tr th:only-of-type {\n        vertical-align: middle;\n    }\n\n    .dataframe tbody tr th {\n        vertical-align: top;\n    }\n\n    .dataframe thead th {\n        text-align: right;\n    }\n</style>\n<table border=\"1\" class=\"dataframe\">\n  <thead>\n    <tr style=\"text-align: right;\">\n      <th></th>\n      <th>PeakID</th>\n      <th>Title</th>\n      <th>Scans</th>\n      <th>RT left(min)</th>\n      <th>RT_adjusted</th>\n      <th>RT (min)</th>\n      <th>RT right (min)</th>\n      <th>Precursor m/z</th>\n      <th>Height</th>\n      <th>Area</th>\n      <th>...</th>\n      <th>m/z matched</th>\n      <th>MS/MS matched</th>\n      <th>RT similarity</th>\n      <th>Dot product</th>\n      <th>Reverse dot product</th>\n      <th>Fragment presence %</th>\n      <th>Total score</th>\n      <th>S/N</th>\n      <th>MS1 isotopes</th>\n      <th>MSMS spectrum</th>\n    </tr>\n  </thead>\n  <tbody>\n    <tr>\n      <th>2260</th>\n      <td>4672</td>\n      <td>Unknown</td>\n      <td>1006</td>\n      <td>3.221743</td>\n      <td>3.410807</td>\n      <td>3.419923</td>\n      <td>3.648793</td>\n      <td>201.1274</td>\n      <td>5108583.5</td>\n      <td>36057804.0</td>\n      <td>...</td>\n      <td>False</td>\n      <td>False</td>\n      <td>NaN</td>\n      <td>NaN</td>\n      <td>NaN</td>\n      <td>NaN</td>\n      <td>NaN</td>\n      <td>99128.73</td>\n      <td>201.09109:1550612 201.11212:133751 201.12741:6...</td>\n      <td>NaN</td>\n    </tr>\n  </tbody>\n</table>\n<p>1 rows × 32 columns</p>\n</div>"
     },
     "execution_count": 107,
     "metadata": {},
     "output_type": "execute_result"
    }
   ],
   "source": [
    "find_feature(file_temp, mz = 201.12767, rt = 3.401)"
   ],
   "metadata": {
    "collapsed": false,
    "ExecuteTime": {
     "end_time": "2023-07-17T23:54:33.389100Z",
     "start_time": "2023-07-17T23:54:33.335452Z"
    }
   }
  },
  {
   "cell_type": "code",
   "execution_count": 108,
   "outputs": [
    {
     "data": {
      "text/plain": "             pmz        rt\n0       128.3630  0.236472\n1       253.4384  0.478195\n2       100.9567  0.548646\n3       119.9751  0.548646\n4       123.0037  0.548646\n...          ...       ...\n27870  1426.8900  3.167323\n27871  1438.6430  9.025468\n27872  1439.3000  5.313295\n27873  1452.5210  4.434927\n27874  1479.3460  3.149424\n\n[27875 rows x 2 columns]",
      "text/html": "<div>\n<style scoped>\n    .dataframe tbody tr th:only-of-type {\n        vertical-align: middle;\n    }\n\n    .dataframe tbody tr th {\n        vertical-align: top;\n    }\n\n    .dataframe thead th {\n        text-align: right;\n    }\n</style>\n<table border=\"1\" class=\"dataframe\">\n  <thead>\n    <tr style=\"text-align: right;\">\n      <th></th>\n      <th>pmz</th>\n      <th>rt</th>\n    </tr>\n  </thead>\n  <tbody>\n    <tr>\n      <th>0</th>\n      <td>128.3630</td>\n      <td>0.236472</td>\n    </tr>\n    <tr>\n      <th>1</th>\n      <td>253.4384</td>\n      <td>0.478195</td>\n    </tr>\n    <tr>\n      <th>2</th>\n      <td>100.9567</td>\n      <td>0.548646</td>\n    </tr>\n    <tr>\n      <th>3</th>\n      <td>119.9751</td>\n      <td>0.548646</td>\n    </tr>\n    <tr>\n      <th>4</th>\n      <td>123.0037</td>\n      <td>0.548646</td>\n    </tr>\n    <tr>\n      <th>...</th>\n      <td>...</td>\n      <td>...</td>\n    </tr>\n    <tr>\n      <th>27870</th>\n      <td>1426.8900</td>\n      <td>3.167323</td>\n    </tr>\n    <tr>\n      <th>27871</th>\n      <td>1438.6430</td>\n      <td>9.025468</td>\n    </tr>\n    <tr>\n      <th>27872</th>\n      <td>1439.3000</td>\n      <td>5.313295</td>\n    </tr>\n    <tr>\n      <th>27873</th>\n      <td>1452.5210</td>\n      <td>4.434927</td>\n    </tr>\n    <tr>\n      <th>27874</th>\n      <td>1479.3460</td>\n      <td>3.149424</td>\n    </tr>\n  </tbody>\n</table>\n<p>27875 rows × 2 columns</p>\n</div>"
     },
     "execution_count": 108,
     "metadata": {},
     "output_type": "execute_result"
    }
   ],
   "source": [
    "alignment_result"
   ],
   "metadata": {
    "collapsed": false,
    "ExecuteTime": {
     "end_time": "2023-07-17T23:55:06.027633Z",
     "start_time": "2023-07-17T23:55:05.978571Z"
    }
   }
  },
  {
   "cell_type": "code",
   "execution_count": 98,
   "outputs": [],
   "source": [
    "file_temp = pd.read_csv(qc_paths[1])"
   ],
   "metadata": {
    "collapsed": false,
    "ExecuteTime": {
     "end_time": "2023-07-17T20:09:14.663415Z",
     "start_time": "2023-07-17T20:09:14.585224Z"
    }
   }
  },
  {
   "cell_type": "code",
   "execution_count": 99,
   "outputs": [],
   "source": [
    "feature_temp = find_feature(file_temp, mz = 488.1655, rt = 5.73458 )"
   ],
   "metadata": {
    "collapsed": false,
    "ExecuteTime": {
     "end_time": "2023-07-17T20:09:15.370491Z",
     "start_time": "2023-07-17T20:09:15.320429Z"
    }
   }
  },
  {
   "cell_type": "code",
   "execution_count": 100,
   "outputs": [
    {
     "data": {
      "text/plain": "      PeakID    Title  Scans  RT left(min)  RT_adjusted  RT (min)  \\\n8206    9194  Unknown   1630      5.534427     5.733026  5.739232   \n\n      RT right (min)  Precursor m/z        Height          Area  ...  \\\n8206        5.940308       488.1663  10930.682617  47386.007812  ...   \n\n      m/z matched MS/MS matched RT similarity Dot product  \\\n8206        False         False           NaN         NaN   \n\n      Reverse dot product  Fragment presence %  Total score       S/N  \\\n8206                  NaN                  NaN          NaN  218.6137   \n\n                                         MS1 isotopes  MSMS spectrum  \n8206  488.16626:35339 490.28107:22265 493.11539:21780            NaN  \n\n[1 rows x 32 columns]",
      "text/html": "<div>\n<style scoped>\n    .dataframe tbody tr th:only-of-type {\n        vertical-align: middle;\n    }\n\n    .dataframe tbody tr th {\n        vertical-align: top;\n    }\n\n    .dataframe thead th {\n        text-align: right;\n    }\n</style>\n<table border=\"1\" class=\"dataframe\">\n  <thead>\n    <tr style=\"text-align: right;\">\n      <th></th>\n      <th>PeakID</th>\n      <th>Title</th>\n      <th>Scans</th>\n      <th>RT left(min)</th>\n      <th>RT_adjusted</th>\n      <th>RT (min)</th>\n      <th>RT right (min)</th>\n      <th>Precursor m/z</th>\n      <th>Height</th>\n      <th>Area</th>\n      <th>...</th>\n      <th>m/z matched</th>\n      <th>MS/MS matched</th>\n      <th>RT similarity</th>\n      <th>Dot product</th>\n      <th>Reverse dot product</th>\n      <th>Fragment presence %</th>\n      <th>Total score</th>\n      <th>S/N</th>\n      <th>MS1 isotopes</th>\n      <th>MSMS spectrum</th>\n    </tr>\n  </thead>\n  <tbody>\n    <tr>\n      <th>8206</th>\n      <td>9194</td>\n      <td>Unknown</td>\n      <td>1630</td>\n      <td>5.534427</td>\n      <td>5.733026</td>\n      <td>5.739232</td>\n      <td>5.940308</td>\n      <td>488.1663</td>\n      <td>10930.682617</td>\n      <td>47386.007812</td>\n      <td>...</td>\n      <td>False</td>\n      <td>False</td>\n      <td>NaN</td>\n      <td>NaN</td>\n      <td>NaN</td>\n      <td>NaN</td>\n      <td>NaN</td>\n      <td>218.6137</td>\n      <td>488.16626:35339 490.28107:22265 493.11539:21780</td>\n      <td>NaN</td>\n    </tr>\n  </tbody>\n</table>\n<p>1 rows × 32 columns</p>\n</div>"
     },
     "execution_count": 100,
     "metadata": {},
     "output_type": "execute_result"
    }
   ],
   "source": [
    "feature_temp"
   ],
   "metadata": {
    "collapsed": false,
    "ExecuteTime": {
     "end_time": "2023-07-17T20:09:15.929326Z",
     "start_time": "2023-07-17T20:09:15.880605Z"
    }
   }
  },
  {
   "cell_type": "code",
   "execution_count": 51,
   "outputs": [],
   "source": [
    "from toolsets.file_io import readin_alignment"
   ],
   "metadata": {
    "collapsed": false,
    "ExecuteTime": {
     "end_time": "2023-07-17T18:16:07.376206Z",
     "start_time": "2023-07-17T18:16:07.326969Z"
    }
   }
  },
  {
   "cell_type": "code",
   "execution_count": 52,
   "outputs": [],
   "source": [
    "msdial_output = readin_alignment('/Users/fanzhou.kong/Dropbox (Brightseed)/Mac/Documents/GitHub/data_garage/msdial_alignment/Height_0_20237101534.txt')"
   ],
   "metadata": {
    "collapsed": false,
    "ExecuteTime": {
     "end_time": "2023-07-17T18:16:25.196524Z",
     "start_time": "2023-07-17T18:16:24.307814Z"
    }
   }
  },
  {
   "cell_type": "code",
   "execution_count": 81,
   "outputs": [
    {
     "data": {
      "text/plain": "Empty DataFrame\nColumns: [Alignment ID, Average Rt(min), Average Mz, Metabolite name, Adduct type, Post curation result, Fill %, MS/MS assigned, Reference RT, Reference m/z, Formula, Ontology, INCHIKEY, SMILES, Annotation tag (VS1.0), RT matched, m/z matched, MS/MS matched, Comment, Manually modified for quantification, Manually modified for annotation, Isotope tracking parent ID, Isotope tracking weight number, Total score, RT similarity, Dot product, Reverse dot product, Fragment presence %, S/N average, Spectrum reference file name, MS1 isotopic spectrum, MS/MS spectrum, 1870_AX_M5P2_M7P1_M7_X24_P, 1870_AX_M5P2_M7P1_M7_X25_P, 1870_AX_M5P2_M7P1_M7_X26_P, 1870_AX_M5P2_M7P1_M7_X27_P, 1870_AX_M5P2_M7P1_M7_X28_P, 1870_AX_M5P2_M7P1_M7_X29_P, 1870_AX_M5P2_M7P1_M7_X30_P, 1870_AX_M5P2_M7P1_M7_X31_P, 1870_AX_M5P2_M7P1_M7_X32_P, 1870_AX_M5P2_M7P1_M7_X33_P, 1870_AX_M5P2_M7P1_M7_X34_P, 1870_AX_M5P2_M7P1_M7_X35_P, 1870_AX_M5P2_M7P1_M7_X36_P, 1870_AX_M5P2_M7P1_M7_X37_P, 1870_AX_M5P2_M7P1_M7_X38_P, 1870_AX_M5P2_M7P1_M7_X39_P, 1870_AX_M5P2_M7P1_M7_X40_P, 1870_AX_M5P2_M7P1_M7_X41_P, 1870_AX_M5P2_M7P1_M7_X42_P, 1870_AX_M5P2_M7P1_M7_X43_P, 1870_AX_M5P2_M7P1_M7_X44_P, 1870_AX_M5P2_M7P1_M7_X45_P, 1870_AX_M5P2_M7P1_M7_X46_P, 1870_AX_M5P2_M7P1_M7_X47_P, 1870_AX_M5P2_M7P1_M7_X48_P, 1870_AX_M5P2_M7P1_M7_X49_P, 1870_AX_M5P2_M7P1_M7_X50_P, 1870_AX_M5P2_M7P1_M7_X51_P, 1870_AX_M5P2_M7P1_M7_X52_P, 1870_AX_M5P2_M7P1_M7_X53_P, 1870_AX_M5P2_M7P1_M7_X54_P, 1870_AX_M5P2_M7P1_M7_X55_P, 1870_AX_M5P2_M7P1_M7_X56_P, 1870_AX_M5P2_M7P1_M7_X57_P, 1870_AX_M5P2_M7P1_M7_X58_P, 1870_AX_M5P2_M7P1_M7_X59_P, QC_Pool1_P, QC_Pool2_P, QC_Pool3_P, 1, 1.1, peaks]\nIndex: []\n\n[0 rows x 74 columns]",
      "text/html": "<div>\n<style scoped>\n    .dataframe tbody tr th:only-of-type {\n        vertical-align: middle;\n    }\n\n    .dataframe tbody tr th {\n        vertical-align: top;\n    }\n\n    .dataframe thead th {\n        text-align: right;\n    }\n</style>\n<table border=\"1\" class=\"dataframe\">\n  <thead>\n    <tr style=\"text-align: right;\">\n      <th></th>\n      <th>Alignment ID</th>\n      <th>Average Rt(min)</th>\n      <th>Average Mz</th>\n      <th>Metabolite name</th>\n      <th>Adduct type</th>\n      <th>Post curation result</th>\n      <th>Fill %</th>\n      <th>MS/MS assigned</th>\n      <th>Reference RT</th>\n      <th>Reference m/z</th>\n      <th>...</th>\n      <th>1870_AX_M5P2_M7P1_M7_X56_P</th>\n      <th>1870_AX_M5P2_M7P1_M7_X57_P</th>\n      <th>1870_AX_M5P2_M7P1_M7_X58_P</th>\n      <th>1870_AX_M5P2_M7P1_M7_X59_P</th>\n      <th>QC_Pool1_P</th>\n      <th>QC_Pool2_P</th>\n      <th>QC_Pool3_P</th>\n      <th>1</th>\n      <th>1.1</th>\n      <th>peaks</th>\n    </tr>\n  </thead>\n  <tbody>\n  </tbody>\n</table>\n<p>0 rows × 74 columns</p>\n</div>"
     },
     "execution_count": 81,
     "metadata": {},
     "output_type": "execute_result"
    }
   ],
   "source": [
    "quick_search_values(msdial_output, 'Average Mz', 488.1659-0.01, 488.1659+0.01, ifsorted=False)"
   ],
   "metadata": {
    "collapsed": false,
    "ExecuteTime": {
     "end_time": "2023-07-17T20:00:09.909230Z",
     "start_time": "2023-07-17T20:00:09.796754Z"
    }
   }
  },
  {
   "cell_type": "code",
   "execution_count": 61,
   "outputs": [
    {
     "data": {
      "text/plain": "       Alignment ID  Average Rt(min)  Average Mz Metabolite name Adduct type  \\\n19558         19558            3.820   465.17303         Unknown      [M+H]+   \n19559         19559            4.093   465.17340         Unknown      [M+H]+   \n19560         19560            3.968   465.17355         Unknown      [M+H]+   \n19561         19561            3.884   465.17371         Unknown      [M+H]+   \n19562         19562            4.019   465.17398         Unknown      [M+H]+   \n19563         19563            4.208   465.17480         Unknown      [M+H]+   \n19564         19564            5.736   465.18091         Unknown      [M+H]+   \n19565         19565            4.250   465.18140         Unknown      [M+H]+   \n\n                                    Post curation result  Fill %  \\\n19558                                                NaN   0.051   \n19559                                                NaN   0.051   \n19560                                                NaN   0.026   \n19561                                                NaN   0.026   \n19562                    found in higher mz's MsMs_20354   0.051   \n19563  ion correlated with 17822; ion correlated with...   0.026   \n19564                          ion correlated with 20543   0.231   \n19565  ion correlated with 17822; ion correlated with...   0.077   \n\n       MS/MS assigned  Reference RT  Reference m/z  ...  \\\n19558           False           NaN            NaN  ...   \n19559           False           NaN            NaN  ...   \n19560           False           NaN            NaN  ...   \n19561           False           NaN            NaN  ...   \n19562           False           NaN            NaN  ...   \n19563           False           NaN            NaN  ...   \n19564            True           NaN            NaN  ...   \n19565           False           NaN            NaN  ...   \n\n       1870_AX_M5P2_M7P1_M7_X56_P  1870_AX_M5P2_M7P1_M7_X57_P  \\\n19558                           0                           0   \n19559                      152009                      201337   \n19560                       25389                        7720   \n19561                           0                           0   \n19562                       89009                       26695   \n19563                      100112                      442031   \n19564                       10730                        9757   \n19565                      155117                      442031   \n\n       1870_AX_M5P2_M7P1_M7_X58_P  1870_AX_M5P2_M7P1_M7_X59_P  QC_Pool1_P  \\\n19558                           0                           0       88832   \n19559                       81893                       17732       78208   \n19560                           0                           0       78866   \n19561                           0                           0       88832   \n19562                        5230                         717       88321   \n19563                      255623                       69901       29049   \n19564                       13242                       12259       46355   \n19565                      255623                       69901       48418   \n\n       QC_Pool2_P  QC_Pool3_P             1           1.1  \\\n19558      102014       98610  39433.137032  73026.550629   \n19559       71028       79120  33346.436004  55113.150632   \n19560       84070       70676  41763.890274  79979.172150   \n19561      102014       98610  40642.443990  77260.373810   \n19562       84070       83973  40288.253362  78014.080839   \n19563       49467       53615  27981.152463  82086.687868   \n19564       54774       60727  61325.111579  81140.359991   \n19565       49467       53615  28737.157792  83592.915801   \n\n                                                   peaks  \n19558                                                NaN  \n19559                                                NaN  \n19560                                                NaN  \n19561                                                NaN  \n19562                                                NaN  \n19563                                                NaN  \n19564  126.23167\\t7904\\n173.45764\\t11706\\n285.92523\\t...  \n19565                                                NaN  \n\n[8 rows x 74 columns]",
      "text/html": "<div>\n<style scoped>\n    .dataframe tbody tr th:only-of-type {\n        vertical-align: middle;\n    }\n\n    .dataframe tbody tr th {\n        vertical-align: top;\n    }\n\n    .dataframe thead th {\n        text-align: right;\n    }\n</style>\n<table border=\"1\" class=\"dataframe\">\n  <thead>\n    <tr style=\"text-align: right;\">\n      <th></th>\n      <th>Alignment ID</th>\n      <th>Average Rt(min)</th>\n      <th>Average Mz</th>\n      <th>Metabolite name</th>\n      <th>Adduct type</th>\n      <th>Post curation result</th>\n      <th>Fill %</th>\n      <th>MS/MS assigned</th>\n      <th>Reference RT</th>\n      <th>Reference m/z</th>\n      <th>...</th>\n      <th>1870_AX_M5P2_M7P1_M7_X56_P</th>\n      <th>1870_AX_M5P2_M7P1_M7_X57_P</th>\n      <th>1870_AX_M5P2_M7P1_M7_X58_P</th>\n      <th>1870_AX_M5P2_M7P1_M7_X59_P</th>\n      <th>QC_Pool1_P</th>\n      <th>QC_Pool2_P</th>\n      <th>QC_Pool3_P</th>\n      <th>1</th>\n      <th>1.1</th>\n      <th>peaks</th>\n    </tr>\n  </thead>\n  <tbody>\n    <tr>\n      <th>19558</th>\n      <td>19558</td>\n      <td>3.820</td>\n      <td>465.17303</td>\n      <td>Unknown</td>\n      <td>[M+H]+</td>\n      <td>NaN</td>\n      <td>0.051</td>\n      <td>False</td>\n      <td>NaN</td>\n      <td>NaN</td>\n      <td>...</td>\n      <td>0</td>\n      <td>0</td>\n      <td>0</td>\n      <td>0</td>\n      <td>88832</td>\n      <td>102014</td>\n      <td>98610</td>\n      <td>39433.137032</td>\n      <td>73026.550629</td>\n      <td>NaN</td>\n    </tr>\n    <tr>\n      <th>19559</th>\n      <td>19559</td>\n      <td>4.093</td>\n      <td>465.17340</td>\n      <td>Unknown</td>\n      <td>[M+H]+</td>\n      <td>NaN</td>\n      <td>0.051</td>\n      <td>False</td>\n      <td>NaN</td>\n      <td>NaN</td>\n      <td>...</td>\n      <td>152009</td>\n      <td>201337</td>\n      <td>81893</td>\n      <td>17732</td>\n      <td>78208</td>\n      <td>71028</td>\n      <td>79120</td>\n      <td>33346.436004</td>\n      <td>55113.150632</td>\n      <td>NaN</td>\n    </tr>\n    <tr>\n      <th>19560</th>\n      <td>19560</td>\n      <td>3.968</td>\n      <td>465.17355</td>\n      <td>Unknown</td>\n      <td>[M+H]+</td>\n      <td>NaN</td>\n      <td>0.026</td>\n      <td>False</td>\n      <td>NaN</td>\n      <td>NaN</td>\n      <td>...</td>\n      <td>25389</td>\n      <td>7720</td>\n      <td>0</td>\n      <td>0</td>\n      <td>78866</td>\n      <td>84070</td>\n      <td>70676</td>\n      <td>41763.890274</td>\n      <td>79979.172150</td>\n      <td>NaN</td>\n    </tr>\n    <tr>\n      <th>19561</th>\n      <td>19561</td>\n      <td>3.884</td>\n      <td>465.17371</td>\n      <td>Unknown</td>\n      <td>[M+H]+</td>\n      <td>NaN</td>\n      <td>0.026</td>\n      <td>False</td>\n      <td>NaN</td>\n      <td>NaN</td>\n      <td>...</td>\n      <td>0</td>\n      <td>0</td>\n      <td>0</td>\n      <td>0</td>\n      <td>88832</td>\n      <td>102014</td>\n      <td>98610</td>\n      <td>40642.443990</td>\n      <td>77260.373810</td>\n      <td>NaN</td>\n    </tr>\n    <tr>\n      <th>19562</th>\n      <td>19562</td>\n      <td>4.019</td>\n      <td>465.17398</td>\n      <td>Unknown</td>\n      <td>[M+H]+</td>\n      <td>found in higher mz's MsMs_20354</td>\n      <td>0.051</td>\n      <td>False</td>\n      <td>NaN</td>\n      <td>NaN</td>\n      <td>...</td>\n      <td>89009</td>\n      <td>26695</td>\n      <td>5230</td>\n      <td>717</td>\n      <td>88321</td>\n      <td>84070</td>\n      <td>83973</td>\n      <td>40288.253362</td>\n      <td>78014.080839</td>\n      <td>NaN</td>\n    </tr>\n    <tr>\n      <th>19563</th>\n      <td>19563</td>\n      <td>4.208</td>\n      <td>465.17480</td>\n      <td>Unknown</td>\n      <td>[M+H]+</td>\n      <td>ion correlated with 17822; ion correlated with...</td>\n      <td>0.026</td>\n      <td>False</td>\n      <td>NaN</td>\n      <td>NaN</td>\n      <td>...</td>\n      <td>100112</td>\n      <td>442031</td>\n      <td>255623</td>\n      <td>69901</td>\n      <td>29049</td>\n      <td>49467</td>\n      <td>53615</td>\n      <td>27981.152463</td>\n      <td>82086.687868</td>\n      <td>NaN</td>\n    </tr>\n    <tr>\n      <th>19564</th>\n      <td>19564</td>\n      <td>5.736</td>\n      <td>465.18091</td>\n      <td>Unknown</td>\n      <td>[M+H]+</td>\n      <td>ion correlated with 20543</td>\n      <td>0.231</td>\n      <td>True</td>\n      <td>NaN</td>\n      <td>NaN</td>\n      <td>...</td>\n      <td>10730</td>\n      <td>9757</td>\n      <td>13242</td>\n      <td>12259</td>\n      <td>46355</td>\n      <td>54774</td>\n      <td>60727</td>\n      <td>61325.111579</td>\n      <td>81140.359991</td>\n      <td>126.23167\\t7904\\n173.45764\\t11706\\n285.92523\\t...</td>\n    </tr>\n    <tr>\n      <th>19565</th>\n      <td>19565</td>\n      <td>4.250</td>\n      <td>465.18140</td>\n      <td>Unknown</td>\n      <td>[M+H]+</td>\n      <td>ion correlated with 17822; ion correlated with...</td>\n      <td>0.077</td>\n      <td>False</td>\n      <td>NaN</td>\n      <td>NaN</td>\n      <td>...</td>\n      <td>155117</td>\n      <td>442031</td>\n      <td>255623</td>\n      <td>69901</td>\n      <td>48418</td>\n      <td>49467</td>\n      <td>53615</td>\n      <td>28737.157792</td>\n      <td>83592.915801</td>\n      <td>NaN</td>\n    </tr>\n  </tbody>\n</table>\n<p>8 rows × 74 columns</p>\n</div>"
     },
     "execution_count": 61,
     "metadata": {},
     "output_type": "execute_result"
    }
   ],
   "source": [
    "quick_search_values(msdial_output, 'Average Mz', 465.180858-0.01, 465.180858+0.01, ifsorted=False)"
   ],
   "metadata": {
    "collapsed": false,
    "ExecuteTime": {
     "end_time": "2023-07-17T18:27:03.675173Z",
     "start_time": "2023-07-17T18:27:03.625822Z"
    }
   }
  },
  {
   "cell_type": "code",
   "execution_count": 62,
   "outputs": [],
   "source": [
    "file_temp = pd.read_csv(os.path.join(working_dir, '1870_AX_M5P2_M7P1_M7_X32_P.csv'))"
   ],
   "metadata": {
    "collapsed": false,
    "ExecuteTime": {
     "end_time": "2023-07-17T18:28:17.810275Z",
     "start_time": "2023-07-17T18:28:17.730050Z"
    }
   }
  },
  {
   "cell_type": "code",
   "execution_count": 64,
   "outputs": [
    {
     "data": {
      "text/plain": "      PeakID    Title  Scans  RT left(min)  RT_adjusted  RT (min)  \\\n8113   10612  Unknown   1658      5.612382     5.735056  5.733913   \n8114   11275  Unknown   1759      5.942320     6.089834  6.081813   \n\n      RT right (min)  Precursor m/z         Height          Area  ...  \\\n8113        6.012498       465.1811  261420.390625  1.324556e+06  ...   \n8114        6.348814       465.1888   15600.044922  7.202996e+04  ...   \n\n      m/z matched MS/MS matched RT similarity Dot product  \\\n8113        False         False           NaN         NaN   \n8114        False         False           NaN         NaN   \n\n      Reverse dot product  Fragment presence %  Total score        S/N  \\\n8113                  NaN                  NaN          NaN  5228.4080   \n8114                  NaN                  NaN          NaN   312.0009   \n\n                                           MS1 isotopes  \\\n8113  465.18112:588840 465.30103:21275 466.18402:124...   \n8114                    465.18857:37997 467.28021:48023   \n\n                                          MSMS spectrum  \n8113  126.23167:7904 173.45764:11706 285.92523:9274 ...  \n8114                                                NaN  \n\n[2 rows x 32 columns]",
      "text/html": "<div>\n<style scoped>\n    .dataframe tbody tr th:only-of-type {\n        vertical-align: middle;\n    }\n\n    .dataframe tbody tr th {\n        vertical-align: top;\n    }\n\n    .dataframe thead th {\n        text-align: right;\n    }\n</style>\n<table border=\"1\" class=\"dataframe\">\n  <thead>\n    <tr style=\"text-align: right;\">\n      <th></th>\n      <th>PeakID</th>\n      <th>Title</th>\n      <th>Scans</th>\n      <th>RT left(min)</th>\n      <th>RT_adjusted</th>\n      <th>RT (min)</th>\n      <th>RT right (min)</th>\n      <th>Precursor m/z</th>\n      <th>Height</th>\n      <th>Area</th>\n      <th>...</th>\n      <th>m/z matched</th>\n      <th>MS/MS matched</th>\n      <th>RT similarity</th>\n      <th>Dot product</th>\n      <th>Reverse dot product</th>\n      <th>Fragment presence %</th>\n      <th>Total score</th>\n      <th>S/N</th>\n      <th>MS1 isotopes</th>\n      <th>MSMS spectrum</th>\n    </tr>\n  </thead>\n  <tbody>\n    <tr>\n      <th>8113</th>\n      <td>10612</td>\n      <td>Unknown</td>\n      <td>1658</td>\n      <td>5.612382</td>\n      <td>5.735056</td>\n      <td>5.733913</td>\n      <td>6.012498</td>\n      <td>465.1811</td>\n      <td>261420.390625</td>\n      <td>1.324556e+06</td>\n      <td>...</td>\n      <td>False</td>\n      <td>False</td>\n      <td>NaN</td>\n      <td>NaN</td>\n      <td>NaN</td>\n      <td>NaN</td>\n      <td>NaN</td>\n      <td>5228.4080</td>\n      <td>465.18112:588840 465.30103:21275 466.18402:124...</td>\n      <td>126.23167:7904 173.45764:11706 285.92523:9274 ...</td>\n    </tr>\n    <tr>\n      <th>8114</th>\n      <td>11275</td>\n      <td>Unknown</td>\n      <td>1759</td>\n      <td>5.942320</td>\n      <td>6.089834</td>\n      <td>6.081813</td>\n      <td>6.348814</td>\n      <td>465.1888</td>\n      <td>15600.044922</td>\n      <td>7.202996e+04</td>\n      <td>...</td>\n      <td>False</td>\n      <td>False</td>\n      <td>NaN</td>\n      <td>NaN</td>\n      <td>NaN</td>\n      <td>NaN</td>\n      <td>NaN</td>\n      <td>312.0009</td>\n      <td>465.18857:37997 467.28021:48023</td>\n      <td>NaN</td>\n    </tr>\n  </tbody>\n</table>\n<p>2 rows × 32 columns</p>\n</div>"
     },
     "execution_count": 64,
     "metadata": {},
     "output_type": "execute_result"
    }
   ],
   "source": [
    "quick_search_values(file_temp, 'Precursor m/z', 465.180858-0.01, 465.180858+0.01, ifsorted=False)"
   ],
   "metadata": {
    "collapsed": false,
    "ExecuteTime": {
     "end_time": "2023-07-17T18:28:54.991970Z",
     "start_time": "2023-07-17T18:28:54.940256Z"
    }
   }
  },
  {
   "cell_type": "code",
   "execution_count": 7,
   "outputs": [],
   "source": [
    "alignment_result.sort_values(by = 'rt', ascending=True, inplace = True, ignore_index=True)\n",
    "alignment_result = find_istd(alignment_result, istd_info)\n",
    "alignment_result_refined = clean_bad_features(alignment_result)\n",
    "alignment_result_refined.to_csv(os.path.join('/Users/fanzhou.kong/Dropbox (Brightseed)/Mac/Documents/GitHub/data_garage/brighseed/result', 'alignment_result2_refined.csv'), index = False)"
   ],
   "metadata": {
    "collapsed": false,
    "ExecuteTime": {
     "end_time": "2023-07-17T17:43:04.413437Z",
     "start_time": "2023-07-17T17:43:01.297297Z"
    }
   }
  },
  {
   "cell_type": "code",
   "execution_count": 190,
   "outputs": [],
   "source": [
    "blank_result = None"
   ],
   "metadata": {
    "collapsed": false,
    "ExecuteTime": {
     "end_time": "2023-07-25T22:49:58.187967Z",
     "start_time": "2023-07-25T22:49:58.141124Z"
    }
   }
  },
  {
   "cell_type": "code",
   "execution_count": 191,
   "outputs": [
    {
     "data": {
      "text/plain": "True"
     },
     "execution_count": 191,
     "metadata": {},
     "output_type": "execute_result"
    }
   ],
   "source": [
    "blank_result is None"
   ],
   "metadata": {
    "collapsed": false,
    "ExecuteTime": {
     "end_time": "2023-07-25T22:50:04.340019Z",
     "start_time": "2023-07-25T22:50:04.292565Z"
    }
   }
  }
 ],
 "metadata": {
  "kernelspec": {
   "name": "alphapept_env",
   "language": "python",
   "display_name": "alphapept_env"
  },
  "language_info": {
   "codemirror_mode": {
    "name": "ipython",
    "version": 2
   },
   "file_extension": ".py",
   "mimetype": "text/x-python",
   "name": "python",
   "nbconvert_exporter": "python",
   "pygments_lexer": "ipython2",
   "version": "2.7.6"
  }
 },
 "nbformat": 4,
 "nbformat_minor": 0
}
