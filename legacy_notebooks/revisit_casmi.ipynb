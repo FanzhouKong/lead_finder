{
 "cells": [
  {
   "cell_type": "code",
   "execution_count": 1,
   "metadata": {
    "collapsed": true,
    "pycharm": {
     "name": "#%%\n"
    }
   },
   "outputs": [],
   "source": [
    "import os\n",
    "\n",
    "import numpy as np\n",
    "%load_ext autoreload\n",
    "%autoreload 2\n",
    "from rdkit import Chem\n",
    "from rdkit.Chem.rdMolDescriptors import CalcExactMolWt\n",
    "import pandas as pd\n",
    "from toolsets.file_io import get_file_list, readin_peak_list\n",
    "import toolsets.spectra_operations as so\n",
    "from toolsets.std_list_prep import complete_smiles, complete_mono_mass, complete_formal_charge, guess_adduct, std_list_cleanup\n",
    "from toolsets.ff_droup import process_mzml, get_EIC_list, EIC, feature_finding\n",
    "from toolsets.search import string_search,quick_search_values\n",
    "from tqdm import tqdm\n",
    "from molmass import Formula\n",
    "from toolsets.sirius_lite import mass_to_formula, check_chemistry, get_isotope, ms1_intensity_score, bin_ms1\n",
    "from toolsets.spectra_plotter import ms2_plot, head_to_tail_plot\n",
    "import seaborn as sns\n",
    "import matplotlib.pyplot as plt\n",
    "from toolsets.std_list_prep import calculate_precursormz\n",
    "master_dir = '/Users/fanzhoukong/Documents/GitHub/Libgen_data/casmi'\n",
    "peak_list_dir = '/Users/fanzhoukong/Documents/GitHub/Libgen_data/casmi/peak_list'\n",
    "from toolsets.constants import single_charged_adduct_mass"
   ]
  },
  {
   "cell_type": "markdown",
   "source": [],
   "metadata": {
    "collapsed": false,
    "pycharm": {
     "name": "#%% md\n"
    }
   }
  },
  {
   "cell_type": "code",
   "execution_count": 272,
   "outputs": [
    {
     "name": "stderr",
     "output_type": "stream",
     "text": [
      "100%|██████████| 500/500 [09:48<00:00,  1.18s/it]\n"
     ]
    },
    {
     "ename": "ArgumentError",
     "evalue": "Python argument types in\n    rdkit.Chem.rdMolDescriptors.CalcExactMolWt(float)\ndid not match C++ signature:\n    CalcExactMolWt(RDKit::ROMol mol, bool onlyHeavy=False)",
     "output_type": "error",
     "traceback": [
      "\u001B[0;31m---------------------------------------------------------------------------\u001B[0m",
      "\u001B[0;31mArgumentError\u001B[0m                             Traceback (most recent call last)",
      "Input \u001B[0;32mIn [272]\u001B[0m, in \u001B[0;36m<cell line: 16>\u001B[0;34m()\u001B[0m\n\u001B[1;32m     18\u001B[0m \u001B[38;5;28;01mfor\u001B[39;00m index, row \u001B[38;5;129;01min\u001B[39;00m std_list\u001B[38;5;241m.\u001B[39miterrows():\n\u001B[1;32m     20\u001B[0m     \u001B[38;5;28;01mif\u001B[39;00m row[adduct]\u001B[38;5;241m>\u001B[39m\u001B[38;5;241m0.00001\u001B[39m:\n\u001B[0;32m---> 21\u001B[0m         cur_adduct_lst\u001B[38;5;241m.\u001B[39mappend(\u001B[43mcalculate_precursormz\u001B[49m\u001B[43m(\u001B[49m\u001B[43mrow\u001B[49m\u001B[43m[\u001B[49m\u001B[38;5;124;43m'\u001B[39;49m\u001B[38;5;124;43mSMILES\u001B[39;49m\u001B[38;5;124;43m'\u001B[39;49m\u001B[43m]\u001B[49m\u001B[43m,\u001B[49m\u001B[43m \u001B[49m\u001B[43madduct\u001B[49m\u001B[43m)\u001B[49m)\n\u001B[1;32m     22\u001B[0m     \u001B[38;5;28;01melse\u001B[39;00m:\n\u001B[1;32m     23\u001B[0m         cur_adduct_lst\u001B[38;5;241m.\u001B[39mappend(\u001B[38;5;241m0\u001B[39m)\n",
      "File \u001B[0;32m~/Documents/GitHub/lead_finder/toolsets/std_list_prep.py:220\u001B[0m, in \u001B[0;36mcalculate_precursormz\u001B[0;34m(smiles, adduct)\u001B[0m\n\u001B[1;32m    218\u001B[0m \u001B[38;5;28;01mdef\u001B[39;00m \u001B[38;5;21mcalculate_precursormz\u001B[39m(smiles, adduct):\n\u001B[1;32m    219\u001B[0m     mol_ \u001B[38;5;241m=\u001B[39m check_mol(smiles)\n\u001B[0;32m--> 220\u001B[0m     mono_mass \u001B[38;5;241m=\u001B[39m\u001B[43mExactMolWt\u001B[49m\u001B[43m(\u001B[49m\u001B[43mmol_\u001B[49m\u001B[43m)\u001B[49m\n\u001B[1;32m    221\u001B[0m     \u001B[38;5;28;01mif\u001B[39;00m adduct \u001B[38;5;129;01min\u001B[39;00m single_charged_adduct_mass\u001B[38;5;241m.\u001B[39mkeys():\n\u001B[1;32m    222\u001B[0m         \u001B[38;5;28;01mif\u001B[39;00m cal_formal_charge(mol_)\u001B[38;5;241m==\u001B[39m\u001B[38;5;241m0\u001B[39m:\n",
      "File \u001B[0;32m/opt/homebrew/Caskroom/miniforge/base/envs/alphapept_env/lib/python3.8/site-packages/rdkit/Chem/Descriptors.py:95\u001B[0m, in \u001B[0;36m<lambda>\u001B[0;34m(*x, **y)\u001B[0m\n\u001B[1;32m     85\u001B[0m HeavyAtomMolWt\u001B[38;5;241m.\u001B[39m\u001B[38;5;18m__doc__\u001B[39m \u001B[38;5;241m=\u001B[39m \u001B[38;5;124m\"\"\"\u001B[39m\u001B[38;5;124mThe average molecular weight of the molecule ignoring hydrogens\u001B[39m\n\u001B[1;32m     86\u001B[0m \n\u001B[1;32m     87\u001B[0m \u001B[38;5;124m  >>> HeavyAtomMolWt(Chem.MolFromSmiles(\u001B[39m\u001B[38;5;124m'\u001B[39m\u001B[38;5;124mCC\u001B[39m\u001B[38;5;124m'\u001B[39m\u001B[38;5;124m))\u001B[39m\n\u001B[0;32m   (...)\u001B[0m\n\u001B[1;32m     91\u001B[0m \n\u001B[1;32m     92\u001B[0m \u001B[38;5;124m\"\"\"\u001B[39m\n\u001B[1;32m     93\u001B[0m HeavyAtomMolWt\u001B[38;5;241m.\u001B[39mversion \u001B[38;5;241m=\u001B[39m \u001B[38;5;124m\"\u001B[39m\u001B[38;5;124m1.0.0\u001B[39m\u001B[38;5;124m\"\u001B[39m\n\u001B[0;32m---> 95\u001B[0m ExactMolWt \u001B[38;5;241m=\u001B[39m \u001B[38;5;28;01mlambda\u001B[39;00m \u001B[38;5;241m*\u001B[39mx, \u001B[38;5;241m*\u001B[39m\u001B[38;5;241m*\u001B[39my: \u001B[43m_rdMolDescriptors\u001B[49m\u001B[38;5;241;43m.\u001B[39;49m\u001B[43mCalcExactMolWt\u001B[49m\u001B[43m(\u001B[49m\u001B[38;5;241;43m*\u001B[39;49m\u001B[43mx\u001B[49m\u001B[43m,\u001B[49m\u001B[43m \u001B[49m\u001B[38;5;241;43m*\u001B[39;49m\u001B[38;5;241;43m*\u001B[39;49m\u001B[43my\u001B[49m\u001B[43m)\u001B[49m\n\u001B[1;32m     96\u001B[0m ExactMolWt\u001B[38;5;241m.\u001B[39mversion \u001B[38;5;241m=\u001B[39m _rdMolDescriptors\u001B[38;5;241m.\u001B[39m_CalcExactMolWt_version\n\u001B[1;32m     97\u001B[0m ExactMolWt\u001B[38;5;241m.\u001B[39m\u001B[38;5;18m__doc__\u001B[39m \u001B[38;5;241m=\u001B[39m \u001B[38;5;124m\"\"\"\u001B[39m\u001B[38;5;124mThe exact molecular weight of the molecule\u001B[39m\n\u001B[1;32m     98\u001B[0m \n\u001B[1;32m     99\u001B[0m \u001B[38;5;124m  >>> ExactMolWt(Chem.MolFromSmiles(\u001B[39m\u001B[38;5;124m'\u001B[39m\u001B[38;5;124mCC\u001B[39m\u001B[38;5;124m'\u001B[39m\u001B[38;5;124m))\u001B[39m\n\u001B[0;32m   (...)\u001B[0m\n\u001B[1;32m    103\u001B[0m \n\u001B[1;32m    104\u001B[0m \u001B[38;5;124m\"\"\"\u001B[39m\n",
      "\u001B[0;31mArgumentError\u001B[0m: Python argument types in\n    rdkit.Chem.rdMolDescriptors.CalcExactMolWt(float)\ndid not match C++ signature:\n    CalcExactMolWt(RDKit::ROMol mol, bool onlyHeavy=False)"
     ]
    }
   ],
   "source": [
    "std_list = pd.read_csv(os.path.join(master_dir, 'casmi_std_list.csv'))\n",
    "from toolsets.API_gets import inchi_to_smiles\n",
    "std_list\n",
    "smiles = []\n",
    "for index, row in tqdm(std_list.iterrows(), total = len(std_list)):\n",
    "    smiles_temp = inchi_to_smiles(row['InChIKey'])\n",
    "    smiles.append(smiles_temp)\n",
    "std_list['SMILES']=smiles\n",
    "    # break\n",
    "std_list.dropna(subset=['SMILES'], inplace=True)\n",
    "from toolsets.std_list_prep import check_mol\n",
    "\n",
    "#"
   ],
   "metadata": {
    "collapsed": false,
    "pycharm": {
     "name": "#%%\n"
    }
   }
  },
  {
   "cell_type": "code",
   "execution_count": 273,
   "outputs": [],
   "source": [],
   "metadata": {
    "collapsed": false,
    "pycharm": {
     "name": "#%%\n"
    }
   }
  },
  {
   "cell_type": "code",
   "execution_count": 274,
   "outputs": [],
   "source": [
    "pos_adduct =['[M+H]+', '[M+NH4]+', '[M+Na]+']\n",
    "neg_adduct = ['[M-H]-', '[M+FA-H]-', '[M+Cl]-']\n",
    "adduct_all = pos_adduct+neg_adduct\n",
    "std_list_raw = std_list.copy()\n",
    "for adduct in adduct_all:\n",
    "    cur_adduct_lst = []\n",
    "    for index, row in std_list.iterrows():\n",
    "\n",
    "        if row[adduct]>0.00001:\n",
    "            cur_adduct_lst.append(calculate_precursormz(row['SMILES'], adduct))\n",
    "        else:\n",
    "            cur_adduct_lst.append(0)\n",
    "    std_list[adduct]=cur_adduct_lst"
   ],
   "metadata": {
    "collapsed": false,
    "pycharm": {
     "name": "#%%\n"
    }
   }
  },
  {
   "cell_type": "markdown",
   "source": [],
   "metadata": {
    "collapsed": false,
    "pycharm": {
     "name": "#%% md\n"
    }
   }
  },
  {
   "cell_type": "code",
   "execution_count": 127,
   "outputs": [],
   "source": [
    "# from toolsets.sirius_lite import mass_to_formula, get_isotope, compare_iso_pattern\n",
    "# std_raw = pd.read_csv(os.path.join(master_dir, 'casmi_std_list.csv'))\n",
    "# from toolsets.API_gets import inchi_to_smiles\n",
    "#\n",
    "# smiles = []\n",
    "# for index, row in tqdm(std_raw.iterrows(), total = len(std_raw)):\n",
    "#     smiles_temp = inchi_to_smiles(row['InChIKey'])\n",
    "#     smiles.append(smiles_temp)\n",
    "# std_raw['smiles']=smiles\n",
    "# std_raw.drop(['SMILES'], axis=1, inplace=True)\n",
    "# std_raw['smiles']=smiles\n",
    "# std_raw.dropna(subset=['smiles'], inplace =True)\n",
    "# from toolsets.std_list_prep import neutrilize_salt_df\n",
    "# std_list_neu = neutrilize_salt_df(std_raw, smile_column='smiles')\n",
    "# mono_mass = []\n",
    "# for index, row in std_list_neu.iterrows():\n",
    "#     mol_temp = Chem.MolFromSmiles(row['smiles'])\n",
    "#     mono_mass.append(CalcExactMolWt(mol_temp))\n",
    "# std_list = pd.read_csv(os.path.join(master_dir, 'std_list_cleaned.csv'))\n",
    "#\n",
    "# std_list.to_csv(os.path.join(master_dir, 'std_list_cleaned.csv'), index = True)\n",
    "# from time import time\n",
    "# start = time()\n",
    "# candidate = mass_to_formula(482.251583, 0.002)\n",
    "# end = time()\n",
    "# print((end-start)/60)\n",
    "# chemistry_result = []\n",
    "# for c in candidate:\n",
    "#     chemistry_result.append(check_chemistry(c))\n",
    "# res = [i for i, val in enumerate(chemistry_result) if val]\n",
    "#\n",
    "# candidate_valid = [Formula(candidate[r]).formula for r in res]\n",
    "# iso_patterns = []\n",
    "# for c in candidate_valid:\n",
    "#     iso_patterns.append(get_isotope(c))\n",
    "# iso_score = []\n",
    "# for iso_pattern in iso_patterns:\n",
    "#     iso_score.append(compare_iso_pattern(iso1, iso_pattern))\n",
    "# result = pd.DataFrame(zip(candidate_valid, iso_patterns, iso_score), columns=['candidate_formula', 'simulated_iso', 'iso_score'])\n",
    "# from toolsets.constants import single_charged_adduct_mass\n",
    "# adduct_cols = [x for x in std_list.columns if x in single_charged_adduct_mass.keys()]\n",
    "# mode = []\n",
    "# reference_adduct = []\n",
    "# for index, row in std_list.iterrows():\n",
    "#     data_temp = row[adduct_cols]\n",
    "#     reference_adduct.append(adduct_cols[np.argmax(data_temp.values)])\n",
    "#     mode.append(adduct_cols[np.argmax(data_temp.values)][-1])\n",
    "#     # break\n",
    "# std_list.insert(3, 'reference_adduct', reference_adduct)\n",
    "# std_list.insert(4, 'mode', mode)\n",
    "# std_list.to_csv(os.path.join(master_dir, 'std_list_cleaned.csv'), index = False)"
   ],
   "metadata": {
    "collapsed": false,
    "pycharm": {
     "name": "#%%\n"
    }
   }
  },
  {
   "cell_type": "code",
   "execution_count": 280,
   "outputs": [],
   "source": [
    "adduct_cols = [x for x in std_list.columns if x in single_charged_adduct_mass.keys()]\n",
    "mode = []\n",
    "reference_adduct = []\n",
    "for index, row in std_list.iterrows():\n",
    "    data_temp = row[adduct_cols]\n",
    "    reference_adduct.append(adduct_cols[np.argmax(data_temp.values)])\n",
    "    mode.append(adduct_cols[np.argmax(data_temp.values)][-1])\n",
    "    # break\n",
    "std_list.insert(3, 'reference_adduct', reference_adduct)\n",
    "std_list.insert(4, 'mode', mode)\n",
    "std_list.to_csv(os.path.join(master_dir, 'std_list_cleaned.csv'), index = False)"
   ],
   "metadata": {
    "collapsed": false,
    "pycharm": {
     "name": "#%%\n"
    }
   }
  },
  {
   "cell_type": "code",
   "execution_count": 281,
   "outputs": [
    {
     "data": {
      "text/plain": "                        InChIKey  \\\n0    ZUDBDCBPZHGAEL-DCYCNZAJSA-N   \n1    ZKCHQVRAXCCTLE-YXHZOQBQSA-N   \n2    UYALDZZEAZIEME-MYTBKXFISA-N   \n3    IFQVIMQHTPDZQU-UHFFFAOYSA-N   \n4    XPXRFYSHQGUVFK-UTXMSIPTSA-N   \n..                           ...   \n495  CQXZVXNVRFIVCN-UHFFFAOYSA-N   \n496  HELVNAROXHFAIE-WRJJPCEFSA-N   \n497  SNXYIHBATNUFDM-UHFFFAOYSA-N   \n498  XUDCXSSDAZIAPT-IFVSHKQPSA-N   \n499  ADFCQWZHKCXPAJ-LBPRGKRZSA-N   \n\n                                                SMILES     Formula  \\\n0    CC12CC(CC(C1CCC34C2CCC(C3)C(=C)C4O)C(=O)O)OC5C...    C25H38O9   \n1    CC1(C2CCC3(C(C2(CCC1OC4C(C(C(CO4)OC5C(C(C(C(O5...   C46H74O18   \n2    CC1C(C(C(C(O1)OC2=C(OC3=C(C(=CC(=C3C2=O)O)O)CC...   C35H42O16   \n3    CC(C)CC(C(=O)O)NC(=O)C(C(C)C)OC(=O)C(C(C)C)NC(...  C22H40N2O7   \n4    CC1CC2(C(C1O)C=C(C(CC3C(C3(C)C)C=C(C2=O)C)OC(=...    C26H36O8   \n..                                                 ...         ...   \n495            CC(CC(CC1=CC2=CC(=CC(=C2C(=O)O1)O)O)O)O    C14H16O6   \n496  CC1C(C(C(C(O1)OC2C(C(OC(C2O)OC3C(CC4(C(C3(C)CO...   C48H76O20   \n497  CC1=CC(=C(C2=C1C(=O)OC3=C(O2)C(=C(C(=C3)C(=O)O...    C17H14O8   \n498  C1=CC(=CC=C1C2C(C(=O)C3=C(C=C(C=C3O2)O)O)C4=C(...   C36H30O16   \n499               C1C(COC2=C1C=CC(=C2)O)C3=CC=C(C=C3)O    C15H14O3   \n\n    reference_adduct mode  Exact Mass        Mix label  RT [min]  PRECURSORMZ  \\\n0            [M+Cl]-    -  482.251570  A_M28_negPFP_04      1.67     517.2210   \n1          [M+FA-H]-    -  914.487490   A_M8_negPFP_03      3.70     959.4857   \n2             [M+H]+    +  718.247273   A_M3_posPFP_01      5.55     719.2546   \n3            [M+Na]+    +  444.283537   A_M6_posPFP_02      5.74     467.2728   \n4            [M+Na]+    +  476.241006  A_M23_posPFP_02      5.55     499.2302   \n..               ...  ...         ...              ...       ...          ...   \n495           [M-H]-    -  280.094684  A_M15_negPFP_03      2.56     279.0874   \n496           [M-H]-    -  972.492970  A_M19_negPFP_03      4.42     971.4857   \n497           [M-H]-    -  346.068864  A_M13_negPFP_03      5.65     345.0616   \n498           [M-H]-    -  718.153378   A_M2_negPFP_03      3.41     717.1461   \n499           [M+H]+    +  242.094289  E_M17_posPFP_01      4.09     243.1016   \n\n        Adduct Priority/Bonus      [M+H]+  [M+NH4]+     [M+Na]+      [M-H]-  \\\n0      [M+Cl]-       Priority    0.000000       0.0    0.000000    0.000000   \n1    [M+FA-H]-       Priority    0.000000       0.0    0.000000    0.000000   \n2       [M+H]+       Priority  719.254561       0.0    0.000000    0.000000   \n3      [M+Na]+       Priority    0.000000       0.0  467.272770    0.000000   \n4      [M+Na]+       Priority    0.000000       0.0  499.230236    0.000000   \n..         ...            ...         ...       ...         ...         ...   \n495     [M-H]-          Bonus    0.000000       0.0    0.000000  279.087412   \n496     [M-H]-          Bonus    0.000000       0.0    0.000000  971.485719   \n497     [M-H]-          Bonus    0.000000       0.0    0.000000  345.061591   \n498     [M-H]-          Bonus    0.000000       0.0    0.000000  717.146109   \n499     [M+H]+          Bonus  243.101570       0.0    0.000000    0.000000   \n\n      [M+FA-H]-     [M+Cl]-  \n0      0.000000  517.220985  \n1    959.485716    0.000000  \n2      0.000000    0.000000  \n3      0.000000    0.000000  \n4      0.000000    0.000000  \n..          ...         ...  \n495    0.000000    0.000000  \n496    0.000000    0.000000  \n497    0.000000    0.000000  \n498    0.000000    0.000000  \n499    0.000000    0.000000  \n\n[499 rows x 17 columns]",
      "text/html": "<div>\n<style scoped>\n    .dataframe tbody tr th:only-of-type {\n        vertical-align: middle;\n    }\n\n    .dataframe tbody tr th {\n        vertical-align: top;\n    }\n\n    .dataframe thead th {\n        text-align: right;\n    }\n</style>\n<table border=\"1\" class=\"dataframe\">\n  <thead>\n    <tr style=\"text-align: right;\">\n      <th></th>\n      <th>InChIKey</th>\n      <th>SMILES</th>\n      <th>Formula</th>\n      <th>reference_adduct</th>\n      <th>mode</th>\n      <th>Exact Mass</th>\n      <th>Mix label</th>\n      <th>RT [min]</th>\n      <th>PRECURSORMZ</th>\n      <th>Adduct</th>\n      <th>Priority/Bonus</th>\n      <th>[M+H]+</th>\n      <th>[M+NH4]+</th>\n      <th>[M+Na]+</th>\n      <th>[M-H]-</th>\n      <th>[M+FA-H]-</th>\n      <th>[M+Cl]-</th>\n    </tr>\n  </thead>\n  <tbody>\n    <tr>\n      <th>0</th>\n      <td>ZUDBDCBPZHGAEL-DCYCNZAJSA-N</td>\n      <td>CC12CC(CC(C1CCC34C2CCC(C3)C(=C)C4O)C(=O)O)OC5C...</td>\n      <td>C25H38O9</td>\n      <td>[M+Cl]-</td>\n      <td>-</td>\n      <td>482.251570</td>\n      <td>A_M28_negPFP_04</td>\n      <td>1.67</td>\n      <td>517.2210</td>\n      <td>[M+Cl]-</td>\n      <td>Priority</td>\n      <td>0.000000</td>\n      <td>0.0</td>\n      <td>0.000000</td>\n      <td>0.000000</td>\n      <td>0.000000</td>\n      <td>517.220985</td>\n    </tr>\n    <tr>\n      <th>1</th>\n      <td>ZKCHQVRAXCCTLE-YXHZOQBQSA-N</td>\n      <td>CC1(C2CCC3(C(C2(CCC1OC4C(C(C(CO4)OC5C(C(C(C(O5...</td>\n      <td>C46H74O18</td>\n      <td>[M+FA-H]-</td>\n      <td>-</td>\n      <td>914.487490</td>\n      <td>A_M8_negPFP_03</td>\n      <td>3.70</td>\n      <td>959.4857</td>\n      <td>[M+FA-H]-</td>\n      <td>Priority</td>\n      <td>0.000000</td>\n      <td>0.0</td>\n      <td>0.000000</td>\n      <td>0.000000</td>\n      <td>959.485716</td>\n      <td>0.000000</td>\n    </tr>\n    <tr>\n      <th>2</th>\n      <td>UYALDZZEAZIEME-MYTBKXFISA-N</td>\n      <td>CC1C(C(C(C(O1)OC2=C(OC3=C(C(=CC(=C3C2=O)O)O)CC...</td>\n      <td>C35H42O16</td>\n      <td>[M+H]+</td>\n      <td>+</td>\n      <td>718.247273</td>\n      <td>A_M3_posPFP_01</td>\n      <td>5.55</td>\n      <td>719.2546</td>\n      <td>[M+H]+</td>\n      <td>Priority</td>\n      <td>719.254561</td>\n      <td>0.0</td>\n      <td>0.000000</td>\n      <td>0.000000</td>\n      <td>0.000000</td>\n      <td>0.000000</td>\n    </tr>\n    <tr>\n      <th>3</th>\n      <td>IFQVIMQHTPDZQU-UHFFFAOYSA-N</td>\n      <td>CC(C)CC(C(=O)O)NC(=O)C(C(C)C)OC(=O)C(C(C)C)NC(...</td>\n      <td>C22H40N2O7</td>\n      <td>[M+Na]+</td>\n      <td>+</td>\n      <td>444.283537</td>\n      <td>A_M6_posPFP_02</td>\n      <td>5.74</td>\n      <td>467.2728</td>\n      <td>[M+Na]+</td>\n      <td>Priority</td>\n      <td>0.000000</td>\n      <td>0.0</td>\n      <td>467.272770</td>\n      <td>0.000000</td>\n      <td>0.000000</td>\n      <td>0.000000</td>\n    </tr>\n    <tr>\n      <th>4</th>\n      <td>XPXRFYSHQGUVFK-UTXMSIPTSA-N</td>\n      <td>CC1CC2(C(C1O)C=C(C(CC3C(C3(C)C)C=C(C2=O)C)OC(=...</td>\n      <td>C26H36O8</td>\n      <td>[M+Na]+</td>\n      <td>+</td>\n      <td>476.241006</td>\n      <td>A_M23_posPFP_02</td>\n      <td>5.55</td>\n      <td>499.2302</td>\n      <td>[M+Na]+</td>\n      <td>Priority</td>\n      <td>0.000000</td>\n      <td>0.0</td>\n      <td>499.230236</td>\n      <td>0.000000</td>\n      <td>0.000000</td>\n      <td>0.000000</td>\n    </tr>\n    <tr>\n      <th>...</th>\n      <td>...</td>\n      <td>...</td>\n      <td>...</td>\n      <td>...</td>\n      <td>...</td>\n      <td>...</td>\n      <td>...</td>\n      <td>...</td>\n      <td>...</td>\n      <td>...</td>\n      <td>...</td>\n      <td>...</td>\n      <td>...</td>\n      <td>...</td>\n      <td>...</td>\n      <td>...</td>\n      <td>...</td>\n    </tr>\n    <tr>\n      <th>495</th>\n      <td>CQXZVXNVRFIVCN-UHFFFAOYSA-N</td>\n      <td>CC(CC(CC1=CC2=CC(=CC(=C2C(=O)O1)O)O)O)O</td>\n      <td>C14H16O6</td>\n      <td>[M-H]-</td>\n      <td>-</td>\n      <td>280.094684</td>\n      <td>A_M15_negPFP_03</td>\n      <td>2.56</td>\n      <td>279.0874</td>\n      <td>[M-H]-</td>\n      <td>Bonus</td>\n      <td>0.000000</td>\n      <td>0.0</td>\n      <td>0.000000</td>\n      <td>279.087412</td>\n      <td>0.000000</td>\n      <td>0.000000</td>\n    </tr>\n    <tr>\n      <th>496</th>\n      <td>HELVNAROXHFAIE-WRJJPCEFSA-N</td>\n      <td>CC1C(C(C(C(O1)OC2C(C(OC(C2O)OC3C(CC4(C(C3(C)CO...</td>\n      <td>C48H76O20</td>\n      <td>[M-H]-</td>\n      <td>-</td>\n      <td>972.492970</td>\n      <td>A_M19_negPFP_03</td>\n      <td>4.42</td>\n      <td>971.4857</td>\n      <td>[M-H]-</td>\n      <td>Bonus</td>\n      <td>0.000000</td>\n      <td>0.0</td>\n      <td>0.000000</td>\n      <td>971.485719</td>\n      <td>0.000000</td>\n      <td>0.000000</td>\n    </tr>\n    <tr>\n      <th>497</th>\n      <td>SNXYIHBATNUFDM-UHFFFAOYSA-N</td>\n      <td>CC1=CC(=C(C2=C1C(=O)OC3=C(O2)C(=C(C(=C3)C(=O)O...</td>\n      <td>C17H14O8</td>\n      <td>[M-H]-</td>\n      <td>-</td>\n      <td>346.068864</td>\n      <td>A_M13_negPFP_03</td>\n      <td>5.65</td>\n      <td>345.0616</td>\n      <td>[M-H]-</td>\n      <td>Bonus</td>\n      <td>0.000000</td>\n      <td>0.0</td>\n      <td>0.000000</td>\n      <td>345.061591</td>\n      <td>0.000000</td>\n      <td>0.000000</td>\n    </tr>\n    <tr>\n      <th>498</th>\n      <td>XUDCXSSDAZIAPT-IFVSHKQPSA-N</td>\n      <td>C1=CC(=CC=C1C2C(C(=O)C3=C(C=C(C=C3O2)O)O)C4=C(...</td>\n      <td>C36H30O16</td>\n      <td>[M-H]-</td>\n      <td>-</td>\n      <td>718.153378</td>\n      <td>A_M2_negPFP_03</td>\n      <td>3.41</td>\n      <td>717.1461</td>\n      <td>[M-H]-</td>\n      <td>Bonus</td>\n      <td>0.000000</td>\n      <td>0.0</td>\n      <td>0.000000</td>\n      <td>717.146109</td>\n      <td>0.000000</td>\n      <td>0.000000</td>\n    </tr>\n    <tr>\n      <th>499</th>\n      <td>ADFCQWZHKCXPAJ-LBPRGKRZSA-N</td>\n      <td>C1C(COC2=C1C=CC(=C2)O)C3=CC=C(C=C3)O</td>\n      <td>C15H14O3</td>\n      <td>[M+H]+</td>\n      <td>+</td>\n      <td>242.094289</td>\n      <td>E_M17_posPFP_01</td>\n      <td>4.09</td>\n      <td>243.1016</td>\n      <td>[M+H]+</td>\n      <td>Bonus</td>\n      <td>243.101570</td>\n      <td>0.0</td>\n      <td>0.000000</td>\n      <td>0.000000</td>\n      <td>0.000000</td>\n      <td>0.000000</td>\n    </tr>\n  </tbody>\n</table>\n<p>499 rows × 17 columns</p>\n</div>"
     },
     "execution_count": 281,
     "metadata": {},
     "output_type": "execute_result"
    }
   ],
   "source": [
    "std_list"
   ],
   "metadata": {
    "collapsed": false,
    "pycharm": {
     "name": "#%%\n"
    }
   }
  },
  {
   "cell_type": "code",
   "execution_count": 286,
   "outputs": [],
   "source": [
    "std_list_pos = std_list[std_list['mode']=='+']\n",
    "std_list_neg = std_list[std_list['mode']=='-']"
   ],
   "metadata": {
    "collapsed": false,
    "pycharm": {
     "name": "#%%\n"
    }
   }
  },
  {
   "cell_type": "code",
   "execution_count": 181,
   "outputs": [],
   "source": [
    "from toolsets.precursor_matching import find_adduct_columns\n",
    "from toolsets.feature_alignment import find_feature\n",
    "def precursor_matching_peaklist(std_list_mix, pl_temp):\n",
    "    pl_temp = pl_temp[['RT (min)','Precursor m/z', 'Height', 'Isotope','MS1 isotopes', 'MSMS spectrum']]\n",
    "    adducts =find_adduct_columns(std_list_mix.columns)\n",
    "    matched_mix = pd.DataFrame()\n",
    "    raw_mix = pd.DataFrame()\n",
    "    reference_columns = [col for col in std_list_mix.columns if col not in adducts]\n",
    "    reference_adduct = []\n",
    "    reference_precursor_mz=[]\n",
    "    for index, row in std_list_mix.iterrows():\n",
    "        for adduct in adducts:\n",
    "            # print(row[adduct])\n",
    "\n",
    "            raw_matched = find_feature(pl_temp, mz = row[adduct], rt = row['RT [min]'], mz_column = 'Precursor m/z', rt_column = 'RT (min)', rt_offset=10)\n",
    "\n",
    "            if len(raw_matched)>0:   #there is at least 1 valid match\n",
    "                # raw_matched.sort_values(by = 'ms1_intensity', inplace=True, ascending= False)\n",
    "                matched_mix= matched_mix.append([pd.DataFrame([row[reference_columns]])], ignore_index=True)\n",
    "                raw_matched.sort_values(by = 'Height', ascending=False, inplace = True)\n",
    "                raw_mix= pd.concat([raw_mix, pd.DataFrame([raw_matched.iloc[0]])],ignore_index=True)\n",
    "                reference_adduct.extend([adduct])\n",
    "                reference_precursor_mz.extend([row[adduct]])\n",
    "    matched_mix.columns = ['reference_'+col_name for col_name in matched_mix.columns]\n",
    "    matched_mix['reference_adduct']= reference_adduct\n",
    "    matched_mix['reference_precursor_mz']=reference_precursor_mz\n",
    "    matched_mix_spec = pd.concat([matched_mix, raw_mix], axis=1)\n",
    "\n",
    "    if len(matched_mix_spec)>0:\n",
    "\n",
    "        # matched_mix_spec['mz_offset'] = abs(matched_mix_spec['Precursor m/z']-matched_mix_spec['reference_precursor_mz'])\n",
    "        recovery_percent = len(set(matched_mix_spec['reference_InChIKey']))/len(set(std_list_mix['InChIKey']))*100\n",
    "        matched_mix_spec['recovery_percent(%)']=recovery_percent\n",
    "    # matched_mix_spec.insert(2, 'conc', np.repeat(conc, len(matched_mix_spec)))\n",
    "    # matched_mix_spec.insert(3, 'ce', np.repeat(ce, len(matched_mix_spec)))\n",
    "    return(matched_mix_spec)\n",
    "def precursor_matching_all( pl_dir, std_list):\n",
    "    from toolsets.file_io import readin_peak_list\n",
    "    pl_list = get_file_list(pl_dir, '.txt', with_tail=False)\n",
    "    matched = pd.DataFrame()\n",
    "    for item in tqdm(pl_list):\n",
    "        pl_temp = readin_peak_list(os.path.join(pl_dir, item+'.txt'))\n",
    "        mix = item\n",
    "        std_list_temp = string_search(std_list, 'Mix label', mix)\n",
    "        matched_temp = precursor_matching_peaklist(std_list_temp, pl_temp)\n",
    "        matched = pd.concat([matched, matched_temp], ignore_index=True)\n",
    "    return(matched)"
   ],
   "metadata": {
    "collapsed": false,
    "pycharm": {
     "name": "#%%\n"
    }
   }
  },
  {
   "cell_type": "code",
   "execution_count": 282,
   "outputs": [],
   "source": [
    "pos_pl_dir = '/Users/fanzhoukong/Documents/GitHub/Libgen_data/casmi/peak_list/pos'\n",
    "neg_pl_dir = '/Users/fanzhoukong/Documents/GitHub/Libgen_data/casmi/peak_list/neg'"
   ],
   "metadata": {
    "collapsed": false,
    "pycharm": {
     "name": "#%%\n"
    }
   }
  },
  {
   "cell_type": "code",
   "execution_count": 287,
   "outputs": [
    {
     "name": "stderr",
     "output_type": "stream",
     "text": [
      "100%|██████████| 75/75 [00:13<00:00,  5.49it/s]\n",
      "100%|██████████| 55/55 [00:09<00:00,  5.93it/s]\n"
     ]
    }
   ],
   "source": [
    "pos_matched = precursor_matching_all('/Users/fanzhoukong/Documents/GitHub/Libgen_data/casmi/peak_list/pos',std_list_pos)\n",
    "neg_matched = precursor_matching_all('/Users/fanzhoukong/Documents/GitHub/Libgen_data/casmi/peak_list/neg',std_list_neg)"
   ],
   "metadata": {
    "collapsed": false,
    "pycharm": {
     "name": "#%%\n"
    }
   }
  },
  {
   "cell_type": "code",
   "execution_count": 288,
   "outputs": [
    {
     "data": {
      "text/plain": "499"
     },
     "execution_count": 288,
     "metadata": {},
     "output_type": "execute_result"
    }
   ],
   "source": [
    "len(pos_matched)+len(neg_matched)"
   ],
   "metadata": {
    "collapsed": false,
    "pycharm": {
     "name": "#%%\n"
    }
   }
  },
  {
   "cell_type": "code",
   "execution_count": 289,
   "outputs": [],
   "source": [
    "matched_all = pd.concat([pos_matched, neg_matched], ignore_index=True, axis=0)"
   ],
   "metadata": {
    "collapsed": false,
    "pycharm": {
     "name": "#%%\n"
    }
   }
  },
  {
   "cell_type": "code",
   "execution_count": 292,
   "outputs": [],
   "source": [
    "matched_all.dropna(subset=['MSMS spectrum'], inplace=True)"
   ],
   "metadata": {
    "collapsed": false,
    "pycharm": {
     "name": "#%%\n"
    }
   }
  },
  {
   "cell_type": "code",
   "execution_count": 293,
   "outputs": [],
   "source": [
    "matched_all.to_csv(os.path.join(master_dir, 'matched_all.csv'), index = False)"
   ],
   "metadata": {
    "collapsed": false,
    "pycharm": {
     "name": "#%%\n"
    }
   }
  },
  {
   "cell_type": "markdown",
   "source": [
    "# below starts with matched all"
   ],
   "metadata": {
    "collapsed": false,
    "pycharm": {
     "name": "#%% md\n"
    }
   }
  },
  {
   "cell_type": "code",
   "execution_count": 2,
   "outputs": [],
   "source": [
    "matched_all = pd.read_csv(os.path.join(master_dir, 'matched_all.csv'))"
   ],
   "metadata": {
    "collapsed": false,
    "pycharm": {
     "name": "#%%\n"
    }
   }
  },
  {
   "cell_type": "code",
   "execution_count": 5,
   "outputs": [
    {
     "data": {
      "text/plain": "            reference_InChIKey  \\\n0  ZNBQWPMZFPFCKS-GOSISDBHSA-N   \n1  OFDBBWUQAHAKDG-PREJITOJSA-N   \n2  PCWPSOCJBMEHGK-BZKLREMRSA-N   \n3  IESDYJUGZCFEQG-UHFFFAOYSA-N   \n4  FBMYKMYQHCBIGU-UHFFFAOYSA-N   \n\n                                    reference_SMILES reference_Formula  \\\n0         CC1=CC(=O)OC1CC=C(C)CCC=C(CCC=C(C)C)C(=O)O          C20H28O4   \n1  CCC(C)C=C(C)C=CC(=O)OC1C=CC2=CC(=O)C(CC2(C1C)C...          C25H32O6   \n2  COC1=C(C=CC(=C1)CC(CO)C(CC2=CC(=C(C=C2)OC3C(C(...         C26H36O11   \n3  CCCCCC(CC(CC(=O)OC(CCCCC)CC(CC(=O)OC(CCCCC)CC(...         C49H88O25   \n4    CC(C)(CC1=CNC2=CC=CC=C21)NCC(COC3=CC=CC=C3C#N)O        C22H25N3O2   \n\n  reference_reference_adduct reference_mode  reference_Exact Mass  \\\n0                     [M+H]+              +            332.198749   \n1                     [M+H]+              +            428.219877   \n2                   [M+NH4]+              +            524.225751   \n3                   [M+NH4]+              +           1076.561440   \n4                    [M+Na]+              +            363.194667   \n\n  reference_Mix label  reference_RT [min]  reference_PRECURSORMZ  \\\n0     A_M25_posPFP_01                5.82               333.2060   \n1     A_M25_posPFP_01                5.95               429.2272   \n2     A_M25_posPFP_01                1.83               542.2596   \n3     A_M25_posPFP_01                5.57              1094.5953   \n4     E_M41_posPFP_02                5.91               386.1839   \n\n  reference_Adduct reference_Priority/Bonus reference_adduct  \\\n0           [M+H]+                 Priority           [M+H]+   \n1           [M+H]+                 Priority           [M+H]+   \n2         [M+NH4]+                 Priority         [M+NH4]+   \n3         [M+NH4]+                 Priority         [M+NH4]+   \n4          [M+Na]+                 Priority          [M+Na]+   \n\n   reference_precursor_mz  RT (min)  Precursor m/z      Height Isotope  \\\n0              333.206035  5.827558       333.2054  76873248.0   M + 0   \n1              429.227165  5.954288       429.2266  14719142.0   M + 0   \n2              542.259585  1.830238       542.2593   9319463.0   M + 0   \n3             1094.595291  5.579183      1094.5930  11165936.0   M + 0   \n4              386.183895  5.913771       386.1831  15280335.0   M + 0   \n\n                                        MS1 isotopes  \\\n0  333.09335:326036 333.18277:354689 333.18729:41...   \n1  429.06912:29183 429.19177:96403 429.22659:1643...   \n2  542.02716:15122 542.25934:9664572 543.26257:28...   \n3  1094.59338:12613862 1095.59656:7457614 1096.59...   \n4  386.18314:19353618 386.19788:218962 387.18658:...   \n\n                                       MSMS spectrum  recovery_percent(%)  \n0  55.05476:20929 67.05432:74555 67.79105:12292 6...                100.0  \n1  68.35921:2126 81.06982:5006 95.88636:2433 98.6...                100.0  \n2  53.03874:2645 56.15794:2305 66.04675:3360 69.0...                100.0  \n3  81.06976:36853 83.04905:9646 91.7446:4565 93.0...                100.0  \n4  70.06512:4728 74.06:28168 86.11314:2601 96.541...                100.0  ",
      "text/html": "<div>\n<style scoped>\n    .dataframe tbody tr th:only-of-type {\n        vertical-align: middle;\n    }\n\n    .dataframe tbody tr th {\n        vertical-align: top;\n    }\n\n    .dataframe thead th {\n        text-align: right;\n    }\n</style>\n<table border=\"1\" class=\"dataframe\">\n  <thead>\n    <tr style=\"text-align: right;\">\n      <th></th>\n      <th>reference_InChIKey</th>\n      <th>reference_SMILES</th>\n      <th>reference_Formula</th>\n      <th>reference_reference_adduct</th>\n      <th>reference_mode</th>\n      <th>reference_Exact Mass</th>\n      <th>reference_Mix label</th>\n      <th>reference_RT [min]</th>\n      <th>reference_PRECURSORMZ</th>\n      <th>reference_Adduct</th>\n      <th>reference_Priority/Bonus</th>\n      <th>reference_adduct</th>\n      <th>reference_precursor_mz</th>\n      <th>RT (min)</th>\n      <th>Precursor m/z</th>\n      <th>Height</th>\n      <th>Isotope</th>\n      <th>MS1 isotopes</th>\n      <th>MSMS spectrum</th>\n      <th>recovery_percent(%)</th>\n    </tr>\n  </thead>\n  <tbody>\n    <tr>\n      <th>0</th>\n      <td>ZNBQWPMZFPFCKS-GOSISDBHSA-N</td>\n      <td>CC1=CC(=O)OC1CC=C(C)CCC=C(CCC=C(C)C)C(=O)O</td>\n      <td>C20H28O4</td>\n      <td>[M+H]+</td>\n      <td>+</td>\n      <td>332.198749</td>\n      <td>A_M25_posPFP_01</td>\n      <td>5.82</td>\n      <td>333.2060</td>\n      <td>[M+H]+</td>\n      <td>Priority</td>\n      <td>[M+H]+</td>\n      <td>333.206035</td>\n      <td>5.827558</td>\n      <td>333.2054</td>\n      <td>76873248.0</td>\n      <td>M + 0</td>\n      <td>333.09335:326036 333.18277:354689 333.18729:41...</td>\n      <td>55.05476:20929 67.05432:74555 67.79105:12292 6...</td>\n      <td>100.0</td>\n    </tr>\n    <tr>\n      <th>1</th>\n      <td>OFDBBWUQAHAKDG-PREJITOJSA-N</td>\n      <td>CCC(C)C=C(C)C=CC(=O)OC1C=CC2=CC(=O)C(CC2(C1C)C...</td>\n      <td>C25H32O6</td>\n      <td>[M+H]+</td>\n      <td>+</td>\n      <td>428.219877</td>\n      <td>A_M25_posPFP_01</td>\n      <td>5.95</td>\n      <td>429.2272</td>\n      <td>[M+H]+</td>\n      <td>Priority</td>\n      <td>[M+H]+</td>\n      <td>429.227165</td>\n      <td>5.954288</td>\n      <td>429.2266</td>\n      <td>14719142.0</td>\n      <td>M + 0</td>\n      <td>429.06912:29183 429.19177:96403 429.22659:1643...</td>\n      <td>68.35921:2126 81.06982:5006 95.88636:2433 98.6...</td>\n      <td>100.0</td>\n    </tr>\n    <tr>\n      <th>2</th>\n      <td>PCWPSOCJBMEHGK-BZKLREMRSA-N</td>\n      <td>COC1=C(C=CC(=C1)CC(CO)C(CC2=CC(=C(C=C2)OC3C(C(...</td>\n      <td>C26H36O11</td>\n      <td>[M+NH4]+</td>\n      <td>+</td>\n      <td>524.225751</td>\n      <td>A_M25_posPFP_01</td>\n      <td>1.83</td>\n      <td>542.2596</td>\n      <td>[M+NH4]+</td>\n      <td>Priority</td>\n      <td>[M+NH4]+</td>\n      <td>542.259585</td>\n      <td>1.830238</td>\n      <td>542.2593</td>\n      <td>9319463.0</td>\n      <td>M + 0</td>\n      <td>542.02716:15122 542.25934:9664572 543.26257:28...</td>\n      <td>53.03874:2645 56.15794:2305 66.04675:3360 69.0...</td>\n      <td>100.0</td>\n    </tr>\n    <tr>\n      <th>3</th>\n      <td>IESDYJUGZCFEQG-UHFFFAOYSA-N</td>\n      <td>CCCCCC(CC(CC(=O)OC(CCCCC)CC(CC(=O)OC(CCCCC)CC(...</td>\n      <td>C49H88O25</td>\n      <td>[M+NH4]+</td>\n      <td>+</td>\n      <td>1076.561440</td>\n      <td>A_M25_posPFP_01</td>\n      <td>5.57</td>\n      <td>1094.5953</td>\n      <td>[M+NH4]+</td>\n      <td>Priority</td>\n      <td>[M+NH4]+</td>\n      <td>1094.595291</td>\n      <td>5.579183</td>\n      <td>1094.5930</td>\n      <td>11165936.0</td>\n      <td>M + 0</td>\n      <td>1094.59338:12613862 1095.59656:7457614 1096.59...</td>\n      <td>81.06976:36853 83.04905:9646 91.7446:4565 93.0...</td>\n      <td>100.0</td>\n    </tr>\n    <tr>\n      <th>4</th>\n      <td>FBMYKMYQHCBIGU-UHFFFAOYSA-N</td>\n      <td>CC(C)(CC1=CNC2=CC=CC=C21)NCC(COC3=CC=CC=C3C#N)O</td>\n      <td>C22H25N3O2</td>\n      <td>[M+Na]+</td>\n      <td>+</td>\n      <td>363.194667</td>\n      <td>E_M41_posPFP_02</td>\n      <td>5.91</td>\n      <td>386.1839</td>\n      <td>[M+Na]+</td>\n      <td>Priority</td>\n      <td>[M+Na]+</td>\n      <td>386.183895</td>\n      <td>5.913771</td>\n      <td>386.1831</td>\n      <td>15280335.0</td>\n      <td>M + 0</td>\n      <td>386.18314:19353618 386.19788:218962 387.18658:...</td>\n      <td>70.06512:4728 74.06:28168 86.11314:2601 96.541...</td>\n      <td>100.0</td>\n    </tr>\n  </tbody>\n</table>\n</div>"
     },
     "execution_count": 5,
     "metadata": {},
     "output_type": "execute_result"
    }
   ],
   "source": [
    "matched_all.head()"
   ],
   "metadata": {
    "collapsed": false,
    "pycharm": {
     "name": "#%%\n"
    }
   }
  },
  {
   "cell_type": "code",
   "execution_count": 7,
   "outputs": [],
   "source": [
    "ms1 = []\n",
    "msms = []\n",
    "for index, row in matched_all.iterrows():\n",
    "    ms1.append(so.convert_msdial_to_string(row['MS1 isotopes']))\n",
    "    msms.append(so.convert_msdial_to_string(row['MSMS spectrum']))\n",
    "matched_all['ms1']=ms1\n",
    "matched_all['msms']=msms"
   ],
   "metadata": {
    "collapsed": false,
    "pycharm": {
     "name": "#%%\n"
    }
   }
  },
  {
   "cell_type": "code",
   "execution_count": 8,
   "outputs": [],
   "source": [
    "from toolsets.file_io import export_mgf_sirius"
   ],
   "metadata": {
    "collapsed": false,
    "pycharm": {
     "name": "#%%\n"
    }
   }
  },
  {
   "cell_type": "code",
   "execution_count": 9,
   "outputs": [],
   "source": [
    "mgf_dir = '/Users/fanzhoukong/Documents/GitHub/Libgen_data/casmi/mgfs'"
   ],
   "metadata": {
    "collapsed": false,
    "pycharm": {
     "name": "#%%\n"
    }
   }
  },
  {
   "cell_type": "code",
   "execution_count": 11,
   "outputs": [
    {
     "data": {
      "text/plain": "              reference_InChIKey  \\\n0    ZNBQWPMZFPFCKS-GOSISDBHSA-N   \n1    OFDBBWUQAHAKDG-PREJITOJSA-N   \n2    PCWPSOCJBMEHGK-BZKLREMRSA-N   \n3    IESDYJUGZCFEQG-UHFFFAOYSA-N   \n4    FBMYKMYQHCBIGU-UHFFFAOYSA-N   \n..                           ...   \n475  KMEIZYNJCUTZNU-STDVHTBBSA-N   \n476  MTICHQXHYUJVDV-FGZJIHLKSA-N   \n477  UIYWFOZZIZEEKJ-XVFCMESISA-N   \n478  IFBHRQDFSNCLOZ-IIRVCBMXSA-N   \n479  QFVOYBUQQBFCRH-VQSWZGCSSA-N   \n\n                                      reference_SMILES reference_Formula  \\\n0           CC1=CC(=O)OC1CC=C(C)CCC=C(CCC=C(C)C)C(=O)O          C20H28O4   \n1    CCC(C)C=C(C)C=CC(=O)OC1C=CC2=CC(=O)C(CC2(C1C)C...          C25H32O6   \n2    COC1=C(C=CC(=C1)CC(CO)C(CC2=CC(=C(C=C2)OC3C(C(...         C26H36O11   \n3    CCCCCC(CC(CC(=O)OC(CCCCC)CC(CC(=O)OC(CCCCC)CC(...         C49H88O25   \n4      CC(C)(CC1=CNC2=CC=CC=C21)NCC(COC3=CC=CC=C3C#N)O        C22H25N3O2   \n..                                                 ...               ...   \n475  CC1(CCC2(CCC3(C(=CCC4C3(CCC5C4(CCC(C5(C)C)OC6C...         C53H86O22   \n476  CC1C2C(C(C(O1)OC3C(C(COC3OC(=O)C45CCC(CC4C6=CC...        C64H100O31   \n477                 C1=CN(C(=O)NC1=O)C2C(C(C(O2)CO)O)F        C9H11FN2O5   \n478    C1=CC(=CC=C1[N+](=O)[O-])OC2C(C(C(C(O2)CO)O)O)O         C12H15NO8   \n479      CC12CCCC(C1CCC34C2CCC(C3)(C(=C)C4)O)(C)C(=O)O          C20H30O3   \n\n    reference_reference_adduct reference_mode  reference_Exact Mass  \\\n0                       [M+H]+              +            332.198749   \n1                       [M+H]+              +            428.219877   \n2                     [M+NH4]+              +            524.225751   \n3                     [M+NH4]+              +           1076.561440   \n4                      [M+Na]+              +            363.194667   \n..                         ...            ...                   ...   \n475                  [M+FA-H]-              -           1074.561046   \n476                  [M+FA-H]-              -           1364.624825   \n477                  [M+FA-H]-              -            246.065197   \n478                  [M+FA-H]-              -            301.079763   \n479                     [M-H]-              -            318.219483   \n\n    reference_Mix label  reference_RT [min]  reference_PRECURSORMZ  \\\n0       A_M25_posPFP_01                5.82               333.2060   \n1       A_M25_posPFP_01                5.95               429.2272   \n2       A_M25_posPFP_01                1.83               542.2596   \n3       A_M25_posPFP_01                5.57              1094.5953   \n4       E_M41_posPFP_02                5.91               386.1839   \n..                  ...                 ...                    ...   \n475     A_M12_negPFP_03                5.21              1119.5593   \n476     A_M12_negPFP_03                4.49              1409.6231   \n477     E_M28_negPFP_03                0.33               291.0634   \n478     E_M28_negPFP_03                0.94               346.0780   \n479     E_M28_negPFP_03                5.69               317.2122   \n\n    reference_Adduct  ... reference_precursor_mz  RT (min)  Precursor m/z  \\\n0             [M+H]+  ...             333.206035  5.827558       333.2054   \n1             [M+H]+  ...             429.227165  5.954288       429.2266   \n2           [M+NH4]+  ...             542.259585  1.830238       542.2593   \n3           [M+NH4]+  ...            1094.595291  5.579183      1094.5930   \n4            [M+Na]+  ...             386.183895  5.913771       386.1831   \n..               ...  ...                    ...       ...            ...   \n475        [M+FA-H]-  ...            1119.559275  5.206748      1119.5580   \n476        [M+FA-H]-  ...            1409.623057  4.492421      1409.6220   \n477       [M+FA-H]-   ...             291.063401  0.233251       291.0628   \n478       [M+FA-H]-   ...             346.077967  0.942491       346.0771   \n479           [M-H]-  ...             317.212219  5.688884       317.2116   \n\n          Height  Isotope                                       MS1 isotopes  \\\n0    76873248.00    M + 0  333.09335:326036 333.18277:354689 333.18729:41...   \n1    14719142.00    M + 0  429.06912:29183 429.19177:96403 429.22659:1643...   \n2     9319463.00    M + 0  542.02716:15122 542.25934:9664572 543.26257:28...   \n3    11165936.00    M + 0  1094.59338:12613862 1095.59656:7457614 1096.59...   \n4    15280335.00    M + 0  386.18314:19353618 386.19788:218962 387.18658:...   \n..           ...      ...                                                ...   \n475  13976276.00    M + 0  1119.48291:41779 1119.55811:15216021 1119.7005...   \n476   3463948.25    M + 0  1409.62195:3559828 1409.70032:20099 1410.12219...   \n477   9933765.00    M + 0  291.03287:48300 291.06284:10539934 291.1506:45...   \n478   9879360.00    M + 0  345.96417:30970 346.03836:11760 346.0527:76291...   \n479   3016388.00    M + 0  316.94745:72968 317.20322:39255 317.21158:3469...   \n\n                                         MSMS spectrum recovery_percent(%)  \\\n0    55.05476:20929 67.05432:74555 67.79105:12292 6...               100.0   \n1    68.35921:2126 81.06982:5006 95.88636:2433 98.6...               100.0   \n2    53.03874:2645 56.15794:2305 66.04675:3360 69.0...               100.0   \n3    81.06976:36853 83.04905:9646 91.7446:4565 93.0...               100.0   \n4    70.06512:4728 74.06:28168 86.11314:2601 96.541...               100.0   \n..                                                 ...                 ...   \n475  83.01244:48052 85.02271:8351 85.02812:238909 8...               100.0   \n476  202.35123:26153 202.37289:19077 205.05244:1135...               100.0   \n477  53.24164:2001 56.26165:8375 59.0126:15874 65.9...               100.0   \n478  52.69771:2559 53.98551:2539 58.60519:2669 59.0...               100.0   \n479  62.14127:2083 69.67023:1948 89.18879:2808 92.9...               100.0   \n\n                                                   ms1  \\\n0    333.09335\\t326036\\n333.18277\\t354689\\n333.1872...   \n1    429.06912\\t29183\\n429.19177\\t96403\\n429.22659\\...   \n2    542.02716\\t15122\\n542.25934\\t9664572\\n543.2625...   \n3    1094.59338\\t12613862\\n1095.59656\\t7457614\\n109...   \n4    386.18314\\t19353618\\n386.19788\\t218962\\n387.18...   \n..                                                 ...   \n475  1119.48291\\t41779\\n1119.55811\\t15216021\\n1119....   \n476  1409.62195\\t3559828\\n1409.70032\\t20099\\n1410.1...   \n477  291.03287\\t48300\\n291.06284\\t10539934\\n291.150...   \n478  345.96417\\t30970\\n346.03836\\t11760\\n346.0527\\t...   \n479  316.94745\\t72968\\n317.20322\\t39255\\n317.21158\\...   \n\n                                                  msms  \n0    55.05476\\t20929\\n67.05432\\t74555\\n67.79105\\t12...  \n1    68.35921\\t2126\\n81.06982\\t5006\\n95.88636\\t2433...  \n2    53.03874\\t2645\\n56.15794\\t2305\\n66.04675\\t3360...  \n3    81.06976\\t36853\\n83.04905\\t9646\\n91.7446\\t4565...  \n4    70.06512\\t4728\\n74.06\\t28168\\n86.11314\\t2601\\n...  \n..                                                 ...  \n475  83.01244\\t48052\\n85.02271\\t8351\\n85.02812\\t238...  \n476  202.35123\\t26153\\n202.37289\\t19077\\n205.05244\\...  \n477  53.24164\\t2001\\n56.26165\\t8375\\n59.0126\\t15874...  \n478  52.69771\\t2559\\n53.98551\\t2539\\n58.60519\\t2669...  \n479  62.14127\\t2083\\n69.67023\\t1948\\n89.18879\\t2808...  \n\n[480 rows x 22 columns]",
      "text/html": "<div>\n<style scoped>\n    .dataframe tbody tr th:only-of-type {\n        vertical-align: middle;\n    }\n\n    .dataframe tbody tr th {\n        vertical-align: top;\n    }\n\n    .dataframe thead th {\n        text-align: right;\n    }\n</style>\n<table border=\"1\" class=\"dataframe\">\n  <thead>\n    <tr style=\"text-align: right;\">\n      <th></th>\n      <th>reference_InChIKey</th>\n      <th>reference_SMILES</th>\n      <th>reference_Formula</th>\n      <th>reference_reference_adduct</th>\n      <th>reference_mode</th>\n      <th>reference_Exact Mass</th>\n      <th>reference_Mix label</th>\n      <th>reference_RT [min]</th>\n      <th>reference_PRECURSORMZ</th>\n      <th>reference_Adduct</th>\n      <th>...</th>\n      <th>reference_precursor_mz</th>\n      <th>RT (min)</th>\n      <th>Precursor m/z</th>\n      <th>Height</th>\n      <th>Isotope</th>\n      <th>MS1 isotopes</th>\n      <th>MSMS spectrum</th>\n      <th>recovery_percent(%)</th>\n      <th>ms1</th>\n      <th>msms</th>\n    </tr>\n  </thead>\n  <tbody>\n    <tr>\n      <th>0</th>\n      <td>ZNBQWPMZFPFCKS-GOSISDBHSA-N</td>\n      <td>CC1=CC(=O)OC1CC=C(C)CCC=C(CCC=C(C)C)C(=O)O</td>\n      <td>C20H28O4</td>\n      <td>[M+H]+</td>\n      <td>+</td>\n      <td>332.198749</td>\n      <td>A_M25_posPFP_01</td>\n      <td>5.82</td>\n      <td>333.2060</td>\n      <td>[M+H]+</td>\n      <td>...</td>\n      <td>333.206035</td>\n      <td>5.827558</td>\n      <td>333.2054</td>\n      <td>76873248.00</td>\n      <td>M + 0</td>\n      <td>333.09335:326036 333.18277:354689 333.18729:41...</td>\n      <td>55.05476:20929 67.05432:74555 67.79105:12292 6...</td>\n      <td>100.0</td>\n      <td>333.09335\\t326036\\n333.18277\\t354689\\n333.1872...</td>\n      <td>55.05476\\t20929\\n67.05432\\t74555\\n67.79105\\t12...</td>\n    </tr>\n    <tr>\n      <th>1</th>\n      <td>OFDBBWUQAHAKDG-PREJITOJSA-N</td>\n      <td>CCC(C)C=C(C)C=CC(=O)OC1C=CC2=CC(=O)C(CC2(C1C)C...</td>\n      <td>C25H32O6</td>\n      <td>[M+H]+</td>\n      <td>+</td>\n      <td>428.219877</td>\n      <td>A_M25_posPFP_01</td>\n      <td>5.95</td>\n      <td>429.2272</td>\n      <td>[M+H]+</td>\n      <td>...</td>\n      <td>429.227165</td>\n      <td>5.954288</td>\n      <td>429.2266</td>\n      <td>14719142.00</td>\n      <td>M + 0</td>\n      <td>429.06912:29183 429.19177:96403 429.22659:1643...</td>\n      <td>68.35921:2126 81.06982:5006 95.88636:2433 98.6...</td>\n      <td>100.0</td>\n      <td>429.06912\\t29183\\n429.19177\\t96403\\n429.22659\\...</td>\n      <td>68.35921\\t2126\\n81.06982\\t5006\\n95.88636\\t2433...</td>\n    </tr>\n    <tr>\n      <th>2</th>\n      <td>PCWPSOCJBMEHGK-BZKLREMRSA-N</td>\n      <td>COC1=C(C=CC(=C1)CC(CO)C(CC2=CC(=C(C=C2)OC3C(C(...</td>\n      <td>C26H36O11</td>\n      <td>[M+NH4]+</td>\n      <td>+</td>\n      <td>524.225751</td>\n      <td>A_M25_posPFP_01</td>\n      <td>1.83</td>\n      <td>542.2596</td>\n      <td>[M+NH4]+</td>\n      <td>...</td>\n      <td>542.259585</td>\n      <td>1.830238</td>\n      <td>542.2593</td>\n      <td>9319463.00</td>\n      <td>M + 0</td>\n      <td>542.02716:15122 542.25934:9664572 543.26257:28...</td>\n      <td>53.03874:2645 56.15794:2305 66.04675:3360 69.0...</td>\n      <td>100.0</td>\n      <td>542.02716\\t15122\\n542.25934\\t9664572\\n543.2625...</td>\n      <td>53.03874\\t2645\\n56.15794\\t2305\\n66.04675\\t3360...</td>\n    </tr>\n    <tr>\n      <th>3</th>\n      <td>IESDYJUGZCFEQG-UHFFFAOYSA-N</td>\n      <td>CCCCCC(CC(CC(=O)OC(CCCCC)CC(CC(=O)OC(CCCCC)CC(...</td>\n      <td>C49H88O25</td>\n      <td>[M+NH4]+</td>\n      <td>+</td>\n      <td>1076.561440</td>\n      <td>A_M25_posPFP_01</td>\n      <td>5.57</td>\n      <td>1094.5953</td>\n      <td>[M+NH4]+</td>\n      <td>...</td>\n      <td>1094.595291</td>\n      <td>5.579183</td>\n      <td>1094.5930</td>\n      <td>11165936.00</td>\n      <td>M + 0</td>\n      <td>1094.59338:12613862 1095.59656:7457614 1096.59...</td>\n      <td>81.06976:36853 83.04905:9646 91.7446:4565 93.0...</td>\n      <td>100.0</td>\n      <td>1094.59338\\t12613862\\n1095.59656\\t7457614\\n109...</td>\n      <td>81.06976\\t36853\\n83.04905\\t9646\\n91.7446\\t4565...</td>\n    </tr>\n    <tr>\n      <th>4</th>\n      <td>FBMYKMYQHCBIGU-UHFFFAOYSA-N</td>\n      <td>CC(C)(CC1=CNC2=CC=CC=C21)NCC(COC3=CC=CC=C3C#N)O</td>\n      <td>C22H25N3O2</td>\n      <td>[M+Na]+</td>\n      <td>+</td>\n      <td>363.194667</td>\n      <td>E_M41_posPFP_02</td>\n      <td>5.91</td>\n      <td>386.1839</td>\n      <td>[M+Na]+</td>\n      <td>...</td>\n      <td>386.183895</td>\n      <td>5.913771</td>\n      <td>386.1831</td>\n      <td>15280335.00</td>\n      <td>M + 0</td>\n      <td>386.18314:19353618 386.19788:218962 387.18658:...</td>\n      <td>70.06512:4728 74.06:28168 86.11314:2601 96.541...</td>\n      <td>100.0</td>\n      <td>386.18314\\t19353618\\n386.19788\\t218962\\n387.18...</td>\n      <td>70.06512\\t4728\\n74.06\\t28168\\n86.11314\\t2601\\n...</td>\n    </tr>\n    <tr>\n      <th>...</th>\n      <td>...</td>\n      <td>...</td>\n      <td>...</td>\n      <td>...</td>\n      <td>...</td>\n      <td>...</td>\n      <td>...</td>\n      <td>...</td>\n      <td>...</td>\n      <td>...</td>\n      <td>...</td>\n      <td>...</td>\n      <td>...</td>\n      <td>...</td>\n      <td>...</td>\n      <td>...</td>\n      <td>...</td>\n      <td>...</td>\n      <td>...</td>\n      <td>...</td>\n      <td>...</td>\n    </tr>\n    <tr>\n      <th>475</th>\n      <td>KMEIZYNJCUTZNU-STDVHTBBSA-N</td>\n      <td>CC1(CCC2(CCC3(C(=CCC4C3(CCC5C4(CCC(C5(C)C)OC6C...</td>\n      <td>C53H86O22</td>\n      <td>[M+FA-H]-</td>\n      <td>-</td>\n      <td>1074.561046</td>\n      <td>A_M12_negPFP_03</td>\n      <td>5.21</td>\n      <td>1119.5593</td>\n      <td>[M+FA-H]-</td>\n      <td>...</td>\n      <td>1119.559275</td>\n      <td>5.206748</td>\n      <td>1119.5580</td>\n      <td>13976276.00</td>\n      <td>M + 0</td>\n      <td>1119.48291:41779 1119.55811:15216021 1119.7005...</td>\n      <td>83.01244:48052 85.02271:8351 85.02812:238909 8...</td>\n      <td>100.0</td>\n      <td>1119.48291\\t41779\\n1119.55811\\t15216021\\n1119....</td>\n      <td>83.01244\\t48052\\n85.02271\\t8351\\n85.02812\\t238...</td>\n    </tr>\n    <tr>\n      <th>476</th>\n      <td>MTICHQXHYUJVDV-FGZJIHLKSA-N</td>\n      <td>CC1C2C(C(C(O1)OC3C(C(COC3OC(=O)C45CCC(CC4C6=CC...</td>\n      <td>C64H100O31</td>\n      <td>[M+FA-H]-</td>\n      <td>-</td>\n      <td>1364.624825</td>\n      <td>A_M12_negPFP_03</td>\n      <td>4.49</td>\n      <td>1409.6231</td>\n      <td>[M+FA-H]-</td>\n      <td>...</td>\n      <td>1409.623057</td>\n      <td>4.492421</td>\n      <td>1409.6220</td>\n      <td>3463948.25</td>\n      <td>M + 0</td>\n      <td>1409.62195:3559828 1409.70032:20099 1410.12219...</td>\n      <td>202.35123:26153 202.37289:19077 205.05244:1135...</td>\n      <td>100.0</td>\n      <td>1409.62195\\t3559828\\n1409.70032\\t20099\\n1410.1...</td>\n      <td>202.35123\\t26153\\n202.37289\\t19077\\n205.05244\\...</td>\n    </tr>\n    <tr>\n      <th>477</th>\n      <td>UIYWFOZZIZEEKJ-XVFCMESISA-N</td>\n      <td>C1=CN(C(=O)NC1=O)C2C(C(C(O2)CO)O)F</td>\n      <td>C9H11FN2O5</td>\n      <td>[M+FA-H]-</td>\n      <td>-</td>\n      <td>246.065197</td>\n      <td>E_M28_negPFP_03</td>\n      <td>0.33</td>\n      <td>291.0634</td>\n      <td>[M+FA-H]-</td>\n      <td>...</td>\n      <td>291.063401</td>\n      <td>0.233251</td>\n      <td>291.0628</td>\n      <td>9933765.00</td>\n      <td>M + 0</td>\n      <td>291.03287:48300 291.06284:10539934 291.1506:45...</td>\n      <td>53.24164:2001 56.26165:8375 59.0126:15874 65.9...</td>\n      <td>100.0</td>\n      <td>291.03287\\t48300\\n291.06284\\t10539934\\n291.150...</td>\n      <td>53.24164\\t2001\\n56.26165\\t8375\\n59.0126\\t15874...</td>\n    </tr>\n    <tr>\n      <th>478</th>\n      <td>IFBHRQDFSNCLOZ-IIRVCBMXSA-N</td>\n      <td>C1=CC(=CC=C1[N+](=O)[O-])OC2C(C(C(C(O2)CO)O)O)O</td>\n      <td>C12H15NO8</td>\n      <td>[M+FA-H]-</td>\n      <td>-</td>\n      <td>301.079763</td>\n      <td>E_M28_negPFP_03</td>\n      <td>0.94</td>\n      <td>346.0780</td>\n      <td>[M+FA-H]-</td>\n      <td>...</td>\n      <td>346.077967</td>\n      <td>0.942491</td>\n      <td>346.0771</td>\n      <td>9879360.00</td>\n      <td>M + 0</td>\n      <td>345.96417:30970 346.03836:11760 346.0527:76291...</td>\n      <td>52.69771:2559 53.98551:2539 58.60519:2669 59.0...</td>\n      <td>100.0</td>\n      <td>345.96417\\t30970\\n346.03836\\t11760\\n346.0527\\t...</td>\n      <td>52.69771\\t2559\\n53.98551\\t2539\\n58.60519\\t2669...</td>\n    </tr>\n    <tr>\n      <th>479</th>\n      <td>QFVOYBUQQBFCRH-VQSWZGCSSA-N</td>\n      <td>CC12CCCC(C1CCC34C2CCC(C3)(C(=C)C4)O)(C)C(=O)O</td>\n      <td>C20H30O3</td>\n      <td>[M-H]-</td>\n      <td>-</td>\n      <td>318.219483</td>\n      <td>E_M28_negPFP_03</td>\n      <td>5.69</td>\n      <td>317.2122</td>\n      <td>[M-H]-</td>\n      <td>...</td>\n      <td>317.212219</td>\n      <td>5.688884</td>\n      <td>317.2116</td>\n      <td>3016388.00</td>\n      <td>M + 0</td>\n      <td>316.94745:72968 317.20322:39255 317.21158:3469...</td>\n      <td>62.14127:2083 69.67023:1948 89.18879:2808 92.9...</td>\n      <td>100.0</td>\n      <td>316.94745\\t72968\\n317.20322\\t39255\\n317.21158\\...</td>\n      <td>62.14127\\t2083\\n69.67023\\t1948\\n89.18879\\t2808...</td>\n    </tr>\n  </tbody>\n</table>\n<p>480 rows × 22 columns</p>\n</div>"
     },
     "execution_count": 11,
     "metadata": {},
     "output_type": "execute_result"
    }
   ],
   "source": [
    "matched_all"
   ],
   "metadata": {
    "collapsed": false,
    "pycharm": {
     "name": "#%%\n"
    }
   }
  },
  {
   "cell_type": "code",
   "execution_count": 13,
   "outputs": [
    {
     "name": "stderr",
     "output_type": "stream",
     "text": [
      "100%|██████████| 480/480 [00:00<00:00, 7328.67it/s]\n"
     ]
    }
   ],
   "source": [
    "for index, row in tqdm(matched_all.iterrows(), total = len(matched_all)):\n",
    "    export_mgf_sirius(row, mgf_dir)"
   ],
   "metadata": {
    "collapsed": false,
    "pycharm": {
     "name": "#%%\n"
    }
   }
  },
  {
   "cell_type": "markdown",
   "source": [
    "# Below are 7 goledn rule part"
   ],
   "metadata": {
    "collapsed": false,
    "pycharm": {
     "name": "#%% md\n"
    }
   }
  },
  {
   "cell_type": "code",
   "execution_count": 213,
   "outputs": [
    {
     "name": "stderr",
     "output_type": "stream",
     "text": [
      "100%|██████████| 350/350 [2:18:38<00:00, 23.77s/it]  \n"
     ]
    }
   ],
   "source": [
    "n_total = []\n",
    "n_viable = []\n",
    "for i in tqdm(range(150, 500)):\n",
    "    formulas_all= mass_to_formula(i, 0.005)\n",
    "    formula_viable = [x for x in formulas_all if check_chemistry(x)]\n",
    "    n_total.append(len(formulas_all))\n",
    "    n_viable.append(len(formula_viable))\n",
    "    # break"
   ],
   "metadata": {
    "collapsed": false,
    "pycharm": {
     "name": "#%%\n"
    }
   }
  },
  {
   "cell_type": "code",
   "execution_count": 217,
   "outputs": [
    {
     "data": {
      "text/plain": "18288"
     },
     "execution_count": 217,
     "metadata": {},
     "output_type": "execute_result"
    }
   ],
   "source": [
    "np.max(n_viable)"
   ],
   "metadata": {
    "collapsed": false,
    "pycharm": {
     "name": "#%%\n"
    }
   }
  },
  {
   "cell_type": "code",
   "execution_count": 216,
   "outputs": [
    {
     "data": {
      "text/plain": "<matplotlib.legend.Legend at 0x28a0049a0>"
     },
     "execution_count": 216,
     "metadata": {},
     "output_type": "execute_result"
    },
    {
     "data": {
      "text/plain": "<Figure size 1200x900 with 1 Axes>",
      "image/png": "[encoded data removed]"
     },
     "metadata": {},
     "output_type": "display_data"
    }
   ],
   "source": [
    "fig = plt.figure(figsize = (12, 9))#43\n",
    "ax = fig.add_subplot()\n",
    "#\n",
    "sns.scatterplot(x = range(150, 500),y = n_total, label = 'all')\n",
    "sns.scatterplot(x = range(150, 500),y = n_viable, label = 'viable')\n",
    "# sns.lineplot(x = range(1,14), y = ns_means)\n",
    "# sns.histplot(library_bad_quality['normalized_entropy'], label = 'low_quality')\n",
    "# plt.vlines(x = 0.8, ymin=0, ymax=1.8, color = 'red')\n",
    "plt.grid(False)\n",
    "plt.legend()"
   ],
   "metadata": {
    "collapsed": false,
    "pycharm": {
     "name": "#%%\n"
    }
   }
  },
  {
   "cell_type": "code",
   "execution_count": null,
   "outputs": [],
   "source": [],
   "metadata": {
    "collapsed": false,
    "pycharm": {
     "name": "#%%\n"
    }
   }
  },
  {
   "cell_type": "code",
   "execution_count": 209,
   "outputs": [],
   "source": [
    "formula_viable = [x for x in formulas_all if check_chemistry(x)==True]"
   ],
   "metadata": {
    "collapsed": false,
    "pycharm": {
     "name": "#%%\n"
    }
   }
  }
 ],
 "metadata": {
  "kernelspec": {
   "name": "alphapept_env",
   "language": "python",
   "display_name": "alphapept_env"
  },
  "language_info": {
   "codemirror_mode": {
    "name": "ipython",
    "version": 2
   },
   "file_extension": ".py",
   "mimetype": "text/x-python",
   "name": "python",
   "nbconvert_exporter": "python",
   "pygments_lexer": "ipython2",
   "version": "2.7.6"
  }
 },
 "nbformat": 4,
 "nbformat_minor": 0
}