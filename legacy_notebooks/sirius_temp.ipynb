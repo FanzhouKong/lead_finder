{
 "cells": [
  {
   "cell_type": "code",
   "execution_count": 93,
   "metadata": {
    "collapsed": true,
    "ExecuteTime": {
     "end_time": "2023-07-26T20:48:13.352635Z",
     "start_time": "2023-07-26T20:48:13.296123Z"
    },
    "pycharm": {
     "name": "#%%\n"
    }
   },
   "outputs": [
    {
     "name": "stdout",
     "output_type": "stream",
     "text": [
      "The autoreload extension is already loaded. To reload it, use:\n",
      "  %reload_ext autoreload\n"
     ]
    }
   ],
   "source": [
    "%load_ext autoreload\n",
    "%autoreload 2\n",
    "import os\n",
    "import pandas as pd\n",
    "import numpy as np\n",
    "from tqdm import tqdm\n",
    "from toolsets.file_io import readin_peak_list\n",
    "import toolsets.spectra_operations as so\n",
    "from toolsets.search import string_search, quick_search_values"
   ]
  },
  {
   "cell_type": "code",
   "execution_count": 106,
   "outputs": [
    {
     "data": {
      "text/plain": "1992821.9375"
     },
     "execution_count": 106,
     "metadata": {},
     "output_type": "execute_result"
    }
   ],
   "source": [
    "filtered_dataset['Height'].quantile(0.75)"
   ],
   "metadata": {
    "collapsed": false,
    "ExecuteTime": {
     "end_time": "2023-07-26T21:20:49.797507Z",
     "start_time": "2023-07-26T21:20:49.762294Z"
    },
    "pycharm": {
     "name": "#%%\n"
    }
   }
  },
  {
   "cell_type": "code",
   "execution_count": 107,
   "outputs": [],
   "source": [
    "filtered_dataset_75 = filtered_dataset[filtered_dataset['Height']>filtered_dataset['Height'].quantile(0.75)]"
   ],
   "metadata": {
    "collapsed": false,
    "ExecuteTime": {
     "end_time": "2023-07-26T21:20:53.565193Z",
     "start_time": "2023-07-26T21:20:53.534647Z"
    },
    "pycharm": {
     "name": "#%%\n"
    }
   }
  },
  {
   "cell_type": "code",
   "execution_count": 108,
   "outputs": [],
   "source": [
    "filtered_dataset_75.sort_values(by = 'Precursor m/z', ascending=True, inplace=True, ignore_index=True)"
   ],
   "metadata": {
    "collapsed": false,
    "ExecuteTime": {
     "end_time": "2023-07-26T21:20:56.082633Z",
     "start_time": "2023-07-26T21:20:56.052837Z"
    },
    "pycharm": {
     "name": "#%%\n"
    }
   }
  },
  {
   "cell_type": "code",
   "execution_count": 110,
   "outputs": [],
   "source": [
    "filtered_dataset_75.to_csv('/Volumes/Natural Product Chemistry/Working Space/Fanzhou/20230713_2564_AX_P4_Active/sirius_compitable/all_20230726.csv', index=False)"
   ],
   "metadata": {
    "collapsed": false,
    "ExecuteTime": {
     "end_time": "2023-07-26T21:21:04.340160Z",
     "start_time": "2023-07-26T21:21:03.983925Z"
    },
    "pycharm": {
     "name": "#%%\n"
    }
   }
  },
  {
   "cell_type": "code",
   "execution_count": 111,
   "outputs": [],
   "source": [
    "from toolsets.file_io import export_mgf_sirius"
   ],
   "metadata": {
    "collapsed": false,
    "ExecuteTime": {
     "end_time": "2023-07-26T21:21:05.290060Z",
     "start_time": "2023-07-26T21:21:05.251307Z"
    },
    "pycharm": {
     "name": "#%%\n"
    }
   }
  },
  {
   "cell_type": "code",
   "execution_count": 112,
   "outputs": [
    {
     "name": "stderr",
     "output_type": "stream",
     "text": [
      "100%|██████████| 430/430 [01:01<00:00,  6.94it/s]\n"
     ]
    }
   ],
   "source": [
    "for index, row in tqdm(filtered_dataset_75.iterrows(), total = len(filtered_dataset_75)):\n",
    "    export_mgf_sirius(row, '/Volumes/Natural Product Chemistry/Working Space/Fanzhou/20230713_2564_AX_P4_Active/sirius_compitable_updated')"
   ],
   "metadata": {
    "collapsed": false,
    "ExecuteTime": {
     "end_time": "2023-07-26T21:22:11.102196Z",
     "start_time": "2023-07-26T21:21:09.112589Z"
    },
    "pycharm": {
     "name": "#%%\n"
    }
   }
  },
  {
   "cell_type": "code",
   "execution_count": 40,
   "outputs": [],
   "source": [
    "import toolsets.spectra_operations as so"
   ],
   "metadata": {
    "collapsed": false,
    "ExecuteTime": {
     "end_time": "2023-07-22T01:32:33.067139Z",
     "start_time": "2023-07-22T01:32:33.028175Z"
    },
    "pycharm": {
     "name": "#%%\n"
    }
   }
  }
 ],
 "metadata": {
  "kernelspec": {
   "display_name": "Python 3",
   "language": "python",
   "name": "python3"
  },
  "language_info": {
   "codemirror_mode": {
    "name": "ipython",
    "version": 2
   },
   "file_extension": ".py",
   "mimetype": "text/x-python",
   "name": "python",
   "nbconvert_exporter": "python",
   "pygments_lexer": "ipython2",
   "version": "2.7.6"
  }
 },
 "nbformat": 4,
 "nbformat_minor": 0
}