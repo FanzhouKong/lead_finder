{
 "cells": [
  {
   "cell_type": "code",
   "execution_count": 93,
   "metadata": {
    "collapsed": true,
    "ExecuteTime": {
     "end_time": "2023-07-26T20:48:13.352635Z",
     "start_time": "2023-07-26T20:48:13.296123Z"
    }
   },
   "outputs": [
    {
     "name": "stdout",
     "output_type": "stream",
     "text": [
      "The autoreload extension is already loaded. To reload it, use:\n",
      "  %reload_ext autoreload\n"
     ]
    }
   ],
   "source": [
    "%load_ext autoreload\n",
    "%autoreload 2\n",
    "import os\n",
    "import pandas as pd\n",
    "import numpy as np\n",
    "from tqdm import tqdm\n",
    "from toolsets.file_io import readin_peak_list\n",
    "import toolsets.spectra_operations as so\n",
    "from toolsets.search import string_search, quick_search_values"
   ]
  },
  {
   "cell_type": "code",
   "execution_count": 105,
   "outputs": [
    {
     "name": "stderr",
     "output_type": "stream",
     "text": [
      "100%|██████████| 14/14 [00:11<00:00,  1.20it/s]\n"
     ]
    }
   ],
   "source": [
    "peak_list_dir = '/Volumes/Natural Product Chemistry/Working Space/Fanzhou/20230713_2564_AX_P4_Active/peak_list'\n",
    "useful_columns = ['RT (min)', 'Precursor m/z', 'Height', 'MS1 isotopes', 'MSMS spectrum']\n",
    "filtered_dataset = pd.DataFrame()\n",
    "reference_file = []\n",
    "for root, dirs, files in os.walk(peak_list_dir):\n",
    "\n",
    "    for file in tqdm(files):\n",
    "        filename = file.split('.')[0]\n",
    "        features_temp = readin_peak_list(os.path.join(peak_list_dir, file))\n",
    "        features_temp = features_temp[~features_temp['MSMS spectrum'].isnull()]\n",
    "        features_temp =string_search(features_temp, 'Isotope', 'M + 0')\n",
    "        features_temp = quick_search_values(features_temp, 'RT (min)', 4, 6, ifsorted=False)\n",
    "        features_temp = quick_search_values(features_temp, 'Precursor m/z', 250, 600, ifsorted=False)\n",
    "        features_temp['reference_file']=filename\n",
    "        filtered_dataset = pd.concat([filtered_dataset, features_temp], ignore_index=True)\n",
    "        # print(file)\n",
    "        # if file.endswith('.txt') and file != '2564_AX_P4_X21-23_X5.txt':\n",
    "\n",
    "\n",
    "            # break\n",
    "            # feature_subsets = quick_search_values(features_temp,'rt', value_start=4, value_end=6, ifsorted=False)\n",
    "            # feature_4_6 = pd.concat([feature_4_6, feature_subsets], ignore_index=True)"
   ],
   "metadata": {
    "collapsed": false,
    "ExecuteTime": {
     "end_time": "2023-07-26T21:20:46.211471Z",
     "start_time": "2023-07-26T21:20:34.079342Z"
    }
   }
  },
  {
   "cell_type": "code",
   "execution_count": 106,
   "outputs": [
    {
     "data": {
      "text/plain": "1992821.9375"
     },
     "execution_count": 106,
     "metadata": {},
     "output_type": "execute_result"
    }
   ],
   "source": [
    "filtered_dataset['Height'].quantile(0.75)"
   ],
   "metadata": {
    "collapsed": false,
    "ExecuteTime": {
     "end_time": "2023-07-26T21:20:49.797507Z",
     "start_time": "2023-07-26T21:20:49.762294Z"
    }
   }
  },
  {
   "cell_type": "code",
   "execution_count": 107,
   "outputs": [],
   "source": [
    "filtered_dataset_75 = filtered_dataset[filtered_dataset['Height']>filtered_dataset['Height'].quantile(0.75)]"
   ],
   "metadata": {
    "collapsed": false,
    "ExecuteTime": {
     "end_time": "2023-07-26T21:20:53.565193Z",
     "start_time": "2023-07-26T21:20:53.534647Z"
    }
   }
  },
  {
   "cell_type": "code",
   "execution_count": 108,
   "outputs": [],
   "source": [
    "filtered_dataset_75.sort_values(by = 'Precursor m/z', ascending=True, inplace=True, ignore_index=True)"
   ],
   "metadata": {
    "collapsed": false,
    "ExecuteTime": {
     "end_time": "2023-07-26T21:20:56.082633Z",
     "start_time": "2023-07-26T21:20:56.052837Z"
    }
   }
  },
  {
   "cell_type": "code",
   "execution_count": 109,
   "outputs": [],
   "source": [
    "ms1 = []\n",
    "msms = []\n",
    "for index, row in filtered_dataset_75.iterrows():\n",
    "    ms1_raw = so.convert_msdial_to_string(row['MS1 isotopes'])\n",
    "    ms1.append(so.remove_zero_ions(ms1_raw))\n",
    "    # ms1.append(so.convert_msdial_to_string(row['MS1 isotopes']))\n",
    "    msms.append((so.convert_msdial_to_string(row['MSMS spectrum'])))\n",
    "filtered_dataset_75['ms1']=ms1\n",
    "\n",
    "filtered_dataset_75['msms']=msms"
   ],
   "metadata": {
    "collapsed": false,
    "ExecuteTime": {
     "end_time": "2023-07-26T21:20:57.516138Z",
     "start_time": "2023-07-26T21:20:57.460104Z"
    }
   }
  },
  {
   "cell_type": "code",
   "execution_count": 110,
   "outputs": [],
   "source": [
    "filtered_dataset_75.to_csv('/Volumes/Natural Product Chemistry/Working Space/Fanzhou/20230713_2564_AX_P4_Active/sirius_compitable/all_20230726.csv', index=False)"
   ],
   "metadata": {
    "collapsed": false,
    "ExecuteTime": {
     "end_time": "2023-07-26T21:21:04.340160Z",
     "start_time": "2023-07-26T21:21:03.983925Z"
    }
   }
  },
  {
   "cell_type": "code",
   "execution_count": 111,
   "outputs": [],
   "source": [
    "from toolsets.file_io import export_mgf_sirius"
   ],
   "metadata": {
    "collapsed": false,
    "ExecuteTime": {
     "end_time": "2023-07-26T21:21:05.290060Z",
     "start_time": "2023-07-26T21:21:05.251307Z"
    }
   }
  },
  {
   "cell_type": "code",
   "execution_count": 112,
   "outputs": [
    {
     "name": "stderr",
     "output_type": "stream",
     "text": [
      "100%|██████████| 430/430 [01:01<00:00,  6.94it/s]\n"
     ]
    }
   ],
   "source": [
    "for index, row in tqdm(filtered_dataset_75.iterrows(), total = len(filtered_dataset_75)):\n",
    "    export_mgf_sirius(row, '/Volumes/Natural Product Chemistry/Working Space/Fanzhou/20230713_2564_AX_P4_Active/sirius_compitable_updated')"
   ],
   "metadata": {
    "collapsed": false,
    "ExecuteTime": {
     "end_time": "2023-07-26T21:22:11.102196Z",
     "start_time": "2023-07-26T21:21:09.112589Z"
    }
   }
  },
  {
   "cell_type": "code",
   "execution_count": 40,
   "outputs": [],
   "source": [
    "import toolsets.spectra_operations as so"
   ],
   "metadata": {
    "collapsed": false,
    "ExecuteTime": {
     "end_time": "2023-07-22T01:32:33.067139Z",
     "start_time": "2023-07-22T01:32:33.028175Z"
    }
   }
  }
 ],
 "metadata": {
  "kernelspec": {
   "display_name": "Python 3",
   "language": "python",
   "name": "python3"
  },
  "language_info": {
   "codemirror_mode": {
    "name": "ipython",
    "version": 2
   },
   "file_extension": ".py",
   "mimetype": "text/x-python",
   "name": "python",
   "nbconvert_exporter": "python",
   "pygments_lexer": "ipython2",
   "version": "2.7.6"
  }
 },
 "nbformat": 4,
 "nbformat_minor": 0
}
