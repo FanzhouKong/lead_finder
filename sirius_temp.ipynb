{
 "cells": [
  {
   "cell_type": "code",
   "execution_count": 19,
   "metadata": {
    "collapsed": true,
    "ExecuteTime": {
     "end_time": "2023-07-20T18:11:19.740195Z",
     "start_time": "2023-07-20T18:11:19.688130Z"
    }
   },
   "outputs": [
    {
     "name": "stdout",
     "output_type": "stream",
     "text": [
      "The autoreload extension is already loaded. To reload it, use:\n",
      "  %reload_ext autoreload\n"
     ]
    }
   ],
   "source": [
    "%load_ext autoreload\n",
    "%autoreload 2\n",
    "import numpy as np"
   ]
  },
  {
   "cell_type": "code",
   "execution_count": 17,
   "outputs": [],
   "source": [
    "from PyAstronomy import pyasl"
   ],
   "metadata": {
    "collapsed": false,
    "ExecuteTime": {
     "end_time": "2023-07-20T18:10:32.616990Z",
     "start_time": "2023-07-20T18:10:32.470873Z"
    }
   }
  },
  {
   "cell_type": "code",
   "execution_count": 65,
   "outputs": [],
   "source": [
    "x = np.array([1,1,1,2,1,1,1,1,100])"
   ],
   "metadata": {
    "collapsed": false,
    "ExecuteTime": {
     "end_time": "2023-07-20T18:19:56.598271Z",
     "start_time": "2023-07-20T18:19:56.550871Z"
    }
   }
  },
  {
   "cell_type": "code",
   "execution_count": 66,
   "outputs": [],
   "source": [
    "r = pyasl.generalizedESD(x, 4, 0.1, fullOutput=True)\n"
   ],
   "metadata": {
    "collapsed": false,
    "ExecuteTime": {
     "end_time": "2023-07-20T18:19:57.795847Z",
     "start_time": "2023-07-20T18:19:57.745959Z"
    }
   }
  },
  {
   "cell_type": "code",
   "execution_count": 73,
   "outputs": [
    {
     "data": {
      "text/plain": "[8, 3]"
     },
     "execution_count": 73,
     "metadata": {},
     "output_type": "execute_result"
    }
   ],
   "source": [
    "r[1]"
   ],
   "metadata": {
    "collapsed": false,
    "ExecuteTime": {
     "end_time": "2023-07-20T18:20:20.586060Z",
     "start_time": "2023-07-20T18:20:20.554831Z"
    }
   }
  },
  {
   "cell_type": "code",
   "execution_count": 62,
   "outputs": [],
   "source": [
    "tt= [135.236986,\t124.577678,\t105.97822,\t87.2250469]"
   ],
   "metadata": {
    "collapsed": false,
    "ExecuteTime": {
     "end_time": "2023-07-20T18:19:40.182299Z",
     "start_time": "2023-07-20T18:19:40.140324Z"
    }
   }
  },
  {
   "cell_type": "code",
   "execution_count": 63,
   "outputs": [],
   "source": [
    "for i in r[1]:\n",
    "    tt.pop(i)"
   ],
   "metadata": {
    "collapsed": false,
    "ExecuteTime": {
     "end_time": "2023-07-20T18:19:41.046971Z",
     "start_time": "2023-07-20T18:19:41.004991Z"
    }
   }
  },
  {
   "cell_type": "code",
   "execution_count": 64,
   "outputs": [
    {
     "data": {
      "text/plain": "[135.236986, 124.577678]"
     },
     "execution_count": 64,
     "metadata": {},
     "output_type": "execute_result"
    }
   ],
   "source": [
    "tt"
   ],
   "metadata": {
    "collapsed": false,
    "ExecuteTime": {
     "end_time": "2023-07-20T18:19:42.186851Z",
     "start_time": "2023-07-20T18:19:42.147062Z"
    }
   }
  },
  {
   "cell_type": "code",
   "execution_count": 5,
   "outputs": [],
   "source": [
    "\n",
    "import os\n",
    "import pandas as pd\n",
    "import numpy as np\n",
    "import toolsets.ff_droup as ff\n",
    "from tqdm import tqdm\n",
    "from toolsets.search import quick_search_values\n",
    "import toolsets.spectra_operations as so\n",
    "master_dir = '/Volumes/Natural Product Chemistry/Working Space/Fanzhou/20230713_2564_AX_P4_Active/'\n",
    "mzml_dir = os.path.join(master_dir, 'mzml')\n",
    "features_dir = os.path.join(master_dir, 'features')\n",
    "for root, dirs, files in os.walk(mzml_dir):\n",
    "    for file in tqdm(files):\n",
    "        if file.endswith('.mzML'):\n",
    "            try:\n",
    "                ms1, ms2 =ff.process_mzml(os.path.join(mzml_dir, file), if_mix=False, rt_max=10)\n",
    "                features_temp = ff.feature_finding(ms1, ms2)\n",
    "                features_temp.to_csv(os.path.join(features_dir, file.split('.')[0]+'.csv'), index = False)\n",
    "            except:\n",
    "                print('this file is worng: ', file)"
   ],
   "metadata": {
    "collapsed": false,
    "ExecuteTime": {
     "end_time": "2023-07-20T16:40:20.974794Z",
     "start_time": "2023-07-20T16:40:20.941852Z"
    }
   }
  },
  {
   "cell_type": "code",
   "execution_count": 6,
   "outputs": [
    {
     "data": {
      "text/plain": "     ms_level  precursor_mz  charge        rt  \\\n0           2    338.341876       1  8.983407   \n1           2    338.342010       1  7.785591   \n2           2    531.408010       1  9.438789   \n3           2   1061.807857       1  9.444465   \n4           2    310.310493       1  8.495710   \n..        ...           ...     ...       ...   \n790         2    249.915146       1  0.558174   \n791         2    214.064713       1  0.487402   \n792         2    201.070236       1  0.042648   \n793         2    200.061844       1  0.321706   \n794         2    148.907288       1  0.321706   \n\n                                                 peaks  \\\n0    93.070091\\t0.00010778\\n94.274254\\t7.792e-05\\n9...   \n1    92.524544\\t0.05356925\\n92.629593\\t0.06417706\\n...   \n2    152.20433\\t0.00051654\\n157.477142\\t0.0010116\\n...   \n3    299.144501\\t0.00033238\\n345.209072\\t0.01380522...   \n4    81.069763\\t0.00158525\\n83.085571\\t0.00158237\\n...   \n..                                                 ...   \n790  64.027855\\t0.15217943\\n77.061455\\t0.15948897\\n...   \n791  95.096779\\t0.30150875\\n199.289108\\t0.36540622\\...   \n792  100.176323\\t0.2442875\\n117.26107\\t0.22874356\\n...   \n793  52.16407\\t0.15806591\\n58.706463\\t0.14514547\\n6...   \n794  74.494072\\t0.20999943\\n76.945404\\t0.20511217\\n...   \n\n                           mix                  base_name  rt_offset  \\\n0    2564_AX_P4_X28-31_X5.mzML  2564_AX_P4_X28-31_X5.mzML   0.016678   \n1    2564_AX_P4_X28-31_X5.mzML  2564_AX_P4_X28-31_X5.mzML   0.044537   \n2    2564_AX_P4_X28-31_X5.mzML  2564_AX_P4_X28-31_X5.mzML   0.027130   \n3    2564_AX_P4_X28-31_X5.mzML  2564_AX_P4_X28-31_X5.mzML   0.009598   \n4    2564_AX_P4_X28-31_X5.mzML  2564_AX_P4_X28-31_X5.mzML   0.007828   \n..                         ...                        ...        ...   \n790  2564_AX_P4_X28-31_X5.mzML  2564_AX_P4_X28-31_X5.mzML   0.003736   \n791  2564_AX_P4_X28-31_X5.mzML  2564_AX_P4_X28-31_X5.mzML   0.009596   \n792  2564_AX_P4_X28-31_X5.mzML  2564_AX_P4_X28-31_X5.mzML   0.010609   \n793  2564_AX_P4_X28-31_X5.mzML  2564_AX_P4_X28-31_X5.mzML   0.008927   \n794  2564_AX_P4_X28-31_X5.mzML  2564_AX_P4_X28-31_X5.mzML   0.005339   \n\n     rt_start    rt_end  peak_apex_intensity   peak_range_idx  \\\n0    8.762764  9.344170         5.864769e+08  [493, 505, 526]   \n1    7.583054  7.924639         3.811821e+05  [428, 439, 447]   \n2    9.360220  9.876463         1.508072e+08  [527, 531, 557]   \n3    9.394056  9.569415         4.944414e+07  [529, 532, 539]   \n4    8.359439  8.800101         3.122257e+07  [471, 478, 495]   \n..        ...       ...                  ...              ...   \n790  0.529832  0.582994         8.541705e+03     [30, 32, 33]   \n791  0.461420  0.512129         3.913149e+03     [26, 27, 29]   \n792  0.023933  0.060034         4.285603e+03        [1, 2, 3]   \n793  0.304332  0.338734         3.085038e+03     [17, 18, 19]   \n794  0.304332  0.338734         2.208738e+03     [17, 18, 19]   \n\n                ms2_range_idx      pmz_bin  \n0          [2489, 2526, 2548]   338.340687  \n1                      [2186]   338.340687  \n2    [2617, 2657, 2678, 2700]   531.410260  \n3                [2624, 2647]  1061.803042  \n4                [2358, 2378]   310.310146  \n..                        ...          ...  \n790                     [156]   249.924483  \n791                     [138]   214.065164  \n792                       [4]   201.069662  \n793                      [90]   200.105710  \n794                      [89]   148.952803  \n\n[795 rows x 14 columns]",
      "text/html": "<div>\n<style scoped>\n    .dataframe tbody tr th:only-of-type {\n        vertical-align: middle;\n    }\n\n    .dataframe tbody tr th {\n        vertical-align: top;\n    }\n\n    .dataframe thead th {\n        text-align: right;\n    }\n</style>\n<table border=\"1\" class=\"dataframe\">\n  <thead>\n    <tr style=\"text-align: right;\">\n      <th></th>\n      <th>ms_level</th>\n      <th>precursor_mz</th>\n      <th>charge</th>\n      <th>rt</th>\n      <th>peaks</th>\n      <th>mix</th>\n      <th>base_name</th>\n      <th>rt_offset</th>\n      <th>rt_start</th>\n      <th>rt_end</th>\n      <th>peak_apex_intensity</th>\n      <th>peak_range_idx</th>\n      <th>ms2_range_idx</th>\n      <th>pmz_bin</th>\n    </tr>\n  </thead>\n  <tbody>\n    <tr>\n      <th>0</th>\n      <td>2</td>\n      <td>338.341876</td>\n      <td>1</td>\n      <td>8.983407</td>\n      <td>93.070091\\t0.00010778\\n94.274254\\t7.792e-05\\n9...</td>\n      <td>2564_AX_P4_X28-31_X5.mzML</td>\n      <td>2564_AX_P4_X28-31_X5.mzML</td>\n      <td>0.016678</td>\n      <td>8.762764</td>\n      <td>9.344170</td>\n      <td>5.864769e+08</td>\n      <td>[493, 505, 526]</td>\n      <td>[2489, 2526, 2548]</td>\n      <td>338.340687</td>\n    </tr>\n    <tr>\n      <th>1</th>\n      <td>2</td>\n      <td>338.342010</td>\n      <td>1</td>\n      <td>7.785591</td>\n      <td>92.524544\\t0.05356925\\n92.629593\\t0.06417706\\n...</td>\n      <td>2564_AX_P4_X28-31_X5.mzML</td>\n      <td>2564_AX_P4_X28-31_X5.mzML</td>\n      <td>0.044537</td>\n      <td>7.583054</td>\n      <td>7.924639</td>\n      <td>3.811821e+05</td>\n      <td>[428, 439, 447]</td>\n      <td>[2186]</td>\n      <td>338.340687</td>\n    </tr>\n    <tr>\n      <th>2</th>\n      <td>2</td>\n      <td>531.408010</td>\n      <td>1</td>\n      <td>9.438789</td>\n      <td>152.20433\\t0.00051654\\n157.477142\\t0.0010116\\n...</td>\n      <td>2564_AX_P4_X28-31_X5.mzML</td>\n      <td>2564_AX_P4_X28-31_X5.mzML</td>\n      <td>0.027130</td>\n      <td>9.360220</td>\n      <td>9.876463</td>\n      <td>1.508072e+08</td>\n      <td>[527, 531, 557]</td>\n      <td>[2617, 2657, 2678, 2700]</td>\n      <td>531.410260</td>\n    </tr>\n    <tr>\n      <th>3</th>\n      <td>2</td>\n      <td>1061.807857</td>\n      <td>1</td>\n      <td>9.444465</td>\n      <td>299.144501\\t0.00033238\\n345.209072\\t0.01380522...</td>\n      <td>2564_AX_P4_X28-31_X5.mzML</td>\n      <td>2564_AX_P4_X28-31_X5.mzML</td>\n      <td>0.009598</td>\n      <td>9.394056</td>\n      <td>9.569415</td>\n      <td>4.944414e+07</td>\n      <td>[529, 532, 539]</td>\n      <td>[2624, 2647]</td>\n      <td>1061.803042</td>\n    </tr>\n    <tr>\n      <th>4</th>\n      <td>2</td>\n      <td>310.310493</td>\n      <td>1</td>\n      <td>8.495710</td>\n      <td>81.069763\\t0.00158525\\n83.085571\\t0.00158237\\n...</td>\n      <td>2564_AX_P4_X28-31_X5.mzML</td>\n      <td>2564_AX_P4_X28-31_X5.mzML</td>\n      <td>0.007828</td>\n      <td>8.359439</td>\n      <td>8.800101</td>\n      <td>3.122257e+07</td>\n      <td>[471, 478, 495]</td>\n      <td>[2358, 2378]</td>\n      <td>310.310146</td>\n    </tr>\n    <tr>\n      <th>...</th>\n      <td>...</td>\n      <td>...</td>\n      <td>...</td>\n      <td>...</td>\n      <td>...</td>\n      <td>...</td>\n      <td>...</td>\n      <td>...</td>\n      <td>...</td>\n      <td>...</td>\n      <td>...</td>\n      <td>...</td>\n      <td>...</td>\n      <td>...</td>\n    </tr>\n    <tr>\n      <th>790</th>\n      <td>2</td>\n      <td>249.915146</td>\n      <td>1</td>\n      <td>0.558174</td>\n      <td>64.027855\\t0.15217943\\n77.061455\\t0.15948897\\n...</td>\n      <td>2564_AX_P4_X28-31_X5.mzML</td>\n      <td>2564_AX_P4_X28-31_X5.mzML</td>\n      <td>0.003736</td>\n      <td>0.529832</td>\n      <td>0.582994</td>\n      <td>8.541705e+03</td>\n      <td>[30, 32, 33]</td>\n      <td>[156]</td>\n      <td>249.924483</td>\n    </tr>\n    <tr>\n      <th>791</th>\n      <td>2</td>\n      <td>214.064713</td>\n      <td>1</td>\n      <td>0.487402</td>\n      <td>95.096779\\t0.30150875\\n199.289108\\t0.36540622\\...</td>\n      <td>2564_AX_P4_X28-31_X5.mzML</td>\n      <td>2564_AX_P4_X28-31_X5.mzML</td>\n      <td>0.009596</td>\n      <td>0.461420</td>\n      <td>0.512129</td>\n      <td>3.913149e+03</td>\n      <td>[26, 27, 29]</td>\n      <td>[138]</td>\n      <td>214.065164</td>\n    </tr>\n    <tr>\n      <th>792</th>\n      <td>2</td>\n      <td>201.070236</td>\n      <td>1</td>\n      <td>0.042648</td>\n      <td>100.176323\\t0.2442875\\n117.26107\\t0.22874356\\n...</td>\n      <td>2564_AX_P4_X28-31_X5.mzML</td>\n      <td>2564_AX_P4_X28-31_X5.mzML</td>\n      <td>0.010609</td>\n      <td>0.023933</td>\n      <td>0.060034</td>\n      <td>4.285603e+03</td>\n      <td>[1, 2, 3]</td>\n      <td>[4]</td>\n      <td>201.069662</td>\n    </tr>\n    <tr>\n      <th>793</th>\n      <td>2</td>\n      <td>200.061844</td>\n      <td>1</td>\n      <td>0.321706</td>\n      <td>52.16407\\t0.15806591\\n58.706463\\t0.14514547\\n6...</td>\n      <td>2564_AX_P4_X28-31_X5.mzML</td>\n      <td>2564_AX_P4_X28-31_X5.mzML</td>\n      <td>0.008927</td>\n      <td>0.304332</td>\n      <td>0.338734</td>\n      <td>3.085038e+03</td>\n      <td>[17, 18, 19]</td>\n      <td>[90]</td>\n      <td>200.105710</td>\n    </tr>\n    <tr>\n      <th>794</th>\n      <td>2</td>\n      <td>148.907288</td>\n      <td>1</td>\n      <td>0.321706</td>\n      <td>74.494072\\t0.20999943\\n76.945404\\t0.20511217\\n...</td>\n      <td>2564_AX_P4_X28-31_X5.mzML</td>\n      <td>2564_AX_P4_X28-31_X5.mzML</td>\n      <td>0.005339</td>\n      <td>0.304332</td>\n      <td>0.338734</td>\n      <td>2.208738e+03</td>\n      <td>[17, 18, 19]</td>\n      <td>[89]</td>\n      <td>148.952803</td>\n    </tr>\n  </tbody>\n</table>\n<p>795 rows × 14 columns</p>\n</div>"
     },
     "execution_count": 6,
     "metadata": {},
     "output_type": "execute_result"
    }
   ],
   "source": [
    "features_temp"
   ],
   "metadata": {
    "collapsed": false,
    "ExecuteTime": {
     "end_time": "2023-07-20T16:40:34.228677Z",
     "start_time": "2023-07-20T16:40:34.170354Z"
    }
   }
  },
  {
   "cell_type": "code",
   "execution_count": 13,
   "outputs": [
    {
     "data": {
      "text/plain": "'/Volumes/Natural Product Chemistry/Working Space/Fanzhou/20230713_2564_AX_P4_Active/features'"
     },
     "execution_count": 13,
     "metadata": {},
     "output_type": "execute_result"
    }
   ],
   "source": [
    "features_dir"
   ],
   "metadata": {
    "collapsed": false,
    "ExecuteTime": {
     "end_time": "2023-07-20T16:42:25.333687Z",
     "start_time": "2023-07-20T16:42:25.285282Z"
    }
   }
  },
  {
   "cell_type": "code",
   "execution_count": 15,
   "outputs": [
    {
     "name": "stderr",
     "output_type": "stream",
     "text": [
      "100%|██████████| 14/14 [00:01<00:00,  7.84it/s]\n"
     ]
    }
   ],
   "source": [
    "feature_4_6 = pd.DataFrame()\n",
    "for root, dirs, files in os.walk(features_dir):\n",
    "    for file in tqdm(files):\n",
    "        # print(file)\n",
    "        if file.endswith('csv'):\n",
    "            features_temp = pd.read_csv(os.path.join(features_dir, file))\n",
    "            feature_subsets = quick_search_values(features_temp,'rt', value_start=4, value_end=6)\n",
    "            feature_4_6 = pd.concat([feature_4_6, feature_subsets], ignore_index=True)"
   ],
   "metadata": {
    "collapsed": false,
    "ExecuteTime": {
     "end_time": "2023-07-20T16:42:56.993656Z",
     "start_time": "2023-07-20T16:42:55.039481Z"
    }
   }
  }
 ],
 "metadata": {
  "kernelspec": {
   "display_name": "Python 3",
   "language": "python",
   "name": "python3"
  },
  "language_info": {
   "codemirror_mode": {
    "name": "ipython",
    "version": 2
   },
   "file_extension": ".py",
   "mimetype": "text/x-python",
   "name": "python",
   "nbconvert_exporter": "python",
   "pygments_lexer": "ipython2",
   "version": "2.7.6"
  }
 },
 "nbformat": 4,
 "nbformat_minor": 0
}
