{
 "cells": [
  {
   "cell_type": "code",
   "execution_count": 93,
   "metadata": {
    "collapsed": true,
    "ExecuteTime": {
     "end_time": "2023-07-26T20:48:13.352635Z",
     "start_time": "2023-07-26T20:48:13.296123Z"
    }
   },
   "outputs": [
    {
     "name": "stdout",
     "output_type": "stream",
     "text": [
      "The autoreload extension is already loaded. To reload it, use:\n",
      "  %reload_ext autoreload\n"
     ]
    }
   ],
   "source": [
    "%load_ext autoreload\n",
    "%autoreload 2\n",
    "import os\n",
    "import pandas as pd\n",
    "import numpy as np\n",
    "from tqdm import tqdm\n",
    "from toolsets.file_io import readin_peak_list\n",
    "import toolsets.spectra_operations as so\n",
    "from toolsets.search import string_search, quick_search_values"
   ]
  },
  {
   "cell_type": "code",
   "execution_count": 94,
   "outputs": [
    {
     "name": "stderr",
     "output_type": "stream",
     "text": [
      "100%|██████████| 14/14 [00:11<00:00,  1.17it/s]\n"
     ]
    }
   ],
   "source": [
    "peak_list_dir = '/Volumes/Natural Product Chemistry/Working Space/Fanzhou/20230713_2564_AX_P4_Active/peak_list'\n",
    "useful_columns = ['RT (min)', 'Precursor m/z', 'Height', 'MS1 isotopes', 'MSMS spectrum']\n",
    "filtered_dataset = pd.DataFrame()\n",
    "reference_file = []\n",
    "for root, dirs, files in os.walk(peak_list_dir):\n",
    "\n",
    "    for file in tqdm(files):\n",
    "        filename = file.split('.')[0]\n",
    "        features_temp = readin_peak_list(os.path.join(peak_list_dir, file))\n",
    "        features_temp = features_temp[~features_temp['MSMS spectrum'].isnull()]\n",
    "        features_temp =string_search(features_temp, 'Isotope', 'M + 0')\n",
    "        features_temp = quick_search_values(features_temp, 'RT (min)', 4, 6, ifsorted=False)\n",
    "        features_temp = quick_search_values(features_temp, 'Precursor m/z', 250, 430, ifsorted=False)\n",
    "        features_temp['reference_file']=filename\n",
    "        filtered_dataset = pd.concat([filtered_dataset, features_temp], ignore_index=True)\n",
    "        # print(file)\n",
    "        # if file.endswith('.txt') and file != '2564_AX_P4_X21-23_X5.txt':\n",
    "\n",
    "\n",
    "            # break\n",
    "            # feature_subsets = quick_search_values(features_temp,'rt', value_start=4, value_end=6, ifsorted=False)\n",
    "            # feature_4_6 = pd.concat([feature_4_6, feature_subsets], ignore_index=True)"
   ],
   "metadata": {
    "collapsed": false,
    "ExecuteTime": {
     "end_time": "2023-07-26T20:48:26.815822Z",
     "start_time": "2023-07-26T20:48:14.624764Z"
    }
   }
  },
  {
   "cell_type": "code",
   "execution_count": 96,
   "outputs": [
    {
     "data": {
      "text/plain": "2074113.25"
     },
     "execution_count": 96,
     "metadata": {},
     "output_type": "execute_result"
    }
   ],
   "source": [
    "filtered_dataset['Height'].quantile(0.75)"
   ],
   "metadata": {
    "collapsed": false,
    "ExecuteTime": {
     "end_time": "2023-07-26T20:48:43.103657Z",
     "start_time": "2023-07-26T20:48:43.069801Z"
    }
   }
  },
  {
   "cell_type": "code",
   "execution_count": 97,
   "outputs": [],
   "source": [
    "filtered_dataset_75 = filtered_dataset[filtered_dataset['Height']>filtered_dataset['Height'].quantile(0.75)]"
   ],
   "metadata": {
    "collapsed": false,
    "ExecuteTime": {
     "end_time": "2023-07-26T20:48:45.753582Z",
     "start_time": "2023-07-26T20:48:45.724154Z"
    }
   }
  },
  {
   "cell_type": "code",
   "execution_count": 98,
   "outputs": [],
   "source": [
    "filtered_dataset_75.sort_values(by = 'Precursor m/z', ascending=True, inplace=True, ignore_index=True)"
   ],
   "metadata": {
    "collapsed": false,
    "ExecuteTime": {
     "end_time": "2023-07-26T20:48:47.710487Z",
     "start_time": "2023-07-26T20:48:47.682294Z"
    }
   }
  },
  {
   "cell_type": "code",
   "execution_count": 99,
   "outputs": [],
   "source": [
    "ms1 = []\n",
    "msms = []\n",
    "for index, row in filtered_dataset_75.iterrows():\n",
    "    ms1_raw = so.convert_msdial_to_string(row['MS1 isotopes'])\n",
    "    ms1.append(so.remove_zero_ions(ms1_raw))\n",
    "    # ms1.append(so.convert_msdial_to_string(row['MS1 isotopes']))\n",
    "    msms.append((so.convert_msdial_to_string(row['MSMS spectrum'])))\n",
    "filtered_dataset_75['ms1']=ms1\n",
    "\n",
    "filtered_dataset_75['msms']=msms"
   ],
   "metadata": {
    "collapsed": false,
    "ExecuteTime": {
     "end_time": "2023-07-26T20:48:49.611122Z",
     "start_time": "2023-07-26T20:48:49.557865Z"
    }
   }
  },
  {
   "cell_type": "code",
   "execution_count": 100,
   "outputs": [],
   "source": [
    "filtered_dataset_75.to_csv('/Volumes/Natural Product Chemistry/Working Space/Fanzhou/20230713_2564_AX_P4_Active/sirius_compitable/all_20230726.csv', index=False)"
   ],
   "metadata": {
    "collapsed": false,
    "ExecuteTime": {
     "end_time": "2023-07-26T20:48:57.584923Z",
     "start_time": "2023-07-26T20:48:56.969301Z"
    }
   }
  },
  {
   "cell_type": "code",
   "execution_count": 101,
   "outputs": [],
   "source": [
    "from toolsets.file_io import export_mgf_sirius"
   ],
   "metadata": {
    "collapsed": false,
    "ExecuteTime": {
     "end_time": "2023-07-26T20:48:59.442460Z",
     "start_time": "2023-07-26T20:48:59.393114Z"
    }
   }
  },
  {
   "cell_type": "code",
   "execution_count": 102,
   "outputs": [
    {
     "ename": "FileExistsError",
     "evalue": "[Errno 17] File exists: '/Volumes/Natural Product Chemistry/Working Space/Fanzhou/20230713_2564_AX_P4_Active/sirius_compitable_updated'",
     "output_type": "error",
     "traceback": [
      "\u001B[0;31m---------------------------------------------------------------------------\u001B[0m",
      "\u001B[0;31mFileExistsError\u001B[0m                           Traceback (most recent call last)",
      "Cell \u001B[0;32mIn[102], line 1\u001B[0m\n\u001B[0;32m----> 1\u001B[0m \u001B[43mos\u001B[49m\u001B[38;5;241;43m.\u001B[39;49m\u001B[43mmkdir\u001B[49m\u001B[43m(\u001B[49m\u001B[38;5;124;43m'\u001B[39;49m\u001B[38;5;124;43m/Volumes/Natural Product Chemistry/Working Space/Fanzhou/20230713_2564_AX_P4_Active/sirius_compitable_updated\u001B[39;49m\u001B[38;5;124;43m'\u001B[39;49m\u001B[43m)\u001B[49m\n",
      "\u001B[0;31mFileExistsError\u001B[0m: [Errno 17] File exists: '/Volumes/Natural Product Chemistry/Working Space/Fanzhou/20230713_2564_AX_P4_Active/sirius_compitable_updated'"
     ]
    }
   ],
   "source": [
    "# os.mkdir('/Volumes/Natural Product Chemistry/Working Space/Fanzhou/20230713_2564_AX_P4_Active/sirius_compitable_updated')"
   ],
   "metadata": {
    "collapsed": false,
    "ExecuteTime": {
     "end_time": "2023-07-26T20:49:00.746107Z",
     "start_time": "2023-07-26T20:49:00.680949Z"
    }
   }
  },
  {
   "cell_type": "code",
   "execution_count": 104,
   "outputs": [
    {
     "name": "stderr",
     "output_type": "stream",
     "text": [
      "100%|██████████| 320/320 [00:35<00:00,  9.06it/s]\n"
     ]
    }
   ],
   "source": [
    "for index, row in tqdm(filtered_dataset_75.iterrows(), total = len(filtered_dataset_75)):\n",
    "    export_mgf_sirius(row, '/Volumes/Natural Product Chemistry/Working Space/Fanzhou/20230713_2564_AX_P4_Active/sirius_compitable_updated')"
   ],
   "metadata": {
    "collapsed": false,
    "ExecuteTime": {
     "end_time": "2023-07-26T20:51:21.933344Z",
     "start_time": "2023-07-26T20:50:46.494503Z"
    }
   }
  },
  {
   "cell_type": "code",
   "execution_count": 40,
   "outputs": [],
   "source": [
    "import toolsets.spectra_operations as so"
   ],
   "metadata": {
    "collapsed": false,
    "ExecuteTime": {
     "end_time": "2023-07-22T01:32:33.067139Z",
     "start_time": "2023-07-22T01:32:33.028175Z"
    }
   }
  }
 ],
 "metadata": {
  "kernelspec": {
   "display_name": "Python 3",
   "language": "python",
   "name": "python3"
  },
  "language_info": {
   "codemirror_mode": {
    "name": "ipython",
    "version": 2
   },
   "file_extension": ".py",
   "mimetype": "text/x-python",
   "name": "python",
   "nbconvert_exporter": "python",
   "pygments_lexer": "ipython2",
   "version": "2.7.6"
  }
 },
 "nbformat": 4,
 "nbformat_minor": 0
}
