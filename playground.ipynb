{
 "cells": [
  {
   "cell_type": "code",
   "execution_count": 1,
   "outputs": [],
   "source": [
    "import os.path\n",
    "%load_ext autoreload\n",
    "%autoreload 2\n",
    "import numpy as np\n",
    "import pandas as pd\n",
    "from tqdm import tqdm\n",
    "import os\n",
    "from toolsets.API_gets import inchi_to_smiles, smiles_to_xlogp\n",
    "from pubchempy import Compound, get_compounds"
   ],
   "metadata": {
    "collapsed": false,
    "pycharm": {
     "name": "#%%\n"
    }
   }
  },
  {
   "cell_type": "code",
   "execution_count": 2,
   "outputs": [],
   "source": [
    "master_dir = '/Users/fanzhoukong/Documents/GitHub/Libgen_data/polyphenols'\n",
    "df = pd.read_csv(os.path.join(master_dir,  'polyphenols-libgen-input.csv'))"
   ],
   "metadata": {
    "collapsed": false,
    "pycharm": {
     "name": "#%%\n"
    }
   }
  },
  {
   "cell_type": "code",
   "execution_count": 3,
   "outputs": [],
   "source": [
    "from rdkit import Chem\n",
    "from toolsets.std_list_prep import check_mol"
   ],
   "metadata": {
    "collapsed": false,
    "pycharm": {
     "name": "#%%\n"
    }
   }
  },
  {
   "cell_type": "code",
   "execution_count": 8,
   "outputs": [
    {
     "name": "stderr",
     "output_type": "stream",
     "text": [
      "100%|██████████| 640/640 [00:04<00:00, 158.97it/s]\n"
     ]
    }
   ],
   "source": [
    "smiles = []\n",
    "inchikey = []\n",
    "for index, row in tqdm(df.iterrows(), total= len(df)):\n",
    "    if row['SMILES']!= row['SMILES'] or check_mol(row['SMILES']) is np.NAN:\n",
    "    # break\n",
    "        cc = get_compounds(row['Common name'], 'name')\n",
    "        if len(cc)>0:\n",
    "            smiles.append(cc[0].isomeric_smiles)\n",
    "            inchikey.append(cc[0].inchikey)\n",
    "        else:\n",
    "            smiles.append(np.NAN)\n",
    "            inchikey.append(np.NAN)\n",
    "    else:\n",
    "        smiles.append(row['SMILES'])\n",
    "        mol = Chem.MolFromSmiles(row['SMILES'])\n",
    "        inchikey.append(Chem.MolToInchiKey(mol))\n",
    "    # break\n"
   ],
   "metadata": {
    "collapsed": false,
    "pycharm": {
     "name": "#%%\n"
    }
   }
  },
  {
   "cell_type": "code",
   "execution_count": 9,
   "outputs": [],
   "source": [
    "df['smiles_fetched']=smiles\n",
    "df['inchikey_feched']=inchikey"
   ],
   "metadata": {
    "collapsed": false,
    "pycharm": {
     "name": "#%%\n"
    }
   }
  },
  {
   "cell_type": "code",
   "execution_count": 11,
   "outputs": [],
   "source": [
    "df_fetched = df[['Common name', 'smiles_fetched','RT (-) TTOF','Mix filename (pos)','Mix filename (neg)', 'inchikey_feched']]"
   ],
   "metadata": {
    "collapsed": false,
    "pycharm": {
     "name": "#%%\n"
    }
   }
  },
  {
   "cell_type": "code",
   "execution_count": 12,
   "outputs": [],
   "source": [
    "from toolsets.std_list_prep import neutrilize_salt_df, neutrilize_salt, std_list_cleanup"
   ],
   "metadata": {
    "collapsed": false,
    "pycharm": {
     "name": "#%%\n"
    }
   }
  },
  {
   "cell_type": "code",
   "execution_count": 92,
   "outputs": [],
   "source": [
    "df_cleaned =neutrilize_salt_df(df_fetched)"
   ],
   "metadata": {
    "collapsed": false,
    "pycharm": {
     "name": "#%%\n"
    }
   }
  },
  {
   "cell_type": "code",
   "execution_count": 75,
   "outputs": [],
   "source": [
    "from molmass import Formula"
   ],
   "metadata": {
    "collapsed": false,
    "pycharm": {
     "name": "#%%\n"
    }
   }
  },
  {
   "cell_type": "code",
   "execution_count": 93,
   "outputs": [],
   "source": [
    "labels = []\n",
    "for index, row in df_cleaned.iterrows():\n",
    "    if Formula(row['original_formula']).formula !=Formula(row['uncharged_formula']).formula:\n",
    "        labels.append('check')\n",
    "    else:\n",
    "        labels.append('pass')\n",
    "df_cleaned['labels']=labels"
   ],
   "metadata": {
    "collapsed": false,
    "pycharm": {
     "name": "#%%\n"
    }
   }
  },
  {
   "cell_type": "code",
   "execution_count": 103,
   "outputs": [
    {
     "data": {
      "text/plain": "                                  common name  \\\n4           Meclocycline sulfosalicylate salt   \n9                 DL-Adrenaline Hydrochloride   \n13                  Doxorubicin hydrochloride   \n25                   Vancomycin hydrochloride   \n34                      Doxycycline (hyclate)   \n50                      Danshensu sodium salt   \n54                       (+)-Catechin Hydrate   \n90                 Daunorubicin hydrochloride   \n94                   Higenamine hydrochloride   \n114                       Quercetin Dihydrate   \n146                        Kuromanin chloride   \n200                   (+)-Magnoflorine iodide   \n236                       Phlorizin dihydrate   \n281                 (+)-Magnoflorine chloride   \n306  6-Hydroxypyridin-2(1H)-one hydrochloride   \n318                         Cyanidin Chloride   \n357                  Dobutamine hydrochloride   \n433                     Luteolinidin chloride   \n445           DL-Norepinephrine hydrochloride   \n554                   Phellodendrine chloride   \n613                       Keracyanin chloride   \n\n                                        smiles_fetched     rt (-) ttof  \\\n4    OC(=O)c1cc(ccc1O)S(O)(=O)=O.[H][C@@]12[C@@H](O...             NaN   \n9                             Cl.CNCC(O)c1ccc(O)c(O)c1           0.312   \n13   Cl.COc1cccc2C(=O)c3c(O)c4C[C@](O)(C[C@H](O[C@H...           2.917   \n25   Cl.CN[C@H](CC(C)C)C(=O)N[C@@H]1[C@H](O)c2ccc(O...             NaN   \n34   O.Cl.Cl.CCO.C[C@@H]1[C@H]2[C@H](O)[C@H]3[C@H](...             NaN   \n50                  [Na+].OC(Cc1ccc(O)c(O)c1)C([O-])=O           1.187   \n54      O.O[C@H]1Cc2c(O)cc(O)cc2O[C@@H]1c1ccc(O)c(O)c1             NaN   \n90   Cl.COc1cccc2C(=O)c3c(O)c4C[C@](O)(C[C@H](O[C@H...             NaN   \n94                 Cl.Oc1ccc(CC2NCCc3cc(O)c(O)cc23)cc1           1.606   \n114     O.O.Oc1cc(O)c2c(c1)oc(-c1ccc(O)c(O)c1)c(O)c2=O             NaN   \n146  [Cl-].OC[C@H]1O[C@@H](Oc2cc3c(O)cc(O)cc3[o+]c2...             NaN   \n200  [I-].COc1ccc2C[C@H]3c4c(CC[N+]3(C)C)cc(OC)c(O)...             NaN   \n236  O.O.OC[C@H]1O[C@@H](Oc2cc(O)cc(O)c2C(=O)CCc2cc...           6.998   \n281  [Cl-].COc1ccc2C[C@H]3c4c(CC[N+]3(C)C)cc(OC)c(O...             NaN   \n306                                    Cl.Oc1cccc(O)n1             NaN   \n318    [Cl-].Oc1cc(O)c2cc(O)c([o+]c2c1)-c1ccc(O)c(O)c1           3.311   \n357              Cl.CC(CCc1ccc(O)cc1)NCCc1ccc(O)c(O)c1             2.1   \n433  [Cl-].OC1=CC(O)=C2C=CC(=[O+]C2=C1)C=3C=CC(O)=C...             NaN   \n445                           Cl.OC1=CC=C(C=C1O)C(O)CN            0.28   \n554  [Cl-].COc1cc2C[N+]3(C)CCc4cc(OC)c(O)cc4[C@@H]3...  1.952 OR 2.038   \n613  O(C=1C(=[O+]C2=C(C1)C(O)=CC(O)=C2)C3=CC(O)=C(O...             NaN   \n\n        mix filename (pos)     mix filename (neg)  \\\n4     Polyphenols-pos-mix1   Polyphenols-neg-mix1   \n9     Polyphenols-pos-mix2   Polyphenols-neg-mix2   \n13    Polyphenols-pos-mix2   Polyphenols-neg-mix2   \n25    Polyphenols-pos-mix3   Polyphenols-neg-mix3   \n34    Polyphenols-pos-mix4   Polyphenols-neg-mix4   \n50    Polyphenols-pos-mix6   Polyphenols-neg-mix6   \n54    Polyphenols-pos-mix6   Polyphenols-neg-mix6   \n90   Polyphenols-pos-mix10  Polyphenols-neg-mix10   \n94   Polyphenols-pos-mix10  Polyphenols-neg-mix10   \n114  Polyphenols-pos-mix12  Polyphenols-neg-mix12   \n146  Polyphenols-pos-mix16  Polyphenols-neg-mix16   \n200  Polyphenols-pos-mix21  Polyphenols-neg-mix21   \n236  Polyphenols-pos-mix25  Polyphenols-neg-mix25   \n281  Polyphenols-pos-mix30  Polyphenols-neg-mix30   \n306  Polyphenols-pos-mix32  Polyphenols-neg-mix32   \n318  Polyphenols-pos-mix33  Polyphenols-neg-mix33   \n357  Polyphenols-pos-mix37  Polyphenols-neg-mix37   \n433  Polyphenols-pos-mix45  Polyphenols-neg-mix45   \n445  Polyphenols-pos-mix46  Polyphenols-neg-mix46   \n554  Polyphenols-pos-mix57  Polyphenols-neg-mix57   \n613  Polyphenols-pos-mix63  Polyphenols-neg-mix63   \n\n                 inchikey_feched  \\\n4    FYSVKUUNXYGFLA-CCHMMTNSSA-N   \n9    ATADHKWKHYVBTJ-UHFFFAOYSA-N   \n13   MWWSFMDVAYGXBV-RUELKSSGSA-N   \n25   LCTORFDMHNKUSG-XTTLPDOESA-N   \n34   UHHHTIKWXBRCLT-VDBOFHIQSA-N   \n50   ZMMKVDBZTXUHFO-UHFFFAOYSA-M   \n54   OFUMQWOJBVNKLR-NQQJLSKUSA-N   \n90   GUGHGUXZJWAIAS-QQYBVWGSSA-N   \n94   SWWQQSDRUYSMAR-UHFFFAOYSA-N   \n114  GMGIWEZSKCNYSW-UHFFFAOYSA-N   \n146  YTMNONATNXDQJF-UBNZBFALSA-N   \n200  ODRHNGNRVVELAJ-ZOWNYOTGSA-N   \n236  XQWBNXSENPTIDY-YXMARJSJSA-N   \n281  STVJLBTYWBXDBP-ZOWNYOTGSA-N   \n306  HNWWAWKDVFVJRG-UHFFFAOYSA-N   \n318  COAWNPJQKJEHPG-UHFFFAOYSA-N   \n357  BQKADKWNRWCIJL-UHFFFAOYSA-N   \n433  MMAGHFOHXGFQRZ-UHFFFAOYSA-N   \n445  FQTFHMSZCSUVEU-UHFFFAOYSA-N   \n554  DGLDSNPMIYUWGN-OOJQBDKLSA-N   \n613  ADZHXBNWNZIHIX-XYGAWYNKSA-N   \n\n                                       original_smiles original_formula  \\\n4    C=C1c2c(Cl)ccc(O)c2C(=O)C2=C(O)[C@]3(O)C(=O)C(...   C29H27ClN2O14S   \n9                             CNCC(O)c1ccc(O)c(O)c1.Cl       C9H14ClNO3   \n13   COc1cccc2c1C(=O)c1c(O)c3c(c(O)c1C2=O)C[C@@](O)...     C27H30ClNO11   \n25   CN[C@H](CC(C)C)C(=O)N[C@H]1C(=O)N[C@@H](CC(N)=...   C66H76Cl3N9O24   \n34   CCO.C[C@H]1c2cccc(O)c2C(O)=C2C(=O)[C@]3(O)C(O)...   C46H58Cl2N4O18   \n50                  O=C([O-])C(O)Cc1ccc(O)c(O)c1.[Na+]         C9H9NaO5   \n54   O.Oc1cc(O)c2c(c1)O[C@H](c1ccc(O)c(O)c1)[C@@H](...         C15H16O7   \n90   COc1cccc2c1C(=O)c1c(O)c3c(c(O)c1C2=O)C[C@@](O)...     C27H30ClNO10   \n94                 Cl.Oc1ccc(CC2NCCc3cc(O)c(O)cc32)cc1      C16H18ClNO3   \n114     O.O.O=c1c(O)c(-c2ccc(O)c(O)c2)oc2cc(O)cc(O)c12         C15H14O9   \n146  OC[C@H]1O[C@@H](Oc2cc3c(O)cc(O)cc3[o+]c2-c2ccc...      C21H21ClO11   \n200  COc1ccc2c(c1O)-c1c(O)c(OC)cc3c1[C@H](C2)[N+](C...       C20H24INO4   \n236  O.O.O=C(CCc1ccc(O)cc1)c1c(O)cc(O)cc1O[C@@H]1O[...        C21H28O12   \n281  COc1ccc2c(c1O)-c1c(O)c(OC)cc3c1[C@H](C2)[N+](C...      C20H24ClNO4   \n306                                    Cl.Oc1cccc(O)n1        C5H6ClNO2   \n318    Oc1cc(O)c2cc(O)c(-c3ccc(O)c(O)c3)[o+]c2c1.[Cl-]       C15H11ClO6   \n357              CC(CCc1ccc(O)cc1)NCCc1ccc(O)c(O)c1.Cl      C18H24ClNO3   \n433       Oc1cc(O)c2ccc(-c3ccc(O)c(O)c3)[o+]c2c1.[Cl-]       C15H11ClO5   \n445                            Cl.NCC(O)c1ccc(O)c(O)c1       C8H12ClNO3   \n554  COc1cc2c(cc1O)C[C@H]1c3cc(O)c(OC)cc3CC[N+]1(C)...      C20H24ClNO4   \n613  C[C@@H]1O[C@@H](OC[C@H]2O[C@@H](Oc3cc4c(O)cc(O...      C27H31ClO15   \n\n     original_formal_charges  \\\n4                          0   \n9                          0   \n13                         0   \n25                         0   \n34                         0   \n50                         0   \n54                         0   \n90                         0   \n94                         0   \n114                        0   \n146                        0   \n200                        0   \n236                        0   \n281                        0   \n306                        0   \n318                        0   \n357                        0   \n433                        0   \n445                        0   \n554                        0   \n613                        0   \n\n                                       stripped_smiles stripped_formula  \\\n4    C=C1c2c(Cl)ccc(O)c2C(=O)C2=C(O)[C@]3(O)C(=O)C(...     C22H21ClN2O8   \n9                                CNCC(O)c1ccc(O)c(O)c1         C9H13NO3   \n13   COc1cccc2c1C(=O)c1c(O)c3c(c(O)c1C2=O)C[C@@](O)...       C27H29NO11   \n25   CN[C@H](CC(C)C)C(=O)N[C@H]1C(=O)N[C@@H](CC(N)=...   C66H75Cl2N9O24   \n34   CCO.C[C@H]1c2cccc(O)c2C(O)=C2C(=O)[C@]3(O)C(O)...      C46H54N4O17   \n50                           O=C(O)C(O)Cc1ccc(O)c(O)c1          C9H10O5   \n54    Oc1cc(O)c2c(c1)O[C@H](c1ccc(O)c(O)c1)[C@@H](O)C2         C15H14O6   \n90   COc1cccc2c1C(=O)c1c(O)c3c(c(O)c1C2=O)C[C@@](O)...       C27H29NO10   \n94                    Oc1ccc(CC2NCCc3cc(O)c(O)cc32)cc1        C16H17NO3   \n114         O=c1c(O)c(-c2ccc(O)c(O)c2)oc2cc(O)cc(O)c12         C15H10O7   \n146  OC[C@H]1O[C@@H](Oc2cc3c(O)cc(O)cc3[o+]c2-c2ccc...       C21H21O11+   \n200  COc1ccc2c(c1O)-c1c(O)c(OC)cc3c1[C@H](C2)[N+](C...       C20H24NO4+   \n236  O=C(CCc1ccc(O)cc1)c1c(O)cc(O)cc1O[C@@H]1O[C@H]...        C21H24O10   \n281  COc1ccc2c(c1O)-c1c(O)c(OC)cc3c1[C@H](C2)[N+](C...       C20H24NO4+   \n306                                       Oc1cccc(O)n1          C5H5NO2   \n318          Oc1cc(O)c2cc(O)c(-c3ccc(O)c(O)c3)[o+]c2c1        C15H11O6+   \n357                 CC(CCc1ccc(O)cc1)NCCc1ccc(O)c(O)c1        C18H23NO3   \n433             Oc1cc(O)c2ccc(-c3ccc(O)c(O)c3)[o+]c2c1        C15H11O5+   \n445                               NCC(O)c1ccc(O)c(O)c1         C8H11NO3   \n554   COc1cc2c(cc1O)C[C@H]1c3cc(O)c(OC)cc3CC[N+]1(C)C2       C20H24NO4+   \n613  C[C@@H]1O[C@@H](OC[C@H]2O[C@@H](Oc3cc4c(O)cc(O...       C27H31O15+   \n\n     stripped_formal_charges  \\\n4                          0   \n9                          0   \n13                         0   \n25                         0   \n34                         0   \n50                         0   \n54                         0   \n90                         0   \n94                         0   \n114                        0   \n146                        1   \n200                        1   \n236                        0   \n281                        1   \n306                        0   \n318                        1   \n357                        0   \n433                        1   \n445                        0   \n554                        1   \n613                        1   \n\n                                      uncharged_smiles uncharged_formula  \\\n4    C=C1c2c(Cl)ccc(O)c2C(=O)C2=C(O)[C@]3(O)C(=O)C(...      C22H21ClN2O8   \n9                                CNCC(O)c1ccc(O)c(O)c1          C9H13NO3   \n13   COc1cccc2c1C(=O)c1c(O)c3c(c(O)c1C2=O)C[C@@](O)...        C27H29NO11   \n25   CN[C@H](CC(C)C)C(=O)N[C@H]1C(=O)N[C@@H](CC(N)=...    C66H75Cl2N9O24   \n34   CCO.C[C@H]1c2cccc(O)c2C(O)=C2C(=O)[C@]3(O)C(O)...       C46H54N4O17   \n50                           O=C(O)C(O)Cc1ccc(O)c(O)c1           C9H10O5   \n54    Oc1cc(O)c2c(c1)O[C@H](c1ccc(O)c(O)c1)[C@@H](O)C2          C15H14O6   \n90   COc1cccc2c1C(=O)c1c(O)c3c(c(O)c1C2=O)C[C@@](O)...        C27H29NO10   \n94                    Oc1ccc(CC2NCCc3cc(O)c(O)cc32)cc1         C16H17NO3   \n114         O=c1c(O)c(-c2ccc(O)c(O)c2)oc2cc(O)cc(O)c12          C15H10O7   \n146  OC[C@H]1O[C@@H](Oc2cc3c(O)cc(O)cc3[o+]c2-c2ccc...        C21H21O11+   \n200  COc1ccc2c(c1O)-c1c(O)c(OC)cc3c1[C@H](C2)[N+](C...        C20H24NO4+   \n236  O=C(CCc1ccc(O)cc1)c1c(O)cc(O)cc1O[C@@H]1O[C@H]...         C21H24O10   \n281  COc1ccc2c(c1O)-c1c(O)c(OC)cc3c1[C@H](C2)[N+](C...        C20H24NO4+   \n306                                       Oc1cccc(O)n1           C5H5NO2   \n318          Oc1cc(O)c2cc(O)c(-c3ccc(O)c(O)c3)[o+]c2c1         C15H11O6+   \n357                 CC(CCc1ccc(O)cc1)NCCc1ccc(O)c(O)c1         C18H23NO3   \n433             Oc1cc(O)c2ccc(-c3ccc(O)c(O)c3)[o+]c2c1         C15H11O5+   \n445                               NCC(O)c1ccc(O)c(O)c1          C8H11NO3   \n554   COc1cc2c(cc1O)C[C@H]1c3cc(O)c(OC)cc3CC[N+]1(C)C2        C20H24NO4+   \n613  C[C@@H]1O[C@@H](OC[C@H]2O[C@@H](Oc3cc4c(O)cc(O...        C27H31O15+   \n\n     uncharged_formal_charges  monoisotopic_mass labels  \n4                           0         476.098643  check  \n9                           0         183.089543  check  \n13                          0         543.174061  check  \n25                          0        1447.430200  check  \n34                          0         934.348396  check  \n50                          0         198.052823  check  \n54                          0         290.079038  check  \n90                          0         527.179146  check  \n94                          0         271.120843  check  \n114                         0         302.042653  check  \n146                         1         449.107838  check  \n200                         1         342.169985  check  \n236                         0         436.136947  check  \n281                         1         342.169985  check  \n306                         0         111.032028  check  \n318                         1         287.055014  check  \n357                         0         301.167794  check  \n433                         1         271.060100  check  \n445                         0         169.073893  check  \n554                         1         342.169985  check  \n613                         1         595.165747  check  ",
      "text/html": "<div>\n<style scoped>\n    .dataframe tbody tr th:only-of-type {\n        vertical-align: middle;\n    }\n\n    .dataframe tbody tr th {\n        vertical-align: top;\n    }\n\n    .dataframe thead th {\n        text-align: right;\n    }\n</style>\n<table border=\"1\" class=\"dataframe\">\n  <thead>\n    <tr style=\"text-align: right;\">\n      <th></th>\n      <th>common name</th>\n      <th>smiles_fetched</th>\n      <th>rt (-) ttof</th>\n      <th>mix filename (pos)</th>\n      <th>mix filename (neg)</th>\n      <th>inchikey_feched</th>\n      <th>original_smiles</th>\n      <th>original_formula</th>\n      <th>original_formal_charges</th>\n      <th>stripped_smiles</th>\n      <th>stripped_formula</th>\n      <th>stripped_formal_charges</th>\n      <th>uncharged_smiles</th>\n      <th>uncharged_formula</th>\n      <th>uncharged_formal_charges</th>\n      <th>monoisotopic_mass</th>\n      <th>labels</th>\n    </tr>\n  </thead>\n  <tbody>\n    <tr>\n      <th>4</th>\n      <td>Meclocycline sulfosalicylate salt</td>\n      <td>OC(=O)c1cc(ccc1O)S(O)(=O)=O.[H][C@@]12[C@@H](O...</td>\n      <td>NaN</td>\n      <td>Polyphenols-pos-mix1</td>\n      <td>Polyphenols-neg-mix1</td>\n      <td>FYSVKUUNXYGFLA-CCHMMTNSSA-N</td>\n      <td>C=C1c2c(Cl)ccc(O)c2C(=O)C2=C(O)[C@]3(O)C(=O)C(...</td>\n      <td>C29H27ClN2O14S</td>\n      <td>0</td>\n      <td>C=C1c2c(Cl)ccc(O)c2C(=O)C2=C(O)[C@]3(O)C(=O)C(...</td>\n      <td>C22H21ClN2O8</td>\n      <td>0</td>\n      <td>C=C1c2c(Cl)ccc(O)c2C(=O)C2=C(O)[C@]3(O)C(=O)C(...</td>\n      <td>C22H21ClN2O8</td>\n      <td>0</td>\n      <td>476.098643</td>\n      <td>check</td>\n    </tr>\n    <tr>\n      <th>9</th>\n      <td>DL-Adrenaline Hydrochloride</td>\n      <td>Cl.CNCC(O)c1ccc(O)c(O)c1</td>\n      <td>0.312</td>\n      <td>Polyphenols-pos-mix2</td>\n      <td>Polyphenols-neg-mix2</td>\n      <td>ATADHKWKHYVBTJ-UHFFFAOYSA-N</td>\n      <td>CNCC(O)c1ccc(O)c(O)c1.Cl</td>\n      <td>C9H14ClNO3</td>\n      <td>0</td>\n      <td>CNCC(O)c1ccc(O)c(O)c1</td>\n      <td>C9H13NO3</td>\n      <td>0</td>\n      <td>CNCC(O)c1ccc(O)c(O)c1</td>\n      <td>C9H13NO3</td>\n      <td>0</td>\n      <td>183.089543</td>\n      <td>check</td>\n    </tr>\n    <tr>\n      <th>13</th>\n      <td>Doxorubicin hydrochloride</td>\n      <td>Cl.COc1cccc2C(=O)c3c(O)c4C[C@](O)(C[C@H](O[C@H...</td>\n      <td>2.917</td>\n      <td>Polyphenols-pos-mix2</td>\n      <td>Polyphenols-neg-mix2</td>\n      <td>MWWSFMDVAYGXBV-RUELKSSGSA-N</td>\n      <td>COc1cccc2c1C(=O)c1c(O)c3c(c(O)c1C2=O)C[C@@](O)...</td>\n      <td>C27H30ClNO11</td>\n      <td>0</td>\n      <td>COc1cccc2c1C(=O)c1c(O)c3c(c(O)c1C2=O)C[C@@](O)...</td>\n      <td>C27H29NO11</td>\n      <td>0</td>\n      <td>COc1cccc2c1C(=O)c1c(O)c3c(c(O)c1C2=O)C[C@@](O)...</td>\n      <td>C27H29NO11</td>\n      <td>0</td>\n      <td>543.174061</td>\n      <td>check</td>\n    </tr>\n    <tr>\n      <th>25</th>\n      <td>Vancomycin hydrochloride</td>\n      <td>Cl.CN[C@H](CC(C)C)C(=O)N[C@@H]1[C@H](O)c2ccc(O...</td>\n      <td>NaN</td>\n      <td>Polyphenols-pos-mix3</td>\n      <td>Polyphenols-neg-mix3</td>\n      <td>LCTORFDMHNKUSG-XTTLPDOESA-N</td>\n      <td>CN[C@H](CC(C)C)C(=O)N[C@H]1C(=O)N[C@@H](CC(N)=...</td>\n      <td>C66H76Cl3N9O24</td>\n      <td>0</td>\n      <td>CN[C@H](CC(C)C)C(=O)N[C@H]1C(=O)N[C@@H](CC(N)=...</td>\n      <td>C66H75Cl2N9O24</td>\n      <td>0</td>\n      <td>CN[C@H](CC(C)C)C(=O)N[C@H]1C(=O)N[C@@H](CC(N)=...</td>\n      <td>C66H75Cl2N9O24</td>\n      <td>0</td>\n      <td>1447.430200</td>\n      <td>check</td>\n    </tr>\n    <tr>\n      <th>34</th>\n      <td>Doxycycline (hyclate)</td>\n      <td>O.Cl.Cl.CCO.C[C@@H]1[C@H]2[C@H](O)[C@H]3[C@H](...</td>\n      <td>NaN</td>\n      <td>Polyphenols-pos-mix4</td>\n      <td>Polyphenols-neg-mix4</td>\n      <td>UHHHTIKWXBRCLT-VDBOFHIQSA-N</td>\n      <td>CCO.C[C@H]1c2cccc(O)c2C(O)=C2C(=O)[C@]3(O)C(O)...</td>\n      <td>C46H58Cl2N4O18</td>\n      <td>0</td>\n      <td>CCO.C[C@H]1c2cccc(O)c2C(O)=C2C(=O)[C@]3(O)C(O)...</td>\n      <td>C46H54N4O17</td>\n      <td>0</td>\n      <td>CCO.C[C@H]1c2cccc(O)c2C(O)=C2C(=O)[C@]3(O)C(O)...</td>\n      <td>C46H54N4O17</td>\n      <td>0</td>\n      <td>934.348396</td>\n      <td>check</td>\n    </tr>\n    <tr>\n      <th>50</th>\n      <td>Danshensu sodium salt</td>\n      <td>[Na+].OC(Cc1ccc(O)c(O)c1)C([O-])=O</td>\n      <td>1.187</td>\n      <td>Polyphenols-pos-mix6</td>\n      <td>Polyphenols-neg-mix6</td>\n      <td>ZMMKVDBZTXUHFO-UHFFFAOYSA-M</td>\n      <td>O=C([O-])C(O)Cc1ccc(O)c(O)c1.[Na+]</td>\n      <td>C9H9NaO5</td>\n      <td>0</td>\n      <td>O=C(O)C(O)Cc1ccc(O)c(O)c1</td>\n      <td>C9H10O5</td>\n      <td>0</td>\n      <td>O=C(O)C(O)Cc1ccc(O)c(O)c1</td>\n      <td>C9H10O5</td>\n      <td>0</td>\n      <td>198.052823</td>\n      <td>check</td>\n    </tr>\n    <tr>\n      <th>54</th>\n      <td>(+)-Catechin Hydrate</td>\n      <td>O.O[C@H]1Cc2c(O)cc(O)cc2O[C@@H]1c1ccc(O)c(O)c1</td>\n      <td>NaN</td>\n      <td>Polyphenols-pos-mix6</td>\n      <td>Polyphenols-neg-mix6</td>\n      <td>OFUMQWOJBVNKLR-NQQJLSKUSA-N</td>\n      <td>O.Oc1cc(O)c2c(c1)O[C@H](c1ccc(O)c(O)c1)[C@@H](...</td>\n      <td>C15H16O7</td>\n      <td>0</td>\n      <td>Oc1cc(O)c2c(c1)O[C@H](c1ccc(O)c(O)c1)[C@@H](O)C2</td>\n      <td>C15H14O6</td>\n      <td>0</td>\n      <td>Oc1cc(O)c2c(c1)O[C@H](c1ccc(O)c(O)c1)[C@@H](O)C2</td>\n      <td>C15H14O6</td>\n      <td>0</td>\n      <td>290.079038</td>\n      <td>check</td>\n    </tr>\n    <tr>\n      <th>90</th>\n      <td>Daunorubicin hydrochloride</td>\n      <td>Cl.COc1cccc2C(=O)c3c(O)c4C[C@](O)(C[C@H](O[C@H...</td>\n      <td>NaN</td>\n      <td>Polyphenols-pos-mix10</td>\n      <td>Polyphenols-neg-mix10</td>\n      <td>GUGHGUXZJWAIAS-QQYBVWGSSA-N</td>\n      <td>COc1cccc2c1C(=O)c1c(O)c3c(c(O)c1C2=O)C[C@@](O)...</td>\n      <td>C27H30ClNO10</td>\n      <td>0</td>\n      <td>COc1cccc2c1C(=O)c1c(O)c3c(c(O)c1C2=O)C[C@@](O)...</td>\n      <td>C27H29NO10</td>\n      <td>0</td>\n      <td>COc1cccc2c1C(=O)c1c(O)c3c(c(O)c1C2=O)C[C@@](O)...</td>\n      <td>C27H29NO10</td>\n      <td>0</td>\n      <td>527.179146</td>\n      <td>check</td>\n    </tr>\n    <tr>\n      <th>94</th>\n      <td>Higenamine hydrochloride</td>\n      <td>Cl.Oc1ccc(CC2NCCc3cc(O)c(O)cc23)cc1</td>\n      <td>1.606</td>\n      <td>Polyphenols-pos-mix10</td>\n      <td>Polyphenols-neg-mix10</td>\n      <td>SWWQQSDRUYSMAR-UHFFFAOYSA-N</td>\n      <td>Cl.Oc1ccc(CC2NCCc3cc(O)c(O)cc32)cc1</td>\n      <td>C16H18ClNO3</td>\n      <td>0</td>\n      <td>Oc1ccc(CC2NCCc3cc(O)c(O)cc32)cc1</td>\n      <td>C16H17NO3</td>\n      <td>0</td>\n      <td>Oc1ccc(CC2NCCc3cc(O)c(O)cc32)cc1</td>\n      <td>C16H17NO3</td>\n      <td>0</td>\n      <td>271.120843</td>\n      <td>check</td>\n    </tr>\n    <tr>\n      <th>114</th>\n      <td>Quercetin Dihydrate</td>\n      <td>O.O.Oc1cc(O)c2c(c1)oc(-c1ccc(O)c(O)c1)c(O)c2=O</td>\n      <td>NaN</td>\n      <td>Polyphenols-pos-mix12</td>\n      <td>Polyphenols-neg-mix12</td>\n      <td>GMGIWEZSKCNYSW-UHFFFAOYSA-N</td>\n      <td>O.O.O=c1c(O)c(-c2ccc(O)c(O)c2)oc2cc(O)cc(O)c12</td>\n      <td>C15H14O9</td>\n      <td>0</td>\n      <td>O=c1c(O)c(-c2ccc(O)c(O)c2)oc2cc(O)cc(O)c12</td>\n      <td>C15H10O7</td>\n      <td>0</td>\n      <td>O=c1c(O)c(-c2ccc(O)c(O)c2)oc2cc(O)cc(O)c12</td>\n      <td>C15H10O7</td>\n      <td>0</td>\n      <td>302.042653</td>\n      <td>check</td>\n    </tr>\n    <tr>\n      <th>146</th>\n      <td>Kuromanin chloride</td>\n      <td>[Cl-].OC[C@H]1O[C@@H](Oc2cc3c(O)cc(O)cc3[o+]c2...</td>\n      <td>NaN</td>\n      <td>Polyphenols-pos-mix16</td>\n      <td>Polyphenols-neg-mix16</td>\n      <td>YTMNONATNXDQJF-UBNZBFALSA-N</td>\n      <td>OC[C@H]1O[C@@H](Oc2cc3c(O)cc(O)cc3[o+]c2-c2ccc...</td>\n      <td>C21H21ClO11</td>\n      <td>0</td>\n      <td>OC[C@H]1O[C@@H](Oc2cc3c(O)cc(O)cc3[o+]c2-c2ccc...</td>\n      <td>C21H21O11+</td>\n      <td>1</td>\n      <td>OC[C@H]1O[C@@H](Oc2cc3c(O)cc(O)cc3[o+]c2-c2ccc...</td>\n      <td>C21H21O11+</td>\n      <td>1</td>\n      <td>449.107838</td>\n      <td>check</td>\n    </tr>\n    <tr>\n      <th>200</th>\n      <td>(+)-Magnoflorine iodide</td>\n      <td>[I-].COc1ccc2C[C@H]3c4c(CC[N+]3(C)C)cc(OC)c(O)...</td>\n      <td>NaN</td>\n      <td>Polyphenols-pos-mix21</td>\n      <td>Polyphenols-neg-mix21</td>\n      <td>ODRHNGNRVVELAJ-ZOWNYOTGSA-N</td>\n      <td>COc1ccc2c(c1O)-c1c(O)c(OC)cc3c1[C@H](C2)[N+](C...</td>\n      <td>C20H24INO4</td>\n      <td>0</td>\n      <td>COc1ccc2c(c1O)-c1c(O)c(OC)cc3c1[C@H](C2)[N+](C...</td>\n      <td>C20H24NO4+</td>\n      <td>1</td>\n      <td>COc1ccc2c(c1O)-c1c(O)c(OC)cc3c1[C@H](C2)[N+](C...</td>\n      <td>C20H24NO4+</td>\n      <td>1</td>\n      <td>342.169985</td>\n      <td>check</td>\n    </tr>\n    <tr>\n      <th>236</th>\n      <td>Phlorizin dihydrate</td>\n      <td>O.O.OC[C@H]1O[C@@H](Oc2cc(O)cc(O)c2C(=O)CCc2cc...</td>\n      <td>6.998</td>\n      <td>Polyphenols-pos-mix25</td>\n      <td>Polyphenols-neg-mix25</td>\n      <td>XQWBNXSENPTIDY-YXMARJSJSA-N</td>\n      <td>O.O.O=C(CCc1ccc(O)cc1)c1c(O)cc(O)cc1O[C@@H]1O[...</td>\n      <td>C21H28O12</td>\n      <td>0</td>\n      <td>O=C(CCc1ccc(O)cc1)c1c(O)cc(O)cc1O[C@@H]1O[C@H]...</td>\n      <td>C21H24O10</td>\n      <td>0</td>\n      <td>O=C(CCc1ccc(O)cc1)c1c(O)cc(O)cc1O[C@@H]1O[C@H]...</td>\n      <td>C21H24O10</td>\n      <td>0</td>\n      <td>436.136947</td>\n      <td>check</td>\n    </tr>\n    <tr>\n      <th>281</th>\n      <td>(+)-Magnoflorine chloride</td>\n      <td>[Cl-].COc1ccc2C[C@H]3c4c(CC[N+]3(C)C)cc(OC)c(O...</td>\n      <td>NaN</td>\n      <td>Polyphenols-pos-mix30</td>\n      <td>Polyphenols-neg-mix30</td>\n      <td>STVJLBTYWBXDBP-ZOWNYOTGSA-N</td>\n      <td>COc1ccc2c(c1O)-c1c(O)c(OC)cc3c1[C@H](C2)[N+](C...</td>\n      <td>C20H24ClNO4</td>\n      <td>0</td>\n      <td>COc1ccc2c(c1O)-c1c(O)c(OC)cc3c1[C@H](C2)[N+](C...</td>\n      <td>C20H24NO4+</td>\n      <td>1</td>\n      <td>COc1ccc2c(c1O)-c1c(O)c(OC)cc3c1[C@H](C2)[N+](C...</td>\n      <td>C20H24NO4+</td>\n      <td>1</td>\n      <td>342.169985</td>\n      <td>check</td>\n    </tr>\n    <tr>\n      <th>306</th>\n      <td>6-Hydroxypyridin-2(1H)-one hydrochloride</td>\n      <td>Cl.Oc1cccc(O)n1</td>\n      <td>NaN</td>\n      <td>Polyphenols-pos-mix32</td>\n      <td>Polyphenols-neg-mix32</td>\n      <td>HNWWAWKDVFVJRG-UHFFFAOYSA-N</td>\n      <td>Cl.Oc1cccc(O)n1</td>\n      <td>C5H6ClNO2</td>\n      <td>0</td>\n      <td>Oc1cccc(O)n1</td>\n      <td>C5H5NO2</td>\n      <td>0</td>\n      <td>Oc1cccc(O)n1</td>\n      <td>C5H5NO2</td>\n      <td>0</td>\n      <td>111.032028</td>\n      <td>check</td>\n    </tr>\n    <tr>\n      <th>318</th>\n      <td>Cyanidin Chloride</td>\n      <td>[Cl-].Oc1cc(O)c2cc(O)c([o+]c2c1)-c1ccc(O)c(O)c1</td>\n      <td>3.311</td>\n      <td>Polyphenols-pos-mix33</td>\n      <td>Polyphenols-neg-mix33</td>\n      <td>COAWNPJQKJEHPG-UHFFFAOYSA-N</td>\n      <td>Oc1cc(O)c2cc(O)c(-c3ccc(O)c(O)c3)[o+]c2c1.[Cl-]</td>\n      <td>C15H11ClO6</td>\n      <td>0</td>\n      <td>Oc1cc(O)c2cc(O)c(-c3ccc(O)c(O)c3)[o+]c2c1</td>\n      <td>C15H11O6+</td>\n      <td>1</td>\n      <td>Oc1cc(O)c2cc(O)c(-c3ccc(O)c(O)c3)[o+]c2c1</td>\n      <td>C15H11O6+</td>\n      <td>1</td>\n      <td>287.055014</td>\n      <td>check</td>\n    </tr>\n    <tr>\n      <th>357</th>\n      <td>Dobutamine hydrochloride</td>\n      <td>Cl.CC(CCc1ccc(O)cc1)NCCc1ccc(O)c(O)c1</td>\n      <td>2.1</td>\n      <td>Polyphenols-pos-mix37</td>\n      <td>Polyphenols-neg-mix37</td>\n      <td>BQKADKWNRWCIJL-UHFFFAOYSA-N</td>\n      <td>CC(CCc1ccc(O)cc1)NCCc1ccc(O)c(O)c1.Cl</td>\n      <td>C18H24ClNO3</td>\n      <td>0</td>\n      <td>CC(CCc1ccc(O)cc1)NCCc1ccc(O)c(O)c1</td>\n      <td>C18H23NO3</td>\n      <td>0</td>\n      <td>CC(CCc1ccc(O)cc1)NCCc1ccc(O)c(O)c1</td>\n      <td>C18H23NO3</td>\n      <td>0</td>\n      <td>301.167794</td>\n      <td>check</td>\n    </tr>\n    <tr>\n      <th>433</th>\n      <td>Luteolinidin chloride</td>\n      <td>[Cl-].OC1=CC(O)=C2C=CC(=[O+]C2=C1)C=3C=CC(O)=C...</td>\n      <td>NaN</td>\n      <td>Polyphenols-pos-mix45</td>\n      <td>Polyphenols-neg-mix45</td>\n      <td>MMAGHFOHXGFQRZ-UHFFFAOYSA-N</td>\n      <td>Oc1cc(O)c2ccc(-c3ccc(O)c(O)c3)[o+]c2c1.[Cl-]</td>\n      <td>C15H11ClO5</td>\n      <td>0</td>\n      <td>Oc1cc(O)c2ccc(-c3ccc(O)c(O)c3)[o+]c2c1</td>\n      <td>C15H11O5+</td>\n      <td>1</td>\n      <td>Oc1cc(O)c2ccc(-c3ccc(O)c(O)c3)[o+]c2c1</td>\n      <td>C15H11O5+</td>\n      <td>1</td>\n      <td>271.060100</td>\n      <td>check</td>\n    </tr>\n    <tr>\n      <th>445</th>\n      <td>DL-Norepinephrine hydrochloride</td>\n      <td>Cl.OC1=CC=C(C=C1O)C(O)CN</td>\n      <td>0.28</td>\n      <td>Polyphenols-pos-mix46</td>\n      <td>Polyphenols-neg-mix46</td>\n      <td>FQTFHMSZCSUVEU-UHFFFAOYSA-N</td>\n      <td>Cl.NCC(O)c1ccc(O)c(O)c1</td>\n      <td>C8H12ClNO3</td>\n      <td>0</td>\n      <td>NCC(O)c1ccc(O)c(O)c1</td>\n      <td>C8H11NO3</td>\n      <td>0</td>\n      <td>NCC(O)c1ccc(O)c(O)c1</td>\n      <td>C8H11NO3</td>\n      <td>0</td>\n      <td>169.073893</td>\n      <td>check</td>\n    </tr>\n    <tr>\n      <th>554</th>\n      <td>Phellodendrine chloride</td>\n      <td>[Cl-].COc1cc2C[N+]3(C)CCc4cc(OC)c(O)cc4[C@@H]3...</td>\n      <td>1.952 OR 2.038</td>\n      <td>Polyphenols-pos-mix57</td>\n      <td>Polyphenols-neg-mix57</td>\n      <td>DGLDSNPMIYUWGN-OOJQBDKLSA-N</td>\n      <td>COc1cc2c(cc1O)C[C@H]1c3cc(O)c(OC)cc3CC[N+]1(C)...</td>\n      <td>C20H24ClNO4</td>\n      <td>0</td>\n      <td>COc1cc2c(cc1O)C[C@H]1c3cc(O)c(OC)cc3CC[N+]1(C)C2</td>\n      <td>C20H24NO4+</td>\n      <td>1</td>\n      <td>COc1cc2c(cc1O)C[C@H]1c3cc(O)c(OC)cc3CC[N+]1(C)C2</td>\n      <td>C20H24NO4+</td>\n      <td>1</td>\n      <td>342.169985</td>\n      <td>check</td>\n    </tr>\n    <tr>\n      <th>613</th>\n      <td>Keracyanin chloride</td>\n      <td>O(C=1C(=[O+]C2=C(C1)C(O)=CC(O)=C2)C3=CC(O)=C(O...</td>\n      <td>NaN</td>\n      <td>Polyphenols-pos-mix63</td>\n      <td>Polyphenols-neg-mix63</td>\n      <td>ADZHXBNWNZIHIX-XYGAWYNKSA-N</td>\n      <td>C[C@@H]1O[C@@H](OC[C@H]2O[C@@H](Oc3cc4c(O)cc(O...</td>\n      <td>C27H31ClO15</td>\n      <td>0</td>\n      <td>C[C@@H]1O[C@@H](OC[C@H]2O[C@@H](Oc3cc4c(O)cc(O...</td>\n      <td>C27H31O15+</td>\n      <td>1</td>\n      <td>C[C@@H]1O[C@@H](OC[C@H]2O[C@@H](Oc3cc4c(O)cc(O...</td>\n      <td>C27H31O15+</td>\n      <td>1</td>\n      <td>595.165747</td>\n      <td>check</td>\n    </tr>\n  </tbody>\n</table>\n</div>"
     },
     "execution_count": 103,
     "metadata": {},
     "output_type": "execute_result"
    }
   ],
   "source": [
    "df_cleaned['mix_pos']="
   ],
   "metadata": {
    "collapsed": false,
    "pycharm": {
     "name": "#%%\n"
    }
   }
  },
  {
   "cell_type": "code",
   "execution_count": 70,
   "outputs": [],
   "source": [
    "from rdkit.Chem.Draw import IPythonConsole\n",
    "\n",
    "IPythonConsole.molSize = (800, 800)"
   ],
   "metadata": {
    "collapsed": false,
    "pycharm": {
     "name": "#%%\n"
    }
   }
  },
  {
   "cell_type": "code",
   "execution_count": 79,
   "outputs": [],
   "source": [
    "from rdkit.Chem.rdMolDescriptors import CalcMolFormula\n",
    "from rdkit.Chem.Descriptors import ExactMolWt"
   ],
   "metadata": {
    "collapsed": false,
    "pycharm": {
     "name": "#%%\n"
    }
   }
  },
  {
   "cell_type": "code",
   "execution_count": 105,
   "outputs": [],
   "source": [
    "std_list_pos = { 'name': df_cleaned['common name'],\n",
    "             # 'abb':std_list_nt['abbreviated'],\n",
    "             # 'inchikey': std_list_nt['uncharged_inchikey'],\n",
    "             'mix':df_cleaned['mix filename (pos)'],\n",
    "            'rt_reference':df_cleaned['rt (-) ttof'],\n",
    "             'smiles':df_cleaned['uncharged_smiles'],\n",
    "             'formula':df_cleaned['uncharged_formula'],\n",
    "             # 'mono_mass':df_cleaned['monoisotopic_mass'],\n",
    "             'formal_charges':df_cleaned['uncharged_formal_charges'],\n",
    "            'label':df_cleaned['labels']\n",
    "             # 'rt_plus':std_list_nt['rt_plus'],\n",
    "             # 'rt_minus':std_list_nt['rt_minus']\n",
    "             }\n",
    "std_list_pos = pd.DataFrame(std_list_pos)\n",
    "std_list_neg = { 'name': df_cleaned['common name'],\n",
    "                 # 'abb':std_list_nt['abbreviated'],\n",
    "                 # 'inchikey': std_list_nt['uncharged_inchikey'],\n",
    "                 'mix':df_cleaned['mix filename (neg)'],\n",
    "                 'rt_reference':df_cleaned['rt (-) ttof'],\n",
    "                 'smiles':df_cleaned['uncharged_smiles'],\n",
    "                 'formula':df_cleaned['uncharged_formula'],\n",
    "                 # 'mono_mass':df_cleaned['monoisotopic_mass'],\n",
    "                 'formal_charges':df_cleaned['uncharged_formal_charges'],\n",
    "                 'label':df_cleaned['labels'],\n",
    "                 # 'rt_plus':std_list_nt['rt_plus'],\n",
    "                 # 'rt_minus':std_list_nt['rt_minus']\n",
    "                 }\n",
    "std_list_neg = pd.DataFrame(std_list_neg)"
   ],
   "metadata": {
    "collapsed": false,
    "pycharm": {
     "name": "#%%\n"
    }
   }
  },
  {
   "cell_type": "code",
   "execution_count": 106,
   "outputs": [
    {
     "data": {
      "text/plain": "                                         name                    mix  \\\n0                        Theaflavin-3-gallate   Polyphenols-pos-mix1   \n1                                 Daurisoline   Polyphenols-pos-mix1   \n2                                Ellagic acid   Polyphenols-pos-mix1   \n3                           Methyl-Hesperidin   Polyphenols-pos-mix1   \n4           Meclocycline sulfosalicylate salt   Polyphenols-pos-mix1   \n..                                        ...                    ...   \n635                                  Apigenin  Polyphenols-pos-mix66   \n636                                 Laetanine  Polyphenols-pos-mix66   \n637  Apigenin-7-O-(2G-rhamnosyl)gentiobioside  Polyphenols-pos-mix66   \n638                              Cirsimaritin  Polyphenols-pos-mix66   \n639                                    L-DOPA  Polyphenols-pos-mix66   \n\n    rt_reference                                             smiles  \\\n0          2.958  O=C(O[C@@H]1Cc2c(O)cc(O)cc2O[C@@H]1c1cc(O)c(=O...   \n1          2.311  COc1cc2c(cc1O)[C@@H](Cc1ccc(O)c(Oc3ccc(C[C@@H]...   \n2          2.227         O=c1oc2c(O)c(O)cc3c(=O)oc4c(O)c(O)cc1c4c23   \n3          2.882  COc1ccc([C@@H]2CC(=O)c3c(O)cc(O[C@@H]4O[C@H](C...   \n4            NaN  C=C1c2c(Cl)ccc(O)c2C(=O)C2=C(O)[C@]3(O)C(=O)C(...   \n..           ...                                                ...   \n635        3.266               O=c1cc(-c2ccc(O)cc2)oc2cc(O)cc(O)c12   \n636        1.959       COc1cc2c(cc1O)-c1c(OC)c(O)cc3c1[C@H](C2)NCC3   \n637        2.285  CC1OC(OC2C(Oc3cc(O)c4c(=O)cc(-c5ccc(O)cc5)oc4c...   \n638        3.772            COc1cc2oc(-c3ccc(O)cc3)cc(=O)c2c(O)c1OC   \n639         0.33                     N[C@@H](Cc1ccc(O)c(O)c1)C(=O)O   \n\n          formula  formal_charges  label  \n0       C36H28O16               0   pass  \n1      C37H42N2O6               0   pass  \n2         C14H6O8               0   pass  \n3       C29H36O15               0   pass  \n4    C22H21ClN2O8               0  check  \n..            ...             ...    ...  \n635      C15H10O5               0   pass  \n636     C18H19NO4               0   pass  \n637     C33H40O19               0   pass  \n638      C17H14O6               0   pass  \n639      C9H11NO4               0   pass  \n\n[640 rows x 7 columns]",
      "text/html": "<div>\n<style scoped>\n    .dataframe tbody tr th:only-of-type {\n        vertical-align: middle;\n    }\n\n    .dataframe tbody tr th {\n        vertical-align: top;\n    }\n\n    .dataframe thead th {\n        text-align: right;\n    }\n</style>\n<table border=\"1\" class=\"dataframe\">\n  <thead>\n    <tr style=\"text-align: right;\">\n      <th></th>\n      <th>name</th>\n      <th>mix</th>\n      <th>rt_reference</th>\n      <th>smiles</th>\n      <th>formula</th>\n      <th>formal_charges</th>\n      <th>label</th>\n    </tr>\n  </thead>\n  <tbody>\n    <tr>\n      <th>0</th>\n      <td>Theaflavin-3-gallate</td>\n      <td>Polyphenols-pos-mix1</td>\n      <td>2.958</td>\n      <td>O=C(O[C@@H]1Cc2c(O)cc(O)cc2O[C@@H]1c1cc(O)c(=O...</td>\n      <td>C36H28O16</td>\n      <td>0</td>\n      <td>pass</td>\n    </tr>\n    <tr>\n      <th>1</th>\n      <td>Daurisoline</td>\n      <td>Polyphenols-pos-mix1</td>\n      <td>2.311</td>\n      <td>COc1cc2c(cc1O)[C@@H](Cc1ccc(O)c(Oc3ccc(C[C@@H]...</td>\n      <td>C37H42N2O6</td>\n      <td>0</td>\n      <td>pass</td>\n    </tr>\n    <tr>\n      <th>2</th>\n      <td>Ellagic acid</td>\n      <td>Polyphenols-pos-mix1</td>\n      <td>2.227</td>\n      <td>O=c1oc2c(O)c(O)cc3c(=O)oc4c(O)c(O)cc1c4c23</td>\n      <td>C14H6O8</td>\n      <td>0</td>\n      <td>pass</td>\n    </tr>\n    <tr>\n      <th>3</th>\n      <td>Methyl-Hesperidin</td>\n      <td>Polyphenols-pos-mix1</td>\n      <td>2.882</td>\n      <td>COc1ccc([C@@H]2CC(=O)c3c(O)cc(O[C@@H]4O[C@H](C...</td>\n      <td>C29H36O15</td>\n      <td>0</td>\n      <td>pass</td>\n    </tr>\n    <tr>\n      <th>4</th>\n      <td>Meclocycline sulfosalicylate salt</td>\n      <td>Polyphenols-pos-mix1</td>\n      <td>NaN</td>\n      <td>C=C1c2c(Cl)ccc(O)c2C(=O)C2=C(O)[C@]3(O)C(=O)C(...</td>\n      <td>C22H21ClN2O8</td>\n      <td>0</td>\n      <td>check</td>\n    </tr>\n    <tr>\n      <th>...</th>\n      <td>...</td>\n      <td>...</td>\n      <td>...</td>\n      <td>...</td>\n      <td>...</td>\n      <td>...</td>\n      <td>...</td>\n    </tr>\n    <tr>\n      <th>635</th>\n      <td>Apigenin</td>\n      <td>Polyphenols-pos-mix66</td>\n      <td>3.266</td>\n      <td>O=c1cc(-c2ccc(O)cc2)oc2cc(O)cc(O)c12</td>\n      <td>C15H10O5</td>\n      <td>0</td>\n      <td>pass</td>\n    </tr>\n    <tr>\n      <th>636</th>\n      <td>Laetanine</td>\n      <td>Polyphenols-pos-mix66</td>\n      <td>1.959</td>\n      <td>COc1cc2c(cc1O)-c1c(OC)c(O)cc3c1[C@H](C2)NCC3</td>\n      <td>C18H19NO4</td>\n      <td>0</td>\n      <td>pass</td>\n    </tr>\n    <tr>\n      <th>637</th>\n      <td>Apigenin-7-O-(2G-rhamnosyl)gentiobioside</td>\n      <td>Polyphenols-pos-mix66</td>\n      <td>2.285</td>\n      <td>CC1OC(OC2C(Oc3cc(O)c4c(=O)cc(-c5ccc(O)cc5)oc4c...</td>\n      <td>C33H40O19</td>\n      <td>0</td>\n      <td>pass</td>\n    </tr>\n    <tr>\n      <th>638</th>\n      <td>Cirsimaritin</td>\n      <td>Polyphenols-pos-mix66</td>\n      <td>3.772</td>\n      <td>COc1cc2oc(-c3ccc(O)cc3)cc(=O)c2c(O)c1OC</td>\n      <td>C17H14O6</td>\n      <td>0</td>\n      <td>pass</td>\n    </tr>\n    <tr>\n      <th>639</th>\n      <td>L-DOPA</td>\n      <td>Polyphenols-pos-mix66</td>\n      <td>0.33</td>\n      <td>N[C@@H](Cc1ccc(O)c(O)c1)C(=O)O</td>\n      <td>C9H11NO4</td>\n      <td>0</td>\n      <td>pass</td>\n    </tr>\n  </tbody>\n</table>\n<p>640 rows × 7 columns</p>\n</div>"
     },
     "execution_count": 106,
     "metadata": {},
     "output_type": "execute_result"
    }
   ],
   "source": [
    "std_list_pos"
   ],
   "metadata": {
    "collapsed": false,
    "pycharm": {
     "name": "#%%\n"
    }
   }
  },
  {
   "cell_type": "code",
   "execution_count": 113,
   "outputs": [],
   "source": [
    "std_list_pos.to_csv(os.path.join(master_dir, 'std_list_pos.csv'), index = False)\n",
    "std_list_neg.to_csv(os.path.join(master_dir, 'std_list_neg.csv'), index = False)"
   ],
   "metadata": {
    "collapsed": false,
    "pycharm": {
     "name": "#%%\n"
    }
   }
  }
 ],
 "metadata": {
  "kernelspec": {
   "name": "alphapept_env",
   "language": "python",
   "display_name": "alphapept_env"
  },
  "language_info": {
   "codemirror_mode": {
    "name": "ipython",
    "version": 2
   },
   "file_extension": ".py",
   "mimetype": "text/x-python",
   "name": "python",
   "nbconvert_exporter": "python",
   "pygments_lexer": "ipython2",
   "version": "2.7.6"
  }
 },
 "nbformat": 4,
 "nbformat_minor": 0
}