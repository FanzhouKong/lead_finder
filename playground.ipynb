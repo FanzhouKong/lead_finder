{
 "cells": [
  {
   "cell_type": "code",
   "execution_count": 161,
   "metadata": {
    "ExecuteTime": {
     "end_time": "2023-07-26T20:42:51.938357Z",
     "start_time": "2023-07-26T20:42:51.817047Z"
    }
   },
   "outputs": [
    {
     "name": "stdout",
     "output_type": "stream",
     "text": [
      "The autoreload extension is already loaded. To reload it, use:\n",
      "  %reload_ext autoreload\n"
     ]
    }
   ],
   "source": [
    "import pandas as pd\n",
    "%load_ext autoreload\n",
    "\n",
    "%autoreload 2\n",
    "from tqdm import tqdm\n",
    "import os\n",
    "import numpy as np\n",
    "from alphapept.feature_finding import extract_hills, remove_duplicate_hills, split_hills, filter_hills, get_hill_data, get_pre_isotope_patterns, get_isotope_patterns, feature_finder_report\n",
    "from alphapept.constants import averagine_aa, isotopes\n",
    "from toolsets.file_io import readin_peak_list\n",
    "from toolsets.search import quick_search_values, string_search\n",
    "from toolsets.ff_droup import process_mzml, EIC, get_EIC_list\n",
    "from feature_finding.load_mzml_data import load_mzml_data\n",
    "import toolsets.spectra_operations as so\n",
    "from toolsets.spectra_plotter import head_to_tail_plot\n",
    "from toolsets.flash_entropy_helper import flash_entropy, flash_entropy_simple"
   ]
  },
  {
   "cell_type": "code",
   "execution_count": 1,
   "outputs": [],
   "source": [
    "peak_list_pos_dir = '/Volumes/Brother_cow/brighseed/peak_list/20230206_PHV_H2L_1870AX_M5P2_M7P1/pos'\n",
    "mzml_dir = '/Users/fanzhou.kong/Dropbox (Brightseed)/Mac/Documents/GitHub/data_garage/brighseed/MZMLS/20230206_PHV_H2L_1870AX_M5P2_M7P1'"
   ],
   "metadata": {
    "collapsed": false,
    "ExecuteTime": {
     "end_time": "2023-06-28T19:09:01.852357Z",
     "start_time": "2023-06-28T19:09:01.847354Z"
    }
   }
  },
  {
   "cell_type": "markdown",
   "source": [
    "# MSDIAL result analysis"
   ],
   "metadata": {
    "collapsed": false
   }
  },
  {
   "cell_type": "code",
   "execution_count": 797,
   "outputs": [],
   "source": [
    "ms_dial_result = readin_MSDIAL(os.path.join(peak_list_pos_dir, '1870_AX_M5P2_M7P1_M7_X24_P.txt'))"
   ],
   "metadata": {
    "collapsed": false,
    "ExecuteTime": {
     "end_time": "2023-06-27T23:20:01.559927Z",
     "start_time": "2023-06-27T23:20:01.073569Z"
    }
   }
  },
  {
   "cell_type": "code",
   "execution_count": 791,
   "outputs": [
    {
     "data": {
      "text/plain": "Empty DataFrame\nColumns: [PeakID, Title, Scans, RT left(min), RT (min), RT right (min), Precursor m/z, Height, Area, Model masses, Adduct, Isotope, Comment, Reference RT, Reference m/z, Formula, Ontology, InChIKey, SMILES, Annotation tag (VS1.0), RT matched, m/z matched, MS/MS matched, RT similarity, Dot product, Reverse dot product, Fragment presence %, Total score, S/N, MS1 isotopes, MSMS spectrum]\nIndex: []\n\n[0 rows x 31 columns]",
      "text/html": "<div>\n<style scoped>\n    .dataframe tbody tr th:only-of-type {\n        vertical-align: middle;\n    }\n\n    .dataframe tbody tr th {\n        vertical-align: top;\n    }\n\n    .dataframe thead th {\n        text-align: right;\n    }\n</style>\n<table border=\"1\" class=\"dataframe\">\n  <thead>\n    <tr style=\"text-align: right;\">\n      <th></th>\n      <th>PeakID</th>\n      <th>Title</th>\n      <th>Scans</th>\n      <th>RT left(min)</th>\n      <th>RT (min)</th>\n      <th>RT right (min)</th>\n      <th>Precursor m/z</th>\n      <th>Height</th>\n      <th>Area</th>\n      <th>Model masses</th>\n      <th>...</th>\n      <th>m/z matched</th>\n      <th>MS/MS matched</th>\n      <th>RT similarity</th>\n      <th>Dot product</th>\n      <th>Reverse dot product</th>\n      <th>Fragment presence %</th>\n      <th>Total score</th>\n      <th>S/N</th>\n      <th>MS1 isotopes</th>\n      <th>MSMS spectrum</th>\n    </tr>\n  </thead>\n  <tbody>\n  </tbody>\n</table>\n<p>0 rows × 31 columns</p>\n</div>"
     },
     "execution_count": 791,
     "metadata": {},
     "output_type": "execute_result"
    }
   ],
   "source": [
    "mz = 437.2140\n",
    "quick_search_values(ms_dial_result, 'Precursor m/z',mz-0.005, mz+0.005, ifsorted=False)"
   ],
   "metadata": {
    "collapsed": false,
    "ExecuteTime": {
     "end_time": "2023-06-27T23:18:56.275568Z",
     "start_time": "2023-06-27T23:18:56.240197Z"
    }
   }
  },
  {
   "cell_type": "code",
   "execution_count": null,
   "outputs": [],
   "source": [
    "for i in range(e.shape[0]):\n",
    "    e.iloc[i, qc] = e.iloc[i, :].groupby(batch.iloc[0, :]).apply(\n",
    "        lambda x: x[x.iloc[:, 1]].iloc[:, 0].median() - x[~x.iloc[:, 1]].iloc[:, 0].median()).values"
   ],
   "metadata": {
    "collapsed": false
   }
  },
  {
   "cell_type": "code",
   "execution_count": 798,
   "outputs": [
    {
     "data": {
      "text/plain": "      PeakID    Title  Scans  RT left(min)  RT (min)  RT right (min)  \\\n3383    3383  Unknown    905      2.933113   3.23033        3.504901   \n\n      Precursor m/z         Height      Area  Model masses  ... m/z matched  \\\n3383       447.0926  159414.578125  974788.5           NaN  ...       False   \n\n     MS/MS matched RT similarity  Dot product  Reverse dot product  \\\n3383         False           NaN          NaN                  NaN   \n\n      Fragment presence %  Total score       S/N  \\\n3383                  NaN          NaN  3188.292   \n\n                                           MS1 isotopes  MSMS spectrum  \n3383  447.09259:417997 447.27844:61532 448.09561:102...            NaN  \n\n[1 rows x 31 columns]",
      "text/html": "<div>\n<style scoped>\n    .dataframe tbody tr th:only-of-type {\n        vertical-align: middle;\n    }\n\n    .dataframe tbody tr th {\n        vertical-align: top;\n    }\n\n    .dataframe thead th {\n        text-align: right;\n    }\n</style>\n<table border=\"1\" class=\"dataframe\">\n  <thead>\n    <tr style=\"text-align: right;\">\n      <th></th>\n      <th>PeakID</th>\n      <th>Title</th>\n      <th>Scans</th>\n      <th>RT left(min)</th>\n      <th>RT (min)</th>\n      <th>RT right (min)</th>\n      <th>Precursor m/z</th>\n      <th>Height</th>\n      <th>Area</th>\n      <th>Model masses</th>\n      <th>...</th>\n      <th>m/z matched</th>\n      <th>MS/MS matched</th>\n      <th>RT similarity</th>\n      <th>Dot product</th>\n      <th>Reverse dot product</th>\n      <th>Fragment presence %</th>\n      <th>Total score</th>\n      <th>S/N</th>\n      <th>MS1 isotopes</th>\n      <th>MSMS spectrum</th>\n    </tr>\n  </thead>\n  <tbody>\n    <tr>\n      <th>3383</th>\n      <td>3383</td>\n      <td>Unknown</td>\n      <td>905</td>\n      <td>2.933113</td>\n      <td>3.23033</td>\n      <td>3.504901</td>\n      <td>447.0926</td>\n      <td>159414.578125</td>\n      <td>974788.5</td>\n      <td>NaN</td>\n      <td>...</td>\n      <td>False</td>\n      <td>False</td>\n      <td>NaN</td>\n      <td>NaN</td>\n      <td>NaN</td>\n      <td>NaN</td>\n      <td>NaN</td>\n      <td>3188.292</td>\n      <td>447.09259:417997 447.27844:61532 448.09561:102...</td>\n      <td>NaN</td>\n    </tr>\n  </tbody>\n</table>\n<p>1 rows × 31 columns</p>\n</div>"
     },
     "execution_count": 798,
     "metadata": {},
     "output_type": "execute_result"
    }
   ],
   "source": [
    "mz = 447.0927\n",
    "quick_search_values(ms_dial_result, 'Precursor m/z',mz-0.005, mz+0.005, ifsorted=False)"
   ],
   "metadata": {
    "collapsed": false,
    "ExecuteTime": {
     "end_time": "2023-06-27T23:20:02.778821Z",
     "start_time": "2023-06-27T23:20:02.725093Z"
    }
   }
  },
  {
   "cell_type": "code",
   "execution_count": 799,
   "outputs": [
    {
     "data": {
      "text/plain": "      PeakID    Title  Scans  RT left(min)  RT (min)  RT right (min)  \\\n2203    2203  Unknown    829      2.605548  2.951403         3.23033   \n\n      Precursor m/z        Height           Area  Model masses  ...  \\\n2203       449.1078  21049.837891  131978.046875           NaN  ...   \n\n     m/z matched MS/MS matched RT similarity  Dot product  \\\n2203       False         False           NaN          NaN   \n\n      Reverse dot product  Fragment presence %  Total score       S/N  \\\n2203                  NaN                  NaN          NaN  420.9967   \n\n                                           MS1 isotopes  MSMS spectrum  \n2203  449.10782:46597 450.11615:160650 450.25171:150...            NaN  \n\n[1 rows x 31 columns]",
      "text/html": "<div>\n<style scoped>\n    .dataframe tbody tr th:only-of-type {\n        vertical-align: middle;\n    }\n\n    .dataframe tbody tr th {\n        vertical-align: top;\n    }\n\n    .dataframe thead th {\n        text-align: right;\n    }\n</style>\n<table border=\"1\" class=\"dataframe\">\n  <thead>\n    <tr style=\"text-align: right;\">\n      <th></th>\n      <th>PeakID</th>\n      <th>Title</th>\n      <th>Scans</th>\n      <th>RT left(min)</th>\n      <th>RT (min)</th>\n      <th>RT right (min)</th>\n      <th>Precursor m/z</th>\n      <th>Height</th>\n      <th>Area</th>\n      <th>Model masses</th>\n      <th>...</th>\n      <th>m/z matched</th>\n      <th>MS/MS matched</th>\n      <th>RT similarity</th>\n      <th>Dot product</th>\n      <th>Reverse dot product</th>\n      <th>Fragment presence %</th>\n      <th>Total score</th>\n      <th>S/N</th>\n      <th>MS1 isotopes</th>\n      <th>MSMS spectrum</th>\n    </tr>\n  </thead>\n  <tbody>\n    <tr>\n      <th>2203</th>\n      <td>2203</td>\n      <td>Unknown</td>\n      <td>829</td>\n      <td>2.605548</td>\n      <td>2.951403</td>\n      <td>3.23033</td>\n      <td>449.1078</td>\n      <td>21049.837891</td>\n      <td>131978.046875</td>\n      <td>NaN</td>\n      <td>...</td>\n      <td>False</td>\n      <td>False</td>\n      <td>NaN</td>\n      <td>NaN</td>\n      <td>NaN</td>\n      <td>NaN</td>\n      <td>NaN</td>\n      <td>420.9967</td>\n      <td>449.10782:46597 450.11615:160650 450.25171:150...</td>\n      <td>NaN</td>\n    </tr>\n  </tbody>\n</table>\n<p>1 rows × 31 columns</p>\n</div>"
     },
     "execution_count": 799,
     "metadata": {},
     "output_type": "execute_result"
    }
   ],
   "source": [
    "mz = 449.1118\n",
    "quick_search_values(ms_dial_result, 'Precursor m/z',mz-0.005, mz+0.005, ifsorted=False)"
   ],
   "metadata": {
    "collapsed": false,
    "ExecuteTime": {
     "end_time": "2023-06-27T23:20:07.740108Z",
     "start_time": "2023-06-27T23:20:07.692802Z"
    }
   }
  },
  {
   "cell_type": "code",
   "execution_count": 800,
   "outputs": [
    {
     "data": {
      "text/plain": "      PeakID    Title  Scans  RT left(min)  RT (min)  RT right (min)  \\\n3249    3249  Unknown    895      2.788326  3.196181        3.592841   \n\n      Precursor m/z       Height       Area  Model masses  ... m/z matched  \\\n3249        530.332  1348617.375  9145183.0           NaN  ...       False   \n\n     MS/MS matched RT similarity  Dot product  Reverse dot product  \\\n3249         False           NaN          NaN                  NaN   \n\n      Fragment presence %  Total score       S/N  \\\n3249                  NaN          NaN  26972.35   \n\n                                           MS1 isotopes  MSMS spectrum  \n3249  530.33197:2018484 531.29755:37298 531.33569:56...            NaN  \n\n[1 rows x 31 columns]",
      "text/html": "<div>\n<style scoped>\n    .dataframe tbody tr th:only-of-type {\n        vertical-align: middle;\n    }\n\n    .dataframe tbody tr th {\n        vertical-align: top;\n    }\n\n    .dataframe thead th {\n        text-align: right;\n    }\n</style>\n<table border=\"1\" class=\"dataframe\">\n  <thead>\n    <tr style=\"text-align: right;\">\n      <th></th>\n      <th>PeakID</th>\n      <th>Title</th>\n      <th>Scans</th>\n      <th>RT left(min)</th>\n      <th>RT (min)</th>\n      <th>RT right (min)</th>\n      <th>Precursor m/z</th>\n      <th>Height</th>\n      <th>Area</th>\n      <th>Model masses</th>\n      <th>...</th>\n      <th>m/z matched</th>\n      <th>MS/MS matched</th>\n      <th>RT similarity</th>\n      <th>Dot product</th>\n      <th>Reverse dot product</th>\n      <th>Fragment presence %</th>\n      <th>Total score</th>\n      <th>S/N</th>\n      <th>MS1 isotopes</th>\n      <th>MSMS spectrum</th>\n    </tr>\n  </thead>\n  <tbody>\n    <tr>\n      <th>3249</th>\n      <td>3249</td>\n      <td>Unknown</td>\n      <td>895</td>\n      <td>2.788326</td>\n      <td>3.196181</td>\n      <td>3.592841</td>\n      <td>530.332</td>\n      <td>1348617.375</td>\n      <td>9145183.0</td>\n      <td>NaN</td>\n      <td>...</td>\n      <td>False</td>\n      <td>False</td>\n      <td>NaN</td>\n      <td>NaN</td>\n      <td>NaN</td>\n      <td>NaN</td>\n      <td>NaN</td>\n      <td>26972.35</td>\n      <td>530.33197:2018484 531.29755:37298 531.33569:56...</td>\n      <td>NaN</td>\n    </tr>\n  </tbody>\n</table>\n<p>1 rows × 31 columns</p>\n</div>"
     },
     "execution_count": 800,
     "metadata": {},
     "output_type": "execute_result"
    }
   ],
   "source": [
    "mz = 530.3314\n",
    "quick_search_values(ms_dial_result, 'Precursor m/z',mz-0.005, mz+0.005, ifsorted=False)"
   ],
   "metadata": {
    "collapsed": false,
    "ExecuteTime": {
     "end_time": "2023-06-27T23:20:11.235392Z",
     "start_time": "2023-06-27T23:20:11.182839Z"
    }
   }
  },
  {
   "cell_type": "code",
   "execution_count": 801,
   "outputs": [
    {
     "data": {
      "text/plain": "      PeakID    Title  Scans  RT left(min)  RT (min)  RT right (min)  \\\n9345    9345  Unknown   1992      6.740265  6.907817        7.093323   \n3525    3525  Unknown    915      3.213468  3.264900        3.436465   \n\n      Precursor m/z         Height          Area  Model masses  ...  \\\n9345       455.2235   12395.050781  6.171596e+04           NaN  ...   \n3525       455.2257  150612.343750  1.222983e+06           NaN  ...   \n\n     m/z matched MS/MS matched RT similarity  Dot product  \\\n9345       False         False           NaN          NaN   \n3525       False         False           NaN          NaN   \n\n      Reverse dot product  Fragment presence %  Total score       S/N  \\\n9345                  NaN                  NaN          NaN   247.901   \n3525                  NaN                  NaN          NaN  2512.520   \n\n                                           MS1 isotopes  MSMS spectrum  \n9345                    455.22351:15447 455.37778:24443            NaN  \n3525  455.22568:247323 456.22833:39080 457.23932:369...            NaN  \n\n[2 rows x 31 columns]",
      "text/html": "<div>\n<style scoped>\n    .dataframe tbody tr th:only-of-type {\n        vertical-align: middle;\n    }\n\n    .dataframe tbody tr th {\n        vertical-align: top;\n    }\n\n    .dataframe thead th {\n        text-align: right;\n    }\n</style>\n<table border=\"1\" class=\"dataframe\">\n  <thead>\n    <tr style=\"text-align: right;\">\n      <th></th>\n      <th>PeakID</th>\n      <th>Title</th>\n      <th>Scans</th>\n      <th>RT left(min)</th>\n      <th>RT (min)</th>\n      <th>RT right (min)</th>\n      <th>Precursor m/z</th>\n      <th>Height</th>\n      <th>Area</th>\n      <th>Model masses</th>\n      <th>...</th>\n      <th>m/z matched</th>\n      <th>MS/MS matched</th>\n      <th>RT similarity</th>\n      <th>Dot product</th>\n      <th>Reverse dot product</th>\n      <th>Fragment presence %</th>\n      <th>Total score</th>\n      <th>S/N</th>\n      <th>MS1 isotopes</th>\n      <th>MSMS spectrum</th>\n    </tr>\n  </thead>\n  <tbody>\n    <tr>\n      <th>9345</th>\n      <td>9345</td>\n      <td>Unknown</td>\n      <td>1992</td>\n      <td>6.740265</td>\n      <td>6.907817</td>\n      <td>7.093323</td>\n      <td>455.2235</td>\n      <td>12395.050781</td>\n      <td>6.171596e+04</td>\n      <td>NaN</td>\n      <td>...</td>\n      <td>False</td>\n      <td>False</td>\n      <td>NaN</td>\n      <td>NaN</td>\n      <td>NaN</td>\n      <td>NaN</td>\n      <td>NaN</td>\n      <td>247.901</td>\n      <td>455.22351:15447 455.37778:24443</td>\n      <td>NaN</td>\n    </tr>\n    <tr>\n      <th>3525</th>\n      <td>3525</td>\n      <td>Unknown</td>\n      <td>915</td>\n      <td>3.213468</td>\n      <td>3.264900</td>\n      <td>3.436465</td>\n      <td>455.2257</td>\n      <td>150612.343750</td>\n      <td>1.222983e+06</td>\n      <td>NaN</td>\n      <td>...</td>\n      <td>False</td>\n      <td>False</td>\n      <td>NaN</td>\n      <td>NaN</td>\n      <td>NaN</td>\n      <td>NaN</td>\n      <td>NaN</td>\n      <td>2512.520</td>\n      <td>455.22568:247323 456.22833:39080 457.23932:369...</td>\n      <td>NaN</td>\n    </tr>\n  </tbody>\n</table>\n<p>2 rows × 31 columns</p>\n</div>"
     },
     "execution_count": 801,
     "metadata": {},
     "output_type": "execute_result"
    }
   ],
   "source": [
    "mz = 455.227\n",
    "quick_search_values(ms_dial_result, 'Precursor m/z',mz-0.005, mz+0.005, ifsorted=False)"
   ],
   "metadata": {
    "collapsed": false,
    "ExecuteTime": {
     "end_time": "2023-06-27T23:20:16.093684Z",
     "start_time": "2023-06-27T23:20:16.041068Z"
    }
   }
  },
  {
   "cell_type": "markdown",
   "source": [
    "# analysis of alphapept result"
   ],
   "metadata": {
    "collapsed": false
   }
  },
  {
   "cell_type": "code",
   "execution_count": 947,
   "outputs": [],
   "source": [
    "mzml_file = 'QC_Pool3_P.mzML'"
   ],
   "metadata": {
    "collapsed": false,
    "ExecuteTime": {
     "end_time": "2023-06-27T23:50:17.627032Z",
     "start_time": "2023-06-27T23:50:17.599387Z"
    }
   }
  },
  {
   "cell_type": "code",
   "execution_count": 965,
   "outputs": [],
   "source": [
    "mzml_file = '1870_AX_M5P2_M7P1_M7_X55_P.mzML'"
   ],
   "metadata": {
    "collapsed": false,
    "ExecuteTime": {
     "end_time": "2023-06-27T23:53:15.567813Z",
     "start_time": "2023-06-27T23:53:15.500606Z"
    }
   }
  },
  {
   "cell_type": "code",
   "execution_count": 966,
   "outputs": [],
   "source": [
    "feature_table, lookup = find_feature_alphapept(os.path.join(mzml_dir,mzml_file))"
   ],
   "metadata": {
    "collapsed": false,
    "ExecuteTime": {
     "end_time": "2023-06-27T23:53:18.247280Z",
     "start_time": "2023-06-27T23:53:16.642591Z"
    }
   }
  },
  {
   "cell_type": "code",
   "execution_count": 967,
   "outputs": [
    {
     "data": {
      "text/plain": "              mz    mz_std  mz_most_abundant  charge  rt_start   rt_apex  \\\n1658  437.215159  0.000683        437.215159     1.0  3.919068  3.949402   \n1965  437.215179  0.000389        437.215179     1.0  4.145153  4.217226   \n\n        rt_end      fwhm  n_isotopes        mass  ms1_int_sum_apex  \\\n1658  3.999958  0.040445         2.0  436.207882      2.534570e+06   \n1965  4.321849  0.039524         2.0  436.207902      4.365055e+05   \n\n      ms1_int_sum_area  ms1_int_max_apex  ms1_int_max_area  \n1658     105390.585130         2024997.0      89084.251034  \n1965      24661.340016          381794.0      20458.620886  ",
      "text/html": "<div>\n<style scoped>\n    .dataframe tbody tr th:only-of-type {\n        vertical-align: middle;\n    }\n\n    .dataframe tbody tr th {\n        vertical-align: top;\n    }\n\n    .dataframe thead th {\n        text-align: right;\n    }\n</style>\n<table border=\"1\" class=\"dataframe\">\n  <thead>\n    <tr style=\"text-align: right;\">\n      <th></th>\n      <th>mz</th>\n      <th>mz_std</th>\n      <th>mz_most_abundant</th>\n      <th>charge</th>\n      <th>rt_start</th>\n      <th>rt_apex</th>\n      <th>rt_end</th>\n      <th>fwhm</th>\n      <th>n_isotopes</th>\n      <th>mass</th>\n      <th>ms1_int_sum_apex</th>\n      <th>ms1_int_sum_area</th>\n      <th>ms1_int_max_apex</th>\n      <th>ms1_int_max_area</th>\n    </tr>\n  </thead>\n  <tbody>\n    <tr>\n      <th>1658</th>\n      <td>437.215159</td>\n      <td>0.000683</td>\n      <td>437.215159</td>\n      <td>1.0</td>\n      <td>3.919068</td>\n      <td>3.949402</td>\n      <td>3.999958</td>\n      <td>0.040445</td>\n      <td>2.0</td>\n      <td>436.207882</td>\n      <td>2.534570e+06</td>\n      <td>105390.585130</td>\n      <td>2024997.0</td>\n      <td>89084.251034</td>\n    </tr>\n    <tr>\n      <th>1965</th>\n      <td>437.215179</td>\n      <td>0.000389</td>\n      <td>437.215179</td>\n      <td>1.0</td>\n      <td>4.145153</td>\n      <td>4.217226</td>\n      <td>4.321849</td>\n      <td>0.039524</td>\n      <td>2.0</td>\n      <td>436.207902</td>\n      <td>4.365055e+05</td>\n      <td>24661.340016</td>\n      <td>381794.0</td>\n      <td>20458.620886</td>\n    </tr>\n  </tbody>\n</table>\n</div>"
     },
     "execution_count": 967,
     "metadata": {},
     "output_type": "execute_result"
    }
   ],
   "source": [
    "mz = 437.2140\n",
    "quick_search_values(feature_table, 'mz', mz-0.005, mz+0.005, ifsorted=False)"
   ],
   "metadata": {
    "collapsed": false,
    "ExecuteTime": {
     "end_time": "2023-06-27T23:53:18.281573Z",
     "start_time": "2023-06-27T23:53:18.247926Z"
    }
   }
  },
  {
   "cell_type": "code",
   "execution_count": 968,
   "outputs": [
    {
     "data": {
      "text/plain": "              mz    mz_std  mz_most_abundant  charge  rt_start   rt_apex  \\\n1322  447.092963  0.000092        447.092963     1.0  3.135569  3.225243   \n\n        rt_end      fwhm  n_isotopes        mass  ms1_int_sum_apex  \\\n1322  3.278759  0.027481         2.0  446.085687     326705.967242   \n\n      ms1_int_sum_area  ms1_int_max_apex  ms1_int_max_area  \n1322      14861.990759          272118.0      12661.193929  ",
      "text/html": "<div>\n<style scoped>\n    .dataframe tbody tr th:only-of-type {\n        vertical-align: middle;\n    }\n\n    .dataframe tbody tr th {\n        vertical-align: top;\n    }\n\n    .dataframe thead th {\n        text-align: right;\n    }\n</style>\n<table border=\"1\" class=\"dataframe\">\n  <thead>\n    <tr style=\"text-align: right;\">\n      <th></th>\n      <th>mz</th>\n      <th>mz_std</th>\n      <th>mz_most_abundant</th>\n      <th>charge</th>\n      <th>rt_start</th>\n      <th>rt_apex</th>\n      <th>rt_end</th>\n      <th>fwhm</th>\n      <th>n_isotopes</th>\n      <th>mass</th>\n      <th>ms1_int_sum_apex</th>\n      <th>ms1_int_sum_area</th>\n      <th>ms1_int_max_apex</th>\n      <th>ms1_int_max_area</th>\n    </tr>\n  </thead>\n  <tbody>\n    <tr>\n      <th>1322</th>\n      <td>447.092963</td>\n      <td>0.000092</td>\n      <td>447.092963</td>\n      <td>1.0</td>\n      <td>3.135569</td>\n      <td>3.225243</td>\n      <td>3.278759</td>\n      <td>0.027481</td>\n      <td>2.0</td>\n      <td>446.085687</td>\n      <td>326705.967242</td>\n      <td>14861.990759</td>\n      <td>272118.0</td>\n      <td>12661.193929</td>\n    </tr>\n  </tbody>\n</table>\n</div>"
     },
     "execution_count": 968,
     "metadata": {},
     "output_type": "execute_result"
    }
   ],
   "source": [
    "mz = 447.0927\n",
    "quick_search_values(feature_table, 'mz', mz-0.005, mz+0.005, ifsorted=False)"
   ],
   "metadata": {
    "collapsed": false,
    "ExecuteTime": {
     "end_time": "2023-06-27T23:53:21.609167Z",
     "start_time": "2023-06-27T23:53:21.563114Z"
    }
   }
  },
  {
   "cell_type": "code",
   "execution_count": 969,
   "outputs": [
    {
     "data": {
      "text/plain": "Empty DataFrame\nColumns: [mz, mz_std, mz_most_abundant, charge, rt_start, rt_apex, rt_end, fwhm, n_isotopes, mass, ms1_int_sum_apex, ms1_int_sum_area, ms1_int_max_apex, ms1_int_max_area]\nIndex: []",
      "text/html": "<div>\n<style scoped>\n    .dataframe tbody tr th:only-of-type {\n        vertical-align: middle;\n    }\n\n    .dataframe tbody tr th {\n        vertical-align: top;\n    }\n\n    .dataframe thead th {\n        text-align: right;\n    }\n</style>\n<table border=\"1\" class=\"dataframe\">\n  <thead>\n    <tr style=\"text-align: right;\">\n      <th></th>\n      <th>mz</th>\n      <th>mz_std</th>\n      <th>mz_most_abundant</th>\n      <th>charge</th>\n      <th>rt_start</th>\n      <th>rt_apex</th>\n      <th>rt_end</th>\n      <th>fwhm</th>\n      <th>n_isotopes</th>\n      <th>mass</th>\n      <th>ms1_int_sum_apex</th>\n      <th>ms1_int_sum_area</th>\n      <th>ms1_int_max_apex</th>\n      <th>ms1_int_max_area</th>\n    </tr>\n  </thead>\n  <tbody>\n  </tbody>\n</table>\n</div>"
     },
     "execution_count": 969,
     "metadata": {},
     "output_type": "execute_result"
    }
   ],
   "source": [
    "mz = 449.1118\n",
    "quick_search_values(feature_table, 'mz', mz-0.005, mz+0.005, ifsorted=False)"
   ],
   "metadata": {
    "collapsed": false,
    "ExecuteTime": {
     "end_time": "2023-06-27T23:53:26.009210Z",
     "start_time": "2023-06-27T23:53:25.943972Z"
    }
   }
  },
  {
   "cell_type": "code",
   "execution_count": 970,
   "outputs": [
    {
     "data": {
      "text/plain": "              mz    mz_std  mz_most_abundant  charge  rt_start   rt_apex  \\\n1421  455.225764  0.000146        455.225764     1.0  3.486135  3.580480   \n1313  455.226027  0.000193        455.226027     1.0  3.101818  3.225374   \n1938  455.228383  0.001039        455.228383     1.0  4.128847  4.165067   \n\n        rt_end      fwhm  n_isotopes        mass  ms1_int_sum_apex  \\\n1421  3.649997  0.044690         2.0  454.218487     357687.519497   \n1313  3.386284  0.169530         2.0  454.218751      48410.930608   \n1938  4.233762  0.031225         2.0  454.221106     214548.782509   \n\n      ms1_int_sum_area  ms1_int_max_apex  ms1_int_max_area  \n1421      18905.455613          298791.0      16154.675950  \n1313       7577.875814           40187.0       6093.488064  \n1938       8677.306109          169618.0       7658.273026  ",
      "text/html": "<div>\n<style scoped>\n    .dataframe tbody tr th:only-of-type {\n        vertical-align: middle;\n    }\n\n    .dataframe tbody tr th {\n        vertical-align: top;\n    }\n\n    .dataframe thead th {\n        text-align: right;\n    }\n</style>\n<table border=\"1\" class=\"dataframe\">\n  <thead>\n    <tr style=\"text-align: right;\">\n      <th></th>\n      <th>mz</th>\n      <th>mz_std</th>\n      <th>mz_most_abundant</th>\n      <th>charge</th>\n      <th>rt_start</th>\n      <th>rt_apex</th>\n      <th>rt_end</th>\n      <th>fwhm</th>\n      <th>n_isotopes</th>\n      <th>mass</th>\n      <th>ms1_int_sum_apex</th>\n      <th>ms1_int_sum_area</th>\n      <th>ms1_int_max_apex</th>\n      <th>ms1_int_max_area</th>\n    </tr>\n  </thead>\n  <tbody>\n    <tr>\n      <th>1421</th>\n      <td>455.225764</td>\n      <td>0.000146</td>\n      <td>455.225764</td>\n      <td>1.0</td>\n      <td>3.486135</td>\n      <td>3.580480</td>\n      <td>3.649997</td>\n      <td>0.044690</td>\n      <td>2.0</td>\n      <td>454.218487</td>\n      <td>357687.519497</td>\n      <td>18905.455613</td>\n      <td>298791.0</td>\n      <td>16154.675950</td>\n    </tr>\n    <tr>\n      <th>1313</th>\n      <td>455.226027</td>\n      <td>0.000193</td>\n      <td>455.226027</td>\n      <td>1.0</td>\n      <td>3.101818</td>\n      <td>3.225374</td>\n      <td>3.386284</td>\n      <td>0.169530</td>\n      <td>2.0</td>\n      <td>454.218751</td>\n      <td>48410.930608</td>\n      <td>7577.875814</td>\n      <td>40187.0</td>\n      <td>6093.488064</td>\n    </tr>\n    <tr>\n      <th>1938</th>\n      <td>455.228383</td>\n      <td>0.001039</td>\n      <td>455.228383</td>\n      <td>1.0</td>\n      <td>4.128847</td>\n      <td>4.165067</td>\n      <td>4.233762</td>\n      <td>0.031225</td>\n      <td>2.0</td>\n      <td>454.221106</td>\n      <td>214548.782509</td>\n      <td>8677.306109</td>\n      <td>169618.0</td>\n      <td>7658.273026</td>\n    </tr>\n  </tbody>\n</table>\n</div>"
     },
     "execution_count": 970,
     "metadata": {},
     "output_type": "execute_result"
    }
   ],
   "source": [
    "mz = 455.227\n",
    "quick_search_values(feature_table, 'mz', mz-0.005, mz+0.005, ifsorted=False)"
   ],
   "metadata": {
    "collapsed": false,
    "ExecuteTime": {
     "end_time": "2023-06-27T23:53:28.233169Z",
     "start_time": "2023-06-27T23:53:28.183581Z"
    }
   }
  },
  {
   "cell_type": "code",
   "execution_count": 971,
   "outputs": [
    {
     "data": {
      "text/plain": "Empty DataFrame\nColumns: [mz, mz_std, mz_most_abundant, charge, rt_start, rt_apex, rt_end, fwhm, n_isotopes, mass, ms1_int_sum_apex, ms1_int_sum_area, ms1_int_max_apex, ms1_int_max_area]\nIndex: []",
      "text/html": "<div>\n<style scoped>\n    .dataframe tbody tr th:only-of-type {\n        vertical-align: middle;\n    }\n\n    .dataframe tbody tr th {\n        vertical-align: top;\n    }\n\n    .dataframe thead th {\n        text-align: right;\n    }\n</style>\n<table border=\"1\" class=\"dataframe\">\n  <thead>\n    <tr style=\"text-align: right;\">\n      <th></th>\n      <th>mz</th>\n      <th>mz_std</th>\n      <th>mz_most_abundant</th>\n      <th>charge</th>\n      <th>rt_start</th>\n      <th>rt_apex</th>\n      <th>rt_end</th>\n      <th>fwhm</th>\n      <th>n_isotopes</th>\n      <th>mass</th>\n      <th>ms1_int_sum_apex</th>\n      <th>ms1_int_sum_area</th>\n      <th>ms1_int_max_apex</th>\n      <th>ms1_int_max_area</th>\n    </tr>\n  </thead>\n  <tbody>\n  </tbody>\n</table>\n</div>"
     },
     "execution_count": 971,
     "metadata": {},
     "output_type": "execute_result"
    }
   ],
   "source": [
    "mz = 530.3314\n",
    "quick_search_values(feature_table, 'mz', mz-0.005, mz+0.005, ifsorted=False)"
   ],
   "metadata": {
    "collapsed": false,
    "ExecuteTime": {
     "end_time": "2023-06-27T23:53:36.995677Z",
     "start_time": "2023-06-27T23:53:36.950993Z"
    }
   }
  },
  {
   "cell_type": "code",
   "execution_count": 16,
   "outputs": [],
   "source": [
    "mzml_file = 'QC_Pool2_P.mzML'\n",
    "mzml_dir = '/Users/fanzhou.kong/Dropbox (Brightseed)/Mac/Documents/GitHub/data_garage/brighseed/MZMLS/20230206_PHV_H2L_1870AX_M5P2_M7P1/pos'"
   ],
   "metadata": {
    "collapsed": false,
    "ExecuteTime": {
     "end_time": "2023-06-28T19:13:05.854725Z",
     "start_time": "2023-06-28T19:13:05.802324Z"
    }
   }
  },
  {
   "cell_type": "code",
   "execution_count": 17,
   "outputs": [],
   "source": [
    "ms1, ms2 = process_mzml(os.path.join(mzml_dir, mzml_file), if_mix=False)"
   ],
   "metadata": {
    "collapsed": false,
    "ExecuteTime": {
     "end_time": "2023-06-28T19:13:12.838798Z",
     "start_time": "2023-06-28T19:13:07.332091Z"
    }
   }
  },
  {
   "cell_type": "code",
   "execution_count": 22,
   "outputs": [
    {
     "data": {
      "text/plain": "<Figure size 400x300 with 1 Axes>",
      "image/png": "[encoded data removed]"
     },
     "metadata": {},
     "output_type": "display_data"
    }
   ],
   "source": [
    "rt_list, intensity_list = get_EIC_list(ms1, 437.2140, step = 0.001)\n",
    "EIC(rt_list, intensity_list,\n",
    "    # vlines_location_1=[1.399152],\n",
    "    vlines_location_2=[4.086],\n",
    "\n",
    "    rt_start=4, rt_end=4.5\n",
    "    )"
   ],
   "metadata": {
    "collapsed": false,
    "ExecuteTime": {
     "end_time": "2023-06-28T19:14:39.041743Z",
     "start_time": "2023-06-28T19:14:38.424810Z"
    }
   }
  },
  {
   "cell_type": "code",
   "execution_count": 25,
   "outputs": [
    {
     "data": {
      "text/plain": "<Figure size 400x300 with 1 Axes>",
      "image/png": "[encoded data removed]"
     },
     "metadata": {},
     "output_type": "display_data"
    }
   ],
   "source": [
    "rt_list, intensity_list = get_EIC_list(ms1, 447.0927, step = 0.005)\n",
    "EIC(rt_list, intensity_list,\n",
    "    # vlines_location_1=[1.399152],\n",
    "    vlines_location_2=[3.186],\n",
    "\n",
    "    rt_start=3, rt_end=4\n",
    "    )"
   ],
   "metadata": {
    "collapsed": false,
    "ExecuteTime": {
     "end_time": "2023-06-28T19:19:46.151410Z",
     "start_time": "2023-06-28T19:19:45.348990Z"
    }
   }
  },
  {
   "cell_type": "code",
   "execution_count": 26,
   "outputs": [
    {
     "data": {
      "text/plain": "<Figure size 400x300 with 1 Axes>",
      "image/png": "[encoded data removed]"
     },
     "metadata": {},
     "output_type": "display_data"
    }
   ],
   "source": [
    "rt_list, intensity_list = get_EIC_list(ms1, 449.1118, step = 0.005)\n",
    "EIC(rt_list, intensity_list,\n",
    "    # vlines_location_1=[1.399152],\n",
    "    vlines_location_2=[3.186],\n",
    "\n",
    "    rt_start=3, rt_end=4\n",
    "    )"
   ],
   "metadata": {
    "collapsed": false,
    "ExecuteTime": {
     "end_time": "2023-06-28T19:20:02.537021Z",
     "start_time": "2023-06-28T19:20:01.608165Z"
    }
   }
  },
  {
   "cell_type": "code",
   "execution_count": null,
   "outputs": [],
   "source": [
    "rt_list, intensity_list = get_EIC_list(ms1, 437.2140, step = 0.001)\n",
    "EIC(rt_list, intensity_list,\n",
    "    # vlines_location_1=[1.399152],\n",
    "    vlines_location_2=[4.086],\n",
    "\n",
    "    rt_start=4, rt_end=4.5\n",
    "    )"
   ],
   "metadata": {
    "collapsed": false
   }
  },
  {
   "cell_type": "code",
   "execution_count": 912,
   "outputs": [
    {
     "name": "stdout",
     "output_type": "stream",
     "text": [
      "0.005\n"
     ]
    }
   ],
   "source": [
    "pre_isotope_patterns, stats_df, stats = find_feature_alphapept(os.path.join(mzml_dir, 'QC_Pool2_P.mzML'), debug=True)"
   ],
   "metadata": {
    "collapsed": false,
    "ExecuteTime": {
     "end_time": "2023-06-27T23:45:39.139541Z",
     "start_time": "2023-06-27T23:45:33.840735Z"
    }
   }
  },
  {
   "cell_type": "code",
   "execution_count": 913,
   "outputs": [
    {
     "data": {
      "text/plain": "               mz    mz_std           int1  intensity_apex   rt_left    rt_end\n12152  530.331850  0.000209   21459.098710        285203.0  3.105389  3.208342\n13169  530.332225  0.000105  526626.769906       2780296.0  3.225054  3.887105",
      "text/html": "<div>\n<style scoped>\n    .dataframe tbody tr th:only-of-type {\n        vertical-align: middle;\n    }\n\n    .dataframe tbody tr th {\n        vertical-align: top;\n    }\n\n    .dataframe thead th {\n        text-align: right;\n    }\n</style>\n<table border=\"1\" class=\"dataframe\">\n  <thead>\n    <tr style=\"text-align: right;\">\n      <th></th>\n      <th>mz</th>\n      <th>mz_std</th>\n      <th>int1</th>\n      <th>intensity_apex</th>\n      <th>rt_left</th>\n      <th>rt_end</th>\n    </tr>\n  </thead>\n  <tbody>\n    <tr>\n      <th>12152</th>\n      <td>530.331850</td>\n      <td>0.000209</td>\n      <td>21459.098710</td>\n      <td>285203.0</td>\n      <td>3.105389</td>\n      <td>3.208342</td>\n    </tr>\n    <tr>\n      <th>13169</th>\n      <td>530.332225</td>\n      <td>0.000105</td>\n      <td>526626.769906</td>\n      <td>2780296.0</td>\n      <td>3.225054</td>\n      <td>3.887105</td>\n    </tr>\n  </tbody>\n</table>\n</div>"
     },
     "execution_count": 913,
     "metadata": {},
     "output_type": "execute_result"
    }
   ],
   "source": [
    "quick_search_values(stats_df, 'mz', 530.3314-0.005,530.3314+0.005, ifsorted=False)"
   ],
   "metadata": {
    "collapsed": false,
    "ExecuteTime": {
     "end_time": "2023-06-27T23:45:42.534047Z",
     "start_time": "2023-06-27T23:45:42.434056Z"
    }
   }
  },
  {
   "cell_type": "code",
   "execution_count": 914,
   "outputs": [
    {
     "name": "stderr",
     "output_type": "stream",
     "text": [
      "  7%|▋         | 313/4616 [00:00<00:00, 994558.45it/s]\n"
     ]
    },
    {
     "data": {
      "text/plain": "313"
     },
     "execution_count": 914,
     "metadata": {},
     "output_type": "execute_result"
    }
   ],
   "source": [
    "check_iso(pre_isotope_patterns, 13169)"
   ],
   "metadata": {
    "collapsed": false,
    "ExecuteTime": {
     "end_time": "2023-06-27T23:45:50.847965Z",
     "start_time": "2023-06-27T23:45:50.806128Z"
    }
   }
  },
  {
   "cell_type": "code",
   "execution_count": 915,
   "outputs": [
    {
     "data": {
      "text/plain": "               mz    mz_std           int1  intensity_apex   rt_left    rt_end\n12312  531.335543  0.000121  151653.265234        815153.0  3.121807  3.639873\n13169  530.332225  0.000105  526626.769906       2780296.0  3.225054  3.887105\n13654  532.341929  0.000788   18934.127947        200692.0  3.310691  3.485928",
      "text/html": "<div>\n<style scoped>\n    .dataframe tbody tr th:only-of-type {\n        vertical-align: middle;\n    }\n\n    .dataframe tbody tr th {\n        vertical-align: top;\n    }\n\n    .dataframe thead th {\n        text-align: right;\n    }\n</style>\n<table border=\"1\" class=\"dataframe\">\n  <thead>\n    <tr style=\"text-align: right;\">\n      <th></th>\n      <th>mz</th>\n      <th>mz_std</th>\n      <th>int1</th>\n      <th>intensity_apex</th>\n      <th>rt_left</th>\n      <th>rt_end</th>\n    </tr>\n  </thead>\n  <tbody>\n    <tr>\n      <th>12312</th>\n      <td>531.335543</td>\n      <td>0.000121</td>\n      <td>151653.265234</td>\n      <td>815153.0</td>\n      <td>3.121807</td>\n      <td>3.639873</td>\n    </tr>\n    <tr>\n      <th>13169</th>\n      <td>530.332225</td>\n      <td>0.000105</td>\n      <td>526626.769906</td>\n      <td>2780296.0</td>\n      <td>3.225054</td>\n      <td>3.887105</td>\n    </tr>\n    <tr>\n      <th>13654</th>\n      <td>532.341929</td>\n      <td>0.000788</td>\n      <td>18934.127947</td>\n      <td>200692.0</td>\n      <td>3.310691</td>\n      <td>3.485928</td>\n    </tr>\n  </tbody>\n</table>\n</div>"
     },
     "execution_count": 915,
     "metadata": {},
     "output_type": "execute_result"
    }
   ],
   "source": [
    "stats_df.loc[pre_isotope_patterns[313]]"
   ],
   "metadata": {
    "collapsed": false,
    "ExecuteTime": {
     "end_time": "2023-06-27T23:45:57.361754Z",
     "start_time": "2023-06-27T23:45:57.331034Z"
    }
   }
  },
  {
   "cell_type": "code",
   "execution_count": 661,
   "outputs": [
    {
     "data": {
      "text/plain": "-1.0034269999999879"
     },
     "execution_count": 661,
     "metadata": {},
     "output_type": "execute_result"
    }
   ],
   "source": [
    "530.332192-531.335619"
   ],
   "metadata": {
    "collapsed": false,
    "ExecuteTime": {
     "end_time": "2023-06-27T22:46:53.874282Z",
     "start_time": "2023-06-27T22:46:53.826630Z"
    }
   }
  },
  {
   "cell_type": "code",
   "execution_count": null,
   "outputs": [],
   "source": [
    "530.332192"
   ],
   "metadata": {
    "collapsed": false
   }
  },
  {
   "cell_type": "code",
   "execution_count": 649,
   "outputs": [
    {
     "data": {
      "text/plain": "            mz    mz_std  mz_most_abundant  charge  rt_start   rt_apex  \\\n29  524.286117  0.000195        524.286117     1.0  3.082599  3.213395   \n\n      rt_end      fwhm  n_isotopes        mass  ms1_int_sum_apex  \\\n29  3.551284  0.163495         4.0  523.278841      2.345164e+06   \n\n    ms1_int_sum_area  ms1_int_max_apex  ms1_int_max_area  \n29      561227.91222         1291592.0     268070.121081  ",
      "text/html": "<div>\n<style scoped>\n    .dataframe tbody tr th:only-of-type {\n        vertical-align: middle;\n    }\n\n    .dataframe tbody tr th {\n        vertical-align: top;\n    }\n\n    .dataframe thead th {\n        text-align: right;\n    }\n</style>\n<table border=\"1\" class=\"dataframe\">\n  <thead>\n    <tr style=\"text-align: right;\">\n      <th></th>\n      <th>mz</th>\n      <th>mz_std</th>\n      <th>mz_most_abundant</th>\n      <th>charge</th>\n      <th>rt_start</th>\n      <th>rt_apex</th>\n      <th>rt_end</th>\n      <th>fwhm</th>\n      <th>n_isotopes</th>\n      <th>mass</th>\n      <th>ms1_int_sum_apex</th>\n      <th>ms1_int_sum_area</th>\n      <th>ms1_int_max_apex</th>\n      <th>ms1_int_max_area</th>\n    </tr>\n  </thead>\n  <tbody>\n    <tr>\n      <th>29</th>\n      <td>524.286117</td>\n      <td>0.000195</td>\n      <td>524.286117</td>\n      <td>1.0</td>\n      <td>3.082599</td>\n      <td>3.213395</td>\n      <td>3.551284</td>\n      <td>0.163495</td>\n      <td>4.0</td>\n      <td>523.278841</td>\n      <td>2.345164e+06</td>\n      <td>561227.91222</td>\n      <td>1291592.0</td>\n      <td>268070.121081</td>\n    </tr>\n  </tbody>\n</table>\n</div>"
     },
     "execution_count": 649,
     "metadata": {},
     "output_type": "execute_result"
    }
   ],
   "source": [
    "mz = 524.286117\n",
    "quick_search_values(feature_table, 'mz', mz-0.005, mz+0.005, ifsorted=False)"
   ],
   "metadata": {
    "collapsed": false,
    "ExecuteTime": {
     "end_time": "2023-06-27T22:45:09.502565Z",
     "start_time": "2023-06-27T22:45:09.464373Z"
    }
   }
  },
  {
   "cell_type": "code",
   "execution_count": 974,
   "outputs": [],
   "source": [
    "mzml_dir = '/Volumes/Brother_cow/brighseed/MZMLS/20230206_PHV_H2L_1870AX_M5P2_M7P1/pos'"
   ],
   "metadata": {
    "collapsed": false,
    "ExecuteTime": {
     "end_time": "2023-06-27T23:54:56.828101Z",
     "start_time": "2023-06-27T23:54:56.727209Z"
    }
   }
  },
  {
   "cell_type": "code",
   "execution_count": 992,
   "outputs": [
    {
     "data": {
      "text/plain": "               mz    mz_std  mz_most_abundant  charge  rt_start   rt_apex  \\\n872    100.024191  0.000049        100.024191     1.0  1.188448  1.242076   \n185    100.111913  0.000014        100.111913     1.0  0.690709  0.866493   \n636    100.509759  0.000020        100.509759     1.0  0.550082  0.550082   \n27     100.932237  0.000039        100.932237     1.0  0.550082  0.550082   \n605    100.956644  0.000022        100.956644     1.0  0.550082  0.550082   \n...           ...       ...               ...     ...       ...       ...   \n502   1296.089496  0.001842       1296.089496     1.0  7.832974  7.869046   \n2679  1318.658736  0.003456       1318.658736     1.0  7.851819  7.868870   \n135   1338.959508  0.001963       1340.965972     1.0  9.039618  9.090873   \n2886  1348.013841  0.001550       1348.013841     1.0  9.073840  9.129012   \n2875  1352.967307  0.000998       1352.967307     1.0  9.039618  9.129789   \n\n        rt_end      fwhm  n_isotopes         mass  ms1_int_sum_apex  \\\n872   1.278434  0.089986         2.0    99.016914      1.223979e+04   \n185   1.007120  0.087892         2.0    99.104637      8.612048e+05   \n636   0.691597  0.030018         2.0    99.502482      4.410600e+04   \n27    0.813207  0.020240         3.0    99.924961      3.375000e+04   \n605   0.921943  0.015657         2.0    99.949368      1.061300e+05   \n...        ...       ...         ...          ...               ...   \n502   7.902997  0.027585         3.0  1295.082219      7.226976e+06   \n2679  7.921817  0.039486         2.0  1317.651459      5.755279e+05   \n135   9.110094  0.070476         4.0  1337.952232      7.688965e+05   \n2886  9.146668  0.025012         2.0  1347.006565      6.990097e+05   \n2875  9.183601  0.066901         2.0  1351.960030      1.196508e+06   \n\n      ms1_int_sum_area  ms1_int_max_apex  ms1_int_max_area  \n872         868.632630            9989.0        801.169278  \n185       92131.282366          803284.0      96479.915487  \n636        1904.418270           40920.0       2130.738236  \n27         1866.616026           10985.0       1378.535493  \n605        5798.678303           75712.0       4971.120078  \n...                ...               ...               ...  \n502      230629.964534         5244353.0     164592.164765  \n2679      23485.126612          395075.0      22473.382516  \n135       42859.243856          264808.0      15095.212235  \n2886      31082.877382          374479.0      19891.305109  \n2875      82926.608282          580814.0      49868.881522  \n\n[2984 rows x 14 columns]",
      "text/html": "<div>\n<style scoped>\n    .dataframe tbody tr th:only-of-type {\n        vertical-align: middle;\n    }\n\n    .dataframe tbody tr th {\n        vertical-align: top;\n    }\n\n    .dataframe thead th {\n        text-align: right;\n    }\n</style>\n<table border=\"1\" class=\"dataframe\">\n  <thead>\n    <tr style=\"text-align: right;\">\n      <th></th>\n      <th>mz</th>\n      <th>mz_std</th>\n      <th>mz_most_abundant</th>\n      <th>charge</th>\n      <th>rt_start</th>\n      <th>rt_apex</th>\n      <th>rt_end</th>\n      <th>fwhm</th>\n      <th>n_isotopes</th>\n      <th>mass</th>\n      <th>ms1_int_sum_apex</th>\n      <th>ms1_int_sum_area</th>\n      <th>ms1_int_max_apex</th>\n      <th>ms1_int_max_area</th>\n    </tr>\n  </thead>\n  <tbody>\n    <tr>\n      <th>872</th>\n      <td>100.024191</td>\n      <td>0.000049</td>\n      <td>100.024191</td>\n      <td>1.0</td>\n      <td>1.188448</td>\n      <td>1.242076</td>\n      <td>1.278434</td>\n      <td>0.089986</td>\n      <td>2.0</td>\n      <td>99.016914</td>\n      <td>1.223979e+04</td>\n      <td>868.632630</td>\n      <td>9989.0</td>\n      <td>801.169278</td>\n    </tr>\n    <tr>\n      <th>185</th>\n      <td>100.111913</td>\n      <td>0.000014</td>\n      <td>100.111913</td>\n      <td>1.0</td>\n      <td>0.690709</td>\n      <td>0.866493</td>\n      <td>1.007120</td>\n      <td>0.087892</td>\n      <td>2.0</td>\n      <td>99.104637</td>\n      <td>8.612048e+05</td>\n      <td>92131.282366</td>\n      <td>803284.0</td>\n      <td>96479.915487</td>\n    </tr>\n    <tr>\n      <th>636</th>\n      <td>100.509759</td>\n      <td>0.000020</td>\n      <td>100.509759</td>\n      <td>1.0</td>\n      <td>0.550082</td>\n      <td>0.550082</td>\n      <td>0.691597</td>\n      <td>0.030018</td>\n      <td>2.0</td>\n      <td>99.502482</td>\n      <td>4.410600e+04</td>\n      <td>1904.418270</td>\n      <td>40920.0</td>\n      <td>2130.738236</td>\n    </tr>\n    <tr>\n      <th>27</th>\n      <td>100.932237</td>\n      <td>0.000039</td>\n      <td>100.932237</td>\n      <td>1.0</td>\n      <td>0.550082</td>\n      <td>0.550082</td>\n      <td>0.813207</td>\n      <td>0.020240</td>\n      <td>3.0</td>\n      <td>99.924961</td>\n      <td>3.375000e+04</td>\n      <td>1866.616026</td>\n      <td>10985.0</td>\n      <td>1378.535493</td>\n    </tr>\n    <tr>\n      <th>605</th>\n      <td>100.956644</td>\n      <td>0.000022</td>\n      <td>100.956644</td>\n      <td>1.0</td>\n      <td>0.550082</td>\n      <td>0.550082</td>\n      <td>0.921943</td>\n      <td>0.015657</td>\n      <td>2.0</td>\n      <td>99.949368</td>\n      <td>1.061300e+05</td>\n      <td>5798.678303</td>\n      <td>75712.0</td>\n      <td>4971.120078</td>\n    </tr>\n    <tr>\n      <th>...</th>\n      <td>...</td>\n      <td>...</td>\n      <td>...</td>\n      <td>...</td>\n      <td>...</td>\n      <td>...</td>\n      <td>...</td>\n      <td>...</td>\n      <td>...</td>\n      <td>...</td>\n      <td>...</td>\n      <td>...</td>\n      <td>...</td>\n      <td>...</td>\n    </tr>\n    <tr>\n      <th>502</th>\n      <td>1296.089496</td>\n      <td>0.001842</td>\n      <td>1296.089496</td>\n      <td>1.0</td>\n      <td>7.832974</td>\n      <td>7.869046</td>\n      <td>7.902997</td>\n      <td>0.027585</td>\n      <td>3.0</td>\n      <td>1295.082219</td>\n      <td>7.226976e+06</td>\n      <td>230629.964534</td>\n      <td>5244353.0</td>\n      <td>164592.164765</td>\n    </tr>\n    <tr>\n      <th>2679</th>\n      <td>1318.658736</td>\n      <td>0.003456</td>\n      <td>1318.658736</td>\n      <td>1.0</td>\n      <td>7.851819</td>\n      <td>7.868870</td>\n      <td>7.921817</td>\n      <td>0.039486</td>\n      <td>2.0</td>\n      <td>1317.651459</td>\n      <td>5.755279e+05</td>\n      <td>23485.126612</td>\n      <td>395075.0</td>\n      <td>22473.382516</td>\n    </tr>\n    <tr>\n      <th>135</th>\n      <td>1338.959508</td>\n      <td>0.001963</td>\n      <td>1340.965972</td>\n      <td>1.0</td>\n      <td>9.039618</td>\n      <td>9.090873</td>\n      <td>9.110094</td>\n      <td>0.070476</td>\n      <td>4.0</td>\n      <td>1337.952232</td>\n      <td>7.688965e+05</td>\n      <td>42859.243856</td>\n      <td>264808.0</td>\n      <td>15095.212235</td>\n    </tr>\n    <tr>\n      <th>2886</th>\n      <td>1348.013841</td>\n      <td>0.001550</td>\n      <td>1348.013841</td>\n      <td>1.0</td>\n      <td>9.073840</td>\n      <td>9.129012</td>\n      <td>9.146668</td>\n      <td>0.025012</td>\n      <td>2.0</td>\n      <td>1347.006565</td>\n      <td>6.990097e+05</td>\n      <td>31082.877382</td>\n      <td>374479.0</td>\n      <td>19891.305109</td>\n    </tr>\n    <tr>\n      <th>2875</th>\n      <td>1352.967307</td>\n      <td>0.000998</td>\n      <td>1352.967307</td>\n      <td>1.0</td>\n      <td>9.039618</td>\n      <td>9.129789</td>\n      <td>9.183601</td>\n      <td>0.066901</td>\n      <td>2.0</td>\n      <td>1351.960030</td>\n      <td>1.196508e+06</td>\n      <td>82926.608282</td>\n      <td>580814.0</td>\n      <td>49868.881522</td>\n    </tr>\n  </tbody>\n</table>\n<p>2984 rows × 14 columns</p>\n</div>"
     },
     "execution_count": 992,
     "metadata": {},
     "output_type": "execute_result"
    }
   ],
   "source": [
    "feature_table.to_csv()"
   ],
   "metadata": {
    "collapsed": false,
    "ExecuteTime": {
     "end_time": "2023-06-28T00:06:02.634880Z",
     "start_time": "2023-06-28T00:06:02.592268Z"
    }
   }
  },
  {
   "cell_type": "code",
   "execution_count": 986,
   "outputs": [
    {
     "name": "stderr",
     "output_type": "stream",
     "text": [
      "100%|██████████| 131/131 [00:00<00:00, 1990774.72it/s]\n"
     ]
    }
   ],
   "source": [
    "file_name_lists = []\n",
    "for root, dirs, files in os.walk(mzml_dir):\n",
    "    for file in tqdm(files, total = len(files)):\n",
    "        if file.endswith('.mzML'):\n",
    "            file_name_lists.append(file)"
   ],
   "metadata": {
    "collapsed": false,
    "ExecuteTime": {
     "end_time": "2023-06-28T00:05:05.126087Z",
     "start_time": "2023-06-28T00:05:05.079668Z"
    }
   }
  },
  {
   "cell_type": "code",
   "execution_count": 991,
   "outputs": [
    {
     "data": {
      "text/plain": "'1870_AX_M5P2_M7P1_M7_X44_P'"
     },
     "execution_count": 991,
     "metadata": {},
     "output_type": "execute_result"
    }
   ],
   "source": [
    "file_name_lists[0].split('.')[0]"
   ],
   "metadata": {
    "collapsed": false,
    "ExecuteTime": {
     "end_time": "2023-06-28T00:05:28.262625Z",
     "start_time": "2023-06-28T00:05:28.222437Z"
    }
   }
  },
  {
   "cell_type": "code",
   "execution_count": 982,
   "outputs": [],
   "source": [
    "feature_folder = '/Volumes/Brother_cow/brighseed/alphapept_features/20230206_PHV_H2L_1870AX_M5P2_M7P1/pos'"
   ],
   "metadata": {
    "collapsed": false,
    "ExecuteTime": {
     "end_time": "2023-06-28T00:01:45.961118Z",
     "start_time": "2023-06-28T00:01:45.923643Z"
    }
   }
  },
  {
   "cell_type": "code",
   "execution_count": 983,
   "outputs": [
    {
     "data": {
      "text/plain": "False"
     },
     "execution_count": 983,
     "metadata": {},
     "output_type": "execute_result"
    }
   ],
   "source": [
    "os.path.exists(feature_folder)"
   ],
   "metadata": {
    "collapsed": false,
    "ExecuteTime": {
     "end_time": "2023-06-28T00:01:48.063538Z",
     "start_time": "2023-06-28T00:01:47.616952Z"
    }
   }
  },
  {
   "cell_type": "code",
   "execution_count": 985,
   "outputs": [
    {
     "data": {
      "text/plain": "131"
     },
     "execution_count": 985,
     "metadata": {},
     "output_type": "execute_result"
    }
   ],
   "source": [
    "len(files)"
   ],
   "metadata": {
    "collapsed": false,
    "ExecuteTime": {
     "end_time": "2023-06-28T00:03:29.450465Z",
     "start_time": "2023-06-28T00:03:29.364920Z"
    }
   }
  },
  {
   "cell_type": "code",
   "execution_count": 984,
   "outputs": [],
   "source": [
    "os.makedirs(feature_folder)"
   ],
   "metadata": {
    "collapsed": false,
    "ExecuteTime": {
     "end_time": "2023-06-28T00:02:22.201798Z",
     "start_time": "2023-06-28T00:02:22.158925Z"
    }
   }
  },
  {
   "cell_type": "code",
   "execution_count": 3,
   "outputs": [],
   "source": [
    "ttt = pd.read_csv(os.path.join('/Volumes/Brother_cow/brighseed/alphapept_features/20230206_PHV_H2L_1870AX_M5P2_M7P1/pos', 'QC_POOL3_P.csv'))"
   ],
   "metadata": {
    "collapsed": false,
    "ExecuteTime": {
     "end_time": "2023-06-28T00:13:47.415295Z",
     "start_time": "2023-06-28T00:13:47.315378Z"
    }
   }
  },
  {
   "cell_type": "code",
   "execution_count": 4,
   "outputs": [
    {
     "data": {
      "text/plain": "               mz    mz_std  mz_most_abundant  charge  rt_start   rt_apex  \\\n0      113.114987  0.000024        113.114987     1.0  9.468521  9.647772   \n1      112.116117  0.000043        112.116117     1.0  9.466334  9.684419   \n2      112.107405  0.000168        112.107405     1.0  9.448416  9.610126   \n3      112.120777  0.000025        112.120777     1.0  9.466334  9.501773   \n4      112.102530  0.000337        112.102530     1.0  9.537873  9.647616   \n...           ...       ...               ...     ...       ...       ...   \n4287   924.271590  0.000667        924.271590     1.0  9.831748  9.919924   \n4288   369.148390  0.000235        369.148390     1.0  9.849498  9.956427   \n4289   988.789664  0.001086        988.789664     1.0  9.903820  9.938584   \n4290   929.704178  0.001366        929.704178     1.0  9.919754  9.975521   \n4291  1024.778347  0.000431       1024.778347     1.0  9.919754  9.975521   \n\n        rt_end      fwhm  n_isotopes         mass  ms1_int_sum_apex  \\\n0     9.721945  0.234881         3.0   112.107710      4.830074e+07   \n1     9.719858  0.190824         3.0   111.108840      1.599552e+07   \n2     9.719858  0.054866         2.0   111.100128      6.667632e+06   \n3     9.665337  0.068151         2.0   111.113501      4.072728e+06   \n4     9.665906  0.076820         2.0   111.095254      4.676577e+06   \n...        ...       ...         ...          ...               ...   \n4287  9.938204  0.032259         2.0   923.264314      1.732896e+06   \n4288  9.975521  0.108201         2.0   368.141113      9.056009e+05   \n4289  9.975521  0.071701         2.0   987.782388      2.850205e+05   \n4290  9.975521  0.047076         2.0   928.696902      5.826960e+05   \n4291  9.975521  0.055043         2.0  1023.771070      9.868980e+05   \n\n      ms1_int_sum_area  ms1_int_max_apex  ms1_int_max_area  \n0         8.091424e+06        46709764.0      8.025095e+06  \n1         2.345919e+06        11332676.0      1.663116e+06  \n2         7.921323e+05         5439267.0      5.149047e+05  \n3         3.952478e+05         3938354.0      3.729734e+05  \n4         2.789139e+05         4691008.0      2.998841e+05  \n...                ...               ...               ...  \n4287      8.033904e+04          948020.0      4.080841e+04  \n4288      8.682292e+04          809084.0      7.215927e+04  \n4289      1.824486e+04          171868.0      1.034399e+04  \n4290      1.994997e+04          386062.0      1.577767e+04  \n4291      3.599478e+04          636939.0      2.259975e+04  \n\n[4292 rows x 14 columns]",
      "text/html": "<div>\n<style scoped>\n    .dataframe tbody tr th:only-of-type {\n        vertical-align: middle;\n    }\n\n    .dataframe tbody tr th {\n        vertical-align: top;\n    }\n\n    .dataframe thead th {\n        text-align: right;\n    }\n</style>\n<table border=\"1\" class=\"dataframe\">\n  <thead>\n    <tr style=\"text-align: right;\">\n      <th></th>\n      <th>mz</th>\n      <th>mz_std</th>\n      <th>mz_most_abundant</th>\n      <th>charge</th>\n      <th>rt_start</th>\n      <th>rt_apex</th>\n      <th>rt_end</th>\n      <th>fwhm</th>\n      <th>n_isotopes</th>\n      <th>mass</th>\n      <th>ms1_int_sum_apex</th>\n      <th>ms1_int_sum_area</th>\n      <th>ms1_int_max_apex</th>\n      <th>ms1_int_max_area</th>\n    </tr>\n  </thead>\n  <tbody>\n    <tr>\n      <th>0</th>\n      <td>113.114987</td>\n      <td>0.000024</td>\n      <td>113.114987</td>\n      <td>1.0</td>\n      <td>9.468521</td>\n      <td>9.647772</td>\n      <td>9.721945</td>\n      <td>0.234881</td>\n      <td>3.0</td>\n      <td>112.107710</td>\n      <td>4.830074e+07</td>\n      <td>8.091424e+06</td>\n      <td>46709764.0</td>\n      <td>8.025095e+06</td>\n    </tr>\n    <tr>\n      <th>1</th>\n      <td>112.116117</td>\n      <td>0.000043</td>\n      <td>112.116117</td>\n      <td>1.0</td>\n      <td>9.466334</td>\n      <td>9.684419</td>\n      <td>9.719858</td>\n      <td>0.190824</td>\n      <td>3.0</td>\n      <td>111.108840</td>\n      <td>1.599552e+07</td>\n      <td>2.345919e+06</td>\n      <td>11332676.0</td>\n      <td>1.663116e+06</td>\n    </tr>\n    <tr>\n      <th>2</th>\n      <td>112.107405</td>\n      <td>0.000168</td>\n      <td>112.107405</td>\n      <td>1.0</td>\n      <td>9.448416</td>\n      <td>9.610126</td>\n      <td>9.719858</td>\n      <td>0.054866</td>\n      <td>2.0</td>\n      <td>111.100128</td>\n      <td>6.667632e+06</td>\n      <td>7.921323e+05</td>\n      <td>5439267.0</td>\n      <td>5.149047e+05</td>\n    </tr>\n    <tr>\n      <th>3</th>\n      <td>112.120777</td>\n      <td>0.000025</td>\n      <td>112.120777</td>\n      <td>1.0</td>\n      <td>9.466334</td>\n      <td>9.501773</td>\n      <td>9.665337</td>\n      <td>0.068151</td>\n      <td>2.0</td>\n      <td>111.113501</td>\n      <td>4.072728e+06</td>\n      <td>3.952478e+05</td>\n      <td>3938354.0</td>\n      <td>3.729734e+05</td>\n    </tr>\n    <tr>\n      <th>4</th>\n      <td>112.102530</td>\n      <td>0.000337</td>\n      <td>112.102530</td>\n      <td>1.0</td>\n      <td>9.537873</td>\n      <td>9.647616</td>\n      <td>9.665906</td>\n      <td>0.076820</td>\n      <td>2.0</td>\n      <td>111.095254</td>\n      <td>4.676577e+06</td>\n      <td>2.789139e+05</td>\n      <td>4691008.0</td>\n      <td>2.998841e+05</td>\n    </tr>\n    <tr>\n      <th>...</th>\n      <td>...</td>\n      <td>...</td>\n      <td>...</td>\n      <td>...</td>\n      <td>...</td>\n      <td>...</td>\n      <td>...</td>\n      <td>...</td>\n      <td>...</td>\n      <td>...</td>\n      <td>...</td>\n      <td>...</td>\n      <td>...</td>\n      <td>...</td>\n    </tr>\n    <tr>\n      <th>4287</th>\n      <td>924.271590</td>\n      <td>0.000667</td>\n      <td>924.271590</td>\n      <td>1.0</td>\n      <td>9.831748</td>\n      <td>9.919924</td>\n      <td>9.938204</td>\n      <td>0.032259</td>\n      <td>2.0</td>\n      <td>923.264314</td>\n      <td>1.732896e+06</td>\n      <td>8.033904e+04</td>\n      <td>948020.0</td>\n      <td>4.080841e+04</td>\n    </tr>\n    <tr>\n      <th>4288</th>\n      <td>369.148390</td>\n      <td>0.000235</td>\n      <td>369.148390</td>\n      <td>1.0</td>\n      <td>9.849498</td>\n      <td>9.956427</td>\n      <td>9.975521</td>\n      <td>0.108201</td>\n      <td>2.0</td>\n      <td>368.141113</td>\n      <td>9.056009e+05</td>\n      <td>8.682292e+04</td>\n      <td>809084.0</td>\n      <td>7.215927e+04</td>\n    </tr>\n    <tr>\n      <th>4289</th>\n      <td>988.789664</td>\n      <td>0.001086</td>\n      <td>988.789664</td>\n      <td>1.0</td>\n      <td>9.903820</td>\n      <td>9.938584</td>\n      <td>9.975521</td>\n      <td>0.071701</td>\n      <td>2.0</td>\n      <td>987.782388</td>\n      <td>2.850205e+05</td>\n      <td>1.824486e+04</td>\n      <td>171868.0</td>\n      <td>1.034399e+04</td>\n    </tr>\n    <tr>\n      <th>4290</th>\n      <td>929.704178</td>\n      <td>0.001366</td>\n      <td>929.704178</td>\n      <td>1.0</td>\n      <td>9.919754</td>\n      <td>9.975521</td>\n      <td>9.975521</td>\n      <td>0.047076</td>\n      <td>2.0</td>\n      <td>928.696902</td>\n      <td>5.826960e+05</td>\n      <td>1.994997e+04</td>\n      <td>386062.0</td>\n      <td>1.577767e+04</td>\n    </tr>\n    <tr>\n      <th>4291</th>\n      <td>1024.778347</td>\n      <td>0.000431</td>\n      <td>1024.778347</td>\n      <td>1.0</td>\n      <td>9.919754</td>\n      <td>9.975521</td>\n      <td>9.975521</td>\n      <td>0.055043</td>\n      <td>2.0</td>\n      <td>1023.771070</td>\n      <td>9.868980e+05</td>\n      <td>3.599478e+04</td>\n      <td>636939.0</td>\n      <td>2.259975e+04</td>\n    </tr>\n  </tbody>\n</table>\n<p>4292 rows × 14 columns</p>\n</div>"
     },
     "execution_count": 4,
     "metadata": {},
     "output_type": "execute_result"
    }
   ],
   "source": [
    "ttt"
   ],
   "metadata": {
    "collapsed": false,
    "ExecuteTime": {
     "end_time": "2023-06-28T00:13:58.409018Z",
     "start_time": "2023-06-28T00:13:58.356916Z"
    }
   }
  },
  {
   "cell_type": "markdown",
   "source": [
    "# Msdial result alighment part"
   ],
   "metadata": {
    "collapsed": false
   }
  },
  {
   "cell_type": "code",
   "execution_count": 10,
   "outputs": [],
   "source": [
    "working_dir = '/Users/fanzhou.kong/Dropbox (Brightseed)/Mac/Documents/GitHub/data_garage/msdial_alignment'"
   ],
   "metadata": {
    "collapsed": false,
    "ExecuteTime": {
     "end_time": "2023-07-21T22:57:51.550654Z",
     "start_time": "2023-07-21T22:57:51.542348Z"
    }
   }
  },
  {
   "cell_type": "code",
   "execution_count": 8,
   "outputs": [],
   "source": [
    "from toolsets.file_io import readin_alignment"
   ],
   "metadata": {
    "collapsed": false,
    "ExecuteTime": {
     "end_time": "2023-07-21T22:57:16.912302Z",
     "start_time": "2023-07-21T22:57:16.896357Z"
    }
   }
  },
  {
   "cell_type": "code",
   "execution_count": 119,
   "outputs": [],
   "source": [
    "alignment_1 = readin_alignment(os.path.join(working_dir, 'Height_1_20237211755.txt'))\n",
    "alignment_2=readin_alignment(os.path.join(working_dir, 'Height_3_20237211754.txt'))"
   ],
   "metadata": {
    "collapsed": false,
    "ExecuteTime": {
     "end_time": "2023-07-22T00:59:15.960305Z",
     "start_time": "2023-07-22T00:59:14.020273Z"
    }
   }
  },
  {
   "cell_type": "code",
   "execution_count": 122,
   "outputs": [],
   "source": [
    "from toolsets.feature_alignment import find_istd\n",
    "istd_info = pd.read_csv('/Users/fanzhou.kong/Dropbox (Brightseed)/Mac/Documents/GitHub/data_garage/brighseed/istd_info.csv')"
   ],
   "metadata": {
    "collapsed": false,
    "ExecuteTime": {
     "end_time": "2023-07-22T00:59:25.925839Z",
     "start_time": "2023-07-22T00:59:25.871708Z"
    }
   }
  },
  {
   "cell_type": "code",
   "execution_count": 123,
   "outputs": [],
   "source": [
    "istd_1 = pd.DataFrame()\n",
    "for index, row in istd_info.iterrows():\n",
    "    istd_temp = find_feature(alignment_1, mz = row['[M+H]+'],rt = row['RT_suggested'], rt_column='Average Rt(min)', mz_column='Average Mz', rt_offset=10)\n",
    "    istd_1 = pd.concat([istd_1, istd_temp],ignore_index=True)"
   ],
   "metadata": {
    "collapsed": false,
    "ExecuteTime": {
     "end_time": "2023-07-22T00:59:26.923937Z",
     "start_time": "2023-07-22T00:59:26.671604Z"
    }
   }
  },
  {
   "cell_type": "code",
   "execution_count": 124,
   "outputs": [
    {
     "data": {
      "text/plain": "    Average Mz  Average Rt(min)  1870_AX_M5P2_M7P1_M7_X30_P\n0    216.06894            1.066                           0\n1    230.08450            2.051                           0\n2    244.10023            2.772                        3804\n3    258.11597            3.411                           0\n4    272.13153            3.972                           0\n5    286.14713            4.451                       59669\n6    300.16302            4.881                           0\n7    314.17850            5.281                           0\n8    328.19412            5.666                           0\n9    342.20999            6.038                           0\n10   356.22580            6.397                           0\n11   370.24133            6.748                           0\n12   384.25714            7.090                           0\n13   398.27280            7.418                           0\n14   412.28824            7.729                           0\n15   426.30405            8.020                           0\n16   440.31976            8.293                        8437",
      "text/html": "<div>\n<style scoped>\n    .dataframe tbody tr th:only-of-type {\n        vertical-align: middle;\n    }\n\n    .dataframe tbody tr th {\n        vertical-align: top;\n    }\n\n    .dataframe thead th {\n        text-align: right;\n    }\n</style>\n<table border=\"1\" class=\"dataframe\">\n  <thead>\n    <tr style=\"text-align: right;\">\n      <th></th>\n      <th>Average Mz</th>\n      <th>Average Rt(min)</th>\n      <th>1870_AX_M5P2_M7P1_M7_X30_P</th>\n    </tr>\n  </thead>\n  <tbody>\n    <tr>\n      <th>0</th>\n      <td>216.06894</td>\n      <td>1.066</td>\n      <td>0</td>\n    </tr>\n    <tr>\n      <th>1</th>\n      <td>230.08450</td>\n      <td>2.051</td>\n      <td>0</td>\n    </tr>\n    <tr>\n      <th>2</th>\n      <td>244.10023</td>\n      <td>2.772</td>\n      <td>3804</td>\n    </tr>\n    <tr>\n      <th>3</th>\n      <td>258.11597</td>\n      <td>3.411</td>\n      <td>0</td>\n    </tr>\n    <tr>\n      <th>4</th>\n      <td>272.13153</td>\n      <td>3.972</td>\n      <td>0</td>\n    </tr>\n    <tr>\n      <th>5</th>\n      <td>286.14713</td>\n      <td>4.451</td>\n      <td>59669</td>\n    </tr>\n    <tr>\n      <th>6</th>\n      <td>300.16302</td>\n      <td>4.881</td>\n      <td>0</td>\n    </tr>\n    <tr>\n      <th>7</th>\n      <td>314.17850</td>\n      <td>5.281</td>\n      <td>0</td>\n    </tr>\n    <tr>\n      <th>8</th>\n      <td>328.19412</td>\n      <td>5.666</td>\n      <td>0</td>\n    </tr>\n    <tr>\n      <th>9</th>\n      <td>342.20999</td>\n      <td>6.038</td>\n      <td>0</td>\n    </tr>\n    <tr>\n      <th>10</th>\n      <td>356.22580</td>\n      <td>6.397</td>\n      <td>0</td>\n    </tr>\n    <tr>\n      <th>11</th>\n      <td>370.24133</td>\n      <td>6.748</td>\n      <td>0</td>\n    </tr>\n    <tr>\n      <th>12</th>\n      <td>384.25714</td>\n      <td>7.090</td>\n      <td>0</td>\n    </tr>\n    <tr>\n      <th>13</th>\n      <td>398.27280</td>\n      <td>7.418</td>\n      <td>0</td>\n    </tr>\n    <tr>\n      <th>14</th>\n      <td>412.28824</td>\n      <td>7.729</td>\n      <td>0</td>\n    </tr>\n    <tr>\n      <th>15</th>\n      <td>426.30405</td>\n      <td>8.020</td>\n      <td>0</td>\n    </tr>\n    <tr>\n      <th>16</th>\n      <td>440.31976</td>\n      <td>8.293</td>\n      <td>8437</td>\n    </tr>\n  </tbody>\n</table>\n</div>"
     },
     "execution_count": 124,
     "metadata": {},
     "output_type": "execute_result"
    }
   ],
   "source": [
    "istd_1[['Average Mz', 'Average Rt(min)','1870_AX_M5P2_M7P1_M7_X30_P']]"
   ],
   "metadata": {
    "collapsed": false,
    "ExecuteTime": {
     "end_time": "2023-07-22T00:59:29.665113Z",
     "start_time": "2023-07-22T00:59:29.619751Z"
    }
   }
  },
  {
   "cell_type": "code",
   "execution_count": 125,
   "outputs": [],
   "source": [
    "istd_2 = pd.DataFrame()\n",
    "for index, row in istd_info.iterrows():\n",
    "    istd_temp = find_feature(alignment_2, mz = row['[M+H]+'],rt = row['RT_suggested'], rt_column='Average Rt(min)', mz_column='Average Mz', rt_offset=10)\n",
    "    istd_2 = pd.concat([istd_2, istd_temp],ignore_index=True)"
   ],
   "metadata": {
    "collapsed": false,
    "ExecuteTime": {
     "end_time": "2023-07-22T00:59:32.661974Z",
     "start_time": "2023-07-22T00:59:32.378339Z"
    }
   }
  },
  {
   "cell_type": "code",
   "execution_count": 148,
   "outputs": [
    {
     "data": {
      "text/plain": "       Alignment ID  Average Rt(min)  Average Mz Metabolite name Adduct type  \\\n19208         19208            9.764   447.08994         Unknown      [M+H]+   \n19209         19209            3.212   447.09247         Unknown      [M+H]+   \n19210         19210            8.413   447.09256         Unknown      [M+H]+   \n19211         19211            2.972   447.09277         Unknown      [M+H]+   \n\n                                    Post curation result  Fill %  \\\n19208  ion correlated with 682; ion correlated with 1...   0.051   \n19209                    found in higher mz's MsMs_33207   0.667   \n19210                           ion correlated with 6259   0.026   \n19211                                                NaN   0.179   \n\n       MS/MS assigned  Reference RT  Reference m/z  ...  \\\n19208           False           NaN            NaN  ...   \n19209            True           NaN            NaN  ...   \n19210           False           NaN            NaN  ...   \n19211            True           NaN            NaN  ...   \n\n       1870_AX_M5P2_M7P1_M7_X56_P  1870_AX_M5P2_M7P1_M7_X57_P  \\\n19208                           0                           0   \n19209                           0                      109675   \n19210                           0                           0   \n19211                           0                           0   \n\n       1870_AX_M5P2_M7P1_M7_X58_P  1870_AX_M5P2_M7P1_M7_X59_P  QC_Pool1_P  \\\n19208                           0                           0           0   \n19209                       62801                       76267    27269154   \n19210                           0                           0           0   \n19211                           0                           0     1211138   \n\n       QC_Pool2_P  QC_Pool3_P             1           1.1  \\\n19208           0           0  4.771080e+03  2.697943e+04   \n19209    26079736    32164052  5.469870e+06  1.485001e+07   \n19210           0       50283  1.289311e+03  8.051746e+03   \n19211     1161986     1225394  3.463311e+05  1.211420e+06   \n\n                                                   peaks  \n19208                                                NaN  \n19209  126.16098\\t20043\\n135.06816\\t11861\\n148.97461\\...  \n19210                                                NaN  \n19211  120.35053\\t6221\\n121.86134\\t5783\\n132.0833\\t73...  \n\n[4 rows x 74 columns]",
      "text/html": "<div>\n<style scoped>\n    .dataframe tbody tr th:only-of-type {\n        vertical-align: middle;\n    }\n\n    .dataframe tbody tr th {\n        vertical-align: top;\n    }\n\n    .dataframe thead th {\n        text-align: right;\n    }\n</style>\n<table border=\"1\" class=\"dataframe\">\n  <thead>\n    <tr style=\"text-align: right;\">\n      <th></th>\n      <th>Alignment ID</th>\n      <th>Average Rt(min)</th>\n      <th>Average Mz</th>\n      <th>Metabolite name</th>\n      <th>Adduct type</th>\n      <th>Post curation result</th>\n      <th>Fill %</th>\n      <th>MS/MS assigned</th>\n      <th>Reference RT</th>\n      <th>Reference m/z</th>\n      <th>...</th>\n      <th>1870_AX_M5P2_M7P1_M7_X56_P</th>\n      <th>1870_AX_M5P2_M7P1_M7_X57_P</th>\n      <th>1870_AX_M5P2_M7P1_M7_X58_P</th>\n      <th>1870_AX_M5P2_M7P1_M7_X59_P</th>\n      <th>QC_Pool1_P</th>\n      <th>QC_Pool2_P</th>\n      <th>QC_Pool3_P</th>\n      <th>1</th>\n      <th>1.1</th>\n      <th>peaks</th>\n    </tr>\n  </thead>\n  <tbody>\n    <tr>\n      <th>19208</th>\n      <td>19208</td>\n      <td>9.764</td>\n      <td>447.08994</td>\n      <td>Unknown</td>\n      <td>[M+H]+</td>\n      <td>ion correlated with 682; ion correlated with 1...</td>\n      <td>0.051</td>\n      <td>False</td>\n      <td>NaN</td>\n      <td>NaN</td>\n      <td>...</td>\n      <td>0</td>\n      <td>0</td>\n      <td>0</td>\n      <td>0</td>\n      <td>0</td>\n      <td>0</td>\n      <td>0</td>\n      <td>4.771080e+03</td>\n      <td>2.697943e+04</td>\n      <td>NaN</td>\n    </tr>\n    <tr>\n      <th>19209</th>\n      <td>19209</td>\n      <td>3.212</td>\n      <td>447.09247</td>\n      <td>Unknown</td>\n      <td>[M+H]+</td>\n      <td>found in higher mz's MsMs_33207</td>\n      <td>0.667</td>\n      <td>True</td>\n      <td>NaN</td>\n      <td>NaN</td>\n      <td>...</td>\n      <td>0</td>\n      <td>109675</td>\n      <td>62801</td>\n      <td>76267</td>\n      <td>27269154</td>\n      <td>26079736</td>\n      <td>32164052</td>\n      <td>5.469870e+06</td>\n      <td>1.485001e+07</td>\n      <td>126.16098\\t20043\\n135.06816\\t11861\\n148.97461\\...</td>\n    </tr>\n    <tr>\n      <th>19210</th>\n      <td>19210</td>\n      <td>8.413</td>\n      <td>447.09256</td>\n      <td>Unknown</td>\n      <td>[M+H]+</td>\n      <td>ion correlated with 6259</td>\n      <td>0.026</td>\n      <td>False</td>\n      <td>NaN</td>\n      <td>NaN</td>\n      <td>...</td>\n      <td>0</td>\n      <td>0</td>\n      <td>0</td>\n      <td>0</td>\n      <td>0</td>\n      <td>0</td>\n      <td>50283</td>\n      <td>1.289311e+03</td>\n      <td>8.051746e+03</td>\n      <td>NaN</td>\n    </tr>\n    <tr>\n      <th>19211</th>\n      <td>19211</td>\n      <td>2.972</td>\n      <td>447.09277</td>\n      <td>Unknown</td>\n      <td>[M+H]+</td>\n      <td>NaN</td>\n      <td>0.179</td>\n      <td>True</td>\n      <td>NaN</td>\n      <td>NaN</td>\n      <td>...</td>\n      <td>0</td>\n      <td>0</td>\n      <td>0</td>\n      <td>0</td>\n      <td>1211138</td>\n      <td>1161986</td>\n      <td>1225394</td>\n      <td>3.463311e+05</td>\n      <td>1.211420e+06</td>\n      <td>120.35053\\t6221\\n121.86134\\t5783\\n132.0833\\t73...</td>\n    </tr>\n  </tbody>\n</table>\n<p>4 rows × 74 columns</p>\n</div>"
     },
     "execution_count": 148,
     "metadata": {},
     "output_type": "execute_result"
    }
   ],
   "source": [
    "quick_search_values(alignment_2, 'Average Mz', 447.0927-0.005, 447.0927+0.005, ifsorted=False)"
   ],
   "metadata": {
    "collapsed": false,
    "ExecuteTime": {
     "end_time": "2023-07-22T01:07:13.196447Z",
     "start_time": "2023-07-22T01:07:13.001428Z"
    }
   }
  },
  {
   "cell_type": "code",
   "execution_count": 130,
   "outputs": [
    {
     "data": {
      "text/plain": "       Alignment ID  Average Rt(min)  Average Mz Metabolite name Adduct type  \\\n0                 0            8.807   100.01737         Unknown      [M+H]+   \n1                 1            9.648   100.02043         Unknown      [M+H]+   \n2                 2            9.736   100.03606         Unknown      [M+H]+   \n3                 3            3.933   100.07549         Unknown      [M+H]+   \n4                 4            4.523   100.07557         Unknown      [M+H]+   \n...             ...              ...         ...             ...         ...   \n36120         36120            3.224  1484.40198         Unknown      [M+H]+   \n36121         36121            5.033  1489.49158         Unknown      [M+H]+   \n36122         36122            3.781  1493.32214         Unknown      [M+H]+   \n36123         36123            8.409  1494.22510         Unknown      [M+H]+   \n36124         36124            3.132  1495.33826         Unknown      [M+H]+   \n\n                                    Post curation result  Fill %  \\\n0      ion correlated with 7; ion correlated with 392...   0.026   \n1      ion correlated with 608; ion correlated with 8...   0.026   \n2      ion correlated with 1983; ion correlated with ...   0.026   \n3      ion correlated with 12858; ion correlated with...   0.103   \n4      ion correlated with 2601; ion correlated with ...   0.026   \n...                                                  ...     ...   \n36120  ion correlated with 20061; ion correlated with...   0.026   \n36121  ion correlated with 12132; ion correlated with...   0.051   \n36122  ion correlated with 806; ion correlated with 3...   0.051   \n36123  ion correlated with 5556; ion correlated with ...   0.026   \n36124  ion correlated with 21719; ion correlated with...   0.026   \n\n       MS/MS assigned  Reference RT  Reference m/z  ...  \\\n0               False           NaN            NaN  ...   \n1               False           NaN            NaN  ...   \n2               False           NaN            NaN  ...   \n3               False           NaN            NaN  ...   \n4               False           NaN            NaN  ...   \n...               ...           ...            ...  ...   \n36120           False           NaN            NaN  ...   \n36121           False           NaN            NaN  ...   \n36122           False           NaN            NaN  ...   \n36123           False           NaN            NaN  ...   \n36124           False           NaN            NaN  ...   \n\n       1870_AX_M5P2_M7P1_M7_X56_P  1870_AX_M5P2_M7P1_M7_X57_P  \\\n0                               0                           0   \n1                               0                           0   \n2                               0                           0   \n3                               0                           0   \n4                               0                           0   \n...                           ...                         ...   \n36120                           0                           0   \n36121                           0                           0   \n36122                           0                           0   \n36123                           0                           0   \n36124                           0                           0   \n\n       1870_AX_M5P2_M7P1_M7_X58_P  1870_AX_M5P2_M7P1_M7_X59_P  QC_Pool1_P  \\\n0                               0                           0           0   \n1                               0                           0           0   \n2                               0                           0           0   \n3                               0                           0       22070   \n4                               0                           0           0   \n...                           ...                         ...         ...   \n36120                           0                           0           0   \n36121                           0                           0           0   \n36122                           0                           0           0   \n36123                           0                           0           0   \n36124                           0                           0           0   \n\n       QC_Pool2_P  QC_Pool3_P            1           1.1  peaks  \n0               0           0  1882.595553  11756.805460    NaN  \n1               0       85552  2193.641827  13699.288818    NaN  \n2               0           0  3657.637420  22841.938366    NaN  \n3               0       20017  5178.305088  22401.440376    NaN  \n4               0           0  1884.536258  11768.925159    NaN  \n...           ...         ...          ...           ...    ...  \n36120           0           0  3972.078926  24805.624944    NaN  \n36121           0           0  3859.177534  20585.737744    NaN  \n36122           0           0  7931.169872  39142.734711    NaN  \n36123           0           0  2010.268630  12554.123569    NaN  \n36124           0           0  2365.961939  14775.427574    NaN  \n\n[36125 rows x 74 columns]",
      "text/html": "<div>\n<style scoped>\n    .dataframe tbody tr th:only-of-type {\n        vertical-align: middle;\n    }\n\n    .dataframe tbody tr th {\n        vertical-align: top;\n    }\n\n    .dataframe thead th {\n        text-align: right;\n    }\n</style>\n<table border=\"1\" class=\"dataframe\">\n  <thead>\n    <tr style=\"text-align: right;\">\n      <th></th>\n      <th>Alignment ID</th>\n      <th>Average Rt(min)</th>\n      <th>Average Mz</th>\n      <th>Metabolite name</th>\n      <th>Adduct type</th>\n      <th>Post curation result</th>\n      <th>Fill %</th>\n      <th>MS/MS assigned</th>\n      <th>Reference RT</th>\n      <th>Reference m/z</th>\n      <th>...</th>\n      <th>1870_AX_M5P2_M7P1_M7_X56_P</th>\n      <th>1870_AX_M5P2_M7P1_M7_X57_P</th>\n      <th>1870_AX_M5P2_M7P1_M7_X58_P</th>\n      <th>1870_AX_M5P2_M7P1_M7_X59_P</th>\n      <th>QC_Pool1_P</th>\n      <th>QC_Pool2_P</th>\n      <th>QC_Pool3_P</th>\n      <th>1</th>\n      <th>1.1</th>\n      <th>peaks</th>\n    </tr>\n  </thead>\n  <tbody>\n    <tr>\n      <th>0</th>\n      <td>0</td>\n      <td>8.807</td>\n      <td>100.01737</td>\n      <td>Unknown</td>\n      <td>[M+H]+</td>\n      <td>ion correlated with 7; ion correlated with 392...</td>\n      <td>0.026</td>\n      <td>False</td>\n      <td>NaN</td>\n      <td>NaN</td>\n      <td>...</td>\n      <td>0</td>\n      <td>0</td>\n      <td>0</td>\n      <td>0</td>\n      <td>0</td>\n      <td>0</td>\n      <td>0</td>\n      <td>1882.595553</td>\n      <td>11756.805460</td>\n      <td>NaN</td>\n    </tr>\n    <tr>\n      <th>1</th>\n      <td>1</td>\n      <td>9.648</td>\n      <td>100.02043</td>\n      <td>Unknown</td>\n      <td>[M+H]+</td>\n      <td>ion correlated with 608; ion correlated with 8...</td>\n      <td>0.026</td>\n      <td>False</td>\n      <td>NaN</td>\n      <td>NaN</td>\n      <td>...</td>\n      <td>0</td>\n      <td>0</td>\n      <td>0</td>\n      <td>0</td>\n      <td>0</td>\n      <td>0</td>\n      <td>85552</td>\n      <td>2193.641827</td>\n      <td>13699.288818</td>\n      <td>NaN</td>\n    </tr>\n    <tr>\n      <th>2</th>\n      <td>2</td>\n      <td>9.736</td>\n      <td>100.03606</td>\n      <td>Unknown</td>\n      <td>[M+H]+</td>\n      <td>ion correlated with 1983; ion correlated with ...</td>\n      <td>0.026</td>\n      <td>False</td>\n      <td>NaN</td>\n      <td>NaN</td>\n      <td>...</td>\n      <td>0</td>\n      <td>0</td>\n      <td>0</td>\n      <td>0</td>\n      <td>0</td>\n      <td>0</td>\n      <td>0</td>\n      <td>3657.637420</td>\n      <td>22841.938366</td>\n      <td>NaN</td>\n    </tr>\n    <tr>\n      <th>3</th>\n      <td>3</td>\n      <td>3.933</td>\n      <td>100.07549</td>\n      <td>Unknown</td>\n      <td>[M+H]+</td>\n      <td>ion correlated with 12858; ion correlated with...</td>\n      <td>0.103</td>\n      <td>False</td>\n      <td>NaN</td>\n      <td>NaN</td>\n      <td>...</td>\n      <td>0</td>\n      <td>0</td>\n      <td>0</td>\n      <td>0</td>\n      <td>22070</td>\n      <td>0</td>\n      <td>20017</td>\n      <td>5178.305088</td>\n      <td>22401.440376</td>\n      <td>NaN</td>\n    </tr>\n    <tr>\n      <th>4</th>\n      <td>4</td>\n      <td>4.523</td>\n      <td>100.07557</td>\n      <td>Unknown</td>\n      <td>[M+H]+</td>\n      <td>ion correlated with 2601; ion correlated with ...</td>\n      <td>0.026</td>\n      <td>False</td>\n      <td>NaN</td>\n      <td>NaN</td>\n      <td>...</td>\n      <td>0</td>\n      <td>0</td>\n      <td>0</td>\n      <td>0</td>\n      <td>0</td>\n      <td>0</td>\n      <td>0</td>\n      <td>1884.536258</td>\n      <td>11768.925159</td>\n      <td>NaN</td>\n    </tr>\n    <tr>\n      <th>...</th>\n      <td>...</td>\n      <td>...</td>\n      <td>...</td>\n      <td>...</td>\n      <td>...</td>\n      <td>...</td>\n      <td>...</td>\n      <td>...</td>\n      <td>...</td>\n      <td>...</td>\n      <td>...</td>\n      <td>...</td>\n      <td>...</td>\n      <td>...</td>\n      <td>...</td>\n      <td>...</td>\n      <td>...</td>\n      <td>...</td>\n      <td>...</td>\n      <td>...</td>\n      <td>...</td>\n    </tr>\n    <tr>\n      <th>36120</th>\n      <td>36120</td>\n      <td>3.224</td>\n      <td>1484.40198</td>\n      <td>Unknown</td>\n      <td>[M+H]+</td>\n      <td>ion correlated with 20061; ion correlated with...</td>\n      <td>0.026</td>\n      <td>False</td>\n      <td>NaN</td>\n      <td>NaN</td>\n      <td>...</td>\n      <td>0</td>\n      <td>0</td>\n      <td>0</td>\n      <td>0</td>\n      <td>0</td>\n      <td>0</td>\n      <td>0</td>\n      <td>3972.078926</td>\n      <td>24805.624944</td>\n      <td>NaN</td>\n    </tr>\n    <tr>\n      <th>36121</th>\n      <td>36121</td>\n      <td>5.033</td>\n      <td>1489.49158</td>\n      <td>Unknown</td>\n      <td>[M+H]+</td>\n      <td>ion correlated with 12132; ion correlated with...</td>\n      <td>0.051</td>\n      <td>False</td>\n      <td>NaN</td>\n      <td>NaN</td>\n      <td>...</td>\n      <td>0</td>\n      <td>0</td>\n      <td>0</td>\n      <td>0</td>\n      <td>0</td>\n      <td>0</td>\n      <td>0</td>\n      <td>3859.177534</td>\n      <td>20585.737744</td>\n      <td>NaN</td>\n    </tr>\n    <tr>\n      <th>36122</th>\n      <td>36122</td>\n      <td>3.781</td>\n      <td>1493.32214</td>\n      <td>Unknown</td>\n      <td>[M+H]+</td>\n      <td>ion correlated with 806; ion correlated with 3...</td>\n      <td>0.051</td>\n      <td>False</td>\n      <td>NaN</td>\n      <td>NaN</td>\n      <td>...</td>\n      <td>0</td>\n      <td>0</td>\n      <td>0</td>\n      <td>0</td>\n      <td>0</td>\n      <td>0</td>\n      <td>0</td>\n      <td>7931.169872</td>\n      <td>39142.734711</td>\n      <td>NaN</td>\n    </tr>\n    <tr>\n      <th>36123</th>\n      <td>36123</td>\n      <td>8.409</td>\n      <td>1494.22510</td>\n      <td>Unknown</td>\n      <td>[M+H]+</td>\n      <td>ion correlated with 5556; ion correlated with ...</td>\n      <td>0.026</td>\n      <td>False</td>\n      <td>NaN</td>\n      <td>NaN</td>\n      <td>...</td>\n      <td>0</td>\n      <td>0</td>\n      <td>0</td>\n      <td>0</td>\n      <td>0</td>\n      <td>0</td>\n      <td>0</td>\n      <td>2010.268630</td>\n      <td>12554.123569</td>\n      <td>NaN</td>\n    </tr>\n    <tr>\n      <th>36124</th>\n      <td>36124</td>\n      <td>3.132</td>\n      <td>1495.33826</td>\n      <td>Unknown</td>\n      <td>[M+H]+</td>\n      <td>ion correlated with 21719; ion correlated with...</td>\n      <td>0.026</td>\n      <td>False</td>\n      <td>NaN</td>\n      <td>NaN</td>\n      <td>...</td>\n      <td>0</td>\n      <td>0</td>\n      <td>0</td>\n      <td>0</td>\n      <td>0</td>\n      <td>0</td>\n      <td>0</td>\n      <td>2365.961939</td>\n      <td>14775.427574</td>\n      <td>NaN</td>\n    </tr>\n  </tbody>\n</table>\n<p>36125 rows × 74 columns</p>\n</div>"
     },
     "execution_count": 130,
     "metadata": {},
     "output_type": "execute_result"
    }
   ],
   "source": [
    "alignment_2"
   ],
   "metadata": {
    "collapsed": false,
    "ExecuteTime": {
     "end_time": "2023-07-22T01:00:23.591375Z",
     "start_time": "2023-07-22T01:00:23.526352Z"
    }
   }
  },
  {
   "cell_type": "code",
   "execution_count": 139,
   "outputs": [],
   "source": [
    "import seaborn as sns"
   ],
   "metadata": {
    "collapsed": false,
    "ExecuteTime": {
     "end_time": "2023-07-22T01:04:17.576179Z",
     "start_time": "2023-07-22T01:04:17.518934Z"
    }
   }
  },
  {
   "cell_type": "code",
   "execution_count": 145,
   "outputs": [],
   "source": [
    "qc1 = readin_peak_list(os.path.join(peak_list_dir, 'QC_Pool1_P.txt'))"
   ],
   "metadata": {
    "collapsed": false,
    "ExecuteTime": {
     "end_time": "2023-07-22T01:05:52.614327Z",
     "start_time": "2023-07-22T01:05:52.302926Z"
    }
   }
  },
  {
   "cell_type": "code",
   "execution_count": 146,
   "outputs": [
    {
     "data": {
      "text/plain": "      PeakID    Title  Scans  RT left(min)  RT (min)  RT right (min)  \\\n2600    2600  Unknown    853      2.704263  2.946479        2.999375   \n3200    3200  Unknown    925      2.999375  3.203174        3.683129   \n\n      Precursor m/z        Height        Area  Model masses  ... m/z matched  \\\n2600       449.1070  2.969935e+05   3077663.5           NaN  ...       False   \n3200       449.1075  5.618292e+06  41640248.0           NaN  ...       False   \n\n     MS/MS matched RT similarity  Dot product  Reverse dot product  \\\n2600         False           NaN          NaN                  NaN   \n3200         False           NaN          NaN                  NaN   \n\n      Fragment presence %  Total score         S/N  \\\n2600                  NaN          NaN    5273.784   \n3200                  NaN          NaN  112365.800   \n\n                                           MS1 isotopes  MSMS spectrum  \n2600  449.10696:448716 450.04993:69210 450.11136:101947            NaN  \n3200  449.10754:11358359 450.1113:2589246 450.14856:...            NaN  \n\n[2 rows x 31 columns]",
      "text/html": "<div>\n<style scoped>\n    .dataframe tbody tr th:only-of-type {\n        vertical-align: middle;\n    }\n\n    .dataframe tbody tr th {\n        vertical-align: top;\n    }\n\n    .dataframe thead th {\n        text-align: right;\n    }\n</style>\n<table border=\"1\" class=\"dataframe\">\n  <thead>\n    <tr style=\"text-align: right;\">\n      <th></th>\n      <th>PeakID</th>\n      <th>Title</th>\n      <th>Scans</th>\n      <th>RT left(min)</th>\n      <th>RT (min)</th>\n      <th>RT right (min)</th>\n      <th>Precursor m/z</th>\n      <th>Height</th>\n      <th>Area</th>\n      <th>Model masses</th>\n      <th>...</th>\n      <th>m/z matched</th>\n      <th>MS/MS matched</th>\n      <th>RT similarity</th>\n      <th>Dot product</th>\n      <th>Reverse dot product</th>\n      <th>Fragment presence %</th>\n      <th>Total score</th>\n      <th>S/N</th>\n      <th>MS1 isotopes</th>\n      <th>MSMS spectrum</th>\n    </tr>\n  </thead>\n  <tbody>\n    <tr>\n      <th>2600</th>\n      <td>2600</td>\n      <td>Unknown</td>\n      <td>853</td>\n      <td>2.704263</td>\n      <td>2.946479</td>\n      <td>2.999375</td>\n      <td>449.1070</td>\n      <td>2.969935e+05</td>\n      <td>3077663.5</td>\n      <td>NaN</td>\n      <td>...</td>\n      <td>False</td>\n      <td>False</td>\n      <td>NaN</td>\n      <td>NaN</td>\n      <td>NaN</td>\n      <td>NaN</td>\n      <td>NaN</td>\n      <td>5273.784</td>\n      <td>449.10696:448716 450.04993:69210 450.11136:101947</td>\n      <td>NaN</td>\n    </tr>\n    <tr>\n      <th>3200</th>\n      <td>3200</td>\n      <td>Unknown</td>\n      <td>925</td>\n      <td>2.999375</td>\n      <td>3.203174</td>\n      <td>3.683129</td>\n      <td>449.1075</td>\n      <td>5.618292e+06</td>\n      <td>41640248.0</td>\n      <td>NaN</td>\n      <td>...</td>\n      <td>False</td>\n      <td>False</td>\n      <td>NaN</td>\n      <td>NaN</td>\n      <td>NaN</td>\n      <td>NaN</td>\n      <td>NaN</td>\n      <td>112365.800</td>\n      <td>449.10754:11358359 450.1113:2589246 450.14856:...</td>\n      <td>NaN</td>\n    </tr>\n  </tbody>\n</table>\n<p>2 rows × 31 columns</p>\n</div>"
     },
     "execution_count": 146,
     "metadata": {},
     "output_type": "execute_result"
    }
   ],
   "source": [
    "mz = 449.1075\n",
    "quick_search_values(qc1, 'Precursor m/z',mz-0.01, mz+0.01, ifsorted=False)"
   ],
   "metadata": {
    "collapsed": false,
    "ExecuteTime": {
     "end_time": "2023-07-22T01:06:17.407089Z",
     "start_time": "2023-07-22T01:06:17.348992Z"
    }
   }
  },
  {
   "cell_type": "code",
   "execution_count": 147,
   "outputs": [
    {
     "data": {
      "text/plain": "PeakID                                                                 3198\nTitle                                                               Unknown\nScans                                                                   925\nRT left(min)                                                        3.06738\nRT (min)                                                           3.203174\nRT right (min)                                                     3.357633\nPrecursor m/z                                                      447.0927\nHeight                                                           27269154.0\nArea                                                            201948768.0\nModel masses                                                            NaN\nAdduct                                                               [M+H]+\nIsotope                                                               M + 0\nComment                                                                 NaN\nReference RT                                                            NaN\nReference m/z                                                           NaN\nFormula                                                                 NaN\nOntology                                                                NaN\nInChIKey                                                                NaN\nSMILES                                                                  NaN\nAnnotation tag (VS1.0)                                                  999\nRT matched                                                            False\nm/z matched                                                           False\nMS/MS matched                                                         False\nRT similarity                                                           NaN\nDot product                                                             NaN\nReverse dot product                                                     NaN\nFragment presence %                                                     NaN\nTotal score                                                             NaN\nS/N                                                                537969.3\nMS1 isotopes              447.09274:22859714 447.16525:140879 447.18643:...\nMSMS spectrum             126.14287:22733 153.01868:11002 179.92786:9647...\nName: 3198, dtype: object"
     },
     "execution_count": 147,
     "metadata": {},
     "output_type": "execute_result"
    }
   ],
   "source": [
    "qc1.loc[3198]"
   ],
   "metadata": {
    "collapsed": false,
    "ExecuteTime": {
     "end_time": "2023-07-22T01:06:35.230683Z",
     "start_time": "2023-07-22T01:06:35.171735Z"
    }
   }
  },
  {
   "cell_type": "code",
   "execution_count": 133,
   "outputs": [
    {
     "data": {
      "text/plain": "       Alignment ID  Average Rt(min)  Average Mz Metabolite name Adduct type  \\\n19212         19212            3.947   447.11725         Unknown      [M+H]+   \n\n                                    Post curation result  Fill %  \\\n19212  ion correlated with 6246; ion correlated with ...   0.128   \n\n       MS/MS assigned  Reference RT  Reference m/z  ...  \\\n19212           False           NaN            NaN  ...   \n\n       1870_AX_M5P2_M7P1_M7_X56_P  1870_AX_M5P2_M7P1_M7_X57_P  \\\n19212                           0                           0   \n\n       1870_AX_M5P2_M7P1_M7_X58_P  1870_AX_M5P2_M7P1_M7_X59_P  QC_Pool1_P  \\\n19212                           0                           0           0   \n\n       QC_Pool2_P  QC_Pool3_P             1            1.1  peaks  \n19212           0           0  32506.738169  128345.688947    NaN  \n\n[1 rows x 74 columns]",
      "text/html": "<div>\n<style scoped>\n    .dataframe tbody tr th:only-of-type {\n        vertical-align: middle;\n    }\n\n    .dataframe tbody tr th {\n        vertical-align: top;\n    }\n\n    .dataframe thead th {\n        text-align: right;\n    }\n</style>\n<table border=\"1\" class=\"dataframe\">\n  <thead>\n    <tr style=\"text-align: right;\">\n      <th></th>\n      <th>Alignment ID</th>\n      <th>Average Rt(min)</th>\n      <th>Average Mz</th>\n      <th>Metabolite name</th>\n      <th>Adduct type</th>\n      <th>Post curation result</th>\n      <th>Fill %</th>\n      <th>MS/MS assigned</th>\n      <th>Reference RT</th>\n      <th>Reference m/z</th>\n      <th>...</th>\n      <th>1870_AX_M5P2_M7P1_M7_X56_P</th>\n      <th>1870_AX_M5P2_M7P1_M7_X57_P</th>\n      <th>1870_AX_M5P2_M7P1_M7_X58_P</th>\n      <th>1870_AX_M5P2_M7P1_M7_X59_P</th>\n      <th>QC_Pool1_P</th>\n      <th>QC_Pool2_P</th>\n      <th>QC_Pool3_P</th>\n      <th>1</th>\n      <th>1.1</th>\n      <th>peaks</th>\n    </tr>\n  </thead>\n  <tbody>\n    <tr>\n      <th>19212</th>\n      <td>19212</td>\n      <td>3.947</td>\n      <td>447.11725</td>\n      <td>Unknown</td>\n      <td>[M+H]+</td>\n      <td>ion correlated with 6246; ion correlated with ...</td>\n      <td>0.128</td>\n      <td>False</td>\n      <td>NaN</td>\n      <td>NaN</td>\n      <td>...</td>\n      <td>0</td>\n      <td>0</td>\n      <td>0</td>\n      <td>0</td>\n      <td>0</td>\n      <td>0</td>\n      <td>0</td>\n      <td>32506.738169</td>\n      <td>128345.688947</td>\n      <td>NaN</td>\n    </tr>\n  </tbody>\n</table>\n<p>1 rows × 74 columns</p>\n</div>"
     },
     "execution_count": 133,
     "metadata": {},
     "output_type": "execute_result"
    }
   ],
   "source": [
    "mz = 447.1075\n",
    "quick_search_values(alignment_2, 'Average Mz',mz-0.01, mz+0.01, ifsorted=False)"
   ],
   "metadata": {
    "collapsed": false,
    "ExecuteTime": {
     "end_time": "2023-07-22T01:01:41.759840Z",
     "start_time": "2023-07-22T01:01:41.608953Z"
    }
   }
  },
  {
   "cell_type": "code",
   "execution_count": 134,
   "outputs": [
    {
     "data": {
      "text/plain": "Empty DataFrame\nColumns: [PeakID, Title, Scans, RT left(min), RT (min), RT right (min), Precursor m/z, Height, Area, Model masses, Adduct, Isotope, Comment, Reference RT, Reference m/z, Formula, Ontology, InChIKey, SMILES, Annotation tag (VS1.0), RT matched, m/z matched, MS/MS matched, RT similarity, Dot product, Reverse dot product, Fragment presence %, Total score, S/N, MS1 isotopes, MSMS spectrum]\nIndex: []\n\n[0 rows x 31 columns]",
      "text/html": "<div>\n<style scoped>\n    .dataframe tbody tr th:only-of-type {\n        vertical-align: middle;\n    }\n\n    .dataframe tbody tr th {\n        vertical-align: top;\n    }\n\n    .dataframe thead th {\n        text-align: right;\n    }\n</style>\n<table border=\"1\" class=\"dataframe\">\n  <thead>\n    <tr style=\"text-align: right;\">\n      <th></th>\n      <th>PeakID</th>\n      <th>Title</th>\n      <th>Scans</th>\n      <th>RT left(min)</th>\n      <th>RT (min)</th>\n      <th>RT right (min)</th>\n      <th>Precursor m/z</th>\n      <th>Height</th>\n      <th>Area</th>\n      <th>Model masses</th>\n      <th>...</th>\n      <th>m/z matched</th>\n      <th>MS/MS matched</th>\n      <th>RT similarity</th>\n      <th>Dot product</th>\n      <th>Reverse dot product</th>\n      <th>Fragment presence %</th>\n      <th>Total score</th>\n      <th>S/N</th>\n      <th>MS1 isotopes</th>\n      <th>MSMS spectrum</th>\n    </tr>\n  </thead>\n  <tbody>\n  </tbody>\n</table>\n<p>0 rows × 31 columns</p>\n</div>"
     },
     "execution_count": 134,
     "metadata": {},
     "output_type": "execute_result"
    }
   ],
   "source": [
    "mz = 449.1075\n",
    "quick_search_values(peak_list_x30, 'Precursor m/z',mz-0.01, mz+0.01, ifsorted=False)"
   ],
   "metadata": {
    "collapsed": false,
    "ExecuteTime": {
     "end_time": "2023-07-22T01:02:26.865551Z",
     "start_time": "2023-07-22T01:02:26.731469Z"
    }
   }
  },
  {
   "cell_type": "markdown",
   "source": [],
   "metadata": {
    "collapsed": false
   }
  },
  {
   "cell_type": "code",
   "execution_count": 28,
   "outputs": [],
   "source": [
    "from toolsets.feature_alignment import find_feature"
   ],
   "metadata": {
    "collapsed": false,
    "ExecuteTime": {
     "end_time": "2023-07-21T23:34:11.857673Z",
     "start_time": "2023-07-21T23:34:11.812794Z"
    }
   }
  },
  {
   "cell_type": "code",
   "execution_count": 30,
   "outputs": [],
   "source": [
    "istd_all = pd.DataFrame()\n",
    "for index, row in istd_info.iterrows():\n",
    "    istd_temp = find_feature(alignment_result, mz = row['[M+H]+'],rt = row['RT_suggested'], rt_column='Average Rt(min)', mz_column='Average Mz', rt_offset=10)\n",
    "    istd_all = pd.concat([istd_all, istd_temp],ignore_index=True)"
   ],
   "metadata": {
    "collapsed": false,
    "ExecuteTime": {
     "end_time": "2023-07-21T23:36:17.740236Z",
     "start_time": "2023-07-21T23:36:17.490204Z"
    }
   }
  },
  {
   "cell_type": "code",
   "execution_count": 93,
   "outputs": [
    {
     "data": {
      "text/plain": "    Alignment ID  Average Rt(min)  Average Mz Metabolite name Adduct type  \\\n0           6812            1.066   216.06894         Unknown      [M+H]+   \n1           7563            2.051   230.08450         Unknown      [M+H]+   \n2           8217            2.772   244.10023         Unknown      [M+H]+   \n3           8932            3.411   258.11597         Unknown      [M+H]+   \n4           9669            3.972   272.13153         Unknown      [M+H]+   \n5          10418            4.451   286.14713         Unknown      [M+H]+   \n6          11212            4.881   300.16302         Unknown      [M+H]+   \n7          11983            5.281   314.17850         Unknown      [M+H]+   \n8          12678            5.664   328.19412         Unknown      [M+H]+   \n9          13478            6.038   342.20999         Unknown      [M+H]+   \n10         14213            6.397   356.22580         Unknown      [M+H]+   \n11         14973            6.748   370.24133         Unknown      [M+H]+   \n12         15663            7.090   384.25714         Unknown      [M+H]+   \n13         16399            7.418   398.27280         Unknown      [M+H]+   \n14         17111            7.729   412.28824         Unknown      [M+H]+   \n15         17797            8.020   426.30405         Unknown      [M+H]+   \n16         18422            8.293   440.31976         Unknown      [M+H]+   \n\n                                 Post curation result  Fill %  MS/MS assigned  \\\n0                                                 NaN   0.974            True   \n1                                                 NaN   0.974            True   \n2                                                 NaN   0.974            True   \n3   similar chromatogram in higher mz_33697; simil...   0.974            True   \n4             similar chromatogram in higher mz_24942   0.974            True   \n5                                                 NaN   0.974            True   \n6                                                 NaN   0.974            True   \n7                                                 NaN   0.974            True   \n8                                                 NaN   1.000            True   \n9                     found in higher mz's MsMs_28286   0.974            True   \n10                    found in higher mz's MsMs_29018   0.974            True   \n11                                                NaN   0.974            True   \n12                    found in higher mz's MsMs_30313   0.974            True   \n13                                                NaN   0.974            True   \n14                    found in higher mz's MsMs_31295   0.974            True   \n15                    found in higher mz's MsMs_31677   0.974            True   \n16                                                NaN   1.000            True   \n\n    Reference RT  Reference m/z  ...  1870_AX_M5P2_M7P1_M7_X56_P  \\\n0            NaN            NaN  ...                      368530   \n1            NaN            NaN  ...                     1111054   \n2            NaN            NaN  ...                     1562042   \n3            NaN            NaN  ...                     2434797   \n4            NaN            NaN  ...                     2818642   \n5            NaN            NaN  ...                     4251598   \n6            NaN            NaN  ...                     5000992   \n7            NaN            NaN  ...                     5293030   \n8            NaN            NaN  ...                     4492560   \n9            NaN            NaN  ...                     7759618   \n10           NaN            NaN  ...                     7165583   \n11           NaN            NaN  ...                     7340304   \n12           NaN            NaN  ...                     8599703   \n13           NaN            NaN  ...                     9988883   \n14           NaN            NaN  ...                    11155334   \n15           NaN            NaN  ...                    10114395   \n16           NaN            NaN  ...                    14944922   \n\n    1870_AX_M5P2_M7P1_M7_X57_P  1870_AX_M5P2_M7P1_M7_X58_P  \\\n0                       354162                      335916   \n1                      1091554                     1053981   \n2                      1481638                     1474264   \n3                      2342738                     2351616   \n4                      2873987                     2888401   \n5                      3727686                     3346088   \n6                      5052879                     4903272   \n7                      4852372                     4729087   \n8                      4380912                     4316872   \n9                      7228556                     7121219   \n10                     6984030                     6787450   \n11                     7249668                     7106205   \n12                     8514743                     7540920   \n13                     9789727                     8960806   \n14                    11729221                     9125893   \n15                    10360994                    10039018   \n16                    13170399                    12279953   \n\n    1870_AX_M5P2_M7P1_M7_X59_P  QC_Pool1_P  QC_Pool2_P  QC_Pool3_P  \\\n0                       352210      381153      359866      393132   \n1                      1032963      745152      694569      729253   \n2                      1465294      466213      451308      479536   \n3                      2297314      656049      694792      664642   \n4                      2600248     2310267     2362058     2427263   \n5                      3439936     3216874     3062679     3334664   \n6                      4689370     4003111     4174830     4185428   \n7                      5061926     4477494     4811564     5028726   \n8                      4562422     4445998     4530998     4707976   \n9                      7239814     7634104     7053066     7336998   \n10                     7309370     8235812     7566190     7490332   \n11                     7036908     7831514     6898396     7776028   \n12                     8150624     8368594     8679015     8707886   \n13                     8938445    10695226    10375488    10833204   \n14                     9449614    11556738    10371991    11657601   \n15                     9951489    11284921    12209869    10866120   \n16                    11334770    12975640    12406626    11682942   \n\n               1           1.1  \\\n0   3.564369e+05  6.278280e+04   \n1   9.534069e+05  2.406172e+05   \n2   1.137545e+06  4.893561e+05   \n3   1.554319e+06  7.091290e+05   \n4   2.776085e+06  7.032889e+05   \n5   3.845470e+06  9.034853e+05   \n6   4.675908e+06  9.763873e+05   \n7   4.940232e+06  9.844453e+05   \n8   4.429774e+06  7.674520e+05   \n9   7.207732e+06  1.319590e+06   \n10  7.345708e+06  1.332406e+06   \n11  7.381683e+06  1.307610e+06   \n12  8.053827e+06  1.397108e+06   \n13  9.594302e+06  1.730942e+06   \n14  1.025836e+07  1.836564e+06   \n15  1.043279e+07  1.835183e+06   \n16  1.193805e+07  2.222240e+06   \n\n                                                peaks  \n0   66.99542\\t9678\\n95.34583\\t9073\\n111.27551\\t900...  \n1   66.02305\\t9240\\n75.48701\\t8203\\n86.04581\\t7890...  \n2   82.33688\\t9760\\n85.10079\\t15243\\n128.24335\\t10...  \n3   67.09523\\t9786\\n78.88148\\t9478\\n85.29395\\t9064...  \n4   79.04257\\t13304\\n84.75348\\t10364\\n86.31379\\t96...  \n5   79.04233\\t13655\\n85.10125\\t13525\\n96.04437\\t12...  \n6   79.04207\\t14505\\n80.55682\\t9120\\n96.04422\\t127...  \n7   96.04523\\t12030\\n99.20905\\t10682\\n105.31888\\t9...  \n8   94.10669\\t5248\\n111.59763\\t6810\\n114.46407\\t67...  \n9   98.63515\\t5759\\n100.30314\\t5210\\n101.90321\\t54...  \n10  94.48908\\t4625\\n94.86325\\t4870\\n101.00548\\t656...  \n11  115.12644\\t6831\\n160.00616\\t2427056\\n208.25806...  \n12  103.5909\\t5336\\n106.6931\\t6038\\n112.36768\\t587...  \n13  113.41171\\t5664\\n121.16832\\t5981\\n121.30734\\t5...  \n14  115.52219\\t5526\\n115.65048\\t5586\\n160.00626\\t1...  \n15  135.72435\\t6886\\n148.90266\\t8637\\n148.92053\\t1...  \n16  124.10045\\t7169\\n126.40221\\t6815\\n144.22646\\t8...  \n\n[17 rows x 74 columns]",
      "text/html": "<div>\n<style scoped>\n    .dataframe tbody tr th:only-of-type {\n        vertical-align: middle;\n    }\n\n    .dataframe tbody tr th {\n        vertical-align: top;\n    }\n\n    .dataframe thead th {\n        text-align: right;\n    }\n</style>\n<table border=\"1\" class=\"dataframe\">\n  <thead>\n    <tr style=\"text-align: right;\">\n      <th></th>\n      <th>Alignment ID</th>\n      <th>Average Rt(min)</th>\n      <th>Average Mz</th>\n      <th>Metabolite name</th>\n      <th>Adduct type</th>\n      <th>Post curation result</th>\n      <th>Fill %</th>\n      <th>MS/MS assigned</th>\n      <th>Reference RT</th>\n      <th>Reference m/z</th>\n      <th>...</th>\n      <th>1870_AX_M5P2_M7P1_M7_X56_P</th>\n      <th>1870_AX_M5P2_M7P1_M7_X57_P</th>\n      <th>1870_AX_M5P2_M7P1_M7_X58_P</th>\n      <th>1870_AX_M5P2_M7P1_M7_X59_P</th>\n      <th>QC_Pool1_P</th>\n      <th>QC_Pool2_P</th>\n      <th>QC_Pool3_P</th>\n      <th>1</th>\n      <th>1.1</th>\n      <th>peaks</th>\n    </tr>\n  </thead>\n  <tbody>\n    <tr>\n      <th>0</th>\n      <td>6812</td>\n      <td>1.066</td>\n      <td>216.06894</td>\n      <td>Unknown</td>\n      <td>[M+H]+</td>\n      <td>NaN</td>\n      <td>0.974</td>\n      <td>True</td>\n      <td>NaN</td>\n      <td>NaN</td>\n      <td>...</td>\n      <td>368530</td>\n      <td>354162</td>\n      <td>335916</td>\n      <td>352210</td>\n      <td>381153</td>\n      <td>359866</td>\n      <td>393132</td>\n      <td>3.564369e+05</td>\n      <td>6.278280e+04</td>\n      <td>66.99542\\t9678\\n95.34583\\t9073\\n111.27551\\t900...</td>\n    </tr>\n    <tr>\n      <th>1</th>\n      <td>7563</td>\n      <td>2.051</td>\n      <td>230.08450</td>\n      <td>Unknown</td>\n      <td>[M+H]+</td>\n      <td>NaN</td>\n      <td>0.974</td>\n      <td>True</td>\n      <td>NaN</td>\n      <td>NaN</td>\n      <td>...</td>\n      <td>1111054</td>\n      <td>1091554</td>\n      <td>1053981</td>\n      <td>1032963</td>\n      <td>745152</td>\n      <td>694569</td>\n      <td>729253</td>\n      <td>9.534069e+05</td>\n      <td>2.406172e+05</td>\n      <td>66.02305\\t9240\\n75.48701\\t8203\\n86.04581\\t7890...</td>\n    </tr>\n    <tr>\n      <th>2</th>\n      <td>8217</td>\n      <td>2.772</td>\n      <td>244.10023</td>\n      <td>Unknown</td>\n      <td>[M+H]+</td>\n      <td>NaN</td>\n      <td>0.974</td>\n      <td>True</td>\n      <td>NaN</td>\n      <td>NaN</td>\n      <td>...</td>\n      <td>1562042</td>\n      <td>1481638</td>\n      <td>1474264</td>\n      <td>1465294</td>\n      <td>466213</td>\n      <td>451308</td>\n      <td>479536</td>\n      <td>1.137545e+06</td>\n      <td>4.893561e+05</td>\n      <td>82.33688\\t9760\\n85.10079\\t15243\\n128.24335\\t10...</td>\n    </tr>\n    <tr>\n      <th>3</th>\n      <td>8932</td>\n      <td>3.411</td>\n      <td>258.11597</td>\n      <td>Unknown</td>\n      <td>[M+H]+</td>\n      <td>similar chromatogram in higher mz_33697; simil...</td>\n      <td>0.974</td>\n      <td>True</td>\n      <td>NaN</td>\n      <td>NaN</td>\n      <td>...</td>\n      <td>2434797</td>\n      <td>2342738</td>\n      <td>2351616</td>\n      <td>2297314</td>\n      <td>656049</td>\n      <td>694792</td>\n      <td>664642</td>\n      <td>1.554319e+06</td>\n      <td>7.091290e+05</td>\n      <td>67.09523\\t9786\\n78.88148\\t9478\\n85.29395\\t9064...</td>\n    </tr>\n    <tr>\n      <th>4</th>\n      <td>9669</td>\n      <td>3.972</td>\n      <td>272.13153</td>\n      <td>Unknown</td>\n      <td>[M+H]+</td>\n      <td>similar chromatogram in higher mz_24942</td>\n      <td>0.974</td>\n      <td>True</td>\n      <td>NaN</td>\n      <td>NaN</td>\n      <td>...</td>\n      <td>2818642</td>\n      <td>2873987</td>\n      <td>2888401</td>\n      <td>2600248</td>\n      <td>2310267</td>\n      <td>2362058</td>\n      <td>2427263</td>\n      <td>2.776085e+06</td>\n      <td>7.032889e+05</td>\n      <td>79.04257\\t13304\\n84.75348\\t10364\\n86.31379\\t96...</td>\n    </tr>\n    <tr>\n      <th>5</th>\n      <td>10418</td>\n      <td>4.451</td>\n      <td>286.14713</td>\n      <td>Unknown</td>\n      <td>[M+H]+</td>\n      <td>NaN</td>\n      <td>0.974</td>\n      <td>True</td>\n      <td>NaN</td>\n      <td>NaN</td>\n      <td>...</td>\n      <td>4251598</td>\n      <td>3727686</td>\n      <td>3346088</td>\n      <td>3439936</td>\n      <td>3216874</td>\n      <td>3062679</td>\n      <td>3334664</td>\n      <td>3.845470e+06</td>\n      <td>9.034853e+05</td>\n      <td>79.04233\\t13655\\n85.10125\\t13525\\n96.04437\\t12...</td>\n    </tr>\n    <tr>\n      <th>6</th>\n      <td>11212</td>\n      <td>4.881</td>\n      <td>300.16302</td>\n      <td>Unknown</td>\n      <td>[M+H]+</td>\n      <td>NaN</td>\n      <td>0.974</td>\n      <td>True</td>\n      <td>NaN</td>\n      <td>NaN</td>\n      <td>...</td>\n      <td>5000992</td>\n      <td>5052879</td>\n      <td>4903272</td>\n      <td>4689370</td>\n      <td>4003111</td>\n      <td>4174830</td>\n      <td>4185428</td>\n      <td>4.675908e+06</td>\n      <td>9.763873e+05</td>\n      <td>79.04207\\t14505\\n80.55682\\t9120\\n96.04422\\t127...</td>\n    </tr>\n    <tr>\n      <th>7</th>\n      <td>11983</td>\n      <td>5.281</td>\n      <td>314.17850</td>\n      <td>Unknown</td>\n      <td>[M+H]+</td>\n      <td>NaN</td>\n      <td>0.974</td>\n      <td>True</td>\n      <td>NaN</td>\n      <td>NaN</td>\n      <td>...</td>\n      <td>5293030</td>\n      <td>4852372</td>\n      <td>4729087</td>\n      <td>5061926</td>\n      <td>4477494</td>\n      <td>4811564</td>\n      <td>5028726</td>\n      <td>4.940232e+06</td>\n      <td>9.844453e+05</td>\n      <td>96.04523\\t12030\\n99.20905\\t10682\\n105.31888\\t9...</td>\n    </tr>\n    <tr>\n      <th>8</th>\n      <td>12678</td>\n      <td>5.664</td>\n      <td>328.19412</td>\n      <td>Unknown</td>\n      <td>[M+H]+</td>\n      <td>NaN</td>\n      <td>1.000</td>\n      <td>True</td>\n      <td>NaN</td>\n      <td>NaN</td>\n      <td>...</td>\n      <td>4492560</td>\n      <td>4380912</td>\n      <td>4316872</td>\n      <td>4562422</td>\n      <td>4445998</td>\n      <td>4530998</td>\n      <td>4707976</td>\n      <td>4.429774e+06</td>\n      <td>7.674520e+05</td>\n      <td>94.10669\\t5248\\n111.59763\\t6810\\n114.46407\\t67...</td>\n    </tr>\n    <tr>\n      <th>9</th>\n      <td>13478</td>\n      <td>6.038</td>\n      <td>342.20999</td>\n      <td>Unknown</td>\n      <td>[M+H]+</td>\n      <td>found in higher mz's MsMs_28286</td>\n      <td>0.974</td>\n      <td>True</td>\n      <td>NaN</td>\n      <td>NaN</td>\n      <td>...</td>\n      <td>7759618</td>\n      <td>7228556</td>\n      <td>7121219</td>\n      <td>7239814</td>\n      <td>7634104</td>\n      <td>7053066</td>\n      <td>7336998</td>\n      <td>7.207732e+06</td>\n      <td>1.319590e+06</td>\n      <td>98.63515\\t5759\\n100.30314\\t5210\\n101.90321\\t54...</td>\n    </tr>\n    <tr>\n      <th>10</th>\n      <td>14213</td>\n      <td>6.397</td>\n      <td>356.22580</td>\n      <td>Unknown</td>\n      <td>[M+H]+</td>\n      <td>found in higher mz's MsMs_29018</td>\n      <td>0.974</td>\n      <td>True</td>\n      <td>NaN</td>\n      <td>NaN</td>\n      <td>...</td>\n      <td>7165583</td>\n      <td>6984030</td>\n      <td>6787450</td>\n      <td>7309370</td>\n      <td>8235812</td>\n      <td>7566190</td>\n      <td>7490332</td>\n      <td>7.345708e+06</td>\n      <td>1.332406e+06</td>\n      <td>94.48908\\t4625\\n94.86325\\t4870\\n101.00548\\t656...</td>\n    </tr>\n    <tr>\n      <th>11</th>\n      <td>14973</td>\n      <td>6.748</td>\n      <td>370.24133</td>\n      <td>Unknown</td>\n      <td>[M+H]+</td>\n      <td>NaN</td>\n      <td>0.974</td>\n      <td>True</td>\n      <td>NaN</td>\n      <td>NaN</td>\n      <td>...</td>\n      <td>7340304</td>\n      <td>7249668</td>\n      <td>7106205</td>\n      <td>7036908</td>\n      <td>7831514</td>\n      <td>6898396</td>\n      <td>7776028</td>\n      <td>7.381683e+06</td>\n      <td>1.307610e+06</td>\n      <td>115.12644\\t6831\\n160.00616\\t2427056\\n208.25806...</td>\n    </tr>\n    <tr>\n      <th>12</th>\n      <td>15663</td>\n      <td>7.090</td>\n      <td>384.25714</td>\n      <td>Unknown</td>\n      <td>[M+H]+</td>\n      <td>found in higher mz's MsMs_30313</td>\n      <td>0.974</td>\n      <td>True</td>\n      <td>NaN</td>\n      <td>NaN</td>\n      <td>...</td>\n      <td>8599703</td>\n      <td>8514743</td>\n      <td>7540920</td>\n      <td>8150624</td>\n      <td>8368594</td>\n      <td>8679015</td>\n      <td>8707886</td>\n      <td>8.053827e+06</td>\n      <td>1.397108e+06</td>\n      <td>103.5909\\t5336\\n106.6931\\t6038\\n112.36768\\t587...</td>\n    </tr>\n    <tr>\n      <th>13</th>\n      <td>16399</td>\n      <td>7.418</td>\n      <td>398.27280</td>\n      <td>Unknown</td>\n      <td>[M+H]+</td>\n      <td>NaN</td>\n      <td>0.974</td>\n      <td>True</td>\n      <td>NaN</td>\n      <td>NaN</td>\n      <td>...</td>\n      <td>9988883</td>\n      <td>9789727</td>\n      <td>8960806</td>\n      <td>8938445</td>\n      <td>10695226</td>\n      <td>10375488</td>\n      <td>10833204</td>\n      <td>9.594302e+06</td>\n      <td>1.730942e+06</td>\n      <td>113.41171\\t5664\\n121.16832\\t5981\\n121.30734\\t5...</td>\n    </tr>\n    <tr>\n      <th>14</th>\n      <td>17111</td>\n      <td>7.729</td>\n      <td>412.28824</td>\n      <td>Unknown</td>\n      <td>[M+H]+</td>\n      <td>found in higher mz's MsMs_31295</td>\n      <td>0.974</td>\n      <td>True</td>\n      <td>NaN</td>\n      <td>NaN</td>\n      <td>...</td>\n      <td>11155334</td>\n      <td>11729221</td>\n      <td>9125893</td>\n      <td>9449614</td>\n      <td>11556738</td>\n      <td>10371991</td>\n      <td>11657601</td>\n      <td>1.025836e+07</td>\n      <td>1.836564e+06</td>\n      <td>115.52219\\t5526\\n115.65048\\t5586\\n160.00626\\t1...</td>\n    </tr>\n    <tr>\n      <th>15</th>\n      <td>17797</td>\n      <td>8.020</td>\n      <td>426.30405</td>\n      <td>Unknown</td>\n      <td>[M+H]+</td>\n      <td>found in higher mz's MsMs_31677</td>\n      <td>0.974</td>\n      <td>True</td>\n      <td>NaN</td>\n      <td>NaN</td>\n      <td>...</td>\n      <td>10114395</td>\n      <td>10360994</td>\n      <td>10039018</td>\n      <td>9951489</td>\n      <td>11284921</td>\n      <td>12209869</td>\n      <td>10866120</td>\n      <td>1.043279e+07</td>\n      <td>1.835183e+06</td>\n      <td>135.72435\\t6886\\n148.90266\\t8637\\n148.92053\\t1...</td>\n    </tr>\n    <tr>\n      <th>16</th>\n      <td>18422</td>\n      <td>8.293</td>\n      <td>440.31976</td>\n      <td>Unknown</td>\n      <td>[M+H]+</td>\n      <td>NaN</td>\n      <td>1.000</td>\n      <td>True</td>\n      <td>NaN</td>\n      <td>NaN</td>\n      <td>...</td>\n      <td>14944922</td>\n      <td>13170399</td>\n      <td>12279953</td>\n      <td>11334770</td>\n      <td>12975640</td>\n      <td>12406626</td>\n      <td>11682942</td>\n      <td>1.193805e+07</td>\n      <td>2.222240e+06</td>\n      <td>124.10045\\t7169\\n126.40221\\t6815\\n144.22646\\t8...</td>\n    </tr>\n  </tbody>\n</table>\n<p>17 rows × 74 columns</p>\n</div>"
     },
     "execution_count": 93,
     "metadata": {},
     "output_type": "execute_result"
    }
   ],
   "source": [
    "istd_all"
   ],
   "metadata": {
    "collapsed": false,
    "ExecuteTime": {
     "end_time": "2023-07-22T00:03:42.752806Z",
     "start_time": "2023-07-22T00:03:42.554044Z"
    }
   }
  },
  {
   "cell_type": "code",
   "execution_count": 32,
   "outputs": [],
   "source": [
    "istd_all2 = pd.DataFrame()\n",
    "for index, row in istd_info.iterrows():\n",
    "    istd_temp = find_feature(alignment_result_updated, mz = row['[M+H]+'],rt = row['RT_suggested'], rt_column='Average Rt(min)', mz_column='Average Mz', rt_offset=10)\n",
    "    istd_all2 = pd.concat([istd_all2, istd_temp],ignore_index=True)"
   ],
   "metadata": {
    "collapsed": false,
    "ExecuteTime": {
     "end_time": "2023-07-21T23:37:01.659695Z",
     "start_time": "2023-07-21T23:37:01.419435Z"
    }
   }
  },
  {
   "cell_type": "code",
   "execution_count": 150,
   "outputs": [],
   "source": [
    "peak_list_x32 = readin_peak_list(os.path.join(peak_list_dir, '1870_AX_M5P2_M7P1_M7_X32_P.txt'))"
   ],
   "metadata": {
    "collapsed": false,
    "ExecuteTime": {
     "end_time": "2023-07-22T01:08:59.751808Z",
     "start_time": "2023-07-22T01:08:59.633228Z"
    }
   }
  },
  {
   "cell_type": "code",
   "execution_count": 50,
   "outputs": [
    {
     "data": {
      "text/plain": "-0.0019089999999550855"
     },
     "execution_count": 50,
     "metadata": {},
     "output_type": "execute_result"
    }
   ],
   "source": [
    "440.319291-440.3212"
   ],
   "metadata": {
    "collapsed": false,
    "ExecuteTime": {
     "end_time": "2023-07-21T23:41:30.056620Z",
     "start_time": "2023-07-21T23:41:30.011375Z"
    }
   }
  },
  {
   "cell_type": "code",
   "execution_count": 89,
   "outputs": [
    {
     "data": {
      "text/plain": "      PeakID    Title  Scans  RT left(min)  RT (min)  RT right (min)  \\\n6713    6713  Unknown   2472      8.097936  8.294157        8.472178   \n\n      Precursor m/z      Height          Area  Model masses  ... m/z matched  \\\n6713       440.3212  8437.18457  35186.609375           NaN  ...       False   \n\n     MS/MS matched RT similarity  Dot product  Reverse dot product  \\\n6713         False           NaN          NaN                  NaN   \n\n      Fragment presence %  Total score       S/N  \\\n6713                  NaN          NaN  168.7437   \n\n                         MS1 isotopes  MSMS spectrum  \n6713  440.32123:33749 443.33533:41440            NaN  \n\n[1 rows x 31 columns]",
      "text/html": "<div>\n<style scoped>\n    .dataframe tbody tr th:only-of-type {\n        vertical-align: middle;\n    }\n\n    .dataframe tbody tr th {\n        vertical-align: top;\n    }\n\n    .dataframe thead th {\n        text-align: right;\n    }\n</style>\n<table border=\"1\" class=\"dataframe\">\n  <thead>\n    <tr style=\"text-align: right;\">\n      <th></th>\n      <th>PeakID</th>\n      <th>Title</th>\n      <th>Scans</th>\n      <th>RT left(min)</th>\n      <th>RT (min)</th>\n      <th>RT right (min)</th>\n      <th>Precursor m/z</th>\n      <th>Height</th>\n      <th>Area</th>\n      <th>Model masses</th>\n      <th>...</th>\n      <th>m/z matched</th>\n      <th>MS/MS matched</th>\n      <th>RT similarity</th>\n      <th>Dot product</th>\n      <th>Reverse dot product</th>\n      <th>Fragment presence %</th>\n      <th>Total score</th>\n      <th>S/N</th>\n      <th>MS1 isotopes</th>\n      <th>MSMS spectrum</th>\n    </tr>\n  </thead>\n  <tbody>\n    <tr>\n      <th>6713</th>\n      <td>6713</td>\n      <td>Unknown</td>\n      <td>2472</td>\n      <td>8.097936</td>\n      <td>8.294157</td>\n      <td>8.472178</td>\n      <td>440.3212</td>\n      <td>8437.18457</td>\n      <td>35186.609375</td>\n      <td>NaN</td>\n      <td>...</td>\n      <td>False</td>\n      <td>False</td>\n      <td>NaN</td>\n      <td>NaN</td>\n      <td>NaN</td>\n      <td>NaN</td>\n      <td>NaN</td>\n      <td>168.7437</td>\n      <td>440.32123:33749 443.33533:41440</td>\n      <td>NaN</td>\n    </tr>\n  </tbody>\n</table>\n<p>1 rows × 31 columns</p>\n</div>"
     },
     "execution_count": 89,
     "metadata": {},
     "output_type": "execute_result"
    }
   ],
   "source": [
    "mz = 440.31976\n",
    "quick_search_values(peak_list_x30, 'Precursor m/z',mz-0.01, mz+0.01, ifsorted=False)"
   ],
   "metadata": {
    "collapsed": false,
    "ExecuteTime": {
     "end_time": "2023-07-21T23:56:50.546408Z",
     "start_time": "2023-07-21T23:56:50.458015Z"
    }
   }
  },
  {
   "cell_type": "code",
   "execution_count": 59,
   "outputs": [],
   "source": [
    "import math"
   ],
   "metadata": {
    "collapsed": false,
    "ExecuteTime": {
     "end_time": "2023-07-21T23:51:13.750090Z",
     "start_time": "2023-07-21T23:51:13.677929Z"
    }
   }
  },
  {
   "cell_type": "code",
   "execution_count": 67,
   "outputs": [
    {
     "data": {
      "text/plain": "32080832564760.64"
     },
     "execution_count": 67,
     "metadata": {},
     "output_type": "execute_result"
    }
   ],
   "source": [
    "pow((5.599865-5.664/0.000001), 2)"
   ],
   "metadata": {
    "collapsed": false,
    "ExecuteTime": {
     "end_time": "2023-07-21T23:52:09.475949Z",
     "start_time": "2023-07-21T23:52:09.429672Z"
    }
   }
  },
  {
   "cell_type": "code",
   "execution_count": 61,
   "outputs": [
    {
     "data": {
      "text/plain": "5797.505736809112"
     },
     "execution_count": 61,
     "metadata": {},
     "output_type": "execute_result"
    }
   ],
   "source": [
    "0.5*pow((5.599865-5.664/0.05), 2)"
   ],
   "metadata": {
    "collapsed": false,
    "ExecuteTime": {
     "end_time": "2023-07-21T23:51:26.858426Z",
     "start_time": "2023-07-21T23:51:26.822700Z"
    }
   }
  },
  {
   "cell_type": "code",
   "execution_count": 16,
   "outputs": [],
   "source": [
    "peak_list_dir = '/Users/fanzhou.kong/Dropbox (Brightseed)/Mac/Documents/GitHub/data_garage/brighseed/peak_list/20230206_PHV_H2L_1870AX_M5P2_M7P1/pos'"
   ],
   "metadata": {
    "collapsed": false,
    "ExecuteTime": {
     "end_time": "2023-07-21T22:59:53.283630Z",
     "start_time": "2023-07-21T22:59:53.235659Z"
    }
   }
  },
  {
   "cell_type": "code",
   "execution_count": 17,
   "outputs": [],
   "source": [
    "from toolsets.file_io import readin_peak_list\n",
    "peak_list_qc1 = readin_peak_list(os.path.join(peak_list_dir, 'QC_Pool1_P.txt'))"
   ],
   "metadata": {
    "collapsed": false,
    "ExecuteTime": {
     "end_time": "2023-07-21T23:00:28.920559Z",
     "start_time": "2023-07-21T23:00:28.823629Z"
    }
   }
  },
  {
   "cell_type": "code",
   "execution_count": 21,
   "outputs": [
    {
     "data": {
      "text/plain": "      PeakID    Title  Scans  RT left(min)  RT (min)  RT right (min)  \\\n2600    2600  Unknown    853      2.704263  2.946479        2.999375   \n3200    3200  Unknown    925      2.999375  3.203174        3.683129   \n\n      Precursor m/z        Height        Area  Model masses  ... m/z matched  \\\n2600       449.1070  2.969935e+05   3077663.5           NaN  ...       False   \n3200       449.1075  5.618292e+06  41640248.0           NaN  ...       False   \n\n     MS/MS matched RT similarity  Dot product  Reverse dot product  \\\n2600         False           NaN          NaN                  NaN   \n3200         False           NaN          NaN                  NaN   \n\n      Fragment presence %  Total score         S/N  \\\n2600                  NaN          NaN    5273.784   \n3200                  NaN          NaN  112365.800   \n\n                                           MS1 isotopes  MSMS spectrum  \n2600  449.10696:448716 450.04993:69210 450.11136:101947            NaN  \n3200  449.10754:11358359 450.1113:2589246 450.14856:...            NaN  \n\n[2 rows x 31 columns]",
      "text/html": "<div>\n<style scoped>\n    .dataframe tbody tr th:only-of-type {\n        vertical-align: middle;\n    }\n\n    .dataframe tbody tr th {\n        vertical-align: top;\n    }\n\n    .dataframe thead th {\n        text-align: right;\n    }\n</style>\n<table border=\"1\" class=\"dataframe\">\n  <thead>\n    <tr style=\"text-align: right;\">\n      <th></th>\n      <th>PeakID</th>\n      <th>Title</th>\n      <th>Scans</th>\n      <th>RT left(min)</th>\n      <th>RT (min)</th>\n      <th>RT right (min)</th>\n      <th>Precursor m/z</th>\n      <th>Height</th>\n      <th>Area</th>\n      <th>Model masses</th>\n      <th>...</th>\n      <th>m/z matched</th>\n      <th>MS/MS matched</th>\n      <th>RT similarity</th>\n      <th>Dot product</th>\n      <th>Reverse dot product</th>\n      <th>Fragment presence %</th>\n      <th>Total score</th>\n      <th>S/N</th>\n      <th>MS1 isotopes</th>\n      <th>MSMS spectrum</th>\n    </tr>\n  </thead>\n  <tbody>\n    <tr>\n      <th>2600</th>\n      <td>2600</td>\n      <td>Unknown</td>\n      <td>853</td>\n      <td>2.704263</td>\n      <td>2.946479</td>\n      <td>2.999375</td>\n      <td>449.1070</td>\n      <td>2.969935e+05</td>\n      <td>3077663.5</td>\n      <td>NaN</td>\n      <td>...</td>\n      <td>False</td>\n      <td>False</td>\n      <td>NaN</td>\n      <td>NaN</td>\n      <td>NaN</td>\n      <td>NaN</td>\n      <td>NaN</td>\n      <td>5273.784</td>\n      <td>449.10696:448716 450.04993:69210 450.11136:101947</td>\n      <td>NaN</td>\n    </tr>\n    <tr>\n      <th>3200</th>\n      <td>3200</td>\n      <td>Unknown</td>\n      <td>925</td>\n      <td>2.999375</td>\n      <td>3.203174</td>\n      <td>3.683129</td>\n      <td>449.1075</td>\n      <td>5.618292e+06</td>\n      <td>41640248.0</td>\n      <td>NaN</td>\n      <td>...</td>\n      <td>False</td>\n      <td>False</td>\n      <td>NaN</td>\n      <td>NaN</td>\n      <td>NaN</td>\n      <td>NaN</td>\n      <td>NaN</td>\n      <td>112365.800</td>\n      <td>449.10754:11358359 450.1113:2589246 450.14856:...</td>\n      <td>NaN</td>\n    </tr>\n  </tbody>\n</table>\n<p>2 rows × 31 columns</p>\n</div>"
     },
     "execution_count": 21,
     "metadata": {},
     "output_type": "execute_result"
    }
   ],
   "source": [
    "quick_search_values(peak_list_qc1, 'Precursor m/z',mz-0.005, mz+0.005, ifsorted=False)"
   ],
   "metadata": {
    "collapsed": false,
    "ExecuteTime": {
     "end_time": "2023-07-21T23:01:13.845142Z",
     "start_time": "2023-07-21T23:01:13.798252Z"
    }
   }
  },
  {
   "cell_type": "code",
   "execution_count": 20,
   "outputs": [
    {
     "data": {
      "text/plain": "Index(['PeakID', 'Title', 'Scans', 'RT left(min)', 'RT (min)',\n       'RT right (min)', 'Precursor m/z', 'Height', 'Area', 'Model masses',\n       'Adduct', 'Isotope', 'Comment', 'Reference RT', 'Reference m/z',\n       'Formula', 'Ontology', 'InChIKey', 'SMILES', 'Annotation tag (VS1.0)',\n       'RT matched', 'm/z matched', 'MS/MS matched', 'RT similarity',\n       'Dot product', 'Reverse dot product', 'Fragment presence %',\n       'Total score', 'S/N', 'MS1 isotopes', 'MSMS spectrum'],\n      dtype='object')"
     },
     "execution_count": 20,
     "metadata": {},
     "output_type": "execute_result"
    }
   ],
   "source": [
    "peak_list_qc1.columns"
   ],
   "metadata": {
    "collapsed": false,
    "ExecuteTime": {
     "end_time": "2023-07-21T23:01:06.494050Z",
     "start_time": "2023-07-21T23:01:06.447233Z"
    }
   }
  },
  {
   "cell_type": "code",
   "execution_count": 11,
   "outputs": [
    {
     "data": {
      "text/plain": "       Alignment ID  Average Rt(min)  Average Mz Metabolite name Adduct type  \\\n22684         22684            3.514   530.33154         Unknown      [M+H]+   \n22685         22685            3.360   530.33215         Unknown      [M+H]+   \n22686         22686            3.316   530.33240         Unknown      [M+H]+   \n22687         22687            3.171   530.33289         Unknown      [M+H]+   \n22688         22688            2.473   530.33337         Unknown      [M+H]+   \n\n                                    Post curation result  Fill %  \\\n22684                                                NaN   0.128   \n22685  ion correlated with 22686; ion correlated with...   0.410   \n22686  ion correlated with 22584; ion correlated with...   0.154   \n22687                          ion correlated with 18973   0.128   \n22688  ion correlated with 12593; ion correlated with...   0.103   \n\n       MS/MS assigned  Reference RT  Reference m/z  ...  \\\n22684           False           NaN            NaN  ...   \n22685            True           NaN            NaN  ...   \n22686            True           NaN            NaN  ...   \n22687           False           NaN            NaN  ...   \n22688           False           NaN            NaN  ...   \n\n       1870_AX_M5P2_M7P1_M7_X56_P  1870_AX_M5P2_M7P1_M7_X57_P  \\\n22684                           0                           0   \n22685                        4204                           0   \n22686                        4204                           0   \n22687                           0                           0   \n22688                           0                           0   \n\n       1870_AX_M5P2_M7P1_M7_X58_P  1870_AX_M5P2_M7P1_M7_X59_P  QC_Pool1_P  \\\n22684                           0                           0     1107102   \n22685                           0                        4472     2836484   \n22686                           0                        4472     2836484   \n22687                           0                           0      252542   \n22688                           0                           0       22075   \n\n       QC_Pool2_P  QC_Pool3_P             1           1.1  \\\n22684      864675      997246  4.494300e+05  9.804947e+05   \n22685     2416619     2854840  1.279784e+06  3.166368e+06   \n22686     2416619     2341993  1.061724e+06  2.705640e+06   \n22687      238578      249955  1.469798e+05  3.403806e+05   \n22688       15862       13192  7.753213e+03  2.850628e+04   \n\n                                                   peaks  \n22684                                                NaN  \n22685  148.9222\\t12030\\n172.09767\\t13059\\n173.45969\\t...  \n22686  156.10002\\t8024\\n187.05949\\t29318\\n203.179\\t70...  \n22687                                                NaN  \n22688                                                NaN  \n\n[5 rows x 74 columns]",
      "text/html": "<div>\n<style scoped>\n    .dataframe tbody tr th:only-of-type {\n        vertical-align: middle;\n    }\n\n    .dataframe tbody tr th {\n        vertical-align: top;\n    }\n\n    .dataframe thead th {\n        text-align: right;\n    }\n</style>\n<table border=\"1\" class=\"dataframe\">\n  <thead>\n    <tr style=\"text-align: right;\">\n      <th></th>\n      <th>Alignment ID</th>\n      <th>Average Rt(min)</th>\n      <th>Average Mz</th>\n      <th>Metabolite name</th>\n      <th>Adduct type</th>\n      <th>Post curation result</th>\n      <th>Fill %</th>\n      <th>MS/MS assigned</th>\n      <th>Reference RT</th>\n      <th>Reference m/z</th>\n      <th>...</th>\n      <th>1870_AX_M5P2_M7P1_M7_X56_P</th>\n      <th>1870_AX_M5P2_M7P1_M7_X57_P</th>\n      <th>1870_AX_M5P2_M7P1_M7_X58_P</th>\n      <th>1870_AX_M5P2_M7P1_M7_X59_P</th>\n      <th>QC_Pool1_P</th>\n      <th>QC_Pool2_P</th>\n      <th>QC_Pool3_P</th>\n      <th>1</th>\n      <th>1.1</th>\n      <th>peaks</th>\n    </tr>\n  </thead>\n  <tbody>\n    <tr>\n      <th>22684</th>\n      <td>22684</td>\n      <td>3.514</td>\n      <td>530.33154</td>\n      <td>Unknown</td>\n      <td>[M+H]+</td>\n      <td>NaN</td>\n      <td>0.128</td>\n      <td>False</td>\n      <td>NaN</td>\n      <td>NaN</td>\n      <td>...</td>\n      <td>0</td>\n      <td>0</td>\n      <td>0</td>\n      <td>0</td>\n      <td>1107102</td>\n      <td>864675</td>\n      <td>997246</td>\n      <td>4.494300e+05</td>\n      <td>9.804947e+05</td>\n      <td>NaN</td>\n    </tr>\n    <tr>\n      <th>22685</th>\n      <td>22685</td>\n      <td>3.360</td>\n      <td>530.33215</td>\n      <td>Unknown</td>\n      <td>[M+H]+</td>\n      <td>ion correlated with 22686; ion correlated with...</td>\n      <td>0.410</td>\n      <td>True</td>\n      <td>NaN</td>\n      <td>NaN</td>\n      <td>...</td>\n      <td>4204</td>\n      <td>0</td>\n      <td>0</td>\n      <td>4472</td>\n      <td>2836484</td>\n      <td>2416619</td>\n      <td>2854840</td>\n      <td>1.279784e+06</td>\n      <td>3.166368e+06</td>\n      <td>148.9222\\t12030\\n172.09767\\t13059\\n173.45969\\t...</td>\n    </tr>\n    <tr>\n      <th>22686</th>\n      <td>22686</td>\n      <td>3.316</td>\n      <td>530.33240</td>\n      <td>Unknown</td>\n      <td>[M+H]+</td>\n      <td>ion correlated with 22584; ion correlated with...</td>\n      <td>0.154</td>\n      <td>True</td>\n      <td>NaN</td>\n      <td>NaN</td>\n      <td>...</td>\n      <td>4204</td>\n      <td>0</td>\n      <td>0</td>\n      <td>4472</td>\n      <td>2836484</td>\n      <td>2416619</td>\n      <td>2341993</td>\n      <td>1.061724e+06</td>\n      <td>2.705640e+06</td>\n      <td>156.10002\\t8024\\n187.05949\\t29318\\n203.179\\t70...</td>\n    </tr>\n    <tr>\n      <th>22687</th>\n      <td>22687</td>\n      <td>3.171</td>\n      <td>530.33289</td>\n      <td>Unknown</td>\n      <td>[M+H]+</td>\n      <td>ion correlated with 18973</td>\n      <td>0.128</td>\n      <td>False</td>\n      <td>NaN</td>\n      <td>NaN</td>\n      <td>...</td>\n      <td>0</td>\n      <td>0</td>\n      <td>0</td>\n      <td>0</td>\n      <td>252542</td>\n      <td>238578</td>\n      <td>249955</td>\n      <td>1.469798e+05</td>\n      <td>3.403806e+05</td>\n      <td>NaN</td>\n    </tr>\n    <tr>\n      <th>22688</th>\n      <td>22688</td>\n      <td>2.473</td>\n      <td>530.33337</td>\n      <td>Unknown</td>\n      <td>[M+H]+</td>\n      <td>ion correlated with 12593; ion correlated with...</td>\n      <td>0.103</td>\n      <td>False</td>\n      <td>NaN</td>\n      <td>NaN</td>\n      <td>...</td>\n      <td>0</td>\n      <td>0</td>\n      <td>0</td>\n      <td>0</td>\n      <td>22075</td>\n      <td>15862</td>\n      <td>13192</td>\n      <td>7.753213e+03</td>\n      <td>2.850628e+04</td>\n      <td>NaN</td>\n    </tr>\n  </tbody>\n</table>\n<p>5 rows × 74 columns</p>\n</div>"
     },
     "execution_count": 11,
     "metadata": {},
     "output_type": "execute_result"
    }
   ],
   "source": [
    "mz = 530.3314\n",
    "quick_search_values(alignment_result, 'Average Mz',mz-0.005, mz+0.005, ifsorted=False)"
   ],
   "metadata": {
    "collapsed": false,
    "ExecuteTime": {
     "end_time": "2023-07-10T22:44:07.794996Z",
     "start_time": "2023-07-10T22:44:07.739680Z"
    }
   }
  },
  {
   "cell_type": "code",
   "execution_count": 12,
   "outputs": [
    {
     "data": {
      "text/plain": "       Alignment ID  Average Rt(min)  Average Mz Metabolite name Adduct type  \\\n19119         19119            5.957   455.22202         Unknown      [M+H]+   \n19120         19120            3.977   455.22559         Unknown      [M+H]+   \n19121         19121            3.505   455.22562         Unknown      [M+H]+   \n19122         19122            3.745   455.22562         Unknown      [M+H]+   \n19123         19123            3.832   455.22571         Unknown      [M+H]+   \n19124         19124            3.038   455.22586         Unknown      [M+H]+   \n19125         19125            3.263   455.22635         Unknown      [M+H]+   \n19126         19126            3.599   455.22757         Unknown      [M+H]+   \n19127         19127            3.434   455.22815         Unknown      [M+H]+   \n\n                                    Post curation result  Fill %  \\\n19119                                                NaN   0.103   \n19120                                                NaN   0.026   \n19121                                                NaN   0.103   \n19122                                                NaN   0.026   \n19123                                                NaN   0.051   \n19124                                                NaN   0.026   \n19125                                                NaN   0.128   \n19126                                                NaN   0.026   \n19127  ion correlated with 3766; ion correlated with ...   0.026   \n\n       MS/MS assigned  Reference RT  Reference m/z  ...  \\\n19119           False           NaN            NaN  ...   \n19120            True           NaN            NaN  ...   \n19121            True           NaN            NaN  ...   \n19122           False           NaN            NaN  ...   \n19123            True           NaN            NaN  ...   \n19124           False           NaN            NaN  ...   \n19125           False           NaN            NaN  ...   \n19126            True           NaN            NaN  ...   \n19127           False           NaN            NaN  ...   \n\n       1870_AX_M5P2_M7P1_M7_X56_P  1870_AX_M5P2_M7P1_M7_X57_P  \\\n19119                           0                           0   \n19120                           0                           0   \n19121                       12100                        4317   \n19122                           0                           0   \n19123                           0                           0   \n19124                           0                           0   \n19125                        1472                           0   \n19126                       45419                       35337   \n19127                        2514                        2174   \n\n       1870_AX_M5P2_M7P1_M7_X58_P  1870_AX_M5P2_M7P1_M7_X59_P  QC_Pool1_P  \\\n19119                           0                           0        7574   \n19120                           0                           0      255796   \n19121                        3562                        3004     1168889   \n19122                           0                           0      149960   \n19123                           0                           0      138628   \n19124                           0                           0       38754   \n19125                           0                           0           0   \n19126                       24702                       23617    10566451   \n19127                         959                        3004      340901   \n\n       QC_Pool2_P  QC_Pool3_P             1           1.1  \\\n19119        7175        7400  3.576754e+03  1.165803e+04   \n19120      221995      256651  1.113031e+05  3.151856e+05   \n19121      948943     1234460  7.608023e+05  1.626426e+06   \n19122      132586      153683  7.023255e+04  1.299335e+05   \n19123      125491      163947  6.868249e+04  9.593784e+04   \n19124       41599       47592  2.433202e+04  6.497605e+04   \n19125           0           0  2.787029e+04  5.311497e+04   \n19126    10346914    10900241  3.679393e+06  8.237079e+06   \n19127      313609      328864  4.081955e+05  1.334182e+06   \n\n                                                   peaks  \n19119                                                NaN  \n19120  134.7758\\t6819\\n135.23367\\t6371\\n149.88609\\t72...  \n19121  147.6904\\t7293\\n148.95839\\t7387\\n157.13699\\t66...  \n19122                                                NaN  \n19123  136.96013\\t7062\\n202.49704\\t8904\\n263.66571\\t9...  \n19124                                                NaN  \n19125                                                NaN  \n19126  146.40614\\t9665\\n148.92172\\t8779\\n185.04231\\t1...  \n19127                                                NaN  \n\n[9 rows x 74 columns]",
      "text/html": "<div>\n<style scoped>\n    .dataframe tbody tr th:only-of-type {\n        vertical-align: middle;\n    }\n\n    .dataframe tbody tr th {\n        vertical-align: top;\n    }\n\n    .dataframe thead th {\n        text-align: right;\n    }\n</style>\n<table border=\"1\" class=\"dataframe\">\n  <thead>\n    <tr style=\"text-align: right;\">\n      <th></th>\n      <th>Alignment ID</th>\n      <th>Average Rt(min)</th>\n      <th>Average Mz</th>\n      <th>Metabolite name</th>\n      <th>Adduct type</th>\n      <th>Post curation result</th>\n      <th>Fill %</th>\n      <th>MS/MS assigned</th>\n      <th>Reference RT</th>\n      <th>Reference m/z</th>\n      <th>...</th>\n      <th>1870_AX_M5P2_M7P1_M7_X56_P</th>\n      <th>1870_AX_M5P2_M7P1_M7_X57_P</th>\n      <th>1870_AX_M5P2_M7P1_M7_X58_P</th>\n      <th>1870_AX_M5P2_M7P1_M7_X59_P</th>\n      <th>QC_Pool1_P</th>\n      <th>QC_Pool2_P</th>\n      <th>QC_Pool3_P</th>\n      <th>1</th>\n      <th>1.1</th>\n      <th>peaks</th>\n    </tr>\n  </thead>\n  <tbody>\n    <tr>\n      <th>19119</th>\n      <td>19119</td>\n      <td>5.957</td>\n      <td>455.22202</td>\n      <td>Unknown</td>\n      <td>[M+H]+</td>\n      <td>NaN</td>\n      <td>0.103</td>\n      <td>False</td>\n      <td>NaN</td>\n      <td>NaN</td>\n      <td>...</td>\n      <td>0</td>\n      <td>0</td>\n      <td>0</td>\n      <td>0</td>\n      <td>7574</td>\n      <td>7175</td>\n      <td>7400</td>\n      <td>3.576754e+03</td>\n      <td>1.165803e+04</td>\n      <td>NaN</td>\n    </tr>\n    <tr>\n      <th>19120</th>\n      <td>19120</td>\n      <td>3.977</td>\n      <td>455.22559</td>\n      <td>Unknown</td>\n      <td>[M+H]+</td>\n      <td>NaN</td>\n      <td>0.026</td>\n      <td>True</td>\n      <td>NaN</td>\n      <td>NaN</td>\n      <td>...</td>\n      <td>0</td>\n      <td>0</td>\n      <td>0</td>\n      <td>0</td>\n      <td>255796</td>\n      <td>221995</td>\n      <td>256651</td>\n      <td>1.113031e+05</td>\n      <td>3.151856e+05</td>\n      <td>134.7758\\t6819\\n135.23367\\t6371\\n149.88609\\t72...</td>\n    </tr>\n    <tr>\n      <th>19121</th>\n      <td>19121</td>\n      <td>3.505</td>\n      <td>455.22562</td>\n      <td>Unknown</td>\n      <td>[M+H]+</td>\n      <td>NaN</td>\n      <td>0.103</td>\n      <td>True</td>\n      <td>NaN</td>\n      <td>NaN</td>\n      <td>...</td>\n      <td>12100</td>\n      <td>4317</td>\n      <td>3562</td>\n      <td>3004</td>\n      <td>1168889</td>\n      <td>948943</td>\n      <td>1234460</td>\n      <td>7.608023e+05</td>\n      <td>1.626426e+06</td>\n      <td>147.6904\\t7293\\n148.95839\\t7387\\n157.13699\\t66...</td>\n    </tr>\n    <tr>\n      <th>19122</th>\n      <td>19122</td>\n      <td>3.745</td>\n      <td>455.22562</td>\n      <td>Unknown</td>\n      <td>[M+H]+</td>\n      <td>NaN</td>\n      <td>0.026</td>\n      <td>False</td>\n      <td>NaN</td>\n      <td>NaN</td>\n      <td>...</td>\n      <td>0</td>\n      <td>0</td>\n      <td>0</td>\n      <td>0</td>\n      <td>149960</td>\n      <td>132586</td>\n      <td>153683</td>\n      <td>7.023255e+04</td>\n      <td>1.299335e+05</td>\n      <td>NaN</td>\n    </tr>\n    <tr>\n      <th>19123</th>\n      <td>19123</td>\n      <td>3.832</td>\n      <td>455.22571</td>\n      <td>Unknown</td>\n      <td>[M+H]+</td>\n      <td>NaN</td>\n      <td>0.051</td>\n      <td>True</td>\n      <td>NaN</td>\n      <td>NaN</td>\n      <td>...</td>\n      <td>0</td>\n      <td>0</td>\n      <td>0</td>\n      <td>0</td>\n      <td>138628</td>\n      <td>125491</td>\n      <td>163947</td>\n      <td>6.868249e+04</td>\n      <td>9.593784e+04</td>\n      <td>136.96013\\t7062\\n202.49704\\t8904\\n263.66571\\t9...</td>\n    </tr>\n    <tr>\n      <th>19124</th>\n      <td>19124</td>\n      <td>3.038</td>\n      <td>455.22586</td>\n      <td>Unknown</td>\n      <td>[M+H]+</td>\n      <td>NaN</td>\n      <td>0.026</td>\n      <td>False</td>\n      <td>NaN</td>\n      <td>NaN</td>\n      <td>...</td>\n      <td>0</td>\n      <td>0</td>\n      <td>0</td>\n      <td>0</td>\n      <td>38754</td>\n      <td>41599</td>\n      <td>47592</td>\n      <td>2.433202e+04</td>\n      <td>6.497605e+04</td>\n      <td>NaN</td>\n    </tr>\n    <tr>\n      <th>19125</th>\n      <td>19125</td>\n      <td>3.263</td>\n      <td>455.22635</td>\n      <td>Unknown</td>\n      <td>[M+H]+</td>\n      <td>NaN</td>\n      <td>0.128</td>\n      <td>False</td>\n      <td>NaN</td>\n      <td>NaN</td>\n      <td>...</td>\n      <td>1472</td>\n      <td>0</td>\n      <td>0</td>\n      <td>0</td>\n      <td>0</td>\n      <td>0</td>\n      <td>0</td>\n      <td>2.787029e+04</td>\n      <td>5.311497e+04</td>\n      <td>NaN</td>\n    </tr>\n    <tr>\n      <th>19126</th>\n      <td>19126</td>\n      <td>3.599</td>\n      <td>455.22757</td>\n      <td>Unknown</td>\n      <td>[M+H]+</td>\n      <td>NaN</td>\n      <td>0.026</td>\n      <td>True</td>\n      <td>NaN</td>\n      <td>NaN</td>\n      <td>...</td>\n      <td>45419</td>\n      <td>35337</td>\n      <td>24702</td>\n      <td>23617</td>\n      <td>10566451</td>\n      <td>10346914</td>\n      <td>10900241</td>\n      <td>3.679393e+06</td>\n      <td>8.237079e+06</td>\n      <td>146.40614\\t9665\\n148.92172\\t8779\\n185.04231\\t1...</td>\n    </tr>\n    <tr>\n      <th>19127</th>\n      <td>19127</td>\n      <td>3.434</td>\n      <td>455.22815</td>\n      <td>Unknown</td>\n      <td>[M+H]+</td>\n      <td>ion correlated with 3766; ion correlated with ...</td>\n      <td>0.026</td>\n      <td>False</td>\n      <td>NaN</td>\n      <td>NaN</td>\n      <td>...</td>\n      <td>2514</td>\n      <td>2174</td>\n      <td>959</td>\n      <td>3004</td>\n      <td>340901</td>\n      <td>313609</td>\n      <td>328864</td>\n      <td>4.081955e+05</td>\n      <td>1.334182e+06</td>\n      <td>NaN</td>\n    </tr>\n  </tbody>\n</table>\n<p>9 rows × 74 columns</p>\n</div>"
     },
     "execution_count": 12,
     "metadata": {},
     "output_type": "execute_result"
    }
   ],
   "source": [
    "mz = 455.227\n",
    "quick_search_values(alignment_result, 'Average Mz',mz-0.005, mz+0.005, ifsorted=False)"
   ],
   "metadata": {
    "collapsed": false,
    "ExecuteTime": {
     "end_time": "2023-07-10T22:44:37.806741Z",
     "start_time": "2023-07-10T22:44:37.755195Z"
    }
   }
  },
  {
   "cell_type": "code",
   "execution_count": 21,
   "outputs": [],
   "source": [
    "sample_names = alignment_result.columns[32:-3]"
   ],
   "metadata": {
    "collapsed": false,
    "ExecuteTime": {
     "end_time": "2023-07-10T22:50:12.925182Z",
     "start_time": "2023-07-10T22:50:12.884354Z"
    }
   }
  },
  {
   "cell_type": "code",
   "execution_count": 13,
   "outputs": [],
   "source": [
    "istd_info = pd.read_csv('/Users/fanzhou.kong/Dropbox (Brightseed)/Mac/Documents/GitHub/data_garage/brighseed/istd_info.csv')"
   ],
   "metadata": {
    "collapsed": false,
    "ExecuteTime": {
     "end_time": "2023-07-10T22:46:27.366383Z",
     "start_time": "2023-07-10T22:46:27.323587Z"
    }
   }
  },
  {
   "cell_type": "code",
   "execution_count": 14,
   "outputs": [
    {
     "data": {
      "text/plain": "   compound_name   mono_mass  RT_suggested      [M+H]+\n0         C4-APS  215.061614          1.18  216.068890\n1         C5-APS  229.077265          2.13  230.084541\n2         C6-APS  243.092915          2.84  244.100191\n3         C7-APS  257.108565          3.42  258.115841\n4         C8-APS  271.124215          4.00  272.131491\n5         C9-APS  285.139865          4.46  286.147141\n6        C10-APS  299.155515          4.91  300.162791\n7        C11-APS  313.171165          5.28  314.178441\n8        C12-APS  327.186815          5.68  328.194091\n9        C13-APS  341.202465          6.03  342.209741\n10       C14-APS  355.218115          6.41  356.225391\n11       C15-APS  369.233765          6.76  370.241041\n12       C16-APS  383.249415          7.09  384.256691\n13       C17-APS  397.265065          7.42  398.272341\n14       C18-APS  411.280715          7.74  412.287991\n15       C19-APS  425.296365          8.03  426.303641\n16       C20-APS  439.312015          8.29  440.319291",
      "text/html": "<div>\n<style scoped>\n    .dataframe tbody tr th:only-of-type {\n        vertical-align: middle;\n    }\n\n    .dataframe tbody tr th {\n        vertical-align: top;\n    }\n\n    .dataframe thead th {\n        text-align: right;\n    }\n</style>\n<table border=\"1\" class=\"dataframe\">\n  <thead>\n    <tr style=\"text-align: right;\">\n      <th></th>\n      <th>compound_name</th>\n      <th>mono_mass</th>\n      <th>RT_suggested</th>\n      <th>[M+H]+</th>\n    </tr>\n  </thead>\n  <tbody>\n    <tr>\n      <th>0</th>\n      <td>C4-APS</td>\n      <td>215.061614</td>\n      <td>1.18</td>\n      <td>216.068890</td>\n    </tr>\n    <tr>\n      <th>1</th>\n      <td>C5-APS</td>\n      <td>229.077265</td>\n      <td>2.13</td>\n      <td>230.084541</td>\n    </tr>\n    <tr>\n      <th>2</th>\n      <td>C6-APS</td>\n      <td>243.092915</td>\n      <td>2.84</td>\n      <td>244.100191</td>\n    </tr>\n    <tr>\n      <th>3</th>\n      <td>C7-APS</td>\n      <td>257.108565</td>\n      <td>3.42</td>\n      <td>258.115841</td>\n    </tr>\n    <tr>\n      <th>4</th>\n      <td>C8-APS</td>\n      <td>271.124215</td>\n      <td>4.00</td>\n      <td>272.131491</td>\n    </tr>\n    <tr>\n      <th>5</th>\n      <td>C9-APS</td>\n      <td>285.139865</td>\n      <td>4.46</td>\n      <td>286.147141</td>\n    </tr>\n    <tr>\n      <th>6</th>\n      <td>C10-APS</td>\n      <td>299.155515</td>\n      <td>4.91</td>\n      <td>300.162791</td>\n    </tr>\n    <tr>\n      <th>7</th>\n      <td>C11-APS</td>\n      <td>313.171165</td>\n      <td>5.28</td>\n      <td>314.178441</td>\n    </tr>\n    <tr>\n      <th>8</th>\n      <td>C12-APS</td>\n      <td>327.186815</td>\n      <td>5.68</td>\n      <td>328.194091</td>\n    </tr>\n    <tr>\n      <th>9</th>\n      <td>C13-APS</td>\n      <td>341.202465</td>\n      <td>6.03</td>\n      <td>342.209741</td>\n    </tr>\n    <tr>\n      <th>10</th>\n      <td>C14-APS</td>\n      <td>355.218115</td>\n      <td>6.41</td>\n      <td>356.225391</td>\n    </tr>\n    <tr>\n      <th>11</th>\n      <td>C15-APS</td>\n      <td>369.233765</td>\n      <td>6.76</td>\n      <td>370.241041</td>\n    </tr>\n    <tr>\n      <th>12</th>\n      <td>C16-APS</td>\n      <td>383.249415</td>\n      <td>7.09</td>\n      <td>384.256691</td>\n    </tr>\n    <tr>\n      <th>13</th>\n      <td>C17-APS</td>\n      <td>397.265065</td>\n      <td>7.42</td>\n      <td>398.272341</td>\n    </tr>\n    <tr>\n      <th>14</th>\n      <td>C18-APS</td>\n      <td>411.280715</td>\n      <td>7.74</td>\n      <td>412.287991</td>\n    </tr>\n    <tr>\n      <th>15</th>\n      <td>C19-APS</td>\n      <td>425.296365</td>\n      <td>8.03</td>\n      <td>426.303641</td>\n    </tr>\n    <tr>\n      <th>16</th>\n      <td>C20-APS</td>\n      <td>439.312015</td>\n      <td>8.29</td>\n      <td>440.319291</td>\n    </tr>\n  </tbody>\n</table>\n</div>"
     },
     "execution_count": 14,
     "metadata": {},
     "output_type": "execute_result"
    }
   ],
   "source": [
    "istd_info"
   ],
   "metadata": {
    "collapsed": false,
    "ExecuteTime": {
     "end_time": "2023-07-10T22:46:31.401395Z",
     "start_time": "2023-07-10T22:46:31.360765Z"
    }
   }
  },
  {
   "cell_type": "code",
   "execution_count": 85,
   "outputs": [
    {
     "name": "stderr",
     "output_type": "stream",
     "text": [
      "100%|██████████| 17/17 [00:00<00:00, 94.66it/s]\n"
     ]
    }
   ],
   "source": [
    "FOUND = []\n",
    "fill_percent = []\n",
    "mz = []\n",
    "mz_offset =[]\n",
    "rt = []\n",
    "intensity_cv = []\n",
    "\n",
    "\n",
    "for index, row in tqdm(istd_info.iterrows(), total = len(istd_info)):\n",
    "    # print(row['compound_name'])\n",
    "    # a_found = []\n",
    "    # a_mz = []\n",
    "    # a_mz_offset = []\n",
    "    # a_rt = []\n",
    "    # a_rt_offset = []\n",
    "\n",
    "    # m_rt_offset = []\n",
    "    # isotope = []\n",
    "    feature_temp = find_feature(alignment_result, row['[M+H]+'], row['RT_suggested'], mz_column='Average Mz', rt_column='Average Rt(min)', intensity_column='QC_Pool1_P')\n",
    "    if len(feature_temp)>0:\n",
    "        good_idx = (feature_temp[sample_names].iloc[0]>feature_temp[sample_names].iloc[0].max()/50)\n",
    "        FOUND.append(True)\n",
    "        fill_percent.append(good_idx.sum()/len(feature_temp[sample_names].iloc[0]))\n",
    "        mz.append(feature_temp.iloc[0]['Average Mz'])\n",
    "        rt.append(feature_temp.iloc[0]['Average Rt(min)'])\n",
    "        mz_offset.append(abs(feature_temp.iloc[0]['Average Mz']-row['[M+H]+']))\n",
    "        intensity_cv.append(np.round(feature_temp[sample_names[good_idx]].iloc[0].std()/feature_temp[sample_names[good_idx]].iloc[0].mean()*100, 1))\n",
    "    else:\n",
    "        FOUND.append(True)\n",
    "        fill_percent.append(0)\n",
    "        mz.append(np.NAN)\n",
    "        rt.append(np.NAN)\n",
    "        mz_offset.append(np.NAN)\n",
    "        intensity_cv.append(np.NAN)\n",
    "    # break\n",
    "    # for file in file_list:\n",
    "    #     msdial_result_temp = readin_MSDIAL(os.path.join(msdial_folder, file+'.txt'))\n",
    "    #     msdial_feature = find_feature(msdial_result_temp, row['[M+H]+'], row['RT_suggested'], mz_column='Precursor m/z', rt_column='RT (min)', intensity_column='Height')\n",
    "    #     if len(msdial_feature)>0:\n",
    "    #         FOUND.append(True)\n",
    "    #         mz.append(msdial_feature.iloc[0]['Precursor m/z'])\n",
    "    #         mz_offset.append(np.abs(msdial_feature.iloc[0]['Precursor m/z']-row['[M+H]+']))\n",
    "    #         rt.append(msdial_feature.iloc[0]['RT (min)'])\n",
    "    #         # m_rt_offset.append(np.abs(msdial_feature.iloc[0]['RT (min)']-row['RT_suggested']))\n",
    "    #         isotope.append(msdial_feature.iloc[0]['Isotope'])\n",
    "    #         intensity.append(msdial_feature.iloc[0]['Height'])\n",
    "    #     else:\n",
    "    #         FOUND.append(False)\n",
    "    #         mz.append(np.NAN)\n",
    "    #         mz_offset.append(np.NAN)\n",
    "    #         rt.append(np.NAN)\n",
    "    #         # rt_offset.append(np.NAN)\n",
    "    #         isotope.append(np.NAN)\n",
    "    #         intensity.append(np.NAN)\n",
    "    #     # break\n",
    "summary_statistic = pd.DataFrame(list(zip(istd_info['compound_name'], FOUND,\n",
    "                                              mz,\n",
    "                                              mz_offset,\n",
    "                                              rt,\n",
    "                                                intensity_cv,\n",
    "                                          fill_percent\n",
    "\n",
    "                                              )),\n",
    "                                     columns =['istd_name', 'FOUND','mz', 'mz_offset',\n",
    "                                               'rt',\n",
    "                                               'intensity_cv','fill_percent'\n",
    "                                               ])\n",
    "    # summary_statistic.to_csv(os.path.join(intensity_dir, row['compound_name']+'_'+ str(np.round(row['[M+H]+'], 3))+'_'+str(np.round(row['RT_suggested'], 2))+'.csv'), index = False)"
   ],
   "metadata": {
    "collapsed": false,
    "ExecuteTime": {
     "end_time": "2023-07-10T23:25:18.873057Z",
     "start_time": "2023-07-10T23:25:18.556551Z"
    }
   }
  },
  {
   "cell_type": "code",
   "execution_count": 157,
   "outputs": [
    {
     "data": {
      "text/plain": "-0.002014000000013283"
     },
     "execution_count": 157,
     "metadata": {},
     "output_type": "execute_result"
    }
   ],
   "source": [
    "(301.0704-283.0613)-(single_charged_adduct_mass['[M+H]+']-single_charged_adduct_mass['[M+H-H2O]+'])"
   ],
   "metadata": {
    "collapsed": false,
    "ExecuteTime": {
     "end_time": "2023-07-24T23:11:11.343161Z",
     "start_time": "2023-07-24T23:11:11.295802Z"
    }
   }
  },
  {
   "cell_type": "code",
   "execution_count": null,
   "outputs": [],
   "source": [],
   "metadata": {
    "collapsed": false
   }
  },
  {
   "cell_type": "code",
   "execution_count": 153,
   "outputs": [],
   "source": [
    "from toolsets.constants import single_charged_adduct_mass"
   ],
   "metadata": {
    "collapsed": false,
    "ExecuteTime": {
     "end_time": "2023-07-24T23:09:42.495185Z",
     "start_time": "2023-07-24T23:09:42.438732Z"
    }
   }
  },
  {
   "cell_type": "code",
   "execution_count": 155,
   "outputs": [
    {
     "data": {
      "text/plain": "18.011114000000003"
     },
     "execution_count": 155,
     "metadata": {},
     "output_type": "execute_result"
    }
   ],
   "source": [
    "single_charged_adduct_mass['[M+H]+']-single_charged_adduct_mass['[M+H-H2O]+']"
   ],
   "metadata": {
    "collapsed": false,
    "ExecuteTime": {
     "end_time": "2023-07-24T23:10:55.314695Z",
     "start_time": "2023-07-24T23:10:55.212847Z"
    }
   }
  },
  {
   "cell_type": "code",
   "execution_count": null,
   "outputs": [],
   "source": [
    "single_charged_adduct_mass[]"
   ],
   "metadata": {
    "collapsed": false
   }
  },
  {
   "cell_type": "code",
   "execution_count": 86,
   "outputs": [
    {
     "data": {
      "text/plain": "   istd_name  FOUND         mz  mz_offset     rt  intensity_cv  fill_percent\n0     C4-APS   True  216.06894   0.000050  1.066           6.3      0.974359\n1     C5-APS   True  230.08450   0.000041  2.051          18.9      0.974359\n2     C6-APS   True  244.10023   0.000039  2.772          39.3      0.974359\n3     C7-APS   True  258.11597   0.000129  3.411          42.0      0.974359\n4     C8-APS   True  272.13153   0.000039  3.972          19.0      0.974359\n5     C9-APS   True  286.14713   0.000011  4.451          16.8      0.974359\n6    C10-APS   True  300.16302   0.000229  4.881          12.7      0.974359\n7    C11-APS   True  314.17850   0.000059  5.281          11.1      0.974359\n8    C12-APS   True  328.19412   0.000029  5.664           5.4      0.974359\n9    C13-APS   True  342.20999   0.000249  6.038           8.0      0.974359\n10   C14-APS   True  356.22580   0.000409  6.397           7.6      0.974359\n11   C15-APS   True  370.24133   0.000289  6.748           6.5      0.974359\n12   C16-APS   True  384.25714   0.000449  7.090           5.5      0.974359\n13   C17-APS   True  398.27280   0.000459  7.418           7.4      0.974359\n14   C18-APS   True  412.28824   0.000249  7.729           7.0      0.974359\n15   C19-APS   True  426.30405   0.000409  8.020           6.2      0.974359\n16   C20-APS   True  440.31976   0.000469  8.293           8.7      0.974359",
      "text/html": "<div>\n<style scoped>\n    .dataframe tbody tr th:only-of-type {\n        vertical-align: middle;\n    }\n\n    .dataframe tbody tr th {\n        vertical-align: top;\n    }\n\n    .dataframe thead th {\n        text-align: right;\n    }\n</style>\n<table border=\"1\" class=\"dataframe\">\n  <thead>\n    <tr style=\"text-align: right;\">\n      <th></th>\n      <th>istd_name</th>\n      <th>FOUND</th>\n      <th>mz</th>\n      <th>mz_offset</th>\n      <th>rt</th>\n      <th>intensity_cv</th>\n      <th>fill_percent</th>\n    </tr>\n  </thead>\n  <tbody>\n    <tr>\n      <th>0</th>\n      <td>C4-APS</td>\n      <td>True</td>\n      <td>216.06894</td>\n      <td>0.000050</td>\n      <td>1.066</td>\n      <td>6.3</td>\n      <td>0.974359</td>\n    </tr>\n    <tr>\n      <th>1</th>\n      <td>C5-APS</td>\n      <td>True</td>\n      <td>230.08450</td>\n      <td>0.000041</td>\n      <td>2.051</td>\n      <td>18.9</td>\n      <td>0.974359</td>\n    </tr>\n    <tr>\n      <th>2</th>\n      <td>C6-APS</td>\n      <td>True</td>\n      <td>244.10023</td>\n      <td>0.000039</td>\n      <td>2.772</td>\n      <td>39.3</td>\n      <td>0.974359</td>\n    </tr>\n    <tr>\n      <th>3</th>\n      <td>C7-APS</td>\n      <td>True</td>\n      <td>258.11597</td>\n      <td>0.000129</td>\n      <td>3.411</td>\n      <td>42.0</td>\n      <td>0.974359</td>\n    </tr>\n    <tr>\n      <th>4</th>\n      <td>C8-APS</td>\n      <td>True</td>\n      <td>272.13153</td>\n      <td>0.000039</td>\n      <td>3.972</td>\n      <td>19.0</td>\n      <td>0.974359</td>\n    </tr>\n    <tr>\n      <th>5</th>\n      <td>C9-APS</td>\n      <td>True</td>\n      <td>286.14713</td>\n      <td>0.000011</td>\n      <td>4.451</td>\n      <td>16.8</td>\n      <td>0.974359</td>\n    </tr>\n    <tr>\n      <th>6</th>\n      <td>C10-APS</td>\n      <td>True</td>\n      <td>300.16302</td>\n      <td>0.000229</td>\n      <td>4.881</td>\n      <td>12.7</td>\n      <td>0.974359</td>\n    </tr>\n    <tr>\n      <th>7</th>\n      <td>C11-APS</td>\n      <td>True</td>\n      <td>314.17850</td>\n      <td>0.000059</td>\n      <td>5.281</td>\n      <td>11.1</td>\n      <td>0.974359</td>\n    </tr>\n    <tr>\n      <th>8</th>\n      <td>C12-APS</td>\n      <td>True</td>\n      <td>328.19412</td>\n      <td>0.000029</td>\n      <td>5.664</td>\n      <td>5.4</td>\n      <td>0.974359</td>\n    </tr>\n    <tr>\n      <th>9</th>\n      <td>C13-APS</td>\n      <td>True</td>\n      <td>342.20999</td>\n      <td>0.000249</td>\n      <td>6.038</td>\n      <td>8.0</td>\n      <td>0.974359</td>\n    </tr>\n    <tr>\n      <th>10</th>\n      <td>C14-APS</td>\n      <td>True</td>\n      <td>356.22580</td>\n      <td>0.000409</td>\n      <td>6.397</td>\n      <td>7.6</td>\n      <td>0.974359</td>\n    </tr>\n    <tr>\n      <th>11</th>\n      <td>C15-APS</td>\n      <td>True</td>\n      <td>370.24133</td>\n      <td>0.000289</td>\n      <td>6.748</td>\n      <td>6.5</td>\n      <td>0.974359</td>\n    </tr>\n    <tr>\n      <th>12</th>\n      <td>C16-APS</td>\n      <td>True</td>\n      <td>384.25714</td>\n      <td>0.000449</td>\n      <td>7.090</td>\n      <td>5.5</td>\n      <td>0.974359</td>\n    </tr>\n    <tr>\n      <th>13</th>\n      <td>C17-APS</td>\n      <td>True</td>\n      <td>398.27280</td>\n      <td>0.000459</td>\n      <td>7.418</td>\n      <td>7.4</td>\n      <td>0.974359</td>\n    </tr>\n    <tr>\n      <th>14</th>\n      <td>C18-APS</td>\n      <td>True</td>\n      <td>412.28824</td>\n      <td>0.000249</td>\n      <td>7.729</td>\n      <td>7.0</td>\n      <td>0.974359</td>\n    </tr>\n    <tr>\n      <th>15</th>\n      <td>C19-APS</td>\n      <td>True</td>\n      <td>426.30405</td>\n      <td>0.000409</td>\n      <td>8.020</td>\n      <td>6.2</td>\n      <td>0.974359</td>\n    </tr>\n    <tr>\n      <th>16</th>\n      <td>C20-APS</td>\n      <td>True</td>\n      <td>440.31976</td>\n      <td>0.000469</td>\n      <td>8.293</td>\n      <td>8.7</td>\n      <td>0.974359</td>\n    </tr>\n  </tbody>\n</table>\n</div>"
     },
     "execution_count": 86,
     "metadata": {},
     "output_type": "execute_result"
    }
   ],
   "source": [
    "summary_statistic"
   ],
   "metadata": {
    "collapsed": false,
    "ExecuteTime": {
     "end_time": "2023-07-10T23:25:24.474555Z",
     "start_time": "2023-07-10T23:25:24.425714Z"
    }
   }
  },
  {
   "cell_type": "code",
   "execution_count": 78,
   "outputs": [],
   "source": [
    "good_idx = (feature_temp[sample_names].iloc[0]>feature_temp[sample_names].iloc[0].max()/50)"
   ],
   "metadata": {
    "collapsed": false,
    "ExecuteTime": {
     "end_time": "2023-07-10T23:23:35.869869Z",
     "start_time": "2023-07-10T23:23:35.723269Z"
    }
   }
  },
  {
   "cell_type": "code",
   "execution_count": 84,
   "outputs": [
    {
     "data": {
      "text/plain": "38"
     },
     "execution_count": 84,
     "metadata": {},
     "output_type": "execute_result"
    }
   ],
   "source": [
    "good_idx.sum()"
   ],
   "metadata": {
    "collapsed": false,
    "ExecuteTime": {
     "end_time": "2023-07-10T23:24:29.889965Z",
     "start_time": "2023-07-10T23:24:29.776799Z"
    }
   }
  },
  {
   "cell_type": "code",
   "execution_count": 83,
   "outputs": [
    {
     "data": {
      "text/plain": "       1870_AX_M5P2_M7P1_M7_X24_P  1870_AX_M5P2_M7P1_M7_X25_P  \\\n10418                     4917097                     4513378   \n\n       1870_AX_M5P2_M7P1_M7_X26_P  1870_AX_M5P2_M7P1_M7_X27_P  \\\n10418                     4138342                     3747508   \n\n       1870_AX_M5P2_M7P1_M7_X28_P  1870_AX_M5P2_M7P1_M7_X29_P  \\\n10418                     3921363                     4256786   \n\n       1870_AX_M5P2_M7P1_M7_X31_P  1870_AX_M5P2_M7P1_M7_X32_P  \\\n10418                     2172752                     3095736   \n\n       1870_AX_M5P2_M7P1_M7_X33_P  1870_AX_M5P2_M7P1_M7_X34_P  ...  \\\n10418                     2786526                     4708234  ...   \n\n       1870_AX_M5P2_M7P1_M7_X53_P  1870_AX_M5P2_M7P1_M7_X54_P  \\\n10418                     4071220                     4925194   \n\n       1870_AX_M5P2_M7P1_M7_X55_P  1870_AX_M5P2_M7P1_M7_X56_P  \\\n10418                     4287763                     4251598   \n\n       1870_AX_M5P2_M7P1_M7_X57_P  1870_AX_M5P2_M7P1_M7_X58_P  \\\n10418                     3727686                     3346088   \n\n       1870_AX_M5P2_M7P1_M7_X59_P  QC_Pool1_P  QC_Pool2_P  QC_Pool3_P  \n10418                     3439936     3216874     3062679     3334664  \n\n[1 rows x 38 columns]",
      "text/html": "<div>\n<style scoped>\n    .dataframe tbody tr th:only-of-type {\n        vertical-align: middle;\n    }\n\n    .dataframe tbody tr th {\n        vertical-align: top;\n    }\n\n    .dataframe thead th {\n        text-align: right;\n    }\n</style>\n<table border=\"1\" class=\"dataframe\">\n  <thead>\n    <tr style=\"text-align: right;\">\n      <th></th>\n      <th>1870_AX_M5P2_M7P1_M7_X24_P</th>\n      <th>1870_AX_M5P2_M7P1_M7_X25_P</th>\n      <th>1870_AX_M5P2_M7P1_M7_X26_P</th>\n      <th>1870_AX_M5P2_M7P1_M7_X27_P</th>\n      <th>1870_AX_M5P2_M7P1_M7_X28_P</th>\n      <th>1870_AX_M5P2_M7P1_M7_X29_P</th>\n      <th>1870_AX_M5P2_M7P1_M7_X31_P</th>\n      <th>1870_AX_M5P2_M7P1_M7_X32_P</th>\n      <th>1870_AX_M5P2_M7P1_M7_X33_P</th>\n      <th>1870_AX_M5P2_M7P1_M7_X34_P</th>\n      <th>...</th>\n      <th>1870_AX_M5P2_M7P1_M7_X53_P</th>\n      <th>1870_AX_M5P2_M7P1_M7_X54_P</th>\n      <th>1870_AX_M5P2_M7P1_M7_X55_P</th>\n      <th>1870_AX_M5P2_M7P1_M7_X56_P</th>\n      <th>1870_AX_M5P2_M7P1_M7_X57_P</th>\n      <th>1870_AX_M5P2_M7P1_M7_X58_P</th>\n      <th>1870_AX_M5P2_M7P1_M7_X59_P</th>\n      <th>QC_Pool1_P</th>\n      <th>QC_Pool2_P</th>\n      <th>QC_Pool3_P</th>\n    </tr>\n  </thead>\n  <tbody>\n    <tr>\n      <th>10418</th>\n      <td>4917097</td>\n      <td>4513378</td>\n      <td>4138342</td>\n      <td>3747508</td>\n      <td>3921363</td>\n      <td>4256786</td>\n      <td>2172752</td>\n      <td>3095736</td>\n      <td>2786526</td>\n      <td>4708234</td>\n      <td>...</td>\n      <td>4071220</td>\n      <td>4925194</td>\n      <td>4287763</td>\n      <td>4251598</td>\n      <td>3727686</td>\n      <td>3346088</td>\n      <td>3439936</td>\n      <td>3216874</td>\n      <td>3062679</td>\n      <td>3334664</td>\n    </tr>\n  </tbody>\n</table>\n<p>1 rows × 38 columns</p>\n</div>"
     },
     "execution_count": 83,
     "metadata": {},
     "output_type": "execute_result"
    }
   ],
   "source": [
    "feature_temp[sample_names[good_idx]]"
   ],
   "metadata": {
    "collapsed": false,
    "ExecuteTime": {
     "end_time": "2023-07-10T23:24:04.822633Z",
     "start_time": "2023-07-10T23:24:04.782684Z"
    }
   }
  },
  {
   "cell_type": "code",
   "execution_count": 71,
   "outputs": [
    {
     "data": {
      "text/plain": "10418    59669\nName: 1870_AX_M5P2_M7P1_M7_X30_P, dtype: int64"
     },
     "execution_count": 71,
     "metadata": {},
     "output_type": "execute_result"
    }
   ],
   "source": [
    "feature_temp['1870_AX_M5P2_M7P1_M7_X30_P']"
   ],
   "metadata": {
    "collapsed": false,
    "ExecuteTime": {
     "end_time": "2023-07-10T23:21:24.171233Z",
     "start_time": "2023-07-10T23:21:24.037567Z"
    }
   }
  },
  {
   "cell_type": "code",
   "execution_count": 89,
   "outputs": [
    {
     "data": {
      "text/plain": "   istd_name  FOUND         mz  mz_offset     rt  intensity_cv  fill_percent\n0     C4-APS   True  216.06894   0.000050  1.066           6.3      0.974359\n1     C5-APS   True  230.08450   0.000041  2.051          18.9      0.974359\n2     C6-APS   True  244.10023   0.000039  2.772          39.3      0.974359\n3     C7-APS   True  258.11597   0.000129  3.411          42.0      0.974359\n4     C8-APS   True  272.13153   0.000039  3.972          19.0      0.974359\n5     C9-APS   True  286.14713   0.000011  4.451          16.8      0.974359\n6    C10-APS   True  300.16302   0.000229  4.881          12.7      0.974359\n7    C11-APS   True  314.17850   0.000059  5.281          11.1      0.974359\n8    C12-APS   True  328.19412   0.000029  5.664           5.4      0.974359\n9    C13-APS   True  342.20999   0.000249  6.038           8.0      0.974359\n10   C14-APS   True  356.22580   0.000409  6.397           7.6      0.974359\n11   C15-APS   True  370.24133   0.000289  6.748           6.5      0.974359\n12   C16-APS   True  384.25714   0.000449  7.090           5.5      0.974359\n13   C17-APS   True  398.27280   0.000459  7.418           7.4      0.974359\n14   C18-APS   True  412.28824   0.000249  7.729           7.0      0.974359\n15   C19-APS   True  426.30405   0.000409  8.020           6.2      0.974359\n16   C20-APS   True  440.31976   0.000469  8.293           8.7      0.974359",
      "text/html": "<div>\n<style scoped>\n    .dataframe tbody tr th:only-of-type {\n        vertical-align: middle;\n    }\n\n    .dataframe tbody tr th {\n        vertical-align: top;\n    }\n\n    .dataframe thead th {\n        text-align: right;\n    }\n</style>\n<table border=\"1\" class=\"dataframe\">\n  <thead>\n    <tr style=\"text-align: right;\">\n      <th></th>\n      <th>istd_name</th>\n      <th>FOUND</th>\n      <th>mz</th>\n      <th>mz_offset</th>\n      <th>rt</th>\n      <th>intensity_cv</th>\n      <th>fill_percent</th>\n    </tr>\n  </thead>\n  <tbody>\n    <tr>\n      <th>0</th>\n      <td>C4-APS</td>\n      <td>True</td>\n      <td>216.06894</td>\n      <td>0.000050</td>\n      <td>1.066</td>\n      <td>6.3</td>\n      <td>0.974359</td>\n    </tr>\n    <tr>\n      <th>1</th>\n      <td>C5-APS</td>\n      <td>True</td>\n      <td>230.08450</td>\n      <td>0.000041</td>\n      <td>2.051</td>\n      <td>18.9</td>\n      <td>0.974359</td>\n    </tr>\n    <tr>\n      <th>2</th>\n      <td>C6-APS</td>\n      <td>True</td>\n      <td>244.10023</td>\n      <td>0.000039</td>\n      <td>2.772</td>\n      <td>39.3</td>\n      <td>0.974359</td>\n    </tr>\n    <tr>\n      <th>3</th>\n      <td>C7-APS</td>\n      <td>True</td>\n      <td>258.11597</td>\n      <td>0.000129</td>\n      <td>3.411</td>\n      <td>42.0</td>\n      <td>0.974359</td>\n    </tr>\n    <tr>\n      <th>4</th>\n      <td>C8-APS</td>\n      <td>True</td>\n      <td>272.13153</td>\n      <td>0.000039</td>\n      <td>3.972</td>\n      <td>19.0</td>\n      <td>0.974359</td>\n    </tr>\n    <tr>\n      <th>5</th>\n      <td>C9-APS</td>\n      <td>True</td>\n      <td>286.14713</td>\n      <td>0.000011</td>\n      <td>4.451</td>\n      <td>16.8</td>\n      <td>0.974359</td>\n    </tr>\n    <tr>\n      <th>6</th>\n      <td>C10-APS</td>\n      <td>True</td>\n      <td>300.16302</td>\n      <td>0.000229</td>\n      <td>4.881</td>\n      <td>12.7</td>\n      <td>0.974359</td>\n    </tr>\n    <tr>\n      <th>7</th>\n      <td>C11-APS</td>\n      <td>True</td>\n      <td>314.17850</td>\n      <td>0.000059</td>\n      <td>5.281</td>\n      <td>11.1</td>\n      <td>0.974359</td>\n    </tr>\n    <tr>\n      <th>8</th>\n      <td>C12-APS</td>\n      <td>True</td>\n      <td>328.19412</td>\n      <td>0.000029</td>\n      <td>5.664</td>\n      <td>5.4</td>\n      <td>0.974359</td>\n    </tr>\n    <tr>\n      <th>9</th>\n      <td>C13-APS</td>\n      <td>True</td>\n      <td>342.20999</td>\n      <td>0.000249</td>\n      <td>6.038</td>\n      <td>8.0</td>\n      <td>0.974359</td>\n    </tr>\n    <tr>\n      <th>10</th>\n      <td>C14-APS</td>\n      <td>True</td>\n      <td>356.22580</td>\n      <td>0.000409</td>\n      <td>6.397</td>\n      <td>7.6</td>\n      <td>0.974359</td>\n    </tr>\n    <tr>\n      <th>11</th>\n      <td>C15-APS</td>\n      <td>True</td>\n      <td>370.24133</td>\n      <td>0.000289</td>\n      <td>6.748</td>\n      <td>6.5</td>\n      <td>0.974359</td>\n    </tr>\n    <tr>\n      <th>12</th>\n      <td>C16-APS</td>\n      <td>True</td>\n      <td>384.25714</td>\n      <td>0.000449</td>\n      <td>7.090</td>\n      <td>5.5</td>\n      <td>0.974359</td>\n    </tr>\n    <tr>\n      <th>13</th>\n      <td>C17-APS</td>\n      <td>True</td>\n      <td>398.27280</td>\n      <td>0.000459</td>\n      <td>7.418</td>\n      <td>7.4</td>\n      <td>0.974359</td>\n    </tr>\n    <tr>\n      <th>14</th>\n      <td>C18-APS</td>\n      <td>True</td>\n      <td>412.28824</td>\n      <td>0.000249</td>\n      <td>7.729</td>\n      <td>7.0</td>\n      <td>0.974359</td>\n    </tr>\n    <tr>\n      <th>15</th>\n      <td>C19-APS</td>\n      <td>True</td>\n      <td>426.30405</td>\n      <td>0.000409</td>\n      <td>8.020</td>\n      <td>6.2</td>\n      <td>0.974359</td>\n    </tr>\n    <tr>\n      <th>16</th>\n      <td>C20-APS</td>\n      <td>True</td>\n      <td>440.31976</td>\n      <td>0.000469</td>\n      <td>8.293</td>\n      <td>8.7</td>\n      <td>0.974359</td>\n    </tr>\n  </tbody>\n</table>\n</div>"
     },
     "execution_count": 89,
     "metadata": {},
     "output_type": "execute_result"
    }
   ],
   "source": [
    "summary_statistic"
   ],
   "metadata": {
    "collapsed": false,
    "ExecuteTime": {
     "end_time": "2023-07-10T23:38:24.551277Z",
     "start_time": "2023-07-10T23:38:24.484755Z"
    }
   }
  },
  {
   "cell_type": "code",
   "execution_count": 90,
   "outputs": [
    {
     "data": {
      "text/plain": "      Alignment ID  Average Rt(min)  Average Mz Metabolite name Adduct type  \\\n8932          8932            3.411   258.11597         Unknown      [M+H]+   \n\n                                   Post curation result  Fill %  \\\n8932  similar chromatogram in higher mz_33697; simil...   0.974   \n\n      MS/MS assigned  Reference RT  Reference m/z  ...  \\\n8932            True           NaN            NaN  ...   \n\n      1870_AX_M5P2_M7P1_M7_X56_P  1870_AX_M5P2_M7P1_M7_X57_P  \\\n8932                     2434797                     2342738   \n\n      1870_AX_M5P2_M7P1_M7_X58_P  1870_AX_M5P2_M7P1_M7_X59_P  QC_Pool1_P  \\\n8932                     2351616                     2297314      656049   \n\n      QC_Pool2_P  QC_Pool3_P             1            1.1  \\\n8932      694792      664642  1.554319e+06  709129.045441   \n\n                                                  peaks  \n8932  67.09523\\t9786\\n78.88148\\t9478\\n85.29395\\t9064...  \n\n[1 rows x 74 columns]",
      "text/html": "<div>\n<style scoped>\n    .dataframe tbody tr th:only-of-type {\n        vertical-align: middle;\n    }\n\n    .dataframe tbody tr th {\n        vertical-align: top;\n    }\n\n    .dataframe thead th {\n        text-align: right;\n    }\n</style>\n<table border=\"1\" class=\"dataframe\">\n  <thead>\n    <tr style=\"text-align: right;\">\n      <th></th>\n      <th>Alignment ID</th>\n      <th>Average Rt(min)</th>\n      <th>Average Mz</th>\n      <th>Metabolite name</th>\n      <th>Adduct type</th>\n      <th>Post curation result</th>\n      <th>Fill %</th>\n      <th>MS/MS assigned</th>\n      <th>Reference RT</th>\n      <th>Reference m/z</th>\n      <th>...</th>\n      <th>1870_AX_M5P2_M7P1_M7_X56_P</th>\n      <th>1870_AX_M5P2_M7P1_M7_X57_P</th>\n      <th>1870_AX_M5P2_M7P1_M7_X58_P</th>\n      <th>1870_AX_M5P2_M7P1_M7_X59_P</th>\n      <th>QC_Pool1_P</th>\n      <th>QC_Pool2_P</th>\n      <th>QC_Pool3_P</th>\n      <th>1</th>\n      <th>1.1</th>\n      <th>peaks</th>\n    </tr>\n  </thead>\n  <tbody>\n    <tr>\n      <th>8932</th>\n      <td>8932</td>\n      <td>3.411</td>\n      <td>258.11597</td>\n      <td>Unknown</td>\n      <td>[M+H]+</td>\n      <td>similar chromatogram in higher mz_33697; simil...</td>\n      <td>0.974</td>\n      <td>True</td>\n      <td>NaN</td>\n      <td>NaN</td>\n      <td>...</td>\n      <td>2434797</td>\n      <td>2342738</td>\n      <td>2351616</td>\n      <td>2297314</td>\n      <td>656049</td>\n      <td>694792</td>\n      <td>664642</td>\n      <td>1.554319e+06</td>\n      <td>709129.045441</td>\n      <td>67.09523\\t9786\\n78.88148\\t9478\\n85.29395\\t9064...</td>\n    </tr>\n  </tbody>\n</table>\n<p>1 rows × 74 columns</p>\n</div>"
     },
     "execution_count": 90,
     "metadata": {},
     "output_type": "execute_result"
    }
   ],
   "source": [
    "feature_temp = find_feature(alignment_result, 258.11597, 3.411\n",
    "                            , mz_column='Average Mz', rt_column='Average Rt(min)', intensity_column='QC_Pool1_P')\n",
    "feature_temp"
   ],
   "metadata": {
    "collapsed": false,
    "ExecuteTime": {
     "end_time": "2023-07-10T23:39:09.863052Z",
     "start_time": "2023-07-10T23:39:09.777795Z"
    }
   }
  },
  {
   "cell_type": "code",
   "execution_count": 91,
   "outputs": [],
   "source": [
    "import seaborn as sns"
   ],
   "metadata": {
    "collapsed": false,
    "ExecuteTime": {
     "end_time": "2023-07-10T23:40:30.135434Z",
     "start_time": "2023-07-10T23:40:30.078747Z"
    }
   }
  },
  {
   "cell_type": "code",
   "execution_count": 93,
   "outputs": [
    {
     "ename": "TypeError",
     "evalue": "Cannot interpret '39' as a data type",
     "output_type": "error",
     "traceback": [
      "\u001B[0;31m---------------------------------------------------------------------------\u001B[0m",
      "\u001B[0;31mTypeError\u001B[0m                                 Traceback (most recent call last)",
      "Cell \u001B[0;32mIn[93], line 1\u001B[0m\n\u001B[0;32m----> 1\u001B[0m sns\u001B[38;5;241m.\u001B[39mscatterplot(x \u001B[38;5;241m=\u001B[39m \u001B[43mnp\u001B[49m\u001B[38;5;241;43m.\u001B[39;49m\u001B[43marray\u001B[49m\u001B[43m(\u001B[49m\u001B[38;5;241;43m0\u001B[39;49m\u001B[43m,\u001B[49m\u001B[43m \u001B[49m\u001B[38;5;28;43mlen\u001B[39;49m\u001B[43m(\u001B[49m\u001B[43msample_names\u001B[49m\u001B[43m)\u001B[49m\u001B[43m)\u001B[49m, y \u001B[38;5;241m=\u001B[39m feature_temp\u001B[38;5;241m.\u001B[39miloc[\u001B[38;5;241m0\u001B[39m][sample_names])\n",
      "\u001B[0;31mTypeError\u001B[0m: Cannot interpret '39' as a data type"
     ]
    }
   ],
   "source": [
    "sns.scatterplot(x = np.arange(2, , dtype=float), y = feature_temp.iloc[0][sample_names])"
   ],
   "metadata": {
    "collapsed": false,
    "ExecuteTime": {
     "end_time": "2023-07-10T23:41:05.557138Z",
     "start_time": "2023-07-10T23:41:05.503115Z"
    }
   }
  },
  {
   "cell_type": "code",
   "execution_count": 69,
   "outputs": [
    {
     "data": {
      "text/plain": "       Alignment ID  Average Rt(min)  Average Mz Metabolite name Adduct type  \\\n10418         10418            4.451   286.14713         Unknown      [M+H]+   \n\n      Post curation result  Fill %  MS/MS assigned  Reference RT  \\\n10418                  NaN   0.974            True           NaN   \n\n       Reference m/z  ...  1870_AX_M5P2_M7P1_M7_X56_P  \\\n10418            NaN  ...                     4251598   \n\n       1870_AX_M5P2_M7P1_M7_X57_P  1870_AX_M5P2_M7P1_M7_X58_P  \\\n10418                     3727686                     3346088   \n\n       1870_AX_M5P2_M7P1_M7_X59_P  QC_Pool1_P  QC_Pool2_P  QC_Pool3_P  \\\n10418                     3439936     3216874     3062679     3334664   \n\n                  1            1.1  \\\n10418  3.845470e+06  903485.303616   \n\n                                                   peaks  \n10418  79.04233\\t13655\\n85.10125\\t13525\\n96.04437\\t12...  \n\n[1 rows x 74 columns]",
      "text/html": "<div>\n<style scoped>\n    .dataframe tbody tr th:only-of-type {\n        vertical-align: middle;\n    }\n\n    .dataframe tbody tr th {\n        vertical-align: top;\n    }\n\n    .dataframe thead th {\n        text-align: right;\n    }\n</style>\n<table border=\"1\" class=\"dataframe\">\n  <thead>\n    <tr style=\"text-align: right;\">\n      <th></th>\n      <th>Alignment ID</th>\n      <th>Average Rt(min)</th>\n      <th>Average Mz</th>\n      <th>Metabolite name</th>\n      <th>Adduct type</th>\n      <th>Post curation result</th>\n      <th>Fill %</th>\n      <th>MS/MS assigned</th>\n      <th>Reference RT</th>\n      <th>Reference m/z</th>\n      <th>...</th>\n      <th>1870_AX_M5P2_M7P1_M7_X56_P</th>\n      <th>1870_AX_M5P2_M7P1_M7_X57_P</th>\n      <th>1870_AX_M5P2_M7P1_M7_X58_P</th>\n      <th>1870_AX_M5P2_M7P1_M7_X59_P</th>\n      <th>QC_Pool1_P</th>\n      <th>QC_Pool2_P</th>\n      <th>QC_Pool3_P</th>\n      <th>1</th>\n      <th>1.1</th>\n      <th>peaks</th>\n    </tr>\n  </thead>\n  <tbody>\n    <tr>\n      <th>10418</th>\n      <td>10418</td>\n      <td>4.451</td>\n      <td>286.14713</td>\n      <td>Unknown</td>\n      <td>[M+H]+</td>\n      <td>NaN</td>\n      <td>0.974</td>\n      <td>True</td>\n      <td>NaN</td>\n      <td>NaN</td>\n      <td>...</td>\n      <td>4251598</td>\n      <td>3727686</td>\n      <td>3346088</td>\n      <td>3439936</td>\n      <td>3216874</td>\n      <td>3062679</td>\n      <td>3334664</td>\n      <td>3.845470e+06</td>\n      <td>903485.303616</td>\n      <td>79.04233\\t13655\\n85.10125\\t13525\\n96.04437\\t12...</td>\n    </tr>\n  </tbody>\n</table>\n<p>1 rows × 74 columns</p>\n</div>"
     },
     "execution_count": 69,
     "metadata": {},
     "output_type": "execute_result"
    }
   ],
   "source": [
    "feature_temp = find_feature(alignment_result, 286.14713, 4.451\n",
    "                            , mz_column='Average Mz', rt_column='Average Rt(min)', intensity_column='QC_Pool1_P')\n",
    "feature_temp"
   ],
   "metadata": {
    "collapsed": false,
    "ExecuteTime": {
     "end_time": "2023-07-10T23:11:20.226311Z",
     "start_time": "2023-07-10T23:11:20.050929Z"
    }
   }
  },
  {
   "cell_type": "markdown",
   "source": [
    "# Elys data"
   ],
   "metadata": {
    "collapsed": false
   }
  },
  {
   "cell_type": "code",
   "execution_count": 69,
   "outputs": [],
   "source": [
    "working_dir = '/Users/fanzhou.kong/Dropbox (Brightseed)/Mac/Documents/GitHub/data_garage/elys_data'"
   ],
   "metadata": {
    "collapsed": false,
    "ExecuteTime": {
     "end_time": "2023-07-18T00:23:53.065376Z",
     "start_time": "2023-07-18T00:23:52.947121Z"
    }
   }
  },
  {
   "cell_type": "code",
   "execution_count": 82,
   "outputs": [],
   "source": [
    "bias_table = pd.read_csv(os.path.join(working_dir, 'bias_table.csv'))\n",
    "all_ms2 = pd.read_csv(os.path.join(working_dir, 'all_ms2.csv'))"
   ],
   "metadata": {
    "collapsed": false,
    "ExecuteTime": {
     "end_time": "2023-07-18T00:27:47.140013Z",
     "start_time": "2023-07-18T00:27:46.915694Z"
    }
   }
  },
  {
   "cell_type": "code",
   "execution_count": 122,
   "outputs": [],
   "source": [
    "all_ms2['key']=all_ms2['reference_name']+all_ms2['reference_adduct']+all_ms2['ce'].astype(str)"
   ],
   "metadata": {
    "collapsed": false,
    "ExecuteTime": {
     "end_time": "2023-07-18T00:44:13.433278Z",
     "start_time": "2023-07-18T00:44:13.338858Z"
    }
   }
  },
  {
   "cell_type": "code",
   "execution_count": 140,
   "outputs": [
    {
     "data": {
      "text/plain": "      id_spec  id_anno  mix charge  precursor_mz     rt  \\\n0      360641        1    2    pos      481.2237  11.37   \n1      360813        2    2    pos      423.2180  11.85   \n2      360535        3    2    pos      319.2644  11.17   \n3      360341        4    2    pos      441.2288  10.68   \n4      360241        7    2    pos      545.2766  10.43   \n...       ...      ...  ...    ...           ...    ...   \n9289   520238      372   12    neg      171.0651   5.43   \n9290   522282      373   12    neg      319.1922  10.47   \n9291   520170      377   12    neg      345.1353   5.28   \n9292   521686      379   12    neg      407.2791   9.02   \n9293   521543      380   12    neg      223.0772   8.52   \n\n                                         reference_name reference_adduct  ce  \\\n0                                           Anthothecol            [M+H]  45   \n1                                             Cedrelone            [M+H]  45   \n2                                      Allopregnanolone            [M+H]  45   \n3                                       Deacetylgedunin            [M+H]  45   \n4                                    3-Deacetylkhivorin            [M+H]  45   \n...                                                 ...              ...  ..   \n9289                                           Garlicin            [M-H]  35   \n9290  3-HYDROXY-4-(SUCCIN-2-YL)-CARYOLANE delta-LACTONE            [M-H]  35   \n9291                                   Gibberellic Acid            [M-H]  35   \n9292                                        Cholic Acid            [M-H]  35   \n9293                                  2-Hydroxychalcone            [M-H]  35   \n\n      concentration                                          find_name  \\\n0                 3                               Anthothecol_[M+H]_45   \n1                 3                                 Cedrelone_[M+H]_45   \n2                 3                          Allopregnanolone_[M+H]_45   \n3                 3                           Deacetylgedunin_[M+H]_45   \n4                 3                        3-Deacetylkhivorin_[M+H]_45   \n...             ...                                                ...   \n9289             10                                  Garlicin_[M-H]_35   \n9290             10  3-HYDROXY-4-(SUCCIN-2-YL)-CARYOLANE delta-LACT...   \n9291             10                          Gibberellic Acid_[M-H]_35   \n9292             10                               Cholic Acid_[M-H]_35   \n9293             10                         2-Hydroxychalcone_[M-H]_35   \n\n                                                  peaks  rt_spec  \\\n0     53.906490325927734:11374.001953125;56.82506179...    11.24   \n1     53.039310455322266:177380.328125;55.0183525085...    11.66   \n2     55.900978088378906:3382.5009765625;59.31003570...    10.97   \n3     53.03919219970703:110022.0625;54.0713729858398...    10.49   \n4     55.01838302612305:135473.75;55.0547981262207:2...    10.25   \n...                                                 ...      ...   \n9289  52.01139450073242:2966.92333984375;59.11245727...     5.41   \n9290  54.522682189941406:3126.375732421875;54.649963...    10.45   \n9291  67.249267578125:3734.822021484375;71.050529479...     5.24   \n9292  50.32234191894531:4746.5390625;74.154220581054...     8.98   \n9293  61.671104431152344:3352.8349609375;63.31050491...     8.63   \n\n      precursor_mz_spec                                   reference_smiles  \\\n0            481.224060  CC(=O)OC1CC2(C(CC3C2(O3)C4(C1C5(C=CC(=O)C(C5=C...   \n1            423.218384  CC1(C(=O)C=CC2(C1=C(C(=O)C3(C2CCC4(C35C(O5)CC4...   \n2            319.264282           CC(=O)C1CCC2C1(CCC3C2CCC4C3(CCC(C4)O)C)C   \n3            441.229096  CC1(C2CC(C3(C(C2(C=CC1=O)C)CCC4(C35C(O5)C(=O)O...   \n4            545.276672  CC(=O)OC1CC2C(C(CC(C2(C3C1(C45C(O4)C(=O)OC(C5(...   \n...                 ...                                                ...   \n9289         171.066635                              C1CC(C2C(C1O)COC2=O)O   \n9290         319.192413        CC1(CC2C1CCC3(CCC4C2(C3)OC(=O)CC4C(=O)O)C)C   \n9291         345.135406  CC12C(C=CC3(C1C(C45C3CCC(C4)(C(=C)C5)O)C(=O)O)...   \n9292         407.281830  CC(CCC(=O)O)C1CCC2C1(C(CC3C2C(CC4C3(CCC(C4)O)C...   \n9293         223.028915                  C1=CC=C(C=C1)C(=O)C=CC2=CC=CC=C2O   \n\n      reference_precursor_mz  \\\n0                 481.222080   \n1                 423.216601   \n2                 319.263157   \n3                 441.227165   \n4                 545.274509   \n...                      ...   \n9289              171.066282   \n9290              319.191483   \n9291              345.134362   \n9292              407.280298   \n9293              223.076453   \n\n                                          peaks_cleaned  \\\n0     53.90649\\t0.00562847\\n56.825062\\t0.0064399\\n63...   \n1     53.03931\\t0.00235932\\n55.018353\\t0.00619102\\n5...   \n2     55.900978\\t0.07503385\\n59.310036\\t0.0771481\\n6...   \n3     53.039192\\t0.00273864\\n54.071373\\t0.00217364\\n...   \n4     55.018383\\t0.00480423\\n55.054798\\t0.00754216\\n...   \n...                                                 ...   \n9289  52.011395\\t0.03676621\\n59.112457\\t0.03306807\\n...   \n9290  54.522682\\t0.08031442\\n54.649963\\t0.10329193\\n...   \n9291  67.249268\\t0.02337362\\n71.050529\\t0.1028859\\n8...   \n9292  50.322342\\t0.08366725\\n74.154221\\t0.07786728\\n...   \n9293  61.671104\\t0.08382741\\n63.310505\\t0.08929187\\n...   \n\n                                         peaks_denoised  \\\n0     81.033669\\t0.01094392\\n89.144966\\t0.00624545\\n...   \n1     53.03931\\t0.00235932\\n55.018353\\t0.00619102\\n5...   \n2     66.074631\\t0.09785972\\n70.110168\\t0.07918159\\n...   \n3     53.039192\\t0.00273864\\n54.071373\\t0.00217364\\n...   \n4     55.018383\\t0.00480423\\n55.054798\\t0.00754216\\n...   \n...                                                 ...   \n9289      52.011395\\t0.03676621\\n127.076805\\t0.40703988   \n9290  75.127251\\t0.09527726\\n120.091583\\t0.10708852\\...   \n9291  71.050529\\t0.1028859\\n83.050484\\t0.08336583\\n9...   \n9292  74.154221\\t0.07786728\\n287.158966\\t0.09245221\\...   \n9293      93.001595\\t0.09313685\\n149.010071\\t0.11619362   \n\n                                                    key  \n0                                    Anthothecol[M+H]45  \n1                                      Cedrelone[M+H]45  \n2                               Allopregnanolone[M+H]45  \n3                                Deacetylgedunin[M+H]45  \n4                             3-Deacetylkhivorin[M+H]45  \n...                                                 ...  \n9289                                    Garlicin[M-H]35  \n9290  3-HYDROXY-4-(SUCCIN-2-YL)-CARYOLANE delta-LACT...  \n9291                            Gibberellic Acid[M-H]35  \n9292                                 Cholic Acid[M-H]35  \n9293                           2-Hydroxychalcone[M-H]35  \n\n[9294 rows x 19 columns]",
      "text/html": "<div>\n<style scoped>\n    .dataframe tbody tr th:only-of-type {\n        vertical-align: middle;\n    }\n\n    .dataframe tbody tr th {\n        vertical-align: top;\n    }\n\n    .dataframe thead th {\n        text-align: right;\n    }\n</style>\n<table border=\"1\" class=\"dataframe\">\n  <thead>\n    <tr style=\"text-align: right;\">\n      <th></th>\n      <th>id_spec</th>\n      <th>id_anno</th>\n      <th>mix</th>\n      <th>charge</th>\n      <th>precursor_mz</th>\n      <th>rt</th>\n      <th>reference_name</th>\n      <th>reference_adduct</th>\n      <th>ce</th>\n      <th>concentration</th>\n      <th>find_name</th>\n      <th>peaks</th>\n      <th>rt_spec</th>\n      <th>precursor_mz_spec</th>\n      <th>reference_smiles</th>\n      <th>reference_precursor_mz</th>\n      <th>peaks_cleaned</th>\n      <th>peaks_denoised</th>\n      <th>key</th>\n    </tr>\n  </thead>\n  <tbody>\n    <tr>\n      <th>0</th>\n      <td>360641</td>\n      <td>1</td>\n      <td>2</td>\n      <td>pos</td>\n      <td>481.2237</td>\n      <td>11.37</td>\n      <td>Anthothecol</td>\n      <td>[M+H]</td>\n      <td>45</td>\n      <td>3</td>\n      <td>Anthothecol_[M+H]_45</td>\n      <td>53.906490325927734:11374.001953125;56.82506179...</td>\n      <td>11.24</td>\n      <td>481.224060</td>\n      <td>CC(=O)OC1CC2(C(CC3C2(O3)C4(C1C5(C=CC(=O)C(C5=C...</td>\n      <td>481.222080</td>\n      <td>53.90649\\t0.00562847\\n56.825062\\t0.0064399\\n63...</td>\n      <td>81.033669\\t0.01094392\\n89.144966\\t0.00624545\\n...</td>\n      <td>Anthothecol[M+H]45</td>\n    </tr>\n    <tr>\n      <th>1</th>\n      <td>360813</td>\n      <td>2</td>\n      <td>2</td>\n      <td>pos</td>\n      <td>423.2180</td>\n      <td>11.85</td>\n      <td>Cedrelone</td>\n      <td>[M+H]</td>\n      <td>45</td>\n      <td>3</td>\n      <td>Cedrelone_[M+H]_45</td>\n      <td>53.039310455322266:177380.328125;55.0183525085...</td>\n      <td>11.66</td>\n      <td>423.218384</td>\n      <td>CC1(C(=O)C=CC2(C1=C(C(=O)C3(C2CCC4(C35C(O5)CC4...</td>\n      <td>423.216601</td>\n      <td>53.03931\\t0.00235932\\n55.018353\\t0.00619102\\n5...</td>\n      <td>53.03931\\t0.00235932\\n55.018353\\t0.00619102\\n5...</td>\n      <td>Cedrelone[M+H]45</td>\n    </tr>\n    <tr>\n      <th>2</th>\n      <td>360535</td>\n      <td>3</td>\n      <td>2</td>\n      <td>pos</td>\n      <td>319.2644</td>\n      <td>11.17</td>\n      <td>Allopregnanolone</td>\n      <td>[M+H]</td>\n      <td>45</td>\n      <td>3</td>\n      <td>Allopregnanolone_[M+H]_45</td>\n      <td>55.900978088378906:3382.5009765625;59.31003570...</td>\n      <td>10.97</td>\n      <td>319.264282</td>\n      <td>CC(=O)C1CCC2C1(CCC3C2CCC4C3(CCC(C4)O)C)C</td>\n      <td>319.263157</td>\n      <td>55.900978\\t0.07503385\\n59.310036\\t0.0771481\\n6...</td>\n      <td>66.074631\\t0.09785972\\n70.110168\\t0.07918159\\n...</td>\n      <td>Allopregnanolone[M+H]45</td>\n    </tr>\n    <tr>\n      <th>3</th>\n      <td>360341</td>\n      <td>4</td>\n      <td>2</td>\n      <td>pos</td>\n      <td>441.2288</td>\n      <td>10.68</td>\n      <td>Deacetylgedunin</td>\n      <td>[M+H]</td>\n      <td>45</td>\n      <td>3</td>\n      <td>Deacetylgedunin_[M+H]_45</td>\n      <td>53.03919219970703:110022.0625;54.0713729858398...</td>\n      <td>10.49</td>\n      <td>441.229096</td>\n      <td>CC1(C2CC(C3(C(C2(C=CC1=O)C)CCC4(C35C(O5)C(=O)O...</td>\n      <td>441.227165</td>\n      <td>53.039192\\t0.00273864\\n54.071373\\t0.00217364\\n...</td>\n      <td>53.039192\\t0.00273864\\n54.071373\\t0.00217364\\n...</td>\n      <td>Deacetylgedunin[M+H]45</td>\n    </tr>\n    <tr>\n      <th>4</th>\n      <td>360241</td>\n      <td>7</td>\n      <td>2</td>\n      <td>pos</td>\n      <td>545.2766</td>\n      <td>10.43</td>\n      <td>3-Deacetylkhivorin</td>\n      <td>[M+H]</td>\n      <td>45</td>\n      <td>3</td>\n      <td>3-Deacetylkhivorin_[M+H]_45</td>\n      <td>55.01838302612305:135473.75;55.0547981262207:2...</td>\n      <td>10.25</td>\n      <td>545.276672</td>\n      <td>CC(=O)OC1CC2C(C(CC(C2(C3C1(C45C(O4)C(=O)OC(C5(...</td>\n      <td>545.274509</td>\n      <td>55.018383\\t0.00480423\\n55.054798\\t0.00754216\\n...</td>\n      <td>55.018383\\t0.00480423\\n55.054798\\t0.00754216\\n...</td>\n      <td>3-Deacetylkhivorin[M+H]45</td>\n    </tr>\n    <tr>\n      <th>...</th>\n      <td>...</td>\n      <td>...</td>\n      <td>...</td>\n      <td>...</td>\n      <td>...</td>\n      <td>...</td>\n      <td>...</td>\n      <td>...</td>\n      <td>...</td>\n      <td>...</td>\n      <td>...</td>\n      <td>...</td>\n      <td>...</td>\n      <td>...</td>\n      <td>...</td>\n      <td>...</td>\n      <td>...</td>\n      <td>...</td>\n      <td>...</td>\n    </tr>\n    <tr>\n      <th>9289</th>\n      <td>520238</td>\n      <td>372</td>\n      <td>12</td>\n      <td>neg</td>\n      <td>171.0651</td>\n      <td>5.43</td>\n      <td>Garlicin</td>\n      <td>[M-H]</td>\n      <td>35</td>\n      <td>10</td>\n      <td>Garlicin_[M-H]_35</td>\n      <td>52.01139450073242:2966.92333984375;59.11245727...</td>\n      <td>5.41</td>\n      <td>171.066635</td>\n      <td>C1CC(C2C(C1O)COC2=O)O</td>\n      <td>171.066282</td>\n      <td>52.011395\\t0.03676621\\n59.112457\\t0.03306807\\n...</td>\n      <td>52.011395\\t0.03676621\\n127.076805\\t0.40703988</td>\n      <td>Garlicin[M-H]35</td>\n    </tr>\n    <tr>\n      <th>9290</th>\n      <td>522282</td>\n      <td>373</td>\n      <td>12</td>\n      <td>neg</td>\n      <td>319.1922</td>\n      <td>10.47</td>\n      <td>3-HYDROXY-4-(SUCCIN-2-YL)-CARYOLANE delta-LACTONE</td>\n      <td>[M-H]</td>\n      <td>35</td>\n      <td>10</td>\n      <td>3-HYDROXY-4-(SUCCIN-2-YL)-CARYOLANE delta-LACT...</td>\n      <td>54.522682189941406:3126.375732421875;54.649963...</td>\n      <td>10.45</td>\n      <td>319.192413</td>\n      <td>CC1(CC2C1CCC3(CCC4C2(C3)OC(=O)CC4C(=O)O)C)C</td>\n      <td>319.191483</td>\n      <td>54.522682\\t0.08031442\\n54.649963\\t0.10329193\\n...</td>\n      <td>75.127251\\t0.09527726\\n120.091583\\t0.10708852\\...</td>\n      <td>3-HYDROXY-4-(SUCCIN-2-YL)-CARYOLANE delta-LACT...</td>\n    </tr>\n    <tr>\n      <th>9291</th>\n      <td>520170</td>\n      <td>377</td>\n      <td>12</td>\n      <td>neg</td>\n      <td>345.1353</td>\n      <td>5.28</td>\n      <td>Gibberellic Acid</td>\n      <td>[M-H]</td>\n      <td>35</td>\n      <td>10</td>\n      <td>Gibberellic Acid_[M-H]_35</td>\n      <td>67.249267578125:3734.822021484375;71.050529479...</td>\n      <td>5.24</td>\n      <td>345.135406</td>\n      <td>CC12C(C=CC3(C1C(C45C3CCC(C4)(C(=C)C5)O)C(=O)O)...</td>\n      <td>345.134362</td>\n      <td>67.249268\\t0.02337362\\n71.050529\\t0.1028859\\n8...</td>\n      <td>71.050529\\t0.1028859\\n83.050484\\t0.08336583\\n9...</td>\n      <td>Gibberellic Acid[M-H]35</td>\n    </tr>\n    <tr>\n      <th>9292</th>\n      <td>521686</td>\n      <td>379</td>\n      <td>12</td>\n      <td>neg</td>\n      <td>407.2791</td>\n      <td>9.02</td>\n      <td>Cholic Acid</td>\n      <td>[M-H]</td>\n      <td>35</td>\n      <td>10</td>\n      <td>Cholic Acid_[M-H]_35</td>\n      <td>50.32234191894531:4746.5390625;74.154220581054...</td>\n      <td>8.98</td>\n      <td>407.281830</td>\n      <td>CC(CCC(=O)O)C1CCC2C1(C(CC3C2C(CC4C3(CCC(C4)O)C...</td>\n      <td>407.280298</td>\n      <td>50.322342\\t0.08366725\\n74.154221\\t0.07786728\\n...</td>\n      <td>74.154221\\t0.07786728\\n287.158966\\t0.09245221\\...</td>\n      <td>Cholic Acid[M-H]35</td>\n    </tr>\n    <tr>\n      <th>9293</th>\n      <td>521543</td>\n      <td>380</td>\n      <td>12</td>\n      <td>neg</td>\n      <td>223.0772</td>\n      <td>8.52</td>\n      <td>2-Hydroxychalcone</td>\n      <td>[M-H]</td>\n      <td>35</td>\n      <td>10</td>\n      <td>2-Hydroxychalcone_[M-H]_35</td>\n      <td>61.671104431152344:3352.8349609375;63.31050491...</td>\n      <td>8.63</td>\n      <td>223.028915</td>\n      <td>C1=CC=C(C=C1)C(=O)C=CC2=CC=CC=C2O</td>\n      <td>223.076453</td>\n      <td>61.671104\\t0.08382741\\n63.310505\\t0.08929187\\n...</td>\n      <td>93.001595\\t0.09313685\\n149.010071\\t0.11619362</td>\n      <td>2-Hydroxychalcone[M-H]35</td>\n    </tr>\n  </tbody>\n</table>\n<p>9294 rows × 19 columns</p>\n</div>"
     },
     "execution_count": 140,
     "metadata": {},
     "output_type": "execute_result"
    }
   ],
   "source": [
    "all_ms2"
   ],
   "metadata": {
    "collapsed": false,
    "ExecuteTime": {
     "end_time": "2023-07-18T00:49:47.587916Z",
     "start_time": "2023-07-18T00:49:47.537801Z"
    }
   }
  },
  {
   "cell_type": "code",
   "execution_count": 141,
   "outputs": [
    {
     "data": {
      "text/plain": "    id_spec  id_anno  mix charge  precursor_mz     rt     reference_name  \\\n0    101628      233   12    pos      225.0909  11.35  2-Hydroxychalcone   \n1    772662      380   12    neg      223.0772   8.52  2-Hydroxychalcone   \n2     61271      233   12    pos      225.0909  11.35  2-Hydroxychalcone   \n3   2213966      380   12    neg      223.0772   8.52  2-Hydroxychalcone   \n4   2513471      380   12    neg      223.0772   8.52  2-Hydroxychalcone   \n..      ...      ...  ...    ...           ...    ...                ...   \n58   684688      233   12    pos      225.0909  11.35  2-Hydroxychalcone   \n59   319115      380   12    neg      223.0772   8.52  2-Hydroxychalcone   \n60  3675719      233   12    pos      225.0909  11.35  2-Hydroxychalcone   \n61  3609811      380   12    neg      223.0772   8.52  2-Hydroxychalcone   \n62   521543      380   12    neg      223.0772   8.52  2-Hydroxychalcone   \n\n   reference_adduct  ce  concentration                   find_name  \\\n0             [M+H]  45              3  2-Hydroxychalcone_[M+H]_45   \n1             [M-H]  45              3  2-Hydroxychalcone_[M-H]_45   \n2             [M+H]  65              3  2-Hydroxychalcone_[M+H]_65   \n3             [M-H]  65              3  2-Hydroxychalcone_[M-H]_65   \n4             [M-H]  35              3  2-Hydroxychalcone_[M-H]_35   \n..              ...  ..            ...                         ...   \n58            [M+H]  45             10  2-Hydroxychalcone_[M+H]_45   \n59            [M-H]  45             10  2-Hydroxychalcone_[M-H]_45   \n60            [M+H]  65             10  2-Hydroxychalcone_[M+H]_65   \n61            [M-H]  65             10  2-Hydroxychalcone_[M-H]_65   \n62            [M-H]  35             10  2-Hydroxychalcone_[M-H]_35   \n\n                                                peaks  rt_spec  \\\n0   53.03900146484375:273651.875;65.03897094726562...    11.35   \n1   51.653472900390625:3020.86328125;54.9371643066...     8.63   \n2   53.81721496582031:246772.46875;54.957569122314...    11.41   \n3   58.24161148071289:3066.234130859375;67.6489105...     8.63   \n4   69.79875183105469:3058.056640625;71.9086227416...     8.63   \n..                                                ...      ...   \n58  56.14921569824219:3194.838134765625;56.3689384...    11.38   \n59  54.75909423828125:2889.548095703125;59.2448768...     8.61   \n60  50.365970611572266:2696.14794921875;51.3292694...    11.40   \n61  74.99089050292969:29697.185546875;83.696975708...     8.63   \n62  61.671104431152344:3352.8349609375;63.31050491...     8.63   \n\n    precursor_mz_spec                   reference_smiles  \\\n0          225.091919  C1=CC=C(C=C1)C(=O)C=CC2=CC=CC=C2O   \n1          223.028824  C1=CC=C(C=C1)C(=O)C=CC2=CC=CC=C2O   \n2          225.091904  C1=CC=C(C=C1)C(=O)C=CC2=CC=CC=C2O   \n3          223.028778  C1=CC=C(C=C1)C(=O)C=CC2=CC=CC=C2O   \n4          223.028946  C1=CC=C(C=C1)C(=O)C=CC2=CC=CC=C2O   \n..                ...                                ...   \n58         225.091904  C1=CC=C(C=C1)C(=O)C=CC2=CC=CC=C2O   \n59         223.028870  C1=CC=C(C=C1)C(=O)C=CC2=CC=CC=C2O   \n60         225.091965  C1=CC=C(C=C1)C(=O)C=CC2=CC=CC=C2O   \n61         223.028809  C1=CC=C(C=C1)C(=O)C=CC2=CC=CC=C2O   \n62         223.028915  C1=CC=C(C=C1)C(=O)C=CC2=CC=CC=C2O   \n\n    reference_precursor_mz                                      peaks_cleaned  \\\n0               225.091006  53.039001\\t0.00175672\\n65.038971\\t0.01504041\\n...   \n1               223.076453  51.653473\\t0.02460489\\n54.937164\\t0.02315623\\n...   \n2               225.091006  53.817215\\t0.00357042\\n54.957569\\t0.0041384\\n6...   \n3               223.076453  58.241611\\t0.02339079\\n67.648911\\t0.02592307\\n...   \n4               223.076453  69.798752\\t0.0727505\\n71.908623\\t0.08166804\\n7...   \n..                     ...                                                ...   \n58              225.091006  56.149216\\t0.01108827\\n56.368938\\t0.01107122\\n...   \n59              223.076453  54.759094\\t0.03690716\\n59.244877\\t0.04261065\\n...   \n60              225.091006  50.365971\\t0.0144588\\n51.329269\\t0.01326106\\n5...   \n61              223.076453  74.990891\\t0.26649409\\n83.696976\\t0.03183134\\n...   \n62              223.076453  61.671104\\t0.08382741\\n63.310505\\t0.08929187\\n...   \n\n                                       peaks_denoised  \\\n0   53.039001\\t0.00175672\\n65.038971\\t0.01504041\\n...   \n1   74.989494\\t0.26582181\\n93.001526\\t0.19538757\\n...   \n2   62.039333\\t0.00358933\\n65.039001\\t0.08125962\\n...   \n3   74.990898\\t0.22279643\\n93.001526\\t0.20822643\\n...   \n4        74.990875\\t0.10844308\\n93.001465\\t0.15973685   \n..                                                ...   \n58  103.05442\\t0.04166788\\n105.033539\\t0.01679129\\...   \n59  67.00882\\t0.04191628\\n74.990997\\t0.30082005\\n9...   \n60  65.039001\\t0.07995894\\n103.054558\\t0.14856038\\...   \n61  74.990891\\t0.26649409\\n93.001526\\t0.25590767\\n...   \n62      93.001595\\t0.09313685\\n149.010071\\t0.11619362   \n\n                         key  \n0   2-Hydroxychalcone[M+H]45  \n1   2-Hydroxychalcone[M-H]45  \n2   2-Hydroxychalcone[M+H]65  \n3   2-Hydroxychalcone[M-H]65  \n4   2-Hydroxychalcone[M-H]35  \n..                       ...  \n58  2-Hydroxychalcone[M+H]45  \n59  2-Hydroxychalcone[M-H]45  \n60  2-Hydroxychalcone[M+H]65  \n61  2-Hydroxychalcone[M-H]65  \n62  2-Hydroxychalcone[M-H]35  \n\n[63 rows x 19 columns]",
      "text/html": "<div>\n<style scoped>\n    .dataframe tbody tr th:only-of-type {\n        vertical-align: middle;\n    }\n\n    .dataframe tbody tr th {\n        vertical-align: top;\n    }\n\n    .dataframe thead th {\n        text-align: right;\n    }\n</style>\n<table border=\"1\" class=\"dataframe\">\n  <thead>\n    <tr style=\"text-align: right;\">\n      <th></th>\n      <th>id_spec</th>\n      <th>id_anno</th>\n      <th>mix</th>\n      <th>charge</th>\n      <th>precursor_mz</th>\n      <th>rt</th>\n      <th>reference_name</th>\n      <th>reference_adduct</th>\n      <th>ce</th>\n      <th>concentration</th>\n      <th>find_name</th>\n      <th>peaks</th>\n      <th>rt_spec</th>\n      <th>precursor_mz_spec</th>\n      <th>reference_smiles</th>\n      <th>reference_precursor_mz</th>\n      <th>peaks_cleaned</th>\n      <th>peaks_denoised</th>\n      <th>key</th>\n    </tr>\n  </thead>\n  <tbody>\n    <tr>\n      <th>0</th>\n      <td>101628</td>\n      <td>233</td>\n      <td>12</td>\n      <td>pos</td>\n      <td>225.0909</td>\n      <td>11.35</td>\n      <td>2-Hydroxychalcone</td>\n      <td>[M+H]</td>\n      <td>45</td>\n      <td>3</td>\n      <td>2-Hydroxychalcone_[M+H]_45</td>\n      <td>53.03900146484375:273651.875;65.03897094726562...</td>\n      <td>11.35</td>\n      <td>225.091919</td>\n      <td>C1=CC=C(C=C1)C(=O)C=CC2=CC=CC=C2O</td>\n      <td>225.091006</td>\n      <td>53.039001\\t0.00175672\\n65.038971\\t0.01504041\\n...</td>\n      <td>53.039001\\t0.00175672\\n65.038971\\t0.01504041\\n...</td>\n      <td>2-Hydroxychalcone[M+H]45</td>\n    </tr>\n    <tr>\n      <th>1</th>\n      <td>772662</td>\n      <td>380</td>\n      <td>12</td>\n      <td>neg</td>\n      <td>223.0772</td>\n      <td>8.52</td>\n      <td>2-Hydroxychalcone</td>\n      <td>[M-H]</td>\n      <td>45</td>\n      <td>3</td>\n      <td>2-Hydroxychalcone_[M-H]_45</td>\n      <td>51.653472900390625:3020.86328125;54.9371643066...</td>\n      <td>8.63</td>\n      <td>223.028824</td>\n      <td>C1=CC=C(C=C1)C(=O)C=CC2=CC=CC=C2O</td>\n      <td>223.076453</td>\n      <td>51.653473\\t0.02460489\\n54.937164\\t0.02315623\\n...</td>\n      <td>74.989494\\t0.26582181\\n93.001526\\t0.19538757\\n...</td>\n      <td>2-Hydroxychalcone[M-H]45</td>\n    </tr>\n    <tr>\n      <th>2</th>\n      <td>61271</td>\n      <td>233</td>\n      <td>12</td>\n      <td>pos</td>\n      <td>225.0909</td>\n      <td>11.35</td>\n      <td>2-Hydroxychalcone</td>\n      <td>[M+H]</td>\n      <td>65</td>\n      <td>3</td>\n      <td>2-Hydroxychalcone_[M+H]_65</td>\n      <td>53.81721496582031:246772.46875;54.957569122314...</td>\n      <td>11.41</td>\n      <td>225.091904</td>\n      <td>C1=CC=C(C=C1)C(=O)C=CC2=CC=CC=C2O</td>\n      <td>225.091006</td>\n      <td>53.817215\\t0.00357042\\n54.957569\\t0.0041384\\n6...</td>\n      <td>62.039333\\t0.00358933\\n65.039001\\t0.08125962\\n...</td>\n      <td>2-Hydroxychalcone[M+H]65</td>\n    </tr>\n    <tr>\n      <th>3</th>\n      <td>2213966</td>\n      <td>380</td>\n      <td>12</td>\n      <td>neg</td>\n      <td>223.0772</td>\n      <td>8.52</td>\n      <td>2-Hydroxychalcone</td>\n      <td>[M-H]</td>\n      <td>65</td>\n      <td>3</td>\n      <td>2-Hydroxychalcone_[M-H]_65</td>\n      <td>58.24161148071289:3066.234130859375;67.6489105...</td>\n      <td>8.63</td>\n      <td>223.028778</td>\n      <td>C1=CC=C(C=C1)C(=O)C=CC2=CC=CC=C2O</td>\n      <td>223.076453</td>\n      <td>58.241611\\t0.02339079\\n67.648911\\t0.02592307\\n...</td>\n      <td>74.990898\\t0.22279643\\n93.001526\\t0.20822643\\n...</td>\n      <td>2-Hydroxychalcone[M-H]65</td>\n    </tr>\n    <tr>\n      <th>4</th>\n      <td>2513471</td>\n      <td>380</td>\n      <td>12</td>\n      <td>neg</td>\n      <td>223.0772</td>\n      <td>8.52</td>\n      <td>2-Hydroxychalcone</td>\n      <td>[M-H]</td>\n      <td>35</td>\n      <td>3</td>\n      <td>2-Hydroxychalcone_[M-H]_35</td>\n      <td>69.79875183105469:3058.056640625;71.9086227416...</td>\n      <td>8.63</td>\n      <td>223.028946</td>\n      <td>C1=CC=C(C=C1)C(=O)C=CC2=CC=CC=C2O</td>\n      <td>223.076453</td>\n      <td>69.798752\\t0.0727505\\n71.908623\\t0.08166804\\n7...</td>\n      <td>74.990875\\t0.10844308\\n93.001465\\t0.15973685</td>\n      <td>2-Hydroxychalcone[M-H]35</td>\n    </tr>\n    <tr>\n      <th>...</th>\n      <td>...</td>\n      <td>...</td>\n      <td>...</td>\n      <td>...</td>\n      <td>...</td>\n      <td>...</td>\n      <td>...</td>\n      <td>...</td>\n      <td>...</td>\n      <td>...</td>\n      <td>...</td>\n      <td>...</td>\n      <td>...</td>\n      <td>...</td>\n      <td>...</td>\n      <td>...</td>\n      <td>...</td>\n      <td>...</td>\n      <td>...</td>\n    </tr>\n    <tr>\n      <th>58</th>\n      <td>684688</td>\n      <td>233</td>\n      <td>12</td>\n      <td>pos</td>\n      <td>225.0909</td>\n      <td>11.35</td>\n      <td>2-Hydroxychalcone</td>\n      <td>[M+H]</td>\n      <td>45</td>\n      <td>10</td>\n      <td>2-Hydroxychalcone_[M+H]_45</td>\n      <td>56.14921569824219:3194.838134765625;56.3689384...</td>\n      <td>11.38</td>\n      <td>225.091904</td>\n      <td>C1=CC=C(C=C1)C(=O)C=CC2=CC=CC=C2O</td>\n      <td>225.091006</td>\n      <td>56.149216\\t0.01108827\\n56.368938\\t0.01107122\\n...</td>\n      <td>103.05442\\t0.04166788\\n105.033539\\t0.01679129\\...</td>\n      <td>2-Hydroxychalcone[M+H]45</td>\n    </tr>\n    <tr>\n      <th>59</th>\n      <td>319115</td>\n      <td>380</td>\n      <td>12</td>\n      <td>neg</td>\n      <td>223.0772</td>\n      <td>8.52</td>\n      <td>2-Hydroxychalcone</td>\n      <td>[M-H]</td>\n      <td>45</td>\n      <td>10</td>\n      <td>2-Hydroxychalcone_[M-H]_45</td>\n      <td>54.75909423828125:2889.548095703125;59.2448768...</td>\n      <td>8.61</td>\n      <td>223.028870</td>\n      <td>C1=CC=C(C=C1)C(=O)C=CC2=CC=CC=C2O</td>\n      <td>223.076453</td>\n      <td>54.759094\\t0.03690716\\n59.244877\\t0.04261065\\n...</td>\n      <td>67.00882\\t0.04191628\\n74.990997\\t0.30082005\\n9...</td>\n      <td>2-Hydroxychalcone[M-H]45</td>\n    </tr>\n    <tr>\n      <th>60</th>\n      <td>3675719</td>\n      <td>233</td>\n      <td>12</td>\n      <td>pos</td>\n      <td>225.0909</td>\n      <td>11.35</td>\n      <td>2-Hydroxychalcone</td>\n      <td>[M+H]</td>\n      <td>65</td>\n      <td>10</td>\n      <td>2-Hydroxychalcone_[M+H]_65</td>\n      <td>50.365970611572266:2696.14794921875;51.3292694...</td>\n      <td>11.40</td>\n      <td>225.091965</td>\n      <td>C1=CC=C(C=C1)C(=O)C=CC2=CC=CC=C2O</td>\n      <td>225.091006</td>\n      <td>50.365971\\t0.0144588\\n51.329269\\t0.01326106\\n5...</td>\n      <td>65.039001\\t0.07995894\\n103.054558\\t0.14856038\\...</td>\n      <td>2-Hydroxychalcone[M+H]65</td>\n    </tr>\n    <tr>\n      <th>61</th>\n      <td>3609811</td>\n      <td>380</td>\n      <td>12</td>\n      <td>neg</td>\n      <td>223.0772</td>\n      <td>8.52</td>\n      <td>2-Hydroxychalcone</td>\n      <td>[M-H]</td>\n      <td>65</td>\n      <td>10</td>\n      <td>2-Hydroxychalcone_[M-H]_65</td>\n      <td>74.99089050292969:29697.185546875;83.696975708...</td>\n      <td>8.63</td>\n      <td>223.028809</td>\n      <td>C1=CC=C(C=C1)C(=O)C=CC2=CC=CC=C2O</td>\n      <td>223.076453</td>\n      <td>74.990891\\t0.26649409\\n83.696976\\t0.03183134\\n...</td>\n      <td>74.990891\\t0.26649409\\n93.001526\\t0.25590767\\n...</td>\n      <td>2-Hydroxychalcone[M-H]65</td>\n    </tr>\n    <tr>\n      <th>62</th>\n      <td>521543</td>\n      <td>380</td>\n      <td>12</td>\n      <td>neg</td>\n      <td>223.0772</td>\n      <td>8.52</td>\n      <td>2-Hydroxychalcone</td>\n      <td>[M-H]</td>\n      <td>35</td>\n      <td>10</td>\n      <td>2-Hydroxychalcone_[M-H]_35</td>\n      <td>61.671104431152344:3352.8349609375;63.31050491...</td>\n      <td>8.63</td>\n      <td>223.028915</td>\n      <td>C1=CC=C(C=C1)C(=O)C=CC2=CC=CC=C2O</td>\n      <td>223.076453</td>\n      <td>61.671104\\t0.08382741\\n63.310505\\t0.08929187\\n...</td>\n      <td>93.001595\\t0.09313685\\n149.010071\\t0.11619362</td>\n      <td>2-Hydroxychalcone[M-H]35</td>\n    </tr>\n  </tbody>\n</table>\n<p>63 rows × 19 columns</p>\n</div>"
     },
     "execution_count": 141,
     "metadata": {},
     "output_type": "execute_result"
    }
   ],
   "source": [
    "string_search(all_ms2, 'reference_name', '2-Hydroxychalcone')"
   ],
   "metadata": {
    "collapsed": false,
    "ExecuteTime": {
     "end_time": "2023-07-18T00:50:06.831810Z",
     "start_time": "2023-07-18T00:50:06.788221Z"
    }
   }
  },
  {
   "cell_type": "code",
   "execution_count": 124,
   "outputs": [],
   "source": [
    "bias_table['key']=bias_table['name']+bias_table['adduct-mode']+bias_table['energy'].astype(str)"
   ],
   "metadata": {
    "collapsed": false
   }
  },
  {
   "cell_type": "code",
   "execution_count": 191,
   "outputs": [],
   "source": [
    "lst = [2,3,5]"
   ],
   "metadata": {
    "collapsed": false,
    "ExecuteTime": {
     "end_time": "2023-07-18T01:12:50.415430Z",
     "start_time": "2023-07-18T01:12:50.341686Z"
    }
   }
  },
  {
   "cell_type": "code",
   "execution_count": 192,
   "outputs": [],
   "source": [
    "lst.reverse()"
   ],
   "metadata": {
    "collapsed": false,
    "ExecuteTime": {
     "end_time": "2023-07-18T01:12:55.876579Z",
     "start_time": "2023-07-18T01:12:55.836756Z"
    }
   }
  },
  {
   "cell_type": "code",
   "execution_count": 194,
   "outputs": [
    {
     "data": {
      "text/plain": "[5, 3, 2]"
     },
     "execution_count": 194,
     "metadata": {},
     "output_type": "execute_result"
    }
   ],
   "source": [
    "lst"
   ],
   "metadata": {
    "collapsed": false,
    "ExecuteTime": {
     "end_time": "2023-07-18T01:13:02.376337Z",
     "start_time": "2023-07-18T01:13:02.318347Z"
    }
   }
  },
  {
   "cell_type": "code",
   "execution_count": 207,
   "outputs": [],
   "source": [
    "def find_top_n(peaks, n):\n",
    "    mass, intensity = so.break_spectra(peaks)\n",
    "    intensity_sorted, mass_sorted = zip(*sorted(zip(intensity, mass)))\n",
    "    topn = list(mass_sorted[-n:])\n",
    "    topn.reverse()\n",
    "    return(topn)"
   ],
   "metadata": {
    "collapsed": false,
    "ExecuteTime": {
     "end_time": "2023-07-18T01:15:11.065704Z",
     "start_time": "2023-07-18T01:15:11.019976Z"
    }
   }
  },
  {
   "cell_type": "code",
   "execution_count": 211,
   "outputs": [
    {
     "data": {
      "text/plain": "[300.0, 200.0, 100.0, 400.0]"
     },
     "execution_count": 211,
     "metadata": {},
     "output_type": "execute_result"
    }
   ],
   "source": [
    "mass  = [100,200,300,400]\n",
    "intensity = [10,20,30,5]\n",
    "find_top_n(so.pack_spectra(mass, intensity),8)"
   ],
   "metadata": {
    "collapsed": false,
    "ExecuteTime": {
     "end_time": "2023-07-18T01:16:20.969807Z",
     "start_time": "2023-07-18T01:16:20.925377Z"
    }
   }
  },
  {
   "cell_type": "code",
   "execution_count": 224,
   "outputs": [
    {
     "name": "stderr",
     "output_type": "stream",
     "text": [
      "100%|██████████| 253/253 [00:00<00:00, 570.08it/s]\n"
     ]
    }
   ],
   "source": [
    "ratio_raw = []\n",
    "ratio_denoised=[]\n",
    "all_key = []\n",
    "top_3 = []\n",
    "for index, row in tqdm(bias_table.iterrows(), total = len(bias_table)):\n",
    "    # break\n",
    "    temp = string_search(all_ms2, 'key', row['key'])\n",
    "    raw1 = string_search(temp, 'concentration', 1)\n",
    "    raw1.dropna(subset = ['peaks_denoised'], inplace = True)\n",
    "    if len(temp)>0:\n",
    "\n",
    "        mass_list = find_top_n(raw1.iloc[0]['peaks_denoised'], 3)\n",
    "        if len(mass_list)>=2:\n",
    "            all_key.append(row['key'])\n",
    "            top_3.append(row['top_3'])\n",
    "            ratio_raw_temp = []\n",
    "            ratio_denoised_temp = []\n",
    "            top1_mass = float(mass_list[0])\n",
    "            top2_mass = float(mass_list[1])\n",
    "            for conc in [1,2,4,6,8,10, 12]:\n",
    "                current_conc = string_search(temp, 'concentration', conc).iloc[0]\n",
    "                rawiontop1 = so._extract_ms1_intensity(current_conc['peaks_cleaned'], top1_mass-0.0025, top1_mass+0.0025)\n",
    "                rawiontop2 = so._extract_ms1_intensity(current_conc['peaks_cleaned'], top2_mass-0.0025, top2_mass+0.0025)\n",
    "                if rawiontop2!= 0:\n",
    "                    ratio_raw_temp.append(rawiontop1/rawiontop2)\n",
    "                else:\n",
    "                    ratio_raw_temp.append(np.NAN)\n",
    "                denoisediontop1 = so._extract_ms1_intensity(current_conc['peaks_denoised'], top1_mass-0.0025, top1_mass+0.0025)\n",
    "                denoisediontop2 = so._extract_ms1_intensity(current_conc['peaks_denoised'], top2_mass-0.0025, top2_mass+0.0025)\n",
    "                if denoisediontop2!= 0:\n",
    "                    ratio_denoised_temp.append(denoisediontop1/denoisediontop2)\n",
    "                else:\n",
    "                    ratio_denoised_temp.append(np.NAN)\n",
    "            ratio_raw.append(ratio_raw_temp)\n",
    "            ratio_denoised.append(ratio_denoised_temp)\n",
    "    # if index >3:\n",
    "    #     break\n",
    "    # break"
   ],
   "metadata": {
    "collapsed": false,
    "ExecuteTime": {
     "end_time": "2023-07-18T01:20:36.024876Z",
     "start_time": "2023-07-18T01:20:35.533528Z"
    }
   }
  },
  {
   "cell_type": "code",
   "execution_count": 227,
   "outputs": [],
   "source": [
    "output = pd.DataFrame(zip(all_key, top_3, ratio_raw,ratio_denoised), columns = ['key', 'top3', 'ratio_raw', 'ratio_denoised'])"
   ],
   "metadata": {
    "collapsed": false,
    "ExecuteTime": {
     "end_time": "2023-07-18T01:21:42.418275Z",
     "start_time": "2023-07-18T01:21:42.313172Z"
    }
   }
  },
  {
   "cell_type": "code",
   "execution_count": 228,
   "outputs": [],
   "source": [
    "output.to_csv(os.path.join(working_dir, 'ratio_analysis.csv'), index = False)"
   ],
   "metadata": {
    "collapsed": false,
    "ExecuteTime": {
     "end_time": "2023-07-18T01:22:07.885478Z",
     "start_time": "2023-07-18T01:22:07.837854Z"
    }
   }
  }
 ],
 "metadata": {
  "kernelspec": {
   "name": "alphapept_env",
   "language": "python",
   "display_name": "alphapept_env"
  },
  "language_info": {
   "codemirror_mode": {
    "name": "ipython",
    "version": 3
   },
   "file_extension": ".py",
   "mimetype": "text/x-python",
   "name": "python",
   "nbconvert_exporter": "python",
   "pygments_lexer": "ipython3",
   "version": "3.11.3"
  }
 },
 "nbformat": 4,
 "nbformat_minor": 1
}
