{
 "cells": [
  {
   "cell_type": "code",
   "execution_count": 1,
   "outputs": [],
   "source": [
    "import timeit\n",
    "\n",
    "import matplotlib.pyplot as plt\n",
    "import numpy as np\n",
    "%load_ext autoreload\n",
    "%autoreload 2\n",
    "import os\n",
    "import pandas as pd\n",
    "from toolsets.file_io import get_file_list\n",
    "from toolsets.ff_droup import process_mzml, get_EIC_list, EIC, feature_finding, get_mz_bin, get_peaks, get_edges, find_most_close, connect_peaks, moving_average, get_centroid, get_feature, get_ms1_feature, get_istd_info, get_istd_info_all\n",
    "from toolsets.search import string_search, quick_search_values, quick_search_sorted\n",
    "from skimage.restoration import denoise_wavelet\n",
    "import seaborn as sns\n",
    "import matplotlib.pyplot as plt\n",
    "from pybaselines import utils\n",
    "import pybaselines\n",
    "import toolsets.spectra_operations as so\n",
    "# eic_dir = '/Users/fanzhoukong/Documents/GitHub/Libgen_data/gut_microbiom/EICs_snip_baseline_estimate'\n",
    "from tqdm import tqdm\n",
    "mzml_dir = '/Users/fanzhoukong/Documents/GitHub/Libgen_data/gut_microbiom/HILIC pos mode mzml'\n",
    "master_dir = '/Users/fanzhoukong/Documents/GitHub/Libgen_data/gut_microbiom'\n",
    "file_list = get_file_list(mzml_dir, '.mzML', with_tail=False)\n",
    "pl_dir = '/Users/fanzhoukong/Documents/GitHub/Libgen_data/gut_microbiom/HILIC pos mode mzml_pl'\n",
    "from toolsets.file_io import prepare_sample_list\n",
    "\n",
    "import time"
   ],
   "metadata": {
    "collapsed": false,
    "pycharm": {
     "name": "#%%\n"
    }
   }
  },
  {
   "cell_type": "code",
   "execution_count": 2,
   "outputs": [],
   "source": [
    "istd_info = pd.read_csv(os.path.join(master_dir, 'CORE_posHILIC_mzrt_5minMtd_correctionSheet.csv'))"
   ],
   "metadata": {
    "collapsed": false,
    "pycharm": {
     "name": "#%%\n"
    }
   }
  },
  {
   "cell_type": "code",
   "execution_count": 3,
   "outputs": [],
   "source": [
    "file_list = get_file_list(pl_dir, 'csv', with_tail=False)"
   ],
   "metadata": {
    "collapsed": false,
    "pycharm": {
     "name": "#%%\n"
    }
   }
  },
  {
   "cell_type": "code",
   "execution_count": 70,
   "outputs": [],
   "source": [
    "from toolsets.spectra_plotter import head_to_tail_plot"
   ],
   "metadata": {
    "collapsed": false,
    "pycharm": {
     "name": "#%%\n"
    }
   }
  },
  {
   "cell_type": "code",
   "execution_count": 223,
   "outputs": [],
   "source": [],
   "metadata": {
    "collapsed": false,
    "pycharm": {
     "name": "#%%\n"
    }
   }
  },
  {
   "cell_type": "code",
   "execution_count": 375,
   "outputs": [
    {
     "name": "stdout",
     "output_type": "stream",
     "text": [
      "19.87297797203064\n"
     ]
    }
   ],
   "source": [
    "start = time.time()\n",
    "features_all = feature_finding(ms1, ms2)\n",
    "end = time.time()\n",
    "print(end-start)"
   ],
   "metadata": {
    "collapsed": false,
    "pycharm": {
     "name": "#%%\n"
    }
   }
  },
  {
   "cell_type": "code",
   "execution_count": 350,
   "outputs": [
    {
     "data": {
      "text/plain": "                                          Common Name         pmz  \\\n0      1_CUDA iSTD [M+H]+_HPTJABJPZMULFH-UHFFFAOYSA-N  341.279900   \n1       1_D3-N-Acetyl-5-methoxytryptamine iSTD [M+H]+  236.147825   \n2                      1_D7-Acetaminophen iSTD [M+H]+  155.090000   \n3                           1_D3-Cotinine iSTD [M+H]+  180.121625   \n4                            1_D4-Thymine iSTD [M+H]+  131.075825   \n5                             1_D2-Biotin iSTD [M+H]+  247.108525   \n6   1_D3-Creatinine iSTD [M+H]+_DDRJAANPRJIHGJ-FIB...  117.085000   \n7   1_D9-Choline iSTD [M]+_SGMZJAMFUVOLNK-KYRNGWDO...  113.163500   \n8   1_D9-TMAO iSTD [M+H]+_UYPYRKYUKCHHIB-UHFFFAOYSA-N   85.132200   \n9         1_D4-Taurochenodeoxycholic acid iSTD [M+H]+  504.329700   \n10                            1_D4-Niacin iSTD [M+H]+  128.064925   \n11                1_D3-1-Methylnicotinamide iSTD [M]+  140.089800   \n12                  1_D4-Glycocholic acid iSTD [M+H]+  470.341925   \n13             1_D5-Phenylacetylglutamine iSTD [M+H]+  270.150225   \n14                        1_D8-Tryptophan iSTD [M+H]+  213.147000   \n15                     1_D8-Phenylalanine iSTD [M+H]+  174.136200   \n16  1_Val-Tyr-Val iSTD [M+H]+_ZNGPROMGGGFOAA-JYJNA...  380.218000   \n17  1_D10-Leucine iSTD [M+H]+_ROHFNLRQFUQHCH-SHJFK...  142.164000   \n18                           1_D9-Betaine iSTD [M+H]+  127.142700   \n19                       1_D10-Isoleucine iSTD [M+H]+  142.164000   \n20                         1_D3-ACar(2:0) iSTD [M+H]+  207.141900   \n21              1_D3-Histamine, N-methyl- iSTD [M+H]+  129.121400   \n22                        1_D8-Methionine iSTD [M+H]+  158.108000   \n23  1_D8-Valine iSTD [M+H]+_KZSNJWFQEVHDMF-AYWPRJO...  126.136200   \n24  1_D3-L-Carnitine iSTD [M+H]+_JXXCENBLGFBQJM-QK...  165.131300   \n25                           1_D7-Proline iSTD [M+H]+  123.114000   \n26  1_D3-Creatine iSTD [M+H]+_ MEJYXFHCRXAUIL-NIID...  135.095600   \n27  1_D4-Alanine iSTD [M+H]+_QNAYBMKLOCPYGJ-IALWII...   94.081000   \n28  1_D5-Threonine iSTD [M+H]+_ AYFVYJQAPQTCCC-WKH...  125.097000   \n29  1_D5-L-Glutamine iSTD [M+H]+_ ZDXPYRJPNDTMRX-N...  152.107800   \n30  1_D3-Serine iSTD [M+H]+_ MTCFGRXMJLQNBG-FUDHJZ...  109.068000   \n31                        1_D3-Asparagine iSTD [M+H]+  136.079000   \n32  1_D3-DL-Glutamic acid iSTD [M+H]+_WHUUTDBJXJRK...  151.079300   \n33  1_D3-Aspartic Acid iSTD [M+H]+_ CKLJMWTZIZZHCS...  137.063300   \n34                         1_D5-Histidine iSTD [M+H]+  161.107900   \n35  1_D7-Arginine iSTD [M+H]+_KWTQSFXGGICVPE-AHQND...  182.162600   \n36  1_D8-Lysine iSTD [M+H]+_BVHLGVCQOALMSV-RLIARQK...  155.163000   \n37  1_D2-Ornithine iSTD [M+H]+_AHLPHDHHMVZTML-KICN...  135.109000   \n38                           1_D4-Cystine iSTD [M+H]+  245.056000   \n\n    rt_suggested  \n0       0.257659  \n1       0.259421  \n2       0.270634  \n3       0.284845  \n4       0.337992  \n5       0.707642  \n6       0.901075  \n7       1.031961  \n8       1.155154  \n9       1.246398  \n10      1.333539  \n11      1.354997  \n12      1.476907  \n13      1.499106  \n14      1.587576  \n15      1.604198  \n16      1.615868  \n17      1.653823  \n18      1.700274  \n19      1.712779  \n20      1.719653  \n21      1.755802  \n22      1.780519  \n23      1.874206  \n24      1.875165  \n25      1.908554  \n26      1.985543  \n27      1.991997  \n28      2.040801  \n29      2.125827  \n30      2.149382  \n31      2.159371  \n32      2.174098  \n33      2.289238  \n34      2.323994  \n35      2.338390  \n36      2.357592  \n37      2.368060  \n38      2.425293  ",
      "text/html": "<div>\n<style scoped>\n    .dataframe tbody tr th:only-of-type {\n        vertical-align: middle;\n    }\n\n    .dataframe tbody tr th {\n        vertical-align: top;\n    }\n\n    .dataframe thead th {\n        text-align: right;\n    }\n</style>\n<table border=\"1\" class=\"dataframe\">\n  <thead>\n    <tr style=\"text-align: right;\">\n      <th></th>\n      <th>Common Name</th>\n      <th>pmz</th>\n      <th>rt_suggested</th>\n    </tr>\n  </thead>\n  <tbody>\n    <tr>\n      <th>0</th>\n      <td>1_CUDA iSTD [M+H]+_HPTJABJPZMULFH-UHFFFAOYSA-N</td>\n      <td>341.279900</td>\n      <td>0.257659</td>\n    </tr>\n    <tr>\n      <th>1</th>\n      <td>1_D3-N-Acetyl-5-methoxytryptamine iSTD [M+H]+</td>\n      <td>236.147825</td>\n      <td>0.259421</td>\n    </tr>\n    <tr>\n      <th>2</th>\n      <td>1_D7-Acetaminophen iSTD [M+H]+</td>\n      <td>155.090000</td>\n      <td>0.270634</td>\n    </tr>\n    <tr>\n      <th>3</th>\n      <td>1_D3-Cotinine iSTD [M+H]+</td>\n      <td>180.121625</td>\n      <td>0.284845</td>\n    </tr>\n    <tr>\n      <th>4</th>\n      <td>1_D4-Thymine iSTD [M+H]+</td>\n      <td>131.075825</td>\n      <td>0.337992</td>\n    </tr>\n    <tr>\n      <th>5</th>\n      <td>1_D2-Biotin iSTD [M+H]+</td>\n      <td>247.108525</td>\n      <td>0.707642</td>\n    </tr>\n    <tr>\n      <th>6</th>\n      <td>1_D3-Creatinine iSTD [M+H]+_DDRJAANPRJIHGJ-FIB...</td>\n      <td>117.085000</td>\n      <td>0.901075</td>\n    </tr>\n    <tr>\n      <th>7</th>\n      <td>1_D9-Choline iSTD [M]+_SGMZJAMFUVOLNK-KYRNGWDO...</td>\n      <td>113.163500</td>\n      <td>1.031961</td>\n    </tr>\n    <tr>\n      <th>8</th>\n      <td>1_D9-TMAO iSTD [M+H]+_UYPYRKYUKCHHIB-UHFFFAOYSA-N</td>\n      <td>85.132200</td>\n      <td>1.155154</td>\n    </tr>\n    <tr>\n      <th>9</th>\n      <td>1_D4-Taurochenodeoxycholic acid iSTD [M+H]+</td>\n      <td>504.329700</td>\n      <td>1.246398</td>\n    </tr>\n    <tr>\n      <th>10</th>\n      <td>1_D4-Niacin iSTD [M+H]+</td>\n      <td>128.064925</td>\n      <td>1.333539</td>\n    </tr>\n    <tr>\n      <th>11</th>\n      <td>1_D3-1-Methylnicotinamide iSTD [M]+</td>\n      <td>140.089800</td>\n      <td>1.354997</td>\n    </tr>\n    <tr>\n      <th>12</th>\n      <td>1_D4-Glycocholic acid iSTD [M+H]+</td>\n      <td>470.341925</td>\n      <td>1.476907</td>\n    </tr>\n    <tr>\n      <th>13</th>\n      <td>1_D5-Phenylacetylglutamine iSTD [M+H]+</td>\n      <td>270.150225</td>\n      <td>1.499106</td>\n    </tr>\n    <tr>\n      <th>14</th>\n      <td>1_D8-Tryptophan iSTD [M+H]+</td>\n      <td>213.147000</td>\n      <td>1.587576</td>\n    </tr>\n    <tr>\n      <th>15</th>\n      <td>1_D8-Phenylalanine iSTD [M+H]+</td>\n      <td>174.136200</td>\n      <td>1.604198</td>\n    </tr>\n    <tr>\n      <th>16</th>\n      <td>1_Val-Tyr-Val iSTD [M+H]+_ZNGPROMGGGFOAA-JYJNA...</td>\n      <td>380.218000</td>\n      <td>1.615868</td>\n    </tr>\n    <tr>\n      <th>17</th>\n      <td>1_D10-Leucine iSTD [M+H]+_ROHFNLRQFUQHCH-SHJFK...</td>\n      <td>142.164000</td>\n      <td>1.653823</td>\n    </tr>\n    <tr>\n      <th>18</th>\n      <td>1_D9-Betaine iSTD [M+H]+</td>\n      <td>127.142700</td>\n      <td>1.700274</td>\n    </tr>\n    <tr>\n      <th>19</th>\n      <td>1_D10-Isoleucine iSTD [M+H]+</td>\n      <td>142.164000</td>\n      <td>1.712779</td>\n    </tr>\n    <tr>\n      <th>20</th>\n      <td>1_D3-ACar(2:0) iSTD [M+H]+</td>\n      <td>207.141900</td>\n      <td>1.719653</td>\n    </tr>\n    <tr>\n      <th>21</th>\n      <td>1_D3-Histamine, N-methyl- iSTD [M+H]+</td>\n      <td>129.121400</td>\n      <td>1.755802</td>\n    </tr>\n    <tr>\n      <th>22</th>\n      <td>1_D8-Methionine iSTD [M+H]+</td>\n      <td>158.108000</td>\n      <td>1.780519</td>\n    </tr>\n    <tr>\n      <th>23</th>\n      <td>1_D8-Valine iSTD [M+H]+_KZSNJWFQEVHDMF-AYWPRJO...</td>\n      <td>126.136200</td>\n      <td>1.874206</td>\n    </tr>\n    <tr>\n      <th>24</th>\n      <td>1_D3-L-Carnitine iSTD [M+H]+_JXXCENBLGFBQJM-QK...</td>\n      <td>165.131300</td>\n      <td>1.875165</td>\n    </tr>\n    <tr>\n      <th>25</th>\n      <td>1_D7-Proline iSTD [M+H]+</td>\n      <td>123.114000</td>\n      <td>1.908554</td>\n    </tr>\n    <tr>\n      <th>26</th>\n      <td>1_D3-Creatine iSTD [M+H]+_ MEJYXFHCRXAUIL-NIID...</td>\n      <td>135.095600</td>\n      <td>1.985543</td>\n    </tr>\n    <tr>\n      <th>27</th>\n      <td>1_D4-Alanine iSTD [M+H]+_QNAYBMKLOCPYGJ-IALWII...</td>\n      <td>94.081000</td>\n      <td>1.991997</td>\n    </tr>\n    <tr>\n      <th>28</th>\n      <td>1_D5-Threonine iSTD [M+H]+_ AYFVYJQAPQTCCC-WKH...</td>\n      <td>125.097000</td>\n      <td>2.040801</td>\n    </tr>\n    <tr>\n      <th>29</th>\n      <td>1_D5-L-Glutamine iSTD [M+H]+_ ZDXPYRJPNDTMRX-N...</td>\n      <td>152.107800</td>\n      <td>2.125827</td>\n    </tr>\n    <tr>\n      <th>30</th>\n      <td>1_D3-Serine iSTD [M+H]+_ MTCFGRXMJLQNBG-FUDHJZ...</td>\n      <td>109.068000</td>\n      <td>2.149382</td>\n    </tr>\n    <tr>\n      <th>31</th>\n      <td>1_D3-Asparagine iSTD [M+H]+</td>\n      <td>136.079000</td>\n      <td>2.159371</td>\n    </tr>\n    <tr>\n      <th>32</th>\n      <td>1_D3-DL-Glutamic acid iSTD [M+H]+_WHUUTDBJXJRK...</td>\n      <td>151.079300</td>\n      <td>2.174098</td>\n    </tr>\n    <tr>\n      <th>33</th>\n      <td>1_D3-Aspartic Acid iSTD [M+H]+_ CKLJMWTZIZZHCS...</td>\n      <td>137.063300</td>\n      <td>2.289238</td>\n    </tr>\n    <tr>\n      <th>34</th>\n      <td>1_D5-Histidine iSTD [M+H]+</td>\n      <td>161.107900</td>\n      <td>2.323994</td>\n    </tr>\n    <tr>\n      <th>35</th>\n      <td>1_D7-Arginine iSTD [M+H]+_KWTQSFXGGICVPE-AHQND...</td>\n      <td>182.162600</td>\n      <td>2.338390</td>\n    </tr>\n    <tr>\n      <th>36</th>\n      <td>1_D8-Lysine iSTD [M+H]+_BVHLGVCQOALMSV-RLIARQK...</td>\n      <td>155.163000</td>\n      <td>2.357592</td>\n    </tr>\n    <tr>\n      <th>37</th>\n      <td>1_D2-Ornithine iSTD [M+H]+_AHLPHDHHMVZTML-KICN...</td>\n      <td>135.109000</td>\n      <td>2.368060</td>\n    </tr>\n    <tr>\n      <th>38</th>\n      <td>1_D4-Cystine iSTD [M+H]+</td>\n      <td>245.056000</td>\n      <td>2.425293</td>\n    </tr>\n  </tbody>\n</table>\n</div>"
     },
     "execution_count": 350,
     "metadata": {},
     "output_type": "execute_result"
    }
   ],
   "source": [
    "istd_info"
   ],
   "metadata": {
    "collapsed": false,
    "pycharm": {
     "name": "#%%\n"
    }
   }
  },
  {
   "cell_type": "code",
   "execution_count": 382,
   "outputs": [
    {
     "data": {
      "text/plain": "     scan_idx  cycle  ms_level  precursor_mz  charge        rt  \\\n831      1517    505         2    158.061661       1  2.148961   \n832      1310    436         2    158.108597       1  1.862853   \n833      1280    426         2    158.108719       1  1.819503   \n\n                                                 peaks  \\\n831  68.04658508300781\\t2448.2861328125\\n74.7600250...   \n832  60.074859619140625\\t45552.7578125\\n61.08090972...   \n833  60.07196044921875\\t5502.70556640625\\n60.074836...   \n\n                         isolation_window     ms1_pmz    ms1_rt  \\\n831  (157.561660766602, 158.561660766602)  158.061676  2.145463   \n832  (157.608596801758, 158.608596801758)  158.108719  1.859350   \n833    (157.60871887207, 158.60871887207)  158.108749  1.816188   \n\n     ms1_precursor_intensity  peak_purity  mz_offset  \\\n831              2908761.250     0.741809   0.000015   \n832               666935.375     0.536884   0.000122   \n833              4279497.000     0.844053   0.000031   \n\n                                            mix  \\\n831  Schebesta0859_MX741718_posBA_apbDXM9P3-672   \n832  Schebesta0859_MX741718_posBA_apbDXM9P3-672   \n833  Schebesta0859_MX741718_posBA_apbDXM9P3-672   \n\n                                           base_name  \n831  Schebesta0859_MX741718_posBA_apbDXM9P3-672.mzML  \n832  Schebesta0859_MX741718_posBA_apbDXM9P3-672.mzML  \n833  Schebesta0859_MX741718_posBA_apbDXM9P3-672.mzML  ",
      "text/html": "<div>\n<style scoped>\n    .dataframe tbody tr th:only-of-type {\n        vertical-align: middle;\n    }\n\n    .dataframe tbody tr th {\n        vertical-align: top;\n    }\n\n    .dataframe thead th {\n        text-align: right;\n    }\n</style>\n<table border=\"1\" class=\"dataframe\">\n  <thead>\n    <tr style=\"text-align: right;\">\n      <th></th>\n      <th>scan_idx</th>\n      <th>cycle</th>\n      <th>ms_level</th>\n      <th>precursor_mz</th>\n      <th>charge</th>\n      <th>rt</th>\n      <th>peaks</th>\n      <th>isolation_window</th>\n      <th>ms1_pmz</th>\n      <th>ms1_rt</th>\n      <th>ms1_precursor_intensity</th>\n      <th>peak_purity</th>\n      <th>mz_offset</th>\n      <th>mix</th>\n      <th>base_name</th>\n    </tr>\n  </thead>\n  <tbody>\n    <tr>\n      <th>831</th>\n      <td>1517</td>\n      <td>505</td>\n      <td>2</td>\n      <td>158.061661</td>\n      <td>1</td>\n      <td>2.148961</td>\n      <td>68.04658508300781\\t2448.2861328125\\n74.7600250...</td>\n      <td>(157.561660766602, 158.561660766602)</td>\n      <td>158.061676</td>\n      <td>2.145463</td>\n      <td>2908761.250</td>\n      <td>0.741809</td>\n      <td>0.000015</td>\n      <td>Schebesta0859_MX741718_posBA_apbDXM9P3-672</td>\n      <td>Schebesta0859_MX741718_posBA_apbDXM9P3-672.mzML</td>\n    </tr>\n    <tr>\n      <th>832</th>\n      <td>1310</td>\n      <td>436</td>\n      <td>2</td>\n      <td>158.108597</td>\n      <td>1</td>\n      <td>1.862853</td>\n      <td>60.074859619140625\\t45552.7578125\\n61.08090972...</td>\n      <td>(157.608596801758, 158.608596801758)</td>\n      <td>158.108719</td>\n      <td>1.859350</td>\n      <td>666935.375</td>\n      <td>0.536884</td>\n      <td>0.000122</td>\n      <td>Schebesta0859_MX741718_posBA_apbDXM9P3-672</td>\n      <td>Schebesta0859_MX741718_posBA_apbDXM9P3-672.mzML</td>\n    </tr>\n    <tr>\n      <th>833</th>\n      <td>1280</td>\n      <td>426</td>\n      <td>2</td>\n      <td>158.108719</td>\n      <td>1</td>\n      <td>1.819503</td>\n      <td>60.07196044921875\\t5502.70556640625\\n60.074836...</td>\n      <td>(157.60871887207, 158.60871887207)</td>\n      <td>158.108749</td>\n      <td>1.816188</td>\n      <td>4279497.000</td>\n      <td>0.844053</td>\n      <td>0.000031</td>\n      <td>Schebesta0859_MX741718_posBA_apbDXM9P3-672</td>\n      <td>Schebesta0859_MX741718_posBA_apbDXM9P3-672.mzML</td>\n    </tr>\n  </tbody>\n</table>\n</div>"
     },
     "execution_count": 382,
     "metadata": {},
     "output_type": "execute_result"
    }
   ],
   "source": [
    "pmz = 158.108000\n",
    "quick_search_values(ms2, 'precursor_mz', pmz-0.05,pmz+0.05)"
   ],
   "metadata": {
    "collapsed": false,
    "pycharm": {
     "name": "#%%\n"
    }
   }
  },
  {
   "cell_type": "code",
   "execution_count": 393,
   "outputs": [
    {
     "data": {
      "text/plain": "Index(['ms_level', 'precursor_mz', 'charge', 'rt', 'mix', 'base_name',\n       'rt_offset', 'rt_start', 'rt_end', 'peak_apex_intensity', 'msms',\n       'wa_msms', 'snr', 'peak_range_idx', 'ms2_range_idx', 'pmz_bin'],\n      dtype='object')"
     },
     "execution_count": 393,
     "metadata": {},
     "output_type": "execute_result"
    }
   ],
   "source": [
    "features_all.columns"
   ],
   "metadata": {
    "collapsed": false,
    "pycharm": {
     "name": "#%%\n"
    }
   }
  },
  {
   "cell_type": "code",
   "execution_count": 395,
   "outputs": [],
   "source": [
    "pmz_found = []\n",
    "pmz_offset = []\n",
    "rt_found = []\n",
    "rt_offset =[]\n",
    "\n",
    "for index, row in istd_info.iterrows():\n",
    "    istd_feature = quick_search_values(features_all, 'precursor_mz', row['pmz']-0.05, row['pmz']+0.05)\n",
    "    istd_feature = quick_search_values(istd_feature, 'rt', row['rt_suggested']-10/60, row['rt_suggested']+10/60)\n",
    "    if len(istd_feature)>0:\n",
    "        istd_feature.sort_values(by = 'peak_apex_intensity', ascending=False, inplace = True)\n",
    "        pmz_found.append(istd_feature.iloc[0]['precursor_mz'])\n",
    "        pmz_offset.append(abs(istd_feature.iloc[0]['precursor_mz']-row['pmz']))\n",
    "        rt_found.append(istd_feature.iloc[0]['rt'])\n",
    "        rt_offset.append(abs(istd_feature.iloc[0]['rt']-row['rt_suggested']))\n",
    "    else:\n",
    "        pmz_found.append(np.NAN)\n",
    "        pmz_offset.append(np.NAN)\n",
    "        rt_found.append(np.NAN)\n",
    "        rt_offset.append(np.NAN)\n",
    "istd_info_check = istd_info.copy()\n",
    "istd_info_check['pmz_found']=pmz_found\n",
    "istd_info_check['pmz_offset']=pmz_offset\n",
    "istd_info_check['rt_found']=rt_found\n",
    "istd_info_check['rt_offset']=rt_offset"
   ],
   "metadata": {
    "collapsed": false,
    "pycharm": {
     "name": "#%%\n"
    }
   }
  },
  {
   "cell_type": "code",
   "execution_count": 56,
   "outputs": [],
   "source": [
    "from toolsets.ff_droup import build_index, EIC, EIC_fast"
   ],
   "metadata": {
    "collapsed": false,
    "pycharm": {
     "name": "#%%\n"
    }
   }
  },
  {
   "cell_type": "code",
   "execution_count": 58,
   "outputs": [
    {
     "data": {
      "text/plain": "                                          Common Name         pmz  \\\n0      1_CUDA iSTD [M+H]+_HPTJABJPZMULFH-UHFFFAOYSA-N  341.279900   \n1       1_D3-N-Acetyl-5-methoxytryptamine iSTD [M+H]+  236.147825   \n2                      1_D7-Acetaminophen iSTD [M+H]+  155.090000   \n3                           1_D3-Cotinine iSTD [M+H]+  180.121625   \n4                            1_D4-Thymine iSTD [M+H]+  131.075825   \n5                             1_D2-Biotin iSTD [M+H]+  247.108525   \n6   1_D3-Creatinine iSTD [M+H]+_DDRJAANPRJIHGJ-FIB...  117.085000   \n7   1_D9-Choline iSTD [M]+_SGMZJAMFUVOLNK-KYRNGWDO...  113.163500   \n8   1_D9-TMAO iSTD [M+H]+_UYPYRKYUKCHHIB-UHFFFAOYSA-N   85.132200   \n9         1_D4-Taurochenodeoxycholic acid iSTD [M+H]+  504.329700   \n10                            1_D4-Niacin iSTD [M+H]+  128.064925   \n11                1_D3-1-Methylnicotinamide iSTD [M]+  140.089800   \n12                  1_D4-Glycocholic acid iSTD [M+H]+  470.341925   \n13             1_D5-Phenylacetylglutamine iSTD [M+H]+  270.150225   \n14                        1_D8-Tryptophan iSTD [M+H]+  213.147000   \n15                     1_D8-Phenylalanine iSTD [M+H]+  174.136200   \n16  1_Val-Tyr-Val iSTD [M+H]+_ZNGPROMGGGFOAA-JYJNA...  380.218000   \n17  1_D10-Leucine iSTD [M+H]+_ROHFNLRQFUQHCH-SHJFK...  142.164000   \n18                           1_D9-Betaine iSTD [M+H]+  127.142700   \n19                       1_D10-Isoleucine iSTD [M+H]+  142.164000   \n20                         1_D3-ACar(2:0) iSTD [M+H]+  207.141900   \n21              1_D3-Histamine, N-methyl- iSTD [M+H]+  129.121400   \n22                        1_D8-Methionine iSTD [M+H]+  158.108000   \n23  1_D8-Valine iSTD [M+H]+_KZSNJWFQEVHDMF-AYWPRJO...  126.136200   \n24  1_D3-L-Carnitine iSTD [M+H]+_JXXCENBLGFBQJM-QK...  165.131300   \n25                           1_D7-Proline iSTD [M+H]+  123.114000   \n26  1_D3-Creatine iSTD [M+H]+_ MEJYXFHCRXAUIL-NIID...  135.095600   \n27  1_D4-Alanine iSTD [M+H]+_QNAYBMKLOCPYGJ-IALWII...   94.081000   \n28  1_D5-Threonine iSTD [M+H]+_ AYFVYJQAPQTCCC-WKH...  125.097000   \n29  1_D5-L-Glutamine iSTD [M+H]+_ ZDXPYRJPNDTMRX-N...  152.107800   \n30  1_D3-Serine iSTD [M+H]+_ MTCFGRXMJLQNBG-FUDHJZ...  109.068000   \n31                        1_D3-Asparagine iSTD [M+H]+  136.079000   \n32  1_D3-DL-Glutamic acid iSTD [M+H]+_WHUUTDBJXJRK...  151.079300   \n33  1_D3-Aspartic Acid iSTD [M+H]+_ CKLJMWTZIZZHCS...  137.063300   \n34                         1_D5-Histidine iSTD [M+H]+  161.107900   \n35  1_D7-Arginine iSTD [M+H]+_KWTQSFXGGICVPE-AHQND...  182.162600   \n36  1_D8-Lysine iSTD [M+H]+_BVHLGVCQOALMSV-RLIARQK...  155.163000   \n37  1_D2-Ornithine iSTD [M+H]+_AHLPHDHHMVZTML-KICN...  135.109000   \n38                           1_D4-Cystine iSTD [M+H]+  245.056000   \n\n    rt_suggested  \n0       0.257659  \n1       0.259421  \n2       0.270634  \n3       0.284845  \n4       0.337992  \n5       0.707642  \n6       0.901075  \n7       1.031961  \n8       1.155154  \n9       1.246398  \n10      1.333539  \n11      1.354997  \n12      1.476907  \n13      1.499106  \n14      1.587576  \n15      1.604198  \n16      1.615868  \n17      1.653823  \n18      1.700274  \n19      1.712779  \n20      1.719653  \n21      1.755802  \n22      1.780519  \n23      1.874206  \n24      1.875165  \n25      1.908554  \n26      1.985543  \n27      1.991997  \n28      2.040801  \n29      2.125827  \n30      2.149382  \n31      2.159371  \n32      2.174098  \n33      2.289238  \n34      2.323994  \n35      2.338390  \n36      2.357592  \n37      2.368060  \n38      2.425293  ",
      "text/html": "<div>\n<style scoped>\n    .dataframe tbody tr th:only-of-type {\n        vertical-align: middle;\n    }\n\n    .dataframe tbody tr th {\n        vertical-align: top;\n    }\n\n    .dataframe thead th {\n        text-align: right;\n    }\n</style>\n<table border=\"1\" class=\"dataframe\">\n  <thead>\n    <tr style=\"text-align: right;\">\n      <th></th>\n      <th>Common Name</th>\n      <th>pmz</th>\n      <th>rt_suggested</th>\n    </tr>\n  </thead>\n  <tbody>\n    <tr>\n      <th>0</th>\n      <td>1_CUDA iSTD [M+H]+_HPTJABJPZMULFH-UHFFFAOYSA-N</td>\n      <td>341.279900</td>\n      <td>0.257659</td>\n    </tr>\n    <tr>\n      <th>1</th>\n      <td>1_D3-N-Acetyl-5-methoxytryptamine iSTD [M+H]+</td>\n      <td>236.147825</td>\n      <td>0.259421</td>\n    </tr>\n    <tr>\n      <th>2</th>\n      <td>1_D7-Acetaminophen iSTD [M+H]+</td>\n      <td>155.090000</td>\n      <td>0.270634</td>\n    </tr>\n    <tr>\n      <th>3</th>\n      <td>1_D3-Cotinine iSTD [M+H]+</td>\n      <td>180.121625</td>\n      <td>0.284845</td>\n    </tr>\n    <tr>\n      <th>4</th>\n      <td>1_D4-Thymine iSTD [M+H]+</td>\n      <td>131.075825</td>\n      <td>0.337992</td>\n    </tr>\n    <tr>\n      <th>5</th>\n      <td>1_D2-Biotin iSTD [M+H]+</td>\n      <td>247.108525</td>\n      <td>0.707642</td>\n    </tr>\n    <tr>\n      <th>6</th>\n      <td>1_D3-Creatinine iSTD [M+H]+_DDRJAANPRJIHGJ-FIB...</td>\n      <td>117.085000</td>\n      <td>0.901075</td>\n    </tr>\n    <tr>\n      <th>7</th>\n      <td>1_D9-Choline iSTD [M]+_SGMZJAMFUVOLNK-KYRNGWDO...</td>\n      <td>113.163500</td>\n      <td>1.031961</td>\n    </tr>\n    <tr>\n      <th>8</th>\n      <td>1_D9-TMAO iSTD [M+H]+_UYPYRKYUKCHHIB-UHFFFAOYSA-N</td>\n      <td>85.132200</td>\n      <td>1.155154</td>\n    </tr>\n    <tr>\n      <th>9</th>\n      <td>1_D4-Taurochenodeoxycholic acid iSTD [M+H]+</td>\n      <td>504.329700</td>\n      <td>1.246398</td>\n    </tr>\n    <tr>\n      <th>10</th>\n      <td>1_D4-Niacin iSTD [M+H]+</td>\n      <td>128.064925</td>\n      <td>1.333539</td>\n    </tr>\n    <tr>\n      <th>11</th>\n      <td>1_D3-1-Methylnicotinamide iSTD [M]+</td>\n      <td>140.089800</td>\n      <td>1.354997</td>\n    </tr>\n    <tr>\n      <th>12</th>\n      <td>1_D4-Glycocholic acid iSTD [M+H]+</td>\n      <td>470.341925</td>\n      <td>1.476907</td>\n    </tr>\n    <tr>\n      <th>13</th>\n      <td>1_D5-Phenylacetylglutamine iSTD [M+H]+</td>\n      <td>270.150225</td>\n      <td>1.499106</td>\n    </tr>\n    <tr>\n      <th>14</th>\n      <td>1_D8-Tryptophan iSTD [M+H]+</td>\n      <td>213.147000</td>\n      <td>1.587576</td>\n    </tr>\n    <tr>\n      <th>15</th>\n      <td>1_D8-Phenylalanine iSTD [M+H]+</td>\n      <td>174.136200</td>\n      <td>1.604198</td>\n    </tr>\n    <tr>\n      <th>16</th>\n      <td>1_Val-Tyr-Val iSTD [M+H]+_ZNGPROMGGGFOAA-JYJNA...</td>\n      <td>380.218000</td>\n      <td>1.615868</td>\n    </tr>\n    <tr>\n      <th>17</th>\n      <td>1_D10-Leucine iSTD [M+H]+_ROHFNLRQFUQHCH-SHJFK...</td>\n      <td>142.164000</td>\n      <td>1.653823</td>\n    </tr>\n    <tr>\n      <th>18</th>\n      <td>1_D9-Betaine iSTD [M+H]+</td>\n      <td>127.142700</td>\n      <td>1.700274</td>\n    </tr>\n    <tr>\n      <th>19</th>\n      <td>1_D10-Isoleucine iSTD [M+H]+</td>\n      <td>142.164000</td>\n      <td>1.712779</td>\n    </tr>\n    <tr>\n      <th>20</th>\n      <td>1_D3-ACar(2:0) iSTD [M+H]+</td>\n      <td>207.141900</td>\n      <td>1.719653</td>\n    </tr>\n    <tr>\n      <th>21</th>\n      <td>1_D3-Histamine, N-methyl- iSTD [M+H]+</td>\n      <td>129.121400</td>\n      <td>1.755802</td>\n    </tr>\n    <tr>\n      <th>22</th>\n      <td>1_D8-Methionine iSTD [M+H]+</td>\n      <td>158.108000</td>\n      <td>1.780519</td>\n    </tr>\n    <tr>\n      <th>23</th>\n      <td>1_D8-Valine iSTD [M+H]+_KZSNJWFQEVHDMF-AYWPRJO...</td>\n      <td>126.136200</td>\n      <td>1.874206</td>\n    </tr>\n    <tr>\n      <th>24</th>\n      <td>1_D3-L-Carnitine iSTD [M+H]+_JXXCENBLGFBQJM-QK...</td>\n      <td>165.131300</td>\n      <td>1.875165</td>\n    </tr>\n    <tr>\n      <th>25</th>\n      <td>1_D7-Proline iSTD [M+H]+</td>\n      <td>123.114000</td>\n      <td>1.908554</td>\n    </tr>\n    <tr>\n      <th>26</th>\n      <td>1_D3-Creatine iSTD [M+H]+_ MEJYXFHCRXAUIL-NIID...</td>\n      <td>135.095600</td>\n      <td>1.985543</td>\n    </tr>\n    <tr>\n      <th>27</th>\n      <td>1_D4-Alanine iSTD [M+H]+_QNAYBMKLOCPYGJ-IALWII...</td>\n      <td>94.081000</td>\n      <td>1.991997</td>\n    </tr>\n    <tr>\n      <th>28</th>\n      <td>1_D5-Threonine iSTD [M+H]+_ AYFVYJQAPQTCCC-WKH...</td>\n      <td>125.097000</td>\n      <td>2.040801</td>\n    </tr>\n    <tr>\n      <th>29</th>\n      <td>1_D5-L-Glutamine iSTD [M+H]+_ ZDXPYRJPNDTMRX-N...</td>\n      <td>152.107800</td>\n      <td>2.125827</td>\n    </tr>\n    <tr>\n      <th>30</th>\n      <td>1_D3-Serine iSTD [M+H]+_ MTCFGRXMJLQNBG-FUDHJZ...</td>\n      <td>109.068000</td>\n      <td>2.149382</td>\n    </tr>\n    <tr>\n      <th>31</th>\n      <td>1_D3-Asparagine iSTD [M+H]+</td>\n      <td>136.079000</td>\n      <td>2.159371</td>\n    </tr>\n    <tr>\n      <th>32</th>\n      <td>1_D3-DL-Glutamic acid iSTD [M+H]+_WHUUTDBJXJRK...</td>\n      <td>151.079300</td>\n      <td>2.174098</td>\n    </tr>\n    <tr>\n      <th>33</th>\n      <td>1_D3-Aspartic Acid iSTD [M+H]+_ CKLJMWTZIZZHCS...</td>\n      <td>137.063300</td>\n      <td>2.289238</td>\n    </tr>\n    <tr>\n      <th>34</th>\n      <td>1_D5-Histidine iSTD [M+H]+</td>\n      <td>161.107900</td>\n      <td>2.323994</td>\n    </tr>\n    <tr>\n      <th>35</th>\n      <td>1_D7-Arginine iSTD [M+H]+_KWTQSFXGGICVPE-AHQND...</td>\n      <td>182.162600</td>\n      <td>2.338390</td>\n    </tr>\n    <tr>\n      <th>36</th>\n      <td>1_D8-Lysine iSTD [M+H]+_BVHLGVCQOALMSV-RLIARQK...</td>\n      <td>155.163000</td>\n      <td>2.357592</td>\n    </tr>\n    <tr>\n      <th>37</th>\n      <td>1_D2-Ornithine iSTD [M+H]+_AHLPHDHHMVZTML-KICN...</td>\n      <td>135.109000</td>\n      <td>2.368060</td>\n    </tr>\n    <tr>\n      <th>38</th>\n      <td>1_D4-Cystine iSTD [M+H]+</td>\n      <td>245.056000</td>\n      <td>2.425293</td>\n    </tr>\n  </tbody>\n</table>\n</div>"
     },
     "execution_count": 58,
     "metadata": {},
     "output_type": "execute_result"
    }
   ],
   "source": [
    "istd_info"
   ],
   "metadata": {
    "collapsed": false,
    "pycharm": {
     "name": "#%%\n"
    }
   }
  },
  {
   "cell_type": "code",
   "execution_count": 55,
   "outputs": [],
   "source": [
    "ms1, ms2 = process_mzml(mzml_path=file_list[191]+'.mzML', parent_dir=mzml_dir)"
   ],
   "metadata": {
    "collapsed": false,
    "pycharm": {
     "name": "#%%\n"
    }
   }
  },
  {
   "cell_type": "code",
   "execution_count": 59,
   "outputs": [],
   "source": [
    "pmz = istd_info.iloc[0]['pmz']\n",
    "mass_error = 0.05"
   ],
   "metadata": {
    "collapsed": false,
    "pycharm": {
     "name": "#%%\n"
    }
   }
  },
  {
   "cell_type": "code",
   "execution_count": 60,
   "outputs": [
    {
     "name": "stdout",
     "output_type": "stream",
     "text": [
      "time used for build index is:  1.365584135055542\n",
      "time used for build EIC is:  0.020381927490234375\n",
      "time used total is:  1.3859660625457764\n"
     ]
    }
   ],
   "source": [
    "start = time.time()\n",
    "mass_sorted, intensity_sorted, index_sorted, rt_list=build_index(ms1)\n",
    "cp1 = time.time()\n",
    "intensity_list = EIC_fast(pmz, mass_error, mass_sorted, intensity_sorted, index_sorted)\n",
    "cp2 = time.time()\n",
    "print('time used for build index is: ', cp1-start)\n",
    "print('time used for build EIC is: ', cp2-cp1)\n",
    "print('time used total is: ', cp2-start)"
   ],
   "metadata": {
    "collapsed": false,
    "pycharm": {
     "name": "#%%\n"
    }
   }
  },
  {
   "cell_type": "code",
   "execution_count": 67,
   "outputs": [
    {
     "data": {
      "text/plain": "                                          Common Name         pmz  \\\n0      1_CUDA iSTD [M+H]+_HPTJABJPZMULFH-UHFFFAOYSA-N  341.279900   \n1       1_D3-N-Acetyl-5-methoxytryptamine iSTD [M+H]+  236.147825   \n2                      1_D7-Acetaminophen iSTD [M+H]+  155.090000   \n3                           1_D3-Cotinine iSTD [M+H]+  180.121625   \n4                            1_D4-Thymine iSTD [M+H]+  131.075825   \n5                             1_D2-Biotin iSTD [M+H]+  247.108525   \n6   1_D3-Creatinine iSTD [M+H]+_DDRJAANPRJIHGJ-FIB...  117.085000   \n7   1_D9-Choline iSTD [M]+_SGMZJAMFUVOLNK-KYRNGWDO...  113.163500   \n8   1_D9-TMAO iSTD [M+H]+_UYPYRKYUKCHHIB-UHFFFAOYSA-N   85.132200   \n9         1_D4-Taurochenodeoxycholic acid iSTD [M+H]+  504.329700   \n10                            1_D4-Niacin iSTD [M+H]+  128.064925   \n11                1_D3-1-Methylnicotinamide iSTD [M]+  140.089800   \n12                  1_D4-Glycocholic acid iSTD [M+H]+  470.341925   \n13             1_D5-Phenylacetylglutamine iSTD [M+H]+  270.150225   \n14                        1_D8-Tryptophan iSTD [M+H]+  213.147000   \n15                     1_D8-Phenylalanine iSTD [M+H]+  174.136200   \n16  1_Val-Tyr-Val iSTD [M+H]+_ZNGPROMGGGFOAA-JYJNA...  380.218000   \n17  1_D10-Leucine iSTD [M+H]+_ROHFNLRQFUQHCH-SHJFK...  142.164000   \n18                           1_D9-Betaine iSTD [M+H]+  127.142700   \n19                       1_D10-Isoleucine iSTD [M+H]+  142.164000   \n20                         1_D3-ACar(2:0) iSTD [M+H]+  207.141900   \n21              1_D3-Histamine, N-methyl- iSTD [M+H]+  129.121400   \n22                        1_D8-Methionine iSTD [M+H]+  158.108000   \n23  1_D8-Valine iSTD [M+H]+_KZSNJWFQEVHDMF-AYWPRJO...  126.136200   \n24  1_D3-L-Carnitine iSTD [M+H]+_JXXCENBLGFBQJM-QK...  165.131300   \n25                           1_D7-Proline iSTD [M+H]+  123.114000   \n26  1_D3-Creatine iSTD [M+H]+_ MEJYXFHCRXAUIL-NIID...  135.095600   \n27  1_D4-Alanine iSTD [M+H]+_QNAYBMKLOCPYGJ-IALWII...   94.081000   \n28  1_D5-Threonine iSTD [M+H]+_ AYFVYJQAPQTCCC-WKH...  125.097000   \n29  1_D5-L-Glutamine iSTD [M+H]+_ ZDXPYRJPNDTMRX-N...  152.107800   \n30  1_D3-Serine iSTD [M+H]+_ MTCFGRXMJLQNBG-FUDHJZ...  109.068000   \n31                        1_D3-Asparagine iSTD [M+H]+  136.079000   \n32  1_D3-DL-Glutamic acid iSTD [M+H]+_WHUUTDBJXJRK...  151.079300   \n33  1_D3-Aspartic Acid iSTD [M+H]+_ CKLJMWTZIZZHCS...  137.063300   \n34                         1_D5-Histidine iSTD [M+H]+  161.107900   \n35  1_D7-Arginine iSTD [M+H]+_KWTQSFXGGICVPE-AHQND...  182.162600   \n36  1_D8-Lysine iSTD [M+H]+_BVHLGVCQOALMSV-RLIARQK...  155.163000   \n37  1_D2-Ornithine iSTD [M+H]+_AHLPHDHHMVZTML-KICN...  135.109000   \n38                           1_D4-Cystine iSTD [M+H]+  245.056000   \n\n    rt_suggested  \n0       0.257659  \n1       0.259421  \n2       0.270634  \n3       0.284845  \n4       0.337992  \n5       0.707642  \n6       0.901075  \n7       1.031961  \n8       1.155154  \n9       1.246398  \n10      1.333539  \n11      1.354997  \n12      1.476907  \n13      1.499106  \n14      1.587576  \n15      1.604198  \n16      1.615868  \n17      1.653823  \n18      1.700274  \n19      1.712779  \n20      1.719653  \n21      1.755802  \n22      1.780519  \n23      1.874206  \n24      1.875165  \n25      1.908554  \n26      1.985543  \n27      1.991997  \n28      2.040801  \n29      2.125827  \n30      2.149382  \n31      2.159371  \n32      2.174098  \n33      2.289238  \n34      2.323994  \n35      2.338390  \n36      2.357592  \n37      2.368060  \n38      2.425293  ",
      "text/html": "<div>\n<style scoped>\n    .dataframe tbody tr th:only-of-type {\n        vertical-align: middle;\n    }\n\n    .dataframe tbody tr th {\n        vertical-align: top;\n    }\n\n    .dataframe thead th {\n        text-align: right;\n    }\n</style>\n<table border=\"1\" class=\"dataframe\">\n  <thead>\n    <tr style=\"text-align: right;\">\n      <th></th>\n      <th>Common Name</th>\n      <th>pmz</th>\n      <th>rt_suggested</th>\n    </tr>\n  </thead>\n  <tbody>\n    <tr>\n      <th>0</th>\n      <td>1_CUDA iSTD [M+H]+_HPTJABJPZMULFH-UHFFFAOYSA-N</td>\n      <td>341.279900</td>\n      <td>0.257659</td>\n    </tr>\n    <tr>\n      <th>1</th>\n      <td>1_D3-N-Acetyl-5-methoxytryptamine iSTD [M+H]+</td>\n      <td>236.147825</td>\n      <td>0.259421</td>\n    </tr>\n    <tr>\n      <th>2</th>\n      <td>1_D7-Acetaminophen iSTD [M+H]+</td>\n      <td>155.090000</td>\n      <td>0.270634</td>\n    </tr>\n    <tr>\n      <th>3</th>\n      <td>1_D3-Cotinine iSTD [M+H]+</td>\n      <td>180.121625</td>\n      <td>0.284845</td>\n    </tr>\n    <tr>\n      <th>4</th>\n      <td>1_D4-Thymine iSTD [M+H]+</td>\n      <td>131.075825</td>\n      <td>0.337992</td>\n    </tr>\n    <tr>\n      <th>5</th>\n      <td>1_D2-Biotin iSTD [M+H]+</td>\n      <td>247.108525</td>\n      <td>0.707642</td>\n    </tr>\n    <tr>\n      <th>6</th>\n      <td>1_D3-Creatinine iSTD [M+H]+_DDRJAANPRJIHGJ-FIB...</td>\n      <td>117.085000</td>\n      <td>0.901075</td>\n    </tr>\n    <tr>\n      <th>7</th>\n      <td>1_D9-Choline iSTD [M]+_SGMZJAMFUVOLNK-KYRNGWDO...</td>\n      <td>113.163500</td>\n      <td>1.031961</td>\n    </tr>\n    <tr>\n      <th>8</th>\n      <td>1_D9-TMAO iSTD [M+H]+_UYPYRKYUKCHHIB-UHFFFAOYSA-N</td>\n      <td>85.132200</td>\n      <td>1.155154</td>\n    </tr>\n    <tr>\n      <th>9</th>\n      <td>1_D4-Taurochenodeoxycholic acid iSTD [M+H]+</td>\n      <td>504.329700</td>\n      <td>1.246398</td>\n    </tr>\n    <tr>\n      <th>10</th>\n      <td>1_D4-Niacin iSTD [M+H]+</td>\n      <td>128.064925</td>\n      <td>1.333539</td>\n    </tr>\n    <tr>\n      <th>11</th>\n      <td>1_D3-1-Methylnicotinamide iSTD [M]+</td>\n      <td>140.089800</td>\n      <td>1.354997</td>\n    </tr>\n    <tr>\n      <th>12</th>\n      <td>1_D4-Glycocholic acid iSTD [M+H]+</td>\n      <td>470.341925</td>\n      <td>1.476907</td>\n    </tr>\n    <tr>\n      <th>13</th>\n      <td>1_D5-Phenylacetylglutamine iSTD [M+H]+</td>\n      <td>270.150225</td>\n      <td>1.499106</td>\n    </tr>\n    <tr>\n      <th>14</th>\n      <td>1_D8-Tryptophan iSTD [M+H]+</td>\n      <td>213.147000</td>\n      <td>1.587576</td>\n    </tr>\n    <tr>\n      <th>15</th>\n      <td>1_D8-Phenylalanine iSTD [M+H]+</td>\n      <td>174.136200</td>\n      <td>1.604198</td>\n    </tr>\n    <tr>\n      <th>16</th>\n      <td>1_Val-Tyr-Val iSTD [M+H]+_ZNGPROMGGGFOAA-JYJNA...</td>\n      <td>380.218000</td>\n      <td>1.615868</td>\n    </tr>\n    <tr>\n      <th>17</th>\n      <td>1_D10-Leucine iSTD [M+H]+_ROHFNLRQFUQHCH-SHJFK...</td>\n      <td>142.164000</td>\n      <td>1.653823</td>\n    </tr>\n    <tr>\n      <th>18</th>\n      <td>1_D9-Betaine iSTD [M+H]+</td>\n      <td>127.142700</td>\n      <td>1.700274</td>\n    </tr>\n    <tr>\n      <th>19</th>\n      <td>1_D10-Isoleucine iSTD [M+H]+</td>\n      <td>142.164000</td>\n      <td>1.712779</td>\n    </tr>\n    <tr>\n      <th>20</th>\n      <td>1_D3-ACar(2:0) iSTD [M+H]+</td>\n      <td>207.141900</td>\n      <td>1.719653</td>\n    </tr>\n    <tr>\n      <th>21</th>\n      <td>1_D3-Histamine, N-methyl- iSTD [M+H]+</td>\n      <td>129.121400</td>\n      <td>1.755802</td>\n    </tr>\n    <tr>\n      <th>22</th>\n      <td>1_D8-Methionine iSTD [M+H]+</td>\n      <td>158.108000</td>\n      <td>1.780519</td>\n    </tr>\n    <tr>\n      <th>23</th>\n      <td>1_D8-Valine iSTD [M+H]+_KZSNJWFQEVHDMF-AYWPRJO...</td>\n      <td>126.136200</td>\n      <td>1.874206</td>\n    </tr>\n    <tr>\n      <th>24</th>\n      <td>1_D3-L-Carnitine iSTD [M+H]+_JXXCENBLGFBQJM-QK...</td>\n      <td>165.131300</td>\n      <td>1.875165</td>\n    </tr>\n    <tr>\n      <th>25</th>\n      <td>1_D7-Proline iSTD [M+H]+</td>\n      <td>123.114000</td>\n      <td>1.908554</td>\n    </tr>\n    <tr>\n      <th>26</th>\n      <td>1_D3-Creatine iSTD [M+H]+_ MEJYXFHCRXAUIL-NIID...</td>\n      <td>135.095600</td>\n      <td>1.985543</td>\n    </tr>\n    <tr>\n      <th>27</th>\n      <td>1_D4-Alanine iSTD [M+H]+_QNAYBMKLOCPYGJ-IALWII...</td>\n      <td>94.081000</td>\n      <td>1.991997</td>\n    </tr>\n    <tr>\n      <th>28</th>\n      <td>1_D5-Threonine iSTD [M+H]+_ AYFVYJQAPQTCCC-WKH...</td>\n      <td>125.097000</td>\n      <td>2.040801</td>\n    </tr>\n    <tr>\n      <th>29</th>\n      <td>1_D5-L-Glutamine iSTD [M+H]+_ ZDXPYRJPNDTMRX-N...</td>\n      <td>152.107800</td>\n      <td>2.125827</td>\n    </tr>\n    <tr>\n      <th>30</th>\n      <td>1_D3-Serine iSTD [M+H]+_ MTCFGRXMJLQNBG-FUDHJZ...</td>\n      <td>109.068000</td>\n      <td>2.149382</td>\n    </tr>\n    <tr>\n      <th>31</th>\n      <td>1_D3-Asparagine iSTD [M+H]+</td>\n      <td>136.079000</td>\n      <td>2.159371</td>\n    </tr>\n    <tr>\n      <th>32</th>\n      <td>1_D3-DL-Glutamic acid iSTD [M+H]+_WHUUTDBJXJRK...</td>\n      <td>151.079300</td>\n      <td>2.174098</td>\n    </tr>\n    <tr>\n      <th>33</th>\n      <td>1_D3-Aspartic Acid iSTD [M+H]+_ CKLJMWTZIZZHCS...</td>\n      <td>137.063300</td>\n      <td>2.289238</td>\n    </tr>\n    <tr>\n      <th>34</th>\n      <td>1_D5-Histidine iSTD [M+H]+</td>\n      <td>161.107900</td>\n      <td>2.323994</td>\n    </tr>\n    <tr>\n      <th>35</th>\n      <td>1_D7-Arginine iSTD [M+H]+_KWTQSFXGGICVPE-AHQND...</td>\n      <td>182.162600</td>\n      <td>2.338390</td>\n    </tr>\n    <tr>\n      <th>36</th>\n      <td>1_D8-Lysine iSTD [M+H]+_BVHLGVCQOALMSV-RLIARQK...</td>\n      <td>155.163000</td>\n      <td>2.357592</td>\n    </tr>\n    <tr>\n      <th>37</th>\n      <td>1_D2-Ornithine iSTD [M+H]+_AHLPHDHHMVZTML-KICN...</td>\n      <td>135.109000</td>\n      <td>2.368060</td>\n    </tr>\n    <tr>\n      <th>38</th>\n      <td>1_D4-Cystine iSTD [M+H]+</td>\n      <td>245.056000</td>\n      <td>2.425293</td>\n    </tr>\n  </tbody>\n</table>\n</div>"
     },
     "execution_count": 67,
     "metadata": {},
     "output_type": "execute_result"
    }
   ],
   "source": [
    "istd_info"
   ],
   "metadata": {
    "collapsed": false,
    "pycharm": {
     "name": "#%%\n"
    }
   }
  },
  {
   "cell_type": "code",
   "execution_count": 84,
   "outputs": [
    {
     "name": "stderr",
     "output_type": "stream",
     "text": [
      "100%|██████████| 39/39 [00:14<00:00,  2.64it/s]\n"
     ]
    }
   ],
   "source": [
    "time_old = []\n",
    "time_new = []\n",
    "for index, row in tqdm(istd_info.iterrows(), total = len(istd_info)):\n",
    "    c1 = time.time()\n",
    "    intensity_list = EIC_fast(row['pmz'], mass_error, mass_sorted, intensity_sorted, index_sorted)\n",
    "    c2 = time.time()\n",
    "    time_new.append(c2-c1)\n",
    "    c3 = time.time()\n",
    "    tt = get_EIC_list(ms1, pmz, mass_error)\n",
    "    c4 = time.time()\n",
    "    time_old.append(c4-c3)\n"
   ],
   "metadata": {
    "collapsed": false,
    "pycharm": {
     "name": "#%%\n"
    }
   }
  },
  {
   "cell_type": "code",
   "execution_count": 85,
   "outputs": [],
   "source": [
    "time_all = time_new+time_old"
   ],
   "metadata": {
    "collapsed": false,
    "pycharm": {
     "name": "#%%\n"
    }
   }
  },
  {
   "cell_type": "code",
   "execution_count": 97,
   "outputs": [],
   "source": [
    "label = ['New_method']*39+['Old_method']*39"
   ],
   "metadata": {
    "collapsed": false,
    "pycharm": {
     "name": "#%%\n"
    }
   }
  },
  {
   "cell_type": "code",
   "execution_count": 98,
   "outputs": [],
   "source": [
    "df = pd.DataFrame(zip(time_all, label), columns=['time', 'label'])"
   ],
   "metadata": {
    "collapsed": false,
    "pycharm": {
     "name": "#%%\n"
    }
   }
  },
  {
   "cell_type": "code",
   "execution_count": 104,
   "outputs": [
    {
     "data": {
      "text/plain": "<Figure size 640x480 with 1 Axes>",
      "image/png": "[encoded data removed]"
     },
     "metadata": {},
     "output_type": "display_data"
    }
   ],
   "source": [
    "ax = sns.boxplot(data=df, x=\"label\", y=\"time\")\n",
    "ax.set_xlabel('')\n",
    "ax.grid(False)\n",
    "plt.savefig(os.path.join(master_dir, 'EIC_comparision.png'), dpi = 300,facecolor = 'none', edgecolor = 'none')"
   ],
   "metadata": {
    "collapsed": false,
    "pycharm": {
     "name": "#%%\n"
    }
   }
  },
  {
   "cell_type": "code",
   "execution_count": 61,
   "outputs": [
    {
     "name": "stdout",
     "output_type": "stream",
     "text": [
      "0.3855738639831543\n"
     ]
    }
   ],
   "source": [
    "start = time.time()\n",
    "rt_list_old, intensity_list_old = get_EIC_list(ms1, pmz, mass_error)\n",
    "end = time.time()\n",
    "print(end-start)"
   ],
   "metadata": {
    "collapsed": false,
    "pycharm": {
     "name": "#%%\n"
    }
   }
  },
  {
   "cell_type": "code",
   "execution_count": 65,
   "outputs": [
    {
     "data": {
      "text/plain": "<Figure size 1000x600 with 1 Axes>",
      "image/png": "[encoded data removed]"
     },
     "metadata": {},
     "output_type": "display_data"
    }
   ],
   "source": [
    "EIC(rt_list, intensity_list)"
   ],
   "metadata": {
    "collapsed": false,
    "pycharm": {
     "name": "#%%\n"
    }
   }
  },
  {
   "cell_type": "code",
   "execution_count": 66,
   "outputs": [
    {
     "data": {
      "text/plain": "<Figure size 1000x600 with 1 Axes>",
      "image/png": "[encoded data removed]"
     },
     "metadata": {},
     "output_type": "display_data"
    }
   ],
   "source": [
    "EIC(rt_list, intensity_list_old)"
   ],
   "metadata": {
    "collapsed": false,
    "pycharm": {
     "name": "#%%\n"
    }
   }
  },
  {
   "cell_type": "code",
   "execution_count": 51,
   "outputs": [
    {
     "data": {
      "text/plain": "32529.919921875"
     },
     "execution_count": 51,
     "metadata": {},
     "output_type": "execute_result"
    }
   ],
   "source": [],
   "metadata": {
    "collapsed": false,
    "pycharm": {
     "name": "#%%\n"
    }
   }
  },
  {
   "cell_type": "code",
   "execution_count": 49,
   "outputs": [
    {
     "data": {
      "text/plain": "32529.919921875"
     },
     "execution_count": 49,
     "metadata": {},
     "output_type": "execute_result"
    }
   ],
   "source": [
    "intensity_list[idx]"
   ],
   "metadata": {
    "collapsed": false,
    "pycharm": {
     "name": "#%%\n"
    }
   }
  },
  {
   "cell_type": "code",
   "execution_count": 12,
   "outputs": [],
   "source": [
    "from toolsets.ff_droup import EIC_fast, EIC"
   ],
   "metadata": {
    "collapsed": false,
    "pycharm": {
     "name": "#%%\n"
    }
   }
  },
  {
   "cell_type": "code",
   "execution_count": 563,
   "outputs": [
    {
     "data": {
      "text/plain": "866"
     },
     "execution_count": 563,
     "metadata": {},
     "output_type": "execute_result"
    }
   ],
   "source": [
    "len(np.unique(index_sorted))"
   ],
   "metadata": {
    "collapsed": false,
    "pycharm": {
     "name": "#%%\n"
    }
   }
  },
  {
   "cell_type": "code",
   "execution_count": 54,
   "outputs": [
    {
     "name": "stdout",
     "output_type": "stream",
     "text": [
      "0.023495912551879883\n"
     ]
    }
   ],
   "source": [
    "start = time.time()\n",
    "tt = EIC_fast(pmz, mass_error, mass_sorted, intensity_sorted, index_sorted)\n",
    "# get_EIC_list(ms1, pmz, mass_error)\n",
    "end = time.time()\n",
    "print(end-start)"
   ],
   "metadata": {
    "collapsed": false,
    "pycharm": {
     "name": "#%%\n"
    }
   }
  },
  {
   "cell_type": "code",
   "execution_count": 19,
   "outputs": [
    {
     "ename": "TypeError",
     "evalue": "list indices must be integers or slices, not list",
     "output_type": "error",
     "traceback": [
      "\u001B[0;31m---------------------------------------------------------------------------\u001B[0m",
      "\u001B[0;31mTypeError\u001B[0m                                 Traceback (most recent call last)",
      "Input \u001B[0;32mIn [19]\u001B[0m, in \u001B[0;36m<cell line: 1>\u001B[0;34m()\u001B[0m\n\u001B[0;32m----> 1\u001B[0m \u001B[38;5;28msum\u001B[39m(\u001B[43mlst\u001B[49m\u001B[43m[\u001B[49m\u001B[43m[\u001B[49m\u001B[38;5;241;43m0\u001B[39;49m\u001B[43m,\u001B[49m\u001B[38;5;241;43m4\u001B[39;49m\u001B[43m,\u001B[49m\u001B[38;5;241;43m5\u001B[39;49m\u001B[43m]\u001B[49m\u001B[43m]\u001B[49m)\n",
      "\u001B[0;31mTypeError\u001B[0m: list indices must be integers or slices, not list"
     ]
    }
   ],
   "source": [
    "sum(lst[[0,4,5]])"
   ],
   "metadata": {
    "collapsed": false,
    "pycharm": {
     "name": "#%%\n"
    }
   }
  },
  {
   "cell_type": "code",
   "execution_count": 14,
   "outputs": [
    {
     "name": "stdout",
     "output_type": "stream",
     "text": [
      "0.3583838939666748\n"
     ]
    }
   ],
   "source": [
    "start = time.time()\n",
    "# tt = EIC_fast(pmz, mass_error, mass_sorted, intensity_sorted, index_sorted)\n",
    "get_EIC_list(ms1, pmz, mass_error)\n",
    "end = time.time()\n",
    "print(end-start)"
   ],
   "metadata": {
    "collapsed": false,
    "pycharm": {
     "name": "#%%\n"
    }
   }
  },
  {
   "cell_type": "code",
   "execution_count": 16,
   "outputs": [
    {
     "data": {
      "text/plain": "6.999999999999999"
     },
     "execution_count": 16,
     "metadata": {},
     "output_type": "execute_result"
    }
   ],
   "source": [
    "0.35/0.05"
   ],
   "metadata": {
    "collapsed": false,
    "pycharm": {
     "name": "#%%\n"
    }
   }
  },
  {
   "cell_type": "code",
   "execution_count": null,
   "outputs": [],
   "source": [
    "get_EIC_list()"
   ],
   "metadata": {
    "collapsed": false,
    "pycharm": {
     "name": "#%%\n"
    }
   }
  },
  {
   "cell_type": "code",
   "execution_count": 551,
   "outputs": [],
   "source": [
    "intensity_indecies = [i for i, x in enumerate(index_range) if x == 311]"
   ],
   "metadata": {
    "collapsed": false,
    "pycharm": {
     "name": "#%%\n"
    }
   }
  },
  {
   "cell_type": "code",
   "execution_count": 552,
   "outputs": [
    {
     "data": {
      "text/plain": "[0]"
     },
     "execution_count": 552,
     "metadata": {},
     "output_type": "execute_result"
    }
   ],
   "source": [
    "intensity_indecies"
   ],
   "metadata": {
    "collapsed": false,
    "pycharm": {
     "name": "#%%\n"
    }
   }
  },
  {
   "cell_type": "code",
   "execution_count": 498,
   "outputs": [],
   "source": [
    "intensity_indecies = [i for i, x in enumerate(index_range) if x == idx]"
   ],
   "metadata": {
    "collapsed": false,
    "pycharm": {
     "name": "#%%\n"
    }
   }
  },
  {
   "cell_type": "code",
   "execution_count": 500,
   "outputs": [
    {
     "data": {
      "text/plain": "[19]"
     },
     "execution_count": 500,
     "metadata": {},
     "output_type": "execute_result"
    }
   ],
   "source": [
    "intensity_indecies"
   ],
   "metadata": {
    "collapsed": false,
    "pycharm": {
     "name": "#%%\n"
    }
   }
  },
  {
   "cell_type": "code",
   "execution_count": 501,
   "outputs": [
    {
     "data": {
      "text/plain": "465590.875"
     },
     "execution_count": 501,
     "metadata": {},
     "output_type": "execute_result"
    }
   ],
   "source": [
    "intensity_sorted[19]"
   ],
   "metadata": {
    "collapsed": false,
    "pycharm": {
     "name": "#%%\n"
    }
   }
  },
  {
   "cell_type": "code",
   "execution_count": 471,
   "outputs": [],
   "source": [
    "rt_list=ms1['rt']"
   ],
   "metadata": {
    "collapsed": false,
    "pycharm": {
     "name": "#%%\n"
    }
   }
  },
  {
   "cell_type": "code",
   "execution_count": 522,
   "outputs": [
    {
     "data": {
      "text/plain": "0.05"
     },
     "execution_count": 522,
     "metadata": {},
     "output_type": "execute_result"
    }
   ],
   "source": [
    "mass_error"
   ],
   "metadata": {
    "collapsed": false,
    "pycharm": {
     "name": "#%%\n"
    }
   }
  },
  {
   "cell_type": "code",
   "execution_count": 540,
   "outputs": [
    {
     "data": {
      "text/plain": "<Figure size 1000x600 with 1 Axes>",
      "image/png": "[encoded data removed]"
     },
     "metadata": {},
     "output_type": "display_data"
    }
   ],
   "source": [
    "rt_list_old, intensity_list_old = get_EIC_list(ms1, pmz, mass_error)\n",
    "EIC(rt_list_old, intensity_list_old)"
   ],
   "metadata": {
    "collapsed": false,
    "pycharm": {
     "name": "#%%\n"
    }
   }
  },
  {
   "cell_type": "code",
   "execution_count": 503,
   "outputs": [
    {
     "data": {
      "text/plain": "<Figure size 1000x600 with 1 Axes>",
      "image/png": "[encoded data removed]"
     },
     "metadata": {},
     "output_type": "display_data"
    }
   ],
   "source": [
    "EIC(rt_list, intensity_list)"
   ],
   "metadata": {
    "collapsed": false,
    "pycharm": {
     "name": "#%%\n"
    }
   }
  },
  {
   "cell_type": "code",
   "execution_count": 463,
   "outputs": [
    {
     "data": {
      "text/plain": "[0,\n 0,\n 0,\n 0,\n 0,\n 0,\n 0,\n 465590.875,\n 0,\n 0,\n 0,\n 0,\n 0,\n 0,\n 0,\n 0,\n 0,\n 401246.875,\n 0,\n 0,\n 0,\n 0,\n 0,\n 0,\n 28312.9296875,\n 0,\n 0,\n 0,\n 0,\n 0,\n 0,\n 0,\n 0,\n 0,\n 0,\n 0,\n 0,\n 0,\n 0,\n 32809.7578125,\n 0,\n 852161.78125,\n 26564.08984375,\n 520766.34375,\n 24829.642578125,\n 4490.53662109375,\n 39555.212890625,\n 551578.828125,\n 2054692.572265625,\n 691770.9189453125,\n 138634.921875,\n 36152.50390625,\n 41667.140625,\n 2376953.75,\n 81064.4990234375,\n 15662.939453125,\n 0,\n 0,\n 533356.875,\n 0,\n 0,\n 265578.4375,\n 520316.46875,\n 0,\n 0,\n 0,\n 0,\n 0,\n 0,\n 0,\n 0,\n 0,\n 0,\n 0,\n 0,\n 0,\n 0,\n 0,\n 0,\n 0,\n 0,\n 0,\n 0,\n 0,\n 0,\n 0,\n 0,\n 0,\n 0,\n 0,\n 0,\n 0,\n 0,\n 0,\n 0,\n 0,\n 0,\n 0,\n 0,\n 0,\n 0,\n 0,\n 0,\n 0,\n 0,\n 0,\n 0,\n 0,\n 0,\n 0,\n 0,\n 0,\n 0,\n 0,\n 0,\n 0,\n 0,\n 0,\n 0,\n 0,\n 0,\n 0,\n 0,\n 0,\n 0,\n 0,\n 95811.3671875,\n 0,\n 0,\n 0,\n 0,\n 0,\n 0,\n 0,\n 0,\n 0,\n 0,\n 0,\n 0,\n 0,\n 0,\n 0,\n 5132.1494140625,\n 0,\n 0,\n 0,\n 0,\n 0,\n 0,\n 0,\n 0,\n 0,\n 0,\n 0,\n 0,\n 0,\n 0,\n 0,\n 0,\n 0,\n 0,\n 0,\n 0,\n 0,\n 0,\n 0,\n 0,\n 0,\n 0,\n 0,\n 0,\n 0,\n 0,\n 0,\n 0,\n 0,\n 0,\n 0,\n 0,\n 0,\n 0,\n 0,\n 0,\n 0,\n 20778.9296875,\n 0,\n 0,\n 0,\n 0,\n 0,\n 0,\n 0,\n 0,\n 0,\n 0,\n 0,\n 0,\n 0,\n 0,\n 0,\n 0,\n 0,\n 0,\n 0,\n 0,\n 0,\n 0,\n 0,\n 0,\n 0,\n 0,\n 0,\n 0,\n 0,\n 0,\n 0,\n 0,\n 0,\n 0,\n 0,\n 0,\n 0,\n 0,\n 0,\n 0,\n 36505.73828125,\n 0,\n 0,\n 182883.5,\n 0,\n 0,\n 0,\n 5008.78271484375,\n 0,\n 0,\n 0,\n 539658.375,\n 0,\n 0,\n 0,\n 0,\n 0,\n 0,\n 0,\n 0,\n 0,\n 0,\n 0,\n 0,\n 0,\n 0,\n 0,\n 0,\n 0,\n 0,\n 0,\n 0,\n 0,\n 0,\n 0,\n 0,\n 0,\n 0,\n 0,\n 0,\n 0,\n 0,\n 0,\n 0,\n 0,\n 0,\n 0,\n 0,\n 0,\n 0,\n 0,\n 0,\n 0,\n 0,\n 0,\n 0,\n 0,\n 0,\n 0,\n 0,\n 0,\n 0,\n 0,\n 0,\n 0,\n 0,\n 0,\n 0,\n 0,\n 0,\n 0,\n 0,\n 0,\n 0,\n 0,\n 0,\n 0,\n 0,\n 0,\n 0,\n 0,\n 0,\n 0,\n 0,\n 0,\n 0,\n 18484.279296875,\n 0,\n 0,\n 0,\n 0,\n 0,\n 0,\n 0,\n 0,\n 0,\n 0,\n 0,\n 0,\n 0,\n 0,\n 0,\n 0,\n 0,\n 0,\n 0,\n 0,\n 0,\n 0,\n 0,\n 0,\n 0,\n 0,\n 0,\n 0,\n 0,\n 0,\n 0,\n 0,\n 0,\n 0,\n 0,\n 0,\n 0,\n 0,\n 0,\n 0,\n 0,\n 0,\n 0,\n 0,\n 0,\n 0,\n 0,\n 0,\n 0,\n 0,\n 0,\n 0,\n 0,\n 47594.140625,\n 15807.2236328125,\n 315926.46875,\n 908738.8125,\n 0,\n 38306.9609375,\n 0,\n 0,\n 0,\n 0,\n 0,\n 0,\n 0,\n 0,\n 0,\n 21657.234375,\n 189769.5,\n 0,\n 0,\n 0,\n 0,\n 0,\n 0,\n 0,\n 0,\n 0,\n 0,\n 0,\n 0,\n 0,\n 0,\n 0,\n 0,\n 0,\n 0,\n 0,\n 0,\n 0,\n 0,\n 0,\n 0,\n 0,\n 0,\n 0,\n 0,\n 0,\n 0,\n 0,\n 0,\n 0,\n 0,\n 0,\n 0,\n 0,\n 0,\n 0,\n 0,\n 0,\n 0,\n 0,\n 0,\n 0,\n 0,\n 0,\n 0,\n 0,\n 0,\n 0,\n 0,\n 0,\n 0,\n 0,\n 0,\n 0,\n 19685.564453125,\n 0,\n 0,\n 0,\n 0,\n 0,\n 0,\n 0,\n 0,\n 0,\n 0,\n 0,\n 0,\n 0,\n 0,\n 0,\n 0,\n 0,\n 0,\n 0,\n 0,\n 0,\n 0,\n 0,\n 0,\n 0,\n 0,\n 0,\n 0,\n 0,\n 0,\n 0,\n 0,\n 0,\n 0,\n 0,\n 0,\n 0,\n 0,\n 0,\n 0,\n 0,\n 0,\n 0,\n 0,\n 0,\n 0,\n 0,\n 0,\n 0,\n 0,\n 0,\n 0,\n 0,\n 0,\n 0,\n 0,\n 0,\n 0,\n 0,\n 0,\n 0,\n 0,\n 0,\n 0,\n 0,\n 0,\n 0,\n 0,\n 0,\n 0,\n 0,\n 0,\n 0,\n 0,\n 0,\n 0,\n 0,\n 0,\n 0,\n 0,\n 0,\n 0,\n 0,\n 0,\n 0,\n 0,\n 0,\n 0,\n 0,\n 0,\n 0,\n 0,\n 0,\n 0,\n 0,\n 0,\n 0,\n 0,\n 0,\n 0,\n 0,\n 0,\n 0,\n 0,\n 0,\n 0,\n 0,\n 0,\n 0,\n 0,\n 0,\n 0,\n 0,\n 0,\n 0,\n 0,\n 0,\n 0,\n 0,\n 0,\n 0,\n 0,\n 0,\n 0,\n 0,\n 0,\n 0,\n 0,\n 0,\n 0,\n 0,\n 0,\n 0,\n 0,\n 0,\n 0,\n 0,\n 0,\n 0,\n 0,\n 1288145.125,\n 0,\n 0,\n 0,\n 0,\n 0,\n 0,\n 0,\n 0,\n 0,\n 0,\n 0,\n 42760.291015625,\n 0,\n 17840.3134765625,\n 0,\n 0,\n 0,\n 0,\n 0,\n 0,\n 0,\n 0,\n 0,\n 0,\n 0,\n 0,\n 0,\n 0,\n 0,\n 0,\n 0,\n 0,\n 0,\n 0,\n 0,\n 0,\n 0,\n 0,\n 0,\n 0,\n 0,\n 0,\n 0,\n 0,\n 0,\n 0,\n 0,\n 0,\n 0,\n 0,\n 0,\n 0,\n 0,\n 0,\n 0,\n 0,\n 0,\n 0,\n 0,\n 0,\n 0,\n 0,\n 0,\n 0,\n 0,\n 0,\n 4224.8154296875,\n 0,\n 0,\n 0,\n 0,\n 0,\n 0,\n 0,\n 172152.0,\n 0,\n 0,\n 0,\n 0,\n 0,\n 0,\n 0,\n 0,\n 0,\n 0,\n 0,\n 0,\n 0,\n 0,\n 0,\n 0,\n 0,\n 0,\n 0,\n 0,\n 0,\n 0,\n 0,\n 0,\n 0,\n 0,\n 0,\n 0,\n 0,\n 0,\n 0,\n 0,\n 0,\n 0,\n 0,\n 0,\n 0,\n 0,\n 0,\n 0,\n 0,\n 0,\n 0,\n 0,\n 0,\n 0,\n 0,\n 0,\n 0,\n 0,\n 0,\n 0,\n 0,\n 0,\n 0,\n 0,\n 0,\n 0,\n 0,\n 0,\n 0,\n 0,\n 0,\n 0,\n 0,\n 0,\n 0,\n 0,\n 0,\n 0,\n 0,\n 0,\n 0,\n 0,\n 0,\n 0,\n 0,\n 0,\n 0,\n 0,\n 0,\n 0,\n 0,\n 0,\n 0,\n 0,\n 0,\n 0,\n 0,\n 0,\n 0,\n 0,\n 0,\n 0,\n 0,\n 0,\n 0,\n 0,\n 0,\n 0,\n 0,\n 0,\n 0,\n 0,\n 0,\n 0,\n 0,\n 0,\n 0,\n 0,\n 0,\n 0,\n 0,\n 0,\n 0,\n 0,\n 0,\n 0,\n 0,\n 0,\n 0,\n 0,\n 0,\n 0,\n 0,\n 0,\n 0,\n 0,\n 0,\n 0,\n 0,\n 0,\n 0,\n 0,\n 0,\n 0,\n 0,\n 0,\n 0,\n 0,\n 0,\n 0,\n 0,\n 0,\n 20198.265625,\n 0,\n 0,\n 0,\n 0,\n 0,\n 0,\n 0,\n 0,\n 0,\n 0,\n 112554.8046875,\n 0,\n 0,\n 0,\n 0,\n 0,\n 0,\n 0,\n 0,\n 0,\n 0,\n 0,\n 0,\n 0,\n 0,\n 0,\n 0,\n 0,\n 0,\n 155534.359375,\n 0,\n 6786.93408203125,\n 0,\n 0,\n 0,\n 0,\n 0,\n 0,\n 0,\n 0,\n 0,\n 0,\n 0,\n 0,\n 0,\n 0,\n 0,\n 0,\n 0,\n 0,\n 234511.53125,\n 0,\n 0,\n 0,\n 0,\n 0,\n 0,\n 23101.58984375,\n 13720.578125,\n 0,\n 0,\n 56991.6953125,\n 0,\n 0,\n 0]"
     },
     "execution_count": 463,
     "metadata": {},
     "output_type": "execute_result"
    }
   ],
   "source": [
    "intensity_list"
   ],
   "metadata": {
    "collapsed": false,
    "pycharm": {
     "name": "#%%\n"
    }
   }
  },
  {
   "cell_type": "code",
   "execution_count": 456,
   "outputs": [],
   "source": [
    "indices = [i for i, x in enumerate(index_range) if x == 48]"
   ],
   "metadata": {
    "collapsed": false,
    "pycharm": {
     "name": "#%%\n"
    }
   }
  },
  {
   "cell_type": "code",
   "execution_count": 457,
   "outputs": [
    {
     "data": {
      "text/plain": "[11, 39, 45, 46]"
     },
     "execution_count": 457,
     "metadata": {},
     "output_type": "execute_result"
    }
   ],
   "source": [
    "indices"
   ],
   "metadata": {
    "collapsed": false,
    "pycharm": {
     "name": "#%%\n"
    }
   }
  },
  {
   "cell_type": "code",
   "execution_count": null,
   "outputs": [],
   "source": [],
   "metadata": {
    "collapsed": false,
    "pycharm": {
     "name": "#%%\n"
    }
   }
  },
  {
   "cell_type": "code",
   "execution_count": 404,
   "outputs": [
    {
     "data": {
      "text/plain": "     ms_level  precursor_mz  charge        rt  \\\n186         2    270.149719       1  1.621691   \n245         2    270.149842       1  1.522918   \n\n                                            mix  \\\n186  Schebesta0859_MX741718_posBA_apbDXM9P3-672   \n245  Schebesta0859_MX741718_posBA_apbDXM9P3-672   \n\n                                           base_name  rt_offset  rt_start  \\\n186  Schebesta0859_MX741718_posBA_apbDXM9P3-672.mzML   0.009368  1.601438   \n245  Schebesta0859_MX741718_posBA_apbDXM9P3-672.mzML   0.014923  1.476499   \n\n       rt_end  peak_apex_intensity  \\\n186  1.664141         1.362319e+06   \n245  1.601438         6.602220e+07   \n\n                                                  msms  \\\n186  83.06055450439453\\t4035.90478515625\\n84.044548...   \n245  70.21533966064453\\t18197.61328125\\n83.06021881...   \n\n                                               wa_msms           snr  \\\n186  83.06055450439453\\t0.010310436655861337\\n84.04...   1446.214819   \n245  68.17131805419922\\t0.00011383552432514855\\n70....  50074.381561   \n\n      peak_range_idx       ms2_range_idx     pmz_bin  \n186  [374, 378, 388]              [1135]  270.149841  \n245  [345, 356, 374]  [1057, 1084, 1111]  270.149841  ",
      "text/html": "<div>\n<style scoped>\n    .dataframe tbody tr th:only-of-type {\n        vertical-align: middle;\n    }\n\n    .dataframe tbody tr th {\n        vertical-align: top;\n    }\n\n    .dataframe thead th {\n        text-align: right;\n    }\n</style>\n<table border=\"1\" class=\"dataframe\">\n  <thead>\n    <tr style=\"text-align: right;\">\n      <th></th>\n      <th>ms_level</th>\n      <th>precursor_mz</th>\n      <th>charge</th>\n      <th>rt</th>\n      <th>mix</th>\n      <th>base_name</th>\n      <th>rt_offset</th>\n      <th>rt_start</th>\n      <th>rt_end</th>\n      <th>peak_apex_intensity</th>\n      <th>msms</th>\n      <th>wa_msms</th>\n      <th>snr</th>\n      <th>peak_range_idx</th>\n      <th>ms2_range_idx</th>\n      <th>pmz_bin</th>\n    </tr>\n  </thead>\n  <tbody>\n    <tr>\n      <th>186</th>\n      <td>2</td>\n      <td>270.149719</td>\n      <td>1</td>\n      <td>1.621691</td>\n      <td>Schebesta0859_MX741718_posBA_apbDXM9P3-672</td>\n      <td>Schebesta0859_MX741718_posBA_apbDXM9P3-672.mzML</td>\n      <td>0.009368</td>\n      <td>1.601438</td>\n      <td>1.664141</td>\n      <td>1.362319e+06</td>\n      <td>83.06055450439453\\t4035.90478515625\\n84.044548...</td>\n      <td>83.06055450439453\\t0.010310436655861337\\n84.04...</td>\n      <td>1446.214819</td>\n      <td>[374, 378, 388]</td>\n      <td>[1135]</td>\n      <td>270.149841</td>\n    </tr>\n    <tr>\n      <th>245</th>\n      <td>2</td>\n      <td>270.149842</td>\n      <td>1</td>\n      <td>1.522918</td>\n      <td>Schebesta0859_MX741718_posBA_apbDXM9P3-672</td>\n      <td>Schebesta0859_MX741718_posBA_apbDXM9P3-672.mzML</td>\n      <td>0.014923</td>\n      <td>1.476499</td>\n      <td>1.601438</td>\n      <td>6.602220e+07</td>\n      <td>70.21533966064453\\t18197.61328125\\n83.06021881...</td>\n      <td>68.17131805419922\\t0.00011383552432514855\\n70....</td>\n      <td>50074.381561</td>\n      <td>[345, 356, 374]</td>\n      <td>[1057, 1084, 1111]</td>\n      <td>270.149841</td>\n    </tr>\n  </tbody>\n</table>\n</div>"
     },
     "execution_count": 404,
     "metadata": {},
     "output_type": "execute_result"
    }
   ],
   "source": [
    "pmz = 270.150225\n",
    "quick_search_values(features_all, 'precursor_mz', pmz-0.05, pmz+0.05)\n"
   ],
   "metadata": {
    "collapsed": false,
    "pycharm": {
     "name": "#%%\n"
    }
   }
  },
  {
   "cell_type": "code",
   "execution_count": 407,
   "outputs": [
    {
     "data": {
      "text/plain": "<Figure size 1000x600 with 1 Axes>",
      "image/png": "[encoded data removed]"
     },
     "metadata": {},
     "output_type": "display_data"
    }
   ],
   "source": [
    "start = time.time()\n",
    "rt_list, intensity_list = get_EIC_list(ms1, pmz, 0.05)\n",
    "end = time.time()\n",
    "EIC(rt_list, intensity_list,\n",
    "    # vlines_location_1=[0.212313],\n",
    "    vlines_location_2=[1.52, 1.62],\n",
    "    rt_start=1.4, rt_end=1.7\n",
    "    )"
   ],
   "metadata": {
    "collapsed": false,
    "pycharm": {
     "name": "#%%\n"
    }
   }
  },
  {
   "cell_type": "code",
   "execution_count": 361,
   "outputs": [
    {
     "name": "stdout",
     "output_type": "stream",
     "text": [
      "0.41251301765441895\n"
     ]
    }
   ],
   "source": [
    "start = time.time()\n",
    "rt_list, intensity_list = get_EIC_list(ms1, pmz, 0.05)\n",
    "end = time.time()\n",
    "print(end-start)"
   ],
   "metadata": {
    "collapsed": false,
    "pycharm": {
     "name": "#%%\n"
    }
   }
  },
  {
   "cell_type": "code",
   "execution_count": 363,
   "outputs": [
    {
     "data": {
      "text/plain": "<Figure size 1000x600 with 1 Axes>",
      "image/png": "[encoded data removed]"
     },
     "metadata": {},
     "output_type": "display_data"
    }
   ],
   "source": [
    "EIC(rt_list, intensity_list,\n",
    "    vlines_location_1=[0.2506],\n",
    "    # rt_start=0.3, rt_end=0.5\n",
    "    )\n"
   ],
   "metadata": {
    "collapsed": false,
    "pycharm": {
     "name": "#%%\n"
    }
   }
  },
  {
   "cell_type": "code",
   "execution_count": 337,
   "outputs": [],
   "source": [
    "mass, intensity = so.break_spectra(scan)"
   ],
   "metadata": {
    "collapsed": false,
    "pycharm": {
     "name": "#%%\n"
    }
   }
  },
  {
   "cell_type": "code",
   "execution_count": 338,
   "outputs": [],
   "source": [
    "p = get_peaks(intensity_list)"
   ],
   "metadata": {
    "collapsed": false,
    "pycharm": {
     "name": "#%%\n"
    }
   }
  },
  {
   "cell_type": "code",
   "execution_count": 349,
   "outputs": [],
   "source": [
    "mass_master = []\n",
    "for index, row in ms1.iterrows():\n",
    "    mass, intensity = so.break_spectra(row['peaks'])\n",
    "    mass_master.append(mass)"
   ],
   "metadata": {
    "collapsed": false,
    "pycharm": {
     "name": "#%%\n"
    }
   }
  },
  {
   "cell_type": "code",
   "execution_count": null,
   "outputs": [],
   "source": [],
   "metadata": {
    "collapsed": false,
    "pycharm": {
     "name": "#%%\n"
    }
   }
  },
  {
   "cell_type": "code",
   "execution_count": 346,
   "outputs": [
    {
     "data": {
      "text/plain": "196.1698455810547"
     },
     "execution_count": 346,
     "metadata": {},
     "output_type": "execute_result"
    }
   ],
   "source": [
    "mass[521]"
   ],
   "metadata": {
    "collapsed": false,
    "pycharm": {
     "name": "#%%\n"
    }
   }
  }
 ],
 "metadata": {
  "kernelspec": {
   "name": "alphapept_env",
   "language": "python",
   "display_name": "alphapept_env"
  },
  "language_info": {
   "codemirror_mode": {
    "name": "ipython",
    "version": 2
   },
   "file_extension": ".py",
   "mimetype": "text/x-python",
   "name": "python",
   "nbconvert_exporter": "python",
   "pygments_lexer": "ipython2",
   "version": "2.7.6"
  }
 },
 "nbformat": 4,
 "nbformat_minor": 0
}