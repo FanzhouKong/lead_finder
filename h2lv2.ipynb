{
 "cells": [
  {
   "cell_type": "code",
   "execution_count": 8,
   "metadata": {
    "collapsed": true,
    "ExecuteTime": {
     "end_time": "2023-07-26T00:44:15.693954Z",
     "start_time": "2023-07-26T00:44:15.584589Z"
    }
   },
   "outputs": [
    {
     "name": "stdout",
     "output_type": "stream",
     "text": [
      "The autoreload extension is already loaded. To reload it, use:\n",
      "  %reload_ext autoreload\n"
     ]
    }
   ],
   "source": [
    "import os\n",
    "import sys\n",
    "import numpy as np\n",
    "import pandas as pd\n",
    "%load_ext autoreload\n",
    "%autoreload 2\n",
    "import toolsets.spectra_operations as so\n",
    "from toolsets.file_io import get_file_list, readin_peak_list, prepare_sample_list\n",
    "from toolsets.ff_droup import process_mzml, get_EIC_list, EIC\n",
    "from toolsets.feature_alignment import initilize_pmz_rt_list, find_feature, find_istd, clean_bad_features\n",
    "from feature_normalization.rt_normalization import rt_normalization\n",
    "from tqdm import tqdm\n",
    "# from toolsets.feature_alignment import\n",
    "from toolsets.search import quick_search_values, string_search\n",
    "# from feature_finding.feature_finding_alphapept import find_feature"
   ]
  },
  {
   "cell_type": "code",
   "execution_count": 4,
   "outputs": [],
   "source": [
    "peak_list_dir = '/Volumes/Natural Product Chemistry/Working Space/Fanzhou/20230607_NQ_Development_H2Lv2/peak_list/pos'\n",
    "istd_info = pd.read_csv(os.path.join('/Volumes/Natural Product Chemistry/Working Space/Fanzhou/20230607_NQ_Development_H2Lv2', 'istd_info.csv'))\n",
    "mzml_dir ='/Volumes/Natural Product Chemistry/Working Space/Fanzhou/20230607_NQ_Development_H2Lv2/mzml/pos'"
   ],
   "metadata": {
    "collapsed": false,
    "ExecuteTime": {
     "end_time": "2023-07-26T00:43:00.566931Z",
     "start_time": "2023-07-26T00:43:00.056878Z"
    }
   }
  },
  {
   "cell_type": "code",
   "execution_count": 13,
   "outputs": [
    {
     "data": {
      "text/plain": "   compound_name   mono_mass  RT_suggested  Precursor m/z\n0         C4-APS  215.061614          1.18     216.068890\n1         C5-APS  229.077265          2.13     230.084541\n2         C6-APS  243.092915          2.84     244.100191\n3         C7-APS  257.108565          3.42     258.115841\n4         C8-APS  271.124215          4.00     272.131491\n5         C9-APS  285.139865          4.46     286.147141\n6        C10-APS  299.155515          4.91     300.162791\n7        C11-APS  313.171165          5.28     314.178441\n8        C12-APS  327.186815          5.68     328.194091\n9        C13-APS  341.202465          6.03     342.209741\n10       C14-APS  355.218115          6.41     356.225391\n11       C15-APS  369.233765          6.76     370.241041\n12       C16-APS  383.249415          7.09     384.256691\n13       C17-APS  397.265065          7.42     398.272341\n14       C18-APS  411.280715          7.74     412.287991\n15       C19-APS  425.296365          8.03     426.303641\n16       C20-APS  439.312015          8.29     440.319291",
      "text/html": "<div>\n<style scoped>\n    .dataframe tbody tr th:only-of-type {\n        vertical-align: middle;\n    }\n\n    .dataframe tbody tr th {\n        vertical-align: top;\n    }\n\n    .dataframe thead th {\n        text-align: right;\n    }\n</style>\n<table border=\"1\" class=\"dataframe\">\n  <thead>\n    <tr style=\"text-align: right;\">\n      <th></th>\n      <th>compound_name</th>\n      <th>mono_mass</th>\n      <th>RT_suggested</th>\n      <th>Precursor m/z</th>\n    </tr>\n  </thead>\n  <tbody>\n    <tr>\n      <th>0</th>\n      <td>C4-APS</td>\n      <td>215.061614</td>\n      <td>1.18</td>\n      <td>216.068890</td>\n    </tr>\n    <tr>\n      <th>1</th>\n      <td>C5-APS</td>\n      <td>229.077265</td>\n      <td>2.13</td>\n      <td>230.084541</td>\n    </tr>\n    <tr>\n      <th>2</th>\n      <td>C6-APS</td>\n      <td>243.092915</td>\n      <td>2.84</td>\n      <td>244.100191</td>\n    </tr>\n    <tr>\n      <th>3</th>\n      <td>C7-APS</td>\n      <td>257.108565</td>\n      <td>3.42</td>\n      <td>258.115841</td>\n    </tr>\n    <tr>\n      <th>4</th>\n      <td>C8-APS</td>\n      <td>271.124215</td>\n      <td>4.00</td>\n      <td>272.131491</td>\n    </tr>\n    <tr>\n      <th>5</th>\n      <td>C9-APS</td>\n      <td>285.139865</td>\n      <td>4.46</td>\n      <td>286.147141</td>\n    </tr>\n    <tr>\n      <th>6</th>\n      <td>C10-APS</td>\n      <td>299.155515</td>\n      <td>4.91</td>\n      <td>300.162791</td>\n    </tr>\n    <tr>\n      <th>7</th>\n      <td>C11-APS</td>\n      <td>313.171165</td>\n      <td>5.28</td>\n      <td>314.178441</td>\n    </tr>\n    <tr>\n      <th>8</th>\n      <td>C12-APS</td>\n      <td>327.186815</td>\n      <td>5.68</td>\n      <td>328.194091</td>\n    </tr>\n    <tr>\n      <th>9</th>\n      <td>C13-APS</td>\n      <td>341.202465</td>\n      <td>6.03</td>\n      <td>342.209741</td>\n    </tr>\n    <tr>\n      <th>10</th>\n      <td>C14-APS</td>\n      <td>355.218115</td>\n      <td>6.41</td>\n      <td>356.225391</td>\n    </tr>\n    <tr>\n      <th>11</th>\n      <td>C15-APS</td>\n      <td>369.233765</td>\n      <td>6.76</td>\n      <td>370.241041</td>\n    </tr>\n    <tr>\n      <th>12</th>\n      <td>C16-APS</td>\n      <td>383.249415</td>\n      <td>7.09</td>\n      <td>384.256691</td>\n    </tr>\n    <tr>\n      <th>13</th>\n      <td>C17-APS</td>\n      <td>397.265065</td>\n      <td>7.42</td>\n      <td>398.272341</td>\n    </tr>\n    <tr>\n      <th>14</th>\n      <td>C18-APS</td>\n      <td>411.280715</td>\n      <td>7.74</td>\n      <td>412.287991</td>\n    </tr>\n    <tr>\n      <th>15</th>\n      <td>C19-APS</td>\n      <td>425.296365</td>\n      <td>8.03</td>\n      <td>426.303641</td>\n    </tr>\n    <tr>\n      <th>16</th>\n      <td>C20-APS</td>\n      <td>439.312015</td>\n      <td>8.29</td>\n      <td>440.319291</td>\n    </tr>\n  </tbody>\n</table>\n</div>"
     },
     "execution_count": 13,
     "metadata": {},
     "output_type": "execute_result"
    }
   ],
   "source": [
    "istd_info"
   ],
   "metadata": {
    "collapsed": false,
    "ExecuteTime": {
     "end_time": "2023-07-26T00:45:24.590199Z",
     "start_time": "2023-07-26T00:45:24.536611Z"
    }
   }
  },
  {
   "cell_type": "code",
   "execution_count": 5,
   "outputs": [],
   "source": [
    "all_lst = get_file_list(peak_list_dir, '.txt')\n",
    "fractions, qcs, blks = prepare_sample_list(all_lst)"
   ],
   "metadata": {
    "collapsed": false,
    "ExecuteTime": {
     "end_time": "2023-07-26T00:43:02.142236Z",
     "start_time": "2023-07-26T00:43:01.716792Z"
    }
   }
  },
  {
   "cell_type": "code",
   "execution_count": 6,
   "outputs": [],
   "source": [
    "rt_seed =qcs[0]"
   ],
   "metadata": {
    "collapsed": false,
    "ExecuteTime": {
     "end_time": "2023-07-26T00:43:03.064490Z",
     "start_time": "2023-07-26T00:43:03.030408Z"
    }
   }
  },
  {
   "cell_type": "code",
   "execution_count": 46,
   "outputs": [],
   "source": [
    "normalized_folder ='/Volumes/Natural Product Chemistry/Working Space/Fanzhou/20230607_NQ_Development_H2Lv2/normalized_peak_list/pos'\n"
   ],
   "metadata": {
    "collapsed": false,
    "ExecuteTime": {
     "end_time": "2023-07-26T17:05:23.477790Z",
     "start_time": "2023-07-26T17:05:23.428835Z"
    }
   }
  },
  {
   "cell_type": "code",
   "execution_count": 48,
   "outputs": [
    {
     "name": "stderr",
     "output_type": "stream",
     "text": [
      "100%|██████████| 64/64 [04:23<00:00,  4.11s/it]\n"
     ]
    }
   ],
   "source": [
    "rt_report, intensity_report = rt_normalization(all_lst, rt_seed, istd_info, peak_list_dir, normalized_folder)"
   ],
   "metadata": {
    "collapsed": false,
    "ExecuteTime": {
     "end_time": "2023-07-26T17:10:54.951262Z",
     "start_time": "2023-07-26T17:06:30.147636Z"
    }
   }
  },
  {
   "cell_type": "code",
   "execution_count": 43,
   "outputs": [
    {
     "data": {
      "text/plain": "   compound_name  Precursor m/z    Blank_01_P    Blank_03_P    Blank_05_P  \\\n0         C4-APS     216.068890  3.781587e+05  3.613272e+05  3.155033e+05   \n1         C5-APS     230.084541  1.088050e+06  1.135869e+06  9.938193e+05   \n2         C6-APS     244.100191  1.735041e+06  1.705419e+06  1.529028e+06   \n3         C7-APS     258.115841  2.599787e+06  2.389187e+06  2.168283e+06   \n4         C8-APS     272.131491  3.158670e+06  3.081789e+06  2.937429e+06   \n5         C9-APS     286.147141  4.038155e+06  3.747327e+06  3.497249e+06   \n6        C10-APS     300.162791  4.182901e+06  4.024702e+06  3.666486e+06   \n7        C11-APS     314.178441  4.206842e+06  4.167540e+06  3.681939e+06   \n8        C12-APS     328.194091  5.037327e+06  4.681847e+06  4.137763e+06   \n9        C13-APS     342.209741  5.498324e+06  5.394031e+06  4.941260e+06   \n10       C14-APS     356.225391  7.185878e+06  6.637174e+06  6.048331e+06   \n11       C15-APS     370.241041  6.803981e+06  6.333879e+06  5.917868e+06   \n12       C16-APS     384.256691  6.145347e+06  6.021256e+06  5.031411e+06   \n13       C17-APS     398.272341  7.168706e+06  7.058430e+06  6.561875e+06   \n14       C18-APS     412.287991  9.132991e+06  9.397782e+06  8.057879e+06   \n15       C19-APS     426.303641  1.024119e+07  1.003373e+07  9.202435e+06   \n16       C20-APS     440.319291  1.097153e+07  1.059685e+07  9.397404e+06   \n\n      Blank_06_P     Blank07_P      C18_X0_P      C18_X1_P      C18_X2_P  ...  \\\n0   2.869716e+05  1.876476e+05  3.884992e+05  2.701241e+05  1.678826e+05  ...   \n1   9.554573e+05  7.485117e+05  9.769071e+05  8.991911e+05  6.390338e+05  ...   \n2   1.501010e+06  1.318973e+06  1.568732e+06  1.715274e+06  1.444545e+06  ...   \n3   2.132862e+06  2.190769e+06  2.274721e+06  2.452437e+06  2.260113e+06  ...   \n4   2.892142e+06  2.938322e+06  2.957386e+06  3.148137e+06  2.898418e+06  ...   \n5   3.499696e+06  3.676590e+06  3.695419e+06  3.847768e+06  3.823006e+06  ...   \n6   3.529744e+06  3.985736e+06  3.882978e+06  3.907638e+06  3.925286e+06  ...   \n7   3.553012e+06  3.992314e+06  3.858511e+06  4.344734e+06  3.737850e+06  ...   \n8   4.024459e+06  4.247660e+06  4.367570e+06  4.599154e+06  4.100811e+06  ...   \n9   4.831060e+06  4.969449e+06  5.387327e+06  5.470496e+06  5.272122e+06  ...   \n10  6.054338e+06  6.300630e+06  6.441798e+06  6.475508e+06  6.119435e+06  ...   \n11  5.406368e+06  6.890324e+06  6.257836e+06  6.504290e+06  5.968168e+06  ...   \n12  5.015424e+06  6.149655e+06  5.812730e+06  5.967682e+06  5.509716e+06  ...   \n13  6.433498e+06  7.049646e+06  6.970543e+06  7.005360e+06  6.811874e+06  ...   \n14  8.194338e+06  8.913634e+06  8.759727e+06  9.307073e+06  8.515602e+06  ...   \n15  8.862289e+06  9.861315e+06  9.532750e+06  9.786382e+06  9.622891e+06  ...   \n16  9.811711e+06  1.068676e+07  1.019321e+07  1.042716e+07  1.035698e+07  ...   \n\n       Si_X17_P      Si_X18_P       Si_X2_P       Si_X3_P       Si_X4_P  \\\n0    304734.500  2.867443e+05  3.580019e+05  3.479255e+05  1.539706e+05   \n1    993212.000  9.715478e+05  1.079947e+06  9.359160e+05  7.627746e+05   \n2   1577235.875  1.492449e+06  1.592284e+06  1.399875e+06  1.213614e+06   \n3   2240836.500  2.111489e+06  2.357718e+06  2.128141e+06  1.978900e+06   \n4   2969532.750  2.841816e+06  3.043720e+06  2.698523e+06  2.734577e+06   \n5   3530315.250  3.504540e+06  3.782805e+06  3.458427e+06  3.255558e+06   \n6   3716882.750  3.737624e+06  3.971896e+06  3.587894e+06  3.648882e+06   \n7   3761563.750  3.579442e+06  4.022950e+06  3.385258e+06  3.319468e+06   \n8   4083201.000  3.972204e+06  4.269070e+06  3.785298e+06  3.704217e+06   \n9   5385141.500  4.949184e+06  5.301538e+06  4.484334e+06  4.783722e+06   \n10  5993821.500  5.618726e+06  5.991224e+06  5.253662e+06  5.542793e+06   \n11  5734294.000  5.757724e+06  5.825730e+06  5.086436e+06  4.814705e+06   \n12  5373044.500  5.273476e+06  5.763729e+06  4.835512e+06  4.387506e+06   \n13  7040022.000  6.653144e+06  6.469576e+06  5.967862e+06  5.527585e+06   \n14  8523464.000  8.387651e+06  8.124370e+06  6.599300e+06  6.181569e+06   \n15  8875057.000  8.898381e+06  9.056897e+06  7.387508e+06  6.615697e+06   \n16  9357027.000  9.830576e+06  1.005871e+07  8.216913e+06  7.248650e+06   \n\n        Si_X5_P       Si_X6_P       Si_X7_P      Si_X8_P      Si_X9_P  \n0    259428.250  2.620190e+05  3.254392e+05   302175.625   317076.250  \n1    693395.625  8.001813e+05  8.786748e+05   805933.750   799783.500  \n2   1168062.375  9.805344e+05  1.036658e+06  1106075.375  1163224.375  \n3   2049826.000  2.025782e+06  1.947493e+06  1896480.875  2001679.750  \n4   2826243.500  2.900040e+06  2.816929e+06  2738295.750  2740549.750  \n5   3227547.500  3.429204e+06  3.320554e+06  3306515.000  3041449.250  \n6   3305637.250  3.376282e+06  3.487328e+06  3582794.750  3396769.000  \n7   3359830.250  3.292014e+06  3.569781e+06  3627840.000  3442885.000  \n8   3610325.500  3.915956e+06  3.883396e+06  3866427.500  3920202.500  \n9   4684735.000  4.521060e+06  4.603028e+06  4754058.500  4677592.000  \n10  5248187.500  4.968962e+06  5.716302e+06  5630786.500  5567850.500  \n11  5327915.000  5.360066e+06  5.700029e+06  5815061.000  5376486.000  \n12  4846854.000  5.084242e+06  5.019441e+06  4869745.000  4873043.500  \n13  6003991.000  5.693124e+06  6.095942e+06  5939422.500  6039201.500  \n14  6760999.000  7.084058e+06  7.843232e+06  8055964.500  7874172.500  \n15  7829822.000  8.161646e+06  8.188219e+06  8014017.000  8277979.000  \n16  7872493.000  8.198573e+06  8.844039e+06  9156802.000  9522087.000  \n\n[17 rows x 65 columns]",
      "text/html": "<div>\n<style scoped>\n    .dataframe tbody tr th:only-of-type {\n        vertical-align: middle;\n    }\n\n    .dataframe tbody tr th {\n        vertical-align: top;\n    }\n\n    .dataframe thead th {\n        text-align: right;\n    }\n</style>\n<table border=\"1\" class=\"dataframe\">\n  <thead>\n    <tr style=\"text-align: right;\">\n      <th></th>\n      <th>compound_name</th>\n      <th>Precursor m/z</th>\n      <th>Blank_01_P</th>\n      <th>Blank_03_P</th>\n      <th>Blank_05_P</th>\n      <th>Blank_06_P</th>\n      <th>Blank07_P</th>\n      <th>C18_X0_P</th>\n      <th>C18_X1_P</th>\n      <th>C18_X2_P</th>\n      <th>...</th>\n      <th>Si_X17_P</th>\n      <th>Si_X18_P</th>\n      <th>Si_X2_P</th>\n      <th>Si_X3_P</th>\n      <th>Si_X4_P</th>\n      <th>Si_X5_P</th>\n      <th>Si_X6_P</th>\n      <th>Si_X7_P</th>\n      <th>Si_X8_P</th>\n      <th>Si_X9_P</th>\n    </tr>\n  </thead>\n  <tbody>\n    <tr>\n      <th>0</th>\n      <td>C4-APS</td>\n      <td>216.068890</td>\n      <td>3.781587e+05</td>\n      <td>3.613272e+05</td>\n      <td>3.155033e+05</td>\n      <td>2.869716e+05</td>\n      <td>1.876476e+05</td>\n      <td>3.884992e+05</td>\n      <td>2.701241e+05</td>\n      <td>1.678826e+05</td>\n      <td>...</td>\n      <td>304734.500</td>\n      <td>2.867443e+05</td>\n      <td>3.580019e+05</td>\n      <td>3.479255e+05</td>\n      <td>1.539706e+05</td>\n      <td>259428.250</td>\n      <td>2.620190e+05</td>\n      <td>3.254392e+05</td>\n      <td>302175.625</td>\n      <td>317076.250</td>\n    </tr>\n    <tr>\n      <th>1</th>\n      <td>C5-APS</td>\n      <td>230.084541</td>\n      <td>1.088050e+06</td>\n      <td>1.135869e+06</td>\n      <td>9.938193e+05</td>\n      <td>9.554573e+05</td>\n      <td>7.485117e+05</td>\n      <td>9.769071e+05</td>\n      <td>8.991911e+05</td>\n      <td>6.390338e+05</td>\n      <td>...</td>\n      <td>993212.000</td>\n      <td>9.715478e+05</td>\n      <td>1.079947e+06</td>\n      <td>9.359160e+05</td>\n      <td>7.627746e+05</td>\n      <td>693395.625</td>\n      <td>8.001813e+05</td>\n      <td>8.786748e+05</td>\n      <td>805933.750</td>\n      <td>799783.500</td>\n    </tr>\n    <tr>\n      <th>2</th>\n      <td>C6-APS</td>\n      <td>244.100191</td>\n      <td>1.735041e+06</td>\n      <td>1.705419e+06</td>\n      <td>1.529028e+06</td>\n      <td>1.501010e+06</td>\n      <td>1.318973e+06</td>\n      <td>1.568732e+06</td>\n      <td>1.715274e+06</td>\n      <td>1.444545e+06</td>\n      <td>...</td>\n      <td>1577235.875</td>\n      <td>1.492449e+06</td>\n      <td>1.592284e+06</td>\n      <td>1.399875e+06</td>\n      <td>1.213614e+06</td>\n      <td>1168062.375</td>\n      <td>9.805344e+05</td>\n      <td>1.036658e+06</td>\n      <td>1106075.375</td>\n      <td>1163224.375</td>\n    </tr>\n    <tr>\n      <th>3</th>\n      <td>C7-APS</td>\n      <td>258.115841</td>\n      <td>2.599787e+06</td>\n      <td>2.389187e+06</td>\n      <td>2.168283e+06</td>\n      <td>2.132862e+06</td>\n      <td>2.190769e+06</td>\n      <td>2.274721e+06</td>\n      <td>2.452437e+06</td>\n      <td>2.260113e+06</td>\n      <td>...</td>\n      <td>2240836.500</td>\n      <td>2.111489e+06</td>\n      <td>2.357718e+06</td>\n      <td>2.128141e+06</td>\n      <td>1.978900e+06</td>\n      <td>2049826.000</td>\n      <td>2.025782e+06</td>\n      <td>1.947493e+06</td>\n      <td>1896480.875</td>\n      <td>2001679.750</td>\n    </tr>\n    <tr>\n      <th>4</th>\n      <td>C8-APS</td>\n      <td>272.131491</td>\n      <td>3.158670e+06</td>\n      <td>3.081789e+06</td>\n      <td>2.937429e+06</td>\n      <td>2.892142e+06</td>\n      <td>2.938322e+06</td>\n      <td>2.957386e+06</td>\n      <td>3.148137e+06</td>\n      <td>2.898418e+06</td>\n      <td>...</td>\n      <td>2969532.750</td>\n      <td>2.841816e+06</td>\n      <td>3.043720e+06</td>\n      <td>2.698523e+06</td>\n      <td>2.734577e+06</td>\n      <td>2826243.500</td>\n      <td>2.900040e+06</td>\n      <td>2.816929e+06</td>\n      <td>2738295.750</td>\n      <td>2740549.750</td>\n    </tr>\n    <tr>\n      <th>5</th>\n      <td>C9-APS</td>\n      <td>286.147141</td>\n      <td>4.038155e+06</td>\n      <td>3.747327e+06</td>\n      <td>3.497249e+06</td>\n      <td>3.499696e+06</td>\n      <td>3.676590e+06</td>\n      <td>3.695419e+06</td>\n      <td>3.847768e+06</td>\n      <td>3.823006e+06</td>\n      <td>...</td>\n      <td>3530315.250</td>\n      <td>3.504540e+06</td>\n      <td>3.782805e+06</td>\n      <td>3.458427e+06</td>\n      <td>3.255558e+06</td>\n      <td>3227547.500</td>\n      <td>3.429204e+06</td>\n      <td>3.320554e+06</td>\n      <td>3306515.000</td>\n      <td>3041449.250</td>\n    </tr>\n    <tr>\n      <th>6</th>\n      <td>C10-APS</td>\n      <td>300.162791</td>\n      <td>4.182901e+06</td>\n      <td>4.024702e+06</td>\n      <td>3.666486e+06</td>\n      <td>3.529744e+06</td>\n      <td>3.985736e+06</td>\n      <td>3.882978e+06</td>\n      <td>3.907638e+06</td>\n      <td>3.925286e+06</td>\n      <td>...</td>\n      <td>3716882.750</td>\n      <td>3.737624e+06</td>\n      <td>3.971896e+06</td>\n      <td>3.587894e+06</td>\n      <td>3.648882e+06</td>\n      <td>3305637.250</td>\n      <td>3.376282e+06</td>\n      <td>3.487328e+06</td>\n      <td>3582794.750</td>\n      <td>3396769.000</td>\n    </tr>\n    <tr>\n      <th>7</th>\n      <td>C11-APS</td>\n      <td>314.178441</td>\n      <td>4.206842e+06</td>\n      <td>4.167540e+06</td>\n      <td>3.681939e+06</td>\n      <td>3.553012e+06</td>\n      <td>3.992314e+06</td>\n      <td>3.858511e+06</td>\n      <td>4.344734e+06</td>\n      <td>3.737850e+06</td>\n      <td>...</td>\n      <td>3761563.750</td>\n      <td>3.579442e+06</td>\n      <td>4.022950e+06</td>\n      <td>3.385258e+06</td>\n      <td>3.319468e+06</td>\n      <td>3359830.250</td>\n      <td>3.292014e+06</td>\n      <td>3.569781e+06</td>\n      <td>3627840.000</td>\n      <td>3442885.000</td>\n    </tr>\n    <tr>\n      <th>8</th>\n      <td>C12-APS</td>\n      <td>328.194091</td>\n      <td>5.037327e+06</td>\n      <td>4.681847e+06</td>\n      <td>4.137763e+06</td>\n      <td>4.024459e+06</td>\n      <td>4.247660e+06</td>\n      <td>4.367570e+06</td>\n      <td>4.599154e+06</td>\n      <td>4.100811e+06</td>\n      <td>...</td>\n      <td>4083201.000</td>\n      <td>3.972204e+06</td>\n      <td>4.269070e+06</td>\n      <td>3.785298e+06</td>\n      <td>3.704217e+06</td>\n      <td>3610325.500</td>\n      <td>3.915956e+06</td>\n      <td>3.883396e+06</td>\n      <td>3866427.500</td>\n      <td>3920202.500</td>\n    </tr>\n    <tr>\n      <th>9</th>\n      <td>C13-APS</td>\n      <td>342.209741</td>\n      <td>5.498324e+06</td>\n      <td>5.394031e+06</td>\n      <td>4.941260e+06</td>\n      <td>4.831060e+06</td>\n      <td>4.969449e+06</td>\n      <td>5.387327e+06</td>\n      <td>5.470496e+06</td>\n      <td>5.272122e+06</td>\n      <td>...</td>\n      <td>5385141.500</td>\n      <td>4.949184e+06</td>\n      <td>5.301538e+06</td>\n      <td>4.484334e+06</td>\n      <td>4.783722e+06</td>\n      <td>4684735.000</td>\n      <td>4.521060e+06</td>\n      <td>4.603028e+06</td>\n      <td>4754058.500</td>\n      <td>4677592.000</td>\n    </tr>\n    <tr>\n      <th>10</th>\n      <td>C14-APS</td>\n      <td>356.225391</td>\n      <td>7.185878e+06</td>\n      <td>6.637174e+06</td>\n      <td>6.048331e+06</td>\n      <td>6.054338e+06</td>\n      <td>6.300630e+06</td>\n      <td>6.441798e+06</td>\n      <td>6.475508e+06</td>\n      <td>6.119435e+06</td>\n      <td>...</td>\n      <td>5993821.500</td>\n      <td>5.618726e+06</td>\n      <td>5.991224e+06</td>\n      <td>5.253662e+06</td>\n      <td>5.542793e+06</td>\n      <td>5248187.500</td>\n      <td>4.968962e+06</td>\n      <td>5.716302e+06</td>\n      <td>5630786.500</td>\n      <td>5567850.500</td>\n    </tr>\n    <tr>\n      <th>11</th>\n      <td>C15-APS</td>\n      <td>370.241041</td>\n      <td>6.803981e+06</td>\n      <td>6.333879e+06</td>\n      <td>5.917868e+06</td>\n      <td>5.406368e+06</td>\n      <td>6.890324e+06</td>\n      <td>6.257836e+06</td>\n      <td>6.504290e+06</td>\n      <td>5.968168e+06</td>\n      <td>...</td>\n      <td>5734294.000</td>\n      <td>5.757724e+06</td>\n      <td>5.825730e+06</td>\n      <td>5.086436e+06</td>\n      <td>4.814705e+06</td>\n      <td>5327915.000</td>\n      <td>5.360066e+06</td>\n      <td>5.700029e+06</td>\n      <td>5815061.000</td>\n      <td>5376486.000</td>\n    </tr>\n    <tr>\n      <th>12</th>\n      <td>C16-APS</td>\n      <td>384.256691</td>\n      <td>6.145347e+06</td>\n      <td>6.021256e+06</td>\n      <td>5.031411e+06</td>\n      <td>5.015424e+06</td>\n      <td>6.149655e+06</td>\n      <td>5.812730e+06</td>\n      <td>5.967682e+06</td>\n      <td>5.509716e+06</td>\n      <td>...</td>\n      <td>5373044.500</td>\n      <td>5.273476e+06</td>\n      <td>5.763729e+06</td>\n      <td>4.835512e+06</td>\n      <td>4.387506e+06</td>\n      <td>4846854.000</td>\n      <td>5.084242e+06</td>\n      <td>5.019441e+06</td>\n      <td>4869745.000</td>\n      <td>4873043.500</td>\n    </tr>\n    <tr>\n      <th>13</th>\n      <td>C17-APS</td>\n      <td>398.272341</td>\n      <td>7.168706e+06</td>\n      <td>7.058430e+06</td>\n      <td>6.561875e+06</td>\n      <td>6.433498e+06</td>\n      <td>7.049646e+06</td>\n      <td>6.970543e+06</td>\n      <td>7.005360e+06</td>\n      <td>6.811874e+06</td>\n      <td>...</td>\n      <td>7040022.000</td>\n      <td>6.653144e+06</td>\n      <td>6.469576e+06</td>\n      <td>5.967862e+06</td>\n      <td>5.527585e+06</td>\n      <td>6003991.000</td>\n      <td>5.693124e+06</td>\n      <td>6.095942e+06</td>\n      <td>5939422.500</td>\n      <td>6039201.500</td>\n    </tr>\n    <tr>\n      <th>14</th>\n      <td>C18-APS</td>\n      <td>412.287991</td>\n      <td>9.132991e+06</td>\n      <td>9.397782e+06</td>\n      <td>8.057879e+06</td>\n      <td>8.194338e+06</td>\n      <td>8.913634e+06</td>\n      <td>8.759727e+06</td>\n      <td>9.307073e+06</td>\n      <td>8.515602e+06</td>\n      <td>...</td>\n      <td>8523464.000</td>\n      <td>8.387651e+06</td>\n      <td>8.124370e+06</td>\n      <td>6.599300e+06</td>\n      <td>6.181569e+06</td>\n      <td>6760999.000</td>\n      <td>7.084058e+06</td>\n      <td>7.843232e+06</td>\n      <td>8055964.500</td>\n      <td>7874172.500</td>\n    </tr>\n    <tr>\n      <th>15</th>\n      <td>C19-APS</td>\n      <td>426.303641</td>\n      <td>1.024119e+07</td>\n      <td>1.003373e+07</td>\n      <td>9.202435e+06</td>\n      <td>8.862289e+06</td>\n      <td>9.861315e+06</td>\n      <td>9.532750e+06</td>\n      <td>9.786382e+06</td>\n      <td>9.622891e+06</td>\n      <td>...</td>\n      <td>8875057.000</td>\n      <td>8.898381e+06</td>\n      <td>9.056897e+06</td>\n      <td>7.387508e+06</td>\n      <td>6.615697e+06</td>\n      <td>7829822.000</td>\n      <td>8.161646e+06</td>\n      <td>8.188219e+06</td>\n      <td>8014017.000</td>\n      <td>8277979.000</td>\n    </tr>\n    <tr>\n      <th>16</th>\n      <td>C20-APS</td>\n      <td>440.319291</td>\n      <td>1.097153e+07</td>\n      <td>1.059685e+07</td>\n      <td>9.397404e+06</td>\n      <td>9.811711e+06</td>\n      <td>1.068676e+07</td>\n      <td>1.019321e+07</td>\n      <td>1.042716e+07</td>\n      <td>1.035698e+07</td>\n      <td>...</td>\n      <td>9357027.000</td>\n      <td>9.830576e+06</td>\n      <td>1.005871e+07</td>\n      <td>8.216913e+06</td>\n      <td>7.248650e+06</td>\n      <td>7872493.000</td>\n      <td>8.198573e+06</td>\n      <td>8.844039e+06</td>\n      <td>9156802.000</td>\n      <td>9522087.000</td>\n    </tr>\n  </tbody>\n</table>\n<p>17 rows × 65 columns</p>\n</div>"
     },
     "execution_count": 43,
     "metadata": {},
     "output_type": "execute_result"
    }
   ],
   "source": [
    "intensity_report"
   ],
   "metadata": {
    "collapsed": false,
    "ExecuteTime": {
     "end_time": "2023-07-26T02:38:00.092773Z",
     "start_time": "2023-07-26T02:37:59.937421Z"
    }
   }
  },
  {
   "cell_type": "markdown",
   "source": [
    "# Alignment"
   ],
   "metadata": {
    "collapsed": false
   }
  },
  {
   "cell_type": "code",
   "execution_count": 52,
   "outputs": [],
   "source": [
    "from toolsets.feature_alignment import initilize_pmz_rt_list, find_feature, find_istd, clean_bad_features, align"
   ],
   "metadata": {
    "collapsed": false,
    "ExecuteTime": {
     "end_time": "2023-07-26T17:24:16.123636Z",
     "start_time": "2023-07-26T17:24:16.087338Z"
    }
   }
  },
  {
   "cell_type": "code",
   "execution_count": 55,
   "outputs": [
    {
     "name": "stdout",
     "output_type": "stream",
     "text": [
      "length_of_master list:  21797\n"
     ]
    },
    {
     "name": "stderr",
     "output_type": "stream",
     "text": [
      "100%|██████████| 21141/21141 [00:33<00:00, 632.05it/s]\n",
      "100%|██████████| 16653/16653 [00:27<00:00, 609.23it/s]\n",
      "100%|██████████| 20343/20343 [00:32<00:00, 620.36it/s]\n",
      "100%|██████████| 21244/21244 [00:34<00:00, 623.49it/s]"
     ]
    },
    {
     "name": "stdout",
     "output_type": "stream",
     "text": [
      "length_of updated master list:  73042\n"
     ]
    },
    {
     "name": "stderr",
     "output_type": "stream",
     "text": [
      "\n"
     ]
    }
   ],
   "source": [
    "master_list = initilize_pmz_rt_list([os.path.join(normalized_folder, x+'.csv') for x in qcs], mode = 'inclusive')"
   ],
   "metadata": {
    "collapsed": false,
    "ExecuteTime": {
     "end_time": "2023-07-26T17:32:57.191080Z",
     "start_time": "2023-07-26T17:30:40.579598Z"
    }
   }
  },
  {
   "cell_type": "code",
   "execution_count": null,
   "outputs": [
    {
     "name": "stderr",
     "output_type": "stream",
     "text": [
      " 64%|██████▍   | 41/64 [3:15:52<1:40:37, 262.52s/it]"
     ]
    }
   ],
   "source": [
    "alignment = align(file_paths=[os.path.join(normalized_folder, x+'.csv') for x in all_lst], master_list_input=master_list)"
   ],
   "metadata": {
    "collapsed": false,
    "is_executing": true,
    "ExecuteTime": {
     "start_time": "2023-07-26T17:33:04.088366Z"
    }
   }
  }
 ],
 "metadata": {
  "kernelspec": {
   "name": "alphapept_env",
   "language": "python",
   "display_name": "alphapept_env"
  },
  "language_info": {
   "codemirror_mode": {
    "name": "ipython",
    "version": 2
   },
   "file_extension": ".py",
   "mimetype": "text/x-python",
   "name": "python",
   "nbconvert_exporter": "python",
   "pygments_lexer": "ipython2",
   "version": "2.7.6"
  }
 },
 "nbformat": 4,
 "nbformat_minor": 0
}
