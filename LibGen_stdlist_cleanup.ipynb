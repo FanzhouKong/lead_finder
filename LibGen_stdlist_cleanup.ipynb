{
 "cells": [
  {
   "cell_type": "code",
   "execution_count": 63,
   "metadata": {
    "collapsed": true,
    "pycharm": {
     "name": "#%%\n"
    }
   },
   "outputs": [
    {
     "name": "stdout",
     "output_type": "stream",
     "text": [
      "The autoreload extension is already loaded. To reload it, use:\n",
      "  %reload_ext autoreload\n"
     ]
    }
   ],
   "source": [
    "%load_ext autoreload\n",
    "%autoreload 2\n",
    "import numpy as np\n",
    "import pandas as pd\n",
    "from tqdm import tqdm\n",
    "import os\n",
    "import toolsets.chem_utils as cu\n",
    "from rdkit import Chem\n",
    "from rdkit.Chem.Draw import IPythonConsole\n",
    "\n",
    "IPythonConsole.molSize = (400, 400)\n",
    "import numpy as np"
   ]
  },
  {
   "cell_type": "code",
   "execution_count": 52,
   "outputs": [],
   "source": [
    "df = pd.read_csv('/Users/fanzhoukong/Documents/GitHub/Libgen_data/PTFI_library/inclusion_list.csv')"
   ],
   "metadata": {
    "collapsed": false,
    "pycharm": {
     "name": "#%%\n"
    }
   }
  },
  {
   "cell_type": "code",
   "execution_count": 56,
   "outputs": [],
   "source": [
    "formula_raw= []\n",
    "smiles_desalted=[]\n",
    "formula_desalted=[]\n",
    "for index, row in df.iterrows():\n",
    "    formula_raw.append(cu.everything_to_formula(row['SMILES']))\n",
    "    smiles_temp = cu.desalter(row['SMILES'])\n",
    "    smiles_desalted.append(smiles_temp)\n",
    "    formula_desalted.append(cu.everything_to_formula(smiles_temp))\n",
    "df['raw_formula']=formula_raw\n",
    "df['smiles_desalted']=smiles_desalted\n",
    "df['formula_desalted']=formula_desalted\n",
    "\n",
    "# df['formulas_raw']=formulas"
   ],
   "metadata": {
    "collapsed": false,
    "pycharm": {
     "name": "#%%\n"
    }
   }
  },
  {
   "cell_type": "code",
   "execution_count": 82,
   "outputs": [],
   "source": [
    "adducts = ['[M]+', '[M+H]+', '[M+Na]+', '[M+NH4]+']"
   ],
   "metadata": {
    "collapsed": false,
    "pycharm": {
     "name": "#%%\n"
    }
   }
  },
  {
   "cell_type": "code",
   "execution_count": 83,
   "outputs": [],
   "source": [
    "for adduct in adducts:\n",
    "    pmz=[]\n",
    "    for index, row in df.iterrows():\n",
    "        pmz.append(cu.calculate_precursormz(row['smiles_desalted'], adduct, if_smiles=True))\n",
    "    df[adduct]=pmz"
   ],
   "metadata": {
    "collapsed": false,
    "pycharm": {
     "name": "#%%\n"
    }
   }
  },
  {
   "cell_type": "code",
   "execution_count": 94,
   "outputs": [],
   "source": [
    "df.to_csv('/Users/fanzhoukong/Documents/GitHub/Libgen_data/PTFI_library/inclusion_list_m_nh4.csv', index = False)"
   ],
   "metadata": {
    "collapsed": false,
    "pycharm": {
     "name": "#%%\n"
    }
   }
  },
  {
   "cell_type": "code",
   "execution_count": 90,
   "outputs": [
    {
     "data": {
      "text/plain": "-18.03382400000001"
     },
     "execution_count": 90,
     "metadata": {},
     "output_type": "execute_result"
    }
   ],
   "source": [
    "194.05791-212.091734"
   ],
   "metadata": {
    "collapsed": false,
    "pycharm": {
     "name": "#%%\n"
    }
   }
  }
 ],
 "metadata": {
  "kernelspec": {
   "name": "alphapept_env",
   "language": "python",
   "display_name": "alphapept_env"
  },
  "language_info": {
   "codemirror_mode": {
    "name": "ipython",
    "version": 2
   },
   "file_extension": ".py",
   "mimetype": "text/x-python",
   "name": "python",
   "nbconvert_exporter": "python",
   "pygments_lexer": "ipython2",
   "version": "2.7.6"
  }
 },
 "nbformat": 4,
 "nbformat_minor": 0
}