{
 "cells": [
  {
   "cell_type": "code",
   "execution_count": 1,
   "metadata": {
    "collapsed": true,
    "ExecuteTime": {
     "end_time": "2023-09-05T22:52:10.933942Z",
     "start_time": "2023-09-05T22:52:10.907399Z"
    }
   },
   "outputs": [],
   "source": [
    "%load_ext autoreload\n",
    "%autoreload 2"
   ]
  },
  {
   "cell_type": "code",
   "execution_count": 2,
   "outputs": [],
   "source": [
    "from toolsets.ff_droup import process_mzml, feature_finding\n",
    "from toolsets.search import quick_search_values, quick_search_sorted, string_search"
   ],
   "metadata": {
    "collapsed": false,
    "ExecuteTime": {
     "end_time": "2023-09-05T22:52:11.474625Z",
     "start_time": "2023-09-05T22:52:10.934355Z"
    }
   }
  },
  {
   "cell_type": "code",
   "execution_count": null,
   "outputs": [],
   "source": [],
   "metadata": {
    "collapsed": false
   }
  },
  {
   "cell_type": "code",
   "execution_count": 3,
   "outputs": [
    {
     "name": "stderr",
     "output_type": "stream",
     "text": [
      "100%|██████████| 22/22 [24:46<00:00, 67.55s/it]\n"
     ]
    }
   ],
   "source": [
    "\n",
    "import os\n",
    "import pandas as pd\n",
    "import numpy as np\n",
    "import toolsets.ff_droup as ff\n",
    "from tqdm import tqdm\n",
    "import toolsets.spectra_operations as so\n",
    "master_dir = '/Volumes/Natural Product Chemistry/Working Space/Fanzhou/Glocyside_library'\n",
    "mzml_dir = os.path.join(master_dir, 'mzml')\n",
    "features_dir = os.path.join(master_dir, 'features')\n",
    "if os.path.exists(features_dir) == False:\n",
    "    os.mkdir(features_dir)\n",
    "for root, dirs, files in os.walk(mzml_dir):\n",
    "    for file in tqdm(files):\n",
    "        if file.endswith('.mzML'):\n",
    "            try:\n",
    "                ms1, ms2 =ff.process_mzml(os.path.join(mzml_dir, file), if_mix=False, rt_max=12)\n",
    "                features_temp = ff.feature_finding(ms1, ms2)\n",
    "                features_temp.to_csv(os.path.join(features_dir, file.split('.')[0]+'.csv'), index = False)\n",
    "            except:\n",
    "                print('this file is worng: ', file)"
   ],
   "metadata": {
    "collapsed": false,
    "ExecuteTime": {
     "end_time": "2023-09-05T23:17:04.572635Z",
     "start_time": "2023-09-05T22:52:15.640040Z"
    }
   }
  },
  {
   "cell_type": "code",
   "execution_count": 4,
   "outputs": [],
   "source": [
    "std_list = pd.read_csv(os.path.join(master_dir, 'Glycosides_LCMS_Librarytemplate.csv'))"
   ],
   "metadata": {
    "collapsed": false,
    "ExecuteTime": {
     "end_time": "2023-09-05T23:17:29.557799Z",
     "start_time": "2023-09-05T23:17:22.699340Z"
    }
   }
  },
  {
   "cell_type": "code",
   "execution_count": 5,
   "outputs": [
    {
     "name": "stderr",
     "output_type": "stream",
     "text": [
      "100%|██████████| 22/22 [00:32<00:00,  1.49s/it]\n"
     ]
    }
   ],
   "source": [
    "reference_pmz = []\n",
    "reference_mix = []\n",
    "reference_rt = []\n",
    "matched = pd.DataFrame()\n",
    "for index, row in tqdm(std_list.iterrows(), total= len(std_list)):\n",
    "    if len(row['RT'].split(','))==1:\n",
    "        try:\n",
    "            feature_all = pd.read_csv(os.path.join(features_dir, row['mix']+'.csv'))\n",
    "        except:\n",
    "            print('this mix is wrong')\n",
    "            break\n",
    "        feature_temp = quick_search_values(feature_all, 'precursor_mz', float(row['pmz'])-0.003, float(row['pmz'])+0.003, ifsorted=False)\n",
    "        feature_temp = quick_search_values(feature_temp, 'rt', float(row['RT'])-3/60, float(row['RT'])+3/60, ifsorted=False)\n",
    "        feature_temp['rt_offset']=abs(feature_temp['rt_offset'])\n",
    "        feature_temp.sort_values(by = 'rt_offset', ascending=True, inplace=True)\n",
    "        feature_temp.insert(0, 'reference_name', np.repeat(row['mix'], len(feature_temp)))\n",
    "        feature_temp.insert(1, 'reference_precursor_mz', np.repeat(row['pmz'], len(feature_temp)))\n",
    "        feature_temp.insert(5, 'reference_rt', np.repeat(float(row['RT']), len(feature_temp)))\n",
    "        matched = pd.concat([matched, pd.DataFrame([feature_temp.iloc[0]])], ignore_index = True)\n",
    "\n",
    "\n",
    "\n",
    "        # break\n",
    "    # pass\n",
    "    # break\n"
   ],
   "metadata": {
    "collapsed": false,
    "ExecuteTime": {
     "end_time": "2023-09-05T23:18:09.646204Z",
     "start_time": "2023-09-05T23:17:36.857694Z"
    }
   }
  },
  {
   "cell_type": "code",
   "execution_count": 6,
   "outputs": [],
   "source": [
    "import toolsets.spectra_operations as so\n",
    "def export_msp_simple_msp(data,output_location):\n",
    "    entry = ''\n",
    "    for index, row in tqdm(data.iterrows(), total = len(data)):\n",
    "        entry = entry + 'Name: ' + row['reference_name'] + '\\n'\n",
    "        # entry = entry + 'InChIKey: ' + str(row['reference_inchikey']) + '\\n'\n",
    "        # entry = entry + 'SMILES: ' + str(row['reference_smiles']) + '\\n'\n",
    "        entry = entry + 'RETENTIONTIME: ' + str(row['rt']) + '\\n'\n",
    "        entry = entry +'Spectrum_type: '+'MS2'+ '\\n'\n",
    "        entry = entry + 'PrecursorMZ: ' + str(row['precursor_mz']) + '\\n'\n",
    "        # entry = entry + 'InChIKey: ' + str(row['reference_inchikey']) + '\\n'\n",
    "        # entry = entry + 'Formula: ' + row['reference_formula'] + '\\n'\n",
    "        # entry = entry + 'ExactMass: ' + str(row['reference_mono_mass']) + '\\n'\n",
    "        # entry = entry + 'Precursor_type: ' + row['reference_adduct'] + '\\n'\n",
    "        # if ifcollision_energy:\n",
    "        #     entry = entry + 'Collision_enerty: ' + str(row['Collision_energy']) + '\\n'\n",
    "        # entry = entry + 'RETENTIONTIME: ' + str(row['retention_time_wa']) + '\\n'\n",
    "        # if row['reference_adduct'][-1]=='+':\n",
    "            # charge = '1+'\n",
    "            # ionmode = 'P'\n",
    "        # else:\n",
    "        #     ionmode = 'N'\n",
    "        # entry = entry+'Ion_mode: '+ionmode+ '\\n'\n",
    "        entry = (entry + 'Comment: ' + 'ms1intensity'+'_'+str(row['peak_apex_intensity'])+ '\\n')\n",
    "        # entry = entry + 'Spectrum_entropy: ' +str((row['spectrum_entropy'])) + '\\n'\n",
    "        # entry = entry + 'Normalized_entropy: ' + str((row['normalized_entropy'])) + '\\n'\n",
    "        entry = entry + 'Num peaks: ' + str(so.num_peaks(row['peaks'])) + '\\n'\n",
    "        entry = entry + row['peaks']\n",
    "        # entry = entry +str(row['count'])\n",
    "        entry = entry + '\\n'\n",
    "        entry = entry + '\\n'\n",
    "\n",
    "    #open text file\n",
    "    text_file = open(output_location, \"w\",encoding='utf-8')\n",
    "\n",
    "    #write string to file\n",
    "    text_file.write(entry)\n",
    "\n",
    "    #close file\n",
    "    text_file.close()"
   ],
   "metadata": {
    "collapsed": false,
    "ExecuteTime": {
     "end_time": "2023-09-05T23:18:09.693733Z",
     "start_time": "2023-09-05T23:18:09.649896Z"
    }
   }
  },
  {
   "cell_type": "code",
   "execution_count": 7,
   "outputs": [
    {
     "name": "stderr",
     "output_type": "stream",
     "text": [
      "100%|██████████| 15/15 [00:00<00:00, 11468.20it/s]\n"
     ]
    }
   ],
   "source": [
    "export_msp_simple_msp(matched, os.path.join(master_dir, 'glycoside_library.msp'))"
   ],
   "metadata": {
    "collapsed": false,
    "ExecuteTime": {
     "end_time": "2023-09-05T23:18:11.351906Z",
     "start_time": "2023-09-05T23:18:09.694560Z"
    }
   }
  },
  {
   "cell_type": "code",
   "execution_count": 8,
   "outputs": [],
   "source": [
    "matched.to_csv(os.path.join(master_dir, 'glycoside_lib.csv'), index = False)"
   ],
   "metadata": {
    "collapsed": false,
    "ExecuteTime": {
     "end_time": "2023-09-05T23:18:16.987506Z",
     "start_time": "2023-09-05T23:18:11.352973Z"
    }
   }
  },
  {
   "cell_type": "code",
   "execution_count": 49,
   "outputs": [],
   "source": [
    "ms1, ms2 = process_mzml(mzml_path='IDRun_D-Glu_2', parent_dir=mzml_dir, if_mix=True, rt_max=10)"
   ],
   "metadata": {
    "collapsed": false,
    "ExecuteTime": {
     "end_time": "2023-08-23T01:42:23.624647Z",
     "start_time": "2023-08-23T01:42:00.489555Z"
    }
   }
  },
  {
   "cell_type": "code",
   "execution_count": 53,
   "outputs": [
    {
     "data": {
      "text/plain": "<Figure size 400x300 with 1 Axes>",
      "image/png": "[encoded data removed]"
     },
     "metadata": {},
     "output_type": "display_data"
    }
   ],
   "source": [
    "rt_list, intensity_list = ff.get_EIC_list(ms1, 447.125214)\n",
    "ff.EIC(rt_list, intensity_list, rt_start=6, rt_end = 7.2)"
   ],
   "metadata": {
    "collapsed": false,
    "ExecuteTime": {
     "end_time": "2023-08-23T01:43:44.844475Z",
     "start_time": "2023-08-23T01:43:44.499317Z"
    }
   }
  }
 ],
 "metadata": {
  "kernelspec": {
   "display_name": "Python 3",
   "language": "python",
   "name": "python3"
  },
  "language_info": {
   "codemirror_mode": {
    "name": "ipython",
    "version": 2
   },
   "file_extension": ".py",
   "mimetype": "text/x-python",
   "name": "python",
   "nbconvert_exporter": "python",
   "pygments_lexer": "ipython2",
   "version": "2.7.6"
  }
 },
 "nbformat": 4,
 "nbformat_minor": 0
}
