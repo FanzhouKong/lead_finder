{
 "cells": [
  {
   "cell_type": "code",
   "execution_count": 147,
   "metadata": {
    "collapsed": true,
    "ExecuteTime": {
     "end_time": "2023-06-29T19:39:44.486525Z",
     "start_time": "2023-06-29T19:39:44.451774Z"
    }
   },
   "outputs": [
    {
     "name": "stdout",
     "output_type": "stream",
     "text": [
      "The autoreload extension is already loaded. To reload it, use:\n",
      "  %reload_ext autoreload\n"
     ]
    }
   ],
   "source": [
    "%load_ext autoreload\n",
    "%autoreload 2\n",
    "import numpy as np\n",
    "from feature_engineering.PFA import PFA\n",
    "from sklearn.preprocessing import StandardScaler\n",
    "X = np.array([[1, 4,3,12], [1, 8,10,12],[1,12,5,12],[9,4,3,12]])\n"
   ]
  },
  {
   "cell_type": "code",
   "execution_count": 148,
   "outputs": [
    {
     "data": {
      "text/plain": "array([[ 1,  4,  3, 12],\n       [ 1,  8, 10, 12],\n       [ 1, 12,  5, 12],\n       [ 9,  4,  3, 12]])"
     },
     "execution_count": 148,
     "metadata": {},
     "output_type": "execute_result"
    }
   ],
   "source": [
    "X"
   ],
   "metadata": {
    "collapsed": false,
    "ExecuteTime": {
     "end_time": "2023-06-29T19:39:45.776794Z",
     "start_time": "2023-06-29T19:39:45.751655Z"
    }
   }
  },
  {
   "cell_type": "code",
   "execution_count": 151,
   "outputs": [
    {
     "name": "stderr",
     "output_type": "stream",
     "text": [
      "/Users/fanzhou.kong/miniconda3/envs/alphapept_env/lib/python3.8/site-packages/sklearn/cluster/_kmeans.py:870: FutureWarning: The default value of `n_init` will change from 10 to 'auto' in 1.4. Set the value of `n_init` explicitly to suppress the warning\n",
      "  warnings.warn(\n"
     ]
    }
   ],
   "source": [
    "pfa = PFA(n_features=2)\n",
    "pfa.fit(X)"
   ],
   "metadata": {
    "collapsed": false,
    "ExecuteTime": {
     "end_time": "2023-06-29T19:39:52.346073Z",
     "start_time": "2023-06-29T19:39:52.304557Z"
    }
   }
  },
  {
   "cell_type": "code",
   "execution_count": 152,
   "outputs": [
    {
     "data": {
      "text/plain": "[0, 2]"
     },
     "execution_count": 152,
     "metadata": {},
     "output_type": "execute_result"
    }
   ],
   "source": [
    "pfa.indices_"
   ],
   "metadata": {
    "collapsed": false,
    "ExecuteTime": {
     "end_time": "2023-06-29T19:39:53.360561Z",
     "start_time": "2023-06-29T19:39:53.325554Z"
    }
   }
  },
  {
   "cell_type": "code",
   "execution_count": 56,
   "outputs": [],
   "source": [
    "variance = []\n",
    "for i in range(0,1000):\n",
    "    variance.append(X_scaled[:,i].std())"
   ],
   "metadata": {
    "collapsed": false,
    "ExecuteTime": {
     "end_time": "2023-06-29T19:23:41.053564Z",
     "start_time": "2023-06-29T19:23:40.954364Z"
    }
   }
  },
  {
   "cell_type": "code",
   "execution_count": 58,
   "outputs": [
    {
     "data": {
      "text/plain": "1.0000000000000016"
     },
     "execution_count": 58,
     "metadata": {},
     "output_type": "execute_result"
    }
   ],
   "source": [
    "np.max(variance)"
   ],
   "metadata": {
    "collapsed": false,
    "ExecuteTime": {
     "end_time": "2023-06-29T19:23:53.296231Z",
     "start_time": "2023-06-29T19:23:53.260175Z"
    }
   }
  },
  {
   "cell_type": "code",
   "execution_count": 69,
   "outputs": [
    {
     "data": {
      "text/plain": "1.2574309765644998e-06"
     },
     "execution_count": 69,
     "metadata": {},
     "output_type": "execute_result"
    }
   ],
   "source": [
    "np.min(X)"
   ],
   "metadata": {
    "collapsed": false,
    "ExecuteTime": {
     "end_time": "2023-06-29T19:24:58.880261Z",
     "start_time": "2023-06-29T19:24:58.845427Z"
    }
   }
  },
  {
   "cell_type": "code",
   "execution_count": 50,
   "outputs": [
    {
     "data": {
      "text/plain": "array([[-0.06542867,  0.30203611, -1.22194917, ...,  0.51728615,\n         1.68044698, -0.44483226],\n       [ 1.13871665, -0.45716784, -1.00701043, ...,  1.17219266,\n         1.66020771,  1.58271871],\n       [ 1.27203236, -0.50742045, -0.07844869, ..., -0.35769521,\n         0.20254496, -1.57790667],\n       ...,\n       [ 0.10001971,  0.94461404,  0.38138523, ..., -1.59026452,\n        -1.30451812, -1.67957496],\n       [ 1.58476166, -0.78056052,  0.46289425, ...,  1.51815727,\n        -1.62607613,  0.75328933],\n       [-1.3285762 ,  0.68330853,  1.10648584, ...,  1.03344736,\n        -0.53983535,  1.57164236]])"
     },
     "execution_count": 50,
     "metadata": {},
     "output_type": "execute_result"
    }
   ],
   "source": [
    "X_shrunk"
   ],
   "metadata": {
    "collapsed": false,
    "ExecuteTime": {
     "end_time": "2023-06-29T19:19:35.878201Z",
     "start_time": "2023-06-29T19:19:35.823984Z"
    }
   }
  }
 ],
 "metadata": {
  "kernelspec": {
   "name": "alphapept_env",
   "language": "python",
   "display_name": "alphapept_env"
  },
  "language_info": {
   "codemirror_mode": {
    "name": "ipython",
    "version": 2
   },
   "file_extension": ".py",
   "mimetype": "text/x-python",
   "name": "python",
   "nbconvert_exporter": "python",
   "pygments_lexer": "ipython2",
   "version": "2.7.6"
  }
 },
 "nbformat": 4,
 "nbformat_minor": 0
}
