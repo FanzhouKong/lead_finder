{
 "cells": [
  {
   "cell_type": "code",
   "execution_count": 262,
   "metadata": {
    "collapsed": true,
    "ExecuteTime": {
     "end_time": "2023-09-12T06:57:05.493079Z",
     "start_time": "2023-09-12T06:57:04.752265Z"
    }
   },
   "outputs": [
    {
     "name": "stdout",
     "output_type": "stream",
     "text": [
      "The autoreload extension is already loaded. To reload it, use:\n",
      "  %reload_ext autoreload\n",
      "the workspace exists!\n",
      "set up complete\n",
      "at position 0:  /Volumes/Natural Product Chemistry/Working Space/Fanzhou/Myristica/alignment_result/pos\n",
      "at position 1:  /Volumes/Natural Product Chemistry/Working Space/Fanzhou/Myristica/bioactivity\n",
      "at position 2:  /Volumes/Natural Product Chemistry/Working Space/Fanzhou/Myristica/mzml/pos\n",
      "at position 3:  /Volumes/Natural Product Chemistry/Working Space/Fanzhou/Myristica/normalized_peak_list/pos\n",
      "at position 4:  /Volumes/Natural Product Chemistry/Working Space/Fanzhou/Myristica/peak_list/pos\n",
      "at position 5:  /Volumes/Natural Product Chemistry/Working Space/Fanzhou/Myristica/results/pos\n",
      "at position 6:  /Volumes/Natural Product Chemistry/Working Space/Fanzhou/Myristica/sirius_files/pos\n"
     ]
    }
   ],
   "source": [
    "import os\n",
    "%load_ext autoreload\n",
    "%autoreload 2\n",
    "import pandas as pd\n",
    "from toolsets.setup import set_workspace, get_dirs\n",
    "from feature_normalization.rt_normalization import rt_normalization\n",
    "from toolsets.feature_alignment import initilize_pmz_rt_list, align, find_istd\n",
    "from toolsets.file_io import get_file_list\n",
    "from toolsets.search import quick_search_values, string_search\n",
    "from toolsets.feature_alignment import get_alignemnt\n",
    "master_dir = '/Volumes/Natural Product Chemistry/Working Space/Fanzhou/Myristica'\n",
    "\n",
    "set_workspace(master_dir)\n",
    "# this is the master workspace, all other directories will be created within this workspace\n",
    "dirs =get_dirs(master_dir, mode='pos')\n",
    "# a lot of data are mode specific, so make sure to include 'mode' argument in there"
   ]
  },
  {
   "cell_type": "code",
   "execution_count": 4,
   "outputs": [],
   "source": [
    "istd_info = pd.read_csv('/Volumes/Natural Product Chemistry/Working Space/Fanzhou/Myristica/istd_info.csv')"
   ],
   "metadata": {
    "collapsed": false,
    "ExecuteTime": {
     "end_time": "2023-09-11T22:09:58.975680Z",
     "start_time": "2023-09-11T22:09:57.055735Z"
    }
   }
  },
  {
   "cell_type": "code",
   "execution_count": 254,
   "outputs": [
    {
     "name": "stdout",
     "output_type": "stream",
     "text": [
      "mode =  auto\n",
      "there is no qc, will construct master mz-rt list from everyone\n",
      "starting to construct master mz-rt list\n"
     ]
    },
    {
     "name": "stderr",
     "output_type": "stream",
     "text": [
      "100%|██████████| 9/9 [08:54<00:00, 59.36s/it]\n"
     ]
    },
    {
     "name": "stdout",
     "output_type": "stream",
     "text": [
      "master mz-rt list done, there is 90032 features in master list!\n",
      "aligning features\n"
     ]
    },
    {
     "name": "stderr",
     "output_type": "stream",
     "text": [
      "100%|██████████| 10/10 [00:58<00:00,  5.84s/it]\n"
     ]
    },
    {
     "name": "stdout",
     "output_type": "stream",
     "text": [
      "no blk or no qc found, no post processing done\n",
      "extracting spectra from peak_list\n"
     ]
    },
    {
     "name": "stderr",
     "output_type": "stream",
     "text": [
      "100%|██████████| 10/10 [02:36<00:00, 15.61s/it]\n"
     ]
    }
   ],
   "source": [
    "alignment= get_alignemnt(dirs[3], istd_info,save_path=dirs[0])"
   ],
   "metadata": {
    "collapsed": false,
    "ExecuteTime": {
     "end_time": "2023-09-12T06:49:16.623789Z",
     "start_time": "2023-09-12T06:36:17.308032Z"
    }
   }
  },
  {
   "cell_type": "code",
   "execution_count": 268,
   "outputs": [
    {
     "data": {
      "text/plain": "             pmz        rt annotation feature_type reference_file  \\\n0       549.0699  0.309425    unknown     compound     01090_X5_P   \n1       448.9058  0.361796    unknown     compound     01090_X5_P   \n2       427.8704  0.428505    unknown     compound     01090_X5_P   \n3       369.5320  0.497690    unknown     compound     01090_X5_P   \n4       145.9543  0.618794    unknown     compound     01090_X5_P   \n...          ...       ...        ...          ...            ...   \n70214   531.3151  9.431667    unknown     compound     01090_X0_P   \n70215   221.2265  0.605827    unknown     compound     01090_X0_P   \n70216   653.2800  8.396089    unknown     compound     01090_X0_P   \n70217   780.4055  8.754900    unknown     compound     01090_X0_P   \n70218  1099.7830  9.435509    unknown     compound     01090_X0_P   \n\n       max_peak_height                                                ms1  \\\n0                 1035                                    549.06995\\t4141   \n1                 1020                                    448.90579\\t4084   \n2                 1048                   427.87036\\t4195\\n432.29166\\t3497   \n3                 1001                                    369.53198\\t4006   \n4               144018  145.94846\\t48942\\n145.95435\\t408919\\n145.96645...   \n...                ...                                                ...   \n70214            92409  531.26038\\t36124\\n531.2851\\t62136\\n531.31335\\t...   \n70215             3229  220.90602\\t19458\\n220.97459\\t16212\\n221.04318\\...   \n70216            33503  653.28339\\t80772\\n654.36896\\t234457\\n655.31677...   \n70217            19535                 780.41028\\t38289\\n781.41779\\t11383   \n70218           128306  1099.78137\\t160262\\n1100.78491\\t98132\\n1101.79...   \n\n                                                    msms  01090_X0_P  \\\n0      148.88881\\t11507\\n148.9053\\t12762\\n148.92177\\t...           0   \n1      131.16832\\t8593\\n131.81398\\t6812\\n135.40643\\t6...           0   \n2      121.59444\\t7250\\n131.41327\\t6763\\n306.51254\\t1...           0   \n3                       115.77757\\t6516\\n175.48541\\t9138           0   \n4                                                    NaN           0   \n...                                                  ...         ...   \n70214                                                NaN       92409   \n70215                                                NaN        3229   \n70216                                                NaN       33503   \n70217                                                NaN       19535   \n70218                                                NaN      128306   \n\n       01090_X1_P  01090_X2_P  01090_X3_P  01090_X4_P  01090_X5_P  01090_X6_P  \\\n0               0           0           0           0        1035           0   \n1               0           0           0           0        1020           0   \n2               0           0           0           0        1048           0   \n3               0           0           0           0        1001           0   \n4           46017           0       66102           0      144018           0   \n...           ...         ...         ...         ...         ...         ...   \n70214       86788       70279       78156       74846       67308       65762   \n70215           0           0           0           0           0           0   \n70216       15884       10387           0        3812           0        1906   \n70217           0           0           0       16588           0        9729   \n70218       77286       60525           0       48174           0           0   \n\n       01090_X7_P  01090_X8_P  01090_X9_P  \n0               0           0           0  \n1               0           0           0  \n2               0           0           0  \n3               0           0           0  \n4          118974       80623           0  \n...           ...         ...         ...  \n70214       67681       45565       56329  \n70215           0           0        2236  \n70216           0        3123        2167  \n70217           0           0        9359  \n70218           0       19247       33086  \n\n[70219 rows x 18 columns]",
      "text/html": "<div>\n<style scoped>\n    .dataframe tbody tr th:only-of-type {\n        vertical-align: middle;\n    }\n\n    .dataframe tbody tr th {\n        vertical-align: top;\n    }\n\n    .dataframe thead th {\n        text-align: right;\n    }\n</style>\n<table border=\"1\" class=\"dataframe\">\n  <thead>\n    <tr style=\"text-align: right;\">\n      <th></th>\n      <th>pmz</th>\n      <th>rt</th>\n      <th>annotation</th>\n      <th>feature_type</th>\n      <th>reference_file</th>\n      <th>max_peak_height</th>\n      <th>ms1</th>\n      <th>msms</th>\n      <th>01090_X0_P</th>\n      <th>01090_X1_P</th>\n      <th>01090_X2_P</th>\n      <th>01090_X3_P</th>\n      <th>01090_X4_P</th>\n      <th>01090_X5_P</th>\n      <th>01090_X6_P</th>\n      <th>01090_X7_P</th>\n      <th>01090_X8_P</th>\n      <th>01090_X9_P</th>\n    </tr>\n  </thead>\n  <tbody>\n    <tr>\n      <th>0</th>\n      <td>549.0699</td>\n      <td>0.309425</td>\n      <td>unknown</td>\n      <td>compound</td>\n      <td>01090_X5_P</td>\n      <td>1035</td>\n      <td>549.06995\\t4141</td>\n      <td>148.88881\\t11507\\n148.9053\\t12762\\n148.92177\\t...</td>\n      <td>0</td>\n      <td>0</td>\n      <td>0</td>\n      <td>0</td>\n      <td>0</td>\n      <td>1035</td>\n      <td>0</td>\n      <td>0</td>\n      <td>0</td>\n      <td>0</td>\n    </tr>\n    <tr>\n      <th>1</th>\n      <td>448.9058</td>\n      <td>0.361796</td>\n      <td>unknown</td>\n      <td>compound</td>\n      <td>01090_X5_P</td>\n      <td>1020</td>\n      <td>448.90579\\t4084</td>\n      <td>131.16832\\t8593\\n131.81398\\t6812\\n135.40643\\t6...</td>\n      <td>0</td>\n      <td>0</td>\n      <td>0</td>\n      <td>0</td>\n      <td>0</td>\n      <td>1020</td>\n      <td>0</td>\n      <td>0</td>\n      <td>0</td>\n      <td>0</td>\n    </tr>\n    <tr>\n      <th>2</th>\n      <td>427.8704</td>\n      <td>0.428505</td>\n      <td>unknown</td>\n      <td>compound</td>\n      <td>01090_X5_P</td>\n      <td>1048</td>\n      <td>427.87036\\t4195\\n432.29166\\t3497</td>\n      <td>121.59444\\t7250\\n131.41327\\t6763\\n306.51254\\t1...</td>\n      <td>0</td>\n      <td>0</td>\n      <td>0</td>\n      <td>0</td>\n      <td>0</td>\n      <td>1048</td>\n      <td>0</td>\n      <td>0</td>\n      <td>0</td>\n      <td>0</td>\n    </tr>\n    <tr>\n      <th>3</th>\n      <td>369.5320</td>\n      <td>0.497690</td>\n      <td>unknown</td>\n      <td>compound</td>\n      <td>01090_X5_P</td>\n      <td>1001</td>\n      <td>369.53198\\t4006</td>\n      <td>115.77757\\t6516\\n175.48541\\t9138</td>\n      <td>0</td>\n      <td>0</td>\n      <td>0</td>\n      <td>0</td>\n      <td>0</td>\n      <td>1001</td>\n      <td>0</td>\n      <td>0</td>\n      <td>0</td>\n      <td>0</td>\n    </tr>\n    <tr>\n      <th>4</th>\n      <td>145.9543</td>\n      <td>0.618794</td>\n      <td>unknown</td>\n      <td>compound</td>\n      <td>01090_X5_P</td>\n      <td>144018</td>\n      <td>145.94846\\t48942\\n145.95435\\t408919\\n145.96645...</td>\n      <td>NaN</td>\n      <td>0</td>\n      <td>46017</td>\n      <td>0</td>\n      <td>66102</td>\n      <td>0</td>\n      <td>144018</td>\n      <td>0</td>\n      <td>118974</td>\n      <td>80623</td>\n      <td>0</td>\n    </tr>\n    <tr>\n      <th>...</th>\n      <td>...</td>\n      <td>...</td>\n      <td>...</td>\n      <td>...</td>\n      <td>...</td>\n      <td>...</td>\n      <td>...</td>\n      <td>...</td>\n      <td>...</td>\n      <td>...</td>\n      <td>...</td>\n      <td>...</td>\n      <td>...</td>\n      <td>...</td>\n      <td>...</td>\n      <td>...</td>\n      <td>...</td>\n      <td>...</td>\n    </tr>\n    <tr>\n      <th>70214</th>\n      <td>531.3151</td>\n      <td>9.431667</td>\n      <td>unknown</td>\n      <td>compound</td>\n      <td>01090_X0_P</td>\n      <td>92409</td>\n      <td>531.26038\\t36124\\n531.2851\\t62136\\n531.31335\\t...</td>\n      <td>NaN</td>\n      <td>92409</td>\n      <td>86788</td>\n      <td>70279</td>\n      <td>78156</td>\n      <td>74846</td>\n      <td>67308</td>\n      <td>65762</td>\n      <td>67681</td>\n      <td>45565</td>\n      <td>56329</td>\n    </tr>\n    <tr>\n      <th>70215</th>\n      <td>221.2265</td>\n      <td>0.605827</td>\n      <td>unknown</td>\n      <td>compound</td>\n      <td>01090_X0_P</td>\n      <td>3229</td>\n      <td>220.90602\\t19458\\n220.97459\\t16212\\n221.04318\\...</td>\n      <td>NaN</td>\n      <td>3229</td>\n      <td>0</td>\n      <td>0</td>\n      <td>0</td>\n      <td>0</td>\n      <td>0</td>\n      <td>0</td>\n      <td>0</td>\n      <td>0</td>\n      <td>2236</td>\n    </tr>\n    <tr>\n      <th>70216</th>\n      <td>653.2800</td>\n      <td>8.396089</td>\n      <td>unknown</td>\n      <td>compound</td>\n      <td>01090_X0_P</td>\n      <td>33503</td>\n      <td>653.28339\\t80772\\n654.36896\\t234457\\n655.31677...</td>\n      <td>NaN</td>\n      <td>33503</td>\n      <td>15884</td>\n      <td>10387</td>\n      <td>0</td>\n      <td>3812</td>\n      <td>0</td>\n      <td>1906</td>\n      <td>0</td>\n      <td>3123</td>\n      <td>2167</td>\n    </tr>\n    <tr>\n      <th>70217</th>\n      <td>780.4055</td>\n      <td>8.754900</td>\n      <td>unknown</td>\n      <td>compound</td>\n      <td>01090_X0_P</td>\n      <td>19535</td>\n      <td>780.41028\\t38289\\n781.41779\\t11383</td>\n      <td>NaN</td>\n      <td>19535</td>\n      <td>0</td>\n      <td>0</td>\n      <td>0</td>\n      <td>16588</td>\n      <td>0</td>\n      <td>9729</td>\n      <td>0</td>\n      <td>0</td>\n      <td>9359</td>\n    </tr>\n    <tr>\n      <th>70218</th>\n      <td>1099.7830</td>\n      <td>9.435509</td>\n      <td>unknown</td>\n      <td>compound</td>\n      <td>01090_X0_P</td>\n      <td>128306</td>\n      <td>1099.78137\\t160262\\n1100.78491\\t98132\\n1101.79...</td>\n      <td>NaN</td>\n      <td>128306</td>\n      <td>77286</td>\n      <td>60525</td>\n      <td>0</td>\n      <td>48174</td>\n      <td>0</td>\n      <td>0</td>\n      <td>0</td>\n      <td>19247</td>\n      <td>33086</td>\n    </tr>\n  </tbody>\n</table>\n<p>70219 rows × 18 columns</p>\n</div>"
     },
     "execution_count": 268,
     "metadata": {},
     "output_type": "execute_result"
    }
   ],
   "source": [
    "alignment"
   ],
   "metadata": {
    "collapsed": false,
    "ExecuteTime": {
     "end_time": "2023-09-12T08:35:56.112498Z",
     "start_time": "2023-09-12T08:35:56.063108Z"
    }
   }
  }
 ],
 "metadata": {
  "kernelspec": {
   "name": "alphapept_env",
   "language": "python",
   "display_name": "alphapept_env"
  },
  "language_info": {
   "codemirror_mode": {
    "name": "ipython",
    "version": 2
   },
   "file_extension": ".py",
   "mimetype": "text/x-python",
   "name": "python",
   "nbconvert_exporter": "python",
   "pygments_lexer": "ipython2",
   "version": "2.7.6"
  }
 },
 "nbformat": 4,
 "nbformat_minor": 0
}
