{
 "cells": [
  {
   "cell_type": "code",
   "execution_count": 36,
   "metadata": {
    "collapsed": true,
    "ExecuteTime": {
     "end_time": "2023-09-06T01:00:48.933938Z",
     "start_time": "2023-09-06T01:00:48.834603Z"
    }
   },
   "outputs": [
    {
     "name": "stdout",
     "output_type": "stream",
     "text": [
      "The autoreload extension is already loaded. To reload it, use:\n",
      "  %reload_ext autoreload\n"
     ]
    }
   ],
   "source": [
    "import os\n",
    "%load_ext autoreload\n",
    "%autoreload 2\n",
    "import pandas as pd\n",
    "from toolsets.setup import set_workspace, get_dirs\n",
    "from feature_normalization.rt_normalization import rt_normalization\n",
    "from toolsets.feature_alignment import initilize_pmz_rt_list, align, find_istd\n",
    "from toolsets.file_io import get_file_list\n",
    "from toolsets.search import quick_search_values, string_search"
   ]
  },
  {
   "cell_type": "code",
   "execution_count": 21,
   "outputs": [
    {
     "name": "stdout",
     "output_type": "stream",
     "text": [
      "the workspace exists!\n",
      "set up complete\n"
     ]
    }
   ],
   "source": [
    "set_workspace('/Volumes/Natural Product Chemistry/Working Space/Fanzhou/Myristica')\n",
    "# this is the master workspace, all other directories will be created within this workspace"
   ],
   "metadata": {
    "collapsed": false,
    "ExecuteTime": {
     "end_time": "2023-09-05T22:46:10.299648Z",
     "start_time": "2023-09-05T22:46:10.256601Z"
    }
   }
  },
  {
   "cell_type": "code",
   "execution_count": 5,
   "outputs": [],
   "source": [
    "dirs =get_dirs('/Volumes/Natural Product Chemistry/Working Space/Fanzhou/Myristica', mode='pos')\n",
    "# a lot of data are mode specific, so make sure to include 'mode' argument in there"
   ],
   "metadata": {
    "collapsed": false,
    "ExecuteTime": {
     "end_time": "2023-09-05T23:12:00.073437Z",
     "start_time": "2023-09-05T23:11:58.716328Z"
    }
   }
  },
  {
   "cell_type": "code",
   "execution_count": 2,
   "outputs": [],
   "source": [
    "istd_info = pd.read_csv('/Volumes/Natural Product Chemistry/Working Space/Fanzhou/Myristica/istd_info.csv')"
   ],
   "metadata": {
    "collapsed": false,
    "ExecuteTime": {
     "end_time": "2023-09-05T23:05:56.084677Z",
     "start_time": "2023-09-05T23:05:53.974837Z"
    }
   }
  },
  {
   "cell_type": "code",
   "execution_count": 24,
   "outputs": [
    {
     "data": {
      "text/plain": "['/Volumes/Natural Product Chemistry/Working Space/Fanzhou/Myristica/alignment_result/pos',\n '/Volumes/Natural Product Chemistry/Working Space/Fanzhou/Myristica/bioactivity',\n '/Volumes/Natural Product Chemistry/Working Space/Fanzhou/Myristica/mzml/pos',\n '/Volumes/Natural Product Chemistry/Working Space/Fanzhou/Myristica/normalized_peak_list/pos',\n '/Volumes/Natural Product Chemistry/Working Space/Fanzhou/Myristica/peak_list/pos',\n '/Volumes/Natural Product Chemistry/Working Space/Fanzhou/Myristica/results/pos',\n '/Volumes/Natural Product Chemistry/Working Space/Fanzhou/Myristica/sirius_files/pos']"
     },
     "execution_count": 24,
     "metadata": {},
     "output_type": "execute_result"
    }
   ],
   "source": [
    "dirs"
   ],
   "metadata": {
    "collapsed": false,
    "ExecuteTime": {
     "end_time": "2023-09-05T22:46:31.021155Z",
     "start_time": "2023-09-05T22:46:30.975998Z"
    }
   }
  },
  {
   "cell_type": "code",
   "execution_count": 29,
   "outputs": [
    {
     "data": {
      "text/plain": "'/Volumes/Natural Product Chemistry/Working Space/Fanzhou/Myristica/normalized_peak_list/pos'"
     },
     "execution_count": 29,
     "metadata": {},
     "output_type": "execute_result"
    }
   ],
   "source": [
    "dirs[3]"
   ],
   "metadata": {
    "collapsed": false,
    "ExecuteTime": {
     "end_time": "2023-09-06T00:19:03.832320Z",
     "start_time": "2023-09-06T00:19:03.781999Z"
    }
   }
  },
  {
   "cell_type": "code",
   "execution_count": 20,
   "outputs": [
    {
     "name": "stderr",
     "output_type": "stream",
     "text": [
      "100%|██████████| 10/10 [01:28<00:00,  8.80s/it]\n"
     ]
    }
   ],
   "source": [
    "rt_normalization(peak_list_dir=dirs[4], rt_seed='01090_X0_P', istd_info=istd_info, normalized_peak_list_dir=dirs[3], result_dir=dirs[5])"
   ],
   "metadata": {
    "collapsed": false,
    "ExecuteTime": {
     "end_time": "2023-09-05T23:18:33.600808Z",
     "start_time": "2023-09-05T23:17:01.222147Z"
    }
   }
  },
  {
   "cell_type": "code",
   "execution_count": 31,
   "outputs": [],
   "source": [
    "file_list =get_file_list(dirs[3], '.csv', with_tail=True)"
   ],
   "metadata": {
    "collapsed": false,
    "ExecuteTime": {
     "end_time": "2023-09-06T00:20:03.254779Z",
     "start_time": "2023-09-06T00:20:02.660971Z"
    }
   }
  },
  {
   "cell_type": "code",
   "execution_count": 33,
   "outputs": [
    {
     "data": {
      "text/plain": "['01090_X0_P.csv',\n '01090_X1_P.csv',\n '01090_X2_P.csv',\n '01090_X3_P.csv',\n '01090_X4_P.csv',\n '01090_X5_P.csv',\n '01090_X6_P.csv',\n '01090_X7_P.csv',\n '01090_X8_P.csv',\n '01090_X9_P.csv']"
     },
     "execution_count": 33,
     "metadata": {},
     "output_type": "execute_result"
    }
   ],
   "source": [
    "file_list"
   ],
   "metadata": {
    "collapsed": false,
    "ExecuteTime": {
     "end_time": "2023-09-06T00:29:28.172727Z",
     "start_time": "2023-09-06T00:29:28.073227Z"
    }
   }
  },
  {
   "cell_type": "code",
   "execution_count": 65,
   "outputs": [
    {
     "ename": "FileNotFoundError",
     "evalue": "[Errno 2] No such file or directory: '/Volumes/Natural Product Chemistry/Working Space/Fanzhou/Myristica/normalized_peak_list/pos/01090_X0_P.csv'",
     "output_type": "error",
     "traceback": [
      "\u001B[0;31m---------------------------------------------------------------------------\u001B[0m",
      "\u001B[0;31mFileNotFoundError\u001B[0m                         Traceback (most recent call last)",
      "Cell \u001B[0;32mIn[65], line 1\u001B[0m\n\u001B[0;32m----> 1\u001B[0m master_list \u001B[38;5;241m=\u001B[39m \u001B[43minitilize_pmz_rt_list\u001B[49m\u001B[43m(\u001B[49m\u001B[43m[\u001B[49m\u001B[43mos\u001B[49m\u001B[38;5;241;43m.\u001B[39;49m\u001B[43mpath\u001B[49m\u001B[38;5;241;43m.\u001B[39;49m\u001B[43mjoin\u001B[49m\u001B[43m(\u001B[49m\u001B[43mdirs\u001B[49m\u001B[43m[\u001B[49m\u001B[38;5;241;43m3\u001B[39;49m\u001B[43m]\u001B[49m\u001B[43m,\u001B[49m\u001B[43m \u001B[49m\u001B[43mx\u001B[49m\u001B[43m)\u001B[49m\u001B[43m \u001B[49m\u001B[38;5;28;43;01mfor\u001B[39;49;00m\u001B[43m \u001B[49m\u001B[43mx\u001B[49m\u001B[43m \u001B[49m\u001B[38;5;129;43;01min\u001B[39;49;00m\u001B[43m \u001B[49m\u001B[43mfile_list\u001B[49m\u001B[43m]\u001B[49m\u001B[43m,\u001B[49m\u001B[43m \u001B[49m\u001B[43mmode\u001B[49m\u001B[43m \u001B[49m\u001B[38;5;241;43m=\u001B[39;49m\u001B[43m \u001B[49m\u001B[38;5;124;43m'\u001B[39;49m\u001B[38;5;124;43minclusive\u001B[39;49m\u001B[38;5;124;43m'\u001B[39;49m\u001B[43m)\u001B[49m\n",
      "File \u001B[0;32m~/Dropbox (Brightseed)/Mac/Documents/GitHub/lead_finder/toolsets/feature_alignment.py:92\u001B[0m, in \u001B[0;36minitilize_pmz_rt_list\u001B[0;34m(qc_paths, mode)\u001B[0m\n\u001B[1;32m     82\u001B[0m \u001B[38;5;28;01mdef\u001B[39;00m \u001B[38;5;21minitilize_pmz_rt_list\u001B[39m(qc_paths,\n\u001B[1;32m     83\u001B[0m                           \u001B[38;5;66;03m# seed_idx\u001B[39;00m\n\u001B[1;32m     84\u001B[0m                           \u001B[38;5;66;03m# istd_pmz_col = '[M+H]+',\u001B[39;00m\n\u001B[0;32m   (...)\u001B[0m\n\u001B[1;32m     89\u001B[0m \n\u001B[1;32m     90\u001B[0m     \u001B[38;5;66;03m# print('i am in current!')\u001B[39;00m\n\u001B[1;32m     91\u001B[0m     \u001B[38;5;28;01mif\u001B[39;00m mode \u001B[38;5;241m==\u001B[39m \u001B[38;5;124m'\u001B[39m\u001B[38;5;124minclusive\u001B[39m\u001B[38;5;124m'\u001B[39m:\n\u001B[0;32m---> 92\u001B[0m         seed_idx \u001B[38;5;241m=\u001B[39m \u001B[43mdetermine_seed_idx\u001B[49m\u001B[43m(\u001B[49m\u001B[43mqc_paths\u001B[49m\u001B[43m)\u001B[49m\n\u001B[1;32m     93\u001B[0m         qc_seed \u001B[38;5;241m=\u001B[39m  pd\u001B[38;5;241m.\u001B[39mread_csv(qc_paths[seed_idx])\n\u001B[1;32m     94\u001B[0m         qc_seed \u001B[38;5;241m=\u001B[39m drop_duplicate_features(qc_seed)\n",
      "File \u001B[0;32m~/Dropbox (Brightseed)/Mac/Documents/GitHub/lead_finder/toolsets/feature_alignment.py:167\u001B[0m, in \u001B[0;36mdetermine_seed_idx\u001B[0;34m(qc_paths, mode)\u001B[0m\n\u001B[1;32m    165\u001B[0m feature_num \u001B[38;5;241m=\u001B[39m []\n\u001B[1;32m    166\u001B[0m \u001B[38;5;28;01mfor\u001B[39;00m qc \u001B[38;5;129;01min\u001B[39;00m qc_paths:\n\u001B[0;32m--> 167\u001B[0m     temp\u001B[38;5;241m=\u001B[39m \u001B[43mpd\u001B[49m\u001B[38;5;241;43m.\u001B[39;49m\u001B[43mread_csv\u001B[49m\u001B[43m(\u001B[49m\u001B[43mqc\u001B[49m\u001B[43m)\u001B[49m\n\u001B[1;32m    168\u001B[0m     feature_num\u001B[38;5;241m.\u001B[39mappend(\u001B[38;5;28mlen\u001B[39m(temp))\n\u001B[1;32m    169\u001B[0m \u001B[38;5;66;03m# print(feature_num)\u001B[39;00m\n",
      "File \u001B[0;32m~/miniconda3/envs/alphapept_env/lib/python3.8/site-packages/pandas/io/parsers/readers.py:912\u001B[0m, in \u001B[0;36mread_csv\u001B[0;34m(filepath_or_buffer, sep, delimiter, header, names, index_col, usecols, dtype, engine, converters, true_values, false_values, skipinitialspace, skiprows, skipfooter, nrows, na_values, keep_default_na, na_filter, verbose, skip_blank_lines, parse_dates, infer_datetime_format, keep_date_col, date_parser, date_format, dayfirst, cache_dates, iterator, chunksize, compression, thousands, decimal, lineterminator, quotechar, quoting, doublequote, escapechar, comment, encoding, encoding_errors, dialect, on_bad_lines, delim_whitespace, low_memory, memory_map, float_precision, storage_options, dtype_backend)\u001B[0m\n\u001B[1;32m    899\u001B[0m kwds_defaults \u001B[38;5;241m=\u001B[39m _refine_defaults_read(\n\u001B[1;32m    900\u001B[0m     dialect,\n\u001B[1;32m    901\u001B[0m     delimiter,\n\u001B[0;32m   (...)\u001B[0m\n\u001B[1;32m    908\u001B[0m     dtype_backend\u001B[38;5;241m=\u001B[39mdtype_backend,\n\u001B[1;32m    909\u001B[0m )\n\u001B[1;32m    910\u001B[0m kwds\u001B[38;5;241m.\u001B[39mupdate(kwds_defaults)\n\u001B[0;32m--> 912\u001B[0m \u001B[38;5;28;01mreturn\u001B[39;00m \u001B[43m_read\u001B[49m\u001B[43m(\u001B[49m\u001B[43mfilepath_or_buffer\u001B[49m\u001B[43m,\u001B[49m\u001B[43m \u001B[49m\u001B[43mkwds\u001B[49m\u001B[43m)\u001B[49m\n",
      "File \u001B[0;32m~/miniconda3/envs/alphapept_env/lib/python3.8/site-packages/pandas/io/parsers/readers.py:577\u001B[0m, in \u001B[0;36m_read\u001B[0;34m(filepath_or_buffer, kwds)\u001B[0m\n\u001B[1;32m    574\u001B[0m _validate_names(kwds\u001B[38;5;241m.\u001B[39mget(\u001B[38;5;124m\"\u001B[39m\u001B[38;5;124mnames\u001B[39m\u001B[38;5;124m\"\u001B[39m, \u001B[38;5;28;01mNone\u001B[39;00m))\n\u001B[1;32m    576\u001B[0m \u001B[38;5;66;03m# Create the parser.\u001B[39;00m\n\u001B[0;32m--> 577\u001B[0m parser \u001B[38;5;241m=\u001B[39m \u001B[43mTextFileReader\u001B[49m\u001B[43m(\u001B[49m\u001B[43mfilepath_or_buffer\u001B[49m\u001B[43m,\u001B[49m\u001B[43m \u001B[49m\u001B[38;5;241;43m*\u001B[39;49m\u001B[38;5;241;43m*\u001B[39;49m\u001B[43mkwds\u001B[49m\u001B[43m)\u001B[49m\n\u001B[1;32m    579\u001B[0m \u001B[38;5;28;01mif\u001B[39;00m chunksize \u001B[38;5;129;01mor\u001B[39;00m iterator:\n\u001B[1;32m    580\u001B[0m     \u001B[38;5;28;01mreturn\u001B[39;00m parser\n",
      "File \u001B[0;32m~/miniconda3/envs/alphapept_env/lib/python3.8/site-packages/pandas/io/parsers/readers.py:1407\u001B[0m, in \u001B[0;36mTextFileReader.__init__\u001B[0;34m(self, f, engine, **kwds)\u001B[0m\n\u001B[1;32m   1404\u001B[0m     \u001B[38;5;28mself\u001B[39m\u001B[38;5;241m.\u001B[39moptions[\u001B[38;5;124m\"\u001B[39m\u001B[38;5;124mhas_index_names\u001B[39m\u001B[38;5;124m\"\u001B[39m] \u001B[38;5;241m=\u001B[39m kwds[\u001B[38;5;124m\"\u001B[39m\u001B[38;5;124mhas_index_names\u001B[39m\u001B[38;5;124m\"\u001B[39m]\n\u001B[1;32m   1406\u001B[0m \u001B[38;5;28mself\u001B[39m\u001B[38;5;241m.\u001B[39mhandles: IOHandles \u001B[38;5;241m|\u001B[39m \u001B[38;5;28;01mNone\u001B[39;00m \u001B[38;5;241m=\u001B[39m \u001B[38;5;28;01mNone\u001B[39;00m\n\u001B[0;32m-> 1407\u001B[0m \u001B[38;5;28mself\u001B[39m\u001B[38;5;241m.\u001B[39m_engine \u001B[38;5;241m=\u001B[39m \u001B[38;5;28;43mself\u001B[39;49m\u001B[38;5;241;43m.\u001B[39;49m\u001B[43m_make_engine\u001B[49m\u001B[43m(\u001B[49m\u001B[43mf\u001B[49m\u001B[43m,\u001B[49m\u001B[43m \u001B[49m\u001B[38;5;28;43mself\u001B[39;49m\u001B[38;5;241;43m.\u001B[39;49m\u001B[43mengine\u001B[49m\u001B[43m)\u001B[49m\n",
      "File \u001B[0;32m~/miniconda3/envs/alphapept_env/lib/python3.8/site-packages/pandas/io/parsers/readers.py:1661\u001B[0m, in \u001B[0;36mTextFileReader._make_engine\u001B[0;34m(self, f, engine)\u001B[0m\n\u001B[1;32m   1659\u001B[0m     \u001B[38;5;28;01mif\u001B[39;00m \u001B[38;5;124m\"\u001B[39m\u001B[38;5;124mb\u001B[39m\u001B[38;5;124m\"\u001B[39m \u001B[38;5;129;01mnot\u001B[39;00m \u001B[38;5;129;01min\u001B[39;00m mode:\n\u001B[1;32m   1660\u001B[0m         mode \u001B[38;5;241m+\u001B[39m\u001B[38;5;241m=\u001B[39m \u001B[38;5;124m\"\u001B[39m\u001B[38;5;124mb\u001B[39m\u001B[38;5;124m\"\u001B[39m\n\u001B[0;32m-> 1661\u001B[0m \u001B[38;5;28mself\u001B[39m\u001B[38;5;241m.\u001B[39mhandles \u001B[38;5;241m=\u001B[39m \u001B[43mget_handle\u001B[49m\u001B[43m(\u001B[49m\n\u001B[1;32m   1662\u001B[0m \u001B[43m    \u001B[49m\u001B[43mf\u001B[49m\u001B[43m,\u001B[49m\n\u001B[1;32m   1663\u001B[0m \u001B[43m    \u001B[49m\u001B[43mmode\u001B[49m\u001B[43m,\u001B[49m\n\u001B[1;32m   1664\u001B[0m \u001B[43m    \u001B[49m\u001B[43mencoding\u001B[49m\u001B[38;5;241;43m=\u001B[39;49m\u001B[38;5;28;43mself\u001B[39;49m\u001B[38;5;241;43m.\u001B[39;49m\u001B[43moptions\u001B[49m\u001B[38;5;241;43m.\u001B[39;49m\u001B[43mget\u001B[49m\u001B[43m(\u001B[49m\u001B[38;5;124;43m\"\u001B[39;49m\u001B[38;5;124;43mencoding\u001B[39;49m\u001B[38;5;124;43m\"\u001B[39;49m\u001B[43m,\u001B[49m\u001B[43m \u001B[49m\u001B[38;5;28;43;01mNone\u001B[39;49;00m\u001B[43m)\u001B[49m\u001B[43m,\u001B[49m\n\u001B[1;32m   1665\u001B[0m \u001B[43m    \u001B[49m\u001B[43mcompression\u001B[49m\u001B[38;5;241;43m=\u001B[39;49m\u001B[38;5;28;43mself\u001B[39;49m\u001B[38;5;241;43m.\u001B[39;49m\u001B[43moptions\u001B[49m\u001B[38;5;241;43m.\u001B[39;49m\u001B[43mget\u001B[49m\u001B[43m(\u001B[49m\u001B[38;5;124;43m\"\u001B[39;49m\u001B[38;5;124;43mcompression\u001B[39;49m\u001B[38;5;124;43m\"\u001B[39;49m\u001B[43m,\u001B[49m\u001B[43m \u001B[49m\u001B[38;5;28;43;01mNone\u001B[39;49;00m\u001B[43m)\u001B[49m\u001B[43m,\u001B[49m\n\u001B[1;32m   1666\u001B[0m \u001B[43m    \u001B[49m\u001B[43mmemory_map\u001B[49m\u001B[38;5;241;43m=\u001B[39;49m\u001B[38;5;28;43mself\u001B[39;49m\u001B[38;5;241;43m.\u001B[39;49m\u001B[43moptions\u001B[49m\u001B[38;5;241;43m.\u001B[39;49m\u001B[43mget\u001B[49m\u001B[43m(\u001B[49m\u001B[38;5;124;43m\"\u001B[39;49m\u001B[38;5;124;43mmemory_map\u001B[39;49m\u001B[38;5;124;43m\"\u001B[39;49m\u001B[43m,\u001B[49m\u001B[43m \u001B[49m\u001B[38;5;28;43;01mFalse\u001B[39;49;00m\u001B[43m)\u001B[49m\u001B[43m,\u001B[49m\n\u001B[1;32m   1667\u001B[0m \u001B[43m    \u001B[49m\u001B[43mis_text\u001B[49m\u001B[38;5;241;43m=\u001B[39;49m\u001B[43mis_text\u001B[49m\u001B[43m,\u001B[49m\n\u001B[1;32m   1668\u001B[0m \u001B[43m    \u001B[49m\u001B[43merrors\u001B[49m\u001B[38;5;241;43m=\u001B[39;49m\u001B[38;5;28;43mself\u001B[39;49m\u001B[38;5;241;43m.\u001B[39;49m\u001B[43moptions\u001B[49m\u001B[38;5;241;43m.\u001B[39;49m\u001B[43mget\u001B[49m\u001B[43m(\u001B[49m\u001B[38;5;124;43m\"\u001B[39;49m\u001B[38;5;124;43mencoding_errors\u001B[39;49m\u001B[38;5;124;43m\"\u001B[39;49m\u001B[43m,\u001B[49m\u001B[43m \u001B[49m\u001B[38;5;124;43m\"\u001B[39;49m\u001B[38;5;124;43mstrict\u001B[39;49m\u001B[38;5;124;43m\"\u001B[39;49m\u001B[43m)\u001B[49m\u001B[43m,\u001B[49m\n\u001B[1;32m   1669\u001B[0m \u001B[43m    \u001B[49m\u001B[43mstorage_options\u001B[49m\u001B[38;5;241;43m=\u001B[39;49m\u001B[38;5;28;43mself\u001B[39;49m\u001B[38;5;241;43m.\u001B[39;49m\u001B[43moptions\u001B[49m\u001B[38;5;241;43m.\u001B[39;49m\u001B[43mget\u001B[49m\u001B[43m(\u001B[49m\u001B[38;5;124;43m\"\u001B[39;49m\u001B[38;5;124;43mstorage_options\u001B[39;49m\u001B[38;5;124;43m\"\u001B[39;49m\u001B[43m,\u001B[49m\u001B[43m \u001B[49m\u001B[38;5;28;43;01mNone\u001B[39;49;00m\u001B[43m)\u001B[49m\u001B[43m,\u001B[49m\n\u001B[1;32m   1670\u001B[0m \u001B[43m\u001B[49m\u001B[43m)\u001B[49m\n\u001B[1;32m   1671\u001B[0m \u001B[38;5;28;01massert\u001B[39;00m \u001B[38;5;28mself\u001B[39m\u001B[38;5;241m.\u001B[39mhandles \u001B[38;5;129;01mis\u001B[39;00m \u001B[38;5;129;01mnot\u001B[39;00m \u001B[38;5;28;01mNone\u001B[39;00m\n\u001B[1;32m   1672\u001B[0m f \u001B[38;5;241m=\u001B[39m \u001B[38;5;28mself\u001B[39m\u001B[38;5;241m.\u001B[39mhandles\u001B[38;5;241m.\u001B[39mhandle\n",
      "File \u001B[0;32m~/miniconda3/envs/alphapept_env/lib/python3.8/site-packages/pandas/io/common.py:859\u001B[0m, in \u001B[0;36mget_handle\u001B[0;34m(path_or_buf, mode, encoding, compression, memory_map, is_text, errors, storage_options)\u001B[0m\n\u001B[1;32m    854\u001B[0m \u001B[38;5;28;01melif\u001B[39;00m \u001B[38;5;28misinstance\u001B[39m(handle, \u001B[38;5;28mstr\u001B[39m):\n\u001B[1;32m    855\u001B[0m     \u001B[38;5;66;03m# Check whether the filename is to be opened in binary mode.\u001B[39;00m\n\u001B[1;32m    856\u001B[0m     \u001B[38;5;66;03m# Binary mode does not support 'encoding' and 'newline'.\u001B[39;00m\n\u001B[1;32m    857\u001B[0m     \u001B[38;5;28;01mif\u001B[39;00m ioargs\u001B[38;5;241m.\u001B[39mencoding \u001B[38;5;129;01mand\u001B[39;00m \u001B[38;5;124m\"\u001B[39m\u001B[38;5;124mb\u001B[39m\u001B[38;5;124m\"\u001B[39m \u001B[38;5;129;01mnot\u001B[39;00m \u001B[38;5;129;01min\u001B[39;00m ioargs\u001B[38;5;241m.\u001B[39mmode:\n\u001B[1;32m    858\u001B[0m         \u001B[38;5;66;03m# Encoding\u001B[39;00m\n\u001B[0;32m--> 859\u001B[0m         handle \u001B[38;5;241m=\u001B[39m \u001B[38;5;28;43mopen\u001B[39;49m\u001B[43m(\u001B[49m\n\u001B[1;32m    860\u001B[0m \u001B[43m            \u001B[49m\u001B[43mhandle\u001B[49m\u001B[43m,\u001B[49m\n\u001B[1;32m    861\u001B[0m \u001B[43m            \u001B[49m\u001B[43mioargs\u001B[49m\u001B[38;5;241;43m.\u001B[39;49m\u001B[43mmode\u001B[49m\u001B[43m,\u001B[49m\n\u001B[1;32m    862\u001B[0m \u001B[43m            \u001B[49m\u001B[43mencoding\u001B[49m\u001B[38;5;241;43m=\u001B[39;49m\u001B[43mioargs\u001B[49m\u001B[38;5;241;43m.\u001B[39;49m\u001B[43mencoding\u001B[49m\u001B[43m,\u001B[49m\n\u001B[1;32m    863\u001B[0m \u001B[43m            \u001B[49m\u001B[43merrors\u001B[49m\u001B[38;5;241;43m=\u001B[39;49m\u001B[43merrors\u001B[49m\u001B[43m,\u001B[49m\n\u001B[1;32m    864\u001B[0m \u001B[43m            \u001B[49m\u001B[43mnewline\u001B[49m\u001B[38;5;241;43m=\u001B[39;49m\u001B[38;5;124;43m\"\u001B[39;49m\u001B[38;5;124;43m\"\u001B[39;49m\u001B[43m,\u001B[49m\n\u001B[1;32m    865\u001B[0m \u001B[43m        \u001B[49m\u001B[43m)\u001B[49m\n\u001B[1;32m    866\u001B[0m     \u001B[38;5;28;01melse\u001B[39;00m:\n\u001B[1;32m    867\u001B[0m         \u001B[38;5;66;03m# Binary mode\u001B[39;00m\n\u001B[1;32m    868\u001B[0m         handle \u001B[38;5;241m=\u001B[39m \u001B[38;5;28mopen\u001B[39m(handle, ioargs\u001B[38;5;241m.\u001B[39mmode)\n",
      "\u001B[0;31mFileNotFoundError\u001B[0m: [Errno 2] No such file or directory: '/Volumes/Natural Product Chemistry/Working Space/Fanzhou/Myristica/normalized_peak_list/pos/01090_X0_P.csv'"
     ]
    }
   ],
   "source": [
    "master_list = initilize_pmz_rt_list([os.path.join(dirs[3], x) for x in file_list], mode = 'inclusive')"
   ],
   "metadata": {
    "collapsed": false,
    "ExecuteTime": {
     "end_time": "2023-09-06T22:47:17.009207Z",
     "start_time": "2023-09-06T22:47:16.911502Z"
    }
   }
  },
  {
   "cell_type": "code",
   "execution_count": 37,
   "outputs": [
    {
     "name": "stderr",
     "output_type": "stream",
     "text": [
      "100%|██████████| 10/10 [01:18<00:00,  7.81s/it]\n"
     ]
    },
    {
     "ename": "ValueError",
     "evalue": "shape mismatch: value array of shape (17,) could not be broadcast to indexing result of shape (19,)",
     "output_type": "error",
     "traceback": [
      "\u001B[0;31m---------------------------------------------------------------------------\u001B[0m",
      "\u001B[0;31mValueError\u001B[0m                                Traceback (most recent call last)",
      "Cell \u001B[0;32mIn[37], line 2\u001B[0m\n\u001B[1;32m      1\u001B[0m alignment \u001B[38;5;241m=\u001B[39m align([os\u001B[38;5;241m.\u001B[39mpath\u001B[38;5;241m.\u001B[39mjoin(dirs[\u001B[38;5;241m3\u001B[39m], x) \u001B[38;5;28;01mfor\u001B[39;00m x \u001B[38;5;129;01min\u001B[39;00m file_list], master_list)\n\u001B[0;32m----> 2\u001B[0m alignment_istd \u001B[38;5;241m=\u001B[39m \u001B[43mfind_istd\u001B[49m\u001B[43m(\u001B[49m\u001B[43malignment\u001B[49m\u001B[43m,\u001B[49m\u001B[43m \u001B[49m\u001B[43mistd_info\u001B[49m\u001B[43m)\u001B[49m\n\u001B[1;32m      3\u001B[0m alignment_istd \u001B[38;5;241m=\u001B[39m string_search(alignment_istd, \u001B[38;5;124m'\u001B[39m\u001B[38;5;124misotopic_state\u001B[39m\u001B[38;5;124m'\u001B[39m, \u001B[38;5;124m'\u001B[39m\u001B[38;5;124mM + 0\u001B[39m\u001B[38;5;124m'\u001B[39m)\n\u001B[1;32m      4\u001B[0m alignment_istd\u001B[38;5;241m.\u001B[39mdrop([\u001B[38;5;124m'\u001B[39m\u001B[38;5;124misotopic_state\u001B[39m\u001B[38;5;124m'\u001B[39m], axis \u001B[38;5;241m=\u001B[39m \u001B[38;5;241m1\u001B[39m, inplace \u001B[38;5;241m=\u001B[39m \u001B[38;5;28;01mTrue\u001B[39;00m)\n",
      "File \u001B[0;32m~/Dropbox (Brightseed)/Mac/Documents/GitHub/lead_finder/toolsets/feature_alignment.py:187\u001B[0m, in \u001B[0;36mfind_istd\u001B[0;34m(alignmentt, istd_info, mz_column, rt_column)\u001B[0m\n\u001B[1;32m    185\u001B[0m feature_type \u001B[38;5;241m=\u001B[39m np\u001B[38;5;241m.\u001B[39mrepeat(\u001B[38;5;124m'\u001B[39m\u001B[38;5;124mcompound\u001B[39m\u001B[38;5;124m'\u001B[39m, \u001B[38;5;28mlen\u001B[39m(alignment))\n\u001B[1;32m    186\u001B[0m feature_type[istd_idx]\u001B[38;5;241m=\u001B[39mnp\u001B[38;5;241m.\u001B[39mrepeat(\u001B[38;5;124m'\u001B[39m\u001B[38;5;124mistd\u001B[39m\u001B[38;5;124m'\u001B[39m, \u001B[38;5;28mlen\u001B[39m(istd_idx))\n\u001B[0;32m--> 187\u001B[0m annotation[istd_idx]\u001B[38;5;241m=\u001B[39mistd_info[\u001B[38;5;124m'\u001B[39m\u001B[38;5;124mcompound_name\u001B[39m\u001B[38;5;124m'\u001B[39m]\n\u001B[1;32m    189\u001B[0m alignment\u001B[38;5;241m.\u001B[39minsert(\u001B[38;5;241m2\u001B[39m, \u001B[38;5;124m'\u001B[39m\u001B[38;5;124mannotation\u001B[39m\u001B[38;5;124m'\u001B[39m, annotation)\n\u001B[1;32m    190\u001B[0m alignment\u001B[38;5;241m.\u001B[39minsert(\u001B[38;5;241m3\u001B[39m, \u001B[38;5;124m'\u001B[39m\u001B[38;5;124mfeature_type\u001B[39m\u001B[38;5;124m'\u001B[39m, feature_type)\n",
      "\u001B[0;31mValueError\u001B[0m: shape mismatch: value array of shape (17,) could not be broadcast to indexing result of shape (19,)"
     ]
    }
   ],
   "source": [
    "alignment = align([os.path.join(dirs[3], x) for x in file_list], master_list)\n",
    "alignment_istd = find_istd(alignment, istd_info)\n",
    "alignment_istd = string_search(alignment_istd, 'isotopic_state', 'M + 0')\n",
    "alignment_istd.drop(['isotopic_state'], axis = 1, inplace = True)\n",
    "alignment_istd.to_csv(os.path.join(dirs[0], 'alignment_result_istd.csv'), index = False)"
   ],
   "metadata": {
    "collapsed": false,
    "ExecuteTime": {
     "end_time": "2023-09-06T01:02:15.320710Z",
     "start_time": "2023-09-06T01:00:56.928260Z"
    }
   }
  },
  {
   "cell_type": "code",
   "execution_count": 46,
   "outputs": [
    {
     "name": "stdout",
     "output_type": "stream",
     "text": [
      "1\n",
      "16\n"
     ]
    }
   ],
   "source": [
    "alignment = alignment.copy()\n",
    "istd_idx = []\n",
    "for index, row in istd_info.iterrows():\n",
    "    # mz =\n",
    "    # rt = row['RT_suggested']\n",
    "    feature_mz_search = quick_search_values(alignment, 'pmz', row['Precursor m/z']-0.005, row['Precursor m/z']+0.005, ifsorted=False)\n",
    "    feature_mzrt_search = quick_search_values(feature_mz_search, 'rt', row['RT_suggested']-10/60, row['RT_suggested']+10/60, ifsorted=False)\n",
    "    if len(feature_mzrt_search.index)>1:\n",
    "        print(index)\n",
    "    istd_idx.extend(feature_mzrt_search.index)"
   ],
   "metadata": {
    "collapsed": false,
    "ExecuteTime": {
     "end_time": "2023-09-06T18:06:16.859353Z",
     "start_time": "2023-09-06T18:06:16.518169Z"
    }
   }
  },
  {
   "cell_type": "code",
   "execution_count": 52,
   "outputs": [],
   "source": [
    "row = istd_info.iloc[16]"
   ],
   "metadata": {
    "collapsed": false,
    "ExecuteTime": {
     "end_time": "2023-09-06T18:11:29.558094Z",
     "start_time": "2023-09-06T18:11:29.513856Z"
    }
   }
  },
  {
   "cell_type": "code",
   "execution_count": 58,
   "outputs": [],
   "source": [
    "from toolsets.feature_alignment import find_feature"
   ],
   "metadata": {
    "collapsed": false,
    "ExecuteTime": {
     "end_time": "2023-09-06T18:24:03.483065Z",
     "start_time": "2023-09-06T18:24:03.324496Z"
    }
   }
  },
  {
   "cell_type": "code",
   "execution_count": 59,
   "outputs": [
    {
     "data": {
      "text/plain": "compound_name       C20-APS\nmono_mass        439.312015\nRT_suggested           8.29\nPrecursor m/z    440.319291\nName: 16, dtype: object"
     },
     "execution_count": 59,
     "metadata": {},
     "output_type": "execute_result"
    }
   ],
   "source": [
    "row"
   ],
   "metadata": {
    "collapsed": false,
    "ExecuteTime": {
     "end_time": "2023-09-06T18:25:09.984944Z",
     "start_time": "2023-09-06T18:25:09.885117Z"
    }
   }
  },
  {
   "cell_type": "code",
   "execution_count": 61,
   "outputs": [
    {
     "data": {
      "text/plain": "440.319291"
     },
     "execution_count": 61,
     "metadata": {},
     "output_type": "execute_result"
    }
   ],
   "source": [
    "row['Precursor m/z']"
   ],
   "metadata": {
    "collapsed": false,
    "ExecuteTime": {
     "end_time": "2023-09-06T18:25:46.028431Z",
     "start_time": "2023-09-06T18:25:45.980548Z"
    }
   }
  },
  {
   "cell_type": "code",
   "execution_count": 62,
   "outputs": [
    {
     "data": {
      "text/plain": "8.29"
     },
     "execution_count": 62,
     "metadata": {},
     "output_type": "execute_result"
    }
   ],
   "source": [
    "row['RT_suggested']"
   ],
   "metadata": {
    "collapsed": false,
    "ExecuteTime": {
     "end_time": "2023-09-06T18:25:52.763214Z",
     "start_time": "2023-09-06T18:25:52.686389Z"
    }
   }
  },
  {
   "cell_type": "code",
   "execution_count": 63,
   "outputs": [
    {
     "data": {
      "text/plain": "            pmz        rt  01090_X0_P  01090_X1_P  01090_X2_P  01090_X3_P  \\\n13353  440.3194  8.327345    11186299    10871917    11640460    12259379   \n13354  440.3195  8.327345    11186299    10871917    11640460    12259379   \n\n       01090_X4_P  01090_X5_P  01090_X6_P  01090_X7_P  01090_X8_P  01090_X9_P  \\\n13353    10674943    20150348     9093569     8079028     6159597     7006314   \n13354    10674943    20150348     9093569     8079028     6159597     7006314   \n\n      isotopic_state  \n13353          M + 0  \n13354          M + 0  ",
      "text/html": "<div>\n<style scoped>\n    .dataframe tbody tr th:only-of-type {\n        vertical-align: middle;\n    }\n\n    .dataframe tbody tr th {\n        vertical-align: top;\n    }\n\n    .dataframe thead th {\n        text-align: right;\n    }\n</style>\n<table border=\"1\" class=\"dataframe\">\n  <thead>\n    <tr style=\"text-align: right;\">\n      <th></th>\n      <th>pmz</th>\n      <th>rt</th>\n      <th>01090_X0_P</th>\n      <th>01090_X1_P</th>\n      <th>01090_X2_P</th>\n      <th>01090_X3_P</th>\n      <th>01090_X4_P</th>\n      <th>01090_X5_P</th>\n      <th>01090_X6_P</th>\n      <th>01090_X7_P</th>\n      <th>01090_X8_P</th>\n      <th>01090_X9_P</th>\n      <th>isotopic_state</th>\n    </tr>\n  </thead>\n  <tbody>\n    <tr>\n      <th>13353</th>\n      <td>440.3194</td>\n      <td>8.327345</td>\n      <td>11186299</td>\n      <td>10871917</td>\n      <td>11640460</td>\n      <td>12259379</td>\n      <td>10674943</td>\n      <td>20150348</td>\n      <td>9093569</td>\n      <td>8079028</td>\n      <td>6159597</td>\n      <td>7006314</td>\n      <td>M + 0</td>\n    </tr>\n    <tr>\n      <th>13354</th>\n      <td>440.3195</td>\n      <td>8.327345</td>\n      <td>11186299</td>\n      <td>10871917</td>\n      <td>11640460</td>\n      <td>12259379</td>\n      <td>10674943</td>\n      <td>20150348</td>\n      <td>9093569</td>\n      <td>8079028</td>\n      <td>6159597</td>\n      <td>7006314</td>\n      <td>M + 0</td>\n    </tr>\n  </tbody>\n</table>\n</div>"
     },
     "execution_count": 63,
     "metadata": {},
     "output_type": "execute_result"
    }
   ],
   "source": [
    "find_feature(alignment, row['Precursor m/z'], row['RT_suggested'], mz_column='pmz', rt_column='rt', rt_offset=10)"
   ],
   "metadata": {
    "collapsed": false,
    "ExecuteTime": {
     "end_time": "2023-09-06T18:25:59.082742Z",
     "start_time": "2023-09-06T18:25:59.007748Z"
    }
   }
  }
 ],
 "metadata": {
  "kernelspec": {
   "name": "alphapept_env",
   "language": "python",
   "display_name": "alphapept_env"
  },
  "language_info": {
   "codemirror_mode": {
    "name": "ipython",
    "version": 2
   },
   "file_extension": ".py",
   "mimetype": "text/x-python",
   "name": "python",
   "nbconvert_exporter": "python",
   "pygments_lexer": "ipython2",
   "version": "2.7.6"
  }
 },
 "nbformat": 4,
 "nbformat_minor": 0
}
