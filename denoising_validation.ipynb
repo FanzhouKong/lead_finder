{
 "cells": [
  {
   "cell_type": "code",
   "execution_count": 1,
   "metadata": {
    "collapsed": true,
    "pycharm": {
     "name": "#%%\n"
    }
   },
   "outputs": [],
   "source": [
    "import os.path\n",
    "%load_ext autoreload\n",
    "%autoreload 2\n",
    "import numpy as np\n",
    "import pandas as pd\n",
    "from tqdm import tqdm\n",
    "import os\n",
    "from ast import literal_eval\n",
    "import matplotlib.pyplot as plt\n",
    "import seaborn as sns\n",
    "import toolsets.raw_data_scaffold as rds\n",
    "import toolsets.T_rex as trx\n",
    "import toolsets.spectra_operations as so\n",
    "import toolsets.spectra_plotter as plotter\n",
    "import toolsets.denoising_related_functions as drf\n",
    "import re\n",
    "import chemparse\n",
    "from pubchempy import Compound, get_compounds\n",
    "from toolsets.search import quick_search_values, quick_search_sorted, string_search, search_feature\n",
    "import itertools\n",
    "from rdkit import Chem\n",
    "import toolsets.denoising_related_functions as drf\n",
    "import toolsets.chem_utils as cu\n",
    "from molmass import Formula\n",
    "from rdkit.Chem.rdMolDescriptors import CalcMolFormula\n",
    "master_dir = '/Users/fanzhoukong/Documents/GitHub/Libgen_data/denoising_data'"
   ]
  },
  {
   "cell_type": "code",
   "execution_count": 2,
   "outputs": [],
   "source": [
    "def precursor_percent(msms, pmz):\n",
    "    mass, intensity= so.break_spectra(msms)\n",
    "    index_start = np.searchsorted(mass, pmz-1.6,side = 'left')\n",
    "    mass_parent = mass[index_start:]\n",
    "    intensity_parent = intensity[index_start:]\n",
    "    mass_frag = mass[0:index_start]\n",
    "    intensity_frag = intensity[0:index_start]\n",
    "    return(np.sum(intensity_parent)/np.sum(intensity))\n",
    "def determine_charge_state(adduct):\n",
    "\n",
    "    if adduct[0]=='[':\n",
    "        charge_state = re.split(r'\\[|]', adduct)[-1]\n",
    "        adduct_part = re.split(r'\\[|]', adduct)[1]\n",
    "        ind = re.split(r'(\\+|-)', adduct_part)\n",
    "    else:\n",
    "        charge_state = adduct[-1]\n",
    "        adduct_part = adduct\n",
    "        ind = re.split(r'(\\+|-)', adduct_part)\n",
    "    if charge_state[-1]=='+':\n",
    "        coef = 1\n",
    "    elif charge_state[-1]=='-':\n",
    "        coef = -1\n",
    "    else:\n",
    "        return(np.NAN)\n",
    "    if len(charge_state)>1:\n",
    "        charge_state = int(charge_state[0:-1])*coef\n",
    "    else:\n",
    "        charge_state = 1*coef\n",
    "    return(int(charge_state))"
   ],
   "metadata": {
    "collapsed": false,
    "pycharm": {
     "name": "#%%\n"
    }
   }
  },
  {
   "cell_type": "code",
   "execution_count": 3,
   "outputs": [],
   "source": [
    "nist_pos = pd.read_csv('/Users/fanzhoukong/Documents/GitHub/Libgen_data/curated_library/csv/pos_orbi_nist_sorted.csv')"
   ],
   "metadata": {
    "collapsed": false,
    "pycharm": {
     "name": "#%%\n"
    }
   }
  },
  {
   "cell_type": "code",
   "execution_count": 4,
   "outputs": [],
   "source": [
    "nist_pos = nist_pos.dropna(subset='SMILES')"
   ],
   "metadata": {
    "collapsed": false,
    "pycharm": {
     "name": "#%%\n"
    }
   }
  },
  {
   "cell_type": "code",
   "execution_count": 9,
   "outputs": [
    {
     "name": "stderr",
     "output_type": "stream",
     "text": [
      "100%|██████████| 1254241/1254241 [13:06:52<00:00, 26.57it/s]   \n"
     ]
    }
   ],
   "source": [
    "msms_d_frag = []\n",
    "msms_d_nl = []\n",
    "eis_frag = []\n",
    "eis_nl = []\n",
    "included_idx = []\n",
    "for index, row in tqdm(nist_pos.iterrows(), total = len(nist_pos)):\n",
    "    try:\n",
    "        calculated_pmz = cu.calculate_precursormz(row['SMILES'], row['Precursor_type'], if_smiles=True)\n",
    "    except:\n",
    "        calculated_pmz = np.NAN\n",
    "    if calculated_pmz == calculated_pmz and abs(calculated_pmz-row['PrecursorMZ'])<0.005:\n",
    "        if precursor_percent(row['spectrum'], row['PrecursorMZ'])<0.9 and abs(determine_charge_state(row['Precursor_type']))==1:\n",
    "            try:\n",
    "                denoised_nl = drf.spectra_denoising(row['spectrum'], row['SMILES'], adduct = row['Precursor_type'], mass_tolerance=0.005)\n",
    "                denoised_frag = drf.spectra_denoising_frag(row['spectrum'], row['SMILES'], adduct = row['Precursor_type'], mass_tolerance=0.005)\n",
    "                msms_d_frag.append(denoised_frag[0])\n",
    "                eis_frag.append(denoised_frag[1])\n",
    "                msms_d_nl.append(denoised_nl[0])\n",
    "                eis_nl.append(denoised_nl[1])\n",
    "                included_idx.append(index)\n",
    "            except:\n",
    "                pass\n",
    "    # if index == 199:\n",
    "    #     break"
   ],
   "metadata": {
    "collapsed": false,
    "pycharm": {
     "name": "#%%\n"
    }
   }
  },
  {
   "cell_type": "code",
   "execution_count": 12,
   "outputs": [],
   "source": [
    "nist_denoised = nist_pos.loc[included_idx]"
   ],
   "metadata": {
    "collapsed": false,
    "pycharm": {
     "name": "#%%\n"
    }
   }
  },
  {
   "cell_type": "code",
   "execution_count": 13,
   "outputs": [],
   "source": [
    "nist_denoised['msms_d_frag']=msms_d_frag\n",
    "nist_denoised['msms_d_nl']=msms_d_nl\n",
    "nist_denoised['eis_frag']=eis_frag\n",
    "nist_denoised['eis_nl']=eis_nl"
   ],
   "metadata": {
    "collapsed": false,
    "pycharm": {
     "name": "#%%\n"
    }
   }
  },
  {
   "cell_type": "code",
   "execution_count": 15,
   "outputs": [
    {
     "data": {
      "text/plain": "count    1.100989e+06\nmean     9.775759e-01\nstd      8.206357e-02\nmin      0.000000e+00\n25%      9.915923e-01\n50%      1.000000e+00\n75%      1.000000e+00\nmax      1.000000e+00\nName: eis_nl, dtype: float64"
     },
     "execution_count": 15,
     "metadata": {},
     "output_type": "execute_result"
    }
   ],
   "source": [
    "nist_denoised['eis_nl'].describe()"
   ],
   "metadata": {
    "collapsed": false,
    "pycharm": {
     "name": "#%%\n"
    }
   }
  },
  {
   "cell_type": "code",
   "execution_count": 16,
   "outputs": [
    {
     "data": {
      "text/plain": "count    1.100989e+06\nmean     9.884890e-01\nstd      5.143819e-02\nmin      0.000000e+00\n25%      9.971294e-01\n50%      1.000000e+00\n75%      1.000000e+00\nmax      1.000000e+00\nName: eis_frag, dtype: float64"
     },
     "execution_count": 16,
     "metadata": {},
     "output_type": "execute_result"
    }
   ],
   "source": [
    "nist_denoised['eis_frag'].describe()"
   ],
   "metadata": {
    "collapsed": false,
    "pycharm": {
     "name": "#%%\n"
    }
   }
  },
  {
   "cell_type": "code",
   "execution_count": 17,
   "outputs": [],
   "source": [
    "from scipy import stats"
   ],
   "metadata": {
    "collapsed": false,
    "pycharm": {
     "name": "#%%\n"
    }
   }
  },
  {
   "cell_type": "code",
   "execution_count": 21,
   "outputs": [],
   "source": [
    "nist_denoised.to_csv(os.path.join(master_dir, 'nist_denoised.csv'), index = False)"
   ],
   "metadata": {
    "collapsed": false,
    "pycharm": {
     "name": "#%%\n"
    }
   }
  },
  {
   "cell_type": "code",
   "execution_count": 26,
   "outputs": [
    {
     "data": {
      "text/plain": "1043804"
     },
     "execution_count": 26,
     "metadata": {},
     "output_type": "execute_result"
    }
   ],
   "source": [
    "np.sum(np.array(eis_nl)>0.9)"
   ],
   "metadata": {
    "collapsed": false,
    "pycharm": {
     "name": "#%%\n"
    }
   }
  },
  {
   "cell_type": "code",
   "execution_count": 29,
   "outputs": [
    {
     "data": {
      "text/plain": "0.948060334844399"
     },
     "execution_count": 29,
     "metadata": {},
     "output_type": "execute_result"
    }
   ],
   "source": [
    "(np.sum(np.array(eis_nl)>0.9))/len(eis_nl)"
   ],
   "metadata": {
    "collapsed": false,
    "pycharm": {
     "name": "#%%\n"
    }
   }
  },
  {
   "cell_type": "code",
   "execution_count": 32,
   "outputs": [
    {
     "data": {
      "text/plain": "         Unnamed: 0  library_idx  \\\n253          282207       282207   \n255          282209       282209   \n315          333440       333440   \n318          333439       333439   \n330          333438       333438   \n...             ...          ...   \n1283489      587776       587776   \n1283495      589427       589427   \n1283496      589426       589426   \n1283497      589425       589425   \n1283703       19375        19375   \n\n                                                  spectrum  \\\n253      55.0177\\t6.6\\n56.9646\\t18.1\\n57.0333\\t3.0\\n67....   \n255      53.0384\\t1.3\\n55.0177\\t28.9\\n55.0541\\t4.2\\n55....   \n315      50.0151\\t1.3\\n51.0231\\t17.8\\n52.0183\\t3.5\\n53....   \n318      51.0231\\t3.5\\n52.0182\\t1.1\\n54.034\\t2.1\\n56.04...   \n330      54.034\\t2.7\\n56.0496\\t19.7\\n57.053\\t1.1\\n58.99...   \n...                                                    ...   \n1283489  171.0652\\t7.6\\n187.06\\t3.9\\n205.0706\\t15.7\\n22...   \n1283495  165.0907\\t2.1\\n291.1224\\t2.8\\n309.1331\\t17.9\\n...   \n1283496  459.1866\\t2.6\\n591.2286\\t2.9\\n605.2442\\t4.4\\n6...   \n1283497  1353.688\\t1.2\\n1371.6923\\t2.2\\n1389.7085\\t4.5\\...   \n1283703  1115.7158\\t10.2\\n1116.72\\t6.6\\n1117.7233\\t3.6\\...   \n\n                                                      Name Ion_mode  \\\n253                                       4-Hydroxyhexenal        P   \n255                                       4-Hydroxyhexenal        P   \n315               5-Cyclopropyl-1,3,4-thiadiazol-2-ylamine        P   \n318               5-Cyclopropyl-1,3,4-thiadiazol-2-ylamine        P   \n330               5-Cyclopropyl-1,3,4-thiadiazol-2-ylamine        P   \n...                                                    ...      ...   \n1283489  6-O-Acetyl-.beta.-D-glucopyranosyl-(1->3)-[.be...        P   \n1283495  Olean-12-en-28-oic acid, 16-hydroxy-3-[(O-pent...        P   \n1283496  Olean-12-en-28-oic acid, 16-hydroxy-3-[(O-pent...        P   \n1283497  Olean-12-en-28-oic acid, 16-hydroxy-3-[(O-pent...        P   \n1283703                                    GD2(d18:1/20:0)        P   \n\n        Precursor_type  PrecursorMZ  \\\n253         [M+H-H2O]+      97.0648   \n255         [M+H-H2O]+      97.0648   \n315       [M+H-CH2N2]+     100.0215   \n318       [M+H-CH2N2]+     100.0215   \n330       [M+H-CH2N2]+     100.0215   \n...                ...          ...   \n1283489       [M+NH4]+    1670.7432   \n1283495       [M+NH4]+    1670.8160   \n1283496       [M+NH4]+    1670.8160   \n1283497       [M+NH4]+    1670.8160   \n1283703        [M+Na]+    1725.9398   \n\n                                                    SMILES  \\\n253                                           CCC(O)C=CC=O   \n255                                           CCC(O)C=CC=O   \n315                                        Nc1nnc(C2CC2)s1   \n318                                        Nc1nnc(C2CC2)s1   \n330                                        Nc1nnc(C2CC2)s1   \n...                                                    ...   \n1283489  CC(=O)OCC1OC(OC2C(O)C(OC3C(OC(=O)C45CCC(C)(C)C...   \n1283495  C=CC(C)(O)CCC=C(C)C(=O)OC1C(O)C(CO)OC(OC(=O)C2...   \n1283496  C=CC(C)(O)CCC=C(C)C(=O)OC1C(O)C(CO)OC(OC(=O)C2...   \n1283497  C=CC(C)(O)CCC=C(C)C(=O)OC1C(O)C(CO)OC(OC(=O)C2...   \n1283703  CCCCCCCCCCCCCC=CC(O)C(COC1OC(CO)C(OC2OC(CO)C(O...   \n\n                                   Comments  \\\n253      NIST Mass Spectrometry Data Center   \n255      NIST Mass Spectrometry Data Center   \n315      NIST Mass Spectrometry Data Center   \n318      NIST Mass Spectrometry Data Center   \n330      NIST Mass Spectrometry Data Center   \n...                                     ...   \n1283489  NIST Mass Spectrometry Data Center   \n1283495  NIST Mass Spectrometry Data Center   \n1283496  NIST Mass Spectrometry Data Center   \n1283497  NIST Mass Spectrometry Data Center   \n1283703  NIST Mass Spectrometry Data Center   \n\n                                               msms_d_frag  \\\n253      55.0177\\t6.6\\n57.0333\\t3.0\\n67.0541\\t8.8\\n69.0...   \n255      53.0384\\t1.3\\n55.0177\\t28.9\\n55.0541\\t4.2\\n57....   \n315      50.0151\\t1.3\\n51.0231\\t17.8\\n52.0183\\t3.5\\n53....   \n318      51.0231\\t3.5\\n52.0182\\t1.1\\n54.034\\t2.1\\n56.04...   \n330      54.034\\t2.7\\n56.0496\\t19.7\\n58.9951\\t3.8\\n59.9...   \n...                                                    ...   \n1283489  171.0652\\t7.6\\n187.06\\t3.9\\n205.0706\\t15.7\\n22...   \n1283495  165.0907\\t2.1\\n291.1224\\t2.8\\n309.1331\\t17.9\\n...   \n1283496  459.1866\\t2.6\\n591.2286\\t2.9\\n605.2442\\t4.4\\n6...   \n1283497  1353.688\\t1.2\\n1371.6923\\t2.2\\n1389.7085\\t4.5\\...   \n1283703  1115.7158\\t10.2\\n1116.72\\t6.6\\n1117.7233\\t3.6\\...   \n\n                                                 msms_d_nl  eis_frag    eis_nl  \n253      55.0177\\t6.6\\n57.0333\\t3.0\\n67.0541\\t8.8\\n69.0...  0.571011  0.571011  \n255      53.0384\\t1.3\\n55.0177\\t28.9\\n55.0541\\t4.2\\n57....  0.827635  0.827635  \n315      50.0151\\t1.3\\n51.0231\\t17.8\\n52.0183\\t3.5\\n53....  0.863057  0.863057  \n318      51.0231\\t3.5\\n52.0182\\t1.1\\n54.034\\t2.1\\n56.04...  0.881543  0.881543  \n330      54.034\\t2.7\\n56.0496\\t19.7\\n58.9951\\t3.8\\n59.9...  0.898556  0.899406  \n...                                                    ...       ...       ...  \n1283489  273.0969\\t3.0\\n295.1025\\t1.3\\n297.0968\\t3.2\\n3...  0.888786  0.956476  \n1283495  291.1224\\t2.8\\n309.1331\\t17.9\\n313.1645\\t4.6\\n...  0.843212  0.960482  \n1283496  459.1866\\t2.6\\n591.2286\\t2.9\\n605.2442\\t4.4\\n6...  0.327093  0.938908  \n1283497  1353.688\\t1.2\\n1371.6923\\t2.2\\n1389.7085\\t4.5\\...  0.040020  0.924519  \n1283703  1115.7158\\t10.2\\n1116.72\\t6.6\\n1117.7233\\t3.6\\...  0.771834  0.897283  \n\n[26083 rows x 13 columns]",
      "text/html": "<div>\n<style scoped>\n    .dataframe tbody tr th:only-of-type {\n        vertical-align: middle;\n    }\n\n    .dataframe tbody tr th {\n        vertical-align: top;\n    }\n\n    .dataframe thead th {\n        text-align: right;\n    }\n</style>\n<table border=\"1\" class=\"dataframe\">\n  <thead>\n    <tr style=\"text-align: right;\">\n      <th></th>\n      <th>Unnamed: 0</th>\n      <th>library_idx</th>\n      <th>spectrum</th>\n      <th>Name</th>\n      <th>Ion_mode</th>\n      <th>Precursor_type</th>\n      <th>PrecursorMZ</th>\n      <th>SMILES</th>\n      <th>Comments</th>\n      <th>msms_d_frag</th>\n      <th>msms_d_nl</th>\n      <th>eis_frag</th>\n      <th>eis_nl</th>\n    </tr>\n  </thead>\n  <tbody>\n    <tr>\n      <th>253</th>\n      <td>282207</td>\n      <td>282207</td>\n      <td>55.0177\\t6.6\\n56.9646\\t18.1\\n57.0333\\t3.0\\n67....</td>\n      <td>4-Hydroxyhexenal</td>\n      <td>P</td>\n      <td>[M+H-H2O]+</td>\n      <td>97.0648</td>\n      <td>CCC(O)C=CC=O</td>\n      <td>NIST Mass Spectrometry Data Center</td>\n      <td>55.0177\\t6.6\\n57.0333\\t3.0\\n67.0541\\t8.8\\n69.0...</td>\n      <td>55.0177\\t6.6\\n57.0333\\t3.0\\n67.0541\\t8.8\\n69.0...</td>\n      <td>0.571011</td>\n      <td>0.571011</td>\n    </tr>\n    <tr>\n      <th>255</th>\n      <td>282209</td>\n      <td>282209</td>\n      <td>53.0384\\t1.3\\n55.0177\\t28.9\\n55.0541\\t4.2\\n55....</td>\n      <td>4-Hydroxyhexenal</td>\n      <td>P</td>\n      <td>[M+H-H2O]+</td>\n      <td>97.0648</td>\n      <td>CCC(O)C=CC=O</td>\n      <td>NIST Mass Spectrometry Data Center</td>\n      <td>53.0384\\t1.3\\n55.0177\\t28.9\\n55.0541\\t4.2\\n57....</td>\n      <td>53.0384\\t1.3\\n55.0177\\t28.9\\n55.0541\\t4.2\\n57....</td>\n      <td>0.827635</td>\n      <td>0.827635</td>\n    </tr>\n    <tr>\n      <th>315</th>\n      <td>333440</td>\n      <td>333440</td>\n      <td>50.0151\\t1.3\\n51.0231\\t17.8\\n52.0183\\t3.5\\n53....</td>\n      <td>5-Cyclopropyl-1,3,4-thiadiazol-2-ylamine</td>\n      <td>P</td>\n      <td>[M+H-CH2N2]+</td>\n      <td>100.0215</td>\n      <td>Nc1nnc(C2CC2)s1</td>\n      <td>NIST Mass Spectrometry Data Center</td>\n      <td>50.0151\\t1.3\\n51.0231\\t17.8\\n52.0183\\t3.5\\n53....</td>\n      <td>50.0151\\t1.3\\n51.0231\\t17.8\\n52.0183\\t3.5\\n53....</td>\n      <td>0.863057</td>\n      <td>0.863057</td>\n    </tr>\n    <tr>\n      <th>318</th>\n      <td>333439</td>\n      <td>333439</td>\n      <td>51.0231\\t3.5\\n52.0182\\t1.1\\n54.034\\t2.1\\n56.04...</td>\n      <td>5-Cyclopropyl-1,3,4-thiadiazol-2-ylamine</td>\n      <td>P</td>\n      <td>[M+H-CH2N2]+</td>\n      <td>100.0215</td>\n      <td>Nc1nnc(C2CC2)s1</td>\n      <td>NIST Mass Spectrometry Data Center</td>\n      <td>51.0231\\t3.5\\n52.0182\\t1.1\\n54.034\\t2.1\\n56.04...</td>\n      <td>51.0231\\t3.5\\n52.0182\\t1.1\\n54.034\\t2.1\\n56.04...</td>\n      <td>0.881543</td>\n      <td>0.881543</td>\n    </tr>\n    <tr>\n      <th>330</th>\n      <td>333438</td>\n      <td>333438</td>\n      <td>54.034\\t2.7\\n56.0496\\t19.7\\n57.053\\t1.1\\n58.99...</td>\n      <td>5-Cyclopropyl-1,3,4-thiadiazol-2-ylamine</td>\n      <td>P</td>\n      <td>[M+H-CH2N2]+</td>\n      <td>100.0215</td>\n      <td>Nc1nnc(C2CC2)s1</td>\n      <td>NIST Mass Spectrometry Data Center</td>\n      <td>54.034\\t2.7\\n56.0496\\t19.7\\n58.9951\\t3.8\\n59.9...</td>\n      <td>54.034\\t2.7\\n56.0496\\t19.7\\n58.9951\\t3.8\\n59.9...</td>\n      <td>0.898556</td>\n      <td>0.899406</td>\n    </tr>\n    <tr>\n      <th>...</th>\n      <td>...</td>\n      <td>...</td>\n      <td>...</td>\n      <td>...</td>\n      <td>...</td>\n      <td>...</td>\n      <td>...</td>\n      <td>...</td>\n      <td>...</td>\n      <td>...</td>\n      <td>...</td>\n      <td>...</td>\n      <td>...</td>\n    </tr>\n    <tr>\n      <th>1283489</th>\n      <td>587776</td>\n      <td>587776</td>\n      <td>171.0652\\t7.6\\n187.06\\t3.9\\n205.0706\\t15.7\\n22...</td>\n      <td>6-O-Acetyl-.beta.-D-glucopyranosyl-(1-&gt;3)-[.be...</td>\n      <td>P</td>\n      <td>[M+NH4]+</td>\n      <td>1670.7432</td>\n      <td>CC(=O)OCC1OC(OC2C(O)C(OC3C(OC(=O)C45CCC(C)(C)C...</td>\n      <td>NIST Mass Spectrometry Data Center</td>\n      <td>171.0652\\t7.6\\n187.06\\t3.9\\n205.0706\\t15.7\\n22...</td>\n      <td>273.0969\\t3.0\\n295.1025\\t1.3\\n297.0968\\t3.2\\n3...</td>\n      <td>0.888786</td>\n      <td>0.956476</td>\n    </tr>\n    <tr>\n      <th>1283495</th>\n      <td>589427</td>\n      <td>589427</td>\n      <td>165.0907\\t2.1\\n291.1224\\t2.8\\n309.1331\\t17.9\\n...</td>\n      <td>Olean-12-en-28-oic acid, 16-hydroxy-3-[(O-pent...</td>\n      <td>P</td>\n      <td>[M+NH4]+</td>\n      <td>1670.8160</td>\n      <td>C=CC(C)(O)CCC=C(C)C(=O)OC1C(O)C(CO)OC(OC(=O)C2...</td>\n      <td>NIST Mass Spectrometry Data Center</td>\n      <td>165.0907\\t2.1\\n291.1224\\t2.8\\n309.1331\\t17.9\\n...</td>\n      <td>291.1224\\t2.8\\n309.1331\\t17.9\\n313.1645\\t4.6\\n...</td>\n      <td>0.843212</td>\n      <td>0.960482</td>\n    </tr>\n    <tr>\n      <th>1283496</th>\n      <td>589426</td>\n      <td>589426</td>\n      <td>459.1866\\t2.6\\n591.2286\\t2.9\\n605.2442\\t4.4\\n6...</td>\n      <td>Olean-12-en-28-oic acid, 16-hydroxy-3-[(O-pent...</td>\n      <td>P</td>\n      <td>[M+NH4]+</td>\n      <td>1670.8160</td>\n      <td>C=CC(C)(O)CCC=C(C)C(=O)OC1C(O)C(CO)OC(OC(=O)C2...</td>\n      <td>NIST Mass Spectrometry Data Center</td>\n      <td>459.1866\\t2.6\\n591.2286\\t2.9\\n605.2442\\t4.4\\n6...</td>\n      <td>459.1866\\t2.6\\n591.2286\\t2.9\\n605.2442\\t4.4\\n6...</td>\n      <td>0.327093</td>\n      <td>0.938908</td>\n    </tr>\n    <tr>\n      <th>1283497</th>\n      <td>589425</td>\n      <td>589425</td>\n      <td>1353.688\\t1.2\\n1371.6923\\t2.2\\n1389.7085\\t4.5\\...</td>\n      <td>Olean-12-en-28-oic acid, 16-hydroxy-3-[(O-pent...</td>\n      <td>P</td>\n      <td>[M+NH4]+</td>\n      <td>1670.8160</td>\n      <td>C=CC(C)(O)CCC=C(C)C(=O)OC1C(O)C(CO)OC(OC(=O)C2...</td>\n      <td>NIST Mass Spectrometry Data Center</td>\n      <td>1353.688\\t1.2\\n1371.6923\\t2.2\\n1389.7085\\t4.5\\...</td>\n      <td>1353.688\\t1.2\\n1371.6923\\t2.2\\n1389.7085\\t4.5\\...</td>\n      <td>0.040020</td>\n      <td>0.924519</td>\n    </tr>\n    <tr>\n      <th>1283703</th>\n      <td>19375</td>\n      <td>19375</td>\n      <td>1115.7158\\t10.2\\n1116.72\\t6.6\\n1117.7233\\t3.6\\...</td>\n      <td>GD2(d18:1/20:0)</td>\n      <td>P</td>\n      <td>[M+Na]+</td>\n      <td>1725.9398</td>\n      <td>CCCCCCCCCCCCCC=CC(O)C(COC1OC(CO)C(OC2OC(CO)C(O...</td>\n      <td>NIST Mass Spectrometry Data Center</td>\n      <td>1115.7158\\t10.2\\n1116.72\\t6.6\\n1117.7233\\t3.6\\...</td>\n      <td>1115.7158\\t10.2\\n1116.72\\t6.6\\n1117.7233\\t3.6\\...</td>\n      <td>0.771834</td>\n      <td>0.897283</td>\n    </tr>\n  </tbody>\n</table>\n<p>26083 rows × 13 columns</p>\n</div>"
     },
     "execution_count": 32,
     "metadata": {},
     "output_type": "execute_result"
    }
   ],
   "source": [
    "nist_denoised[nist_denoised['eis_frag']<0.9]"
   ],
   "metadata": {
    "collapsed": false,
    "pycharm": {
     "name": "#%%\n"
    }
   }
  },
  {
   "cell_type": "code",
   "execution_count": 33,
   "outputs": [],
   "source": [
    "row = nist_denoised[nist_denoised['eis_frag']<0.9].iloc[0]"
   ],
   "metadata": {
    "collapsed": false,
    "pycharm": {
     "name": "#%%\n"
    }
   }
  },
  {
   "cell_type": "code",
   "execution_count": 14,
   "outputs": [
    {
     "data": {
      "text/plain": "<Figure size 600x400 with 1 Axes>",
      "image/png": "[encoded data removed]"
     },
     "metadata": {},
     "output_type": "display_data"
    }
   ],
   "source": [
    "fig = plt.figure(figsize = (6, 4))#43\n",
    "ax = fig.add_subplot()\n",
    "#\n",
    "\n",
    "sns.kdeplot(nist_denoised['eis_nl'], label= 'by_nl' )\n",
    "sns.kdeplot(nist_denoised['eis_frag'], label= 'by_frag' )\n",
    "# plt.xlim(0, 100)\n",
    "# ax.set_xlabel('Explained intensity (%)',size = 16)\n",
    "# ax.set_ylabel('Density', size = 16)\n",
    "# sns.lineplot(x = range(1,14), y = ns_means)\n",
    "# sns.histplot(library_bad_quality['normalized_entropy'], label = 'low_quality')\n",
    "# plt.vlines(x = 0.8, ymin=0, ymax=250, color = 'red')\n",
    "plt.grid(False)\n",
    "ax.set_facecolor(\"white\")\n",
    "plt.legend(facecolor='white')\n",
    "# plt.legend()\n",
    "fig.tight_layout()\n",
    "# plt.savefig(os.path.join(figs_dir, 'ei_across_concs.png'))"
   ],
   "metadata": {
    "collapsed": false,
    "pycharm": {
     "name": "#%%\n"
    }
   }
  },
  {
   "cell_type": "markdown",
   "source": [],
   "metadata": {
    "collapsed": false,
    "pycharm": {
     "name": "#%% md\n"
    }
   }
  }
 ],
 "metadata": {
  "kernelspec": {
   "display_name": "Python 3",
   "language": "python",
   "name": "python3"
  },
  "language_info": {
   "codemirror_mode": {
    "name": "ipython",
    "version": 2
   },
   "file_extension": ".py",
   "mimetype": "text/x-python",
   "name": "python",
   "nbconvert_exporter": "python",
   "pygments_lexer": "ipython2",
   "version": "2.7.6"
  }
 },
 "nbformat": 4,
 "nbformat_minor": 0
}