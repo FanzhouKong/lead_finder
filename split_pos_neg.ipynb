{
 "cells": [
  {
   "cell_type": "code",
   "execution_count": null,
   "outputs": [],
   "source": [
    "all_folder = ' /Volumes/Natural Product Chemistry/Working Space/Fanzhou/20230607_NQ_Development_H2Lv2/mzml'"
   ],
   "metadata": {
    "collapsed": false
   }
  },
  {
   "cell_type": "code",
   "execution_count": null,
   "metadata": {
    "collapsed": true
   },
   "outputs": [],
   "source": [
    "import os\n",
    "import shutil\n",
    "import sys\n",
    "\n",
    "\n",
    "# pos_neg_folder = '/Volumes/Brother_cow/brighseed/2068_AX_M6P1/2068_AX_M6P1'\n",
    "pos_folder = os.path.join(all_folder, 'pos')\n",
    "neg_folder = os.path.join(all_folder, 'neg')\n",
    "for folder in [pos_folder, neg_folder]:\n",
    "    if os.path.exists(folder)==False:\n",
    "        os.makedirs(folder)\n",
    "\n",
    "# file_lists = []\n",
    "for root, dirs, files in os.walk(all_folder):\n",
    "    for file in files:\n",
    "        # print(file)\n",
    "\n",
    "        if file.endswith('.mzML'):\n",
    "            if len(file.split('.'))==2:\n",
    "                base_name = file.split('.')[0]\n",
    "                print(base_name)\n",
    "                if base_name[-1]=='P':\n",
    "                    shutil.move(os.path.join(all_folder, file), os.path.join(pos_folder, file))\n",
    "                elif base_name[-1]=='N':\n",
    "                    shutil.move(os.path.join(all_folder, file), os.path.join(neg_folder, file))"
   ]
  }
 ],
 "metadata": {
  "kernelspec": {
   "display_name": "Python 3",
   "language": "python",
   "name": "python3"
  },
  "language_info": {
   "codemirror_mode": {
    "name": "ipython",
    "version": 2
   },
   "file_extension": ".py",
   "mimetype": "text/x-python",
   "name": "python",
   "nbconvert_exporter": "python",
   "pygments_lexer": "ipython2",
   "version": "2.7.6"
  }
 },
 "nbformat": 4,
 "nbformat_minor": 0
}
