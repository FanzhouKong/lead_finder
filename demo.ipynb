{
 "cells": [
  {
   "cell_type": "code",
   "execution_count": 2,
   "metadata": {
    "collapsed": true,
    "ExecuteTime": {
     "end_time": "2023-09-15T22:13:14.155031Z",
     "start_time": "2023-09-15T22:13:07.211264Z"
    },
    "pycharm": {
     "name": "#%%\n"
    }
   },
   "outputs": [
    {
     "name": "stdout",
     "output_type": "stream",
     "text": [
      "the workspace exists!\n",
      "set up complete\n",
      "at position 0:  /Volumes/Natural Product Chemistry/Working Space/Fanzhou/demo/alignment_result/neg\n",
      "at position 1:  /Volumes/Natural Product Chemistry/Working Space/Fanzhou/demo/bioactivity\n",
      "at position 2:  /Volumes/Natural Product Chemistry/Working Space/Fanzhou/demo/mzml/neg\n",
      "at position 3:  /Volumes/Natural Product Chemistry/Working Space/Fanzhou/demo/normalized_peak_list/neg\n",
      "at position 4:  /Volumes/Natural Product Chemistry/Working Space/Fanzhou/demo/peak_list/neg\n",
      "at position 5:  /Volumes/Natural Product Chemistry/Working Space/Fanzhou/demo/results/neg\n",
      "at position 6:  /Volumes/Natural Product Chemistry/Working Space/Fanzhou/demo/sirius_files/neg\n",
      "at position 7:  /Volumes/Natural Product Chemistry/Working Space/Fanzhou/demo/uv_data\n",
      "at position 8:  /Volumes/Natural Product Chemistry/Working Space/Fanzhou/demo/nmr_data\n",
      "at position 9:  /Volumes/Natural Product Chemistry/Working Space/Fanzhou/demo/uv_lib\n",
      "at position 10:  /Volumes/Natural Product Chemistry/Working Space/Fanzhou/demo/msms_lib\n",
      "at position 11:  /Volumes/Natural Product Chemistry/Working Space/Fanzhou/demo/nmr_lib\n",
      "The autoreload extension is already loaded. To reload it, use:\n",
      "  %reload_ext autoreload\n",
      "the workspace exists!\n",
      "set up complete\n",
      "at position 0:  /Volumes/Natural Product Chemistry/Working Space/Fanzhou/demo/alignment_result/neg\n",
      "at position 1:  /Volumes/Natural Product Chemistry/Working Space/Fanzhou/demo/bioactivity\n",
      "at position 2:  /Volumes/Natural Product Chemistry/Working Space/Fanzhou/demo/mzml/neg\n",
      "at position 3:  /Volumes/Natural Product Chemistry/Working Space/Fanzhou/demo/normalized_peak_list/neg\n",
      "at position 4:  /Volumes/Natural Product Chemistry/Working Space/Fanzhou/demo/peak_list/neg\n",
      "at position 5:  /Volumes/Natural Product Chemistry/Working Space/Fanzhou/demo/results/neg\n",
      "at position 6:  /Volumes/Natural Product Chemistry/Working Space/Fanzhou/demo/sirius_files/neg\n",
      "at position 7:  /Volumes/Natural Product Chemistry/Working Space/Fanzhou/demo/uv_data\n",
      "at position 8:  /Volumes/Natural Product Chemistry/Working Space/Fanzhou/demo/nmr_data\n",
      "at position 9:  /Volumes/Natural Product Chemistry/Working Space/Fanzhou/demo/uv_lib\n",
      "at position 10:  /Volumes/Natural Product Chemistry/Working Space/Fanzhou/demo/msms_lib\n",
      "at position 11:  /Volumes/Natural Product Chemistry/Working Space/Fanzhou/demo/nmr_lib\n"
     ]
    }
   ],
   "source": [
    "import os\n",
    "%load_ext autoreload\n",
    "%autoreload 2\n",
    "import pandas as pd\n",
    "from toolsets.setup import set_workspace, get_dirs\n",
    "from feature_normalization.rt_normalization import rt_normalization\n",
    "from toolsets.feature_alignment import initilize_pmz_rt_list, align, find_istd\n",
    "from toolsets.file_io import get_file_list\n",
    "from toolsets.search import quick_search_values, string_search\n",
    "from toolsets.feature_alignment import get_alignemnt\n",
    "master_dir = '/Volumes/Natural Product Chemistry/Working Space/Fanzhou/demo'\n",
    "\n",
    "set_workspace(master_dir)\n",
    "# this is the master workspace, all other directories will be created within this workspace\n",
    "dirs =get_dirs(master_dir, mode='neg')\n",
    "# a lot of data are mode specific, so make sure to include 'mode' argument in there"
   ]
  }
 ],
 "metadata": {
  "kernelspec": {
   "name": "alphapept_env",
   "language": "python",
   "display_name": "alphapept_env"
  },
  "language_info": {
   "codemirror_mode": {
    "name": "ipython",
    "version": 2
   },
   "file_extension": ".py",
   "mimetype": "text/x-python",
   "name": "python",
   "nbconvert_exporter": "python",
   "pygments_lexer": "ipython2",
   "version": "2.7.6"
  }
 },
 "nbformat": 4,
 "nbformat_minor": 0
}