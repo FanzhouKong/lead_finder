{
 "cells": [
  {
   "cell_type": "code",
   "execution_count": 1,
   "metadata": {
    "collapsed": true,
    "pycharm": {
     "name": "#%%\n"
    }
   },
   "outputs": [],
   "source": [
    "%load_ext autoreload\n",
    "%autoreload 2\n",
    "from rdkit.Chem.Draw import IPythonConsole\n",
    "\n",
    "IPythonConsole.molSize = (800, 800)\n",
    "import numpy as np\n",
    "import pandas as pd\n",
    "from toolsets.search import string_search, quick_search_values, quick_search_sorted\n",
    "from tqdm import tqdm\n",
    "import os\n",
    "from toolsets.file_io import get_file_list\n",
    "from rdkit import Chem\n",
    "from toolsets.ff_droup import feature_finding, auto_EIC, EIC, get_feature\n",
    "from toolsets.raw_data_scaffold import read_mzml\n",
    "from toolsets.std_list_prep import neutrilize_salt, neutrilize_salt_df, std_list_cleanup\n",
    "from toolsets.std_list_prep import complete_adducts\n",
    "import toolsets.spectra_operations as so\n",
    "from toolsets.spectra_plotter import head_to_tail_plot, ms2_plot\n",
    "\n",
    "import time"
   ]
  },
  {
   "cell_type": "code",
   "execution_count": 1,
   "outputs": [],
   "source": [
    "# master_dir ='/Volumes/scratch/Fanzhou/polyphenol_lib'\n",
    "# mzml_dir = '/Volumes/scratch/Fanzhou/polyphenol_lib/mzml/pos'\n",
    "master_dir ='/Volumes/Samsung_T5/polyphenol_lib/'\n",
    "mzml_dir = '/Volumes/Samsung_T5/polyphenol_lib/pos_high_ce/mzml'\n",
    "pl_dir = '/Volumes/Samsung_T5/polyphenol_lib/pos_high_ce/pl'\n",
    "pos_adducts = ['[M]+','[M+H]+', '[M+Na]+', '[M+NH4]+']\n",
    "neg_adducts = ['[M]-','[M-H]-','[M+Cl]-', '[M-H2O-H]-', ]"
   ],
   "metadata": {
    "collapsed": false,
    "pycharm": {
     "name": "#%%\n"
    }
   }
  },
  {
   "cell_type": "code",
   "execution_count": 8,
   "outputs": [],
   "source": [
    "features = pd.read_csv(os.path.join('/Users/fanzhoukong/Downloads/polyphenol_share/pos_high_ce/pl/Polyphenols-pos-mix1_features.csv'))"
   ],
   "metadata": {
    "collapsed": false,
    "pycharm": {
     "name": "#%%\n"
    }
   }
  },
  {
   "cell_type": "code",
   "execution_count": 7,
   "outputs": [
    {
     "data": {
      "text/plain": "Empty DataFrame\nColumns: [precursor_mz, rt_apex, ms1_intensity, rt_start, rt_end, iso_state, is_dut, is_halo, rt_offset, mz_offset, reci_snr, peak_purity, msms, ms1_scan_range, ms2_scan_idx_range_list, ms2_scan_idx, mix]\nIndex: []",
      "text/html": "<div>\n<style scoped>\n    .dataframe tbody tr th:only-of-type {\n        vertical-align: middle;\n    }\n\n    .dataframe tbody tr th {\n        vertical-align: top;\n    }\n\n    .dataframe thead th {\n        text-align: right;\n    }\n</style>\n<table border=\"1\" class=\"dataframe\">\n  <thead>\n    <tr style=\"text-align: right;\">\n      <th></th>\n      <th>precursor_mz</th>\n      <th>rt_apex</th>\n      <th>ms1_intensity</th>\n      <th>rt_start</th>\n      <th>rt_end</th>\n      <th>iso_state</th>\n      <th>is_dut</th>\n      <th>is_halo</th>\n      <th>rt_offset</th>\n      <th>mz_offset</th>\n      <th>reci_snr</th>\n      <th>peak_purity</th>\n      <th>msms</th>\n      <th>ms1_scan_range</th>\n      <th>ms2_scan_idx_range_list</th>\n      <th>ms2_scan_idx</th>\n      <th>mix</th>\n    </tr>\n  </thead>\n  <tbody>\n  </tbody>\n</table>\n</div>"
     },
     "execution_count": 7,
     "metadata": {},
     "output_type": "execute_result"
    }
   ],
   "source": [
    "quick_search_values(features, 'precursor_mz', 183.0651848-0.005*2, 183.0651848-0.005*2)"
   ],
   "metadata": {
    "collapsed": false,
    "pycharm": {
     "name": "#%%\n"
    }
   }
  },
  {
   "cell_type": "code",
   "execution_count": 10,
   "outputs": [
    {
     "data": {
      "text/plain": "     precursor_mz   rt_apex  ms1_intensity  rt_start    rt_end  iso_state  \\\n43      80.022287  0.309658   4.395213e+06  0.282792  0.539282        0.0   \n12      81.014723  0.309610   1.353449e+07  0.255774  0.530151        0.0   \n100     84.957298  0.198811   1.277683e+06  0.173970  0.340846        NaN   \n48      87.052826  9.503187   2.974140e+06  9.337323  9.800334        0.0   \n39      88.109554  9.411881   3.249464e+06  9.192160  9.707337        0.0   \n..            ...       ...            ...       ...       ...        ...   \n10     611.293501  2.310534   2.572035e+07  2.281176  2.571276        0.0   \n4      625.194485  2.923807   1.986153e+07  2.890394  3.240985        0.0   \n19     642.220520  2.923363   6.765424e+06  2.890394  3.189125        0.0   \n55     647.175720  2.923305   2.649250e+06  2.894496  3.051255        0.0   \n47     647.269226  2.310731   2.409450e+06  2.281176  2.429189        0.0   \n\n     is_dut  is_halo  rt_offset  mz_offset  reci_snr  peak_purity  \\\n43    False    False   0.000819   0.000009  0.021139     0.710530   \n12     True    False   0.002401   0.000006  0.023171     0.921160   \n100   False    False   0.005391   0.000031  0.096806     0.970966   \n48    False    False   0.002177   0.000008  0.017218     0.871469   \n39    False    False   0.002903   0.000033  0.120525     0.915077   \n..      ...      ...        ...        ...       ...          ...   \n10    False    False   0.008922   0.000031  0.001620     0.992035   \n4     False    False   0.003124   0.000066  0.000387     0.970552   \n19    False    False   0.002119   0.000182  0.000179     0.988302   \n55    False    False   0.008454   0.000027  0.000046     0.984397   \n47    False    False   0.001828   0.000180  0.000152     1.000000   \n\n                                                  msms      ms1_scan_range  \\\n43   59.895450592041016\\t2524.124267578125\\n59.9650...       [61, 67, 118]   \n12   51.42530822753906\\t7881.869140625\\n54.79056930...       [55, 67, 116]   \n100  56.963409423828125\\t29319.28515625\\n59.3029785...        [37, 42, 74]   \n48   59.058937072753906\\t167096.359375\\n59.06238174...  [1974, 2009, 2074]   \n39   53.037353515625\\t2550.78759765625\\n58.06375885...  [1945, 1989, 2054]   \n..                                                 ...                 ...   \n10   53.03732681274414\\t8832.166015625\\n55.01661300...     [497, 503, 559]   \n4    53.037227630615234\\t66027.5859375\\n55.01644134...     [627, 634, 702]   \n19   57.03219223022461\\t35605.875\\n63.6712760925293...     [627, 634, 691]   \n55   58.80495834350586\\t2978.610107421875\\n60.44860...     [628, 634, 662]   \n47   66.96061706542969\\t2986.68212890625\\n67.918899...     [497, 503, 529]   \n\n                               ms2_scan_idx_range_list  ms2_scan_idx  \\\n43                                          [200, 215]           200   \n12                           [244, 199, 260, 214, 229]           199   \n100                                              [130]           130   \n48                                              [6026]          6026   \n39   [5909, 5864, 6011, 5965, 5924, 5879, 5980, 593...          5965   \n..                                                 ...           ...   \n10                                  [1504, 1519, 1534]          1504   \n4                                         [1901, 1915]          1901   \n19                                              [1903]          1903   \n55                                              [1907]          1907   \n47                                              [1511]          1511   \n\n                      mix  \n43   Polyphenols-pos-mix1  \n12   Polyphenols-pos-mix1  \n100  Polyphenols-pos-mix1  \n48   Polyphenols-pos-mix1  \n39   Polyphenols-pos-mix1  \n..                    ...  \n10   Polyphenols-pos-mix1  \n4    Polyphenols-pos-mix1  \n19   Polyphenols-pos-mix1  \n55   Polyphenols-pos-mix1  \n47   Polyphenols-pos-mix1  \n\n[146 rows x 17 columns]",
      "text/html": "<div>\n<style scoped>\n    .dataframe tbody tr th:only-of-type {\n        vertical-align: middle;\n    }\n\n    .dataframe tbody tr th {\n        vertical-align: top;\n    }\n\n    .dataframe thead th {\n        text-align: right;\n    }\n</style>\n<table border=\"1\" class=\"dataframe\">\n  <thead>\n    <tr style=\"text-align: right;\">\n      <th></th>\n      <th>precursor_mz</th>\n      <th>rt_apex</th>\n      <th>ms1_intensity</th>\n      <th>rt_start</th>\n      <th>rt_end</th>\n      <th>iso_state</th>\n      <th>is_dut</th>\n      <th>is_halo</th>\n      <th>rt_offset</th>\n      <th>mz_offset</th>\n      <th>reci_snr</th>\n      <th>peak_purity</th>\n      <th>msms</th>\n      <th>ms1_scan_range</th>\n      <th>ms2_scan_idx_range_list</th>\n      <th>ms2_scan_idx</th>\n      <th>mix</th>\n    </tr>\n  </thead>\n  <tbody>\n    <tr>\n      <th>43</th>\n      <td>80.022287</td>\n      <td>0.309658</td>\n      <td>4.395213e+06</td>\n      <td>0.282792</td>\n      <td>0.539282</td>\n      <td>0.0</td>\n      <td>False</td>\n      <td>False</td>\n      <td>0.000819</td>\n      <td>0.000009</td>\n      <td>0.021139</td>\n      <td>0.710530</td>\n      <td>59.895450592041016\\t2524.124267578125\\n59.9650...</td>\n      <td>[61, 67, 118]</td>\n      <td>[200, 215]</td>\n      <td>200</td>\n      <td>Polyphenols-pos-mix1</td>\n    </tr>\n    <tr>\n      <th>12</th>\n      <td>81.014723</td>\n      <td>0.309610</td>\n      <td>1.353449e+07</td>\n      <td>0.255774</td>\n      <td>0.530151</td>\n      <td>0.0</td>\n      <td>True</td>\n      <td>False</td>\n      <td>0.002401</td>\n      <td>0.000006</td>\n      <td>0.023171</td>\n      <td>0.921160</td>\n      <td>51.42530822753906\\t7881.869140625\\n54.79056930...</td>\n      <td>[55, 67, 116]</td>\n      <td>[244, 199, 260, 214, 229]</td>\n      <td>199</td>\n      <td>Polyphenols-pos-mix1</td>\n    </tr>\n    <tr>\n      <th>100</th>\n      <td>84.957298</td>\n      <td>0.198811</td>\n      <td>1.277683e+06</td>\n      <td>0.173970</td>\n      <td>0.340846</td>\n      <td>NaN</td>\n      <td>False</td>\n      <td>False</td>\n      <td>0.005391</td>\n      <td>0.000031</td>\n      <td>0.096806</td>\n      <td>0.970966</td>\n      <td>56.963409423828125\\t29319.28515625\\n59.3029785...</td>\n      <td>[37, 42, 74]</td>\n      <td>[130]</td>\n      <td>130</td>\n      <td>Polyphenols-pos-mix1</td>\n    </tr>\n    <tr>\n      <th>48</th>\n      <td>87.052826</td>\n      <td>9.503187</td>\n      <td>2.974140e+06</td>\n      <td>9.337323</td>\n      <td>9.800334</td>\n      <td>0.0</td>\n      <td>False</td>\n      <td>False</td>\n      <td>0.002177</td>\n      <td>0.000008</td>\n      <td>0.017218</td>\n      <td>0.871469</td>\n      <td>59.058937072753906\\t167096.359375\\n59.06238174...</td>\n      <td>[1974, 2009, 2074]</td>\n      <td>[6026]</td>\n      <td>6026</td>\n      <td>Polyphenols-pos-mix1</td>\n    </tr>\n    <tr>\n      <th>39</th>\n      <td>88.109554</td>\n      <td>9.411881</td>\n      <td>3.249464e+06</td>\n      <td>9.192160</td>\n      <td>9.707337</td>\n      <td>0.0</td>\n      <td>False</td>\n      <td>False</td>\n      <td>0.002903</td>\n      <td>0.000033</td>\n      <td>0.120525</td>\n      <td>0.915077</td>\n      <td>53.037353515625\\t2550.78759765625\\n58.06375885...</td>\n      <td>[1945, 1989, 2054]</td>\n      <td>[5909, 5864, 6011, 5965, 5924, 5879, 5980, 593...</td>\n      <td>5965</td>\n      <td>Polyphenols-pos-mix1</td>\n    </tr>\n    <tr>\n      <th>...</th>\n      <td>...</td>\n      <td>...</td>\n      <td>...</td>\n      <td>...</td>\n      <td>...</td>\n      <td>...</td>\n      <td>...</td>\n      <td>...</td>\n      <td>...</td>\n      <td>...</td>\n      <td>...</td>\n      <td>...</td>\n      <td>...</td>\n      <td>...</td>\n      <td>...</td>\n      <td>...</td>\n      <td>...</td>\n    </tr>\n    <tr>\n      <th>10</th>\n      <td>611.293501</td>\n      <td>2.310534</td>\n      <td>2.572035e+07</td>\n      <td>2.281176</td>\n      <td>2.571276</td>\n      <td>0.0</td>\n      <td>False</td>\n      <td>False</td>\n      <td>0.008922</td>\n      <td>0.000031</td>\n      <td>0.001620</td>\n      <td>0.992035</td>\n      <td>53.03732681274414\\t8832.166015625\\n55.01661300...</td>\n      <td>[497, 503, 559]</td>\n      <td>[1504, 1519, 1534]</td>\n      <td>1504</td>\n      <td>Polyphenols-pos-mix1</td>\n    </tr>\n    <tr>\n      <th>4</th>\n      <td>625.194485</td>\n      <td>2.923807</td>\n      <td>1.986153e+07</td>\n      <td>2.890394</td>\n      <td>3.240985</td>\n      <td>0.0</td>\n      <td>False</td>\n      <td>False</td>\n      <td>0.003124</td>\n      <td>0.000066</td>\n      <td>0.000387</td>\n      <td>0.970552</td>\n      <td>53.037227630615234\\t66027.5859375\\n55.01644134...</td>\n      <td>[627, 634, 702]</td>\n      <td>[1901, 1915]</td>\n      <td>1901</td>\n      <td>Polyphenols-pos-mix1</td>\n    </tr>\n    <tr>\n      <th>19</th>\n      <td>642.220520</td>\n      <td>2.923363</td>\n      <td>6.765424e+06</td>\n      <td>2.890394</td>\n      <td>3.189125</td>\n      <td>0.0</td>\n      <td>False</td>\n      <td>False</td>\n      <td>0.002119</td>\n      <td>0.000182</td>\n      <td>0.000179</td>\n      <td>0.988302</td>\n      <td>57.03219223022461\\t35605.875\\n63.6712760925293...</td>\n      <td>[627, 634, 691]</td>\n      <td>[1903]</td>\n      <td>1903</td>\n      <td>Polyphenols-pos-mix1</td>\n    </tr>\n    <tr>\n      <th>55</th>\n      <td>647.175720</td>\n      <td>2.923305</td>\n      <td>2.649250e+06</td>\n      <td>2.894496</td>\n      <td>3.051255</td>\n      <td>0.0</td>\n      <td>False</td>\n      <td>False</td>\n      <td>0.008454</td>\n      <td>0.000027</td>\n      <td>0.000046</td>\n      <td>0.984397</td>\n      <td>58.80495834350586\\t2978.610107421875\\n60.44860...</td>\n      <td>[628, 634, 662]</td>\n      <td>[1907]</td>\n      <td>1907</td>\n      <td>Polyphenols-pos-mix1</td>\n    </tr>\n    <tr>\n      <th>47</th>\n      <td>647.269226</td>\n      <td>2.310731</td>\n      <td>2.409450e+06</td>\n      <td>2.281176</td>\n      <td>2.429189</td>\n      <td>0.0</td>\n      <td>False</td>\n      <td>False</td>\n      <td>0.001828</td>\n      <td>0.000180</td>\n      <td>0.000152</td>\n      <td>1.000000</td>\n      <td>66.96061706542969\\t2986.68212890625\\n67.918899...</td>\n      <td>[497, 503, 529]</td>\n      <td>[1511]</td>\n      <td>1511</td>\n      <td>Polyphenols-pos-mix1</td>\n    </tr>\n  </tbody>\n</table>\n<p>146 rows × 17 columns</p>\n</div>"
     },
     "execution_count": 10,
     "metadata": {},
     "output_type": "execute_result"
    }
   ],
   "source": [
    "features.sort_values(by = 'precursor_mz')"
   ],
   "metadata": {
    "collapsed": false,
    "pycharm": {
     "name": "#%%\n"
    }
   }
  },
  {
   "cell_type": "code",
   "execution_count": 12,
   "outputs": [
    {
     "data": {
      "text/plain": "0.007815200000010236"
     },
     "execution_count": 12,
     "metadata": {},
     "output_type": "execute_result"
    }
   ],
   "source": [
    "183.0730-183.0651848"
   ],
   "metadata": {
    "collapsed": false,
    "pycharm": {
     "name": "#%%\n"
    }
   }
  },
  {
   "cell_type": "code",
   "execution_count": 56,
   "outputs": [],
   "source": [
    "# std_list_pos = pd.read_csv(os.path.join(master_dir, 'std_list_pos.csv'))\n",
    "# std_list_neg = pd.read_csv(os.path.join(master_dir, 'std_list_neg.csv'))\n",
    "# std_list_nt = neutrilize_salt_df(std_list_pos, smile_column='smiles')\n",
    "# std_list_cleaned =std_list_cleanup(std_list_nt)\n",
    "# std_list_pos_adduct = complete_adducts(std_list_cleaned, adducts=pos_adducts)\n",
    "# std_list_nt = neutrilize_salt_df(std_list_neg, smile_column='smiles')\n",
    "# std_list_cleaned =std_list_cleanup(std_list_nt)\n",
    "# std_list_neg_adduct = complete_adducts(std_list_cleaned, adducts=neg_adducts)\n",
    "# std_list_pos_adduct.to_csv(os.path.join(master_dir, 'std_list_pos_adduct.csv'), index = False)\n",
    "# std_list_neg_adduct.to_csv(os.path.join(master_dir, 'std_list_neg_adduct.csv'), index = False)"
   ],
   "metadata": {
    "collapsed": false,
    "pycharm": {
     "name": "#%%\n"
    }
   }
  },
  {
   "cell_type": "markdown",
   "source": [
    "# above is still preparing std list"
   ],
   "metadata": {
    "collapsed": false,
    "pycharm": {
     "name": "#%% md\n"
    }
   }
  },
  {
   "cell_type": "markdown",
   "source": [
    "# Below is for neg"
   ],
   "metadata": {
    "collapsed": false,
    "pycharm": {
     "name": "#%% md\n"
    }
   }
  },
  {
   "cell_type": "code",
   "execution_count": 148,
   "outputs": [],
   "source": [
    "std_list_pos_adduct=pd.read_csv(os.path.join(master_dir, 'std_list_pos_adduct.csv'))\n",
    "std_list_neg_adduct=pd.read_csv(os.path.join(master_dir, 'std_list_neg_adduct.csv'))"
   ],
   "metadata": {
    "collapsed": false,
    "pycharm": {
     "name": "#%%\n"
    }
   }
  },
  {
   "cell_type": "code",
   "execution_count": 158,
   "outputs": [],
   "source": [
    "mzml_dir = '/Volumes/Samsung_T5/polyphenol_lib/neg/mzml'\n",
    "pl_dir = '/Volumes/Samsung_T5/polyphenol_lib/neg/pl'\n",
    "library_dir ='/Volumes/Samsung_T5/polyphenol_lib/neg/curated_library'\n",
    "for p in [ library_dir]:\n",
    "    if os.path.exists(p)==False:\n",
    "        os.makedirs(p)"
   ],
   "metadata": {
    "collapsed": false,
    "pycharm": {
     "name": "#%%\n"
    }
   }
  },
  {
   "cell_type": "code",
   "execution_count": 150,
   "outputs": [],
   "source": [
    "matched_all = pd.DataFrame()\n",
    "for mix in std_list_neg_adduct['mix'].unique():\n",
    "    try:\n",
    "        matched_temp = pd.read_csv(os.path.join(pl_dir, mix+'_matched.csv'))\n",
    "        matched_all = pd.concat([matched_all, matched_temp], ignore_index=True)\n",
    "    except:\n",
    "        pass"
   ],
   "metadata": {
    "collapsed": false,
    "pycharm": {
     "name": "#%%\n"
    }
   }
  },
  {
   "cell_type": "code",
   "execution_count": 151,
   "outputs": [],
   "source": [
    "matched_all['rt_offset']=[abs(x-y) for x, y in zip(matched_all['reference_rt'], matched_all['rt_apex'])]"
   ],
   "metadata": {
    "collapsed": false,
    "pycharm": {
     "name": "#%%\n"
    }
   }
  },
  {
   "cell_type": "code",
   "execution_count": 152,
   "outputs": [],
   "source": [
    "_tocheck = matched_all.query('rt_offset>0.1')"
   ],
   "metadata": {
    "collapsed": false,
    "pycharm": {
     "name": "#%%\n"
    }
   }
  },
  {
   "cell_type": "code",
   "execution_count": 31,
   "outputs": [],
   "source": [
    "eic_dir ='/Volumes/Samsung_T5/polyphenol_lib/neg/EICs'"
   ],
   "metadata": {
    "collapsed": false,
    "pycharm": {
     "name": "#%%\n"
    }
   }
  },
  {
   "cell_type": "code",
   "execution_count": 36,
   "outputs": [
    {
     "name": "stderr",
     "output_type": "stream",
     "text": [
      "100%|██████████| 27/27 [00:53<00:00,  1.98s/it]\n"
     ]
    }
   ],
   "source": [
    "for index, row in tqdm(_tocheck.iterrows(), total = len(_tocheck)):\n",
    "    if row['comment']=='Major':\n",
    "        ms1, ms2 = read_mzml(row['reference_mix'], mzml_dir)\n",
    "        rt_list, intensity_list = auto_EIC(row['reference_mz'],ms1)\n",
    "        EIC(rt_list, intensity_list, vlines_location_1=[row['reference_rt']], vlines_location_2=[row['rt_apex']],\n",
    "            savepath=os.path.join(eic_dir, row['reference_name']+'_'+row['reference_adduct']+'.png'), show=False)"
   ],
   "metadata": {
    "collapsed": false,
    "pycharm": {
     "name": "#%%\n"
    }
   }
  },
  {
   "cell_type": "code",
   "execution_count": 153,
   "outputs": [],
   "source": [
    "from toolsets.denoising_related_functions import denoise_h"
   ],
   "metadata": {
    "collapsed": false,
    "pycharm": {
     "name": "#%%\n"
    }
   }
  },
  {
   "cell_type": "code",
   "execution_count": 39,
   "outputs": [],
   "source": [
    "reference_db_sorted = pd.read_csv('db/formulaDB_sorted.csv')"
   ],
   "metadata": {
    "collapsed": false,
    "pycharm": {
     "name": "#%%\n"
    }
   }
  },
  {
   "cell_type": "code",
   "execution_count": 154,
   "outputs": [
    {
     "name": "stderr",
     "output_type": "stream",
     "text": [
      "100%|██████████| 602/602 [01:58<00:00,  5.07it/s]\n"
     ]
    }
   ],
   "source": [
    "msms_denoised = []\n",
    "ei = []\n",
    "for index, row in tqdm(matched_all.iterrows(), total = len(matched_all)):\n",
    "    result_temp = denoise_h(row['msms'], row['reference_smiles'], row['reference_adduct'], reference_db_sorted, mass_error=0.02)\n",
    "    msms_denoised.append(result_temp[0])\n",
    "    ei.append(result_temp[1])"
   ],
   "metadata": {
    "collapsed": false,
    "pycharm": {
     "name": "#%%\n"
    }
   }
  },
  {
   "cell_type": "code",
   "execution_count": 159,
   "outputs": [],
   "source": [
    "matched_all['ei']=ei\n",
    "matched_all['msms_denoised']=msms_denoised"
   ],
   "metadata": {
    "collapsed": false,
    "pycharm": {
     "name": "#%%\n"
    }
   }
  },
  {
   "cell_type": "code",
   "execution_count": 160,
   "outputs": [],
   "source": [
    "matched_good_quality = matched_all.query('ei>90 and rt_offset <=0.1')"
   ],
   "metadata": {
    "collapsed": false,
    "pycharm": {
     "name": "#%%\n"
    }
   }
  },
  {
   "cell_type": "code",
   "execution_count": 161,
   "outputs": [],
   "source": [
    "matched_all.to_csv(os.path.join(library_dir, 'neg_matched_all.csv'), index = False)\n",
    "matched_good_quality.to_csv(os.path.join(library_dir, 'neg_matched_good_quality.csv'), index = False)\n",
    "export_library_msp(matched_good_quality, 'neg_matched_good_quality.txt', typeofmsms= 'msms_denoised',ifcollision_energy=False)\n",
    "export_library_msp(matched_all, 'neg_matched_all.txt', typeofmsms= 'msms_denoised',ifcollision_energy=False)"
   ],
   "metadata": {
    "collapsed": false,
    "pycharm": {
     "name": "#%%\n"
    }
   }
  },
  {
   "cell_type": "code",
   "execution_count": 273,
   "outputs": [],
   "source": [
    "matched_all=pd.read_csv(os.path.join(library_dir, 'neg_matched_all.csv'))\n",
    "matched_good_quality = matched_all.query('ei>90')\n",
    "rt_matched = []\n",
    "for index, row in matched_good_quality.iterrows():\n",
    "    if row['comment']=='Major' and row['rt_offset']>=0.1:\n",
    "        rt_matched.append(False)\n",
    "    else:\n",
    "        rt_matched.append(True)\n",
    "matched_good_quality['rt_matched']=rt_matched\n",
    "matched_good_quality=matched_good_quality[matched_good_quality['rt_matched']==True]"
   ],
   "metadata": {
    "collapsed": false,
    "pycharm": {
     "name": "#%%\n"
    }
   }
  },
  {
   "cell_type": "code",
   "execution_count": 276,
   "outputs": [],
   "source": [
    "matched_good_quality.to_csv(os.path.join(library_dir, 'neg_matched_good_quality.csv'), index = False)"
   ],
   "metadata": {
    "collapsed": false,
    "pycharm": {
     "name": "#%%\n"
    }
   }
  },
  {
   "cell_type": "code",
   "execution_count": null,
   "outputs": [],
   "source": [
    "matched_all.to_csv(os.path.join(library_dir, 'neg_matched_all.csv'), index = False)\n",
    "matched_good_quality.to_csv(os.path.join(library_dir, 'neg_matched_good_quality.csv'), index = False)\n",
    "export_library_msp(matched_good_quality, 'neg_matched_good_quality.txt', typeofmsms= 'msms_denoised',ifcollision_energy=False)\n",
    "export_library_msp(matched_all, 'neg_matched_all.txt', typeofmsms= 'msms_denoised',ifcollision_energy=False)"
   ],
   "metadata": {
    "collapsed": false,
    "pycharm": {
     "name": "#%%\n"
    }
   }
  },
  {
   "cell_type": "markdown",
   "source": [],
   "metadata": {
    "collapsed": false,
    "pycharm": {
     "name": "#%% md\n"
    }
   }
  },
  {
   "cell_type": "markdown",
   "source": [],
   "metadata": {
    "collapsed": false,
    "pycharm": {
     "name": "#%% md\n"
    }
   }
  },
  {
   "cell_type": "code",
   "execution_count": 73,
   "outputs": [],
   "source": [
    "from toolsets.file_io import export_library_msp"
   ],
   "metadata": {
    "collapsed": false,
    "pycharm": {
     "name": "#%%\n"
    }
   }
  },
  {
   "cell_type": "code",
   "execution_count": 79,
   "outputs": [
    {
     "name": "stderr",
     "output_type": "stream",
     "text": [
      "100%|██████████| 524/524 [00:00<00:00, 1690.91it/s]\n"
     ]
    }
   ],
   "source": [
    "export_library_msp(matched_good_quality, os.path.join(master_dir, 'neg_matched_good_quality.txt'), typeofmsms='msms_denoised', ifcollision_energy=False)"
   ],
   "metadata": {
    "collapsed": false,
    "pycharm": {
     "name": "#%%\n"
    }
   }
  },
  {
   "cell_type": "code",
   "execution_count": 80,
   "outputs": [
    {
     "name": "stderr",
     "output_type": "stream",
     "text": [
      "100%|██████████| 602/602 [00:00<00:00, 1698.21it/s]\n"
     ]
    }
   ],
   "source": [
    "export_library_msp(matched_all, os.path.join(master_dir, 'neg_matched_all.txt'), typeofmsms='msms_denoised', ifcollision_energy=False)"
   ],
   "metadata": {
    "collapsed": false,
    "pycharm": {
     "name": "#%%\n"
    }
   }
  },
  {
   "cell_type": "markdown",
   "source": [
    "# pos high ce"
   ],
   "metadata": {
    "collapsed": false,
    "pycharm": {
     "name": "#%% md\n"
    }
   }
  },
  {
   "cell_type": "code",
   "execution_count": 2,
   "outputs": [
    {
     "data": {
      "text/plain": "-0.021563099999980295"
     },
     "execution_count": 2,
     "metadata": {},
     "output_type": "execute_result"
    }
   ],
   "source": [
    "611.29-611.3115631"
   ],
   "metadata": {
    "collapsed": false,
    "pycharm": {
     "name": "#%%\n"
    }
   }
  },
  {
   "cell_type": "markdown",
   "source": [
    "# neg high ce\n"
   ],
   "metadata": {
    "collapsed": false,
    "pycharm": {
     "name": "#%% md\n"
    }
   }
  },
  {
   "cell_type": "code",
   "execution_count": 278,
   "outputs": [],
   "source": [
    "std_list_pos_adduct=pd.read_csv(os.path.join(master_dir, 'std_list_pos_adduct.csv'))\n",
    "std_list_neg_adduct=pd.read_csv(os.path.join(master_dir, 'std_list_neg_adduct.csv'))"
   ],
   "metadata": {
    "collapsed": false,
    "pycharm": {
     "name": "#%%\n"
    }
   }
  },
  {
   "cell_type": "code",
   "execution_count": 279,
   "outputs": [],
   "source": [
    "mzml_dir = '/Volumes/Samsung_T5/polyphenol_lib/neg_high_ce/mzml'\n",
    "pl_dir = '/Volumes/Samsung_T5/polyphenol_lib/neg_high_ce/pl'\n",
    "eic_dir ='/Volumes/Samsung_T5/polyphenol_lib/neg_high_ce/EICs'\n",
    "library_dir = '/Volumes/Samsung_T5/polyphenol_lib/neg_high_ce/curated_library'\n",
    "for p in [eic_dir, library_dir]:\n",
    "    if os.path.exists(p)==False:\n",
    "        os.makedirs(p)"
   ],
   "metadata": {
    "collapsed": false,
    "pycharm": {
     "name": "#%%\n"
    }
   }
  },
  {
   "cell_type": "code",
   "execution_count": 142,
   "outputs": [],
   "source": [
    "matched_all = pd.DataFrame()\n",
    "for mix in std_list_neg_adduct['mix'].unique():\n",
    "    try:\n",
    "        matched_temp = pd.read_csv(os.path.join(pl_dir, mix+'_matched.csv'))\n",
    "        matched_all = pd.concat([matched_all, matched_temp], ignore_index=True)\n",
    "    except:\n",
    "        pass"
   ],
   "metadata": {
    "collapsed": false,
    "pycharm": {
     "name": "#%%\n"
    }
   }
  },
  {
   "cell_type": "code",
   "execution_count": 143,
   "outputs": [],
   "source": [
    "eic_dir ='/Volumes/Samsung_T5/polyphenol_lib/neg_high_ce/EICs'\n",
    "library_dir = '/Volumes/Samsung_T5/polyphenol_lib/neg_high_ce/curated_library'\n",
    "for p in [eic_dir, library_dir]:\n",
    "    if os.path.exists(p)==False:\n",
    "        os.makedirs(p)"
   ],
   "metadata": {
    "collapsed": false,
    "pycharm": {
     "name": "#%%\n"
    }
   }
  },
  {
   "cell_type": "code",
   "execution_count": 144,
   "outputs": [
    {
     "name": "stderr",
     "output_type": "stream",
     "text": [
      "100%|██████████| 41/41 [00:58<00:00,  1.42s/it]\n"
     ]
    }
   ],
   "source": [
    "matched_all['rt_offset']=[abs(x-y) for x, y in zip(matched_all['reference_rt'], matched_all['rt_apex'])]\n",
    "_tocheck = matched_all.query('rt_offset>0.1')\n",
    "for index, row in tqdm(_tocheck.iterrows(), total = len(_tocheck)):\n",
    "    if row['comment']=='Major':\n",
    "        ms1, ms2 = read_mzml(row['reference_mix'], mzml_dir)\n",
    "        rt_list, intensity_list = auto_EIC(row['reference_mz'],ms1)\n",
    "        EIC(rt_list, intensity_list, vlines_location_1=[row['reference_rt']], vlines_location_2=[row['rt_apex']],\n",
    "            savepath=os.path.join(eic_dir, row['reference_name']+'_'+row['reference_adduct']+'.png'), show=False)"
   ],
   "metadata": {
    "collapsed": false,
    "pycharm": {
     "name": "#%%\n"
    }
   }
  },
  {
   "cell_type": "code",
   "execution_count": 145,
   "outputs": [
    {
     "name": "stderr",
     "output_type": "stream",
     "text": [
      "100%|██████████| 599/599 [02:15<00:00,  4.43it/s]\n"
     ]
    }
   ],
   "source": [
    "msms_denoised = []\n",
    "ei = []\n",
    "for index, row in tqdm(matched_all.iterrows(), total = len(matched_all)):\n",
    "    result_temp = denoise_h(row['msms'], row['reference_smiles'], row['reference_adduct'], reference_db_sorted, mass_error=0.02)\n",
    "    msms_denoised.append(result_temp[0])\n",
    "    ei.append(result_temp[1])\n",
    "matched_all['ei']=ei\n",
    "matched_all['msms_denoised']=msms_denoised"
   ],
   "metadata": {
    "collapsed": false,
    "pycharm": {
     "name": "#%%\n"
    }
   }
  },
  {
   "cell_type": "code",
   "execution_count": 146,
   "outputs": [],
   "source": [
    "# matched_good_quality = matched_all.query('ei>90 and rt_offset <=0.1')\n",
    "# matched_all.to_csv(os.path.join(library_dir, 'neg_high_ce_matched_all.csv'), index = False)\n",
    "# matched_good_quality.to_csv(os.path.join(library_dir, 'neg_high_ce_matched_good_quality.csv'), index = False)"
   ],
   "metadata": {
    "collapsed": false,
    "pycharm": {
     "name": "#%%\n"
    }
   }
  },
  {
   "cell_type": "code",
   "execution_count": 280,
   "outputs": [],
   "source": [
    "matched_all=pd.read_csv(os.path.join(library_dir, 'neg_high_ce_matched_all.csv'))\n",
    "matched_good_quality = matched_all.query('ei>90')\n",
    "rt_matched = []\n",
    "for index, row in matched_good_quality.iterrows():\n",
    "    if row['comment']=='Major' and row['rt_offset']>=0.1:\n",
    "        rt_matched.append(False)\n",
    "    else:\n",
    "        rt_matched.append(True)\n",
    "matched_good_quality['rt_matched']=rt_matched\n",
    "matched_good_quality=matched_good_quality[matched_good_quality['rt_matched']==True]"
   ],
   "metadata": {
    "collapsed": false,
    "pycharm": {
     "name": "#%%\n"
    }
   }
  },
  {
   "cell_type": "code",
   "execution_count": 281,
   "outputs": [],
   "source": [
    "matched_good_quality.to_csv(os.path.join(library_dir, 'neg_high_ce_matched_good_quality.csv'), index = False)"
   ],
   "metadata": {
    "collapsed": false,
    "pycharm": {
     "name": "#%%\n"
    }
   }
  },
  {
   "cell_type": "code",
   "execution_count": 284,
   "outputs": [
    {
     "name": "stderr",
     "output_type": "stream",
     "text": [
      "100%|██████████| 548/548 [00:00<00:00, 1252.46it/s]\n"
     ]
    }
   ],
   "source": [
    "export_library_msp(matched_good_quality, os.path.join(library_dir, 'neg_high_ce_matched_good_quality.txt'), typeofmsms='msms_denoised', ifcollision_energy=False)"
   ],
   "metadata": {
    "collapsed": false,
    "pycharm": {
     "name": "#%%\n"
    }
   }
  },
  {
   "cell_type": "markdown",
   "source": [],
   "metadata": {
    "collapsed": false,
    "pycharm": {
     "name": "#%% md\n"
    }
   }
  },
  {
   "cell_type": "markdown",
   "source": [],
   "metadata": {
    "collapsed": false,
    "pycharm": {
     "name": "#%% md\n"
    }
   }
  },
  {
   "cell_type": "code",
   "execution_count": 147,
   "outputs": [
    {
     "name": "stderr",
     "output_type": "stream",
     "text": [
      "100%|██████████| 493/493 [00:00<00:00, 1186.64it/s]\n",
      "100%|██████████| 599/599 [00:00<00:00, 1201.53it/s]\n"
     ]
    }
   ],
   "source": [
    "export_library_msp(matched_good_quality, os.path.join(library_dir, 'neg_high_ce_matched_good_quality.txt'), typeofmsms='msms_denoised', ifcollision_energy=False)\n",
    "export_library_msp(matched_all, os.path.join(library_dir, 'neg_high_ce_matched_all.txt'), typeofmsms='msms_denoised', ifcollision_energy=False)"
   ],
   "metadata": {
    "collapsed": false,
    "pycharm": {
     "name": "#%%\n"
    }
   }
  },
  {
   "cell_type": "markdown",
   "source": [
    "# pos"
   ],
   "metadata": {
    "collapsed": false,
    "pycharm": {
     "name": "#%% md\n"
    }
   }
  },
  {
   "cell_type": "code",
   "execution_count": 287,
   "outputs": [],
   "source": [
    "mzml_dir = '/Volumes/Samsung_T5/polyphenol_lib/pos/mzml'\n",
    "pl_dir = '/Volumes/Samsung_T5/polyphenol_lib/pos/pl'\n",
    "eic_dir ='/Volumes/Samsung_T5/polyphenol_lib/pos/EICs'\n",
    "library_dir = '/Volumes/Samsung_T5/polyphenol_lib/pos/curated_library'\n",
    "for p in [eic_dir, library_dir,mzml_dir,pl_dir]:\n",
    "    if os.path.exists(p)==False:\n",
    "        os.makedirs(p)"
   ],
   "metadata": {
    "collapsed": false,
    "pycharm": {
     "name": "#%%\n"
    }
   }
  },
  {
   "cell_type": "code",
   "execution_count": 286,
   "outputs": [],
   "source": [
    "matched_all = pd.DataFrame()\n",
    "for mix in std_list_pos_adduct['mix'].unique():\n",
    "    try:\n",
    "        matched_temp = pd.read_csv(os.path.join(pl_dir, mix+'.csv'))\n",
    "        matched_all = pd.concat([matched_all, matched_temp], ignore_index=True)\n",
    "    except:\n",
    "        pass"
   ],
   "metadata": {
    "collapsed": false,
    "pycharm": {
     "name": "#%%\n"
    }
   }
  },
  {
   "cell_type": "code",
   "execution_count": 120,
   "outputs": [
    {
     "data": {
      "text/plain": "'/Volumes/Samsung_T5/polyphenol_lib/neg_high_ce/EICs'"
     },
     "execution_count": 120,
     "metadata": {},
     "output_type": "execute_result"
    }
   ],
   "source": [
    "eic_dir"
   ],
   "metadata": {
    "collapsed": false,
    "pycharm": {
     "name": "#%%\n"
    }
   }
  },
  {
   "cell_type": "code",
   "execution_count": 124,
   "outputs": [
    {
     "name": "stderr",
     "output_type": "stream",
     "text": [
      "100%|██████████| 48/48 [01:10<00:00,  1.47s/it]\n"
     ]
    }
   ],
   "source": [
    "matched_all['rt_offset']=[abs(x-y) for x, y in zip(matched_all['reference_rt'], matched_all['rt_apex'])]\n",
    "_tocheck = matched_all.query('rt_offset>0.1')\n",
    "for index, row in tqdm(_tocheck.iterrows(), total = len(_tocheck)):\n",
    "    if row['comment']=='Major':\n",
    "        ms1, ms2 = read_mzml(row['reference_mix'], mzml_dir)\n",
    "        rt_list, intensity_list = auto_EIC(row['reference_mz'],ms1)\n",
    "        EIC(rt_list, intensity_list, vlines_location_1=[row['reference_rt']], vlines_location_2=[row['rt_apex']],\n",
    "            savepath=os.path.join(eic_dir, row['reference_name']+'_'+row['reference_adduct']+'.png'), show=False)"
   ],
   "metadata": {
    "collapsed": false,
    "pycharm": {
     "name": "#%%\n"
    }
   }
  },
  {
   "cell_type": "code",
   "execution_count": 127,
   "outputs": [
    {
     "name": "stderr",
     "output_type": "stream",
     "text": [
      "100%|██████████| 648/648 [02:10<00:00,  4.95it/s]\n"
     ]
    }
   ],
   "source": [
    "msms_denoised = []\n",
    "ei = []\n",
    "for index, row in tqdm(matched_all.iterrows(), total = len(matched_all)):\n",
    "    result_temp = denoise_h(row['msms'], row['reference_smiles'], row['reference_adduct'], reference_db_sorted, mass_error=0.02)\n",
    "    msms_denoised.append(result_temp[0])\n",
    "    ei.append(result_temp[1])\n",
    "matched_all['ei']=ei\n",
    "matched_all['msms_denoised']=msms_denoised"
   ],
   "metadata": {
    "collapsed": false,
    "pycharm": {
     "name": "#%%\n"
    }
   }
  },
  {
   "cell_type": "code",
   "execution_count": 131,
   "outputs": [
    {
     "data": {
      "text/plain": "     precursor_mz  reference_mz reference_adduct  \\\n0      717.143555    717.145011           [M+H]+   \n1      611.310428    611.311563           [M+H]+   \n2      625.211778    625.212696           [M+H]+   \n3      642.238159    642.239244         [M+NH4]+   \n6      329.086006    329.086708           [M+H]+   \n..            ...           ...              ...   \n641    818.306771    818.307717         [M+NH4]+   \n643    314.138050    314.138684           [M+H]+   \n644    314.138149    314.138684           [M+H]+   \n646    741.222722    741.223655           [M+H]+   \n647    198.075931    198.076084           [M+H]+   \n\n                               reference_name comment  \\\n0                        Theaflavin-3-gallate   Major   \n1                                 Daurisoline   Major   \n2                           Methyl-Hesperidin   Major   \n3                           Methyl-Hesperidin   Major   \n6                                    Bergenin   Major   \n..                                        ...     ...   \n641                              Jionoside A1   Minor   \n643                                 Laetanine   Major   \n644                                 Laetanine  isomer   \n646  Apigenin-7-O-(2G-rhamnosyl)gentiobioside   Major   \n647                                    L-DOPA   Major   \n\n                                      reference_smiles          reference_mix  \\\n0    O=C(O[C@@H]1Cc2c(O)cc(O)cc2O[C@@H]1c1cc(O)c(=O...   Polyphenols-pos-mix1   \n1    COc1cc2c(cc1O)[C@@H](Cc1ccc(O)c(Oc3ccc(C[C@@H]...   Polyphenols-pos-mix1   \n2    COc1ccc([C@@H]2CC(=O)c3c(O)cc(O[C@@H]4O[C@H](C...   Polyphenols-pos-mix1   \n3    COc1ccc([C@@H]2CC(=O)c3c(O)cc(O[C@@H]4O[C@H](C...   Polyphenols-pos-mix1   \n6    COc1c(O)cc2c(c1O)[C@@H]1O[C@H](CO)[C@@H](O)[C@...   Polyphenols-pos-mix1   \n..                                                 ...                    ...   \n641  COc1cc(/C=C/C(=O)O[C@@H]2[C@@H](CO[C@@H]3O[C@H...  Polyphenols-pos-mix65   \n643       COc1cc2c(cc1O)-c1c(OC)c(O)cc3c1[C@H](C2)NCC3  Polyphenols-pos-mix66   \n644       COc1cc2c(cc1O)-c1c(OC)c(O)cc3c1[C@H](C2)NCC3  Polyphenols-pos-mix66   \n646  CC1OC(OC2C(Oc3cc(O)c4c(=O)cc(-c5ccc(O)cc5)oc4c...  Polyphenols-pos-mix66   \n647                     N[C@@H](Cc1ccc(O)c(O)c1)C(=O)O  Polyphenols-pos-mix66   \n\n      rt_apex  reference_rt  ms1_intensity  ...  reci_snr  peak_purity  \\\n0    3.017704         2.958   2.613462e+05  ...  0.002060     1.000000   \n1    2.350485         2.311   3.160802e+07  ...  0.001026     0.996047   \n2    2.941834         2.882   9.698609e+06  ...  0.000185     0.982593   \n3    2.941481         2.882   4.183011e+06  ...  0.000017     0.997564   \n6    1.656435         1.658   4.049463e+06  ...  0.000031     0.987607   \n..        ...           ...            ...  ...       ...          ...   \n641  2.353838         2.304   3.326095e+06  ...  0.000198     0.992216   \n643  1.991807         1.959   7.110285e+07  ...  0.004438     0.961760   \n644  1.889438         1.959   9.765207e+05  ...  0.141130     0.984798   \n646  2.332191         2.285   6.016567e+06  ...  0.000252     0.991558   \n647  0.294828         0.330   1.657862e+06  ...  0.000026     0.464998   \n\n                                                  msms   ms1_scan_range  \\\n0    50.558895111083984\\t2925.380859375\\n53.9635696...  [651, 658, 705]   \n1    54.24769592285156\\t31611.298828125\\n58.0650901...  [505, 512, 556]   \n2    54.1085205078125\\t5332.501953125\\n57.033763885...  [635, 642, 679]   \n3    51.89076614379883\\t3361.51171875\\n57.033565521...  [635, 642, 674]   \n6    50.02085494995117\\t2723.94189453125\\n55.017810...  [342, 362, 398]   \n..                                                 ...              ...   \n641  57.03371810913086\\t4749.8623046875\\n58.6339340...  [511, 517, 548]   \n643  56.80146789550781\\t50045.47265625\\n61.74120330...  [433, 442, 510]   \n644  56.8175163269043\\t2944.499755859375\\n62.653366...  [412, 420, 429]   \n646  57.03361129760742\\t22052.11328125\\n64.34982299...  [509, 516, 552]   \n647  55.054439544677734\\t2668.787353515625\\n57.0700...     [61, 65, 91]   \n\n                               ms2_scan_idx_range_list  ms2_scan_idx  \\\n0                                               [1979]          1979   \n1           [1537, 1597, 1552, 1612, 1567, 1525, 1582]          1537   \n2                             [1933, 1948, 1963, 1918]          1933   \n3                                         [1925, 1940]          1925   \n6                 [1060, 1117, 1075, 1090, 1045, 1102]          1090   \n..                                                 ...           ...   \n641                                       [1550, 1565]          1550   \n643  [1441, 1396, 1354, 1309, 1501, 1456, 1411, 153...          1324   \n644                                 [1261, 1276, 1246]          1261   \n646                                 [1540, 1555, 1570]          1540   \n647                                         [193, 208]           193   \n\n                       mix           reference_inchikey        ei  \\\n0     Polyphenols-pos-mix1  KMJPKUVSXFVQGZ-WQLSNUALSA-N  90.38914   \n1     Polyphenols-pos-mix1  BURJAQFYNVMZDV-FIRIVFDPSA-N  95.39166   \n2     Polyphenols-pos-mix1  GUMSHIGGVOJLBP-SLRPQMTOSA-N  99.22022   \n3     Polyphenols-pos-mix1  GUMSHIGGVOJLBP-SLRPQMTOSA-N  99.27629   \n6     Polyphenols-pos-mix1  YWJXCIXBAKGUKZ-HJJNZUOJSA-N  98.67315   \n..                     ...                          ...       ...   \n641  Polyphenols-pos-mix65  UAPZTGRENZINFN-WEDRDYHSSA-N  99.59151   \n643  Polyphenols-pos-mix66  URQAEFLEDPPPFX-LBPRGKRZSA-N  97.66315   \n644  Polyphenols-pos-mix66  URQAEFLEDPPPFX-LBPRGKRZSA-N  97.14487   \n646  Polyphenols-pos-mix66  LXOPDILLGIDKLW-UHFFFAOYSA-N  98.17302   \n647  Polyphenols-pos-mix66  WTDRDQBEARUVNC-LURJTMIESA-N  99.04025   \n\n                                         msms_denoised  \n0    53.96356964111328\\t3832.4111328125\\n139.038894...  \n1    54.24769592285156\\t31611.298828125\\n58.0650901...  \n2    54.1085205078125\\t5332.501953125\\n57.033763885...  \n3    57.033565521240234\\t5839.18896484375\\n69.03336...  \n6    50.02085494995117\\t2723.94189453125\\n55.017810...  \n..                                                 ...  \n641  57.03371810913086\\t4749.8623046875\\n69.0333328...  \n643  70.10330963134766\\t50888.48828125\\n74.12525177...  \n644  191.08609008789062\\t4849.83642578125\\n209.0958...  \n646  57.03361129760742\\t22052.11328125\\n69.03345489...  \n647  55.054439544677734\\t2668.787353515625\\n57.0700...  \n\n[405 rows x 27 columns]",
      "text/html": "<div>\n<style scoped>\n    .dataframe tbody tr th:only-of-type {\n        vertical-align: middle;\n    }\n\n    .dataframe tbody tr th {\n        vertical-align: top;\n    }\n\n    .dataframe thead th {\n        text-align: right;\n    }\n</style>\n<table border=\"1\" class=\"dataframe\">\n  <thead>\n    <tr style=\"text-align: right;\">\n      <th></th>\n      <th>precursor_mz</th>\n      <th>reference_mz</th>\n      <th>reference_adduct</th>\n      <th>reference_name</th>\n      <th>comment</th>\n      <th>reference_smiles</th>\n      <th>reference_mix</th>\n      <th>rt_apex</th>\n      <th>reference_rt</th>\n      <th>ms1_intensity</th>\n      <th>...</th>\n      <th>reci_snr</th>\n      <th>peak_purity</th>\n      <th>msms</th>\n      <th>ms1_scan_range</th>\n      <th>ms2_scan_idx_range_list</th>\n      <th>ms2_scan_idx</th>\n      <th>mix</th>\n      <th>reference_inchikey</th>\n      <th>ei</th>\n      <th>msms_denoised</th>\n    </tr>\n  </thead>\n  <tbody>\n    <tr>\n      <th>0</th>\n      <td>717.143555</td>\n      <td>717.145011</td>\n      <td>[M+H]+</td>\n      <td>Theaflavin-3-gallate</td>\n      <td>Major</td>\n      <td>O=C(O[C@@H]1Cc2c(O)cc(O)cc2O[C@@H]1c1cc(O)c(=O...</td>\n      <td>Polyphenols-pos-mix1</td>\n      <td>3.017704</td>\n      <td>2.958</td>\n      <td>2.613462e+05</td>\n      <td>...</td>\n      <td>0.002060</td>\n      <td>1.000000</td>\n      <td>50.558895111083984\\t2925.380859375\\n53.9635696...</td>\n      <td>[651, 658, 705]</td>\n      <td>[1979]</td>\n      <td>1979</td>\n      <td>Polyphenols-pos-mix1</td>\n      <td>KMJPKUVSXFVQGZ-WQLSNUALSA-N</td>\n      <td>90.38914</td>\n      <td>53.96356964111328\\t3832.4111328125\\n139.038894...</td>\n    </tr>\n    <tr>\n      <th>1</th>\n      <td>611.310428</td>\n      <td>611.311563</td>\n      <td>[M+H]+</td>\n      <td>Daurisoline</td>\n      <td>Major</td>\n      <td>COc1cc2c(cc1O)[C@@H](Cc1ccc(O)c(Oc3ccc(C[C@@H]...</td>\n      <td>Polyphenols-pos-mix1</td>\n      <td>2.350485</td>\n      <td>2.311</td>\n      <td>3.160802e+07</td>\n      <td>...</td>\n      <td>0.001026</td>\n      <td>0.996047</td>\n      <td>54.24769592285156\\t31611.298828125\\n58.0650901...</td>\n      <td>[505, 512, 556]</td>\n      <td>[1537, 1597, 1552, 1612, 1567, 1525, 1582]</td>\n      <td>1537</td>\n      <td>Polyphenols-pos-mix1</td>\n      <td>BURJAQFYNVMZDV-FIRIVFDPSA-N</td>\n      <td>95.39166</td>\n      <td>54.24769592285156\\t31611.298828125\\n58.0650901...</td>\n    </tr>\n    <tr>\n      <th>2</th>\n      <td>625.211778</td>\n      <td>625.212696</td>\n      <td>[M+H]+</td>\n      <td>Methyl-Hesperidin</td>\n      <td>Major</td>\n      <td>COc1ccc([C@@H]2CC(=O)c3c(O)cc(O[C@@H]4O[C@H](C...</td>\n      <td>Polyphenols-pos-mix1</td>\n      <td>2.941834</td>\n      <td>2.882</td>\n      <td>9.698609e+06</td>\n      <td>...</td>\n      <td>0.000185</td>\n      <td>0.982593</td>\n      <td>54.1085205078125\\t5332.501953125\\n57.033763885...</td>\n      <td>[635, 642, 679]</td>\n      <td>[1933, 1948, 1963, 1918]</td>\n      <td>1933</td>\n      <td>Polyphenols-pos-mix1</td>\n      <td>GUMSHIGGVOJLBP-SLRPQMTOSA-N</td>\n      <td>99.22022</td>\n      <td>54.1085205078125\\t5332.501953125\\n57.033763885...</td>\n    </tr>\n    <tr>\n      <th>3</th>\n      <td>642.238159</td>\n      <td>642.239244</td>\n      <td>[M+NH4]+</td>\n      <td>Methyl-Hesperidin</td>\n      <td>Major</td>\n      <td>COc1ccc([C@@H]2CC(=O)c3c(O)cc(O[C@@H]4O[C@H](C...</td>\n      <td>Polyphenols-pos-mix1</td>\n      <td>2.941481</td>\n      <td>2.882</td>\n      <td>4.183011e+06</td>\n      <td>...</td>\n      <td>0.000017</td>\n      <td>0.997564</td>\n      <td>51.89076614379883\\t3361.51171875\\n57.033565521...</td>\n      <td>[635, 642, 674]</td>\n      <td>[1925, 1940]</td>\n      <td>1925</td>\n      <td>Polyphenols-pos-mix1</td>\n      <td>GUMSHIGGVOJLBP-SLRPQMTOSA-N</td>\n      <td>99.27629</td>\n      <td>57.033565521240234\\t5839.18896484375\\n69.03336...</td>\n    </tr>\n    <tr>\n      <th>6</th>\n      <td>329.086006</td>\n      <td>329.086708</td>\n      <td>[M+H]+</td>\n      <td>Bergenin</td>\n      <td>Major</td>\n      <td>COc1c(O)cc2c(c1O)[C@@H]1O[C@H](CO)[C@@H](O)[C@...</td>\n      <td>Polyphenols-pos-mix1</td>\n      <td>1.656435</td>\n      <td>1.658</td>\n      <td>4.049463e+06</td>\n      <td>...</td>\n      <td>0.000031</td>\n      <td>0.987607</td>\n      <td>50.02085494995117\\t2723.94189453125\\n55.017810...</td>\n      <td>[342, 362, 398]</td>\n      <td>[1060, 1117, 1075, 1090, 1045, 1102]</td>\n      <td>1090</td>\n      <td>Polyphenols-pos-mix1</td>\n      <td>YWJXCIXBAKGUKZ-HJJNZUOJSA-N</td>\n      <td>98.67315</td>\n      <td>50.02085494995117\\t2723.94189453125\\n55.017810...</td>\n    </tr>\n    <tr>\n      <th>...</th>\n      <td>...</td>\n      <td>...</td>\n      <td>...</td>\n      <td>...</td>\n      <td>...</td>\n      <td>...</td>\n      <td>...</td>\n      <td>...</td>\n      <td>...</td>\n      <td>...</td>\n      <td>...</td>\n      <td>...</td>\n      <td>...</td>\n      <td>...</td>\n      <td>...</td>\n      <td>...</td>\n      <td>...</td>\n      <td>...</td>\n      <td>...</td>\n      <td>...</td>\n      <td>...</td>\n    </tr>\n    <tr>\n      <th>641</th>\n      <td>818.306771</td>\n      <td>818.307717</td>\n      <td>[M+NH4]+</td>\n      <td>Jionoside A1</td>\n      <td>Minor</td>\n      <td>COc1cc(/C=C/C(=O)O[C@@H]2[C@@H](CO[C@@H]3O[C@H...</td>\n      <td>Polyphenols-pos-mix65</td>\n      <td>2.353838</td>\n      <td>2.304</td>\n      <td>3.326095e+06</td>\n      <td>...</td>\n      <td>0.000198</td>\n      <td>0.992216</td>\n      <td>57.03371810913086\\t4749.8623046875\\n58.6339340...</td>\n      <td>[511, 517, 548]</td>\n      <td>[1550, 1565]</td>\n      <td>1550</td>\n      <td>Polyphenols-pos-mix65</td>\n      <td>UAPZTGRENZINFN-WEDRDYHSSA-N</td>\n      <td>99.59151</td>\n      <td>57.03371810913086\\t4749.8623046875\\n69.0333328...</td>\n    </tr>\n    <tr>\n      <th>643</th>\n      <td>314.138050</td>\n      <td>314.138684</td>\n      <td>[M+H]+</td>\n      <td>Laetanine</td>\n      <td>Major</td>\n      <td>COc1cc2c(cc1O)-c1c(OC)c(O)cc3c1[C@H](C2)NCC3</td>\n      <td>Polyphenols-pos-mix66</td>\n      <td>1.991807</td>\n      <td>1.959</td>\n      <td>7.110285e+07</td>\n      <td>...</td>\n      <td>0.004438</td>\n      <td>0.961760</td>\n      <td>56.80146789550781\\t50045.47265625\\n61.74120330...</td>\n      <td>[433, 442, 510]</td>\n      <td>[1441, 1396, 1354, 1309, 1501, 1456, 1411, 153...</td>\n      <td>1324</td>\n      <td>Polyphenols-pos-mix66</td>\n      <td>URQAEFLEDPPPFX-LBPRGKRZSA-N</td>\n      <td>97.66315</td>\n      <td>70.10330963134766\\t50888.48828125\\n74.12525177...</td>\n    </tr>\n    <tr>\n      <th>644</th>\n      <td>314.138149</td>\n      <td>314.138684</td>\n      <td>[M+H]+</td>\n      <td>Laetanine</td>\n      <td>isomer</td>\n      <td>COc1cc2c(cc1O)-c1c(OC)c(O)cc3c1[C@H](C2)NCC3</td>\n      <td>Polyphenols-pos-mix66</td>\n      <td>1.889438</td>\n      <td>1.959</td>\n      <td>9.765207e+05</td>\n      <td>...</td>\n      <td>0.141130</td>\n      <td>0.984798</td>\n      <td>56.8175163269043\\t2944.499755859375\\n62.653366...</td>\n      <td>[412, 420, 429]</td>\n      <td>[1261, 1276, 1246]</td>\n      <td>1261</td>\n      <td>Polyphenols-pos-mix66</td>\n      <td>URQAEFLEDPPPFX-LBPRGKRZSA-N</td>\n      <td>97.14487</td>\n      <td>191.08609008789062\\t4849.83642578125\\n209.0958...</td>\n    </tr>\n    <tr>\n      <th>646</th>\n      <td>741.222722</td>\n      <td>741.223655</td>\n      <td>[M+H]+</td>\n      <td>Apigenin-7-O-(2G-rhamnosyl)gentiobioside</td>\n      <td>Major</td>\n      <td>CC1OC(OC2C(Oc3cc(O)c4c(=O)cc(-c5ccc(O)cc5)oc4c...</td>\n      <td>Polyphenols-pos-mix66</td>\n      <td>2.332191</td>\n      <td>2.285</td>\n      <td>6.016567e+06</td>\n      <td>...</td>\n      <td>0.000252</td>\n      <td>0.991558</td>\n      <td>57.03361129760742\\t22052.11328125\\n64.34982299...</td>\n      <td>[509, 516, 552]</td>\n      <td>[1540, 1555, 1570]</td>\n      <td>1540</td>\n      <td>Polyphenols-pos-mix66</td>\n      <td>LXOPDILLGIDKLW-UHFFFAOYSA-N</td>\n      <td>98.17302</td>\n      <td>57.03361129760742\\t22052.11328125\\n69.03345489...</td>\n    </tr>\n    <tr>\n      <th>647</th>\n      <td>198.075931</td>\n      <td>198.076084</td>\n      <td>[M+H]+</td>\n      <td>L-DOPA</td>\n      <td>Major</td>\n      <td>N[C@@H](Cc1ccc(O)c(O)c1)C(=O)O</td>\n      <td>Polyphenols-pos-mix66</td>\n      <td>0.294828</td>\n      <td>0.330</td>\n      <td>1.657862e+06</td>\n      <td>...</td>\n      <td>0.000026</td>\n      <td>0.464998</td>\n      <td>55.054439544677734\\t2668.787353515625\\n57.0700...</td>\n      <td>[61, 65, 91]</td>\n      <td>[193, 208]</td>\n      <td>193</td>\n      <td>Polyphenols-pos-mix66</td>\n      <td>WTDRDQBEARUVNC-LURJTMIESA-N</td>\n      <td>99.04025</td>\n      <td>55.054439544677734\\t2668.787353515625\\n57.0700...</td>\n    </tr>\n  </tbody>\n</table>\n<p>405 rows × 27 columns</p>\n</div>"
     },
     "execution_count": 131,
     "metadata": {},
     "output_type": "execute_result"
    }
   ],
   "source": [
    "matched_good_quality"
   ],
   "metadata": {
    "collapsed": false,
    "pycharm": {
     "name": "#%%\n"
    }
   }
  },
  {
   "cell_type": "code",
   "execution_count": 130,
   "outputs": [],
   "source": [
    "matched_good_quality = matched_all.query('ei>90 and rt_offset <=0.1')\n",
    "matched_all.to_csv(os.path.join(library_dir, 'pos_matched_all.csv'), index = False)\n",
    "matched_good_quality.to_csv(os.path.join(library_dir, 'pos_matched_good_quality.csv'), index = False)"
   ],
   "metadata": {
    "collapsed": false,
    "pycharm": {
     "name": "#%%\n"
    }
   }
  },
  {
   "cell_type": "code",
   "execution_count": 139,
   "outputs": [
    {
     "name": "stderr",
     "output_type": "stream",
     "text": [
      "100%|██████████| 405/405 [00:00<00:00, 1650.40it/s]\n",
      "100%|██████████| 648/648 [00:00<00:00, 1637.45it/s]\n"
     ]
    }
   ],
   "source": [
    "export_library_msp(matched_good_quality, os.path.join(library_dir, 'pos_matched_good_quality.txt'), typeofmsms='msms_denoised', ifcollision_energy=False)\n",
    "export_library_msp(matched_all, os.path.join(library_dir, 'pos_matched_all.txt'), typeofmsms='msms_denoised', ifcollision_energy=False)"
   ],
   "metadata": {
    "collapsed": false,
    "pycharm": {
     "name": "#%%\n"
    }
   }
  },
  {
   "cell_type": "code",
   "execution_count": 288,
   "outputs": [],
   "source": [
    "matched_all=pd.read_csv(os.path.join(library_dir, 'pos_matched_all.csv'))\n",
    "matched_good_quality = matched_all.query('ei>90')\n",
    "rt_matched = []\n",
    "for index, row in matched_good_quality.iterrows():\n",
    "    if row['comment']=='Major' and row['rt_offset']>=0.1:\n",
    "        rt_matched.append(False)\n",
    "    else:\n",
    "        rt_matched.append(True)\n",
    "matched_good_quality['rt_matched']=rt_matched\n",
    "matched_good_quality=matched_good_quality[matched_good_quality['rt_matched']==True]"
   ],
   "metadata": {
    "collapsed": false,
    "pycharm": {
     "name": "#%%\n"
    }
   }
  },
  {
   "cell_type": "code",
   "execution_count": 290,
   "outputs": [],
   "source": [
    "matched_good_quality.to_csv(os.path.join(library_dir, 'pos_matched_good_quality.csv'), index = False)"
   ],
   "metadata": {
    "collapsed": false,
    "pycharm": {
     "name": "#%%\n"
    }
   }
  },
  {
   "cell_type": "code",
   "execution_count": 291,
   "outputs": [
    {
     "name": "stderr",
     "output_type": "stream",
     "text": [
      "100%|██████████| 466/466 [00:00<00:00, 1622.38it/s]\n"
     ]
    }
   ],
   "source": [
    "export_library_msp(matched_good_quality, os.path.join(library_dir, 'pos_matched_good_quality.txt'), typeofmsms='msms_denoised', ifcollision_energy=False)"
   ],
   "metadata": {
    "collapsed": false,
    "pycharm": {
     "name": "#%%\n"
    }
   }
  }
 ],
 "metadata": {
  "kernelspec": {
   "name": "alphapept_env",
   "language": "python",
   "display_name": "alphapept_env"
  },
  "language_info": {
   "codemirror_mode": {
    "name": "ipython",
    "version": 2
   },
   "file_extension": ".py",
   "mimetype": "text/x-python",
   "name": "python",
   "nbconvert_exporter": "python",
   "pygments_lexer": "ipython2",
   "version": "2.7.6"
  }
 },
 "nbformat": 4,
 "nbformat_minor": 0
}