{
 "cells": [
  {
   "cell_type": "code",
   "execution_count": 1,
   "metadata": {
    "collapsed": true,
    "pycharm": {
     "name": "#%%\n"
    }
   },
   "outputs": [],
   "source": [
    "%load_ext autoreload\n",
    "%autoreload 2\n",
    "from rdkit.Chem.Draw import IPythonConsole\n",
    "\n",
    "IPythonConsole.molSize = (800, 800)\n",
    "import numpy as np\n",
    "import pandas as pd\n",
    "from toolsets.search import string_search, quick_search_values, quick_search_sorted, search_feature\n",
    "from tqdm import tqdm\n",
    "import os\n",
    "from toolsets.file_io import get_file_list\n",
    "from rdkit import Chem\n",
    "import toolsets.T_rex as trx\n",
    "import toolsets.raw_data_scaffold as rds\n",
    "import toolsets.feature_std_matching as fsm\n",
    "import toolsets.denoising_related_functions as drf\n",
    "from toolsets.std_list_prep import neutrilize_salt, neutrilize_salt_df, std_list_cleanup\n",
    "from toolsets.std_list_prep import complete_adducts\n",
    "import toolsets.spectra_operations as so\n",
    "from toolsets.spectra_plotter import head_to_tail_plot, ms2_plot\n",
    "import time"
   ]
  },
  {
   "cell_type": "code",
   "execution_count": 2,
   "outputs": [],
   "source": [
    "# master_dir ='/Volumes/scratch/Fanzhou/polyphenol_lib'\n",
    "# mzml_dir = '/Volumes/scratch/Fanzhou/polyphenol_lib/mzml/pos'\n",
    "master_dir ='/Volumes/Samsung_T5/polyphenol_lib/'\n",
    "mzml_dir = '/Volumes/Samsung_T5/polyphenol_lib/pos_high_ce/mzml'\n",
    "pl_dir = '/Volumes/Samsung_T5/polyphenol_lib/pos_high_ce/pl'\n",
    "pos_adducts = ['[M]+','[M+H]+', '[M+Na]+', '[M+NH4]+']\n",
    "neg_adducts = ['[M]-','[M-H]-','[M+Cl]-', '[M-H2O-H]-', ]"
   ],
   "metadata": {
    "collapsed": false,
    "pycharm": {
     "name": "#%%\n"
    }
   }
  },
  {
   "cell_type": "code",
   "execution_count": 56,
   "outputs": [],
   "source": [
    "# std_list_pos = pd.read_csv(os.path.join(master_dir, 'std_list_pos.csv'))\n",
    "# std_list_neg = pd.read_csv(os.path.join(master_dir, 'std_list_neg.csv'))\n",
    "# std_list_nt = neutrilize_salt_df(std_list_pos, smile_column='smiles')\n",
    "# std_list_cleaned =std_list_cleanup(std_list_nt)\n",
    "# std_list_pos_adduct = complete_adducts(std_list_cleaned, adducts=pos_adducts)\n",
    "# std_list_nt = neutrilize_salt_df(std_list_neg, smile_column='smiles')\n",
    "# std_list_cleaned =std_list_cleanup(std_list_nt)\n",
    "# std_list_neg_adduct = complete_adducts(std_list_cleaned, adducts=neg_adducts)\n",
    "# std_list_pos_adduct.to_csv(os.path.join(master_dir, 'std_list_pos_adduct.csv'), index = False)\n",
    "# std_list_neg_adduct.to_csv(os.path.join(master_dir, 'std_list_neg_adduct.csv'), index = False)"
   ],
   "metadata": {
    "collapsed": false,
    "pycharm": {
     "name": "#%%\n"
    }
   }
  },
  {
   "cell_type": "markdown",
   "source": [
    "# above is still preparing std list"
   ],
   "metadata": {
    "collapsed": false,
    "pycharm": {
     "name": "#%% md\n"
    }
   }
  },
  {
   "cell_type": "markdown",
   "source": [
    "# C18 pos"
   ],
   "metadata": {
    "collapsed": false,
    "pycharm": {
     "name": "#%% md\n"
    }
   }
  },
  {
   "cell_type": "code",
   "execution_count": 2,
   "outputs": [],
   "source": [
    "master_dir ='/Volumes/Samsung_T5/polyphenol_lib/c18_pos'\n",
    "mzml_dir = os.path.join(master_dir, 'mzml')\n",
    "pl_dir = os.path.join(master_dir, 'pl')\n",
    "eic_dir = os.path.join(master_dir, 'eic')\n",
    "library_dir = os.path.join(master_dir, 'library')\n",
    "for p in [ mzml_dir, pl_dir, eic_dir, library_dir]:\n",
    "    if os.path.exists(p)==False:\n",
    "        os.makedirs(p)"
   ],
   "metadata": {
    "collapsed": false,
    "pycharm": {
     "name": "#%%\n"
    }
   }
  },
  {
   "cell_type": "code",
   "execution_count": 4,
   "outputs": [],
   "source": [
    "library_pos = pd.read_csv(os.path.join(library_dir, 'c18_pos.csv'))"
   ],
   "metadata": {
    "collapsed": false,
    "pycharm": {
     "name": "#%%\n"
    }
   }
  },
  {
   "cell_type": "code",
   "execution_count": 17,
   "outputs": [
    {
     "data": {
      "text/plain": "     precursor_mz  reference_mz reference_adduct  \\\n0      717.145954    717.145011           [M+H]+   \n1      739.126771    739.126953          [M+Na]+   \n2      611.310553    611.311563           [M+H]+   \n3      633.290548    633.293505          [M+Na]+   \n4      647.194358    647.194638          [M+Na]+   \n..            ...           ...              ...   \n799    801.278556    801.281170           [M+H]+   \n800    818.303991    818.307717         [M+NH4]+   \n801    314.138100    314.138684           [M+H]+   \n802    741.221706    741.223655           [M+H]+   \n803    198.074591    198.076084           [M+H]+   \n\n                               reference_name comment  \\\n0                        Theaflavin-3-gallate   Major   \n1                        Theaflavin-3-gallate   Major   \n2                                 Daurisoline   Major   \n3                                 Daurisoline   Major   \n4                           Methyl-Hesperidin   Major   \n..                                        ...     ...   \n799                              Jionoside A1   Major   \n800                              Jionoside A1   Major   \n801                                 Laetanine   Major   \n802  Apigenin-7-O-(2G-rhamnosyl)gentiobioside   Major   \n803                                    L-DOPA   Major   \n\n                                      reference_smiles          reference_mix  \\\n0    O=C(O[C@@H]1Cc2c(O)cc(O)cc2O[C@@H]1c1cc(O)c(=O...   Polyphenols-pos-mix1   \n1    O=C(O[C@@H]1Cc2c(O)cc(O)cc2O[C@@H]1c1cc(O)c(=O...   Polyphenols-pos-mix1   \n2    COc1cc2c(cc1O)[C@@H](Cc1ccc(O)c(Oc3ccc(C[C@@H]...   Polyphenols-pos-mix1   \n3    COc1cc2c(cc1O)[C@@H](Cc1ccc(O)c(Oc3ccc(C[C@@H]...   Polyphenols-pos-mix1   \n4    COc1ccc([C@@H]2CC(=O)c3c(O)cc(O[C@@H]4O[C@H](C...   Polyphenols-pos-mix1   \n..                                                 ...                    ...   \n799  COc1cc(/C=C/C(=O)O[C@@H]2[C@@H](CO[C@@H]3O[C@H...  Polyphenols-pos-mix65   \n800  COc1cc(/C=C/C(=O)O[C@@H]2[C@@H](CO[C@@H]3O[C@H...  Polyphenols-pos-mix65   \n801       COc1cc2c(cc1O)-c1c(OC)c(O)cc3c1[C@H](C2)NCC3  Polyphenols-pos-mix66   \n802  CC1OC(OC2C(Oc3cc(O)c4c(=O)cc(-c5ccc(O)cc5)oc4c...  Polyphenols-pos-mix66   \n803                     N[C@@H](Cc1ccc(O)c(O)c1)C(=O)O  Polyphenols-pos-mix66   \n\n     eic_center  reference_rt  eic_offset  ...  ms1_intensity  n_scnas  \\\n0    717.143131         2.958    0.011412  ...        32374.0    152.0   \n1    739.124880         2.958    0.011666  ...         1756.0    136.0   \n2    611.308127         2.311    0.007430  ...       379715.0    125.0   \n3    633.289846         2.311    0.009685  ...         1829.0     67.0   \n4    647.190984         2.882    0.010245  ...        62168.0     22.0   \n..          ...           ...         ...  ...            ...      ...   \n799  801.277953         2.304    0.014102  ...         7744.0     16.0   \n800  818.303436         2.304    0.013581  ...        73914.0     28.0   \n801  314.137800         1.959    0.005954  ...       515904.0     56.0   \n802  741.218174         2.285    0.012164  ...       278712.0    248.0   \n803  198.074591         0.330    0.005864  ...         6720.0     68.0   \n\n       ms1_scan_range      reci_snr  \\\n0    [862, 887, 1015]  7.116323e-04   \n1    [879, 887, 1016]  1.326507e-04   \n2     [744, 751, 870]  0.000000e+00   \n3     [746, 751, 814]  1.658694e-04   \n4     [869, 876, 892]  0.000000e+00   \n..                ...           ...   \n799   [771, 781, 788]  1.706407e-02   \n800   [758, 781, 787]  3.223389e-05   \n801   [706, 715, 763]  2.884924e-04   \n802  [786, 808, 1035]  5.645339e-07   \n803   [106, 111, 175]  0.000000e+00   \n\n                                                  msms ms2_scan_idx  \\\n0    45.59081661187863\\t13.0\\n55.02320638319634\\t15...       1235.0   \n1    161.02469594797503\\t15.0\\n323.07869375064274\\t...       1225.0   \n2    42.0376165256764\\t31.0\\n42.48829065878977\\t26....        918.0   \n3    206.11880964599064\\t62.0\\n214.0962970614035\\t9...        926.0   \n4    127.03872098210357\\t26.0\\n131.057487897269\\t26...       1189.0   \n..                                                 ...          ...   \n799  83.05063679915555\\t26.0\\n85.02402982674762\\t26...        910.0   \n800  43.0206464600506\\t31.0\\n46.99067889798821\\t26....        906.0   \n801  56.02730877600995\\t26.0\\n61.56200599374228\\t26...        763.0   \n802  43.05750385208331\\t31.0\\n43.85399763284923\\t26...        929.0   \n803  65.04631759994555\\t15.0\\n77.04256711718932\\t15...        129.0   \n\n              reference_inchikey rt_offset  \\\n0    KMJPKUVSXFVQGZ-WQLSNUALSA-N  0.002737   \n1    KMJPKUVSXFVQGZ-WQLSNUALSA-N  0.002458   \n2    BURJAQFYNVMZDV-FIRIVFDPSA-N  0.020040   \n3    BURJAQFYNVMZDV-FIRIVFDPSA-N  0.018194   \n4    GUMSHIGGVOJLBP-SLRPQMTOSA-N  0.001697   \n..                           ...       ...   \n799  UAPZTGRENZINFN-WEDRDYHSSA-N  0.060775   \n800  UAPZTGRENZINFN-WEDRDYHSSA-N  0.061770   \n801  URQAEFLEDPPPFX-LBPRGKRZSA-N  0.000940   \n802  LXOPDILLGIDKLW-UHFFFAOYSA-N  0.006305   \n803  WTDRDQBEARUVNC-LURJTMIESA-N  0.002413   \n\n                                         msms_denoised        ei  \n0    55.02320638319634\\t15.0\\n65.0404250102491\\t13....  91.18017  \n1    161.02469594797503\\t15.0\\n323.07869375064274\\t...  87.42747  \n2    42.0376165256764\\t31.0\\n44.04917359431113\\t937...  94.20269  \n3    206.11880964599064\\t62.0\\n214.0962970614035\\t9...  87.23404  \n4    127.03872098210357\\t26.0\\n131.057487897269\\t26...  88.54919  \n..                                                 ...       ...  \n799  83.05063679915555\\t26.0\\n85.02402982674762\\t26...  92.21790  \n800  43.0206464600506\\t31.0\\n46.99067889798821\\t26....  97.24867  \n801  56.02730877600995\\t26.0\\n77.03282615828427\\t26...  94.05358  \n802  43.05750385208331\\t31.0\\n45.03275573250942\\t31...  97.82888  \n803  65.04631759994555\\t15.0\\n77.04256711718932\\t15...  87.67773  \n\n[804 rows x 23 columns]",
      "text/html": "<div>\n<style scoped>\n    .dataframe tbody tr th:only-of-type {\n        vertical-align: middle;\n    }\n\n    .dataframe tbody tr th {\n        vertical-align: top;\n    }\n\n    .dataframe thead th {\n        text-align: right;\n    }\n</style>\n<table border=\"1\" class=\"dataframe\">\n  <thead>\n    <tr style=\"text-align: right;\">\n      <th></th>\n      <th>precursor_mz</th>\n      <th>reference_mz</th>\n      <th>reference_adduct</th>\n      <th>reference_name</th>\n      <th>comment</th>\n      <th>reference_smiles</th>\n      <th>reference_mix</th>\n      <th>eic_center</th>\n      <th>reference_rt</th>\n      <th>eic_offset</th>\n      <th>...</th>\n      <th>ms1_intensity</th>\n      <th>n_scnas</th>\n      <th>ms1_scan_range</th>\n      <th>reci_snr</th>\n      <th>msms</th>\n      <th>ms2_scan_idx</th>\n      <th>reference_inchikey</th>\n      <th>rt_offset</th>\n      <th>msms_denoised</th>\n      <th>ei</th>\n    </tr>\n  </thead>\n  <tbody>\n    <tr>\n      <th>0</th>\n      <td>717.145954</td>\n      <td>717.145011</td>\n      <td>[M+H]+</td>\n      <td>Theaflavin-3-gallate</td>\n      <td>Major</td>\n      <td>O=C(O[C@@H]1Cc2c(O)cc(O)cc2O[C@@H]1c1cc(O)c(=O...</td>\n      <td>Polyphenols-pos-mix1</td>\n      <td>717.143131</td>\n      <td>2.958</td>\n      <td>0.011412</td>\n      <td>...</td>\n      <td>32374.0</td>\n      <td>152.0</td>\n      <td>[862, 887, 1015]</td>\n      <td>7.116323e-04</td>\n      <td>45.59081661187863\\t13.0\\n55.02320638319634\\t15...</td>\n      <td>1235.0</td>\n      <td>KMJPKUVSXFVQGZ-WQLSNUALSA-N</td>\n      <td>0.002737</td>\n      <td>55.02320638319634\\t15.0\\n65.0404250102491\\t13....</td>\n      <td>91.18017</td>\n    </tr>\n    <tr>\n      <th>1</th>\n      <td>739.126771</td>\n      <td>739.126953</td>\n      <td>[M+Na]+</td>\n      <td>Theaflavin-3-gallate</td>\n      <td>Major</td>\n      <td>O=C(O[C@@H]1Cc2c(O)cc(O)cc2O[C@@H]1c1cc(O)c(=O...</td>\n      <td>Polyphenols-pos-mix1</td>\n      <td>739.124880</td>\n      <td>2.958</td>\n      <td>0.011666</td>\n      <td>...</td>\n      <td>1756.0</td>\n      <td>136.0</td>\n      <td>[879, 887, 1016]</td>\n      <td>1.326507e-04</td>\n      <td>161.02469594797503\\t15.0\\n323.07869375064274\\t...</td>\n      <td>1225.0</td>\n      <td>KMJPKUVSXFVQGZ-WQLSNUALSA-N</td>\n      <td>0.002458</td>\n      <td>161.02469594797503\\t15.0\\n323.07869375064274\\t...</td>\n      <td>87.42747</td>\n    </tr>\n    <tr>\n      <th>2</th>\n      <td>611.310553</td>\n      <td>611.311563</td>\n      <td>[M+H]+</td>\n      <td>Daurisoline</td>\n      <td>Major</td>\n      <td>COc1cc2c(cc1O)[C@@H](Cc1ccc(O)c(Oc3ccc(C[C@@H]...</td>\n      <td>Polyphenols-pos-mix1</td>\n      <td>611.308127</td>\n      <td>2.311</td>\n      <td>0.007430</td>\n      <td>...</td>\n      <td>379715.0</td>\n      <td>125.0</td>\n      <td>[744, 751, 870]</td>\n      <td>0.000000e+00</td>\n      <td>42.0376165256764\\t31.0\\n42.48829065878977\\t26....</td>\n      <td>918.0</td>\n      <td>BURJAQFYNVMZDV-FIRIVFDPSA-N</td>\n      <td>0.020040</td>\n      <td>42.0376165256764\\t31.0\\n44.04917359431113\\t937...</td>\n      <td>94.20269</td>\n    </tr>\n    <tr>\n      <th>3</th>\n      <td>633.290548</td>\n      <td>633.293505</td>\n      <td>[M+Na]+</td>\n      <td>Daurisoline</td>\n      <td>Major</td>\n      <td>COc1cc2c(cc1O)[C@@H](Cc1ccc(O)c(Oc3ccc(C[C@@H]...</td>\n      <td>Polyphenols-pos-mix1</td>\n      <td>633.289846</td>\n      <td>2.311</td>\n      <td>0.009685</td>\n      <td>...</td>\n      <td>1829.0</td>\n      <td>67.0</td>\n      <td>[746, 751, 814]</td>\n      <td>1.658694e-04</td>\n      <td>206.11880964599064\\t62.0\\n214.0962970614035\\t9...</td>\n      <td>926.0</td>\n      <td>BURJAQFYNVMZDV-FIRIVFDPSA-N</td>\n      <td>0.018194</td>\n      <td>206.11880964599064\\t62.0\\n214.0962970614035\\t9...</td>\n      <td>87.23404</td>\n    </tr>\n    <tr>\n      <th>4</th>\n      <td>647.194358</td>\n      <td>647.194638</td>\n      <td>[M+Na]+</td>\n      <td>Methyl-Hesperidin</td>\n      <td>Major</td>\n      <td>COc1ccc([C@@H]2CC(=O)c3c(O)cc(O[C@@H]4O[C@H](C...</td>\n      <td>Polyphenols-pos-mix1</td>\n      <td>647.190984</td>\n      <td>2.882</td>\n      <td>0.010245</td>\n      <td>...</td>\n      <td>62168.0</td>\n      <td>22.0</td>\n      <td>[869, 876, 892]</td>\n      <td>0.000000e+00</td>\n      <td>127.03872098210357\\t26.0\\n131.057487897269\\t26...</td>\n      <td>1189.0</td>\n      <td>GUMSHIGGVOJLBP-SLRPQMTOSA-N</td>\n      <td>0.001697</td>\n      <td>127.03872098210357\\t26.0\\n131.057487897269\\t26...</td>\n      <td>88.54919</td>\n    </tr>\n    <tr>\n      <th>...</th>\n      <td>...</td>\n      <td>...</td>\n      <td>...</td>\n      <td>...</td>\n      <td>...</td>\n      <td>...</td>\n      <td>...</td>\n      <td>...</td>\n      <td>...</td>\n      <td>...</td>\n      <td>...</td>\n      <td>...</td>\n      <td>...</td>\n      <td>...</td>\n      <td>...</td>\n      <td>...</td>\n      <td>...</td>\n      <td>...</td>\n      <td>...</td>\n      <td>...</td>\n      <td>...</td>\n    </tr>\n    <tr>\n      <th>799</th>\n      <td>801.278556</td>\n      <td>801.281170</td>\n      <td>[M+H]+</td>\n      <td>Jionoside A1</td>\n      <td>Major</td>\n      <td>COc1cc(/C=C/C(=O)O[C@@H]2[C@@H](CO[C@@H]3O[C@H...</td>\n      <td>Polyphenols-pos-mix65</td>\n      <td>801.277953</td>\n      <td>2.304</td>\n      <td>0.014102</td>\n      <td>...</td>\n      <td>7744.0</td>\n      <td>16.0</td>\n      <td>[771, 781, 788]</td>\n      <td>1.706407e-02</td>\n      <td>83.05063679915555\\t26.0\\n85.02402982674762\\t26...</td>\n      <td>910.0</td>\n      <td>UAPZTGRENZINFN-WEDRDYHSSA-N</td>\n      <td>0.060775</td>\n      <td>83.05063679915555\\t26.0\\n85.02402982674762\\t26...</td>\n      <td>92.21790</td>\n    </tr>\n    <tr>\n      <th>800</th>\n      <td>818.303991</td>\n      <td>818.307717</td>\n      <td>[M+NH4]+</td>\n      <td>Jionoside A1</td>\n      <td>Major</td>\n      <td>COc1cc(/C=C/C(=O)O[C@@H]2[C@@H](CO[C@@H]3O[C@H...</td>\n      <td>Polyphenols-pos-mix65</td>\n      <td>818.303436</td>\n      <td>2.304</td>\n      <td>0.013581</td>\n      <td>...</td>\n      <td>73914.0</td>\n      <td>28.0</td>\n      <td>[758, 781, 787]</td>\n      <td>3.223389e-05</td>\n      <td>43.0206464600506\\t31.0\\n46.99067889798821\\t26....</td>\n      <td>906.0</td>\n      <td>UAPZTGRENZINFN-WEDRDYHSSA-N</td>\n      <td>0.061770</td>\n      <td>43.0206464600506\\t31.0\\n46.99067889798821\\t26....</td>\n      <td>97.24867</td>\n    </tr>\n    <tr>\n      <th>801</th>\n      <td>314.138100</td>\n      <td>314.138684</td>\n      <td>[M+H]+</td>\n      <td>Laetanine</td>\n      <td>Major</td>\n      <td>COc1cc2c(cc1O)-c1c(OC)c(O)cc3c1[C@H](C2)NCC3</td>\n      <td>Polyphenols-pos-mix66</td>\n      <td>314.137800</td>\n      <td>1.959</td>\n      <td>0.005954</td>\n      <td>...</td>\n      <td>515904.0</td>\n      <td>56.0</td>\n      <td>[706, 715, 763]</td>\n      <td>2.884924e-04</td>\n      <td>56.02730877600995\\t26.0\\n61.56200599374228\\t26...</td>\n      <td>763.0</td>\n      <td>URQAEFLEDPPPFX-LBPRGKRZSA-N</td>\n      <td>0.000940</td>\n      <td>56.02730877600995\\t26.0\\n77.03282615828427\\t26...</td>\n      <td>94.05358</td>\n    </tr>\n    <tr>\n      <th>802</th>\n      <td>741.221706</td>\n      <td>741.223655</td>\n      <td>[M+H]+</td>\n      <td>Apigenin-7-O-(2G-rhamnosyl)gentiobioside</td>\n      <td>Major</td>\n      <td>CC1OC(OC2C(Oc3cc(O)c4c(=O)cc(-c5ccc(O)cc5)oc4c...</td>\n      <td>Polyphenols-pos-mix66</td>\n      <td>741.218174</td>\n      <td>2.285</td>\n      <td>0.012164</td>\n      <td>...</td>\n      <td>278712.0</td>\n      <td>248.0</td>\n      <td>[786, 808, 1035]</td>\n      <td>5.645339e-07</td>\n      <td>43.05750385208331\\t31.0\\n43.85399763284923\\t26...</td>\n      <td>929.0</td>\n      <td>LXOPDILLGIDKLW-UHFFFAOYSA-N</td>\n      <td>0.006305</td>\n      <td>43.05750385208331\\t31.0\\n45.03275573250942\\t31...</td>\n      <td>97.82888</td>\n    </tr>\n    <tr>\n      <th>803</th>\n      <td>198.074591</td>\n      <td>198.076084</td>\n      <td>[M+H]+</td>\n      <td>L-DOPA</td>\n      <td>Major</td>\n      <td>N[C@@H](Cc1ccc(O)c(O)c1)C(=O)O</td>\n      <td>Polyphenols-pos-mix66</td>\n      <td>198.074591</td>\n      <td>0.330</td>\n      <td>0.005864</td>\n      <td>...</td>\n      <td>6720.0</td>\n      <td>68.0</td>\n      <td>[106, 111, 175]</td>\n      <td>0.000000e+00</td>\n      <td>65.04631759994555\\t15.0\\n77.04256711718932\\t15...</td>\n      <td>129.0</td>\n      <td>WTDRDQBEARUVNC-LURJTMIESA-N</td>\n      <td>0.002413</td>\n      <td>65.04631759994555\\t15.0\\n77.04256711718932\\t15...</td>\n      <td>87.67773</td>\n    </tr>\n  </tbody>\n</table>\n<p>804 rows × 23 columns</p>\n</div>"
     },
     "execution_count": 17,
     "metadata": {},
     "output_type": "execute_result"
    }
   ],
   "source": [
    "library_pos"
   ],
   "metadata": {
    "collapsed": false,
    "pycharm": {
     "name": "#%%\n"
    }
   }
  },
  {
   "cell_type": "code",
   "execution_count": 19,
   "outputs": [
    {
     "data": {
      "text/plain": "'C36H28N2NaO16'"
     },
     "execution_count": 19,
     "metadata": {},
     "output_type": "execute_result"
    }
   ],
   "source": [
    "drf.prep_formula(library_pos.iloc[1]['reference_smiles'], library_pos.iloc[1]['reference_adduct'])"
   ],
   "metadata": {
    "collapsed": false,
    "pycharm": {
     "name": "#%%\n"
    }
   }
  },
  {
   "cell_type": "code",
   "execution_count": 13,
   "outputs": [],
   "source": [
    "mass, intensity = so.break_spectra(library_pos.iloc[1]['msms_denoised'])"
   ],
   "metadata": {
    "collapsed": false,
    "pycharm": {
     "name": "#%%\n"
    }
   }
  },
  {
   "cell_type": "code",
   "execution_count": null,
   "outputs": [],
   "source": [
    "import itertools"
   ],
   "metadata": {
    "collapsed": false,
    "pycharm": {
     "name": "#%%\n"
    }
   }
  },
  {
   "cell_type": "code",
   "execution_count": 31,
   "outputs": [],
   "source": [
    "row = library_pos.iloc[1]"
   ],
   "metadata": {
    "collapsed": false,
    "pycharm": {
     "name": "#%%\n"
    }
   }
  },
  {
   "cell_type": "code",
   "execution_count": 32,
   "outputs": [],
   "source": [
    "tt = so.truncate_msms(row['msms_denoised'], row['precursor_mz']-1.6)"
   ],
   "metadata": {
    "collapsed": false,
    "pycharm": {
     "name": "#%%\n"
    }
   }
  },
  {
   "cell_type": "code",
   "execution_count": 40,
   "outputs": [],
   "source": [
    "ms1, ms2 = rds.read_mzml('Polyphenols-pos-mix1', mzml_dir)"
   ],
   "metadata": {
    "collapsed": false,
    "pycharm": {
     "name": "#%%\n"
    }
   }
  },
  {
   "cell_type": "code",
   "execution_count": 41,
   "outputs": [
    {
     "data": {
      "text/plain": "     scan_idx  cycle  ms_level  precursor_mz polarity      rt  \\\n339      1225    885         2    739.126083        +  2.9471   \n\n                                                 peaks  \\\n339  [[161.02469594797503, 15.0], [323.078693750642...   \n\n                         isolation_window     ms1_pmz    ms1_rt  \\\n339  (738.626083275606, 739.626083275606)  739.129422  2.943067   \n\n     ms1_precursor_intensity  peak_purity  mz_offset                   mix  \\\n339                    787.0          1.0   0.003339  Polyphenols-pos-mix1   \n\n                     base_name  \n339  Polyphenols-pos-mix1.mzML  ",
      "text/html": "<div>\n<style scoped>\n    .dataframe tbody tr th:only-of-type {\n        vertical-align: middle;\n    }\n\n    .dataframe tbody tr th {\n        vertical-align: top;\n    }\n\n    .dataframe thead th {\n        text-align: right;\n    }\n</style>\n<table border=\"1\" class=\"dataframe\">\n  <thead>\n    <tr style=\"text-align: right;\">\n      <th></th>\n      <th>scan_idx</th>\n      <th>cycle</th>\n      <th>ms_level</th>\n      <th>precursor_mz</th>\n      <th>polarity</th>\n      <th>rt</th>\n      <th>peaks</th>\n      <th>isolation_window</th>\n      <th>ms1_pmz</th>\n      <th>ms1_rt</th>\n      <th>ms1_precursor_intensity</th>\n      <th>peak_purity</th>\n      <th>mz_offset</th>\n      <th>mix</th>\n      <th>base_name</th>\n    </tr>\n  </thead>\n  <tbody>\n    <tr>\n      <th>339</th>\n      <td>1225</td>\n      <td>885</td>\n      <td>2</td>\n      <td>739.126083</td>\n      <td>+</td>\n      <td>2.9471</td>\n      <td>[[161.02469594797503, 15.0], [323.078693750642...</td>\n      <td>(738.626083275606, 739.626083275606)</td>\n      <td>739.129422</td>\n      <td>2.943067</td>\n      <td>787.0</td>\n      <td>1.0</td>\n      <td>0.003339</td>\n      <td>Polyphenols-pos-mix1</td>\n      <td>Polyphenols-pos-mix1.mzML</td>\n    </tr>\n  </tbody>\n</table>\n</div>"
     },
     "execution_count": 41,
     "metadata": {},
     "output_type": "execute_result"
    }
   ],
   "source": [
    "search_feature(ms2, 739.126953)"
   ],
   "metadata": {
    "collapsed": false,
    "pycharm": {
     "name": "#%%\n"
    }
   }
  },
  {
   "cell_type": "code",
   "execution_count": 39,
   "outputs": [
    {
     "data": {
      "text/plain": "     precursor_mz  reference_mz reference_adduct  \\\n0      717.145954    717.145011           [M+H]+   \n1      739.126771    739.126953          [M+Na]+   \n2      611.310553    611.311563           [M+H]+   \n3      633.290548    633.293505          [M+Na]+   \n4      647.194358    647.194638          [M+Na]+   \n..            ...           ...              ...   \n799    801.278556    801.281170           [M+H]+   \n800    818.303991    818.307717         [M+NH4]+   \n801    314.138100    314.138684           [M+H]+   \n802    741.221706    741.223655           [M+H]+   \n803    198.074591    198.076084           [M+H]+   \n\n                               reference_name comment  \\\n0                        Theaflavin-3-gallate   Major   \n1                        Theaflavin-3-gallate   Major   \n2                                 Daurisoline   Major   \n3                                 Daurisoline   Major   \n4                           Methyl-Hesperidin   Major   \n..                                        ...     ...   \n799                              Jionoside A1   Major   \n800                              Jionoside A1   Major   \n801                                 Laetanine   Major   \n802  Apigenin-7-O-(2G-rhamnosyl)gentiobioside   Major   \n803                                    L-DOPA   Major   \n\n                                      reference_smiles          reference_mix  \\\n0    O=C(O[C@@H]1Cc2c(O)cc(O)cc2O[C@@H]1c1cc(O)c(=O...   Polyphenols-pos-mix1   \n1    O=C(O[C@@H]1Cc2c(O)cc(O)cc2O[C@@H]1c1cc(O)c(=O...   Polyphenols-pos-mix1   \n2    COc1cc2c(cc1O)[C@@H](Cc1ccc(O)c(Oc3ccc(C[C@@H]...   Polyphenols-pos-mix1   \n3    COc1cc2c(cc1O)[C@@H](Cc1ccc(O)c(Oc3ccc(C[C@@H]...   Polyphenols-pos-mix1   \n4    COc1ccc([C@@H]2CC(=O)c3c(O)cc(O[C@@H]4O[C@H](C...   Polyphenols-pos-mix1   \n..                                                 ...                    ...   \n799  COc1cc(/C=C/C(=O)O[C@@H]2[C@@H](CO[C@@H]3O[C@H...  Polyphenols-pos-mix65   \n800  COc1cc(/C=C/C(=O)O[C@@H]2[C@@H](CO[C@@H]3O[C@H...  Polyphenols-pos-mix65   \n801       COc1cc2c(cc1O)-c1c(OC)c(O)cc3c1[C@H](C2)NCC3  Polyphenols-pos-mix66   \n802  CC1OC(OC2C(Oc3cc(O)c4c(=O)cc(-c5ccc(O)cc5)oc4c...  Polyphenols-pos-mix66   \n803                     N[C@@H](Cc1ccc(O)c(O)c1)C(=O)O  Polyphenols-pos-mix66   \n\n     eic_center  reference_rt  eic_offset  ...  ms1_intensity  n_scnas  \\\n0    717.143131         2.958    0.011412  ...        32374.0    152.0   \n1    739.124880         2.958    0.011666  ...         1756.0    136.0   \n2    611.308127         2.311    0.007430  ...       379715.0    125.0   \n3    633.289846         2.311    0.009685  ...         1829.0     67.0   \n4    647.190984         2.882    0.010245  ...        62168.0     22.0   \n..          ...           ...         ...  ...            ...      ...   \n799  801.277953         2.304    0.014102  ...         7744.0     16.0   \n800  818.303436         2.304    0.013581  ...        73914.0     28.0   \n801  314.137800         1.959    0.005954  ...       515904.0     56.0   \n802  741.218174         2.285    0.012164  ...       278712.0    248.0   \n803  198.074591         0.330    0.005864  ...         6720.0     68.0   \n\n       ms1_scan_range      reci_snr  \\\n0    [862, 887, 1015]  7.116323e-04   \n1    [879, 887, 1016]  1.326507e-04   \n2     [744, 751, 870]  0.000000e+00   \n3     [746, 751, 814]  1.658694e-04   \n4     [869, 876, 892]  0.000000e+00   \n..                ...           ...   \n799   [771, 781, 788]  1.706407e-02   \n800   [758, 781, 787]  3.223389e-05   \n801   [706, 715, 763]  2.884924e-04   \n802  [786, 808, 1035]  5.645339e-07   \n803   [106, 111, 175]  0.000000e+00   \n\n                                                  msms ms2_scan_idx  \\\n0    45.59081661187863\\t13.0\\n55.02320638319634\\t15...       1235.0   \n1    161.02469594797503\\t15.0\\n323.07869375064274\\t...       1225.0   \n2    42.0376165256764\\t31.0\\n42.48829065878977\\t26....        918.0   \n3    206.11880964599064\\t62.0\\n214.0962970614035\\t9...        926.0   \n4    127.03872098210357\\t26.0\\n131.057487897269\\t26...       1189.0   \n..                                                 ...          ...   \n799  83.05063679915555\\t26.0\\n85.02402982674762\\t26...        910.0   \n800  43.0206464600506\\t31.0\\n46.99067889798821\\t26....        906.0   \n801  56.02730877600995\\t26.0\\n61.56200599374228\\t26...        763.0   \n802  43.05750385208331\\t31.0\\n43.85399763284923\\t26...        929.0   \n803  65.04631759994555\\t15.0\\n77.04256711718932\\t15...        129.0   \n\n              reference_inchikey rt_offset  \\\n0    KMJPKUVSXFVQGZ-WQLSNUALSA-N  0.002737   \n1    KMJPKUVSXFVQGZ-WQLSNUALSA-N  0.002458   \n2    BURJAQFYNVMZDV-FIRIVFDPSA-N  0.020040   \n3    BURJAQFYNVMZDV-FIRIVFDPSA-N  0.018194   \n4    GUMSHIGGVOJLBP-SLRPQMTOSA-N  0.001697   \n..                           ...       ...   \n799  UAPZTGRENZINFN-WEDRDYHSSA-N  0.060775   \n800  UAPZTGRENZINFN-WEDRDYHSSA-N  0.061770   \n801  URQAEFLEDPPPFX-LBPRGKRZSA-N  0.000940   \n802  LXOPDILLGIDKLW-UHFFFAOYSA-N  0.006305   \n803  WTDRDQBEARUVNC-LURJTMIESA-N  0.002413   \n\n                                         msms_denoised        ei  \n0    55.02320638319634\\t15.0\\n65.0404250102491\\t13....  91.18017  \n1    161.02469594797503\\t15.0\\n323.07869375064274\\t...  87.42747  \n2    42.0376165256764\\t31.0\\n44.04917359431113\\t937...  94.20269  \n3    206.11880964599064\\t62.0\\n214.0962970614035\\t9...  87.23404  \n4    127.03872098210357\\t26.0\\n131.057487897269\\t26...  88.54919  \n..                                                 ...       ...  \n799  83.05063679915555\\t26.0\\n85.02402982674762\\t26...  92.21790  \n800  43.0206464600506\\t31.0\\n46.99067889798821\\t26....  97.24867  \n801  56.02730877600995\\t26.0\\n77.03282615828427\\t26...  94.05358  \n802  43.05750385208331\\t31.0\\n45.03275573250942\\t31...  97.82888  \n803  65.04631759994555\\t15.0\\n77.04256711718932\\t15...  87.67773  \n\n[804 rows x 23 columns]",
      "text/html": "<div>\n<style scoped>\n    .dataframe tbody tr th:only-of-type {\n        vertical-align: middle;\n    }\n\n    .dataframe tbody tr th {\n        vertical-align: top;\n    }\n\n    .dataframe thead th {\n        text-align: right;\n    }\n</style>\n<table border=\"1\" class=\"dataframe\">\n  <thead>\n    <tr style=\"text-align: right;\">\n      <th></th>\n      <th>precursor_mz</th>\n      <th>reference_mz</th>\n      <th>reference_adduct</th>\n      <th>reference_name</th>\n      <th>comment</th>\n      <th>reference_smiles</th>\n      <th>reference_mix</th>\n      <th>eic_center</th>\n      <th>reference_rt</th>\n      <th>eic_offset</th>\n      <th>...</th>\n      <th>ms1_intensity</th>\n      <th>n_scnas</th>\n      <th>ms1_scan_range</th>\n      <th>reci_snr</th>\n      <th>msms</th>\n      <th>ms2_scan_idx</th>\n      <th>reference_inchikey</th>\n      <th>rt_offset</th>\n      <th>msms_denoised</th>\n      <th>ei</th>\n    </tr>\n  </thead>\n  <tbody>\n    <tr>\n      <th>0</th>\n      <td>717.145954</td>\n      <td>717.145011</td>\n      <td>[M+H]+</td>\n      <td>Theaflavin-3-gallate</td>\n      <td>Major</td>\n      <td>O=C(O[C@@H]1Cc2c(O)cc(O)cc2O[C@@H]1c1cc(O)c(=O...</td>\n      <td>Polyphenols-pos-mix1</td>\n      <td>717.143131</td>\n      <td>2.958</td>\n      <td>0.011412</td>\n      <td>...</td>\n      <td>32374.0</td>\n      <td>152.0</td>\n      <td>[862, 887, 1015]</td>\n      <td>7.116323e-04</td>\n      <td>45.59081661187863\\t13.0\\n55.02320638319634\\t15...</td>\n      <td>1235.0</td>\n      <td>KMJPKUVSXFVQGZ-WQLSNUALSA-N</td>\n      <td>0.002737</td>\n      <td>55.02320638319634\\t15.0\\n65.0404250102491\\t13....</td>\n      <td>91.18017</td>\n    </tr>\n    <tr>\n      <th>1</th>\n      <td>739.126771</td>\n      <td>739.126953</td>\n      <td>[M+Na]+</td>\n      <td>Theaflavin-3-gallate</td>\n      <td>Major</td>\n      <td>O=C(O[C@@H]1Cc2c(O)cc(O)cc2O[C@@H]1c1cc(O)c(=O...</td>\n      <td>Polyphenols-pos-mix1</td>\n      <td>739.124880</td>\n      <td>2.958</td>\n      <td>0.011666</td>\n      <td>...</td>\n      <td>1756.0</td>\n      <td>136.0</td>\n      <td>[879, 887, 1016]</td>\n      <td>1.326507e-04</td>\n      <td>161.02469594797503\\t15.0\\n323.07869375064274\\t...</td>\n      <td>1225.0</td>\n      <td>KMJPKUVSXFVQGZ-WQLSNUALSA-N</td>\n      <td>0.002458</td>\n      <td>161.02469594797503\\t15.0\\n323.07869375064274\\t...</td>\n      <td>87.42747</td>\n    </tr>\n    <tr>\n      <th>2</th>\n      <td>611.310553</td>\n      <td>611.311563</td>\n      <td>[M+H]+</td>\n      <td>Daurisoline</td>\n      <td>Major</td>\n      <td>COc1cc2c(cc1O)[C@@H](Cc1ccc(O)c(Oc3ccc(C[C@@H]...</td>\n      <td>Polyphenols-pos-mix1</td>\n      <td>611.308127</td>\n      <td>2.311</td>\n      <td>0.007430</td>\n      <td>...</td>\n      <td>379715.0</td>\n      <td>125.0</td>\n      <td>[744, 751, 870]</td>\n      <td>0.000000e+00</td>\n      <td>42.0376165256764\\t31.0\\n42.48829065878977\\t26....</td>\n      <td>918.0</td>\n      <td>BURJAQFYNVMZDV-FIRIVFDPSA-N</td>\n      <td>0.020040</td>\n      <td>42.0376165256764\\t31.0\\n44.04917359431113\\t937...</td>\n      <td>94.20269</td>\n    </tr>\n    <tr>\n      <th>3</th>\n      <td>633.290548</td>\n      <td>633.293505</td>\n      <td>[M+Na]+</td>\n      <td>Daurisoline</td>\n      <td>Major</td>\n      <td>COc1cc2c(cc1O)[C@@H](Cc1ccc(O)c(Oc3ccc(C[C@@H]...</td>\n      <td>Polyphenols-pos-mix1</td>\n      <td>633.289846</td>\n      <td>2.311</td>\n      <td>0.009685</td>\n      <td>...</td>\n      <td>1829.0</td>\n      <td>67.0</td>\n      <td>[746, 751, 814]</td>\n      <td>1.658694e-04</td>\n      <td>206.11880964599064\\t62.0\\n214.0962970614035\\t9...</td>\n      <td>926.0</td>\n      <td>BURJAQFYNVMZDV-FIRIVFDPSA-N</td>\n      <td>0.018194</td>\n      <td>206.11880964599064\\t62.0\\n214.0962970614035\\t9...</td>\n      <td>87.23404</td>\n    </tr>\n    <tr>\n      <th>4</th>\n      <td>647.194358</td>\n      <td>647.194638</td>\n      <td>[M+Na]+</td>\n      <td>Methyl-Hesperidin</td>\n      <td>Major</td>\n      <td>COc1ccc([C@@H]2CC(=O)c3c(O)cc(O[C@@H]4O[C@H](C...</td>\n      <td>Polyphenols-pos-mix1</td>\n      <td>647.190984</td>\n      <td>2.882</td>\n      <td>0.010245</td>\n      <td>...</td>\n      <td>62168.0</td>\n      <td>22.0</td>\n      <td>[869, 876, 892]</td>\n      <td>0.000000e+00</td>\n      <td>127.03872098210357\\t26.0\\n131.057487897269\\t26...</td>\n      <td>1189.0</td>\n      <td>GUMSHIGGVOJLBP-SLRPQMTOSA-N</td>\n      <td>0.001697</td>\n      <td>127.03872098210357\\t26.0\\n131.057487897269\\t26...</td>\n      <td>88.54919</td>\n    </tr>\n    <tr>\n      <th>...</th>\n      <td>...</td>\n      <td>...</td>\n      <td>...</td>\n      <td>...</td>\n      <td>...</td>\n      <td>...</td>\n      <td>...</td>\n      <td>...</td>\n      <td>...</td>\n      <td>...</td>\n      <td>...</td>\n      <td>...</td>\n      <td>...</td>\n      <td>...</td>\n      <td>...</td>\n      <td>...</td>\n      <td>...</td>\n      <td>...</td>\n      <td>...</td>\n      <td>...</td>\n      <td>...</td>\n    </tr>\n    <tr>\n      <th>799</th>\n      <td>801.278556</td>\n      <td>801.281170</td>\n      <td>[M+H]+</td>\n      <td>Jionoside A1</td>\n      <td>Major</td>\n      <td>COc1cc(/C=C/C(=O)O[C@@H]2[C@@H](CO[C@@H]3O[C@H...</td>\n      <td>Polyphenols-pos-mix65</td>\n      <td>801.277953</td>\n      <td>2.304</td>\n      <td>0.014102</td>\n      <td>...</td>\n      <td>7744.0</td>\n      <td>16.0</td>\n      <td>[771, 781, 788]</td>\n      <td>1.706407e-02</td>\n      <td>83.05063679915555\\t26.0\\n85.02402982674762\\t26...</td>\n      <td>910.0</td>\n      <td>UAPZTGRENZINFN-WEDRDYHSSA-N</td>\n      <td>0.060775</td>\n      <td>83.05063679915555\\t26.0\\n85.02402982674762\\t26...</td>\n      <td>92.21790</td>\n    </tr>\n    <tr>\n      <th>800</th>\n      <td>818.303991</td>\n      <td>818.307717</td>\n      <td>[M+NH4]+</td>\n      <td>Jionoside A1</td>\n      <td>Major</td>\n      <td>COc1cc(/C=C/C(=O)O[C@@H]2[C@@H](CO[C@@H]3O[C@H...</td>\n      <td>Polyphenols-pos-mix65</td>\n      <td>818.303436</td>\n      <td>2.304</td>\n      <td>0.013581</td>\n      <td>...</td>\n      <td>73914.0</td>\n      <td>28.0</td>\n      <td>[758, 781, 787]</td>\n      <td>3.223389e-05</td>\n      <td>43.0206464600506\\t31.0\\n46.99067889798821\\t26....</td>\n      <td>906.0</td>\n      <td>UAPZTGRENZINFN-WEDRDYHSSA-N</td>\n      <td>0.061770</td>\n      <td>43.0206464600506\\t31.0\\n46.99067889798821\\t26....</td>\n      <td>97.24867</td>\n    </tr>\n    <tr>\n      <th>801</th>\n      <td>314.138100</td>\n      <td>314.138684</td>\n      <td>[M+H]+</td>\n      <td>Laetanine</td>\n      <td>Major</td>\n      <td>COc1cc2c(cc1O)-c1c(OC)c(O)cc3c1[C@H](C2)NCC3</td>\n      <td>Polyphenols-pos-mix66</td>\n      <td>314.137800</td>\n      <td>1.959</td>\n      <td>0.005954</td>\n      <td>...</td>\n      <td>515904.0</td>\n      <td>56.0</td>\n      <td>[706, 715, 763]</td>\n      <td>2.884924e-04</td>\n      <td>56.02730877600995\\t26.0\\n61.56200599374228\\t26...</td>\n      <td>763.0</td>\n      <td>URQAEFLEDPPPFX-LBPRGKRZSA-N</td>\n      <td>0.000940</td>\n      <td>56.02730877600995\\t26.0\\n77.03282615828427\\t26...</td>\n      <td>94.05358</td>\n    </tr>\n    <tr>\n      <th>802</th>\n      <td>741.221706</td>\n      <td>741.223655</td>\n      <td>[M+H]+</td>\n      <td>Apigenin-7-O-(2G-rhamnosyl)gentiobioside</td>\n      <td>Major</td>\n      <td>CC1OC(OC2C(Oc3cc(O)c4c(=O)cc(-c5ccc(O)cc5)oc4c...</td>\n      <td>Polyphenols-pos-mix66</td>\n      <td>741.218174</td>\n      <td>2.285</td>\n      <td>0.012164</td>\n      <td>...</td>\n      <td>278712.0</td>\n      <td>248.0</td>\n      <td>[786, 808, 1035]</td>\n      <td>5.645339e-07</td>\n      <td>43.05750385208331\\t31.0\\n43.85399763284923\\t26...</td>\n      <td>929.0</td>\n      <td>LXOPDILLGIDKLW-UHFFFAOYSA-N</td>\n      <td>0.006305</td>\n      <td>43.05750385208331\\t31.0\\n45.03275573250942\\t31...</td>\n      <td>97.82888</td>\n    </tr>\n    <tr>\n      <th>803</th>\n      <td>198.074591</td>\n      <td>198.076084</td>\n      <td>[M+H]+</td>\n      <td>L-DOPA</td>\n      <td>Major</td>\n      <td>N[C@@H](Cc1ccc(O)c(O)c1)C(=O)O</td>\n      <td>Polyphenols-pos-mix66</td>\n      <td>198.074591</td>\n      <td>0.330</td>\n      <td>0.005864</td>\n      <td>...</td>\n      <td>6720.0</td>\n      <td>68.0</td>\n      <td>[106, 111, 175]</td>\n      <td>0.000000e+00</td>\n      <td>65.04631759994555\\t15.0\\n77.04256711718932\\t15...</td>\n      <td>129.0</td>\n      <td>WTDRDQBEARUVNC-LURJTMIESA-N</td>\n      <td>0.002413</td>\n      <td>65.04631759994555\\t15.0\\n77.04256711718932\\t15...</td>\n      <td>87.67773</td>\n    </tr>\n  </tbody>\n</table>\n<p>804 rows × 23 columns</p>\n</div>"
     },
     "execution_count": 39,
     "metadata": {},
     "output_type": "execute_result"
    }
   ],
   "source": [
    "library_pos"
   ],
   "metadata": {
    "collapsed": false,
    "pycharm": {
     "name": "#%%\n"
    }
   }
  },
  {
   "cell_type": "code",
   "execution_count": 4,
   "outputs": [],
   "source": [
    "std_list_pos = pd.read_csv(os.path.join(master_dir, 'std_list_pos_adduct.csv'))"
   ],
   "metadata": {
    "collapsed": false,
    "pycharm": {
     "name": "#%%\n"
    }
   }
  },
  {
   "cell_type": "code",
   "execution_count": 24,
   "outputs": [
    {
     "name": "stderr",
     "output_type": "stream",
     "text": [
      "100%|██████████| 66/66 [11:54<00:00, 10.83s/it]\n"
     ]
    }
   ],
   "source": [
    "for mix in tqdm(std_list_pos['mix'].unique()):\n",
    "    ms1, ms2 = rds.read_mzml(mix, mzml_dir)\n",
    "    mass_sorted, intensity_sorted, index_sorted, rt_list = trx.build_index(ms1)\n",
    "    feature_temp = trx.get_features_beta(mass_sorted, intensity_sorted, index_sorted, rt_list)\n",
    "    feature_temp = trx.map_ms2(feature_temp, ms2)[0]\n",
    "    feature_temp.to_csv(os.path.join(pl_dir, mix+'.csv'), index = False)"
   ],
   "metadata": {
    "collapsed": false,
    "pycharm": {
     "name": "#%%\n"
    }
   }
  },
  {
   "cell_type": "code",
   "execution_count": 91,
   "outputs": [
    {
     "name": "stderr",
     "output_type": "stream",
     "text": [
      "100%|██████████| 66/66 [00:05<00:00, 11.29it/s]\n"
     ]
    }
   ],
   "source": [
    "matched_all = pd.DataFrame()\n",
    "for mix in tqdm(std_list_pos['mix'].unique()):\n",
    "    std_list_mix = string_search(std_list_pos, 'mix', mix)\n",
    "    feature_temp = pd.read_csv(os.path.join(pl_dir, mix+'.csv'))\n",
    "    matched_temp = fsm.feature_matching(feature_temp,std_list_mix, adducts= std_list_mix.columns[-4:])\n",
    "    matched_all = pd.concat([matched_all, matched_temp], ignore_index=True)\n",
    "    # break"
   ],
   "metadata": {
    "collapsed": false,
    "pycharm": {
     "name": "#%%\n"
    }
   }
  },
  {
   "cell_type": "code",
   "execution_count": 148,
   "outputs": [],
   "source": [
    "from toolsets.denoising_related_functions import denoise_h"
   ],
   "metadata": {
    "collapsed": false,
    "pycharm": {
     "name": "#%%\n"
    }
   }
  },
  {
   "cell_type": "code",
   "execution_count": 161,
   "outputs": [
    {
     "name": "stderr",
     "output_type": "stream",
     "text": [
      "100%|██████████| 881/881 [22:45<00:00,  1.55s/it]  \n"
     ]
    }
   ],
   "source": [
    "msms_denoised = [None]*len(matched_all)\n",
    "ei = np.zeros(len(matched_all))\n",
    "for index, row in tqdm(matched_all.iterrows(), total = len(matched_all)):\n",
    "    msms_d, ei_t = denoise_h(row['msms'], row['reference_smiles'], row['reference_adduct'], row['precursor_mz'], reference_db_sorted=formula_db)\n",
    "    msms_denoised[index]=msms_d\n",
    "    ei[index]=ei_t"
   ],
   "metadata": {
    "collapsed": false,
    "pycharm": {
     "name": "#%%\n"
    }
   }
  },
  {
   "cell_type": "code",
   "execution_count": 162,
   "outputs": [],
   "source": [
    "matched_all['msms_denoised']=msms_denoised\n",
    "matched_all['ei']=ei"
   ],
   "metadata": {
    "collapsed": false,
    "pycharm": {
     "name": "#%%\n"
    }
   }
  },
  {
   "cell_type": "code",
   "execution_count": 169,
   "outputs": [],
   "source": [
    "matched_all_good = matched_all[matched_all['ei']>=np.mean(matched_all['ei'])-np.std(matched_all['ei'])]"
   ],
   "metadata": {
    "collapsed": false,
    "pycharm": {
     "name": "#%%\n"
    }
   }
  },
  {
   "cell_type": "code",
   "execution_count": 170,
   "outputs": [],
   "source": [
    "matched_all_good.to_csv(os.path.join(library_dir, 'c18_pos.csv'), index = False)"
   ],
   "metadata": {
    "collapsed": false,
    "pycharm": {
     "name": "#%%\n"
    }
   }
  },
  {
   "cell_type": "code",
   "execution_count": 173,
   "outputs": [],
   "source": [
    "from toolsets.file_io import export_library_msp"
   ],
   "metadata": {
    "collapsed": false,
    "pycharm": {
     "name": "#%%\n"
    }
   }
  },
  {
   "cell_type": "code",
   "execution_count": 176,
   "outputs": [
    {
     "name": "stderr",
     "output_type": "stream",
     "text": [
      "100%|██████████| 804/804 [00:01<00:00, 517.58it/s] \n"
     ]
    }
   ],
   "source": [
    "export_library_msp(matched_all_good, os.path.join(library_dir, 'c18_pos.txt'), typeofmsms='msms_denoised')"
   ],
   "metadata": {
    "collapsed": false,
    "pycharm": {
     "name": "#%%\n"
    }
   }
  },
  {
   "cell_type": "markdown",
   "source": [
    "# c18 neg"
   ],
   "metadata": {
    "collapsed": false,
    "pycharm": {
     "name": "#%% md\n"
    }
   }
  },
  {
   "cell_type": "code",
   "execution_count": 10,
   "outputs": [],
   "source": [
    "master_dir = '/Volumes/Samsung_T5/polyphenol_lib/c18_neg'\n",
    "mzml_dir = os.path.join(master_dir, 'mzml')\n",
    "pl_dir = os.path.join(master_dir, 'pl')\n",
    "eic_dir = os.path.join(master_dir, 'eic')\n",
    "library_dir = os.path.join(master_dir, 'library')\n",
    "# for p in [mzml_dir, pl_dir, eic_dir, library_dir]:\n",
    "#     if os.path.exists(p) == False:\n",
    "#         os.makedirs(p)\n",
    "std_list_neg = pd.read_csv(os.path.join(master_dir, 'std_list_neg_adduct.csv'))\n",
    "# for mix in tqdm(std_list_neg['mix'].unique()):\n",
    "#     ms1, ms2 = rds.read_mzml(mix, mzml_dir)\n",
    "#     mass_sorted, intensity_sorted, index_sorted, rt_list = trx.build_index(ms1)\n",
    "#     feature_temp = trx.get_features_beta(mass_sorted, intensity_sorted, index_sorted, rt_list)\n",
    "#     feature_temp = trx.map_ms2(feature_temp, ms2)[0]\n",
    "#     feature_temp.to_csv(os.path.join(pl_dir, mix + '.csv'), index=False)\n"
   ],
   "metadata": {
    "collapsed": false,
    "pycharm": {
     "name": "#%%\n"
    }
   }
  },
  {
   "cell_type": "code",
   "execution_count": 33,
   "outputs": [
    {
     "data": {
      "text/plain": "     precursor_mz  reference_mz reference_adduct             reference_name  \\\n0      715.130849    715.130459           [M-H]-       Theaflavin-3-gallate   \n1      751.104433    751.107137          [M+Cl]-       Theaflavin-3-gallate   \n2      609.297118    609.297011           [M-H]-                Daurisoline   \n3      300.999021    300.998991           [M-H]-               Ellagic acid   \n4      623.200246    623.198145           [M-H]-          Methyl-Hesperidin   \n..            ...           ...              ...                        ...   \n561    153.019559    153.019333           [M-H]-  3,5-Dihydroxybenzoic acid   \n562    269.042572    269.045547           [M-H]-                  Baicalein   \n563    191.034593    191.034983           [M-H]-          4-Methyldaphnetin   \n564    283.058526    283.061197           [M-H]-                  Genkwanin   \n565    196.060495    196.061532           [M-H]-                     L-DOPA   \n\n    comment                                   reference_smiles  \\\n0     Major  O=C(O[C@@H]1Cc2c(O)cc(O)cc2O[C@@H]1c1cc(O)c(=O...   \n1     Major  O=C(O[C@@H]1Cc2c(O)cc(O)cc2O[C@@H]1c1cc(O)c(=O...   \n2     Major  COc1cc2c(cc1O)[C@@H](Cc1ccc(O)c(Oc3ccc(C[C@@H]...   \n3     Major         O=c1oc2c(O)c(O)cc3c(=O)oc4c(O)c(O)cc1c4c23   \n4     Major  COc1ccc([C@@H]2CC(=O)c3c(O)cc(O[C@@H]4O[C@H](C...   \n..      ...                                                ...   \n561   Major                               O=C(O)c1cc(O)cc(O)c1   \n562   Major               O=c1cc(-c2ccccc2)oc2cc(O)c(O)c(O)c12   \n563   Major                          Cc1cc(=O)oc2c(O)c(O)ccc12   \n564   Major              COc1cc(O)c2c(=O)cc(-c3ccc(O)cc3)oc2c1   \n565   Major                     N[C@@H](Cc1ccc(O)c(O)c1)C(=O)O   \n\n             reference_mix  eic_center  reference_rt  eic_offset  ...  \\\n0     Polyphenols-neg-mix1  715.129055         2.958    0.009828  ...   \n1     Polyphenols-neg-mix1  751.104631         2.958    0.012349  ...   \n2     Polyphenols-neg-mix1  609.295654         2.311    0.009379  ...   \n3     Polyphenols-neg-mix1  300.998440         2.227    0.005296  ...   \n4     Polyphenols-neg-mix1  623.197191         2.882    0.008755  ...   \n..                     ...         ...           ...         ...  ...   \n561  Polyphenols-neg-mix65  153.017891         1.102    0.004813  ...   \n562  Polyphenols-neg-mix65  269.041345           NaN    0.004120  ...   \n563  Polyphenols-neg-mix65  191.033027         2.330    0.004502  ...   \n564  Polyphenols-neg-mix65  283.056085         4.108    0.004000  ...   \n565  Polyphenols-neg-mix66  196.060036         0.330    0.006197  ...   \n\n       rt_end  ms1_intensity  n_scnas      ms1_scan_range      reci_snr  \\\n0    4.781500       123935.0    646.0    [941, 953, 1588]  0.000000e+00   \n1    3.130467         3614.0     53.0    [946, 953, 1000]  9.615490e-04   \n2    3.415483        21015.0    348.0    [753, 768, 1102]  1.140486e-04   \n3    2.663100        21984.0    191.0     [680, 747, 872]  2.525933e-04   \n4    3.038850       293083.0     71.0     [897, 940, 969]  9.666827e-06   \n..        ...            ...      ...                 ...           ...   \n561  1.305500        37559.0    111.0     [364, 400, 476]  2.109729e-07   \n562  3.495633       829407.0    263.0   [882, 1073, 1146]  0.000000e+00   \n563  3.156550       550885.0    279.0    [766, 806, 1046]  7.993917e-06   \n564  9.599183      1327856.0   1936.0  [1331, 1346, 3268]  0.000000e+00   \n565  0.402333         7050.0     26.0     [104, 110, 131]  1.032937e-02   \n\n                                                  msms  ms2_scan_idx  \\\n0    57.03445407534312\\t26.0\\n75.8418774742191\\t26....        1243.0   \n1    81.03152080488724\\t13.0\\n83.05389670711914\\t13...        1250.0   \n2    93.03280900632357\\t15.0\\n105.03239014923282\\t3...         981.0   \n3    41.00577334616552\\t6.0\\n47.99751315016523\\t5.0...         945.0   \n4    58.150530955515976\\t26.0\\n59.01521625811365\\t2...        1217.0   \n..                                                 ...           ...   \n561  40.88285820287027\\t6.0\\n41.0040834271509\\t85.0...         436.0   \n562  41.00411242515802\\t12.0\\n45.001610449431084\\t5...        1229.0   \n563  40.88193380324141\\t62.0\\n41.004954875208036\\t7...        1011.0   \n564  40.884626054426604\\t31.0\\n41.00585385802743\\t6...        1796.0   \n565  45.002510550344226\\t13.0\\n81.037809530738\\t13....         164.0   \n\n              reference_inchikey  \\\n0    KMJPKUVSXFVQGZ-WQLSNUALSA-N   \n1    KMJPKUVSXFVQGZ-WQLSNUALSA-N   \n2    BURJAQFYNVMZDV-FIRIVFDPSA-N   \n3    AFSDNFLWKVMVRB-UHFFFAOYSA-N   \n4    GUMSHIGGVOJLBP-SLRPQMTOSA-N   \n..                           ...   \n561  UYEMGAFJOZZIFP-UHFFFAOYSA-N   \n562  FXNFHKRTJBSTCS-UHFFFAOYSA-N   \n563  NWQBYMPNIJXFNQ-UHFFFAOYSA-N   \n564  JPMYFOBNRRGFNO-UHFFFAOYSA-N   \n565  WTDRDQBEARUVNC-LURJTMIESA-N   \n\n                                         msms_denoised         ei  \n0    57.03445407534312\\t26.0\\n80.02407005636546\\t26...  89.228655  \n1    81.03152080488724\\t13.0\\n83.05389670711914\\t13...  92.904564  \n2    93.03280900632357\\t15.0\\n105.03239014923282\\t3...  90.700935  \n3    41.00577334616552\\t6.0\\n47.99751315016523\\t5.0...  88.193689  \n4    58.150530955515976\\t26.0\\n59.01521625811365\\t2...  93.858340  \n..                                                 ...        ...  \n561  41.0040834271509\\t85.0\\n45.00063721480446\\t6.0...  88.461538  \n562  41.00411242515802\\t12.0\\n45.001610449431084\\t5...  77.189409  \n563  41.004954875208036\\t7960.0\\n42.037621145958745...  93.022572  \n564  41.00585385802743\\t607.0\\n43.045371854266214\\t...  96.181335  \n565  45.002510550344226\\t13.0\\n81.037809530738\\t13....  92.168675  \n\n[566 rows x 22 columns]",
      "text/html": "<div>\n<style scoped>\n    .dataframe tbody tr th:only-of-type {\n        vertical-align: middle;\n    }\n\n    .dataframe tbody tr th {\n        vertical-align: top;\n    }\n\n    .dataframe thead th {\n        text-align: right;\n    }\n</style>\n<table border=\"1\" class=\"dataframe\">\n  <thead>\n    <tr style=\"text-align: right;\">\n      <th></th>\n      <th>precursor_mz</th>\n      <th>reference_mz</th>\n      <th>reference_adduct</th>\n      <th>reference_name</th>\n      <th>comment</th>\n      <th>reference_smiles</th>\n      <th>reference_mix</th>\n      <th>eic_center</th>\n      <th>reference_rt</th>\n      <th>eic_offset</th>\n      <th>...</th>\n      <th>rt_end</th>\n      <th>ms1_intensity</th>\n      <th>n_scnas</th>\n      <th>ms1_scan_range</th>\n      <th>reci_snr</th>\n      <th>msms</th>\n      <th>ms2_scan_idx</th>\n      <th>reference_inchikey</th>\n      <th>msms_denoised</th>\n      <th>ei</th>\n    </tr>\n  </thead>\n  <tbody>\n    <tr>\n      <th>0</th>\n      <td>715.130849</td>\n      <td>715.130459</td>\n      <td>[M-H]-</td>\n      <td>Theaflavin-3-gallate</td>\n      <td>Major</td>\n      <td>O=C(O[C@@H]1Cc2c(O)cc(O)cc2O[C@@H]1c1cc(O)c(=O...</td>\n      <td>Polyphenols-neg-mix1</td>\n      <td>715.129055</td>\n      <td>2.958</td>\n      <td>0.009828</td>\n      <td>...</td>\n      <td>4.781500</td>\n      <td>123935.0</td>\n      <td>646.0</td>\n      <td>[941, 953, 1588]</td>\n      <td>0.000000e+00</td>\n      <td>57.03445407534312\\t26.0\\n75.8418774742191\\t26....</td>\n      <td>1243.0</td>\n      <td>KMJPKUVSXFVQGZ-WQLSNUALSA-N</td>\n      <td>57.03445407534312\\t26.0\\n80.02407005636546\\t26...</td>\n      <td>89.228655</td>\n    </tr>\n    <tr>\n      <th>1</th>\n      <td>751.104433</td>\n      <td>751.107137</td>\n      <td>[M+Cl]-</td>\n      <td>Theaflavin-3-gallate</td>\n      <td>Major</td>\n      <td>O=C(O[C@@H]1Cc2c(O)cc(O)cc2O[C@@H]1c1cc(O)c(=O...</td>\n      <td>Polyphenols-neg-mix1</td>\n      <td>751.104631</td>\n      <td>2.958</td>\n      <td>0.012349</td>\n      <td>...</td>\n      <td>3.130467</td>\n      <td>3614.0</td>\n      <td>53.0</td>\n      <td>[946, 953, 1000]</td>\n      <td>9.615490e-04</td>\n      <td>81.03152080488724\\t13.0\\n83.05389670711914\\t13...</td>\n      <td>1250.0</td>\n      <td>KMJPKUVSXFVQGZ-WQLSNUALSA-N</td>\n      <td>81.03152080488724\\t13.0\\n83.05389670711914\\t13...</td>\n      <td>92.904564</td>\n    </tr>\n    <tr>\n      <th>2</th>\n      <td>609.297118</td>\n      <td>609.297011</td>\n      <td>[M-H]-</td>\n      <td>Daurisoline</td>\n      <td>Major</td>\n      <td>COc1cc2c(cc1O)[C@@H](Cc1ccc(O)c(Oc3ccc(C[C@@H]...</td>\n      <td>Polyphenols-neg-mix1</td>\n      <td>609.295654</td>\n      <td>2.311</td>\n      <td>0.009379</td>\n      <td>...</td>\n      <td>3.415483</td>\n      <td>21015.0</td>\n      <td>348.0</td>\n      <td>[753, 768, 1102]</td>\n      <td>1.140486e-04</td>\n      <td>93.03280900632357\\t15.0\\n105.03239014923282\\t3...</td>\n      <td>981.0</td>\n      <td>BURJAQFYNVMZDV-FIRIVFDPSA-N</td>\n      <td>93.03280900632357\\t15.0\\n105.03239014923282\\t3...</td>\n      <td>90.700935</td>\n    </tr>\n    <tr>\n      <th>3</th>\n      <td>300.999021</td>\n      <td>300.998991</td>\n      <td>[M-H]-</td>\n      <td>Ellagic acid</td>\n      <td>Major</td>\n      <td>O=c1oc2c(O)c(O)cc3c(=O)oc4c(O)c(O)cc1c4c23</td>\n      <td>Polyphenols-neg-mix1</td>\n      <td>300.998440</td>\n      <td>2.227</td>\n      <td>0.005296</td>\n      <td>...</td>\n      <td>2.663100</td>\n      <td>21984.0</td>\n      <td>191.0</td>\n      <td>[680, 747, 872]</td>\n      <td>2.525933e-04</td>\n      <td>41.00577334616552\\t6.0\\n47.99751315016523\\t5.0...</td>\n      <td>945.0</td>\n      <td>AFSDNFLWKVMVRB-UHFFFAOYSA-N</td>\n      <td>41.00577334616552\\t6.0\\n47.99751315016523\\t5.0...</td>\n      <td>88.193689</td>\n    </tr>\n    <tr>\n      <th>4</th>\n      <td>623.200246</td>\n      <td>623.198145</td>\n      <td>[M-H]-</td>\n      <td>Methyl-Hesperidin</td>\n      <td>Major</td>\n      <td>COc1ccc([C@@H]2CC(=O)c3c(O)cc(O[C@@H]4O[C@H](C...</td>\n      <td>Polyphenols-neg-mix1</td>\n      <td>623.197191</td>\n      <td>2.882</td>\n      <td>0.008755</td>\n      <td>...</td>\n      <td>3.038850</td>\n      <td>293083.0</td>\n      <td>71.0</td>\n      <td>[897, 940, 969]</td>\n      <td>9.666827e-06</td>\n      <td>58.150530955515976\\t26.0\\n59.01521625811365\\t2...</td>\n      <td>1217.0</td>\n      <td>GUMSHIGGVOJLBP-SLRPQMTOSA-N</td>\n      <td>58.150530955515976\\t26.0\\n59.01521625811365\\t2...</td>\n      <td>93.858340</td>\n    </tr>\n    <tr>\n      <th>...</th>\n      <td>...</td>\n      <td>...</td>\n      <td>...</td>\n      <td>...</td>\n      <td>...</td>\n      <td>...</td>\n      <td>...</td>\n      <td>...</td>\n      <td>...</td>\n      <td>...</td>\n      <td>...</td>\n      <td>...</td>\n      <td>...</td>\n      <td>...</td>\n      <td>...</td>\n      <td>...</td>\n      <td>...</td>\n      <td>...</td>\n      <td>...</td>\n      <td>...</td>\n      <td>...</td>\n    </tr>\n    <tr>\n      <th>561</th>\n      <td>153.019559</td>\n      <td>153.019333</td>\n      <td>[M-H]-</td>\n      <td>3,5-Dihydroxybenzoic acid</td>\n      <td>Major</td>\n      <td>O=C(O)c1cc(O)cc(O)c1</td>\n      <td>Polyphenols-neg-mix65</td>\n      <td>153.017891</td>\n      <td>1.102</td>\n      <td>0.004813</td>\n      <td>...</td>\n      <td>1.305500</td>\n      <td>37559.0</td>\n      <td>111.0</td>\n      <td>[364, 400, 476]</td>\n      <td>2.109729e-07</td>\n      <td>40.88285820287027\\t6.0\\n41.0040834271509\\t85.0...</td>\n      <td>436.0</td>\n      <td>UYEMGAFJOZZIFP-UHFFFAOYSA-N</td>\n      <td>41.0040834271509\\t85.0\\n45.00063721480446\\t6.0...</td>\n      <td>88.461538</td>\n    </tr>\n    <tr>\n      <th>562</th>\n      <td>269.042572</td>\n      <td>269.045547</td>\n      <td>[M-H]-</td>\n      <td>Baicalein</td>\n      <td>Major</td>\n      <td>O=c1cc(-c2ccccc2)oc2cc(O)c(O)c(O)c12</td>\n      <td>Polyphenols-neg-mix65</td>\n      <td>269.041345</td>\n      <td>NaN</td>\n      <td>0.004120</td>\n      <td>...</td>\n      <td>3.495633</td>\n      <td>829407.0</td>\n      <td>263.0</td>\n      <td>[882, 1073, 1146]</td>\n      <td>0.000000e+00</td>\n      <td>41.00411242515802\\t12.0\\n45.001610449431084\\t5...</td>\n      <td>1229.0</td>\n      <td>FXNFHKRTJBSTCS-UHFFFAOYSA-N</td>\n      <td>41.00411242515802\\t12.0\\n45.001610449431084\\t5...</td>\n      <td>77.189409</td>\n    </tr>\n    <tr>\n      <th>563</th>\n      <td>191.034593</td>\n      <td>191.034983</td>\n      <td>[M-H]-</td>\n      <td>4-Methyldaphnetin</td>\n      <td>Major</td>\n      <td>Cc1cc(=O)oc2c(O)c(O)ccc12</td>\n      <td>Polyphenols-neg-mix65</td>\n      <td>191.033027</td>\n      <td>2.330</td>\n      <td>0.004502</td>\n      <td>...</td>\n      <td>3.156550</td>\n      <td>550885.0</td>\n      <td>279.0</td>\n      <td>[766, 806, 1046]</td>\n      <td>7.993917e-06</td>\n      <td>40.88193380324141\\t62.0\\n41.004954875208036\\t7...</td>\n      <td>1011.0</td>\n      <td>NWQBYMPNIJXFNQ-UHFFFAOYSA-N</td>\n      <td>41.004954875208036\\t7960.0\\n42.037621145958745...</td>\n      <td>93.022572</td>\n    </tr>\n    <tr>\n      <th>564</th>\n      <td>283.058526</td>\n      <td>283.061197</td>\n      <td>[M-H]-</td>\n      <td>Genkwanin</td>\n      <td>Major</td>\n      <td>COc1cc(O)c2c(=O)cc(-c3ccc(O)cc3)oc2c1</td>\n      <td>Polyphenols-neg-mix65</td>\n      <td>283.056085</td>\n      <td>4.108</td>\n      <td>0.004000</td>\n      <td>...</td>\n      <td>9.599183</td>\n      <td>1327856.0</td>\n      <td>1936.0</td>\n      <td>[1331, 1346, 3268]</td>\n      <td>0.000000e+00</td>\n      <td>40.884626054426604\\t31.0\\n41.00585385802743\\t6...</td>\n      <td>1796.0</td>\n      <td>JPMYFOBNRRGFNO-UHFFFAOYSA-N</td>\n      <td>41.00585385802743\\t607.0\\n43.045371854266214\\t...</td>\n      <td>96.181335</td>\n    </tr>\n    <tr>\n      <th>565</th>\n      <td>196.060495</td>\n      <td>196.061532</td>\n      <td>[M-H]-</td>\n      <td>L-DOPA</td>\n      <td>Major</td>\n      <td>N[C@@H](Cc1ccc(O)c(O)c1)C(=O)O</td>\n      <td>Polyphenols-neg-mix66</td>\n      <td>196.060036</td>\n      <td>0.330</td>\n      <td>0.006197</td>\n      <td>...</td>\n      <td>0.402333</td>\n      <td>7050.0</td>\n      <td>26.0</td>\n      <td>[104, 110, 131]</td>\n      <td>1.032937e-02</td>\n      <td>45.002510550344226\\t13.0\\n81.037809530738\\t13....</td>\n      <td>164.0</td>\n      <td>WTDRDQBEARUVNC-LURJTMIESA-N</td>\n      <td>45.002510550344226\\t13.0\\n81.037809530738\\t13....</td>\n      <td>92.168675</td>\n    </tr>\n  </tbody>\n</table>\n<p>566 rows × 22 columns</p>\n</div>"
     },
     "execution_count": 33,
     "metadata": {},
     "output_type": "execute_result"
    }
   ],
   "source": [
    "matched_all"
   ],
   "metadata": {
    "collapsed": false,
    "pycharm": {
     "name": "#%%\n"
    }
   }
  },
  {
   "cell_type": "code",
   "execution_count": 12,
   "outputs": [],
   "source": [
    "ms1, ms2 = rds.read_mzml('Polyphenols-neg-mix1', mzml_dir)"
   ],
   "metadata": {
    "collapsed": false,
    "pycharm": {
     "name": "#%%\n"
    }
   }
  },
  {
   "cell_type": "code",
   "execution_count": 13,
   "outputs": [],
   "source": [
    "mass_sorted, intensity_sorted, index_sorted, rt_list = trx.build_index(ms1)"
   ],
   "metadata": {
    "collapsed": false,
    "pycharm": {
     "name": "#%%\n"
    }
   }
  },
  {
   "cell_type": "code",
   "execution_count": 21,
   "outputs": [],
   "source": [
    "ion_trace = trx.flash_eic(715.130459, mass_sorted, intensity_sorted, index_sorted, mass_error=0.1)"
   ],
   "metadata": {
    "collapsed": false,
    "pycharm": {
     "name": "#%%\n"
    }
   }
  },
  {
   "cell_type": "code",
   "execution_count": 206,
   "outputs": [
    {
     "name": "stderr",
     "output_type": "stream",
     "text": [
      "100%|██████████| 66/66 [00:03<00:00, 17.44it/s]\n"
     ]
    }
   ],
   "source": [
    "matched_all = pd.DataFrame()\n",
    "for mix in tqdm(std_list_neg['mix'].unique()):\n",
    "    std_list_mix = string_search(std_list_neg, 'mix', mix)\n",
    "    feature_temp = pd.read_csv(os.path.join(pl_dir, mix + '.csv'))\n",
    "    matched_temp = fsm.feature_matching(feature_temp, std_list_mix, adducts=std_list_mix.columns[-4:])\n",
    "    matched_all = pd.concat([matched_all, matched_temp], ignore_index=True)\n",
    "    # break\n"
   ],
   "metadata": {
    "collapsed": false,
    "pycharm": {
     "name": "#%%\n"
    }
   }
  },
  {
   "cell_type": "code",
   "execution_count": 4,
   "outputs": [],
   "source": [
    "matched_all = pd.read_csv(os.path.join(pl_dir, 'matched_undenoised.csv'))"
   ],
   "metadata": {
    "collapsed": false,
    "pycharm": {
     "name": "#%%\n"
    }
   }
  },
  {
   "cell_type": "code",
   "execution_count": 119,
   "outputs": [],
   "source": [
    "from rdkit import Chem"
   ],
   "metadata": {
    "collapsed": false,
    "pycharm": {
     "name": "#%%\n"
    }
   }
  },
  {
   "cell_type": "code",
   "execution_count": 5,
   "outputs": [
    {
     "name": "stderr",
     "output_type": "stream",
     "text": [
      "100%|██████████| 566/566 [09:01<00:00,  1.05it/s]\n",
      "  0%|          | 0/497 [00:00<?, ?it/s]\n"
     ]
    },
    {
     "ename": "KeyError",
     "evalue": "'rt_offset'",
     "output_type": "error",
     "traceback": [
      "\u001B[0;31m---------------------------------------------------------------------------\u001B[0m",
      "\u001B[0;31mKeyError\u001B[0m                                  Traceback (most recent call last)",
      "File \u001B[0;32m/opt/homebrew/Caskroom/miniforge/base/envs/alphapept_env/lib/python3.8/site-packages/pandas/core/indexes/base.py:3653\u001B[0m, in \u001B[0;36mIndex.get_loc\u001B[0;34m(self, key)\u001B[0m\n\u001B[1;32m   3652\u001B[0m \u001B[38;5;28;01mtry\u001B[39;00m:\n\u001B[0;32m-> 3653\u001B[0m     \u001B[38;5;28;01mreturn\u001B[39;00m \u001B[38;5;28;43mself\u001B[39;49m\u001B[38;5;241;43m.\u001B[39;49m\u001B[43m_engine\u001B[49m\u001B[38;5;241;43m.\u001B[39;49m\u001B[43mget_loc\u001B[49m\u001B[43m(\u001B[49m\u001B[43mcasted_key\u001B[49m\u001B[43m)\u001B[49m\n\u001B[1;32m   3654\u001B[0m \u001B[38;5;28;01mexcept\u001B[39;00m \u001B[38;5;167;01mKeyError\u001B[39;00m \u001B[38;5;28;01mas\u001B[39;00m err:\n",
      "File \u001B[0;32m/opt/homebrew/Caskroom/miniforge/base/envs/alphapept_env/lib/python3.8/site-packages/pandas/_libs/index.pyx:147\u001B[0m, in \u001B[0;36mpandas._libs.index.IndexEngine.get_loc\u001B[0;34m()\u001B[0m\n",
      "File \u001B[0;32m/opt/homebrew/Caskroom/miniforge/base/envs/alphapept_env/lib/python3.8/site-packages/pandas/_libs/index.pyx:176\u001B[0m, in \u001B[0;36mpandas._libs.index.IndexEngine.get_loc\u001B[0;34m()\u001B[0m\n",
      "File \u001B[0;32mpandas/_libs/hashtable_class_helper.pxi:7080\u001B[0m, in \u001B[0;36mpandas._libs.hashtable.PyObjectHashTable.get_item\u001B[0;34m()\u001B[0m\n",
      "File \u001B[0;32mpandas/_libs/hashtable_class_helper.pxi:7088\u001B[0m, in \u001B[0;36mpandas._libs.hashtable.PyObjectHashTable.get_item\u001B[0;34m()\u001B[0m\n",
      "\u001B[0;31mKeyError\u001B[0m: 'rt_offset'",
      "\nThe above exception was the direct cause of the following exception:\n",
      "\u001B[0;31mKeyError\u001B[0m                                  Traceback (most recent call last)",
      "Input \u001B[0;32mIn [5]\u001B[0m, in \u001B[0;36m<cell line: 21>\u001B[0;34m()\u001B[0m\n\u001B[1;32m     18\u001B[0m matched_all_good\u001B[38;5;241m.\u001B[39mto_csv(os\u001B[38;5;241m.\u001B[39mpath\u001B[38;5;241m.\u001B[39mjoin(library_dir, \u001B[38;5;124m'\u001B[39m\u001B[38;5;124mc18_neg.csv\u001B[39m\u001B[38;5;124m'\u001B[39m), index\u001B[38;5;241m=\u001B[39m\u001B[38;5;28;01mFalse\u001B[39;00m)\n\u001B[1;32m     19\u001B[0m \u001B[38;5;28;01mfrom\u001B[39;00m \u001B[38;5;21;01mtoolsets\u001B[39;00m\u001B[38;5;21;01m.\u001B[39;00m\u001B[38;5;21;01mfile_io\u001B[39;00m \u001B[38;5;28;01mimport\u001B[39;00m export_library_msp\n\u001B[0;32m---> 21\u001B[0m \u001B[43mexport_library_msp\u001B[49m\u001B[43m(\u001B[49m\u001B[43mmatched_all_good\u001B[49m\u001B[43m,\u001B[49m\u001B[43m \u001B[49m\u001B[43mos\u001B[49m\u001B[38;5;241;43m.\u001B[39;49m\u001B[43mpath\u001B[49m\u001B[38;5;241;43m.\u001B[39;49m\u001B[43mjoin\u001B[49m\u001B[43m(\u001B[49m\u001B[43mlibrary_dir\u001B[49m\u001B[43m,\u001B[49m\u001B[43m \u001B[49m\u001B[38;5;124;43m'\u001B[39;49m\u001B[38;5;124;43mc18_neg.txt\u001B[39;49m\u001B[38;5;124;43m'\u001B[39;49m\u001B[43m)\u001B[49m\u001B[43m,\u001B[49m\u001B[43m \u001B[49m\u001B[43mtypeofmsms\u001B[49m\u001B[38;5;241;43m=\u001B[39;49m\u001B[38;5;124;43m'\u001B[39;49m\u001B[38;5;124;43mmsms_denoised\u001B[39;49m\u001B[38;5;124;43m'\u001B[39;49m\u001B[43m)\u001B[49m\n",
      "File \u001B[0;32m~/Documents/GitHub/lead_finder/toolsets/file_io.py:253\u001B[0m, in \u001B[0;36mexport_library_msp\u001B[0;34m(data, output_location, typeofmsms, ifcollision_energy)\u001B[0m\n\u001B[1;32m    250\u001B[0m     ionmode \u001B[38;5;241m=\u001B[39m \u001B[38;5;124m'\u001B[39m\u001B[38;5;124mN\u001B[39m\u001B[38;5;124m'\u001B[39m\n\u001B[1;32m    251\u001B[0m entry \u001B[38;5;241m=\u001B[39m entry\u001B[38;5;241m+\u001B[39m\u001B[38;5;124m'\u001B[39m\u001B[38;5;124mIon_mode: \u001B[39m\u001B[38;5;124m'\u001B[39m\u001B[38;5;241m+\u001B[39mionmode\u001B[38;5;241m+\u001B[39m \u001B[38;5;124m'\u001B[39m\u001B[38;5;130;01m\\n\u001B[39;00m\u001B[38;5;124m'\u001B[39m\n\u001B[1;32m    252\u001B[0m entry \u001B[38;5;241m=\u001B[39m (entry \u001B[38;5;241m+\u001B[39m \u001B[38;5;124m'\u001B[39m\u001B[38;5;124mComment: \u001B[39m\u001B[38;5;124m'\u001B[39m \u001B[38;5;241m+\u001B[39m\u001B[38;5;28mstr\u001B[39m(row[\u001B[38;5;124m'\u001B[39m\u001B[38;5;124mcomment\u001B[39m\u001B[38;5;124m'\u001B[39m])\u001B[38;5;241m+\u001B[39m\u001B[38;5;124m'\u001B[39m\u001B[38;5;124m_ms1intensity+\u001B[39m\u001B[38;5;124m'\u001B[39m\u001B[38;5;241m+\u001B[39m\u001B[38;5;28mstr\u001B[39m(np\u001B[38;5;241m.\u001B[39mround(row[\u001B[38;5;124m'\u001B[39m\u001B[38;5;124mms1_intensity\u001B[39m\u001B[38;5;124m'\u001B[39m],\u001B[38;5;241m1\u001B[39m))\n\u001B[0;32m--> 253\u001B[0m         \u001B[38;5;241m+\u001B[39m\u001B[38;5;124m'\u001B[39m\u001B[38;5;124m_ei_\u001B[39m\u001B[38;5;124m'\u001B[39m\u001B[38;5;241m+\u001B[39m\u001B[38;5;28mstr\u001B[39m(np\u001B[38;5;241m.\u001B[39mround(row[\u001B[38;5;124m'\u001B[39m\u001B[38;5;124mei\u001B[39m\u001B[38;5;124m'\u001B[39m],\u001B[38;5;241m2\u001B[39m)) \u001B[38;5;241m+\u001B[39m\u001B[38;5;124m'\u001B[39m\u001B[38;5;124m_rt_offset_\u001B[39m\u001B[38;5;124m'\u001B[39m\u001B[38;5;241m+\u001B[39m \u001B[38;5;28mstr\u001B[39m(np\u001B[38;5;241m.\u001B[39mround(\u001B[43mrow\u001B[49m\u001B[43m[\u001B[49m\u001B[38;5;124;43m'\u001B[39;49m\u001B[38;5;124;43mrt_offset\u001B[39;49m\u001B[38;5;124;43m'\u001B[39;49m\u001B[43m]\u001B[49m,\u001B[38;5;241m1\u001B[39m))\u001B[38;5;241m+\u001B[39m\u001B[38;5;124m'\u001B[39m\u001B[38;5;130;01m\\n\u001B[39;00m\u001B[38;5;124m'\u001B[39m)\n\u001B[1;32m    254\u001B[0m \u001B[38;5;28;01mtry\u001B[39;00m:\n\u001B[1;32m    255\u001B[0m     entry \u001B[38;5;241m=\u001B[39m entry \u001B[38;5;241m+\u001B[39m \u001B[38;5;124m'\u001B[39m\u001B[38;5;124mSpectrum_entropy: \u001B[39m\u001B[38;5;124m'\u001B[39m \u001B[38;5;241m+\u001B[39m\u001B[38;5;28mstr\u001B[39m(spectral_entropy(truncate_msms(row[typeofmsms], row[\u001B[38;5;124m'\u001B[39m\u001B[38;5;124mprecursor_mz\u001B[39m\u001B[38;5;124m'\u001B[39m]\u001B[38;5;241m-\u001B[39m\u001B[38;5;241m1.6\u001B[39m))) \u001B[38;5;241m+\u001B[39m \u001B[38;5;124m'\u001B[39m\u001B[38;5;130;01m\\n\u001B[39;00m\u001B[38;5;124m'\u001B[39m\n",
      "File \u001B[0;32m/opt/homebrew/Caskroom/miniforge/base/envs/alphapept_env/lib/python3.8/site-packages/pandas/core/series.py:1007\u001B[0m, in \u001B[0;36mSeries.__getitem__\u001B[0;34m(self, key)\u001B[0m\n\u001B[1;32m   1004\u001B[0m     \u001B[38;5;28;01mreturn\u001B[39;00m \u001B[38;5;28mself\u001B[39m\u001B[38;5;241m.\u001B[39m_values[key]\n\u001B[1;32m   1006\u001B[0m \u001B[38;5;28;01melif\u001B[39;00m key_is_scalar:\n\u001B[0;32m-> 1007\u001B[0m     \u001B[38;5;28;01mreturn\u001B[39;00m \u001B[38;5;28;43mself\u001B[39;49m\u001B[38;5;241;43m.\u001B[39;49m\u001B[43m_get_value\u001B[49m\u001B[43m(\u001B[49m\u001B[43mkey\u001B[49m\u001B[43m)\u001B[49m\n\u001B[1;32m   1009\u001B[0m \u001B[38;5;28;01mif\u001B[39;00m is_hashable(key):\n\u001B[1;32m   1010\u001B[0m     \u001B[38;5;66;03m# Otherwise index.get_value will raise InvalidIndexError\u001B[39;00m\n\u001B[1;32m   1011\u001B[0m     \u001B[38;5;28;01mtry\u001B[39;00m:\n\u001B[1;32m   1012\u001B[0m         \u001B[38;5;66;03m# For labels that don't resolve as scalars like tuples and frozensets\u001B[39;00m\n",
      "File \u001B[0;32m/opt/homebrew/Caskroom/miniforge/base/envs/alphapept_env/lib/python3.8/site-packages/pandas/core/series.py:1116\u001B[0m, in \u001B[0;36mSeries._get_value\u001B[0;34m(self, label, takeable)\u001B[0m\n\u001B[1;32m   1113\u001B[0m     \u001B[38;5;28;01mreturn\u001B[39;00m \u001B[38;5;28mself\u001B[39m\u001B[38;5;241m.\u001B[39m_values[label]\n\u001B[1;32m   1115\u001B[0m \u001B[38;5;66;03m# Similar to Index.get_value, but we do not fall back to positional\u001B[39;00m\n\u001B[0;32m-> 1116\u001B[0m loc \u001B[38;5;241m=\u001B[39m \u001B[38;5;28;43mself\u001B[39;49m\u001B[38;5;241;43m.\u001B[39;49m\u001B[43mindex\u001B[49m\u001B[38;5;241;43m.\u001B[39;49m\u001B[43mget_loc\u001B[49m\u001B[43m(\u001B[49m\u001B[43mlabel\u001B[49m\u001B[43m)\u001B[49m\n\u001B[1;32m   1118\u001B[0m \u001B[38;5;28;01mif\u001B[39;00m is_integer(loc):\n\u001B[1;32m   1119\u001B[0m     \u001B[38;5;28;01mreturn\u001B[39;00m \u001B[38;5;28mself\u001B[39m\u001B[38;5;241m.\u001B[39m_values[loc]\n",
      "File \u001B[0;32m/opt/homebrew/Caskroom/miniforge/base/envs/alphapept_env/lib/python3.8/site-packages/pandas/core/indexes/base.py:3655\u001B[0m, in \u001B[0;36mIndex.get_loc\u001B[0;34m(self, key)\u001B[0m\n\u001B[1;32m   3653\u001B[0m     \u001B[38;5;28;01mreturn\u001B[39;00m \u001B[38;5;28mself\u001B[39m\u001B[38;5;241m.\u001B[39m_engine\u001B[38;5;241m.\u001B[39mget_loc(casted_key)\n\u001B[1;32m   3654\u001B[0m \u001B[38;5;28;01mexcept\u001B[39;00m \u001B[38;5;167;01mKeyError\u001B[39;00m \u001B[38;5;28;01mas\u001B[39;00m err:\n\u001B[0;32m-> 3655\u001B[0m     \u001B[38;5;28;01mraise\u001B[39;00m \u001B[38;5;167;01mKeyError\u001B[39;00m(key) \u001B[38;5;28;01mfrom\u001B[39;00m \u001B[38;5;21;01merr\u001B[39;00m\n\u001B[1;32m   3656\u001B[0m \u001B[38;5;28;01mexcept\u001B[39;00m \u001B[38;5;167;01mTypeError\u001B[39;00m:\n\u001B[1;32m   3657\u001B[0m     \u001B[38;5;66;03m# If we have a listlike key, _check_indexing_error will raise\u001B[39;00m\n\u001B[1;32m   3658\u001B[0m     \u001B[38;5;66;03m#  InvalidIndexError. Otherwise we fall through and re-raise\u001B[39;00m\n\u001B[1;32m   3659\u001B[0m     \u001B[38;5;66;03m#  the TypeError.\u001B[39;00m\n\u001B[1;32m   3660\u001B[0m     \u001B[38;5;28mself\u001B[39m\u001B[38;5;241m.\u001B[39m_check_indexing_error(key)\n",
      "\u001B[0;31mKeyError\u001B[0m: 'rt_offset'"
     ]
    }
   ],
   "source": [
    "from toolsets.denoising_related_functions import denoise_h\n",
    "\n",
    "msms_denoised = [None] * len(matched_all)\n",
    "ei = np.zeros(len(matched_all))\n",
    "for index, row in tqdm(matched_all.iterrows(), total=len(matched_all)):\n",
    "    try:\n",
    "        msms_d, ei_t = denoise_h(row['msms'], row['reference_smiles'], row['reference_adduct'], row['precursor_mz'],\n",
    "                             reference_db_sorted=formula_db)\n",
    "    except:\n",
    "        msms_denoised[index] = row['msms']\n",
    "        ei[index] = 100\n",
    "        continue\n",
    "    msms_denoised[index] = msms_d\n",
    "    ei[index] = ei_t\n",
    "matched_all['msms_denoised'] = msms_denoised\n",
    "matched_all['ei'] = ei\n",
    "matched_all_good = matched_all[matched_all['ei'] >= np.mean(matched_all['ei']) - np.std(matched_all['ei'])]\n",
    "matched_all_good.to_csv(os.path.join(library_dir, 'c18_neg.csv'), index=False)\n"
   ],
   "metadata": {
    "collapsed": false,
    "pycharm": {
     "name": "#%%\n"
    }
   }
  },
  {
   "cell_type": "code",
   "execution_count": 7,
   "outputs": [],
   "source": [
    "matched_all_good['rt_offset']=np.abs(matched_all_good['rt_apex']-matched_all_good['reference_rt'])"
   ],
   "metadata": {
    "collapsed": false,
    "pycharm": {
     "name": "#%%\n"
    }
   }
  },
  {
   "cell_type": "code",
   "execution_count": 45,
   "outputs": [],
   "source": [
    "all = pd.concat([matched_all_good, pos], ignore_index=True)"
   ],
   "metadata": {
    "collapsed": false,
    "pycharm": {
     "name": "#%%\n"
    }
   }
  },
  {
   "cell_type": "code",
   "execution_count": 47,
   "outputs": [
    {
     "data": {
      "text/plain": "array(['KMJPKUVSXFVQGZ-WQLSNUALSA-N', 'BURJAQFYNVMZDV-FIRIVFDPSA-N',\n       'AFSDNFLWKVMVRB-UHFFFAOYSA-N', 'GUMSHIGGVOJLBP-SLRPQMTOSA-N',\n       'GGQJXCQBBONZFX-IWVLMIASSA-N', 'DZAUWHJDUNRCTF-UHFFFAOYSA-N',\n       'YQUVCSBJEUQKSH-UHFFFAOYSA-N', 'YWJXCIXBAKGUKZ-HJJNZUOJSA-N',\n       'UCTWMZQNUQWSLP-UHFFFAOYSA-N', 'ZQSIJRDFPHDXIC-UHFFFAOYSA-N',\n       'DFPMSGMNTNDNHN-ZPHOTFPESA-N', 'IPQVTOJGNYVQEO-KGFNBKMBSA-N',\n       'AOJJSUZBOXZQNB-TZSSRYMLSA-N', 'QUQPHWDTPGMPEX-QJBIFVCTSA-N',\n       'CUFLZUDASVUNOE-UHFFFAOYSA-N', 'DCYOADKBABEMIQ-OWMUPTOHSA-N',\n       'CWBZAESOUBENAP-QVNVHUMTSA-N', 'WUADCCWRTIWANL-UHFFFAOYSA-N',\n       'XLEYFDVVXLMULC-UHFFFAOYSA-N', 'CUCUKLJLRRAKFN-UHFFFAOYSA-N',\n       'UQSRXQMIXSZGLA-UHFFFAOYSA-N', 'AEDDIBAIWPIIBD-ZJKJAXBQSA-N',\n       'IBGBGRVKPALMCQ-UHFFFAOYSA-N', 'CDRPUGZCRXZLFL-OWOJBTEDSA-N',\n       'AIONOLUJZLIMTK-AWEZNQCLSA-N', 'IQPNAANSBPBGFQ-UHFFFAOYSA-N',\n       'DXDRHHKMWQZJHT-FPYGCLRLSA-N', 'SIXLXDIJGIWWFU-UHFFFAOYSA-N',\n       'LNTHITQWFMADLM-UHFFFAOYSA-N', 'GZSOSUNBTXMUFQ-YFAPSIMESA-N',\n       'VGEREEWJJVICBM-UHFFFAOYSA-N', 'KJXSIXMJHKAJOD-LSDHHAIUSA-N',\n       'FVYXIJYOAGAUQK-UHFFFAOYSA-N', 'URFCJEUYXNAHFI-ZDUSSCGKSA-N',\n       'NYSZJNUIVUBQMM-BQYQJAHWSA-N', 'XHEFDIBZLJXQHF-UHFFFAOYSA-N',\n       'FTVWIRXFELQLPI-ZDUSSCGKSA-N', 'DJSISFGPUUYILV-ZFORQUDYSA-N',\n       'QAIPRVGONGVQAS-UHFFFAOYSA-N', 'IOUVKUPGCMBWBT-QNDFHXLGSA-N',\n       'ARGKVCXINMKCAZ-UZRWAPQLSA-N', 'PAFLSMZLRSPALU-UHFFFAOYSA-N',\n       'JAYVHSBYKLLDJC-DSNJPTTOSA-N', 'HKEAFJYKMMKDOR-VPRICQMDSA-N',\n       'RHMXXJGYXNZAPX-UHFFFAOYSA-N', 'PFTAWBLQPZVEMU-DZGCQCFKSA-N',\n       'LUKBXSAWLPMMSZ-OWOJBTEDSA-N', 'MBNGWHIJMBWFHU-UHFFFAOYSA-N',\n       'TZBJGXHYKVUXJN-UHFFFAOYSA-N', 'AFHJQYHRLPMKHU-OSYMLPPYSA-N',\n       'RTIXKCRFFJGDFG-UHFFFAOYSA-N', 'SEBFKMXJBCUCAI-HKTJVKLFSA-N',\n       'WZUVPPKBWHMQCE-XJKSGUPXSA-N', 'CXQWRCVTCMQVQX-MLCCFXAWSA-N',\n       'IYRMWMYZSQPJKC-UHFFFAOYSA-N', 'HAVWRBANWNTOJX-UHFFFAOYSA-N',\n       'XLTFNNCXVBYBSX-UHFFFAOYSA-N', 'OVSQVDMCBVZWGM-DTGCRPNFSA-N',\n       'YXOLAZRVSSWPPT-UHFFFAOYSA-N', 'ZROGCCBNZBKLEL-MPRHSVQHSA-N',\n       'IZQSVPBOUDKVDZ-UHFFFAOYSA-N', 'LSHVYAFMTMFKBA-TZIWHRDSSA-N',\n       'DOUMFZQKYFQNTF-WUTVXBCWSA-N', 'CWVRJTMFETXNAD-NCZKRNLISA-N',\n       'ZCOLJUOHXJRHDI-CMWLGVBASA-N', 'IPQVTOJGNYVQEO-AIFLABODSA-N',\n       'XMOCLSLCDHWDHP-IUODEOHRSA-N', 'SNKFFCBZYFGCQN-VWUOOIFGSA-N',\n       'RPMNUQRUHXIGHK-PYXJVEIZSA-N', 'OXGUCUVFOIWWQJ-HQBVPOQASA-N',\n       'GCJWPRRNLSHTRY-VURDRKPISA-N', 'FDQAOULAVFHKBX-UHFFFAOYSA-N',\n       'GNRIZKKCNOBBMO-UHFFFAOYSA-N', 'STQGQHZAVUOBTE-VGBVRHCVSA-N',\n       'WZRCQWQRFZITDX-UHFFFAOYSA-N', 'FURUXTVZLHCCNA-AWEZNQCLSA-N',\n       'JVXZRQGOGOXCEC-UHFFFAOYSA-N', 'DRRWBCNQOKKKOL-UHFFFAOYSA-N',\n       'PEFNSGRTCBGNAN-QNDFHXLGSA-N', 'FBSKJMQYURKNSU-ZLSOWSIRSA-N',\n       'ORXQGKIUCDPEAJ-YRNVUSSQSA-N', 'KAZSKMJFUPEHHW-DHZHZOJOSA-N',\n       'LBQIJVLKGVZRIW-ZDUSSCGKSA-N', 'CNOURESJATUGPN-UDEBZQQRSA-N',\n       'ZDZSFWLPCFRASW-CPISFEQASA-N', 'NGMYNFJANBHLKA-LVKFHIPRSA-N',\n       'KRFBMPVGAYGGJE-UHFFFAOYSA-N', 'YUSWMAULDXZHPY-UHFFFAOYSA-N',\n       'YABIJLLNNFURIJ-UHFFFAOYSA-N', 'PUPKKEQDLNREIM-QNSQPKOQSA-N',\n       'XQDCKJKKMFWXGB-UHFFFAOYSA-N', 'QVGFPTYGKPLXPK-OOBAEQHESA-N',\n       'SBVBJPHMDABKJV-PGCJWIIOSA-N', 'VCCRNZQBSJXYJD-UHFFFAOYSA-N',\n       'REFJWTPEDVJJIY-UHFFFAOYSA-N', 'FHIJMQWMMZEFBL-OPSYHMPNSA-N',\n       'DUWPGRAKHMEPCM-IZZDOVSWSA-N', 'TUSDEZXZIZRFGC-XIGLUPEJSA-N',\n       'VUWOVGXVRYBSGI-IRXABLMPSA-N', 'UJZQBMQZMKFSRV-RGKBJLTCSA-N',\n       'FDQAOULAVFHKBX-DBMPWETRSA-N', 'POMAQDQEVHXLGT-AFIHRZNTSA-N',\n       'FBSFWRHWHYMIOG-UHFFFAOYSA-N', 'NULBHTHMVOCGOE-ZBCCAYPVSA-N',\n       'XIUVHOSBSDYXRG-UVTAEQIVSA-N', 'GYIKGLVKALOGDP-HLEFUGOVSA-N',\n       'HMCMTJPPXSGYJY-UHFFFAOYSA-N', 'ANNNBEZJTNCXHY-NSCUHMNNSA-N',\n       'SQFSKOYWJBQGKQ-UHFFFAOYSA-N', 'KLQXMRBGMLHBBQ-DQTDZZOCSA-N',\n       'GARZMRVWLORUSR-VPRICQMDSA-N', 'HAYLVXFWJCKKDW-IJTBWITGSA-N',\n       'IYCPMVXIUPYNHI-WPKKLUCLSA-N', 'KUWZXOMQXYWKBS-NSCUHMNNSA-N',\n       'RFWGABANNQMHMZ-ZCHJGGQASA-N', 'JMBINOWGIHWPJI-UNSOMVRXSA-N',\n       'MMDUKUSNQNWVET-VYUBKLCTSA-N', 'QHLKSZBFIJJREC-SPSUIZEHSA-N',\n       'NDSUKTASTPEKBX-YGBVHABKSA-N', 'UCQUAMAQHHEXGD-UHFFFAOYSA-N',\n       'ADFCQWZHKCXPAJ-UHFFFAOYSA-N', 'QBKSWRVVCFFDOT-UHFFFAOYSA-N',\n       'GLAAQZFBFGEBPS-UHFFFAOYSA-N', 'XMOCLSLCDHWDHP-DOMZBBRYSA-N',\n       'AYMYWHCQALZEGT-ORCRQEGFSA-N', 'ADFCQWZHKCXPAJ-GFCCVEGCSA-N',\n       'TUGWPJJTQNLKCL-UHFFFAOYSA-N', 'ZVGNESXIJDCBKN-UUEYKCAUSA-N',\n       'QRTYTQTVJQUCEP-INIZCTEOSA-N', 'NRPKURNSADTHLJ-UHFFFAOYSA-N',\n       'SWUARLUWKZWEBQ-VQHVLOKHSA-N', 'ZTHYODDOHIVTJV-UHFFFAOYSA-N',\n       'OMQADRGFMLGFJF-MNPJBKLOSA-N', 'GKRBWXABVALDGQ-OWARGZBISA-N',\n       'HXTFHSYLYXVTHC-AJHDJQPGSA-N', 'UFCLZKMFXSILNL-PSEXTPKNSA-N',\n       'GKAJCVFOJGXVIA-DXKBKAGUSA-N', 'RTATXGUCZHCSNG-QHWHWDPRSA-N',\n       'GCLAFEGUXXHIFT-IWLDQSELSA-N', 'DVGGLGXQSFURLP-VWMSDXGPSA-N',\n       'QNVWGEJMXOQQPM-UHFFFAOYSA-N', 'XMVBNLMKPMPWAX-DIKOWXHZSA-N',\n       'CDYBOKJASDEORM-HBVDJMOISA-N', 'PREBVFJICNPEKM-UHFFFAOYSA-N',\n       'XCUCMLUTCAKSOZ-FIRIVFDPSA-N', 'NTDLXWMIWOECHG-YRCFQSNFSA-N',\n       'PLAPMLGJVGLZOV-YWFAZRBLSA-N', 'ZTHLHHDJRXJGRX-UHFFFAOYSA-N',\n       'PDHAOJSHSJQANO-OWOJBTEDSA-N', 'JBFOLLJCGUCDQP-ZFORQUDYSA-N',\n       'BMLIIPOXVWESJG-LMBCONBSSA-N', 'QJKMIJNRNRLQSS-WEVVVXLNSA-N',\n       'LTTQKYMNTNISSZ-MWTRTKDXSA-N', 'SGEWCQFRYRRZDC-VPRICQMDSA-N',\n       'VCCNKWWXYVWTLT-CYZBKYQRSA-N', 'DXYUAIFZCFRPTH-UHFFFAOYSA-N',\n       'OBGPEBYHGIUFBN-UHFFFAOYSA-N', 'GSTCPEBQYSOEHV-QNDFHXLGSA-N',\n       'ODBRNZZJSYPIDI-VJXVFPJBSA-N', 'IGMNYECMUMZDDF-UHFFFAOYSA-N',\n       'PJQLSMYMOKWUJG-UHFFFAOYSA-N', 'HMUJXQRRKBLVOO-AWEZNQCLSA-N',\n       'AIFCFBUSLAEIBR-UHFFFAOYSA-N', 'OVSQVDMCBVZWGM-QSOFNFLRSA-N',\n       'TZRNJQYCOSMOJS-UHFFFAOYSA-N', 'WLDWSGZHNBANIO-UHFFFAOYSA-N',\n       'YNWXJFQOCHMPCK-LXGDFETPSA-N', 'GPQLHGCIAUEJQK-UHFFFAOYSA-N',\n       'KVOJTUXGYQVLAJ-UHFFFAOYSA-N', 'SBHXYTNGIZCORC-ZDUSSCGKSA-N',\n       'DMXHXBGUNHLMQO-IWLDQSELSA-N', 'VQUPQWGKORWZII-WDPYGAQVSA-N',\n       'UFCLZKMFXSILNL-RVXRWRFUSA-N', 'XUSYGBPHQBWGAD-PJSUUKDQSA-N',\n       'NBVTYGIYKCPHQN-UHFFFAOYSA-N', 'UIDGLYUNOUKLBM-GEBJFKNCSA-N',\n       'XFFOMNJIDRDDLQ-UHFFFAOYSA-N', 'WDKYDMULARNCIS-GQCTYLIASA-N',\n       'FTVWIRXFELQLPI-UHFFFAOYSA-N', 'SWGKAHCIOQPKFW-JTNORFRNSA-N',\n       'SDXKZPQOVUDXIY-UHFFFAOYSA-N', 'RNXZPKOEJUFJON-UHFFFAOYSA-N',\n       'BXTNNJIQILYHJB-GFCCVEGCSA-N', 'SNFFBROYEDWRGB-NHXQFOETSA-N',\n       'JRVIIPJSVKTPBK-UHFFFAOYSA-N', 'WQGWDDDVZFFDIG-UHFFFAOYSA-N',\n       'KRZBCHWVBQOTNZ-PSEXTPKNSA-N', 'GYFFKZTYYAFCTR-QHEBTOHLSA-N',\n       'KZLDMAIXPXOZCX-BBQAUMBQSA-N', 'YCFQXQCEEPCZMO-KATYHMCLSA-N',\n       'NDSUKTASTPEKBX-LXXMDOISSA-N', 'ZUGCRBMNFSAUOC-YRNVUSSQSA-N',\n       'PZZRDJXEMZMZFD-IEGSVRCHSA-N', 'LLMCZIBSELEBMK-UKHOTDCGSA-N',\n       'DYHOLQACRGJEHX-ZDUSSCGKSA-N', 'RXAXTTGJEMODPY-CJNLAGEVSA-N',\n       'INBSFHNHCNZEOY-PQSJUMPYSA-N', 'VEZXFTKZUMARDU-UHFFFAOYSA-N',\n       'NYCXYKOXLNBYID-UHFFFAOYSA-N', 'NYRXUBDGDSRBGB-UHFFFAOYSA-N',\n       'OVMFOVNOXASTPA-VYUBKLCTSA-N', 'PXGWEUQZDRUMRE-UNZYZCBSSA-N',\n       'BQSAGDWOHVQNFB-SFHVURJKSA-N', 'ZBHUUXLHDOUMKM-REZTVBANSA-N',\n       'YMWRMAOPKNYHMZ-LLVTZOIGSA-N', 'XRYVAQQLDYTHCL-CMJOXMDJSA-N',\n       'LFKQVVDFNHDYNK-FOXCETOMSA-N', 'ZZAJQOPSWWVMBI-UHFFFAOYSA-N',\n       'VSUOKLTVXQRUSG-ZFORQUDYSA-N', 'WXBBQBYCUTXTJQ-ULMXTSOFSA-N',\n       'FIAAVMJLAGNUKW-VQVVXJKKSA-N', 'IWEIJEPIYMAGTH-UHFFFAOYSA-N',\n       'LSHVYAFMTMFKBA-CTNGQTDRSA-N', 'JDIORNFCMMYMLF-UHFFFAOYSA-N',\n       'HUYKZYIAFUBPAQ-UHFFFAOYSA-N', 'YDDGKXBLOXEEMN-IABMMNSOSA-N',\n       'KLAOKWJLUQKWIF-UHFFFAOYSA-N', 'XMOCLSLCDHWDHP-SWLSCSKDSA-N',\n       'CYSRKZFPSNZSCS-UHFFFAOYSA-N', 'IRZTUXPRIUZXMP-UHFFFAOYSA-N',\n       'YPWHZCPMOQGCDQ-HMGRVEAOSA-N', 'LNQCUTNLHUQZLR-OZJWLQQPSA-N',\n       'SFLSHLFXELFNJZ-QMMMGPOBSA-N', 'AUTZLTCWRDPAPV-UHFFFAOYSA-N',\n       'UWHUTZOCTZJUKC-JKSUJKDBSA-N', 'PGSWEKYNAOWQDF-UHFFFAOYSA-N',\n       'RETRVWFVEFCGOK-RMKNXTFCSA-N', 'BATBOVZTQBLKIL-UHFFFAOYSA-N',\n       'IPQKDIRUZHOIOM-IAAKTDFRSA-N', 'NEZONWMXZKDMKF-JTQLQIEISA-N',\n       'JAYVHSBYKLLDJC-NUABRCLCSA-N', 'ZXYAAVBXHKCJJB-UHFFFAOYSA-N',\n       'HJTVQHVGMGKONQ-LUZURFALSA-N', 'PHLYOKFVXIVOJC-UHFFFAOYSA-N',\n       'HUQKUJNSVHEHIH-UHFFFAOYSA-N', 'RGHMISIYKIHAJW-UHFFFAOYSA-N',\n       'GTRLQDJSEMBQNI-LYHRZCPZSA-N', 'NMZBFHDKUAVGLR-DXKBKAGUSA-N',\n       'IHVRWFJGOIWMGC-NSCUHMNNSA-N', 'AFHJQYHRLPMKHU-WEZNYRQKSA-N',\n       'LYISDADPVOHJBJ-UHFFFAOYSA-N', 'BBNQQADTFFCFGB-UHFFFAOYSA-N',\n       'BATBOVZTQBLKIL-KRWDZBQOSA-N', 'OBEHELRBTWMPHI-UHFFFAOYSA-N',\n       'YIFZKRGUGKLILR-NSCUHMNNSA-N', 'LVVKXRQZSRUVPY-OAHLLOKOSA-N',\n       'VANSZAOQCMTTPB-RNAHPLFWSA-N', 'AKEUNCKRJATALU-UHFFFAOYSA-N',\n       'UXUFMIJZNYXWDX-VMPITWQZSA-N', 'RIUPLDUFZCXCHM-UHFFFAOYSA-N',\n       'KBPUBCVJHFXPOC-UHFFFAOYSA-N', 'PZZRDJXEMZMZFD-BWYUNELBSA-N',\n       'RGZHEOWNTDJLAQ-UHFFFAOYSA-N', 'SGJNQVTUYXCBKH-HNQUOIGGSA-N',\n       'MBMQEIFVQACCCH-XVNBXDOJSA-N', 'HQQUZVFMUSCUJS-PGPONNFDSA-N',\n       'REOZWEGFPHTFEI-JKSUJKDBSA-N', 'FGJGLFPNIZXRLV-UHFFFAOYSA-N',\n       'ZVOLCUVKHLEPEV-UHFFFAOYSA-N', 'JRWZLRBJNMZMFE-UHFFFAOYSA-N',\n       'VMMVZVPAYFZNBM-KVFWHIKKSA-N', 'GLDVIKFETPAZNV-UHFFFAOYSA-N',\n       'XQWFHGOIUZFQPJ-LXGDFETPSA-N', 'BJBUTJQYZDYRMJ-UHFFFAOYSA-N',\n       'OYAQUBKYAKSHOA-UHFFFAOYSA-N', 'IHFBPDAQLQOCBX-UHFFFAOYSA-N',\n       'ADSYMQORONDIDD-ZJHVPRRPSA-N', 'LPEPZZAVFJPLNZ-SFHVURJKSA-N',\n       'GSBNFGRTUCCBTK-DAFODLJHSA-N', 'ANUBYMNVOPVATP-OAZHBLANSA-L',\n       'LCAWNFIFMLXZPQ-UHFFFAOYSA-N', 'DJOJDHGQRNZXQQ-AWEZNQCLSA-N',\n       'FHHSEFRSDKWJKJ-UHFFFAOYSA-N', 'GMQFOKBGMKVUQZ-UHFFFAOYSA-N',\n       'GYLUFQJZYAJQDI-UHFFFAOYSA-N', 'FHEHIXJLCWUPCZ-UHFFFAOYSA-N',\n       'MZNIJRAPCCELQX-AWOKGZDASA-N', 'OCNYGKNIVPVPPX-UHFFFAOYSA-N',\n       'XHALVRQBZGZHFE-BBOMDTFKSA-N', 'WLZPAFGVOWCVMG-UHFFFAOYSA-N',\n       'BLZGPHNVMRXDCB-UXBLZVDNSA-N', 'LUTYTNLPIUCKBJ-UHFFFAOYSA-N',\n       'PADQINQHPQKXNL-LSDHHAIUSA-N', 'IQHPDUUSMBMDGN-UHFFFAOYSA-N',\n       'PREBVFJICNPEKM-YDWXAUTNSA-N', 'RGNXWPVNPFAADO-NSIKDUERSA-N',\n       'XNPVHIQPSAZTLC-NYUBLWNDSA-N', 'UQRBFXIUUDJHSN-ONEGZZNKSA-N',\n       'UUQHKWMIDYRWHH-UHFFFAOYSA-N', 'ADPBTBPPIIKLEH-UHFFFAOYSA-N',\n       'UWQYBLOHTQWSQD-UHFFFAOYSA-N', 'RSAHICAPUYTWHW-UHFFFAOYSA-N',\n       'JHYXBPPMXZIHKG-UHFFFAOYSA-N', 'NZYSZZDSYIBYLC-UHFFFAOYSA-N',\n       'YLILOANQCQKPOD-UHFFFAOYSA-N', 'ZZIALNLLNHEQPJ-UHFFFAOYSA-N',\n       'CCRPIWFQMLICCY-UHFFFAOYSA-N', 'RXGUTQNKCXHALN-BJMVGYQFSA-N',\n       'YEYLMQKEGSQNGZ-AWEZNQCLSA-N', 'GVQOVMKBYJKZSY-UHFFFAOYSA-N',\n       'OELMAFBLFOKZJD-UHFFFAOYSA-N', 'SCZVLDHREVKTSH-UHFFFAOYSA-N',\n       'SFLSHLFXELFNJZ-UHFFFAOYSA-N', 'FPLMIPQZHHQWHN-UHFFFAOYSA-N',\n       'HRGUSFBJBOKSML-UHFFFAOYSA-N', 'GDYGAIKPBLFCKR-OIPGZRGRSA-N',\n       'MJBPUQUGJNAPAZ-AWEZNQCLSA-N', 'AOJWDTJDEGSHOA-UHFFFAOYSA-N',\n       'LCKRZXFBCWYAKU-UHFFFAOYSA-N', 'XOXYHGOIRWABTC-UHFFFAOYSA-N',\n       'JRKPLTBLTYEYJJ-WEVVVXLNSA-N', 'QMPHZIPNNJOWQI-GDDAOPKQSA-N',\n       'QXACEHWTBCFNSA-SFQUDFHCSA-N', 'RRVWIPPRKMQDAO-NSHDSACASA-N',\n       'BWORNNDZQGOKBY-UHFFFAOYSA-N', 'HLSIOUXODPWHFI-UHFFFAOYSA-N',\n       'YHWNASRGLKJRJJ-KRWDZBQOSA-N', 'GPZFXSWMDFBRGS-UXONFWTHSA-N',\n       'OKRNDQLCMXUCGG-UHFFFAOYSA-N', 'VJSCHQMOTSXAKB-YCRREMRBSA-N',\n       'CLFRCXCBWIQVRN-UHFFFAOYSA-N', 'JHYXBPPMXZIHKG-CYBMUJFWSA-N',\n       'OEEUHNAUMMATJT-UHFFFAOYSA-N', 'PFTAWBLQPZVEMU-UKRRQHHQSA-N',\n       'KWCCUYSXAYTNKA-UHFFFAOYSA-N', 'SOEDEYVDCDYMMH-UHFFFAOYSA-N',\n       'MRPJBTFHICBFNE-JKSUJKDBSA-N', 'GSSPKCPIRDPBQE-UHFFFAOYSA-N',\n       'LVVUKXKEXOTUPV-UHFFFAOYSA-N', 'KIQQFVJHWNCGAU-UHFFFAOYSA-N',\n       'HHXMEXZVPJFAIJ-UHFFFAOYSA-N', 'ZPVNWCMRCGXRJD-ZDUSSCGKSA-N',\n       'BYWLLSQTJBXAPV-UHFFFAOYSA-N', 'KPCRYSMUMBNTCK-UHFFFAOYSA-N',\n       'RJBAXROZAXAEEM-UHFFFAOYSA-N', 'VYQXIUVIYICVCM-UHFFFAOYSA-N',\n       'WEPBGSIAWZTEJR-UHFFFAOYSA-N', 'JCZGUFVZKUDRMM-UHFFFAOYSA-N',\n       'BVRYLTBIGIAADD-MRXNPFEDSA-N', 'GEXAPRXWKRZPCK-UHFFFAOYSA-N',\n       'YQHMWTPYORBCMF-ZZXKWVIFSA-N', 'AQMBVNGTZRFEPF-UHFFFAOYSA-N',\n       'LHPRYOJTASOZGJ-UHFFFAOYSA-N', 'RGCKGOZRHPZPFP-UHFFFAOYSA-N',\n       'FCDLCPWAQCPTKC-UHFFFAOYSA-N', 'YDQWDHRMZQUTBA-UHFFFAOYSA-N',\n       'JUUBCHWRXWPFFH-UHFFFAOYSA-N', 'TUUXBSASAQJECY-UHFFFAOYSA-N',\n       'SULYEHHGGXARJS-UHFFFAOYSA-N', 'LBTVHXHERHESKG-UHFFFAOYSA-N',\n       'OAUREGNZECGNQS-IBGZPJMESA-N', 'KYFBXCHUXFKMGQ-IBGZPJMESA-N',\n       'DANYIYRPLHHOCZ-UHFFFAOYSA-N', 'HITJFUSPLYBJPE-UHFFFAOYSA-N',\n       'ICTZCAHDGHPRQR-GOSISDBHSA-N', 'ZDOTZEDNGNPOEW-UHFFFAOYSA-N',\n       'DQULNTWGBBNZSC-SNAWJCMRSA-N', 'LCAZOMIGFDQMNC-FORWCCJISA-N',\n       'XHLOLFKZCUCROE-UHFFFAOYSA-N', 'BRRSNXCXLSVPFC-UHFFFAOYSA-N',\n       'NQRBAPDEZYMKFL-UHFFFAOYSA-N', 'YNEMPXKRLPZFAX-UHFFFAOYSA-N',\n       'NCUJRUDLFCGVOE-UHFFFAOYSA-N', 'MUKYVRVYBBYJSI-UHFFFAOYSA-N',\n       'SLFZBNOERHGNMI-UHFFFAOYSA-N', 'WPWWKBNOXTZDQJ-UHFFFAOYSA-N',\n       'JGUZGNYPMHHYRK-UHFFFAOYSA-N', 'NKGJZNRUAGQIRY-UHFFFAOYSA-N',\n       'RDKDIPDDUFMMMT-UHFFFAOYSA-N', 'VATOSFCFMOPAHX-XCVCLJGOSA-N',\n       'WBEFUVAYFSOUEA-UHFFFAOYSA-N', 'JMSFLLZUCIXALN-WEVVVXLNSA-N',\n       'OWGUBYRKZATRIT-QPJJXVBHSA-N', 'WTDRDQBEARUVNC-UHFFFAOYSA-N',\n       'UYEMGAFJOZZIFP-UHFFFAOYSA-N', 'NWQBYMPNIJXFNQ-UHFFFAOYSA-N',\n       'JPMYFOBNRRGFNO-UHFFFAOYSA-N', 'WTDRDQBEARUVNC-LURJTMIESA-N',\n       'IKMDFBPHZNJCSN-UHFFFAOYSA-N', 'VFLDPWHFBUODDF-FCXRPNKRSA-N',\n       'ATEFPOUAMCWAQS-UHFFFAOYSA-N', 'COCYGNDCWFKTMF-UHFFFAOYSA-N',\n       'FNMHEHXNBNCPCI-QEOJJFGVSA-N', 'VFPFQHQNJCMNBZ-UHFFFAOYSA-N',\n       'OBBCRPUNCUPUOS-UHFFFAOYSA-N', 'RKWHWFONKJEUEF-GQUPQBGVSA-O',\n       'YCVPRTHEGLPYPB-VOTSOKGWSA-N', 'PHMHDRYYFAYWEG-NSCUHMNNSA-N',\n       'LNIVUWPCHRNJLG-SXFAUFNYSA-N', 'SMTKSCGLXONVGL-UPIRYGIPSA-N',\n       'QJYNZEYHSMRWBK-NIKIMHBISA-N', 'MQSZRBPYXNEFHF-UHFFFAOYSA-N',\n       'HORZNQYQXBFWNZ-LBPRGKRZSA-N', 'HVTCKKMWZDDWOY-UHFFFAOYSA-O',\n       'PPCHTBBOSVKORE-UHFFFAOYSA-N', 'ZXXFEBMBNPRRSI-JNHRPPPUSA-N',\n       'MYXNWGACZJSMBT-VJXVFPJBSA-N', 'YLRXAIKMLINXQY-ZDUSSCGKSA-O',\n       'VOMDIEGPEURZJO-UHFFFAOYSA-N', 'JPUKWEQWGBDDQB-QSOFNFLRSA-N',\n       'LKOJGSWUMISDOF-UHFFFAOYSA-N', 'OIPPWFOQEKKFEE-UHFFFAOYSA-N',\n       'BTXNYTINYBABQR-UHFFFAOYSA-N', 'KQMVAGISDHMXJJ-UHFFFAOYSA-N',\n       'AJPXZTKPPINUKN-FIRIVFDPSA-N', 'RBBVPNQTBKHOEQ-KKSFZXQISA-O',\n       'VGGSULWDCMWZPO-ODEMIOGVSA-N', 'APPXYONGBIXGRO-AIQWNVMPSA-N',\n       'XETHJOZXBVWLLM-QAHMVTMMSA-N', 'QIMGUQIHCNDUKU-OJJLXHDHSA-N',\n       'YMGFTDKNIWPMGF-UCPJVGPRSA-N', 'RDUAJIJVNHKTQC-UJECXLDQSA-N',\n       'XQVKQEFQGYTUAR-VHBRHXFYSA-N', 'LLPRITPJQPQXIR-BVDHFOMSSA-N',\n       'VNLOLXSJMINBIS-XWAGUSETSA-N', 'CYGIJEJDYJOUAN-FKLXTTOPSA-N',\n       'ZJVUMAFASBFUBG-UYMKNUMKSA-N', 'MQDZZCJYWRZONM-WEDRDYHSSA-N',\n       'ALERZNQPBWWLMW-OMRKUVHCSA-N', 'REHAMWBRZKUHPN-CNJKJOQLSA-N',\n       'GLDQAMYCGOIJDV-UHFFFAOYSA-N', 'ZEASWHWETFMWCV-ISBUVJFSSA-N',\n       'DBOVHQOUSDWAPQ-WTONXPSSSA-N', 'IQHIEHIKNWLKFB-OBOTWMKHSA-N',\n       'SNKFFCBZYFGCQN-PDVBOLEISA-N', 'QQBFHNKJGBCSLG-AMBXKRCHSA-N',\n       'YDDUMTOHNYZQPO-PSEXTPKNSA-N', 'HBYKIOIUVMDUIK-GUJRDUPISA-N',\n       'QISXROCIXKXUPS-OWVLCBNUSA-N', 'CBZYUWGJNYOKHT-ZZXKWVIFSA-N',\n       'XPLMUADTACCMDJ-UVQMCPPLSA-N', 'ZFKKRRMUPBBYRS-UHFFFAOYSA-N',\n       'ZKTMLINFIQCERN-QGZVFWFLSA-O', 'BITPRCODIALMOV-DEFKTLOSSA-N',\n       'OHOBPOYHROOXEI-OVNVQJKQSA-N', 'CIAXXTSXVCLEJK-JOEVVYSCSA-N',\n       'DMLHPCALHMPJHS-UHFFFAOYSA-N', 'DUBCCGAQYVUYEU-ZUGPOPFOSA-N',\n       'VCONERRCKOKCHE-UHFFFAOYSA-N', 'SJRXVLUZMMDCNG-KKPQBLLMSA-N',\n       'XFZJEEAOWLFHDH-UKWJTHFESA-N', 'IDTDRZPBDLMCLB-HSOQPIRZSA-N',\n       'BZYKNVLTMWYEFA-ZJKJAXBQSA-N', 'HNGAZJABJOAMSW-FHXNIQKESA-N',\n       'DVGGLGXQSFURLP-FIZCXTQCSA-N', 'GDNIGMNXEKGFIP-UHFFFAOYSA-O',\n       'DFNXNCCYQRPZMD-ZDOVWLMSSA-N', 'FFGGWIVHOGEVSP-NWQOLJAQSA-N',\n       'JFJWMFPFMLRLMI-UHFFFAOYSA-N', 'XCKMDTYMOHXUHG-SXFAUFNYSA-N',\n       'DGGOLFCPSUVVHX-RTHJTPBESA-N', 'AOWRAYJMTOYETH-SXFAUFNYSA-N',\n       'TWBWSPDILHVKEV-RSPRXDBDSA-N', 'ABRULANJVVJLFI-DGHBBABESA-N',\n       'NSEWTSAADLNHNH-LSBOWGMISA-N', 'XGEYXJDOVMEJNG-HTFDPZBKSA-N',\n       'XJDJODWHDUVAGF-UHFFFAOYSA-N', 'VVSFMIXQNYRGMG-BDAFLREQSA-N',\n       'MCYJIRFKDCXYCX-YUPZTAPUSA-N', 'ZHTQCPCDXKMMLU-UHFFFAOYSA-N',\n       'GUEIZVNYDFNHJU-UHFFFAOYSA-N', 'IKGXIBQEEMLURG-UHFFFAOYSA-N',\n       'OJXQLGQIDIPMTE-UHFFFAOYSA-N', 'KJCDBAVVDILRMP-UHFFFAOYSA-N',\n       'UBVJENDWBOVRBS-JNHRPPPUSA-N', 'RNKMOGIPOMVCHO-SJMVAQJGSA-N',\n       'HJEXOQUMFMERIM-UHFFFAOYSA-N', 'HKNBJSRIYRDSLB-MAWNCODISA-N',\n       'COZMWVAACFYLBI-XJEVXTIOSA-N', 'GRDZTDZJQRPNCN-YIANMRPHSA-N',\n       'KRCBALDMBZQTIQ-ZJKJAXBQSA-N', 'FPIOBTBNRZPWJW-UHFFFAOYSA-N',\n       'YLTPWCZXKJSORQ-GYCJOSAFSA-N', 'FQWLMRXWKZGLFI-YVYUXZJTSA-N',\n       'MVOUGOXRXQDXDC-RSPRXDBDSA-N', 'VAYWXTLNNGACLF-UHFFFAOYSA-N',\n       'ZFWOUNNKSHIAFK-RDAFFBQNSA-N', 'TVBJKPLTBPGHDJ-ZJTKNEERSA-N',\n       'DKBPTKFKCCNXNH-QXGWMLRCSA-N', 'LQYQYAJWKXDTHR-PHVGODQESA-N',\n       'SOSLMHZOJATCCP-AEIZVZFYSA-N', 'PBBVWJQPAZYQDB-DBFWEQBMSA-N',\n       'ZITBJWXLODLDRH-JLTOFOAXSA-N', 'RQTTXGQDIROLTQ-FASGCTRLSA-N',\n       'HLOCLVMUASBDDP-UHFFFAOYSA-N', 'KNWVMRVOBAFFMH-HNNXBMFYSA-N',\n       'DVLNCWXFKKSRQB-NSVVQGBUSA-N', 'HYPKUHLLPBGDLF-IAAKTDFRSA-N',\n       'LLJUCXMVRPAONX-AYATVRNWSA-N', 'GYQQQCVFOLKXGH-LDSFXQROSA-N',\n       'ITVGXXMINPYUHD-CUVHLRMHSA-N', 'HSTZMXCBWJGKHG-CUYWLFDKSA-N',\n       'IKIIZLYTISPENI-ZFORQUDYSA-N', 'IKGXIBQEEMLURG-NVPNHPEKSA-N',\n       'FSBUXLDOLNLABB-ISAKITKMSA-N', 'WMBWREPUVVBILR-NQIIRXRSSA-N',\n       'UVVWQQKSNZLUQA-UHFFFAOYSA-N', 'HPSWAEGGWLOOKT-QIJCZIKRSA-N',\n       'RBBVPNQTBKHOEQ-BJQOMGFOSA-O', 'KFEFLPDKISUVNR-QJEHNBJNSA-N',\n       'YDDUMTOHNYZQPO-RVXRWRFUSA-N', 'CQLRUIIRRZYHHS-LFXZADKFSA-N',\n       'KMOUJOKENFFTPU-QNDFHXLGSA-N', 'JQQBXPCJFAKSPG-SVYIMCMUSA-N',\n       'YDDGKXBLOXEEMN-WOJBJXKFSA-N', 'YKGCBLWILMDSAV-SFHVURJKSA-N',\n       'BDCDNTVZSILEOY-UXYNSRGZSA-N', 'VUTMUSRYWYUQIK-GZIDCZEMSA-N',\n       'XFZJEEAOWLFHDH-NFJBMHMQSA-N', 'LZJRNLRASBVRRX-ZDUSSCGKSA-N',\n       'UIAFKZKHHVMJGS-UHFFFAOYSA-N', 'RCWNBHCZYXWDOV-VSFMGBBVSA-N',\n       'LWESBHWAOZORCQ-UHFFFAOYSA-N', 'GKRBWXABVALDGQ-GCELSKRESA-N',\n       'XFZJEEAOWLFHDH-AVFWISQGSA-N', 'SHPPXMGVUDNKLV-KMFFXDMSSA-N',\n       'LWBHKKLWSUFUNZ-HNNXBMFYSA-N', 'NSEWTSAADLNHNH-TXZJYACMSA-N',\n       'HCOZRFYGIFMIEX-UHFFFAOYSA-N', 'PEFASEPMJYRQBW-HKWQTAEVSA-N',\n       'UFMAZRUMVFVHLY-CYBMUJFWSA-N', 'LKZDFKLGDGSGEO-UJECXLDQSA-N',\n       'BJAHHJOBSKZTFE-JUIPTLLLSA-N', 'STINYPFJROKCKD-WIBUTAKZSA-N',\n       'ZFWOUNNKSHIAFK-CJJBRGBPSA-N', 'KOWMJRJXZMEZLD-WRMVBYCNSA-N',\n       'NIZFPXZQERMCLE-KVFWHIKKSA-N', 'WMBWREPUVVBILR-WIYYLYMNSA-N',\n       'GWTUHAXUUFROTF-NCZKRNLISA-N', 'UMGCIIXWEFTPOC-CUYWLFDKSA-N',\n       'HSWIRQIYASIOBE-JNHRPPPUSA-N', 'IOLDDENZPBFBHV-UHFFFAOYSA-N',\n       'KLKLIUIRQAMTAJ-UHFFFAOYSA-N', 'USNPULRDBDVJAO-FXCAAIILSA-O',\n       'OGYXOOJUJQIDOX-FVCAYHPDSA-N', 'OLOOJGVNMBJLLR-UHFFFAOYSA-N',\n       'MBRLOUHOWLUMFF-UHFFFAOYSA-N', 'GUAFOGOEJLSQBT-UHFFFAOYSA-N',\n       'KHVMAMXQPVHXTJ-ORYXKJSJSA-N', 'PFFOGGCBLWTCPM-UHFFFAOYSA-N',\n       'FXNFHKRTJBSTCS-UHFFFAOYSA-N', 'DTOUWTJYUCZJQD-UJERWXFOSA-N',\n       'LYGPBZVKGHHTIE-HUBYJIGHSA-N', 'WKUHPOMCLBLCOV-MIUGBVLSSA-N',\n       'CWVRJTMFETXNAD-NXLLHMKUSA-N', 'UAPZTGRENZINFN-WEDRDYHSSA-N',\n       'URQAEFLEDPPPFX-LBPRGKRZSA-N', 'LXOPDILLGIDKLW-UHFFFAOYSA-N'],\n      dtype=object)"
     },
     "execution_count": 47,
     "metadata": {},
     "output_type": "execute_result"
    }
   ],
   "source": [
    "all['reference_inchikey'].unique()"
   ],
   "metadata": {
    "collapsed": false,
    "pycharm": {
     "name": "#%%\n"
    }
   }
  },
  {
   "cell_type": "code",
   "execution_count": 50,
   "outputs": [
    {
     "data": {
      "text/plain": "0.85625"
     },
     "execution_count": 50,
     "metadata": {},
     "output_type": "execute_result"
    }
   ],
   "source": [
    "548/640"
   ],
   "metadata": {
    "collapsed": false,
    "pycharm": {
     "name": "#%%\n"
    }
   }
  },
  {
   "cell_type": "code",
   "execution_count": 43,
   "outputs": [],
   "source": [
    "pos = pd.read_csv('/Volumes/Samsung_T5/polyphenol_lib/c18_pos/library/c18_pos.csv')"
   ],
   "metadata": {
    "collapsed": false,
    "pycharm": {
     "name": "#%%\n"
    }
   }
  },
  {
   "cell_type": "code",
   "execution_count": 44,
   "outputs": [
    {
     "data": {
      "text/plain": "0.7890625"
     },
     "execution_count": 44,
     "metadata": {},
     "output_type": "execute_result"
    }
   ],
   "source": [
    "len(pos['reference_inchikey'].unique())/len(std_list_neg)"
   ],
   "metadata": {
    "collapsed": false,
    "pycharm": {
     "name": "#%%\n"
    }
   }
  },
  {
   "cell_type": "code",
   "execution_count": 8,
   "outputs": [
    {
     "name": "stderr",
     "output_type": "stream",
     "text": [
      "100%|██████████| 497/497 [00:01<00:00, 384.92it/s] \n"
     ]
    }
   ],
   "source": [
    "from toolsets.file_io import export_library_msp\n",
    "\n",
    "export_library_msp(matched_all_good, os.path.join(library_dir, 'c18_neg.txt'), typeofmsms='msms_denoised')"
   ],
   "metadata": {
    "collapsed": false,
    "pycharm": {
     "name": "#%%\n"
    }
   }
  },
  {
   "cell_type": "markdown",
   "source": [],
   "metadata": {
    "collapsed": false,
    "pycharm": {
     "name": "#%% md\n"
    }
   }
  },
  {
   "cell_type": "markdown",
   "source": [
    "# Below is for neg"
   ],
   "metadata": {
    "collapsed": false,
    "pycharm": {
     "name": "#%% md\n"
    }
   }
  },
  {
   "cell_type": "code",
   "execution_count": 148,
   "outputs": [],
   "source": [
    "std_list_pos_adduct=pd.read_csv(os.path.join(master_dir, 'std_list_pos_adduct.csv'))\n",
    "std_list_neg_adduct=pd.read_csv(os.path.join(master_dir, 'std_list_neg_adduct.csv'))"
   ],
   "metadata": {
    "collapsed": false,
    "pycharm": {
     "name": "#%%\n"
    }
   }
  },
  {
   "cell_type": "code",
   "execution_count": 158,
   "outputs": [],
   "source": [
    "mzml_dir = '/Volumes/Samsung_T5/polyphenol_lib/neg/mzml'\n",
    "pl_dir = '/Volumes/Samsung_T5/polyphenol_lib/neg/pl'\n",
    "library_dir ='/Volumes/Samsung_T5/polyphenol_lib/neg/curated_library'\n",
    "for p in [ library_dir]:\n",
    "    if os.path.exists(p)==False:\n",
    "        os.makedirs(p)"
   ],
   "metadata": {
    "collapsed": false,
    "pycharm": {
     "name": "#%%\n"
    }
   }
  },
  {
   "cell_type": "code",
   "execution_count": 150,
   "outputs": [],
   "source": [
    "matched_all = pd.DataFrame()\n",
    "for mix in std_list_neg_adduct['mix'].unique():\n",
    "    try:\n",
    "        matched_temp = pd.read_csv(os.path.join(pl_dir, mix+'_matched.csv'))\n",
    "        matched_all = pd.concat([matched_all, matched_temp], ignore_index=True)\n",
    "    except:\n",
    "        pass"
   ],
   "metadata": {
    "collapsed": false,
    "pycharm": {
     "name": "#%%\n"
    }
   }
  },
  {
   "cell_type": "code",
   "execution_count": 151,
   "outputs": [],
   "source": [
    "matched_all['rt_offset']=[abs(x-y) for x, y in zip(matched_all['reference_rt'], matched_all['rt_apex'])]"
   ],
   "metadata": {
    "collapsed": false,
    "pycharm": {
     "name": "#%%\n"
    }
   }
  },
  {
   "cell_type": "code",
   "execution_count": 152,
   "outputs": [],
   "source": [
    "_tocheck = matched_all.query('rt_offset>0.1')"
   ],
   "metadata": {
    "collapsed": false,
    "pycharm": {
     "name": "#%%\n"
    }
   }
  },
  {
   "cell_type": "code",
   "execution_count": 31,
   "outputs": [],
   "source": [
    "eic_dir ='/Volumes/Samsung_T5/polyphenol_lib/neg/EICs'"
   ],
   "metadata": {
    "collapsed": false,
    "pycharm": {
     "name": "#%%\n"
    }
   }
  },
  {
   "cell_type": "code",
   "execution_count": 36,
   "outputs": [
    {
     "name": "stderr",
     "output_type": "stream",
     "text": [
      "100%|██████████| 27/27 [00:53<00:00,  1.98s/it]\n"
     ]
    }
   ],
   "source": [
    "for index, row in tqdm(_tocheck.iterrows(), total = len(_tocheck)):\n",
    "    if row['comment']=='Major':\n",
    "        ms1, ms2 = read_mzml(row['reference_mix'], mzml_dir)\n",
    "        rt_list, intensity_list = auto_EIC(row['reference_mz'],ms1)\n",
    "        EIC(rt_list, intensity_list, vlines_location_1=[row['reference_rt']], vlines_location_2=[row['rt_apex']],\n",
    "            savepath=os.path.join(eic_dir, row['reference_name']+'_'+row['reference_adduct']+'.png'), show=False)"
   ],
   "metadata": {
    "collapsed": false,
    "pycharm": {
     "name": "#%%\n"
    }
   }
  },
  {
   "cell_type": "code",
   "execution_count": 153,
   "outputs": [],
   "source": [
    "from toolsets.denoising_related_functions import denoise_h"
   ],
   "metadata": {
    "collapsed": false,
    "pycharm": {
     "name": "#%%\n"
    }
   }
  },
  {
   "cell_type": "code",
   "execution_count": 39,
   "outputs": [],
   "source": [
    "reference_db_sorted = pd.read_csv('db/formulaDB_sorted.csv')"
   ],
   "metadata": {
    "collapsed": false,
    "pycharm": {
     "name": "#%%\n"
    }
   }
  },
  {
   "cell_type": "code",
   "execution_count": 154,
   "outputs": [
    {
     "name": "stderr",
     "output_type": "stream",
     "text": [
      "100%|██████████| 602/602 [01:58<00:00,  5.07it/s]\n"
     ]
    }
   ],
   "source": [
    "msms_denoised = []\n",
    "ei = []\n",
    "for index, row in tqdm(matched_all.iterrows(), total = len(matched_all)):\n",
    "    result_temp = denoise_h(row['msms'], row['reference_smiles'], row['reference_adduct'], reference_db_sorted, mass_error=0.02)\n",
    "    msms_denoised.append(result_temp[0])\n",
    "    ei.append(result_temp[1])"
   ],
   "metadata": {
    "collapsed": false,
    "pycharm": {
     "name": "#%%\n"
    }
   }
  },
  {
   "cell_type": "code",
   "execution_count": 159,
   "outputs": [],
   "source": [
    "matched_all['ei']=ei\n",
    "matched_all['msms_denoised']=msms_denoised"
   ],
   "metadata": {
    "collapsed": false,
    "pycharm": {
     "name": "#%%\n"
    }
   }
  },
  {
   "cell_type": "code",
   "execution_count": 160,
   "outputs": [],
   "source": [
    "matched_good_quality = matched_all.query('ei>90 and rt_offset <=0.1')"
   ],
   "metadata": {
    "collapsed": false,
    "pycharm": {
     "name": "#%%\n"
    }
   }
  },
  {
   "cell_type": "code",
   "execution_count": 161,
   "outputs": [],
   "source": [
    "matched_all.to_csv(os.path.join(library_dir, 'neg_matched_all.csv'), index = False)\n",
    "matched_good_quality.to_csv(os.path.join(library_dir, 'neg_matched_good_quality.csv'), index = False)\n",
    "export_library_msp(matched_good_quality, 'neg_matched_good_quality.txt', typeofmsms= 'msms_denoised',ifcollision_energy=False)\n",
    "export_library_msp(matched_all, 'neg_matched_all.txt', typeofmsms= 'msms_denoised',ifcollision_energy=False)"
   ],
   "metadata": {
    "collapsed": false,
    "pycharm": {
     "name": "#%%\n"
    }
   }
  },
  {
   "cell_type": "code",
   "execution_count": 273,
   "outputs": [],
   "source": [
    "matched_all=pd.read_csv(os.path.join(library_dir, 'neg_matched_all.csv'))\n",
    "matched_good_quality = matched_all.query('ei>90')\n",
    "rt_matched = []\n",
    "for index, row in matched_good_quality.iterrows():\n",
    "    if row['comment']=='Major' and row['rt_offset']>=0.1:\n",
    "        rt_matched.append(False)\n",
    "    else:\n",
    "        rt_matched.append(True)\n",
    "matched_good_quality['rt_matched']=rt_matched\n",
    "matched_good_quality=matched_good_quality[matched_good_quality['rt_matched']==True]"
   ],
   "metadata": {
    "collapsed": false,
    "pycharm": {
     "name": "#%%\n"
    }
   }
  },
  {
   "cell_type": "code",
   "execution_count": 276,
   "outputs": [],
   "source": [
    "matched_good_quality.to_csv(os.path.join(library_dir, 'neg_matched_good_quality.csv'), index = False)"
   ],
   "metadata": {
    "collapsed": false,
    "pycharm": {
     "name": "#%%\n"
    }
   }
  },
  {
   "cell_type": "code",
   "execution_count": null,
   "outputs": [],
   "source": [
    "matched_all.to_csv(os.path.join(library_dir, 'neg_matched_all.csv'), index = False)\n",
    "matched_good_quality.to_csv(os.path.join(library_dir, 'neg_matched_good_quality.csv'), index = False)\n",
    "export_library_msp(matched_good_quality, 'neg_matched_good_quality.txt', typeofmsms= 'msms_denoised',ifcollision_energy=False)\n",
    "export_library_msp(matched_all, 'neg_matched_all.txt', typeofmsms= 'msms_denoised',ifcollision_energy=False)"
   ],
   "metadata": {
    "collapsed": false,
    "pycharm": {
     "name": "#%%\n"
    }
   }
  },
  {
   "cell_type": "markdown",
   "source": [],
   "metadata": {
    "collapsed": false,
    "pycharm": {
     "name": "#%% md\n"
    }
   }
  },
  {
   "cell_type": "markdown",
   "source": [],
   "metadata": {
    "collapsed": false,
    "pycharm": {
     "name": "#%% md\n"
    }
   }
  },
  {
   "cell_type": "code",
   "execution_count": 73,
   "outputs": [],
   "source": [
    "from toolsets.file_io import export_library_msp"
   ],
   "metadata": {
    "collapsed": false,
    "pycharm": {
     "name": "#%%\n"
    }
   }
  },
  {
   "cell_type": "code",
   "execution_count": 79,
   "outputs": [
    {
     "name": "stderr",
     "output_type": "stream",
     "text": [
      "100%|██████████| 524/524 [00:00<00:00, 1690.91it/s]\n"
     ]
    }
   ],
   "source": [
    "export_library_msp(matched_good_quality, os.path.join(master_dir, 'neg_matched_good_quality.txt'), typeofmsms='msms_denoised', ifcollision_energy=False)"
   ],
   "metadata": {
    "collapsed": false,
    "pycharm": {
     "name": "#%%\n"
    }
   }
  },
  {
   "cell_type": "code",
   "execution_count": 80,
   "outputs": [
    {
     "name": "stderr",
     "output_type": "stream",
     "text": [
      "100%|██████████| 602/602 [00:00<00:00, 1698.21it/s]\n"
     ]
    }
   ],
   "source": [
    "export_library_msp(matched_all, os.path.join(master_dir, 'neg_matched_all.txt'), typeofmsms='msms_denoised', ifcollision_energy=False)"
   ],
   "metadata": {
    "collapsed": false,
    "pycharm": {
     "name": "#%%\n"
    }
   }
  },
  {
   "cell_type": "markdown",
   "source": [
    "# pos high ce"
   ],
   "metadata": {
    "collapsed": false,
    "pycharm": {
     "name": "#%% md\n"
    }
   }
  },
  {
   "cell_type": "code",
   "execution_count": 2,
   "outputs": [
    {
     "data": {
      "text/plain": "-0.021563099999980295"
     },
     "execution_count": 2,
     "metadata": {},
     "output_type": "execute_result"
    }
   ],
   "source": [
    "611.29-611.3115631"
   ],
   "metadata": {
    "collapsed": false,
    "pycharm": {
     "name": "#%%\n"
    }
   }
  },
  {
   "cell_type": "markdown",
   "source": [
    "# neg high ce\n"
   ],
   "metadata": {
    "collapsed": false,
    "pycharm": {
     "name": "#%% md\n"
    }
   }
  },
  {
   "cell_type": "code",
   "execution_count": 278,
   "outputs": [],
   "source": [
    "std_list_pos_adduct=pd.read_csv(os.path.join(master_dir, 'std_list_pos_adduct.csv'))\n",
    "std_list_neg_adduct=pd.read_csv(os.path.join(master_dir, 'std_list_neg_adduct.csv'))"
   ],
   "metadata": {
    "collapsed": false,
    "pycharm": {
     "name": "#%%\n"
    }
   }
  },
  {
   "cell_type": "code",
   "execution_count": 279,
   "outputs": [],
   "source": [
    "mzml_dir = '/Volumes/Samsung_T5/polyphenol_lib/neg_high_ce/mzml'\n",
    "pl_dir = '/Volumes/Samsung_T5/polyphenol_lib/neg_high_ce/pl'\n",
    "eic_dir ='/Volumes/Samsung_T5/polyphenol_lib/neg_high_ce/EICs'\n",
    "library_dir = '/Volumes/Samsung_T5/polyphenol_lib/neg_high_ce/curated_library'\n",
    "for p in [eic_dir, library_dir]:\n",
    "    if os.path.exists(p)==False:\n",
    "        os.makedirs(p)"
   ],
   "metadata": {
    "collapsed": false,
    "pycharm": {
     "name": "#%%\n"
    }
   }
  },
  {
   "cell_type": "code",
   "execution_count": 142,
   "outputs": [],
   "source": [
    "matched_all = pd.DataFrame()\n",
    "for mix in std_list_neg_adduct['mix'].unique():\n",
    "    try:\n",
    "        matched_temp = pd.read_csv(os.path.join(pl_dir, mix+'_matched.csv'))\n",
    "        matched_all = pd.concat([matched_all, matched_temp], ignore_index=True)\n",
    "    except:\n",
    "        pass"
   ],
   "metadata": {
    "collapsed": false,
    "pycharm": {
     "name": "#%%\n"
    }
   }
  },
  {
   "cell_type": "code",
   "execution_count": 143,
   "outputs": [],
   "source": [
    "eic_dir ='/Volumes/Samsung_T5/polyphenol_lib/neg_high_ce/EICs'\n",
    "library_dir = '/Volumes/Samsung_T5/polyphenol_lib/neg_high_ce/curated_library'\n",
    "for p in [eic_dir, library_dir]:\n",
    "    if os.path.exists(p)==False:\n",
    "        os.makedirs(p)"
   ],
   "metadata": {
    "collapsed": false,
    "pycharm": {
     "name": "#%%\n"
    }
   }
  },
  {
   "cell_type": "code",
   "execution_count": 144,
   "outputs": [
    {
     "name": "stderr",
     "output_type": "stream",
     "text": [
      "100%|██████████| 41/41 [00:58<00:00,  1.42s/it]\n"
     ]
    }
   ],
   "source": [
    "matched_all['rt_offset']=[abs(x-y) for x, y in zip(matched_all['reference_rt'], matched_all['rt_apex'])]\n",
    "_tocheck = matched_all.query('rt_offset>0.1')\n",
    "for index, row in tqdm(_tocheck.iterrows(), total = len(_tocheck)):\n",
    "    if row['comment']=='Major':\n",
    "        ms1, ms2 = read_mzml(row['reference_mix'], mzml_dir)\n",
    "        rt_list, intensity_list = auto_EIC(row['reference_mz'],ms1)\n",
    "        EIC(rt_list, intensity_list, vlines_location_1=[row['reference_rt']], vlines_location_2=[row['rt_apex']],\n",
    "            savepath=os.path.join(eic_dir, row['reference_name']+'_'+row['reference_adduct']+'.png'), show=False)"
   ],
   "metadata": {
    "collapsed": false,
    "pycharm": {
     "name": "#%%\n"
    }
   }
  },
  {
   "cell_type": "code",
   "execution_count": 145,
   "outputs": [
    {
     "name": "stderr",
     "output_type": "stream",
     "text": [
      "100%|██████████| 599/599 [02:15<00:00,  4.43it/s]\n"
     ]
    }
   ],
   "source": [
    "msms_denoised = []\n",
    "ei = []\n",
    "for index, row in tqdm(matched_all.iterrows(), total = len(matched_all)):\n",
    "    result_temp = denoise_h(row['msms'], row['reference_smiles'], row['reference_adduct'], reference_db_sorted, mass_error=0.02)\n",
    "    msms_denoised.append(result_temp[0])\n",
    "    ei.append(result_temp[1])\n",
    "matched_all['ei']=ei\n",
    "matched_all['msms_denoised']=msms_denoised"
   ],
   "metadata": {
    "collapsed": false,
    "pycharm": {
     "name": "#%%\n"
    }
   }
  },
  {
   "cell_type": "code",
   "execution_count": 146,
   "outputs": [],
   "source": [
    "# matched_good_quality = matched_all.query('ei>90 and rt_offset <=0.1')\n",
    "# matched_all.to_csv(os.path.join(library_dir, 'neg_high_ce_matched_all.csv'), index = False)\n",
    "# matched_good_quality.to_csv(os.path.join(library_dir, 'neg_high_ce_matched_good_quality.csv'), index = False)"
   ],
   "metadata": {
    "collapsed": false,
    "pycharm": {
     "name": "#%%\n"
    }
   }
  },
  {
   "cell_type": "code",
   "execution_count": 280,
   "outputs": [],
   "source": [
    "matched_all=pd.read_csv(os.path.join(library_dir, 'neg_high_ce_matched_all.csv'))\n",
    "matched_good_quality = matched_all.query('ei>90')\n",
    "rt_matched = []\n",
    "for index, row in matched_good_quality.iterrows():\n",
    "    if row['comment']=='Major' and row['rt_offset']>=0.1:\n",
    "        rt_matched.append(False)\n",
    "    else:\n",
    "        rt_matched.append(True)\n",
    "matched_good_quality['rt_matched']=rt_matched\n",
    "matched_good_quality=matched_good_quality[matched_good_quality['rt_matched']==True]"
   ],
   "metadata": {
    "collapsed": false,
    "pycharm": {
     "name": "#%%\n"
    }
   }
  },
  {
   "cell_type": "code",
   "execution_count": 281,
   "outputs": [],
   "source": [
    "matched_good_quality.to_csv(os.path.join(library_dir, 'neg_high_ce_matched_good_quality.csv'), index = False)"
   ],
   "metadata": {
    "collapsed": false,
    "pycharm": {
     "name": "#%%\n"
    }
   }
  },
  {
   "cell_type": "code",
   "execution_count": 284,
   "outputs": [
    {
     "name": "stderr",
     "output_type": "stream",
     "text": [
      "100%|██████████| 548/548 [00:00<00:00, 1252.46it/s]\n"
     ]
    }
   ],
   "source": [
    "export_library_msp(matched_good_quality, os.path.join(library_dir, 'neg_high_ce_matched_good_quality.txt'), typeofmsms='msms_denoised', ifcollision_energy=False)"
   ],
   "metadata": {
    "collapsed": false,
    "pycharm": {
     "name": "#%%\n"
    }
   }
  },
  {
   "cell_type": "markdown",
   "source": [],
   "metadata": {
    "collapsed": false,
    "pycharm": {
     "name": "#%% md\n"
    }
   }
  },
  {
   "cell_type": "markdown",
   "source": [],
   "metadata": {
    "collapsed": false,
    "pycharm": {
     "name": "#%% md\n"
    }
   }
  },
  {
   "cell_type": "code",
   "execution_count": 147,
   "outputs": [
    {
     "name": "stderr",
     "output_type": "stream",
     "text": [
      "100%|██████████| 493/493 [00:00<00:00, 1186.64it/s]\n",
      "100%|██████████| 599/599 [00:00<00:00, 1201.53it/s]\n"
     ]
    }
   ],
   "source": [
    "export_library_msp(matched_good_quality, os.path.join(library_dir, 'neg_high_ce_matched_good_quality.txt'), typeofmsms='msms_denoised', ifcollision_energy=False)\n",
    "export_library_msp(matched_all, os.path.join(library_dir, 'neg_high_ce_matched_all.txt'), typeofmsms='msms_denoised', ifcollision_energy=False)"
   ],
   "metadata": {
    "collapsed": false,
    "pycharm": {
     "name": "#%%\n"
    }
   }
  },
  {
   "cell_type": "markdown",
   "source": [
    "# pos"
   ],
   "metadata": {
    "collapsed": false,
    "pycharm": {
     "name": "#%% md\n"
    }
   }
  },
  {
   "cell_type": "code",
   "execution_count": 287,
   "outputs": [],
   "source": [
    "mzml_dir = '/Volumes/Samsung_T5/polyphenol_lib/pos/mzml'\n",
    "pl_dir = '/Volumes/Samsung_T5/polyphenol_lib/pos/pl'\n",
    "eic_dir ='/Volumes/Samsung_T5/polyphenol_lib/pos/EICs'\n",
    "library_dir = '/Volumes/Samsung_T5/polyphenol_lib/pos/curated_library'\n",
    "for p in [eic_dir, library_dir,mzml_dir,pl_dir]:\n",
    "    if os.path.exists(p)==False:\n",
    "        os.makedirs(p)"
   ],
   "metadata": {
    "collapsed": false,
    "pycharm": {
     "name": "#%%\n"
    }
   }
  },
  {
   "cell_type": "code",
   "execution_count": 286,
   "outputs": [],
   "source": [
    "matched_all = pd.DataFrame()\n",
    "for mix in std_list_pos_adduct['mix'].unique():\n",
    "    try:\n",
    "        matched_temp = pd.read_csv(os.path.join(pl_dir, mix+'.csv'))\n",
    "        matched_all = pd.concat([matched_all, matched_temp], ignore_index=True)\n",
    "    except:\n",
    "        pass"
   ],
   "metadata": {
    "collapsed": false,
    "pycharm": {
     "name": "#%%\n"
    }
   }
  },
  {
   "cell_type": "code",
   "execution_count": 120,
   "outputs": [
    {
     "data": {
      "text/plain": "'/Volumes/Samsung_T5/polyphenol_lib/neg_high_ce/EICs'"
     },
     "execution_count": 120,
     "metadata": {},
     "output_type": "execute_result"
    }
   ],
   "source": [
    "eic_dir"
   ],
   "metadata": {
    "collapsed": false,
    "pycharm": {
     "name": "#%%\n"
    }
   }
  },
  {
   "cell_type": "code",
   "execution_count": 124,
   "outputs": [
    {
     "name": "stderr",
     "output_type": "stream",
     "text": [
      "100%|██████████| 48/48 [01:10<00:00,  1.47s/it]\n"
     ]
    }
   ],
   "source": [
    "matched_all['rt_offset']=[abs(x-y) for x, y in zip(matched_all['reference_rt'], matched_all['rt_apex'])]\n",
    "_tocheck = matched_all.query('rt_offset>0.1')\n",
    "for index, row in tqdm(_tocheck.iterrows(), total = len(_tocheck)):\n",
    "    if row['comment']=='Major':\n",
    "        ms1, ms2 = read_mzml(row['reference_mix'], mzml_dir)\n",
    "        rt_list, intensity_list = auto_EIC(row['reference_mz'],ms1)\n",
    "        EIC(rt_list, intensity_list, vlines_location_1=[row['reference_rt']], vlines_location_2=[row['rt_apex']],\n",
    "            savepath=os.path.join(eic_dir, row['reference_name']+'_'+row['reference_adduct']+'.png'), show=False)"
   ],
   "metadata": {
    "collapsed": false,
    "pycharm": {
     "name": "#%%\n"
    }
   }
  },
  {
   "cell_type": "code",
   "execution_count": 127,
   "outputs": [
    {
     "name": "stderr",
     "output_type": "stream",
     "text": [
      "100%|██████████| 648/648 [02:10<00:00,  4.95it/s]\n"
     ]
    }
   ],
   "source": [
    "msms_denoised = []\n",
    "ei = []\n",
    "for index, row in tqdm(matched_all.iterrows(), total = len(matched_all)):\n",
    "    result_temp = denoise_h(row['msms'], row['reference_smiles'], row['reference_adduct'], reference_db_sorted, mass_error=0.02)\n",
    "    msms_denoised.append(result_temp[0])\n",
    "    ei.append(result_temp[1])\n",
    "matched_all['ei']=ei\n",
    "matched_all['msms_denoised']=msms_denoised"
   ],
   "metadata": {
    "collapsed": false,
    "pycharm": {
     "name": "#%%\n"
    }
   }
  },
  {
   "cell_type": "code",
   "execution_count": 131,
   "outputs": [
    {
     "data": {
      "text/plain": "     precursor_mz  reference_mz reference_adduct  \\\n0      717.143555    717.145011           [M+H]+   \n1      611.310428    611.311563           [M+H]+   \n2      625.211778    625.212696           [M+H]+   \n3      642.238159    642.239244         [M+NH4]+   \n6      329.086006    329.086708           [M+H]+   \n..            ...           ...              ...   \n641    818.306771    818.307717         [M+NH4]+   \n643    314.138050    314.138684           [M+H]+   \n644    314.138149    314.138684           [M+H]+   \n646    741.222722    741.223655           [M+H]+   \n647    198.075931    198.076084           [M+H]+   \n\n                               reference_name comment  \\\n0                        Theaflavin-3-gallate   Major   \n1                                 Daurisoline   Major   \n2                           Methyl-Hesperidin   Major   \n3                           Methyl-Hesperidin   Major   \n6                                    Bergenin   Major   \n..                                        ...     ...   \n641                              Jionoside A1   Minor   \n643                                 Laetanine   Major   \n644                                 Laetanine  isomer   \n646  Apigenin-7-O-(2G-rhamnosyl)gentiobioside   Major   \n647                                    L-DOPA   Major   \n\n                                      reference_smiles          reference_mix  \\\n0    O=C(O[C@@H]1Cc2c(O)cc(O)cc2O[C@@H]1c1cc(O)c(=O...   Polyphenols-pos-mix1   \n1    COc1cc2c(cc1O)[C@@H](Cc1ccc(O)c(Oc3ccc(C[C@@H]...   Polyphenols-pos-mix1   \n2    COc1ccc([C@@H]2CC(=O)c3c(O)cc(O[C@@H]4O[C@H](C...   Polyphenols-pos-mix1   \n3    COc1ccc([C@@H]2CC(=O)c3c(O)cc(O[C@@H]4O[C@H](C...   Polyphenols-pos-mix1   \n6    COc1c(O)cc2c(c1O)[C@@H]1O[C@H](CO)[C@@H](O)[C@...   Polyphenols-pos-mix1   \n..                                                 ...                    ...   \n641  COc1cc(/C=C/C(=O)O[C@@H]2[C@@H](CO[C@@H]3O[C@H...  Polyphenols-pos-mix65   \n643       COc1cc2c(cc1O)-c1c(OC)c(O)cc3c1[C@H](C2)NCC3  Polyphenols-pos-mix66   \n644       COc1cc2c(cc1O)-c1c(OC)c(O)cc3c1[C@H](C2)NCC3  Polyphenols-pos-mix66   \n646  CC1OC(OC2C(Oc3cc(O)c4c(=O)cc(-c5ccc(O)cc5)oc4c...  Polyphenols-pos-mix66   \n647                     N[C@@H](Cc1ccc(O)c(O)c1)C(=O)O  Polyphenols-pos-mix66   \n\n      rt_apex  reference_rt  ms1_intensity  ...  reci_snr  peak_purity  \\\n0    3.017704         2.958   2.613462e+05  ...  0.002060     1.000000   \n1    2.350485         2.311   3.160802e+07  ...  0.001026     0.996047   \n2    2.941834         2.882   9.698609e+06  ...  0.000185     0.982593   \n3    2.941481         2.882   4.183011e+06  ...  0.000017     0.997564   \n6    1.656435         1.658   4.049463e+06  ...  0.000031     0.987607   \n..        ...           ...            ...  ...       ...          ...   \n641  2.353838         2.304   3.326095e+06  ...  0.000198     0.992216   \n643  1.991807         1.959   7.110285e+07  ...  0.004438     0.961760   \n644  1.889438         1.959   9.765207e+05  ...  0.141130     0.984798   \n646  2.332191         2.285   6.016567e+06  ...  0.000252     0.991558   \n647  0.294828         0.330   1.657862e+06  ...  0.000026     0.464998   \n\n                                                  msms   ms1_scan_range  \\\n0    50.558895111083984\\t2925.380859375\\n53.9635696...  [651, 658, 705]   \n1    54.24769592285156\\t31611.298828125\\n58.0650901...  [505, 512, 556]   \n2    54.1085205078125\\t5332.501953125\\n57.033763885...  [635, 642, 679]   \n3    51.89076614379883\\t3361.51171875\\n57.033565521...  [635, 642, 674]   \n6    50.02085494995117\\t2723.94189453125\\n55.017810...  [342, 362, 398]   \n..                                                 ...              ...   \n641  57.03371810913086\\t4749.8623046875\\n58.6339340...  [511, 517, 548]   \n643  56.80146789550781\\t50045.47265625\\n61.74120330...  [433, 442, 510]   \n644  56.8175163269043\\t2944.499755859375\\n62.653366...  [412, 420, 429]   \n646  57.03361129760742\\t22052.11328125\\n64.34982299...  [509, 516, 552]   \n647  55.054439544677734\\t2668.787353515625\\n57.0700...     [61, 65, 91]   \n\n                               ms2_scan_idx_range_list  ms2_scan_idx  \\\n0                                               [1979]          1979   \n1           [1537, 1597, 1552, 1612, 1567, 1525, 1582]          1537   \n2                             [1933, 1948, 1963, 1918]          1933   \n3                                         [1925, 1940]          1925   \n6                 [1060, 1117, 1075, 1090, 1045, 1102]          1090   \n..                                                 ...           ...   \n641                                       [1550, 1565]          1550   \n643  [1441, 1396, 1354, 1309, 1501, 1456, 1411, 153...          1324   \n644                                 [1261, 1276, 1246]          1261   \n646                                 [1540, 1555, 1570]          1540   \n647                                         [193, 208]           193   \n\n                       mix           reference_inchikey        ei  \\\n0     Polyphenols-pos-mix1  KMJPKUVSXFVQGZ-WQLSNUALSA-N  90.38914   \n1     Polyphenols-pos-mix1  BURJAQFYNVMZDV-FIRIVFDPSA-N  95.39166   \n2     Polyphenols-pos-mix1  GUMSHIGGVOJLBP-SLRPQMTOSA-N  99.22022   \n3     Polyphenols-pos-mix1  GUMSHIGGVOJLBP-SLRPQMTOSA-N  99.27629   \n6     Polyphenols-pos-mix1  YWJXCIXBAKGUKZ-HJJNZUOJSA-N  98.67315   \n..                     ...                          ...       ...   \n641  Polyphenols-pos-mix65  UAPZTGRENZINFN-WEDRDYHSSA-N  99.59151   \n643  Polyphenols-pos-mix66  URQAEFLEDPPPFX-LBPRGKRZSA-N  97.66315   \n644  Polyphenols-pos-mix66  URQAEFLEDPPPFX-LBPRGKRZSA-N  97.14487   \n646  Polyphenols-pos-mix66  LXOPDILLGIDKLW-UHFFFAOYSA-N  98.17302   \n647  Polyphenols-pos-mix66  WTDRDQBEARUVNC-LURJTMIESA-N  99.04025   \n\n                                         msms_denoised  \n0    53.96356964111328\\t3832.4111328125\\n139.038894...  \n1    54.24769592285156\\t31611.298828125\\n58.0650901...  \n2    54.1085205078125\\t5332.501953125\\n57.033763885...  \n3    57.033565521240234\\t5839.18896484375\\n69.03336...  \n6    50.02085494995117\\t2723.94189453125\\n55.017810...  \n..                                                 ...  \n641  57.03371810913086\\t4749.8623046875\\n69.0333328...  \n643  70.10330963134766\\t50888.48828125\\n74.12525177...  \n644  191.08609008789062\\t4849.83642578125\\n209.0958...  \n646  57.03361129760742\\t22052.11328125\\n69.03345489...  \n647  55.054439544677734\\t2668.787353515625\\n57.0700...  \n\n[405 rows x 27 columns]",
      "text/html": "<div>\n<style scoped>\n    .dataframe tbody tr th:only-of-type {\n        vertical-align: middle;\n    }\n\n    .dataframe tbody tr th {\n        vertical-align: top;\n    }\n\n    .dataframe thead th {\n        text-align: right;\n    }\n</style>\n<table border=\"1\" class=\"dataframe\">\n  <thead>\n    <tr style=\"text-align: right;\">\n      <th></th>\n      <th>precursor_mz</th>\n      <th>reference_mz</th>\n      <th>reference_adduct</th>\n      <th>reference_name</th>\n      <th>comment</th>\n      <th>reference_smiles</th>\n      <th>reference_mix</th>\n      <th>rt_apex</th>\n      <th>reference_rt</th>\n      <th>ms1_intensity</th>\n      <th>...</th>\n      <th>reci_snr</th>\n      <th>peak_purity</th>\n      <th>msms</th>\n      <th>ms1_scan_range</th>\n      <th>ms2_scan_idx_range_list</th>\n      <th>ms2_scan_idx</th>\n      <th>mix</th>\n      <th>reference_inchikey</th>\n      <th>ei</th>\n      <th>msms_denoised</th>\n    </tr>\n  </thead>\n  <tbody>\n    <tr>\n      <th>0</th>\n      <td>717.143555</td>\n      <td>717.145011</td>\n      <td>[M+H]+</td>\n      <td>Theaflavin-3-gallate</td>\n      <td>Major</td>\n      <td>O=C(O[C@@H]1Cc2c(O)cc(O)cc2O[C@@H]1c1cc(O)c(=O...</td>\n      <td>Polyphenols-pos-mix1</td>\n      <td>3.017704</td>\n      <td>2.958</td>\n      <td>2.613462e+05</td>\n      <td>...</td>\n      <td>0.002060</td>\n      <td>1.000000</td>\n      <td>50.558895111083984\\t2925.380859375\\n53.9635696...</td>\n      <td>[651, 658, 705]</td>\n      <td>[1979]</td>\n      <td>1979</td>\n      <td>Polyphenols-pos-mix1</td>\n      <td>KMJPKUVSXFVQGZ-WQLSNUALSA-N</td>\n      <td>90.38914</td>\n      <td>53.96356964111328\\t3832.4111328125\\n139.038894...</td>\n    </tr>\n    <tr>\n      <th>1</th>\n      <td>611.310428</td>\n      <td>611.311563</td>\n      <td>[M+H]+</td>\n      <td>Daurisoline</td>\n      <td>Major</td>\n      <td>COc1cc2c(cc1O)[C@@H](Cc1ccc(O)c(Oc3ccc(C[C@@H]...</td>\n      <td>Polyphenols-pos-mix1</td>\n      <td>2.350485</td>\n      <td>2.311</td>\n      <td>3.160802e+07</td>\n      <td>...</td>\n      <td>0.001026</td>\n      <td>0.996047</td>\n      <td>54.24769592285156\\t31611.298828125\\n58.0650901...</td>\n      <td>[505, 512, 556]</td>\n      <td>[1537, 1597, 1552, 1612, 1567, 1525, 1582]</td>\n      <td>1537</td>\n      <td>Polyphenols-pos-mix1</td>\n      <td>BURJAQFYNVMZDV-FIRIVFDPSA-N</td>\n      <td>95.39166</td>\n      <td>54.24769592285156\\t31611.298828125\\n58.0650901...</td>\n    </tr>\n    <tr>\n      <th>2</th>\n      <td>625.211778</td>\n      <td>625.212696</td>\n      <td>[M+H]+</td>\n      <td>Methyl-Hesperidin</td>\n      <td>Major</td>\n      <td>COc1ccc([C@@H]2CC(=O)c3c(O)cc(O[C@@H]4O[C@H](C...</td>\n      <td>Polyphenols-pos-mix1</td>\n      <td>2.941834</td>\n      <td>2.882</td>\n      <td>9.698609e+06</td>\n      <td>...</td>\n      <td>0.000185</td>\n      <td>0.982593</td>\n      <td>54.1085205078125\\t5332.501953125\\n57.033763885...</td>\n      <td>[635, 642, 679]</td>\n      <td>[1933, 1948, 1963, 1918]</td>\n      <td>1933</td>\n      <td>Polyphenols-pos-mix1</td>\n      <td>GUMSHIGGVOJLBP-SLRPQMTOSA-N</td>\n      <td>99.22022</td>\n      <td>54.1085205078125\\t5332.501953125\\n57.033763885...</td>\n    </tr>\n    <tr>\n      <th>3</th>\n      <td>642.238159</td>\n      <td>642.239244</td>\n      <td>[M+NH4]+</td>\n      <td>Methyl-Hesperidin</td>\n      <td>Major</td>\n      <td>COc1ccc([C@@H]2CC(=O)c3c(O)cc(O[C@@H]4O[C@H](C...</td>\n      <td>Polyphenols-pos-mix1</td>\n      <td>2.941481</td>\n      <td>2.882</td>\n      <td>4.183011e+06</td>\n      <td>...</td>\n      <td>0.000017</td>\n      <td>0.997564</td>\n      <td>51.89076614379883\\t3361.51171875\\n57.033565521...</td>\n      <td>[635, 642, 674]</td>\n      <td>[1925, 1940]</td>\n      <td>1925</td>\n      <td>Polyphenols-pos-mix1</td>\n      <td>GUMSHIGGVOJLBP-SLRPQMTOSA-N</td>\n      <td>99.27629</td>\n      <td>57.033565521240234\\t5839.18896484375\\n69.03336...</td>\n    </tr>\n    <tr>\n      <th>6</th>\n      <td>329.086006</td>\n      <td>329.086708</td>\n      <td>[M+H]+</td>\n      <td>Bergenin</td>\n      <td>Major</td>\n      <td>COc1c(O)cc2c(c1O)[C@@H]1O[C@H](CO)[C@@H](O)[C@...</td>\n      <td>Polyphenols-pos-mix1</td>\n      <td>1.656435</td>\n      <td>1.658</td>\n      <td>4.049463e+06</td>\n      <td>...</td>\n      <td>0.000031</td>\n      <td>0.987607</td>\n      <td>50.02085494995117\\t2723.94189453125\\n55.017810...</td>\n      <td>[342, 362, 398]</td>\n      <td>[1060, 1117, 1075, 1090, 1045, 1102]</td>\n      <td>1090</td>\n      <td>Polyphenols-pos-mix1</td>\n      <td>YWJXCIXBAKGUKZ-HJJNZUOJSA-N</td>\n      <td>98.67315</td>\n      <td>50.02085494995117\\t2723.94189453125\\n55.017810...</td>\n    </tr>\n    <tr>\n      <th>...</th>\n      <td>...</td>\n      <td>...</td>\n      <td>...</td>\n      <td>...</td>\n      <td>...</td>\n      <td>...</td>\n      <td>...</td>\n      <td>...</td>\n      <td>...</td>\n      <td>...</td>\n      <td>...</td>\n      <td>...</td>\n      <td>...</td>\n      <td>...</td>\n      <td>...</td>\n      <td>...</td>\n      <td>...</td>\n      <td>...</td>\n      <td>...</td>\n      <td>...</td>\n      <td>...</td>\n    </tr>\n    <tr>\n      <th>641</th>\n      <td>818.306771</td>\n      <td>818.307717</td>\n      <td>[M+NH4]+</td>\n      <td>Jionoside A1</td>\n      <td>Minor</td>\n      <td>COc1cc(/C=C/C(=O)O[C@@H]2[C@@H](CO[C@@H]3O[C@H...</td>\n      <td>Polyphenols-pos-mix65</td>\n      <td>2.353838</td>\n      <td>2.304</td>\n      <td>3.326095e+06</td>\n      <td>...</td>\n      <td>0.000198</td>\n      <td>0.992216</td>\n      <td>57.03371810913086\\t4749.8623046875\\n58.6339340...</td>\n      <td>[511, 517, 548]</td>\n      <td>[1550, 1565]</td>\n      <td>1550</td>\n      <td>Polyphenols-pos-mix65</td>\n      <td>UAPZTGRENZINFN-WEDRDYHSSA-N</td>\n      <td>99.59151</td>\n      <td>57.03371810913086\\t4749.8623046875\\n69.0333328...</td>\n    </tr>\n    <tr>\n      <th>643</th>\n      <td>314.138050</td>\n      <td>314.138684</td>\n      <td>[M+H]+</td>\n      <td>Laetanine</td>\n      <td>Major</td>\n      <td>COc1cc2c(cc1O)-c1c(OC)c(O)cc3c1[C@H](C2)NCC3</td>\n      <td>Polyphenols-pos-mix66</td>\n      <td>1.991807</td>\n      <td>1.959</td>\n      <td>7.110285e+07</td>\n      <td>...</td>\n      <td>0.004438</td>\n      <td>0.961760</td>\n      <td>56.80146789550781\\t50045.47265625\\n61.74120330...</td>\n      <td>[433, 442, 510]</td>\n      <td>[1441, 1396, 1354, 1309, 1501, 1456, 1411, 153...</td>\n      <td>1324</td>\n      <td>Polyphenols-pos-mix66</td>\n      <td>URQAEFLEDPPPFX-LBPRGKRZSA-N</td>\n      <td>97.66315</td>\n      <td>70.10330963134766\\t50888.48828125\\n74.12525177...</td>\n    </tr>\n    <tr>\n      <th>644</th>\n      <td>314.138149</td>\n      <td>314.138684</td>\n      <td>[M+H]+</td>\n      <td>Laetanine</td>\n      <td>isomer</td>\n      <td>COc1cc2c(cc1O)-c1c(OC)c(O)cc3c1[C@H](C2)NCC3</td>\n      <td>Polyphenols-pos-mix66</td>\n      <td>1.889438</td>\n      <td>1.959</td>\n      <td>9.765207e+05</td>\n      <td>...</td>\n      <td>0.141130</td>\n      <td>0.984798</td>\n      <td>56.8175163269043\\t2944.499755859375\\n62.653366...</td>\n      <td>[412, 420, 429]</td>\n      <td>[1261, 1276, 1246]</td>\n      <td>1261</td>\n      <td>Polyphenols-pos-mix66</td>\n      <td>URQAEFLEDPPPFX-LBPRGKRZSA-N</td>\n      <td>97.14487</td>\n      <td>191.08609008789062\\t4849.83642578125\\n209.0958...</td>\n    </tr>\n    <tr>\n      <th>646</th>\n      <td>741.222722</td>\n      <td>741.223655</td>\n      <td>[M+H]+</td>\n      <td>Apigenin-7-O-(2G-rhamnosyl)gentiobioside</td>\n      <td>Major</td>\n      <td>CC1OC(OC2C(Oc3cc(O)c4c(=O)cc(-c5ccc(O)cc5)oc4c...</td>\n      <td>Polyphenols-pos-mix66</td>\n      <td>2.332191</td>\n      <td>2.285</td>\n      <td>6.016567e+06</td>\n      <td>...</td>\n      <td>0.000252</td>\n      <td>0.991558</td>\n      <td>57.03361129760742\\t22052.11328125\\n64.34982299...</td>\n      <td>[509, 516, 552]</td>\n      <td>[1540, 1555, 1570]</td>\n      <td>1540</td>\n      <td>Polyphenols-pos-mix66</td>\n      <td>LXOPDILLGIDKLW-UHFFFAOYSA-N</td>\n      <td>98.17302</td>\n      <td>57.03361129760742\\t22052.11328125\\n69.03345489...</td>\n    </tr>\n    <tr>\n      <th>647</th>\n      <td>198.075931</td>\n      <td>198.076084</td>\n      <td>[M+H]+</td>\n      <td>L-DOPA</td>\n      <td>Major</td>\n      <td>N[C@@H](Cc1ccc(O)c(O)c1)C(=O)O</td>\n      <td>Polyphenols-pos-mix66</td>\n      <td>0.294828</td>\n      <td>0.330</td>\n      <td>1.657862e+06</td>\n      <td>...</td>\n      <td>0.000026</td>\n      <td>0.464998</td>\n      <td>55.054439544677734\\t2668.787353515625\\n57.0700...</td>\n      <td>[61, 65, 91]</td>\n      <td>[193, 208]</td>\n      <td>193</td>\n      <td>Polyphenols-pos-mix66</td>\n      <td>WTDRDQBEARUVNC-LURJTMIESA-N</td>\n      <td>99.04025</td>\n      <td>55.054439544677734\\t2668.787353515625\\n57.0700...</td>\n    </tr>\n  </tbody>\n</table>\n<p>405 rows × 27 columns</p>\n</div>"
     },
     "execution_count": 131,
     "metadata": {},
     "output_type": "execute_result"
    }
   ],
   "source": [
    "matched_good_quality"
   ],
   "metadata": {
    "collapsed": false,
    "pycharm": {
     "name": "#%%\n"
    }
   }
  },
  {
   "cell_type": "code",
   "execution_count": 130,
   "outputs": [],
   "source": [
    "matched_good_quality = matched_all.query('ei>90 and rt_offset <=0.1')\n",
    "matched_all.to_csv(os.path.join(library_dir, 'pos_matched_all.csv'), index = False)\n",
    "matched_good_quality.to_csv(os.path.join(library_dir, 'pos_matched_good_quality.csv'), index = False)"
   ],
   "metadata": {
    "collapsed": false,
    "pycharm": {
     "name": "#%%\n"
    }
   }
  },
  {
   "cell_type": "code",
   "execution_count": 139,
   "outputs": [
    {
     "name": "stderr",
     "output_type": "stream",
     "text": [
      "100%|██████████| 405/405 [00:00<00:00, 1650.40it/s]\n",
      "100%|██████████| 648/648 [00:00<00:00, 1637.45it/s]\n"
     ]
    }
   ],
   "source": [
    "export_library_msp(matched_good_quality, os.path.join(library_dir, 'pos_matched_good_quality.txt'), typeofmsms='msms_denoised', ifcollision_energy=False)\n",
    "export_library_msp(matched_all, os.path.join(library_dir, 'pos_matched_all.txt'), typeofmsms='msms_denoised', ifcollision_energy=False)"
   ],
   "metadata": {
    "collapsed": false,
    "pycharm": {
     "name": "#%%\n"
    }
   }
  },
  {
   "cell_type": "code",
   "execution_count": 288,
   "outputs": [],
   "source": [
    "matched_all=pd.read_csv(os.path.join(library_dir, 'pos_matched_all.csv'))\n",
    "matched_good_quality = matched_all.query('ei>90')\n",
    "rt_matched = []\n",
    "for index, row in matched_good_quality.iterrows():\n",
    "    if row['comment']=='Major' and row['rt_offset']>=0.1:\n",
    "        rt_matched.append(False)\n",
    "    else:\n",
    "        rt_matched.append(True)\n",
    "matched_good_quality['rt_matched']=rt_matched\n",
    "matched_good_quality=matched_good_quality[matched_good_quality['rt_matched']==True]"
   ],
   "metadata": {
    "collapsed": false,
    "pycharm": {
     "name": "#%%\n"
    }
   }
  },
  {
   "cell_type": "code",
   "execution_count": 290,
   "outputs": [],
   "source": [
    "matched_good_quality.to_csv(os.path.join(library_dir, 'pos_matched_good_quality.csv'), index = False)"
   ],
   "metadata": {
    "collapsed": false,
    "pycharm": {
     "name": "#%%\n"
    }
   }
  },
  {
   "cell_type": "code",
   "execution_count": 291,
   "outputs": [
    {
     "name": "stderr",
     "output_type": "stream",
     "text": [
      "100%|██████████| 466/466 [00:00<00:00, 1622.38it/s]\n"
     ]
    }
   ],
   "source": [
    "export_library_msp(matched_good_quality, os.path.join(library_dir, 'pos_matched_good_quality.txt'), typeofmsms='msms_denoised', ifcollision_energy=False)"
   ],
   "metadata": {
    "collapsed": false,
    "pycharm": {
     "name": "#%%\n"
    }
   }
  }
 ],
 "metadata": {
  "kernelspec": {
   "name": "alphapept_env",
   "language": "python",
   "display_name": "alphapept_env"
  },
  "language_info": {
   "codemirror_mode": {
    "name": "ipython",
    "version": 2
   },
   "file_extension": ".py",
   "mimetype": "text/x-python",
   "name": "python",
   "nbconvert_exporter": "python",
   "pygments_lexer": "ipython2",
   "version": "2.7.6"
  }
 },
 "nbformat": 4,
 "nbformat_minor": 0
}