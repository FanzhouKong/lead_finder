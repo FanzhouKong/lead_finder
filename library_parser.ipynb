{
 "cells": [
  {
   "cell_type": "code",
   "execution_count": 1,
   "outputs": [],
   "source": [
    "%load_ext autoreload\n",
    "%autoreload 2\n",
    "import pandas as pd\n",
    "import os\n",
    "import toolsets.spectra_operations as so\n",
    "from tqdm import tqdm\n",
    "from ast import literal_eval"
   ],
   "metadata": {
    "collapsed": false,
    "pycharm": {
     "name": "#%%\n"
    }
   }
  },
  {
   "cell_type": "code",
   "execution_count": 5,
   "outputs": [],
   "source": [
    "db = pd.read_csv('/Volumes/metabolomics/Data Processing/MSP Libraries/Jan 2024 - MEGA MoNA', low_memory=False)"
   ],
   "metadata": {
    "collapsed": false,
    "pycharm": {
     "name": "#%%\n"
    }
   }
  },
  {
   "cell_type": "code",
   "execution_count": 6,
   "outputs": [],
   "source": [
    "db_ms2 = db[db['Spectrum_type']=='MS2']"
   ],
   "metadata": {
    "collapsed": false,
    "pycharm": {
     "name": "#%%\n"
    }
   }
  },
  {
   "cell_type": "code",
   "execution_count": 47,
   "outputs": [],
   "source": [
    "db_ms2.to_csv('/Users/fanzhoukong/Documents/GitHub/Libgen_data/curated_library/csv/MoNA_NIST20_MSMS_POS_with_InSilico_QEonly_filtered.csv', index = False)"
   ],
   "metadata": {
    "collapsed": false,
    "pycharm": {
     "name": "#%%\n"
    }
   }
  },
  {
   "cell_type": "code",
   "execution_count": 7,
   "outputs": [
    {
     "name": "stderr",
     "output_type": "stream",
     "text": [
      "100%|██████████| 762763/762763 [02:21<00:00, 5406.86it/s] \n"
     ]
    }
   ],
   "source": [
    "msms = []\n",
    "for index, row in tqdm(db_ms2.iterrows(), total = len(db_ms2)):\n",
    "    msms.append(so.convert_nist_to_string(literal_eval(row['spectrum'])))"
   ],
   "metadata": {
    "collapsed": false,
    "pycharm": {
     "name": "#%%\n"
    }
   }
  },
  {
   "cell_type": "code",
   "execution_count": 10,
   "outputs": [
    {
     "data": {
      "text/plain": "        Unnamed: 0                                           spectrum  \\\n0                0  [[53.11913, 2.644808], [58.41549, 2.736705], [...   \n1                1  [[52.34568, 0.17656], [54.42506, 0.207012], [5...   \n2                2  [[55.3875, 0.142475], [56.84529, 0.166966], [9...   \n3                3  [[54.33007, 0.892065], [56.80595, 0.939282], [...   \n4                4  [[58.07383, 0.324377], [70.01776, 0.300218], [...   \n...            ...                                                ...   \n766245      766245  [[150.0546, 34.07], [151.0386, 49.75], [152.07...   \n766246      766246  [[150.0545, 60.94], [151.0385, 82.12], [154.04...   \n766247      766247  [[150.0547, 148.45], [151.0386, 134.47], [168....   \n766248      766248  [[150.0547, 316.88], [151.0387, 334.07], [264....   \n766249      766249  [[186.0757, 18.08], [197.0439, 5.39], [204.086...   \n\n                                        Name  \\\n0                    4-Acetamidobutyric acid   \n1       Adenosine 3',5'-cyclic monophosphate   \n2                 Adenosine 5'-monophosphate   \n3                                Latanoprost   \n4                       4-Acetylbutyric acid   \n...                                      ...   \n766245  NeuAc.alpha.2-6-GM1b-Cer(d18:1/18:0)   \n766246  NeuAc.alpha.2-6-GM1b-Cer(d18:1/18:0)   \n766247  NeuAc.alpha.2-6-GM1b-Cer(d18:1/18:0)   \n766248  NeuAc.alpha.2-6-GM1b-Cer(d18:1/18:0)   \n766249  NeuAc.alpha.2-6-GM1b-Cer(d18:1/18:0)   \n\n                                                    Synon               DB#  \\\n0                                           $:00in-source  FiehnHILIC000093   \n1                                           $:00in-source  FiehnHILIC000157   \n2                                           $:00in-source  FiehnHILIC000158   \n3                                           $:00in-source  FiehnHILIC000473   \n4                                           $:00in-source  FiehnHILIC000094   \n...                                                   ...               ...   \n766245  Ganglioside NeuAc.alpha.2-6GalNAc.beta.1-4Gal....               NaN   \n766246  Ganglioside NeuAc.alpha.2-6GalNAc.beta.1-4Gal....               NaN   \n766247  Ganglioside NeuAc.alpha.2-6GalNAc.beta.1-4Gal....               NaN   \n766248  Ganglioside NeuAc.alpha.2-6GalNAc.beta.1-4Gal....               NaN   \n766249  Ganglioside NeuAc.alpha.2-6GalNAc.beta.1-4Gal....               NaN   \n\n                           InChIKey Precursor_type Spectrum_type PrecursorMZ  \\\n0       UZTFMUBKZQVKLK-UHFFFAOYSA-N         [M+H]+           MS2     146.081   \n1       IVOMOUWHDPKRLL-KQYNXXCUSA-N         [M+H]+           MS2    330.0594   \n2       UDMBCSSLTHHNCD-KQYNXXCUSA-N         [M+H]+           MS2      348.07   \n3       GGXICVAJURFBLW-CEYXHVGTSA-N         [M+H]+           MS2    433.2937   \n4       MGTZCLMLSSAXLD-UHFFFAOYSA-N         [M+H]+           MS2    131.0729   \n...                             ...            ...           ...         ...   \n766245  RJZHCDKUISCNEX-BOIFDNKASA-N       [M+2H]2+           MS2    692.9192   \n766246  RJZHCDKUISCNEX-BOIFDNKASA-N       [M+2H]2+           MS2    692.9192   \n766247  RJZHCDKUISCNEX-BOIFDNKASA-N       [M+2H]2+           MS2    692.9192   \n766248  RJZHCDKUISCNEX-BOIFDNKASA-N       [M+2H]2+           MS2    692.9192   \n766249  RJZHCDKUISCNEX-BOIFDNKASA-N       [M+2H]2+           MS2    692.9192   \n\n                 Instrument_type  ...         ID  \\\n0                     LC-ESI-QFT  ...        NaN   \n1                     LC-ESI-QFT  ...        NaN   \n2                     LC-ESI-QFT  ...        NaN   \n3                     LC-ESI-QFT  ...        NaN   \n4                     LC-ESI-QFT  ...        NaN   \n...                          ...  ...        ...   \n766245                       HCD  ...  1026723.0   \n766246                       HCD  ...  1026724.0   \n766247                       HCD  ...  1026725.0   \n766248                       HCD  ...  1026726.0   \n766249  IT-FT/ion trap with FTMS  ...  1026727.0   \n\n                                   Comment Num peaks Related_CAS#  \\\n0                                      NaN       NaN          NaN   \n1                                      NaN       NaN          NaN   \n2                                      NaN       NaN          NaN   \n3                                      NaN       NaN          NaN   \n4                                      NaN       NaN          NaN   \n...                                    ...       ...          ...   \n766245  NIST Mass Spectrometry Data Center      29.0          NaN   \n766246  NIST Mass Spectrometry Data Center      18.0          NaN   \n766247  NIST Mass Spectrometry Data Center       8.0          NaN   \n766248  NIST Mass Spectrometry Data Center       4.0          NaN   \n766249  NIST Mass Spectrometry Data Center      91.0          NaN   \n\n        msN_pathway  Link Peptide_sequence  Peptide_mods Pressure  \\\n0               NaN   NaN              NaN           NaN      NaN   \n1               NaN   NaN              NaN           NaN      NaN   \n2               NaN   NaN              NaN           NaN      NaN   \n3               NaN   NaN              NaN           NaN      NaN   \n4               NaN   NaN              NaN           NaN      NaN   \n...             ...   ...              ...           ...      ...   \n766245          NaN   NaN              NaN           NaN      NaN   \n766246          NaN   NaN              NaN           NaN      NaN   \n766247          NaN   NaN              NaN           NaN      NaN   \n766248          NaN   NaN              NaN           NaN      NaN   \n766249          NaN   NaN              NaN           NaN      NaN   \n\n       PrecursorMZ_c  \n0           146.0810  \n1           330.0594  \n2           348.0700  \n3           433.2937  \n4           131.0729  \n...              ...  \n766245      692.9192  \n766246      692.9192  \n766247      692.9192  \n766248      692.9192  \n766249      692.9192  \n\n[762763 rows x 35 columns]",
      "text/html": "<div>\n<style scoped>\n    .dataframe tbody tr th:only-of-type {\n        vertical-align: middle;\n    }\n\n    .dataframe tbody tr th {\n        vertical-align: top;\n    }\n\n    .dataframe thead th {\n        text-align: right;\n    }\n</style>\n<table border=\"1\" class=\"dataframe\">\n  <thead>\n    <tr style=\"text-align: right;\">\n      <th></th>\n      <th>Unnamed: 0</th>\n      <th>spectrum</th>\n      <th>Name</th>\n      <th>Synon</th>\n      <th>DB#</th>\n      <th>InChIKey</th>\n      <th>Precursor_type</th>\n      <th>Spectrum_type</th>\n      <th>PrecursorMZ</th>\n      <th>Instrument_type</th>\n      <th>...</th>\n      <th>ID</th>\n      <th>Comment</th>\n      <th>Num peaks</th>\n      <th>Related_CAS#</th>\n      <th>msN_pathway</th>\n      <th>Link</th>\n      <th>Peptide_sequence</th>\n      <th>Peptide_mods</th>\n      <th>Pressure</th>\n      <th>PrecursorMZ_c</th>\n    </tr>\n  </thead>\n  <tbody>\n    <tr>\n      <th>0</th>\n      <td>0</td>\n      <td>[[53.11913, 2.644808], [58.41549, 2.736705], [...</td>\n      <td>4-Acetamidobutyric acid</td>\n      <td>$:00in-source</td>\n      <td>FiehnHILIC000093</td>\n      <td>UZTFMUBKZQVKLK-UHFFFAOYSA-N</td>\n      <td>[M+H]+</td>\n      <td>MS2</td>\n      <td>146.081</td>\n      <td>LC-ESI-QFT</td>\n      <td>...</td>\n      <td>NaN</td>\n      <td>NaN</td>\n      <td>NaN</td>\n      <td>NaN</td>\n      <td>NaN</td>\n      <td>NaN</td>\n      <td>NaN</td>\n      <td>NaN</td>\n      <td>NaN</td>\n      <td>146.0810</td>\n    </tr>\n    <tr>\n      <th>1</th>\n      <td>1</td>\n      <td>[[52.34568, 0.17656], [54.42506, 0.207012], [5...</td>\n      <td>Adenosine 3',5'-cyclic monophosphate</td>\n      <td>$:00in-source</td>\n      <td>FiehnHILIC000157</td>\n      <td>IVOMOUWHDPKRLL-KQYNXXCUSA-N</td>\n      <td>[M+H]+</td>\n      <td>MS2</td>\n      <td>330.0594</td>\n      <td>LC-ESI-QFT</td>\n      <td>...</td>\n      <td>NaN</td>\n      <td>NaN</td>\n      <td>NaN</td>\n      <td>NaN</td>\n      <td>NaN</td>\n      <td>NaN</td>\n      <td>NaN</td>\n      <td>NaN</td>\n      <td>NaN</td>\n      <td>330.0594</td>\n    </tr>\n    <tr>\n      <th>2</th>\n      <td>2</td>\n      <td>[[55.3875, 0.142475], [56.84529, 0.166966], [9...</td>\n      <td>Adenosine 5'-monophosphate</td>\n      <td>$:00in-source</td>\n      <td>FiehnHILIC000158</td>\n      <td>UDMBCSSLTHHNCD-KQYNXXCUSA-N</td>\n      <td>[M+H]+</td>\n      <td>MS2</td>\n      <td>348.07</td>\n      <td>LC-ESI-QFT</td>\n      <td>...</td>\n      <td>NaN</td>\n      <td>NaN</td>\n      <td>NaN</td>\n      <td>NaN</td>\n      <td>NaN</td>\n      <td>NaN</td>\n      <td>NaN</td>\n      <td>NaN</td>\n      <td>NaN</td>\n      <td>348.0700</td>\n    </tr>\n    <tr>\n      <th>3</th>\n      <td>3</td>\n      <td>[[54.33007, 0.892065], [56.80595, 0.939282], [...</td>\n      <td>Latanoprost</td>\n      <td>$:00in-source</td>\n      <td>FiehnHILIC000473</td>\n      <td>GGXICVAJURFBLW-CEYXHVGTSA-N</td>\n      <td>[M+H]+</td>\n      <td>MS2</td>\n      <td>433.2937</td>\n      <td>LC-ESI-QFT</td>\n      <td>...</td>\n      <td>NaN</td>\n      <td>NaN</td>\n      <td>NaN</td>\n      <td>NaN</td>\n      <td>NaN</td>\n      <td>NaN</td>\n      <td>NaN</td>\n      <td>NaN</td>\n      <td>NaN</td>\n      <td>433.2937</td>\n    </tr>\n    <tr>\n      <th>4</th>\n      <td>4</td>\n      <td>[[58.07383, 0.324377], [70.01776, 0.300218], [...</td>\n      <td>4-Acetylbutyric acid</td>\n      <td>$:00in-source</td>\n      <td>FiehnHILIC000094</td>\n      <td>MGTZCLMLSSAXLD-UHFFFAOYSA-N</td>\n      <td>[M+H]+</td>\n      <td>MS2</td>\n      <td>131.0729</td>\n      <td>LC-ESI-QFT</td>\n      <td>...</td>\n      <td>NaN</td>\n      <td>NaN</td>\n      <td>NaN</td>\n      <td>NaN</td>\n      <td>NaN</td>\n      <td>NaN</td>\n      <td>NaN</td>\n      <td>NaN</td>\n      <td>NaN</td>\n      <td>131.0729</td>\n    </tr>\n    <tr>\n      <th>...</th>\n      <td>...</td>\n      <td>...</td>\n      <td>...</td>\n      <td>...</td>\n      <td>...</td>\n      <td>...</td>\n      <td>...</td>\n      <td>...</td>\n      <td>...</td>\n      <td>...</td>\n      <td>...</td>\n      <td>...</td>\n      <td>...</td>\n      <td>...</td>\n      <td>...</td>\n      <td>...</td>\n      <td>...</td>\n      <td>...</td>\n      <td>...</td>\n      <td>...</td>\n      <td>...</td>\n    </tr>\n    <tr>\n      <th>766245</th>\n      <td>766245</td>\n      <td>[[150.0546, 34.07], [151.0386, 49.75], [152.07...</td>\n      <td>NeuAc.alpha.2-6-GM1b-Cer(d18:1/18:0)</td>\n      <td>Ganglioside NeuAc.alpha.2-6GalNAc.beta.1-4Gal....</td>\n      <td>NaN</td>\n      <td>RJZHCDKUISCNEX-BOIFDNKASA-N</td>\n      <td>[M+2H]2+</td>\n      <td>MS2</td>\n      <td>692.9192</td>\n      <td>HCD</td>\n      <td>...</td>\n      <td>1026723.0</td>\n      <td>NIST Mass Spectrometry Data Center</td>\n      <td>29.0</td>\n      <td>NaN</td>\n      <td>NaN</td>\n      <td>NaN</td>\n      <td>NaN</td>\n      <td>NaN</td>\n      <td>NaN</td>\n      <td>692.9192</td>\n    </tr>\n    <tr>\n      <th>766246</th>\n      <td>766246</td>\n      <td>[[150.0545, 60.94], [151.0385, 82.12], [154.04...</td>\n      <td>NeuAc.alpha.2-6-GM1b-Cer(d18:1/18:0)</td>\n      <td>Ganglioside NeuAc.alpha.2-6GalNAc.beta.1-4Gal....</td>\n      <td>NaN</td>\n      <td>RJZHCDKUISCNEX-BOIFDNKASA-N</td>\n      <td>[M+2H]2+</td>\n      <td>MS2</td>\n      <td>692.9192</td>\n      <td>HCD</td>\n      <td>...</td>\n      <td>1026724.0</td>\n      <td>NIST Mass Spectrometry Data Center</td>\n      <td>18.0</td>\n      <td>NaN</td>\n      <td>NaN</td>\n      <td>NaN</td>\n      <td>NaN</td>\n      <td>NaN</td>\n      <td>NaN</td>\n      <td>692.9192</td>\n    </tr>\n    <tr>\n      <th>766247</th>\n      <td>766247</td>\n      <td>[[150.0547, 148.45], [151.0386, 134.47], [168....</td>\n      <td>NeuAc.alpha.2-6-GM1b-Cer(d18:1/18:0)</td>\n      <td>Ganglioside NeuAc.alpha.2-6GalNAc.beta.1-4Gal....</td>\n      <td>NaN</td>\n      <td>RJZHCDKUISCNEX-BOIFDNKASA-N</td>\n      <td>[M+2H]2+</td>\n      <td>MS2</td>\n      <td>692.9192</td>\n      <td>HCD</td>\n      <td>...</td>\n      <td>1026725.0</td>\n      <td>NIST Mass Spectrometry Data Center</td>\n      <td>8.0</td>\n      <td>NaN</td>\n      <td>NaN</td>\n      <td>NaN</td>\n      <td>NaN</td>\n      <td>NaN</td>\n      <td>NaN</td>\n      <td>692.9192</td>\n    </tr>\n    <tr>\n      <th>766248</th>\n      <td>766248</td>\n      <td>[[150.0547, 316.88], [151.0387, 334.07], [264....</td>\n      <td>NeuAc.alpha.2-6-GM1b-Cer(d18:1/18:0)</td>\n      <td>Ganglioside NeuAc.alpha.2-6GalNAc.beta.1-4Gal....</td>\n      <td>NaN</td>\n      <td>RJZHCDKUISCNEX-BOIFDNKASA-N</td>\n      <td>[M+2H]2+</td>\n      <td>MS2</td>\n      <td>692.9192</td>\n      <td>HCD</td>\n      <td>...</td>\n      <td>1026726.0</td>\n      <td>NIST Mass Spectrometry Data Center</td>\n      <td>4.0</td>\n      <td>NaN</td>\n      <td>NaN</td>\n      <td>NaN</td>\n      <td>NaN</td>\n      <td>NaN</td>\n      <td>NaN</td>\n      <td>692.9192</td>\n    </tr>\n    <tr>\n      <th>766249</th>\n      <td>766249</td>\n      <td>[[186.0757, 18.08], [197.0439, 5.39], [204.086...</td>\n      <td>NeuAc.alpha.2-6-GM1b-Cer(d18:1/18:0)</td>\n      <td>Ganglioside NeuAc.alpha.2-6GalNAc.beta.1-4Gal....</td>\n      <td>NaN</td>\n      <td>RJZHCDKUISCNEX-BOIFDNKASA-N</td>\n      <td>[M+2H]2+</td>\n      <td>MS2</td>\n      <td>692.9192</td>\n      <td>IT-FT/ion trap with FTMS</td>\n      <td>...</td>\n      <td>1026727.0</td>\n      <td>NIST Mass Spectrometry Data Center</td>\n      <td>91.0</td>\n      <td>NaN</td>\n      <td>NaN</td>\n      <td>NaN</td>\n      <td>NaN</td>\n      <td>NaN</td>\n      <td>NaN</td>\n      <td>692.9192</td>\n    </tr>\n  </tbody>\n</table>\n<p>762763 rows × 35 columns</p>\n</div>"
     },
     "execution_count": 10,
     "metadata": {},
     "output_type": "execute_result"
    }
   ],
   "source": [
    "db_ms2"
   ],
   "metadata": {
    "collapsed": false,
    "pycharm": {
     "name": "#%%\n"
    }
   }
  },
  {
   "cell_type": "code",
   "execution_count": 8,
   "outputs": [],
   "source": [
    "db_ms2['PrecursorMZ'] = pd.to_numeric(db_ms2['PrecursorMZ'], errors='coerce')\n",
    "\n",
    "db_pmz = pd.DataFrame(zip(db_ms2['Name'],db_ms2['InChIKey'],db_ms2['Precursor_type'],db_ms2['Formula'],db_ms2['PrecursorMZ_c'], msms), columns=['name','inchikey','adduct','formula','precursor_mz', 'msms'])"
   ],
   "metadata": {
    "collapsed": false,
    "pycharm": {
     "name": "#%%\n"
    }
   }
  },
  {
   "cell_type": "code",
   "execution_count": 12,
   "outputs": [],
   "source": [
    "db_pmz.to_csv('/Users/fanzhoukong/Documents/GitHub/Libgen_data/curated_library/csv/MEGA_MONA_QE_shortened.csv', index = False)"
   ],
   "metadata": {
    "collapsed": false,
    "pycharm": {
     "name": "#%%\n"
    }
   }
  }
 ],
 "metadata": {
  "kernelspec": {
   "name": "alphapept_env",
   "language": "python",
   "display_name": "alphapept_env"
  },
  "language_info": {
   "codemirror_mode": {
    "name": "ipython",
    "version": 2
   },
   "file_extension": ".py",
   "mimetype": "text/x-python",
   "name": "python",
   "nbconvert_exporter": "python",
   "pygments_lexer": "ipython2",
   "version": "2.7.6"
  }
 },
 "nbformat": 4,
 "nbformat_minor": 0
}